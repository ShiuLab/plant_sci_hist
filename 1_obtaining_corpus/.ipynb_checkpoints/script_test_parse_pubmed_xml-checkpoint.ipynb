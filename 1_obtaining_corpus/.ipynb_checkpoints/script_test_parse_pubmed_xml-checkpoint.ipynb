{
 "cells": [
  {
   "cell_type": "markdown",
   "id": "9d9fbd6f-4508-4059-b940-abea8b9843c9",
   "metadata": {},
   "source": [
    "Purpose:\n",
    "* Getting basic info about pubmed XML structure.\n",
    "* Testing scripts for parsing XML files from pubmed."
   ]
  },
  {
   "cell_type": "code",
   "execution_count": 1,
   "id": "2f5e8163-a4a9-406b-855b-ea403ee488e6",
   "metadata": {},
   "outputs": [],
   "source": [
    "# Set working directory\n",
    "from pathlib import Path \n",
    "wd = Path('/mnt/d/project/plant_sci_history/1_obtaining_corpus/_test')"
   ]
  },
  {
   "cell_type": "markdown",
   "id": "1a21390f-c7d0-40e6-9d98-b8004334105d",
   "metadata": {},
   "source": [
    "## Traget tags\n",
    "\n",
    "For each article:\n",
    "* `ISOAbbreviation` for journal name\n",
    "* `ArticleTitle`\n",
    "* `AbstractText`\n",
    "* `PubMedPubDate PubStatus=\"pubmed\"`: to flag the start of date info\n",
    "  * `Year`\n",
    "  * `Month`\n",
    "  * `Day`\n",
    "* `ArticleId IdType=\"pubmed\"`: this holds PMID"
   ]
  },
  {
   "cell_type": "code",
   "execution_count": 10,
   "id": "7ed889e1-8664-4358-a5d7-762254d06124",
   "metadata": {},
   "outputs": [],
   "source": [
    "AR = \"PubmedArticle\"    # new article\n",
    "TI = \"ArticleTitle\"     # title begin tag\n",
    "AB = \"AbstractText\"\n",
    "JO = \"ISOAbbreviation\"\n",
    "DA = \"PubMedPubDate PubStatus=\\\"pubmed\\\"\"\n",
    "DAe= \"/PubMedPubDate\"   # Note that other PubStatus also has the\n",
    "                        # same end tag.\n",
    "YR = \"Year\"\n",
    "MO = \"Month\"\n",
    "DY = \"Day\"\n",
    "PM = \"ArticleId IdType=\\\"pubmed\\\"\" "
   ]
  },
  {
   "cell_type": "code",
   "execution_count": 12,
   "id": "2d08bd1a-d1b6-4be7-9855-52fca182ea68",
   "metadata": {},
   "outputs": [],
   "source": [
    "# Rid of the tags\n",
    "def get_value(L):\n",
    "    L = L.split(\">\")[1]\n",
    "    L = L.split(\"</\")[0]\n",
    "    return L"
   ]
  },
  {
   "cell_type": "code",
   "execution_count": 29,
   "id": "dcd0a313-85f9-47f4-8eca-b57a2b3dcf79",
   "metadata": {},
   "outputs": [
    {
     "name": "stdout",
     "output_type": "stream",
     "text": [
      "\n",
      " <PubmedArticle>\n",
      "PMID: 20670107\n",
      "['Intra-individual variability in clopidogrel responsiveness in coronary artery disease patients under long term therapy.', 'Clopidogrel responsiveness (CR) following a loading dose (LD) predicts thrombotic events after percutaneous coronary interventions (PCI). Some of the mechanisms involved in large inter-individual variability in CR may be varied. We therefore postulated that there may be an intra-individual variability in CR. Two hundred and one patients receiving long-term therapy with aspirin and clopidogrel after drug-eluting stents PCI were prospectively included in this monocentre study along with any patient re-admitted within 12 months post-PCI. Platelet reactivity (PR) inhibition was assessed by the vasodilator phosphoprotein (VASP) index following a 600 mg loading dose of clopidogrel on each admission to determine CR (VASP 1 during the first admission and VASP 2 during re-admission). DeltaVASP = VASP 2 &amp;#x2013;VASP 1 was used to study intra-individual variability in CR. We observed that the response to a 600 mg LD of clopidogrel was poorly correlated within an individual (kappa = 0.33; p &amp;lt; 0.001 (n = 201)). Although most patients had increased platelet inhibition at the time of readmission, 35.3% of patients exhibited a decreased platelet inhibition despite chronic clopidogrel therapy and a 600 mg reload. Quartiles analysis of DeltaVASP demonstrated that insulin-treated diabetes was associated with decreased CR over time (p = 0.03). In addition to the large inter-individual variability in clopidogrel responsiveness, there is large intra-individual variability. Decreased clopidogrel responsiveness despite long-term clopidogrel therapy could be a trigger for recurrent thrombotic events.', 'Platelets', '2010', '7', '31']\n",
      "\n",
      " <PubmedArticle>\n",
      "PMID: 20670108\n",
      "['Bioconversion of silver salt into silver nanoparticles using different microorganisms.', 'Abstract: Recently, silver nanoparticles have generated enough interest due to their immense usage. Until now chemical synthesis has been a fast method to produce nanoparticles, but the release of environmental pollutants has raised caution. So a more subtle biochemical approach is in research. Three microorganisms, Aspergillus flavus, Phoma exigua and Bacillus megaterium, were selected to reduce silver nitrate to silver nanoparticles in aqueous form. All three microorganisms showed varying reducing capacity, of which Phoma exigua showed the highest, when their biomass was incubated in silver nitrate for 48 hours. The nanoparticles showed all the optical and physical properties, which were analyzed by measuring the surface plasmon resonance and TEM. It was also observed that the fungal species have varied growth in silver nitrate and can be used to produce silver nanoparticles, directly incubating the inocula of fungus in the media containing silver nitrate. On comparing all the characteristics and results produced, Aspergillus flavus was found to be the most effective microorganism, which can convert the silver nitrate to silver nanoparticles in aqueous condition. The bacterial species showed no growth with incubation with silver nitrate.', 'Artif Cells Blood Substit Immobil Biotechnol', '2010', '7', '31']\n",
      "\n",
      " <PubmedArticle>\n",
      "PMID: 20670109\n",
      "['Protection against radiation-induced oxidative damage by an ethanolic extract of Nigella sativa L.', 'The results obtained from the different experimental systems suggest the radioprotective ability of EE-NS involving prevention of radiation-induced oxidative damage.', 'Int J Radiat Biol', '2010', '7', '31']\n",
      "\n",
      " <PubmedArticle>\n",
      "PMID: 20670110\n",
      "['Natural radionuclides in fish species from surface water of Bagjata and Banduhurang uranium mining areas, East Singhbhum, Jharkhand, India.', 'The study confirms that current levels of radioactivity do not pose a significant radiological risk to freshwater fish consumers.', 'Int J Radiat Biol', '2010', '7', '31']\n",
      "\n",
      " <PubmedArticle>\n",
      "PMID: 20670111\n",
      "['Inter-chromosomal variation in aberration frequencies in human lymphocytes exposed to charged particles of LET between 0.5 and 55 keV/μm.', 'In lymphocytes of donors studied in this work chromosome 2 appears to be consistently less sensitive to protons and heavy ions than chromosomes 8 and 14. Complex aberrations appear to be a potential marker of radiation quality.', 'Int J Radiat Biol', '2010', '7', '31']\n",
      "# articles: 6\n"
     ]
    }
   ],
   "source": [
    "# {pmid:{\"TI\":title,\n",
    "#        \"DA\":[\"yyyy\",\"mm\",\"dd\"],\n",
    "#        \"AB\":abstract\",\n",
    "#        \"JO\":journal_name}\n",
    "pubmed_d = {}\n",
    "\n",
    "test_xml = \"test.xml\"\n",
    "lines    = open(wd / test_xml, \"r\").readlines()\n",
    "c        = 0\n",
    "fields   = [\"\",\"\",\"\",\"\",\"\",\"\"] # [TI, AB, JO, YR, MO, DY] \n",
    "\n",
    "# whether DA_b flag is found or not before encoutering an DA end tag.\n",
    "flag_DA  = 0\n",
    "PMID     = \"\"\n",
    "for L in lines:\n",
    "    L = L.strip()\n",
    "    if L.startswith(f\"<{AR}>\") != 0:\n",
    "        # This is set to make sure PMID tag is found for this article\n",
    "        # and values are stored in the dictionary.\n",
    "        fields   = [\"\",\"\",\"\",\"\",\"\",\"\"]\n",
    "        PMID = \"\"\n",
    "        print(\"\\n\",L)\n",
    "        c+= 1\n",
    "    elif L.startswith(f\"<{TI}\") != 0:\n",
    "        fields[0] = get_value(L)\n",
    "    elif L.startswith(f\"<{AB}\") != 0:\n",
    "        fields[1] = get_value(L) \n",
    "    elif L.startswith(f\"<{JO}\") != 0:\n",
    "        fields[2] = get_value(L)\n",
    "    elif L.startswith(f\"<{DA}\") != 0:\n",
    "        flag_DA = 1\n",
    "    elif L.startswith(f\"<{YR}\") != 0 and flag_DA == 1:\n",
    "        fields[3] = get_value(L)\n",
    "    elif L.startswith(f\"<{MO}\") != 0 and flag_DA == 1:\n",
    "        fields[4] = get_value(L)\n",
    "    elif L.startswith(f\"<{DY}\") != 0 and flag_DA == 1:\n",
    "        fields[5] = get_value(L)\n",
    "    # Encouter Date end tag when a corresponding begin tag exists\n",
    "    elif L.startswith(f\"<{DAe}\") != 0 and flag_DA == 1:\n",
    "        flag_DA = 0\n",
    "    elif L.startswith(f\"<{PM}\") != 0:\n",
    "        #print(pubmed_d.keys())\n",
    "        PMID = get_value(L)\n",
    "        if PMID not in pubmed_d:\n",
    "            pubmed_d[PMID] = fields\n",
    "        else:\n",
    "            print(\"ERR: redundant PMID,\", PMID)\n",
    "        print(\"PMID:\",PMID)\n",
    "        print(fields)\n",
    "        \n",
    "            \n",
    "print(\"# articles:\",c)"
   ]
  },
  {
   "cell_type": "code",
   "execution_count": null,
   "id": "a7f426de-9c94-4799-8c84-ca746fc34b3d",
   "metadata": {},
   "outputs": [],
   "source": []
  }
 ],
 "metadata": {
  "kernelspec": {
   "display_name": "Python 3 (ipykernel)",
   "language": "python",
   "name": "python3"
  },
  "language_info": {
   "codemirror_mode": {
    "name": "ipython",
    "version": 3
   },
   "file_extension": ".py",
   "mimetype": "text/x-python",
   "name": "python",
   "nbconvert_exporter": "python",
   "pygments_lexer": "ipython3",
   "version": "3.8.10"
  }
 },
 "nbformat": 4,
 "nbformat_minor": 5
}
