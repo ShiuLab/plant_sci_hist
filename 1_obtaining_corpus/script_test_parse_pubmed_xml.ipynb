{
 "cells": [
  {
   "cell_type": "markdown",
   "id": "9d9fbd6f-4508-4059-b940-abea8b9843c9",
   "metadata": {},
   "source": [
    "Purpose:\n",
    "* Getting basic info about pubmed XML structure.\n",
    "* Testing scripts for parsing XML files from pubmed."
   ]
  },
  {
   "cell_type": "code",
   "execution_count": 1,
   "id": "2f5e8163-a4a9-406b-855b-ea403ee488e6",
   "metadata": {},
   "outputs": [],
   "source": [
    "# Set working directory\n",
    "from pathlib import Path \n",
    "wd = Path('/mnt/d/project/plant_sci_history/1_obtaining_corpus/_test')"
   ]
  },
  {
   "cell_type": "markdown",
   "id": "1a21390f-c7d0-40e6-9d98-b8004334105d",
   "metadata": {},
   "source": [
    "## Traget tags\n",
    "\n",
    "For each article:\n",
    "* `ISOAbbreviation` for journal name\n",
    "* `ArticleTitle`\n",
    "* `AbstractText`\n",
    "* `PubMedPubDate PubStatus=\"pubmed\"`: to flag the start of date info\n",
    "  * `Year`\n",
    "  * `Month`\n",
    "  * `Day`\n",
    "* `ArticleId IdType=\"pubmed\"`: this holds PMID"
   ]
  },
  {
   "cell_type": "code",
   "execution_count": 10,
   "id": "7ed889e1-8664-4358-a5d7-762254d06124",
   "metadata": {},
   "outputs": [],
   "source": [
    "AR = \"PubmedArticle\"    # new article\n",
    "TI = \"ArticleTitle\"     # title begin tag\n",
    "AB = \"AbstractText\"\n",
    "JO = \"ISOAbbreviation\"\n",
    "DA = \"PubMedPubDate PubStatus=\\\"pubmed\\\"\"\n",
    "DAe= \"/PubMedPubDate\"   # Note that other PubStatus also has the\n",
    "                        # same end tag.\n",
    "YR = \"Year\"\n",
    "MO = \"Month\"\n",
    "DY = \"Day\"\n",
    "PM = \"ArticleId IdType=\\\"pubmed\\\"\" "
   ]
  },
  {
   "cell_type": "code",
   "execution_count": 12,
   "id": "2d08bd1a-d1b6-4be7-9855-52fca182ea68",
   "metadata": {},
   "outputs": [],
   "source": [
    "# Rid of the tags\n",
    "def get_value(L):\n",
    "    L = L.split(\">\")[1]\n",
    "    L = L.split(\"</\")[0]\n",
    "    return L"
   ]
  },
  {
   "cell_type": "code",
   "execution_count": 32,
   "id": "dcd0a313-85f9-47f4-8eca-b57a2b3dcf79",
   "metadata": {},
   "outputs": [
    {
     "name": "stdout",
     "output_type": "stream",
     "text": [
      "# articles: 5\n"
     ]
    }
   ],
   "source": [
    "# {pmid:{\"TI\":title,\n",
    "#        \"DA\":[\"yyyy\",\"mm\",\"dd\"],\n",
    "#        \"AB\":abstract\",\n",
    "#        \"JO\":journal_name}\n",
    "pubmed_d = {}\n",
    "\n",
    "# read file line by line\n",
    "test_xml  = \"test.xml\"\n",
    "input_obj = open(wd / test_xml, \"r\")\n",
    "L         = input_obj.readline()\n",
    "c         = 0\n",
    "fields    = [\"\",\"\",\"\",\"\",\"\",\"\"] # [TI, AB, JO, YR, MO, DY] \n",
    "\n",
    "# whether DA_b flag is found or not before encoutering an DA end tag.\n",
    "flag_DA   = 0\n",
    "PMID      = \"\"\n",
    "while L != \"\":\n",
    "    L = L.strip()\n",
    "    if L.startswith(f\"<{AR}>\") != 0:\n",
    "        # This is set to make sure PMID tag is found for this article\n",
    "        # and values are stored in the dictionary.\n",
    "        fields   = [\"\",\"\",\"\",\"\",\"\",\"\"]\n",
    "        PMID = \"\"\n",
    "        #print(\"\\n\",L)\n",
    "        c+= 1\n",
    "    elif L.startswith(f\"<{TI}\") != 0:\n",
    "        fields[0] = get_value(L)\n",
    "    elif L.startswith(f\"<{AB}\") != 0:\n",
    "        fields[1] = get_value(L) \n",
    "    elif L.startswith(f\"<{JO}\") != 0:\n",
    "        fields[2] = get_value(L)\n",
    "    elif L.startswith(f\"<{DA}\") != 0:\n",
    "        flag_DA = 1\n",
    "    elif L.startswith(f\"<{YR}\") != 0 and flag_DA == 1:\n",
    "        fields[3] = get_value(L)\n",
    "    elif L.startswith(f\"<{MO}\") != 0 and flag_DA == 1:\n",
    "        fields[4] = get_value(L)\n",
    "    elif L.startswith(f\"<{DY}\") != 0 and flag_DA == 1:\n",
    "        fields[5] = get_value(L)\n",
    "    # Encouter Date end tag when a corresponding begin tag exists\n",
    "    elif L.startswith(f\"<{DAe}\") != 0 and flag_DA == 1:\n",
    "        flag_DA = 0\n",
    "    elif L.startswith(f\"<{PM}\") != 0:\n",
    "        PMID = get_value(L)\n",
    "        if PMID not in pubmed_d:\n",
    "            pubmed_d[PMID] = fields\n",
    "        else:\n",
    "            print(\"ERR: redundant PMID,\", PMID)\n",
    "        #print(\"PMID:\",PMID)\n",
    "        #print(fields)\n",
    "    L = input_obj.readline()\n",
    "           \n",
    "print(\"# articles:\",c)"
   ]
  },
  {
   "cell_type": "markdown",
   "id": "4fe7d531-9144-4a86-ac38-e6cb487d18db",
   "metadata": {},
   "source": [
    "## Test filtering to get plant science articles\n",
    "\n",
    "Assumptions about a plant science article:\n",
    "* Journal name contains any of the following:\n",
    "  * plant, plants, botany, botanical\n",
    "* Or title/abstract mentioned any plant taxonomic terms all the way to the genus level. "
   ]
  },
  {
   "cell_type": "markdown",
   "id": "623f2b4f-10bb-4ff2-b23c-7d5b5d21b922",
   "metadata": {},
   "source": [
    "nodes.dmp file consists of taxonomy nodes. The description for each node includes the following columns:\n",
    "* tax_id -- node id in GenBank taxonomy database\n",
    "* parent tax_id -- parent node id in GenBank taxonomy database\n",
    "* rank -- rank of this node (superkingdom, kingdom, ...)\n",
    "* embl code -- locus-name prefix; not unique\n",
    "* division id -- see division.dmp file\n",
    "* inherited div flag (1 or 0) -- 1 if node inherits division from parent\n",
    "* genetic code id -- see gencode.dmp file\n",
    "* inherited GC flag (1 or 0) -- 1 if node inherits genetic code from parent\n",
    "* mitochondrial genetic code id -- see gencode.dmp file\n",
    "* inherited MGC flag (1 or 0) -- 1 if node inherits mitochondrial gencode from parent\n",
    "* GenBank hidden flag (1 or 0) -- 1 if name is suppressed in GenBank entry lineage\n",
    "* hidden subtree root flag (1 or 0) -- 1 if this subtree has no sequence data yet\n",
    "* comments-- free-text comments and citations"
   ]
  },
  {
   "cell_type": "code",
   "execution_count": 36,
   "id": "d453bb7d-ea30-432b-a851-d728e2f50ec9",
   "metadata": {},
   "outputs": [
    {
     "ename": "TypeError",
     "evalue": "unsupported operand type(s) for /: 'str' and 'str'",
     "output_type": "error",
     "traceback": [
      "\u001b[0;31m---------------------------------------------------------------------------\u001b[0m",
      "\u001b[0;31mTypeError\u001b[0m                                 Traceback (most recent call last)",
      "\u001b[0;32m/tmp/ipykernel_3647/1173956283.py\u001b[0m in \u001b[0;36m<module>\u001b[0;34m\u001b[0m\n\u001b[1;32m      1\u001b[0m \u001b[0mtarget\u001b[0m    \u001b[0;34m=\u001b[0m \u001b[0;34m\"Viridiplantae\"\u001b[0m\u001b[0;34m\u001b[0m\u001b[0;34m\u001b[0m\u001b[0m\n\u001b[1;32m      2\u001b[0m \u001b[0mwd\u001b[0m        \u001b[0;34m=\u001b[0m \u001b[0;34m\"/mnt/d/project/plant_sci_history/1_obtaining_corpus/taxonomy\"\u001b[0m\u001b[0;34m\u001b[0m\u001b[0;34m\u001b[0m\u001b[0m\n\u001b[0;32m----> 3\u001b[0;31m \u001b[0mnames_dmp\u001b[0m \u001b[0;34m=\u001b[0m \u001b[0mopen\u001b[0m\u001b[0;34m(\u001b[0m\u001b[0mwd\u001b[0m \u001b[0;34m/\u001b[0m \u001b[0;34m\"names.dmp\"\u001b[0m\u001b[0;34m)\u001b[0m\u001b[0;34m\u001b[0m\u001b[0;34m\u001b[0m\u001b[0m\n\u001b[0m\u001b[1;32m      4\u001b[0m \u001b[0mL\u001b[0m         \u001b[0;34m=\u001b[0m \u001b[0mnames_dmp\u001b[0m\u001b[0;34m.\u001b[0m\u001b[0mreadline\u001b[0m\u001b[0;34m(\u001b[0m\u001b[0;34m)\u001b[0m\u001b[0;34m\u001b[0m\u001b[0;34m\u001b[0m\u001b[0m\n\u001b[1;32m      5\u001b[0m \u001b[0;32mwhile\u001b[0m \u001b[0mL\u001b[0m \u001b[0;34m!=\u001b[0m \u001b[0;34m\"\"\u001b[0m\u001b[0;34m:\u001b[0m\u001b[0;34m\u001b[0m\u001b[0;34m\u001b[0m\u001b[0m\n",
      "\u001b[0;31mTypeError\u001b[0m: unsupported operand type(s) for /: 'str' and 'str'"
     ]
    }
   ],
   "source": [
    "target    = \"Viridiplantae\"\n",
    "wd        = Path(\"/mnt/d/project/plant_sci_history/1_obtaining_corpus/taxonomy\")\n",
    "names_dmp = open(wd / \"names.dmp\")\n",
    "L         = names_dmp.readline()\n",
    "while L != \"\":\n",
    "    print(L.strip().split(\"\\t\"))\n",
    "    L = names_dmp.readline()\n",
    "\n"
   ]
  },
  {
   "cell_type": "markdown",
   "id": "107bb55b-150e-4e12-aa14-e71e89434da7",
   "metadata": {},
   "source": [
    "## Continue development in script_parse_pubmed.py"
   ]
  },
  {
   "cell_type": "code",
   "execution_count": null,
   "id": "87b5ad68-0c0c-4872-b0ff-6c54065d589a",
   "metadata": {},
   "outputs": [],
   "source": []
  }
 ],
 "metadata": {
  "kernelspec": {
   "display_name": "Python 3 (ipykernel)",
   "language": "python",
   "name": "python3"
  },
  "language_info": {
   "codemirror_mode": {
    "name": "ipython",
    "version": 3
   },
   "file_extension": ".py",
   "mimetype": "text/x-python",
   "name": "python",
   "nbconvert_exporter": "python",
   "pygments_lexer": "ipython3",
   "version": "3.8.10"
  }
 },
 "nbformat": 4,
 "nbformat_minor": 5
}
