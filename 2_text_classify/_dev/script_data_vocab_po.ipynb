{
 "cells": [
  {
   "cell_type": "code",
   "execution_count": 7,
   "metadata": {},
   "outputs": [
    {
     "data": {
      "text/plain": [
       "'d:\\\\__JOB_LOCAL\\\\Project\\\\KG\\\\_vocab\\\\vocab_po'"
      ]
     },
     "execution_count": 7,
     "metadata": {},
     "output_type": "execute_result"
    }
   ],
   "source": [
    "import os\n",
    "from pathlib import Path\n",
    "\n",
    "workdir = Path(\"D:/__JOB_LOCAL/Project/KG/_vocab/vocab_po\")\n",
    "\n",
    "os.chdir(workdir)\n",
    "os.getcwd()"
   ]
  },
  {
   "cell_type": "code",
   "execution_count": 11,
   "metadata": {},
   "outputs": [
    {
     "data": {
      "text/plain": [
       "['<?xml version=\"1.0\"?>\\n',\n",
       " '<rdf:RDF xmlns=\"http://purl.obolibrary.org/obo/po.owl#\"\\n',\n",
       " '     xml:base=\"http://purl.obolibrary.org/obo/po.owl\"\\n',\n",
       " '     xmlns:rdf=\"http://www.w3.org/1999/02/22-rdf-syntax-ns#\"\\n',\n",
       " '     xmlns:owl=\"http://www.w3.org/2002/07/owl#\"\\n']"
      ]
     },
     "execution_count": 11,
     "metadata": {},
     "output_type": "execute_result"
    }
   ],
   "source": [
    "po_owl = \"po.owl\"\n",
    "\n",
    "# plant ontology owl file lines\n",
    "po_lns = open(po_owl, encoding=\"utf-8\").readlines()\n",
    "po_lns[:5]"
   ]
  },
  {
   "cell_type": "code",
   "execution_count": 15,
   "metadata": {},
   "outputs": [
    {
     "name": "stdout",
     "output_type": "stream",
     "text": [
      "<owl:Ontology:1\n",
      "<owl:versionIRI:1\n",
      "<owl:imports:2\n",
      "<owl:AnnotationProperty:48\n",
      "<owl:ObjectProperty:13\n",
      "<owl:Axiom>:5892\n",
      "<owl:annotatedSource:5892\n",
      "<owl:annotatedProperty:5892\n",
      "<owl:annotatedTarget:5890\n",
      "<owl:inverseOf:1\n",
      "<owl:Class:1993\n",
      "<owl:Restriction>:1081\n",
      "<owl:onProperty:1081\n",
      "<owl:someValuesFrom:1081\n",
      "<owl:deprecated:338\n",
      "<owl:disjointWith:36\n",
      "<owl:equivalentClass>:81\n",
      "<owl:Class>:81\n",
      "<owl:intersectionOf:81\n",
      "<owl:annotatedTarget>:2\n"
     ]
    }
   ],
   "source": [
    "# Check what kinds of tags are associated with <owl:\n",
    "owl_tags = {}\n",
    "for i in po_lns:\n",
    "    if i.find(\"<owl:\") != -1:\n",
    "        # <owl:AnnotationProperty rdf:about=\"\n",
    "        i = i.split(\"<owl:\")[1].split(\" \")[0].strip()\n",
    "        if i not in owl_tags:\n",
    "            owl_tags[i] = 1\n",
    "        else:\n",
    "            owl_tags[i]+= 1\n",
    "\n",
    "for i in owl_tags:\n",
    "    print(f\"<owl:{i}:{owl_tags[i]}\")"
   ]
  },
  {
   "cell_type": "code",
   "execution_count": 16,
   "metadata": {},
   "outputs": [
    {
     "name": "stdout",
     "output_type": "stream",
     "text": [
      "<rdfs:label:1824\n",
      "<rdfs:comment:1036\n",
      "<rdfs:subPropertyOf:19\n",
      "<rdfs:subClassOf:1917\n",
      "<rdfs:subClassOf>:998\n"
     ]
    }
   ],
   "source": [
    "# Check out the types of rdfs tags\n",
    "rdfs_tags = {}\n",
    "for i in po_lns:\n",
    "    if i.find(\"<rdfs:\") != -1:\n",
    "        # <rdfs:label rdf:datatype=\"...\n",
    "        i = i.split(\"<rdfs:\")[1].split(\" \")[0].strip()\n",
    "        if i not in rdfs_tags:\n",
    "            rdfs_tags[i] = 1\n",
    "        else:\n",
    "            rdfs_tags[i]+= 1\n",
    "\n",
    "for i in rdfs_tags:\n",
    "    print(f\"<rdfs:{i}:{rdfs_tags[i]}\")"
   ]
  },
  {
   "cell_type": "markdown",
   "metadata": {},
   "source": [
    "**But obo file is much easier to parse - focus on that instead**"
   ]
  },
  {
   "cell_type": "code",
   "execution_count": null,
   "metadata": {},
   "outputs": [],
   "source": []
  }
 ],
 "metadata": {
  "kernelspec": {
   "display_name": "Python 3",
   "language": "python",
   "name": "python3"
  },
  "language_info": {
   "codemirror_mode": {
    "name": "ipython",
    "version": 3
   },
   "file_extension": ".py",
   "mimetype": "text/x-python",
   "name": "python",
   "nbconvert_exporter": "python",
   "pygments_lexer": "ipython3",
   "version": "3.7.7"
  }
 },
 "nbformat": 4,
 "nbformat_minor": 4
}
