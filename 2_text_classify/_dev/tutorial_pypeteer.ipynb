{
 "cells": [
  {
   "cell_type": "markdown",
   "metadata": {},
   "source": [
    "**Pypeteer**\n",
    "\n",
    "https://medium.com/z1digitalstudio/pyppeteer-the-snake-charmer-f3d1843ddb19\n",
    "\n",
    "RuntimeError: This event loop is already running in python\n",
    "* https://stackoverflow.com/questions/46827007/runtimeerror-this-event-loop-is-already-running-in-python"
   ]
  },
  {
   "cell_type": "code",
   "execution_count": 1,
   "metadata": {},
   "outputs": [],
   "source": [
    "import pprint\n",
    "import asyncio\n",
    "from pyppeteer import launch\n",
    "import nest_asyncio\n",
    "nest_asyncio.apply()\n",
    "\n",
    "async def get_browser():\n",
    "    return await launch({\"headless\": False})\n",
    "\n",
    "async def get_page(browser, url):\n",
    "    page = await browser.newPage()\n",
    "    await page.goto(url)\n",
    "    return page\n",
    "\n",
    "async def extract_data(page):\n",
    "    # Select tr with a th and td descendant from table\n",
    "    elements = await page.xpath(\n",
    "        '//table[@class=\"infobox\"]/tbody/tr[th and td]')\n",
    "    # Extract data\n",
    "    result = {}\n",
    "    for element in elements:\n",
    "        title, content = await page.evaluate(\n",
    "            '''(element) =>\n",
    "                [...element.children].map(child => child.textContent)''',\n",
    "            element)\n",
    "        result.update({title: content})\n",
    "    return result\n",
    "\n",
    "\n",
    "async def extract(browser, name, url):\n",
    "    page = await get_page(browser, url)\n",
    "    return {name: await extract_data(page)}\n",
    "\n",
    "\n",
    "async def extract_all(languages):\n",
    "    browser = await get_browser()\n",
    "    result = {}\n",
    "    for name, url in languages.items():\n",
    "        result.update(await extract(browser, name, url))\n",
    "    return result"
   ]
  },
  {
   "cell_type": "code",
   "execution_count": null,
   "metadata": {},
   "outputs": [],
   "source": [
    "languages = {\n",
    "    \"python\": \"https://es.wikipedia.org/wiki/Python\",\n",
    "    \"Rust\": \"https://es.wikipedia.org/wiki/Rust_(lenguaje_de_programaci%C3%B3n)\",\n",
    "    \"Java\": \"https://es.wikipedia.org/wiki/Java_(lenguaje_de_programaci%C3%B3n)\",\n",
    "    \"Javascript\": \"https://es.wikipedia.org/wiki/JavaScript\"\n",
    "}\n",
    "\n",
    "loop = asyncio.get_event_loop()\n",
    "result = loop.run_until_complete(extract_all(languages))\n",
    "\n",
    "pprint.pprint(result)"
   ]
  },
  {
   "cell_type": "code",
   "execution_count": null,
   "metadata": {},
   "outputs": [],
   "source": [
    "lang1 = {\"python\": \"https://es.wikipedia.org/wiki/Python\"}\n",
    "loop2 = asyncio.get_event_loop()\n",
    "result2 = loop2.run_until_complete(extract_all(lang1))"
   ]
  },
  {
   "cell_type": "code",
   "execution_count": null,
   "metadata": {},
   "outputs": [],
   "source": [
    "asyncio.get_running_loop()"
   ]
  },
  {
   "cell_type": "code",
   "execution_count": null,
   "metadata": {},
   "outputs": [],
   "source": []
  }
 ],
 "metadata": {
  "kernelspec": {
   "display_name": "Python 3",
   "language": "python",
   "name": "python3"
  },
  "language_info": {
   "codemirror_mode": {
    "name": "ipython",
    "version": 3
   },
   "file_extension": ".py",
   "mimetype": "text/x-python",
   "name": "python",
   "nbconvert_exporter": "python",
   "pygments_lexer": "ipython3",
   "version": "3.7.7"
  }
 },
 "nbformat": 4,
 "nbformat_minor": 4
}
