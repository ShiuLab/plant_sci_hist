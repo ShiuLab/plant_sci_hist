{
 "cells": [
  {
   "cell_type": "markdown",
   "metadata": {},
   "source": [
    "**Getting the vocabulary words from dictionaries**"
   ]
  },
  {
   "cell_type": "markdown",
   "metadata": {},
   "source": [
    "# Notes"
   ]
  },
  {
   "cell_type": "markdown",
   "metadata": {},
   "source": [
    "07/02/20 \n",
    "* Found [Scrapy](https://docs.scrapy.org/en/latest/)\n",
    "  * [install](https://docs.scrapy.org/en/latest/intro/install.html#intro-install), [tutorial](https://docs.scrapy.org/en/latest/intro/tutorial.html), [on log in](https://towardsdatascience.com/scrapy-this-is-how-to-successfully-login-with-ease-ea980e2c5901)\n",
    "* Also realize that the entries from the dictionary are available - just that the definition is blocked behind a pay-wall. So go ahead and try to get the entiries from the page listing.\n",
    "  * HTTPError: HTTP Error 503: Service Unavailable\n",
    "    * [work around](https://stackoverflow.com/questions/25936072/python-urllib2-httperror-http-error-503-service-unavailable-on-valid-website#:~:text=2%20Answers&text=It's%20because%20Amazon%20don't,the%20503%20response%2C%20it%20says%3A&text=This%20is%20because%20the%20User,so%20obviously%20not%20a%20browser.)\n",
    "    * But urllib2 is quite old, try [urllib3](https://urllib3.readthedocs.io/en/latest/user-guide.html), and [this post](https://stackoverflow.com/questions/27369998/urllib3-download-a-file-using-specified-user-agent) to spefiy user agent.\n",
    "\n",
    "07/01/20 \n",
    "* Authentication problem\n",
    "  * Cannot use urllib straight due to authentication problem.\n",
    "  * See [this post](https://stackoverflow.com/questions/16512965/logging-into-saml-shibboleth-authenticated-server-using-python)\n",
    "  * The second post use selenium + phantomjs \n",
    "    * [This post](https://realpython.com/headless-selenium-testing-with-python-and-phantomjs/) has some doc about how to use this combination.\n",
    "  * Conda has both\n",
    "  * Found out that PhantomJS support is deprecated in selenium, use [headless firefox instead](https://pythonbasics.org/selenium-firefox-headless/)\n",
    "  * `browser = webdriver.Firefox(firefox_options=fireFoxOptions)` throw:\n",
    "    * `WebDriverException: Message: 'geckodriver' executable needs to be in PATH`\n",
    "    * See [this post](https://stackoverflow.com/questions/40208051/selenium-using-python-geckodriver-executable-needs-to-be-in-path)"
   ]
  },
  {
   "cell_type": "markdown",
   "metadata": {},
   "source": [
    "# General bit"
   ]
  },
  {
   "cell_type": "code",
   "execution_count": 7,
   "metadata": {},
   "outputs": [],
   "source": [
    "import urllib3\n",
    "from time import sleep\n",
    "from numpy.random import normal"
   ]
  },
  {
   "cell_type": "code",
   "execution_count": 2,
   "metadata": {},
   "outputs": [],
   "source": [
    "def parse_html(html):\n",
    "    ''' Target line example:\n",
    "      <h2 class=\"itemTitle\">\n",
    "      <a href=\"/view/10.1093/acref/9780198833338.001.0001/acref-9780198833338-e-50?rskey=dM2QXw&amp;result=61\">acid soil</a>\n",
    "      </h2>\n",
    "    '''\n",
    "    lines = html.split(\"\\n\")\n"
   ]
  },
  {
   "cell_type": "code",
   "execution_count": null,
   "metadata": {},
   "outputs": [],
   "source": []
  },
  {
   "cell_type": "markdown",
   "metadata": {},
   "source": [
    "# Oxford Reference: A Dictionary of Plant Sciences (4 ed.)"
   ]
  },
  {
   "cell_type": "code",
   "execution_count": 3,
   "metadata": {},
   "outputs": [
    {
     "data": {
      "text/plain": [
       "2.3010597393829557"
      ]
     },
     "execution_count": 3,
     "metadata": {},
     "output_type": "execute_result"
    }
   ],
   "source": [
    "# Dictionary page URL extension: plant science\n",
    "pg_plnsci = \"10.1093/acref/9780198833338.001.0001/acref-9780198833338\"\n",
    "\n",
    "# Entry list links\n",
    "en_tag_L  = \"?btog=chap&hide=true&page=\"\n",
    "en_tag_R  = \"&pageSize=20\"\n",
    "en_pg_num = 437     # number of pages for the dictionary entry list\n",
    "en_plnsci = [f\"{en_tag_L}{i}{en_tag_R}\" for i in range(1,en_pg_num)]\n",
    "\n",
    "# Sleep time list\n",
    "s_time = normal(3, 0.5, en_pg_num)\n",
    "s_time[1]"
   ]
  },
  {
   "cell_type": "code",
   "execution_count": 4,
   "metadata": {},
   "outputs": [
    {
     "name": "stdout",
     "output_type": "stream",
     "text": [
      "<class 'numpy.float64'>\n",
      "sleep: 3.1405888503391513\n",
      "<class 'numpy.float64'>\n",
      "sleep: 2.3010597393829557\n",
      "<class 'numpy.float64'>\n",
      "sleep: 3.500402906826193\n",
      "<class 'numpy.float64'>\n",
      "sleep: 3.389183480074362\n"
     ]
    }
   ],
   "source": [
    "for idx, en_list in enumerate(en_plnsci):\n",
    "    url = url_base + pg_plnsci + en_list\n",
    "    #print(url)\n",
    "    response = http.request('GET', url)\n",
    "    html = response.data.decode(\"utf-8\") \n",
    "    oup = open(\"test.html\",\"w\")\n",
    "    oup.write(html)\n",
    "    oup.close()\n",
    "    st = s_time[idx]\n",
    "    print (\"sleep:\",st)\n",
    "    sleep(st)\n",
    "    if idx == 3:\n",
    "        break\n",
    "    "
   ]
  },
  {
   "cell_type": "markdown",
   "metadata": {},
   "source": [
    "# **Move development to script_data_vocab_dict.py**"
   ]
  },
  {
   "cell_type": "code",
   "execution_count": null,
   "metadata": {},
   "outputs": [],
   "source": []
  }
 ],
 "metadata": {
  "kernelspec": {
   "display_name": "Python 3",
   "language": "python",
   "name": "python3"
  },
  "language_info": {
   "codemirror_mode": {
    "name": "ipython",
    "version": 3
   },
   "file_extension": ".py",
   "mimetype": "text/x-python",
   "name": "python",
   "nbconvert_exporter": "python",
   "pygments_lexer": "ipython3",
   "version": "3.7.7"
  }
 },
 "nbformat": 4,
 "nbformat_minor": 4
}
