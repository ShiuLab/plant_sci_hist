{
 "cells": [
  {
   "cell_type": "markdown",
   "metadata": {},
   "source": [
    "# __Step 1: data pre-processing__\n",
    "\n",
    "The downloaded abstracts contain many articles that are not considered plant science but biomedical. This notebook contains two components:\n",
    "\n",
    "1. Identify a subset of abstracts to use as training data\n",
    "2. Train a text classification model to distinguish plant and non-plant science texts.\n",
    "   - For the second components, the code example is based on \n",
    "     - [News dataset (Kaggle)](https://www.kaggle.com/rmisra/news-category-dataset)\n",
    "     - And a series of three TowardDataScience articles by Mauro Di Pietro: [1](https://towardsdatascience.com/text-analysis-feature-engineering-with-nlp-502d6ea9225d), [2](https://towardsdatascience.com/text-classification-with-nlp-tf-idf-vs-word2vec-vs-bert-41ff868d1794), [3](https://towardsdatascience.com/text-classification-with-no-model-training-935fe0e42180)."
   ]
  },
  {
   "cell_type": "markdown",
   "metadata": {},
   "source": [
    "### Setup"
   ]
  },
  {
   "cell_type": "code",
   "execution_count": 1,
   "id": "4c666b78-9e11-4e4a-ac16-bab9f49fab44",
   "metadata": {},
   "outputs": [
    {
     "name": "stderr",
     "output_type": "stream",
     "text": [
      "/home/shius/miniconda3/envs/tf/lib/python3.10/site-packages/tqdm/auto.py:22: TqdmWarning: IProgress not found. Please update jupyter and ipywidgets. See https://ipywidgets.readthedocs.io/en/stable/user_install.html\n",
      "  from .autonotebook import tqdm as notebook_tqdm\n"
     ]
    }
   ],
   "source": [
    "# My conda environment\n",
    "# !conda activate tf\n",
    "\n",
    "## for data\n",
    "import json\n",
    "import pandas as pd\n",
    "import numpy as np\n",
    "from pathlib import Path\n",
    "from tqdm import tqdm\n",
    "from numpy.random import randint\n",
    "from os import chdir\n",
    "\n",
    "## for plotting\n",
    "import matplotlib.pyplot as plt\n",
    "import seaborn as sns\n",
    "\n",
    "## for processing\n",
    "import re\n",
    "import nltk\n",
    "\n",
    "## for bag-of-words\n",
    "from sklearn import feature_extraction, feature_selection, metrics, pipeline\n",
    "from sklearn import model_selection, naive_bayes, manifold, preprocessing\n",
    "\n",
    "## for explainer\n",
    "from lime import lime_text\n",
    "\n",
    "## for word embedding\n",
    "import gensim\n",
    "import gensim.downloader as gensim_api\n",
    "\n",
    "## for deep learning\n",
    "from tensorflow import keras\n",
    "from tensorflow.keras import models, layers, preprocessing\n",
    "from tensorflow.keras import backend as K\n",
    "\n",
    "## for bert language model\n",
    "import transformers\n",
    "\n",
    "#from nlp_utils import *"
   ]
  },
  {
   "cell_type": "code",
   "execution_count": 2,
   "metadata": {},
   "outputs": [],
   "source": [
    "# Set up working directory and corpus file location\n",
    "proj_dir         = Path('/home/shius/projects/plant_sci_hist')\n",
    "corpus_dir       = proj_dir / \"1_obtaining_corpus\"\n",
    "corpus_file_name = 'pubmed_qualified.tsv'\n",
    "corpus_file      = corpus_dir / corpus_file_name\n",
    "\n",
    "work_dir         = proj_dir / \"2_text_classify\"\n",
    "chdir(work_dir)"
   ]
  },
  {
   "cell_type": "markdown",
   "metadata": {},
   "source": [
    "## ___Identifying training data___"
   ]
  },
  {
   "cell_type": "markdown",
   "metadata": {},
   "source": [
    "### Load data and pre-processing\n",
    "\n",
    "Starting 1497511\n",
    "- After removing duplicates: 1475989\n",
    "- Create a new column 'txt' which is concatenated between 'Title' and 'Abstract'\n",
    "- After removing records without either title or abstract: 1385417"
   ]
  },
  {
   "cell_type": "code",
   "execution_count": 3,
   "metadata": {},
   "outputs": [
    {
     "data": {
      "text/plain": [
       "(1497511, 6)"
      ]
     },
     "execution_count": 3,
     "metadata": {},
     "output_type": "execute_result"
    }
   ],
   "source": [
    "corpus_df_raw = pd.read_csv(corpus_file, delimiter='\\t')\n",
    "corpus_df_raw.shape"
   ]
  },
  {
   "cell_type": "code",
   "execution_count": 4,
   "metadata": {},
   "outputs": [
    {
     "data": {
      "text/plain": [
       "False    1475989\n",
       "True       21522\n",
       "dtype: int64"
      ]
     },
     "execution_count": 4,
     "metadata": {},
     "output_type": "execute_result"
    }
   ],
   "source": [
    "# Count # of duplicates\n",
    "corpus_df_raw.duplicated().value_counts()"
   ]
  },
  {
   "cell_type": "code",
   "execution_count": 5,
   "metadata": {},
   "outputs": [
    {
     "data": {
      "text/plain": [
       "(1475989, 6)"
      ]
     },
     "execution_count": 5,
     "metadata": {},
     "output_type": "execute_result"
    }
   ],
   "source": [
    "# Drop duplicated rows\n",
    "corpus_df = corpus_df_raw[corpus_df_raw.duplicated() == False]\n",
    "corpus_df.shape"
   ]
  },
  {
   "cell_type": "code",
   "execution_count": 6,
   "metadata": {},
   "outputs": [
    {
     "name": "stderr",
     "output_type": "stream",
     "text": [
      "/tmp/ipykernel_6710/1834075274.py:2: SettingWithCopyWarning: \n",
      "A value is trying to be set on a copy of a slice from a DataFrame.\n",
      "Try using .loc[row_indexer,col_indexer] = value instead\n",
      "\n",
      "See the caveats in the documentation: https://pandas.pydata.org/pandas-docs/stable/user_guide/indexing.html#returning-a-view-versus-a-copy\n",
      "  corpus_df['txt'] = corpus_df['Title'] + \". \" + corpus_df['Abstract']\n"
     ]
    }
   ],
   "source": [
    "# Create a new column 'txt' which is concatenated between 'Title' and 'Abstract'\n",
    "corpus_df['txt'] = corpus_df['Title'] + \". \" + corpus_df['Abstract']"
   ]
  },
  {
   "cell_type": "code",
   "execution_count": 7,
   "metadata": {},
   "outputs": [
    {
     "name": "stdout",
     "output_type": "stream",
     "text": [
      "Title NAN: 142\n",
      "Abstract NAN: 90428\n",
      "Txt NAN: 90570\n"
     ]
    }
   ],
   "source": [
    "# Deal with NA\n",
    "print(\"Title NAN:\", corpus_df['Title'].isnull().sum())\n",
    "print(\"Abstract NAN:\", corpus_df['Abstract'].isnull().sum())\n",
    "print(\"Txt NAN:\", corpus_df['txt'].isnull().sum())"
   ]
  },
  {
   "cell_type": "code",
   "execution_count": 8,
   "metadata": {},
   "outputs": [
    {
     "data": {
      "text/plain": [
       "(1385417, 7)"
      ]
     },
     "execution_count": 8,
     "metadata": {},
     "output_type": "execute_result"
    }
   ],
   "source": [
    "# Rid of all records with NAs\n",
    "corpus_df = corpus_df.dropna(axis=0)\n",
    "corpus_df.shape"
   ]
  },
  {
   "cell_type": "code",
   "execution_count": 9,
   "metadata": {},
   "outputs": [],
   "source": [
    "# Write the processed corpus into a file: decide to write later\n",
    "#corpus_df.to_csv(work_dir / (corpus_file_name + \".noredun_nona\"), sep='\\t')"
   ]
  },
  {
   "cell_type": "markdown",
   "metadata": {},
   "source": [
    "### Get a list of journals"
   ]
  },
  {
   "cell_type": "code",
   "execution_count": 10,
   "metadata": {},
   "outputs": [
    {
     "data": {
      "text/html": [
       "<div>\n",
       "<style scoped>\n",
       "    .dataframe tbody tr th:only-of-type {\n",
       "        vertical-align: middle;\n",
       "    }\n",
       "\n",
       "    .dataframe tbody tr th {\n",
       "        vertical-align: top;\n",
       "    }\n",
       "\n",
       "    .dataframe thead th {\n",
       "        text-align: right;\n",
       "    }\n",
       "</style>\n",
       "<table border=\"1\" class=\"dataframe\">\n",
       "  <thead>\n",
       "    <tr style=\"text-align: right;\">\n",
       "      <th></th>\n",
       "      <th>PMID</th>\n",
       "      <th>Date</th>\n",
       "      <th>Journal</th>\n",
       "      <th>Title</th>\n",
       "      <th>Abstract</th>\n",
       "      <th>QualifiedName</th>\n",
       "      <th>txt</th>\n",
       "    </tr>\n",
       "  </thead>\n",
       "  <tbody>\n",
       "    <tr>\n",
       "      <th>0</th>\n",
       "      <td>36</td>\n",
       "      <td>1975-11-01</td>\n",
       "      <td>The British journal of nutrition</td>\n",
       "      <td>The effects of processing of barley-based supp...</td>\n",
       "      <td>1. In one experiment the effect on rumen pH of...</td>\n",
       "      <td>barley</td>\n",
       "      <td>The effects of processing of barley-based supp...</td>\n",
       "    </tr>\n",
       "    <tr>\n",
       "      <th>1</th>\n",
       "      <td>52</td>\n",
       "      <td>1975-12-02</td>\n",
       "      <td>Biochemistry</td>\n",
       "      <td>Evidence of the involvement of a 50S ribosomal...</td>\n",
       "      <td>The functional role of the Bacillus stearother...</td>\n",
       "      <td>rose</td>\n",
       "      <td>Evidence of the involvement of a 50S ribosomal...</td>\n",
       "    </tr>\n",
       "    <tr>\n",
       "      <th>2</th>\n",
       "      <td>60</td>\n",
       "      <td>1975-12-11</td>\n",
       "      <td>Biochimica et biophysica acta</td>\n",
       "      <td>The reaction between the superoxide anion radi...</td>\n",
       "      <td>1. The superoxide anion radical (O2-) reacts w...</td>\n",
       "      <td>tuna</td>\n",
       "      <td>The reaction between the superoxide anion radi...</td>\n",
       "    </tr>\n",
       "  </tbody>\n",
       "</table>\n",
       "</div>"
      ],
      "text/plain": [
       "  PMID        Date                           Journal  \\\n",
       "0   36  1975-11-01  The British journal of nutrition   \n",
       "1   52  1975-12-02                      Biochemistry   \n",
       "2   60  1975-12-11     Biochimica et biophysica acta   \n",
       "\n",
       "                                               Title  \\\n",
       "0  The effects of processing of barley-based supp...   \n",
       "1  Evidence of the involvement of a 50S ribosomal...   \n",
       "2  The reaction between the superoxide anion radi...   \n",
       "\n",
       "                                            Abstract QualifiedName  \\\n",
       "0  1. In one experiment the effect on rumen pH of...        barley   \n",
       "1  The functional role of the Bacillus stearother...          rose   \n",
       "2  1. The superoxide anion radical (O2-) reacts w...          tuna   \n",
       "\n",
       "                                                 txt  \n",
       "0  The effects of processing of barley-based supp...  \n",
       "1  Evidence of the involvement of a 50S ribosomal...  \n",
       "2  The reaction between the superoxide anion radi...  "
      ]
     },
     "execution_count": 10,
     "metadata": {},
     "output_type": "execute_result"
    }
   ],
   "source": [
    "corpus_df.head(3)"
   ]
  },
  {
   "cell_type": "code",
   "execution_count": 11,
   "metadata": {},
   "outputs": [],
   "source": [
    "# This is a pandas series\n",
    "journal_counts = corpus_df['Journal'].value_counts()\n",
    "journal_counts.to_csv(work_dir / 'out_raw_journal_counts')"
   ]
  },
  {
   "cell_type": "markdown",
   "metadata": {},
   "source": [
    "### Define positive and negative set journals\n",
    "\n",
    "- Number negative journals : 7360\n",
    "- Number negative instances: 43323\n",
    "- Number positive journals : 17\n",
    "- Number positive instances: 98937"
   ]
  },
  {
   "cell_type": "code",
   "execution_count": 12,
   "metadata": {},
   "outputs": [],
   "source": [
    "positives = ['Plant physiology', 'Frontiers in plant science', 'Planta',\n",
    "             'The Plant journal : for cell and molecular biology', \n",
    "             'Journal of experimental botany', 'Plant molecular biology',\n",
    "             'The New phytologist', 'The Plant cell', 'Phytochemistry',\n",
    "             'Plant &amp; cell physiology', 'American journal of botany',\n",
    "             'Annals of botany', 'BMC plant biology', 'Tree physiology',\n",
    "             'Molecular plant-microbe interactions : MPMI',\n",
    "             '\"Plant biology (Stuttgart, Germany)\"', \n",
    "             'Plant biotechnology journal']\n",
    "\n",
    "# Any journal with <20 papers will be regarded as negative \n",
    "negative_threshold = 20 \n",
    "\n",
    "# Journal names to exclude: decide not to use these, concerned that connection\n",
    "# between plant science and medical science may be eliminated.\n",
    "negative_keywords  = ['medicine', 'pharmaceutical', 'pharmacological', \n",
    "                      'psychiatry']"
   ]
  },
  {
   "cell_type": "code",
   "execution_count": 13,
   "metadata": {},
   "outputs": [
    {
     "name": "stdout",
     "output_type": "stream",
     "text": [
      "Number negative journals : 7360\n",
      "Number negative instances: 43323\n",
      "Number positive journals : 17\n",
      "Number positive instances: 98937\n"
     ]
    }
   ],
   "source": [
    "# Count total for negative set\n",
    "total_negative = 0\n",
    "total_positive = 0\n",
    "num_negative_journals = 0\n",
    "for journal, count in journal_counts.items():\n",
    "    if count <= negative_threshold:\n",
    "        total_negative += count\n",
    "        num_negative_journals += 1\n",
    "    elif journal in positives:\n",
    "        total_positive += count\n",
    "\n",
    "print(\"Number negative journals :\", num_negative_journals)\n",
    "print(\"Number negative instances:\", total_negative)\n",
    "print(\"Number positive journals :\", len(positives))\n",
    "print(\"Number positive instances:\", total_positive)"
   ]
  },
  {
   "cell_type": "code",
   "execution_count": 14,
   "metadata": {},
   "outputs": [
    {
     "name": "stdout",
     "output_type": "stream",
     "text": [
      "0.4378847145152976\n"
     ]
    }
   ],
   "source": [
    "# Proportion of articles to subsample from each positive journal\n",
    "prop_to_sample = total_negative/total_positive\n",
    "print(prop_to_sample)"
   ]
  },
  {
   "cell_type": "markdown",
   "metadata": {},
   "source": [
    "### Construct a dataframe with positive and negative examples"
   ]
  },
  {
   "cell_type": "code",
   "execution_count": 15,
   "metadata": {},
   "outputs": [
    {
     "data": {
      "text/plain": [
       "(Neurotrauma reports                                                     1\n",
       " Brain and neuroscience advances                                         1\n",
       " Wiley interdisciplinary reviews. Data mining and knowledge discovery    1\n",
       " Name: Journal, dtype: int64,\n",
       " Journal of agricultural and food chemistry    15942\n",
       " Plant physiology                              21236\n",
       " PloS one                                      24095\n",
       " Name: Journal, dtype: int64)"
      ]
     },
     "execution_count": 15,
     "metadata": {},
     "output_type": "execute_result"
    }
   ],
   "source": [
    "# This step is not useful downstream, just playing\n",
    "journal_counts = journal_counts.sort_values()\n",
    "journal_counts.head(3), journal_counts.tail(3)"
   ]
  },
  {
   "cell_type": "code",
   "execution_count": 16,
   "metadata": {},
   "outputs": [
    {
     "name": "stderr",
     "output_type": "stream",
     "text": [
      "100%|██████████| 12457/12457 [13:50<00:00, 15.00it/s] "
     ]
    },
    {
     "name": "stdout",
     "output_type": "stream",
     "text": [
      "Positives sampled: 43329\n"
     ]
    },
    {
     "name": "stderr",
     "output_type": "stream",
     "text": [
      "\n"
     ]
    }
   ],
   "source": [
    "# Collect negative or negative examples for each journal as a dataframe,\n",
    "# then put the dataframes into a list for concatenation later.\n",
    "df_positve  = []\n",
    "df_negative = []\n",
    "\n",
    "positives_sampled = 0                   # Keeping track how many are sampled\n",
    "journal_items = journal_counts.items()  # so the content is iterable\n",
    "\n",
    "# The total is for tqdm to show a progress bar\n",
    "for journal, count in tqdm(journal_items, total=len(journal_counts)):\n",
    "    # Specify a subset dataframe for a journal\n",
    "    subset = corpus_df.loc[corpus_df[\"Journal\"] == journal]\n",
    "\n",
    "    # Negative example\n",
    "    if count <= negative_threshold:\n",
    "        df_negative.append(subset)\n",
    "    \n",
    "    # Positive examples\n",
    "    elif journal in positives:\n",
    "        # Plus 1 to round things up.\n",
    "        num_to_sample = int(count*prop_to_sample) + 1\n",
    "        positives_sampled += num_to_sample\n",
    "        subset = subset.sample(n=num_to_sample)\n",
    "        df_positve.append(subset)\n",
    "\n",
    "print(\"Positives sampled:\", positives_sampled)"
   ]
  },
  {
   "cell_type": "code",
   "execution_count": 17,
   "metadata": {},
   "outputs": [
    {
     "data": {
      "text/plain": [
       "(43323, 8)"
      ]
     },
     "execution_count": 17,
     "metadata": {},
     "output_type": "execute_result"
    }
   ],
   "source": [
    "corpus_pos = pd.concat(df_positve)\n",
    "corpus_pos['label'] = [1]*corpus_pos.shape[0]\n",
    "\n",
    "# Subsample because there are more positive examples\n",
    "if positives_sampled > total_negative:\n",
    "    corpus_pos = corpus_pos.sample(n=total_negative)\n",
    "corpus_pos.shape"
   ]
  },
  {
   "cell_type": "code",
   "execution_count": 18,
   "metadata": {},
   "outputs": [
    {
     "data": {
      "text/plain": [
       "(43323, 8)"
      ]
     },
     "execution_count": 18,
     "metadata": {},
     "output_type": "execute_result"
    }
   ],
   "source": [
    "corpus_neg = pd.concat(df_negative)\n",
    "corpus_neg['label'] = [0]*corpus_neg.shape[0]\n",
    "corpus_pos.shape"
   ]
  },
  {
   "cell_type": "code",
   "execution_count": 19,
   "metadata": {},
   "outputs": [
    {
     "data": {
      "text/plain": [
       "(86646, 8)"
      ]
     },
     "execution_count": 19,
     "metadata": {},
     "output_type": "execute_result"
    }
   ],
   "source": [
    "# Concatenate positives and negatives\n",
    "corpus_combo = pd.concat([corpus_pos, corpus_neg])\n",
    "corpus_combo.shape"
   ]
  },
  {
   "cell_type": "markdown",
   "metadata": {},
   "source": [
    "## ___Pre-processing___\n"
   ]
  },
  {
   "cell_type": "markdown",
   "metadata": {},
   "source": [
    "### Apply pre-processing function\n",
    "\n",
    "- Lowercase\n",
    "- Stopword removal\n",
    "- Remove characterst that are non-alphanumeric and non-white space characters\n",
    "- lemmitisation"
   ]
  },
  {
   "cell_type": "code",
   "execution_count": 20,
   "metadata": {},
   "outputs": [],
   "source": [
    "# Function based on Mauro Di Pietro (2020):\n",
    "#  https://towardsdatascience.com/text-classification-with-no-model-training-935fe0e42180\n",
    "def utils_preprocess_text(text, lst_stopwords, flg_stemm=False, flg_lemm=True):\n",
    "    '''\n",
    "    Preprocess a string.\n",
    "    :parameter\n",
    "        :param text: string - name of column containing text\n",
    "        :param lst_stopwords: list - list of stopwords to remove\n",
    "        :param flg_stemm: bool - whether stemming is to be applied\n",
    "        :param flg_lemm: bool - whether lemmitisation is to be applied\n",
    "    :return\n",
    "        cleaned text\n",
    "    '''\n",
    "    ## clean: lowercasing, stripping, then removing punctuations\n",
    "    text = str(text).lower().strip()\n",
    "    \n",
    "    # RE: replace any character that is not alphanumeric, underscore, whitespace\n",
    "    #  with ''. Originally this is it, but realized that biological terms have\n",
    "    #  special characters including roman numerals, dash, and \",\". So they are\n",
    "    #  not removed.\n",
    "    text = re.sub(r'[^\\w\\s(α-ωΑ-Ω)-,]', '', text)\n",
    "\n",
    "    ## Tokenize (convert from string to list)\n",
    "    lst_text = text.split()    \n",
    "    \n",
    "    ## remove Stopwords\n",
    "    if lst_stopwords is not None:\n",
    "        lst_text = [word for word in lst_text if word not in \n",
    "                    lst_stopwords]\n",
    "                \n",
    "    ## Stemming (remove -ing, -ly, ...)\n",
    "    if flg_stemm == True:\n",
    "        ps = nltk.stem.porter.PorterStemmer()\n",
    "        lst_text = [ps.stem(word) for word in lst_text]\n",
    "                \n",
    "    ## Lemmatisation (convert the word into root word)\n",
    "    if flg_lemm == True:\n",
    "        lem = nltk.stem.wordnet.WordNetLemmatizer()\n",
    "        lst_text = [lem.lemmatize(word) for word in lst_text]\n",
    "            \n",
    "    ## back to string from list\n",
    "    text = \" \".join(lst_text)\n",
    "    return text"
   ]
  },
  {
   "cell_type": "code",
   "execution_count": 21,
   "metadata": {},
   "outputs": [
    {
     "name": "stderr",
     "output_type": "stream",
     "text": [
      "Clean text: 100%|██████████| 86646/86646 [01:20<00:00, 1073.93it/s]\n"
     ]
    },
    {
     "data": {
      "text/html": [
       "<div>\n",
       "<style scoped>\n",
       "    .dataframe tbody tr th:only-of-type {\n",
       "        vertical-align: middle;\n",
       "    }\n",
       "\n",
       "    .dataframe tbody tr th {\n",
       "        vertical-align: top;\n",
       "    }\n",
       "\n",
       "    .dataframe thead th {\n",
       "        text-align: right;\n",
       "    }\n",
       "</style>\n",
       "<table border=\"1\" class=\"dataframe\">\n",
       "  <thead>\n",
       "    <tr style=\"text-align: right;\">\n",
       "      <th></th>\n",
       "      <th>PMID</th>\n",
       "      <th>Date</th>\n",
       "      <th>Journal</th>\n",
       "      <th>Title</th>\n",
       "      <th>Abstract</th>\n",
       "      <th>QualifiedName</th>\n",
       "      <th>txt</th>\n",
       "      <th>label</th>\n",
       "      <th>txt_clean</th>\n",
       "    </tr>\n",
       "  </thead>\n",
       "  <tbody>\n",
       "    <tr>\n",
       "      <th>655796</th>\n",
       "      <td>19574514</td>\n",
       "      <td>2009-07-04</td>\n",
       "      <td>Academic psychiatry : the journal of the Ameri...</td>\n",
       "      <td>The perceptions and habits of alcohol consumpt...</td>\n",
       "      <td>The authors aim to quantify the extent, and to...</td>\n",
       "      <td>tobacco</td>\n",
       "      <td>The perceptions and habits of alcohol consumpt...</td>\n",
       "      <td>0</td>\n",
       "      <td>perception habit alcohol consumption smoking a...</td>\n",
       "    </tr>\n",
       "    <tr>\n",
       "      <th>514872</th>\n",
       "      <td>16666646</td>\n",
       "      <td>1989-03-01</td>\n",
       "      <td>Plant physiology</td>\n",
       "      <td>Identification of Several Pathogenesis-Related...</td>\n",
       "      <td>Inoculation of tomato (Lycopersicon esculentum...</td>\n",
       "      <td>plant</td>\n",
       "      <td>Identification of Several Pathogenesis-Related...</td>\n",
       "      <td>1</td>\n",
       "      <td>identification several pathogenesisrelated pro...</td>\n",
       "    </tr>\n",
       "    <tr>\n",
       "      <th>1446818</th>\n",
       "      <td>32954081</td>\n",
       "      <td>2020-09-22</td>\n",
       "      <td>Kidney international reports</td>\n",
       "      <td>Creatinine Fluctuations Forecast Cross-Harvest...</td>\n",
       "      <td>Chronic kidney disease of unknown origin (CKDu...</td>\n",
       "      <td>sugarcane</td>\n",
       "      <td>Creatinine Fluctuations Forecast Cross-Harvest...</td>\n",
       "      <td>0</td>\n",
       "      <td>creatinine fluctuation forecast crossharvest k...</td>\n",
       "    </tr>\n",
       "    <tr>\n",
       "      <th>858093</th>\n",
       "      <td>23613273</td>\n",
       "      <td>2013-04-25</td>\n",
       "      <td>Plant physiology</td>\n",
       "      <td>Gene discovery of modular diterpene metabolism...</td>\n",
       "      <td>Plants produce over 10,000 different diterpene...</td>\n",
       "      <td>plants</td>\n",
       "      <td>Gene discovery of modular diterpene metabolism...</td>\n",
       "      <td>1</td>\n",
       "      <td>gene discovery modular diterpene metabolism no...</td>\n",
       "    </tr>\n",
       "    <tr>\n",
       "      <th>29574</th>\n",
       "      <td>1234701</td>\n",
       "      <td>1975-01-01</td>\n",
       "      <td>Acta physiologica latino americana</td>\n",
       "      <td>Effect of ouabain on the renal response to fur...</td>\n",
       "      <td>The aim of this work was to investigate whethe...</td>\n",
       "      <td>ouabain</td>\n",
       "      <td>Effect of ouabain on the renal response to fur...</td>\n",
       "      <td>0</td>\n",
       "      <td>effect ouabain renal response furosemide aim w...</td>\n",
       "    </tr>\n",
       "  </tbody>\n",
       "</table>\n",
       "</div>"
      ],
      "text/plain": [
       "             PMID        Date  \\\n",
       "655796   19574514  2009-07-04   \n",
       "514872   16666646  1989-03-01   \n",
       "1446818  32954081  2020-09-22   \n",
       "858093   23613273  2013-04-25   \n",
       "29574     1234701  1975-01-01   \n",
       "\n",
       "                                                   Journal  \\\n",
       "655796   Academic psychiatry : the journal of the Ameri...   \n",
       "514872                                    Plant physiology   \n",
       "1446818                       Kidney international reports   \n",
       "858093                                    Plant physiology   \n",
       "29574                   Acta physiologica latino americana   \n",
       "\n",
       "                                                     Title  \\\n",
       "655796   The perceptions and habits of alcohol consumpt...   \n",
       "514872   Identification of Several Pathogenesis-Related...   \n",
       "1446818  Creatinine Fluctuations Forecast Cross-Harvest...   \n",
       "858093   Gene discovery of modular diterpene metabolism...   \n",
       "29574    Effect of ouabain on the renal response to fur...   \n",
       "\n",
       "                                                  Abstract QualifiedName  \\\n",
       "655796   The authors aim to quantify the extent, and to...       tobacco   \n",
       "514872   Inoculation of tomato (Lycopersicon esculentum...         plant   \n",
       "1446818  Chronic kidney disease of unknown origin (CKDu...     sugarcane   \n",
       "858093   Plants produce over 10,000 different diterpene...        plants   \n",
       "29574    The aim of this work was to investigate whethe...       ouabain   \n",
       "\n",
       "                                                       txt  label  \\\n",
       "655796   The perceptions and habits of alcohol consumpt...      0   \n",
       "514872   Identification of Several Pathogenesis-Related...      1   \n",
       "1446818  Creatinine Fluctuations Forecast Cross-Harvest...      0   \n",
       "858093   Gene discovery of modular diterpene metabolism...      1   \n",
       "29574    Effect of ouabain on the renal response to fur...      0   \n",
       "\n",
       "                                                 txt_clean  \n",
       "655796   perception habit alcohol consumption smoking a...  \n",
       "514872   identification several pathogenesisrelated pro...  \n",
       "1446818  creatinine fluctuation forecast crossharvest k...  \n",
       "858093   gene discovery modular diterpene metabolism no...  \n",
       "29574    effect ouabain renal response furosemide aim w...  "
      ]
     },
     "execution_count": 21,
     "metadata": {},
     "output_type": "execute_result"
    }
   ],
   "source": [
    "tqdm.pandas(desc=\"Clean text\")\n",
    "lst_stopwords = nltk.corpus.stopwords.words(\"english\")\n",
    "\n",
    "corpus_combo[\"txt_clean\"] = corpus_combo[\"txt\"].progress_apply(lambda x: \n",
    "    utils_preprocess_text(x, lst_stopwords))\n",
    "corpus_combo.sample(5)"
   ]
  },
  {
   "cell_type": "markdown",
   "metadata": {},
   "source": [
    "### Ouput the pre-processed data"
   ]
  },
  {
   "cell_type": "code",
   "execution_count": 22,
   "metadata": {},
   "outputs": [],
   "source": [
    "# 6/10/22 Shiu\n",
    "# Tried the following but does not work. Got FileNotFoundError. Turned out that\n",
    "# I cannot use relative path (i.e., ~/blah). Change work_dir to absolute path\n",
    "# and it works.\n",
    "corpus_combo_file = work_dir / 'corpus_combo'\n",
    "corpus_combo_json = corpus_combo.to_json()\n",
    "with corpus_combo_file.open(\"w+\") as f:\n",
    "    json.dump(corpus_combo_json, f)"
   ]
  },
  {
   "cell_type": "markdown",
   "metadata": {},
   "source": [
    "Continue with text classification with `script_text_classify.ipynb`."
   ]
  },
  {
   "cell_type": "markdown",
   "metadata": {},
   "source": [
    "# __DEPRECATED__"
   ]
  },
  {
   "cell_type": "markdown",
   "metadata": {},
   "source": [
    "### Creating a dataframe with only the target columns"
   ]
  },
  {
   "cell_type": "code",
   "execution_count": 23,
   "metadata": {},
   "outputs": [
    {
     "data": {
      "text/plain": [
       "(86646, 2)"
      ]
     },
     "execution_count": 23,
     "metadata": {},
     "output_type": "execute_result"
    }
   ],
   "source": [
    "target_column   = [\"label\",\"txt\"]\n",
    "label_txt = corpus_combo[target_column]\n",
    "label_txt.shape"
   ]
  },
  {
   "cell_type": "code",
   "execution_count": 24,
   "metadata": {},
   "outputs": [
    {
     "data": {
      "text/html": [
       "<div>\n",
       "<style scoped>\n",
       "    .dataframe tbody tr th:only-of-type {\n",
       "        vertical-align: middle;\n",
       "    }\n",
       "\n",
       "    .dataframe tbody tr th {\n",
       "        vertical-align: top;\n",
       "    }\n",
       "\n",
       "    .dataframe thead th {\n",
       "        text-align: right;\n",
       "    }\n",
       "</style>\n",
       "<table border=\"1\" class=\"dataframe\">\n",
       "  <thead>\n",
       "    <tr style=\"text-align: right;\">\n",
       "      <th></th>\n",
       "      <th>label</th>\n",
       "      <th>txt</th>\n",
       "    </tr>\n",
       "  </thead>\n",
       "  <tbody>\n",
       "    <tr>\n",
       "      <th>344282</th>\n",
       "      <td>0</td>\n",
       "      <td>From tobacco to health care and beyond--a crit...</td>\n",
       "    </tr>\n",
       "    <tr>\n",
       "      <th>170289</th>\n",
       "      <td>0</td>\n",
       "      <td>[Optimization against the occurrence of termin...</td>\n",
       "    </tr>\n",
       "    <tr>\n",
       "      <th>824387</th>\n",
       "      <td>1</td>\n",
       "      <td>Biphenyl-type neolignans from Magnolia officin...</td>\n",
       "    </tr>\n",
       "    <tr>\n",
       "      <th>1127939</th>\n",
       "      <td>1</td>\n",
       "      <td>Seed-specific transcription factor HSFA9 links...</td>\n",
       "    </tr>\n",
       "    <tr>\n",
       "      <th>1190421</th>\n",
       "      <td>1</td>\n",
       "      <td>Ethylene Receptors Signal via a Noncanonical P...</td>\n",
       "    </tr>\n",
       "    <tr>\n",
       "      <th>268714</th>\n",
       "      <td>1</td>\n",
       "      <td>Resistance gene candidates identified by PCR w...</td>\n",
       "    </tr>\n",
       "    <tr>\n",
       "      <th>88586</th>\n",
       "      <td>0</td>\n",
       "      <td>MSH/ACTH 4-10 and aging effects on delayed res...</td>\n",
       "    </tr>\n",
       "    <tr>\n",
       "      <th>1205665</th>\n",
       "      <td>0</td>\n",
       "      <td>Environmental metabolomics with data science f...</td>\n",
       "    </tr>\n",
       "    <tr>\n",
       "      <th>916935</th>\n",
       "      <td>0</td>\n",
       "      <td>High HIV prevalence and associated factors in ...</td>\n",
       "    </tr>\n",
       "    <tr>\n",
       "      <th>202941</th>\n",
       "      <td>1</td>\n",
       "      <td>Expression of ferredoxin-dependent glutamate s...</td>\n",
       "    </tr>\n",
       "  </tbody>\n",
       "</table>\n",
       "</div>"
      ],
      "text/plain": [
       "         label                                                txt\n",
       "344282       0  From tobacco to health care and beyond--a crit...\n",
       "170289       0  [Optimization against the occurrence of termin...\n",
       "824387       1  Biphenyl-type neolignans from Magnolia officin...\n",
       "1127939      1  Seed-specific transcription factor HSFA9 links...\n",
       "1190421      1  Ethylene Receptors Signal via a Noncanonical P...\n",
       "268714       1  Resistance gene candidates identified by PCR w...\n",
       "88586        0  MSH/ACTH 4-10 and aging effects on delayed res...\n",
       "1205665      0  Environmental metabolomics with data science f...\n",
       "916935       0  High HIV prevalence and associated factors in ...\n",
       "202941       1  Expression of ferredoxin-dependent glutamate s..."
      ]
     },
     "execution_count": 24,
     "metadata": {},
     "output_type": "execute_result"
    }
   ],
   "source": [
    "label_txt.sample(10)"
   ]
  }
 ],
 "metadata": {
  "interpreter": {
   "hash": "3dd3af54f5fe992bccbd23931b262c263c643af7052ca64c3b616d552ec510a8"
  },
  "kernelspec": {
   "display_name": "Python 3.10.4 ('tf': conda)",
   "language": "python",
   "name": "python3"
  },
  "language_info": {
   "codemirror_mode": {
    "name": "ipython",
    "version": 3
   },
   "file_extension": ".py",
   "mimetype": "text/x-python",
   "name": "python",
   "nbconvert_exporter": "python",
   "pygments_lexer": "ipython3",
   "version": "3.10.4"
  }
 },
 "nbformat": 4,
 "nbformat_minor": 4
}
