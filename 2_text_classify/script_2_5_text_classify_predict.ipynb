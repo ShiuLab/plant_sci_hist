{
 "cells": [
  {
   "cell_type": "markdown",
   "metadata": {},
   "source": [
    "# __Step 5: Make predictions and interpret model__\n",
    "\n",
    "The best model is Word2Vec:\n",
    "- Because the performance is all very similar, for interpretability purpose, choose to focus on the Word2Vec-based model with ` [min_count, window, n_gram] = [20, 8, 3]`. \n",
    "- This way there is a smaller set of eature (because min_count is high) that include tri-grams (so 3 word combinations that help with interpretation).\n",
    "\n",
    "Also for interpretability purpose:\n",
    "- Tf-Idf with `[max_features, ngram_range, p_threshold]=[10000.0, (1, 3), 0.01]` are also examined.\n",
    "- This is because the Tf-Idf values is immediately interpretable and the model is based on XGBoost and I can get feature importance using SHAP.\n",
    "\n",
    "Goals: I am interested in:\n",
    "- Model interpretation\n",
    "  - Figure out how top words that define plant sciences are related to each other. \n",
    "  - See if there is certain date range, journal are more challenging to predict.\n",
    "- Make predictions of the entire corupus\n"
   ]
  },
  {
   "cell_type": "markdown",
   "metadata": {},
   "source": [
    "## ___Set up___"
   ]
  },
  {
   "cell_type": "markdown",
   "metadata": {},
   "source": [
    "### Module import"
   ]
  },
  {
   "cell_type": "code",
   "execution_count": 1,
   "metadata": {},
   "outputs": [],
   "source": [
    "import json\n",
    "import pandas as pd\n",
    "import numpy as np\n",
    "import pickle\n",
    "import sys\n",
    "import itertools\n",
    "from pathlib import Path\n",
    "\n",
    "from sklearn import model_selection, metrics\n",
    "\n",
    "## for word embedding with w2v\n",
    "import gensim\n",
    "\n",
    "from tensorflow.keras import models, layers, callbacks, preprocessing\n",
    "\n",
    "import script_2_3_text_classify_w2v as script23"
   ]
  },
  {
   "cell_type": "markdown",
   "metadata": {},
   "source": [
    "### Key variables"
   ]
  },
  {
   "cell_type": "code",
   "execution_count": 2,
   "metadata": {},
   "outputs": [],
   "source": [
    "# Reproducibility\n",
    "seed = 20220609\n",
    "\n",
    "# Setting paths\n",
    "work_dir   = Path.home() / \"projects/plant_sci_hist/2_text_classify\"\n",
    "\n",
    "os.chdir(work_dir)\n",
    "\n",
    "# Training data for interpretation purpose\n",
    "corpus_train = work_dir / \"corpus_train.json\"\n",
    "\n",
    "# The columns to focus on\n",
    "target_col = 'txt'\n",
    "\n",
    "# Trainded Word2Vec model, tokenizer, and vocab for getting embeddings\n",
    "w2v_name   = work_dir / f\"model_cln_w2v_20-8-3\"\n",
    "tok_name   = work_dir / f\"model_cln_w2v_token_20-8-3\"\n",
    "vocab_name = work_dir / f\"model_cln_w2v_vocab_20-8-3\"\n",
    "\n",
    "# Getting ngrams\n",
    "ngram = 3\n",
    "min_count = 20\n",
    "\n",
    "# DNN checkpoint path\n",
    "cp_filepath = work_dir / f\"model_cln_w2v_20-8-3_dnn\"\n",
    "\n",
    "# Corpus to make predictions for\n",
    "corpus_dir  = Path.home() / \"projects/plant_sci_hist/1_obtaining_corpus\"\n",
    "corpus_file = corpus_dir / \"pubmed_qualified.tsv\""
   ]
  },
  {
   "cell_type": "markdown",
   "metadata": {},
   "source": [
    "## ___Analysis of prediction outcome___"
   ]
  },
  {
   "cell_type": "markdown",
   "metadata": {},
   "source": [
    "### Load w2v model, tokenizer, and vocab\n",
    "\n",
    "Need:\n",
    "- W2V model\n",
    "- Tokenizer and vocab\n",
    "- Trained DNN model"
   ]
  },
  {
   "cell_type": "code",
   "execution_count": 3,
   "metadata": {},
   "outputs": [
    {
     "data": {
      "text/plain": [
       "<gensim.models.word2vec.Word2Vec at 0x7f03e69dbdc0>"
      ]
     },
     "execution_count": 3,
     "metadata": {},
     "output_type": "execute_result"
    }
   ],
   "source": [
    "# Load word2vec model\n",
    "with open(w2v_name, \"rb\") as f:\n",
    "  model_w2v = pickle.load(f)\n",
    "model_w2v"
   ]
  },
  {
   "cell_type": "code",
   "execution_count": 4,
   "metadata": {},
   "outputs": [],
   "source": [
    "# Load tokenzier and vocab\n",
    "with open(tok_name, \"rb\") as f:\n",
    "  tokenizer = pickle.load(f)\n",
    "\n",
    "with open(vocab_name, \"rb\") as f:\n",
    "  vocab = pickle.load(f)"
   ]
  },
  {
   "cell_type": "markdown",
   "metadata": {},
   "source": [
    "### Get training split"
   ]
  },
  {
   "cell_type": "code",
   "execution_count": 5,
   "metadata": {},
   "outputs": [],
   "source": [
    "with corpus_train.open(\"r+\") as f:\n",
    "  corpus_combo_json = json.load(f)"
   ]
  },
  {
   "cell_type": "markdown",
   "metadata": {},
   "source": [
    "## __Make predictions on the whole dataset__"
   ]
  },
  {
   "cell_type": "markdown",
   "metadata": {},
   "source": [
    "### Read corpus that needs to be predicted"
   ]
  },
  {
   "cell_type": "code",
   "execution_count": 6,
   "metadata": {},
   "outputs": [],
   "source": [
    "corpus_df_raw = pd.read_csv(corpus_file, delimiter='\\t')"
   ]
  },
  {
   "cell_type": "code",
   "execution_count": 7,
   "metadata": {},
   "outputs": [],
   "source": [
    "# Drop duplicated rows\n",
    "corpus_df = corpus_df_raw[corpus_df_raw.duplicated() == False]\n",
    "\n",
    "# Rid of all records with NAs\n",
    "corpus_df = corpus_df.dropna(axis=0)\n",
    "\n",
    "# Create a new column 'txt' which is concatenated between 'Title' and 'Abstract'\n",
    "corpus_df['txt'] = corpus_df['Title'] + \" \" + corpus_df['Abstract']"
   ]
  },
  {
   "cell_type": "code",
   "execution_count": 8,
   "metadata": {},
   "outputs": [
    {
     "data": {
      "text/html": [
       "<div>\n",
       "<style scoped>\n",
       "    .dataframe tbody tr th:only-of-type {\n",
       "        vertical-align: middle;\n",
       "    }\n",
       "\n",
       "    .dataframe tbody tr th {\n",
       "        vertical-align: top;\n",
       "    }\n",
       "\n",
       "    .dataframe thead th {\n",
       "        text-align: right;\n",
       "    }\n",
       "</style>\n",
       "<table border=\"1\" class=\"dataframe\">\n",
       "  <thead>\n",
       "    <tr style=\"text-align: right;\">\n",
       "      <th></th>\n",
       "      <th>PMID</th>\n",
       "      <th>Date</th>\n",
       "      <th>Journal</th>\n",
       "      <th>Title</th>\n",
       "      <th>Abstract</th>\n",
       "      <th>QualifiedName</th>\n",
       "      <th>txt</th>\n",
       "    </tr>\n",
       "  </thead>\n",
       "  <tbody>\n",
       "    <tr>\n",
       "      <th>0</th>\n",
       "      <td>36</td>\n",
       "      <td>1975-11-01</td>\n",
       "      <td>The British journal of nutrition</td>\n",
       "      <td>The effects of processing of barley-based supp...</td>\n",
       "      <td>1. In one experiment the effect on rumen pH of...</td>\n",
       "      <td>barley</td>\n",
       "      <td>The effects of processing of barley-based supp...</td>\n",
       "    </tr>\n",
       "    <tr>\n",
       "      <th>1</th>\n",
       "      <td>52</td>\n",
       "      <td>1975-12-02</td>\n",
       "      <td>Biochemistry</td>\n",
       "      <td>Evidence of the involvement of a 50S ribosomal...</td>\n",
       "      <td>The functional role of the Bacillus stearother...</td>\n",
       "      <td>rose</td>\n",
       "      <td>Evidence of the involvement of a 50S ribosomal...</td>\n",
       "    </tr>\n",
       "    <tr>\n",
       "      <th>2</th>\n",
       "      <td>60</td>\n",
       "      <td>1975-12-11</td>\n",
       "      <td>Biochimica et biophysica acta</td>\n",
       "      <td>The reaction between the superoxide anion radi...</td>\n",
       "      <td>1. The superoxide anion radical (O2-) reacts w...</td>\n",
       "      <td>tuna</td>\n",
       "      <td>The reaction between the superoxide anion radi...</td>\n",
       "    </tr>\n",
       "  </tbody>\n",
       "</table>\n",
       "</div>"
      ],
      "text/plain": [
       "  PMID        Date                           Journal  \\\n",
       "0   36  1975-11-01  The British journal of nutrition   \n",
       "1   52  1975-12-02                      Biochemistry   \n",
       "2   60  1975-12-11     Biochimica et biophysica acta   \n",
       "\n",
       "                                               Title  \\\n",
       "0  The effects of processing of barley-based supp...   \n",
       "1  Evidence of the involvement of a 50S ribosomal...   \n",
       "2  The reaction between the superoxide anion radi...   \n",
       "\n",
       "                                            Abstract QualifiedName  \\\n",
       "0  1. In one experiment the effect on rumen pH of...        barley   \n",
       "1  The functional role of the Bacillus stearother...          rose   \n",
       "2  1. The superoxide anion radical (O2-) reacts w...          tuna   \n",
       "\n",
       "                                                 txt  \n",
       "0  The effects of processing of barley-based supp...  \n",
       "1  Evidence of the involvement of a 50S ribosomal...  \n",
       "2  The reaction between the superoxide anion radi...  "
      ]
     },
     "execution_count": 8,
     "metadata": {},
     "output_type": "execute_result"
    }
   ],
   "source": [
    "corpus_df.head(3)"
   ]
  },
  {
   "cell_type": "code",
   "execution_count": 9,
   "metadata": {},
   "outputs": [
    {
     "data": {
      "text/plain": [
       "'The effects of processing of barley-based supplements on rumen pH, rate of digestion of voluntary intake of dried grass in sheep. 1. In one experiment the effect on rumen pH of feeding with restricted amounts of whole or pelleted barley was studied. With whole barley there was little variation in rumen pH associated with feeding time, but with pelleted barley the pH decreased from about 7-0 before feeding to about 5-3, 2--3 h after feeding. 2. The rate of disappearance of dried grass during incubation in the rumens of sheep receiving either whole or pelleted barley was studied in a second experiment. After 24 h incubation only 423 mg/g incubated had disappeared in the rumen of sheep receiving pelleted barley while 625 mg/g incubated had disappeared when it was incubated in the rumen of sheep receiving whole barley. 3. The voluntary intake of dried grass of lambs was studied in a third experiment when they received supplements of either 25 or 50 g whole or pelleted barley/kg live weight 0-75. At the high level, pelleted barley reduced intake of dried grass by 534 g/kg but whole barley reduced it by only 352 g/kg. The digestibility of acid-detergent fibre was reduced more by pelleted barley than by whole barley but there was a tendency for a small increase in digestibility of the barley due to processing. 4. The implications of these findings on supplementation of roughages with cereals are discussed.'"
      ]
     },
     "execution_count": 9,
     "metadata": {},
     "output_type": "execute_result"
    }
   ],
   "source": [
    "corpus_df['txt'][0]"
   ]
  },
  {
   "cell_type": "markdown",
   "metadata": {},
   "source": [
    "### Get word embeddings, w2v feature matrix using corpus"
   ]
  },
  {
   "cell_type": "code",
   "execution_count": 10,
   "metadata": {},
   "outputs": [
    {
     "name": "stdout",
     "output_type": "stream",
     "text": [
      "    load ngrams\n"
     ]
    }
   ],
   "source": [
    "# Get ngrams\n",
    "X        = corpus_df[target_col]\n",
    "X_ngrams = script23.get_ngram(X, ngram, min_count, \"train\", work_dir=work_dir)"
   ]
  },
  {
   "cell_type": "code",
   "execution_count": null,
   "metadata": {},
   "outputs": [],
   "source": [
    "# Get embeddings\n",
    "embeddings, X_w2v = script23.get_embeddings(X, model_w2v, tokenizer, vocab)"
   ]
  },
  {
   "cell_type": "markdown",
   "metadata": {},
   "source": [
    "### Load model"
   ]
  },
  {
   "cell_type": "code",
   "execution_count": null,
   "metadata": {},
   "outputs": [],
   "source": [
    "model = script23.get_w2v_emb_model(embeddings)\n",
    "model.load_weights(cp_filepath)"
   ]
  },
  {
   "cell_type": "markdown",
   "metadata": {},
   "source": [
    "\n",
    "### Make predictions "
   ]
  },
  {
   "cell_type": "code",
   "execution_count": null,
   "metadata": {},
   "outputs": [],
   "source": [
    "y_pred_prob   = model.predict(X_w2v)\n",
    "dic_y_mapping = {n:label for n,label in enumerate(np.unique([0,1]))}\n",
    "y_pred        = [dic_y_mapping[np.argmax(pred)] for pred in y_pred_prob]\n"
   ]
  },
  {
   "cell_type": "code",
   "execution_count": null,
   "metadata": {},
   "outputs": [],
   "source": []
  }
 ],
 "metadata": {
  "kernelspec": {
   "display_name": "Python 3.10.4 ('tf')",
   "language": "python",
   "name": "python3"
  },
  "language_info": {
   "codemirror_mode": {
    "name": "ipython",
    "version": 3
   },
   "file_extension": ".py",
   "mimetype": "text/x-python",
   "name": "python",
   "nbconvert_exporter": "python",
   "pygments_lexer": "ipython3",
   "version": "3.10.4"
  },
  "orig_nbformat": 4,
  "vscode": {
   "interpreter": {
    "hash": "3dd3af54f5fe992bccbd23931b262c263c643af7052ca64c3b616d552ec510a8"
   }
  }
 },
 "nbformat": 4,
 "nbformat_minor": 2
}
