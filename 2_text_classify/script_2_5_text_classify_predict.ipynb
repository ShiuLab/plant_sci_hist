{
 "cells": [
  {
   "cell_type": "markdown",
   "metadata": {},
   "source": [
    "# __Step 2.5: Make predictions__\n",
    "\n",
    "The best model is Word2Vec:\n",
    "- Because the performance is all very similar, for interpretability purpose, choose to focus on the Word2Vec-based model with ` [min_count, window, n_gram] = [20, 8, 3]`. \n",
    "- This way there is a smaller set of eature (because min_count is high) that include tri-grams (so 3 word combinations that help with interpretation).\n",
    "\n",
    "Goal\n",
    "- Make predictions of the entire corupus\n"
   ]
  },
  {
   "cell_type": "markdown",
   "metadata": {},
   "source": [
    "## ___Set up___"
   ]
  },
  {
   "cell_type": "markdown",
   "metadata": {},
   "source": [
    "### Module import"
   ]
  },
  {
   "cell_type": "code",
   "execution_count": 1,
   "metadata": {},
   "outputs": [],
   "source": [
    "import json, tqdm\n",
    "import pandas as pd\n",
    "import numpy as np\n",
    "import seaborn as sns\n",
    "import pickle\n",
    "import tensorflow as tf\n",
    "import matplotlib.pyplot as plt\n",
    "from sklearn import metrics\n",
    "from pathlib import Path\n",
    "import script_2_3_text_classify_w2v as script23"
   ]
  },
  {
   "cell_type": "markdown",
   "metadata": {},
   "source": [
    "### Key variables"
   ]
  },
  {
   "cell_type": "code",
   "execution_count": 2,
   "metadata": {},
   "outputs": [],
   "source": [
    "# Reproducibility\n",
    "seed = 20220609\n",
    "\n",
    "# Setting paths\n",
    "work_dir   = Path.home() / \"projects/plant_sci_hist/2_text_classify\"\n",
    "\n",
    "os.chdir(work_dir)\n",
    "\n",
    "# Training data for interpretation purpose\n",
    "corpus_train = work_dir / \"corpus_train.json\"\n",
    "\n",
    "###\n",
    "# subfolders for different components of this subproject (2_text_classify)\n",
    "dir_22 = work_dir / \"2_2_model_tf_tfidf\"\n",
    "dir_23 = work_dir / \"2_3_model_w2v\"\n",
    "dir_24 = work_dir / \"2_4_model_bert\"\n",
    "dir_25 = work_dir / '2_5_predict_pubmed'\n",
    "\n",
    "###\n",
    "# The columns to focus on\n",
    "target_col = 'txt'\n",
    "\n",
    "###\n",
    "# w2v model and related files\n",
    "# Trainded Word2Vec model, tokenizer, and vocab for getting embeddings\n",
    "w2v_name   = dir_23 / f\"model_cln_w2v_20-8-3\"\n",
    "tok_name   = dir_23 / f\"model_cln_w2v_token_20-8-3\"\n",
    "vocab_name = dir_23 / f\"model_cln_w2v_vocab_20-8-3\"\n",
    "\n",
    "# Getting ngrams\n",
    "ngram = 3\n",
    "min_count = 20\n",
    "\n",
    "# DNN checkpoint path\n",
    "cp_filepath = dir_23 / f\"model_cln_w2v_20-8-3_dnn\"\n",
    "\n",
    "###\n",
    "# Corpus to make predictions for\n",
    "corpus_dir  = Path.home() / \"projects/plant_sci_hist/1_obtaining_corpus\"\n",
    "corpus_file = corpus_dir / \"pubmed_qualified.tsv\"\n",
    "\n",
    "# Output the positive predictions\n",
    "# The Unnamed: 0 column contains the indices of docs in pubmed_qualified.tsv\n",
    "corpus_df_pos_file = dir_25 / \"corpus_plant_421658.tsv.gz\""
   ]
  },
  {
   "cell_type": "markdown",
   "metadata": {},
   "source": [
    "### Create dir and move files"
   ]
  },
  {
   "cell_type": "code",
   "execution_count": 3,
   "metadata": {},
   "outputs": [],
   "source": [
    "dir_22.mkdir(exist_ok=True)\n",
    "dir_23.mkdir(exist_ok=True)\n",
    "dir_24.mkdir(exist_ok=True)\n",
    "dir_25.mkdir(exist_ok=True)\n"
   ]
  },
  {
   "cell_type": "code",
   "execution_count": 4,
   "metadata": {},
   "outputs": [
    {
     "name": "stdout",
     "output_type": "stream",
     "text": [
      "mv: cannot move '2_2_model_tf_tfidf' to a subdirectory of itself, '/home/shius/projects/plant_sci_hist/2_text_classify/2_2_model_tf_tfidf/2_2_model_tf_tfidf'\n",
      "mv: cannot move '2_3_model_w2v' to a subdirectory of itself, '/home/shius/projects/plant_sci_hist/2_text_classify/2_3_model_w2v/2_3_model_w2v'\n",
      "mv: cannot move '2_4_model_bert' to a subdirectory of itself, '/home/shius/projects/plant_sci_hist/2_text_classify/2_4_model_bert/2_4_model_bert'\n",
      "mv: cannot stat 'model_cln_ngrams*': No such file or directory\n",
      "mv: cannot stat 'corpus_*_pred': No such file or directory\n"
     ]
    }
   ],
   "source": [
    "!mv *_tf* {str(dir_22)}\n",
    "!mv *w2v* {str(dir_23)}\n",
    "!mv *bert* {str(dir_24)}\n",
    "!mv model_cln_ngrams* {str(dir_23)} \n",
    "!mv corpus_*_pred {str(dir_23)}"
   ]
  },
  {
   "cell_type": "markdown",
   "metadata": {},
   "source": [
    "## ___Load models and other objects___"
   ]
  },
  {
   "cell_type": "markdown",
   "metadata": {},
   "source": [
    "### Load w2v model, tokenizer, and vocab\n",
    "\n",
    "Need:\n",
    "- W2V model\n",
    "- Tokenizer and vocab\n",
    "- Trained DNN model"
   ]
  },
  {
   "cell_type": "code",
   "execution_count": 5,
   "metadata": {},
   "outputs": [
    {
     "data": {
      "text/plain": [
       "<gensim.models.word2vec.Word2Vec at 0x7fe0682d48e0>"
      ]
     },
     "execution_count": 5,
     "metadata": {},
     "output_type": "execute_result"
    }
   ],
   "source": [
    "# Load word2vec model\n",
    "with open(w2v_name, \"rb\") as f:\n",
    "  model_w2v = pickle.load(f)\n",
    "model_w2v"
   ]
  },
  {
   "cell_type": "code",
   "execution_count": 6,
   "metadata": {},
   "outputs": [],
   "source": [
    "# Load tokenzier and vocab\n",
    "with open(tok_name, \"rb\") as f:\n",
    "  tokenizer = pickle.load(f)\n",
    "\n",
    "with open(vocab_name, \"rb\") as f:\n",
    "  vocab = pickle.load(f)"
   ]
  },
  {
   "cell_type": "markdown",
   "metadata": {},
   "source": [
    "### Get training/testing data"
   ]
  },
  {
   "cell_type": "code",
   "execution_count": 7,
   "metadata": {},
   "outputs": [],
   "source": [
    "# Not needed...\n",
    "with corpus_train.open(\"r+\") as f:\n",
    "  corpus_combo_json = json.load(f)"
   ]
  },
  {
   "cell_type": "markdown",
   "metadata": {},
   "source": [
    "## ___Make predictions on the whole dataset___"
   ]
  },
  {
   "cell_type": "markdown",
   "metadata": {},
   "source": [
    "### Read corpus that needs to be predicted"
   ]
  },
  {
   "cell_type": "code",
   "execution_count": 8,
   "metadata": {},
   "outputs": [],
   "source": [
    "corpus_df_raw = pd.read_csv(corpus_file, delimiter='\\t')"
   ]
  },
  {
   "cell_type": "code",
   "execution_count": 9,
   "metadata": {},
   "outputs": [
    {
     "data": {
      "text/plain": [
       "(1497511, 6)"
      ]
     },
     "execution_count": 9,
     "metadata": {},
     "output_type": "execute_result"
    }
   ],
   "source": [
    "corpus_df_raw.shape"
   ]
  },
  {
   "cell_type": "code",
   "execution_count": 10,
   "metadata": {},
   "outputs": [
    {
     "data": {
      "text/plain": [
       "(1385417, 7)"
      ]
     },
     "execution_count": 10,
     "metadata": {},
     "output_type": "execute_result"
    }
   ],
   "source": [
    "# Drop duplicated rows\n",
    "corpus_df = corpus_df_raw[corpus_df_raw.duplicated() == False]\n",
    "\n",
    "# Rid of all records with NAs\n",
    "corpus_df = corpus_df.dropna(axis=0)\n",
    "\n",
    "# Create a new column 'txt' which is concatenated between 'Title' and 'Abstract'\n",
    "corpus_df['txt'] = corpus_df['Title'] + \" \" + corpus_df['Abstract']\n",
    "corpus_df.shape"
   ]
  },
  {
   "cell_type": "code",
   "execution_count": 11,
   "metadata": {},
   "outputs": [
    {
     "name": "stdout",
     "output_type": "stream",
     "text": [
      "Correction/erratum/withdrawn: 699\n"
     ]
    }
   ],
   "source": [
    "# Remove corrections and erratum\n",
    "corpus_df_titles     = corpus_df['Title']\n",
    "#corpus_df_titles_idx = corpus_df_titles.index\n",
    "corpus_df_titles_val = corpus_df_titles.values\n",
    "\n",
    "# Check for title with issues\n",
    "remove_tokens = [\"correction to:\", \"correction:\",  \n",
    "                 \"erratum\", \"erratum:\",\n",
    "                 \"withdrawn\", \"withdrawn:\"]\n",
    "\n",
    "reg_article_flags = [] # a list of true (should remain) or false (remove)\n",
    "count_corrections = 0\n",
    "for title in corpus_df_titles_val:\n",
    "  reg_article_flag = 1\n",
    "  title_lower = title.lower()\n",
    "  for remove_token in remove_tokens:\n",
    "    if title_lower.find(remove_token) != -1:\n",
    "      # Only remove this if \n",
    "      title_tokens = title_lower.split(\" \")\n",
    "      if remove_token == title_tokens[0] or \\\n",
    "         (len(title_tokens) > 1 and remove_token == title_tokens[1]):\n",
    "        #print(title)\n",
    "        reg_article_flag = 0\n",
    "        count_corrections +=1\n",
    "        break\n",
    "  reg_article_flags.append(reg_article_flag)\n",
    "\n",
    "print(\"Correction/erratum/withdrawn:\", count_corrections)"
   ]
  },
  {
   "cell_type": "code",
   "execution_count": 12,
   "metadata": {},
   "outputs": [
    {
     "data": {
      "text/plain": [
       "False    1384718\n",
       "True         699\n",
       "Name: reg_article, dtype: int64"
      ]
     },
     "execution_count": 12,
     "metadata": {},
     "output_type": "execute_result"
    }
   ],
   "source": [
    "corpus_df[\"reg_article\"] = reg_article_flags\n",
    "(corpus_df[\"reg_article\"] == 0).value_counts()"
   ]
  },
  {
   "cell_type": "code",
   "execution_count": 13,
   "metadata": {},
   "outputs": [
    {
     "data": {
      "text/plain": [
       "(1384718, 8)"
      ]
     },
     "execution_count": 13,
     "metadata": {},
     "output_type": "execute_result"
    }
   ],
   "source": [
    "corpus_df = corpus_df[corpus_df[\"reg_article\"] == 1]\n",
    "corpus_df.shape"
   ]
  },
  {
   "cell_type": "code",
   "execution_count": 14,
   "metadata": {},
   "outputs": [
    {
     "data": {
      "text/html": [
       "<div>\n",
       "<style scoped>\n",
       "    .dataframe tbody tr th:only-of-type {\n",
       "        vertical-align: middle;\n",
       "    }\n",
       "\n",
       "    .dataframe tbody tr th {\n",
       "        vertical-align: top;\n",
       "    }\n",
       "\n",
       "    .dataframe thead th {\n",
       "        text-align: right;\n",
       "    }\n",
       "</style>\n",
       "<table border=\"1\" class=\"dataframe\">\n",
       "  <thead>\n",
       "    <tr style=\"text-align: right;\">\n",
       "      <th></th>\n",
       "      <th>PMID</th>\n",
       "      <th>Date</th>\n",
       "      <th>Journal</th>\n",
       "      <th>Title</th>\n",
       "      <th>Abstract</th>\n",
       "      <th>QualifiedName</th>\n",
       "      <th>txt</th>\n",
       "      <th>reg_article</th>\n",
       "    </tr>\n",
       "  </thead>\n",
       "  <tbody>\n",
       "    <tr>\n",
       "      <th>0</th>\n",
       "      <td>36</td>\n",
       "      <td>1975-11-01</td>\n",
       "      <td>The British journal of nutrition</td>\n",
       "      <td>The effects of processing of barley-based supp...</td>\n",
       "      <td>1. In one experiment the effect on rumen pH of...</td>\n",
       "      <td>barley</td>\n",
       "      <td>The effects of processing of barley-based supp...</td>\n",
       "      <td>1</td>\n",
       "    </tr>\n",
       "    <tr>\n",
       "      <th>1</th>\n",
       "      <td>52</td>\n",
       "      <td>1975-12-02</td>\n",
       "      <td>Biochemistry</td>\n",
       "      <td>Evidence of the involvement of a 50S ribosomal...</td>\n",
       "      <td>The functional role of the Bacillus stearother...</td>\n",
       "      <td>rose</td>\n",
       "      <td>Evidence of the involvement of a 50S ribosomal...</td>\n",
       "      <td>1</td>\n",
       "    </tr>\n",
       "    <tr>\n",
       "      <th>2</th>\n",
       "      <td>60</td>\n",
       "      <td>1975-12-11</td>\n",
       "      <td>Biochimica et biophysica acta</td>\n",
       "      <td>The reaction between the superoxide anion radi...</td>\n",
       "      <td>1. The superoxide anion radical (O2-) reacts w...</td>\n",
       "      <td>tuna</td>\n",
       "      <td>The reaction between the superoxide anion radi...</td>\n",
       "      <td>1</td>\n",
       "    </tr>\n",
       "  </tbody>\n",
       "</table>\n",
       "</div>"
      ],
      "text/plain": [
       "  PMID        Date                           Journal  \\\n",
       "0   36  1975-11-01  The British journal of nutrition   \n",
       "1   52  1975-12-02                      Biochemistry   \n",
       "2   60  1975-12-11     Biochimica et biophysica acta   \n",
       "\n",
       "                                               Title  \\\n",
       "0  The effects of processing of barley-based supp...   \n",
       "1  Evidence of the involvement of a 50S ribosomal...   \n",
       "2  The reaction between the superoxide anion radi...   \n",
       "\n",
       "                                            Abstract QualifiedName  \\\n",
       "0  1. In one experiment the effect on rumen pH of...        barley   \n",
       "1  The functional role of the Bacillus stearother...          rose   \n",
       "2  1. The superoxide anion radical (O2-) reacts w...          tuna   \n",
       "\n",
       "                                                 txt  reg_article  \n",
       "0  The effects of processing of barley-based supp...            1  \n",
       "1  Evidence of the involvement of a 50S ribosomal...            1  \n",
       "2  The reaction between the superoxide anion radi...            1  "
      ]
     },
     "execution_count": 14,
     "metadata": {},
     "output_type": "execute_result"
    }
   ],
   "source": [
    "corpus_df.head(3)"
   ]
  },
  {
   "cell_type": "code",
   "execution_count": 15,
   "metadata": {},
   "outputs": [
    {
     "data": {
      "text/plain": [
       "'The effects of processing of barley-based supplements on rumen pH, rate of digestion of voluntary in'"
      ]
     },
     "execution_count": 15,
     "metadata": {},
     "output_type": "execute_result"
    }
   ],
   "source": [
    "corpus_df['txt'][0][:100]"
   ]
  },
  {
   "cell_type": "markdown",
   "metadata": {},
   "source": [
    "### Get word embeddings, w2v feature matrix using corpus"
   ]
  },
  {
   "cell_type": "code",
   "execution_count": 16,
   "metadata": {},
   "outputs": [],
   "source": [
    "# Specify the input corpus\n",
    "X = corpus_df[target_col]\n",
    "\n",
    "# Get ngrams: \n",
    "# ##### This is not necessary #####\n",
    "#X_ngrams = script23.get_ngram(X, ngram, min_count, \"train\", work_dir=work_dir)"
   ]
  },
  {
   "cell_type": "code",
   "execution_count": 17,
   "metadata": {},
   "outputs": [],
   "source": [
    "# Get embeddings: ~4 min\n",
    "embeddings, X_w2v = script23.get_embeddings(X, model_w2v, tokenizer, vocab)"
   ]
  },
  {
   "cell_type": "code",
   "execution_count": 18,
   "metadata": {},
   "outputs": [
    {
     "data": {
      "text/plain": [
       "((398412, 300), (1384718, 500))"
      ]
     },
     "execution_count": 18,
     "metadata": {},
     "output_type": "execute_result"
    }
   ],
   "source": [
    "embeddings.shape, X_w2v.shape"
   ]
  },
  {
   "cell_type": "code",
   "execution_count": 19,
   "metadata": {},
   "outputs": [
    {
     "data": {
      "text/plain": [
       "array([    1,     1,     1,   856,     1,   631,    65,     1,     1,\n",
       "       22713,   493,    43,     1,  3786,     1,  8018,  1214,     1,\n",
       "        4962,  1222], dtype=int32)"
      ]
     },
     "execution_count": 19,
     "metadata": {},
     "output_type": "execute_result"
    }
   ],
   "source": [
    "X_w2v[0][:20]"
   ]
  },
  {
   "cell_type": "markdown",
   "metadata": {},
   "source": [
    "### Load model"
   ]
  },
  {
   "cell_type": "code",
   "execution_count": 20,
   "metadata": {},
   "outputs": [
    {
     "name": "stderr",
     "output_type": "stream",
     "text": [
      "2022-07-07 12:42:44.032124: I tensorflow/stream_executor/cuda/cuda_gpu_executor.cc:922] could not open file to read NUMA node: /sys/bus/pci/devices/0000:09:00.0/numa_node\n",
      "Your kernel may have been built without NUMA support.\n",
      "2022-07-07 12:42:44.237712: I tensorflow/stream_executor/cuda/cuda_gpu_executor.cc:922] could not open file to read NUMA node: /sys/bus/pci/devices/0000:09:00.0/numa_node\n",
      "Your kernel may have been built without NUMA support.\n",
      "2022-07-07 12:42:44.238684: I tensorflow/stream_executor/cuda/cuda_gpu_executor.cc:922] could not open file to read NUMA node: /sys/bus/pci/devices/0000:09:00.0/numa_node\n",
      "Your kernel may have been built without NUMA support.\n",
      "2022-07-07 12:42:44.245272: I tensorflow/core/platform/cpu_feature_guard.cc:151] This TensorFlow binary is optimized with oneAPI Deep Neural Network Library (oneDNN) to use the following CPU instructions in performance-critical operations:  AVX2 FMA\n",
      "To enable them in other operations, rebuild TensorFlow with the appropriate compiler flags.\n",
      "2022-07-07 12:42:44.250702: I tensorflow/stream_executor/cuda/cuda_gpu_executor.cc:922] could not open file to read NUMA node: /sys/bus/pci/devices/0000:09:00.0/numa_node\n",
      "Your kernel may have been built without NUMA support.\n",
      "2022-07-07 12:42:44.251801: I tensorflow/stream_executor/cuda/cuda_gpu_executor.cc:922] could not open file to read NUMA node: /sys/bus/pci/devices/0000:09:00.0/numa_node\n",
      "Your kernel may have been built without NUMA support.\n",
      "2022-07-07 12:42:44.253134: I tensorflow/stream_executor/cuda/cuda_gpu_executor.cc:922] could not open file to read NUMA node: /sys/bus/pci/devices/0000:09:00.0/numa_node\n",
      "Your kernel may have been built without NUMA support.\n",
      "2022-07-07 12:42:46.196927: I tensorflow/stream_executor/cuda/cuda_gpu_executor.cc:922] could not open file to read NUMA node: /sys/bus/pci/devices/0000:09:00.0/numa_node\n",
      "Your kernel may have been built without NUMA support.\n",
      "2022-07-07 12:42:46.198544: I tensorflow/stream_executor/cuda/cuda_gpu_executor.cc:922] could not open file to read NUMA node: /sys/bus/pci/devices/0000:09:00.0/numa_node\n",
      "Your kernel may have been built without NUMA support.\n",
      "2022-07-07 12:42:46.198630: I tensorflow/core/common_runtime/gpu/gpu_device.cc:1609] Could not identify NUMA node of platform GPU id 0, defaulting to 0.  Your kernel may not have been built with NUMA support.\n",
      "2022-07-07 12:42:46.199756: I tensorflow/stream_executor/cuda/cuda_gpu_executor.cc:922] could not open file to read NUMA node: /sys/bus/pci/devices/0000:09:00.0/numa_node\n",
      "Your kernel may have been built without NUMA support.\n",
      "2022-07-07 12:42:46.200638: I tensorflow/core/common_runtime/gpu/gpu_device.cc:1525] Created device /job:localhost/replica:0/task:0/device:GPU:0 with 21628 MB memory:  -> device: 0, name: NVIDIA GeForce RTX 3090, pci bus id: 0000:09:00.0, compute capability: 8.6\n"
     ]
    }
   ],
   "source": [
    "model_emb = tf.keras.models.load_model(cp_filepath)"
   ]
  },
  {
   "cell_type": "markdown",
   "metadata": {},
   "source": [
    "\n",
    "### Make predictions "
   ]
  },
  {
   "cell_type": "code",
   "execution_count": 21,
   "metadata": {},
   "outputs": [
    {
     "name": "stderr",
     "output_type": "stream",
     "text": [
      "2022-07-07 12:43:08.746335: I tensorflow/stream_executor/cuda/cuda_blas.cc:1786] TensorFloat-32 will be used for the matrix multiplication. This will only be logged once.\n",
      "2022-07-07 12:43:10.399660: I tensorflow/stream_executor/cuda/cuda_dnn.cc:368] Loaded cuDNN version 8201\n"
     ]
    }
   ],
   "source": [
    "# This takes a long time so save the prediction and prediction prob to a file\n",
    "# ~52 min\n",
    "y_pred_prob   = model_emb.predict(X_w2v)\n",
    "dic_y_mapping = {n:label for n,label in enumerate(np.unique([0,1]))}\n",
    "y_pred        = [dic_y_mapping[np.argmax(pred)] for pred in y_pred_prob]"
   ]
  },
  {
   "cell_type": "code",
   "execution_count": 22,
   "metadata": {},
   "outputs": [
    {
     "data": {
      "text/plain": [
       "1384718"
      ]
     },
     "execution_count": 22,
     "metadata": {},
     "output_type": "execute_result"
    }
   ],
   "source": [
    "len(y_pred)"
   ]
  },
  {
   "cell_type": "code",
   "execution_count": 23,
   "metadata": {},
   "outputs": [
    {
     "data": {
      "text/plain": [
       "(1384718, 10)"
      ]
     },
     "execution_count": 23,
     "metadata": {},
     "output_type": "execute_result"
    }
   ],
   "source": [
    "corpus_df[\"y_prob\"] = y_pred_prob[:,1]\n",
    "corpus_df[\"y_pred\"] = y_pred\n",
    "corpus_df.shape"
   ]
  },
  {
   "cell_type": "code",
   "execution_count": 24,
   "metadata": {},
   "outputs": [
    {
     "data": {
      "text/plain": [
       "0    963060\n",
       "1    421658\n",
       "Name: y_pred, dtype: int64"
      ]
     },
     "execution_count": 24,
     "metadata": {},
     "output_type": "execute_result"
    }
   ],
   "source": [
    "corpus_df['y_pred'].value_counts()"
   ]
  },
  {
   "cell_type": "code",
   "execution_count": 25,
   "metadata": {},
   "outputs": [],
   "source": [
    "#Save prediction file\n",
    "corpus_df_file = dir_25/f\"pubmed_qual_{corpus_df.shape[0]}_w2v_pred_prob.tsv.gz\"\n",
    "corpus_df.to_csv(corpus_df_file, sep='\\t', compression='gzip')"
   ]
  },
  {
   "cell_type": "code",
   "execution_count": 26,
   "metadata": {},
   "outputs": [],
   "source": [
    "### Consolidate positive predictions into a compressed dataframe\n",
    "corpus_df[corpus_df['y_pred'] == 1].to_csv(corpus_df_pos_file, sep='\\t', \n",
    "                                                            compression='gzip')"
   ]
  },
  {
   "cell_type": "markdown",
   "metadata": {},
   "source": [
    "### Plot probability distribution"
   ]
  },
  {
   "cell_type": "code",
   "execution_count": 27,
   "metadata": {},
   "outputs": [
    {
     "data": {
      "image/png": "[encoded data removed]",
      "text/plain": [
       "<Figure size 576x576 with 1 Axes>"
      ]
     },
     "metadata": {
      "needs_background": "light"
     },
     "output_type": "display_data"
    }
   ],
   "source": [
    "plt.figure(figsize=(8,8))\n",
    "sns.histplot(data=corpus_df, x=\"y_prob\", hue=\"y_pred\", bins=200)\n",
    "plt.savefig(dir_25 / 'figure_pubmed_qual_1384718_w2v_pred_prob.pdf')"
   ]
  },
  {
   "cell_type": "markdown",
   "metadata": {},
   "source": [
    "## ___Check article recovery from other plant journals___"
   ]
  },
  {
   "cell_type": "markdown",
   "metadata": {},
   "source": [
    "### Select journals and get tpr\n",
    "\n",
    "- Plant science journals with >2,000 retrieved pubmed records were used for training.\n",
    "- There are many other plant science journals not covered, particularly those not in molecular plant science, include:\n",
    "  - Current opinion in plant biology,1806\n",
    "  - Trends in plant science,1723\n",
    "  - Functional plant biology : FPB,1717\n",
    "  - Molecular plant pathology,1573\n",
    "  - Molecular plant,1141\n",
    "  - Journal of integrative plant biology,1092\n",
    "  - Journal of plant research,1032\n",
    "  - Physiology and molecular biology of plants : an international journal of functional plant biology,830\n",
    "  - Nature plants,538\n",
    "  - The plant pathology journal,443\n",
    "  - Annual review of plant biology,417\n",
    "  - The plant genome,321"
   ]
  },
  {
   "cell_type": "code",
   "execution_count": 28,
   "metadata": {},
   "outputs": [],
   "source": [
    "# positive journals not used for training\n",
    "j_positive_nt = [\n",
    "  'Current opinion in plant biology',\n",
    "  'Trends in plant science',\n",
    "  'Functional plant biology : FPB',\n",
    "  'Molecular plant pathology',\n",
    "  'Molecular plant',\n",
    "  'Journal of integrative plant biology',\n",
    "  'Journal of plant research',\n",
    "  'Physiology and molecular biology of plants : an international journal of '+\\\n",
    "    'functional plant biology',\n",
    "  'Nature plants',\n",
    "  'The plant pathology journal',\n",
    "  'Annual review of plant biology',\n",
    "  'The plant genome']"
   ]
  },
  {
   "cell_type": "code",
   "execution_count": 29,
   "metadata": {},
   "outputs": [
    {
     "data": {
      "text/html": [
       "<div>\n",
       "<style scoped>\n",
       "    .dataframe tbody tr th:only-of-type {\n",
       "        vertical-align: middle;\n",
       "    }\n",
       "\n",
       "    .dataframe tbody tr th {\n",
       "        vertical-align: top;\n",
       "    }\n",
       "\n",
       "    .dataframe thead th {\n",
       "        text-align: right;\n",
       "    }\n",
       "</style>\n",
       "<table border=\"1\" class=\"dataframe\">\n",
       "  <thead>\n",
       "    <tr style=\"text-align: right;\">\n",
       "      <th></th>\n",
       "      <th>PMID</th>\n",
       "      <th>Date</th>\n",
       "      <th>Journal</th>\n",
       "      <th>Title</th>\n",
       "      <th>Abstract</th>\n",
       "      <th>QualifiedName</th>\n",
       "      <th>txt</th>\n",
       "      <th>reg_article</th>\n",
       "      <th>y_prob</th>\n",
       "      <th>y_pred</th>\n",
       "    </tr>\n",
       "  </thead>\n",
       "  <tbody>\n",
       "    <tr>\n",
       "      <th>0</th>\n",
       "      <td>36</td>\n",
       "      <td>1975-11-01</td>\n",
       "      <td>The British journal of nutrition</td>\n",
       "      <td>The effects of processing of barley-based supp...</td>\n",
       "      <td>1. In one experiment the effect on rumen pH of...</td>\n",
       "      <td>barley</td>\n",
       "      <td>The effects of processing of barley-based supp...</td>\n",
       "      <td>1</td>\n",
       "      <td>0.162140</td>\n",
       "      <td>0</td>\n",
       "    </tr>\n",
       "    <tr>\n",
       "      <th>1</th>\n",
       "      <td>52</td>\n",
       "      <td>1975-12-02</td>\n",
       "      <td>Biochemistry</td>\n",
       "      <td>Evidence of the involvement of a 50S ribosomal...</td>\n",
       "      <td>The functional role of the Bacillus stearother...</td>\n",
       "      <td>rose</td>\n",
       "      <td>Evidence of the involvement of a 50S ribosomal...</td>\n",
       "      <td>1</td>\n",
       "      <td>0.286834</td>\n",
       "      <td>0</td>\n",
       "    </tr>\n",
       "  </tbody>\n",
       "</table>\n",
       "</div>"
      ],
      "text/plain": [
       "  PMID        Date                           Journal  \\\n",
       "0   36  1975-11-01  The British journal of nutrition   \n",
       "1   52  1975-12-02                      Biochemistry   \n",
       "\n",
       "                                               Title  \\\n",
       "0  The effects of processing of barley-based supp...   \n",
       "1  Evidence of the involvement of a 50S ribosomal...   \n",
       "\n",
       "                                            Abstract QualifiedName  \\\n",
       "0  1. In one experiment the effect on rumen pH of...        barley   \n",
       "1  The functional role of the Bacillus stearother...          rose   \n",
       "\n",
       "                                                 txt  reg_article    y_prob  \\\n",
       "0  The effects of processing of barley-based supp...            1  0.162140   \n",
       "1  Evidence of the involvement of a 50S ribosomal...            1  0.286834   \n",
       "\n",
       "   y_pred  \n",
       "0       0  \n",
       "1       0  "
      ]
     },
     "execution_count": 29,
     "metadata": {},
     "output_type": "execute_result"
    }
   ],
   "source": [
    "corpus_df.head(2)"
   ]
  },
  {
   "cell_type": "code",
   "execution_count": 30,
   "metadata": {},
   "outputs": [],
   "source": [
    "def get_tpr(corpus_df, j_to_check, ptype):\n",
    "  '''Plot prediciton probabilities of each journal\n",
    "  Args\n",
    "    df: dataframe with journal names, predictions\n",
    "    journal: name of journal in pubmed format\n",
    "    ptype: positive journal type, used for training or not\n",
    "  Outputs:\n",
    "    pdf: prediction probability histogram colored based on predicted classes\n",
    "  '''\n",
    "  # Count the predictions\n",
    "  j_to_check_list = []\n",
    "  for i in j_to_check:\n",
    "    j_df    = corpus_df[corpus_df['Journal'] == i]     # entries of a journal\n",
    "    i_count = j_df['y_pred'].value_counts()            # counts of y_pred, series\n",
    "    j_to_check_list.append(i_count)\n",
    "\n",
    "  print(\"Put the series into dataframe\")\n",
    "  j_to_check_df = pd.concat(j_to_check_list, axis=1)\n",
    "  j_to_check_df.columns = j_to_check\n",
    "  j_to_check_df = j_to_check_df.transpose()\n",
    "  print(j_to_check_df.head(2))\n",
    "  print(j_to_check_df[1].shape[0])\n",
    "\n",
    "  print(\"Add tpr column\")\n",
    "  tpr = []\n",
    "  for i in range(j_to_check_df[1].shape[0]):\n",
    "    tp = j_to_check_df[1].iloc[i]\n",
    "    fn = j_to_check_df[0].iloc[i]\n",
    "    tpr.append(tp/(tp+fn))\n",
    "  j_to_check_df['tpr'] = tpr\n",
    "\n",
    "  print(\"Draw and save bar plot\")\n",
    "  sns.barplot(data=j_to_check_df, x='tpr', y=j_to_check_df.index)\n",
    "\n",
    "  # Prevent trucated text\n",
    "  # https://stackoverflow.com/questions/45239261/matplotlib-savefig-text-chopped-off\n",
    "  plt.savefig(\n",
    "    dir_25 / f'figure_pubmed_w2v_pred_prob_{ptype}_journal_check_fdr.pdf',\n",
    "    bbox_inches = \"tight\")\n",
    "\n",
    "  return j_to_check_df"
   ]
  },
  {
   "cell_type": "code",
   "execution_count": 31,
   "metadata": {},
   "outputs": [
    {
     "name": "stdout",
     "output_type": "stream",
     "text": [
      "Put the series into dataframe\n",
      "                                     1    0\n",
      "Current opinion in plant biology  1636  170\n",
      "Trends in plant science           1450  273\n",
      "12\n",
      "Add tpr column\n",
      "Draw and save bar plot\n"
     ]
    },
    {
     "data": {
      "image/png": "[encoded data removed]",
      "text/plain": [
       "<Figure size 432x288 with 1 Axes>"
      ]
     },
     "metadata": {
      "needs_background": "light"
     },
     "output_type": "display_data"
    }
   ],
   "source": [
    "j_positive_nt_df = get_tpr(corpus_df, j_positive_nt, \"not-training\")"
   ]
  },
  {
   "cell_type": "code",
   "execution_count": 32,
   "metadata": {},
   "outputs": [],
   "source": [
    "def plot_pdf(df, df_tpr, journal, ptype):\n",
    "  '''Plot prediciton probabilities of each journal\n",
    "  Args\n",
    "    df: dataframe with citations as rows, with columns containing journal names,\n",
    "      predictions, prediction probabilities, among others\n",
    "    df_tpr: dataframe with journals as index and a column with tpr values\n",
    "    journal: name of journal in pubmed format\n",
    "    ptype: positive journal type, used for training or not\n",
    "  Outputs:\n",
    "    pdf: prediction probability histogram colored based on predicted classes\n",
    "  '''\n",
    "  df_j   = df[df['Journal'] == journal]\n",
    "  j_name = \"-\".join(journal.split(\":\")[0].strip().split(\" \"))\n",
    "  tpr    = round(df_tpr['tpr'].loc[journal], 2) \n",
    "\n",
    "  plt.figure(figsize=(4,4))\n",
    "  sns.histplot(data=df_j, x=\"y_prob\", hue=\"y_pred\", bins=100)\n",
    "  plt.title(j_name)\n",
    "  plt.text(0.1, 20, \"tpr=\" + str(tpr))\n",
    "  plt.savefig(dir_25 / f'figure_pubmed_w2v_pred_prob_{ptype}_{j_name}.pdf')"
   ]
  },
  {
   "cell_type": "code",
   "execution_count": 33,
   "metadata": {},
   "outputs": [
    {
     "ename": "NameError",
     "evalue": "name 'j_positive_more' is not defined",
     "output_type": "error",
     "traceback": [
      "\u001b[0;31m---------------------------------------------------------------------------\u001b[0m",
      "\u001b[0;31mNameError\u001b[0m                                 Traceback (most recent call last)",
      "\u001b[1;32m/home/shius/github/plant_sci_hist/2_text_classify/script_2_5_text_classify_predict.ipynb Cell 49'\u001b[0m in \u001b[0;36m<cell line: 1>\u001b[0;34m()\u001b[0m\n\u001b[0;32m----> <a href='vscode-notebook-cell://wsl%2Bubuntu-20.04/home/shius/github/plant_sci_hist/2_text_classify/script_2_5_text_classify_predict.ipynb#ch0000048vscode-remote?line=0'>1</a>\u001b[0m \u001b[39mfor\u001b[39;00m journal \u001b[39min\u001b[39;00m j_positive_more:\n\u001b[1;32m      <a href='vscode-notebook-cell://wsl%2Bubuntu-20.04/home/shius/github/plant_sci_hist/2_text_classify/script_2_5_text_classify_predict.ipynb#ch0000048vscode-remote?line=1'>2</a>\u001b[0m   plot_pdf(corpus_df, j_positive_nt_df, journal, \u001b[39m\"\u001b[39m\u001b[39mnot-training\u001b[39m\u001b[39m\"\u001b[39m)\n",
      "\u001b[0;31mNameError\u001b[0m: name 'j_positive_more' is not defined"
     ]
    }
   ],
   "source": [
    "for journal in j_positive_more:\n",
    "  plot_pdf(corpus_df, j_positive_nt_df, journal, \"not-training\")"
   ]
  },
  {
   "cell_type": "markdown",
   "metadata": {},
   "source": [
    "### Also check the positive journals used for training for comparison"
   ]
  },
  {
   "cell_type": "code",
   "execution_count": null,
   "metadata": {},
   "outputs": [],
   "source": [
    "# positive journal used for training\n",
    "j_pos_t = ['Plant physiology', 'Frontiers in plant science', 'Planta',\n",
    "             'The Plant journal : for cell and molecular biology', \n",
    "             'Journal of experimental botany', 'Plant molecular biology',\n",
    "             'The New phytologist', 'The Plant cell', 'Phytochemistry',\n",
    "             'Plant &amp; cell physiology', 'American journal of botany',\n",
    "             'Annals of botany', 'BMC plant biology', 'Tree physiology',\n",
    "             'Molecular plant-microbe interactions : MPMI',\n",
    "             'Plant biology (Stuttgart, Germany)', \n",
    "             'Plant biotechnology journal']"
   ]
  },
  {
   "cell_type": "code",
   "execution_count": null,
   "metadata": {},
   "outputs": [],
   "source": [
    "j_positive_t_df = get_tpr(corpus_df, j_pos_t, \"not-training\")"
   ]
  },
  {
   "cell_type": "code",
   "execution_count": null,
   "metadata": {},
   "outputs": [],
   "source": [
    "for journal in j_pos_t:\n",
    "  plot_pdf(corpus_df, j_positive_t_df, journal, \"training\")"
   ]
  },
  {
   "cell_type": "markdown",
   "metadata": {},
   "source": [
    "### Look into Nature Plants"
   ]
  },
  {
   "cell_type": "code",
   "execution_count": null,
   "metadata": {},
   "outputs": [],
   "source": [
    "corpus_df_nat_pln = corpus_df[corpus_df[\"Journal\"] == \"Nature plants\"]\n",
    "corpus_df_nat_pln.shape"
   ]
  },
  {
   "cell_type": "code",
   "execution_count": null,
   "metadata": {},
   "outputs": [],
   "source": [
    "corpus_df_nat_pln_file = dir_25 / 'corpus_df_nat_pln.tsv'\n",
    "corpus_df_nat_pln.to_csv(corpus_df_nat_pln_file, sep='\\t')"
   ]
  },
  {
   "cell_type": "markdown",
   "metadata": {},
   "source": [
    "### Look into Plant Genome\n",
    "\n"
   ]
  },
  {
   "cell_type": "code",
   "execution_count": null,
   "metadata": {},
   "outputs": [],
   "source": [
    "corpus_df_pln_genome = corpus_df[corpus_df[\"Journal\"] == \"The plant genome\"]\n",
    "corpus_df_pln_genome_file = dir_25 / 'corpus_df_pln_genome.tsv'\n",
    "corpus_df_pln_genome.to_csv(corpus_df_pln_genome_file, sep='\\t')"
   ]
  },
  {
   "cell_type": "markdown",
   "metadata": {},
   "source": [
    "### Look into Phytochemistry"
   ]
  },
  {
   "cell_type": "code",
   "execution_count": null,
   "metadata": {},
   "outputs": [],
   "source": [
    "corpus_df_phytochem = corpus_df[corpus_df[\"Journal\"] == \"Phytochemistry\"]\n",
    "corpus_df_phytochem_file = dir_25 / 'corpus_df_phytochem.tsv'\n",
    "corpus_df_phytochem.to_csv(corpus_df_phytochem_file, sep='\\t')"
   ]
  },
  {
   "cell_type": "markdown",
   "metadata": {},
   "source": [
    "### Check specific feature"
   ]
  },
  {
   "cell_type": "code",
   "execution_count": null,
   "metadata": {},
   "outputs": [],
   "source": [
    "corpus_df.head(2)"
   ]
  },
  {
   "cell_type": "code",
   "execution_count": null,
   "metadata": {},
   "outputs": [],
   "source": [
    "def check_feat(df, feat):\n",
    "  df_txt = df['txt']\n",
    "  feat_found = []\n",
    "  for txt in tqdm.tqdm(df_txt):\n",
    "    if feat in txt.lower():\n",
    "      feat_found.append(1)\n",
    "    else:\n",
    "      feat_found.append(0)\n",
    "\n",
    "  return feat_found\n",
    "\n"
   ]
  },
  {
   "cell_type": "code",
   "execution_count": null,
   "metadata": {},
   "outputs": [],
   "source": [
    "feat = \"phytologist\"\n",
    "feat_found_phytologist = check_feat(corpus_df, feat)"
   ]
  },
  {
   "cell_type": "code",
   "execution_count": null,
   "metadata": {},
   "outputs": [],
   "source": [
    "feat = \"university\"\n",
    "feat_found_phytologist = check_feat(corpus_df, feat)"
   ]
  },
  {
   "cell_type": "markdown",
   "metadata": {},
   "source": [
    "## ___Get number of articles per journal___"
   ]
  },
  {
   "cell_type": "markdown",
   "metadata": {},
   "source": [
    "### Load predicted plant science citations"
   ]
  },
  {
   "cell_type": "code",
   "execution_count": 4,
   "metadata": {},
   "outputs": [
    {
     "data": {
      "text/plain": [
       "(421658, 11)"
      ]
     },
     "execution_count": 4,
     "metadata": {},
     "output_type": "execute_result"
    }
   ],
   "source": [
    "plant_sci_file = dir_25 / \"corpus_plant_421658.tsv.gz\"\n",
    "plant_sci_df   = pd.read_csv(plant_sci_file, sep=\"\\t\", compression=\"gzip\")\n",
    "plant_sci_df.shape"
   ]
  },
  {
   "cell_type": "code",
   "execution_count": 10,
   "metadata": {},
   "outputs": [
    {
     "data": {
      "text/plain": [
       "(pandas.core.frame.DataFrame, (3538, 1))"
      ]
     },
     "execution_count": 10,
     "metadata": {},
     "output_type": "execute_result"
    }
   ],
   "source": [
    "journal_plant_cit_count = pd.DataFrame(plant_sci_df[\"Journal\"].value_counts())\n",
    "type(journal_plant_cit_count), journal_plant_cit_count.shape"
   ]
  },
  {
   "cell_type": "code",
   "execution_count": 11,
   "metadata": {},
   "outputs": [
    {
     "data": {
      "text/html": [
       "<div>\n",
       "<style scoped>\n",
       "    .dataframe tbody tr th:only-of-type {\n",
       "        vertical-align: middle;\n",
       "    }\n",
       "\n",
       "    .dataframe tbody tr th {\n",
       "        vertical-align: top;\n",
       "    }\n",
       "\n",
       "    .dataframe thead th {\n",
       "        text-align: right;\n",
       "    }\n",
       "</style>\n",
       "<table border=\"1\" class=\"dataframe\">\n",
       "  <thead>\n",
       "    <tr style=\"text-align: right;\">\n",
       "      <th></th>\n",
       "      <th>Journal</th>\n",
       "    </tr>\n",
       "  </thead>\n",
       "  <tbody>\n",
       "    <tr>\n",
       "      <th>Plant physiology</th>\n",
       "      <td>20584</td>\n",
       "    </tr>\n",
       "    <tr>\n",
       "      <th>PloS one</th>\n",
       "      <td>11360</td>\n",
       "    </tr>\n",
       "  </tbody>\n",
       "</table>\n",
       "</div>"
      ],
      "text/plain": [
       "                  Journal\n",
       "Plant physiology    20584\n",
       "PloS one            11360"
      ]
     },
     "execution_count": 11,
     "metadata": {},
     "output_type": "execute_result"
    }
   ],
   "source": [
    "journal_plant_cit_count.head(2)"
   ]
  },
  {
   "cell_type": "code",
   "execution_count": 14,
   "metadata": {},
   "outputs": [],
   "source": [
    "journal_plant_cit_count.to_csv(dir_25 / \"table2_5_journal_plant_cit_count.tsv\",\n",
    "                               sep='\\t')"
   ]
  },
  {
   "cell_type": "code",
   "execution_count": null,
   "metadata": {},
   "outputs": [],
   "source": []
  }
 ],
 "metadata": {
  "kernelspec": {
   "display_name": "Python 3.10.4 ('tf')",
   "language": "python",
   "name": "python3"
  },
  "language_info": {
   "codemirror_mode": {
    "name": "ipython",
    "version": 3
   },
   "file_extension": ".py",
   "mimetype": "text/x-python",
   "name": "python",
   "nbconvert_exporter": "python",
   "pygments_lexer": "ipython3",
   "version": "3.10.4"
  },
  "orig_nbformat": 4,
  "vscode": {
   "interpreter": {
    "hash": "3dd3af54f5fe992bccbd23931b262c263c643af7052ca64c3b616d552ec510a8"
   }
  }
 },
 "nbformat": 4,
 "nbformat_minor": 2
}
