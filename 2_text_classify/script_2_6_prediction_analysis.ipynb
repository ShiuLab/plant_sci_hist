{
 "cells": [
  {
   "cell_type": "markdown",
   "metadata": {},
   "source": [
    "# __Step 6 Analyses of models and predictions__\n",
    "\n",
    "Goals: I am interested in:\n",
    "- Model interpretation\n",
    "  - Figure out how top words that define plant sciences are related to each other. \n",
    "  - See if there is certain date range, journal are more challenging to predict.\n",
    "\n",
    "Main questions:\n",
    "- What is the overall performance of model?\n",
    "- What features are important for predictions?\n",
    "- What are the reasons for mispredictions?\n",
    "  - Are there any patterns among predicted instances?\n",
    "  - E.g., publication date, journal.\n",
    "- How are the article related to each other in the W2V space?\n",
    "  - We have the vecortized document. Can plot them with tSNE to see how TP, FP, FN, and TN are distributed.\n",
    "\n",
    "Also for interpretability purpose:\n",
    "- Tf-Idf with `[max_features, ngram_range, p_threshold]=[10000.0, (1, 3), 0.01]` are also examined.\n",
    "- This is because the Tf-Idf values is immediately interpretable and the model is based on XGBoost and I can get feature importance using SHAP."
   ]
  },
  {
   "cell_type": "markdown",
   "metadata": {},
   "source": [
    "## ___Setup___"
   ]
  },
  {
   "cell_type": "markdown",
   "metadata": {},
   "source": [
    "### Import"
   ]
  },
  {
   "cell_type": "code",
   "execution_count": 2,
   "metadata": {},
   "outputs": [],
   "source": [
    "import json\n",
    "import pandas as pd\n",
    "import numpy as np\n",
    "import seaborn as sns\n",
    "import matplotlib.pyplot as plt\n",
    "from pathlib import Path\n",
    "from sklearn import metrics"
   ]
  },
  {
   "cell_type": "markdown",
   "metadata": {},
   "source": [
    "### Configurations"
   ]
  },
  {
   "cell_type": "code",
   "execution_count": 3,
   "metadata": {},
   "outputs": [],
   "source": [
    "work_dir     = Path.home() / 'projects/plant_sci_hist/2_text_classify'\n",
    "corpus_combo = work_dir / \"corpus_combo\"\n",
    "train_pred   = work_dir / \"corpus_train_pred\"\n",
    "valid_pred   = work_dir / \"corpus_valid_pred\"\n",
    "test_pred    = work_dir / \"corpus_test_pred\""
   ]
  },
  {
   "cell_type": "markdown",
   "metadata": {},
   "source": [
    "### Consolidate predictions with original dataframe"
   ]
  },
  {
   "cell_type": "code",
   "execution_count": 4,
   "metadata": {},
   "outputs": [],
   "source": [
    "def json_to_df(json_file):\n",
    "  with json_file.open(\"r+\") as f:\n",
    "      json_loaded = json.load(f)\n",
    "  df = pd.read_json(json_loaded)\n",
    "  \n",
    "  return df"
   ]
  },
  {
   "cell_type": "code",
   "execution_count": 5,
   "metadata": {},
   "outputs": [
    {
     "data": {
      "text/plain": [
       "(86646, 9)"
      ]
     },
     "execution_count": 5,
     "metadata": {},
     "output_type": "execute_result"
    }
   ],
   "source": [
    "# Get the original corpus\n",
    "corpus_ori = json_to_df(corpus_combo)\n",
    "corpus_ori.shape"
   ]
  },
  {
   "cell_type": "code",
   "execution_count": 6,
   "metadata": {},
   "outputs": [],
   "source": [
    "# Load the prediction TSV files as dataframes\n",
    "train_pred_df = pd.read_csv(train_pred, sep='\\t', index_col=0)\n",
    "valid_pred_df = pd.read_csv(valid_pred, sep='\\t', index_col=0)\n",
    "test_pred_df  = pd.read_csv(test_pred , sep='\\t', index_col=0)"
   ]
  },
  {
   "cell_type": "code",
   "execution_count": 7,
   "metadata": {},
   "outputs": [],
   "source": [
    "train_pred_df[\"subset\"] = \"train\"\n",
    "valid_pred_df[\"subset\"] = \"valid\"\n",
    "test_pred_df[\"subset\"]  = \"test\""
   ]
  },
  {
   "cell_type": "code",
   "execution_count": 8,
   "metadata": {},
   "outputs": [
    {
     "data": {
      "text/html": [
       "<div>\n",
       "<style scoped>\n",
       "    .dataframe tbody tr th:only-of-type {\n",
       "        vertical-align: middle;\n",
       "    }\n",
       "\n",
       "    .dataframe tbody tr th {\n",
       "        vertical-align: top;\n",
       "    }\n",
       "\n",
       "    .dataframe thead th {\n",
       "        text-align: right;\n",
       "    }\n",
       "</style>\n",
       "<table border=\"1\" class=\"dataframe\">\n",
       "  <thead>\n",
       "    <tr style=\"text-align: right;\">\n",
       "      <th></th>\n",
       "      <th>y</th>\n",
       "      <th>y_pred</th>\n",
       "      <th>y_prob</th>\n",
       "      <th>X</th>\n",
       "      <th>subset</th>\n",
       "    </tr>\n",
       "  </thead>\n",
       "  <tbody>\n",
       "    <tr>\n",
       "      <th>822166</th>\n",
       "      <td>1</td>\n",
       "      <td>1</td>\n",
       "      <td>0.798292</td>\n",
       "      <td>priming environmental challenge proteomics pla...</td>\n",
       "      <td>train</td>\n",
       "    </tr>\n",
       "    <tr>\n",
       "      <th>1004565</th>\n",
       "      <td>1</td>\n",
       "      <td>1</td>\n",
       "      <td>0.987181</td>\n",
       "      <td>characterization diferuloylated pectic polysac...</td>\n",
       "      <td>train</td>\n",
       "    </tr>\n",
       "    <tr>\n",
       "      <th>321151</th>\n",
       "      <td>1</td>\n",
       "      <td>1</td>\n",
       "      <td>0.896067</td>\n",
       "      <td>endonuclease programmed cell death (pcd) invol...</td>\n",
       "      <td>train</td>\n",
       "    </tr>\n",
       "  </tbody>\n",
       "</table>\n",
       "</div>"
      ],
      "text/plain": [
       "         y  y_pred    y_prob  \\\n",
       "822166   1       1  0.798292   \n",
       "1004565  1       1  0.987181   \n",
       "321151   1       1  0.896067   \n",
       "\n",
       "                                                         X subset  \n",
       "822166   priming environmental challenge proteomics pla...  train  \n",
       "1004565  characterization diferuloylated pectic polysac...  train  \n",
       "321151   endonuclease programmed cell death (pcd) invol...  train  "
      ]
     },
     "execution_count": 8,
     "metadata": {},
     "output_type": "execute_result"
    }
   ],
   "source": [
    "train_pred_df.sample(3)"
   ]
  },
  {
   "cell_type": "code",
   "execution_count": 9,
   "metadata": {},
   "outputs": [
    {
     "name": "stdout",
     "output_type": "stream",
     "text": [
      "nuclear pore complex nuclear pore complex largest supramolecular complex assembles eukaryotic cell s\n",
      "The nuclear pore complex.. The nuclear pore complex is the largest supramolecular complex that assem\n"
     ]
    }
   ],
   "source": [
    "# Make sure the indices between two dataframes are consistent\n",
    "print(train_pred_df.loc[271250].X[:100])\n",
    "print(corpus_ori.loc[271250].txt[:100])"
   ]
  },
  {
   "cell_type": "code",
   "execution_count": 10,
   "metadata": {},
   "outputs": [
    {
     "name": "stdout",
     "output_type": "stream",
     "text": [
      "difference universal diverse orientation among nursing student australia globalization intensified m\n",
      "Differences in universal diverse orientation among nursing students in Australia.. With globalizatio\n"
     ]
    }
   ],
   "source": [
    "# Make sure the indices between two dataframes are consistent\n",
    "print(train_pred_df.loc[583057].X[:100])\n",
    "print(corpus_ori.loc[583057].txt[:100])"
   ]
  },
  {
   "cell_type": "code",
   "execution_count": 11,
   "metadata": {},
   "outputs": [
    {
     "data": {
      "text/plain": [
       "(86646, 5)"
      ]
     },
     "execution_count": 11,
     "metadata": {},
     "output_type": "execute_result"
    }
   ],
   "source": [
    "# Concatenate prediction dataframes\n",
    "pred_df = pd.concat([train_pred_df, valid_pred_df, test_pred_df])\n",
    "pred_df.shape"
   ]
  },
  {
   "cell_type": "code",
   "execution_count": 12,
   "metadata": {},
   "outputs": [
    {
     "data": {
      "text/html": [
       "<div>\n",
       "<style scoped>\n",
       "    .dataframe tbody tr th:only-of-type {\n",
       "        vertical-align: middle;\n",
       "    }\n",
       "\n",
       "    .dataframe tbody tr th {\n",
       "        vertical-align: top;\n",
       "    }\n",
       "\n",
       "    .dataframe thead th {\n",
       "        text-align: right;\n",
       "    }\n",
       "</style>\n",
       "<table border=\"1\" class=\"dataframe\">\n",
       "  <thead>\n",
       "    <tr style=\"text-align: right;\">\n",
       "      <th></th>\n",
       "      <th>y</th>\n",
       "      <th>y_pred</th>\n",
       "      <th>y_prob</th>\n",
       "      <th>X</th>\n",
       "      <th>subset</th>\n",
       "    </tr>\n",
       "  </thead>\n",
       "  <tbody>\n",
       "    <tr>\n",
       "      <th>516651</th>\n",
       "      <td>1</td>\n",
       "      <td>1</td>\n",
       "      <td>0.982180</td>\n",
       "      <td>vivo vitro inhibition catalase leaf nicotiana ...</td>\n",
       "      <td>train</td>\n",
       "    </tr>\n",
       "    <tr>\n",
       "      <th>521301</th>\n",
       "      <td>1</td>\n",
       "      <td>1</td>\n",
       "      <td>0.993828</td>\n",
       "      <td>pathway glucose regulation monosaccharide tran...</td>\n",
       "      <td>train</td>\n",
       "    </tr>\n",
       "    <tr>\n",
       "      <th>65516</th>\n",
       "      <td>0</td>\n",
       "      <td>0</td>\n",
       "      <td>0.001417</td>\n",
       "      <td>feasibility home treatment diarrhoea packaged ...</td>\n",
       "      <td>train</td>\n",
       "    </tr>\n",
       "    <tr>\n",
       "      <th>277058</th>\n",
       "      <td>1</td>\n",
       "      <td>1</td>\n",
       "      <td>0.990589</td>\n",
       "      <td>modulation phosphatidylcholine biosynthesis ce...</td>\n",
       "      <td>train</td>\n",
       "    </tr>\n",
       "    <tr>\n",
       "      <th>753225</th>\n",
       "      <td>1</td>\n",
       "      <td>1</td>\n",
       "      <td>0.921157</td>\n",
       "      <td>120yr period dr beals seed viability experimen...</td>\n",
       "      <td>train</td>\n",
       "    </tr>\n",
       "  </tbody>\n",
       "</table>\n",
       "</div>"
      ],
      "text/plain": [
       "        y  y_pred    y_prob  \\\n",
       "516651  1       1  0.982180   \n",
       "521301  1       1  0.993828   \n",
       "65516   0       0  0.001417   \n",
       "277058  1       1  0.990589   \n",
       "753225  1       1  0.921157   \n",
       "\n",
       "                                                        X subset  \n",
       "516651  vivo vitro inhibition catalase leaf nicotiana ...  train  \n",
       "521301  pathway glucose regulation monosaccharide tran...  train  \n",
       "65516   feasibility home treatment diarrhoea packaged ...  train  \n",
       "277058  modulation phosphatidylcholine biosynthesis ce...  train  \n",
       "753225  120yr period dr beals seed viability experimen...  train  "
      ]
     },
     "execution_count": 12,
     "metadata": {},
     "output_type": "execute_result"
    }
   ],
   "source": [
    "pred_df.head()"
   ]
  },
  {
   "cell_type": "code",
   "execution_count": 13,
   "metadata": {},
   "outputs": [
    {
     "data": {
      "text/html": [
       "<div>\n",
       "<style scoped>\n",
       "    .dataframe tbody tr th:only-of-type {\n",
       "        vertical-align: middle;\n",
       "    }\n",
       "\n",
       "    .dataframe tbody tr th {\n",
       "        vertical-align: top;\n",
       "    }\n",
       "\n",
       "    .dataframe thead th {\n",
       "        text-align: right;\n",
       "    }\n",
       "</style>\n",
       "<table border=\"1\" class=\"dataframe\">\n",
       "  <thead>\n",
       "    <tr style=\"text-align: right;\">\n",
       "      <th></th>\n",
       "      <th>PMID</th>\n",
       "      <th>Date</th>\n",
       "      <th>Journal</th>\n",
       "      <th>Title</th>\n",
       "      <th>Abstract</th>\n",
       "      <th>QualifiedName</th>\n",
       "      <th>txt</th>\n",
       "      <th>label</th>\n",
       "      <th>txt_clean</th>\n",
       "      <th>y</th>\n",
       "      <th>y_pred</th>\n",
       "      <th>y_prob</th>\n",
       "      <th>X</th>\n",
       "      <th>subset</th>\n",
       "    </tr>\n",
       "  </thead>\n",
       "  <tbody>\n",
       "    <tr>\n",
       "      <th>600447</th>\n",
       "      <td>18467466</td>\n",
       "      <td>2008-05-10</td>\n",
       "      <td>Plant physiology</td>\n",
       "      <td>The Arabidopsis halophytic relative Thellungie...</td>\n",
       "      <td>A comprehensive knowledge of mechanisms regula...</td>\n",
       "      <td>plant</td>\n",
       "      <td>The Arabidopsis halophytic relative Thellungie...</td>\n",
       "      <td>1</td>\n",
       "      <td>arabidopsis halophytic relative thellungiella ...</td>\n",
       "      <td>1</td>\n",
       "      <td>1</td>\n",
       "      <td>0.993899</td>\n",
       "      <td>arabidopsis halophytic relative thellungiella ...</td>\n",
       "      <td>train</td>\n",
       "    </tr>\n",
       "    <tr>\n",
       "      <th>583302</th>\n",
       "      <td>18065557</td>\n",
       "      <td>2007-12-11</td>\n",
       "      <td>Plant physiology</td>\n",
       "      <td>An Arabidopsis purple acid phosphatase with ph...</td>\n",
       "      <td>Ascorbate (AsA) is the most abundant antioxida...</td>\n",
       "      <td>plant</td>\n",
       "      <td>An Arabidopsis purple acid phosphatase with ph...</td>\n",
       "      <td>1</td>\n",
       "      <td>arabidopsis purple acid phosphatase phytase ac...</td>\n",
       "      <td>1</td>\n",
       "      <td>1</td>\n",
       "      <td>0.995514</td>\n",
       "      <td>arabidopsis purple acid phosphatase phytase ac...</td>\n",
       "      <td>train</td>\n",
       "    </tr>\n",
       "  </tbody>\n",
       "</table>\n",
       "</div>"
      ],
      "text/plain": [
       "            PMID        Date           Journal  \\\n",
       "600447  18467466  2008-05-10  Plant physiology   \n",
       "583302  18065557  2007-12-11  Plant physiology   \n",
       "\n",
       "                                                    Title  \\\n",
       "600447  The Arabidopsis halophytic relative Thellungie...   \n",
       "583302  An Arabidopsis purple acid phosphatase with ph...   \n",
       "\n",
       "                                                 Abstract QualifiedName  \\\n",
       "600447  A comprehensive knowledge of mechanisms regula...         plant   \n",
       "583302  Ascorbate (AsA) is the most abundant antioxida...         plant   \n",
       "\n",
       "                                                      txt  label  \\\n",
       "600447  The Arabidopsis halophytic relative Thellungie...      1   \n",
       "583302  An Arabidopsis purple acid phosphatase with ph...      1   \n",
       "\n",
       "                                                txt_clean  y  y_pred  \\\n",
       "600447  arabidopsis halophytic relative thellungiella ...  1       1   \n",
       "583302  arabidopsis purple acid phosphatase phytase ac...  1       1   \n",
       "\n",
       "          y_prob                                                  X subset  \n",
       "600447  0.993899  arabidopsis halophytic relative thellungiella ...  train  \n",
       "583302  0.995514  arabidopsis purple acid phosphatase phytase ac...  train  "
      ]
     },
     "execution_count": 13,
     "metadata": {},
     "output_type": "execute_result"
    }
   ],
   "source": [
    "# Concatenate prediction dataframe and the original dataframe\n",
    "combo_pred = pd.concat([corpus_ori, pred_df], axis=1)\n",
    "combo_pred.head(2)"
   ]
  },
  {
   "cell_type": "code",
   "execution_count": 14,
   "metadata": {},
   "outputs": [
    {
     "data": {
      "text/plain": [
       "True"
      ]
     },
     "execution_count": 14,
     "metadata": {},
     "output_type": "execute_result"
    }
   ],
   "source": [
    "# Check the label and y columns again to make sure they are exactly the same\n",
    "combo_pred['label'].equals(combo_pred['y'])"
   ]
  },
  {
   "cell_type": "code",
   "execution_count": 15,
   "metadata": {},
   "outputs": [
    {
     "data": {
      "text/html": [
       "<div>\n",
       "<style scoped>\n",
       "    .dataframe tbody tr th:only-of-type {\n",
       "        vertical-align: middle;\n",
       "    }\n",
       "\n",
       "    .dataframe tbody tr th {\n",
       "        vertical-align: top;\n",
       "    }\n",
       "\n",
       "    .dataframe thead th {\n",
       "        text-align: right;\n",
       "    }\n",
       "</style>\n",
       "<table border=\"1\" class=\"dataframe\">\n",
       "  <thead>\n",
       "    <tr style=\"text-align: right;\">\n",
       "      <th></th>\n",
       "      <th>PMID</th>\n",
       "      <th>Date</th>\n",
       "      <th>Journal</th>\n",
       "      <th>Title</th>\n",
       "      <th>Abstract</th>\n",
       "      <th>QualifiedName</th>\n",
       "      <th>label</th>\n",
       "      <th>y_pred</th>\n",
       "      <th>y_prob</th>\n",
       "      <th>subset</th>\n",
       "    </tr>\n",
       "  </thead>\n",
       "  <tbody>\n",
       "    <tr>\n",
       "      <th>600447</th>\n",
       "      <td>18467466</td>\n",
       "      <td>2008-05-10</td>\n",
       "      <td>Plant physiology</td>\n",
       "      <td>The Arabidopsis halophytic relative Thellungie...</td>\n",
       "      <td>A comprehensive knowledge of mechanisms regula...</td>\n",
       "      <td>plant</td>\n",
       "      <td>1</td>\n",
       "      <td>1</td>\n",
       "      <td>0.993899</td>\n",
       "      <td>train</td>\n",
       "    </tr>\n",
       "    <tr>\n",
       "      <th>583302</th>\n",
       "      <td>18065557</td>\n",
       "      <td>2007-12-11</td>\n",
       "      <td>Plant physiology</td>\n",
       "      <td>An Arabidopsis purple acid phosphatase with ph...</td>\n",
       "      <td>Ascorbate (AsA) is the most abundant antioxida...</td>\n",
       "      <td>plant</td>\n",
       "      <td>1</td>\n",
       "      <td>1</td>\n",
       "      <td>0.995514</td>\n",
       "      <td>train</td>\n",
       "    </tr>\n",
       "  </tbody>\n",
       "</table>\n",
       "</div>"
      ],
      "text/plain": [
       "            PMID        Date           Journal  \\\n",
       "600447  18467466  2008-05-10  Plant physiology   \n",
       "583302  18065557  2007-12-11  Plant physiology   \n",
       "\n",
       "                                                    Title  \\\n",
       "600447  The Arabidopsis halophytic relative Thellungie...   \n",
       "583302  An Arabidopsis purple acid phosphatase with ph...   \n",
       "\n",
       "                                                 Abstract QualifiedName  \\\n",
       "600447  A comprehensive knowledge of mechanisms regula...         plant   \n",
       "583302  Ascorbate (AsA) is the most abundant antioxida...         plant   \n",
       "\n",
       "        label  y_pred    y_prob subset  \n",
       "600447      1       1  0.993899  train  \n",
       "583302      1       1  0.995514  train  "
      ]
     },
     "execution_count": 15,
     "metadata": {},
     "output_type": "execute_result"
    }
   ],
   "source": [
    "# Drop the uncessary columns\n",
    "combo_pred = combo_pred.drop(['txt', 'txt_clean', 'y', 'X'], axis=1)\n",
    "combo_pred.head(2)"
   ]
  },
  {
   "cell_type": "code",
   "execution_count": 16,
   "metadata": {},
   "outputs": [],
   "source": [
    "combo_pred_json = combo_pred.to_json()\n",
    "combo_pred_json_file = work_dir / 'corpus_combo_pred.json'\n",
    "with combo_pred_json_file.open(\"w+\") as f:\n",
    "  json.dump(combo_pred_json, f)"
   ]
  },
  {
   "cell_type": "markdown",
   "metadata": {},
   "source": [
    "## ___Mis-predictions___"
   ]
  },
  {
   "cell_type": "markdown",
   "metadata": {},
   "source": [
    "### Get confusion matrix\n",
    "\n",
    "Confusion matrix:\n",
    "- tn: 41327\n",
    "- fp: 1996\n",
    "- fn: 888\n",
    "- tp: 42435"
   ]
  },
  {
   "cell_type": "code",
   "execution_count": 17,
   "metadata": {},
   "outputs": [],
   "source": [
    "def get_confusion_matrix(df, subset=\"\"):\n",
    "  if subset == \"\":\n",
    "    y_true = df['label'].values\n",
    "    y_pred = df['y_pred'].values\n",
    "  else:\n",
    "    y_true = df[df['subset'] == subset]['label'].values\n",
    "    y_pred = df[df['subset'] == subset]['y_pred'].values\n",
    "\n",
    "  tn, fp, fn, tp = metrics.confusion_matrix(y_true, y_pred).ravel()\n",
    "\n",
    "  print(\"number of instances:\", sum([tn, fp, fn, tp]))\n",
    "\n",
    "  return tn, fp, fn, tp"
   ]
  },
  {
   "cell_type": "code",
   "execution_count": 18,
   "metadata": {},
   "outputs": [
    {
     "name": "stdout",
     "output_type": "stream",
     "text": [
      "number of instances: 86646\n"
     ]
    },
    {
     "data": {
      "text/plain": [
       "(41327, 1996, 888, 42435)"
      ]
     },
     "execution_count": 18,
     "metadata": {},
     "output_type": "execute_result"
    }
   ],
   "source": [
    "# overall tn, fp, fn, tp\n",
    "get_confusion_matrix(combo_pred, subset=\"\")"
   ]
  },
  {
   "cell_type": "code",
   "execution_count": 19,
   "metadata": {},
   "outputs": [
    {
     "name": "stdout",
     "output_type": "stream",
     "text": [
      "number of instances: 17329\n"
     ]
    },
    {
     "data": {
      "text/plain": [
       "(8244, 420, 209, 8456)"
      ]
     },
     "execution_count": 19,
     "metadata": {},
     "output_type": "execute_result"
    }
   ],
   "source": [
    "# validation tn, fp, fn, tp\n",
    "get_confusion_matrix(combo_pred, subset=\"valid\")"
   ]
  },
  {
   "cell_type": "code",
   "execution_count": 20,
   "metadata": {},
   "outputs": [
    {
     "name": "stdout",
     "output_type": "stream",
     "text": [
      "number of instances: 17330\n"
     ]
    },
    {
     "data": {
      "text/plain": [
       "(8211, 454, 228, 8437)"
      ]
     },
     "execution_count": 20,
     "metadata": {},
     "output_type": "execute_result"
    }
   ],
   "source": [
    "# testing tn, fp, fn, tp\n",
    "get_confusion_matrix(combo_pred, subset=\"test\")"
   ]
  },
  {
   "cell_type": "markdown",
   "metadata": {},
   "source": [
    "### Add an incorrect column and get all the wrongly predicted entries\n",
    "\n",
    "This turn out not to be useful, yet."
   ]
  },
  {
   "cell_type": "code",
   "execution_count": 21,
   "metadata": {},
   "outputs": [
    {
     "ename": "NameError",
     "evalue": "name 'val_l' is not defined",
     "output_type": "error",
     "traceback": [
      "\u001b[0;31m---------------------------------------------------------------------------\u001b[0m",
      "\u001b[0;31mNameError\u001b[0m                                 Traceback (most recent call last)",
      "\u001b[1;32m/home/shius/github/plant_sci_hist/2_text_classify/script_2_6_prediction_analysis.ipynb Cell 28'\u001b[0m in \u001b[0;36m<cell line: 1>\u001b[0;34m()\u001b[0m\n\u001b[0;32m----> <a href='vscode-notebook-cell://wsl%2Bubuntu-20.04/home/shius/github/plant_sci_hist/2_text_classify/script_2_6_prediction_analysis.ipynb#ch0000023vscode-remote?line=0'>1</a>\u001b[0m incorrect \u001b[39m=\u001b[39m [val_l[i] \u001b[39m!=\u001b[39m val_y[i] \u001b[39mfor\u001b[39;00m i \u001b[39min\u001b[39;00m \u001b[39mrange\u001b[39m(\u001b[39mlen\u001b[39m(val_l)) ]\n",
      "\u001b[0;31mNameError\u001b[0m: name 'val_l' is not defined"
     ]
    }
   ],
   "source": [
    "incorrect = [val_l[i] != val_y[i] for i in range(len(val_l)) ]"
   ]
  },
  {
   "cell_type": "code",
   "execution_count": null,
   "metadata": {},
   "outputs": [
    {
     "data": {
      "text/plain": [
       "(86646, 11)"
      ]
     },
     "execution_count": 30,
     "metadata": {},
     "output_type": "execute_result"
    }
   ],
   "source": [
    "combo_pred['incorrect'] = incorrect\n",
    "combo_pred.shape"
   ]
  },
  {
   "cell_type": "code",
   "execution_count": null,
   "metadata": {},
   "outputs": [
    {
     "data": {
      "text/plain": [
       "(2884, 11)"
      ]
     },
     "execution_count": 31,
     "metadata": {},
     "output_type": "execute_result"
    }
   ],
   "source": [
    "combo_pred_wrong = combo_pred[incorrect]\n",
    "combo_pred_wrong.shape"
   ]
  },
  {
   "cell_type": "code",
   "execution_count": null,
   "metadata": {},
   "outputs": [
    {
     "data": {
      "text/html": [
       "<div>\n",
       "<style scoped>\n",
       "    .dataframe tbody tr th:only-of-type {\n",
       "        vertical-align: middle;\n",
       "    }\n",
       "\n",
       "    .dataframe tbody tr th {\n",
       "        vertical-align: top;\n",
       "    }\n",
       "\n",
       "    .dataframe thead th {\n",
       "        text-align: right;\n",
       "    }\n",
       "</style>\n",
       "<table border=\"1\" class=\"dataframe\">\n",
       "  <thead>\n",
       "    <tr style=\"text-align: right;\">\n",
       "      <th></th>\n",
       "      <th>PMID</th>\n",
       "      <th>Date</th>\n",
       "      <th>Journal</th>\n",
       "      <th>Title</th>\n",
       "      <th>Abstract</th>\n",
       "      <th>QualifiedName</th>\n",
       "      <th>label</th>\n",
       "      <th>y_pred</th>\n",
       "      <th>y_prob</th>\n",
       "      <th>subset</th>\n",
       "      <th>incorrect</th>\n",
       "    </tr>\n",
       "  </thead>\n",
       "  <tbody>\n",
       "    <tr>\n",
       "      <th>5116</th>\n",
       "      <td>173636</td>\n",
       "      <td>1975-01-01</td>\n",
       "      <td>Folia histochemica et cytochemica</td>\n",
       "      <td>Oxidative enzymes in the development of Fascio...</td>\n",
       "      <td>The object of the study was the investigation ...</td>\n",
       "      <td>hepatica</td>\n",
       "      <td>0</td>\n",
       "      <td>1</td>\n",
       "      <td>0.822273</td>\n",
       "      <td>valid</td>\n",
       "      <td>True</td>\n",
       "    </tr>\n",
       "    <tr>\n",
       "      <th>14963</th>\n",
       "      <td>605710</td>\n",
       "      <td>1977-01-01</td>\n",
       "      <td>Acta biologica Academiae Scientiarum Hungaricae</td>\n",
       "      <td>Changes in chromosome complement in long-term ...</td>\n",
       "      <td>A prolonged callus culture from pea (Pisum sat...</td>\n",
       "      <td>pea</td>\n",
       "      <td>0</td>\n",
       "      <td>1</td>\n",
       "      <td>0.706658</td>\n",
       "      <td>train</td>\n",
       "      <td>True</td>\n",
       "    </tr>\n",
       "    <tr>\n",
       "      <th>881237</th>\n",
       "      <td>24018323</td>\n",
       "      <td>2013-09-11</td>\n",
       "      <td>Advances in protein chemistry and structural b...</td>\n",
       "      <td>Structure-function relationship of the plant p...</td>\n",
       "      <td>LHCII, the largest plant photosynthetic pigmen...</td>\n",
       "      <td>plant</td>\n",
       "      <td>0</td>\n",
       "      <td>1</td>\n",
       "      <td>0.937996</td>\n",
       "      <td>train</td>\n",
       "      <td>True</td>\n",
       "    </tr>\n",
       "    <tr>\n",
       "      <th>1177809</th>\n",
       "      <td>28943973</td>\n",
       "      <td>2017-09-26</td>\n",
       "      <td>Journal of genomics</td>\n",
       "      <td>Permanent Draft Genome sequence for Frankia sp...</td>\n",
       "      <td>Frankia sp. strain CcI49 was isolated from Cas...</td>\n",
       "      <td>plants</td>\n",
       "      <td>0</td>\n",
       "      <td>1</td>\n",
       "      <td>0.842421</td>\n",
       "      <td>test</td>\n",
       "      <td>True</td>\n",
       "    </tr>\n",
       "    <tr>\n",
       "      <th>63001</th>\n",
       "      <td>2154301</td>\n",
       "      <td>1990-01-01</td>\n",
       "      <td>Cell differentiation and development : the off...</td>\n",
       "      <td>Is ubiquitin involved in the dedifferentiation...</td>\n",
       "      <td>Transformation of a mesophyll cell into a viab...</td>\n",
       "      <td>plant</td>\n",
       "      <td>0</td>\n",
       "      <td>1</td>\n",
       "      <td>0.979742</td>\n",
       "      <td>train</td>\n",
       "      <td>True</td>\n",
       "    </tr>\n",
       "    <tr>\n",
       "      <th>1132663</th>\n",
       "      <td>28286876</td>\n",
       "      <td>2017-03-14</td>\n",
       "      <td>Current opinion in toxicology</td>\n",
       "      <td>Diversity as Opportunity: Insights from 600 Mi...</td>\n",
       "      <td>The aryl hydrocarbon receptor (AHR) was for ma...</td>\n",
       "      <td>anemone</td>\n",
       "      <td>0</td>\n",
       "      <td>1</td>\n",
       "      <td>0.705611</td>\n",
       "      <td>valid</td>\n",
       "      <td>True</td>\n",
       "    </tr>\n",
       "    <tr>\n",
       "      <th>717363</th>\n",
       "      <td>20948627</td>\n",
       "      <td>2009-01-01</td>\n",
       "      <td>F1000 biology reports</td>\n",
       "      <td>The dark side of clock-controlled flowering.</td>\n",
       "      <td>Perception of seasonal changes in day length a...</td>\n",
       "      <td>plants</td>\n",
       "      <td>0</td>\n",
       "      <td>1</td>\n",
       "      <td>0.604388</td>\n",
       "      <td>train</td>\n",
       "      <td>True</td>\n",
       "    </tr>\n",
       "    <tr>\n",
       "      <th>1086049</th>\n",
       "      <td>27398266</td>\n",
       "      <td>2014-12-01</td>\n",
       "      <td>Journal of geophysical research. Biogeosciences</td>\n",
       "      <td>Models of fluorescence and photosynthesis for ...</td>\n",
       "      <td>We have extended a conventional photosynthesis...</td>\n",
       "      <td>plants</td>\n",
       "      <td>0</td>\n",
       "      <td>1</td>\n",
       "      <td>0.984490</td>\n",
       "      <td>train</td>\n",
       "      <td>True</td>\n",
       "    </tr>\n",
       "    <tr>\n",
       "      <th>1042548</th>\n",
       "      <td>26632529</td>\n",
       "      <td>2015-12-04</td>\n",
       "      <td>Phytochemistry</td>\n",
       "      <td>Differentiation between two \"fang ji\" herbal m...</td>\n",
       "      <td>Stephania tetrandra (\"hang fang ji\") and Arist...</td>\n",
       "      <td>plant</td>\n",
       "      <td>1</td>\n",
       "      <td>0</td>\n",
       "      <td>0.191211</td>\n",
       "      <td>valid</td>\n",
       "      <td>True</td>\n",
       "    </tr>\n",
       "    <tr>\n",
       "      <th>919443</th>\n",
       "      <td>24504833</td>\n",
       "      <td>1969-03-01</td>\n",
       "      <td>Planta</td>\n",
       "      <td>Second positive phototropic response patterns ...</td>\n",
       "      <td>1.During second positive irradiation, bending ...</td>\n",
       "      <td>oat</td>\n",
       "      <td>1</td>\n",
       "      <td>0</td>\n",
       "      <td>0.458158</td>\n",
       "      <td>valid</td>\n",
       "      <td>True</td>\n",
       "    </tr>\n",
       "  </tbody>\n",
       "</table>\n",
       "</div>"
      ],
      "text/plain": [
       "             PMID        Date  \\\n",
       "5116       173636  1975-01-01   \n",
       "14963      605710  1977-01-01   \n",
       "881237   24018323  2013-09-11   \n",
       "1177809  28943973  2017-09-26   \n",
       "63001     2154301  1990-01-01   \n",
       "1132663  28286876  2017-03-14   \n",
       "717363   20948627  2009-01-01   \n",
       "1086049  27398266  2014-12-01   \n",
       "1042548  26632529  2015-12-04   \n",
       "919443   24504833  1969-03-01   \n",
       "\n",
       "                                                   Journal  \\\n",
       "5116                     Folia histochemica et cytochemica   \n",
       "14963      Acta biologica Academiae Scientiarum Hungaricae   \n",
       "881237   Advances in protein chemistry and structural b...   \n",
       "1177809                                Journal of genomics   \n",
       "63001    Cell differentiation and development : the off...   \n",
       "1132663                      Current opinion in toxicology   \n",
       "717363                               F1000 biology reports   \n",
       "1086049    Journal of geophysical research. Biogeosciences   \n",
       "1042548                                     Phytochemistry   \n",
       "919443                                              Planta   \n",
       "\n",
       "                                                     Title  \\\n",
       "5116     Oxidative enzymes in the development of Fascio...   \n",
       "14963    Changes in chromosome complement in long-term ...   \n",
       "881237   Structure-function relationship of the plant p...   \n",
       "1177809  Permanent Draft Genome sequence for Frankia sp...   \n",
       "63001    Is ubiquitin involved in the dedifferentiation...   \n",
       "1132663  Diversity as Opportunity: Insights from 600 Mi...   \n",
       "717363        The dark side of clock-controlled flowering.   \n",
       "1086049  Models of fluorescence and photosynthesis for ...   \n",
       "1042548  Differentiation between two \"fang ji\" herbal m...   \n",
       "919443   Second positive phototropic response patterns ...   \n",
       "\n",
       "                                                  Abstract QualifiedName  \\\n",
       "5116     The object of the study was the investigation ...      hepatica   \n",
       "14963    A prolonged callus culture from pea (Pisum sat...           pea   \n",
       "881237   LHCII, the largest plant photosynthetic pigmen...         plant   \n",
       "1177809  Frankia sp. strain CcI49 was isolated from Cas...        plants   \n",
       "63001    Transformation of a mesophyll cell into a viab...         plant   \n",
       "1132663  The aryl hydrocarbon receptor (AHR) was for ma...       anemone   \n",
       "717363   Perception of seasonal changes in day length a...        plants   \n",
       "1086049  We have extended a conventional photosynthesis...        plants   \n",
       "1042548  Stephania tetrandra (\"hang fang ji\") and Arist...         plant   \n",
       "919443   1.During second positive irradiation, bending ...           oat   \n",
       "\n",
       "         label  y_pred    y_prob subset  incorrect  \n",
       "5116         0       1  0.822273  valid       True  \n",
       "14963        0       1  0.706658  train       True  \n",
       "881237       0       1  0.937996  train       True  \n",
       "1177809      0       1  0.842421   test       True  \n",
       "63001        0       1  0.979742  train       True  \n",
       "1132663      0       1  0.705611  valid       True  \n",
       "717363       0       1  0.604388  train       True  \n",
       "1086049      0       1  0.984490  train       True  \n",
       "1042548      1       0  0.191211  valid       True  \n",
       "919443       1       0  0.458158  valid       True  "
      ]
     },
     "execution_count": 32,
     "metadata": {},
     "output_type": "execute_result"
    }
   ],
   "source": [
    "combo_pred_wrong.sample(2)"
   ]
  },
  {
   "cell_type": "markdown",
   "metadata": {},
   "source": [
    "### Get prediction probability distributions of tp, tn, fp, fn"
   ]
  },
  {
   "cell_type": "code",
   "execution_count": null,
   "metadata": {},
   "outputs": [
    {
     "data": {
      "text/plain": [
       "(8437, 10)"
      ]
     },
     "execution_count": 46,
     "metadata": {},
     "output_type": "execute_result"
    }
   ],
   "source": [
    "c_true = combo_pred['label']  # column for true label\n",
    "c_pred = combo_pred['y_pred'] # column for predicted label\n",
    "subset = combo_pred['subset'] # column with subset info\n",
    "combo_test_tp = combo_pred[(c_true == 1) & (c_pred == 1) & (subset == \"test\")]\n",
    "combo_test_tp.shape # Expected 8437 instances"
   ]
  },
  {
   "cell_type": "code",
   "execution_count": null,
   "metadata": {},
   "outputs": [
    {
     "data": {
      "text/plain": [
       "((8211, 10), (454, 10), (228, 10))"
      ]
     },
     "execution_count": 47,
     "metadata": {},
     "output_type": "execute_result"
    }
   ],
   "source": [
    "combo_test_tn = combo_pred[(c_true == 0) & (c_pred == 0) & (subset == \"test\")]\n",
    "combo_test_fp = combo_pred[(c_true == 0) & (c_pred == 1) & (subset == \"test\")]\n",
    "combo_test_fn = combo_pred[(c_true == 1) & (c_pred == 0) & (subset == \"test\")]\n",
    "# Expected tn=8211, fp=454, fn=228\n",
    "combo_test_tn.shape, combo_test_fp.shape, combo_test_fn.shape"
   ]
  },
  {
   "cell_type": "code",
   "execution_count": null,
   "metadata": {},
   "outputs": [
    {
     "data": {
      "text/plain": [
       "<AxesSubplot:ylabel='Density'>"
      ]
     },
     "metadata": {},
     "output_type": "display_data"
    },
    {
     "data": {
      "image/png": "[encoded data removed]",
      "text/plain": [
       "<Figure size 432x288 with 1 Axes>"
      ]
     },
     "metadata": {},
     "output_type": "display_data"
    }
   ],
   "source": [
    "sns.set_style('whitegrid')\n",
    "sns.kdeplot(np.array(combo_test_tp[\"y_prob\"]), bw_method=0.5)\n",
    "sns.kdeplot(np.array(combo_test_fp[\"y_prob\"]), bw_method=0.5)\n",
    "sns.kdeplot(np.array(combo_test_tn[\"y_prob\"]), bw_method=0.5)\n",
    "sns.kdeplot(np.array(combo_test_fn[\"y_prob\"]), bw_method=0.5)"
   ]
  },
  {
   "cell_type": "markdown",
   "metadata": {},
   "source": [
    "Problem with the above plot is that the distributions are fitted and value ranges are not correct."
   ]
  },
  {
   "cell_type": "code",
   "execution_count": null,
   "metadata": {},
   "outputs": [
    {
     "data": {
      "image/png": "[encoded data removed]",
      "text/plain": [
       "<Figure size 432x288 with 4 Axes>"
      ]
     },
     "metadata": {
      "needs_background": "light"
     },
     "output_type": "display_data"
    }
   ],
   "source": [
    "fig, axs = plt.subplots(2, 2)\n",
    "bins = np.linspace(0, 1, 100)\n",
    "fig.suptitle('Prediction probabilities')\n",
    "axs[0,0].hist(combo_test_tp[\"y_prob\"], bins, alpha=0.5)\n",
    "axs[0,0].legend(\"TP\", loc=\"upper center\")\n",
    "axs[0,1].hist(combo_test_tn[\"y_prob\"], bins, alpha=0.5)\n",
    "axs[0,1].legend(\"TN \", loc=\"upper center\")\n",
    "axs[1,0].hist(combo_test_fp[\"y_prob\"], bins, alpha=0.5)\n",
    "axs[1,0].legend(\"FP \", loc=\"upper center\")\n",
    "axs[1,1].hist(combo_test_fn[\"y_prob\"], bins, alpha=0.5)\n",
    "axs[1,1].legend(\"FN \", loc=\"upper center\")\n",
    "plt.show()"
   ]
  },
  {
   "cell_type": "markdown",
   "metadata": {},
   "source": [
    "... Can do better."
   ]
  },
  {
   "cell_type": "code",
   "execution_count": null,
   "metadata": {},
   "outputs": [],
   "source": [
    "# Add another column, labeling TP, FP, TN, FN\n",
    "true_vs_pred = []\n",
    "for i in range(len(c_true)):\n",
    "  if c_true.iloc[i] == 1 and c_pred.iloc[i] == 1:\n",
    "    true_vs_pred.append(\"TP\")\n",
    "  elif c_true.iloc[i] == 1 and c_pred.iloc[i] == 0:\n",
    "    true_vs_pred.append(\"FN\")\n",
    "  elif c_true.iloc[i] == 0 and c_pred.iloc[i] == 0:\n",
    "    true_vs_pred.append(\"TN\")\n",
    "  elif c_true.iloc[i] == 0 and c_pred.iloc[i] == 1:\n",
    "    true_vs_pred.append(\"FP\")\n",
    "  else:\n",
    "    print(\"This should not happen...\")"
   ]
  },
  {
   "cell_type": "code",
   "execution_count": null,
   "metadata": {},
   "outputs": [],
   "source": [
    "combo_pred[\"true_vs_pred\"] = true_vs_pred"
   ]
  },
  {
   "cell_type": "code",
   "execution_count": null,
   "metadata": {},
   "outputs": [
    {
     "data": {
      "text/plain": [
       "<AxesSubplot:xlabel='y_prob', ylabel='Density'>"
      ]
     },
     "execution_count": 83,
     "metadata": {},
     "output_type": "execute_result"
    },
    {
     "data": {
      "image/png": "[encoded data removed]",
      "text/plain": [
       "<Figure size 432x288 with 1 Axes>"
      ]
     },
     "metadata": {},
     "output_type": "display_data"
    }
   ],
   "source": [
    "sns.histplot(data=combo_pred[combo_pred[\"subset\"] == \"test\"],\n",
    "             x=\"y_prob\", \n",
    "             hue=\"true_vs_pred\",\n",
    "             stat=\"density\",\n",
    "             common_norm=False,\n",
    "             bins=100, alpha=0.5)"
   ]
  },
  {
   "cell_type": "code",
   "execution_count": 1,
   "metadata": {},
   "outputs": [
    {
     "ename": "NameError",
     "evalue": "name 'combo_pred' is not defined",
     "output_type": "error",
     "traceback": [
      "\u001b[0;31m---------------------------------------------------------------------------\u001b[0m",
      "\u001b[0;31mNameError\u001b[0m                                 Traceback (most recent call last)",
      "\u001b[1;32m/home/shius/github/plant_sci_hist/2_text_classify/script_2_6_prediction_analysis.ipynb Cell 42'\u001b[0m in \u001b[0;36m<cell line: 1>\u001b[0;34m()\u001b[0m\n\u001b[0;32m----> <a href='vscode-notebook-cell://wsl%2Bubuntu-20.04/home/shius/github/plant_sci_hist/2_text_classify/script_2_6_prediction_analysis.ipynb#ch0000049vscode-remote?line=0'>1</a>\u001b[0m test_pos \u001b[39m=\u001b[39m combo_pred[(combo_pred[\u001b[39m\"\u001b[39m\u001b[39msubset\u001b[39m\u001b[39m\"\u001b[39m] \u001b[39m==\u001b[39m \u001b[39m\"\u001b[39m\u001b[39mtest\u001b[39m\u001b[39m\"\u001b[39m) \u001b[39m&\u001b[39m\n\u001b[1;32m      <a href='vscode-notebook-cell://wsl%2Bubuntu-20.04/home/shius/github/plant_sci_hist/2_text_classify/script_2_6_prediction_analysis.ipynb#ch0000049vscode-remote?line=1'>2</a>\u001b[0m                       (combo_pred[\u001b[39m\"\u001b[39m\u001b[39mtrue_vs_pred\u001b[39m\u001b[39m\"\u001b[39m] \u001b[39m==\u001b[39m \u001b[39m\"\u001b[39m\u001b[39mTP\u001b[39m\u001b[39m\"\u001b[39m) \u001b[39m&\u001b[39m\n\u001b[1;32m      <a href='vscode-notebook-cell://wsl%2Bubuntu-20.04/home/shius/github/plant_sci_hist/2_text_classify/script_2_6_prediction_analysis.ipynb#ch0000049vscode-remote?line=2'>3</a>\u001b[0m                       (combo_pred[\u001b[39m\"\u001b[39m\u001b[39mtrue_vs_pred\u001b[39m\u001b[39m\"\u001b[39m] \u001b[39m==\u001b[39m \u001b[39m\"\u001b[39m\u001b[39mFN\u001b[39m\u001b[39m\"\u001b[39m)]\n\u001b[1;32m      <a href='vscode-notebook-cell://wsl%2Bubuntu-20.04/home/shius/github/plant_sci_hist/2_text_classify/script_2_6_prediction_analysis.ipynb#ch0000049vscode-remote?line=4'>5</a>\u001b[0m sns\u001b[39m.\u001b[39mhistplot(data\u001b[39m=\u001b[39mtest_pos,\n\u001b[1;32m      <a href='vscode-notebook-cell://wsl%2Bubuntu-20.04/home/shius/github/plant_sci_hist/2_text_classify/script_2_6_prediction_analysis.ipynb#ch0000049vscode-remote?line=5'>6</a>\u001b[0m              x\u001b[39m=\u001b[39m\u001b[39m\"\u001b[39m\u001b[39my_prob\u001b[39m\u001b[39m\"\u001b[39m, \n\u001b[1;32m      <a href='vscode-notebook-cell://wsl%2Bubuntu-20.04/home/shius/github/plant_sci_hist/2_text_classify/script_2_6_prediction_analysis.ipynb#ch0000049vscode-remote?line=6'>7</a>\u001b[0m              hue\u001b[39m=\u001b[39m\u001b[39m\"\u001b[39m\u001b[39mtrue_vs_pred\u001b[39m\u001b[39m\"\u001b[39m,\n\u001b[1;32m      <a href='vscode-notebook-cell://wsl%2Bubuntu-20.04/home/shius/github/plant_sci_hist/2_text_classify/script_2_6_prediction_analysis.ipynb#ch0000049vscode-remote?line=7'>8</a>\u001b[0m              bins\u001b[39m=\u001b[39m\u001b[39m100\u001b[39m, alpha\u001b[39m=\u001b[39m\u001b[39m0.5\u001b[39m)\n",
      "\u001b[0;31mNameError\u001b[0m: name 'combo_pred' is not defined"
     ]
    }
   ],
   "source": [
    "test_pos = combo_pred[(combo_pred[\"subset\"] == \"test\") &\n",
    "                      (combo_pred[\"true_vs_pred\"] == \"TP\") &\n",
    "                      (combo_pred[\"true_vs_pred\"] == \"FN\")]\n",
    "\n",
    "sns.histplot(data=test_pos,\n",
    "             x=\"y_prob\", \n",
    "             hue=\"true_vs_pred\",\n",
    "             bins=100, alpha=0.5)"
   ]
  },
  {
   "cell_type": "code",
   "execution_count": null,
   "metadata": {},
   "outputs": [],
   "source": []
  }
 ],
 "metadata": {
  "kernelspec": {
   "display_name": "Python 3.10.4 ('tf')",
   "language": "python",
   "name": "python3"
  },
  "language_info": {
   "codemirror_mode": {
    "name": "ipython",
    "version": 3
   },
   "file_extension": ".py",
   "mimetype": "text/x-python",
   "name": "python",
   "nbconvert_exporter": "python",
   "pygments_lexer": "ipython3",
   "version": "3.10.4"
  },
  "orig_nbformat": 4,
  "vscode": {
   "interpreter": {
    "hash": "3dd3af54f5fe992bccbd23931b262c263c643af7052ca64c3b616d552ec510a8"
   }
  }
 },
 "nbformat": 4,
 "nbformat_minor": 2
}
