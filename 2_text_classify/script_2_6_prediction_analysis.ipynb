{
 "cells": [
  {
   "cell_type": "markdown",
   "metadata": {},
   "source": [
    "# __Step 6 Analyses of models and predictions__\n",
    "\n",
    "Goals: I am interested in:\n",
    "- Model interpretation\n",
    "  - Figure out how top words that define plant sciences are related to each other. \n",
    "  - See if there is certain date range, journal are more challenging to predict.\n",
    "\n",
    "Main questions:\n",
    "- What is the overall performance of model?\n",
    "- What features are important for predictions?\n",
    "- What are the reasons for mispredictions?\n",
    "  - Are there any patterns among predicted instances?\n",
    "  - E.g., publication date, journal.\n",
    "- How are the article related to each other in the W2V space?\n",
    "  - We have the vecortized document. Can plot them with tSNE to see how TP, FP, FN, and TN are distributed.\n",
    "\n",
    "Also for interpretability purpose:\n",
    "- Tf-Idf with `[max_features, ngram_range, p_threshold]=[10000.0, (1, 3), 0.01]` are also examined.\n",
    "- This is because the Tf-Idf values is immediately interpretable and the model is based on XGBoost and I can get feature importance using SHAP."
   ]
  },
  {
   "cell_type": "markdown",
   "metadata": {},
   "source": [
    "## ___Setup___"
   ]
  },
  {
   "cell_type": "markdown",
   "metadata": {},
   "source": [
    "### Import"
   ]
  },
  {
   "cell_type": "code",
   "execution_count": 2,
   "metadata": {},
   "outputs": [
    {
     "name": "stdout",
     "output_type": "stream",
     "text": [
      "Enabling notebook extension jupyter-js-widgets/extension...\n",
      "      - Validating: \u001b[32mOK\u001b[0m\n"
     ]
    }
   ],
   "source": [
    "# Added this line, otherwise tqdm complained about jupyter and ipywidgets need\n",
    "# to be updated, see:\n",
    "# https://stackoverflow.com/questions/67998191/importerror-iprogress-not-found-please-update-jupyter-and-ipywidgets-although\n",
    "!jupyter nbextension enable --py widgetsnbextension"
   ]
  },
  {
   "cell_type": "code",
   "execution_count": 44,
   "metadata": {},
   "outputs": [],
   "source": [
    "import json\n",
    "import pickle\n",
    "import joblib\n",
    "import shap  # 07/03/22: conda install lead to conflict, use pip instead\n",
    "import pandas as pd\n",
    "import numpy as np\n",
    "import seaborn as sns\n",
    "import tensorflow as tf\n",
    "import matplotlib.pyplot as plt\n",
    "import xgboost as xgb\n",
    "from pathlib import Path\n",
    "from sklearn import metrics, manifold, inspection\n",
    "import script_2_3_text_classify_w2v as script23"
   ]
  },
  {
   "cell_type": "markdown",
   "metadata": {},
   "source": [
    "### Configurations"
   ]
  },
  {
   "cell_type": "code",
   "execution_count": 65,
   "metadata": {},
   "outputs": [],
   "source": [
    "rand_state   = 20220609\n",
    "\n",
    "work_dir     = Path.home() / 'projects/plant_sci_hist/2_text_classify'\n",
    "corpus_combo = work_dir / \"corpus_combo\"\n",
    "train_pred   = work_dir / \"corpus_train_pred\"\n",
    "valid_pred   = work_dir / \"corpus_valid_pred\"\n",
    "test_pred    = work_dir / \"corpus_test_pred\"\n",
    "\n",
    "# Trainded Word2Vec model, tokenizer, and vocab for getting embeddings\n",
    "w2v_name   = work_dir / \"model_cln_w2v_20-8-3\"\n",
    "tok_name   = work_dir / \"model_cln_w2v_token_20-8-3\"\n",
    "vocab_name = work_dir / \"model_cln_w2v_vocab_20-8-3\"\n",
    "\n",
    "# W2V DNN checkpoint path\n",
    "cp_filepath = work_dir / \"model_cln_w2v_20-8-3_dnn\"\n",
    "\n",
    "# corpus\n",
    "corpus_train_file = work_dir / 'corpus_train_ori.tsv.gz'\n",
    "\n",
    "# For Tf\n",
    "## Tf model\n",
    "tf_model_file     = work_dir / \"model_ori_tf_1000-1to2-0.0001.sav\"\n",
    "## vectorizer\n",
    "corpus_train_tf_vec_file = work_dir / \\\n",
    "                        \"corpus_ori_tf_1000-1to2-0.0001_vec_sel.pkl\"\n",
    "## selected, vecterized features\n",
    "corpus_train_tf_vec_sel_file = work_dir / \\\n",
    "                        \"corpus_ori_tf_1000-1to2-0.0001_train_vec_sel.json\"\n",
    "\n",
    "# For Tf-idf\n",
    "## Tf-idf model: the name 1000 is a bit strange, CHECK\n",
    "tfidf_model_file = work_dir / \"model_ori_tf-idf_1000-1to2-0.0001.sav\"\n",
    "## vectorizer\n",
    "corpus_train_tfidf_vec_file = work_dir / \\\n",
    "                        \"corpus_ori_tf-idf_1000-1to2-0.0001_vec_sel.pkl\"\n",
    "## selected, vecterized features\n",
    "corpus_train_tfidf_vec_sel_file = work_dir / \\\n",
    "                        \"corpus_ori_tf-idf_1000-1to2-0.0001_train_vec_sel.json\"\n",
    "\n",
    "# Getting ngrams\n",
    "ngram = 3\n",
    "min_count = 20"
   ]
  },
  {
   "cell_type": "code",
   "execution_count": 9,
   "metadata": {},
   "outputs": [],
   "source": [
    "def json_to_df(json_file):\n",
    "  with json_file.open(\"r+\") as f:\n",
    "      json_loaded = json.load(f)\n",
    "  df = pd.read_json(json_loaded)\n",
    "  \n",
    "  return df"
   ]
  },
  {
   "cell_type": "markdown",
   "metadata": {},
   "source": [
    "## ___W2V model performance___"
   ]
  },
  {
   "cell_type": "markdown",
   "metadata": {},
   "source": [
    "### Consolidate predictions with original dataframe"
   ]
  },
  {
   "cell_type": "code",
   "execution_count": 7,
   "metadata": {},
   "outputs": [
    {
     "data": {
      "text/plain": [
       "(86646, 9)"
      ]
     },
     "execution_count": 7,
     "metadata": {},
     "output_type": "execute_result"
    }
   ],
   "source": [
    "# Get the original corpus\n",
    "corpus_ori = json_to_df(corpus_combo)\n",
    "corpus_ori.shape"
   ]
  },
  {
   "cell_type": "code",
   "execution_count": 8,
   "metadata": {},
   "outputs": [],
   "source": [
    "# Load the prediction TSV files as dataframes\n",
    "train_pred_df = pd.read_csv(train_pred, sep='\\t', index_col=0)\n",
    "valid_pred_df = pd.read_csv(valid_pred, sep='\\t', index_col=0)\n",
    "test_pred_df  = pd.read_csv(test_pred , sep='\\t', index_col=0)"
   ]
  },
  {
   "cell_type": "code",
   "execution_count": 9,
   "metadata": {},
   "outputs": [],
   "source": [
    "train_pred_df[\"subset\"] = \"train\"\n",
    "valid_pred_df[\"subset\"] = \"valid\"\n",
    "test_pred_df[\"subset\"]  = \"test\""
   ]
  },
  {
   "cell_type": "code",
   "execution_count": 10,
   "metadata": {},
   "outputs": [
    {
     "data": {
      "text/html": [
       "<div>\n",
       "<style scoped>\n",
       "    .dataframe tbody tr th:only-of-type {\n",
       "        vertical-align: middle;\n",
       "    }\n",
       "\n",
       "    .dataframe tbody tr th {\n",
       "        vertical-align: top;\n",
       "    }\n",
       "\n",
       "    .dataframe thead th {\n",
       "        text-align: right;\n",
       "    }\n",
       "</style>\n",
       "<table border=\"1\" class=\"dataframe\">\n",
       "  <thead>\n",
       "    <tr style=\"text-align: right;\">\n",
       "      <th></th>\n",
       "      <th>y</th>\n",
       "      <th>y_pred</th>\n",
       "      <th>y_prob</th>\n",
       "      <th>X</th>\n",
       "      <th>subset</th>\n",
       "    </tr>\n",
       "  </thead>\n",
       "  <tbody>\n",
       "    <tr>\n",
       "      <th>749481</th>\n",
       "      <td>1</td>\n",
       "      <td>1</td>\n",
       "      <td>0.751335</td>\n",
       "      <td>biodiversity assessment stateoftheart techniqu...</td>\n",
       "      <td>train</td>\n",
       "    </tr>\n",
       "    <tr>\n",
       "      <th>755488</th>\n",
       "      <td>0</td>\n",
       "      <td>1</td>\n",
       "      <td>0.720073</td>\n",
       "      <td>screening inhibitor plant protease d1 using no...</td>\n",
       "      <td>train</td>\n",
       "    </tr>\n",
       "    <tr>\n",
       "      <th>749735</th>\n",
       "      <td>1</td>\n",
       "      <td>1</td>\n",
       "      <td>0.657903</td>\n",
       "      <td>optimized genotyping microsatellite marker fun...</td>\n",
       "      <td>train</td>\n",
       "    </tr>\n",
       "  </tbody>\n",
       "</table>\n",
       "</div>"
      ],
      "text/plain": [
       "        y  y_pred    y_prob  \\\n",
       "749481  1       1  0.751335   \n",
       "755488  0       1  0.720073   \n",
       "749735  1       1  0.657903   \n",
       "\n",
       "                                                        X subset  \n",
       "749481  biodiversity assessment stateoftheart techniqu...  train  \n",
       "755488  screening inhibitor plant protease d1 using no...  train  \n",
       "749735  optimized genotyping microsatellite marker fun...  train  "
      ]
     },
     "execution_count": 10,
     "metadata": {},
     "output_type": "execute_result"
    }
   ],
   "source": [
    "train_pred_df.sample(3)"
   ]
  },
  {
   "cell_type": "code",
   "execution_count": 11,
   "metadata": {},
   "outputs": [
    {
     "name": "stdout",
     "output_type": "stream",
     "text": [
      "nuclear pore complex nuclear pore complex largest supramolecular complex assembles eukaryotic cell s\n",
      "The nuclear pore complex.. The nuclear pore complex is the largest supramolecular complex that assem\n"
     ]
    }
   ],
   "source": [
    "# Make sure the indices between two dataframes are consistent\n",
    "print(train_pred_df.loc[271250].X[:100])\n",
    "print(corpus_ori.loc[271250].txt[:100])"
   ]
  },
  {
   "cell_type": "code",
   "execution_count": 12,
   "metadata": {},
   "outputs": [
    {
     "name": "stdout",
     "output_type": "stream",
     "text": [
      "difference universal diverse orientation among nursing student australia globalization intensified m\n",
      "Differences in universal diverse orientation among nursing students in Australia.. With globalizatio\n"
     ]
    }
   ],
   "source": [
    "# Make sure the indices between two dataframes are consistent\n",
    "print(train_pred_df.loc[583057].X[:100])\n",
    "print(corpus_ori.loc[583057].txt[:100])"
   ]
  },
  {
   "cell_type": "code",
   "execution_count": 13,
   "metadata": {},
   "outputs": [
    {
     "data": {
      "text/plain": [
       "(86646, 5)"
      ]
     },
     "execution_count": 13,
     "metadata": {},
     "output_type": "execute_result"
    }
   ],
   "source": [
    "# Concatenate prediction dataframes\n",
    "pred_df = pd.concat([train_pred_df, valid_pred_df, test_pred_df])\n",
    "pred_df.shape"
   ]
  },
  {
   "cell_type": "code",
   "execution_count": 14,
   "metadata": {},
   "outputs": [
    {
     "data": {
      "text/html": [
       "<div>\n",
       "<style scoped>\n",
       "    .dataframe tbody tr th:only-of-type {\n",
       "        vertical-align: middle;\n",
       "    }\n",
       "\n",
       "    .dataframe tbody tr th {\n",
       "        vertical-align: top;\n",
       "    }\n",
       "\n",
       "    .dataframe thead th {\n",
       "        text-align: right;\n",
       "    }\n",
       "</style>\n",
       "<table border=\"1\" class=\"dataframe\">\n",
       "  <thead>\n",
       "    <tr style=\"text-align: right;\">\n",
       "      <th></th>\n",
       "      <th>y</th>\n",
       "      <th>y_pred</th>\n",
       "      <th>y_prob</th>\n",
       "      <th>X</th>\n",
       "      <th>subset</th>\n",
       "    </tr>\n",
       "  </thead>\n",
       "  <tbody>\n",
       "    <tr>\n",
       "      <th>516651</th>\n",
       "      <td>1</td>\n",
       "      <td>1</td>\n",
       "      <td>0.982180</td>\n",
       "      <td>vivo vitro inhibition catalase leaf nicotiana ...</td>\n",
       "      <td>train</td>\n",
       "    </tr>\n",
       "    <tr>\n",
       "      <th>521301</th>\n",
       "      <td>1</td>\n",
       "      <td>1</td>\n",
       "      <td>0.993828</td>\n",
       "      <td>pathway glucose regulation monosaccharide tran...</td>\n",
       "      <td>train</td>\n",
       "    </tr>\n",
       "    <tr>\n",
       "      <th>65516</th>\n",
       "      <td>0</td>\n",
       "      <td>0</td>\n",
       "      <td>0.001417</td>\n",
       "      <td>feasibility home treatment diarrhoea packaged ...</td>\n",
       "      <td>train</td>\n",
       "    </tr>\n",
       "    <tr>\n",
       "      <th>277058</th>\n",
       "      <td>1</td>\n",
       "      <td>1</td>\n",
       "      <td>0.990589</td>\n",
       "      <td>modulation phosphatidylcholine biosynthesis ce...</td>\n",
       "      <td>train</td>\n",
       "    </tr>\n",
       "    <tr>\n",
       "      <th>753225</th>\n",
       "      <td>1</td>\n",
       "      <td>1</td>\n",
       "      <td>0.921157</td>\n",
       "      <td>120yr period dr beals seed viability experimen...</td>\n",
       "      <td>train</td>\n",
       "    </tr>\n",
       "  </tbody>\n",
       "</table>\n",
       "</div>"
      ],
      "text/plain": [
       "        y  y_pred    y_prob  \\\n",
       "516651  1       1  0.982180   \n",
       "521301  1       1  0.993828   \n",
       "65516   0       0  0.001417   \n",
       "277058  1       1  0.990589   \n",
       "753225  1       1  0.921157   \n",
       "\n",
       "                                                        X subset  \n",
       "516651  vivo vitro inhibition catalase leaf nicotiana ...  train  \n",
       "521301  pathway glucose regulation monosaccharide tran...  train  \n",
       "65516   feasibility home treatment diarrhoea packaged ...  train  \n",
       "277058  modulation phosphatidylcholine biosynthesis ce...  train  \n",
       "753225  120yr period dr beals seed viability experimen...  train  "
      ]
     },
     "execution_count": 14,
     "metadata": {},
     "output_type": "execute_result"
    }
   ],
   "source": [
    "pred_df.head()"
   ]
  },
  {
   "cell_type": "code",
   "execution_count": 15,
   "metadata": {},
   "outputs": [
    {
     "data": {
      "text/html": [
       "<div>\n",
       "<style scoped>\n",
       "    .dataframe tbody tr th:only-of-type {\n",
       "        vertical-align: middle;\n",
       "    }\n",
       "\n",
       "    .dataframe tbody tr th {\n",
       "        vertical-align: top;\n",
       "    }\n",
       "\n",
       "    .dataframe thead th {\n",
       "        text-align: right;\n",
       "    }\n",
       "</style>\n",
       "<table border=\"1\" class=\"dataframe\">\n",
       "  <thead>\n",
       "    <tr style=\"text-align: right;\">\n",
       "      <th></th>\n",
       "      <th>PMID</th>\n",
       "      <th>Date</th>\n",
       "      <th>Journal</th>\n",
       "      <th>Title</th>\n",
       "      <th>Abstract</th>\n",
       "      <th>QualifiedName</th>\n",
       "      <th>txt</th>\n",
       "      <th>label</th>\n",
       "      <th>txt_clean</th>\n",
       "      <th>y</th>\n",
       "      <th>y_pred</th>\n",
       "      <th>y_prob</th>\n",
       "      <th>X</th>\n",
       "      <th>subset</th>\n",
       "    </tr>\n",
       "  </thead>\n",
       "  <tbody>\n",
       "    <tr>\n",
       "      <th>600447</th>\n",
       "      <td>18467466</td>\n",
       "      <td>2008-05-10</td>\n",
       "      <td>Plant physiology</td>\n",
       "      <td>The Arabidopsis halophytic relative Thellungie...</td>\n",
       "      <td>A comprehensive knowledge of mechanisms regula...</td>\n",
       "      <td>plant</td>\n",
       "      <td>The Arabidopsis halophytic relative Thellungie...</td>\n",
       "      <td>1</td>\n",
       "      <td>arabidopsis halophytic relative thellungiella ...</td>\n",
       "      <td>1</td>\n",
       "      <td>1</td>\n",
       "      <td>0.993899</td>\n",
       "      <td>arabidopsis halophytic relative thellungiella ...</td>\n",
       "      <td>train</td>\n",
       "    </tr>\n",
       "    <tr>\n",
       "      <th>583302</th>\n",
       "      <td>18065557</td>\n",
       "      <td>2007-12-11</td>\n",
       "      <td>Plant physiology</td>\n",
       "      <td>An Arabidopsis purple acid phosphatase with ph...</td>\n",
       "      <td>Ascorbate (AsA) is the most abundant antioxida...</td>\n",
       "      <td>plant</td>\n",
       "      <td>An Arabidopsis purple acid phosphatase with ph...</td>\n",
       "      <td>1</td>\n",
       "      <td>arabidopsis purple acid phosphatase phytase ac...</td>\n",
       "      <td>1</td>\n",
       "      <td>1</td>\n",
       "      <td>0.995514</td>\n",
       "      <td>arabidopsis purple acid phosphatase phytase ac...</td>\n",
       "      <td>train</td>\n",
       "    </tr>\n",
       "  </tbody>\n",
       "</table>\n",
       "</div>"
      ],
      "text/plain": [
       "            PMID        Date           Journal  \\\n",
       "600447  18467466  2008-05-10  Plant physiology   \n",
       "583302  18065557  2007-12-11  Plant physiology   \n",
       "\n",
       "                                                    Title  \\\n",
       "600447  The Arabidopsis halophytic relative Thellungie...   \n",
       "583302  An Arabidopsis purple acid phosphatase with ph...   \n",
       "\n",
       "                                                 Abstract QualifiedName  \\\n",
       "600447  A comprehensive knowledge of mechanisms regula...         plant   \n",
       "583302  Ascorbate (AsA) is the most abundant antioxida...         plant   \n",
       "\n",
       "                                                      txt  label  \\\n",
       "600447  The Arabidopsis halophytic relative Thellungie...      1   \n",
       "583302  An Arabidopsis purple acid phosphatase with ph...      1   \n",
       "\n",
       "                                                txt_clean  y  y_pred  \\\n",
       "600447  arabidopsis halophytic relative thellungiella ...  1       1   \n",
       "583302  arabidopsis purple acid phosphatase phytase ac...  1       1   \n",
       "\n",
       "          y_prob                                                  X subset  \n",
       "600447  0.993899  arabidopsis halophytic relative thellungiella ...  train  \n",
       "583302  0.995514  arabidopsis purple acid phosphatase phytase ac...  train  "
      ]
     },
     "execution_count": 15,
     "metadata": {},
     "output_type": "execute_result"
    }
   ],
   "source": [
    "# Concatenate prediction dataframe and the original dataframe\n",
    "combo_pred = pd.concat([corpus_ori, pred_df], axis=1)\n",
    "combo_pred.head(2)"
   ]
  },
  {
   "cell_type": "code",
   "execution_count": 16,
   "metadata": {},
   "outputs": [
    {
     "data": {
      "text/plain": [
       "True"
      ]
     },
     "execution_count": 16,
     "metadata": {},
     "output_type": "execute_result"
    }
   ],
   "source": [
    "# Check the label and y columns again to make sure they are exactly the same\n",
    "combo_pred['label'].equals(combo_pred['y'])"
   ]
  },
  {
   "cell_type": "code",
   "execution_count": 17,
   "metadata": {},
   "outputs": [
    {
     "data": {
      "text/html": [
       "<div>\n",
       "<style scoped>\n",
       "    .dataframe tbody tr th:only-of-type {\n",
       "        vertical-align: middle;\n",
       "    }\n",
       "\n",
       "    .dataframe tbody tr th {\n",
       "        vertical-align: top;\n",
       "    }\n",
       "\n",
       "    .dataframe thead th {\n",
       "        text-align: right;\n",
       "    }\n",
       "</style>\n",
       "<table border=\"1\" class=\"dataframe\">\n",
       "  <thead>\n",
       "    <tr style=\"text-align: right;\">\n",
       "      <th></th>\n",
       "      <th>PMID</th>\n",
       "      <th>Date</th>\n",
       "      <th>Journal</th>\n",
       "      <th>Title</th>\n",
       "      <th>Abstract</th>\n",
       "      <th>QualifiedName</th>\n",
       "      <th>label</th>\n",
       "      <th>y_pred</th>\n",
       "      <th>y_prob</th>\n",
       "      <th>subset</th>\n",
       "    </tr>\n",
       "  </thead>\n",
       "  <tbody>\n",
       "    <tr>\n",
       "      <th>600447</th>\n",
       "      <td>18467466</td>\n",
       "      <td>2008-05-10</td>\n",
       "      <td>Plant physiology</td>\n",
       "      <td>The Arabidopsis halophytic relative Thellungie...</td>\n",
       "      <td>A comprehensive knowledge of mechanisms regula...</td>\n",
       "      <td>plant</td>\n",
       "      <td>1</td>\n",
       "      <td>1</td>\n",
       "      <td>0.993899</td>\n",
       "      <td>train</td>\n",
       "    </tr>\n",
       "    <tr>\n",
       "      <th>583302</th>\n",
       "      <td>18065557</td>\n",
       "      <td>2007-12-11</td>\n",
       "      <td>Plant physiology</td>\n",
       "      <td>An Arabidopsis purple acid phosphatase with ph...</td>\n",
       "      <td>Ascorbate (AsA) is the most abundant antioxida...</td>\n",
       "      <td>plant</td>\n",
       "      <td>1</td>\n",
       "      <td>1</td>\n",
       "      <td>0.995514</td>\n",
       "      <td>train</td>\n",
       "    </tr>\n",
       "  </tbody>\n",
       "</table>\n",
       "</div>"
      ],
      "text/plain": [
       "            PMID        Date           Journal  \\\n",
       "600447  18467466  2008-05-10  Plant physiology   \n",
       "583302  18065557  2007-12-11  Plant physiology   \n",
       "\n",
       "                                                    Title  \\\n",
       "600447  The Arabidopsis halophytic relative Thellungie...   \n",
       "583302  An Arabidopsis purple acid phosphatase with ph...   \n",
       "\n",
       "                                                 Abstract QualifiedName  \\\n",
       "600447  A comprehensive knowledge of mechanisms regula...         plant   \n",
       "583302  Ascorbate (AsA) is the most abundant antioxida...         plant   \n",
       "\n",
       "        label  y_pred    y_prob subset  \n",
       "600447      1       1  0.993899  train  \n",
       "583302      1       1  0.995514  train  "
      ]
     },
     "execution_count": 17,
     "metadata": {},
     "output_type": "execute_result"
    }
   ],
   "source": [
    "# Drop the uncessary columns\n",
    "combo_pred = combo_pred.drop(['txt', 'txt_clean', 'y', 'X'], axis=1)\n",
    "combo_pred.head(2)"
   ]
  },
  {
   "cell_type": "code",
   "execution_count": 18,
   "metadata": {},
   "outputs": [],
   "source": [
    "combo_pred_json = combo_pred.to_json()\n",
    "combo_pred_json_file = work_dir / 'corpus_combo_pred.json'\n",
    "with combo_pred_json_file.open(\"w+\") as f:\n",
    "  json.dump(combo_pred_json, f)"
   ]
  },
  {
   "cell_type": "markdown",
   "metadata": {},
   "source": [
    "### Get confusion matrix\n",
    "\n",
    "Confusion matrix:\n",
    "- tn: 41327\n",
    "- fp: 1996\n",
    "- fn: 888\n",
    "- tp: 42435"
   ]
  },
  {
   "cell_type": "code",
   "execution_count": 19,
   "metadata": {},
   "outputs": [],
   "source": [
    "def get_confusion_matrix(df, subset=\"\"):\n",
    "  if subset == \"\":\n",
    "    y_true = df['label'].values\n",
    "    y_pred = df['y_pred'].values\n",
    "  else:\n",
    "    y_true = df[df['subset'] == subset]['label'].values\n",
    "    y_pred = df[df['subset'] == subset]['y_pred'].values\n",
    "\n",
    "  tn, fp, fn, tp = metrics.confusion_matrix(y_true, y_pred).ravel()\n",
    "\n",
    "  print(\"number of instances:\", sum([tn, fp, fn, tp]))\n",
    "\n",
    "  return tn, fp, fn, tp"
   ]
  },
  {
   "cell_type": "code",
   "execution_count": 20,
   "metadata": {},
   "outputs": [
    {
     "name": "stdout",
     "output_type": "stream",
     "text": [
      "number of instances: 86646\n"
     ]
    },
    {
     "data": {
      "text/plain": [
       "(41327, 1996, 888, 42435)"
      ]
     },
     "execution_count": 20,
     "metadata": {},
     "output_type": "execute_result"
    }
   ],
   "source": [
    "# overall tn, fp, fn, tp\n",
    "get_confusion_matrix(combo_pred, subset=\"\")"
   ]
  },
  {
   "cell_type": "code",
   "execution_count": 21,
   "metadata": {},
   "outputs": [
    {
     "name": "stdout",
     "output_type": "stream",
     "text": [
      "number of instances: 17329\n"
     ]
    },
    {
     "data": {
      "text/plain": [
       "(8244, 420, 209, 8456)"
      ]
     },
     "execution_count": 21,
     "metadata": {},
     "output_type": "execute_result"
    }
   ],
   "source": [
    "# validation tn, fp, fn, tp\n",
    "get_confusion_matrix(combo_pred, subset=\"valid\")"
   ]
  },
  {
   "cell_type": "code",
   "execution_count": 22,
   "metadata": {},
   "outputs": [
    {
     "name": "stdout",
     "output_type": "stream",
     "text": [
      "number of instances: 17330\n"
     ]
    },
    {
     "data": {
      "text/plain": [
       "(8211, 454, 228, 8437)"
      ]
     },
     "execution_count": 22,
     "metadata": {},
     "output_type": "execute_result"
    }
   ],
   "source": [
    "# testing tn, fp, fn, tp\n",
    "get_confusion_matrix(combo_pred, subset=\"test\")"
   ]
  },
  {
   "cell_type": "markdown",
   "metadata": {},
   "source": [
    "### Get prediction probability distributions of tp, tn, fp, fn"
   ]
  },
  {
   "cell_type": "code",
   "execution_count": 23,
   "metadata": {},
   "outputs": [
    {
     "data": {
      "text/plain": [
       "(8437, 10)"
      ]
     },
     "execution_count": 23,
     "metadata": {},
     "output_type": "execute_result"
    }
   ],
   "source": [
    "c_true = combo_pred['label']  # column for true label\n",
    "c_pred = combo_pred['y_pred'] # column for predicted label\n",
    "subset = combo_pred['subset'] # column with subset info\n",
    "combo_test_tp = combo_pred[(c_true == 1) & (c_pred == 1) & (subset == \"test\")]\n",
    "combo_test_tp.shape # Expected 8437 instances"
   ]
  },
  {
   "cell_type": "code",
   "execution_count": 24,
   "metadata": {},
   "outputs": [
    {
     "data": {
      "text/plain": [
       "((8211, 10), (454, 10), (228, 10))"
      ]
     },
     "execution_count": 24,
     "metadata": {},
     "output_type": "execute_result"
    }
   ],
   "source": [
    "combo_test_tn = combo_pred[(c_true == 0) & (c_pred == 0) & (subset == \"test\")]\n",
    "combo_test_fp = combo_pred[(c_true == 0) & (c_pred == 1) & (subset == \"test\")]\n",
    "combo_test_fn = combo_pred[(c_true == 1) & (c_pred == 0) & (subset == \"test\")]\n",
    "# Expected tn=8211, fp=454, fn=228\n",
    "combo_test_tn.shape, combo_test_fp.shape, combo_test_fn.shape"
   ]
  },
  {
   "cell_type": "code",
   "execution_count": 25,
   "metadata": {},
   "outputs": [],
   "source": [
    "# Add another column, labeling TP, FP, TN, FN\n",
    "true_vs_pred = []\n",
    "for i in range(len(c_true)):\n",
    "  if c_true.iloc[i] == 1 and c_pred.iloc[i] == 1:\n",
    "    true_vs_pred.append(\"TP\")\n",
    "  elif c_true.iloc[i] == 1 and c_pred.iloc[i] == 0:\n",
    "    true_vs_pred.append(\"FN\")\n",
    "  elif c_true.iloc[i] == 0 and c_pred.iloc[i] == 0:\n",
    "    true_vs_pred.append(\"TN\")\n",
    "  elif c_true.iloc[i] == 0 and c_pred.iloc[i] == 1:\n",
    "    true_vs_pred.append(\"FP\")\n",
    "  else:\n",
    "    print(\"This should not happen...\")"
   ]
  },
  {
   "cell_type": "code",
   "execution_count": 26,
   "metadata": {},
   "outputs": [
    {
     "data": {
      "text/plain": [
       "(17330, 11)"
      ]
     },
     "execution_count": 26,
     "metadata": {},
     "output_type": "execute_result"
    }
   ],
   "source": [
    "combo_pred[\"true_vs_pred\"] = true_vs_pred\n",
    "combo_pred[(combo_pred[\"subset\"] == \"test\")].shape"
   ]
  },
  {
   "cell_type": "code",
   "execution_count": 27,
   "metadata": {},
   "outputs": [],
   "source": [
    "# Dataframe of test set with positive labels\n",
    "test_pos = combo_pred[(combo_pred[\"subset\"] == \"test\") &\n",
    "                      ((combo_pred[\"true_vs_pred\"] == \"TP\") |\n",
    "                       (combo_pred[\"true_vs_pred\"] == \"FN\"))]\n",
    "# Test set with negative labels\n",
    "test_neg = combo_pred[(combo_pred[\"subset\"] == \"test\") &\n",
    "                      ((combo_pred[\"true_vs_pred\"] == \"TN\") |\n",
    "                       (combo_pred[\"true_vs_pred\"] == \"FP\"))]                      "
   ]
  },
  {
   "cell_type": "code",
   "execution_count": 28,
   "metadata": {},
   "outputs": [
    {
     "data": {
      "text/plain": [
       "((8665, 11), (8665, 11))"
      ]
     },
     "execution_count": 28,
     "metadata": {},
     "output_type": "execute_result"
    }
   ],
   "source": [
    "test_pos.shape, test_neg.shape"
   ]
  },
  {
   "cell_type": "code",
   "execution_count": 29,
   "metadata": {},
   "outputs": [
    {
     "data": {
      "image/png": "[encoded data removed]",
      "text/plain": [
       "<Figure size 720x360 with 2 Axes>"
      ]
     },
     "metadata": {
      "needs_background": "light"
     },
     "output_type": "display_data"
    }
   ],
   "source": [
    "# log scale: \n",
    "# https://seaborn.pydata.org/generated/seaborn.histplot.html\n",
    "# Save figure\n",
    "# https://www.marsja.se/how-to-save-a-seaborn-plot-as-a-file-e-g-png-pdf-eps-tiff/\n",
    "fig, (ax1, ax2) = plt.subplots(1, 2, figsize=(10,5))\n",
    "sns.histplot(data=test_pos, ax=ax1, x=\"y_prob\", hue=\"true_vs_pred\",\n",
    "             bins=100, log_scale=(False, True))\n",
    "sns.histplot(data=test_neg, ax=ax2, x=\"y_prob\", hue=\"true_vs_pred\",\n",
    "             bins=100, log_scale=(False, True))\n",
    "plt.savefig(work_dir / 'figure_corpus_test_w2v_pred_prob.pdf')"
   ]
  },
  {
   "cell_type": "markdown",
   "metadata": {},
   "source": [
    "### Get the embeddings for the dataset"
   ]
  },
  {
   "cell_type": "code",
   "execution_count": 30,
   "metadata": {},
   "outputs": [],
   "source": [
    "# Load word2vec model\n",
    "with open(w2v_name, \"rb\") as f:\n",
    "  model_w2v = pickle.load(f)\n",
    "model_w2v\n",
    "\n",
    "# Load tokenzier and vocab\n",
    "with open(tok_name, \"rb\") as f:\n",
    "  tokenizer = pickle.load(f)\n",
    "\n",
    "with open(vocab_name, \"rb\") as f:\n",
    "  vocab = pickle.load(f)"
   ]
  },
  {
   "cell_type": "code",
   "execution_count": 31,
   "metadata": {},
   "outputs": [
    {
     "data": {
      "text/plain": [
       "(pandas.core.series.Series, (86646,))"
      ]
     },
     "execution_count": 31,
     "metadata": {},
     "output_type": "execute_result"
    }
   ],
   "source": [
    "# Combine title and abstract\n",
    "combo_pred_corpus = combo_pred['Title'] + combo_pred['Abstract']\n",
    "type(combo_pred_corpus), combo_pred_corpus.shape"
   ]
  },
  {
   "cell_type": "code",
   "execution_count": 32,
   "metadata": {},
   "outputs": [],
   "source": [
    "embeddings, X_w2v = script23.get_embeddings(combo_pred_corpus, model_w2v, \n",
    "                                            tokenizer, vocab)"
   ]
  },
  {
   "cell_type": "code",
   "execution_count": 33,
   "metadata": {},
   "outputs": [
    {
     "data": {
      "text/plain": [
       "((86646, 500),\n",
       " array([[    1,    53, 23228, ...,     0,     0,     0],\n",
       "        [25796,    53,  6966, ...,     0,     0,     0],\n",
       "        [    5,  1002,     1, ...,     0,     0,     0],\n",
       "        ...,\n",
       "        [  385,  8958,     1, ...,     0,     0,     0],\n",
       "        [  397,   193,   684, ...,     0,     0,     0],\n",
       "        [    1, 14141,   538, ...,     0,     0,     0]], dtype=int32))"
      ]
     },
     "execution_count": 33,
     "metadata": {},
     "output_type": "execute_result"
    }
   ],
   "source": [
    "X_w2v.shape, X_w2v[:10]"
   ]
  },
  {
   "cell_type": "code",
   "execution_count": 34,
   "metadata": {},
   "outputs": [
    {
     "name": "stderr",
     "output_type": "stream",
     "text": [
      "2022-07-03 09:34:33.493840: I tensorflow/stream_executor/cuda/cuda_gpu_executor.cc:922] could not open file to read NUMA node: /sys/bus/pci/devices/0000:09:00.0/numa_node\n",
      "Your kernel may have been built without NUMA support.\n",
      "2022-07-03 09:34:33.555868: I tensorflow/stream_executor/cuda/cuda_gpu_executor.cc:922] could not open file to read NUMA node: /sys/bus/pci/devices/0000:09:00.0/numa_node\n",
      "Your kernel may have been built without NUMA support.\n",
      "2022-07-03 09:34:33.557265: I tensorflow/stream_executor/cuda/cuda_gpu_executor.cc:922] could not open file to read NUMA node: /sys/bus/pci/devices/0000:09:00.0/numa_node\n",
      "Your kernel may have been built without NUMA support.\n",
      "2022-07-03 09:34:33.560419: I tensorflow/core/platform/cpu_feature_guard.cc:151] This TensorFlow binary is optimized with oneAPI Deep Neural Network Library (oneDNN) to use the following CPU instructions in performance-critical operations:  AVX2 FMA\n",
      "To enable them in other operations, rebuild TensorFlow with the appropriate compiler flags.\n",
      "2022-07-03 09:34:33.563907: I tensorflow/stream_executor/cuda/cuda_gpu_executor.cc:922] could not open file to read NUMA node: /sys/bus/pci/devices/0000:09:00.0/numa_node\n",
      "Your kernel may have been built without NUMA support.\n",
      "2022-07-03 09:34:33.564815: I tensorflow/stream_executor/cuda/cuda_gpu_executor.cc:922] could not open file to read NUMA node: /sys/bus/pci/devices/0000:09:00.0/numa_node\n",
      "Your kernel may have been built without NUMA support.\n",
      "2022-07-03 09:34:33.565424: I tensorflow/stream_executor/cuda/cuda_gpu_executor.cc:922] could not open file to read NUMA node: /sys/bus/pci/devices/0000:09:00.0/numa_node\n",
      "Your kernel may have been built without NUMA support.\n",
      "2022-07-03 09:34:34.785000: I tensorflow/stream_executor/cuda/cuda_gpu_executor.cc:922] could not open file to read NUMA node: /sys/bus/pci/devices/0000:09:00.0/numa_node\n",
      "Your kernel may have been built without NUMA support.\n",
      "2022-07-03 09:34:34.786227: I tensorflow/stream_executor/cuda/cuda_gpu_executor.cc:922] could not open file to read NUMA node: /sys/bus/pci/devices/0000:09:00.0/numa_node\n",
      "Your kernel may have been built without NUMA support.\n",
      "2022-07-03 09:34:34.786253: I tensorflow/core/common_runtime/gpu/gpu_device.cc:1609] Could not identify NUMA node of platform GPU id 0, defaulting to 0.  Your kernel may not have been built with NUMA support.\n",
      "2022-07-03 09:34:34.787050: I tensorflow/stream_executor/cuda/cuda_gpu_executor.cc:922] could not open file to read NUMA node: /sys/bus/pci/devices/0000:09:00.0/numa_node\n",
      "Your kernel may have been built without NUMA support.\n",
      "2022-07-03 09:34:34.787684: I tensorflow/core/common_runtime/gpu/gpu_device.cc:1525] Created device /job:localhost/replica:0/task:0/device:GPU:0 with 21011 MB memory:  -> device: 0, name: NVIDIA GeForce RTX 3090, pci bus id: 0000:09:00.0, compute capability: 8.6\n"
     ]
    }
   ],
   "source": [
    "# Check that the X_w2v is alright by making predictions\n",
    "model_emb = tf.keras.models.load_model(cp_filepath)"
   ]
  },
  {
   "cell_type": "code",
   "execution_count": 35,
   "metadata": {},
   "outputs": [
    {
     "name": "stderr",
     "output_type": "stream",
     "text": [
      "2022-07-03 09:35:14.906798: I tensorflow/stream_executor/cuda/cuda_blas.cc:1786] TensorFloat-32 will be used for the matrix multiplication. This will only be logged once.\n",
      "2022-07-03 09:35:16.941580: I tensorflow/stream_executor/cuda/cuda_dnn.cc:368] Loaded cuDNN version 8201\n"
     ]
    },
    {
     "data": {
      "text/plain": [
       "(array([[0.0249758 , 0.9750242 ],\n",
       "        [0.01043595, 0.98956406],\n",
       "        [0.06747952, 0.93252045],\n",
       "        [0.07230128, 0.92769873],\n",
       "        [0.01478193, 0.9852181 ],\n",
       "        [0.06234697, 0.93765306],\n",
       "        [0.00907795, 0.99092203],\n",
       "        [0.12366401, 0.876336  ],\n",
       "        [0.10641263, 0.8935874 ],\n",
       "        [0.0297601 , 0.97023994]], dtype=float32),\n",
       " 600447     1\n",
       " 583302     1\n",
       " 1267478    1\n",
       " 241978     1\n",
       " 917182     1\n",
       " 514191     1\n",
       " 814841     1\n",
       " 960330     1\n",
       " 1049205    1\n",
       " 1304774    1\n",
       " Name: label, dtype: int64)"
      ]
     },
     "execution_count": 35,
     "metadata": {},
     "output_type": "execute_result"
    }
   ],
   "source": [
    "# predict the 1st 10 instances\n",
    "model_emb.predict(X_w2v[:10]), combo_pred['label'][:10]"
   ]
  },
  {
   "cell_type": "code",
   "execution_count": 36,
   "metadata": {},
   "outputs": [
    {
     "data": {
      "text/plain": [
       "(array([[0.9945773 , 0.00542274],\n",
       "        [0.9464639 , 0.05353615],\n",
       "        [0.99600035, 0.00399965],\n",
       "        [0.9935488 , 0.00645125],\n",
       "        [0.99700075, 0.00299922],\n",
       "        [0.99794525, 0.00205477],\n",
       "        [0.9956126 , 0.00438733],\n",
       "        [0.9980111 , 0.00198888],\n",
       "        [0.99889684, 0.00110317],\n",
       "        [0.998466  , 0.00153406]], dtype=float32),\n",
       " 980575     0\n",
       " 980576     0\n",
       " 1004619    0\n",
       " 1059770    0\n",
       " 1189748    0\n",
       " 1211506    0\n",
       " 1316707    0\n",
       " 1340192    0\n",
       " 1401355    0\n",
       " 1411052    0\n",
       " Name: label, dtype: int64)"
      ]
     },
     "execution_count": 36,
     "metadata": {},
     "output_type": "execute_result"
    }
   ],
   "source": [
    "# predict the last 10 instances\n",
    "model_emb.predict(X_w2v[-10:]), combo_pred['label'][-10:]"
   ]
  },
  {
   "cell_type": "markdown",
   "metadata": {},
   "source": [
    "### tSNE plot\n",
    "\n",
    "They don't separate well. "
   ]
  },
  {
   "cell_type": "code",
   "execution_count": 37,
   "metadata": {},
   "outputs": [
    {
     "name": "stderr",
     "output_type": "stream",
     "text": [
      "/home/shius/miniconda3/envs/tf/lib/python3.10/site-packages/sklearn/manifold/_t_sne.py:982: FutureWarning: The PCA initialization in TSNE will change to have the standard deviation of PC1 equal to 1e-4 in 1.2. This will ensure better convergence.\n",
      "  warnings.warn(\n"
     ]
    }
   ],
   "source": [
    "# https://danielmuellerkomorowska.com/2021/01/05/introduction-to-t-sne-in-python-with-scikit-learn/\n",
    "# https://scikit-learn.org/stable/modules/generated/sklearn.manifold.TSNE.html\n",
    "# Take ~16 min\n",
    "\n",
    "n_components = 2\n",
    "tsne         = manifold.TSNE(n_components, init='pca', learning_rate='auto')\n",
    "tsne_result  = tsne.fit_transform(X_w2v)"
   ]
  },
  {
   "cell_type": "code",
   "execution_count": 38,
   "metadata": {},
   "outputs": [
    {
     "data": {
      "text/plain": [
       "(86646, 2)"
      ]
     },
     "execution_count": 38,
     "metadata": {},
     "output_type": "execute_result"
    }
   ],
   "source": [
    "tsne_result.shape"
   ]
  },
  {
   "cell_type": "code",
   "execution_count": 39,
   "metadata": {},
   "outputs": [
    {
     "data": {
      "image/png": "[encoded data removed]",
      "text/plain": [
       "<Figure size 720x360 with 1 Axes>"
      ]
     },
     "metadata": {
      "needs_background": "light"
     },
     "output_type": "display_data"
    }
   ],
   "source": [
    "# Generate tSNE plot based on label\n",
    "label = combo_pred['label']\n",
    "\n",
    "tsne_result_df = pd.DataFrame({'tsne_1': tsne_result[:,0], \n",
    "                               'tsne_2': tsne_result[:,1], \n",
    "                               'label': label})\n",
    "\n",
    "tsne_result_df_sample = tsne_result_df.sample(10000)\n",
    "\n",
    "fig, ax = plt.subplots(1, figsize=(10,5))\n",
    "sns.scatterplot(x='tsne_1', y='tsne_2', hue='label', ax=ax, s=2, alpha=0.2,\n",
    "                data=tsne_result_df_sample)\n",
    "#lim = (tsne_result.min()-5, tsne_result.max()+5)\n",
    "ax.set_xlim((-2e5, 4e5))\n",
    "ax.set_ylim((-3e5, 3e5))\n",
    "ax.set_aspect('equal')\n",
    "plt.savefig(work_dir / 'figure_corpus_w2v_tsne_label.pdf')"
   ]
  },
  {
   "cell_type": "code",
   "execution_count": 40,
   "metadata": {},
   "outputs": [
    {
     "name": "stdout",
     "output_type": "stream",
     "text": [
      "6 5\n"
     ]
    },
    {
     "data": {
      "text/plain": [
       "4    41384\n",
       "0    40305\n",
       "3     2339\n",
       "1     1328\n",
       "2     1290\n",
       "Name: y_prob, dtype: int64"
      ]
     },
     "execution_count": 40,
     "metadata": {},
     "output_type": "execute_result"
    }
   ],
   "source": [
    "# bin the pred_prob column to used as hue\n",
    "bins = [bin*0.20 for bin in range(0,6)]\n",
    "bin_labels = range(0,5)\n",
    "print(len(bins), len(bin_labels))\n",
    "pred_prob_bins = pd.cut(combo_pred['y_prob'], bins=bins, labels=bin_labels)\n",
    "pred_prob_bins.value_counts()"
   ]
  },
  {
   "cell_type": "code",
   "execution_count": 41,
   "metadata": {},
   "outputs": [
    {
     "data": {
      "image/png": "[encoded data removed]",
      "text/plain": [
       "<Figure size 720x360 with 1 Axes>"
      ]
     },
     "metadata": {
      "needs_background": "light"
     },
     "output_type": "display_data"
    }
   ],
   "source": [
    "tsne_result_df2 = pd.DataFrame({'tsne_1': tsne_result[:,0], \n",
    "                                'tsne_2': tsne_result[:,1], \n",
    "                                'label': pred_prob_bins})\n",
    "\n",
    "tsne_result_df2_sample = tsne_result_df2.sample(10000)\n",
    "\n",
    "fig, ax = plt.subplots(1, figsize=(10,5))\n",
    "sns.scatterplot(x='tsne_1', y='tsne_2', hue='label', ax=ax, s=2, alpha=0.2,\n",
    "                data=tsne_result_df2_sample)\n",
    "#lim = (tsne_result.min()-5, tsne_result.max()+5)\n",
    "ax.set_xlim((-2e5, 4e5))\n",
    "ax.set_ylim((-3e5, 3e5))\n",
    "ax.set_aspect('equal')\n",
    "plt.savefig(work_dir / 'figure_corpus_w2v_tsne_prob.pdf')"
   ]
  },
  {
   "cell_type": "markdown",
   "metadata": {},
   "source": [
    "## ___Interpreting Tf model___"
   ]
  },
  {
   "cell_type": "markdown",
   "metadata": {},
   "source": [
    "### Get model, corpus, vectorizer, and vocab"
   ]
  },
  {
   "cell_type": "code",
   "execution_count": 39,
   "metadata": {},
   "outputs": [],
   "source": [
    "# Load model\n",
    "tf_model = joblib.load(tf_model_file)"
   ]
  },
  {
   "cell_type": "code",
   "execution_count": 6,
   "metadata": {},
   "outputs": [
    {
     "data": {
      "text/plain": [
       "(69316, 2)"
      ]
     },
     "execution_count": 6,
     "metadata": {},
     "output_type": "execute_result"
    }
   ],
   "source": [
    "# Read training data\n",
    "corpus_train = pd.read_csv(corpus_train_file, sep=\"\\t\", compression='gzip',\n",
    "                           index_col=0)\n",
    "corpus_train.shape"
   ]
  },
  {
   "cell_type": "code",
   "execution_count": 7,
   "metadata": {},
   "outputs": [],
   "source": [
    "# Load vectorizer\n",
    "with open(corpus_train_tf_vec_file, 'rb') as f:\n",
    "  tf_vec = pickle.load(f)"
   ]
  },
  {
   "cell_type": "code",
   "execution_count": 8,
   "metadata": {},
   "outputs": [
    {
     "data": {
      "text/plain": [
       "(69316, 899)"
      ]
     },
     "execution_count": 8,
     "metadata": {},
     "output_type": "execute_result"
    }
   ],
   "source": [
    "# transform corpus with vectorizer\n",
    "X_tf_vec = tf_vec.transform(corpus_train['txt'])\n",
    "X_tf_vec.shape"
   ]
  },
  {
   "cell_type": "code",
   "execution_count": 12,
   "metadata": {},
   "outputs": [
    {
     "data": {
      "text/plain": [
       "899"
      ]
     },
     "execution_count": 12,
     "metadata": {},
     "output_type": "execute_result"
    }
   ],
   "source": [
    "# Get vocab: 899 of them\n",
    "tf_vec_vocab = tf_vec.vocabulary_\n",
    "len(tf_vec_vocab.keys())"
   ]
  },
  {
   "cell_type": "code",
   "execution_count": 35,
   "metadata": {},
   "outputs": [
    {
     "data": {
      "text/plain": [
       "(list, 899)"
      ]
     },
     "execution_count": 35,
     "metadata": {},
     "output_type": "execute_result"
    }
   ],
   "source": [
    "tf_feat_names = list(tf_vec_vocab.keys())\n",
    "type(tf_feat_names), len(tf_feat_names)"
   ]
  },
  {
   "cell_type": "markdown",
   "metadata": {},
   "source": [
    "### Get y_prob and y_pred"
   ]
  },
  {
   "cell_type": "code",
   "execution_count": 54,
   "metadata": {},
   "outputs": [],
   "source": [
    "# Get prediction probability\n",
    "y_prob_tf = tf_model.predict_proba(X_tf_vec)\n",
    "# Get predictions\n",
    "y_pred_tf = tf_model.predict(X_tf_vec)\n",
    "# Specify true label\n",
    "y_true_tf = corpus_train['label']"
   ]
  },
  {
   "cell_type": "code",
   "execution_count": 55,
   "metadata": {},
   "outputs": [
    {
     "data": {
      "text/plain": [
       "0.9416044855972949"
      ]
     },
     "execution_count": 55,
     "metadata": {},
     "output_type": "execute_result"
    }
   ],
   "source": [
    "metrics.f1_score(y_true_tf, y_pred_tf)"
   ]
  },
  {
   "cell_type": "markdown",
   "metadata": {},
   "source": [
    "### Get permuation importance\n",
    "\n",
    "___DID NOT WORK!!!!!___"
   ]
  },
  {
   "cell_type": "code",
   "execution_count": 51,
   "metadata": {},
   "outputs": [
    {
     "data": {
      "text/plain": [
       "(scipy.sparse.csr.csr_matrix, (69316, 899), 899)"
      ]
     },
     "execution_count": 51,
     "metadata": {},
     "output_type": "execute_result"
    }
   ],
   "source": [
    "type(X_tf_vec), X_tf_vec.shape, len(tf_feat_names)"
   ]
  },
  {
   "cell_type": "code",
   "execution_count": 56,
   "metadata": {},
   "outputs": [],
   "source": [
    "# Get permutation importance\n",
    "# https://mljar.com/blog/feature-importance-xgboost/\n",
    "\n",
    "# Set up input data\n",
    "X_tf_vec_df = pd.DataFrame.sparse.from_spmatrix(X_tf_vec, columns=tf_feat_names)\n",
    "\n",
    "# call sklearn.inspection.permutation_importance\n",
    "# This takes a while: ~2 hours\n",
    "\n",
    "# AND IT DID NOT WORK!!\n",
    "tf_perm_imp = inspection.permutation_importance(tf_model, X_tf_vec_df, y_true_tf)"
   ]
  },
  {
   "cell_type": "code",
   "execution_count": 57,
   "metadata": {},
   "outputs": [
    {
     "data": {
      "text/plain": [
       "{'importances_mean': array([0., 0., 0., 0., 0., 0., 0., 0., 0., 0., 0., 0., 0., 0., 0., 0., 0.,\n",
       "        0., 0., 0., 0., 0., 0., 0., 0., 0., 0., 0., 0., 0., 0., 0., 0., 0.,\n",
       "        0., 0., 0., 0., 0., 0., 0., 0., 0., 0., 0., 0., 0., 0., 0., 0., 0.,\n",
       "        0., 0., 0., 0., 0., 0., 0., 0., 0., 0., 0., 0., 0., 0., 0., 0., 0.,\n",
       "        0., 0., 0., 0., 0., 0., 0., 0., 0., 0., 0., 0., 0., 0., 0., 0., 0.,\n",
       "        0., 0., 0., 0., 0., 0., 0., 0., 0., 0., 0., 0., 0., 0., 0., 0., 0.,\n",
       "        0., 0., 0., 0., 0., 0., 0., 0., 0., 0., 0., 0., 0., 0., 0., 0., 0.,\n",
       "        0., 0., 0., 0., 0., 0., 0., 0., 0., 0., 0., 0., 0., 0., 0., 0., 0.,\n",
       "        0., 0., 0., 0., 0., 0., 0., 0., 0., 0., 0., 0., 0., 0., 0., 0., 0.,\n",
       "        0., 0., 0., 0., 0., 0., 0., 0., 0., 0., 0., 0., 0., 0., 0., 0., 0.,\n",
       "        0., 0., 0., 0., 0., 0., 0., 0., 0., 0., 0., 0., 0., 0., 0., 0., 0.,\n",
       "        0., 0., 0., 0., 0., 0., 0., 0., 0., 0., 0., 0., 0., 0., 0., 0., 0.,\n",
       "        0., 0., 0., 0., 0., 0., 0., 0., 0., 0., 0., 0., 0., 0., 0., 0., 0.,\n",
       "        0., 0., 0., 0., 0., 0., 0., 0., 0., 0., 0., 0., 0., 0., 0., 0., 0.,\n",
       "        0., 0., 0., 0., 0., 0., 0., 0., 0., 0., 0., 0., 0., 0., 0., 0., 0.,\n",
       "        0., 0., 0., 0., 0., 0., 0., 0., 0., 0., 0., 0., 0., 0., 0., 0., 0.,\n",
       "        0., 0., 0., 0., 0., 0., 0., 0., 0., 0., 0., 0., 0., 0., 0., 0., 0.,\n",
       "        0., 0., 0., 0., 0., 0., 0., 0., 0., 0., 0., 0., 0., 0., 0., 0., 0.,\n",
       "        0., 0., 0., 0., 0., 0., 0., 0., 0., 0., 0., 0., 0., 0., 0., 0., 0.,\n",
       "        0., 0., 0., 0., 0., 0., 0., 0., 0., 0., 0., 0., 0., 0., 0., 0., 0.,\n",
       "        0., 0., 0., 0., 0., 0., 0., 0., 0., 0., 0., 0., 0., 0., 0., 0., 0.,\n",
       "        0., 0., 0., 0., 0., 0., 0., 0., 0., 0., 0., 0., 0., 0., 0., 0., 0.,\n",
       "        0., 0., 0., 0., 0., 0., 0., 0., 0., 0., 0., 0., 0., 0., 0., 0., 0.,\n",
       "        0., 0., 0., 0., 0., 0., 0., 0., 0., 0., 0., 0., 0., 0., 0., 0., 0.,\n",
       "        0., 0., 0., 0., 0., 0., 0., 0., 0., 0., 0., 0., 0., 0., 0., 0., 0.,\n",
       "        0., 0., 0., 0., 0., 0., 0., 0., 0., 0., 0., 0., 0., 0., 0., 0., 0.,\n",
       "        0., 0., 0., 0., 0., 0., 0., 0., 0., 0., 0., 0., 0., 0., 0., 0., 0.,\n",
       "        0., 0., 0., 0., 0., 0., 0., 0., 0., 0., 0., 0., 0., 0., 0., 0., 0.,\n",
       "        0., 0., 0., 0., 0., 0., 0., 0., 0., 0., 0., 0., 0., 0., 0., 0., 0.,\n",
       "        0., 0., 0., 0., 0., 0., 0., 0., 0., 0., 0., 0., 0., 0., 0., 0., 0.,\n",
       "        0., 0., 0., 0., 0., 0., 0., 0., 0., 0., 0., 0., 0., 0., 0., 0., 0.,\n",
       "        0., 0., 0., 0., 0., 0., 0., 0., 0., 0., 0., 0., 0., 0., 0., 0., 0.,\n",
       "        0., 0., 0., 0., 0., 0., 0., 0., 0., 0., 0., 0., 0., 0., 0., 0., 0.,\n",
       "        0., 0., 0., 0., 0., 0., 0., 0., 0., 0., 0., 0., 0., 0., 0., 0., 0.,\n",
       "        0., 0., 0., 0., 0., 0., 0., 0., 0., 0., 0., 0., 0., 0., 0., 0., 0.,\n",
       "        0., 0., 0., 0., 0., 0., 0., 0., 0., 0., 0., 0., 0., 0., 0., 0., 0.,\n",
       "        0., 0., 0., 0., 0., 0., 0., 0., 0., 0., 0., 0., 0., 0., 0., 0., 0.,\n",
       "        0., 0., 0., 0., 0., 0., 0., 0., 0., 0., 0., 0., 0., 0., 0., 0., 0.,\n",
       "        0., 0., 0., 0., 0., 0., 0., 0., 0., 0., 0., 0., 0., 0., 0., 0., 0.,\n",
       "        0., 0., 0., 0., 0., 0., 0., 0., 0., 0., 0., 0., 0., 0., 0., 0., 0.,\n",
       "        0., 0., 0., 0., 0., 0., 0., 0., 0., 0., 0., 0., 0., 0., 0., 0., 0.,\n",
       "        0., 0., 0., 0., 0., 0., 0., 0., 0., 0., 0., 0., 0., 0., 0., 0., 0.,\n",
       "        0., 0., 0., 0., 0., 0., 0., 0., 0., 0., 0., 0., 0., 0., 0., 0., 0.,\n",
       "        0., 0., 0., 0., 0., 0., 0., 0., 0., 0., 0., 0., 0., 0., 0., 0., 0.,\n",
       "        0., 0., 0., 0., 0., 0., 0., 0., 0., 0., 0., 0., 0., 0., 0., 0., 0.,\n",
       "        0., 0., 0., 0., 0., 0., 0., 0., 0., 0., 0., 0., 0., 0., 0., 0., 0.,\n",
       "        0., 0., 0., 0., 0., 0., 0., 0., 0., 0., 0., 0., 0., 0., 0., 0., 0.,\n",
       "        0., 0., 0., 0., 0., 0., 0., 0., 0., 0., 0., 0., 0., 0., 0., 0., 0.,\n",
       "        0., 0., 0., 0., 0., 0., 0., 0., 0., 0., 0., 0., 0., 0., 0., 0., 0.,\n",
       "        0., 0., 0., 0., 0., 0., 0., 0., 0., 0., 0., 0., 0., 0., 0., 0., 0.,\n",
       "        0., 0., 0., 0., 0., 0., 0., 0., 0., 0., 0., 0., 0., 0., 0., 0., 0.,\n",
       "        0., 0., 0., 0., 0., 0., 0., 0., 0., 0., 0., 0., 0., 0., 0., 0., 0.,\n",
       "        0., 0., 0., 0., 0., 0., 0., 0., 0., 0., 0., 0., 0., 0., 0.]),\n",
       " 'importances_std': array([0., 0., 0., 0., 0., 0., 0., 0., 0., 0., 0., 0., 0., 0., 0., 0., 0.,\n",
       "        0., 0., 0., 0., 0., 0., 0., 0., 0., 0., 0., 0., 0., 0., 0., 0., 0.,\n",
       "        0., 0., 0., 0., 0., 0., 0., 0., 0., 0., 0., 0., 0., 0., 0., 0., 0.,\n",
       "        0., 0., 0., 0., 0., 0., 0., 0., 0., 0., 0., 0., 0., 0., 0., 0., 0.,\n",
       "        0., 0., 0., 0., 0., 0., 0., 0., 0., 0., 0., 0., 0., 0., 0., 0., 0.,\n",
       "        0., 0., 0., 0., 0., 0., 0., 0., 0., 0., 0., 0., 0., 0., 0., 0., 0.,\n",
       "        0., 0., 0., 0., 0., 0., 0., 0., 0., 0., 0., 0., 0., 0., 0., 0., 0.,\n",
       "        0., 0., 0., 0., 0., 0., 0., 0., 0., 0., 0., 0., 0., 0., 0., 0., 0.,\n",
       "        0., 0., 0., 0., 0., 0., 0., 0., 0., 0., 0., 0., 0., 0., 0., 0., 0.,\n",
       "        0., 0., 0., 0., 0., 0., 0., 0., 0., 0., 0., 0., 0., 0., 0., 0., 0.,\n",
       "        0., 0., 0., 0., 0., 0., 0., 0., 0., 0., 0., 0., 0., 0., 0., 0., 0.,\n",
       "        0., 0., 0., 0., 0., 0., 0., 0., 0., 0., 0., 0., 0., 0., 0., 0., 0.,\n",
       "        0., 0., 0., 0., 0., 0., 0., 0., 0., 0., 0., 0., 0., 0., 0., 0., 0.,\n",
       "        0., 0., 0., 0., 0., 0., 0., 0., 0., 0., 0., 0., 0., 0., 0., 0., 0.,\n",
       "        0., 0., 0., 0., 0., 0., 0., 0., 0., 0., 0., 0., 0., 0., 0., 0., 0.,\n",
       "        0., 0., 0., 0., 0., 0., 0., 0., 0., 0., 0., 0., 0., 0., 0., 0., 0.,\n",
       "        0., 0., 0., 0., 0., 0., 0., 0., 0., 0., 0., 0., 0., 0., 0., 0., 0.,\n",
       "        0., 0., 0., 0., 0., 0., 0., 0., 0., 0., 0., 0., 0., 0., 0., 0., 0.,\n",
       "        0., 0., 0., 0., 0., 0., 0., 0., 0., 0., 0., 0., 0., 0., 0., 0., 0.,\n",
       "        0., 0., 0., 0., 0., 0., 0., 0., 0., 0., 0., 0., 0., 0., 0., 0., 0.,\n",
       "        0., 0., 0., 0., 0., 0., 0., 0., 0., 0., 0., 0., 0., 0., 0., 0., 0.,\n",
       "        0., 0., 0., 0., 0., 0., 0., 0., 0., 0., 0., 0., 0., 0., 0., 0., 0.,\n",
       "        0., 0., 0., 0., 0., 0., 0., 0., 0., 0., 0., 0., 0., 0., 0., 0., 0.,\n",
       "        0., 0., 0., 0., 0., 0., 0., 0., 0., 0., 0., 0., 0., 0., 0., 0., 0.,\n",
       "        0., 0., 0., 0., 0., 0., 0., 0., 0., 0., 0., 0., 0., 0., 0., 0., 0.,\n",
       "        0., 0., 0., 0., 0., 0., 0., 0., 0., 0., 0., 0., 0., 0., 0., 0., 0.,\n",
       "        0., 0., 0., 0., 0., 0., 0., 0., 0., 0., 0., 0., 0., 0., 0., 0., 0.,\n",
       "        0., 0., 0., 0., 0., 0., 0., 0., 0., 0., 0., 0., 0., 0., 0., 0., 0.,\n",
       "        0., 0., 0., 0., 0., 0., 0., 0., 0., 0., 0., 0., 0., 0., 0., 0., 0.,\n",
       "        0., 0., 0., 0., 0., 0., 0., 0., 0., 0., 0., 0., 0., 0., 0., 0., 0.,\n",
       "        0., 0., 0., 0., 0., 0., 0., 0., 0., 0., 0., 0., 0., 0., 0., 0., 0.,\n",
       "        0., 0., 0., 0., 0., 0., 0., 0., 0., 0., 0., 0., 0., 0., 0., 0., 0.,\n",
       "        0., 0., 0., 0., 0., 0., 0., 0., 0., 0., 0., 0., 0., 0., 0., 0., 0.,\n",
       "        0., 0., 0., 0., 0., 0., 0., 0., 0., 0., 0., 0., 0., 0., 0., 0., 0.,\n",
       "        0., 0., 0., 0., 0., 0., 0., 0., 0., 0., 0., 0., 0., 0., 0., 0., 0.,\n",
       "        0., 0., 0., 0., 0., 0., 0., 0., 0., 0., 0., 0., 0., 0., 0., 0., 0.,\n",
       "        0., 0., 0., 0., 0., 0., 0., 0., 0., 0., 0., 0., 0., 0., 0., 0., 0.,\n",
       "        0., 0., 0., 0., 0., 0., 0., 0., 0., 0., 0., 0., 0., 0., 0., 0., 0.,\n",
       "        0., 0., 0., 0., 0., 0., 0., 0., 0., 0., 0., 0., 0., 0., 0., 0., 0.,\n",
       "        0., 0., 0., 0., 0., 0., 0., 0., 0., 0., 0., 0., 0., 0., 0., 0., 0.,\n",
       "        0., 0., 0., 0., 0., 0., 0., 0., 0., 0., 0., 0., 0., 0., 0., 0., 0.,\n",
       "        0., 0., 0., 0., 0., 0., 0., 0., 0., 0., 0., 0., 0., 0., 0., 0., 0.,\n",
       "        0., 0., 0., 0., 0., 0., 0., 0., 0., 0., 0., 0., 0., 0., 0., 0., 0.,\n",
       "        0., 0., 0., 0., 0., 0., 0., 0., 0., 0., 0., 0., 0., 0., 0., 0., 0.,\n",
       "        0., 0., 0., 0., 0., 0., 0., 0., 0., 0., 0., 0., 0., 0., 0., 0., 0.,\n",
       "        0., 0., 0., 0., 0., 0., 0., 0., 0., 0., 0., 0., 0., 0., 0., 0., 0.,\n",
       "        0., 0., 0., 0., 0., 0., 0., 0., 0., 0., 0., 0., 0., 0., 0., 0., 0.,\n",
       "        0., 0., 0., 0., 0., 0., 0., 0., 0., 0., 0., 0., 0., 0., 0., 0., 0.,\n",
       "        0., 0., 0., 0., 0., 0., 0., 0., 0., 0., 0., 0., 0., 0., 0., 0., 0.,\n",
       "        0., 0., 0., 0., 0., 0., 0., 0., 0., 0., 0., 0., 0., 0., 0., 0., 0.,\n",
       "        0., 0., 0., 0., 0., 0., 0., 0., 0., 0., 0., 0., 0., 0., 0., 0., 0.,\n",
       "        0., 0., 0., 0., 0., 0., 0., 0., 0., 0., 0., 0., 0., 0., 0., 0., 0.,\n",
       "        0., 0., 0., 0., 0., 0., 0., 0., 0., 0., 0., 0., 0., 0., 0.]),\n",
       " 'importances': array([[0., 0., 0., 0., 0.],\n",
       "        [0., 0., 0., 0., 0.],\n",
       "        [0., 0., 0., 0., 0.],\n",
       "        ...,\n",
       "        [0., 0., 0., 0., 0.],\n",
       "        [0., 0., 0., 0., 0.],\n",
       "        [0., 0., 0., 0., 0.]])}"
      ]
     },
     "execution_count": 57,
     "metadata": {},
     "output_type": "execute_result"
    }
   ],
   "source": [
    "tf_perm_imp"
   ]
  },
  {
   "cell_type": "markdown",
   "metadata": {},
   "source": [
    "### Get SHAP importance"
   ]
  },
  {
   "cell_type": "code",
   "execution_count": 58,
   "metadata": {},
   "outputs": [
    {
     "data": {
      "text/plain": [
       "(numpy.ndarray, (899,))"
      ]
     },
     "execution_count": 58,
     "metadata": {},
     "output_type": "execute_result"
    }
   ],
   "source": [
    "# Unsure what the values means...\n",
    "tf_importances = tf_model.feature_importances_\n",
    "type(tf_importances), tf_importances.shape"
   ]
  },
  {
   "cell_type": "code",
   "execution_count": 59,
   "metadata": {},
   "outputs": [],
   "source": [
    "# Provide feature names\n",
    "#https://stackoverflow.com/questions/46943314/xgboost-plot-importance-doesnt-show-feature-names\n",
    "tf_model.get_booster().feature_names = tf_feat_names"
   ]
  },
  {
   "cell_type": "code",
   "execution_count": 76,
   "metadata": {},
   "outputs": [
    {
     "data": {
      "image/png": "[encoded data removed]",
      "text/plain": [
       "<Figure size 432x432 with 1 Axes>"
      ]
     },
     "metadata": {
      "needs_background": "light"
     },
     "output_type": "display_data"
    }
   ],
   "source": [
    "# Plot importance\n",
    "# https://xgboost.readthedocs.io/en/stable/python/python_api.html#module-xgboost.plotting\n",
    "fig_xgb_imp_weight_file = work_dir/'figure_tf_model_imp_xgb_weight_20.pdf'\n",
    "\n",
    "plt.rcParams[\"figure.figsize\"] = (6, 6)\n",
    "xgb.plot_importance(tf_model, max_num_features=20, show_values=False)\n",
    "plt.savefig(fig_xgb_imp_weight_file)"
   ]
  },
  {
   "cell_type": "code",
   "execution_count": 62,
   "metadata": {},
   "outputs": [
    {
     "data": {
      "text/plain": [
       "shap.explainers._tree.Tree"
      ]
     },
     "execution_count": 62,
     "metadata": {},
     "output_type": "execute_result"
    }
   ],
   "source": [
    "# The above is not particularly helpful, need info on direction of importance\n",
    "# So use \n",
    "tf_explainer = shap.TreeExplainer(tf_model)\n",
    "type(tf_explainer)"
   ]
  },
  {
   "cell_type": "code",
   "execution_count": 63,
   "metadata": {},
   "outputs": [
    {
     "name": "stderr",
     "output_type": "stream",
     "text": [
      "pandas.Int64Index is deprecated and will be removed from pandas in a future version. Use pandas.Index with the appropriate dtype instead.\n",
      "ntree_limit is deprecated, use `iteration_range` or model slicing instead.\n"
     ]
    },
    {
     "data": {
      "text/plain": [
       "(69316, 899)"
      ]
     },
     "execution_count": 63,
     "metadata": {},
     "output_type": "execute_result"
    }
   ],
   "source": [
    "# ~2 min\n",
    "tf_shap_val = tf_explainer.shap_values(X_tf_vec_df)\n",
    "len(tf_shap_val), len(tf_shap_val[0])"
   ]
  },
  {
   "cell_type": "code",
   "execution_count": 77,
   "metadata": {},
   "outputs": [
    {
     "data": {
      "image/png": "[encoded data removed]",
      "text/plain": [
       "<Figure size 576x684 with 2 Axes>"
      ]
     },
     "metadata": {
      "needs_background": "light"
     },
     "output_type": "display_data"
    },
    {
     "data": {
      "text/plain": [
       "<Figure size 432x432 with 0 Axes>"
      ]
     },
     "metadata": {},
     "output_type": "display_data"
    }
   ],
   "source": [
    "shap.summary_plot(tf_shap_val, X_tf_vec_df)\n",
    "fig_tf_shap_importance = work_dir/'figure_tf_model_shap.pdf'\n",
    "plt.savefig(fig_tf_shap_importance)"
   ]
  },
  {
   "cell_type": "markdown",
   "metadata": {},
   "source": [
    "## ___Interpreting Tf-idf model___"
   ]
  },
  {
   "cell_type": "markdown",
   "metadata": {},
   "source": [
    "### Get model, corpus, vectorizer, and vocab"
   ]
  },
  {
   "cell_type": "code",
   "execution_count": 66,
   "metadata": {},
   "outputs": [],
   "source": [
    "# Load model\n",
    "tfidf_model = joblib.load(tfidf_model_file)"
   ]
  },
  {
   "cell_type": "code",
   "execution_count": 67,
   "metadata": {},
   "outputs": [],
   "source": [
    "# Load vectorizer\n",
    "with open(corpus_train_tfidf_vec_file, 'rb') as f:\n",
    "  tfidf_vec = pickle.load(f)"
   ]
  },
  {
   "cell_type": "code",
   "execution_count": 68,
   "metadata": {},
   "outputs": [
    {
     "data": {
      "text/plain": [
       "(69316, 639)"
      ]
     },
     "execution_count": 68,
     "metadata": {},
     "output_type": "execute_result"
    }
   ],
   "source": [
    "# transform corpus with vectorizer\n",
    "X_tfidf_vec = tfidf_vec.transform(corpus_train['txt'])\n",
    "X_tfidf_vec.shape"
   ]
  },
  {
   "cell_type": "code",
   "execution_count": 70,
   "metadata": {},
   "outputs": [
    {
     "data": {
      "text/plain": [
       "639"
      ]
     },
     "execution_count": 70,
     "metadata": {},
     "output_type": "execute_result"
    }
   ],
   "source": [
    "# Get vocab: 899 of them\n",
    "tfidf_vec_vocab = tfidf_vec.vocabulary_\n",
    "len(tfidf_vec_vocab.keys())"
   ]
  },
  {
   "cell_type": "code",
   "execution_count": 71,
   "metadata": {},
   "outputs": [],
   "source": [
    "tfidf_feat_names = list(tfidf_vec_vocab.keys())"
   ]
  },
  {
   "cell_type": "markdown",
   "metadata": {},
   "source": [
    "### Get y_prob and y_pred"
   ]
  },
  {
   "cell_type": "code",
   "execution_count": 72,
   "metadata": {},
   "outputs": [],
   "source": [
    "# Get prediction probability\n",
    "y_prob_tfidf = tfidf_model.predict_proba(X_tfidf_vec)\n",
    "# Get predictions\n",
    "y_pred_tfidf = tfidf_model.predict(X_tfidf_vec)\n",
    "# Specify true label\n",
    "y_true_tfidf = corpus_train['label']"
   ]
  },
  {
   "cell_type": "code",
   "execution_count": 73,
   "metadata": {},
   "outputs": [
    {
     "data": {
      "text/plain": [
       "0.9412654254939724"
      ]
     },
     "execution_count": 73,
     "metadata": {},
     "output_type": "execute_result"
    }
   ],
   "source": [
    "metrics.f1_score(y_true_tfidf, y_pred_tfidf)"
   ]
  },
  {
   "cell_type": "markdown",
   "metadata": {},
   "source": [
    "### Get SHAP importance"
   ]
  },
  {
   "cell_type": "code",
   "execution_count": 79,
   "metadata": {},
   "outputs": [
    {
     "data": {
      "text/plain": [
       "(numpy.ndarray, (639,))"
      ]
     },
     "execution_count": 79,
     "metadata": {},
     "output_type": "execute_result"
    }
   ],
   "source": [
    "# Unsure what the values means...\n",
    "tfidf_importances = tfidf_model.feature_importances_\n",
    "type(tfidf_importances), tfidf_importances.shape"
   ]
  },
  {
   "cell_type": "code",
   "execution_count": 80,
   "metadata": {},
   "outputs": [],
   "source": [
    "# Provide feature names\n",
    "#https://stackoverflow.com/questions/46943314/xgboost-plot-importance-doesnt-show-feature-names\n",
    "tfidf_model.get_booster().feature_names = tfidf_feat_names"
   ]
  },
  {
   "cell_type": "code",
   "execution_count": 81,
   "metadata": {},
   "outputs": [
    {
     "data": {
      "image/png": "[encoded data removed]",
      "text/plain": [
       "<Figure size 432x432 with 1 Axes>"
      ]
     },
     "metadata": {
      "needs_background": "light"
     },
     "output_type": "display_data"
    }
   ],
   "source": [
    "# Plot importance\n",
    "# https://xgboost.readthedocs.io/en/stable/python/python_api.html#module-xgboost.plotting\n",
    "fig_xgb_imp_weight_file_tfidf = work_dir/ \\\n",
    "                                    'figure_tfidf_model_imp_xgb_weight_20.pdf'\n",
    "\n",
    "plt.rcParams[\"figure.figsize\"] = (6, 6)\n",
    "xgb.plot_importance(tfidf_model, max_num_features=20, show_values=False)\n",
    "plt.savefig(fig_xgb_imp_weight_file_tfidf)"
   ]
  },
  {
   "cell_type": "code",
   "execution_count": 82,
   "metadata": {},
   "outputs": [
    {
     "data": {
      "text/plain": [
       "shap.explainers._tree.Tree"
      ]
     },
     "execution_count": 82,
     "metadata": {},
     "output_type": "execute_result"
    }
   ],
   "source": [
    "# The above is not particularly helpful, need info on direction of importance\n",
    "# So use \n",
    "tfidf_explainer = shap.TreeExplainer(tfidf_model)\n",
    "type(tf_explainer)"
   ]
  },
  {
   "cell_type": "code",
   "execution_count": 84,
   "metadata": {},
   "outputs": [
    {
     "name": "stderr",
     "output_type": "stream",
     "text": [
      "pandas.Int64Index is deprecated and will be removed from pandas in a future version. Use pandas.Index with the appropriate dtype instead.\n",
      "ntree_limit is deprecated, use `iteration_range` or model slicing instead.\n"
     ]
    },
    {
     "data": {
      "text/plain": [
       "(69316, 639)"
      ]
     },
     "execution_count": 84,
     "metadata": {},
     "output_type": "execute_result"
    }
   ],
   "source": [
    "# ~2 min\n",
    "X_tfidf_vec_df = pd.DataFrame.sparse.from_spmatrix(X_tfidf_vec, \n",
    "                                                   columns=tfidf_feat_names)\n",
    "\n",
    "tfidf_shap_val = tfidf_explainer.shap_values(X_tfidf_vec_df)\n",
    "len(tfidf_shap_val), len(tfidf_shap_val[0])"
   ]
  },
  {
   "cell_type": "code",
   "execution_count": 85,
   "metadata": {},
   "outputs": [
    {
     "data": {
      "image/png": "[encoded data removed]",
      "text/plain": [
       "<Figure size 576x684 with 2 Axes>"
      ]
     },
     "metadata": {
      "needs_background": "light"
     },
     "output_type": "display_data"
    },
    {
     "data": {
      "text/plain": [
       "<Figure size 432x432 with 0 Axes>"
      ]
     },
     "metadata": {},
     "output_type": "display_data"
    }
   ],
   "source": [
    "shap.summary_plot(tfidf_shap_val, X_tfidf_vec_df)\n",
    "fig_tfidf_shap_importance = work_dir/'figure_tfidf_model_shap.pdf'\n",
    "plt.savefig(fig_tfidf_shap_importance)"
   ]
  },
  {
   "cell_type": "code",
   "execution_count": null,
   "metadata": {},
   "outputs": [],
   "source": []
  },
  {
   "cell_type": "code",
   "execution_count": null,
   "metadata": {},
   "outputs": [],
   "source": []
  },
  {
   "cell_type": "code",
   "execution_count": null,
   "metadata": {},
   "outputs": [],
   "source": []
  },
  {
   "cell_type": "code",
   "execution_count": null,
   "metadata": {},
   "outputs": [],
   "source": []
  },
  {
   "cell_type": "code",
   "execution_count": null,
   "metadata": {},
   "outputs": [],
   "source": []
  },
  {
   "cell_type": "code",
   "execution_count": null,
   "metadata": {},
   "outputs": [],
   "source": []
  },
  {
   "cell_type": "code",
   "execution_count": null,
   "metadata": {},
   "outputs": [],
   "source": []
  },
  {
   "cell_type": "markdown",
   "metadata": {},
   "source": [
    "## ___For testing___"
   ]
  },
  {
   "cell_type": "markdown",
   "metadata": {},
   "source": [
    "### Add an incorrect column and get all the wrongly predicted entries"
   ]
  },
  {
   "cell_type": "code",
   "execution_count": null,
   "metadata": {},
   "outputs": [],
   "source": [
    "incorrect = [val_l[i] != val_y[i] for i in range(len(val_l)) ]"
   ]
  },
  {
   "cell_type": "code",
   "execution_count": null,
   "metadata": {},
   "outputs": [],
   "source": [
    "combo_pred['incorrect'] = incorrect\n",
    "combo_pred.shape"
   ]
  },
  {
   "cell_type": "code",
   "execution_count": null,
   "metadata": {},
   "outputs": [],
   "source": [
    "combo_pred_wrong = combo_pred[incorrect]\n",
    "combo_pred_wrong.shape"
   ]
  },
  {
   "cell_type": "code",
   "execution_count": null,
   "metadata": {},
   "outputs": [],
   "source": [
    "combo_pred_wrong.sample(2)"
   ]
  },
  {
   "cell_type": "markdown",
   "metadata": {},
   "source": [
    "### Plot prediction proab"
   ]
  },
  {
   "cell_type": "code",
   "execution_count": null,
   "metadata": {},
   "outputs": [],
   "source": [
    "sns.set_style('whitegrid')\n",
    "sns.kdeplot(np.array(combo_test_tp[\"y_prob\"]), bw_method=0.5)\n",
    "sns.kdeplot(np.array(combo_test_fp[\"y_prob\"]), bw_method=0.5)\n",
    "sns.kdeplot(np.array(combo_test_tn[\"y_prob\"]), bw_method=0.5)\n",
    "sns.kdeplot(np.array(combo_test_fn[\"y_prob\"]), bw_method=0.5)"
   ]
  },
  {
   "cell_type": "markdown",
   "metadata": {},
   "source": [
    "Problem with the above plot is that the distributions are fitted and value ranges are not correct."
   ]
  },
  {
   "cell_type": "code",
   "execution_count": null,
   "metadata": {},
   "outputs": [],
   "source": [
    "fig, axs = plt.subplots(2, 2)\n",
    "bins = np.linspace(0, 1, 100)\n",
    "fig.suptitle('Prediction probabilities')\n",
    "axs[0,0].hist(combo_test_tp[\"y_prob\"], bins, alpha=0.5)\n",
    "axs[0,0].legend(\"TP\", loc=\"upper center\")\n",
    "axs[0,1].hist(combo_test_tn[\"y_prob\"], bins, alpha=0.5)\n",
    "axs[0,1].legend(\"TN \", loc=\"upper center\")\n",
    "axs[1,0].hist(combo_test_fp[\"y_prob\"], bins, alpha=0.5)\n",
    "axs[1,0].legend(\"FP \", loc=\"upper center\")\n",
    "axs[1,1].hist(combo_test_fn[\"y_prob\"], bins, alpha=0.5)\n",
    "axs[1,1].legend(\"FN \", loc=\"upper center\")\n",
    "plt.show()"
   ]
  },
  {
   "cell_type": "markdown",
   "metadata": {},
   "source": [
    "... Can do better."
   ]
  },
  {
   "cell_type": "code",
   "execution_count": null,
   "metadata": {},
   "outputs": [],
   "source": [
    "sns.histplot(data=combo_pred[combo_pred[\"subset\"] == \"test\"],\n",
    "             x=\"y_prob\", \n",
    "             hue=\"true_vs_pred\",\n",
    "             stat=\"density\",\n",
    "             common_norm=False,\n",
    "             bins=100, alpha=0.5)"
   ]
  },
  {
   "cell_type": "code",
   "execution_count": null,
   "metadata": {},
   "outputs": [],
   "source": []
  },
  {
   "cell_type": "code",
   "execution_count": null,
   "metadata": {},
   "outputs": [],
   "source": []
  }
 ],
 "metadata": {
  "kernelspec": {
   "display_name": "Python 3.10.4 ('tf')",
   "language": "python",
   "name": "python3"
  },
  "language_info": {
   "codemirror_mode": {
    "name": "ipython",
    "version": 3
   },
   "file_extension": ".py",
   "mimetype": "text/x-python",
   "name": "python",
   "nbconvert_exporter": "python",
   "pygments_lexer": "ipython3",
   "version": "3.10.4"
  },
  "orig_nbformat": 4,
  "vscode": {
   "interpreter": {
    "hash": "3dd3af54f5fe992bccbd23931b262c263c643af7052ca64c3b616d552ec510a8"
   }
  }
 },
 "nbformat": 4,
 "nbformat_minor": 2
}
