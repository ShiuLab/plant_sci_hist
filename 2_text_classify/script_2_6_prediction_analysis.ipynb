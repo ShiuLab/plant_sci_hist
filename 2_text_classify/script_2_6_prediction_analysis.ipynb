{
 "cells": [
  {
   "cell_type": "markdown",
   "metadata": {},
   "source": [
    "# __2.6 Prediction analysis__\n",
    "\n",
    "Main questions:\n",
    "- What is the overall performance of model?\n",
    "- What features are important for predictions?\n",
    "- What are the reasons for mispredictions?\n",
    "  - Are there any patterns among predicted instances?\n",
    "  - E.g., publication date, journal."
   ]
  },
  {
   "cell_type": "markdown",
   "metadata": {},
   "source": [
    "## ___Setup___"
   ]
  },
  {
   "cell_type": "markdown",
   "metadata": {},
   "source": [
    "### Import"
   ]
  },
  {
   "cell_type": "code",
   "execution_count": 1,
   "metadata": {},
   "outputs": [],
   "source": [
    "import json\n",
    "import pandas as pd\n",
    "from pathlib import Path"
   ]
  },
  {
   "cell_type": "markdown",
   "metadata": {},
   "source": [
    "### Configurations"
   ]
  },
  {
   "cell_type": "code",
   "execution_count": 2,
   "metadata": {},
   "outputs": [],
   "source": [
    "work_dir     = Path.home() / 'projects/plant_sci_hist/2_text_classify'\n",
    "corpus_combo = work_dir / \"corpus_combo\"\n",
    "train_pred   = work_dir / \"corpus_train_pred\"\n",
    "valid_pred   = work_dir / \"corpus_valid_pred\"\n",
    "test_pred    = work_dir / \"corpus_test_pred\""
   ]
  },
  {
   "cell_type": "markdown",
   "metadata": {},
   "source": [
    "### Consolidate predictions with original dataframe"
   ]
  },
  {
   "cell_type": "code",
   "execution_count": 3,
   "metadata": {},
   "outputs": [],
   "source": [
    "def json_to_df(json_file):\n",
    "  with json_file.open(\"r+\") as f:\n",
    "      json_loaded = json.load(f)\n",
    "  df = pd.read_json(json_loaded)\n",
    "  \n",
    "  return df"
   ]
  },
  {
   "cell_type": "code",
   "execution_count": 4,
   "metadata": {},
   "outputs": [
    {
     "data": {
      "text/plain": [
       "(86646, 9)"
      ]
     },
     "execution_count": 4,
     "metadata": {},
     "output_type": "execute_result"
    }
   ],
   "source": [
    "# Get the original corpus\n",
    "corpus_ori = json_to_df(corpus_combo)\n",
    "corpus_ori.shape"
   ]
  },
  {
   "cell_type": "code",
   "execution_count": 5,
   "metadata": {},
   "outputs": [],
   "source": [
    "# Load the prediction TSV files as dataframes\n",
    "train_pred_df = pd.read_csv(train_pred, sep='\\t', index_col=0)\n",
    "valid_pred_df = pd.read_csv(valid_pred, sep='\\t', index_col=0)\n",
    "test_pred_df  = pd.read_csv(test_pred , sep='\\t', index_col=0)"
   ]
  },
  {
   "cell_type": "code",
   "execution_count": 6,
   "metadata": {},
   "outputs": [],
   "source": [
    "train_pred_df[\"subset\"] = \"train\"\n",
    "valid_pred_df[\"subset\"] = \"valid\"\n",
    "test_pred_df[\"subset\"]  = \"test\""
   ]
  },
  {
   "cell_type": "code",
   "execution_count": 7,
   "metadata": {},
   "outputs": [
    {
     "data": {
      "text/html": [
       "<div>\n",
       "<style scoped>\n",
       "    .dataframe tbody tr th:only-of-type {\n",
       "        vertical-align: middle;\n",
       "    }\n",
       "\n",
       "    .dataframe tbody tr th {\n",
       "        vertical-align: top;\n",
       "    }\n",
       "\n",
       "    .dataframe thead th {\n",
       "        text-align: right;\n",
       "    }\n",
       "</style>\n",
       "<table border=\"1\" class=\"dataframe\">\n",
       "  <thead>\n",
       "    <tr style=\"text-align: right;\">\n",
       "      <th></th>\n",
       "      <th>y</th>\n",
       "      <th>y_pred</th>\n",
       "      <th>y_prob</th>\n",
       "      <th>X</th>\n",
       "      <th>subset</th>\n",
       "    </tr>\n",
       "  </thead>\n",
       "  <tbody>\n",
       "    <tr>\n",
       "      <th>695692</th>\n",
       "      <td>0</td>\n",
       "      <td>0</td>\n",
       "      <td>0.000553</td>\n",
       "      <td>improving induction therapy multiple myeloma s...</td>\n",
       "      <td>train</td>\n",
       "    </tr>\n",
       "    <tr>\n",
       "      <th>1248319</th>\n",
       "      <td>0</td>\n",
       "      <td>1</td>\n",
       "      <td>0.966950</td>\n",
       "      <td>characterization two arabidopsis lgulono1,4lac...</td>\n",
       "      <td>train</td>\n",
       "    </tr>\n",
       "    <tr>\n",
       "      <th>318231</th>\n",
       "      <td>0</td>\n",
       "      <td>0</td>\n",
       "      <td>0.000422</td>\n",
       "      <td>analysis gastrointestinal amyloidosis 78 patie...</td>\n",
       "      <td>train</td>\n",
       "    </tr>\n",
       "  </tbody>\n",
       "</table>\n",
       "</div>"
      ],
      "text/plain": [
       "         y  y_pred    y_prob  \\\n",
       "695692   0       0  0.000553   \n",
       "1248319  0       1  0.966950   \n",
       "318231   0       0  0.000422   \n",
       "\n",
       "                                                         X subset  \n",
       "695692   improving induction therapy multiple myeloma s...  train  \n",
       "1248319  characterization two arabidopsis lgulono1,4lac...  train  \n",
       "318231   analysis gastrointestinal amyloidosis 78 patie...  train  "
      ]
     },
     "execution_count": 7,
     "metadata": {},
     "output_type": "execute_result"
    }
   ],
   "source": [
    "train_pred_df.sample(3)"
   ]
  },
  {
   "cell_type": "code",
   "execution_count": 8,
   "metadata": {},
   "outputs": [
    {
     "name": "stdout",
     "output_type": "stream",
     "text": [
      "improving induction therapy multiple myeloma significant improvement induction therapy multiple myel\n",
      "Improving induction therapy in multiple myeloma.. Significant improvements in induction therapy for \n"
     ]
    }
   ],
   "source": [
    "# Make sure the indices between two dataframes are consistent\n",
    "print(train_pred_df.loc[695692].X[:100])\n",
    "print(corpus_ori.loc[695692].txt[:100])"
   ]
  },
  {
   "cell_type": "code",
   "execution_count": 9,
   "metadata": {},
   "outputs": [
    {
     "name": "stdout",
     "output_type": "stream",
     "text": [
      "characterization two arabidopsis lgulono1,4lactone oxidases, atgullo3 atgullo5, involved ascorbate b\n",
      "Characterization of Two Arabidopsis L-Gulono-1,4-lactone Oxidases, AtGulLO3 and AtGulLO5, Involved i\n"
     ]
    }
   ],
   "source": [
    "# Make sure the indices between two dataframes are consistent\n",
    "print(train_pred_df.loc[1248319].X[:100])\n",
    "print(corpus_ori.loc[1248319].txt[:100])"
   ]
  },
  {
   "cell_type": "code",
   "execution_count": 10,
   "metadata": {},
   "outputs": [
    {
     "data": {
      "text/plain": [
       "(86646, 5)"
      ]
     },
     "execution_count": 10,
     "metadata": {},
     "output_type": "execute_result"
    }
   ],
   "source": [
    "# Concatenate prediction dataframes\n",
    "pred_df = pd.concat([train_pred_df, valid_pred_df, test_pred_df])\n",
    "pred_df.shape"
   ]
  },
  {
   "cell_type": "code",
   "execution_count": 12,
   "metadata": {},
   "outputs": [
    {
     "data": {
      "text/html": [
       "<div>\n",
       "<style scoped>\n",
       "    .dataframe tbody tr th:only-of-type {\n",
       "        vertical-align: middle;\n",
       "    }\n",
       "\n",
       "    .dataframe tbody tr th {\n",
       "        vertical-align: top;\n",
       "    }\n",
       "\n",
       "    .dataframe thead th {\n",
       "        text-align: right;\n",
       "    }\n",
       "</style>\n",
       "<table border=\"1\" class=\"dataframe\">\n",
       "  <thead>\n",
       "    <tr style=\"text-align: right;\">\n",
       "      <th></th>\n",
       "      <th>y</th>\n",
       "      <th>y_pred</th>\n",
       "      <th>y_prob</th>\n",
       "      <th>X</th>\n",
       "      <th>subset</th>\n",
       "    </tr>\n",
       "  </thead>\n",
       "  <tbody>\n",
       "    <tr>\n",
       "      <th>516651</th>\n",
       "      <td>1</td>\n",
       "      <td>1</td>\n",
       "      <td>0.982180</td>\n",
       "      <td>vivo vitro inhibition catalase leaf nicotiana ...</td>\n",
       "      <td>train</td>\n",
       "    </tr>\n",
       "    <tr>\n",
       "      <th>521301</th>\n",
       "      <td>1</td>\n",
       "      <td>1</td>\n",
       "      <td>0.993828</td>\n",
       "      <td>pathway glucose regulation monosaccharide tran...</td>\n",
       "      <td>train</td>\n",
       "    </tr>\n",
       "    <tr>\n",
       "      <th>65516</th>\n",
       "      <td>0</td>\n",
       "      <td>0</td>\n",
       "      <td>0.001417</td>\n",
       "      <td>feasibility home treatment diarrhoea packaged ...</td>\n",
       "      <td>train</td>\n",
       "    </tr>\n",
       "    <tr>\n",
       "      <th>277058</th>\n",
       "      <td>1</td>\n",
       "      <td>1</td>\n",
       "      <td>0.990589</td>\n",
       "      <td>modulation phosphatidylcholine biosynthesis ce...</td>\n",
       "      <td>train</td>\n",
       "    </tr>\n",
       "    <tr>\n",
       "      <th>753225</th>\n",
       "      <td>1</td>\n",
       "      <td>1</td>\n",
       "      <td>0.921157</td>\n",
       "      <td>120yr period dr beals seed viability experimen...</td>\n",
       "      <td>train</td>\n",
       "    </tr>\n",
       "  </tbody>\n",
       "</table>\n",
       "</div>"
      ],
      "text/plain": [
       "        y  y_pred    y_prob  \\\n",
       "516651  1       1  0.982180   \n",
       "521301  1       1  0.993828   \n",
       "65516   0       0  0.001417   \n",
       "277058  1       1  0.990589   \n",
       "753225  1       1  0.921157   \n",
       "\n",
       "                                                        X subset  \n",
       "516651  vivo vitro inhibition catalase leaf nicotiana ...  train  \n",
       "521301  pathway glucose regulation monosaccharide tran...  train  \n",
       "65516   feasibility home treatment diarrhoea packaged ...  train  \n",
       "277058  modulation phosphatidylcholine biosynthesis ce...  train  \n",
       "753225  120yr period dr beals seed viability experimen...  train  "
      ]
     },
     "execution_count": 12,
     "metadata": {},
     "output_type": "execute_result"
    }
   ],
   "source": [
    "pred_df.head()"
   ]
  },
  {
   "cell_type": "code",
   "execution_count": 17,
   "metadata": {},
   "outputs": [
    {
     "data": {
      "text/html": [
       "<div>\n",
       "<style scoped>\n",
       "    .dataframe tbody tr th:only-of-type {\n",
       "        vertical-align: middle;\n",
       "    }\n",
       "\n",
       "    .dataframe tbody tr th {\n",
       "        vertical-align: top;\n",
       "    }\n",
       "\n",
       "    .dataframe thead th {\n",
       "        text-align: right;\n",
       "    }\n",
       "</style>\n",
       "<table border=\"1\" class=\"dataframe\">\n",
       "  <thead>\n",
       "    <tr style=\"text-align: right;\">\n",
       "      <th></th>\n",
       "      <th>PMID</th>\n",
       "      <th>Date</th>\n",
       "      <th>Journal</th>\n",
       "      <th>Title</th>\n",
       "      <th>Abstract</th>\n",
       "      <th>QualifiedName</th>\n",
       "      <th>txt</th>\n",
       "      <th>label</th>\n",
       "      <th>txt_clean</th>\n",
       "      <th>y</th>\n",
       "      <th>y_pred</th>\n",
       "      <th>y_prob</th>\n",
       "      <th>X</th>\n",
       "      <th>subset</th>\n",
       "    </tr>\n",
       "  </thead>\n",
       "  <tbody>\n",
       "    <tr>\n",
       "      <th>600447</th>\n",
       "      <td>18467466</td>\n",
       "      <td>2008-05-10</td>\n",
       "      <td>Plant physiology</td>\n",
       "      <td>The Arabidopsis halophytic relative Thellungie...</td>\n",
       "      <td>A comprehensive knowledge of mechanisms regula...</td>\n",
       "      <td>plant</td>\n",
       "      <td>The Arabidopsis halophytic relative Thellungie...</td>\n",
       "      <td>1</td>\n",
       "      <td>arabidopsis halophytic relative thellungiella ...</td>\n",
       "      <td>1</td>\n",
       "      <td>1</td>\n",
       "      <td>0.993899</td>\n",
       "      <td>arabidopsis halophytic relative thellungiella ...</td>\n",
       "      <td>train</td>\n",
       "    </tr>\n",
       "    <tr>\n",
       "      <th>583302</th>\n",
       "      <td>18065557</td>\n",
       "      <td>2007-12-11</td>\n",
       "      <td>Plant physiology</td>\n",
       "      <td>An Arabidopsis purple acid phosphatase with ph...</td>\n",
       "      <td>Ascorbate (AsA) is the most abundant antioxida...</td>\n",
       "      <td>plant</td>\n",
       "      <td>An Arabidopsis purple acid phosphatase with ph...</td>\n",
       "      <td>1</td>\n",
       "      <td>arabidopsis purple acid phosphatase phytase ac...</td>\n",
       "      <td>1</td>\n",
       "      <td>1</td>\n",
       "      <td>0.995514</td>\n",
       "      <td>arabidopsis purple acid phosphatase phytase ac...</td>\n",
       "      <td>train</td>\n",
       "    </tr>\n",
       "  </tbody>\n",
       "</table>\n",
       "</div>"
      ],
      "text/plain": [
       "            PMID        Date           Journal  \\\n",
       "600447  18467466  2008-05-10  Plant physiology   \n",
       "583302  18065557  2007-12-11  Plant physiology   \n",
       "\n",
       "                                                    Title  \\\n",
       "600447  The Arabidopsis halophytic relative Thellungie...   \n",
       "583302  An Arabidopsis purple acid phosphatase with ph...   \n",
       "\n",
       "                                                 Abstract QualifiedName  \\\n",
       "600447  A comprehensive knowledge of mechanisms regula...         plant   \n",
       "583302  Ascorbate (AsA) is the most abundant antioxida...         plant   \n",
       "\n",
       "                                                      txt  label  \\\n",
       "600447  The Arabidopsis halophytic relative Thellungie...      1   \n",
       "583302  An Arabidopsis purple acid phosphatase with ph...      1   \n",
       "\n",
       "                                                txt_clean  y  y_pred  \\\n",
       "600447  arabidopsis halophytic relative thellungiella ...  1       1   \n",
       "583302  arabidopsis purple acid phosphatase phytase ac...  1       1   \n",
       "\n",
       "          y_prob                                                  X subset  \n",
       "600447  0.993899  arabidopsis halophytic relative thellungiella ...  train  \n",
       "583302  0.995514  arabidopsis purple acid phosphatase phytase ac...  train  "
      ]
     },
     "execution_count": 17,
     "metadata": {},
     "output_type": "execute_result"
    }
   ],
   "source": [
    "# Concatenate prediction dataframe and the original dataframe\n",
    "combo_pred = pd.concat([corpus_ori, pred_df], axis=1)\n",
    "combo_pred.head(2)"
   ]
  },
  {
   "cell_type": "code",
   "execution_count": 16,
   "metadata": {},
   "outputs": [
    {
     "data": {
      "text/plain": [
       "True"
      ]
     },
     "execution_count": 16,
     "metadata": {},
     "output_type": "execute_result"
    }
   ],
   "source": [
    "# Check the label and y columns again to make sure they are exactly the same\n",
    "combo_pred['label'].equals(combo_pred['y'])"
   ]
  },
  {
   "cell_type": "code",
   "execution_count": 19,
   "metadata": {},
   "outputs": [
    {
     "data": {
      "text/html": [
       "<div>\n",
       "<style scoped>\n",
       "    .dataframe tbody tr th:only-of-type {\n",
       "        vertical-align: middle;\n",
       "    }\n",
       "\n",
       "    .dataframe tbody tr th {\n",
       "        vertical-align: top;\n",
       "    }\n",
       "\n",
       "    .dataframe thead th {\n",
       "        text-align: right;\n",
       "    }\n",
       "</style>\n",
       "<table border=\"1\" class=\"dataframe\">\n",
       "  <thead>\n",
       "    <tr style=\"text-align: right;\">\n",
       "      <th></th>\n",
       "      <th>PMID</th>\n",
       "      <th>Date</th>\n",
       "      <th>Journal</th>\n",
       "      <th>Title</th>\n",
       "      <th>Abstract</th>\n",
       "      <th>QualifiedName</th>\n",
       "      <th>label</th>\n",
       "      <th>y_pred</th>\n",
       "      <th>y_prob</th>\n",
       "      <th>subset</th>\n",
       "    </tr>\n",
       "  </thead>\n",
       "  <tbody>\n",
       "    <tr>\n",
       "      <th>600447</th>\n",
       "      <td>18467466</td>\n",
       "      <td>2008-05-10</td>\n",
       "      <td>Plant physiology</td>\n",
       "      <td>The Arabidopsis halophytic relative Thellungie...</td>\n",
       "      <td>A comprehensive knowledge of mechanisms regula...</td>\n",
       "      <td>plant</td>\n",
       "      <td>1</td>\n",
       "      <td>1</td>\n",
       "      <td>0.993899</td>\n",
       "      <td>train</td>\n",
       "    </tr>\n",
       "    <tr>\n",
       "      <th>583302</th>\n",
       "      <td>18065557</td>\n",
       "      <td>2007-12-11</td>\n",
       "      <td>Plant physiology</td>\n",
       "      <td>An Arabidopsis purple acid phosphatase with ph...</td>\n",
       "      <td>Ascorbate (AsA) is the most abundant antioxida...</td>\n",
       "      <td>plant</td>\n",
       "      <td>1</td>\n",
       "      <td>1</td>\n",
       "      <td>0.995514</td>\n",
       "      <td>train</td>\n",
       "    </tr>\n",
       "  </tbody>\n",
       "</table>\n",
       "</div>"
      ],
      "text/plain": [
       "            PMID        Date           Journal  \\\n",
       "600447  18467466  2008-05-10  Plant physiology   \n",
       "583302  18065557  2007-12-11  Plant physiology   \n",
       "\n",
       "                                                    Title  \\\n",
       "600447  The Arabidopsis halophytic relative Thellungie...   \n",
       "583302  An Arabidopsis purple acid phosphatase with ph...   \n",
       "\n",
       "                                                 Abstract QualifiedName  \\\n",
       "600447  A comprehensive knowledge of mechanisms regula...         plant   \n",
       "583302  Ascorbate (AsA) is the most abundant antioxida...         plant   \n",
       "\n",
       "        label  y_pred    y_prob subset  \n",
       "600447      1       1  0.993899  train  \n",
       "583302      1       1  0.995514  train  "
      ]
     },
     "execution_count": 19,
     "metadata": {},
     "output_type": "execute_result"
    }
   ],
   "source": [
    "# Drop the uncessary columns\n",
    "combo_pred = combo_pred.drop(['txt', 'txt_clean', 'y', 'X'], axis=1)\n",
    "combo_pred.head(2)"
   ]
  },
  {
   "cell_type": "markdown",
   "metadata": {},
   "source": [
    "## ___Mis-predictions___"
   ]
  },
  {
   "cell_type": "markdown",
   "metadata": {},
   "source": [
    "### Identify mis-predicted entries"
   ]
  },
  {
   "cell_type": "code",
   "execution_count": 23,
   "metadata": {},
   "outputs": [],
   "source": [
    "val_l = combo_pred['label'].values\n",
    "val_y = combo_pred['y'].values"
   ]
  },
  {
   "cell_type": "code",
   "execution_count": 24,
   "metadata": {},
   "outputs": [],
   "source": [
    "correct = [val_l[i] == val_y[i] for i in range(len(val_l)) ]"
   ]
  },
  {
   "cell_type": "code",
   "execution_count": 42,
   "metadata": {},
   "outputs": [
    {
     "data": {
      "text/html": [
       "<div>\n",
       "<style scoped>\n",
       "    .dataframe tbody tr th:only-of-type {\n",
       "        vertical-align: middle;\n",
       "    }\n",
       "\n",
       "    .dataframe tbody tr th {\n",
       "        vertical-align: top;\n",
       "    }\n",
       "\n",
       "    .dataframe thead th {\n",
       "        text-align: right;\n",
       "    }\n",
       "</style>\n",
       "<table border=\"1\" class=\"dataframe\">\n",
       "  <thead>\n",
       "    <tr style=\"text-align: right;\">\n",
       "      <th></th>\n",
       "      <th>PMID</th>\n",
       "      <th>Date</th>\n",
       "      <th>Journal</th>\n",
       "      <th>Title</th>\n",
       "      <th>Abstract</th>\n",
       "      <th>QualifiedName</th>\n",
       "      <th>label</th>\n",
       "      <th>y_pred</th>\n",
       "      <th>y_prob</th>\n",
       "      <th>subset</th>\n",
       "      <th>correct</th>\n",
       "    </tr>\n",
       "  </thead>\n",
       "  <tbody>\n",
       "  </tbody>\n",
       "</table>\n",
       "</div>"
      ],
      "text/plain": [
       "Empty DataFrame\n",
       "Columns: [PMID, Date, Journal, Title, Abstract, QualifiedName, label, y_pred, y_prob, subset, correct]\n",
       "Index: []"
      ]
     },
     "execution_count": 42,
     "metadata": {},
     "output_type": "execute_result"
    }
   ],
   "source": [
    "combo_pred_b[~combo_pred_b['correct']]"
   ]
  },
  {
   "cell_type": "code",
   "execution_count": 41,
   "metadata": {},
   "outputs": [
    {
     "data": {
      "text/plain": [
       "PMID                                                      18467466\n",
       "Date                                                    2008-05-10\n",
       "Journal                                           Plant physiology\n",
       "Title            The Arabidopsis halophytic relative Thellungie...\n",
       "Abstract         A comprehensive knowledge of mechanisms regula...\n",
       "QualifiedName                                                plant\n",
       "label                                                            1\n",
       "y_pred                                                           1\n",
       "y_prob                                                    0.993899\n",
       "subset                                                       train\n",
       "correct                                                       True\n",
       "Name: 600447, dtype: object"
      ]
     },
     "execution_count": 41,
     "metadata": {},
     "output_type": "execute_result"
    }
   ],
   "source": [
    "combo_pred_b.loc[600447]"
   ]
  },
  {
   "cell_type": "code",
   "execution_count": null,
   "metadata": {},
   "outputs": [],
   "source": []
  }
 ],
 "metadata": {
  "kernelspec": {
   "display_name": "Python 3.10.4 ('bert_finetune': conda)",
   "language": "python",
   "name": "python3"
  },
  "language_info": {
   "codemirror_mode": {
    "name": "ipython",
    "version": 3
   },
   "file_extension": ".py",
   "mimetype": "text/x-python",
   "name": "python",
   "nbconvert_exporter": "python",
   "pygments_lexer": "ipython3",
   "version": "3.10.4"
  },
  "orig_nbformat": 4,
  "vscode": {
   "interpreter": {
    "hash": "a62edfbcf39af3bfe98b03791e65c4337047c7eef8bfa85d65d3997033bead22"
   }
  }
 },
 "nbformat": 4,
 "nbformat_minor": 2
}
