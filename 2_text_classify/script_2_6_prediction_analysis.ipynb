{
 "cells": [
  {
   "cell_type": "markdown",
   "metadata": {},
   "source": [
    "# __2.6 Prediction analysis__\n",
    "\n",
    "Main questions:\n",
    "- What is the overall performance of model?\n",
    "- What features are important for predictions?\n",
    "- What are the reasons for mispredictions?\n",
    "  - Are there any patterns among predicted instances?\n",
    "  - E.g., publication date, journal."
   ]
  },
  {
   "cell_type": "markdown",
   "metadata": {},
   "source": [
    "## ___Setup___"
   ]
  },
  {
   "cell_type": "markdown",
   "metadata": {},
   "source": [
    "### Import"
   ]
  },
  {
   "cell_type": "code",
   "execution_count": 1,
   "metadata": {},
   "outputs": [],
   "source": [
    "import json\n",
    "import pandas as pd\n",
    "from pathlib import Path"
   ]
  },
  {
   "cell_type": "markdown",
   "metadata": {},
   "source": [
    "### Configurations"
   ]
  },
  {
   "cell_type": "code",
   "execution_count": 2,
   "metadata": {},
   "outputs": [],
   "source": [
    "work_dir     = Path.home() / 'projects/plant_sci_hist/2_text_classify'\n",
    "corpus_combo = work_dir / \"corpus_combo\"\n",
    "train_pred   = work_dir / \"corpus_train_pred\"\n",
    "valid_pred   = work_dir / \"corpus_valid_pred\"\n",
    "test_pred    = work_dir / \"corpus_test_pred\""
   ]
  },
  {
   "cell_type": "markdown",
   "metadata": {},
   "source": [
    "### Consolidate predictions with original dataframe"
   ]
  },
  {
   "cell_type": "code",
   "execution_count": 3,
   "metadata": {},
   "outputs": [],
   "source": [
    "def json_to_df(json_file):\n",
    "  with json_file.open(\"r+\") as f:\n",
    "      json_loaded = json.load(f)\n",
    "  df = pd.read_json(json_loaded)\n",
    "  \n",
    "  return df"
   ]
  },
  {
   "cell_type": "code",
   "execution_count": 4,
   "metadata": {},
   "outputs": [
    {
     "data": {
      "text/plain": [
       "(86646, 9)"
      ]
     },
     "execution_count": 4,
     "metadata": {},
     "output_type": "execute_result"
    }
   ],
   "source": [
    "# Get the original corpus\n",
    "corpus_ori = json_to_df(corpus_combo)\n",
    "corpus_ori.shape"
   ]
  },
  {
   "cell_type": "code",
   "execution_count": 5,
   "metadata": {},
   "outputs": [],
   "source": [
    "# Load the prediction TSV files as dataframes\n",
    "train_pred_df = pd.read_csv(train_pred, sep='\\t', index_col=0)\n",
    "valid_pred_df = pd.read_csv(valid_pred, sep='\\t', index_col=0)\n",
    "test_pred_df  = pd.read_csv(test_pred , sep='\\t', index_col=0)"
   ]
  },
  {
   "cell_type": "code",
   "execution_count": 6,
   "metadata": {},
   "outputs": [],
   "source": [
    "train_pred_df[\"subset\"] = \"train\"\n",
    "valid_pred_df[\"subset\"] = \"valid\"\n",
    "test_pred_df[\"subset\"]  = \"test\""
   ]
  },
  {
   "cell_type": "code",
   "execution_count": 7,
   "metadata": {},
   "outputs": [
    {
     "data": {
      "text/html": [
       "<div>\n",
       "<style scoped>\n",
       "    .dataframe tbody tr th:only-of-type {\n",
       "        vertical-align: middle;\n",
       "    }\n",
       "\n",
       "    .dataframe tbody tr th {\n",
       "        vertical-align: top;\n",
       "    }\n",
       "\n",
       "    .dataframe thead th {\n",
       "        text-align: right;\n",
       "    }\n",
       "</style>\n",
       "<table border=\"1\" class=\"dataframe\">\n",
       "  <thead>\n",
       "    <tr style=\"text-align: right;\">\n",
       "      <th></th>\n",
       "      <th>y</th>\n",
       "      <th>y_pred</th>\n",
       "      <th>y_prob</th>\n",
       "      <th>X</th>\n",
       "      <th>subset</th>\n",
       "    </tr>\n",
       "  </thead>\n",
       "  <tbody>\n",
       "    <tr>\n",
       "      <th>1087555</th>\n",
       "      <td>0</td>\n",
       "      <td>0</td>\n",
       "      <td>0.000225</td>\n",
       "      <td>measure aggression victimization portuguese ad...</td>\n",
       "      <td>train</td>\n",
       "    </tr>\n",
       "    <tr>\n",
       "      <th>263262</th>\n",
       "      <td>0</td>\n",
       "      <td>0</td>\n",
       "      <td>0.003348</td>\n",
       "      <td>positive listsnegative list viewpoint clinical...</td>\n",
       "      <td>train</td>\n",
       "    </tr>\n",
       "    <tr>\n",
       "      <th>458896</th>\n",
       "      <td>1</td>\n",
       "      <td>1</td>\n",
       "      <td>0.966405</td>\n",
       "      <td>phosphorylation sphingoid longchain base arabi...</td>\n",
       "      <td>train</td>\n",
       "    </tr>\n",
       "  </tbody>\n",
       "</table>\n",
       "</div>"
      ],
      "text/plain": [
       "         y  y_pred    y_prob  \\\n",
       "1087555  0       0  0.000225   \n",
       "263262   0       0  0.003348   \n",
       "458896   1       1  0.966405   \n",
       "\n",
       "                                                         X subset  \n",
       "1087555  measure aggression victimization portuguese ad...  train  \n",
       "263262   positive listsnegative list viewpoint clinical...  train  \n",
       "458896   phosphorylation sphingoid longchain base arabi...  train  "
      ]
     },
     "execution_count": 7,
     "metadata": {},
     "output_type": "execute_result"
    }
   ],
   "source": [
    "train_pred_df.sample(3)"
   ]
  },
  {
   "cell_type": "code",
   "execution_count": 8,
   "metadata": {},
   "outputs": [
    {
     "name": "stdout",
     "output_type": "stream",
     "text": [
      "improving induction therapy multiple myeloma significant improvement induction therapy multiple myel\n",
      "Improving induction therapy in multiple myeloma.. Significant improvements in induction therapy for \n"
     ]
    }
   ],
   "source": [
    "# Make sure the indices between two dataframes are consistent\n",
    "print(train_pred_df.loc[695692].X[:100])\n",
    "print(corpus_ori.loc[695692].txt[:100])"
   ]
  },
  {
   "cell_type": "code",
   "execution_count": 9,
   "metadata": {},
   "outputs": [
    {
     "name": "stdout",
     "output_type": "stream",
     "text": [
      "characterization two arabidopsis lgulono1,4lactone oxidases, atgullo3 atgullo5, involved ascorbate b\n",
      "Characterization of Two Arabidopsis L-Gulono-1,4-lactone Oxidases, AtGulLO3 and AtGulLO5, Involved i\n"
     ]
    }
   ],
   "source": [
    "# Make sure the indices between two dataframes are consistent\n",
    "print(train_pred_df.loc[1248319].X[:100])\n",
    "print(corpus_ori.loc[1248319].txt[:100])"
   ]
  },
  {
   "cell_type": "code",
   "execution_count": 10,
   "metadata": {},
   "outputs": [
    {
     "data": {
      "text/plain": [
       "(86646, 5)"
      ]
     },
     "execution_count": 10,
     "metadata": {},
     "output_type": "execute_result"
    }
   ],
   "source": [
    "# Concatenate prediction dataframes\n",
    "pred_df = pd.concat([train_pred_df, valid_pred_df, test_pred_df])\n",
    "pred_df.shape"
   ]
  },
  {
   "cell_type": "code",
   "execution_count": 11,
   "metadata": {},
   "outputs": [
    {
     "data": {
      "text/html": [
       "<div>\n",
       "<style scoped>\n",
       "    .dataframe tbody tr th:only-of-type {\n",
       "        vertical-align: middle;\n",
       "    }\n",
       "\n",
       "    .dataframe tbody tr th {\n",
       "        vertical-align: top;\n",
       "    }\n",
       "\n",
       "    .dataframe thead th {\n",
       "        text-align: right;\n",
       "    }\n",
       "</style>\n",
       "<table border=\"1\" class=\"dataframe\">\n",
       "  <thead>\n",
       "    <tr style=\"text-align: right;\">\n",
       "      <th></th>\n",
       "      <th>y</th>\n",
       "      <th>y_pred</th>\n",
       "      <th>y_prob</th>\n",
       "      <th>X</th>\n",
       "      <th>subset</th>\n",
       "    </tr>\n",
       "  </thead>\n",
       "  <tbody>\n",
       "    <tr>\n",
       "      <th>516651</th>\n",
       "      <td>1</td>\n",
       "      <td>1</td>\n",
       "      <td>0.982180</td>\n",
       "      <td>vivo vitro inhibition catalase leaf nicotiana ...</td>\n",
       "      <td>train</td>\n",
       "    </tr>\n",
       "    <tr>\n",
       "      <th>521301</th>\n",
       "      <td>1</td>\n",
       "      <td>1</td>\n",
       "      <td>0.993828</td>\n",
       "      <td>pathway glucose regulation monosaccharide tran...</td>\n",
       "      <td>train</td>\n",
       "    </tr>\n",
       "    <tr>\n",
       "      <th>65516</th>\n",
       "      <td>0</td>\n",
       "      <td>0</td>\n",
       "      <td>0.001417</td>\n",
       "      <td>feasibility home treatment diarrhoea packaged ...</td>\n",
       "      <td>train</td>\n",
       "    </tr>\n",
       "    <tr>\n",
       "      <th>277058</th>\n",
       "      <td>1</td>\n",
       "      <td>1</td>\n",
       "      <td>0.990589</td>\n",
       "      <td>modulation phosphatidylcholine biosynthesis ce...</td>\n",
       "      <td>train</td>\n",
       "    </tr>\n",
       "    <tr>\n",
       "      <th>753225</th>\n",
       "      <td>1</td>\n",
       "      <td>1</td>\n",
       "      <td>0.921157</td>\n",
       "      <td>120yr period dr beals seed viability experimen...</td>\n",
       "      <td>train</td>\n",
       "    </tr>\n",
       "  </tbody>\n",
       "</table>\n",
       "</div>"
      ],
      "text/plain": [
       "        y  y_pred    y_prob  \\\n",
       "516651  1       1  0.982180   \n",
       "521301  1       1  0.993828   \n",
       "65516   0       0  0.001417   \n",
       "277058  1       1  0.990589   \n",
       "753225  1       1  0.921157   \n",
       "\n",
       "                                                        X subset  \n",
       "516651  vivo vitro inhibition catalase leaf nicotiana ...  train  \n",
       "521301  pathway glucose regulation monosaccharide tran...  train  \n",
       "65516   feasibility home treatment diarrhoea packaged ...  train  \n",
       "277058  modulation phosphatidylcholine biosynthesis ce...  train  \n",
       "753225  120yr period dr beals seed viability experimen...  train  "
      ]
     },
     "execution_count": 11,
     "metadata": {},
     "output_type": "execute_result"
    }
   ],
   "source": [
    "pred_df.head()"
   ]
  },
  {
   "cell_type": "code",
   "execution_count": 24,
   "metadata": {},
   "outputs": [
    {
     "data": {
      "text/html": [
       "<div>\n",
       "<style scoped>\n",
       "    .dataframe tbody tr th:only-of-type {\n",
       "        vertical-align: middle;\n",
       "    }\n",
       "\n",
       "    .dataframe tbody tr th {\n",
       "        vertical-align: top;\n",
       "    }\n",
       "\n",
       "    .dataframe thead th {\n",
       "        text-align: right;\n",
       "    }\n",
       "</style>\n",
       "<table border=\"1\" class=\"dataframe\">\n",
       "  <thead>\n",
       "    <tr style=\"text-align: right;\">\n",
       "      <th></th>\n",
       "      <th>PMID</th>\n",
       "      <th>Date</th>\n",
       "      <th>Journal</th>\n",
       "      <th>Title</th>\n",
       "      <th>Abstract</th>\n",
       "      <th>QualifiedName</th>\n",
       "      <th>txt</th>\n",
       "      <th>label</th>\n",
       "      <th>txt_clean</th>\n",
       "      <th>y</th>\n",
       "      <th>y_pred</th>\n",
       "      <th>y_prob</th>\n",
       "      <th>X</th>\n",
       "      <th>subset</th>\n",
       "    </tr>\n",
       "  </thead>\n",
       "  <tbody>\n",
       "    <tr>\n",
       "      <th>600447</th>\n",
       "      <td>18467466</td>\n",
       "      <td>2008-05-10</td>\n",
       "      <td>Plant physiology</td>\n",
       "      <td>The Arabidopsis halophytic relative Thellungie...</td>\n",
       "      <td>A comprehensive knowledge of mechanisms regula...</td>\n",
       "      <td>plant</td>\n",
       "      <td>The Arabidopsis halophytic relative Thellungie...</td>\n",
       "      <td>1</td>\n",
       "      <td>arabidopsis halophytic relative thellungiella ...</td>\n",
       "      <td>1</td>\n",
       "      <td>1</td>\n",
       "      <td>0.993899</td>\n",
       "      <td>arabidopsis halophytic relative thellungiella ...</td>\n",
       "      <td>train</td>\n",
       "    </tr>\n",
       "    <tr>\n",
       "      <th>583302</th>\n",
       "      <td>18065557</td>\n",
       "      <td>2007-12-11</td>\n",
       "      <td>Plant physiology</td>\n",
       "      <td>An Arabidopsis purple acid phosphatase with ph...</td>\n",
       "      <td>Ascorbate (AsA) is the most abundant antioxida...</td>\n",
       "      <td>plant</td>\n",
       "      <td>An Arabidopsis purple acid phosphatase with ph...</td>\n",
       "      <td>1</td>\n",
       "      <td>arabidopsis purple acid phosphatase phytase ac...</td>\n",
       "      <td>1</td>\n",
       "      <td>1</td>\n",
       "      <td>0.995514</td>\n",
       "      <td>arabidopsis purple acid phosphatase phytase ac...</td>\n",
       "      <td>train</td>\n",
       "    </tr>\n",
       "  </tbody>\n",
       "</table>\n",
       "</div>"
      ],
      "text/plain": [
       "            PMID        Date           Journal  \\\n",
       "600447  18467466  2008-05-10  Plant physiology   \n",
       "583302  18065557  2007-12-11  Plant physiology   \n",
       "\n",
       "                                                    Title  \\\n",
       "600447  The Arabidopsis halophytic relative Thellungie...   \n",
       "583302  An Arabidopsis purple acid phosphatase with ph...   \n",
       "\n",
       "                                                 Abstract QualifiedName  \\\n",
       "600447  A comprehensive knowledge of mechanisms regula...         plant   \n",
       "583302  Ascorbate (AsA) is the most abundant antioxida...         plant   \n",
       "\n",
       "                                                      txt  label  \\\n",
       "600447  The Arabidopsis halophytic relative Thellungie...      1   \n",
       "583302  An Arabidopsis purple acid phosphatase with ph...      1   \n",
       "\n",
       "                                                txt_clean  y  y_pred  \\\n",
       "600447  arabidopsis halophytic relative thellungiella ...  1       1   \n",
       "583302  arabidopsis purple acid phosphatase phytase ac...  1       1   \n",
       "\n",
       "          y_prob                                                  X subset  \n",
       "600447  0.993899  arabidopsis halophytic relative thellungiella ...  train  \n",
       "583302  0.995514  arabidopsis purple acid phosphatase phytase ac...  train  "
      ]
     },
     "execution_count": 24,
     "metadata": {},
     "output_type": "execute_result"
    }
   ],
   "source": [
    "# Concatenate prediction dataframe and the original dataframe\n",
    "combo_pred = pd.concat([corpus_ori, pred_df], axis=1)\n",
    "combo_pred.head(2)"
   ]
  },
  {
   "cell_type": "code",
   "execution_count": 25,
   "metadata": {},
   "outputs": [
    {
     "data": {
      "text/plain": [
       "True"
      ]
     },
     "execution_count": 25,
     "metadata": {},
     "output_type": "execute_result"
    }
   ],
   "source": [
    "# Check the label and y columns again to make sure they are exactly the same\n",
    "combo_pred['label'].equals(combo_pred['y'])"
   ]
  },
  {
   "cell_type": "code",
   "execution_count": 26,
   "metadata": {},
   "outputs": [
    {
     "data": {
      "text/html": [
       "<div>\n",
       "<style scoped>\n",
       "    .dataframe tbody tr th:only-of-type {\n",
       "        vertical-align: middle;\n",
       "    }\n",
       "\n",
       "    .dataframe tbody tr th {\n",
       "        vertical-align: top;\n",
       "    }\n",
       "\n",
       "    .dataframe thead th {\n",
       "        text-align: right;\n",
       "    }\n",
       "</style>\n",
       "<table border=\"1\" class=\"dataframe\">\n",
       "  <thead>\n",
       "    <tr style=\"text-align: right;\">\n",
       "      <th></th>\n",
       "      <th>PMID</th>\n",
       "      <th>Date</th>\n",
       "      <th>Journal</th>\n",
       "      <th>Title</th>\n",
       "      <th>Abstract</th>\n",
       "      <th>QualifiedName</th>\n",
       "      <th>label</th>\n",
       "      <th>y_pred</th>\n",
       "      <th>y_prob</th>\n",
       "      <th>subset</th>\n",
       "    </tr>\n",
       "  </thead>\n",
       "  <tbody>\n",
       "    <tr>\n",
       "      <th>600447</th>\n",
       "      <td>18467466</td>\n",
       "      <td>2008-05-10</td>\n",
       "      <td>Plant physiology</td>\n",
       "      <td>The Arabidopsis halophytic relative Thellungie...</td>\n",
       "      <td>A comprehensive knowledge of mechanisms regula...</td>\n",
       "      <td>plant</td>\n",
       "      <td>1</td>\n",
       "      <td>1</td>\n",
       "      <td>0.993899</td>\n",
       "      <td>train</td>\n",
       "    </tr>\n",
       "    <tr>\n",
       "      <th>583302</th>\n",
       "      <td>18065557</td>\n",
       "      <td>2007-12-11</td>\n",
       "      <td>Plant physiology</td>\n",
       "      <td>An Arabidopsis purple acid phosphatase with ph...</td>\n",
       "      <td>Ascorbate (AsA) is the most abundant antioxida...</td>\n",
       "      <td>plant</td>\n",
       "      <td>1</td>\n",
       "      <td>1</td>\n",
       "      <td>0.995514</td>\n",
       "      <td>train</td>\n",
       "    </tr>\n",
       "  </tbody>\n",
       "</table>\n",
       "</div>"
      ],
      "text/plain": [
       "            PMID        Date           Journal  \\\n",
       "600447  18467466  2008-05-10  Plant physiology   \n",
       "583302  18065557  2007-12-11  Plant physiology   \n",
       "\n",
       "                                                    Title  \\\n",
       "600447  The Arabidopsis halophytic relative Thellungie...   \n",
       "583302  An Arabidopsis purple acid phosphatase with ph...   \n",
       "\n",
       "                                                 Abstract QualifiedName  \\\n",
       "600447  A comprehensive knowledge of mechanisms regula...         plant   \n",
       "583302  Ascorbate (AsA) is the most abundant antioxida...         plant   \n",
       "\n",
       "        label  y_pred    y_prob subset  \n",
       "600447      1       1  0.993899  train  \n",
       "583302      1       1  0.995514  train  "
      ]
     },
     "execution_count": 26,
     "metadata": {},
     "output_type": "execute_result"
    }
   ],
   "source": [
    "# Drop the uncessary columns\n",
    "combo_pred = combo_pred.drop(['txt', 'txt_clean', 'y', 'X'], axis=1)\n",
    "combo_pred.head(2)"
   ]
  },
  {
   "cell_type": "code",
   "execution_count": 27,
   "metadata": {},
   "outputs": [],
   "source": [
    "combo_pred_json = combo_pred.to_json()\n",
    "combo_pred_json_file = work_dir / 'corpus_combo_pred.json'\n",
    "with combo_pred_json_file.open(\"w+\") as f:\n",
    "  json.dump(combo_pred_json, f)"
   ]
  },
  {
   "cell_type": "markdown",
   "metadata": {},
   "source": [
    "## ___Mis-predictions___"
   ]
  },
  {
   "cell_type": "markdown",
   "metadata": {},
   "source": [
    "### Identify mis-predicted entries"
   ]
  },
  {
   "cell_type": "code",
   "execution_count": 28,
   "metadata": {},
   "outputs": [],
   "source": [
    "val_l = combo_pred['label'].values\n",
    "val_y = combo_pred['y_pred'].values"
   ]
  },
  {
   "cell_type": "code",
   "execution_count": 29,
   "metadata": {},
   "outputs": [],
   "source": [
    "incorrect = [val_l[i] != val_y[i] for i in range(len(val_l)) ]"
   ]
  },
  {
   "cell_type": "code",
   "execution_count": 30,
   "metadata": {},
   "outputs": [
    {
     "data": {
      "text/plain": [
       "(86646, 11)"
      ]
     },
     "execution_count": 30,
     "metadata": {},
     "output_type": "execute_result"
    }
   ],
   "source": [
    "combo_pred['incorrect'] = incorrect\n",
    "combo_pred.shape"
   ]
  },
  {
   "cell_type": "code",
   "execution_count": 31,
   "metadata": {},
   "outputs": [
    {
     "data": {
      "text/plain": [
       "(2884, 11)"
      ]
     },
     "execution_count": 31,
     "metadata": {},
     "output_type": "execute_result"
    }
   ],
   "source": [
    "combo_pred_wrong = combo_pred[incorrect]\n",
    "combo_pred_wrong.shape"
   ]
  },
  {
   "cell_type": "code",
   "execution_count": 32,
   "metadata": {},
   "outputs": [
    {
     "data": {
      "text/html": [
       "<div>\n",
       "<style scoped>\n",
       "    .dataframe tbody tr th:only-of-type {\n",
       "        vertical-align: middle;\n",
       "    }\n",
       "\n",
       "    .dataframe tbody tr th {\n",
       "        vertical-align: top;\n",
       "    }\n",
       "\n",
       "    .dataframe thead th {\n",
       "        text-align: right;\n",
       "    }\n",
       "</style>\n",
       "<table border=\"1\" class=\"dataframe\">\n",
       "  <thead>\n",
       "    <tr style=\"text-align: right;\">\n",
       "      <th></th>\n",
       "      <th>PMID</th>\n",
       "      <th>Date</th>\n",
       "      <th>Journal</th>\n",
       "      <th>Title</th>\n",
       "      <th>Abstract</th>\n",
       "      <th>QualifiedName</th>\n",
       "      <th>label</th>\n",
       "      <th>y_pred</th>\n",
       "      <th>y_prob</th>\n",
       "      <th>subset</th>\n",
       "      <th>incorrect</th>\n",
       "    </tr>\n",
       "  </thead>\n",
       "  <tbody>\n",
       "    <tr>\n",
       "      <th>5116</th>\n",
       "      <td>173636</td>\n",
       "      <td>1975-01-01</td>\n",
       "      <td>Folia histochemica et cytochemica</td>\n",
       "      <td>Oxidative enzymes in the development of Fascio...</td>\n",
       "      <td>The object of the study was the investigation ...</td>\n",
       "      <td>hepatica</td>\n",
       "      <td>0</td>\n",
       "      <td>1</td>\n",
       "      <td>0.822273</td>\n",
       "      <td>valid</td>\n",
       "      <td>True</td>\n",
       "    </tr>\n",
       "    <tr>\n",
       "      <th>14963</th>\n",
       "      <td>605710</td>\n",
       "      <td>1977-01-01</td>\n",
       "      <td>Acta biologica Academiae Scientiarum Hungaricae</td>\n",
       "      <td>Changes in chromosome complement in long-term ...</td>\n",
       "      <td>A prolonged callus culture from pea (Pisum sat...</td>\n",
       "      <td>pea</td>\n",
       "      <td>0</td>\n",
       "      <td>1</td>\n",
       "      <td>0.706658</td>\n",
       "      <td>train</td>\n",
       "      <td>True</td>\n",
       "    </tr>\n",
       "    <tr>\n",
       "      <th>881237</th>\n",
       "      <td>24018323</td>\n",
       "      <td>2013-09-11</td>\n",
       "      <td>Advances in protein chemistry and structural b...</td>\n",
       "      <td>Structure-function relationship of the plant p...</td>\n",
       "      <td>LHCII, the largest plant photosynthetic pigmen...</td>\n",
       "      <td>plant</td>\n",
       "      <td>0</td>\n",
       "      <td>1</td>\n",
       "      <td>0.937996</td>\n",
       "      <td>train</td>\n",
       "      <td>True</td>\n",
       "    </tr>\n",
       "    <tr>\n",
       "      <th>1177809</th>\n",
       "      <td>28943973</td>\n",
       "      <td>2017-09-26</td>\n",
       "      <td>Journal of genomics</td>\n",
       "      <td>Permanent Draft Genome sequence for Frankia sp...</td>\n",
       "      <td>Frankia sp. strain CcI49 was isolated from Cas...</td>\n",
       "      <td>plants</td>\n",
       "      <td>0</td>\n",
       "      <td>1</td>\n",
       "      <td>0.842421</td>\n",
       "      <td>test</td>\n",
       "      <td>True</td>\n",
       "    </tr>\n",
       "    <tr>\n",
       "      <th>63001</th>\n",
       "      <td>2154301</td>\n",
       "      <td>1990-01-01</td>\n",
       "      <td>Cell differentiation and development : the off...</td>\n",
       "      <td>Is ubiquitin involved in the dedifferentiation...</td>\n",
       "      <td>Transformation of a mesophyll cell into a viab...</td>\n",
       "      <td>plant</td>\n",
       "      <td>0</td>\n",
       "      <td>1</td>\n",
       "      <td>0.979742</td>\n",
       "      <td>train</td>\n",
       "      <td>True</td>\n",
       "    </tr>\n",
       "    <tr>\n",
       "      <th>1132663</th>\n",
       "      <td>28286876</td>\n",
       "      <td>2017-03-14</td>\n",
       "      <td>Current opinion in toxicology</td>\n",
       "      <td>Diversity as Opportunity: Insights from 600 Mi...</td>\n",
       "      <td>The aryl hydrocarbon receptor (AHR) was for ma...</td>\n",
       "      <td>anemone</td>\n",
       "      <td>0</td>\n",
       "      <td>1</td>\n",
       "      <td>0.705611</td>\n",
       "      <td>valid</td>\n",
       "      <td>True</td>\n",
       "    </tr>\n",
       "    <tr>\n",
       "      <th>717363</th>\n",
       "      <td>20948627</td>\n",
       "      <td>2009-01-01</td>\n",
       "      <td>F1000 biology reports</td>\n",
       "      <td>The dark side of clock-controlled flowering.</td>\n",
       "      <td>Perception of seasonal changes in day length a...</td>\n",
       "      <td>plants</td>\n",
       "      <td>0</td>\n",
       "      <td>1</td>\n",
       "      <td>0.604388</td>\n",
       "      <td>train</td>\n",
       "      <td>True</td>\n",
       "    </tr>\n",
       "    <tr>\n",
       "      <th>1086049</th>\n",
       "      <td>27398266</td>\n",
       "      <td>2014-12-01</td>\n",
       "      <td>Journal of geophysical research. Biogeosciences</td>\n",
       "      <td>Models of fluorescence and photosynthesis for ...</td>\n",
       "      <td>We have extended a conventional photosynthesis...</td>\n",
       "      <td>plants</td>\n",
       "      <td>0</td>\n",
       "      <td>1</td>\n",
       "      <td>0.984490</td>\n",
       "      <td>train</td>\n",
       "      <td>True</td>\n",
       "    </tr>\n",
       "    <tr>\n",
       "      <th>1042548</th>\n",
       "      <td>26632529</td>\n",
       "      <td>2015-12-04</td>\n",
       "      <td>Phytochemistry</td>\n",
       "      <td>Differentiation between two \"fang ji\" herbal m...</td>\n",
       "      <td>Stephania tetrandra (\"hang fang ji\") and Arist...</td>\n",
       "      <td>plant</td>\n",
       "      <td>1</td>\n",
       "      <td>0</td>\n",
       "      <td>0.191211</td>\n",
       "      <td>valid</td>\n",
       "      <td>True</td>\n",
       "    </tr>\n",
       "    <tr>\n",
       "      <th>919443</th>\n",
       "      <td>24504833</td>\n",
       "      <td>1969-03-01</td>\n",
       "      <td>Planta</td>\n",
       "      <td>Second positive phototropic response patterns ...</td>\n",
       "      <td>1.During second positive irradiation, bending ...</td>\n",
       "      <td>oat</td>\n",
       "      <td>1</td>\n",
       "      <td>0</td>\n",
       "      <td>0.458158</td>\n",
       "      <td>valid</td>\n",
       "      <td>True</td>\n",
       "    </tr>\n",
       "  </tbody>\n",
       "</table>\n",
       "</div>"
      ],
      "text/plain": [
       "             PMID        Date  \\\n",
       "5116       173636  1975-01-01   \n",
       "14963      605710  1977-01-01   \n",
       "881237   24018323  2013-09-11   \n",
       "1177809  28943973  2017-09-26   \n",
       "63001     2154301  1990-01-01   \n",
       "1132663  28286876  2017-03-14   \n",
       "717363   20948627  2009-01-01   \n",
       "1086049  27398266  2014-12-01   \n",
       "1042548  26632529  2015-12-04   \n",
       "919443   24504833  1969-03-01   \n",
       "\n",
       "                                                   Journal  \\\n",
       "5116                     Folia histochemica et cytochemica   \n",
       "14963      Acta biologica Academiae Scientiarum Hungaricae   \n",
       "881237   Advances in protein chemistry and structural b...   \n",
       "1177809                                Journal of genomics   \n",
       "63001    Cell differentiation and development : the off...   \n",
       "1132663                      Current opinion in toxicology   \n",
       "717363                               F1000 biology reports   \n",
       "1086049    Journal of geophysical research. Biogeosciences   \n",
       "1042548                                     Phytochemistry   \n",
       "919443                                              Planta   \n",
       "\n",
       "                                                     Title  \\\n",
       "5116     Oxidative enzymes in the development of Fascio...   \n",
       "14963    Changes in chromosome complement in long-term ...   \n",
       "881237   Structure-function relationship of the plant p...   \n",
       "1177809  Permanent Draft Genome sequence for Frankia sp...   \n",
       "63001    Is ubiquitin involved in the dedifferentiation...   \n",
       "1132663  Diversity as Opportunity: Insights from 600 Mi...   \n",
       "717363        The dark side of clock-controlled flowering.   \n",
       "1086049  Models of fluorescence and photosynthesis for ...   \n",
       "1042548  Differentiation between two \"fang ji\" herbal m...   \n",
       "919443   Second positive phototropic response patterns ...   \n",
       "\n",
       "                                                  Abstract QualifiedName  \\\n",
       "5116     The object of the study was the investigation ...      hepatica   \n",
       "14963    A prolonged callus culture from pea (Pisum sat...           pea   \n",
       "881237   LHCII, the largest plant photosynthetic pigmen...         plant   \n",
       "1177809  Frankia sp. strain CcI49 was isolated from Cas...        plants   \n",
       "63001    Transformation of a mesophyll cell into a viab...         plant   \n",
       "1132663  The aryl hydrocarbon receptor (AHR) was for ma...       anemone   \n",
       "717363   Perception of seasonal changes in day length a...        plants   \n",
       "1086049  We have extended a conventional photosynthesis...        plants   \n",
       "1042548  Stephania tetrandra (\"hang fang ji\") and Arist...         plant   \n",
       "919443   1.During second positive irradiation, bending ...           oat   \n",
       "\n",
       "         label  y_pred    y_prob subset  incorrect  \n",
       "5116         0       1  0.822273  valid       True  \n",
       "14963        0       1  0.706658  train       True  \n",
       "881237       0       1  0.937996  train       True  \n",
       "1177809      0       1  0.842421   test       True  \n",
       "63001        0       1  0.979742  train       True  \n",
       "1132663      0       1  0.705611  valid       True  \n",
       "717363       0       1  0.604388  train       True  \n",
       "1086049      0       1  0.984490  train       True  \n",
       "1042548      1       0  0.191211  valid       True  \n",
       "919443       1       0  0.458158  valid       True  "
      ]
     },
     "execution_count": 32,
     "metadata": {},
     "output_type": "execute_result"
    }
   ],
   "source": [
    "combo_pred_wrong.sample(10)"
   ]
  },
  {
   "cell_type": "code",
   "execution_count": null,
   "metadata": {},
   "outputs": [],
   "source": []
  }
 ],
 "metadata": {
  "kernelspec": {
   "display_name": "Python 3.10.4 ('bert_finetune': conda)",
   "language": "python",
   "name": "python3"
  },
  "language_info": {
   "codemirror_mode": {
    "name": "ipython",
    "version": 3
   },
   "file_extension": ".py",
   "mimetype": "text/x-python",
   "name": "python",
   "nbconvert_exporter": "python",
   "pygments_lexer": "ipython3",
   "version": "3.10.4"
  },
  "orig_nbformat": 4,
  "vscode": {
   "interpreter": {
    "hash": "a62edfbcf39af3bfe98b03791e65c4337047c7eef8bfa85d65d3997033bead22"
   }
  }
 },
 "nbformat": 4,
 "nbformat_minor": 2
}
