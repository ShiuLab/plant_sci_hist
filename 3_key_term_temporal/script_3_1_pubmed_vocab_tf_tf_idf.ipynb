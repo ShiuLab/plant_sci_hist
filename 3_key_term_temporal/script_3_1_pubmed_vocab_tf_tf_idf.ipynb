{
 "cells": [
  {
   "cell_type": "markdown",
   "metadata": {},
   "source": [
    "# __Step 3.1: pubmed vocab to get tf and tf-idf__\n",
    "\n",
    "The goals for step 3 are to:\n",
    "- Define the most prominent terms in plant biology overall\n",
    "  - Based on Tf and Tf-idf\n",
    "  - Based on science vocabs (oxford dictionary)\n",
    "- Define the most prominent terms chrnologically\n",
    "  - Monthly\n",
    "  - Year\n",
    "  - Decade with step size of 1??\n",
    "\n",
    "To do:\n",
    "- Remove stop words, build vocab from corpus:\n",
    "  - Get tf and tf-idf overall\n",
    "    - Remove stop words\n",
    "  - Get tf and tf-idf monthly\n",
    "    - Remove stop words\n",
    "- Remove stop words, build vocab use oxford dictionaries (3.2)\n",
    "  - Get tf and tf-idf overall \n",
    "  - Get tf and tf-idf monthly\n",
    "\n",
    "Thoughts:\n",
    "- After looking into Tf-based features:\n",
    "  - There are simply too many non-scientific words. Not particularly helpful.\n",
    "    - See if looking at only the top X helps.\n",
    "  - The total features returned with max_df=0.8 and min_df=0.01 may be a bit constranining, result in 2088 features only. \n",
    "    - Set min_df=0.001\n",
    "    - Set max_features=2000\n",
    "  - There are a number of features that are just numbers, some apparently are years.\n",
    "    - Filter those out.\n",
    "  - Some terms are synonyms.\n",
    "    - May use semantic similarity to group them.\n",
    "  - Given the above issues, Tf-idf is a better choice, particularly for dealing with the 1st problem. So focus on Tf-idf."
   ]
  },
  {
   "cell_type": "markdown",
   "metadata": {},
   "source": [
    "## ___Set up___"
   ]
  },
  {
   "cell_type": "markdown",
   "metadata": {},
   "source": [
    "### Module import"
   ]
  },
  {
   "cell_type": "code",
   "execution_count": 1,
   "metadata": {},
   "outputs": [],
   "source": [
    "import argparse\n",
    "import json\n",
    "import pickle\n",
    "import pandas as pd\n",
    "import numpy as np\n",
    "import joblib\n",
    "import sys\n",
    "from os import chdir\n",
    "from pathlib import Path\n",
    "\n",
    "from nltk.corpus import stopwords\n",
    "from sklearn import feature_extraction, feature_selection, metrics, \\\n",
    "                    model_selection"
   ]
  },
  {
   "cell_type": "markdown",
   "metadata": {},
   "source": [
    "### Key variables"
   ]
  },
  {
   "cell_type": "code",
   "execution_count": null,
   "metadata": {},
   "outputs": [],
   "source": [
    "# Reproducibility\n",
    "seed = 20220609\n",
    "\n",
    "# Setting working directory\n",
    "proj_dir   = Path.home() / \"projects/plant_sci_hist\"\n",
    "work_dir   = proj_dir / \"3_key_term_temporal/3_1_pubmed_vocab\"\n",
    "work_dir.mkdir(parents=True, exist_ok=True)\n",
    "\n",
    "os.chdir(work_dir)\n",
    "\n",
    "# specify plant science corpus\n",
    "corpus_dir  = proj_dir / \"2_text_classify/2_5_predict_pubmed\"\n",
    "corpus_file = corpus_dir / \"corpus_plant_421658.tsv.gz\"\n",
    "\n",
    "# vecotrizer parameters\n",
    "max_features = 2000\n",
    "ngram_range  = (1,3)\n",
    "max_df       = 0.8\n",
    "min_df       = 0.001\n",
    "stop_words   = list(stopwords.words('english'))\n",
    "lowercase    = True\n",
    "\n"
   ]
  },
  {
   "cell_type": "markdown",
   "metadata": {},
   "source": [
    "## ___Set up vectorizers and transform corpus___"
   ]
  },
  {
   "cell_type": "markdown",
   "metadata": {},
   "source": [
    "### Read corpus into dataframe"
   ]
  },
  {
   "cell_type": "code",
   "execution_count": 3,
   "metadata": {},
   "outputs": [
    {
     "data": {
      "text/plain": [
       "(421658, 11)"
      ]
     },
     "execution_count": 3,
     "metadata": {},
     "output_type": "execute_result"
    }
   ],
   "source": [
    "corpus_df = pd.read_csv(corpus_file, sep='\\t', compression='gzip')\n",
    "corpus_df.shape"
   ]
  },
  {
   "cell_type": "code",
   "execution_count": 4,
   "metadata": {},
   "outputs": [
    {
     "data": {
      "text/html": [
       "<div>\n",
       "<style scoped>\n",
       "    .dataframe tbody tr th:only-of-type {\n",
       "        vertical-align: middle;\n",
       "    }\n",
       "\n",
       "    .dataframe tbody tr th {\n",
       "        vertical-align: top;\n",
       "    }\n",
       "\n",
       "    .dataframe thead th {\n",
       "        text-align: right;\n",
       "    }\n",
       "</style>\n",
       "<table border=\"1\" class=\"dataframe\">\n",
       "  <thead>\n",
       "    <tr style=\"text-align: right;\">\n",
       "      <th></th>\n",
       "      <th>Unnamed: 0</th>\n",
       "      <th>PMID</th>\n",
       "      <th>Date</th>\n",
       "      <th>Journal</th>\n",
       "      <th>Title</th>\n",
       "      <th>Abstract</th>\n",
       "      <th>QualifiedName</th>\n",
       "      <th>txt</th>\n",
       "      <th>reg_article</th>\n",
       "      <th>y_prob</th>\n",
       "      <th>y_pred</th>\n",
       "    </tr>\n",
       "  </thead>\n",
       "  <tbody>\n",
       "    <tr>\n",
       "      <th>0</th>\n",
       "      <td>3</td>\n",
       "      <td>61</td>\n",
       "      <td>1975-12-11</td>\n",
       "      <td>Biochimica et biophysica acta</td>\n",
       "      <td>Identification of the 120 mus phase in the dec...</td>\n",
       "      <td>After a 500 mus laser flash a 120 mus phase in...</td>\n",
       "      <td>spinach</td>\n",
       "      <td>Identification of the 120 mus phase in the dec...</td>\n",
       "      <td>1</td>\n",
       "      <td>0.716394</td>\n",
       "      <td>1</td>\n",
       "    </tr>\n",
       "    <tr>\n",
       "      <th>1</th>\n",
       "      <td>4</td>\n",
       "      <td>67</td>\n",
       "      <td>1975-11-20</td>\n",
       "      <td>Biochimica et biophysica acta</td>\n",
       "      <td>Cholinesterases from plant tissues. VI. Prelim...</td>\n",
       "      <td>Enzymes capable of hydrolyzing esters of thioc...</td>\n",
       "      <td>plant</td>\n",
       "      <td>Cholinesterases from plant tissues. VI. Prelim...</td>\n",
       "      <td>1</td>\n",
       "      <td>0.894874</td>\n",
       "      <td>1</td>\n",
       "    </tr>\n",
       "  </tbody>\n",
       "</table>\n",
       "</div>"
      ],
      "text/plain": [
       "   Unnamed: 0  PMID        Date                        Journal  \\\n",
       "0           3    61  1975-12-11  Biochimica et biophysica acta   \n",
       "1           4    67  1975-11-20  Biochimica et biophysica acta   \n",
       "\n",
       "                                               Title  \\\n",
       "0  Identification of the 120 mus phase in the dec...   \n",
       "1  Cholinesterases from plant tissues. VI. Prelim...   \n",
       "\n",
       "                                            Abstract QualifiedName  \\\n",
       "0  After a 500 mus laser flash a 120 mus phase in...       spinach   \n",
       "1  Enzymes capable of hydrolyzing esters of thioc...         plant   \n",
       "\n",
       "                                                 txt  reg_article    y_prob  \\\n",
       "0  Identification of the 120 mus phase in the dec...            1  0.716394   \n",
       "1  Cholinesterases from plant tissues. VI. Prelim...            1  0.894874   \n",
       "\n",
       "   y_pred  \n",
       "0       1  \n",
       "1       1  "
      ]
     },
     "execution_count": 4,
     "metadata": {},
     "output_type": "execute_result"
    }
   ],
   "source": [
    "corpus_df.head(2)"
   ]
  },
  {
   "cell_type": "markdown",
   "metadata": {},
   "source": [
    "### Define X"
   ]
  },
  {
   "cell_type": "code",
   "execution_count": null,
   "metadata": {},
   "outputs": [],
   "source": [
    "# corpus\n",
    "X = corpus_df['txt']"
   ]
  },
  {
   "cell_type": "markdown",
   "metadata": {},
   "source": [
    "### Initialize vectorizers and fit/transform corpus"
   ]
  },
  {
   "cell_type": "code",
   "execution_count": 5,
   "metadata": {},
   "outputs": [],
   "source": [
    "# term-frequency vectorizer\n",
    "# https://scikit-learn.org/stable/modules/generated/sklearn.feature_extraction.text.CountVectorizer.html\n",
    "vec_TF = feature_extraction.text.CountVectorizer(max_features = max_features, \n",
    "                                                 ngram_range  = ngram_range,\n",
    "                                                 stop_words   = stop_words,\n",
    "                                                 max_df       = max_df,\n",
    "                                                 min_df       = min_df,\n",
    "                                                 lowercase    = lowercase)"
   ]
  },
  {
   "cell_type": "code",
   "execution_count": 6,
   "metadata": {},
   "outputs": [],
   "source": [
    "# term frequencies: 15 min\n",
    "vec_TF.fit(X)\n",
    "\n",
    "# Transform corpus: ~3 min\n",
    "X_TF = vec_TF.transform(X)\n",
    "\n",
    "# Get feature names\n",
    "vocab_TF = vec_TF.vocabulary_\n",
    "feat_TF  = vec_TF.get_feature_names_out()\n",
    "type(vocab_TF), type(feat_TF)\n",
    "\n",
    "# Convert to dataframe\n",
    "X_TF_df  = pd.DataFrame(X_TF.toarray(), columns=feat_TF)"
   ]
  },
  {
   "cell_type": "code",
   "execution_count": 21,
   "metadata": {},
   "outputs": [],
   "source": [
    "# Get only numeric columns\n",
    "feat_non_numeric = [feat for feat in feat_TF if not feat.isnumeric()]\n",
    "X_TF_df = X_TF_df[feat_non_numeric]"
   ]
  },
  {
   "cell_type": "code",
   "execution_count": 23,
   "metadata": {},
   "outputs": [],
   "source": [
    "X_TF_df['PMID'] = corpus_df['PMID']"
   ]
  },
  {
   "cell_type": "code",
   "execution_count": 24,
   "metadata": {},
   "outputs": [
    {
     "data": {
      "text/html": [
       "<div>\n",
       "<style scoped>\n",
       "    .dataframe tbody tr th:only-of-type {\n",
       "        vertical-align: middle;\n",
       "    }\n",
       "\n",
       "    .dataframe tbody tr th {\n",
       "        vertical-align: top;\n",
       "    }\n",
       "\n",
       "    .dataframe thead th {\n",
       "        text-align: right;\n",
       "    }\n",
       "</style>\n",
       "<table border=\"1\" class=\"dataframe\">\n",
       "  <thead>\n",
       "    <tr style=\"text-align: right;\">\n",
       "      <th></th>\n",
       "      <th>16s</th>\n",
       "      <th>aba</th>\n",
       "      <th>ability</th>\n",
       "      <th>abiotic</th>\n",
       "      <th>abiotic stress</th>\n",
       "      <th>abiotic stresses</th>\n",
       "      <th>able</th>\n",
       "      <th>abscisic</th>\n",
       "      <th>abscisic acid</th>\n",
       "      <th>abscisic acid aba</th>\n",
       "      <th>...</th>\n",
       "      <th>yielded</th>\n",
       "      <th>yields</th>\n",
       "      <th>young</th>\n",
       "      <th>zea</th>\n",
       "      <th>zea mays</th>\n",
       "      <th>zinc</th>\n",
       "      <th>zn</th>\n",
       "      <th>zone</th>\n",
       "      <th>μm</th>\n",
       "      <th>PMID</th>\n",
       "    </tr>\n",
       "  </thead>\n",
       "  <tbody>\n",
       "    <tr>\n",
       "      <th>0</th>\n",
       "      <td>0</td>\n",
       "      <td>0</td>\n",
       "      <td>0</td>\n",
       "      <td>0</td>\n",
       "      <td>0</td>\n",
       "      <td>0</td>\n",
       "      <td>0</td>\n",
       "      <td>0</td>\n",
       "      <td>0</td>\n",
       "      <td>0</td>\n",
       "      <td>...</td>\n",
       "      <td>0</td>\n",
       "      <td>0</td>\n",
       "      <td>0</td>\n",
       "      <td>0</td>\n",
       "      <td>0</td>\n",
       "      <td>0</td>\n",
       "      <td>0</td>\n",
       "      <td>0</td>\n",
       "      <td>0</td>\n",
       "      <td>61</td>\n",
       "    </tr>\n",
       "  </tbody>\n",
       "</table>\n",
       "<p>1 rows × 2017 columns</p>\n",
       "</div>"
      ],
      "text/plain": [
       "   16s  aba  ability  abiotic  abiotic stress  abiotic stresses  able  \\\n",
       "0    0    0        0        0               0                 0     0   \n",
       "\n",
       "   abscisic  abscisic acid  abscisic acid aba  ...  yielded  yields  young  \\\n",
       "0         0              0                  0  ...        0       0      0   \n",
       "\n",
       "   zea  zea mays  zinc  zn  zone  μm  PMID  \n",
       "0    0         0     0   0     0   0    61  \n",
       "\n",
       "[1 rows x 2017 columns]"
      ]
     },
     "execution_count": 24,
     "metadata": {},
     "output_type": "execute_result"
    }
   ],
   "source": [
    "X_TF_df.head(1)"
   ]
  },
  {
   "cell_type": "code",
   "execution_count": 31,
   "metadata": {},
   "outputs": [],
   "source": [
    "# These are saved with setting: max_feature=10000, min_df=0.01\n",
    "with open(work_dir / 'corpus_txt_tf_sparse_matrix', 'wb') as f:\n",
    "  pickle.dump(X_TF, f)\n",
    "with open(work_dir / 'corpus_txt_tf_features', 'wb') as f:\n",
    "  pickle.dump(feat_TF, f)"
   ]
  },
  {
   "cell_type": "markdown",
   "metadata": {},
   "source": [
    "### Get Tf-idf vectorizer and fit/transform X"
   ]
  },
  {
   "cell_type": "code",
   "execution_count": 32,
   "metadata": {},
   "outputs": [],
   "source": [
    "# tf-idf vectorizer    \n",
    "vec_TI = feature_extraction.text.TfidfVectorizer(max_features = max_features, \n",
    "                                                 ngram_range  = ngram_range,\n",
    "                                                 stop_words   = stop_words,\n",
    "                                                 max_df       = max_df,\n",
    "                                                 min_df       = min_df,\n",
    "                                                 lowercase    = lowercase)"
   ]
  },
  {
   "cell_type": "code",
   "execution_count": 33,
   "metadata": {},
   "outputs": [],
   "source": [
    "# term frequencies: 15 min\n",
    "vec_TI.fit(X)"
   ]
  },
  {
   "cell_type": "code",
   "execution_count": null,
   "metadata": {},
   "outputs": [],
   "source": [
    "# Transform corpus: ~3 min\n",
    "X_TI = vec_TI.transform(X)"
   ]
  },
  {
   "cell_type": "code",
   "execution_count": null,
   "metadata": {},
   "outputs": [],
   "source": [
    "# Get feature names\n",
    "feat_TF  = vec_TF.get_feature_names_out()"
   ]
  },
  {
   "cell_type": "code",
   "execution_count": null,
   "metadata": {},
   "outputs": [],
   "source": [
    "# Output sparse matrix and features\n",
    "with open(work_dir / 'corpus_txt_tfidf_sparse_matrix', 'wb') as f:\n",
    "  pickle.dump(X_TI, f)\n",
    "with open(work_dir / 'corpus_txt_tfidf_features', 'wb') as f:\n",
    "  pickle.dump(feat_TI, f)"
   ]
  },
  {
   "cell_type": "code",
   "execution_count": null,
   "metadata": {},
   "outputs": [],
   "source": [
    "# Convert to dataframe\n",
    "X_TF_df  = pd.DataFrame(X_TF.toarray(), columns=feat_TF)"
   ]
  },
  {
   "cell_type": "code",
   "execution_count": null,
   "metadata": {},
   "outputs": [],
   "source": [
    "# Get only numeric columns\n",
    "feat_non_numeric = [feat for feat in feat_TI if not feat.isnumeric()]\n",
    "X_TI_df = X_TI_df[feat_non_numeric]"
   ]
  },
  {
   "cell_type": "markdown",
   "metadata": {},
   "source": [
    "## ___Overall term freuqency___"
   ]
  },
  {
   "cell_type": "markdown",
   "metadata": {},
   "source": [
    "### Tf total\n",
    "\n",
    "Number of occurrences, regardless if it occurs multiple times in a doc. "
   ]
  },
  {
   "cell_type": "code",
   "execution_count": null,
   "metadata": {},
   "outputs": [],
   "source": []
  }
 ],
 "metadata": {
  "kernelspec": {
   "display_name": "Python 3.10.2 ('nlp': conda)",
   "language": "python",
   "name": "python3"
  },
  "language_info": {
   "codemirror_mode": {
    "name": "ipython",
    "version": 3
   },
   "file_extension": ".py",
   "mimetype": "text/x-python",
   "name": "python",
   "nbconvert_exporter": "python",
   "pygments_lexer": "ipython3",
   "version": "3.10.2"
  },
  "orig_nbformat": 4,
  "vscode": {
   "interpreter": {
    "hash": "e9f976de49e978787b392bf076cac9dcd649ffc2d080fbba5564554c12476cc0"
   }
  }
 },
 "nbformat": 4,
 "nbformat_minor": 2
}
