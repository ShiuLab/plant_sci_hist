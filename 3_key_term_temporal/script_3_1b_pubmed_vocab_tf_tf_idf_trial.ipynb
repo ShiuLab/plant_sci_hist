{
 "cells": [
  {
   "cell_type": "markdown",
   "metadata": {},
   "source": [
    "# __Step 3.1b: dictionary vocab to get tf and tf-idf__\n",
    "\n",
    "See notes in 3.1a also to get a sense what lead to the following analysis\n",
    "\n",
    "7/8/22\n",
    "- Did Tf, and the top terms are not particularly informative."
   ]
  },
  {
   "cell_type": "markdown",
   "metadata": {},
   "source": [
    "## ___Set up___"
   ]
  },
  {
   "cell_type": "markdown",
   "metadata": {},
   "source": [
    "### Module import"
   ]
  },
  {
   "cell_type": "code",
   "execution_count": 1,
   "metadata": {},
   "outputs": [],
   "source": [
    "import pickle\n",
    "import pandas as pd\n",
    "import numpy as np\n",
    "import seaborn as sns\n",
    "from pathlib import Path\n",
    "from tqdm import tqdm\n",
    "import matplotlib.pyplot as plt\n",
    "\n",
    "from nltk.corpus import stopwords\n",
    "from sklearn import feature_extraction"
   ]
  },
  {
   "cell_type": "markdown",
   "metadata": {},
   "source": [
    "### Key variables"
   ]
  },
  {
   "cell_type": "code",
   "execution_count": 2,
   "metadata": {},
   "outputs": [],
   "source": [
    "# Reproducibility\n",
    "seed = 20220609\n",
    "\n",
    "# Setting working directory\n",
    "proj_dir   = Path.home() / \"projects/plant_sci_hist\"\n",
    "work_dir   = proj_dir / \"3_key_term_temporal/3_1_pubmed_vocab\"\n",
    "work_dir.mkdir(parents=True, exist_ok=True)\n",
    "\n",
    "os.chdir(work_dir)\n",
    "\n",
    "# science dictionary vocab directory\n",
    "sci_dict_dir = proj_dir / \"_vocab\"\n",
    "\n",
    "# specify plant science corpus\n",
    "corpus_dir  = proj_dir / \"2_text_classify/2_5_predict_pubmed\"\n",
    "corpus_file = corpus_dir / \"corpus_plant_421658.tsv.gz\"\n",
    "\n",
    "# vecotrizer parameters\n",
    "#max_features = 10000 # not relevant because vocab will be passed\n",
    "ngram_range  = (1,3) \n",
    "max_df       = 0.8\n",
    "min_df       = 0.001  # so at least ~400 articles\n",
    "stop_words   = list(stopwords.words('english'))\n",
    "lowercase    = True\n",
    "\n",
    "# For tf-idf sparse matrix thresholding\n",
    "col_sums_list_TI_min = 58.44802562279117"
   ]
  },
  {
   "cell_type": "markdown",
   "metadata": {},
   "source": [
    "### Read corpus into dataframe and define X"
   ]
  },
  {
   "cell_type": "code",
   "execution_count": 4,
   "metadata": {},
   "outputs": [
    {
     "data": {
      "text/plain": [
       "(421658, 11)"
      ]
     },
     "execution_count": 4,
     "metadata": {},
     "output_type": "execute_result"
    }
   ],
   "source": [
    "corpus_df = pd.read_csv(corpus_file, sep='\\t', compression='gzip')\n",
    "corpus_df.shape"
   ]
  },
  {
   "cell_type": "code",
   "execution_count": 5,
   "metadata": {},
   "outputs": [
    {
     "data": {
      "text/html": [
       "<div>\n",
       "<style scoped>\n",
       "    .dataframe tbody tr th:only-of-type {\n",
       "        vertical-align: middle;\n",
       "    }\n",
       "\n",
       "    .dataframe tbody tr th {\n",
       "        vertical-align: top;\n",
       "    }\n",
       "\n",
       "    .dataframe thead th {\n",
       "        text-align: right;\n",
       "    }\n",
       "</style>\n",
       "<table border=\"1\" class=\"dataframe\">\n",
       "  <thead>\n",
       "    <tr style=\"text-align: right;\">\n",
       "      <th></th>\n",
       "      <th>Unnamed: 0</th>\n",
       "      <th>PMID</th>\n",
       "      <th>Date</th>\n",
       "      <th>Journal</th>\n",
       "      <th>Title</th>\n",
       "      <th>Abstract</th>\n",
       "      <th>QualifiedName</th>\n",
       "      <th>txt</th>\n",
       "      <th>reg_article</th>\n",
       "      <th>y_prob</th>\n",
       "      <th>y_pred</th>\n",
       "    </tr>\n",
       "  </thead>\n",
       "  <tbody>\n",
       "    <tr>\n",
       "      <th>0</th>\n",
       "      <td>3</td>\n",
       "      <td>61</td>\n",
       "      <td>1975-12-11</td>\n",
       "      <td>Biochimica et biophysica acta</td>\n",
       "      <td>Identification of the 120 mus phase in the dec...</td>\n",
       "      <td>After a 500 mus laser flash a 120 mus phase in...</td>\n",
       "      <td>spinach</td>\n",
       "      <td>Identification of the 120 mus phase in the dec...</td>\n",
       "      <td>1</td>\n",
       "      <td>0.716394</td>\n",
       "      <td>1</td>\n",
       "    </tr>\n",
       "    <tr>\n",
       "      <th>1</th>\n",
       "      <td>4</td>\n",
       "      <td>67</td>\n",
       "      <td>1975-11-20</td>\n",
       "      <td>Biochimica et biophysica acta</td>\n",
       "      <td>Cholinesterases from plant tissues. VI. Prelim...</td>\n",
       "      <td>Enzymes capable of hydrolyzing esters of thioc...</td>\n",
       "      <td>plant</td>\n",
       "      <td>Cholinesterases from plant tissues. VI. Prelim...</td>\n",
       "      <td>1</td>\n",
       "      <td>0.894874</td>\n",
       "      <td>1</td>\n",
       "    </tr>\n",
       "  </tbody>\n",
       "</table>\n",
       "</div>"
      ],
      "text/plain": [
       "   Unnamed: 0  PMID        Date                        Journal  \\\n",
       "0           3    61  1975-12-11  Biochimica et biophysica acta   \n",
       "1           4    67  1975-11-20  Biochimica et biophysica acta   \n",
       "\n",
       "                                               Title  \\\n",
       "0  Identification of the 120 mus phase in the dec...   \n",
       "1  Cholinesterases from plant tissues. VI. Prelim...   \n",
       "\n",
       "                                            Abstract QualifiedName  \\\n",
       "0  After a 500 mus laser flash a 120 mus phase in...       spinach   \n",
       "1  Enzymes capable of hydrolyzing esters of thioc...         plant   \n",
       "\n",
       "                                                 txt  reg_article    y_prob  \\\n",
       "0  Identification of the 120 mus phase in the dec...            1  0.716394   \n",
       "1  Cholinesterases from plant tissues. VI. Prelim...            1  0.894874   \n",
       "\n",
       "   y_pred  \n",
       "0       1  \n",
       "1       1  "
      ]
     },
     "execution_count": 5,
     "metadata": {},
     "output_type": "execute_result"
    }
   ],
   "source": [
    "corpus_df.head(2)"
   ]
  },
  {
   "cell_type": "code",
   "execution_count": 6,
   "metadata": {},
   "outputs": [],
   "source": [
    "# corpus\n",
    "X = corpus_df['txt']"
   ]
  },
  {
   "cell_type": "markdown",
   "metadata": {},
   "source": [
    "### Get vocab list"
   ]
  },
  {
   "cell_type": "code",
   "execution_count": 7,
   "metadata": {},
   "outputs": [
    {
     "data": {
      "text/plain": [
       "11"
      ]
     },
     "execution_count": 7,
     "metadata": {},
     "output_type": "execute_result"
    }
   ],
   "source": [
    "# Get the dictionary file list\n",
    "sci_dict_files = [i for i in sci_dict_dir.iterdir() \\\n",
    "                      if str(i).find(\".items\") != -1]\n",
    "len(sci_dict_files)"
   ]
  },
  {
   "cell_type": "code",
   "execution_count": 8,
   "metadata": {},
   "outputs": [
    {
     "name": "stdout",
     "output_type": "stream",
     "text": [
      "vocab_bio.items\n",
      "vocab_bmb.items\n",
      "vocab_com.items\n",
      "vocab_eco.items\n",
      "vocab_evo.items\n",
      "vocab_gen.items\n",
      "vocab_go.items\n",
      "vocab_mth.items\n",
      "vocab_pln.items\n",
      "vocab_po.items\n",
      "vocab_sta.items\n"
     ]
    }
   ],
   "source": [
    "# Go through files to generate a vocab dict\n",
    "sci_dict_vocab = {}\n",
    "for file in sci_dict_files:\n",
    "  print(str(file).split(\"/\")[-1])\n",
    "  with open(file, \"r+\") as f:\n",
    "    items = f.readlines()\n",
    "    for item in items:\n",
    "      item_proc = item.lower().strip()\n",
    "      # Does not overlap with the terms in auto generated vocabs\n",
    "      sci_dict_vocab[item_proc] = 1"
   ]
  },
  {
   "cell_type": "code",
   "execution_count": 9,
   "metadata": {},
   "outputs": [
    {
     "data": {
      "text/plain": [
       "224315"
      ]
     },
     "execution_count": 9,
     "metadata": {},
     "output_type": "execute_result"
    }
   ],
   "source": [
    "sci_dict_vocab_list = list(sci_dict_vocab.keys())\n",
    "len(sci_dict_vocab_list)"
   ]
  },
  {
   "cell_type": "markdown",
   "metadata": {},
   "source": [
    "## ___Functions___"
   ]
  },
  {
   "cell_type": "markdown",
   "metadata": {},
   "source": [
    "### Vectorization"
   ]
  },
  {
   "cell_type": "code",
   "execution_count": 10,
   "metadata": {},
   "outputs": [],
   "source": [
    "def vectorize(vec_type, X, vocab):\n",
    "  '''Intialize vectorizer, then fit and transform passed corpus\n",
    "  Args:\n",
    "    vec_type (str): tf or tfidf\n",
    "    X (pandas series): the 'txt\" column of the corpus\n",
    "    vocab (list): vocabulary\n",
    "  Return:\n",
    "    X_vec (sparse matrix): vectorized X\n",
    "    features (array): features in the vocab\n",
    "  Output:\n",
    "    X_vec: as pickle\n",
    "    features: as pickle\n",
    "  '''\n",
    "  err = 0\n",
    "  # Initialize vectorizer\n",
    "  if vec_type == \"tf\":\n",
    "    vec = feature_extraction.text.CountVectorizer(\n",
    "            ngram_range  = ngram_range, stop_words   = stop_words,\n",
    "            max_df       = max_df     , min_df       = min_df,\n",
    "            vocabulary   = vocab      , lowercase    = lowercase)\n",
    "  elif vec_type == \"tfidf\":\n",
    "    vec = feature_extraction.text.TfidfVectorizer(\n",
    "            ngram_range  = ngram_range, stop_words   = stop_words,\n",
    "            max_df       = max_df     , min_df       = min_df,\n",
    "            vocabulary   = vocab      , lowercase    = lowercase)\n",
    "  else:\n",
    "    print(\"ERR: unknown vectorizer type\", vec_type)\n",
    "  \n",
    "  if not err:\n",
    "    # vectorized X\n",
    "    X_vec    = vec.fit_transform(X)\n",
    "    # features\n",
    "    features = vec.get_feature_names_out()\n",
    "    # Output sparse matrix and features\n",
    "    with open(work_dir / f'corpus_txt_{vec_type}_sparsematrix', 'wb') as f:\n",
    "      pickle.dump(X_vec, f)\n",
    "    with open(work_dir / f'corpus_txt_{vec_type}_features', 'wb') as f:\n",
    "      pickle.dump(features, f)\n",
    "\n",
    "    return X_vec, features\n",
    "  "
   ]
  },
  {
   "cell_type": "markdown",
   "metadata": {},
   "source": [
    "### Get column sum and mean values from sparse matrix"
   ]
  },
  {
   "cell_type": "code",
   "execution_count": 11,
   "metadata": {},
   "outputs": [],
   "source": [
    "def get_col_sums_and_means(X_vec, vec_type):\n",
    "  '''Get sum of row values for each column\n",
    "  Args:\n",
    "    X_vec (sparse array): vectorizer transformed X (texts)\n",
    "    vec_type (str): tf or tfidf, for output names\n",
    "  Return:\n",
    "    \n",
    "  Output:\n",
    "    figure: distribution of tf-idf values for each column \n",
    "  '''\n",
    "\n",
    "  # Get column sum\n",
    "  col_sums = X_vec.sum(axis=0)\n",
    "\n",
    "  # numbers of rows and columns\n",
    "  (num_r, num_c) = X_vec.shape\n",
    "\n",
    "  # col_sums is an Numpy Matrix, tried many way to get a list out of it like\n",
    "  # ravel(), flatten(), but they don't work. So do it the old way.\n",
    "  col_sums_list = []\n",
    "  for i in tqdm(range(num_c)):\n",
    "    col_sums_list.append(col_sums[0,i])\n",
    "\n",
    "  # Get means\n",
    "  col_means_list = [c_sum/num_r for c_sum in col_sums_list]\n",
    "\n",
    "  fig, axes = plt.subplots(1, 2, figsize=(8,4))\n",
    "  sns.histplot(col_sums_list, bins=100, log_scale=(False, True), ax=axes[0])\n",
    "  axes[0].set_title(\"Sums of values in each column\")\n",
    "  sns.histplot(col_means_list, bins=100, log_scale=(False, True), ax=axes[1])\n",
    "  axes[1].set_title(\"Means of values in each column\")\n",
    "  plt.savefig(work_dir / f\"figure3_1_vocab_{vec_type}_dist.pdf\")\n",
    "\n",
    "  return col_sums_list, col_means_list"
   ]
  },
  {
   "cell_type": "markdown",
   "metadata": {},
   "source": [
    "## ___Get matrix and features___"
   ]
  },
  {
   "cell_type": "markdown",
   "metadata": {},
   "source": [
    "### Tf"
   ]
  },
  {
   "cell_type": "code",
   "execution_count": 12,
   "metadata": {},
   "outputs": [],
   "source": [
    "X_vec_TF, features_TF = vectorize('tf', X, sci_dict_vocab_list)"
   ]
  },
  {
   "cell_type": "code",
   "execution_count": 13,
   "metadata": {},
   "outputs": [
    {
     "name": "stderr",
     "output_type": "stream",
     "text": [
      "100%|██████████| 224315/224315 [00:00<00:00, 1793083.59it/s]\n"
     ]
    },
    {
     "data": {
      "image/png": "[encoded data removed]",
      "text/plain": [
       "<Figure size 576x288 with 2 Axes>"
      ]
     },
     "metadata": {
      "needs_background": "light"
     },
     "output_type": "display_data"
    }
   ],
   "source": [
    "col_sums_TF, col_means_TF = get_col_sums_and_means(X_vec_TF, \"tf\")"
   ]
  },
  {
   "cell_type": "code",
   "execution_count": 14,
   "metadata": {},
   "outputs": [],
   "source": [
    "feat_sum_TF = pd.DataFrame(list(zip(features_TF, col_sums_TF)), \n",
    "                           columns=[\"Features\", \"Tf sum\"])"
   ]
  },
  {
   "cell_type": "code",
   "execution_count": 15,
   "metadata": {},
   "outputs": [
    {
     "data": {
      "text/html": [
       "<div>\n",
       "<style scoped>\n",
       "    .dataframe tbody tr th:only-of-type {\n",
       "        vertical-align: middle;\n",
       "    }\n",
       "\n",
       "    .dataframe tbody tr th {\n",
       "        vertical-align: top;\n",
       "    }\n",
       "\n",
       "    .dataframe thead th {\n",
       "        text-align: right;\n",
       "    }\n",
       "</style>\n",
       "<table border=\"1\" class=\"dataframe\">\n",
       "  <thead>\n",
       "    <tr style=\"text-align: right;\">\n",
       "      <th></th>\n",
       "      <th>Features</th>\n",
       "      <th>Tf sum</th>\n",
       "    </tr>\n",
       "  </thead>\n",
       "  <tbody>\n",
       "    <tr>\n",
       "      <th>0</th>\n",
       "      <td>aav</td>\n",
       "      <td>22</td>\n",
       "    </tr>\n",
       "    <tr>\n",
       "      <th>1</th>\n",
       "      <td>a band</td>\n",
       "      <td>0</td>\n",
       "    </tr>\n",
       "    <tr>\n",
       "      <th>2</th>\n",
       "      <td>abc model</td>\n",
       "      <td>117</td>\n",
       "    </tr>\n",
       "    <tr>\n",
       "      <th>3</th>\n",
       "      <td>abdomen</td>\n",
       "      <td>126</td>\n",
       "    </tr>\n",
       "    <tr>\n",
       "      <th>4</th>\n",
       "      <td>abductor</td>\n",
       "      <td>0</td>\n",
       "    </tr>\n",
       "  </tbody>\n",
       "</table>\n",
       "</div>"
      ],
      "text/plain": [
       "    Features  Tf sum\n",
       "0        aav      22\n",
       "1     a band       0\n",
       "2  abc model     117\n",
       "3    abdomen     126\n",
       "4   abductor       0"
      ]
     },
     "execution_count": 15,
     "metadata": {},
     "output_type": "execute_result"
    }
   ],
   "source": [
    "feat_sum_TF.head()"
   ]
  },
  {
   "cell_type": "code",
   "execution_count": 16,
   "metadata": {},
   "outputs": [],
   "source": [
    "feat_sum_TF.to_csv(work_dir / \"table3_1_feat_sum_tf.tsv\", sep='\\t')"
   ]
  },
  {
   "cell_type": "markdown",
   "metadata": {},
   "source": [
    "### Tf-idf"
   ]
  },
  {
   "cell_type": "code",
   "execution_count": 17,
   "metadata": {},
   "outputs": [
    {
     "data": {
      "text/plain": [
       "((421658, 224315), 224315)"
      ]
     },
     "execution_count": 17,
     "metadata": {},
     "output_type": "execute_result"
    }
   ],
   "source": [
    "X_vec_TI, features_TI = vectorize('tfidf', X, sci_dict_vocab_list)\n",
    "X_vec_TI.shape, len(features_TI)"
   ]
  },
  {
   "cell_type": "code",
   "execution_count": 18,
   "metadata": {},
   "outputs": [
    {
     "name": "stderr",
     "output_type": "stream",
     "text": [
      "100%|██████████| 224315/224315 [00:00<00:00, 1554615.13it/s]\n"
     ]
    },
    {
     "data": {
      "image/png": "[encoded data removed]",
      "text/plain": [
       "<Figure size 576x288 with 2 Axes>"
      ]
     },
     "metadata": {
      "needs_background": "light"
     },
     "output_type": "display_data"
    }
   ],
   "source": [
    "col_sums_TI, col_means_TI = get_col_sums_and_means(X_vec_TI, \"tfidf\")"
   ]
  },
  {
   "cell_type": "code",
   "execution_count": 19,
   "metadata": {},
   "outputs": [],
   "source": [
    "feat_sum_TI = pd.DataFrame(list(zip(features_TI, col_sums_TI)), \n",
    "                           columns=[\"Features\", \"Tf-idf sum\"])"
   ]
  },
  {
   "cell_type": "code",
   "execution_count": 20,
   "metadata": {},
   "outputs": [
    {
     "data": {
      "text/plain": [
       "((224315, 2),\n",
       " pandas.core.frame.DataFrame,\n",
       "     Features  Tf-idf sum\n",
       " 0        aav    2.759074\n",
       " 1     a band    0.000000\n",
       " 2  abc model   16.556426\n",
       " 3    abdomen   16.981512\n",
       " 4   abductor    0.000000)"
      ]
     },
     "execution_count": 20,
     "metadata": {},
     "output_type": "execute_result"
    }
   ],
   "source": [
    "feat_sum_TI.shape, type(feat_sum_TI), feat_sum_TI.head()"
   ]
  },
  {
   "cell_type": "code",
   "execution_count": 21,
   "metadata": {},
   "outputs": [],
   "source": [
    "feat_sum_TI.to_csv(work_dir / \"table3_1_feat_sum_tfidf.tsv\", sep='\\t')"
   ]
  },
  {
   "cell_type": "markdown",
   "metadata": {},
   "source": [
    "### Filter columns based on Tf-idf of auto-generated vocab\n",
    "\n",
    "See results in 3.1a:\n",
    "- col_sums_list_TI_min=58.44802562279117\n",
    "- See [this post for code](https://codereview.stackexchange.com/questions/138842/conditional-removal-of-columns-in-sparse-matrix), not working.\n",
    "- See [this tutorial](https://cmdlinetips.com/2019/07/how-to-slice-rows-and-columns-of-sparse-matrix-in-python/)."
   ]
  },
  {
   "cell_type": "code",
   "execution_count": 22,
   "metadata": {},
   "outputs": [
    {
     "name": "stderr",
     "output_type": "stream",
     "text": [
      "100%|██████████| 224315/224315 [00:13<00:00, 16594.00it/s]"
     ]
    },
    {
     "name": "stdout",
     "output_type": "stream",
     "text": [
      "4542\n"
     ]
    },
    {
     "name": "stderr",
     "output_type": "stream",
     "text": [
      "\n"
     ]
    }
   ],
   "source": [
    "# Create a numpy array using feat_sum_TI if it is above threshold\n",
    "indices_above_threshold = []\n",
    "for i in tqdm(range(len(feat_sum_TI))):\n",
    "  if feat_sum_TI.iloc[i][1] >= col_sums_list_TI_min:\n",
    "    indices_above_threshold.append(i)\n",
    "\n",
    "print(len(indices_above_threshold))"
   ]
  },
  {
   "cell_type": "code",
   "execution_count": 23,
   "metadata": {},
   "outputs": [
    {
     "data": {
      "text/plain": [
       "(421658, 4542)"
      ]
     },
     "execution_count": 23,
     "metadata": {},
     "output_type": "execute_result"
    }
   ],
   "source": [
    "# convert to numpy array\n",
    "indices_above_threshold_array = np.array(indices_above_threshold)\n",
    "\n",
    "# Get the sparse matrix columns based on indices\n",
    "X_vec_TI_4542 = X_vec_TI[:, indices_above_threshold_array]\n",
    "X_vec_TI_4542.shape"
   ]
  },
  {
   "cell_type": "code",
   "execution_count": 24,
   "metadata": {},
   "outputs": [
    {
     "data": {
      "text/plain": [
       "(4542, 2)"
      ]
     },
     "execution_count": 24,
     "metadata": {},
     "output_type": "execute_result"
    }
   ],
   "source": [
    "# Modify feat_sum_TI dataframe to include only qualified features\n",
    "feat_sum_TI_4642 = feat_sum_TI.iloc[indices_above_threshold]\n",
    "feat_sum_TI_4642.shape"
   ]
  },
  {
   "cell_type": "code",
   "execution_count": 26,
   "metadata": {},
   "outputs": [],
   "source": [
    "# Save sparse matrix to a pickle\n",
    "with open(work_dir / f'tfidf_sparse_matrix_4542', 'wb') as f:\n",
    "  pickle.dump(X_vec_TI_4542, f)\n",
    "\n",
    "# Output feature names and tf-idf sum\n",
    "feat_sum_TI_4642.to_csv(work_dir / f'tfidf_4542_feat_name_and_sum', \n",
    "                        sep='\\t')"
   ]
  }
 ],
 "metadata": {
  "kernelspec": {
   "display_name": "Python 3.9.7 ('bertopic': conda)",
   "language": "python",
   "name": "python3"
  },
  "language_info": {
   "codemirror_mode": {
    "name": "ipython",
    "version": 3
   },
   "file_extension": ".py",
   "mimetype": "text/x-python",
   "name": "python",
   "nbconvert_exporter": "python",
   "pygments_lexer": "ipython3",
   "version": "3.9.12"
  },
  "orig_nbformat": 4,
  "vscode": {
   "interpreter": {
    "hash": "2c20b0cb396bbd9019bf822cb52809ec816dc3543a10977636a6749a66e5f9aa"
   }
  }
 },
 "nbformat": 4,
 "nbformat_minor": 2
}
