{
 "cells": [
  {
   "cell_type": "markdown",
   "metadata": {},
   "source": [
    "# __Step 4.3b: Journal and species analysis__\n",
    "\n",
    "Goal:\n",
    "- Determine the focal species of different topics."
   ]
  },
  {
   "cell_type": "markdown",
   "metadata": {},
   "source": [
    "## ___Set up___"
   ]
  },
  {
   "cell_type": "markdown",
   "metadata": {},
   "source": [
    "### Module import"
   ]
  },
  {
   "cell_type": "code",
   "execution_count": 1,
   "metadata": {},
   "outputs": [],
   "source": [
    "import pandas as pd\n",
    "import matplotlib as mpl\n",
    "import matplotlib.pyplot as plt\n",
    "from pathlib import Path"
   ]
  },
  {
   "cell_type": "markdown",
   "metadata": {},
   "source": [
    "### Key variables"
   ]
  },
  {
   "cell_type": "code",
   "execution_count": null,
   "metadata": {},
   "outputs": [],
   "source": [
    "# Reproducibility\n",
    "seed = 20220609\n",
    "\n",
    "# Setting working directory\n",
    "proj_dir   = Path.home() / \"projects/plant_sci_hist\"\n",
    "work_dir   = proj_dir / \"4_topic_model/4_3_model_analysis\"\n",
    "work_dir.mkdir(parents=True, exist_ok=True)\n",
    "\n",
    "# processed docs\n",
    "dir41            = proj_dir / \"4_topic_model/4_1_compare_models\"\n",
    "docs_clean_file  = dir41 / \"corpus_plant_421658_proc_txt.pkl\"\n",
    "\n",
    "# saved model and probability file\n",
    "dir42            = proj_dir / \"4_topic_model/4_2_outlier_assign\"\n",
    "topic_model_file = dir42 / \"topic_model_updated\"\n",
    "prob_file        = dir42 / \"probs.pickle\"\n",
    "embedding_file   = dir42 / \"embeddings_scibert.pickle\"\n",
    "\n",
    "# So PDF is saved in a format properly\n",
    "mpl.rcParams['pdf.fonttype'] = 42\n",
    "plt.rcParams[\"font.family\"] = \"sans-serif\""
   ]
  },
  {
   "cell_type": "markdown",
   "metadata": {},
   "source": [
    "## ___Relative topical diversity for each journal___\n",
    "\n",
    "Relative topical diversity for a journal $d_j$ is defined as:\n",
    "- $d_j = 1/(var(c_t n_{j,t}/n_{j_a})s)$\n",
    "- Where:\n",
    "  - $c_t$: median cosine similarity of topic $t$ to other topics\n",
    "  - $n_{j,t}$: number of records of $t$ in $j$\n",
    "  - $n_{j,a}$: number of records of all topics in $j$\n",
    "  - $s$: scaling factor so the diversity is within a range of 0 and 10. This is set to 1e4.\n",
    "- $n_{j,t}/n_{j_a}$ is to normalize the number of records so different journals with different publication volumns can be compared.\n",
    "- The reason to stil consider $c_t$ is because a topic with higher $c_t$ is more \"inter-disciplinary\" in the sense that it is more well connected to the other topics.\n",
    "- Variance is calculated so journal with high variance would indicate a wider spread in $c_t n_{j,t} / n_{j,a}$ - this means that a journal is more specific to a topic.\n",
    "- So 1/variance is caculated to indicate divesity."
   ]
  }
 ],
 "metadata": {
  "kernelspec": {
   "display_name": "Python 3.10.4 ('bert_finetune': conda)",
   "language": "python",
   "name": "python3"
  },
  "language_info": {
   "codemirror_mode": {
    "name": "ipython",
    "version": 3
   },
   "file_extension": ".py",
   "mimetype": "text/x-python",
   "name": "python",
   "nbconvert_exporter": "python",
   "pygments_lexer": "ipython3",
   "version": "3.9.12"
  },
  "orig_nbformat": 4,
  "vscode": {
   "interpreter": {
    "hash": "323c618d0395b34183a36199d7c8eddbd4e55d51aee9dabbfbc9809db817fb2b"
   }
  }
 },
 "nbformat": 4,
 "nbformat_minor": 2
}
