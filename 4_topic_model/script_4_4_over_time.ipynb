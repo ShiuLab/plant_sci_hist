{
 "cells": [
  {
   "cell_type": "markdown",
   "metadata": {},
   "source": [
    "# __Step 4.4: Topic over time__\n",
    "\n",
    "Goals here:\n",
    "- Analyze topics over time\n",
    "\n",
    "Considerations:\n",
    "- Time interval\n",
    "  - The `topic_over_time` method doc in BERTopic has the following disclaimer: \"Make sure to use a limited number of unique timestamps (<100) as the c-TF-IDF representation will be calculated at each single unique timestamp. Having a large number of unique timestamps can take some time to be calculated. Moreover, there aren't many use-cased where you would like to see the difference in topic representations over more than 100 different timestamps.\"\n",
    "  - In light of this, the timestamps are generate at the year level.\n",
    "    - Also realize that there are docs since 1917 but few of them in the early years. So pool docs before 1970 as one bin with a timestamp 1969.\n",
    "    - There are very few 2021 articles (58) included due to publicaton time change. They are counted as 2020.\n",
    "- Ok, after doing a `topic_over_time` run, I realize that the number of docs differ so much between the annual bins, it creates a whole host of issues. So do this instead:\n",
    "  - Get a sorted timestamps list, without applying any thresholding.\n",
    "  - Get every two percentile timestamp values and cut the whole dataset into 50 similar sized bins.\n",
    "  - Note that the sizes are very similar but not the same because how I put things into bins."
   ]
  },
  {
   "cell_type": "markdown",
   "metadata": {},
   "source": [
    "## ___Set up___"
   ]
  },
  {
   "cell_type": "markdown",
   "metadata": {},
   "source": [
    "### Module import"
   ]
  },
  {
   "cell_type": "code",
   "execution_count": 34,
   "metadata": {},
   "outputs": [],
   "source": [
    "import pickle\n",
    "import numpy as np\n",
    "import pandas as pd\n",
    "import seaborn as sns\n",
    "import matplotlib as mpl\n",
    "import matplotlib.pyplot as plt\n",
    "from pathlib import Path\n",
    "from bertopic import BERTopic\n",
    "from tqdm import tqdm\n",
    "from datetime import datetime\n",
    "from bisect import bisect\n",
    "from sklearn.preprocessing import normalize\n",
    "from time import time"
   ]
  },
  {
   "cell_type": "markdown",
   "metadata": {},
   "source": [
    "### Key variables"
   ]
  },
  {
   "cell_type": "code",
   "execution_count": 2,
   "metadata": {},
   "outputs": [],
   "source": [
    "# Reproducibility\n",
    "seed = 20220609\n",
    "\n",
    "# Setting working directory\n",
    "proj_dir   = Path.home() / \"projects/plant_sci_hist\"\n",
    "work_dir   = proj_dir / \"4_topic_model/4_4_over_time\"\n",
    "work_dir.mkdir(parents=True, exist_ok=True)\n",
    "\n",
    "# plant science corpus\n",
    "dir25       = proj_dir / \"2_text_classify/2_5_predict_pubmed\"\n",
    "corpus_file = dir25 / \"corpus_plant_421658.tsv.gz\"\n",
    "\n",
    "# processed docs\n",
    "dir41            = proj_dir / \"4_topic_model/4_1_compare_models\"\n",
    "docs_clean_file  = dir41 / \"corpus_plant_421658_proc_txt.pkl\"\n",
    "\n",
    "# saved model, probability, and embedding files\n",
    "dir42            = proj_dir / \"4_topic_model/4_2_outlier_assign\"\n",
    "topic_model_file = dir42 / \"topic_model_updated\"\n",
    "prob_file        = dir42 / \"probs.pickle\"\n",
    "embedding_file   = dir42 / \"embeddings_scibert.pickle\"\n",
    "\n",
    "# So PDF is saved in a format properly\n",
    "mpl.rcParams['pdf.fonttype'] = 42\n",
    "plt.rcParams[\"font.family\"] = \"sans-serif\""
   ]
  },
  {
   "cell_type": "markdown",
   "metadata": {},
   "source": [
    "## ___Load data___"
   ]
  },
  {
   "cell_type": "markdown",
   "metadata": {},
   "source": [
    "### Load original corpus"
   ]
  },
  {
   "cell_type": "code",
   "execution_count": 3,
   "metadata": {},
   "outputs": [
    {
     "data": {
      "text/html": [
       "<div>\n",
       "<style scoped>\n",
       "    .dataframe tbody tr th:only-of-type {\n",
       "        vertical-align: middle;\n",
       "    }\n",
       "\n",
       "    .dataframe tbody tr th {\n",
       "        vertical-align: top;\n",
       "    }\n",
       "\n",
       "    .dataframe thead th {\n",
       "        text-align: right;\n",
       "    }\n",
       "</style>\n",
       "<table border=\"1\" class=\"dataframe\">\n",
       "  <thead>\n",
       "    <tr style=\"text-align: right;\">\n",
       "      <th></th>\n",
       "      <th>Unnamed: 0</th>\n",
       "      <th>PMID</th>\n",
       "      <th>Date</th>\n",
       "      <th>Journal</th>\n",
       "      <th>Title</th>\n",
       "      <th>Abstract</th>\n",
       "      <th>QualifiedName</th>\n",
       "      <th>txt</th>\n",
       "      <th>reg_article</th>\n",
       "      <th>y_prob</th>\n",
       "      <th>y_pred</th>\n",
       "    </tr>\n",
       "  </thead>\n",
       "  <tbody>\n",
       "    <tr>\n",
       "      <th>0</th>\n",
       "      <td>3</td>\n",
       "      <td>61</td>\n",
       "      <td>1975-12-11</td>\n",
       "      <td>Biochimica et biophysica acta</td>\n",
       "      <td>Identification of the 120 mus phase in the dec...</td>\n",
       "      <td>After a 500 mus laser flash a 120 mus phase in...</td>\n",
       "      <td>spinach</td>\n",
       "      <td>Identification of the 120 mus phase in the dec...</td>\n",
       "      <td>1</td>\n",
       "      <td>0.716394</td>\n",
       "      <td>1</td>\n",
       "    </tr>\n",
       "    <tr>\n",
       "      <th>1</th>\n",
       "      <td>4</td>\n",
       "      <td>67</td>\n",
       "      <td>1975-11-20</td>\n",
       "      <td>Biochimica et biophysica acta</td>\n",
       "      <td>Cholinesterases from plant tissues. VI. Prelim...</td>\n",
       "      <td>Enzymes capable of hydrolyzing esters of thioc...</td>\n",
       "      <td>plant</td>\n",
       "      <td>Cholinesterases from plant tissues. VI. Prelim...</td>\n",
       "      <td>1</td>\n",
       "      <td>0.894874</td>\n",
       "      <td>1</td>\n",
       "    </tr>\n",
       "    <tr>\n",
       "      <th>2</th>\n",
       "      <td>9</td>\n",
       "      <td>283</td>\n",
       "      <td>1975-01-01</td>\n",
       "      <td>Folia microbiologica</td>\n",
       "      <td>Fructose 1,6-bisphosphate aldolase activity of...</td>\n",
       "      <td>FDP aldolase was found to be present in the ce...</td>\n",
       "      <td>sesbania</td>\n",
       "      <td>Fructose 1,6-bisphosphate aldolase activity of...</td>\n",
       "      <td>1</td>\n",
       "      <td>0.901070</td>\n",
       "      <td>1</td>\n",
       "    </tr>\n",
       "  </tbody>\n",
       "</table>\n",
       "</div>"
      ],
      "text/plain": [
       "   Unnamed: 0  PMID        Date                        Journal  \\\n",
       "0           3    61  1975-12-11  Biochimica et biophysica acta   \n",
       "1           4    67  1975-11-20  Biochimica et biophysica acta   \n",
       "2           9   283  1975-01-01           Folia microbiologica   \n",
       "\n",
       "                                               Title  \\\n",
       "0  Identification of the 120 mus phase in the dec...   \n",
       "1  Cholinesterases from plant tissues. VI. Prelim...   \n",
       "2  Fructose 1,6-bisphosphate aldolase activity of...   \n",
       "\n",
       "                                            Abstract QualifiedName  \\\n",
       "0  After a 500 mus laser flash a 120 mus phase in...       spinach   \n",
       "1  Enzymes capable of hydrolyzing esters of thioc...         plant   \n",
       "2  FDP aldolase was found to be present in the ce...      sesbania   \n",
       "\n",
       "                                                 txt  reg_article    y_prob  \\\n",
       "0  Identification of the 120 mus phase in the dec...            1  0.716394   \n",
       "1  Cholinesterases from plant tissues. VI. Prelim...            1  0.894874   \n",
       "2  Fructose 1,6-bisphosphate aldolase activity of...            1  0.901070   \n",
       "\n",
       "   y_pred  \n",
       "0       1  \n",
       "1       1  \n",
       "2       1  "
      ]
     },
     "execution_count": 3,
     "metadata": {},
     "output_type": "execute_result"
    }
   ],
   "source": [
    "df_corpus = pd.read_csv(corpus_file, sep='\\t')\n",
    "df_corpus.head(3)"
   ]
  },
  {
   "cell_type": "code",
   "execution_count": 4,
   "metadata": {},
   "outputs": [
    {
     "data": {
      "text/plain": [
       "(421658, 11)"
      ]
     },
     "execution_count": 4,
     "metadata": {},
     "output_type": "execute_result"
    }
   ],
   "source": [
    "df_corpus.shape"
   ]
  },
  {
   "cell_type": "markdown",
   "metadata": {},
   "source": [
    "### Load topic model and probability"
   ]
  },
  {
   "cell_type": "code",
   "execution_count": 5,
   "metadata": {},
   "outputs": [],
   "source": [
    "# Load topic model\n",
    "topic_model = BERTopic.load(topic_model_file)"
   ]
  },
  {
   "cell_type": "code",
   "execution_count": 6,
   "metadata": {},
   "outputs": [],
   "source": [
    "# load prob\n",
    "with open(prob_file, \"rb\") as f:\n",
    "  probs = pickle.load(f)"
   ]
  },
  {
   "cell_type": "markdown",
   "metadata": {},
   "source": [
    "### Load cleaned data"
   ]
  },
  {
   "cell_type": "code",
   "execution_count": 7,
   "metadata": {},
   "outputs": [],
   "source": [
    "with open(docs_clean_file, \"rb\") as f:\n",
    "  docs = pickle.load(f)"
   ]
  },
  {
   "cell_type": "markdown",
   "metadata": {},
   "source": [
    "## ___Process datetime___"
   ]
  },
  {
   "cell_type": "markdown",
   "metadata": {},
   "source": [
    "### Create a timestamps list for plotting article numbers\n",
    "\n",
    "Note that the timestamp will be generated at the year level.\n",
    "- pool docs before 1970 as one bin with a timestamp 1969.\n",
    "- This is for plotting purpose."
   ]
  },
  {
   "cell_type": "code",
   "execution_count": 8,
   "metadata": {},
   "outputs": [
    {
     "data": {
      "text/plain": [
       "('1975-12-11', '1975-11-20')"
      ]
     },
     "execution_count": 8,
     "metadata": {},
     "output_type": "execute_result"
    }
   ],
   "source": [
    "# Get pandas series dates\n",
    "dates = df_corpus['Date']\n",
    "dates[0], dates[1]"
   ]
  },
  {
   "cell_type": "code",
   "execution_count": 9,
   "metadata": {},
   "outputs": [
    {
     "data": {
      "text/plain": [
       "421658"
      ]
     },
     "execution_count": 9,
     "metadata": {},
     "output_type": "execute_result"
    }
   ],
   "source": [
    "ts_for_plot = []\n",
    "docs_yr     = [] # a list of years\n",
    "early_doc   = {} # {year: count}\n",
    "for date in dates:\n",
    "  [yr, mo, da] = date.split('-') # year, month, day\n",
    "  # docs from the same year has the same timestamp\n",
    "  yr = int(yr)\n",
    "  docs_yr.append(yr)\n",
    "\n",
    "  # Create \n",
    "  if yr not in early_doc:\n",
    "    early_doc[yr] = 1\n",
    "  else:\n",
    "    early_doc[yr]+= 1\n",
    "\n",
    "  # Set year before 1970 as 1969.\n",
    "  if yr < 1970:  \n",
    "    yr = 1969\n",
    "\n",
    "  # Set year after 2020 as 2020. There are 58 instances\n",
    "  if yr > 2020:  \n",
    "    yr = 2020\n",
    "\n",
    "  dt   = datetime(yr, 1, 1)\n",
    "  ts   = dt.timestamp()\n",
    "  ts_for_plot.append(ts)\n",
    "len(ts_for_plot)"
   ]
  },
  {
   "cell_type": "code",
   "execution_count": 10,
   "metadata": {},
   "outputs": [],
   "source": [
    "docs_year_array = np.unique(np.array(docs_yr), return_counts=True)\n",
    "docs_year_df    = pd.DataFrame(docs_year_array[1], columns=[\"Count\"],\n",
    "                               index=docs_year_array[0])"
   ]
  },
  {
   "cell_type": "code",
   "execution_count": 11,
   "metadata": {},
   "outputs": [
    {
     "data": {
      "text/plain": [
       "Count    97\n",
       "Name: 1965, dtype: int64"
      ]
     },
     "execution_count": 11,
     "metadata": {},
     "output_type": "execute_result"
    }
   ],
   "source": [
    "docs_year_df.loc[1965]"
   ]
  },
  {
   "cell_type": "code",
   "execution_count": 12,
   "metadata": {},
   "outputs": [
    {
     "data": {
      "image/png": "[encoded data removed]",
      "text/plain": [
       "<Figure size 432x720 with 1 Axes>"
      ]
     },
     "metadata": {
      "needs_background": "light"
     },
     "output_type": "display_data"
    }
   ],
   "source": [
    "# without log\n",
    "plt.figure(figsize=(6,10))\n",
    "plt.barh(docs_year_array[0], docs_year_array[1])\n",
    "plt.ylabel('Year')\n",
    "plt.xlabel('Numbers of documents')\n",
    "plt.yticks(range(1920, 2021, 5))\n",
    "plt.savefig(work_dir / 'figure4_4_num_docs_per_year.pdf')"
   ]
  },
  {
   "cell_type": "code",
   "execution_count": 13,
   "metadata": {},
   "outputs": [
    {
     "data": {
      "image/png": "[encoded data removed]",
      "text/plain": [
       "<Figure size 432x720 with 1 Axes>"
      ]
     },
     "metadata": {
      "needs_background": "light"
     },
     "output_type": "display_data"
    }
   ],
   "source": [
    "# logged\n",
    "plt.figure(figsize=(6,10))\n",
    "plt.barh(docs_year_array[0], np.log10(docs_year_array[1]+1))\n",
    "plt.ylabel('Year')\n",
    "\n",
    "# +1 so the x-axis value is not zero.\n",
    "plt.xlabel('log10(Numbers of documents + 1)')\n",
    "plt.yticks(range(1920, 2021, 5))\n",
    "plt.savefig(work_dir / 'figure4_4_num_docs_per_year_logged.pdf')"
   ]
  },
  {
   "cell_type": "markdown",
   "metadata": {},
   "source": [
    "### Spot check timestamp values"
   ]
  },
  {
   "cell_type": "code",
   "execution_count": 14,
   "metadata": {},
   "outputs": [
    {
     "name": "stdout",
     "output_type": "stream",
     "text": [
      "2002-05-23 <--> 2002-01-01 00:00:00 1009861200.0\n",
      "2006-12-21 <--> 2006-01-01 00:00:00 1136091600.0\n",
      "2012-09-12 <--> 2012-01-01 00:00:00 1325394000.0\n",
      "2014-03-13 <--> 2014-01-01 00:00:00 1388552400.0\n",
      "2019-02-14 <--> 2019-01-01 00:00:00 1546318800.0\n",
      "1999-01-08 <--> 1999-01-01 00:00:00 915166800.0\n",
      "2012-08-07 <--> 2012-01-01 00:00:00 1325394000.0\n",
      "2019-03-16 <--> 2019-01-01 00:00:00 1546318800.0\n",
      "2019-09-29 <--> 2019-01-01 00:00:00 1546318800.0\n",
      "1986-05-05 <--> 1986-01-01 00:00:00 504939600.0\n",
      "2015-08-04 <--> 2015-01-01 00:00:00 1420088400.0\n",
      "2016-01-20 <--> 2016-01-01 00:00:00 1451624400.0\n",
      "2020-02-23 <--> 2020-01-01 00:00:00 1577854800.0\n",
      "1991-11-01 <--> 1991-01-01 00:00:00 662706000.0\n",
      "1991-10-05 <--> 1991-01-01 00:00:00 662706000.0\n",
      "2018-02-08 <--> 2018-01-01 00:00:00 1514782800.0\n",
      "2019-03-07 <--> 2019-01-01 00:00:00 1546318800.0\n",
      "2014-09-30 <--> 2014-01-01 00:00:00 1388552400.0\n",
      "2011-01-12 <--> 2011-01-01 00:00:00 1293858000.0\n",
      "2019-10-23 <--> 2019-01-01 00:00:00 1546318800.0\n"
     ]
    }
   ],
   "source": [
    "rand_ints = np.random.randint(df_corpus.shape[0], size=20)\n",
    "for rand_int in rand_ints:\n",
    "  date = df_corpus['Date'][rand_int]\n",
    "  ts   = ts_for_plot[rand_int]\n",
    "  print(date, \"<-->\", datetime.fromtimestamp(ts), ts)"
   ]
  },
  {
   "cell_type": "code",
   "execution_count": 15,
   "metadata": {},
   "outputs": [
    {
     "data": {
      "text/plain": [
       "(-31518000.0, 1577854800.0, datetime.datetime(1969, 1, 1, 0, 0))"
      ]
     },
     "execution_count": 15,
     "metadata": {},
     "output_type": "execute_result"
    }
   ],
   "source": [
    "min(ts_for_plot), max(ts_for_plot), datetime.fromtimestamp(min(ts_for_plot))"
   ]
  },
  {
   "cell_type": "markdown",
   "metadata": {},
   "source": [
    "### Get the binned timestamp values\n",
    "\n",
    "So the bins have similar numbers of docs.\n",
    "- For this a new timestamp list is generated"
   ]
  },
  {
   "cell_type": "code",
   "execution_count": 16,
   "metadata": {},
   "outputs": [],
   "source": [
    "# Turn all dates into timestamps \n",
    "ts_for_bins = []\n",
    "for date in dates:\n",
    "  [yr, mo, da] = date.split('-') # year, month, day\n",
    "  dt   = datetime(int(yr), int(mo), int(da))\n",
    "  ts   = dt.timestamp()\n",
    "  ts_for_bins.append(ts)"
   ]
  },
  {
   "cell_type": "code",
   "execution_count": 17,
   "metadata": {},
   "outputs": [],
   "source": [
    "ts_for_bins.sort()"
   ]
  },
  {
   "cell_type": "code",
   "execution_count": 18,
   "metadata": {},
   "outputs": [],
   "source": [
    "# bin size\n",
    "bin_size       = int(len(ts_for_bins)/50)\n",
    "\n",
    "# index values of every 2 percentile (because the data is broken into 50 parts)\n",
    "bin_idxs       = [idx for idx in range(0, len(ts_for_bins), bin_size)]\n",
    "\n",
    "# timestamp values at bin_idxs\n",
    "bin_timestamps = [ts_for_bins[idx] for idx in bin_idxs]\n",
    "\n",
    "# Modify the last value to be the max timestamp value + 1. This is otherwise\n",
    "# because of the bin_size is rounded down the last value be smaller than the max\n",
    "# timestamp values. Also, +1 to the max value, otherwise, the last entries will\n",
    "# be in its own bin.\n",
    "max_timestamp      = max(ts_for_bins) + 1\n",
    "bin_timestamps[-1] = max_timestamp\n",
    "\n",
    "# dates correspond to the different timestamp\n",
    "bin_dates      = [datetime.fromtimestamp(ts) for ts in bin_timestamps]\n",
    "\n",
    "# Put idx, timestamp, and date into a dataframe and save it.\n",
    "bin_df         = pd.DataFrame(list(zip(bin_idxs, bin_timestamps, bin_dates)),\n",
    "            columns=['bin_start_idx', 'bin_start_timestamp', 'bin_start_date'])\n",
    "bin_df.to_csv(work_dir / \"table4_4_bin_timestamp_date.tsv\", sep='\\t')"
   ]
  },
  {
   "cell_type": "code",
   "execution_count": 19,
   "metadata": {},
   "outputs": [
    {
     "data": {
      "text/plain": [
       "(   bin_start_idx  bin_start_timestamp bin_start_date\n",
       " 0              0        -1.646248e+09     1917-11-01\n",
       " 1           8433         2.507508e+08     1977-12-12\n",
       " 2          16866         4.258800e+08     1983-07-01\n",
       " 3          25299         5.468400e+08     1987-05-01\n",
       " 4          33732         6.389460e+08     1990-04-01,\n",
       "     bin_start_idx  bin_start_timestamp      bin_start_date\n",
       " 46         387918         1.574053e+09 2019-11-18 00:00:00\n",
       " 47         396351         1.583557e+09 2020-03-07 00:00:00\n",
       " 48         404784         1.592712e+09 2020-06-21 00:00:00\n",
       " 49         413217         1.601438e+09 2020-09-30 00:00:00\n",
       " 50         421650         1.609477e+09 2021-01-01 00:00:01)"
      ]
     },
     "execution_count": 19,
     "metadata": {},
     "output_type": "execute_result"
    }
   ],
   "source": [
    "bin_df.head(), bin_df.tail()"
   ]
  },
  {
   "cell_type": "markdown",
   "metadata": {},
   "source": [
    "### Generate the binned timestamps"
   ]
  },
  {
   "cell_type": "code",
   "execution_count": 20,
   "metadata": {},
   "outputs": [],
   "source": [
    "# Assign new timestamps based on the bin timestamp values\n",
    "ts_in_bins = []\n",
    "for date in dates:\n",
    "  [yr, mo, da] = date.split('-') # year, month, day\n",
    "  dt   = datetime(int(yr), int(mo), int(da))\n",
    "  ts   = dt.timestamp()\n",
    "\n",
    "  bin_idx = bisect(bin_timestamps, ts)\n",
    "\n",
    "  if bin_idx < len(bin_timestamps):\n",
    "    ts2     = bin_timestamps[bin_idx]\n",
    "  # Deal with the last bin\n",
    "  else:\n",
    "    ts2     = datetime(2022, 12, 31).timestamp()\n",
    "  ts_in_bins.append(ts2) "
   ]
  },
  {
   "cell_type": "markdown",
   "metadata": {},
   "source": [
    "## ___Topic over time___"
   ]
  },
  {
   "cell_type": "markdown",
   "metadata": {},
   "source": [
    "### Setup `topics_over_time`\n",
    "\n",
    "Bertopic [doc](https://maartengr.github.io/BERTopic/api/bertopic.html#bertopic._bertopic.BERTopic.topics_over_time)\n",
    "- docs,\tList[str]: docs used when calling either fit or fit_transform\n",
    "  - Set to `df_corpus[txt]`\n",
    "- topics, List[int]: topics that were returned when calling either fit or fit_transform\n",
    "  - See `script_4_3` using np.argmax to get topics\n",
    "- timestamps,\tUnion[List[str], List[int]]: The timestamp of each document. This can be either a list of strings or ints.\n",
    "  - Set to `timestamps` \n",
    "- nr_bins, int: The number of bins you want to create for the timestamps.\n",
    "  - From 1969 to 2000, so `52` bins\n",
    "- datetime_format, str: The datetime format of the timestamps if they are strings, eg “%d/%m/%Y”. Set this to None if you want to have it automatically detect the format. \n",
    "  - Set to `None`\n",
    "- evolution_tuning,\tbool: Fine-tune each topic representation at timestamp t by averaging its c-TF-IDF matrix with the c-TF-IDF matrix at timestamp t-1. This creates evolutionary topic representations.\n",
    "  - Set to `True`\n",
    "- global_tuning, bool: Fine-tune each topic representation at timestamp t by averaging its c-TF-IDF matrix with the global c-TF-IDF matrix. Turn this off if you want to prevent words in topic representations that could not be found in the documents at timestamp t.\n",
    "  - Set to `True`"
   ]
  },
  {
   "cell_type": "code",
   "execution_count": 21,
   "metadata": {},
   "outputs": [],
   "source": [
    "probability_threshold = np.percentile(probs, 95)\n",
    "topics = [np.argmax(prob) if max(prob) >= probability_threshold else -1 \n",
    "                                                            for prob in probs]"
   ]
  },
  {
   "cell_type": "code",
   "execution_count": 22,
   "metadata": {},
   "outputs": [
    {
     "data": {
      "text/plain": [
       "(array([2.5075080e+08, 4.2588000e+08, 5.4684000e+08, 6.3894600e+08,\n",
       "        7.1264160e+08, 7.7839200e+08, 8.3619360e+08, 8.9753760e+08,\n",
       "        9.4972680e+08, 9.8696160e+08, 1.0184112e+09, 1.0464948e+09,\n",
       "        1.0722420e+09, 1.0992852e+09, 1.1230416e+09, 1.1461968e+09,\n",
       "        1.1676276e+09, 1.1886192e+09, 1.2090096e+09, 1.2259476e+09,\n",
       "        1.2457296e+09, 1.2641364e+09, 1.2826224e+09, 1.3001616e+09,\n",
       "        1.3161456e+09, 1.3323024e+09, 1.3473360e+09, 1.3622004e+09,\n",
       "        1.3759344e+09, 1.3897620e+09, 1.4022000e+09, 1.4149008e+09,\n",
       "        1.4273424e+09, 1.4396976e+09, 1.4519700e+09, 1.4637168e+09,\n",
       "        1.4758992e+09, 1.4873940e+09, 1.4989680e+09, 1.5103764e+09,\n",
       "        1.5218640e+09, 1.5327504e+09, 1.5439860e+09, 1.5541776e+09,\n",
       "        1.5640272e+09, 1.5740532e+09, 1.5835572e+09, 1.5927120e+09,\n",
       "        1.6014384e+09, 1.6094772e+09]),\n",
       " array([8433, 8313, 8483, 8352, 8510, 8391, 8432, 8550, 8425, 8424, 8436,\n",
       "        8372, 8497, 8398, 8463, 8448, 8420, 8379, 8488, 8420, 8393, 8461,\n",
       "        8462, 8400, 8464, 8422, 8402, 8474, 8400, 8450, 8458, 8429, 8377,\n",
       "        8477, 8429, 8402, 8415, 8483, 8437, 8431, 8430, 8393, 8448, 8456,\n",
       "        8457, 8431, 8414, 8439, 8416, 8474]))"
      ]
     },
     "execution_count": 22,
     "metadata": {},
     "output_type": "execute_result"
    }
   ],
   "source": [
    "np.unique(np.array(ts_in_bins), return_counts=True)"
   ]
  },
  {
   "cell_type": "code",
   "execution_count": 23,
   "metadata": {},
   "outputs": [],
   "source": [
    "docs             = docs\n",
    "topics           = topics\n",
    "timestamps       = ts_in_bins\n",
    "nr_bins          = 50\n",
    "evolution_tuning = True\n",
    "global_tuning    = True"
   ]
  },
  {
   "cell_type": "markdown",
   "metadata": {},
   "source": [
    "### Manual run `topic_over_time`\n",
    "\n",
    "The above take a long time and the output is not exactly what I am looking for.\n",
    "- The words column: would be nice to have c-Tf-Idf values for whatever words that I am interested in. But this only report top 5."
   ]
  },
  {
   "cell_type": "code",
   "execution_count": 24,
   "metadata": {},
   "outputs": [],
   "source": [
    "# Creat a folder to store c-tf-idf matrix for each timestamp bin\n",
    "ctfidf_dir = work_dir / \"ctfidf_over_time\"\n",
    "ctfidf_dir.mkdir(parents=True, exist_ok=True)"
   ]
  },
  {
   "cell_type": "code",
   "execution_count": 25,
   "metadata": {},
   "outputs": [],
   "source": [
    "# Construct a documents dataframe\n",
    "documents = pd.DataFrame({\"Document\": docs, \"Topic\": topics, \n",
    "                          \"Timestamps\": timestamps})"
   ]
  },
  {
   "cell_type": "code",
   "execution_count": 26,
   "metadata": {},
   "outputs": [
    {
     "data": {
      "text/plain": [
       "(91, 18850331)"
      ]
     },
     "execution_count": 26,
     "metadata": {},
     "output_type": "execute_result"
    }
   ],
   "source": [
    "# Get the global (i.e., based on the whole timef rame) ctfidf values\n",
    "global_c_tf_idf = normalize(topic_model.c_tf_idf, axis=1, norm='l1', copy=False)\n",
    "global_c_tf_idf.shape"
   ]
  },
  {
   "cell_type": "code",
   "execution_count": 27,
   "metadata": {},
   "outputs": [
    {
     "data": {
      "text/plain": [
       "(91, -1, dict, 0)"
      ]
     },
     "execution_count": 27,
     "metadata": {},
     "output_type": "execute_result"
    }
   ],
   "source": [
    "# Get topic names, ordered and then get their indices, 0-based\n",
    "all_topics = sorted(list(documents.Topic.unique()))\n",
    "all_topics_indices = {topic: index for index, topic in enumerate(all_topics)}\n",
    "len(all_topics), all_topics[0], type(all_topics_indices), all_topics_indices[-1]"
   ]
  },
  {
   "cell_type": "code",
   "execution_count": 28,
   "metadata": {},
   "outputs": [
    {
     "data": {
      "text/plain": [
       "(pandas._libs.interval.Interval,\n",
       " Interval(249392073.599, 277925328.02, closed='right'))"
      ]
     },
     "execution_count": 28,
     "metadata": {},
     "output_type": "execute_result"
    }
   ],
   "source": [
    "# Bin values into discrete intervals\n",
    "# The original code does not work for me because my timestamp bins are not sized\n",
    "# equally. With the following code, 32 bins are created instead of 50.\n",
    "#documents[\"Bins\"]       = pd.cut(documents.Timestamps, bins=nr_bins)\n",
    "\n",
    "# Testing\n",
    "bins = pd.cut(documents.Timestamps, bins=nr_bins)\n",
    "type(bins[0]), bins[0]"
   ]
  },
  {
   "cell_type": "code",
   "execution_count": 30,
   "metadata": {},
   "outputs": [],
   "source": [
    "ts_unqiue = np.unique(np.array(timestamps))\n",
    "ts_bins   = [] # a list of tuples showing the bin range (+/-1 of the unique val)\n",
    "for ts in timestamps:\n",
    "  ts_bins.append(pd.Interval(left=ts-1, right=ts+1))"
   ]
  },
  {
   "cell_type": "code",
   "execution_count": 31,
   "metadata": {},
   "outputs": [],
   "source": [
    "documents[\"Bins\"] = ts_bins"
   ]
  },
  {
   "cell_type": "code",
   "execution_count": 32,
   "metadata": {},
   "outputs": [
    {
     "data": {
      "text/html": [
       "<div>\n",
       "<style scoped>\n",
       "    .dataframe tbody tr th:only-of-type {\n",
       "        vertical-align: middle;\n",
       "    }\n",
       "\n",
       "    .dataframe tbody tr th {\n",
       "        vertical-align: top;\n",
       "    }\n",
       "\n",
       "    .dataframe thead th {\n",
       "        text-align: right;\n",
       "    }\n",
       "</style>\n",
       "<table border=\"1\" class=\"dataframe\">\n",
       "  <thead>\n",
       "    <tr style=\"text-align: right;\">\n",
       "      <th></th>\n",
       "      <th>Document</th>\n",
       "      <th>Topic</th>\n",
       "      <th>Timestamps</th>\n",
       "      <th>Bins</th>\n",
       "    </tr>\n",
       "  </thead>\n",
       "  <tbody>\n",
       "    <tr>\n",
       "      <th>0</th>\n",
       "      <td>identification 120 mus phase decay delayed flu...</td>\n",
       "      <td>52</td>\n",
       "      <td>250750799.0</td>\n",
       "      <td>(250750799.0, 250750801.0]</td>\n",
       "    </tr>\n",
       "    <tr>\n",
       "      <th>1</th>\n",
       "      <td>cholinesterases plant tissues . vi . prelimina...</td>\n",
       "      <td>48</td>\n",
       "      <td>250750799.0</td>\n",
       "      <td>(250750799.0, 250750801.0]</td>\n",
       "    </tr>\n",
       "  </tbody>\n",
       "</table>\n",
       "</div>"
      ],
      "text/plain": [
       "                                            Document  Topic   Timestamps  \\\n",
       "0  identification 120 mus phase decay delayed flu...     52  250750799.0   \n",
       "1  cholinesterases plant tissues . vi . prelimina...     48  250750799.0   \n",
       "\n",
       "                         Bins  \n",
       "0  (250750799.0, 250750801.0]  \n",
       "1  (250750799.0, 250750801.0]  "
      ]
     },
     "execution_count": 32,
     "metadata": {},
     "output_type": "execute_result"
    }
   ],
   "source": [
    "documents[\"Timestamps\"] = documents.apply(lambda row: row.Bins.left, 1)\n",
    "documents.head(2)"
   ]
  },
  {
   "cell_type": "code",
   "execution_count": 33,
   "metadata": {},
   "outputs": [
    {
     "data": {
      "text/plain": [
       "50"
      ]
     },
     "execution_count": 33,
     "metadata": {},
     "output_type": "execute_result"
    }
   ],
   "source": [
    "# When passed already sorted, but just in case\n",
    "# Sort documents in chronological order\n",
    "documents  = documents.sort_values(\"Timestamps\")\n",
    "\n",
    "# Unique timestamps\n",
    "ts_unique = documents.Timestamps.unique()\n",
    "len(ts_unique)"
   ]
  },
  {
   "cell_type": "markdown",
   "metadata": {},
   "source": [
    "### Run all timestamps"
   ]
  },
  {
   "cell_type": "code",
   "execution_count": 35,
   "metadata": {},
   "outputs": [
    {
     "name": "stdout",
     "output_type": "stream",
     "text": [
      "0 250750799.0\n",
      "34.55846858024597\n",
      "1 425879999.0\n",
      "383.6046209335327\n",
      "2 546839999.0\n",
      "758.6106171607971\n",
      "3 638945999.0\n",
      "1149.5841569900513\n",
      "4 712641599.0\n",
      "1551.6300616264343\n",
      "5 778391999.0\n",
      "1963.4569025039673\n",
      "6 836193599.0\n",
      "2384.9546797275543\n",
      "7 897537599.0\n"
     ]
    }
   ],
   "source": [
    "# For each unique timestamp, create topic representations\n",
    "topics_over_time = []\n",
    "t = time()\n",
    "for index, timestamp in enumerate(ts_unique):\n",
    "  print(index, timestamp),\n",
    "  # Calculate c-TF-IDF representation for a specific timestamp\n",
    "  selection = documents.loc[documents.Timestamps == timestamp, :]\n",
    "  docs_per_toc = selection.groupby(['Topic'], as_index=False).agg(\n",
    "                                {'Document': ' '.join, \"Timestamps\": \"count\"})\n",
    "  c_tf_idf, words = topic_model._c_tf_idf(docs_per_toc, fit=False)\n",
    "\n",
    "  if global_tuning or evolution_tuning:\n",
    "    c_tf_idf = normalize(c_tf_idf, axis=1, norm='l1', copy=False)\n",
    "\n",
    "  # Fine-tune the c-TF-IDF matrix at timestamp t by averaging it with the \n",
    "  # c-TF-IDF matrix at timestamp t-1\n",
    "  if evolution_tuning and index != 0:\n",
    "    curr_toc         = sorted(list(docs_per_toc.Topic.values))\n",
    "    overlap_toc      = sorted(list(set(prev_toc).intersection(set(curr_toc))))\n",
    "    curr_overlap_idx = [curr_toc.index(topic) for topic in overlap_toc]\n",
    "    prev_overlap_idx = [prev_toc.index(topic) for topic in overlap_toc]\n",
    "\n",
    "    c_tf_idf.tolil()[curr_overlap_idx] = \\\n",
    "      ((c_tf_idf[curr_overlap_idx] + prev_c_tf_idf[prev_overlap_idx]) / 2.0).tolil()\n",
    "\n",
    "  # Fine-tune the timestamp c-TF-IDF representation based on the global c-TF-IDF representation\n",
    "  # by simply taking the average of the two\n",
    "  if global_tuning:\n",
    "    selected_topics = [all_topics_indices[topic] \\\n",
    "                                        for topic in docs_per_toc.Topic.values]\n",
    "    c_tf_idf = (global_c_tf_idf[selected_topics] + c_tf_idf) / 2.0\n",
    "\n",
    "  # Extract the words per topic\n",
    "  labels = sorted(list(docs_per_toc.Topic.unique()))\n",
    "  words_per_toc = topic_model._extract_words_per_topic(words, c_tf_idf, labels)\n",
    "  topic_frequency = pd.Series(docs_per_toc.Timestamps.values,\n",
    "                                index=docs_per_toc.Topic).to_dict()\n",
    "  # Fill dataframe with results\n",
    "  topics_at_timestamp = [(topic,\n",
    "                          \", \".join([words[0] for words in values][:5]),\n",
    "                          topic_frequency[topic],\n",
    "                          timestamp) for topic, values in words_per_toc.items()]\n",
    "  topics_over_time.extend(topics_at_timestamp)\n",
    "\n",
    "  if evolution_tuning:\n",
    "    prev_toc = sorted(list(docs_per_toc.Topic.values))\n",
    "    prev_c_tf_idf = c_tf_idf.copy()\n",
    "\n",
    "  # Save the ctfidf values for the bin\n",
    "  ctfidf_file = ctfidf_dir / f'ctfidf_{index}.pickle'\n",
    "  with open(ctfidf_file, \"wb\") as f:\n",
    "    pickle.dump(c_tf_idf, f)\n",
    "\n",
    "  print(time() - t)\n"
   ]
  },
  {
   "cell_type": "code",
   "execution_count": null,
   "metadata": {},
   "outputs": [],
   "source": [
    "topics_over_time = pd.DataFrame(topics_over_time, columns=[\"Topic\", \"Words\", \"Frequency\", \"Timestamp\"])\n"
   ]
  },
  {
   "cell_type": "markdown",
   "metadata": {},
   "source": [
    "# Code development"
   ]
  },
  {
   "cell_type": "markdown",
   "metadata": {},
   "source": [
    "### Testing\n",
    "\n",
    "Python `datetime` module: [doc](https://docs.python.org/3/library/datetime.html)\n",
    "- `date` obj: represents a date (year, month and day) in an idealized calendar. This is the date I have. But Bertopic is asking for a timestamp.\n",
    "- `datetime.timestamp()` method: Return POSIX timestamp corresponding to the datetime instance."
   ]
  },
  {
   "cell_type": "code",
   "execution_count": null,
   "metadata": {},
   "outputs": [],
   "source": [
    "# Get current datetime obj\n",
    "now = datetime.now()\n",
    "type(now), now"
   ]
  },
  {
   "cell_type": "code",
   "execution_count": null,
   "metadata": {},
   "outputs": [],
   "source": [
    "# Get pandas series dates\n",
    "dates = df_corpus['Date']\n",
    "dates[0], dates[1]"
   ]
  },
  {
   "cell_type": "code",
   "execution_count": null,
   "metadata": {},
   "outputs": [],
   "source": [
    "# turn the 1st date into a datetime obj\n",
    "date0 = dates[0].split('-')\n",
    "dt0   = datetime(int(date0[0]), int(date0[1]), int(date0[2]))\n",
    "dt0"
   ]
  },
  {
   "cell_type": "code",
   "execution_count": null,
   "metadata": {},
   "outputs": [],
   "source": [
    "# turn datetime into timestamp\n",
    "ts0 = dt0.timestamp()\n",
    "ts0"
   ]
  },
  {
   "cell_type": "markdown",
   "metadata": {},
   "source": [
    "### Run `topic_over_time`\n",
    "\n",
    "This is not used because the output is not as useful as I like. Particularly, I want to get the modified c-Tf-Idf values of differnt time bins. So this is replaced with manual run."
   ]
  },
  {
   "cell_type": "code",
   "execution_count": null,
   "metadata": {},
   "outputs": [],
   "source": [
    "topics_over_time_ts3 = topic_model.topics_over_time(docs, topics, timestamps3, \n",
    "                                                    nr_bins=50,\n",
    "                                                    evolution_tuning=True,\n",
    "                                                    global_tuning=True)"
   ]
  },
  {
   "cell_type": "code",
   "execution_count": null,
   "metadata": {},
   "outputs": [],
   "source": [
    "topic_ot_ts3_file = work_dir / \"topics_over_time_ts3.tsv\"\n",
    "topics_over_time_ts3.to_csv(topic_ot_ts3_file, sep=\"\\t\")"
   ]
  },
  {
   "cell_type": "code",
   "execution_count": null,
   "metadata": {},
   "outputs": [],
   "source": [
    "topics_over_time_ts3"
   ]
  }
 ],
 "metadata": {
  "kernelspec": {
   "display_name": "Python 3.10.4 ('torch_default': conda)",
   "language": "python",
   "name": "python3"
  },
  "language_info": {
   "codemirror_mode": {
    "name": "ipython",
    "version": 3
   },
   "file_extension": ".py",
   "mimetype": "text/x-python",
   "name": "python",
   "nbconvert_exporter": "python",
   "pygments_lexer": "ipython3",
   "version": "3.10.4"
  },
  "orig_nbformat": 4,
  "vscode": {
   "interpreter": {
    "hash": "4255f477c905e3cafd6d08b9a6d118445dbfbaff982fd1d9831280a79a13df35"
   }
  }
 },
 "nbformat": 4,
 "nbformat_minor": 2
}
