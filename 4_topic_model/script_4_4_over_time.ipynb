{
 "cells": [
  {
   "cell_type": "markdown",
   "metadata": {},
   "source": [
    "# __Step 4.4: Topic over time__\n",
    "\n",
    "Goals here:\n",
    "- Analyze topics over time\n",
    "\n",
    "Considerations:\n",
    "- Time interval\n",
    "  - The `topic_over_time` method doc in BERTopic has the following disclaimer: \"Make sure to use a limited number of unique timestamps (<100) as the c-TF-IDF representation will be calculated at each single unique timestamp. Having a large number of unique timestamps can take some time to be calculated. Moreover, there aren't many use-cased where you would like to see the difference in topic representations over more than 100 different timestamps.\"\n",
    "  - In light of this, the timestamps are generate at the year level.\n",
    "    - Also realize that there are docs since 1917 but few of them in the early years. So pool docs before 1970 as one bin with a timestamp 1969.\n",
    "    - There are very few 2021 articles (58) included due to publicaton time change. They are counted as 2020.\n",
    "- Ok, after doing a `topic_over_time` run, I realize that the number of docs differ so much between the annual bins, it creates a whole host of issues. So do this instead:\n",
    "  - Get a sorted timestamps list, without applying any thresholding.\n",
    "  - Get every two percentile timestamp values and cut the whole dataset into 50 similar sized bins.\n",
    "  - Note that the sizes are very similar but not the same because how I put things into bins.\n",
    "- 8/25/22: Earlier `topic_over_time` manual run was with `global_tuning` on.\n",
    "  - This is problematic because this lead to terms does not present in any docs in a time bin (so ctfidf=0) to have non-zero values and sometime even become top terms for that bin. \n",
    "  - An example is topic 61, term qtl. With global tuning, it is a top term for time bin 0, even though no doc talk about it.\n",
    "  - Do another run and output ctfidf values with `_no_globaltune` extension.\n",
    "  - And rerun all the rest of the analyses and graphing."
   ]
  },
  {
   "cell_type": "markdown",
   "metadata": {},
   "source": [
    "## ___Set up___"
   ]
  },
  {
   "cell_type": "markdown",
   "metadata": {},
   "source": [
    "### Module import"
   ]
  },
  {
   "cell_type": "code",
   "execution_count": 51,
   "metadata": {},
   "outputs": [],
   "source": [
    "import pickle, gzip\n",
    "import numpy as np\n",
    "import pandas as pd\n",
    "import seaborn as sns\n",
    "import matplotlib as mpl\n",
    "import matplotlib.pyplot as plt\n",
    "from pathlib import Path\n",
    "from bertopic import BERTopic\n",
    "from tqdm import tqdm\n",
    "from datetime import datetime\n",
    "from bisect import bisect\n",
    "from sklearn.preprocessing import minmax_scale, normalize\n",
    "from time import time\n",
    "import plotly.graph_objects as go\n",
    "from scipy.optimize import curve_fit"
   ]
  },
  {
   "cell_type": "markdown",
   "metadata": {},
   "source": [
    "### Key variables"
   ]
  },
  {
   "cell_type": "code",
   "execution_count": 2,
   "metadata": {},
   "outputs": [],
   "source": [
    "# Reproducibility\n",
    "seed = 20220609\n",
    "\n",
    "# Setting working directory\n",
    "proj_dir   = Path.home() / \"projects/plant_sci_hist\"\n",
    "work_dir   = proj_dir / \"4_topic_model/4_4_over_time\"\n",
    "work_dir.mkdir(parents=True, exist_ok=True)\n",
    "\n",
    "# plant science corpus\n",
    "dir25       = proj_dir / \"2_text_classify/2_5_predict_pubmed\"\n",
    "corpus_file = dir25 / \"corpus_plant_421658.tsv.gz\"\n",
    "\n",
    "# processed docs\n",
    "dir41            = proj_dir / \"4_topic_model/4_1_compare_models\"\n",
    "docs_clean_file  = dir41 / \"corpus_plant_421658_proc_txt.pkl\"\n",
    "\n",
    "# saved model, probability, and embedding files\n",
    "dir42            = proj_dir / \"4_topic_model/4_2_outlier_assign\"\n",
    "topic_model_file = dir42 / \"topic_model_updated\"\n",
    "prob_file        = dir42 / \"probs.pickle\"\n",
    "embedding_file   = dir42 / \"embeddings_scibert.pickle\"\n",
    "\n",
    "# modified topic names\n",
    "dir43            = proj_dir / \"4_topic_model/4_3_model_analysis\"\n",
    "toc_mod_name_file= dir43 / 'fig4_3_topic_heatmap_seaborn_order_condensed.txt'\n",
    "\n",
    "# So PDF is saved in a format properly\n",
    "mpl.rcParams['pdf.fonttype'] = 42\n",
    "plt.rcParams[\"font.family\"] = \"sans-serif\"\n",
    "\n",
    "# Creat a folder to store c-tf-idf matrix for each timestamp bin\n",
    "ctfidf_dir = work_dir / \"ctfidf_over_time\"\n",
    "ctfidf_dir.mkdir(parents=True, exist_ok=True)\n",
    "\n",
    "# Create a folder to store topic over time graph for each topic\n",
    "tot_graph_dir = work_dir / 'tot_graphs'\n",
    "tot_graph_dir.mkdir(parents=True, exist_ok=True)\n",
    "\n",
    "# Create a folder to store topic over time heatmaps\n",
    "#tot_heatmap_dir = work_dir / 'tot_heatmaps'\n",
    "#tot_heatmap_dir.mkdir(parents=True, exist_ok=True)"
   ]
  },
  {
   "cell_type": "markdown",
   "metadata": {},
   "source": [
    "## ___Load data___"
   ]
  },
  {
   "cell_type": "markdown",
   "metadata": {},
   "source": [
    "### Load original corpus"
   ]
  },
  {
   "cell_type": "code",
   "execution_count": 3,
   "metadata": {},
   "outputs": [
    {
     "data": {
      "text/html": [
       "<div>\n",
       "<style scoped>\n",
       "    .dataframe tbody tr th:only-of-type {\n",
       "        vertical-align: middle;\n",
       "    }\n",
       "\n",
       "    .dataframe tbody tr th {\n",
       "        vertical-align: top;\n",
       "    }\n",
       "\n",
       "    .dataframe thead th {\n",
       "        text-align: right;\n",
       "    }\n",
       "</style>\n",
       "<table border=\"1\" class=\"dataframe\">\n",
       "  <thead>\n",
       "    <tr style=\"text-align: right;\">\n",
       "      <th></th>\n",
       "      <th>Unnamed: 0</th>\n",
       "      <th>PMID</th>\n",
       "      <th>Date</th>\n",
       "      <th>Journal</th>\n",
       "      <th>Title</th>\n",
       "      <th>Abstract</th>\n",
       "      <th>QualifiedName</th>\n",
       "      <th>txt</th>\n",
       "      <th>reg_article</th>\n",
       "      <th>y_prob</th>\n",
       "      <th>y_pred</th>\n",
       "    </tr>\n",
       "  </thead>\n",
       "  <tbody>\n",
       "    <tr>\n",
       "      <th>0</th>\n",
       "      <td>3</td>\n",
       "      <td>61</td>\n",
       "      <td>1975-12-11</td>\n",
       "      <td>Biochimica et biophysica acta</td>\n",
       "      <td>Identification of the 120 mus phase in the dec...</td>\n",
       "      <td>After a 500 mus laser flash a 120 mus phase in...</td>\n",
       "      <td>spinach</td>\n",
       "      <td>Identification of the 120 mus phase in the dec...</td>\n",
       "      <td>1</td>\n",
       "      <td>0.716394</td>\n",
       "      <td>1</td>\n",
       "    </tr>\n",
       "    <tr>\n",
       "      <th>1</th>\n",
       "      <td>4</td>\n",
       "      <td>67</td>\n",
       "      <td>1975-11-20</td>\n",
       "      <td>Biochimica et biophysica acta</td>\n",
       "      <td>Cholinesterases from plant tissues. VI. Prelim...</td>\n",
       "      <td>Enzymes capable of hydrolyzing esters of thioc...</td>\n",
       "      <td>plant</td>\n",
       "      <td>Cholinesterases from plant tissues. VI. Prelim...</td>\n",
       "      <td>1</td>\n",
       "      <td>0.894874</td>\n",
       "      <td>1</td>\n",
       "    </tr>\n",
       "    <tr>\n",
       "      <th>2</th>\n",
       "      <td>9</td>\n",
       "      <td>283</td>\n",
       "      <td>1975-01-01</td>\n",
       "      <td>Folia microbiologica</td>\n",
       "      <td>Fructose 1,6-bisphosphate aldolase activity of...</td>\n",
       "      <td>FDP aldolase was found to be present in the ce...</td>\n",
       "      <td>sesbania</td>\n",
       "      <td>Fructose 1,6-bisphosphate aldolase activity of...</td>\n",
       "      <td>1</td>\n",
       "      <td>0.901070</td>\n",
       "      <td>1</td>\n",
       "    </tr>\n",
       "  </tbody>\n",
       "</table>\n",
       "</div>"
      ],
      "text/plain": [
       "   Unnamed: 0  PMID        Date                        Journal  \\\n",
       "0           3    61  1975-12-11  Biochimica et biophysica acta   \n",
       "1           4    67  1975-11-20  Biochimica et biophysica acta   \n",
       "2           9   283  1975-01-01           Folia microbiologica   \n",
       "\n",
       "                                               Title  \\\n",
       "0  Identification of the 120 mus phase in the dec...   \n",
       "1  Cholinesterases from plant tissues. VI. Prelim...   \n",
       "2  Fructose 1,6-bisphosphate aldolase activity of...   \n",
       "\n",
       "                                            Abstract QualifiedName  \\\n",
       "0  After a 500 mus laser flash a 120 mus phase in...       spinach   \n",
       "1  Enzymes capable of hydrolyzing esters of thioc...         plant   \n",
       "2  FDP aldolase was found to be present in the ce...      sesbania   \n",
       "\n",
       "                                                 txt  reg_article    y_prob  \\\n",
       "0  Identification of the 120 mus phase in the dec...            1  0.716394   \n",
       "1  Cholinesterases from plant tissues. VI. Prelim...            1  0.894874   \n",
       "2  Fructose 1,6-bisphosphate aldolase activity of...            1  0.901070   \n",
       "\n",
       "   y_pred  \n",
       "0       1  \n",
       "1       1  \n",
       "2       1  "
      ]
     },
     "execution_count": 3,
     "metadata": {},
     "output_type": "execute_result"
    }
   ],
   "source": [
    "df_corpus = pd.read_csv(corpus_file, sep='\\t')\n",
    "df_corpus.head(3)"
   ]
  },
  {
   "cell_type": "code",
   "execution_count": 173,
   "metadata": {},
   "outputs": [
    {
     "data": {
      "text/plain": [
       "(421658, 11)"
      ]
     },
     "execution_count": 173,
     "metadata": {},
     "output_type": "execute_result"
    }
   ],
   "source": [
    "df_corpus.shape"
   ]
  },
  {
   "cell_type": "markdown",
   "metadata": {},
   "source": [
    "### Load topic model and probability"
   ]
  },
  {
   "cell_type": "code",
   "execution_count": 4,
   "metadata": {},
   "outputs": [],
   "source": [
    "# Load topic model\n",
    "topic_model = BERTopic.load(topic_model_file)"
   ]
  },
  {
   "cell_type": "code",
   "execution_count": 5,
   "metadata": {},
   "outputs": [],
   "source": [
    "# load prob\n",
    "with open(prob_file, \"rb\") as f:\n",
    "  probs = pickle.load(f)"
   ]
  },
  {
   "cell_type": "markdown",
   "metadata": {},
   "source": [
    "### Load cleaned data"
   ]
  },
  {
   "cell_type": "code",
   "execution_count": 6,
   "metadata": {},
   "outputs": [],
   "source": [
    "with open(docs_clean_file, \"rb\") as f:\n",
    "  docs = pickle.load(f)"
   ]
  },
  {
   "cell_type": "markdown",
   "metadata": {},
   "source": [
    "## ___Process datetime___"
   ]
  },
  {
   "cell_type": "markdown",
   "metadata": {},
   "source": [
    "### Create a timestamps list for plotting article numbers\n",
    "\n",
    "Note that the timestamp will be generated at the year level.\n",
    "- pool docs before 1970 as one bin with a timestamp 1969.\n",
    "- This is for plotting purpose."
   ]
  },
  {
   "cell_type": "code",
   "execution_count": 8,
   "metadata": {},
   "outputs": [
    {
     "data": {
      "text/plain": [
       "('1975-12-11', '1975-11-20')"
      ]
     },
     "execution_count": 8,
     "metadata": {},
     "output_type": "execute_result"
    }
   ],
   "source": [
    "# Get pandas series dates\n",
    "dates = df_corpus['Date']\n",
    "dates[0], dates[1]"
   ]
  },
  {
   "cell_type": "code",
   "execution_count": 9,
   "metadata": {},
   "outputs": [
    {
     "data": {
      "text/plain": [
       "421658"
      ]
     },
     "execution_count": 9,
     "metadata": {},
     "output_type": "execute_result"
    }
   ],
   "source": [
    "ts_for_plot = []\n",
    "docs_yr     = [] # a list of years for generating bar graph later\n",
    "early_doc   = {} # {year: count}\n",
    "for date in dates:\n",
    "  [yr, mo, da] = date.split('-') # year, month, day\n",
    "  # docs from the same year has the same timestamp\n",
    "  yr = int(yr)\n",
    "  docs_yr.append(yr)\n",
    "\n",
    "  # Create \n",
    "  if yr not in early_doc:\n",
    "    early_doc[yr] = 1\n",
    "  else:\n",
    "    early_doc[yr]+= 1\n",
    "\n",
    "  # Set year before 1970 as 1969.\n",
    "  if yr < 1970:  \n",
    "    yr = 1969\n",
    "\n",
    "  # Set year after 2020 as 2020. There are 58 instances\n",
    "  if yr > 2020:  \n",
    "    yr = 2020\n",
    "\n",
    "  dt   = datetime(yr, 1, 1)\n",
    "  ts   = dt.timestamp()\n",
    "  ts_for_plot.append(ts)\n",
    "len(ts_for_plot)"
   ]
  },
  {
   "cell_type": "markdown",
   "metadata": {},
   "source": [
    "### Records per year bar graphs"
   ]
  },
  {
   "cell_type": "code",
   "execution_count": 179,
   "metadata": {},
   "outputs": [],
   "source": [
    "# array with number of records per year\n",
    "docs_year_array = np.unique(np.array(docs_yr), return_counts=True)\n",
    "\n",
    "# dataframe with counts per year\n",
    "docs_year_df    = pd.DataFrame(docs_year_array[1], columns=[\"Count\"],\n",
    "                               index=docs_year_array[0])"
   ]
  },
  {
   "cell_type": "code",
   "execution_count": 180,
   "metadata": {},
   "outputs": [
    {
     "data": {
      "text/plain": [
       "Count    97\n",
       "Name: 1965, dtype: int64"
      ]
     },
     "execution_count": 180,
     "metadata": {},
     "output_type": "execute_result"
    }
   ],
   "source": [
    "docs_year_df.loc[1965]"
   ]
  },
  {
   "cell_type": "code",
   "execution_count": 181,
   "metadata": {},
   "outputs": [
    {
     "data": {
      "image/png": "[encoded data removed]",
      "text/plain": [
       "<Figure size 432x720 with 1 Axes>"
      ]
     },
     "metadata": {
      "needs_background": "light"
     },
     "output_type": "display_data"
    }
   ],
   "source": [
    "# without log\n",
    "plt.figure(figsize=(6,10))\n",
    "plt.barh(docs_year_array[0], docs_year_array[1])\n",
    "plt.ylabel('Year')\n",
    "plt.xlabel('Numbers of documents')\n",
    "plt.yticks(range(1920, 2021, 5))\n",
    "plt.savefig(work_dir / 'figure4_4_num_docs_per_year.pdf')"
   ]
  },
  {
   "cell_type": "code",
   "execution_count": 182,
   "metadata": {},
   "outputs": [
    {
     "data": {
      "image/png": "[encoded data removed]",
      "text/plain": [
       "<Figure size 432x720 with 1 Axes>"
      ]
     },
     "metadata": {
      "needs_background": "light"
     },
     "output_type": "display_data"
    }
   ],
   "source": [
    "# logged\n",
    "plt.figure(figsize=(6,10))\n",
    "plt.barh(docs_year_array[0], np.log10(docs_year_array[1]+1))\n",
    "plt.ylabel('Year')\n",
    "\n",
    "# +1 so the x-axis value is not zero.\n",
    "plt.xlabel('log10(Numbers of documents + 1)')\n",
    "plt.yticks(range(1920, 2021, 5))\n",
    "plt.savefig(work_dir / 'figure4_4_num_docs_per_year_logged.pdf')"
   ]
  },
  {
   "cell_type": "markdown",
   "metadata": {},
   "source": [
    "### Spot check timestamp values"
   ]
  },
  {
   "cell_type": "code",
   "execution_count": 183,
   "metadata": {},
   "outputs": [
    {
     "name": "stdout",
     "output_type": "stream",
     "text": [
      "2008-07-09 <--> 2008-01-01 00:00:00 1199163600.0\n",
      "1983-10-01 <--> 1983-01-01 00:00:00 410245200.0\n",
      "2003-11-06 <--> 2003-01-01 00:00:00 1041397200.0\n",
      "1991-03-01 <--> 1991-01-01 00:00:00 662706000.0\n",
      "2007-02-03 <--> 2007-01-01 00:00:00 1167627600.0\n",
      "2006-04-07 <--> 2006-01-01 00:00:00 1136091600.0\n",
      "2017-05-10 <--> 2017-01-01 00:00:00 1483246800.0\n",
      "2020-01-02 <--> 2020-01-01 00:00:00 1577854800.0\n",
      "2019-09-05 <--> 2019-01-01 00:00:00 1546318800.0\n",
      "2017-08-26 <--> 2017-01-01 00:00:00 1483246800.0\n",
      "2010-04-28 <--> 2010-01-01 00:00:00 1262322000.0\n",
      "1994-01-01 <--> 1994-01-01 00:00:00 757400400.0\n",
      "2003-03-20 <--> 2003-01-01 00:00:00 1041397200.0\n",
      "2015-08-02 <--> 2015-01-01 00:00:00 1420088400.0\n",
      "2013-02-05 <--> 2013-01-01 00:00:00 1357016400.0\n",
      "2019-04-19 <--> 2019-01-01 00:00:00 1546318800.0\n",
      "2016-01-07 <--> 2016-01-01 00:00:00 1451624400.0\n",
      "1983-01-01 <--> 1983-01-01 00:00:00 410245200.0\n",
      "2008-05-01 <--> 2008-01-01 00:00:00 1199163600.0\n",
      "2016-04-20 <--> 2016-01-01 00:00:00 1451624400.0\n"
     ]
    }
   ],
   "source": [
    "rand_ints = np.random.randint(df_corpus.shape[0], size=20)\n",
    "for rand_int in rand_ints:\n",
    "  date = df_corpus['Date'][rand_int]\n",
    "  ts   = ts_for_plot[rand_int]\n",
    "  print(date, \"<-->\", datetime.fromtimestamp(ts), ts)"
   ]
  },
  {
   "cell_type": "code",
   "execution_count": 184,
   "metadata": {},
   "outputs": [
    {
     "data": {
      "text/plain": [
       "(-31518000.0, 1577854800.0, datetime.datetime(1969, 1, 1, 0, 0))"
      ]
     },
     "execution_count": 184,
     "metadata": {},
     "output_type": "execute_result"
    }
   ],
   "source": [
    "min(ts_for_plot), max(ts_for_plot), datetime.fromtimestamp(min(ts_for_plot))"
   ]
  },
  {
   "cell_type": "markdown",
   "metadata": {},
   "source": [
    "### Get the binned timestamp values\n",
    "\n",
    "So the bins have similar numbers of docs.\n",
    "- For this a new timestamp list is generated"
   ]
  },
  {
   "cell_type": "code",
   "execution_count": 10,
   "metadata": {},
   "outputs": [],
   "source": [
    "# Turn all dates into timestamps \n",
    "ts_for_bins = []\n",
    "for date in dates:\n",
    "  [yr, mo, da] = date.split('-') # year, month, day\n",
    "  dt   = datetime(int(yr), int(mo), int(da))\n",
    "  ts   = dt.timestamp()\n",
    "  ts_for_bins.append(ts)"
   ]
  },
  {
   "cell_type": "code",
   "execution_count": 11,
   "metadata": {},
   "outputs": [],
   "source": [
    "ts_for_bins.sort()"
   ]
  },
  {
   "cell_type": "code",
   "execution_count": 12,
   "metadata": {},
   "outputs": [],
   "source": [
    "# bin size\n",
    "bin_size       = int(len(ts_for_bins)/50)\n",
    "\n",
    "# index values of every 2 percentile (because the data is broken into 50 parts)\n",
    "bin_idxs       = [idx for idx in range(0, len(ts_for_bins), bin_size)]\n",
    "\n",
    "# timestamp values at bin_idxs\n",
    "bin_timestamps = [ts_for_bins[idx] for idx in bin_idxs]\n",
    "\n",
    "# Modify the last value to be the max timestamp value + 1. This is otherwise\n",
    "# because of the bin_size is rounded down the last value be smaller than the max\n",
    "# timestamp values. Also, +1 to the max value, otherwise, the last entries will\n",
    "# be in its own bin.\n",
    "max_timestamp      = max(ts_for_bins) + 1\n",
    "bin_timestamps[-1] = max_timestamp\n",
    "\n",
    "# dates correspond to the different timestamp\n",
    "bin_dates      = [datetime.fromtimestamp(ts) for ts in bin_timestamps]\n",
    "\n",
    "# Put idx, timestamp, and date into a dataframe and save it.\n",
    "bin_df         = pd.DataFrame(list(zip(bin_idxs, bin_timestamps, bin_dates)),\n",
    "            columns=['bin_start_idx', 'bin_start_timestamp', 'bin_start_date'])\n",
    "bin_df.to_csv(work_dir / \"table4_4_bin_timestamp_date.tsv\", sep='\\t')"
   ]
  },
  {
   "cell_type": "code",
   "execution_count": 13,
   "metadata": {},
   "outputs": [
    {
     "data": {
      "text/plain": [
       "(   bin_start_idx  bin_start_timestamp bin_start_date\n",
       " 0              0        -1.646248e+09     1917-11-01\n",
       " 1           8433         2.507508e+08     1977-12-12\n",
       " 2          16866         4.258800e+08     1983-07-01\n",
       " 3          25299         5.468400e+08     1987-05-01\n",
       " 4          33732         6.389460e+08     1990-04-01,\n",
       "     bin_start_idx  bin_start_timestamp      bin_start_date\n",
       " 46         387918         1.574053e+09 2019-11-18 00:00:00\n",
       " 47         396351         1.583557e+09 2020-03-07 00:00:00\n",
       " 48         404784         1.592712e+09 2020-06-21 00:00:00\n",
       " 49         413217         1.601438e+09 2020-09-30 00:00:00\n",
       " 50         421650         1.609477e+09 2021-01-01 00:00:01)"
      ]
     },
     "execution_count": 13,
     "metadata": {},
     "output_type": "execute_result"
    }
   ],
   "source": [
    "bin_df.head(), bin_df.tail()"
   ]
  },
  {
   "cell_type": "markdown",
   "metadata": {},
   "source": [
    "### Generate the binned timestamps"
   ]
  },
  {
   "cell_type": "code",
   "execution_count": 14,
   "metadata": {},
   "outputs": [],
   "source": [
    "# Assign new timestamps based on the bin timestamp values\n",
    "ts_in_bins = []\n",
    "for date in dates:\n",
    "  [yr, mo, da] = date.split('-') # year, month, day\n",
    "  dt   = datetime(int(yr), int(mo), int(da))\n",
    "  ts   = dt.timestamp()\n",
    "\n",
    "  bin_idx = bisect(bin_timestamps, ts)\n",
    "\n",
    "  if bin_idx < len(bin_timestamps):\n",
    "    ts2     = bin_timestamps[bin_idx]\n",
    "  # Deal with the last bin\n",
    "  else:\n",
    "    ts2     = datetime(2022, 12, 31).timestamp()\n",
    "  ts_in_bins.append(ts2) "
   ]
  },
  {
   "cell_type": "code",
   "execution_count": 16,
   "metadata": {},
   "outputs": [
    {
     "data": {
      "text/plain": [
       "421658"
      ]
     },
     "execution_count": 16,
     "metadata": {},
     "output_type": "execute_result"
    }
   ],
   "source": [
    "len(ts_in_bins)"
   ]
  },
  {
   "cell_type": "markdown",
   "metadata": {},
   "source": [
    "## ___Topic over time___"
   ]
  },
  {
   "cell_type": "markdown",
   "metadata": {},
   "source": [
    "### Setup `topics_over_time`\n",
    "\n",
    "Bertopic [doc](https://maartengr.github.io/BERTopic/api/bertopic.html#bertopic._bertopic.BERTopic.topics_over_time)\n",
    "- docs,\tList[str]: docs used when calling either fit or fit_transform\n",
    "  - Set to `df_corpus[txt]`\n",
    "- topics, List[int]: topics that were returned when calling either fit or fit_transform\n",
    "  - See `script_4_3` using np.argmax to get topics\n",
    "- timestamps,\tUnion[List[str], List[int]]: The timestamp of each document. This can be either a list of strings or ints.\n",
    "  - Set to `timestamps` \n",
    "- nr_bins, int: The number of bins you want to create for the timestamps.\n",
    "  - From 1969 to 2000, so `52` bins\n",
    "- datetime_format, str: The datetime format of the timestamps if they are strings, eg “%d/%m/%Y”. Set this to None if you want to have it automatically detect the format. \n",
    "  - Set to `None`\n",
    "- evolution_tuning,\tbool: Fine-tune each topic representation at timestamp t by averaging its c-TF-IDF matrix with the c-TF-IDF matrix at timestamp t-1. This creates evolutionary topic representations.\n",
    "  - Set to `True`\n",
    "- global_tuning, bool: Fine-tune each topic representation at timestamp t by averaging its c-TF-IDF matrix with the global c-TF-IDF matrix. Turn this off if you want to prevent words in topic representations that could not be found in the documents at timestamp t.\n",
    "  - Set to `True`"
   ]
  },
  {
   "cell_type": "code",
   "execution_count": 17,
   "metadata": {},
   "outputs": [],
   "source": [
    "probability_threshold = np.percentile(probs, 95)\n",
    "topics = [np.argmax(prob) if max(prob) >= probability_threshold else -1 \n",
    "                                                            for prob in probs]"
   ]
  },
  {
   "cell_type": "code",
   "execution_count": 18,
   "metadata": {},
   "outputs": [
    {
     "data": {
      "text/plain": [
       "(array([2.5075080e+08, 4.2588000e+08, 5.4684000e+08, 6.3894600e+08,\n",
       "        7.1264160e+08, 7.7839200e+08, 8.3619360e+08, 8.9753760e+08,\n",
       "        9.4972680e+08, 9.8696160e+08, 1.0184112e+09, 1.0464948e+09,\n",
       "        1.0722420e+09, 1.0992852e+09, 1.1230416e+09, 1.1461968e+09,\n",
       "        1.1676276e+09, 1.1886192e+09, 1.2090096e+09, 1.2259476e+09,\n",
       "        1.2457296e+09, 1.2641364e+09, 1.2826224e+09, 1.3001616e+09,\n",
       "        1.3161456e+09, 1.3323024e+09, 1.3473360e+09, 1.3622004e+09,\n",
       "        1.3759344e+09, 1.3897620e+09, 1.4022000e+09, 1.4149008e+09,\n",
       "        1.4273424e+09, 1.4396976e+09, 1.4519700e+09, 1.4637168e+09,\n",
       "        1.4758992e+09, 1.4873940e+09, 1.4989680e+09, 1.5103764e+09,\n",
       "        1.5218640e+09, 1.5327504e+09, 1.5439860e+09, 1.5541776e+09,\n",
       "        1.5640272e+09, 1.5740532e+09, 1.5835572e+09, 1.5927120e+09,\n",
       "        1.6014384e+09, 1.6094772e+09]),\n",
       " array([8433, 8313, 8483, 8352, 8510, 8391, 8432, 8550, 8425, 8424, 8436,\n",
       "        8372, 8497, 8398, 8463, 8448, 8420, 8379, 8488, 8420, 8393, 8461,\n",
       "        8462, 8400, 8464, 8422, 8402, 8474, 8400, 8450, 8458, 8429, 8377,\n",
       "        8477, 8429, 8402, 8415, 8483, 8437, 8431, 8430, 8393, 8448, 8456,\n",
       "        8457, 8431, 8414, 8439, 8416, 8474]))"
      ]
     },
     "execution_count": 18,
     "metadata": {},
     "output_type": "execute_result"
    }
   ],
   "source": [
    "np.unique(np.array(ts_in_bins), return_counts=True)"
   ]
  },
  {
   "cell_type": "code",
   "execution_count": 19,
   "metadata": {},
   "outputs": [],
   "source": [
    "docs             = docs\n",
    "topics           = topics\n",
    "timestamps       = ts_in_bins\n",
    "nr_bins          = 50\n",
    "evolution_tuning = True\n",
    "global_tuning    = True"
   ]
  },
  {
   "cell_type": "markdown",
   "metadata": {},
   "source": [
    "## ___Manual run `topic_over_time`___\n",
    "\n",
    "The above take a long time and the output is not exactly what I am looking for.\n",
    "- The words column: would be nice to have c-Tf-Idf values for whatever words that I am interested in. But this only report top 5."
   ]
  },
  {
   "cell_type": "markdown",
   "metadata": {},
   "source": [
    "### Get global c-Tf-Idf"
   ]
  },
  {
   "cell_type": "code",
   "execution_count": 23,
   "metadata": {},
   "outputs": [
    {
     "data": {
      "text/plain": [
       "(91, 18850331)"
      ]
     },
     "execution_count": 23,
     "metadata": {},
     "output_type": "execute_result"
    }
   ],
   "source": [
    "# Get the global (i.e., based on the whole timef rame) ctfidf values\n",
    "global_c_tf_idf = normalize(topic_model.c_tf_idf, axis=1, norm='l1', copy=False)\n",
    "global_c_tf_idf.shape"
   ]
  },
  {
   "cell_type": "markdown",
   "metadata": {},
   "source": [
    "### Set up documents dataframe with timestamp bins"
   ]
  },
  {
   "cell_type": "code",
   "execution_count": 24,
   "metadata": {},
   "outputs": [],
   "source": [
    "# Construct a documents dataframe\n",
    "documents = pd.DataFrame({\"Document\": docs, \"Topic\": topics, \n",
    "                          \"Timestamps\": timestamps})"
   ]
  },
  {
   "cell_type": "code",
   "execution_count": 25,
   "metadata": {},
   "outputs": [
    {
     "data": {
      "text/plain": [
       "(91, -1, dict, 0)"
      ]
     },
     "execution_count": 25,
     "metadata": {},
     "output_type": "execute_result"
    }
   ],
   "source": [
    "# Get topic names, ordered and then get their indices, 0-based\n",
    "all_topics = sorted(list(documents.Topic.unique()))\n",
    "all_topics_indices = {topic: index for index, topic in enumerate(all_topics)}\n",
    "len(all_topics), all_topics[0], type(all_topics_indices), all_topics_indices[-1]"
   ]
  },
  {
   "cell_type": "code",
   "execution_count": 26,
   "metadata": {},
   "outputs": [
    {
     "data": {
      "text/plain": [
       "(pandas._libs.interval.Interval,\n",
       " Interval(249392073.599, 277925328.02, closed='right'))"
      ]
     },
     "execution_count": 26,
     "metadata": {},
     "output_type": "execute_result"
    }
   ],
   "source": [
    "# Bin values into discrete intervals\n",
    "# The original code does not work for me because my timestamp bins are not sized\n",
    "# equally. With the following code, 32 bins are created instead of 50.\n",
    "#documents[\"Bins\"]       = pd.cut(documents.Timestamps, bins=nr_bins)\n",
    "\n",
    "# Testing\n",
    "bins = pd.cut(documents.Timestamps, bins=nr_bins)\n",
    "type(bins[0]), bins[0]"
   ]
  },
  {
   "cell_type": "code",
   "execution_count": 27,
   "metadata": {},
   "outputs": [],
   "source": [
    "ts_bins   = [] # a list of tuples showing the bin range (+/-1 of the unique val)\n",
    "for ts in timestamps:\n",
    "  ts_bins.append(pd.Interval(left=ts-1, right=ts+1))"
   ]
  },
  {
   "cell_type": "code",
   "execution_count": 28,
   "metadata": {},
   "outputs": [],
   "source": [
    "documents[\"Bins\"] = ts_bins"
   ]
  },
  {
   "cell_type": "code",
   "execution_count": 29,
   "metadata": {},
   "outputs": [
    {
     "data": {
      "text/html": [
       "<div>\n",
       "<style scoped>\n",
       "    .dataframe tbody tr th:only-of-type {\n",
       "        vertical-align: middle;\n",
       "    }\n",
       "\n",
       "    .dataframe tbody tr th {\n",
       "        vertical-align: top;\n",
       "    }\n",
       "\n",
       "    .dataframe thead th {\n",
       "        text-align: right;\n",
       "    }\n",
       "</style>\n",
       "<table border=\"1\" class=\"dataframe\">\n",
       "  <thead>\n",
       "    <tr style=\"text-align: right;\">\n",
       "      <th></th>\n",
       "      <th>Document</th>\n",
       "      <th>Topic</th>\n",
       "      <th>Timestamps</th>\n",
       "      <th>Bins</th>\n",
       "    </tr>\n",
       "  </thead>\n",
       "  <tbody>\n",
       "    <tr>\n",
       "      <th>0</th>\n",
       "      <td>identification 120 mus phase decay delayed flu...</td>\n",
       "      <td>52</td>\n",
       "      <td>250750799.0</td>\n",
       "      <td>(250750799.0, 250750801.0]</td>\n",
       "    </tr>\n",
       "    <tr>\n",
       "      <th>1</th>\n",
       "      <td>cholinesterases plant tissues . vi . prelimina...</td>\n",
       "      <td>48</td>\n",
       "      <td>250750799.0</td>\n",
       "      <td>(250750799.0, 250750801.0]</td>\n",
       "    </tr>\n",
       "  </tbody>\n",
       "</table>\n",
       "</div>"
      ],
      "text/plain": [
       "                                            Document  Topic   Timestamps  \\\n",
       "0  identification 120 mus phase decay delayed flu...     52  250750799.0   \n",
       "1  cholinesterases plant tissues . vi . prelimina...     48  250750799.0   \n",
       "\n",
       "                         Bins  \n",
       "0  (250750799.0, 250750801.0]  \n",
       "1  (250750799.0, 250750801.0]  "
      ]
     },
     "execution_count": 29,
     "metadata": {},
     "output_type": "execute_result"
    }
   ],
   "source": [
    "documents[\"Timestamps\"] = documents.apply(lambda row: row.Bins.left, 1)\n",
    "documents.head(2)"
   ]
  },
  {
   "cell_type": "code",
   "execution_count": 30,
   "metadata": {},
   "outputs": [
    {
     "data": {
      "text/plain": [
       "(50,\n",
       " array([2.50750799e+08, 4.25879999e+08, 5.46839999e+08, 6.38945999e+08,\n",
       "        7.12641599e+08, 7.78391999e+08, 8.36193599e+08, 8.97537599e+08,\n",
       "        9.49726799e+08, 9.86961599e+08, 1.01841120e+09, 1.04649480e+09,\n",
       "        1.07224200e+09, 1.09928520e+09, 1.12304160e+09, 1.14619680e+09,\n",
       "        1.16762760e+09, 1.18861920e+09, 1.20900960e+09, 1.22594760e+09,\n",
       "        1.24572960e+09, 1.26413640e+09, 1.28262240e+09, 1.30016160e+09,\n",
       "        1.31614560e+09, 1.33230240e+09, 1.34733600e+09, 1.36220040e+09,\n",
       "        1.37593440e+09, 1.38976200e+09, 1.40220000e+09, 1.41490080e+09,\n",
       "        1.42734240e+09, 1.43969760e+09, 1.45197000e+09, 1.46371680e+09,\n",
       "        1.47589920e+09, 1.48739400e+09, 1.49896800e+09, 1.51037640e+09,\n",
       "        1.52186400e+09, 1.53275040e+09, 1.54398600e+09, 1.55417760e+09,\n",
       "        1.56402720e+09, 1.57405320e+09, 1.58355720e+09, 1.59271200e+09,\n",
       "        1.60143840e+09, 1.60947720e+09]))"
      ]
     },
     "execution_count": 30,
     "metadata": {},
     "output_type": "execute_result"
    }
   ],
   "source": [
    "# When passed already sorted, but just in case\n",
    "# Sort documents in chronological order\n",
    "documents  = documents.sort_values(\"Timestamps\")\n",
    "\n",
    "# Unique timestamps\n",
    "ts_unique = documents.Timestamps.unique()\n",
    "len(ts_unique), ts_unique"
   ]
  },
  {
   "cell_type": "markdown",
   "metadata": {},
   "source": [
    "### Run all timestamps\n",
    "\n",
    "This takes ~1.5 to 2 hours, depending on the load of my machine."
   ]
  },
  {
   "cell_type": "code",
   "execution_count": 57,
   "metadata": {},
   "outputs": [
    {
     "name": "stderr",
     "output_type": "stream",
     "text": [
      "100%|██████████| 50/50 [2:08:24<00:00, 154.10s/it]  \n"
     ]
    }
   ],
   "source": [
    "# For each unique timestamp, create topic representations\n",
    "topics_over_time = []\n",
    "for index, timestamp in enumerate(tqdm(ts_unique)):\n",
    "  # Calculate c-TF-IDF representation for a specific timestamp\n",
    "  selection = documents.loc[documents.Timestamps == timestamp, :]\n",
    "  docs_per_toc = selection.groupby(['Topic'], as_index=False).agg(\n",
    "                                {'Document': ' '.join, \"Timestamps\": \"count\"})\n",
    "  c_tf_idf, words = topic_model._c_tf_idf(docs_per_toc, fit=False)\n",
    "\n",
    "  if global_tuning or evolution_tuning:\n",
    "    c_tf_idf = normalize(c_tf_idf, axis=1, norm='l1', copy=False)\n",
    "\n",
    "  # Fine-tune the c-TF-IDF matrix at timestamp t by averaging it with the \n",
    "  # c-TF-IDF matrix at timestamp t-1\n",
    "  if evolution_tuning and index != 0:\n",
    "    curr_toc         = sorted(list(docs_per_toc.Topic.values))\n",
    "    overlap_toc      = sorted(list(set(prev_toc).intersection(set(curr_toc))))\n",
    "    curr_overlap_idx = [curr_toc.index(topic) for topic in overlap_toc]\n",
    "    prev_overlap_idx = [prev_toc.index(topic) for topic in overlap_toc]\n",
    "\n",
    "    c_tf_idf.tolil()[curr_overlap_idx] = \\\n",
    "      ((c_tf_idf[curr_overlap_idx] + prev_c_tf_idf[prev_overlap_idx]) / 2.0).tolil()\n",
    "\n",
    "  # Fine-tune the timestamp c-TF-IDF representation based on the global c-TF-IDF representation\n",
    "  # by simply taking the average of the two\n",
    "  #if global_tuning:\n",
    "  #  selected_topics = [all_topics_indices[topic] \\\n",
    "  #                                      for topic in docs_per_toc.Topic.values]\n",
    "  #  c_tf_idf = (global_c_tf_idf[selected_topics] + c_tf_idf) / 2.0\n",
    "\n",
    "  # Extract the words per topic\n",
    "  labels = sorted(list(docs_per_toc.Topic.unique()))\n",
    "  words_per_toc = topic_model._extract_words_per_topic(words, c_tf_idf, labels)\n",
    "  topic_frequency = pd.Series(docs_per_toc.Timestamps.values,\n",
    "                                index=docs_per_toc.Topic).to_dict()\n",
    "  # Fill dataframe with results\n",
    "  topics_at_timestamp = [(topic,\n",
    "                          \", \".join([words[0] for words in values][:5]),\n",
    "                          topic_frequency[topic],\n",
    "                          timestamp) for topic, values in words_per_toc.items()]\n",
    "  topics_over_time.extend(topics_at_timestamp)\n",
    "\n",
    "  if evolution_tuning:\n",
    "    prev_toc = sorted(list(docs_per_toc.Topic.values))\n",
    "    prev_c_tf_idf = c_tf_idf.copy()\n",
    "\n",
    "  # Save the word list if this is the 1st timestamp\n",
    "  if index == 0:\n",
    "    word_file = ctfidf_dir / f\"word_list_{len(words)}.pickle\"\n",
    "    with open(word_file, 'wb') as f:\n",
    "      pickle.dump(words, f)\n",
    "\n",
    "  # Save the ctfidf values\n",
    "  ctfidf_file = ctfidf_dir / f'ctfidf_{index}_no_globatune.pickle'\n",
    "  with open(ctfidf_file, \"wb\") as f:\n",
    "    pickle.dump(c_tf_idf, f)\n",
    "\n",
    "  # Save index and topic name for cross-referencing in ctfidf_file\n",
    "  toc_index_file = ctfidf_dir / f\"ctfidf_{index}_toc_index.tsv\"\n",
    "  docs_per_toc['Topic'].to_csv(toc_index_file, sep='\\t')\n"
   ]
  },
  {
   "cell_type": "code",
   "execution_count": 59,
   "metadata": {},
   "outputs": [],
   "source": [
    "topics_over_time = pd.DataFrame(topics_over_time, \n",
    "                          columns=[\"Topic\", \"Words\", \"Frequency\", \"Timestamp\"])"
   ]
  },
  {
   "cell_type": "code",
   "execution_count": 60,
   "metadata": {},
   "outputs": [
    {
     "data": {
      "text/html": [
       "<div>\n",
       "<style scoped>\n",
       "    .dataframe tbody tr th:only-of-type {\n",
       "        vertical-align: middle;\n",
       "    }\n",
       "\n",
       "    .dataframe tbody tr th {\n",
       "        vertical-align: top;\n",
       "    }\n",
       "\n",
       "    .dataframe thead th {\n",
       "        text-align: right;\n",
       "    }\n",
       "</style>\n",
       "<table border=\"1\" class=\"dataframe\">\n",
       "  <thead>\n",
       "    <tr style=\"text-align: right;\">\n",
       "      <th></th>\n",
       "      <th>Topic</th>\n",
       "      <th>Words</th>\n",
       "      <th>Frequency</th>\n",
       "      <th>Timestamp</th>\n",
       "    </tr>\n",
       "  </thead>\n",
       "  <tbody>\n",
       "    <tr>\n",
       "      <th>0</th>\n",
       "      <td>-1</td>\n",
       "      <td>cells, growth, acid, activity, tissue</td>\n",
       "      <td>981</td>\n",
       "      <td>2.507508e+08</td>\n",
       "    </tr>\n",
       "    <tr>\n",
       "      <th>1</th>\n",
       "      <td>0</td>\n",
       "      <td>timothy, timothy pollen, antigen, ragweed, all...</td>\n",
       "      <td>8</td>\n",
       "      <td>2.507508e+08</td>\n",
       "    </tr>\n",
       "    <tr>\n",
       "      <th>2</th>\n",
       "      <td>1</td>\n",
       "      <td>callus, medium, kinetin, culture, protoplasts</td>\n",
       "      <td>85</td>\n",
       "      <td>2.507508e+08</td>\n",
       "    </tr>\n",
       "    <tr>\n",
       "      <th>3</th>\n",
       "      <td>2</td>\n",
       "      <td>berberinium, viscometric titrations, flow pola...</td>\n",
       "      <td>2</td>\n",
       "      <td>2.507508e+08</td>\n",
       "    </tr>\n",
       "    <tr>\n",
       "      <th>4</th>\n",
       "      <td>3</td>\n",
       "      <td>amiben, atrazine, gsatrazine, atrazine metabol...</td>\n",
       "      <td>4</td>\n",
       "      <td>2.507508e+08</td>\n",
       "    </tr>\n",
       "    <tr>\n",
       "      <th>...</th>\n",
       "      <td>...</td>\n",
       "      <td>...</td>\n",
       "      <td>...</td>\n",
       "      <td>...</td>\n",
       "    </tr>\n",
       "    <tr>\n",
       "      <th>4457</th>\n",
       "      <td>85</td>\n",
       "      <td>soil, yield, nitrogen, ha1, stress</td>\n",
       "      <td>221</td>\n",
       "      <td>1.609477e+09</td>\n",
       "    </tr>\n",
       "    <tr>\n",
       "      <th>4458</th>\n",
       "      <td>86</td>\n",
       "      <td>dispersal, genetic, populations, evolution, sp...</td>\n",
       "      <td>66</td>\n",
       "      <td>1.609477e+09</td>\n",
       "    </tr>\n",
       "    <tr>\n",
       "      <th>4459</th>\n",
       "      <td>87</td>\n",
       "      <td>flowers, floral, pollinator, bees, pollination</td>\n",
       "      <td>72</td>\n",
       "      <td>1.609477e+09</td>\n",
       "    </tr>\n",
       "    <tr>\n",
       "      <th>4460</th>\n",
       "      <td>88</td>\n",
       "      <td>genetic, populations, diversity, genetic diver...</td>\n",
       "      <td>71</td>\n",
       "      <td>1.609477e+09</td>\n",
       "    </tr>\n",
       "    <tr>\n",
       "      <th>4461</th>\n",
       "      <td>89</td>\n",
       "      <td>species, phylogenetic, phylogeny, genus, clade</td>\n",
       "      <td>39</td>\n",
       "      <td>1.609477e+09</td>\n",
       "    </tr>\n",
       "  </tbody>\n",
       "</table>\n",
       "<p>4462 rows × 4 columns</p>\n",
       "</div>"
      ],
      "text/plain": [
       "      Topic                                              Words  Frequency  \\\n",
       "0        -1              cells, growth, acid, activity, tissue        981   \n",
       "1         0  timothy, timothy pollen, antigen, ragweed, all...          8   \n",
       "2         1      callus, medium, kinetin, culture, protoplasts         85   \n",
       "3         2  berberinium, viscometric titrations, flow pola...          2   \n",
       "4         3  amiben, atrazine, gsatrazine, atrazine metabol...          4   \n",
       "...     ...                                                ...        ...   \n",
       "4457     85                 soil, yield, nitrogen, ha1, stress        221   \n",
       "4458     86  dispersal, genetic, populations, evolution, sp...         66   \n",
       "4459     87     flowers, floral, pollinator, bees, pollination         72   \n",
       "4460     88  genetic, populations, diversity, genetic diver...         71   \n",
       "4461     89     species, phylogenetic, phylogeny, genus, clade         39   \n",
       "\n",
       "         Timestamp  \n",
       "0     2.507508e+08  \n",
       "1     2.507508e+08  \n",
       "2     2.507508e+08  \n",
       "3     2.507508e+08  \n",
       "4     2.507508e+08  \n",
       "...            ...  \n",
       "4457  1.609477e+09  \n",
       "4458  1.609477e+09  \n",
       "4459  1.609477e+09  \n",
       "4460  1.609477e+09  \n",
       "4461  1.609477e+09  \n",
       "\n",
       "[4462 rows x 4 columns]"
      ]
     },
     "execution_count": 60,
     "metadata": {},
     "output_type": "execute_result"
    }
   ],
   "source": [
    "tot_df_file = work_dir / \"table4_4_topics_over_time_df_no_global_tune.tsv\"\n",
    "topics_over_time.to_csv(tot_df_file, sep='\\t')\n",
    "topics_over_time"
   ]
  },
  {
   "cell_type": "markdown",
   "metadata": {},
   "source": [
    "## ___Topic over time plots___"
   ]
  },
  {
   "cell_type": "markdown",
   "metadata": {},
   "source": [
    "### Default function"
   ]
  },
  {
   "cell_type": "code",
   "execution_count": 40,
   "metadata": {},
   "outputs": [
    {
     "data": {
      "application/vnd.plotly.v1+json": {
       "config": {
        "plotlyServerURL": "https://plot.ly"
       },
       "data": [
        {
         "hoverinfo": "text",
         "hovertext": [
          "<b>Topic 0</b><br>Words: allergen, timothy, pollen, timothy pollen, antigen",
          "<b>Topic 0</b><br>Words: pollen, allergen, allergens, ige, rast",
          "<b>Topic 0</b><br>Words: pollen, allergen, allergens, ige, patients",
          "<b>Topic 0</b><br>Words: pollen, allergens, allergen, ige, lol",
          "<b>Topic 0</b><br>Words: allergens, pollen, allergen, ige, rast",
          "<b>Topic 0</b><br>Words: allergen, pollen, allergens, ige, patients",
          "<b>Topic 0</b><br>Words: allergen, allergens, pollen, ige, patients",
          "<b>Topic 0</b><br>Words: allergen, pollen, allergens, ige, patients",
          "<b>Topic 0</b><br>Words: allergen, pollen, ige, allergens, bet",
          "<b>Topic 0</b><br>Words: allergens, allergen, pollen, ige, patients",
          "<b>Topic 0</b><br>Words: allergens, allergen, pollen, ige, patients",
          "<b>Topic 0</b><br>Words: allergens, pollen, patients, allergen, ige",
          "<b>Topic 0</b><br>Words: allergen, ige, pollen, allergens, patients",
          "<b>Topic 0</b><br>Words: ige, allergen, pollen, patients, allergens",
          "<b>Topic 0</b><br>Words: allergen, allergens, ige, pollen, patients",
          "<b>Topic 0</b><br>Words: allergen, ige, allergens, pollen, patients",
          "<b>Topic 0</b><br>Words: allergen, allergens, pollen, ige, patients",
          "<b>Topic 0</b><br>Words: allergens, allergen, ige, patients, pollen",
          "<b>Topic 0</b><br>Words: allergen, pollen, allergens, ige, bet",
          "<b>Topic 0</b><br>Words: allergens, pollen, allergen, ige, patients",
          "<b>Topic 0</b><br>Words: allergen, allergens, pollen, ige, patients",
          "<b>Topic 0</b><br>Words: allergens, pollen, allergen, ige, patients",
          "<b>Topic 0</b><br>Words: allergen, ige, pollen, allergens, patients",
          "<b>Topic 0</b><br>Words: allergen, ige, pollen, allergens, patients",
          "<b>Topic 0</b><br>Words: pollen, allergens, allergen, patients, ige",
          "<b>Topic 0</b><br>Words: ige, allergens, pollen, allergen, patients",
          "<b>Topic 0</b><br>Words: allergen, pollen, ige, allergens, patients",
          "<b>Topic 0</b><br>Words: allergen, allergens, allergy, pollen, pru",
          "<b>Topic 0</b><br>Words: allergens, allergen, pollen, ige, allergic",
          "<b>Topic 0</b><br>Words: allergens, pollen, allergen, ige, bet",
          "<b>Topic 0</b><br>Words: allergen, allergic, patients, allergens, pollen",
          "<b>Topic 0</b><br>Words: pollen, allergens, allergen, ige, patients",
          "<b>Topic 0</b><br>Words: allergens, allergen, ige, pollen, patients",
          "<b>Topic 0</b><br>Words: allergens, pollen, allergen, patients, ige",
          "<b>Topic 0</b><br>Words: allergen, pollen, allergens, patients, ige",
          "<b>Topic 0</b><br>Words: allergen, pollen, allergens, allergenic, ige",
          "<b>Topic 0</b><br>Words: pollen, ige, allergen, allergens, allergenic",
          "<b>Topic 0</b><br>Words: allergens, allergen, ige, pollen, patients",
          "<b>Topic 0</b><br>Words: allergens, pollen, allergen, patients, allergenic",
          "<b>Topic 0</b><br>Words: pollen, allergen, bet, patients, allergy",
          "<b>Topic 0</b><br>Words: fra, allergen, fag, allergenic, ige",
          "<b>Topic 0</b><br>Words: allergen, pollen, allergens, ige, patients",
          "<b>Topic 0</b><br>Words: ige, allergens, allergen, crossreactivity, jug",
          "<b>Topic 0</b><br>Words: pollen, allergen, allergens, birch, ige",
          "<b>Topic 0</b><br>Words: allergen, pollen, allergens, bet, patients",
          "<b>Topic 0</b><br>Words: pru, cypmaclein, ige, allergen, pollen",
          "<b>Topic 0</b><br>Words: allergens, pollen, allergen, rsola, sola",
          "<b>Topic 0</b><br>Words: allergen, pollen, ige, allergens, patients",
          "<b>Topic 0</b><br>Words: allergens, allergen, patients, allergic, ige",
          "<b>Topic 0</b><br>Words: allergen, pollen, allergens, hel, allergenic"
         ],
         "marker": {
          "color": "#E69F00"
         },
         "mode": "lines",
         "name": "0_allergen_allergens_pollen_ige",
         "type": "scatter",
         "x": [
          250750799,
          425879999,
          546839999,
          638945999,
          712641599,
          778391999,
          836193599,
          897537599,
          949726799,
          986961599,
          1018411199,
          1046494799,
          1072241999,
          1099285199,
          1123041599,
          1146196799,
          1167627599,
          1188619199,
          1209009599,
          1225947599,
          1245729599,
          1264136399,
          1282622399,
          1300161599,
          1316145599,
          1332302399,
          1347335999,
          1362200399,
          1375934399,
          1389761999,
          1402199999,
          1414900799,
          1427342399,
          1439697599,
          1451969999,
          1463716799,
          1475899199,
          1487393999,
          1498967999,
          1510376399,
          1521863999,
          1532750399,
          1543985999,
          1554177599,
          1564027199,
          1574053199,
          1583557199,
          1592711999,
          1601438399,
          1609477200
         ],
         "y": [
          0.04981065135654898,
          0.1930162740066273,
          0.1930162740066273,
          0.2179215996849018,
          0.17433727974792143,
          0.29263757671972523,
          0.2739585824610194,
          0.4171642051110977,
          0.3611272223349801,
          0.18678994258705867,
          0.1369792912305097,
          0.20546893684576453,
          0.1369792912305097,
          0.13075295981094107,
          0.1681109483283528,
          0.11830029697180383,
          0.15565828548921556,
          0.07471597703482347,
          0.15565828548921556,
          0.09962130271309796,
          0.11830029697180383,
          0.08716863987396072,
          0.1369792912305097,
          0.07471597703482347,
          0.0560369827761176,
          0.07471597703482347,
          0.06848964561525485,
          0.03735798851741173,
          0.10584763413266658,
          0.13075295981094107,
          0.04358431993698036,
          0.09962130271309796,
          0.07471597703482347,
          0.08716863987396072,
          0.062263314195686224,
          0.06848964561525485,
          0.04358431993698036,
          0.04981065135654898,
          0.04981065135654898,
          0.03735798851741173,
          0.02490532567827449,
          0.04358431993698036,
          0.03735798851741173,
          0.031131657097843112,
          0.03735798851741173,
          0.018678994258705867,
          0.02490532567827449,
          0.04358431993698036,
          0.02490532567827449,
          0.03735798851741173
         ]
        }
       ],
       "layout": {
        "height": 450,
        "hoverlabel": {
         "bgcolor": "white",
         "font": {
          "family": "Rockwell",
          "size": 16
         }
        },
        "legend": {
         "title": {
          "text": "<b>Global Topic Representation"
         }
        },
        "template": {
         "data": {
          "bar": [
           {
            "error_x": {
             "color": "rgb(36,36,36)"
            },
            "error_y": {
             "color": "rgb(36,36,36)"
            },
            "marker": {
             "line": {
              "color": "white",
              "width": 0.5
             },
             "pattern": {
              "fillmode": "overlay",
              "size": 10,
              "solidity": 0.2
             }
            },
            "type": "bar"
           }
          ],
          "barpolar": [
           {
            "marker": {
             "line": {
              "color": "white",
              "width": 0.5
             },
             "pattern": {
              "fillmode": "overlay",
              "size": 10,
              "solidity": 0.2
             }
            },
            "type": "barpolar"
           }
          ],
          "carpet": [
           {
            "aaxis": {
             "endlinecolor": "rgb(36,36,36)",
             "gridcolor": "white",
             "linecolor": "white",
             "minorgridcolor": "white",
             "startlinecolor": "rgb(36,36,36)"
            },
            "baxis": {
             "endlinecolor": "rgb(36,36,36)",
             "gridcolor": "white",
             "linecolor": "white",
             "minorgridcolor": "white",
             "startlinecolor": "rgb(36,36,36)"
            },
            "type": "carpet"
           }
          ],
          "choropleth": [
           {
            "colorbar": {
             "outlinewidth": 1,
             "tickcolor": "rgb(36,36,36)",
             "ticks": "outside"
            },
            "type": "choropleth"
           }
          ],
          "contour": [
           {
            "colorbar": {
             "outlinewidth": 1,
             "tickcolor": "rgb(36,36,36)",
             "ticks": "outside"
            },
            "colorscale": [
             [
              0,
              "#440154"
             ],
             [
              0.1111111111111111,
              "#482878"
             ],
             [
              0.2222222222222222,
              "#3e4989"
             ],
             [
              0.3333333333333333,
              "#31688e"
             ],
             [
              0.4444444444444444,
              "#26828e"
             ],
             [
              0.5555555555555556,
              "#1f9e89"
             ],
             [
              0.6666666666666666,
              "#35b779"
             ],
             [
              0.7777777777777778,
              "#6ece58"
             ],
             [
              0.8888888888888888,
              "#b5de2b"
             ],
             [
              1,
              "#fde725"
             ]
            ],
            "type": "contour"
           }
          ],
          "contourcarpet": [
           {
            "colorbar": {
             "outlinewidth": 1,
             "tickcolor": "rgb(36,36,36)",
             "ticks": "outside"
            },
            "type": "contourcarpet"
           }
          ],
          "heatmap": [
           {
            "colorbar": {
             "outlinewidth": 1,
             "tickcolor": "rgb(36,36,36)",
             "ticks": "outside"
            },
            "colorscale": [
             [
              0,
              "#440154"
             ],
             [
              0.1111111111111111,
              "#482878"
             ],
             [
              0.2222222222222222,
              "#3e4989"
             ],
             [
              0.3333333333333333,
              "#31688e"
             ],
             [
              0.4444444444444444,
              "#26828e"
             ],
             [
              0.5555555555555556,
              "#1f9e89"
             ],
             [
              0.6666666666666666,
              "#35b779"
             ],
             [
              0.7777777777777778,
              "#6ece58"
             ],
             [
              0.8888888888888888,
              "#b5de2b"
             ],
             [
              1,
              "#fde725"
             ]
            ],
            "type": "heatmap"
           }
          ],
          "heatmapgl": [
           {
            "colorbar": {
             "outlinewidth": 1,
             "tickcolor": "rgb(36,36,36)",
             "ticks": "outside"
            },
            "colorscale": [
             [
              0,
              "#440154"
             ],
             [
              0.1111111111111111,
              "#482878"
             ],
             [
              0.2222222222222222,
              "#3e4989"
             ],
             [
              0.3333333333333333,
              "#31688e"
             ],
             [
              0.4444444444444444,
              "#26828e"
             ],
             [
              0.5555555555555556,
              "#1f9e89"
             ],
             [
              0.6666666666666666,
              "#35b779"
             ],
             [
              0.7777777777777778,
              "#6ece58"
             ],
             [
              0.8888888888888888,
              "#b5de2b"
             ],
             [
              1,
              "#fde725"
             ]
            ],
            "type": "heatmapgl"
           }
          ],
          "histogram": [
           {
            "marker": {
             "line": {
              "color": "white",
              "width": 0.6
             }
            },
            "type": "histogram"
           }
          ],
          "histogram2d": [
           {
            "colorbar": {
             "outlinewidth": 1,
             "tickcolor": "rgb(36,36,36)",
             "ticks": "outside"
            },
            "colorscale": [
             [
              0,
              "#440154"
             ],
             [
              0.1111111111111111,
              "#482878"
             ],
             [
              0.2222222222222222,
              "#3e4989"
             ],
             [
              0.3333333333333333,
              "#31688e"
             ],
             [
              0.4444444444444444,
              "#26828e"
             ],
             [
              0.5555555555555556,
              "#1f9e89"
             ],
             [
              0.6666666666666666,
              "#35b779"
             ],
             [
              0.7777777777777778,
              "#6ece58"
             ],
             [
              0.8888888888888888,
              "#b5de2b"
             ],
             [
              1,
              "#fde725"
             ]
            ],
            "type": "histogram2d"
           }
          ],
          "histogram2dcontour": [
           {
            "colorbar": {
             "outlinewidth": 1,
             "tickcolor": "rgb(36,36,36)",
             "ticks": "outside"
            },
            "colorscale": [
             [
              0,
              "#440154"
             ],
             [
              0.1111111111111111,
              "#482878"
             ],
             [
              0.2222222222222222,
              "#3e4989"
             ],
             [
              0.3333333333333333,
              "#31688e"
             ],
             [
              0.4444444444444444,
              "#26828e"
             ],
             [
              0.5555555555555556,
              "#1f9e89"
             ],
             [
              0.6666666666666666,
              "#35b779"
             ],
             [
              0.7777777777777778,
              "#6ece58"
             ],
             [
              0.8888888888888888,
              "#b5de2b"
             ],
             [
              1,
              "#fde725"
             ]
            ],
            "type": "histogram2dcontour"
           }
          ],
          "mesh3d": [
           {
            "colorbar": {
             "outlinewidth": 1,
             "tickcolor": "rgb(36,36,36)",
             "ticks": "outside"
            },
            "type": "mesh3d"
           }
          ],
          "parcoords": [
           {
            "line": {
             "colorbar": {
              "outlinewidth": 1,
              "tickcolor": "rgb(36,36,36)",
              "ticks": "outside"
             }
            },
            "type": "parcoords"
           }
          ],
          "pie": [
           {
            "automargin": true,
            "type": "pie"
           }
          ],
          "scatter": [
           {
            "fillpattern": {
             "fillmode": "overlay",
             "size": 10,
             "solidity": 0.2
            },
            "type": "scatter"
           }
          ],
          "scatter3d": [
           {
            "line": {
             "colorbar": {
              "outlinewidth": 1,
              "tickcolor": "rgb(36,36,36)",
              "ticks": "outside"
             }
            },
            "marker": {
             "colorbar": {
              "outlinewidth": 1,
              "tickcolor": "rgb(36,36,36)",
              "ticks": "outside"
             }
            },
            "type": "scatter3d"
           }
          ],
          "scattercarpet": [
           {
            "marker": {
             "colorbar": {
              "outlinewidth": 1,
              "tickcolor": "rgb(36,36,36)",
              "ticks": "outside"
             }
            },
            "type": "scattercarpet"
           }
          ],
          "scattergeo": [
           {
            "marker": {
             "colorbar": {
              "outlinewidth": 1,
              "tickcolor": "rgb(36,36,36)",
              "ticks": "outside"
             }
            },
            "type": "scattergeo"
           }
          ],
          "scattergl": [
           {
            "marker": {
             "colorbar": {
              "outlinewidth": 1,
              "tickcolor": "rgb(36,36,36)",
              "ticks": "outside"
             }
            },
            "type": "scattergl"
           }
          ],
          "scattermapbox": [
           {
            "marker": {
             "colorbar": {
              "outlinewidth": 1,
              "tickcolor": "rgb(36,36,36)",
              "ticks": "outside"
             }
            },
            "type": "scattermapbox"
           }
          ],
          "scatterpolar": [
           {
            "marker": {
             "colorbar": {
              "outlinewidth": 1,
              "tickcolor": "rgb(36,36,36)",
              "ticks": "outside"
             }
            },
            "type": "scatterpolar"
           }
          ],
          "scatterpolargl": [
           {
            "marker": {
             "colorbar": {
              "outlinewidth": 1,
              "tickcolor": "rgb(36,36,36)",
              "ticks": "outside"
             }
            },
            "type": "scatterpolargl"
           }
          ],
          "scatterternary": [
           {
            "marker": {
             "colorbar": {
              "outlinewidth": 1,
              "tickcolor": "rgb(36,36,36)",
              "ticks": "outside"
             }
            },
            "type": "scatterternary"
           }
          ],
          "surface": [
           {
            "colorbar": {
             "outlinewidth": 1,
             "tickcolor": "rgb(36,36,36)",
             "ticks": "outside"
            },
            "colorscale": [
             [
              0,
              "#440154"
             ],
             [
              0.1111111111111111,
              "#482878"
             ],
             [
              0.2222222222222222,
              "#3e4989"
             ],
             [
              0.3333333333333333,
              "#31688e"
             ],
             [
              0.4444444444444444,
              "#26828e"
             ],
             [
              0.5555555555555556,
              "#1f9e89"
             ],
             [
              0.6666666666666666,
              "#35b779"
             ],
             [
              0.7777777777777778,
              "#6ece58"
             ],
             [
              0.8888888888888888,
              "#b5de2b"
             ],
             [
              1,
              "#fde725"
             ]
            ],
            "type": "surface"
           }
          ],
          "table": [
           {
            "cells": {
             "fill": {
              "color": "rgb(237,237,237)"
             },
             "line": {
              "color": "white"
             }
            },
            "header": {
             "fill": {
              "color": "rgb(217,217,217)"
             },
             "line": {
              "color": "white"
             }
            },
            "type": "table"
           }
          ]
         },
         "layout": {
          "annotationdefaults": {
           "arrowhead": 0,
           "arrowwidth": 1
          },
          "autotypenumbers": "strict",
          "coloraxis": {
           "colorbar": {
            "outlinewidth": 1,
            "tickcolor": "rgb(36,36,36)",
            "ticks": "outside"
           }
          },
          "colorscale": {
           "diverging": [
            [
             0,
             "rgb(103,0,31)"
            ],
            [
             0.1,
             "rgb(178,24,43)"
            ],
            [
             0.2,
             "rgb(214,96,77)"
            ],
            [
             0.3,
             "rgb(244,165,130)"
            ],
            [
             0.4,
             "rgb(253,219,199)"
            ],
            [
             0.5,
             "rgb(247,247,247)"
            ],
            [
             0.6,
             "rgb(209,229,240)"
            ],
            [
             0.7,
             "rgb(146,197,222)"
            ],
            [
             0.8,
             "rgb(67,147,195)"
            ],
            [
             0.9,
             "rgb(33,102,172)"
            ],
            [
             1,
             "rgb(5,48,97)"
            ]
           ],
           "sequential": [
            [
             0,
             "#440154"
            ],
            [
             0.1111111111111111,
             "#482878"
            ],
            [
             0.2222222222222222,
             "#3e4989"
            ],
            [
             0.3333333333333333,
             "#31688e"
            ],
            [
             0.4444444444444444,
             "#26828e"
            ],
            [
             0.5555555555555556,
             "#1f9e89"
            ],
            [
             0.6666666666666666,
             "#35b779"
            ],
            [
             0.7777777777777778,
             "#6ece58"
            ],
            [
             0.8888888888888888,
             "#b5de2b"
            ],
            [
             1,
             "#fde725"
            ]
           ],
           "sequentialminus": [
            [
             0,
             "#440154"
            ],
            [
             0.1111111111111111,
             "#482878"
            ],
            [
             0.2222222222222222,
             "#3e4989"
            ],
            [
             0.3333333333333333,
             "#31688e"
            ],
            [
             0.4444444444444444,
             "#26828e"
            ],
            [
             0.5555555555555556,
             "#1f9e89"
            ],
            [
             0.6666666666666666,
             "#35b779"
            ],
            [
             0.7777777777777778,
             "#6ece58"
            ],
            [
             0.8888888888888888,
             "#b5de2b"
            ],
            [
             1,
             "#fde725"
            ]
           ]
          },
          "colorway": [
           "#1F77B4",
           "#FF7F0E",
           "#2CA02C",
           "#D62728",
           "#9467BD",
           "#8C564B",
           "#E377C2",
           "#7F7F7F",
           "#BCBD22",
           "#17BECF"
          ],
          "font": {
           "color": "rgb(36,36,36)"
          },
          "geo": {
           "bgcolor": "white",
           "lakecolor": "white",
           "landcolor": "white",
           "showlakes": true,
           "showland": true,
           "subunitcolor": "white"
          },
          "hoverlabel": {
           "align": "left"
          },
          "hovermode": "closest",
          "mapbox": {
           "style": "light"
          },
          "paper_bgcolor": "white",
          "plot_bgcolor": "white",
          "polar": {
           "angularaxis": {
            "gridcolor": "rgb(232,232,232)",
            "linecolor": "rgb(36,36,36)",
            "showgrid": false,
            "showline": true,
            "ticks": "outside"
           },
           "bgcolor": "white",
           "radialaxis": {
            "gridcolor": "rgb(232,232,232)",
            "linecolor": "rgb(36,36,36)",
            "showgrid": false,
            "showline": true,
            "ticks": "outside"
           }
          },
          "scene": {
           "xaxis": {
            "backgroundcolor": "white",
            "gridcolor": "rgb(232,232,232)",
            "gridwidth": 2,
            "linecolor": "rgb(36,36,36)",
            "showbackground": true,
            "showgrid": false,
            "showline": true,
            "ticks": "outside",
            "zeroline": false,
            "zerolinecolor": "rgb(36,36,36)"
           },
           "yaxis": {
            "backgroundcolor": "white",
            "gridcolor": "rgb(232,232,232)",
            "gridwidth": 2,
            "linecolor": "rgb(36,36,36)",
            "showbackground": true,
            "showgrid": false,
            "showline": true,
            "ticks": "outside",
            "zeroline": false,
            "zerolinecolor": "rgb(36,36,36)"
           },
           "zaxis": {
            "backgroundcolor": "white",
            "gridcolor": "rgb(232,232,232)",
            "gridwidth": 2,
            "linecolor": "rgb(36,36,36)",
            "showbackground": true,
            "showgrid": false,
            "showline": true,
            "ticks": "outside",
            "zeroline": false,
            "zerolinecolor": "rgb(36,36,36)"
           }
          },
          "shapedefaults": {
           "fillcolor": "black",
           "line": {
            "width": 0
           },
           "opacity": 0.3
          },
          "ternary": {
           "aaxis": {
            "gridcolor": "rgb(232,232,232)",
            "linecolor": "rgb(36,36,36)",
            "showgrid": false,
            "showline": true,
            "ticks": "outside"
           },
           "baxis": {
            "gridcolor": "rgb(232,232,232)",
            "linecolor": "rgb(36,36,36)",
            "showgrid": false,
            "showline": true,
            "ticks": "outside"
           },
           "bgcolor": "white",
           "caxis": {
            "gridcolor": "rgb(232,232,232)",
            "linecolor": "rgb(36,36,36)",
            "showgrid": false,
            "showline": true,
            "ticks": "outside"
           }
          },
          "title": {
           "x": 0.05
          },
          "xaxis": {
           "automargin": true,
           "gridcolor": "rgb(232,232,232)",
           "linecolor": "rgb(36,36,36)",
           "showgrid": false,
           "showline": true,
           "ticks": "outside",
           "title": {
            "standoff": 15
           },
           "zeroline": false,
           "zerolinecolor": "rgb(36,36,36)"
          },
          "yaxis": {
           "automargin": true,
           "gridcolor": "rgb(232,232,232)",
           "linecolor": "rgb(36,36,36)",
           "showgrid": false,
           "showline": true,
           "ticks": "outside",
           "title": {
            "standoff": 15
           },
           "zeroline": false,
           "zerolinecolor": "rgb(36,36,36)"
          }
         }
        },
        "title": {
         "font": {
          "color": "Black",
          "size": 22
         },
         "text": "<b>Topics over Time",
         "x": 0.4,
         "xanchor": "center",
         "y": 0.95,
         "yanchor": "top"
        },
        "width": 1250,
        "xaxis": {
         "showgrid": true
        },
        "yaxis": {
         "showgrid": true,
         "title": {
          "text": "Normalized Frequency"
         }
        }
       }
      },
      "text/html": [
       "<div>                            <div id=\"8ce32691-e974-40b0-8cdd-9b24ea533456\" class=\"plotly-graph-div\" style=\"height:450px; width:1250px;\"></div>            <script type=\"text/javascript\">                require([\"plotly\"], function(Plotly) {                    window.PLOTLYENV=window.PLOTLYENV || {};                                    if (document.getElementById(\"8ce32691-e974-40b0-8cdd-9b24ea533456\")) {                    Plotly.newPlot(                        \"8ce32691-e974-40b0-8cdd-9b24ea533456\",                        [{\"hoverinfo\":\"text\",\"hovertext\":[\"<b>Topic 0</b><br>Words: allergen, timothy, pollen, timothy pollen, antigen\",\"<b>Topic 0</b><br>Words: pollen, allergen, allergens, ige, rast\",\"<b>Topic 0</b><br>Words: pollen, allergen, allergens, ige, patients\",\"<b>Topic 0</b><br>Words: pollen, allergens, allergen, ige, lol\",\"<b>Topic 0</b><br>Words: allergens, pollen, allergen, ige, rast\",\"<b>Topic 0</b><br>Words: allergen, pollen, allergens, ige, patients\",\"<b>Topic 0</b><br>Words: allergen, allergens, pollen, ige, patients\",\"<b>Topic 0</b><br>Words: allergen, pollen, allergens, ige, patients\",\"<b>Topic 0</b><br>Words: allergen, pollen, ige, allergens, bet\",\"<b>Topic 0</b><br>Words: allergens, allergen, pollen, ige, patients\",\"<b>Topic 0</b><br>Words: allergens, allergen, pollen, ige, patients\",\"<b>Topic 0</b><br>Words: allergens, pollen, patients, allergen, ige\",\"<b>Topic 0</b><br>Words: allergen, ige, pollen, allergens, patients\",\"<b>Topic 0</b><br>Words: ige, allergen, pollen, patients, allergens\",\"<b>Topic 0</b><br>Words: allergen, allergens, ige, pollen, patients\",\"<b>Topic 0</b><br>Words: allergen, ige, allergens, pollen, patients\",\"<b>Topic 0</b><br>Words: allergen, allergens, pollen, ige, patients\",\"<b>Topic 0</b><br>Words: allergens, allergen, ige, patients, pollen\",\"<b>Topic 0</b><br>Words: allergen, pollen, allergens, ige, bet\",\"<b>Topic 0</b><br>Words: allergens, pollen, allergen, ige, patients\",\"<b>Topic 0</b><br>Words: allergen, allergens, pollen, ige, patients\",\"<b>Topic 0</b><br>Words: allergens, pollen, allergen, ige, patients\",\"<b>Topic 0</b><br>Words: allergen, ige, pollen, allergens, patients\",\"<b>Topic 0</b><br>Words: allergen, ige, pollen, allergens, patients\",\"<b>Topic 0</b><br>Words: pollen, allergens, allergen, patients, ige\",\"<b>Topic 0</b><br>Words: ige, allergens, pollen, allergen, patients\",\"<b>Topic 0</b><br>Words: allergen, pollen, ige, allergens, patients\",\"<b>Topic 0</b><br>Words: allergen, allergens, allergy, pollen, pru\",\"<b>Topic 0</b><br>Words: allergens, allergen, pollen, ige, allergic\",\"<b>Topic 0</b><br>Words: allergens, pollen, allergen, ige, bet\",\"<b>Topic 0</b><br>Words: allergen, allergic, patients, allergens, pollen\",\"<b>Topic 0</b><br>Words: pollen, allergens, allergen, ige, patients\",\"<b>Topic 0</b><br>Words: allergens, allergen, ige, pollen, patients\",\"<b>Topic 0</b><br>Words: allergens, pollen, allergen, patients, ige\",\"<b>Topic 0</b><br>Words: allergen, pollen, allergens, patients, ige\",\"<b>Topic 0</b><br>Words: allergen, pollen, allergens, allergenic, ige\",\"<b>Topic 0</b><br>Words: pollen, ige, allergen, allergens, allergenic\",\"<b>Topic 0</b><br>Words: allergens, allergen, ige, pollen, patients\",\"<b>Topic 0</b><br>Words: allergens, pollen, allergen, patients, allergenic\",\"<b>Topic 0</b><br>Words: pollen, allergen, bet, patients, allergy\",\"<b>Topic 0</b><br>Words: fra, allergen, fag, allergenic, ige\",\"<b>Topic 0</b><br>Words: allergen, pollen, allergens, ige, patients\",\"<b>Topic 0</b><br>Words: ige, allergens, allergen, crossreactivity, jug\",\"<b>Topic 0</b><br>Words: pollen, allergen, allergens, birch, ige\",\"<b>Topic 0</b><br>Words: allergen, pollen, allergens, bet, patients\",\"<b>Topic 0</b><br>Words: pru, cypmaclein, ige, allergen, pollen\",\"<b>Topic 0</b><br>Words: allergens, pollen, allergen, rsola, sola\",\"<b>Topic 0</b><br>Words: allergen, pollen, ige, allergens, patients\",\"<b>Topic 0</b><br>Words: allergens, allergen, patients, allergic, ige\",\"<b>Topic 0</b><br>Words: allergen, pollen, allergens, hel, allergenic\"],\"marker\":{\"color\":\"#E69F00\"},\"mode\":\"lines\",\"name\":\"0_allergen_allergens_pollen_ige\",\"x\":[250750799.0,425879999.0,546839999.0,638945999.0,712641599.0,778391999.0,836193599.0,897537599.0,949726799.0,986961599.0,1018411199.0,1046494799.0,1072241999.0,1099285199.0,1123041599.0,1146196799.0,1167627599.0,1188619199.0,1209009599.0,1225947599.0,1245729599.0,1264136399.0,1282622399.0,1300161599.0,1316145599.0,1332302399.0,1347335999.0,1362200399.0,1375934399.0,1389761999.0,1402199999.0,1414900799.0,1427342399.0,1439697599.0,1451969999.0,1463716799.0,1475899199.0,1487393999.0,1498967999.0,1510376399.0,1521863999.0,1532750399.0,1543985999.0,1554177599.0,1564027199.0,1574053199.0,1583557199.0,1592711999.0,1601438399.0,1609477200.0],\"y\":[0.04981065135654898,0.1930162740066273,0.1930162740066273,0.2179215996849018,0.17433727974792143,0.29263757671972523,0.2739585824610194,0.4171642051110977,0.3611272223349801,0.18678994258705867,0.1369792912305097,0.20546893684576453,0.1369792912305097,0.13075295981094107,0.1681109483283528,0.11830029697180383,0.15565828548921556,0.07471597703482347,0.15565828548921556,0.09962130271309796,0.11830029697180383,0.08716863987396072,0.1369792912305097,0.07471597703482347,0.0560369827761176,0.07471597703482347,0.06848964561525485,0.03735798851741173,0.10584763413266658,0.13075295981094107,0.04358431993698036,0.09962130271309796,0.07471597703482347,0.08716863987396072,0.062263314195686224,0.06848964561525485,0.04358431993698036,0.04981065135654898,0.04981065135654898,0.03735798851741173,0.02490532567827449,0.04358431993698036,0.03735798851741173,0.031131657097843112,0.03735798851741173,0.018678994258705867,0.02490532567827449,0.04358431993698036,0.02490532567827449,0.03735798851741173],\"type\":\"scatter\"}],                        {\"template\":{\"data\":{\"barpolar\":[{\"marker\":{\"line\":{\"color\":\"white\",\"width\":0.5},\"pattern\":{\"fillmode\":\"overlay\",\"size\":10,\"solidity\":0.2}},\"type\":\"barpolar\"}],\"bar\":[{\"error_x\":{\"color\":\"rgb(36,36,36)\"},\"error_y\":{\"color\":\"rgb(36,36,36)\"},\"marker\":{\"line\":{\"color\":\"white\",\"width\":0.5},\"pattern\":{\"fillmode\":\"overlay\",\"size\":10,\"solidity\":0.2}},\"type\":\"bar\"}],\"carpet\":[{\"aaxis\":{\"endlinecolor\":\"rgb(36,36,36)\",\"gridcolor\":\"white\",\"linecolor\":\"white\",\"minorgridcolor\":\"white\",\"startlinecolor\":\"rgb(36,36,36)\"},\"baxis\":{\"endlinecolor\":\"rgb(36,36,36)\",\"gridcolor\":\"white\",\"linecolor\":\"white\",\"minorgridcolor\":\"white\",\"startlinecolor\":\"rgb(36,36,36)\"},\"type\":\"carpet\"}],\"choropleth\":[{\"colorbar\":{\"outlinewidth\":1,\"tickcolor\":\"rgb(36,36,36)\",\"ticks\":\"outside\"},\"type\":\"choropleth\"}],\"contourcarpet\":[{\"colorbar\":{\"outlinewidth\":1,\"tickcolor\":\"rgb(36,36,36)\",\"ticks\":\"outside\"},\"type\":\"contourcarpet\"}],\"contour\":[{\"colorbar\":{\"outlinewidth\":1,\"tickcolor\":\"rgb(36,36,36)\",\"ticks\":\"outside\"},\"colorscale\":[[0.0,\"#440154\"],[0.1111111111111111,\"#482878\"],[0.2222222222222222,\"#3e4989\"],[0.3333333333333333,\"#31688e\"],[0.4444444444444444,\"#26828e\"],[0.5555555555555556,\"#1f9e89\"],[0.6666666666666666,\"#35b779\"],[0.7777777777777778,\"#6ece58\"],[0.8888888888888888,\"#b5de2b\"],[1.0,\"#fde725\"]],\"type\":\"contour\"}],\"heatmapgl\":[{\"colorbar\":{\"outlinewidth\":1,\"tickcolor\":\"rgb(36,36,36)\",\"ticks\":\"outside\"},\"colorscale\":[[0.0,\"#440154\"],[0.1111111111111111,\"#482878\"],[0.2222222222222222,\"#3e4989\"],[0.3333333333333333,\"#31688e\"],[0.4444444444444444,\"#26828e\"],[0.5555555555555556,\"#1f9e89\"],[0.6666666666666666,\"#35b779\"],[0.7777777777777778,\"#6ece58\"],[0.8888888888888888,\"#b5de2b\"],[1.0,\"#fde725\"]],\"type\":\"heatmapgl\"}],\"heatmap\":[{\"colorbar\":{\"outlinewidth\":1,\"tickcolor\":\"rgb(36,36,36)\",\"ticks\":\"outside\"},\"colorscale\":[[0.0,\"#440154\"],[0.1111111111111111,\"#482878\"],[0.2222222222222222,\"#3e4989\"],[0.3333333333333333,\"#31688e\"],[0.4444444444444444,\"#26828e\"],[0.5555555555555556,\"#1f9e89\"],[0.6666666666666666,\"#35b779\"],[0.7777777777777778,\"#6ece58\"],[0.8888888888888888,\"#b5de2b\"],[1.0,\"#fde725\"]],\"type\":\"heatmap\"}],\"histogram2dcontour\":[{\"colorbar\":{\"outlinewidth\":1,\"tickcolor\":\"rgb(36,36,36)\",\"ticks\":\"outside\"},\"colorscale\":[[0.0,\"#440154\"],[0.1111111111111111,\"#482878\"],[0.2222222222222222,\"#3e4989\"],[0.3333333333333333,\"#31688e\"],[0.4444444444444444,\"#26828e\"],[0.5555555555555556,\"#1f9e89\"],[0.6666666666666666,\"#35b779\"],[0.7777777777777778,\"#6ece58\"],[0.8888888888888888,\"#b5de2b\"],[1.0,\"#fde725\"]],\"type\":\"histogram2dcontour\"}],\"histogram2d\":[{\"colorbar\":{\"outlinewidth\":1,\"tickcolor\":\"rgb(36,36,36)\",\"ticks\":\"outside\"},\"colorscale\":[[0.0,\"#440154\"],[0.1111111111111111,\"#482878\"],[0.2222222222222222,\"#3e4989\"],[0.3333333333333333,\"#31688e\"],[0.4444444444444444,\"#26828e\"],[0.5555555555555556,\"#1f9e89\"],[0.6666666666666666,\"#35b779\"],[0.7777777777777778,\"#6ece58\"],[0.8888888888888888,\"#b5de2b\"],[1.0,\"#fde725\"]],\"type\":\"histogram2d\"}],\"histogram\":[{\"marker\":{\"line\":{\"color\":\"white\",\"width\":0.6}},\"type\":\"histogram\"}],\"mesh3d\":[{\"colorbar\":{\"outlinewidth\":1,\"tickcolor\":\"rgb(36,36,36)\",\"ticks\":\"outside\"},\"type\":\"mesh3d\"}],\"parcoords\":[{\"line\":{\"colorbar\":{\"outlinewidth\":1,\"tickcolor\":\"rgb(36,36,36)\",\"ticks\":\"outside\"}},\"type\":\"parcoords\"}],\"pie\":[{\"automargin\":true,\"type\":\"pie\"}],\"scatter3d\":[{\"line\":{\"colorbar\":{\"outlinewidth\":1,\"tickcolor\":\"rgb(36,36,36)\",\"ticks\":\"outside\"}},\"marker\":{\"colorbar\":{\"outlinewidth\":1,\"tickcolor\":\"rgb(36,36,36)\",\"ticks\":\"outside\"}},\"type\":\"scatter3d\"}],\"scattercarpet\":[{\"marker\":{\"colorbar\":{\"outlinewidth\":1,\"tickcolor\":\"rgb(36,36,36)\",\"ticks\":\"outside\"}},\"type\":\"scattercarpet\"}],\"scattergeo\":[{\"marker\":{\"colorbar\":{\"outlinewidth\":1,\"tickcolor\":\"rgb(36,36,36)\",\"ticks\":\"outside\"}},\"type\":\"scattergeo\"}],\"scattergl\":[{\"marker\":{\"colorbar\":{\"outlinewidth\":1,\"tickcolor\":\"rgb(36,36,36)\",\"ticks\":\"outside\"}},\"type\":\"scattergl\"}],\"scattermapbox\":[{\"marker\":{\"colorbar\":{\"outlinewidth\":1,\"tickcolor\":\"rgb(36,36,36)\",\"ticks\":\"outside\"}},\"type\":\"scattermapbox\"}],\"scatterpolargl\":[{\"marker\":{\"colorbar\":{\"outlinewidth\":1,\"tickcolor\":\"rgb(36,36,36)\",\"ticks\":\"outside\"}},\"type\":\"scatterpolargl\"}],\"scatterpolar\":[{\"marker\":{\"colorbar\":{\"outlinewidth\":1,\"tickcolor\":\"rgb(36,36,36)\",\"ticks\":\"outside\"}},\"type\":\"scatterpolar\"}],\"scatter\":[{\"fillpattern\":{\"fillmode\":\"overlay\",\"size\":10,\"solidity\":0.2},\"type\":\"scatter\"}],\"scatterternary\":[{\"marker\":{\"colorbar\":{\"outlinewidth\":1,\"tickcolor\":\"rgb(36,36,36)\",\"ticks\":\"outside\"}},\"type\":\"scatterternary\"}],\"surface\":[{\"colorbar\":{\"outlinewidth\":1,\"tickcolor\":\"rgb(36,36,36)\",\"ticks\":\"outside\"},\"colorscale\":[[0.0,\"#440154\"],[0.1111111111111111,\"#482878\"],[0.2222222222222222,\"#3e4989\"],[0.3333333333333333,\"#31688e\"],[0.4444444444444444,\"#26828e\"],[0.5555555555555556,\"#1f9e89\"],[0.6666666666666666,\"#35b779\"],[0.7777777777777778,\"#6ece58\"],[0.8888888888888888,\"#b5de2b\"],[1.0,\"#fde725\"]],\"type\":\"surface\"}],\"table\":[{\"cells\":{\"fill\":{\"color\":\"rgb(237,237,237)\"},\"line\":{\"color\":\"white\"}},\"header\":{\"fill\":{\"color\":\"rgb(217,217,217)\"},\"line\":{\"color\":\"white\"}},\"type\":\"table\"}]},\"layout\":{\"annotationdefaults\":{\"arrowhead\":0,\"arrowwidth\":1},\"autotypenumbers\":\"strict\",\"coloraxis\":{\"colorbar\":{\"outlinewidth\":1,\"tickcolor\":\"rgb(36,36,36)\",\"ticks\":\"outside\"}},\"colorscale\":{\"diverging\":[[0.0,\"rgb(103,0,31)\"],[0.1,\"rgb(178,24,43)\"],[0.2,\"rgb(214,96,77)\"],[0.3,\"rgb(244,165,130)\"],[0.4,\"rgb(253,219,199)\"],[0.5,\"rgb(247,247,247)\"],[0.6,\"rgb(209,229,240)\"],[0.7,\"rgb(146,197,222)\"],[0.8,\"rgb(67,147,195)\"],[0.9,\"rgb(33,102,172)\"],[1.0,\"rgb(5,48,97)\"]],\"sequential\":[[0.0,\"#440154\"],[0.1111111111111111,\"#482878\"],[0.2222222222222222,\"#3e4989\"],[0.3333333333333333,\"#31688e\"],[0.4444444444444444,\"#26828e\"],[0.5555555555555556,\"#1f9e89\"],[0.6666666666666666,\"#35b779\"],[0.7777777777777778,\"#6ece58\"],[0.8888888888888888,\"#b5de2b\"],[1.0,\"#fde725\"]],\"sequentialminus\":[[0.0,\"#440154\"],[0.1111111111111111,\"#482878\"],[0.2222222222222222,\"#3e4989\"],[0.3333333333333333,\"#31688e\"],[0.4444444444444444,\"#26828e\"],[0.5555555555555556,\"#1f9e89\"],[0.6666666666666666,\"#35b779\"],[0.7777777777777778,\"#6ece58\"],[0.8888888888888888,\"#b5de2b\"],[1.0,\"#fde725\"]]},\"colorway\":[\"#1F77B4\",\"#FF7F0E\",\"#2CA02C\",\"#D62728\",\"#9467BD\",\"#8C564B\",\"#E377C2\",\"#7F7F7F\",\"#BCBD22\",\"#17BECF\"],\"font\":{\"color\":\"rgb(36,36,36)\"},\"geo\":{\"bgcolor\":\"white\",\"lakecolor\":\"white\",\"landcolor\":\"white\",\"showlakes\":true,\"showland\":true,\"subunitcolor\":\"white\"},\"hoverlabel\":{\"align\":\"left\"},\"hovermode\":\"closest\",\"mapbox\":{\"style\":\"light\"},\"paper_bgcolor\":\"white\",\"plot_bgcolor\":\"white\",\"polar\":{\"angularaxis\":{\"gridcolor\":\"rgb(232,232,232)\",\"linecolor\":\"rgb(36,36,36)\",\"showgrid\":false,\"showline\":true,\"ticks\":\"outside\"},\"bgcolor\":\"white\",\"radialaxis\":{\"gridcolor\":\"rgb(232,232,232)\",\"linecolor\":\"rgb(36,36,36)\",\"showgrid\":false,\"showline\":true,\"ticks\":\"outside\"}},\"scene\":{\"xaxis\":{\"backgroundcolor\":\"white\",\"gridcolor\":\"rgb(232,232,232)\",\"gridwidth\":2,\"linecolor\":\"rgb(36,36,36)\",\"showbackground\":true,\"showgrid\":false,\"showline\":true,\"ticks\":\"outside\",\"zeroline\":false,\"zerolinecolor\":\"rgb(36,36,36)\"},\"yaxis\":{\"backgroundcolor\":\"white\",\"gridcolor\":\"rgb(232,232,232)\",\"gridwidth\":2,\"linecolor\":\"rgb(36,36,36)\",\"showbackground\":true,\"showgrid\":false,\"showline\":true,\"ticks\":\"outside\",\"zeroline\":false,\"zerolinecolor\":\"rgb(36,36,36)\"},\"zaxis\":{\"backgroundcolor\":\"white\",\"gridcolor\":\"rgb(232,232,232)\",\"gridwidth\":2,\"linecolor\":\"rgb(36,36,36)\",\"showbackground\":true,\"showgrid\":false,\"showline\":true,\"ticks\":\"outside\",\"zeroline\":false,\"zerolinecolor\":\"rgb(36,36,36)\"}},\"shapedefaults\":{\"fillcolor\":\"black\",\"line\":{\"width\":0},\"opacity\":0.3},\"ternary\":{\"aaxis\":{\"gridcolor\":\"rgb(232,232,232)\",\"linecolor\":\"rgb(36,36,36)\",\"showgrid\":false,\"showline\":true,\"ticks\":\"outside\"},\"baxis\":{\"gridcolor\":\"rgb(232,232,232)\",\"linecolor\":\"rgb(36,36,36)\",\"showgrid\":false,\"showline\":true,\"ticks\":\"outside\"},\"bgcolor\":\"white\",\"caxis\":{\"gridcolor\":\"rgb(232,232,232)\",\"linecolor\":\"rgb(36,36,36)\",\"showgrid\":false,\"showline\":true,\"ticks\":\"outside\"}},\"title\":{\"x\":0.05},\"xaxis\":{\"automargin\":true,\"gridcolor\":\"rgb(232,232,232)\",\"linecolor\":\"rgb(36,36,36)\",\"showgrid\":false,\"showline\":true,\"ticks\":\"outside\",\"title\":{\"standoff\":15},\"zeroline\":false,\"zerolinecolor\":\"rgb(36,36,36)\"},\"yaxis\":{\"automargin\":true,\"gridcolor\":\"rgb(232,232,232)\",\"linecolor\":\"rgb(36,36,36)\",\"showgrid\":false,\"showline\":true,\"ticks\":\"outside\",\"title\":{\"standoff\":15},\"zeroline\":false,\"zerolinecolor\":\"rgb(36,36,36)\"}}},\"xaxis\":{\"showgrid\":true},\"yaxis\":{\"showgrid\":true,\"title\":{\"text\":\"Normalized Frequency\"}},\"title\":{\"font\":{\"size\":22,\"color\":\"Black\"},\"text\":\"<b>Topics over Time\",\"y\":0.95,\"x\":0.4,\"xanchor\":\"center\",\"yanchor\":\"top\"},\"hoverlabel\":{\"font\":{\"size\":16,\"family\":\"Rockwell\"},\"bgcolor\":\"white\"},\"width\":1250,\"height\":450,\"legend\":{\"title\":{\"text\":\"<b>Global Topic Representation\"}}},                        {\"responsive\": true}                    ).then(function(){\n",
       "                            \n",
       "var gd = document.getElementById('8ce32691-e974-40b0-8cdd-9b24ea533456');\n",
       "var x = new MutationObserver(function (mutations, observer) {{\n",
       "        var display = window.getComputedStyle(gd).display;\n",
       "        if (!display || display === 'none') {{\n",
       "            console.log([gd, 'removed!']);\n",
       "            Plotly.purge(gd);\n",
       "            observer.disconnect();\n",
       "        }}\n",
       "}});\n",
       "\n",
       "// Listen for the removal of the full notebook cells\n",
       "var notebookContainer = gd.closest('#notebook-container');\n",
       "if (notebookContainer) {{\n",
       "    x.observe(notebookContainer, {childList: true});\n",
       "}}\n",
       "\n",
       "// Listen for the clearing of the current output cell\n",
       "var outputEl = gd.closest('.output');\n",
       "if (outputEl) {{\n",
       "    x.observe(outputEl, {childList: true});\n",
       "}}\n",
       "\n",
       "                        })                };                });            </script>        </div>"
      ]
     },
     "metadata": {},
     "output_type": "display_data"
    }
   ],
   "source": [
    "topic_model.visualize_topics_over_time(topics_over_time,\n",
    "                                       topics=[0],\n",
    "                                       normalize_frequency=True)"
   ]
  },
  {
   "cell_type": "markdown",
   "metadata": {},
   "source": [
    "### Plot with modified function\n",
    "\n",
    "Customize `BERTopic/bertopic/plotting/_topics_over_time.py`:\n",
    "- Plot one topic at a time\n",
    "- Replace x-axis with dates converted from time stamps\n",
    "- Save the plot in html and pdf formats"
   ]
  },
  {
   "cell_type": "code",
   "execution_count": 65,
   "metadata": {},
   "outputs": [],
   "source": [
    "def visualize_tot_mod(topic_model, topics_over_time, topics=None, \n",
    "                      normalize_frequency=False, width=1000, height=400):\n",
    "\n",
    "  colors = [\"#56B4E9\", \"#E69F00\", \"#009E73\", \"#F0E442\", \"#D55E00\", \"#0072B2\", \n",
    "            \"#CC79A7\"]\n",
    "\n",
    "  # Select topics\n",
    "  if topics:\n",
    "    selected_topics = topics\n",
    "  else:\n",
    "    selected_topics = topic_model.get_topic_freq().Topic.values\n",
    "\n",
    "  # Prepare data\n",
    "  topic_names = {key: value[:40] + \"...\" if len(value) > 40 else value\n",
    "                       for key, value in topic_model.topic_names.items()}\n",
    "  topics_over_time[\"Name\"] = topics_over_time.Topic.map(topic_names)\n",
    "  data = topics_over_time.loc[\n",
    "    topics_over_time.Topic.isin(selected_topics), :].sort_values(\n",
    "        [\"Topic\", \"Timestamp\"])\n",
    "    \n",
    "  # Add traces\n",
    "  fig = go.Figure()\n",
    "  max_freq = 0  # set max frequency for plotting purpose\n",
    "  for index, topic in enumerate(data.Topic.unique()):\n",
    "    trace_data = data.loc[data.Topic == topic, :]\n",
    "    topic_name = trace_data.Name.values[0]\n",
    "    words = trace_data.Words.values\n",
    "    if normalize_frequency:\n",
    "      y = normalize(trace_data.Frequency.values.reshape(1, -1))[0]\n",
    "    else:\n",
    "      y = trace_data.Frequency\n",
    "\n",
    "    if max(y) > max_freq:\n",
    "      max_freq = max(y)\n",
    "    fig.add_trace(go.Scatter(x=trace_data.Timestamp, y=y, mode='lines+markers',\n",
    "      marker_color=colors[index % 7], hoverinfo=\"text\",\n",
    "      name=topic_name,\n",
    "      hovertext=[f'<b>Topic {topic}</b><br>Words: {word}' for word in words]))\n",
    "\n",
    "  # Set the xaxis values, just use topic=0 \n",
    "  unique_tss = data.loc[data.Topic == selected_topics[0], :].Timestamp.tolist()\n",
    "  datetimes  = [datetime.fromtimestamp(ts) for ts in unique_tss]\n",
    "  ymds       = [f'{dt.year}-{dt.month}-{dt.day}' for dt in datetimes]\n",
    "  \n",
    "  # At recent date it becomes too dense, so only show every 2 dates\n",
    "  skip_after = datetime(2011, 1, 1).timestamp()\n",
    "  skip_start_idx = bisect(unique_tss, skip_after)\n",
    "  unique_tss2 = unique_tss[:skip_start_idx] + unique_tss[skip_start_idx::2]\n",
    "  ymds2       = ymds[:skip_start_idx] + ymds[skip_start_idx::2]\n",
    "\n",
    "  # Styling of the visualization\n",
    "  toc_str    = \"-\".join([str(toc) for toc in topics])\n",
    "\n",
    "  fig.update_xaxes(showgrid=True)\n",
    "  fig.update_yaxes(showgrid=True)\n",
    "  fig.update_layout(\n",
    "    yaxis_title=\"Normalized Frequency\" if normalize_frequency else \"Frequency\",\n",
    "    title={'text': f\"<b>Topic(s): {toc_str}\",\n",
    "           'y': .95,\n",
    "           'x': 0.40,\n",
    "           'xanchor': 'center',\n",
    "           'yanchor': 'top',\n",
    "           'font': dict(size=22, color=\"Black\")},\n",
    "    template=\"simple_white\",\n",
    "    width=width,\n",
    "    height=height,\n",
    "    hoverlabel=dict(bgcolor=\"white\", font_size=16, font_family=\"Rockwell\"),\n",
    "    legend=dict(title=\"<b>Global Topic Representation\"),\n",
    "    xaxis=dict(tickmode='array', tickvals=unique_tss2, ticktext=ymds2,\n",
    "               tickangle=-60))\n",
    "\n",
    "  # Add decade lines\n",
    "  for decade in range(1980, 2020, 10):\n",
    "    dt = datetime(decade, 1, 1)\n",
    "    ts = datetime.timestamp(dt)\n",
    "    fig.add_shape(type=\"line\", x0=ts, y0=0, x1=ts, y1=max_freq*1.05,\n",
    "                  line=dict(color=\"red\", width=3, dash='dot'))\n",
    "\n",
    "  # Save figure\n",
    "  fig.write_html(tot_graph_dir / f'tot_graph_topic_{toc_str}_no_globaltune.html')\n",
    "  fig.write_image(tot_graph_dir / f'tot_graph_topic_{toc_str}_no_globaltune.pdf')\n",
    "\n",
    "  return fig, unique_tss"
   ]
  },
  {
   "cell_type": "code",
   "execution_count": 69,
   "metadata": {},
   "outputs": [
    {
     "name": "stdout",
     "output_type": "stream",
     "text": [
      "[250750799.0, 425879999.0, 546839999.0, 638945999.0, 778391999.0, 836193599.0, 897537599.0, 949726799.0, 986961599.0, 1018411199.0, 1046494799.0, 1072241999.0, 1099285199.0, 1123041599.0, 1146196799.0, 1167627599.0, 1188619199.0, 1209009599.0, 1225947599.0, 1245729599.0, 1264136399.0, 1282622399.0, 1300161599.0, 1316145599.0, 1332302399.0, 1347335999.0, 1362200399.0, 1375934399.0, 1389761999.0, 1402199999.0, 1414900799.0, 1427342399.0, 1439697599.0, 1451969999.0, 1463716799.0, 1475899199.0, 1487393999.0, 1498967999.0, 1510376399.0, 1521863999.0, 1532750399.0, 1543985999.0, 1554177599.0, 1564027199.0, 1574053199.0, 1583557199.0, 1592711999.0, 1601438399.0, 1609477200.0]\n"
     ]
    }
   ],
   "source": [
    "# Testing with topic 2\n",
    "fig, unique_tss = visualize_tot_mod(topic_model, topics_over_time, topics=[2])\n",
    "print(unique_tss)"
   ]
  },
  {
   "cell_type": "code",
   "execution_count": 70,
   "metadata": {},
   "outputs": [
    {
     "data": {
      "application/vnd.plotly.v1+json": {
       "config": {
        "plotlyServerURL": "https://plot.ly"
       },
       "data": [
        {
         "hoverinfo": "text",
         "hovertext": [
          "<b>Topic 2</b><br>Words: berberinium, viscometric titrations, flow polarized, polarized, polarized fluorescence",
          "<b>Topic 2</b><br>Words: nickel, nickel ions, urease, exafs, edge urease",
          "<b>Topic 2</b><br>Words: k4 fe, iron ii, k4, fe cn, iron",
          "<b>Topic 2</b><br>Words: chromium, poly, 1c 1d, cr, cr iii",
          "<b>Topic 2</b><br>Words: acridines, pc, ethidiumdna, phenso3, quenching",
          "<b>Topic 2</b><br>Words: gammaglucys, ii, 4gly, gamma glucys, hg ii",
          "<b>Topic 2</b><br>Words: cr, iii, fe iii, fe, cr iii",
          "<b>Topic 2</b><br>Words: catenane, chiroptical, chiroptical rhythmicity, topologically chiral, rhythmicity",
          "<b>Topic 2</b><br>Words: ligands, achiral, msox, phenazino18crown6, alkoxide",
          "<b>Topic 2</b><br>Words: aaome, eddchafe, eddhsafe eddchafe, eddhmafe, eddhsafe",
          "<b>Topic 2</b><br>Words: h2o cu, h2o, ii, fe, c3h2o4",
          "<b>Topic 2</b><br>Words: complexes, determination, ii, method, glucosamine",
          "<b>Topic 2</b><br>Words: dtpa, fe, fe iii, iii, pc",
          "<b>Topic 2</b><br>Words: iii, ml, synchronousscan, nm, detection",
          "<b>Topic 2</b><br>Words: complexes, xy, complex, phb, feiil3",
          "<b>Topic 2</b><br>Words: li, trans, hcn, sn, 19p",
          "<b>Topic 2</b><br>Words: dppbian, chiral, fe, fe por, microreactor",
          "<b>Topic 2</b><br>Words: chiral, emizco, dots, quantum, nanotubes",
          "<b>Topic 2</b><br>Words: biosensor, electrode, paracetamol, nanocomplex, detection",
          "<b>Topic 2</b><br>Words: complexes, ii, por cl, iv por, dna",
          "<b>Topic 2</b><br>Words: ofl, 10 14, electrochemical, biofuel cell, electrode",
          "<b>Topic 2</b><br>Words: complexes, ast, dna, znse, ast lotus",
          "<b>Topic 2</b><br>Words: nacenes, li nacenes, li, complexes, corroles",
          "<b>Topic 2</b><br>Words: complexes, qdots, cdots, pc, ru",
          "<b>Topic 2</b><br>Words: pc, pbpc, dna, nanospheres, dfprobes",
          "<b>Topic 2</b><br>Words: gels, nitride nanotubes, boron, boron nitride, br",
          "<b>Topic 2</b><br>Words: mso, cdots, ipr, dyes, ipr pdi",
          "<b>Topic 2</b><br>Words: complexes, electron, g4, au, dnazymes",
          "<b>Topic 2</b><br>Words: complexes, pnc6h4ch3, dots, ii, detection",
          "<b>Topic 2</b><br>Words: fluorescence, dots, qds, quantum, quantum dots",
          "<b>Topic 2</b><br>Words: biosensor, fullerene, complexes, detection, bnnrs",
          "<b>Topic 2</b><br>Words: fluorescence, dots, carbon dots, hcpt, carbon",
          "<b>Topic 2</b><br>Words: dots, hrp, quantum, eu iii, cds",
          "<b>Topic 2</b><br>Words: dots, carbon dots, quantum, fluorescence, carbon",
          "<b>Topic 2</b><br>Words: fluorescence, dots, detection, ncds, carbon",
          "<b>Topic 2</b><br>Words: dots, detection, ncds, fluorescence, cds",
          "<b>Topic 2</b><br>Words: carbon, congo, quantum, congo red, dots",
          "<b>Topic 2</b><br>Words: dots, cds, detection, carbon dots, fluorescence",
          "<b>Topic 2</b><br>Words: dots, carbon dots, cds, carbon, fluorescence",
          "<b>Topic 2</b><br>Words: detection, fluorescence, dots, cds, carbon dots",
          "<b>Topic 2</b><br>Words: dots, carbon dots, cds, photocatalytic, carbon",
          "<b>Topic 2</b><br>Words: dots, carbon, fluorescence, carbon dots, ncds",
          "<b>Topic 2</b><br>Words: dots, detection, quantum, fluorescence, quantum dots",
          "<b>Topic 2</b><br>Words: cds, dots, ncds, carbon dots, detection",
          "<b>Topic 2</b><br>Words: dots, detection, quantum, carbon dots, fluorescence",
          "<b>Topic 2</b><br>Words: dots, carbon dots, fluorescence, detection, carbon",
          "<b>Topic 2</b><br>Words: dots, fluorescence, carbon dots, detection, carbon",
          "<b>Topic 2</b><br>Words: fluorescence, dots, carbon, carbon dots, detection",
          "<b>Topic 2</b><br>Words: dots, fluorescence, carbon, carbon dots, detection"
         ],
         "marker": {
          "color": "#56B4E9"
         },
         "mode": "lines+markers",
         "name": "2_dots_fluorescence_detection_carbon dot...",
         "type": "scatter",
         "x": [
          250750799,
          425879999,
          546839999,
          638945999,
          778391999,
          836193599,
          897537599,
          949726799,
          986961599,
          1018411199,
          1046494799,
          1072241999,
          1099285199,
          1123041599,
          1146196799,
          1167627599,
          1188619199,
          1209009599,
          1225947599,
          1245729599,
          1264136399,
          1282622399,
          1300161599,
          1316145599,
          1332302399,
          1347335999,
          1362200399,
          1375934399,
          1389761999,
          1402199999,
          1414900799,
          1427342399,
          1439697599,
          1451969999,
          1463716799,
          1475899199,
          1487393999,
          1498967999,
          1510376399,
          1521863999,
          1532750399,
          1543985999,
          1554177599,
          1564027199,
          1574053199,
          1583557199,
          1592711999,
          1601438399,
          1609477200
         ],
         "y": [
          2,
          1,
          2,
          4,
          2,
          6,
          3,
          2,
          6,
          7,
          13,
          14,
          15,
          15,
          20,
          19,
          18,
          17,
          18,
          28,
          13,
          24,
          21,
          17,
          19,
          25,
          21,
          25,
          30,
          31,
          25,
          26,
          24,
          22,
          36,
          28,
          28,
          32,
          34,
          37,
          32,
          45,
          53,
          31,
          40,
          50,
          48,
          36,
          33
         ]
        }
       ],
       "layout": {
        "height": 400,
        "hoverlabel": {
         "bgcolor": "white",
         "font": {
          "family": "Rockwell",
          "size": 16
         }
        },
        "legend": {
         "title": {
          "text": "<b>Global Topic Representation"
         }
        },
        "shapes": [
         {
          "line": {
           "color": "red",
           "dash": "dot",
           "width": 3
          },
          "type": "line",
          "x0": 315550800,
          "x1": 315550800,
          "y0": 0,
          "y1": 55.650000000000006
         },
         {
          "line": {
           "color": "red",
           "dash": "dot",
           "width": 3
          },
          "type": "line",
          "x0": 631170000,
          "x1": 631170000,
          "y0": 0,
          "y1": 55.650000000000006
         },
         {
          "line": {
           "color": "red",
           "dash": "dot",
           "width": 3
          },
          "type": "line",
          "x0": 946702800,
          "x1": 946702800,
          "y0": 0,
          "y1": 55.650000000000006
         },
         {
          "line": {
           "color": "red",
           "dash": "dot",
           "width": 3
          },
          "type": "line",
          "x0": 1262322000,
          "x1": 1262322000,
          "y0": 0,
          "y1": 55.650000000000006
         }
        ],
        "template": {
         "data": {
          "bar": [
           {
            "error_x": {
             "color": "rgb(36,36,36)"
            },
            "error_y": {
             "color": "rgb(36,36,36)"
            },
            "marker": {
             "line": {
              "color": "white",
              "width": 0.5
             },
             "pattern": {
              "fillmode": "overlay",
              "size": 10,
              "solidity": 0.2
             }
            },
            "type": "bar"
           }
          ],
          "barpolar": [
           {
            "marker": {
             "line": {
              "color": "white",
              "width": 0.5
             },
             "pattern": {
              "fillmode": "overlay",
              "size": 10,
              "solidity": 0.2
             }
            },
            "type": "barpolar"
           }
          ],
          "carpet": [
           {
            "aaxis": {
             "endlinecolor": "rgb(36,36,36)",
             "gridcolor": "white",
             "linecolor": "white",
             "minorgridcolor": "white",
             "startlinecolor": "rgb(36,36,36)"
            },
            "baxis": {
             "endlinecolor": "rgb(36,36,36)",
             "gridcolor": "white",
             "linecolor": "white",
             "minorgridcolor": "white",
             "startlinecolor": "rgb(36,36,36)"
            },
            "type": "carpet"
           }
          ],
          "choropleth": [
           {
            "colorbar": {
             "outlinewidth": 1,
             "tickcolor": "rgb(36,36,36)",
             "ticks": "outside"
            },
            "type": "choropleth"
           }
          ],
          "contour": [
           {
            "colorbar": {
             "outlinewidth": 1,
             "tickcolor": "rgb(36,36,36)",
             "ticks": "outside"
            },
            "colorscale": [
             [
              0,
              "#440154"
             ],
             [
              0.1111111111111111,
              "#482878"
             ],
             [
              0.2222222222222222,
              "#3e4989"
             ],
             [
              0.3333333333333333,
              "#31688e"
             ],
             [
              0.4444444444444444,
              "#26828e"
             ],
             [
              0.5555555555555556,
              "#1f9e89"
             ],
             [
              0.6666666666666666,
              "#35b779"
             ],
             [
              0.7777777777777778,
              "#6ece58"
             ],
             [
              0.8888888888888888,
              "#b5de2b"
             ],
             [
              1,
              "#fde725"
             ]
            ],
            "type": "contour"
           }
          ],
          "contourcarpet": [
           {
            "colorbar": {
             "outlinewidth": 1,
             "tickcolor": "rgb(36,36,36)",
             "ticks": "outside"
            },
            "type": "contourcarpet"
           }
          ],
          "heatmap": [
           {
            "colorbar": {
             "outlinewidth": 1,
             "tickcolor": "rgb(36,36,36)",
             "ticks": "outside"
            },
            "colorscale": [
             [
              0,
              "#440154"
             ],
             [
              0.1111111111111111,
              "#482878"
             ],
             [
              0.2222222222222222,
              "#3e4989"
             ],
             [
              0.3333333333333333,
              "#31688e"
             ],
             [
              0.4444444444444444,
              "#26828e"
             ],
             [
              0.5555555555555556,
              "#1f9e89"
             ],
             [
              0.6666666666666666,
              "#35b779"
             ],
             [
              0.7777777777777778,
              "#6ece58"
             ],
             [
              0.8888888888888888,
              "#b5de2b"
             ],
             [
              1,
              "#fde725"
             ]
            ],
            "type": "heatmap"
           }
          ],
          "heatmapgl": [
           {
            "colorbar": {
             "outlinewidth": 1,
             "tickcolor": "rgb(36,36,36)",
             "ticks": "outside"
            },
            "colorscale": [
             [
              0,
              "#440154"
             ],
             [
              0.1111111111111111,
              "#482878"
             ],
             [
              0.2222222222222222,
              "#3e4989"
             ],
             [
              0.3333333333333333,
              "#31688e"
             ],
             [
              0.4444444444444444,
              "#26828e"
             ],
             [
              0.5555555555555556,
              "#1f9e89"
             ],
             [
              0.6666666666666666,
              "#35b779"
             ],
             [
              0.7777777777777778,
              "#6ece58"
             ],
             [
              0.8888888888888888,
              "#b5de2b"
             ],
             [
              1,
              "#fde725"
             ]
            ],
            "type": "heatmapgl"
           }
          ],
          "histogram": [
           {
            "marker": {
             "line": {
              "color": "white",
              "width": 0.6
             }
            },
            "type": "histogram"
           }
          ],
          "histogram2d": [
           {
            "colorbar": {
             "outlinewidth": 1,
             "tickcolor": "rgb(36,36,36)",
             "ticks": "outside"
            },
            "colorscale": [
             [
              0,
              "#440154"
             ],
             [
              0.1111111111111111,
              "#482878"
             ],
             [
              0.2222222222222222,
              "#3e4989"
             ],
             [
              0.3333333333333333,
              "#31688e"
             ],
             [
              0.4444444444444444,
              "#26828e"
             ],
             [
              0.5555555555555556,
              "#1f9e89"
             ],
             [
              0.6666666666666666,
              "#35b779"
             ],
             [
              0.7777777777777778,
              "#6ece58"
             ],
             [
              0.8888888888888888,
              "#b5de2b"
             ],
             [
              1,
              "#fde725"
             ]
            ],
            "type": "histogram2d"
           }
          ],
          "histogram2dcontour": [
           {
            "colorbar": {
             "outlinewidth": 1,
             "tickcolor": "rgb(36,36,36)",
             "ticks": "outside"
            },
            "colorscale": [
             [
              0,
              "#440154"
             ],
             [
              0.1111111111111111,
              "#482878"
             ],
             [
              0.2222222222222222,
              "#3e4989"
             ],
             [
              0.3333333333333333,
              "#31688e"
             ],
             [
              0.4444444444444444,
              "#26828e"
             ],
             [
              0.5555555555555556,
              "#1f9e89"
             ],
             [
              0.6666666666666666,
              "#35b779"
             ],
             [
              0.7777777777777778,
              "#6ece58"
             ],
             [
              0.8888888888888888,
              "#b5de2b"
             ],
             [
              1,
              "#fde725"
             ]
            ],
            "type": "histogram2dcontour"
           }
          ],
          "mesh3d": [
           {
            "colorbar": {
             "outlinewidth": 1,
             "tickcolor": "rgb(36,36,36)",
             "ticks": "outside"
            },
            "type": "mesh3d"
           }
          ],
          "parcoords": [
           {
            "line": {
             "colorbar": {
              "outlinewidth": 1,
              "tickcolor": "rgb(36,36,36)",
              "ticks": "outside"
             }
            },
            "type": "parcoords"
           }
          ],
          "pie": [
           {
            "automargin": true,
            "type": "pie"
           }
          ],
          "scatter": [
           {
            "fillpattern": {
             "fillmode": "overlay",
             "size": 10,
             "solidity": 0.2
            },
            "type": "scatter"
           }
          ],
          "scatter3d": [
           {
            "line": {
             "colorbar": {
              "outlinewidth": 1,
              "tickcolor": "rgb(36,36,36)",
              "ticks": "outside"
             }
            },
            "marker": {
             "colorbar": {
              "outlinewidth": 1,
              "tickcolor": "rgb(36,36,36)",
              "ticks": "outside"
             }
            },
            "type": "scatter3d"
           }
          ],
          "scattercarpet": [
           {
            "marker": {
             "colorbar": {
              "outlinewidth": 1,
              "tickcolor": "rgb(36,36,36)",
              "ticks": "outside"
             }
            },
            "type": "scattercarpet"
           }
          ],
          "scattergeo": [
           {
            "marker": {
             "colorbar": {
              "outlinewidth": 1,
              "tickcolor": "rgb(36,36,36)",
              "ticks": "outside"
             }
            },
            "type": "scattergeo"
           }
          ],
          "scattergl": [
           {
            "marker": {
             "colorbar": {
              "outlinewidth": 1,
              "tickcolor": "rgb(36,36,36)",
              "ticks": "outside"
             }
            },
            "type": "scattergl"
           }
          ],
          "scattermapbox": [
           {
            "marker": {
             "colorbar": {
              "outlinewidth": 1,
              "tickcolor": "rgb(36,36,36)",
              "ticks": "outside"
             }
            },
            "type": "scattermapbox"
           }
          ],
          "scatterpolar": [
           {
            "marker": {
             "colorbar": {
              "outlinewidth": 1,
              "tickcolor": "rgb(36,36,36)",
              "ticks": "outside"
             }
            },
            "type": "scatterpolar"
           }
          ],
          "scatterpolargl": [
           {
            "marker": {
             "colorbar": {
              "outlinewidth": 1,
              "tickcolor": "rgb(36,36,36)",
              "ticks": "outside"
             }
            },
            "type": "scatterpolargl"
           }
          ],
          "scatterternary": [
           {
            "marker": {
             "colorbar": {
              "outlinewidth": 1,
              "tickcolor": "rgb(36,36,36)",
              "ticks": "outside"
             }
            },
            "type": "scatterternary"
           }
          ],
          "surface": [
           {
            "colorbar": {
             "outlinewidth": 1,
             "tickcolor": "rgb(36,36,36)",
             "ticks": "outside"
            },
            "colorscale": [
             [
              0,
              "#440154"
             ],
             [
              0.1111111111111111,
              "#482878"
             ],
             [
              0.2222222222222222,
              "#3e4989"
             ],
             [
              0.3333333333333333,
              "#31688e"
             ],
             [
              0.4444444444444444,
              "#26828e"
             ],
             [
              0.5555555555555556,
              "#1f9e89"
             ],
             [
              0.6666666666666666,
              "#35b779"
             ],
             [
              0.7777777777777778,
              "#6ece58"
             ],
             [
              0.8888888888888888,
              "#b5de2b"
             ],
             [
              1,
              "#fde725"
             ]
            ],
            "type": "surface"
           }
          ],
          "table": [
           {
            "cells": {
             "fill": {
              "color": "rgb(237,237,237)"
             },
             "line": {
              "color": "white"
             }
            },
            "header": {
             "fill": {
              "color": "rgb(217,217,217)"
             },
             "line": {
              "color": "white"
             }
            },
            "type": "table"
           }
          ]
         },
         "layout": {
          "annotationdefaults": {
           "arrowhead": 0,
           "arrowwidth": 1
          },
          "autotypenumbers": "strict",
          "coloraxis": {
           "colorbar": {
            "outlinewidth": 1,
            "tickcolor": "rgb(36,36,36)",
            "ticks": "outside"
           }
          },
          "colorscale": {
           "diverging": [
            [
             0,
             "rgb(103,0,31)"
            ],
            [
             0.1,
             "rgb(178,24,43)"
            ],
            [
             0.2,
             "rgb(214,96,77)"
            ],
            [
             0.3,
             "rgb(244,165,130)"
            ],
            [
             0.4,
             "rgb(253,219,199)"
            ],
            [
             0.5,
             "rgb(247,247,247)"
            ],
            [
             0.6,
             "rgb(209,229,240)"
            ],
            [
             0.7,
             "rgb(146,197,222)"
            ],
            [
             0.8,
             "rgb(67,147,195)"
            ],
            [
             0.9,
             "rgb(33,102,172)"
            ],
            [
             1,
             "rgb(5,48,97)"
            ]
           ],
           "sequential": [
            [
             0,
             "#440154"
            ],
            [
             0.1111111111111111,
             "#482878"
            ],
            [
             0.2222222222222222,
             "#3e4989"
            ],
            [
             0.3333333333333333,
             "#31688e"
            ],
            [
             0.4444444444444444,
             "#26828e"
            ],
            [
             0.5555555555555556,
             "#1f9e89"
            ],
            [
             0.6666666666666666,
             "#35b779"
            ],
            [
             0.7777777777777778,
             "#6ece58"
            ],
            [
             0.8888888888888888,
             "#b5de2b"
            ],
            [
             1,
             "#fde725"
            ]
           ],
           "sequentialminus": [
            [
             0,
             "#440154"
            ],
            [
             0.1111111111111111,
             "#482878"
            ],
            [
             0.2222222222222222,
             "#3e4989"
            ],
            [
             0.3333333333333333,
             "#31688e"
            ],
            [
             0.4444444444444444,
             "#26828e"
            ],
            [
             0.5555555555555556,
             "#1f9e89"
            ],
            [
             0.6666666666666666,
             "#35b779"
            ],
            [
             0.7777777777777778,
             "#6ece58"
            ],
            [
             0.8888888888888888,
             "#b5de2b"
            ],
            [
             1,
             "#fde725"
            ]
           ]
          },
          "colorway": [
           "#1F77B4",
           "#FF7F0E",
           "#2CA02C",
           "#D62728",
           "#9467BD",
           "#8C564B",
           "#E377C2",
           "#7F7F7F",
           "#BCBD22",
           "#17BECF"
          ],
          "font": {
           "color": "rgb(36,36,36)"
          },
          "geo": {
           "bgcolor": "white",
           "lakecolor": "white",
           "landcolor": "white",
           "showlakes": true,
           "showland": true,
           "subunitcolor": "white"
          },
          "hoverlabel": {
           "align": "left"
          },
          "hovermode": "closest",
          "mapbox": {
           "style": "light"
          },
          "paper_bgcolor": "white",
          "plot_bgcolor": "white",
          "polar": {
           "angularaxis": {
            "gridcolor": "rgb(232,232,232)",
            "linecolor": "rgb(36,36,36)",
            "showgrid": false,
            "showline": true,
            "ticks": "outside"
           },
           "bgcolor": "white",
           "radialaxis": {
            "gridcolor": "rgb(232,232,232)",
            "linecolor": "rgb(36,36,36)",
            "showgrid": false,
            "showline": true,
            "ticks": "outside"
           }
          },
          "scene": {
           "xaxis": {
            "backgroundcolor": "white",
            "gridcolor": "rgb(232,232,232)",
            "gridwidth": 2,
            "linecolor": "rgb(36,36,36)",
            "showbackground": true,
            "showgrid": false,
            "showline": true,
            "ticks": "outside",
            "zeroline": false,
            "zerolinecolor": "rgb(36,36,36)"
           },
           "yaxis": {
            "backgroundcolor": "white",
            "gridcolor": "rgb(232,232,232)",
            "gridwidth": 2,
            "linecolor": "rgb(36,36,36)",
            "showbackground": true,
            "showgrid": false,
            "showline": true,
            "ticks": "outside",
            "zeroline": false,
            "zerolinecolor": "rgb(36,36,36)"
           },
           "zaxis": {
            "backgroundcolor": "white",
            "gridcolor": "rgb(232,232,232)",
            "gridwidth": 2,
            "linecolor": "rgb(36,36,36)",
            "showbackground": true,
            "showgrid": false,
            "showline": true,
            "ticks": "outside",
            "zeroline": false,
            "zerolinecolor": "rgb(36,36,36)"
           }
          },
          "shapedefaults": {
           "fillcolor": "black",
           "line": {
            "width": 0
           },
           "opacity": 0.3
          },
          "ternary": {
           "aaxis": {
            "gridcolor": "rgb(232,232,232)",
            "linecolor": "rgb(36,36,36)",
            "showgrid": false,
            "showline": true,
            "ticks": "outside"
           },
           "baxis": {
            "gridcolor": "rgb(232,232,232)",
            "linecolor": "rgb(36,36,36)",
            "showgrid": false,
            "showline": true,
            "ticks": "outside"
           },
           "bgcolor": "white",
           "caxis": {
            "gridcolor": "rgb(232,232,232)",
            "linecolor": "rgb(36,36,36)",
            "showgrid": false,
            "showline": true,
            "ticks": "outside"
           }
          },
          "title": {
           "x": 0.05
          },
          "xaxis": {
           "automargin": true,
           "gridcolor": "rgb(232,232,232)",
           "linecolor": "rgb(36,36,36)",
           "showgrid": false,
           "showline": true,
           "ticks": "outside",
           "title": {
            "standoff": 15
           },
           "zeroline": false,
           "zerolinecolor": "rgb(36,36,36)"
          },
          "yaxis": {
           "automargin": true,
           "gridcolor": "rgb(232,232,232)",
           "linecolor": "rgb(36,36,36)",
           "showgrid": false,
           "showline": true,
           "ticks": "outside",
           "title": {
            "standoff": 15
           },
           "zeroline": false,
           "zerolinecolor": "rgb(36,36,36)"
          }
         }
        },
        "title": {
         "font": {
          "color": "Black",
          "size": 22
         },
         "text": "<b>Topic(s): 2",
         "x": 0.4,
         "xanchor": "center",
         "y": 0.95,
         "yanchor": "top"
        },
        "width": 1000,
        "xaxis": {
         "showgrid": true,
         "tickangle": -60,
         "tickmode": "array",
         "ticktext": [
          "1977-12-11",
          "1983-6-30",
          "1987-4-30",
          "1990-3-31",
          "1994-8-31",
          "1996-6-30",
          "1998-6-10",
          "2000-2-4",
          "2001-4-10",
          "2002-4-9",
          "2003-2-28",
          "2003-12-23",
          "2004-10-31",
          "2005-8-2",
          "2006-4-27",
          "2006-12-31",
          "2007-8-31",
          "2008-4-23",
          "2008-11-5",
          "2009-6-22",
          "2010-1-21",
          "2010-8-23",
          "2011-3-14",
          "2012-3-20",
          "2013-3-1",
          "2014-1-14",
          "2014-11-1",
          "2015-8-15",
          "2016-5-19",
          "2017-2-17",
          "2017-11-10",
          "2018-7-27",
          "2019-4-1",
          "2019-11-17",
          "2020-6-20",
          "2021-1-1"
         ],
         "tickvals": [
          250750799,
          425879999,
          546839999,
          638945999,
          778391999,
          836193599,
          897537599,
          949726799,
          986961599,
          1018411199,
          1046494799,
          1072241999,
          1099285199,
          1123041599,
          1146196799,
          1167627599,
          1188619199,
          1209009599,
          1225947599,
          1245729599,
          1264136399,
          1282622399,
          1300161599,
          1332302399,
          1362200399,
          1389761999,
          1414900799,
          1439697599,
          1463716799,
          1487393999,
          1510376399,
          1532750399,
          1554177599,
          1574053199,
          1592711999,
          1609477200
         ]
        },
        "yaxis": {
         "showgrid": true,
         "title": {
          "text": "Frequency"
         }
        }
       }
      },
      "text/html": [
       "<div>                            <div id=\"fbe6f6f0-f2fa-40f0-b310-49d59b5f2101\" class=\"plotly-graph-div\" style=\"height:400px; width:1000px;\"></div>            <script type=\"text/javascript\">                require([\"plotly\"], function(Plotly) {                    window.PLOTLYENV=window.PLOTLYENV || {};                                    if (document.getElementById(\"fbe6f6f0-f2fa-40f0-b310-49d59b5f2101\")) {                    Plotly.newPlot(                        \"fbe6f6f0-f2fa-40f0-b310-49d59b5f2101\",                        [{\"hoverinfo\":\"text\",\"hovertext\":[\"<b>Topic 2</b><br>Words: berberinium, viscometric titrations, flow polarized, polarized, polarized fluorescence\",\"<b>Topic 2</b><br>Words: nickel, nickel ions, urease, exafs, edge urease\",\"<b>Topic 2</b><br>Words: k4 fe, iron ii, k4, fe cn, iron\",\"<b>Topic 2</b><br>Words: chromium, poly, 1c 1d, cr, cr iii\",\"<b>Topic 2</b><br>Words: acridines, pc, ethidiumdna, phenso3, quenching\",\"<b>Topic 2</b><br>Words: gammaglucys, ii, 4gly, gamma glucys, hg ii\",\"<b>Topic 2</b><br>Words: cr, iii, fe iii, fe, cr iii\",\"<b>Topic 2</b><br>Words: catenane, chiroptical, chiroptical rhythmicity, topologically chiral, rhythmicity\",\"<b>Topic 2</b><br>Words: ligands, achiral, msox, phenazino18crown6, alkoxide\",\"<b>Topic 2</b><br>Words: aaome, eddchafe, eddhsafe eddchafe, eddhmafe, eddhsafe\",\"<b>Topic 2</b><br>Words: h2o cu, h2o, ii, fe, c3h2o4\",\"<b>Topic 2</b><br>Words: complexes, determination, ii, method, glucosamine\",\"<b>Topic 2</b><br>Words: dtpa, fe, fe iii, iii, pc\",\"<b>Topic 2</b><br>Words: iii, ml, synchronousscan, nm, detection\",\"<b>Topic 2</b><br>Words: complexes, xy, complex, phb, feiil3\",\"<b>Topic 2</b><br>Words: li, trans, hcn, sn, 19p\",\"<b>Topic 2</b><br>Words: dppbian, chiral, fe, fe por, microreactor\",\"<b>Topic 2</b><br>Words: chiral, emizco, dots, quantum, nanotubes\",\"<b>Topic 2</b><br>Words: biosensor, electrode, paracetamol, nanocomplex, detection\",\"<b>Topic 2</b><br>Words: complexes, ii, por cl, iv por, dna\",\"<b>Topic 2</b><br>Words: ofl, 10 14, electrochemical, biofuel cell, electrode\",\"<b>Topic 2</b><br>Words: complexes, ast, dna, znse, ast lotus\",\"<b>Topic 2</b><br>Words: nacenes, li nacenes, li, complexes, corroles\",\"<b>Topic 2</b><br>Words: complexes, qdots, cdots, pc, ru\",\"<b>Topic 2</b><br>Words: pc, pbpc, dna, nanospheres, dfprobes\",\"<b>Topic 2</b><br>Words: gels, nitride nanotubes, boron, boron nitride, br\",\"<b>Topic 2</b><br>Words: mso, cdots, ipr, dyes, ipr pdi\",\"<b>Topic 2</b><br>Words: complexes, electron, g4, au, dnazymes\",\"<b>Topic 2</b><br>Words: complexes, pnc6h4ch3, dots, ii, detection\",\"<b>Topic 2</b><br>Words: fluorescence, dots, qds, quantum, quantum dots\",\"<b>Topic 2</b><br>Words: biosensor, fullerene, complexes, detection, bnnrs\",\"<b>Topic 2</b><br>Words: fluorescence, dots, carbon dots, hcpt, carbon\",\"<b>Topic 2</b><br>Words: dots, hrp, quantum, eu iii, cds\",\"<b>Topic 2</b><br>Words: dots, carbon dots, quantum, fluorescence, carbon\",\"<b>Topic 2</b><br>Words: fluorescence, dots, detection, ncds, carbon\",\"<b>Topic 2</b><br>Words: dots, detection, ncds, fluorescence, cds\",\"<b>Topic 2</b><br>Words: carbon, congo, quantum, congo red, dots\",\"<b>Topic 2</b><br>Words: dots, cds, detection, carbon dots, fluorescence\",\"<b>Topic 2</b><br>Words: dots, carbon dots, cds, carbon, fluorescence\",\"<b>Topic 2</b><br>Words: detection, fluorescence, dots, cds, carbon dots\",\"<b>Topic 2</b><br>Words: dots, carbon dots, cds, photocatalytic, carbon\",\"<b>Topic 2</b><br>Words: dots, carbon, fluorescence, carbon dots, ncds\",\"<b>Topic 2</b><br>Words: dots, detection, quantum, fluorescence, quantum dots\",\"<b>Topic 2</b><br>Words: cds, dots, ncds, carbon dots, detection\",\"<b>Topic 2</b><br>Words: dots, detection, quantum, carbon dots, fluorescence\",\"<b>Topic 2</b><br>Words: dots, carbon dots, fluorescence, detection, carbon\",\"<b>Topic 2</b><br>Words: dots, fluorescence, carbon dots, detection, carbon\",\"<b>Topic 2</b><br>Words: fluorescence, dots, carbon, carbon dots, detection\",\"<b>Topic 2</b><br>Words: dots, fluorescence, carbon, carbon dots, detection\"],\"marker\":{\"color\":\"#56B4E9\"},\"mode\":\"lines+markers\",\"name\":\"2_dots_fluorescence_detection_carbon dot...\",\"x\":[250750799.0,425879999.0,546839999.0,638945999.0,778391999.0,836193599.0,897537599.0,949726799.0,986961599.0,1018411199.0,1046494799.0,1072241999.0,1099285199.0,1123041599.0,1146196799.0,1167627599.0,1188619199.0,1209009599.0,1225947599.0,1245729599.0,1264136399.0,1282622399.0,1300161599.0,1316145599.0,1332302399.0,1347335999.0,1362200399.0,1375934399.0,1389761999.0,1402199999.0,1414900799.0,1427342399.0,1439697599.0,1451969999.0,1463716799.0,1475899199.0,1487393999.0,1498967999.0,1510376399.0,1521863999.0,1532750399.0,1543985999.0,1554177599.0,1564027199.0,1574053199.0,1583557199.0,1592711999.0,1601438399.0,1609477200.0],\"y\":[2,1,2,4,2,6,3,2,6,7,13,14,15,15,20,19,18,17,18,28,13,24,21,17,19,25,21,25,30,31,25,26,24,22,36,28,28,32,34,37,32,45,53,31,40,50,48,36,33],\"type\":\"scatter\"}],                        {\"template\":{\"data\":{\"barpolar\":[{\"marker\":{\"line\":{\"color\":\"white\",\"width\":0.5},\"pattern\":{\"fillmode\":\"overlay\",\"size\":10,\"solidity\":0.2}},\"type\":\"barpolar\"}],\"bar\":[{\"error_x\":{\"color\":\"rgb(36,36,36)\"},\"error_y\":{\"color\":\"rgb(36,36,36)\"},\"marker\":{\"line\":{\"color\":\"white\",\"width\":0.5},\"pattern\":{\"fillmode\":\"overlay\",\"size\":10,\"solidity\":0.2}},\"type\":\"bar\"}],\"carpet\":[{\"aaxis\":{\"endlinecolor\":\"rgb(36,36,36)\",\"gridcolor\":\"white\",\"linecolor\":\"white\",\"minorgridcolor\":\"white\",\"startlinecolor\":\"rgb(36,36,36)\"},\"baxis\":{\"endlinecolor\":\"rgb(36,36,36)\",\"gridcolor\":\"white\",\"linecolor\":\"white\",\"minorgridcolor\":\"white\",\"startlinecolor\":\"rgb(36,36,36)\"},\"type\":\"carpet\"}],\"choropleth\":[{\"colorbar\":{\"outlinewidth\":1,\"tickcolor\":\"rgb(36,36,36)\",\"ticks\":\"outside\"},\"type\":\"choropleth\"}],\"contourcarpet\":[{\"colorbar\":{\"outlinewidth\":1,\"tickcolor\":\"rgb(36,36,36)\",\"ticks\":\"outside\"},\"type\":\"contourcarpet\"}],\"contour\":[{\"colorbar\":{\"outlinewidth\":1,\"tickcolor\":\"rgb(36,36,36)\",\"ticks\":\"outside\"},\"colorscale\":[[0.0,\"#440154\"],[0.1111111111111111,\"#482878\"],[0.2222222222222222,\"#3e4989\"],[0.3333333333333333,\"#31688e\"],[0.4444444444444444,\"#26828e\"],[0.5555555555555556,\"#1f9e89\"],[0.6666666666666666,\"#35b779\"],[0.7777777777777778,\"#6ece58\"],[0.8888888888888888,\"#b5de2b\"],[1.0,\"#fde725\"]],\"type\":\"contour\"}],\"heatmapgl\":[{\"colorbar\":{\"outlinewidth\":1,\"tickcolor\":\"rgb(36,36,36)\",\"ticks\":\"outside\"},\"colorscale\":[[0.0,\"#440154\"],[0.1111111111111111,\"#482878\"],[0.2222222222222222,\"#3e4989\"],[0.3333333333333333,\"#31688e\"],[0.4444444444444444,\"#26828e\"],[0.5555555555555556,\"#1f9e89\"],[0.6666666666666666,\"#35b779\"],[0.7777777777777778,\"#6ece58\"],[0.8888888888888888,\"#b5de2b\"],[1.0,\"#fde725\"]],\"type\":\"heatmapgl\"}],\"heatmap\":[{\"colorbar\":{\"outlinewidth\":1,\"tickcolor\":\"rgb(36,36,36)\",\"ticks\":\"outside\"},\"colorscale\":[[0.0,\"#440154\"],[0.1111111111111111,\"#482878\"],[0.2222222222222222,\"#3e4989\"],[0.3333333333333333,\"#31688e\"],[0.4444444444444444,\"#26828e\"],[0.5555555555555556,\"#1f9e89\"],[0.6666666666666666,\"#35b779\"],[0.7777777777777778,\"#6ece58\"],[0.8888888888888888,\"#b5de2b\"],[1.0,\"#fde725\"]],\"type\":\"heatmap\"}],\"histogram2dcontour\":[{\"colorbar\":{\"outlinewidth\":1,\"tickcolor\":\"rgb(36,36,36)\",\"ticks\":\"outside\"},\"colorscale\":[[0.0,\"#440154\"],[0.1111111111111111,\"#482878\"],[0.2222222222222222,\"#3e4989\"],[0.3333333333333333,\"#31688e\"],[0.4444444444444444,\"#26828e\"],[0.5555555555555556,\"#1f9e89\"],[0.6666666666666666,\"#35b779\"],[0.7777777777777778,\"#6ece58\"],[0.8888888888888888,\"#b5de2b\"],[1.0,\"#fde725\"]],\"type\":\"histogram2dcontour\"}],\"histogram2d\":[{\"colorbar\":{\"outlinewidth\":1,\"tickcolor\":\"rgb(36,36,36)\",\"ticks\":\"outside\"},\"colorscale\":[[0.0,\"#440154\"],[0.1111111111111111,\"#482878\"],[0.2222222222222222,\"#3e4989\"],[0.3333333333333333,\"#31688e\"],[0.4444444444444444,\"#26828e\"],[0.5555555555555556,\"#1f9e89\"],[0.6666666666666666,\"#35b779\"],[0.7777777777777778,\"#6ece58\"],[0.8888888888888888,\"#b5de2b\"],[1.0,\"#fde725\"]],\"type\":\"histogram2d\"}],\"histogram\":[{\"marker\":{\"line\":{\"color\":\"white\",\"width\":0.6}},\"type\":\"histogram\"}],\"mesh3d\":[{\"colorbar\":{\"outlinewidth\":1,\"tickcolor\":\"rgb(36,36,36)\",\"ticks\":\"outside\"},\"type\":\"mesh3d\"}],\"parcoords\":[{\"line\":{\"colorbar\":{\"outlinewidth\":1,\"tickcolor\":\"rgb(36,36,36)\",\"ticks\":\"outside\"}},\"type\":\"parcoords\"}],\"pie\":[{\"automargin\":true,\"type\":\"pie\"}],\"scatter3d\":[{\"line\":{\"colorbar\":{\"outlinewidth\":1,\"tickcolor\":\"rgb(36,36,36)\",\"ticks\":\"outside\"}},\"marker\":{\"colorbar\":{\"outlinewidth\":1,\"tickcolor\":\"rgb(36,36,36)\",\"ticks\":\"outside\"}},\"type\":\"scatter3d\"}],\"scattercarpet\":[{\"marker\":{\"colorbar\":{\"outlinewidth\":1,\"tickcolor\":\"rgb(36,36,36)\",\"ticks\":\"outside\"}},\"type\":\"scattercarpet\"}],\"scattergeo\":[{\"marker\":{\"colorbar\":{\"outlinewidth\":1,\"tickcolor\":\"rgb(36,36,36)\",\"ticks\":\"outside\"}},\"type\":\"scattergeo\"}],\"scattergl\":[{\"marker\":{\"colorbar\":{\"outlinewidth\":1,\"tickcolor\":\"rgb(36,36,36)\",\"ticks\":\"outside\"}},\"type\":\"scattergl\"}],\"scattermapbox\":[{\"marker\":{\"colorbar\":{\"outlinewidth\":1,\"tickcolor\":\"rgb(36,36,36)\",\"ticks\":\"outside\"}},\"type\":\"scattermapbox\"}],\"scatterpolargl\":[{\"marker\":{\"colorbar\":{\"outlinewidth\":1,\"tickcolor\":\"rgb(36,36,36)\",\"ticks\":\"outside\"}},\"type\":\"scatterpolargl\"}],\"scatterpolar\":[{\"marker\":{\"colorbar\":{\"outlinewidth\":1,\"tickcolor\":\"rgb(36,36,36)\",\"ticks\":\"outside\"}},\"type\":\"scatterpolar\"}],\"scatter\":[{\"fillpattern\":{\"fillmode\":\"overlay\",\"size\":10,\"solidity\":0.2},\"type\":\"scatter\"}],\"scatterternary\":[{\"marker\":{\"colorbar\":{\"outlinewidth\":1,\"tickcolor\":\"rgb(36,36,36)\",\"ticks\":\"outside\"}},\"type\":\"scatterternary\"}],\"surface\":[{\"colorbar\":{\"outlinewidth\":1,\"tickcolor\":\"rgb(36,36,36)\",\"ticks\":\"outside\"},\"colorscale\":[[0.0,\"#440154\"],[0.1111111111111111,\"#482878\"],[0.2222222222222222,\"#3e4989\"],[0.3333333333333333,\"#31688e\"],[0.4444444444444444,\"#26828e\"],[0.5555555555555556,\"#1f9e89\"],[0.6666666666666666,\"#35b779\"],[0.7777777777777778,\"#6ece58\"],[0.8888888888888888,\"#b5de2b\"],[1.0,\"#fde725\"]],\"type\":\"surface\"}],\"table\":[{\"cells\":{\"fill\":{\"color\":\"rgb(237,237,237)\"},\"line\":{\"color\":\"white\"}},\"header\":{\"fill\":{\"color\":\"rgb(217,217,217)\"},\"line\":{\"color\":\"white\"}},\"type\":\"table\"}]},\"layout\":{\"annotationdefaults\":{\"arrowhead\":0,\"arrowwidth\":1},\"autotypenumbers\":\"strict\",\"coloraxis\":{\"colorbar\":{\"outlinewidth\":1,\"tickcolor\":\"rgb(36,36,36)\",\"ticks\":\"outside\"}},\"colorscale\":{\"diverging\":[[0.0,\"rgb(103,0,31)\"],[0.1,\"rgb(178,24,43)\"],[0.2,\"rgb(214,96,77)\"],[0.3,\"rgb(244,165,130)\"],[0.4,\"rgb(253,219,199)\"],[0.5,\"rgb(247,247,247)\"],[0.6,\"rgb(209,229,240)\"],[0.7,\"rgb(146,197,222)\"],[0.8,\"rgb(67,147,195)\"],[0.9,\"rgb(33,102,172)\"],[1.0,\"rgb(5,48,97)\"]],\"sequential\":[[0.0,\"#440154\"],[0.1111111111111111,\"#482878\"],[0.2222222222222222,\"#3e4989\"],[0.3333333333333333,\"#31688e\"],[0.4444444444444444,\"#26828e\"],[0.5555555555555556,\"#1f9e89\"],[0.6666666666666666,\"#35b779\"],[0.7777777777777778,\"#6ece58\"],[0.8888888888888888,\"#b5de2b\"],[1.0,\"#fde725\"]],\"sequentialminus\":[[0.0,\"#440154\"],[0.1111111111111111,\"#482878\"],[0.2222222222222222,\"#3e4989\"],[0.3333333333333333,\"#31688e\"],[0.4444444444444444,\"#26828e\"],[0.5555555555555556,\"#1f9e89\"],[0.6666666666666666,\"#35b779\"],[0.7777777777777778,\"#6ece58\"],[0.8888888888888888,\"#b5de2b\"],[1.0,\"#fde725\"]]},\"colorway\":[\"#1F77B4\",\"#FF7F0E\",\"#2CA02C\",\"#D62728\",\"#9467BD\",\"#8C564B\",\"#E377C2\",\"#7F7F7F\",\"#BCBD22\",\"#17BECF\"],\"font\":{\"color\":\"rgb(36,36,36)\"},\"geo\":{\"bgcolor\":\"white\",\"lakecolor\":\"white\",\"landcolor\":\"white\",\"showlakes\":true,\"showland\":true,\"subunitcolor\":\"white\"},\"hoverlabel\":{\"align\":\"left\"},\"hovermode\":\"closest\",\"mapbox\":{\"style\":\"light\"},\"paper_bgcolor\":\"white\",\"plot_bgcolor\":\"white\",\"polar\":{\"angularaxis\":{\"gridcolor\":\"rgb(232,232,232)\",\"linecolor\":\"rgb(36,36,36)\",\"showgrid\":false,\"showline\":true,\"ticks\":\"outside\"},\"bgcolor\":\"white\",\"radialaxis\":{\"gridcolor\":\"rgb(232,232,232)\",\"linecolor\":\"rgb(36,36,36)\",\"showgrid\":false,\"showline\":true,\"ticks\":\"outside\"}},\"scene\":{\"xaxis\":{\"backgroundcolor\":\"white\",\"gridcolor\":\"rgb(232,232,232)\",\"gridwidth\":2,\"linecolor\":\"rgb(36,36,36)\",\"showbackground\":true,\"showgrid\":false,\"showline\":true,\"ticks\":\"outside\",\"zeroline\":false,\"zerolinecolor\":\"rgb(36,36,36)\"},\"yaxis\":{\"backgroundcolor\":\"white\",\"gridcolor\":\"rgb(232,232,232)\",\"gridwidth\":2,\"linecolor\":\"rgb(36,36,36)\",\"showbackground\":true,\"showgrid\":false,\"showline\":true,\"ticks\":\"outside\",\"zeroline\":false,\"zerolinecolor\":\"rgb(36,36,36)\"},\"zaxis\":{\"backgroundcolor\":\"white\",\"gridcolor\":\"rgb(232,232,232)\",\"gridwidth\":2,\"linecolor\":\"rgb(36,36,36)\",\"showbackground\":true,\"showgrid\":false,\"showline\":true,\"ticks\":\"outside\",\"zeroline\":false,\"zerolinecolor\":\"rgb(36,36,36)\"}},\"shapedefaults\":{\"fillcolor\":\"black\",\"line\":{\"width\":0},\"opacity\":0.3},\"ternary\":{\"aaxis\":{\"gridcolor\":\"rgb(232,232,232)\",\"linecolor\":\"rgb(36,36,36)\",\"showgrid\":false,\"showline\":true,\"ticks\":\"outside\"},\"baxis\":{\"gridcolor\":\"rgb(232,232,232)\",\"linecolor\":\"rgb(36,36,36)\",\"showgrid\":false,\"showline\":true,\"ticks\":\"outside\"},\"bgcolor\":\"white\",\"caxis\":{\"gridcolor\":\"rgb(232,232,232)\",\"linecolor\":\"rgb(36,36,36)\",\"showgrid\":false,\"showline\":true,\"ticks\":\"outside\"}},\"title\":{\"x\":0.05},\"xaxis\":{\"automargin\":true,\"gridcolor\":\"rgb(232,232,232)\",\"linecolor\":\"rgb(36,36,36)\",\"showgrid\":false,\"showline\":true,\"ticks\":\"outside\",\"title\":{\"standoff\":15},\"zeroline\":false,\"zerolinecolor\":\"rgb(36,36,36)\"},\"yaxis\":{\"automargin\":true,\"gridcolor\":\"rgb(232,232,232)\",\"linecolor\":\"rgb(36,36,36)\",\"showgrid\":false,\"showline\":true,\"ticks\":\"outside\",\"title\":{\"standoff\":15},\"zeroline\":false,\"zerolinecolor\":\"rgb(36,36,36)\"}}},\"xaxis\":{\"showgrid\":true,\"tickmode\":\"array\",\"tickvals\":[250750799.0,425879999.0,546839999.0,638945999.0,778391999.0,836193599.0,897537599.0,949726799.0,986961599.0,1018411199.0,1046494799.0,1072241999.0,1099285199.0,1123041599.0,1146196799.0,1167627599.0,1188619199.0,1209009599.0,1225947599.0,1245729599.0,1264136399.0,1282622399.0,1300161599.0,1332302399.0,1362200399.0,1389761999.0,1414900799.0,1439697599.0,1463716799.0,1487393999.0,1510376399.0,1532750399.0,1554177599.0,1574053199.0,1592711999.0,1609477200.0],\"ticktext\":[\"1977-12-11\",\"1983-6-30\",\"1987-4-30\",\"1990-3-31\",\"1994-8-31\",\"1996-6-30\",\"1998-6-10\",\"2000-2-4\",\"2001-4-10\",\"2002-4-9\",\"2003-2-28\",\"2003-12-23\",\"2004-10-31\",\"2005-8-2\",\"2006-4-27\",\"2006-12-31\",\"2007-8-31\",\"2008-4-23\",\"2008-11-5\",\"2009-6-22\",\"2010-1-21\",\"2010-8-23\",\"2011-3-14\",\"2012-3-20\",\"2013-3-1\",\"2014-1-14\",\"2014-11-1\",\"2015-8-15\",\"2016-5-19\",\"2017-2-17\",\"2017-11-10\",\"2018-7-27\",\"2019-4-1\",\"2019-11-17\",\"2020-6-20\",\"2021-1-1\"],\"tickangle\":-60},\"yaxis\":{\"showgrid\":true,\"title\":{\"text\":\"Frequency\"}},\"title\":{\"font\":{\"size\":22,\"color\":\"Black\"},\"text\":\"<b>Topic(s): 2\",\"y\":0.95,\"x\":0.4,\"xanchor\":\"center\",\"yanchor\":\"top\"},\"hoverlabel\":{\"font\":{\"size\":16,\"family\":\"Rockwell\"},\"bgcolor\":\"white\"},\"width\":1000,\"height\":400,\"legend\":{\"title\":{\"text\":\"<b>Global Topic Representation\"}},\"shapes\":[{\"line\":{\"color\":\"red\",\"dash\":\"dot\",\"width\":3},\"type\":\"line\",\"x0\":315550800.0,\"x1\":315550800.0,\"y0\":0,\"y1\":55.650000000000006},{\"line\":{\"color\":\"red\",\"dash\":\"dot\",\"width\":3},\"type\":\"line\",\"x0\":631170000.0,\"x1\":631170000.0,\"y0\":0,\"y1\":55.650000000000006},{\"line\":{\"color\":\"red\",\"dash\":\"dot\",\"width\":3},\"type\":\"line\",\"x0\":946702800.0,\"x1\":946702800.0,\"y0\":0,\"y1\":55.650000000000006},{\"line\":{\"color\":\"red\",\"dash\":\"dot\",\"width\":3},\"type\":\"line\",\"x0\":1262322000.0,\"x1\":1262322000.0,\"y0\":0,\"y1\":55.650000000000006}]},                        {\"responsive\": true}                    ).then(function(){\n",
       "                            \n",
       "var gd = document.getElementById('fbe6f6f0-f2fa-40f0-b310-49d59b5f2101');\n",
       "var x = new MutationObserver(function (mutations, observer) {{\n",
       "        var display = window.getComputedStyle(gd).display;\n",
       "        if (!display || display === 'none') {{\n",
       "            console.log([gd, 'removed!']);\n",
       "            Plotly.purge(gd);\n",
       "            observer.disconnect();\n",
       "        }}\n",
       "}});\n",
       "\n",
       "// Listen for the removal of the full notebook cells\n",
       "var notebookContainer = gd.closest('#notebook-container');\n",
       "if (notebookContainer) {{\n",
       "    x.observe(notebookContainer, {childList: true});\n",
       "}}\n",
       "\n",
       "// Listen for the clearing of the current output cell\n",
       "var outputEl = gd.closest('.output');\n",
       "if (outputEl) {{\n",
       "    x.observe(outputEl, {childList: true});\n",
       "}}\n",
       "\n",
       "                        })                };                });            </script>        </div>"
      ]
     },
     "metadata": {},
     "output_type": "display_data"
    }
   ],
   "source": [
    "fig"
   ]
  },
  {
   "cell_type": "code",
   "execution_count": 63,
   "metadata": {},
   "outputs": [
    {
     "name": "stderr",
     "output_type": "stream",
     "text": [
      "100%|██████████| 90/90 [00:18<00:00,  4.81it/s]\n"
     ]
    }
   ],
   "source": [
    "# Go through all topics\n",
    "for topic in tqdm(range(0,90)):\n",
    "  visualize_tot_mod(topic_model, topics_over_time, topics=[topic])"
   ]
  },
  {
   "cell_type": "markdown",
   "metadata": {},
   "source": [
    "## ___Topic representation heatmap___"
   ]
  },
  {
   "cell_type": "markdown",
   "metadata": {},
   "source": [
    "### Process topic frequency over time\n",
    "\n",
    "- Get the unique topics from topics_over_time.Topic.unique()\n",
    "  - I assumed that it would be sorted. Turned out that it is NOT. Fixed.\n",
    "- Create a nested list where each element is a list of frequencies for a topic\n",
    "  - The outlier cluster is excluded.\n",
    "- Problem with outlier frequency\n",
    "  -  If I use clustermap's standard_scale parameter, the heatmap for some topics, (57, 75, 76, 54, 73) are not useful because there is a large outlier driven all other values to be small so use sklearn's function instead.\n",
    "  - The problem is though, the most useful methods against outliers transform the data so the shape of distribution changes. The heatmap is not particularly useful.\n",
    "  - Compromise, for the 5 topics listed above, the max value is set to be 120% of the 2nd highest values.\n",
    "- Problem with NA\n",
    "  - Some time points there are no data: replace NA with 0."
   ]
  },
  {
   "cell_type": "code",
   "execution_count": 71,
   "metadata": {},
   "outputs": [
    {
     "data": {
      "text/plain": [
       "array([-1,  0,  1,  2,  3,  4,  5,  6,  7,  8,  9, 10, 11, 12, 13, 14, 15,\n",
       "       16, 17, 18, 19, 20, 21, 22, 23, 24, 25, 26, 27, 28, 29, 30, 31, 32,\n",
       "       33, 34, 35, 36, 37, 38, 39, 40, 41, 42, 43, 44, 45, 46, 47, 48, 49,\n",
       "       50, 51, 52, 53, 54, 55, 56, 57, 58, 59, 60, 61, 62, 63, 64, 65, 66,\n",
       "       67, 68, 69, 70, 71, 72, 73, 74, 75, 76, 77, 78, 79, 80, 81, 82, 83,\n",
       "       84, 85, 86, 87, 88, 89])"
      ]
     },
     "execution_count": 71,
     "metadata": {},
     "output_type": "execute_result"
    }
   ],
   "source": [
    "# Sort unique topics\n",
    "tocs = topics_over_time.Topic.unique()\n",
    "tocs.sort()\n",
    "tocs"
   ]
  },
  {
   "cell_type": "code",
   "execution_count": 72,
   "metadata": {},
   "outputs": [],
   "source": [
    "# Create a nested list where each element is a list of frequencies for a topic\n",
    "# The outlier cluster is excluded.\n",
    "tot_freq = []\n",
    "toc_outlier_modify = [57, 75, 76, 54, 73]\n",
    "for topic in tocs[1:]:\n",
    "\n",
    "  # topics_over_time sub-dataframe for a topic\n",
    "  toc_data = topics_over_time.loc[topics_over_time.Topic == topic, :]\n",
    "  # timestamps\n",
    "  tss      = toc_data.Timestamp.values.tolist()\n",
    "  # frequency for each timestamp\n",
    "  freq = toc_data.Frequency.values.tolist()\n",
    "  # Deal with max values in the five topics specified\n",
    "  if topic in toc_outlier_modify:\n",
    "    # index of max value\n",
    "    idx_max    = freq.index(max(freq))\n",
    "    # create a new list and remove the max value\n",
    "    freq_copy = freq.copy()\n",
    "    freq_copy.remove(max(freq))\n",
    "    # index of the second max value\n",
    "    idx_2ndmax = freq_copy.index(max(freq_copy))\n",
    "    # set max value to 120% of the 2nd max value\n",
    "    freq[idx_max] = freq[idx_2ndmax]*1.2\n",
    "\n",
    "  # turn freq into a 2D array of shape (1, len(freq)), \n",
    "  freq = np.reshape(freq, (1, len(freq)))\n",
    "  # min-max scale freq and get the 1d array back\n",
    "  freq = minmax_scale(freq, axis=1)[0]\n",
    "\n",
    "  # Check if all 50 timestamp bins are present, if not, fill in zero.\n",
    "  freq_50  = []\n",
    "  for ts in ts_unique:\n",
    "    if ts in tss:\n",
    "      idx = tss.index(ts)\n",
    "      freq_50.append(freq[idx])\n",
    "    else:\n",
    "      freq_50.append(0)\n",
    "\n",
    "  tot_freq.append(freq_50)\n",
    "#len(tot_freq), len(tot_freq[0])"
   ]
  },
  {
   "cell_type": "code",
   "execution_count": 73,
   "metadata": {},
   "outputs": [
    {
     "data": {
      "text/plain": [
       "0"
      ]
     },
     "execution_count": 73,
     "metadata": {},
     "output_type": "execute_result"
    }
   ],
   "source": [
    "# Make a dataframe\n",
    "tot_freq_df = pd.DataFrame(tot_freq, \n",
    "                           columns=ts_unique)\n",
    "\n",
    "# check if there is missing data still.\n",
    "tot_freq_df.isnull().sum().sum()"
   ]
  },
  {
   "cell_type": "markdown",
   "metadata": {},
   "source": [
    "### Plot heatmap"
   ]
  },
  {
   "cell_type": "code",
   "execution_count": 79,
   "metadata": {},
   "outputs": [
    {
     "data": {
      "text/plain": [
       "(array([2.50750799e+08, 4.25879999e+08, 5.46839999e+08, 6.38945999e+08,\n",
       "        7.78391999e+08, 8.36193599e+08, 8.97537599e+08, 9.49726799e+08,\n",
       "        9.86961599e+08, 1.01841120e+09, 1.04649480e+09, 1.07224200e+09,\n",
       "        1.09928520e+09, 1.12304160e+09, 1.14619680e+09, 1.16762760e+09,\n",
       "        1.18861920e+09, 1.20900960e+09, 1.22594760e+09, 1.24572960e+09,\n",
       "        1.26413640e+09, 1.28262240e+09, 1.30016160e+09, 1.31614560e+09,\n",
       "        1.33230240e+09, 1.34733600e+09, 1.36220040e+09, 1.37593440e+09,\n",
       "        1.38976200e+09, 1.40220000e+09, 1.41490080e+09, 1.42734240e+09,\n",
       "        1.43969760e+09, 1.45197000e+09, 1.46371680e+09, 1.47589920e+09,\n",
       "        1.48739400e+09, 1.49896800e+09, 1.51037640e+09, 1.52186400e+09,\n",
       "        1.53275040e+09, 1.54398600e+09, 1.55417760e+09, 1.56402720e+09,\n",
       "        1.57405320e+09, 1.58355720e+09, 1.59271200e+09, 1.60143840e+09,\n",
       "        1.60947720e+09]),\n",
       " array([2.50750799e+08, 4.25879999e+08, 5.46839999e+08, 6.38945999e+08,\n",
       "        7.12641599e+08, 7.78391999e+08, 8.36193599e+08, 8.97537599e+08,\n",
       "        9.49726799e+08, 9.86961599e+08, 1.01841120e+09, 1.04649480e+09,\n",
       "        1.07224200e+09, 1.09928520e+09, 1.12304160e+09, 1.14619680e+09,\n",
       "        1.16762760e+09, 1.18861920e+09, 1.20900960e+09, 1.22594760e+09,\n",
       "        1.24572960e+09, 1.26413640e+09, 1.28262240e+09, 1.30016160e+09,\n",
       "        1.31614560e+09, 1.33230240e+09, 1.34733600e+09, 1.36220040e+09,\n",
       "        1.37593440e+09, 1.38976200e+09, 1.40220000e+09, 1.41490080e+09,\n",
       "        1.42734240e+09, 1.43969760e+09, 1.45197000e+09, 1.46371680e+09,\n",
       "        1.47589920e+09, 1.48739400e+09, 1.49896800e+09, 1.51037640e+09,\n",
       "        1.52186400e+09, 1.53275040e+09, 1.54398600e+09, 1.55417760e+09,\n",
       "        1.56402720e+09, 1.57405320e+09, 1.58355720e+09, 1.59271200e+09,\n",
       "        1.60143840e+09, 1.60947720e+09]))"
      ]
     },
     "execution_count": 79,
     "metadata": {},
     "output_type": "execute_result"
    }
   ],
   "source": [
    "np.asarray(unique_tss), ts_unique"
   ]
  },
  {
   "cell_type": "code",
   "execution_count": 80,
   "metadata": {},
   "outputs": [],
   "source": [
    "# Get the dates of unique timestamps to label y-axis\n",
    "ts_unique_dts = [datetime.fromtimestamp(ts) for ts in ts_unique]\n",
    "ts_unique_dts = [f\"{dt.year}-{dt.month}-{dt.day}\" for dt in ts_unique_dts]"
   ]
  },
  {
   "cell_type": "code",
   "execution_count": 81,
   "metadata": {},
   "outputs": [],
   "source": [
    "# xtick location:\n",
    "#https://stackoverflow.com/questions/49420563/how-can-i-move-the-xlabel-to-the-top\n",
    "# does not work\n",
    "\n",
    "# Resize\n",
    "#https://www.delftstack.com/howto/seaborn/size-of-seaborn-heatmap/\n",
    "# The 1st two solutions do not work \n",
    "\n",
    "# Customize color bar\n",
    "#https://stackoverflow.com/questions/67909597/seaborn-clustermap-colorbar-adjustment\n",
    "\n",
    "def plot_clustermap(df, xticklabels, cmap):\n",
    "\n",
    "  # color bar parameters: cannot get the dimension right\n",
    "  #kws = dict(cbar_kws=dict(ticks=[0, 0.25, 0.5, 0.75, 1], \n",
    "  #           orientation='horizontal'), figsize=(6, 6))\n",
    "  methods = [\"single\", \"complete\", \"average\", \"weighted\", \"centroid\", \"median\", \n",
    "           \"ward\"]\n",
    "  \n",
    "  for method in methods:\n",
    "    # Originally have:\n",
    "    # standard_scale=0: not used, normalize before hand. \n",
    "    # **kws: was used to manipulate colormap, but didn't seem to work.\n",
    "    cgrid = sns.clustermap(df, cmap=cmap, \n",
    "                          row_cluster=True, col_cluster=False,\n",
    "                          method=method,\n",
    "                          xticklabels=xticklabels,\n",
    "                          yticklabels=True)\n",
    "    # Set size  \n",
    "    plt.gcf().set_size_inches(10, 18)\n",
    "\n",
    "    # Create heatmap plot folder for the specific method\n",
    "    tot_heatmap_dir = work_dir / f\"tot_heatmaps_{cmap}\"\n",
    "    tot_heatmap_dir.mkdir(parents=True, exist_ok=True)\n",
    "\n",
    "    # Save the heatmap\n",
    "    cgrid.savefig(tot_heatmap_dir / f'fig4_4_tot_heatmap_{method}_no_globaltune.pdf')\n",
    "    # Save the row order\n",
    "    order_idx = cgrid.dendrogram_row.reordered_ind\n",
    "    order_idx = [str(idx) for idx in order_idx]\n",
    "\n",
    "    with open(tot_heatmap_dir / f'fig4_4_tot_heatmap_{method}_index_no_globaltune.txt', \"w\") as f:\n",
    "      f.write(\",\".join(order_idx))\n",
    "\n",
    "    plt.close() # prevent image from showing"
   ]
  },
  {
   "cell_type": "code",
   "execution_count": 82,
   "metadata": {},
   "outputs": [],
   "source": [
    "plot_clustermap(tot_freq_df, ts_unique_dts, \"RdPu\")"
   ]
  },
  {
   "cell_type": "code",
   "execution_count": 83,
   "metadata": {},
   "outputs": [],
   "source": [
    "plot_clustermap(tot_freq_df, ts_unique_dts, \"coolwarm\")\n",
    "plot_clustermap(tot_freq_df, ts_unique_dts, \"icefire\")\n",
    "plot_clustermap(tot_freq_df, ts_unique_dts, \"viridis\")"
   ]
  },
  {
   "cell_type": "markdown",
   "metadata": {},
   "source": [
    "## ___Heatmap with scaled cell size___\n",
    "\n",
    "Based on the weighted heatmap"
   ]
  },
  {
   "cell_type": "markdown",
   "metadata": {},
   "source": [
    "### Setup x ticks and labels: 1st try\n",
    "\n",
    "First try: setting the bound using mid-point values:\n",
    "- This create plots that are of different range from the line plots generated above.\n",
    "- No good.\n"
   ]
  },
  {
   "cell_type": "code",
   "execution_count": 92,
   "metadata": {},
   "outputs": [
    {
     "data": {
      "text/plain": [
       "(250750799.0, 425879999.0, 175129200.0, 338315399.0, numpy.ndarray, 50)"
      ]
     },
     "execution_count": 92,
     "metadata": {},
     "output_type": "execute_result"
    }
   ],
   "source": [
    "# Testing bound\n",
    "# ts0, ts1\n",
    "ts0 = ts_unique[0]\n",
    "ts1 = ts_unique[1]\n",
    "# points, length, mid-point\n",
    "ts0, ts1, ts1-ts0, (ts1-ts0)/2 + ts0, type(ts_unique), len(ts_unique)"
   ]
  },
  {
   "cell_type": "code",
   "execution_count": 90,
   "metadata": {},
   "outputs": [
    {
     "data": {
      "text/plain": [
       "((49,), array([3.38315399e+08, 4.86359999e+08]))"
      ]
     },
     "execution_count": 90,
     "metadata": {},
     "output_type": "execute_result"
    }
   ],
   "source": [
    "# Midpoints for the x-axis\n",
    "midpointsX = (ts_unique[:-1] + ts_unique[1:]) / 2\n",
    "midpointsX.shape, midpointsX[:2]"
   ]
  },
  {
   "cell_type": "code",
   "execution_count": 91,
   "metadata": {},
   "outputs": [
    {
     "data": {
      "text/plain": [
       "((51,),\n",
       " array([1.90270799e+08, 3.38315399e+08, 4.86359999e+08, 5.92892999e+08,\n",
       "        6.75793799e+08, 7.45516799e+08, 8.07292799e+08, 8.66865599e+08,\n",
       "        9.23632199e+08, 9.68344199e+08, 1.00268640e+09, 1.03245300e+09,\n",
       "        1.05936840e+09, 1.08576360e+09, 1.11116340e+09, 1.13461920e+09,\n",
       "        1.15691220e+09, 1.17812340e+09, 1.19881440e+09, 1.21747860e+09,\n",
       "        1.23583860e+09, 1.25493300e+09, 1.27337940e+09, 1.29139200e+09,\n",
       "        1.30815360e+09, 1.32422400e+09, 1.33981920e+09, 1.35476820e+09,\n",
       "        1.36906740e+09, 1.38284820e+09, 1.39598100e+09, 1.40855040e+09,\n",
       "        1.42112160e+09, 1.43352000e+09, 1.44583380e+09, 1.45784340e+09,\n",
       "        1.46980800e+09, 1.48164660e+09, 1.49318100e+09, 1.50467220e+09,\n",
       "        1.51612020e+09, 1.52730720e+09, 1.53836820e+09, 1.54908180e+09,\n",
       "        1.55910240e+09, 1.56904020e+09, 1.57880520e+09, 1.58813460e+09,\n",
       "        1.59707520e+09, 1.60545780e+09, 1.61384040e+09]))"
      ]
     },
     "execution_count": 91,
     "metadata": {},
     "output_type": "execute_result"
    }
   ],
   "source": [
    "\n",
    "# Bounds for the x axis defined based on mid-points\n",
    "boundsX = np.concatenate([[2*midpointsX[0]-midpointsX[1]], \n",
    "                         midpointsX, \n",
    "                         [2*midpointsX[-1]-midpointsX[-2]]])\n",
    "boundsX.shape, boundsX"
   ]
  },
  {
   "cell_type": "markdown",
   "metadata": {},
   "source": [
    "### Setup x ticks and labels: 2nd try\n",
    "\n",
    "Use the `ts_unique` list. Considerations:\n",
    "- `ts_unique` has 50 values start with the end point of the 1st bin (1971-11-1).\n",
    "- Need 51 values to specify 50 bins.\n",
    "- So need add a value to represent the beginning time (use 1971-1-1 to make the cell not so big)."
   ]
  },
  {
   "cell_type": "code",
   "execution_count": 102,
   "metadata": {},
   "outputs": [
    {
     "data": {
      "text/plain": [
       "50"
      ]
     },
     "execution_count": 102,
     "metadata": {},
     "output_type": "execute_result"
    }
   ],
   "source": [
    "len(ts_unique)"
   ]
  },
  {
   "cell_type": "code",
   "execution_count": 108,
   "metadata": {},
   "outputs": [
    {
     "data": {
      "text/plain": [
       "51"
      ]
     },
     "execution_count": 108,
     "metadata": {},
     "output_type": "execute_result"
    }
   ],
   "source": [
    "ts_begin = datetime(1971, 1, 1).timestamp()\n",
    "boundsX  = np.insert(ts_unique, 0, ts_begin)\n",
    "len(boundsX)"
   ]
  },
  {
   "cell_type": "markdown",
   "metadata": {},
   "source": [
    "### Setup y ticks and labels"
   ]
  },
  {
   "cell_type": "code",
   "execution_count": 94,
   "metadata": {},
   "outputs": [],
   "source": [
    "# For y-axis\n",
    "toc_nooutlier = np.arange(90)\n",
    "midpointsY = (toc_nooutlier[:-1] + toc_nooutlier[1:]) / 2\n",
    "boundsY    = np.concatenate([[2*midpointsY[0]-midpointsY[1]], \n",
    "                            midpointsY, \n",
    "                            [2*midpointsY[-1]-midpointsY[-2]]])"
   ]
  },
  {
   "cell_type": "code",
   "execution_count": 95,
   "metadata": {},
   "outputs": [],
   "source": [
    "# xtick labels\n",
    "xticklabels = [\"1917-1-1\"] + ts_unique_dts"
   ]
  },
  {
   "cell_type": "code",
   "execution_count": 96,
   "metadata": {},
   "outputs": [
    {
     "name": "stdout",
     "output_type": "stream",
     "text": [
      "[61, 32, 54, 80, 87, 46, 26, 27, 34, 25, 11, 41, 33, 24, 72, 30, 16, 60, 73, 74, 59, 67, 15, 86, 89, 29, 88, 78, 10, 69, 21, 75, 17, 65, 8, 6, 13, 64, 9, 83, 28, 31, 42, 36, 70, 19, 84, 55, 79, 85, 53, 43, 2, 14, 23, 82, 57, 40, 71, 3, 68, 77, 58, 4, 81, 56, 51, 38, 39, 20, 62, 12, 49, 50, 76, 0, 35, 37, 63, 1, 47, 48, 66, 5, 7, 44, 45, 52, 18, 22]\n"
     ]
    }
   ],
   "source": [
    "# topic names ordered in the weighted heatmap\n",
    "tot_heatmap_RdPu_dir = work_dir / \"tot_heatmaps_RdPu\"\n",
    "idx_file = tot_heatmap_RdPu_dir / \\\n",
    "                      f'fig4_4_tot_heatmap_weighted_index_no_globaltune.txt'\n",
    "with open(idx_file, \"r\") as f:\n",
    "  idxs = [int(idx) for idx in f.readline().split(\",\")]\n",
    "\n",
    "# Set yticklabel names\n",
    "yticklabels = [str(i) for i in idxs]\n",
    "\n",
    "print(idxs)"
   ]
  },
  {
   "cell_type": "code",
   "execution_count": 97,
   "metadata": {},
   "outputs": [],
   "source": [
    "# Reorder y-axis\n",
    "tot_freq_df_reordered = tot_freq_df.reindex(idxs)"
   ]
  },
  {
   "cell_type": "code",
   "execution_count": 99,
   "metadata": {},
   "outputs": [
    {
     "data": {
      "text/plain": [
       "(90, 50)"
      ]
     },
     "execution_count": 99,
     "metadata": {},
     "output_type": "execute_result"
    }
   ],
   "source": [
    "tot_freq_df_reordered.shape"
   ]
  },
  {
   "cell_type": "markdown",
   "metadata": {},
   "source": [
    "### Generate scaled heatmap"
   ]
  },
  {
   "cell_type": "code",
   "execution_count": 109,
   "metadata": {},
   "outputs": [
    {
     "data": {
      "image/png": "[encoded data removed]",
      "text/plain": [
       "<Figure size 720x1296 with 2 Axes>"
      ]
     },
     "metadata": {
      "needs_background": "light"
     },
     "output_type": "display_data"
    }
   ],
   "source": [
    "# Plotting\n",
    "fig, ax = plt.subplots(figsize=(10,18))\n",
    "plot = ax.pcolormesh(boundsX, boundsY, tot_freq_df_reordered, cmap=\"RdPu\")\n",
    "ax.set_xticks(boundsX)\n",
    "ax.set_xticklabels(xticklabels, rotation=90)\n",
    "ax.set_yticks(np.arange(len(idxs)))\n",
    "ax.set_yticklabels(yticklabels)\n",
    "ax.grid(False)\n",
    "fig.colorbar(plot)\n",
    "plt.savefig(work_dir / 'fig4_4_tot_heatmap_weighted_xscaled_no_globaltune.pdf')\n",
    "plt.show()\n"
   ]
  },
  {
   "cell_type": "markdown",
   "metadata": {},
   "source": [
    "### Get modified names orderd based on the scaled heatmap"
   ]
  },
  {
   "cell_type": "code",
   "execution_count": 110,
   "metadata": {},
   "outputs": [],
   "source": [
    "# Set yticklabels based on modified names\n",
    "toc_mod_names = pd.read_csv(toc_mod_name_file, names=[\"Topic\", \"Mod_name\"], \n",
    "                            sep='\\t')"
   ]
  },
  {
   "cell_type": "code",
   "execution_count": 111,
   "metadata": {},
   "outputs": [
    {
     "data": {
      "text/html": [
       "<div>\n",
       "<style scoped>\n",
       "    .dataframe tbody tr th:only-of-type {\n",
       "        vertical-align: middle;\n",
       "    }\n",
       "\n",
       "    .dataframe tbody tr th {\n",
       "        vertical-align: top;\n",
       "    }\n",
       "\n",
       "    .dataframe thead th {\n",
       "        text-align: right;\n",
       "    }\n",
       "</style>\n",
       "<table border=\"1\" class=\"dataframe\">\n",
       "  <thead>\n",
       "    <tr style=\"text-align: right;\">\n",
       "      <th></th>\n",
       "      <th>Mod_name</th>\n",
       "    </tr>\n",
       "    <tr>\n",
       "      <th>Topic</th>\n",
       "      <th></th>\n",
       "    </tr>\n",
       "  </thead>\n",
       "  <tbody>\n",
       "    <tr>\n",
       "      <th>-1</th>\n",
       "      <td>cell | expression | gene | protein</td>\n",
       "    </tr>\n",
       "    <tr>\n",
       "      <th>13</th>\n",
       "      <td>mirna | rnas | micrornas | target | lncrnas</td>\n",
       "    </tr>\n",
       "    <tr>\n",
       "      <th>21</th>\n",
       "      <td>circadian clock | rhythms | flowering | arabid...</td>\n",
       "    </tr>\n",
       "  </tbody>\n",
       "</table>\n",
       "</div>"
      ],
      "text/plain": [
       "                                                Mod_name\n",
       "Topic                                                   \n",
       "-1                    cell | expression | gene | protein\n",
       " 13          mirna | rnas | micrornas | target | lncrnas\n",
       " 21    circadian clock | rhythms | flowering | arabid..."
      ]
     },
     "execution_count": 111,
     "metadata": {},
     "output_type": "execute_result"
    }
   ],
   "source": [
    "# Sort toc_mod_names based on the topic name indices\n",
    "#https://stackoverflow.com/questions/26202926/sorting-a-pandas-dataframe-by-the-order-of-a-list\n",
    "toc_mod_names = toc_mod_names.set_index('Topic')\n",
    "toc_mod_names.head(3)"
   ]
  },
  {
   "cell_type": "code",
   "execution_count": 112,
   "metadata": {},
   "outputs": [
    {
     "data": {
      "text/html": [
       "<div>\n",
       "<style scoped>\n",
       "    .dataframe tbody tr th:only-of-type {\n",
       "        vertical-align: middle;\n",
       "    }\n",
       "\n",
       "    .dataframe tbody tr th {\n",
       "        vertical-align: top;\n",
       "    }\n",
       "\n",
       "    .dataframe thead th {\n",
       "        text-align: right;\n",
       "    }\n",
       "</style>\n",
       "<table border=\"1\" class=\"dataframe\">\n",
       "  <thead>\n",
       "    <tr style=\"text-align: right;\">\n",
       "      <th></th>\n",
       "      <th>Mod_name</th>\n",
       "    </tr>\n",
       "    <tr>\n",
       "      <th>Topic</th>\n",
       "      <th></th>\n",
       "    </tr>\n",
       "  </thead>\n",
       "  <tbody>\n",
       "    <tr>\n",
       "      <th>13</th>\n",
       "      <td>mirna | rnas | micrornas | target | lncrnas</td>\n",
       "    </tr>\n",
       "    <tr>\n",
       "      <th>21</th>\n",
       "      <td>circadian clock | rhythms | flowering | arabid...</td>\n",
       "    </tr>\n",
       "  </tbody>\n",
       "</table>\n",
       "</div>"
      ],
      "text/plain": [
       "                                                Mod_name\n",
       "Topic                                                   \n",
       "13           mirna | rnas | micrornas | target | lncrnas\n",
       "21     circadian clock | rhythms | flowering | arabid..."
      ]
     },
     "execution_count": 112,
     "metadata": {},
     "output_type": "execute_result"
    }
   ],
   "source": [
    "# Drop outlier topic: don't really need to do this since in the next step, the\n",
    "# outlier topic index is not there. But just for the sake of being safe...\n",
    "#https://www.freecodecamp.org/news/drop-list-of-rows-from-pandas-dataframe/\n",
    "toc_mod_names.drop([-1], axis=0, inplace=True)\n",
    "toc_mod_names.head(2)"
   ]
  },
  {
   "cell_type": "code",
   "execution_count": 114,
   "metadata": {},
   "outputs": [
    {
     "data": {
      "text/plain": [
       "(                                       Mod_name\n",
       " Topic                                          \n",
       " 22     enzyme | fatty acids | lipid | synthesis\n",
       " 18       protein | dna | rna | synthesis | mrna,\n",
       "                                             Mod_name\n",
       " Topic                                               \n",
       " 32     nodules | genes | strain | mutant | virulence\n",
       " 61       qtl | resistance | wheat | markers | traits)"
      ]
     },
     "execution_count": 114,
     "metadata": {},
     "output_type": "execute_result"
    }
   ],
   "source": [
    "idxs_rev = idxs.copy()\n",
    "idxs_rev.reverse()\n",
    "toc_mod_names_ordered = toc_mod_names.loc[idxs_rev]\n",
    "toc_mod_names_ordered.head(2), toc_mod_names_ordered.tail(2)"
   ]
  },
  {
   "cell_type": "code",
   "execution_count": 115,
   "metadata": {},
   "outputs": [],
   "source": [
    "toc_mod_names_ordered.to_csv( work_dir / \\\n",
    "      'fig4_4_tot_heatmap_weighted_xscaled_names_no_globaltune.txt', sep='\\t')"
   ]
  },
  {
   "cell_type": "markdown",
   "metadata": {},
   "source": [
    "## ___Detect transition___\n",
    "\n",
    "This is to ask the question whether there is distinct transition points for the topics. Did not work well."
   ]
  },
  {
   "cell_type": "markdown",
   "metadata": {},
   "source": [
    "### Define sigmoid function and test\n",
    "\n",
    "- Do this by fitting a sigmoidal function to the relative freq values of each topic.\n",
    "- This does not work well\n",
    "- See [this post](https://stackoverflow.com/questions/48506782/scipy-curve-fit-how-to-plot-the-fitted-curve-beyond-the-data-points) for the function.\n"
   ]
  },
  {
   "cell_type": "code",
   "execution_count": 573,
   "metadata": {},
   "outputs": [],
   "source": [
    "def sigmoid(x, L ,x0, k, b):\n",
    "    y = L / (1 + np.exp(-k*(x-x0))) + b\n",
    "    return (y)"
   ]
  },
  {
   "cell_type": "code",
   "execution_count": 582,
   "metadata": {},
   "outputs": [
    {
     "name": "stderr",
     "output_type": "stream",
     "text": [
      "/tmp/ipykernel_6789/2071294383.py:2: RuntimeWarning:\n",
      "\n",
      "overflow encountered in exp\n",
      "\n",
      "/tmp/ipykernel_6789/2071294383.py:2: RuntimeWarning:\n",
      "\n",
      "overflow encountered in exp\n",
      "\n"
     ]
    },
    {
     "data": {
      "image/png": "[encoded data removed]",
      "text/plain": [
       "<Figure size 432x432 with 1 Axes>"
      ]
     },
     "metadata": {},
     "output_type": "display_data"
    }
   ],
   "source": [
    "# Testing\n",
    "xdata = ts_unique\n",
    "ydata = tot_freq_df_reordered.iloc[1]\n",
    "\n",
    "p0 = [max(ydata), np.median(xdata),1,min(ydata)]\n",
    "popt, pcov = curve_fit(sigmoid, xdata, ydata,p0, method='dogbox')\n",
    "\n",
    "x_fit = np.linspace(xdata[0], xdata[-1], 100)\n",
    "\n",
    "plt.figure(figsize=(6,6))\n",
    "plt.plot(xdata, ydata, 'o', label='data')\n",
    "plt.plot(x_fit, sigmoid(x_fit, *popt), '-', label='Fit')\n",
    "plt.xlabel(\"Timestamps\")\n",
    "plt.ylabel(\"Relative frequency\")\n",
    "plt.show()"
   ]
  },
  {
   "cell_type": "markdown",
   "metadata": {},
   "source": [
    "### Define absolute intertopic distance\n",
    "\n",
    "Idea is that there should be positive abs. distances before transition, near zero at transition point, and positive abs. distances again after transition. \n",
    "- This does not work either.\n"
   ]
  },
  {
   "cell_type": "code",
   "execution_count": 592,
   "metadata": {},
   "outputs": [
    {
     "name": "stderr",
     "output_type": "stream",
     "text": [
      "100%|██████████| 90/90 [00:00<00:00, 7409.70it/s]\n"
     ]
    },
    {
     "data": {
      "image/png": "[encoded data removed]",
      "text/plain": [
       "<Figure size 432x432 with 1 Axes>"
      ]
     },
     "metadata": {},
     "output_type": "display_data"
    }
   ],
   "source": [
    "# Testing\n",
    "ts_idx = 0\n",
    "freqs  = tot_freq_df.iloc[:, ts_idx]\n",
    "dist_L = []\n",
    "for i in tqdm(range(len(ts0))):\n",
    "  for j in range(i+i, len(ts0)):\n",
    "    dist_L.append(abs(ts0[i]-ts0[j]))\n",
    "\n",
    "plt.figure(figsize=(6,6))\n",
    "plt.violinplot(dist_L, showmedians=True)\n",
    "plt.show()"
   ]
  },
  {
   "cell_type": "code",
   "execution_count": 596,
   "metadata": {},
   "outputs": [
    {
     "name": "stderr",
     "output_type": "stream",
     "text": [
      "100%|██████████| 50/50 [00:00<00:00, 87.41it/s]\n"
     ]
    }
   ],
   "source": [
    "all_dist_L = []\n",
    "for ts in tqdm(range(len(ts_unique))):\n",
    "  freqs  = tot_freq_df.iloc[:,ts]\n",
    "  dist_L = []\n",
    "  for i in range(len(ts0)):\n",
    "    for j in range(i+i, len(ts0)):\n",
    "      dist_L.append(abs(ts0[i]-ts0[j]))\n",
    "  all_dist_L.append(dist_L)"
   ]
  },
  {
   "cell_type": "code",
   "execution_count": 599,
   "metadata": {},
   "outputs": [
    {
     "data": {
      "image/png": "[encoded data removed]",
      "text/plain": [
       "<Figure size 864x432 with 1 Axes>"
      ]
     },
     "metadata": {},
     "output_type": "display_data"
    }
   ],
   "source": [
    "\n",
    "plt.figure(figsize=(12,6))\n",
    "plt.violinplot(all_dist_L, widths=0.7, showmedians=True)\n",
    "plt.show()"
   ]
  },
  {
   "cell_type": "markdown",
   "metadata": {},
   "source": [
    "## Specific topic over time"
   ]
  },
  {
   "cell_type": "markdown",
   "metadata": {},
   "source": [
    "### Function to get terms-timestamps heatmap"
   ]
  },
  {
   "cell_type": "code",
   "execution_count": 162,
   "metadata": {},
   "outputs": [],
   "source": [
    "def terms_tss_heatmap(topic, redun_terms={}):\n",
    "  # Get a dataframe for all data in topics_over_time for the topic of interest\n",
    "  data = topics_over_time.loc[\n",
    "    topics_over_time.Topic.isin([topic]), :].sort_values([\"Topic\", \"Timestamp\"])\n",
    "    \n",
    "  # Put top terms at different timestamps into a matrix\n",
    "  toc_terms = data['Words']\n",
    "  toc_tss   = data['Timestamp']\n",
    "\n",
    "  # get all terms and put them in a dictionary\n",
    "  toc_terms_all = {} # {term: count}\n",
    "  for terms in toc_terms:\n",
    "    terms_list = terms.split(\", \")\n",
    "    for term in terms_list:\n",
    "      # Ignore number terms\n",
    "      if (not term.isnumeric() and term != 'plant') or term == '1433':\n",
    "        # replace the current term\n",
    "        if term in redun_terms:\n",
    "          term = redun_terms[term]\n",
    "\n",
    "        if term not in toc_terms_all:\n",
    "          toc_terms_all[term] = 1\n",
    "        else:\n",
    "          toc_terms_all[term]+= 1\n",
    "  \n",
    "  # Construct term-tss dictionary to count term frequency\n",
    "  terms_tss = {}  # {ts:{term:1}}\n",
    "  for idx, ts in enumerate(toc_tss):\n",
    "    toc_terms_list = toc_terms.iloc[idx].split(\", \")\n",
    "    terms_tss[ts]  = {}\n",
    "    for term in toc_terms_all:\n",
    "      if term in toc_terms_list:\n",
    "        terms_tss[ts][term] = 1\n",
    "      else:\n",
    "        terms_tss[ts][term] = 0\n",
    "\n",
    "  # deal with situation when some timestamp does not exist\n",
    "    # Check if all 50 timestamp bins are present, if not, fill in zero.\n",
    "  for ts in ts_unique:\n",
    "    if ts not in terms_tss:\n",
    "      print(\"missing\", ts, datetime.fromtimestamp(ts))\n",
    "      terms_tss[ts] = {}\n",
    "      for term in toc_terms_all:\n",
    "        terms_tss[ts][term] = 0\n",
    "\n",
    "  # Construct terms-timestamps dataframe: \n",
    "  terms_tss_df = pd.DataFrame.from_dict(terms_tss)\n",
    "\n",
    "  # Sort df based on column names (timestamps)\n",
    "  terms_tss_df.sort_index(axis=1, inplace=True)\n",
    "\n",
    "  # Draw and save heatmap\n",
    "  cgrid = sns.clustermap(terms_tss_df, row_cluster=True, col_cluster=False,\n",
    "                         cmap=\"mako\", method='weighted',)\n",
    "  #cgrid.savefig(tot_graph_dir / f'tot_graph_topic_{topic}_terms.pdf')\n",
    "  plt.close()\n",
    "  \n",
    "  # Get the row order and reorderd the dataframe\n",
    "  order_idx = cgrid.dendrogram_row.reordered_ind\n",
    "  terms_tss_df_index = terms_tss_df.index\n",
    "  order_terms = [terms_tss_df_index[term_idx] for term_idx in order_idx]\n",
    "  terms_tss_df_reordered = terms_tss_df.reindex(order_terms)\n",
    "\n",
    "  # heatmap x axis: reuse boundsX\n",
    "\n",
    "  # heatmap y axis\n",
    "  terms_idx  = np.arange(len(toc_terms_all))\n",
    "  midpointsY = (terms_idx[:-1] + terms_idx[1:]) / 2\n",
    "  boundsY    = np.concatenate([[2*midpointsY[0]-midpointsY[1]], \n",
    "                            midpointsY, \n",
    "                            [2*midpointsY[-1]-midpointsY[-2]]])\n",
    "  #print(boundsX.shape, boundsY.shape, terms_tss_df_reordered.shape)\n",
    "  \n",
    "  # xtickslabels: reuse\n",
    "  # yticklabels:\n",
    "  yticklabels = terms_tss_df_reordered.index\n",
    "\n",
    "  # Draw heatmap with size resacaled\n",
    "  fig, ax = plt.subplots()\n",
    "  plot = ax.pcolormesh(boundsX, boundsY, terms_tss_df_reordered, cmap=\"mako\")\n",
    "  ax.set_xticks(boundsX)\n",
    "  ax.set_xticklabels(xticklabels, rotation=90)\n",
    "  ax.set_yticks(np.arange(len(terms_idx)))\n",
    "  ax.set_yticklabels(yticklabels)\n",
    "  ax.grid(False)\n",
    "  fig.colorbar(plot)\n",
    "  plt.tight_layout()\n",
    "  plt.savefig(tot_graph_dir / \\\n",
    "                f'tot_graph_topic_{topic}_scaled_heatmap_no_globaltune.pdf')\n",
    "  \n",
    "  plt.close() # prevent image from showing\n",
    "\n",
    "  # print out the keys for defining if some terms should be considered redun\n",
    "  toc_terms_all_list = list(toc_terms_all.keys())\n",
    "  toc_terms_all_list.sort()\n",
    "  print(len(toc_terms_all_list), toc_terms_all_list)\n",
    "\n",
    "  return terms_tss_df \n"
   ]
  },
  {
   "cell_type": "markdown",
   "metadata": {},
   "source": [
    "### Topic 43"
   ]
  },
  {
   "cell_type": "code",
   "execution_count": 163,
   "metadata": {},
   "outputs": [
    {
     "name": "stdout",
     "output_type": "stream",
     "text": [
      "46 ['air layers', 'area', 'ave', 'canopy', 'conditions', 'crop', 'day', 'deficit', 'delta', 'dle', 'dormancy', 'drought', 'epsilon', 'fruit', 'fruit growth', 'fruitset', 'germination', 'graft', 'grain', 'growth', 'leaf', 'leaf area', 'light', 'light interception', 'lodging', 'model', 'phenotyping', 'photoperiod', 'photoperiod gene', 'potential', 'pressure', 'rate', 'root', 'seeds', 'shoot', 'soil', 'temperature', 'traits', 'turgor', 'vegetative', 'vessels', 'water', 'water potential', 'xylem', 'xylem pressure', 'yield']\n"
     ]
    }
   ],
   "source": [
    "redun_terms43  = {'plants':'plant',\n",
    "                  'roots':'root',\n",
    "                  'leaves': 'leaf',\n",
    "                  'photoperioid gene':'photoperiod',}\n",
    "terms_tss_df43 = terms_tss_heatmap(43, redun_terms43)"
   ]
  },
  {
   "cell_type": "markdown",
   "metadata": {},
   "source": [
    "### Topic 39"
   ]
  },
  {
   "cell_type": "code",
   "execution_count": 164,
   "metadata": {},
   "outputs": [
    {
     "name": "stdout",
     "output_type": "stream",
     "text": [
      "38 ['agartrap', 'agrobacterium', 'agrobacterium tumefaciens', 'agrobacteriummediated transformation', 'biolistic', 'cotton', 'crcre', 'dna', 'efficient', 'expression', 'expression cassette', 'gene', 'gus', 'kanamycin', 'method', 'octopine', 'plant', 'plasmid', 'plastid', 'plastid transformation', 'protocol', 'selectable', 'selection', 'superagrobacterium', 'system', 'tdna', 'ti', 'transformation', 'transformation efficiency', 'transgene', 'transgenic', 'transgenic plants', 'transient', 'tumefaciens', 'tumor', 'tumors', 'vector', 'vectors']\n"
     ]
    }
   ],
   "source": [
    "redun_terms39  = {'plants':'plant',\n",
    "                  'roots':'root',\n",
    "                  'transformed':'transformation',\n",
    "                  'genetic transformation':'transformation',\n",
    "                  'agrobacteriummediated':'agrobacterium'}\n",
    "terms_tss_df39 = terms_tss_heatmap(39, redun_terms39)"
   ]
  },
  {
   "cell_type": "markdown",
   "metadata": {},
   "source": [
    "### Topic 86"
   ]
  },
  {
   "cell_type": "code",
   "execution_count": 165,
   "metadata": {},
   "outputs": [
    {
     "name": "stdout",
     "output_type": "stream",
     "text": [
      "29 ['adaptation', 'characters', 'clonal', 'depression', 'dispersal', 'evolution', 'evolutionary', 'fitness', 'genetic', 'gynodioecy', 'inbreeding', 'inbreeding depression', 'males', 'maternal', 'mating', 'mating activity', 'outcrossing', 'pollen', 'population', 'reproductive', 'selection', 'selfing', 'sexual', 'sm lab', 'society study', 'species', 'traits', 'trioecy', 'variation']\n"
     ]
    }
   ],
   "source": [
    "redun_terms86  = {'plants':'plant',\n",
    "                  'populations':'population'}\n",
    "terms_tss_df86 = terms_tss_heatmap(86, redun_terms86)"
   ]
  },
  {
   "cell_type": "markdown",
   "metadata": {},
   "source": [
    "### Topic 25"
   ]
  },
  {
   "cell_type": "code",
   "execution_count": 166,
   "metadata": {},
   "outputs": [
    {
     "name": "stdout",
     "output_type": "stream",
     "text": [
      "38 ['aba', 'abp', 'abscission', 'auxin', 'cell', 'cell division', 'cortical', 'cortical parenchyma', 'development', 'division', 'dome', 'ear', 'ear shoot', 'ethylene', 'growth', 'growth morphogenesis', 'hormone', 'hormones', 'kinases', 'lamina', 'leaf', 'meristem', 'organs', 'parenchyma', 'pathways', 'phosphorelay', 'primordium', 'protein kinases', 'review', 'root', 'shoot inversion', 'signal', 'signal transduction', 'signaling', 'tassel', 'tassel ear', 'tch', 'transduction']\n"
     ]
    }
   ],
   "source": [
    "redun_terms25  = {'plants':'plant',\n",
    "                  'signalling':'signaling',\n",
    "                  'cells':'cell'}\n",
    "terms_tss_df25 = terms_tss_heatmap(25, redun_terms25)"
   ]
  },
  {
   "cell_type": "markdown",
   "metadata": {},
   "source": [
    "### Topic 23"
   ]
  },
  {
   "cell_type": "code",
   "execution_count": 167,
   "metadata": {},
   "outputs": [
    {
     "name": "stdout",
     "output_type": "stream",
     "text": [
      "missing 250750799.0 1977-12-11 23:59:59\n",
      "missing 425879999.0 1983-06-30 23:59:59\n",
      "missing 546839999.0 1987-04-30 23:59:59\n",
      "42 ['12s', 'actin', 'adhs', 'ahas', 'ahas1', 'ahas3', 'analysis', 'arabidopsis', 'attps', 'beta', 'beta fruct3', 'cbps', 'cp shsps', 'cyclins', 'cyps', 'dhfr', 'ets', 'expression', 'family', 'four genes', 'fruct3', 'gene', 'gene family', 'heatshock', 'kinesins', 'madsbox', 'madsbox genes', 'members', 'myb', 'phylogenetic', 'proteins', 'psbp', 'rice', 'seed storage', 'shsps', 'small heatshock', 'storage protein', 'stress', 'subfamily', 'wrky', 'zrnasei', 'zrnaseii']\n"
     ]
    }
   ],
   "source": [
    "redun_terms23  = {'plants':'plant',\n",
    "                  'genes':'gene',\n",
    "                  'madsbox gene': 'madsbox'}\n",
    "terms_tss_df23 = terms_tss_heatmap(23, redun_terms23)"
   ]
  },
  {
   "cell_type": "markdown",
   "metadata": {},
   "source": [
    "### Topic 61"
   ]
  },
  {
   "cell_type": "code",
   "execution_count": 168,
   "metadata": {},
   "outputs": [
    {
     "name": "stdout",
     "output_type": "stream",
     "text": [
      "16 ['breeding', 'characters', 'chromosome', 'crosses', 'genetic', 'hybrid', 'lines', 'locus', 'mapping', 'markers', 'qtl', 'resistance', 'rflp', 'rust', 'traits', 'wheat']\n"
     ]
    }
   ],
   "source": [
    "redun_terms61  = {'plants':'plant',\n",
    "                  'qtls':'qtl',\n",
    "                  'chromosomes':'chromosome', 'hybrids': 'hybrid',}\n",
    "terms_tss_df61 = terms_tss_heatmap(61, redun_terms61)"
   ]
  },
  {
   "cell_type": "markdown",
   "metadata": {},
   "source": [
    "### Topic 35"
   ]
  },
  {
   "cell_type": "code",
   "execution_count": 169,
   "metadata": {},
   "outputs": [
    {
     "name": "stdout",
     "output_type": "stream",
     "text": [
      "22 ['amino', 'arabidopsis', 'autophagy', 'cdna', 'chloroplast', 'domain', 'editing', 'er', 'expression', 'gene', 'import', 'membrane', 'opaque2', 'ppr', 'protein', 'rna', 'rna editing', 'sequence', 'splicing', 'trafficking', 'trna', 'wheat germ']\n"
     ]
    }
   ],
   "source": [
    "redun_terms35  = {'plants':'plant', 'trnas':'trna', 'trna leu':'trna',\n",
    "                  'proteins':'protein', 'sequences':'sequence'}\n",
    "terms_tss_df35 = terms_tss_heatmap(35, redun_terms35)"
   ]
  },
  {
   "cell_type": "markdown",
   "metadata": {},
   "source": [
    "### Topic 42"
   ]
  },
  {
   "cell_type": "code",
   "execution_count": 170,
   "metadata": {},
   "outputs": [
    {
     "name": "stdout",
     "output_type": "stream",
     "text": [
      "39 ['2n42', 'aba', 'acids amides', 'amides', 'analysis', 'cdna clones', 'cma cmb', 'cme', 'degs', 'desiccation stress', 'differentially', 'drought', 'drought conditioning', 'elongatum', 'em expression', 'est', 'expression', 'genes', 'heat shock', 'highlysine mutations', 'hsps', 'isoline', 'metabolism', 'nacl', 'nonblue', 'pear mitochondria', 'primary root', 'protein', 'sdspage', 'sequences', 'soluble proteins', 'ss', 'stress', 'tennesseensis', 'transcriptome', 'trisomics', 'twodimensional', 'unigenes', 'zein']\n"
     ]
    }
   ],
   "source": [
    "redun_terms42  = {'plants':'plant', 'cdna':'cdna clones', 'clones':'cdna clones',\n",
    "                  'proteins':'protein', 'ests':'est', 'em':'em expression',\n",
    "                  'expression':'em expression','heat':'heat shock',\n",
    "                  'shock':'heat shock',\n",
    "                  'expressed':'expression'}\n",
    "terms_tss_df42 = terms_tss_heatmap(42, redun_terms42)"
   ]
  },
  {
   "cell_type": "markdown",
   "metadata": {},
   "source": [
    "### Topic 48"
   ]
  },
  {
   "cell_type": "code",
   "execution_count": 171,
   "metadata": {},
   "outputs": [
    {
     "name": "stdout",
     "output_type": "stream",
     "text": [
      "39 ['activity', 'aochi', 'bagh5uv2', 'binding', 'bromelia', 'catalytic', 'chromatography', 'ctpme', 'db104', 'degrees', 'dehydrogenase', 'enzyme', 'eup82', 'ficin', 'galactosidase', 'gcp2', 'gel', 'glcnac', 'glycan', 'glycoproteins', 'glycosylation', 'kda', 'lectin', 'miraculin', 'nglycosylation', 'nitroxide', 'nom', 'pdiphenols', 'ph', 'prok', 'protein', 'ptsp2', 'purification', 'rbti', 'repricexip', 'sextet', 'sprdh', 'substrate', 'ttfaeb']\n"
     ]
    }
   ],
   "source": [
    "redun_terms48  = {'plants':'plant', 'glycans':'glycan',\n",
    "                  'nglycan':'nglycosylation',\n",
    "                  'purified':'purification',\n",
    "                  'nglycans':'nglycosylation',\n",
    "                  'lectins':'lectin'}\n",
    "terms_tss_df48 = terms_tss_heatmap(48, redun_terms48)"
   ]
  },
  {
   "cell_type": "markdown",
   "metadata": {},
   "source": [
    "### Topic 27"
   ]
  },
  {
   "cell_type": "code",
   "execution_count": 172,
   "metadata": {},
   "outputs": [
    {
     "name": "stdout",
     "output_type": "stream",
     "text": [
      "34 ['aborted seeds', 'arabidopsis', 'arrested embryos', 'auxin', 'cell', 'development', 'dn', 'embryolethal mutants', 'embryos', 'enriched media', 'expression', 'f2a1', 'floral', 'flowering', 'formation', 'ft', 'gene', 'histones', 'homeotic', 'kn1', 'lateral suppressor', 'lg1', 'meristem', 'meristems', 'migrate', 'migrate position', 'mutant', 'organ', 'ovule', 'pollen', 'sectors', 'shoot', 'species histones', 'utut']\n"
     ]
    }
   ],
   "source": [
    "redun_terms27  = {'plants':'plant','arrested':'arrested embryos',\n",
    "                  'genes':'gene', 'mutants':'mutant', \n",
    "                  'species histone':'histone',}\n",
    "terms_tss_df27 = terms_tss_heatmap(27, redun_terms27)"
   ]
  },
  {
   "cell_type": "markdown",
   "metadata": {},
   "source": [
    "# Code development"
   ]
  },
  {
   "cell_type": "markdown",
   "metadata": {},
   "source": [
    "### Testing datetime\n",
    "\n",
    "Python `datetime` module: [doc](https://docs.python.org/3/library/datetime.html)\n",
    "- `date` obj: represents a date (year, month and day) in an idealized calendar. This is the date I have. But Bertopic is asking for a timestamp.\n",
    "- `datetime.timestamp()` method: Return POSIX timestamp corresponding to the datetime instance."
   ]
  },
  {
   "cell_type": "code",
   "execution_count": null,
   "metadata": {},
   "outputs": [],
   "source": [
    "# Get current datetime obj\n",
    "now = datetime.now()\n",
    "type(now), now"
   ]
  },
  {
   "cell_type": "code",
   "execution_count": null,
   "metadata": {},
   "outputs": [],
   "source": [
    "# Get pandas series dates\n",
    "dates = df_corpus['Date']\n",
    "dates[0], dates[1]"
   ]
  },
  {
   "cell_type": "code",
   "execution_count": null,
   "metadata": {},
   "outputs": [],
   "source": [
    "# turn the 1st date into a datetime obj\n",
    "date0 = dates[0].split('-')\n",
    "dt0   = datetime(int(date0[0]), int(date0[1]), int(date0[2]))\n",
    "dt0"
   ]
  },
  {
   "cell_type": "code",
   "execution_count": null,
   "metadata": {},
   "outputs": [],
   "source": [
    "# turn datetime into timestamp\n",
    "ts0 = dt0.timestamp()\n",
    "ts0"
   ]
  },
  {
   "cell_type": "markdown",
   "metadata": {},
   "source": [
    "### Run `topic_over_time`\n",
    "\n",
    "This is not used because the output is not as useful as I like. Particularly, I want to get the modified c-Tf-Idf values of differnt time bins. So this is replaced with manual run."
   ]
  },
  {
   "cell_type": "code",
   "execution_count": null,
   "metadata": {},
   "outputs": [],
   "source": [
    "topics_over_time_ts3 = topic_model.topics_over_time(docs, topics, timestamps3, \n",
    "                                                    nr_bins=50,\n",
    "                                                    evolution_tuning=True,\n",
    "                                                    global_tuning=True)"
   ]
  },
  {
   "cell_type": "code",
   "execution_count": null,
   "metadata": {},
   "outputs": [],
   "source": [
    "topic_ot_ts3_file = work_dir / \"topics_over_time_ts3_no_global_tune.tsv\"\n",
    "topics_over_time_ts3.to_csv(topic_ot_ts3_file, sep=\"\\t\")"
   ]
  },
  {
   "cell_type": "code",
   "execution_count": null,
   "metadata": {},
   "outputs": [],
   "source": [
    "topics_over_time_ts3"
   ]
  },
  {
   "cell_type": "markdown",
   "metadata": {},
   "source": [
    "### Gettimg topic-over-time graph x-axis"
   ]
  },
  {
   "cell_type": "code",
   "execution_count": 141,
   "metadata": {},
   "outputs": [
    {
     "data": {
      "text/plain": [
       "(50, 50)"
      ]
     },
     "execution_count": 141,
     "metadata": {},
     "output_type": "execute_result"
    }
   ],
   "source": [
    "unique_tss = topics_over_time.loc[topics_over_time.Topic == 3, :].Timestamp.to_list()\n",
    "datetimes  = [datetime.fromtimestamp(ts) for ts in unique_tss]\n",
    "ymds       = [f'{dt.year}-{dt.month}-{dt.day}' for dt in datetimes]\n",
    "len(unique_tss), len(ymds)"
   ]
  },
  {
   "cell_type": "code",
   "execution_count": 58,
   "metadata": {},
   "outputs": [
    {
     "ename": "NameError",
     "evalue": "name 'unique_tss' is not defined",
     "output_type": "error",
     "traceback": [
      "\u001b[0;31m---------------------------------------------------------------------------\u001b[0m",
      "\u001b[0;31mNameError\u001b[0m                                 Traceback (most recent call last)",
      "\u001b[1;32m/home/shius/github/plant_sci_hist/4_topic_model/script_4_4_over_time.ipynb Cell 134\u001b[0m in \u001b[0;36m<cell line: 1>\u001b[0;34m()\u001b[0m\n\u001b[0;32m----> <a href='vscode-notebook-cell://wsl%2Bubuntu-20.04/home/shius/github/plant_sci_hist/4_topic_model/script_4_4_over_time.ipynb#Y243sdnNjb2RlLXJlbW90ZQ%3D%3D?line=0'>1</a>\u001b[0m unique_tss[:\u001b[39m5\u001b[39m], unique_tss[\u001b[39m-\u001b[39m\u001b[39m5\u001b[39m:]\n",
      "\u001b[0;31mNameError\u001b[0m: name 'unique_tss' is not defined"
     ]
    }
   ],
   "source": [
    "unique_tss[:5], unique_tss[-5:]"
   ]
  },
  {
   "cell_type": "code",
   "execution_count": 143,
   "metadata": {},
   "outputs": [
    {
     "data": {
      "text/plain": [
       "(37, 37)"
      ]
     },
     "execution_count": 143,
     "metadata": {},
     "output_type": "execute_result"
    }
   ],
   "source": [
    "# At recent date it becomes too dense, so only show every 2 dates\n",
    "skip_after = datetime(2011, 1, 1).timestamp()\n",
    "skip_start_idx = bisect(unique_tss, skip_after)\n",
    "unique_tss2 = unique_tss[:skip_start_idx] + unique_tss[skip_start_idx::2]\n",
    "ymds2       = ymds[:skip_start_idx] + ymds[skip_start_idx::2]\n",
    "len(unique_tss2), len(ymds2)"
   ]
  },
  {
   "cell_type": "code",
   "execution_count": 148,
   "metadata": {},
   "outputs": [
    {
     "data": {
      "text/plain": [
       "([250750799.0, 425879999.0, 546839999.0, 638945999.0, 712641599.0],\n",
       " [1532750399.0, 1554177599.0, 1574053199.0, 1592711999.0, 1609477200.0])"
      ]
     },
     "execution_count": 148,
     "metadata": {},
     "output_type": "execute_result"
    }
   ],
   "source": [
    "unique_tss2[:5], unique_tss2[-5:]"
   ]
  },
  {
   "cell_type": "markdown",
   "metadata": {},
   "source": [
    "### Min-max scaling"
   ]
  },
  {
   "cell_type": "code",
   "execution_count": 494,
   "metadata": {},
   "outputs": [
    {
     "data": {
      "text/plain": [
       "(1, 66, 37)"
      ]
     },
     "execution_count": 494,
     "metadata": {},
     "output_type": "execute_result"
    }
   ],
   "source": [
    "toc_data = topics_over_time.loc[topics_over_time.Topic == 8, :]\n",
    "tss      = toc_data.Timestamp.values.tolist()\n",
    "# frequency for each timestamp\n",
    "freq = toc_data.Frequency.values.tolist()\n",
    "# Deal with max values in the five topics specified\n",
    "if topic in toc_outlier_modify:\n",
    "  # index of max value\n",
    "  idx_max    = freq.index(max(freq))\n",
    "  # create a new list and remove the max value\n",
    "  freq_copy = freq.copy()\n",
    "  freq_copy.remove(max(freq))\n",
    "  # index of the second max value\n",
    "  idx_2ndmax = freq_copy.index(max(freq_copy))\n",
    "  # set max value to 120% of the 2nd max value\n",
    "  freq[idx_max] = freq[idx_2ndmax]*1.2\n",
    "\n",
    "min(freq), max(freq), len(freq)"
   ]
  },
  {
   "cell_type": "code",
   "execution_count": 495,
   "metadata": {},
   "outputs": [
    {
     "data": {
      "text/plain": [
       "array([[ 1,  1,  1,  3,  1,  1,  1,  1,  3,  4,  8, 13, 21, 28, 25, 30,\n",
       "        26, 40, 42, 40, 57, 48, 49, 59, 52, 61, 51, 47, 44,  4, 66, 38,\n",
       "        38, 39, 49, 39, 26]])"
      ]
     },
     "execution_count": 495,
     "metadata": {},
     "output_type": "execute_result"
    }
   ],
   "source": [
    "freq = np.reshape(freq, (1, len(freq)))\n",
    "freq"
   ]
  },
  {
   "cell_type": "code",
   "execution_count": 496,
   "metadata": {},
   "outputs": [
    {
     "data": {
      "text/plain": [
       "array([0.        , 0.        , 0.        , 0.03076923, 0.        ,\n",
       "       0.        , 0.        , 0.        , 0.03076923, 0.04615385,\n",
       "       0.10769231, 0.18461538, 0.30769231, 0.41538462, 0.36923077,\n",
       "       0.44615385, 0.38461538, 0.6       , 0.63076923, 0.6       ,\n",
       "       0.86153846, 0.72307692, 0.73846154, 0.89230769, 0.78461538,\n",
       "       0.92307692, 0.76923077, 0.70769231, 0.66153846, 0.04615385,\n",
       "       1.        , 0.56923077, 0.56923077, 0.58461538, 0.73846154,\n",
       "       0.58461538, 0.38461538])"
      ]
     },
     "execution_count": 496,
     "metadata": {},
     "output_type": "execute_result"
    }
   ],
   "source": [
    "freq = minmax_scale(freq, axis=1)[0]\n",
    "freq\n"
   ]
  },
  {
   "cell_type": "markdown",
   "metadata": {},
   "source": [
    "### Heatmap testing"
   ]
  },
  {
   "cell_type": "code",
   "execution_count": null,
   "metadata": {},
   "outputs": [],
   "source": [
    "## Testing\n",
    "cgrid = sns.clustermap(tot_freq_df_nona, cmap=\"coolwarm\", \n",
    "                         xticklabels=True, yticklabels=True,\n",
    "                         row_cluster=True, col_cluster=False,\n",
    "                         method=\"single\")\n",
    "plt.close() # Prevent the image from showing"
   ]
  },
  {
   "cell_type": "markdown",
   "metadata": {},
   "source": [
    "### Topic over time heatmap: Some topics have weird values\n",
    "\n",
    "There are NAs in tot_freq_df.\n",
    "- E.g., topic 2 has 0 at the last time point, even though it was high the data point before.\n",
    "- Found that this is because the frequency values are not always of length 50.\n",
    "- this is fixed.\n",
    "\n",
    "Some clusters have sharp peaks:\n",
    "- E.g., topic 75\n",
    "- Turn out this is due to outlier values."
   ]
  },
  {
   "cell_type": "code",
   "execution_count": null,
   "metadata": {},
   "outputs": [
    {
     "data": {
      "text/plain": [
       "(49, [40, 50, 48, 36, 33])"
      ]
     },
     "metadata": {},
     "output_type": "display_data"
    }
   ],
   "source": [
    "toc_data2 = topics_over_time.loc[topics_over_time.Topic==2, :]\n",
    "toc_data2_freq = toc_data2.Frequency.values.tolist()\n",
    "len(toc_data2_freq), toc_data2_freq[-5:]"
   ]
  },
  {
   "cell_type": "code",
   "execution_count": null,
   "metadata": {},
   "outputs": [
    {
     "data": {
      "text/plain": [
       "array([50., 48., 36., 33., nan])"
      ]
     },
     "metadata": {},
     "output_type": "display_data"
    }
   ],
   "source": [
    "tot_freq_df.iloc[2].values[-5:]"
   ]
  },
  {
   "cell_type": "markdown",
   "metadata": {},
   "source": [
    "### Heatmap with scaled cell size\n",
    "\n",
    "- See [this post](https://stackoverflow.com/questions/64356782/seaborn-heatmap-with-variating-cell-sizes)"
   ]
  },
  {
   "cell_type": "code",
   "execution_count": 437,
   "metadata": {},
   "outputs": [
    {
     "name": "stderr",
     "output_type": "stream",
     "text": [
      "/tmp/ipykernel_6789/2841233385.py:11: MatplotlibDeprecationWarning:\n",
      "\n",
      "Auto-removal of grids by pcolor() and pcolormesh() is deprecated since 3.5 and will be removed two minor releases later; please call grid(False) first.\n",
      "\n"
     ]
    },
    {
     "data": {
      "image/png": "[encoded data removed]",
      "text/plain": [
       "<Figure size 432x432 with 1 Axes>"
      ]
     },
     "metadata": {},
     "output_type": "display_data"
    }
   ],
   "source": [
    "sns.set()\n",
    "N = 10\n",
    "xs = np.random.uniform(0.015, 0.13, 10).cumsum().round(3)  # some random x values\n",
    "values = np.random.rand(N, N)  # a random matrix\n",
    "\n",
    "# set bounds in the middle of successive cells, add extra bounds at start and end\n",
    "bounds = (xs[:-1] + xs[1:]) / 2\n",
    "bounds = np.concatenate([[2 * bounds[0] - bounds[1]], bounds, [2 * bounds[-1] - bounds[-2]]])\n",
    "\n",
    "fig, ax = plt.subplots(figsize=(6,6))\n",
    "ax.pcolormesh(bounds, bounds, values)\n",
    "\n",
    "ax.set_xticks(xs)\n",
    "ax.set_xticklabels(xs, rotation=90)\n",
    "ax.set_yticks(xs)\n",
    "ax.set_yticklabels(xs, rotation=0)\n",
    "plt.tight_layout()\n",
    "plt.show()"
   ]
  },
  {
   "cell_type": "markdown",
   "metadata": {},
   "source": [
    "### Testing dict to dataframe\n",
    "\n",
    "https://stackoverflow.com/questions/13575090/construct-pandas-dataframe-from-items-in-nested-dictionary"
   ]
  },
  {
   "cell_type": "code",
   "execution_count": 615,
   "metadata": {},
   "outputs": [],
   "source": [
    "user_dict = {12: {'Category 1': {'att_1': 1, 'att_2': 'whatever'},\n",
    "                  'Category 2': {'att_1': 23, 'att_2': 'another'}},\n",
    "             15: {'Category 1': {'att_1': 10, 'att_2': 'foo'},\n",
    "                  'Category 2': {'att_1': 30, 'att_2': 'bar'}}}"
   ]
  },
  {
   "cell_type": "code",
   "execution_count": 616,
   "metadata": {},
   "outputs": [
    {
     "data": {
      "text/plain": [
       "{(12, 'Category 1'): {'att_1': 1, 'att_2': 'whatever'},\n",
       " (12, 'Category 2'): {'att_1': 23, 'att_2': 'another'},\n",
       " (15, 'Category 1'): {'att_1': 10, 'att_2': 'foo'},\n",
       " (15, 'Category 2'): {'att_1': 30, 'att_2': 'bar'}}"
      ]
     },
     "execution_count": 616,
     "metadata": {},
     "output_type": "execute_result"
    }
   ],
   "source": [
    "{(i,j): user_dict[i][j] \n",
    "                           for i in user_dict.keys() \n",
    "                           for j in user_dict[i].keys()}"
   ]
  },
  {
   "cell_type": "markdown",
   "metadata": {},
   "source": [
    "### Testing get terms-timestamps matrix"
   ]
  },
  {
   "cell_type": "code",
   "execution_count": 662,
   "metadata": {},
   "outputs": [],
   "source": [
    "# Get a dataframe for all data in topics_over_time for the topic of interest\n",
    "data = topics_over_time.loc[topics_over_time.Topic.isin([53]), :].sort_values(\n",
    "                                                        [\"Topic\", \"Timestamp\"])"
   ]
  },
  {
   "cell_type": "code",
   "execution_count": 663,
   "metadata": {},
   "outputs": [],
   "source": [
    "# Put top terms at different timestamps into a matrix\n",
    "toc_terms = data['Words']\n",
    "toc_tss   = data['Timestamp']"
   ]
  },
  {
   "cell_type": "code",
   "execution_count": 664,
   "metadata": {},
   "outputs": [
    {
     "data": {
      "text/plain": [
       "{'compounds': 50,\n",
       " 'essential': 1,\n",
       " 'oil': 11,\n",
       " 'found': 1,\n",
       " 'oils': 2,\n",
       " 'plant': 14,\n",
       " 'spp': 1,\n",
       " 'species': 34,\n",
       " 'alkaloid': 1,\n",
       " 'alkaloids': 12,\n",
       " 'essential oil': 3,\n",
       " 'alfalfa': 1,\n",
       " 'extracts': 3,\n",
       " 'constituents': 3,\n",
       " 'parthenolide': 1,\n",
       " 'radicle hypocotyl': 1,\n",
       " 'chemical': 13,\n",
       " 'coca': 1,\n",
       " 'products': 1,\n",
       " 'biological': 3,\n",
       " 'bryonia': 1,\n",
       " 'peanut oil': 1,\n",
       " 'glycitein': 1,\n",
       " 'medicinal': 22,\n",
       " 'glucosinolates': 1,\n",
       " 'flavonoids': 5,\n",
       " 'gossypol': 2,\n",
       " 'brassinin': 3,\n",
       " 'review': 23,\n",
       " 'zuiki': 1,\n",
       " 'pharmacological': 9,\n",
       " 'parthenium': 1,\n",
       " 'antioxidant': 1,\n",
       " 'artemisinin': 2,\n",
       " 'activities': 1,\n",
       " 'kiwifruit': 1,\n",
       " 'properties': 4,\n",
       " 'biological activities': 1,\n",
       " 'phytochemical': 2,\n",
       " 'genus': 2,\n",
       " 'health': 2,\n",
       " 'natural': 1,\n",
       " 'uses': 1,\n",
       " 'food': 3,\n",
       " 'bioactive': 2}"
      ]
     },
     "execution_count": 664,
     "metadata": {},
     "output_type": "execute_result"
    }
   ],
   "source": [
    "# get all terms and put them in a dictionary\n",
    "toc_terms_all = {}\n",
    "for terms in toc_terms:\n",
    "  terms_list = terms.split(\", \")\n",
    "  for term in terms_list:\n",
    "    if term not in toc_terms_all:\n",
    "      toc_terms_all[term] = 1\n",
    "    else:\n",
    "      toc_terms_all[term]+= 1\n",
    "toc_terms_all"
   ]
  },
  {
   "cell_type": "code",
   "execution_count": 665,
   "metadata": {},
   "outputs": [
    {
     "data": {
      "text/plain": [
       "{250750799.0: {'compounds': 1,\n",
       "  'essential': 1,\n",
       "  'oil': 1,\n",
       "  'found': 1,\n",
       "  'oils': 1,\n",
       "  'plant': 0,\n",
       "  'spp': 0,\n",
       "  'species': 0,\n",
       "  'alkaloid': 0,\n",
       "  'alkaloids': 0,\n",
       "  'essential oil': 0,\n",
       "  'alfalfa': 0,\n",
       "  'extracts': 0,\n",
       "  'constituents': 0,\n",
       "  'parthenolide': 0,\n",
       "  'radicle hypocotyl': 0,\n",
       "  'chemical': 0,\n",
       "  'coca': 0,\n",
       "  'products': 0,\n",
       "  'biological': 0,\n",
       "  'bryonia': 0,\n",
       "  'peanut oil': 0,\n",
       "  'glycitein': 0,\n",
       "  'medicinal': 0,\n",
       "  'glucosinolates': 0,\n",
       "  'flavonoids': 0,\n",
       "  'gossypol': 0,\n",
       "  'brassinin': 0,\n",
       "  'review': 0,\n",
       "  'zuiki': 0,\n",
       "  'pharmacological': 0,\n",
       "  'parthenium': 0,\n",
       "  'antioxidant': 0,\n",
       "  'artemisinin': 0,\n",
       "  'activities': 0,\n",
       "  'kiwifruit': 0,\n",
       "  'properties': 0,\n",
       "  'biological activities': 0,\n",
       "  'phytochemical': 0,\n",
       "  'genus': 0,\n",
       "  'health': 0,\n",
       "  'natural': 0,\n",
       "  'uses': 0,\n",
       "  'food': 0,\n",
       "  'bioactive': 0},\n",
       " 425879999.0: {'compounds': 1,\n",
       "  'essential': 0,\n",
       "  'oil': 0,\n",
       "  'found': 0,\n",
       "  'oils': 0,\n",
       "  'plant': 1,\n",
       "  'spp': 1,\n",
       "  'species': 1,\n",
       "  'alkaloid': 1,\n",
       "  'alkaloids': 0,\n",
       "  'essential oil': 0,\n",
       "  'alfalfa': 0,\n",
       "  'extracts': 0,\n",
       "  'constituents': 0,\n",
       "  'parthenolide': 0,\n",
       "  'radicle hypocotyl': 0,\n",
       "  'chemical': 0,\n",
       "  'coca': 0,\n",
       "  'products': 0,\n",
       "  'biological': 0,\n",
       "  'bryonia': 0,\n",
       "  'peanut oil': 0,\n",
       "  'glycitein': 0,\n",
       "  'medicinal': 0,\n",
       "  'glucosinolates': 0,\n",
       "  'flavonoids': 0,\n",
       "  'gossypol': 0,\n",
       "  'brassinin': 0,\n",
       "  'review': 0,\n",
       "  'zuiki': 0,\n",
       "  'pharmacological': 0,\n",
       "  'parthenium': 0,\n",
       "  'antioxidant': 0,\n",
       "  'artemisinin': 0,\n",
       "  'activities': 0,\n",
       "  'kiwifruit': 0,\n",
       "  'properties': 0,\n",
       "  'biological activities': 0,\n",
       "  'phytochemical': 0,\n",
       "  'genus': 0,\n",
       "  'health': 0,\n",
       "  'natural': 0,\n",
       "  'uses': 0,\n",
       "  'food': 0,\n",
       "  'bioactive': 0},\n",
       " 546839999.0: {'compounds': 1,\n",
       "  'essential': 0,\n",
       "  'oil': 1,\n",
       "  'found': 0,\n",
       "  'oils': 0,\n",
       "  'plant': 0,\n",
       "  'spp': 0,\n",
       "  'species': 1,\n",
       "  'alkaloid': 0,\n",
       "  'alkaloids': 1,\n",
       "  'essential oil': 1,\n",
       "  'alfalfa': 0,\n",
       "  'extracts': 0,\n",
       "  'constituents': 0,\n",
       "  'parthenolide': 0,\n",
       "  'radicle hypocotyl': 0,\n",
       "  'chemical': 0,\n",
       "  'coca': 0,\n",
       "  'products': 0,\n",
       "  'biological': 0,\n",
       "  'bryonia': 0,\n",
       "  'peanut oil': 0,\n",
       "  'glycitein': 0,\n",
       "  'medicinal': 0,\n",
       "  'glucosinolates': 0,\n",
       "  'flavonoids': 0,\n",
       "  'gossypol': 0,\n",
       "  'brassinin': 0,\n",
       "  'review': 0,\n",
       "  'zuiki': 0,\n",
       "  'pharmacological': 0,\n",
       "  'parthenium': 0,\n",
       "  'antioxidant': 0,\n",
       "  'artemisinin': 0,\n",
       "  'activities': 0,\n",
       "  'kiwifruit': 0,\n",
       "  'properties': 0,\n",
       "  'biological activities': 0,\n",
       "  'phytochemical': 0,\n",
       "  'genus': 0,\n",
       "  'health': 0,\n",
       "  'natural': 0,\n",
       "  'uses': 0,\n",
       "  'food': 0,\n",
       "  'bioactive': 0},\n",
       " 638945999.0: {'compounds': 1,\n",
       "  'essential': 0,\n",
       "  'oil': 0,\n",
       "  'found': 0,\n",
       "  'oils': 0,\n",
       "  'plant': 0,\n",
       "  'spp': 0,\n",
       "  'species': 1,\n",
       "  'alkaloid': 0,\n",
       "  'alkaloids': 1,\n",
       "  'essential oil': 0,\n",
       "  'alfalfa': 1,\n",
       "  'extracts': 1,\n",
       "  'constituents': 0,\n",
       "  'parthenolide': 0,\n",
       "  'radicle hypocotyl': 0,\n",
       "  'chemical': 0,\n",
       "  'coca': 0,\n",
       "  'products': 0,\n",
       "  'biological': 0,\n",
       "  'bryonia': 0,\n",
       "  'peanut oil': 0,\n",
       "  'glycitein': 0,\n",
       "  'medicinal': 0,\n",
       "  'glucosinolates': 0,\n",
       "  'flavonoids': 0,\n",
       "  'gossypol': 0,\n",
       "  'brassinin': 0,\n",
       "  'review': 0,\n",
       "  'zuiki': 0,\n",
       "  'pharmacological': 0,\n",
       "  'parthenium': 0,\n",
       "  'antioxidant': 0,\n",
       "  'artemisinin': 0,\n",
       "  'activities': 0,\n",
       "  'kiwifruit': 0,\n",
       "  'properties': 0,\n",
       "  'biological activities': 0,\n",
       "  'phytochemical': 0,\n",
       "  'genus': 0,\n",
       "  'health': 0,\n",
       "  'natural': 0,\n",
       "  'uses': 0,\n",
       "  'food': 0,\n",
       "  'bioactive': 0},\n",
       " 712641599.0: {'compounds': 1,\n",
       "  'essential': 0,\n",
       "  'oil': 0,\n",
       "  'found': 0,\n",
       "  'oils': 0,\n",
       "  'plant': 0,\n",
       "  'spp': 0,\n",
       "  'species': 1,\n",
       "  'alkaloid': 0,\n",
       "  'alkaloids': 1,\n",
       "  'essential oil': 0,\n",
       "  'alfalfa': 0,\n",
       "  'extracts': 0,\n",
       "  'constituents': 1,\n",
       "  'parthenolide': 1,\n",
       "  'radicle hypocotyl': 0,\n",
       "  'chemical': 0,\n",
       "  'coca': 0,\n",
       "  'products': 0,\n",
       "  'biological': 0,\n",
       "  'bryonia': 0,\n",
       "  'peanut oil': 0,\n",
       "  'glycitein': 0,\n",
       "  'medicinal': 0,\n",
       "  'glucosinolates': 0,\n",
       "  'flavonoids': 0,\n",
       "  'gossypol': 0,\n",
       "  'brassinin': 0,\n",
       "  'review': 0,\n",
       "  'zuiki': 0,\n",
       "  'pharmacological': 0,\n",
       "  'parthenium': 0,\n",
       "  'antioxidant': 0,\n",
       "  'artemisinin': 0,\n",
       "  'activities': 0,\n",
       "  'kiwifruit': 0,\n",
       "  'properties': 0,\n",
       "  'biological activities': 0,\n",
       "  'phytochemical': 0,\n",
       "  'genus': 0,\n",
       "  'health': 0,\n",
       "  'natural': 0,\n",
       "  'uses': 0,\n",
       "  'food': 0,\n",
       "  'bioactive': 0},\n",
       " 778391999.0: {'compounds': 1,\n",
       "  'essential': 0,\n",
       "  'oil': 0,\n",
       "  'found': 0,\n",
       "  'oils': 0,\n",
       "  'plant': 0,\n",
       "  'spp': 0,\n",
       "  'species': 0,\n",
       "  'alkaloid': 0,\n",
       "  'alkaloids': 1,\n",
       "  'essential oil': 0,\n",
       "  'alfalfa': 0,\n",
       "  'extracts': 0,\n",
       "  'constituents': 0,\n",
       "  'parthenolide': 0,\n",
       "  'radicle hypocotyl': 1,\n",
       "  'chemical': 1,\n",
       "  'coca': 1,\n",
       "  'products': 0,\n",
       "  'biological': 0,\n",
       "  'bryonia': 0,\n",
       "  'peanut oil': 0,\n",
       "  'glycitein': 0,\n",
       "  'medicinal': 0,\n",
       "  'glucosinolates': 0,\n",
       "  'flavonoids': 0,\n",
       "  'gossypol': 0,\n",
       "  'brassinin': 0,\n",
       "  'review': 0,\n",
       "  'zuiki': 0,\n",
       "  'pharmacological': 0,\n",
       "  'parthenium': 0,\n",
       "  'antioxidant': 0,\n",
       "  'artemisinin': 0,\n",
       "  'activities': 0,\n",
       "  'kiwifruit': 0,\n",
       "  'properties': 0,\n",
       "  'biological activities': 0,\n",
       "  'phytochemical': 0,\n",
       "  'genus': 0,\n",
       "  'health': 0,\n",
       "  'natural': 0,\n",
       "  'uses': 0,\n",
       "  'food': 0,\n",
       "  'bioactive': 0},\n",
       " 836193599.0: {'compounds': 1,\n",
       "  'essential': 0,\n",
       "  'oil': 0,\n",
       "  'found': 0,\n",
       "  'oils': 0,\n",
       "  'plant': 0,\n",
       "  'spp': 0,\n",
       "  'species': 0,\n",
       "  'alkaloid': 0,\n",
       "  'alkaloids': 1,\n",
       "  'essential oil': 0,\n",
       "  'alfalfa': 0,\n",
       "  'extracts': 0,\n",
       "  'constituents': 0,\n",
       "  'parthenolide': 0,\n",
       "  'radicle hypocotyl': 0,\n",
       "  'chemical': 1,\n",
       "  'coca': 0,\n",
       "  'products': 1,\n",
       "  'biological': 1,\n",
       "  'bryonia': 0,\n",
       "  'peanut oil': 0,\n",
       "  'glycitein': 0,\n",
       "  'medicinal': 0,\n",
       "  'glucosinolates': 0,\n",
       "  'flavonoids': 0,\n",
       "  'gossypol': 0,\n",
       "  'brassinin': 0,\n",
       "  'review': 0,\n",
       "  'zuiki': 0,\n",
       "  'pharmacological': 0,\n",
       "  'parthenium': 0,\n",
       "  'antioxidant': 0,\n",
       "  'artemisinin': 0,\n",
       "  'activities': 0,\n",
       "  'kiwifruit': 0,\n",
       "  'properties': 0,\n",
       "  'biological activities': 0,\n",
       "  'phytochemical': 0,\n",
       "  'genus': 0,\n",
       "  'health': 0,\n",
       "  'natural': 0,\n",
       "  'uses': 0,\n",
       "  'food': 0,\n",
       "  'bioactive': 0},\n",
       " 897537599.0: {'compounds': 1,\n",
       "  'essential': 0,\n",
       "  'oil': 1,\n",
       "  'found': 0,\n",
       "  'oils': 0,\n",
       "  'plant': 1,\n",
       "  'spp': 0,\n",
       "  'species': 1,\n",
       "  'alkaloid': 0,\n",
       "  'alkaloids': 0,\n",
       "  'essential oil': 0,\n",
       "  'alfalfa': 0,\n",
       "  'extracts': 0,\n",
       "  'constituents': 0,\n",
       "  'parthenolide': 0,\n",
       "  'radicle hypocotyl': 0,\n",
       "  'chemical': 0,\n",
       "  'coca': 0,\n",
       "  'products': 0,\n",
       "  'biological': 0,\n",
       "  'bryonia': 1,\n",
       "  'peanut oil': 0,\n",
       "  'glycitein': 0,\n",
       "  'medicinal': 0,\n",
       "  'glucosinolates': 0,\n",
       "  'flavonoids': 0,\n",
       "  'gossypol': 0,\n",
       "  'brassinin': 0,\n",
       "  'review': 0,\n",
       "  'zuiki': 0,\n",
       "  'pharmacological': 0,\n",
       "  'parthenium': 0,\n",
       "  'antioxidant': 0,\n",
       "  'artemisinin': 0,\n",
       "  'activities': 0,\n",
       "  'kiwifruit': 0,\n",
       "  'properties': 0,\n",
       "  'biological activities': 0,\n",
       "  'phytochemical': 0,\n",
       "  'genus': 0,\n",
       "  'health': 0,\n",
       "  'natural': 0,\n",
       "  'uses': 0,\n",
       "  'food': 0,\n",
       "  'bioactive': 0},\n",
       " 949726799.0: {'compounds': 1,\n",
       "  'essential': 0,\n",
       "  'oil': 1,\n",
       "  'found': 0,\n",
       "  'oils': 0,\n",
       "  'plant': 0,\n",
       "  'spp': 0,\n",
       "  'species': 0,\n",
       "  'alkaloid': 0,\n",
       "  'alkaloids': 0,\n",
       "  'essential oil': 1,\n",
       "  'alfalfa': 0,\n",
       "  'extracts': 0,\n",
       "  'constituents': 0,\n",
       "  'parthenolide': 0,\n",
       "  'radicle hypocotyl': 0,\n",
       "  'chemical': 0,\n",
       "  'coca': 0,\n",
       "  'products': 0,\n",
       "  'biological': 0,\n",
       "  'bryonia': 0,\n",
       "  'peanut oil': 1,\n",
       "  'glycitein': 1,\n",
       "  'medicinal': 0,\n",
       "  'glucosinolates': 0,\n",
       "  'flavonoids': 0,\n",
       "  'gossypol': 0,\n",
       "  'brassinin': 0,\n",
       "  'review': 0,\n",
       "  'zuiki': 0,\n",
       "  'pharmacological': 0,\n",
       "  'parthenium': 0,\n",
       "  'antioxidant': 0,\n",
       "  'artemisinin': 0,\n",
       "  'activities': 0,\n",
       "  'kiwifruit': 0,\n",
       "  'properties': 0,\n",
       "  'biological activities': 0,\n",
       "  'phytochemical': 0,\n",
       "  'genus': 0,\n",
       "  'health': 0,\n",
       "  'natural': 0,\n",
       "  'uses': 0,\n",
       "  'food': 0,\n",
       "  'bioactive': 0},\n",
       " 986961599.0: {'compounds': 1,\n",
       "  'essential': 0,\n",
       "  'oil': 0,\n",
       "  'found': 0,\n",
       "  'oils': 0,\n",
       "  'plant': 1,\n",
       "  'spp': 0,\n",
       "  'species': 1,\n",
       "  'alkaloid': 0,\n",
       "  'alkaloids': 1,\n",
       "  'essential oil': 0,\n",
       "  'alfalfa': 0,\n",
       "  'extracts': 0,\n",
       "  'constituents': 0,\n",
       "  'parthenolide': 0,\n",
       "  'radicle hypocotyl': 0,\n",
       "  'chemical': 0,\n",
       "  'coca': 0,\n",
       "  'products': 0,\n",
       "  'biological': 0,\n",
       "  'bryonia': 0,\n",
       "  'peanut oil': 0,\n",
       "  'glycitein': 0,\n",
       "  'medicinal': 1,\n",
       "  'glucosinolates': 0,\n",
       "  'flavonoids': 0,\n",
       "  'gossypol': 0,\n",
       "  'brassinin': 0,\n",
       "  'review': 0,\n",
       "  'zuiki': 0,\n",
       "  'pharmacological': 0,\n",
       "  'parthenium': 0,\n",
       "  'antioxidant': 0,\n",
       "  'artemisinin': 0,\n",
       "  'activities': 0,\n",
       "  'kiwifruit': 0,\n",
       "  'properties': 0,\n",
       "  'biological activities': 0,\n",
       "  'phytochemical': 0,\n",
       "  'genus': 0,\n",
       "  'health': 0,\n",
       "  'natural': 0,\n",
       "  'uses': 0,\n",
       "  'food': 0,\n",
       "  'bioactive': 0},\n",
       " 1018411199.0: {'compounds': 1,\n",
       "  'essential': 0,\n",
       "  'oil': 1,\n",
       "  'found': 0,\n",
       "  'oils': 0,\n",
       "  'plant': 1,\n",
       "  'spp': 0,\n",
       "  'species': 1,\n",
       "  'alkaloid': 0,\n",
       "  'alkaloids': 0,\n",
       "  'essential oil': 0,\n",
       "  'alfalfa': 0,\n",
       "  'extracts': 0,\n",
       "  'constituents': 0,\n",
       "  'parthenolide': 0,\n",
       "  'radicle hypocotyl': 0,\n",
       "  'chemical': 0,\n",
       "  'coca': 0,\n",
       "  'products': 0,\n",
       "  'biological': 0,\n",
       "  'bryonia': 0,\n",
       "  'peanut oil': 0,\n",
       "  'glycitein': 0,\n",
       "  'medicinal': 0,\n",
       "  'glucosinolates': 1,\n",
       "  'flavonoids': 0,\n",
       "  'gossypol': 0,\n",
       "  'brassinin': 0,\n",
       "  'review': 0,\n",
       "  'zuiki': 0,\n",
       "  'pharmacological': 0,\n",
       "  'parthenium': 0,\n",
       "  'antioxidant': 0,\n",
       "  'artemisinin': 0,\n",
       "  'activities': 0,\n",
       "  'kiwifruit': 0,\n",
       "  'properties': 0,\n",
       "  'biological activities': 0,\n",
       "  'phytochemical': 0,\n",
       "  'genus': 0,\n",
       "  'health': 0,\n",
       "  'natural': 0,\n",
       "  'uses': 0,\n",
       "  'food': 0,\n",
       "  'bioactive': 0},\n",
       " 1046494799.0: {'compounds': 1,\n",
       "  'essential': 0,\n",
       "  'oil': 0,\n",
       "  'found': 0,\n",
       "  'oils': 0,\n",
       "  'plant': 1,\n",
       "  'spp': 0,\n",
       "  'species': 1,\n",
       "  'alkaloid': 0,\n",
       "  'alkaloids': 0,\n",
       "  'essential oil': 0,\n",
       "  'alfalfa': 0,\n",
       "  'extracts': 0,\n",
       "  'constituents': 0,\n",
       "  'parthenolide': 0,\n",
       "  'radicle hypocotyl': 0,\n",
       "  'chemical': 0,\n",
       "  'coca': 0,\n",
       "  'products': 0,\n",
       "  'biological': 0,\n",
       "  'bryonia': 0,\n",
       "  'peanut oil': 0,\n",
       "  'glycitein': 0,\n",
       "  'medicinal': 1,\n",
       "  'glucosinolates': 0,\n",
       "  'flavonoids': 1,\n",
       "  'gossypol': 0,\n",
       "  'brassinin': 0,\n",
       "  'review': 0,\n",
       "  'zuiki': 0,\n",
       "  'pharmacological': 0,\n",
       "  'parthenium': 0,\n",
       "  'antioxidant': 0,\n",
       "  'artemisinin': 0,\n",
       "  'activities': 0,\n",
       "  'kiwifruit': 0,\n",
       "  'properties': 0,\n",
       "  'biological activities': 0,\n",
       "  'phytochemical': 0,\n",
       "  'genus': 0,\n",
       "  'health': 0,\n",
       "  'natural': 0,\n",
       "  'uses': 0,\n",
       "  'food': 0,\n",
       "  'bioactive': 0},\n",
       " 1072241999.0: {'compounds': 1,\n",
       "  'essential': 0,\n",
       "  'oil': 0,\n",
       "  'found': 0,\n",
       "  'oils': 0,\n",
       "  'plant': 1,\n",
       "  'spp': 0,\n",
       "  'species': 1,\n",
       "  'alkaloid': 0,\n",
       "  'alkaloids': 0,\n",
       "  'essential oil': 0,\n",
       "  'alfalfa': 0,\n",
       "  'extracts': 1,\n",
       "  'constituents': 0,\n",
       "  'parthenolide': 0,\n",
       "  'radicle hypocotyl': 0,\n",
       "  'chemical': 0,\n",
       "  'coca': 0,\n",
       "  'products': 0,\n",
       "  'biological': 0,\n",
       "  'bryonia': 0,\n",
       "  'peanut oil': 0,\n",
       "  'glycitein': 0,\n",
       "  'medicinal': 1,\n",
       "  'glucosinolates': 0,\n",
       "  'flavonoids': 0,\n",
       "  'gossypol': 0,\n",
       "  'brassinin': 0,\n",
       "  'review': 0,\n",
       "  'zuiki': 0,\n",
       "  'pharmacological': 0,\n",
       "  'parthenium': 0,\n",
       "  'antioxidant': 0,\n",
       "  'artemisinin': 0,\n",
       "  'activities': 0,\n",
       "  'kiwifruit': 0,\n",
       "  'properties': 0,\n",
       "  'biological activities': 0,\n",
       "  'phytochemical': 0,\n",
       "  'genus': 0,\n",
       "  'health': 0,\n",
       "  'natural': 0,\n",
       "  'uses': 0,\n",
       "  'food': 0,\n",
       "  'bioactive': 0},\n",
       " 1099285199.0: {'compounds': 1,\n",
       "  'essential': 0,\n",
       "  'oil': 0,\n",
       "  'found': 0,\n",
       "  'oils': 0,\n",
       "  'plant': 1,\n",
       "  'spp': 0,\n",
       "  'species': 1,\n",
       "  'alkaloid': 0,\n",
       "  'alkaloids': 0,\n",
       "  'essential oil': 0,\n",
       "  'alfalfa': 0,\n",
       "  'extracts': 0,\n",
       "  'constituents': 0,\n",
       "  'parthenolide': 0,\n",
       "  'radicle hypocotyl': 0,\n",
       "  'chemical': 0,\n",
       "  'coca': 0,\n",
       "  'products': 0,\n",
       "  'biological': 0,\n",
       "  'bryonia': 0,\n",
       "  'peanut oil': 0,\n",
       "  'glycitein': 0,\n",
       "  'medicinal': 1,\n",
       "  'glucosinolates': 0,\n",
       "  'flavonoids': 1,\n",
       "  'gossypol': 0,\n",
       "  'brassinin': 0,\n",
       "  'review': 0,\n",
       "  'zuiki': 0,\n",
       "  'pharmacological': 0,\n",
       "  'parthenium': 0,\n",
       "  'antioxidant': 0,\n",
       "  'artemisinin': 0,\n",
       "  'activities': 0,\n",
       "  'kiwifruit': 0,\n",
       "  'properties': 0,\n",
       "  'biological activities': 0,\n",
       "  'phytochemical': 0,\n",
       "  'genus': 0,\n",
       "  'health': 0,\n",
       "  'natural': 0,\n",
       "  'uses': 0,\n",
       "  'food': 0,\n",
       "  'bioactive': 0},\n",
       " 1123041599.0: {'compounds': 1,\n",
       "  'essential': 0,\n",
       "  'oil': 0,\n",
       "  'found': 0,\n",
       "  'oils': 0,\n",
       "  'plant': 1,\n",
       "  'spp': 0,\n",
       "  'species': 1,\n",
       "  'alkaloid': 0,\n",
       "  'alkaloids': 1,\n",
       "  'essential oil': 0,\n",
       "  'alfalfa': 0,\n",
       "  'extracts': 0,\n",
       "  'constituents': 0,\n",
       "  'parthenolide': 0,\n",
       "  'radicle hypocotyl': 0,\n",
       "  'chemical': 0,\n",
       "  'coca': 0,\n",
       "  'products': 0,\n",
       "  'biological': 0,\n",
       "  'bryonia': 0,\n",
       "  'peanut oil': 0,\n",
       "  'glycitein': 0,\n",
       "  'medicinal': 1,\n",
       "  'glucosinolates': 0,\n",
       "  'flavonoids': 0,\n",
       "  'gossypol': 0,\n",
       "  'brassinin': 0,\n",
       "  'review': 0,\n",
       "  'zuiki': 0,\n",
       "  'pharmacological': 0,\n",
       "  'parthenium': 0,\n",
       "  'antioxidant': 0,\n",
       "  'artemisinin': 0,\n",
       "  'activities': 0,\n",
       "  'kiwifruit': 0,\n",
       "  'properties': 0,\n",
       "  'biological activities': 0,\n",
       "  'phytochemical': 0,\n",
       "  'genus': 0,\n",
       "  'health': 0,\n",
       "  'natural': 0,\n",
       "  'uses': 0,\n",
       "  'food': 0,\n",
       "  'bioactive': 0},\n",
       " 1146196799.0: {'compounds': 1,\n",
       "  'essential': 0,\n",
       "  'oil': 0,\n",
       "  'found': 0,\n",
       "  'oils': 0,\n",
       "  'plant': 0,\n",
       "  'spp': 0,\n",
       "  'species': 1,\n",
       "  'alkaloid': 0,\n",
       "  'alkaloids': 0,\n",
       "  'essential oil': 0,\n",
       "  'alfalfa': 0,\n",
       "  'extracts': 0,\n",
       "  'constituents': 0,\n",
       "  'parthenolide': 0,\n",
       "  'radicle hypocotyl': 0,\n",
       "  'chemical': 0,\n",
       "  'coca': 0,\n",
       "  'products': 0,\n",
       "  'biological': 0,\n",
       "  'bryonia': 0,\n",
       "  'peanut oil': 0,\n",
       "  'glycitein': 0,\n",
       "  'medicinal': 0,\n",
       "  'glucosinolates': 0,\n",
       "  'flavonoids': 0,\n",
       "  'gossypol': 1,\n",
       "  'brassinin': 1,\n",
       "  'review': 1,\n",
       "  'zuiki': 0,\n",
       "  'pharmacological': 0,\n",
       "  'parthenium': 0,\n",
       "  'antioxidant': 0,\n",
       "  'artemisinin': 0,\n",
       "  'activities': 0,\n",
       "  'kiwifruit': 0,\n",
       "  'properties': 0,\n",
       "  'biological activities': 0,\n",
       "  'phytochemical': 0,\n",
       "  'genus': 0,\n",
       "  'health': 0,\n",
       "  'natural': 0,\n",
       "  'uses': 0,\n",
       "  'food': 0,\n",
       "  'bioactive': 0},\n",
       " 1167627599.0: {'compounds': 1,\n",
       "  'essential': 0,\n",
       "  'oil': 0,\n",
       "  'found': 0,\n",
       "  'oils': 0,\n",
       "  'plant': 1,\n",
       "  'spp': 0,\n",
       "  'species': 1,\n",
       "  'alkaloid': 0,\n",
       "  'alkaloids': 0,\n",
       "  'essential oil': 0,\n",
       "  'alfalfa': 0,\n",
       "  'extracts': 0,\n",
       "  'constituents': 0,\n",
       "  'parthenolide': 0,\n",
       "  'radicle hypocotyl': 0,\n",
       "  'chemical': 1,\n",
       "  'coca': 0,\n",
       "  'products': 0,\n",
       "  'biological': 0,\n",
       "  'bryonia': 0,\n",
       "  'peanut oil': 0,\n",
       "  'glycitein': 0,\n",
       "  'medicinal': 0,\n",
       "  'glucosinolates': 0,\n",
       "  'flavonoids': 0,\n",
       "  'gossypol': 1,\n",
       "  'brassinin': 0,\n",
       "  'review': 0,\n",
       "  'zuiki': 0,\n",
       "  'pharmacological': 0,\n",
       "  'parthenium': 0,\n",
       "  'antioxidant': 0,\n",
       "  'artemisinin': 0,\n",
       "  'activities': 0,\n",
       "  'kiwifruit': 0,\n",
       "  'properties': 0,\n",
       "  'biological activities': 0,\n",
       "  'phytochemical': 0,\n",
       "  'genus': 0,\n",
       "  'health': 0,\n",
       "  'natural': 0,\n",
       "  'uses': 0,\n",
       "  'food': 0,\n",
       "  'bioactive': 0},\n",
       " 1188619199.0: {'compounds': 1,\n",
       "  'essential': 0,\n",
       "  'oil': 0,\n",
       "  'found': 0,\n",
       "  'oils': 0,\n",
       "  'plant': 1,\n",
       "  'spp': 0,\n",
       "  'species': 0,\n",
       "  'alkaloid': 0,\n",
       "  'alkaloids': 0,\n",
       "  'essential oil': 0,\n",
       "  'alfalfa': 0,\n",
       "  'extracts': 0,\n",
       "  'constituents': 1,\n",
       "  'parthenolide': 0,\n",
       "  'radicle hypocotyl': 0,\n",
       "  'chemical': 0,\n",
       "  'coca': 0,\n",
       "  'products': 0,\n",
       "  'biological': 0,\n",
       "  'bryonia': 0,\n",
       "  'peanut oil': 0,\n",
       "  'glycitein': 0,\n",
       "  'medicinal': 0,\n",
       "  'glucosinolates': 0,\n",
       "  'flavonoids': 0,\n",
       "  'gossypol': 0,\n",
       "  'brassinin': 1,\n",
       "  'review': 0,\n",
       "  'zuiki': 1,\n",
       "  'pharmacological': 0,\n",
       "  'parthenium': 0,\n",
       "  'antioxidant': 0,\n",
       "  'artemisinin': 0,\n",
       "  'activities': 0,\n",
       "  'kiwifruit': 0,\n",
       "  'properties': 0,\n",
       "  'biological activities': 0,\n",
       "  'phytochemical': 0,\n",
       "  'genus': 0,\n",
       "  'health': 0,\n",
       "  'natural': 0,\n",
       "  'uses': 0,\n",
       "  'food': 0,\n",
       "  'bioactive': 0},\n",
       " 1209009599.0: {'compounds': 1,\n",
       "  'essential': 0,\n",
       "  'oil': 0,\n",
       "  'found': 0,\n",
       "  'oils': 0,\n",
       "  'plant': 0,\n",
       "  'spp': 0,\n",
       "  'species': 1,\n",
       "  'alkaloid': 0,\n",
       "  'alkaloids': 1,\n",
       "  'essential oil': 0,\n",
       "  'alfalfa': 0,\n",
       "  'extracts': 0,\n",
       "  'constituents': 0,\n",
       "  'parthenolide': 0,\n",
       "  'radicle hypocotyl': 0,\n",
       "  'chemical': 1,\n",
       "  'coca': 0,\n",
       "  'products': 0,\n",
       "  'biological': 0,\n",
       "  'bryonia': 0,\n",
       "  'peanut oil': 0,\n",
       "  'glycitein': 0,\n",
       "  'medicinal': 1,\n",
       "  'glucosinolates': 0,\n",
       "  'flavonoids': 0,\n",
       "  'gossypol': 0,\n",
       "  'brassinin': 0,\n",
       "  'review': 0,\n",
       "  'zuiki': 0,\n",
       "  'pharmacological': 0,\n",
       "  'parthenium': 0,\n",
       "  'antioxidant': 0,\n",
       "  'artemisinin': 0,\n",
       "  'activities': 0,\n",
       "  'kiwifruit': 0,\n",
       "  'properties': 0,\n",
       "  'biological activities': 0,\n",
       "  'phytochemical': 0,\n",
       "  'genus': 0,\n",
       "  'health': 0,\n",
       "  'natural': 0,\n",
       "  'uses': 0,\n",
       "  'food': 0,\n",
       "  'bioactive': 0},\n",
       " 1225947599.0: {'compounds': 1,\n",
       "  'essential': 0,\n",
       "  'oil': 1,\n",
       "  'found': 0,\n",
       "  'oils': 0,\n",
       "  'plant': 0,\n",
       "  'spp': 0,\n",
       "  'species': 1,\n",
       "  'alkaloid': 0,\n",
       "  'alkaloids': 1,\n",
       "  'essential oil': 1,\n",
       "  'alfalfa': 0,\n",
       "  'extracts': 0,\n",
       "  'constituents': 0,\n",
       "  'parthenolide': 0,\n",
       "  'radicle hypocotyl': 0,\n",
       "  'chemical': 0,\n",
       "  'coca': 0,\n",
       "  'products': 0,\n",
       "  'biological': 0,\n",
       "  'bryonia': 0,\n",
       "  'peanut oil': 0,\n",
       "  'glycitein': 0,\n",
       "  'medicinal': 0,\n",
       "  'glucosinolates': 0,\n",
       "  'flavonoids': 0,\n",
       "  'gossypol': 0,\n",
       "  'brassinin': 0,\n",
       "  'review': 0,\n",
       "  'zuiki': 0,\n",
       "  'pharmacological': 0,\n",
       "  'parthenium': 0,\n",
       "  'antioxidant': 0,\n",
       "  'artemisinin': 0,\n",
       "  'activities': 0,\n",
       "  'kiwifruit': 0,\n",
       "  'properties': 0,\n",
       "  'biological activities': 0,\n",
       "  'phytochemical': 0,\n",
       "  'genus': 0,\n",
       "  'health': 0,\n",
       "  'natural': 0,\n",
       "  'uses': 0,\n",
       "  'food': 0,\n",
       "  'bioactive': 0},\n",
       " 1245729599.0: {'compounds': 1,\n",
       "  'essential': 0,\n",
       "  'oil': 1,\n",
       "  'found': 0,\n",
       "  'oils': 0,\n",
       "  'plant': 1,\n",
       "  'spp': 0,\n",
       "  'species': 1,\n",
       "  'alkaloid': 0,\n",
       "  'alkaloids': 0,\n",
       "  'essential oil': 0,\n",
       "  'alfalfa': 0,\n",
       "  'extracts': 0,\n",
       "  'constituents': 0,\n",
       "  'parthenolide': 0,\n",
       "  'radicle hypocotyl': 0,\n",
       "  'chemical': 0,\n",
       "  'coca': 0,\n",
       "  'products': 0,\n",
       "  'biological': 0,\n",
       "  'bryonia': 0,\n",
       "  'peanut oil': 0,\n",
       "  'glycitein': 0,\n",
       "  'medicinal': 0,\n",
       "  'glucosinolates': 0,\n",
       "  'flavonoids': 0,\n",
       "  'gossypol': 0,\n",
       "  'brassinin': 1,\n",
       "  'review': 0,\n",
       "  'zuiki': 0,\n",
       "  'pharmacological': 0,\n",
       "  'parthenium': 0,\n",
       "  'antioxidant': 0,\n",
       "  'artemisinin': 0,\n",
       "  'activities': 0,\n",
       "  'kiwifruit': 0,\n",
       "  'properties': 0,\n",
       "  'biological activities': 0,\n",
       "  'phytochemical': 0,\n",
       "  'genus': 0,\n",
       "  'health': 0,\n",
       "  'natural': 0,\n",
       "  'uses': 0,\n",
       "  'food': 0,\n",
       "  'bioactive': 0},\n",
       " 1264136399.0: {'compounds': 1,\n",
       "  'essential': 0,\n",
       "  'oil': 0,\n",
       "  'found': 0,\n",
       "  'oils': 0,\n",
       "  'plant': 0,\n",
       "  'spp': 0,\n",
       "  'species': 1,\n",
       "  'alkaloid': 0,\n",
       "  'alkaloids': 0,\n",
       "  'essential oil': 0,\n",
       "  'alfalfa': 0,\n",
       "  'extracts': 0,\n",
       "  'constituents': 0,\n",
       "  'parthenolide': 0,\n",
       "  'radicle hypocotyl': 0,\n",
       "  'chemical': 1,\n",
       "  'coca': 0,\n",
       "  'products': 0,\n",
       "  'biological': 0,\n",
       "  'bryonia': 0,\n",
       "  'peanut oil': 0,\n",
       "  'glycitein': 0,\n",
       "  'medicinal': 1,\n",
       "  'glucosinolates': 0,\n",
       "  'flavonoids': 0,\n",
       "  'gossypol': 0,\n",
       "  'brassinin': 0,\n",
       "  'review': 0,\n",
       "  'zuiki': 0,\n",
       "  'pharmacological': 1,\n",
       "  'parthenium': 0,\n",
       "  'antioxidant': 0,\n",
       "  'artemisinin': 0,\n",
       "  'activities': 0,\n",
       "  'kiwifruit': 0,\n",
       "  'properties': 0,\n",
       "  'biological activities': 0,\n",
       "  'phytochemical': 0,\n",
       "  'genus': 0,\n",
       "  'health': 0,\n",
       "  'natural': 0,\n",
       "  'uses': 0,\n",
       "  'food': 0,\n",
       "  'bioactive': 0},\n",
       " 1282622399.0: {'compounds': 1,\n",
       "  'essential': 0,\n",
       "  'oil': 1,\n",
       "  'found': 0,\n",
       "  'oils': 0,\n",
       "  'plant': 0,\n",
       "  'spp': 0,\n",
       "  'species': 1,\n",
       "  'alkaloid': 0,\n",
       "  'alkaloids': 1,\n",
       "  'essential oil': 0,\n",
       "  'alfalfa': 0,\n",
       "  'extracts': 0,\n",
       "  'constituents': 0,\n",
       "  'parthenolide': 0,\n",
       "  'radicle hypocotyl': 0,\n",
       "  'chemical': 0,\n",
       "  'coca': 0,\n",
       "  'products': 0,\n",
       "  'biological': 0,\n",
       "  'bryonia': 0,\n",
       "  'peanut oil': 0,\n",
       "  'glycitein': 0,\n",
       "  'medicinal': 0,\n",
       "  'glucosinolates': 0,\n",
       "  'flavonoids': 0,\n",
       "  'gossypol': 0,\n",
       "  'brassinin': 0,\n",
       "  'review': 1,\n",
       "  'zuiki': 0,\n",
       "  'pharmacological': 0,\n",
       "  'parthenium': 0,\n",
       "  'antioxidant': 0,\n",
       "  'artemisinin': 0,\n",
       "  'activities': 0,\n",
       "  'kiwifruit': 0,\n",
       "  'properties': 0,\n",
       "  'biological activities': 0,\n",
       "  'phytochemical': 0,\n",
       "  'genus': 0,\n",
       "  'health': 0,\n",
       "  'natural': 0,\n",
       "  'uses': 0,\n",
       "  'food': 0,\n",
       "  'bioactive': 0},\n",
       " 1300161599.0: {'compounds': 1,\n",
       "  'essential': 0,\n",
       "  'oil': 1,\n",
       "  'found': 0,\n",
       "  'oils': 0,\n",
       "  'plant': 0,\n",
       "  'spp': 0,\n",
       "  'species': 0,\n",
       "  'alkaloid': 0,\n",
       "  'alkaloids': 0,\n",
       "  'essential oil': 0,\n",
       "  'alfalfa': 0,\n",
       "  'extracts': 1,\n",
       "  'constituents': 0,\n",
       "  'parthenolide': 0,\n",
       "  'radicle hypocotyl': 0,\n",
       "  'chemical': 0,\n",
       "  'coca': 0,\n",
       "  'products': 0,\n",
       "  'biological': 0,\n",
       "  'bryonia': 0,\n",
       "  'peanut oil': 0,\n",
       "  'glycitein': 0,\n",
       "  'medicinal': 0,\n",
       "  'glucosinolates': 0,\n",
       "  'flavonoids': 1,\n",
       "  'gossypol': 0,\n",
       "  'brassinin': 0,\n",
       "  'review': 0,\n",
       "  'zuiki': 0,\n",
       "  'pharmacological': 0,\n",
       "  'parthenium': 1,\n",
       "  'antioxidant': 0,\n",
       "  'artemisinin': 0,\n",
       "  'activities': 0,\n",
       "  'kiwifruit': 0,\n",
       "  'properties': 0,\n",
       "  'biological activities': 0,\n",
       "  'phytochemical': 0,\n",
       "  'genus': 0,\n",
       "  'health': 0,\n",
       "  'natural': 0,\n",
       "  'uses': 0,\n",
       "  'food': 0,\n",
       "  'bioactive': 0},\n",
       " 1316145599.0: {'compounds': 1,\n",
       "  'essential': 0,\n",
       "  'oil': 0,\n",
       "  'found': 0,\n",
       "  'oils': 0,\n",
       "  'plant': 0,\n",
       "  'spp': 0,\n",
       "  'species': 1,\n",
       "  'alkaloid': 0,\n",
       "  'alkaloids': 0,\n",
       "  'essential oil': 0,\n",
       "  'alfalfa': 0,\n",
       "  'extracts': 0,\n",
       "  'constituents': 0,\n",
       "  'parthenolide': 0,\n",
       "  'radicle hypocotyl': 0,\n",
       "  'chemical': 1,\n",
       "  'coca': 0,\n",
       "  'products': 0,\n",
       "  'biological': 0,\n",
       "  'bryonia': 0,\n",
       "  'peanut oil': 0,\n",
       "  'glycitein': 0,\n",
       "  'medicinal': 0,\n",
       "  'glucosinolates': 0,\n",
       "  'flavonoids': 0,\n",
       "  'gossypol': 0,\n",
       "  'brassinin': 0,\n",
       "  'review': 0,\n",
       "  'zuiki': 0,\n",
       "  'pharmacological': 0,\n",
       "  'parthenium': 0,\n",
       "  'antioxidant': 1,\n",
       "  'artemisinin': 1,\n",
       "  'activities': 0,\n",
       "  'kiwifruit': 0,\n",
       "  'properties': 0,\n",
       "  'biological activities': 0,\n",
       "  'phytochemical': 0,\n",
       "  'genus': 0,\n",
       "  'health': 0,\n",
       "  'natural': 0,\n",
       "  'uses': 0,\n",
       "  'food': 0,\n",
       "  'bioactive': 0},\n",
       " 1332302399.0: {'compounds': 1,\n",
       "  'essential': 0,\n",
       "  'oil': 0,\n",
       "  'found': 0,\n",
       "  'oils': 0,\n",
       "  'plant': 1,\n",
       "  'spp': 0,\n",
       "  'species': 1,\n",
       "  'alkaloid': 0,\n",
       "  'alkaloids': 0,\n",
       "  'essential oil': 0,\n",
       "  'alfalfa': 0,\n",
       "  'extracts': 0,\n",
       "  'constituents': 0,\n",
       "  'parthenolide': 0,\n",
       "  'radicle hypocotyl': 0,\n",
       "  'chemical': 0,\n",
       "  'coca': 0,\n",
       "  'products': 0,\n",
       "  'biological': 0,\n",
       "  'bryonia': 0,\n",
       "  'peanut oil': 0,\n",
       "  'glycitein': 0,\n",
       "  'medicinal': 0,\n",
       "  'glucosinolates': 0,\n",
       "  'flavonoids': 0,\n",
       "  'gossypol': 0,\n",
       "  'brassinin': 0,\n",
       "  'review': 1,\n",
       "  'zuiki': 0,\n",
       "  'pharmacological': 0,\n",
       "  'parthenium': 0,\n",
       "  'antioxidant': 0,\n",
       "  'artemisinin': 0,\n",
       "  'activities': 1,\n",
       "  'kiwifruit': 0,\n",
       "  'properties': 0,\n",
       "  'biological activities': 0,\n",
       "  'phytochemical': 0,\n",
       "  'genus': 0,\n",
       "  'health': 0,\n",
       "  'natural': 0,\n",
       "  'uses': 0,\n",
       "  'food': 0,\n",
       "  'bioactive': 0},\n",
       " 1347335999.0: {'compounds': 1,\n",
       "  'essential': 0,\n",
       "  'oil': 0,\n",
       "  'found': 0,\n",
       "  'oils': 0,\n",
       "  'plant': 0,\n",
       "  'spp': 0,\n",
       "  'species': 0,\n",
       "  'alkaloid': 0,\n",
       "  'alkaloids': 1,\n",
       "  'essential oil': 0,\n",
       "  'alfalfa': 0,\n",
       "  'extracts': 0,\n",
       "  'constituents': 1,\n",
       "  'parthenolide': 0,\n",
       "  'radicle hypocotyl': 0,\n",
       "  'chemical': 0,\n",
       "  'coca': 0,\n",
       "  'products': 0,\n",
       "  'biological': 1,\n",
       "  'bryonia': 0,\n",
       "  'peanut oil': 0,\n",
       "  'glycitein': 0,\n",
       "  'medicinal': 1,\n",
       "  'glucosinolates': 0,\n",
       "  'flavonoids': 0,\n",
       "  'gossypol': 0,\n",
       "  'brassinin': 0,\n",
       "  'review': 0,\n",
       "  'zuiki': 0,\n",
       "  'pharmacological': 0,\n",
       "  'parthenium': 0,\n",
       "  'antioxidant': 0,\n",
       "  'artemisinin': 0,\n",
       "  'activities': 0,\n",
       "  'kiwifruit': 0,\n",
       "  'properties': 0,\n",
       "  'biological activities': 0,\n",
       "  'phytochemical': 0,\n",
       "  'genus': 0,\n",
       "  'health': 0,\n",
       "  'natural': 0,\n",
       "  'uses': 0,\n",
       "  'food': 0,\n",
       "  'bioactive': 0},\n",
       " 1362200399.0: {'compounds': 1,\n",
       "  'essential': 0,\n",
       "  'oil': 0,\n",
       "  'found': 0,\n",
       "  'oils': 0,\n",
       "  'plant': 1,\n",
       "  'spp': 0,\n",
       "  'species': 0,\n",
       "  'alkaloid': 0,\n",
       "  'alkaloids': 0,\n",
       "  'essential oil': 0,\n",
       "  'alfalfa': 0,\n",
       "  'extracts': 0,\n",
       "  'constituents': 0,\n",
       "  'parthenolide': 0,\n",
       "  'radicle hypocotyl': 0,\n",
       "  'chemical': 1,\n",
       "  'coca': 0,\n",
       "  'products': 0,\n",
       "  'biological': 0,\n",
       "  'bryonia': 0,\n",
       "  'peanut oil': 0,\n",
       "  'glycitein': 0,\n",
       "  'medicinal': 0,\n",
       "  'glucosinolates': 0,\n",
       "  'flavonoids': 0,\n",
       "  'gossypol': 0,\n",
       "  'brassinin': 0,\n",
       "  'review': 0,\n",
       "  'zuiki': 0,\n",
       "  'pharmacological': 1,\n",
       "  'parthenium': 0,\n",
       "  'antioxidant': 0,\n",
       "  'artemisinin': 0,\n",
       "  'activities': 0,\n",
       "  'kiwifruit': 1,\n",
       "  'properties': 0,\n",
       "  'biological activities': 0,\n",
       "  'phytochemical': 0,\n",
       "  'genus': 0,\n",
       "  'health': 0,\n",
       "  'natural': 0,\n",
       "  'uses': 0,\n",
       "  'food': 0,\n",
       "  'bioactive': 0},\n",
       " 1375934399.0: {'compounds': 1,\n",
       "  'essential': 0,\n",
       "  'oil': 0,\n",
       "  'found': 0,\n",
       "  'oils': 0,\n",
       "  'plant': 0,\n",
       "  'spp': 0,\n",
       "  'species': 0,\n",
       "  'alkaloid': 0,\n",
       "  'alkaloids': 0,\n",
       "  'essential oil': 0,\n",
       "  'alfalfa': 0,\n",
       "  'extracts': 0,\n",
       "  'constituents': 0,\n",
       "  'parthenolide': 0,\n",
       "  'radicle hypocotyl': 0,\n",
       "  'chemical': 0,\n",
       "  'coca': 0,\n",
       "  'products': 0,\n",
       "  'biological': 0,\n",
       "  'bryonia': 0,\n",
       "  'peanut oil': 0,\n",
       "  'glycitein': 0,\n",
       "  'medicinal': 1,\n",
       "  'glucosinolates': 0,\n",
       "  'flavonoids': 0,\n",
       "  'gossypol': 0,\n",
       "  'brassinin': 0,\n",
       "  'review': 1,\n",
       "  'zuiki': 0,\n",
       "  'pharmacological': 1,\n",
       "  'parthenium': 0,\n",
       "  'antioxidant': 0,\n",
       "  'artemisinin': 0,\n",
       "  'activities': 0,\n",
       "  'kiwifruit': 0,\n",
       "  'properties': 1,\n",
       "  'biological activities': 0,\n",
       "  'phytochemical': 0,\n",
       "  'genus': 0,\n",
       "  'health': 0,\n",
       "  'natural': 0,\n",
       "  'uses': 0,\n",
       "  'food': 0,\n",
       "  'bioactive': 0},\n",
       " 1389761999.0: {'compounds': 1,\n",
       "  'essential': 0,\n",
       "  'oil': 0,\n",
       "  'found': 0,\n",
       "  'oils': 0,\n",
       "  'plant': 0,\n",
       "  'spp': 0,\n",
       "  'species': 0,\n",
       "  'alkaloid': 0,\n",
       "  'alkaloids': 0,\n",
       "  'essential oil': 0,\n",
       "  'alfalfa': 0,\n",
       "  'extracts': 0,\n",
       "  'constituents': 0,\n",
       "  'parthenolide': 0,\n",
       "  'radicle hypocotyl': 0,\n",
       "  'chemical': 0,\n",
       "  'coca': 0,\n",
       "  'products': 0,\n",
       "  'biological': 1,\n",
       "  'bryonia': 0,\n",
       "  'peanut oil': 0,\n",
       "  'glycitein': 0,\n",
       "  'medicinal': 1,\n",
       "  'glucosinolates': 0,\n",
       "  'flavonoids': 0,\n",
       "  'gossypol': 0,\n",
       "  'brassinin': 0,\n",
       "  'review': 1,\n",
       "  'zuiki': 0,\n",
       "  'pharmacological': 0,\n",
       "  'parthenium': 0,\n",
       "  'antioxidant': 0,\n",
       "  'artemisinin': 0,\n",
       "  'activities': 0,\n",
       "  'kiwifruit': 0,\n",
       "  'properties': 0,\n",
       "  'biological activities': 1,\n",
       "  'phytochemical': 0,\n",
       "  'genus': 0,\n",
       "  'health': 0,\n",
       "  'natural': 0,\n",
       "  'uses': 0,\n",
       "  'food': 0,\n",
       "  'bioactive': 0},\n",
       " 1402199999.0: {'compounds': 1,\n",
       "  'essential': 0,\n",
       "  'oil': 0,\n",
       "  'found': 0,\n",
       "  'oils': 0,\n",
       "  'plant': 0,\n",
       "  'spp': 0,\n",
       "  'species': 1,\n",
       "  'alkaloid': 0,\n",
       "  'alkaloids': 0,\n",
       "  'essential oil': 0,\n",
       "  'alfalfa': 0,\n",
       "  'extracts': 0,\n",
       "  'constituents': 0,\n",
       "  'parthenolide': 0,\n",
       "  'radicle hypocotyl': 0,\n",
       "  'chemical': 1,\n",
       "  'coca': 0,\n",
       "  'products': 0,\n",
       "  'biological': 0,\n",
       "  'bryonia': 0,\n",
       "  'peanut oil': 0,\n",
       "  'glycitein': 0,\n",
       "  'medicinal': 1,\n",
       "  'glucosinolates': 0,\n",
       "  'flavonoids': 0,\n",
       "  'gossypol': 0,\n",
       "  'brassinin': 0,\n",
       "  'review': 0,\n",
       "  'zuiki': 0,\n",
       "  'pharmacological': 0,\n",
       "  'parthenium': 0,\n",
       "  'antioxidant': 0,\n",
       "  'artemisinin': 1,\n",
       "  'activities': 0,\n",
       "  'kiwifruit': 0,\n",
       "  'properties': 0,\n",
       "  'biological activities': 0,\n",
       "  'phytochemical': 0,\n",
       "  'genus': 0,\n",
       "  'health': 0,\n",
       "  'natural': 0,\n",
       "  'uses': 0,\n",
       "  'food': 0,\n",
       "  'bioactive': 0},\n",
       " 1414900799.0: {'compounds': 1,\n",
       "  'essential': 0,\n",
       "  'oil': 0,\n",
       "  'found': 0,\n",
       "  'oils': 0,\n",
       "  'plant': 0,\n",
       "  'spp': 0,\n",
       "  'species': 1,\n",
       "  'alkaloid': 0,\n",
       "  'alkaloids': 0,\n",
       "  'essential oil': 0,\n",
       "  'alfalfa': 0,\n",
       "  'extracts': 0,\n",
       "  'constituents': 0,\n",
       "  'parthenolide': 0,\n",
       "  'radicle hypocotyl': 0,\n",
       "  'chemical': 0,\n",
       "  'coca': 0,\n",
       "  'products': 0,\n",
       "  'biological': 0,\n",
       "  'bryonia': 0,\n",
       "  'peanut oil': 0,\n",
       "  'glycitein': 0,\n",
       "  'medicinal': 1,\n",
       "  'glucosinolates': 0,\n",
       "  'flavonoids': 0,\n",
       "  'gossypol': 0,\n",
       "  'brassinin': 0,\n",
       "  'review': 1,\n",
       "  'zuiki': 0,\n",
       "  'pharmacological': 0,\n",
       "  'parthenium': 0,\n",
       "  'antioxidant': 0,\n",
       "  'artemisinin': 0,\n",
       "  'activities': 0,\n",
       "  'kiwifruit': 0,\n",
       "  'properties': 0,\n",
       "  'biological activities': 0,\n",
       "  'phytochemical': 1,\n",
       "  'genus': 0,\n",
       "  'health': 0,\n",
       "  'natural': 0,\n",
       "  'uses': 0,\n",
       "  'food': 0,\n",
       "  'bioactive': 0},\n",
       " 1427342399.0: {'compounds': 1,\n",
       "  'essential': 0,\n",
       "  'oil': 0,\n",
       "  'found': 0,\n",
       "  'oils': 0,\n",
       "  'plant': 0,\n",
       "  'spp': 0,\n",
       "  'species': 1,\n",
       "  'alkaloid': 0,\n",
       "  'alkaloids': 0,\n",
       "  'essential oil': 0,\n",
       "  'alfalfa': 0,\n",
       "  'extracts': 0,\n",
       "  'constituents': 0,\n",
       "  'parthenolide': 0,\n",
       "  'radicle hypocotyl': 0,\n",
       "  'chemical': 0,\n",
       "  'coca': 0,\n",
       "  'products': 0,\n",
       "  'biological': 0,\n",
       "  'bryonia': 0,\n",
       "  'peanut oil': 0,\n",
       "  'glycitein': 0,\n",
       "  'medicinal': 1,\n",
       "  'glucosinolates': 0,\n",
       "  'flavonoids': 0,\n",
       "  'gossypol': 0,\n",
       "  'brassinin': 0,\n",
       "  'review': 1,\n",
       "  'zuiki': 0,\n",
       "  'pharmacological': 0,\n",
       "  'parthenium': 0,\n",
       "  'antioxidant': 0,\n",
       "  'artemisinin': 0,\n",
       "  'activities': 0,\n",
       "  'kiwifruit': 0,\n",
       "  'properties': 0,\n",
       "  'biological activities': 0,\n",
       "  'phytochemical': 0,\n",
       "  'genus': 1,\n",
       "  'health': 0,\n",
       "  'natural': 0,\n",
       "  'uses': 0,\n",
       "  'food': 0,\n",
       "  'bioactive': 0},\n",
       " 1439697599.0: {'compounds': 1,\n",
       "  'essential': 0,\n",
       "  'oil': 0,\n",
       "  'found': 0,\n",
       "  'oils': 1,\n",
       "  'plant': 0,\n",
       "  'spp': 0,\n",
       "  'species': 0,\n",
       "  'alkaloid': 0,\n",
       "  'alkaloids': 0,\n",
       "  'essential oil': 0,\n",
       "  'alfalfa': 0,\n",
       "  'extracts': 0,\n",
       "  'constituents': 0,\n",
       "  'parthenolide': 0,\n",
       "  'radicle hypocotyl': 0,\n",
       "  'chemical': 1,\n",
       "  'coca': 0,\n",
       "  'products': 0,\n",
       "  'biological': 0,\n",
       "  'bryonia': 0,\n",
       "  'peanut oil': 0,\n",
       "  'glycitein': 0,\n",
       "  'medicinal': 1,\n",
       "  'glucosinolates': 0,\n",
       "  'flavonoids': 0,\n",
       "  'gossypol': 0,\n",
       "  'brassinin': 0,\n",
       "  'review': 0,\n",
       "  'zuiki': 0,\n",
       "  'pharmacological': 0,\n",
       "  'parthenium': 0,\n",
       "  'antioxidant': 0,\n",
       "  'artemisinin': 0,\n",
       "  'activities': 0,\n",
       "  'kiwifruit': 0,\n",
       "  'properties': 0,\n",
       "  'biological activities': 0,\n",
       "  'phytochemical': 1,\n",
       "  'genus': 0,\n",
       "  'health': 0,\n",
       "  'natural': 0,\n",
       "  'uses': 0,\n",
       "  'food': 0,\n",
       "  'bioactive': 0},\n",
       " 1451969999.0: {'compounds': 1,\n",
       "  'essential': 0,\n",
       "  'oil': 0,\n",
       "  'found': 0,\n",
       "  'oils': 0,\n",
       "  'plant': 0,\n",
       "  'spp': 0,\n",
       "  'species': 1,\n",
       "  'alkaloid': 0,\n",
       "  'alkaloids': 0,\n",
       "  'essential oil': 0,\n",
       "  'alfalfa': 0,\n",
       "  'extracts': 0,\n",
       "  'constituents': 0,\n",
       "  'parthenolide': 0,\n",
       "  'radicle hypocotyl': 0,\n",
       "  'chemical': 0,\n",
       "  'coca': 0,\n",
       "  'products': 0,\n",
       "  'biological': 0,\n",
       "  'bryonia': 0,\n",
       "  'peanut oil': 0,\n",
       "  'glycitein': 0,\n",
       "  'medicinal': 1,\n",
       "  'glucosinolates': 0,\n",
       "  'flavonoids': 0,\n",
       "  'gossypol': 0,\n",
       "  'brassinin': 0,\n",
       "  'review': 1,\n",
       "  'zuiki': 0,\n",
       "  'pharmacological': 1,\n",
       "  'parthenium': 0,\n",
       "  'antioxidant': 0,\n",
       "  'artemisinin': 0,\n",
       "  'activities': 0,\n",
       "  'kiwifruit': 0,\n",
       "  'properties': 0,\n",
       "  'biological activities': 0,\n",
       "  'phytochemical': 0,\n",
       "  'genus': 0,\n",
       "  'health': 0,\n",
       "  'natural': 0,\n",
       "  'uses': 0,\n",
       "  'food': 0,\n",
       "  'bioactive': 0},\n",
       " 1463716799.0: {'compounds': 1,\n",
       "  'essential': 0,\n",
       "  'oil': 0,\n",
       "  'found': 0,\n",
       "  'oils': 0,\n",
       "  'plant': 0,\n",
       "  'spp': 0,\n",
       "  'species': 1,\n",
       "  'alkaloid': 0,\n",
       "  'alkaloids': 0,\n",
       "  'essential oil': 0,\n",
       "  'alfalfa': 0,\n",
       "  'extracts': 0,\n",
       "  'constituents': 0,\n",
       "  'parthenolide': 0,\n",
       "  'radicle hypocotyl': 0,\n",
       "  'chemical': 0,\n",
       "  'coca': 0,\n",
       "  'products': 0,\n",
       "  'biological': 0,\n",
       "  'bryonia': 0,\n",
       "  'peanut oil': 0,\n",
       "  'glycitein': 0,\n",
       "  'medicinal': 0,\n",
       "  'glucosinolates': 0,\n",
       "  'flavonoids': 1,\n",
       "  'gossypol': 0,\n",
       "  'brassinin': 0,\n",
       "  'review': 1,\n",
       "  'zuiki': 0,\n",
       "  'pharmacological': 1,\n",
       "  'parthenium': 0,\n",
       "  'antioxidant': 0,\n",
       "  'artemisinin': 0,\n",
       "  'activities': 0,\n",
       "  'kiwifruit': 0,\n",
       "  'properties': 0,\n",
       "  'biological activities': 0,\n",
       "  'phytochemical': 0,\n",
       "  'genus': 0,\n",
       "  'health': 0,\n",
       "  'natural': 0,\n",
       "  'uses': 0,\n",
       "  'food': 0,\n",
       "  'bioactive': 0},\n",
       " 1475899199.0: {'compounds': 1,\n",
       "  'essential': 0,\n",
       "  'oil': 0,\n",
       "  'found': 0,\n",
       "  'oils': 0,\n",
       "  'plant': 0,\n",
       "  'spp': 0,\n",
       "  'species': 1,\n",
       "  'alkaloid': 0,\n",
       "  'alkaloids': 0,\n",
       "  'essential oil': 0,\n",
       "  'alfalfa': 0,\n",
       "  'extracts': 0,\n",
       "  'constituents': 0,\n",
       "  'parthenolide': 0,\n",
       "  'radicle hypocotyl': 0,\n",
       "  'chemical': 1,\n",
       "  'coca': 0,\n",
       "  'products': 0,\n",
       "  'biological': 0,\n",
       "  'bryonia': 0,\n",
       "  'peanut oil': 0,\n",
       "  'glycitein': 0,\n",
       "  'medicinal': 1,\n",
       "  'glucosinolates': 0,\n",
       "  'flavonoids': 0,\n",
       "  'gossypol': 0,\n",
       "  'brassinin': 0,\n",
       "  'review': 1,\n",
       "  'zuiki': 0,\n",
       "  'pharmacological': 0,\n",
       "  'parthenium': 0,\n",
       "  'antioxidant': 0,\n",
       "  'artemisinin': 0,\n",
       "  'activities': 0,\n",
       "  'kiwifruit': 0,\n",
       "  'properties': 0,\n",
       "  'biological activities': 0,\n",
       "  'phytochemical': 0,\n",
       "  'genus': 0,\n",
       "  'health': 0,\n",
       "  'natural': 0,\n",
       "  'uses': 0,\n",
       "  'food': 0,\n",
       "  'bioactive': 0},\n",
       " 1487393999.0: {'compounds': 1,\n",
       "  'essential': 0,\n",
       "  'oil': 0,\n",
       "  'found': 0,\n",
       "  'oils': 0,\n",
       "  'plant': 1,\n",
       "  'spp': 0,\n",
       "  'species': 1,\n",
       "  'alkaloid': 0,\n",
       "  'alkaloids': 0,\n",
       "  'essential oil': 0,\n",
       "  'alfalfa': 0,\n",
       "  'extracts': 0,\n",
       "  'constituents': 0,\n",
       "  'parthenolide': 0,\n",
       "  'radicle hypocotyl': 0,\n",
       "  'chemical': 0,\n",
       "  'coca': 0,\n",
       "  'products': 0,\n",
       "  'biological': 0,\n",
       "  'bryonia': 0,\n",
       "  'peanut oil': 0,\n",
       "  'glycitein': 0,\n",
       "  'medicinal': 1,\n",
       "  'glucosinolates': 0,\n",
       "  'flavonoids': 0,\n",
       "  'gossypol': 0,\n",
       "  'brassinin': 0,\n",
       "  'review': 1,\n",
       "  'zuiki': 0,\n",
       "  'pharmacological': 0,\n",
       "  'parthenium': 0,\n",
       "  'antioxidant': 0,\n",
       "  'artemisinin': 0,\n",
       "  'activities': 0,\n",
       "  'kiwifruit': 0,\n",
       "  'properties': 0,\n",
       "  'biological activities': 0,\n",
       "  'phytochemical': 0,\n",
       "  'genus': 0,\n",
       "  'health': 0,\n",
       "  'natural': 0,\n",
       "  'uses': 0,\n",
       "  'food': 0,\n",
       "  'bioactive': 0},\n",
       " 1498967999.0: {'compounds': 1,\n",
       "  'essential': 0,\n",
       "  'oil': 0,\n",
       "  'found': 0,\n",
       "  'oils': 0,\n",
       "  'plant': 0,\n",
       "  'spp': 0,\n",
       "  'species': 1,\n",
       "  'alkaloid': 0,\n",
       "  'alkaloids': 0,\n",
       "  'essential oil': 0,\n",
       "  'alfalfa': 0,\n",
       "  'extracts': 0,\n",
       "  'constituents': 0,\n",
       "  'parthenolide': 0,\n",
       "  'radicle hypocotyl': 0,\n",
       "  'chemical': 1,\n",
       "  'coca': 0,\n",
       "  'products': 0,\n",
       "  'biological': 0,\n",
       "  'bryonia': 0,\n",
       "  'peanut oil': 0,\n",
       "  'glycitein': 0,\n",
       "  'medicinal': 0,\n",
       "  'glucosinolates': 0,\n",
       "  'flavonoids': 0,\n",
       "  'gossypol': 0,\n",
       "  'brassinin': 0,\n",
       "  'review': 1,\n",
       "  'zuiki': 0,\n",
       "  'pharmacological': 0,\n",
       "  'parthenium': 0,\n",
       "  'antioxidant': 0,\n",
       "  'artemisinin': 0,\n",
       "  'activities': 0,\n",
       "  'kiwifruit': 0,\n",
       "  'properties': 1,\n",
       "  'biological activities': 0,\n",
       "  'phytochemical': 0,\n",
       "  'genus': 0,\n",
       "  'health': 0,\n",
       "  'natural': 0,\n",
       "  'uses': 0,\n",
       "  'food': 0,\n",
       "  'bioactive': 0},\n",
       " 1510376399.0: {'compounds': 1,\n",
       "  'essential': 0,\n",
       "  'oil': 1,\n",
       "  'found': 0,\n",
       "  'oils': 0,\n",
       "  'plant': 0,\n",
       "  'spp': 0,\n",
       "  'species': 1,\n",
       "  'alkaloid': 0,\n",
       "  'alkaloids': 0,\n",
       "  'essential oil': 0,\n",
       "  'alfalfa': 0,\n",
       "  'extracts': 0,\n",
       "  'constituents': 0,\n",
       "  'parthenolide': 0,\n",
       "  'radicle hypocotyl': 0,\n",
       "  'chemical': 0,\n",
       "  'coca': 0,\n",
       "  'products': 0,\n",
       "  'biological': 0,\n",
       "  'bryonia': 0,\n",
       "  'peanut oil': 0,\n",
       "  'glycitein': 0,\n",
       "  'medicinal': 1,\n",
       "  'glucosinolates': 0,\n",
       "  'flavonoids': 0,\n",
       "  'gossypol': 0,\n",
       "  'brassinin': 0,\n",
       "  'review': 1,\n",
       "  'zuiki': 0,\n",
       "  'pharmacological': 0,\n",
       "  'parthenium': 0,\n",
       "  'antioxidant': 0,\n",
       "  'artemisinin': 0,\n",
       "  'activities': 0,\n",
       "  'kiwifruit': 0,\n",
       "  'properties': 0,\n",
       "  'biological activities': 0,\n",
       "  'phytochemical': 0,\n",
       "  'genus': 0,\n",
       "  'health': 0,\n",
       "  'natural': 0,\n",
       "  'uses': 0,\n",
       "  'food': 0,\n",
       "  'bioactive': 0},\n",
       " 1521863999.0: {'compounds': 1,\n",
       "  'essential': 0,\n",
       "  'oil': 0,\n",
       "  'found': 0,\n",
       "  'oils': 0,\n",
       "  'plant': 0,\n",
       "  'spp': 0,\n",
       "  'species': 1,\n",
       "  'alkaloid': 0,\n",
       "  'alkaloids': 0,\n",
       "  'essential oil': 0,\n",
       "  'alfalfa': 0,\n",
       "  'extracts': 0,\n",
       "  'constituents': 0,\n",
       "  'parthenolide': 0,\n",
       "  'radicle hypocotyl': 0,\n",
       "  'chemical': 0,\n",
       "  'coca': 0,\n",
       "  'products': 0,\n",
       "  'biological': 0,\n",
       "  'bryonia': 0,\n",
       "  'peanut oil': 0,\n",
       "  'glycitein': 0,\n",
       "  'medicinal': 1,\n",
       "  'glucosinolates': 0,\n",
       "  'flavonoids': 0,\n",
       "  'gossypol': 0,\n",
       "  'brassinin': 0,\n",
       "  'review': 1,\n",
       "  'zuiki': 0,\n",
       "  'pharmacological': 1,\n",
       "  'parthenium': 0,\n",
       "  'antioxidant': 0,\n",
       "  'artemisinin': 0,\n",
       "  'activities': 0,\n",
       "  'kiwifruit': 0,\n",
       "  'properties': 0,\n",
       "  'biological activities': 0,\n",
       "  'phytochemical': 0,\n",
       "  'genus': 0,\n",
       "  'health': 0,\n",
       "  'natural': 0,\n",
       "  'uses': 0,\n",
       "  'food': 0,\n",
       "  'bioactive': 0},\n",
       " 1532750399.0: {'compounds': 1,\n",
       "  'essential': 0,\n",
       "  'oil': 0,\n",
       "  'found': 0,\n",
       "  'oils': 0,\n",
       "  'plant': 0,\n",
       "  'spp': 0,\n",
       "  'species': 1,\n",
       "  'alkaloid': 0,\n",
       "  'alkaloids': 0,\n",
       "  'essential oil': 0,\n",
       "  'alfalfa': 0,\n",
       "  'extracts': 0,\n",
       "  'constituents': 0,\n",
       "  'parthenolide': 0,\n",
       "  'radicle hypocotyl': 0,\n",
       "  'chemical': 0,\n",
       "  'coca': 0,\n",
       "  'products': 0,\n",
       "  'biological': 0,\n",
       "  'bryonia': 0,\n",
       "  'peanut oil': 0,\n",
       "  'glycitein': 0,\n",
       "  'medicinal': 0,\n",
       "  'glucosinolates': 0,\n",
       "  'flavonoids': 0,\n",
       "  'gossypol': 0,\n",
       "  'brassinin': 0,\n",
       "  'review': 1,\n",
       "  'zuiki': 0,\n",
       "  'pharmacological': 1,\n",
       "  'parthenium': 0,\n",
       "  'antioxidant': 0,\n",
       "  'artemisinin': 0,\n",
       "  'activities': 0,\n",
       "  'kiwifruit': 0,\n",
       "  'properties': 0,\n",
       "  'biological activities': 0,\n",
       "  'phytochemical': 0,\n",
       "  'genus': 0,\n",
       "  'health': 1,\n",
       "  'natural': 0,\n",
       "  'uses': 0,\n",
       "  'food': 0,\n",
       "  'bioactive': 0},\n",
       " 1543985999.0: {'compounds': 1,\n",
       "  'essential': 0,\n",
       "  'oil': 0,\n",
       "  'found': 0,\n",
       "  'oils': 0,\n",
       "  'plant': 0,\n",
       "  'spp': 0,\n",
       "  'species': 1,\n",
       "  'alkaloid': 0,\n",
       "  'alkaloids': 0,\n",
       "  'essential oil': 0,\n",
       "  'alfalfa': 0,\n",
       "  'extracts': 0,\n",
       "  'constituents': 0,\n",
       "  'parthenolide': 0,\n",
       "  'radicle hypocotyl': 0,\n",
       "  'chemical': 0,\n",
       "  'coca': 0,\n",
       "  'products': 0,\n",
       "  'biological': 0,\n",
       "  'bryonia': 0,\n",
       "  'peanut oil': 0,\n",
       "  'glycitein': 0,\n",
       "  'medicinal': 0,\n",
       "  'glucosinolates': 0,\n",
       "  'flavonoids': 1,\n",
       "  'gossypol': 0,\n",
       "  'brassinin': 0,\n",
       "  'review': 1,\n",
       "  'zuiki': 0,\n",
       "  'pharmacological': 0,\n",
       "  'parthenium': 0,\n",
       "  'antioxidant': 0,\n",
       "  'artemisinin': 0,\n",
       "  'activities': 0,\n",
       "  'kiwifruit': 0,\n",
       "  'properties': 0,\n",
       "  'biological activities': 0,\n",
       "  'phytochemical': 0,\n",
       "  'genus': 0,\n",
       "  'health': 0,\n",
       "  'natural': 1,\n",
       "  'uses': 0,\n",
       "  'food': 0,\n",
       "  'bioactive': 0},\n",
       " 1554177599.0: {'compounds': 1,\n",
       "  'essential': 0,\n",
       "  'oil': 0,\n",
       "  'found': 0,\n",
       "  'oils': 0,\n",
       "  'plant': 0,\n",
       "  'spp': 0,\n",
       "  'species': 0,\n",
       "  'alkaloid': 0,\n",
       "  'alkaloids': 0,\n",
       "  'essential oil': 0,\n",
       "  'alfalfa': 0,\n",
       "  'extracts': 0,\n",
       "  'constituents': 0,\n",
       "  'parthenolide': 0,\n",
       "  'radicle hypocotyl': 0,\n",
       "  'chemical': 1,\n",
       "  'coca': 0,\n",
       "  'products': 0,\n",
       "  'biological': 0,\n",
       "  'bryonia': 0,\n",
       "  'peanut oil': 0,\n",
       "  'glycitein': 0,\n",
       "  'medicinal': 0,\n",
       "  'glucosinolates': 0,\n",
       "  'flavonoids': 0,\n",
       "  'gossypol': 0,\n",
       "  'brassinin': 0,\n",
       "  'review': 1,\n",
       "  'zuiki': 0,\n",
       "  'pharmacological': 1,\n",
       "  'parthenium': 0,\n",
       "  'antioxidant': 0,\n",
       "  'artemisinin': 0,\n",
       "  'activities': 0,\n",
       "  'kiwifruit': 0,\n",
       "  'properties': 1,\n",
       "  'biological activities': 0,\n",
       "  'phytochemical': 0,\n",
       "  'genus': 0,\n",
       "  'health': 0,\n",
       "  'natural': 0,\n",
       "  'uses': 0,\n",
       "  'food': 0,\n",
       "  'bioactive': 0},\n",
       " 1564027199.0: {'compounds': 1,\n",
       "  'essential': 0,\n",
       "  'oil': 0,\n",
       "  'found': 0,\n",
       "  'oils': 0,\n",
       "  'plant': 0,\n",
       "  'spp': 0,\n",
       "  'species': 0,\n",
       "  'alkaloid': 0,\n",
       "  'alkaloids': 0,\n",
       "  'essential oil': 0,\n",
       "  'alfalfa': 0,\n",
       "  'extracts': 0,\n",
       "  'constituents': 0,\n",
       "  'parthenolide': 0,\n",
       "  'radicle hypocotyl': 0,\n",
       "  'chemical': 1,\n",
       "  'coca': 0,\n",
       "  'products': 0,\n",
       "  'biological': 0,\n",
       "  'bryonia': 0,\n",
       "  'peanut oil': 0,\n",
       "  'glycitein': 0,\n",
       "  'medicinal': 1,\n",
       "  'glucosinolates': 0,\n",
       "  'flavonoids': 0,\n",
       "  'gossypol': 0,\n",
       "  'brassinin': 0,\n",
       "  'review': 1,\n",
       "  'zuiki': 0,\n",
       "  'pharmacological': 0,\n",
       "  'parthenium': 0,\n",
       "  'antioxidant': 0,\n",
       "  'artemisinin': 0,\n",
       "  'activities': 0,\n",
       "  'kiwifruit': 0,\n",
       "  'properties': 0,\n",
       "  'biological activities': 0,\n",
       "  'phytochemical': 0,\n",
       "  'genus': 0,\n",
       "  'health': 0,\n",
       "  'natural': 0,\n",
       "  'uses': 1,\n",
       "  'food': 0,\n",
       "  'bioactive': 0},\n",
       " 1574053199.0: {'compounds': 1,\n",
       "  'essential': 0,\n",
       "  'oil': 0,\n",
       "  'found': 0,\n",
       "  'oils': 0,\n",
       "  'plant': 0,\n",
       "  'spp': 0,\n",
       "  'species': 1,\n",
       "  'alkaloid': 0,\n",
       "  'alkaloids': 0,\n",
       "  'essential oil': 0,\n",
       "  'alfalfa': 0,\n",
       "  'extracts': 0,\n",
       "  'constituents': 0,\n",
       "  'parthenolide': 0,\n",
       "  'radicle hypocotyl': 0,\n",
       "  'chemical': 0,\n",
       "  'coca': 0,\n",
       "  'products': 0,\n",
       "  'biological': 0,\n",
       "  'bryonia': 0,\n",
       "  'peanut oil': 0,\n",
       "  'glycitein': 0,\n",
       "  'medicinal': 1,\n",
       "  'glucosinolates': 0,\n",
       "  'flavonoids': 0,\n",
       "  'gossypol': 0,\n",
       "  'brassinin': 0,\n",
       "  'review': 1,\n",
       "  'zuiki': 0,\n",
       "  'pharmacological': 0,\n",
       "  'parthenium': 0,\n",
       "  'antioxidant': 0,\n",
       "  'artemisinin': 0,\n",
       "  'activities': 0,\n",
       "  'kiwifruit': 0,\n",
       "  'properties': 0,\n",
       "  'biological activities': 0,\n",
       "  'phytochemical': 0,\n",
       "  'genus': 0,\n",
       "  'health': 0,\n",
       "  'natural': 0,\n",
       "  'uses': 0,\n",
       "  'food': 1,\n",
       "  'bioactive': 0},\n",
       " 1583557199.0: {'compounds': 1,\n",
       "  'essential': 0,\n",
       "  'oil': 0,\n",
       "  'found': 0,\n",
       "  'oils': 0,\n",
       "  'plant': 0,\n",
       "  'spp': 0,\n",
       "  'species': 0,\n",
       "  'alkaloid': 0,\n",
       "  'alkaloids': 1,\n",
       "  'essential oil': 0,\n",
       "  'alfalfa': 0,\n",
       "  'extracts': 0,\n",
       "  'constituents': 0,\n",
       "  'parthenolide': 0,\n",
       "  'radicle hypocotyl': 0,\n",
       "  'chemical': 0,\n",
       "  'coca': 0,\n",
       "  'products': 0,\n",
       "  'biological': 0,\n",
       "  'bryonia': 0,\n",
       "  'peanut oil': 0,\n",
       "  'glycitein': 0,\n",
       "  'medicinal': 0,\n",
       "  'glucosinolates': 0,\n",
       "  'flavonoids': 0,\n",
       "  'gossypol': 0,\n",
       "  'brassinin': 0,\n",
       "  'review': 1,\n",
       "  'zuiki': 0,\n",
       "  'pharmacological': 1,\n",
       "  'parthenium': 0,\n",
       "  'antioxidant': 0,\n",
       "  'artemisinin': 0,\n",
       "  'activities': 0,\n",
       "  'kiwifruit': 0,\n",
       "  'properties': 0,\n",
       "  'biological activities': 0,\n",
       "  'phytochemical': 0,\n",
       "  'genus': 0,\n",
       "  'health': 0,\n",
       "  'natural': 0,\n",
       "  'uses': 0,\n",
       "  'food': 0,\n",
       "  'bioactive': 1},\n",
       " 1592711999.0: {'compounds': 1,\n",
       "  'essential': 0,\n",
       "  'oil': 0,\n",
       "  'found': 0,\n",
       "  'oils': 0,\n",
       "  'plant': 0,\n",
       "  'spp': 0,\n",
       "  'species': 1,\n",
       "  'alkaloid': 0,\n",
       "  'alkaloids': 0,\n",
       "  'essential oil': 0,\n",
       "  'alfalfa': 0,\n",
       "  'extracts': 0,\n",
       "  'constituents': 0,\n",
       "  'parthenolide': 0,\n",
       "  'radicle hypocotyl': 0,\n",
       "  'chemical': 0,\n",
       "  'coca': 0,\n",
       "  'products': 0,\n",
       "  'biological': 0,\n",
       "  'bryonia': 0,\n",
       "  'peanut oil': 0,\n",
       "  'glycitein': 0,\n",
       "  'medicinal': 1,\n",
       "  'glucosinolates': 0,\n",
       "  'flavonoids': 0,\n",
       "  'gossypol': 0,\n",
       "  'brassinin': 0,\n",
       "  'review': 1,\n",
       "  'zuiki': 0,\n",
       "  'pharmacological': 0,\n",
       "  'parthenium': 0,\n",
       "  'antioxidant': 0,\n",
       "  'artemisinin': 0,\n",
       "  'activities': 0,\n",
       "  'kiwifruit': 0,\n",
       "  'properties': 0,\n",
       "  'biological activities': 0,\n",
       "  'phytochemical': 0,\n",
       "  'genus': 1,\n",
       "  'health': 0,\n",
       "  'natural': 0,\n",
       "  'uses': 0,\n",
       "  'food': 0,\n",
       "  'bioactive': 0},\n",
       " 1601438399.0: {'compounds': 1,\n",
       "  'essential': 0,\n",
       "  'oil': 0,\n",
       "  'found': 0,\n",
       "  'oils': 0,\n",
       "  'plant': 0,\n",
       "  'spp': 0,\n",
       "  'species': 0,\n",
       "  'alkaloid': 0,\n",
       "  'alkaloids': 0,\n",
       "  'essential oil': 0,\n",
       "  'alfalfa': 0,\n",
       "  'extracts': 0,\n",
       "  'constituents': 0,\n",
       "  'parthenolide': 0,\n",
       "  'radicle hypocotyl': 0,\n",
       "  'chemical': 0,\n",
       "  'coca': 0,\n",
       "  'products': 0,\n",
       "  'biological': 0,\n",
       "  'bryonia': 0,\n",
       "  'peanut oil': 0,\n",
       "  'glycitein': 0,\n",
       "  'medicinal': 0,\n",
       "  'glucosinolates': 0,\n",
       "  'flavonoids': 0,\n",
       "  'gossypol': 0,\n",
       "  'brassinin': 0,\n",
       "  'review': 1,\n",
       "  'zuiki': 0,\n",
       "  'pharmacological': 0,\n",
       "  'parthenium': 0,\n",
       "  'antioxidant': 0,\n",
       "  'artemisinin': 0,\n",
       "  'activities': 0,\n",
       "  'kiwifruit': 0,\n",
       "  'properties': 1,\n",
       "  'biological activities': 0,\n",
       "  'phytochemical': 0,\n",
       "  'genus': 0,\n",
       "  'health': 0,\n",
       "  'natural': 0,\n",
       "  'uses': 0,\n",
       "  'food': 1,\n",
       "  'bioactive': 1},\n",
       " 1609477200.0: {'compounds': 1,\n",
       "  'essential': 0,\n",
       "  'oil': 1,\n",
       "  'found': 0,\n",
       "  'oils': 0,\n",
       "  'plant': 0,\n",
       "  'spp': 0,\n",
       "  'species': 0,\n",
       "  'alkaloid': 0,\n",
       "  'alkaloids': 0,\n",
       "  'essential oil': 0,\n",
       "  'alfalfa': 0,\n",
       "  'extracts': 0,\n",
       "  'constituents': 0,\n",
       "  'parthenolide': 0,\n",
       "  'radicle hypocotyl': 0,\n",
       "  'chemical': 0,\n",
       "  'coca': 0,\n",
       "  'products': 0,\n",
       "  'biological': 0,\n",
       "  'bryonia': 0,\n",
       "  'peanut oil': 0,\n",
       "  'glycitein': 0,\n",
       "  'medicinal': 0,\n",
       "  'glucosinolates': 0,\n",
       "  'flavonoids': 0,\n",
       "  'gossypol': 0,\n",
       "  'brassinin': 0,\n",
       "  'review': 1,\n",
       "  'zuiki': 0,\n",
       "  'pharmacological': 0,\n",
       "  'parthenium': 0,\n",
       "  'antioxidant': 0,\n",
       "  'artemisinin': 0,\n",
       "  'activities': 0,\n",
       "  'kiwifruit': 0,\n",
       "  'properties': 0,\n",
       "  'biological activities': 0,\n",
       "  'phytochemical': 0,\n",
       "  'genus': 0,\n",
       "  'health': 1,\n",
       "  'natural': 0,\n",
       "  'uses': 0,\n",
       "  'food': 1,\n",
       "  'bioactive': 0}}"
      ]
     },
     "execution_count": 665,
     "metadata": {},
     "output_type": "execute_result"
    }
   ],
   "source": [
    "# Construct term-tss dictionary to count term frequency\n",
    "terms_tss = {}  # {ts:{term:1}}\n",
    "for idx, ts in enumerate(toc_tss):\n",
    "  toc_terms_list = toc_terms.iloc[idx].split(\", \")\n",
    "  terms_tss[ts]  = {}\n",
    "  for term in toc_terms_all:\n",
    "    if term in toc_terms_list:\n",
    "      terms_tss[ts][term] = 1\n",
    "    else:\n",
    "      terms_tss[ts][term] = 0\n",
    "terms_tss"
   ]
  },
  {
   "cell_type": "code",
   "execution_count": 666,
   "metadata": {},
   "outputs": [
    {
     "data": {
      "text/html": [
       "<div>\n",
       "<style scoped>\n",
       "    .dataframe tbody tr th:only-of-type {\n",
       "        vertical-align: middle;\n",
       "    }\n",
       "\n",
       "    .dataframe tbody tr th {\n",
       "        vertical-align: top;\n",
       "    }\n",
       "\n",
       "    .dataframe thead th {\n",
       "        text-align: right;\n",
       "    }\n",
       "</style>\n",
       "<table border=\"1\" class=\"dataframe\">\n",
       "  <thead>\n",
       "    <tr style=\"text-align: right;\">\n",
       "      <th></th>\n",
       "      <th>2.507508e+08</th>\n",
       "      <th>4.258800e+08</th>\n",
       "      <th>5.468400e+08</th>\n",
       "      <th>6.389460e+08</th>\n",
       "      <th>7.126416e+08</th>\n",
       "      <th>7.783920e+08</th>\n",
       "      <th>8.361936e+08</th>\n",
       "      <th>8.975376e+08</th>\n",
       "      <th>9.497268e+08</th>\n",
       "      <th>9.869616e+08</th>\n",
       "      <th>...</th>\n",
       "      <th>1.521864e+09</th>\n",
       "      <th>1.532750e+09</th>\n",
       "      <th>1.543986e+09</th>\n",
       "      <th>1.554178e+09</th>\n",
       "      <th>1.564027e+09</th>\n",
       "      <th>1.574053e+09</th>\n",
       "      <th>1.583557e+09</th>\n",
       "      <th>1.592712e+09</th>\n",
       "      <th>1.601438e+09</th>\n",
       "      <th>1.609477e+09</th>\n",
       "    </tr>\n",
       "  </thead>\n",
       "  <tbody>\n",
       "    <tr>\n",
       "      <th>compounds</th>\n",
       "      <td>1</td>\n",
       "      <td>1</td>\n",
       "      <td>1</td>\n",
       "      <td>1</td>\n",
       "      <td>1</td>\n",
       "      <td>1</td>\n",
       "      <td>1</td>\n",
       "      <td>1</td>\n",
       "      <td>1</td>\n",
       "      <td>1</td>\n",
       "      <td>...</td>\n",
       "      <td>1</td>\n",
       "      <td>1</td>\n",
       "      <td>1</td>\n",
       "      <td>1</td>\n",
       "      <td>1</td>\n",
       "      <td>1</td>\n",
       "      <td>1</td>\n",
       "      <td>1</td>\n",
       "      <td>1</td>\n",
       "      <td>1</td>\n",
       "    </tr>\n",
       "    <tr>\n",
       "      <th>essential</th>\n",
       "      <td>1</td>\n",
       "      <td>0</td>\n",
       "      <td>0</td>\n",
       "      <td>0</td>\n",
       "      <td>0</td>\n",
       "      <td>0</td>\n",
       "      <td>0</td>\n",
       "      <td>0</td>\n",
       "      <td>0</td>\n",
       "      <td>0</td>\n",
       "      <td>...</td>\n",
       "      <td>0</td>\n",
       "      <td>0</td>\n",
       "      <td>0</td>\n",
       "      <td>0</td>\n",
       "      <td>0</td>\n",
       "      <td>0</td>\n",
       "      <td>0</td>\n",
       "      <td>0</td>\n",
       "      <td>0</td>\n",
       "      <td>0</td>\n",
       "    </tr>\n",
       "    <tr>\n",
       "      <th>oil</th>\n",
       "      <td>1</td>\n",
       "      <td>0</td>\n",
       "      <td>1</td>\n",
       "      <td>0</td>\n",
       "      <td>0</td>\n",
       "      <td>0</td>\n",
       "      <td>0</td>\n",
       "      <td>1</td>\n",
       "      <td>1</td>\n",
       "      <td>0</td>\n",
       "      <td>...</td>\n",
       "      <td>0</td>\n",
       "      <td>0</td>\n",
       "      <td>0</td>\n",
       "      <td>0</td>\n",
       "      <td>0</td>\n",
       "      <td>0</td>\n",
       "      <td>0</td>\n",
       "      <td>0</td>\n",
       "      <td>0</td>\n",
       "      <td>1</td>\n",
       "    </tr>\n",
       "    <tr>\n",
       "      <th>found</th>\n",
       "      <td>1</td>\n",
       "      <td>0</td>\n",
       "      <td>0</td>\n",
       "      <td>0</td>\n",
       "      <td>0</td>\n",
       "      <td>0</td>\n",
       "      <td>0</td>\n",
       "      <td>0</td>\n",
       "      <td>0</td>\n",
       "      <td>0</td>\n",
       "      <td>...</td>\n",
       "      <td>0</td>\n",
       "      <td>0</td>\n",
       "      <td>0</td>\n",
       "      <td>0</td>\n",
       "      <td>0</td>\n",
       "      <td>0</td>\n",
       "      <td>0</td>\n",
       "      <td>0</td>\n",
       "      <td>0</td>\n",
       "      <td>0</td>\n",
       "    </tr>\n",
       "    <tr>\n",
       "      <th>oils</th>\n",
       "      <td>1</td>\n",
       "      <td>0</td>\n",
       "      <td>0</td>\n",
       "      <td>0</td>\n",
       "      <td>0</td>\n",
       "      <td>0</td>\n",
       "      <td>0</td>\n",
       "      <td>0</td>\n",
       "      <td>0</td>\n",
       "      <td>0</td>\n",
       "      <td>...</td>\n",
       "      <td>0</td>\n",
       "      <td>0</td>\n",
       "      <td>0</td>\n",
       "      <td>0</td>\n",
       "      <td>0</td>\n",
       "      <td>0</td>\n",
       "      <td>0</td>\n",
       "      <td>0</td>\n",
       "      <td>0</td>\n",
       "      <td>0</td>\n",
       "    </tr>\n",
       "    <tr>\n",
       "      <th>plant</th>\n",
       "      <td>0</td>\n",
       "      <td>1</td>\n",
       "      <td>0</td>\n",
       "      <td>0</td>\n",
       "      <td>0</td>\n",
       "      <td>0</td>\n",
       "      <td>0</td>\n",
       "      <td>1</td>\n",
       "      <td>0</td>\n",
       "      <td>1</td>\n",
       "      <td>...</td>\n",
       "      <td>0</td>\n",
       "      <td>0</td>\n",
       "      <td>0</td>\n",
       "      <td>0</td>\n",
       "      <td>0</td>\n",
       "      <td>0</td>\n",
       "      <td>0</td>\n",
       "      <td>0</td>\n",
       "      <td>0</td>\n",
       "      <td>0</td>\n",
       "    </tr>\n",
       "    <tr>\n",
       "      <th>spp</th>\n",
       "      <td>0</td>\n",
       "      <td>1</td>\n",
       "      <td>0</td>\n",
       "      <td>0</td>\n",
       "      <td>0</td>\n",
       "      <td>0</td>\n",
       "      <td>0</td>\n",
       "      <td>0</td>\n",
       "      <td>0</td>\n",
       "      <td>0</td>\n",
       "      <td>...</td>\n",
       "      <td>0</td>\n",
       "      <td>0</td>\n",
       "      <td>0</td>\n",
       "      <td>0</td>\n",
       "      <td>0</td>\n",
       "      <td>0</td>\n",
       "      <td>0</td>\n",
       "      <td>0</td>\n",
       "      <td>0</td>\n",
       "      <td>0</td>\n",
       "    </tr>\n",
       "    <tr>\n",
       "      <th>species</th>\n",
       "      <td>0</td>\n",
       "      <td>1</td>\n",
       "      <td>1</td>\n",
       "      <td>1</td>\n",
       "      <td>1</td>\n",
       "      <td>0</td>\n",
       "      <td>0</td>\n",
       "      <td>1</td>\n",
       "      <td>0</td>\n",
       "      <td>1</td>\n",
       "      <td>...</td>\n",
       "      <td>1</td>\n",
       "      <td>1</td>\n",
       "      <td>1</td>\n",
       "      <td>0</td>\n",
       "      <td>0</td>\n",
       "      <td>1</td>\n",
       "      <td>0</td>\n",
       "      <td>1</td>\n",
       "      <td>0</td>\n",
       "      <td>0</td>\n",
       "    </tr>\n",
       "    <tr>\n",
       "      <th>alkaloid</th>\n",
       "      <td>0</td>\n",
       "      <td>1</td>\n",
       "      <td>0</td>\n",
       "      <td>0</td>\n",
       "      <td>0</td>\n",
       "      <td>0</td>\n",
       "      <td>0</td>\n",
       "      <td>0</td>\n",
       "      <td>0</td>\n",
       "      <td>0</td>\n",
       "      <td>...</td>\n",
       "      <td>0</td>\n",
       "      <td>0</td>\n",
       "      <td>0</td>\n",
       "      <td>0</td>\n",
       "      <td>0</td>\n",
       "      <td>0</td>\n",
       "      <td>0</td>\n",
       "      <td>0</td>\n",
       "      <td>0</td>\n",
       "      <td>0</td>\n",
       "    </tr>\n",
       "    <tr>\n",
       "      <th>alkaloids</th>\n",
       "      <td>0</td>\n",
       "      <td>0</td>\n",
       "      <td>1</td>\n",
       "      <td>1</td>\n",
       "      <td>1</td>\n",
       "      <td>1</td>\n",
       "      <td>1</td>\n",
       "      <td>0</td>\n",
       "      <td>0</td>\n",
       "      <td>1</td>\n",
       "      <td>...</td>\n",
       "      <td>0</td>\n",
       "      <td>0</td>\n",
       "      <td>0</td>\n",
       "      <td>0</td>\n",
       "      <td>0</td>\n",
       "      <td>0</td>\n",
       "      <td>1</td>\n",
       "      <td>0</td>\n",
       "      <td>0</td>\n",
       "      <td>0</td>\n",
       "    </tr>\n",
       "    <tr>\n",
       "      <th>essential oil</th>\n",
       "      <td>0</td>\n",
       "      <td>0</td>\n",
       "      <td>1</td>\n",
       "      <td>0</td>\n",
       "      <td>0</td>\n",
       "      <td>0</td>\n",
       "      <td>0</td>\n",
       "      <td>0</td>\n",
       "      <td>1</td>\n",
       "      <td>0</td>\n",
       "      <td>...</td>\n",
       "      <td>0</td>\n",
       "      <td>0</td>\n",
       "      <td>0</td>\n",
       "      <td>0</td>\n",
       "      <td>0</td>\n",
       "      <td>0</td>\n",
       "      <td>0</td>\n",
       "      <td>0</td>\n",
       "      <td>0</td>\n",
       "      <td>0</td>\n",
       "    </tr>\n",
       "    <tr>\n",
       "      <th>alfalfa</th>\n",
       "      <td>0</td>\n",
       "      <td>0</td>\n",
       "      <td>0</td>\n",
       "      <td>1</td>\n",
       "      <td>0</td>\n",
       "      <td>0</td>\n",
       "      <td>0</td>\n",
       "      <td>0</td>\n",
       "      <td>0</td>\n",
       "      <td>0</td>\n",
       "      <td>...</td>\n",
       "      <td>0</td>\n",
       "      <td>0</td>\n",
       "      <td>0</td>\n",
       "      <td>0</td>\n",
       "      <td>0</td>\n",
       "      <td>0</td>\n",
       "      <td>0</td>\n",
       "      <td>0</td>\n",
       "      <td>0</td>\n",
       "      <td>0</td>\n",
       "    </tr>\n",
       "    <tr>\n",
       "      <th>extracts</th>\n",
       "      <td>0</td>\n",
       "      <td>0</td>\n",
       "      <td>0</td>\n",
       "      <td>1</td>\n",
       "      <td>0</td>\n",
       "      <td>0</td>\n",
       "      <td>0</td>\n",
       "      <td>0</td>\n",
       "      <td>0</td>\n",
       "      <td>0</td>\n",
       "      <td>...</td>\n",
       "      <td>0</td>\n",
       "      <td>0</td>\n",
       "      <td>0</td>\n",
       "      <td>0</td>\n",
       "      <td>0</td>\n",
       "      <td>0</td>\n",
       "      <td>0</td>\n",
       "      <td>0</td>\n",
       "      <td>0</td>\n",
       "      <td>0</td>\n",
       "    </tr>\n",
       "    <tr>\n",
       "      <th>constituents</th>\n",
       "      <td>0</td>\n",
       "      <td>0</td>\n",
       "      <td>0</td>\n",
       "      <td>0</td>\n",
       "      <td>1</td>\n",
       "      <td>0</td>\n",
       "      <td>0</td>\n",
       "      <td>0</td>\n",
       "      <td>0</td>\n",
       "      <td>0</td>\n",
       "      <td>...</td>\n",
       "      <td>0</td>\n",
       "      <td>0</td>\n",
       "      <td>0</td>\n",
       "      <td>0</td>\n",
       "      <td>0</td>\n",
       "      <td>0</td>\n",
       "      <td>0</td>\n",
       "      <td>0</td>\n",
       "      <td>0</td>\n",
       "      <td>0</td>\n",
       "    </tr>\n",
       "    <tr>\n",
       "      <th>parthenolide</th>\n",
       "      <td>0</td>\n",
       "      <td>0</td>\n",
       "      <td>0</td>\n",
       "      <td>0</td>\n",
       "      <td>1</td>\n",
       "      <td>0</td>\n",
       "      <td>0</td>\n",
       "      <td>0</td>\n",
       "      <td>0</td>\n",
       "      <td>0</td>\n",
       "      <td>...</td>\n",
       "      <td>0</td>\n",
       "      <td>0</td>\n",
       "      <td>0</td>\n",
       "      <td>0</td>\n",
       "      <td>0</td>\n",
       "      <td>0</td>\n",
       "      <td>0</td>\n",
       "      <td>0</td>\n",
       "      <td>0</td>\n",
       "      <td>0</td>\n",
       "    </tr>\n",
       "    <tr>\n",
       "      <th>radicle hypocotyl</th>\n",
       "      <td>0</td>\n",
       "      <td>0</td>\n",
       "      <td>0</td>\n",
       "      <td>0</td>\n",
       "      <td>0</td>\n",
       "      <td>1</td>\n",
       "      <td>0</td>\n",
       "      <td>0</td>\n",
       "      <td>0</td>\n",
       "      <td>0</td>\n",
       "      <td>...</td>\n",
       "      <td>0</td>\n",
       "      <td>0</td>\n",
       "      <td>0</td>\n",
       "      <td>0</td>\n",
       "      <td>0</td>\n",
       "      <td>0</td>\n",
       "      <td>0</td>\n",
       "      <td>0</td>\n",
       "      <td>0</td>\n",
       "      <td>0</td>\n",
       "    </tr>\n",
       "    <tr>\n",
       "      <th>chemical</th>\n",
       "      <td>0</td>\n",
       "      <td>0</td>\n",
       "      <td>0</td>\n",
       "      <td>0</td>\n",
       "      <td>0</td>\n",
       "      <td>1</td>\n",
       "      <td>1</td>\n",
       "      <td>0</td>\n",
       "      <td>0</td>\n",
       "      <td>0</td>\n",
       "      <td>...</td>\n",
       "      <td>0</td>\n",
       "      <td>0</td>\n",
       "      <td>0</td>\n",
       "      <td>1</td>\n",
       "      <td>1</td>\n",
       "      <td>0</td>\n",
       "      <td>0</td>\n",
       "      <td>0</td>\n",
       "      <td>0</td>\n",
       "      <td>0</td>\n",
       "    </tr>\n",
       "    <tr>\n",
       "      <th>coca</th>\n",
       "      <td>0</td>\n",
       "      <td>0</td>\n",
       "      <td>0</td>\n",
       "      <td>0</td>\n",
       "      <td>0</td>\n",
       "      <td>1</td>\n",
       "      <td>0</td>\n",
       "      <td>0</td>\n",
       "      <td>0</td>\n",
       "      <td>0</td>\n",
       "      <td>...</td>\n",
       "      <td>0</td>\n",
       "      <td>0</td>\n",
       "      <td>0</td>\n",
       "      <td>0</td>\n",
       "      <td>0</td>\n",
       "      <td>0</td>\n",
       "      <td>0</td>\n",
       "      <td>0</td>\n",
       "      <td>0</td>\n",
       "      <td>0</td>\n",
       "    </tr>\n",
       "    <tr>\n",
       "      <th>products</th>\n",
       "      <td>0</td>\n",
       "      <td>0</td>\n",
       "      <td>0</td>\n",
       "      <td>0</td>\n",
       "      <td>0</td>\n",
       "      <td>0</td>\n",
       "      <td>1</td>\n",
       "      <td>0</td>\n",
       "      <td>0</td>\n",
       "      <td>0</td>\n",
       "      <td>...</td>\n",
       "      <td>0</td>\n",
       "      <td>0</td>\n",
       "      <td>0</td>\n",
       "      <td>0</td>\n",
       "      <td>0</td>\n",
       "      <td>0</td>\n",
       "      <td>0</td>\n",
       "      <td>0</td>\n",
       "      <td>0</td>\n",
       "      <td>0</td>\n",
       "    </tr>\n",
       "    <tr>\n",
       "      <th>biological</th>\n",
       "      <td>0</td>\n",
       "      <td>0</td>\n",
       "      <td>0</td>\n",
       "      <td>0</td>\n",
       "      <td>0</td>\n",
       "      <td>0</td>\n",
       "      <td>1</td>\n",
       "      <td>0</td>\n",
       "      <td>0</td>\n",
       "      <td>0</td>\n",
       "      <td>...</td>\n",
       "      <td>0</td>\n",
       "      <td>0</td>\n",
       "      <td>0</td>\n",
       "      <td>0</td>\n",
       "      <td>0</td>\n",
       "      <td>0</td>\n",
       "      <td>0</td>\n",
       "      <td>0</td>\n",
       "      <td>0</td>\n",
       "      <td>0</td>\n",
       "    </tr>\n",
       "    <tr>\n",
       "      <th>bryonia</th>\n",
       "      <td>0</td>\n",
       "      <td>0</td>\n",
       "      <td>0</td>\n",
       "      <td>0</td>\n",
       "      <td>0</td>\n",
       "      <td>0</td>\n",
       "      <td>0</td>\n",
       "      <td>1</td>\n",
       "      <td>0</td>\n",
       "      <td>0</td>\n",
       "      <td>...</td>\n",
       "      <td>0</td>\n",
       "      <td>0</td>\n",
       "      <td>0</td>\n",
       "      <td>0</td>\n",
       "      <td>0</td>\n",
       "      <td>0</td>\n",
       "      <td>0</td>\n",
       "      <td>0</td>\n",
       "      <td>0</td>\n",
       "      <td>0</td>\n",
       "    </tr>\n",
       "    <tr>\n",
       "      <th>peanut oil</th>\n",
       "      <td>0</td>\n",
       "      <td>0</td>\n",
       "      <td>0</td>\n",
       "      <td>0</td>\n",
       "      <td>0</td>\n",
       "      <td>0</td>\n",
       "      <td>0</td>\n",
       "      <td>0</td>\n",
       "      <td>1</td>\n",
       "      <td>0</td>\n",
       "      <td>...</td>\n",
       "      <td>0</td>\n",
       "      <td>0</td>\n",
       "      <td>0</td>\n",
       "      <td>0</td>\n",
       "      <td>0</td>\n",
       "      <td>0</td>\n",
       "      <td>0</td>\n",
       "      <td>0</td>\n",
       "      <td>0</td>\n",
       "      <td>0</td>\n",
       "    </tr>\n",
       "    <tr>\n",
       "      <th>glycitein</th>\n",
       "      <td>0</td>\n",
       "      <td>0</td>\n",
       "      <td>0</td>\n",
       "      <td>0</td>\n",
       "      <td>0</td>\n",
       "      <td>0</td>\n",
       "      <td>0</td>\n",
       "      <td>0</td>\n",
       "      <td>1</td>\n",
       "      <td>0</td>\n",
       "      <td>...</td>\n",
       "      <td>0</td>\n",
       "      <td>0</td>\n",
       "      <td>0</td>\n",
       "      <td>0</td>\n",
       "      <td>0</td>\n",
       "      <td>0</td>\n",
       "      <td>0</td>\n",
       "      <td>0</td>\n",
       "      <td>0</td>\n",
       "      <td>0</td>\n",
       "    </tr>\n",
       "    <tr>\n",
       "      <th>medicinal</th>\n",
       "      <td>0</td>\n",
       "      <td>0</td>\n",
       "      <td>0</td>\n",
       "      <td>0</td>\n",
       "      <td>0</td>\n",
       "      <td>0</td>\n",
       "      <td>0</td>\n",
       "      <td>0</td>\n",
       "      <td>0</td>\n",
       "      <td>1</td>\n",
       "      <td>...</td>\n",
       "      <td>1</td>\n",
       "      <td>0</td>\n",
       "      <td>0</td>\n",
       "      <td>0</td>\n",
       "      <td>1</td>\n",
       "      <td>1</td>\n",
       "      <td>0</td>\n",
       "      <td>1</td>\n",
       "      <td>0</td>\n",
       "      <td>0</td>\n",
       "    </tr>\n",
       "    <tr>\n",
       "      <th>glucosinolates</th>\n",
       "      <td>0</td>\n",
       "      <td>0</td>\n",
       "      <td>0</td>\n",
       "      <td>0</td>\n",
       "      <td>0</td>\n",
       "      <td>0</td>\n",
       "      <td>0</td>\n",
       "      <td>0</td>\n",
       "      <td>0</td>\n",
       "      <td>0</td>\n",
       "      <td>...</td>\n",
       "      <td>0</td>\n",
       "      <td>0</td>\n",
       "      <td>0</td>\n",
       "      <td>0</td>\n",
       "      <td>0</td>\n",
       "      <td>0</td>\n",
       "      <td>0</td>\n",
       "      <td>0</td>\n",
       "      <td>0</td>\n",
       "      <td>0</td>\n",
       "    </tr>\n",
       "    <tr>\n",
       "      <th>flavonoids</th>\n",
       "      <td>0</td>\n",
       "      <td>0</td>\n",
       "      <td>0</td>\n",
       "      <td>0</td>\n",
       "      <td>0</td>\n",
       "      <td>0</td>\n",
       "      <td>0</td>\n",
       "      <td>0</td>\n",
       "      <td>0</td>\n",
       "      <td>0</td>\n",
       "      <td>...</td>\n",
       "      <td>0</td>\n",
       "      <td>0</td>\n",
       "      <td>1</td>\n",
       "      <td>0</td>\n",
       "      <td>0</td>\n",
       "      <td>0</td>\n",
       "      <td>0</td>\n",
       "      <td>0</td>\n",
       "      <td>0</td>\n",
       "      <td>0</td>\n",
       "    </tr>\n",
       "    <tr>\n",
       "      <th>gossypol</th>\n",
       "      <td>0</td>\n",
       "      <td>0</td>\n",
       "      <td>0</td>\n",
       "      <td>0</td>\n",
       "      <td>0</td>\n",
       "      <td>0</td>\n",
       "      <td>0</td>\n",
       "      <td>0</td>\n",
       "      <td>0</td>\n",
       "      <td>0</td>\n",
       "      <td>...</td>\n",
       "      <td>0</td>\n",
       "      <td>0</td>\n",
       "      <td>0</td>\n",
       "      <td>0</td>\n",
       "      <td>0</td>\n",
       "      <td>0</td>\n",
       "      <td>0</td>\n",
       "      <td>0</td>\n",
       "      <td>0</td>\n",
       "      <td>0</td>\n",
       "    </tr>\n",
       "    <tr>\n",
       "      <th>brassinin</th>\n",
       "      <td>0</td>\n",
       "      <td>0</td>\n",
       "      <td>0</td>\n",
       "      <td>0</td>\n",
       "      <td>0</td>\n",
       "      <td>0</td>\n",
       "      <td>0</td>\n",
       "      <td>0</td>\n",
       "      <td>0</td>\n",
       "      <td>0</td>\n",
       "      <td>...</td>\n",
       "      <td>0</td>\n",
       "      <td>0</td>\n",
       "      <td>0</td>\n",
       "      <td>0</td>\n",
       "      <td>0</td>\n",
       "      <td>0</td>\n",
       "      <td>0</td>\n",
       "      <td>0</td>\n",
       "      <td>0</td>\n",
       "      <td>0</td>\n",
       "    </tr>\n",
       "    <tr>\n",
       "      <th>review</th>\n",
       "      <td>0</td>\n",
       "      <td>0</td>\n",
       "      <td>0</td>\n",
       "      <td>0</td>\n",
       "      <td>0</td>\n",
       "      <td>0</td>\n",
       "      <td>0</td>\n",
       "      <td>0</td>\n",
       "      <td>0</td>\n",
       "      <td>0</td>\n",
       "      <td>...</td>\n",
       "      <td>1</td>\n",
       "      <td>1</td>\n",
       "      <td>1</td>\n",
       "      <td>1</td>\n",
       "      <td>1</td>\n",
       "      <td>1</td>\n",
       "      <td>1</td>\n",
       "      <td>1</td>\n",
       "      <td>1</td>\n",
       "      <td>1</td>\n",
       "    </tr>\n",
       "    <tr>\n",
       "      <th>zuiki</th>\n",
       "      <td>0</td>\n",
       "      <td>0</td>\n",
       "      <td>0</td>\n",
       "      <td>0</td>\n",
       "      <td>0</td>\n",
       "      <td>0</td>\n",
       "      <td>0</td>\n",
       "      <td>0</td>\n",
       "      <td>0</td>\n",
       "      <td>0</td>\n",
       "      <td>...</td>\n",
       "      <td>0</td>\n",
       "      <td>0</td>\n",
       "      <td>0</td>\n",
       "      <td>0</td>\n",
       "      <td>0</td>\n",
       "      <td>0</td>\n",
       "      <td>0</td>\n",
       "      <td>0</td>\n",
       "      <td>0</td>\n",
       "      <td>0</td>\n",
       "    </tr>\n",
       "    <tr>\n",
       "      <th>pharmacological</th>\n",
       "      <td>0</td>\n",
       "      <td>0</td>\n",
       "      <td>0</td>\n",
       "      <td>0</td>\n",
       "      <td>0</td>\n",
       "      <td>0</td>\n",
       "      <td>0</td>\n",
       "      <td>0</td>\n",
       "      <td>0</td>\n",
       "      <td>0</td>\n",
       "      <td>...</td>\n",
       "      <td>1</td>\n",
       "      <td>1</td>\n",
       "      <td>0</td>\n",
       "      <td>1</td>\n",
       "      <td>0</td>\n",
       "      <td>0</td>\n",
       "      <td>1</td>\n",
       "      <td>0</td>\n",
       "      <td>0</td>\n",
       "      <td>0</td>\n",
       "    </tr>\n",
       "    <tr>\n",
       "      <th>parthenium</th>\n",
       "      <td>0</td>\n",
       "      <td>0</td>\n",
       "      <td>0</td>\n",
       "      <td>0</td>\n",
       "      <td>0</td>\n",
       "      <td>0</td>\n",
       "      <td>0</td>\n",
       "      <td>0</td>\n",
       "      <td>0</td>\n",
       "      <td>0</td>\n",
       "      <td>...</td>\n",
       "      <td>0</td>\n",
       "      <td>0</td>\n",
       "      <td>0</td>\n",
       "      <td>0</td>\n",
       "      <td>0</td>\n",
       "      <td>0</td>\n",
       "      <td>0</td>\n",
       "      <td>0</td>\n",
       "      <td>0</td>\n",
       "      <td>0</td>\n",
       "    </tr>\n",
       "    <tr>\n",
       "      <th>antioxidant</th>\n",
       "      <td>0</td>\n",
       "      <td>0</td>\n",
       "      <td>0</td>\n",
       "      <td>0</td>\n",
       "      <td>0</td>\n",
       "      <td>0</td>\n",
       "      <td>0</td>\n",
       "      <td>0</td>\n",
       "      <td>0</td>\n",
       "      <td>0</td>\n",
       "      <td>...</td>\n",
       "      <td>0</td>\n",
       "      <td>0</td>\n",
       "      <td>0</td>\n",
       "      <td>0</td>\n",
       "      <td>0</td>\n",
       "      <td>0</td>\n",
       "      <td>0</td>\n",
       "      <td>0</td>\n",
       "      <td>0</td>\n",
       "      <td>0</td>\n",
       "    </tr>\n",
       "    <tr>\n",
       "      <th>artemisinin</th>\n",
       "      <td>0</td>\n",
       "      <td>0</td>\n",
       "      <td>0</td>\n",
       "      <td>0</td>\n",
       "      <td>0</td>\n",
       "      <td>0</td>\n",
       "      <td>0</td>\n",
       "      <td>0</td>\n",
       "      <td>0</td>\n",
       "      <td>0</td>\n",
       "      <td>...</td>\n",
       "      <td>0</td>\n",
       "      <td>0</td>\n",
       "      <td>0</td>\n",
       "      <td>0</td>\n",
       "      <td>0</td>\n",
       "      <td>0</td>\n",
       "      <td>0</td>\n",
       "      <td>0</td>\n",
       "      <td>0</td>\n",
       "      <td>0</td>\n",
       "    </tr>\n",
       "    <tr>\n",
       "      <th>activities</th>\n",
       "      <td>0</td>\n",
       "      <td>0</td>\n",
       "      <td>0</td>\n",
       "      <td>0</td>\n",
       "      <td>0</td>\n",
       "      <td>0</td>\n",
       "      <td>0</td>\n",
       "      <td>0</td>\n",
       "      <td>0</td>\n",
       "      <td>0</td>\n",
       "      <td>...</td>\n",
       "      <td>0</td>\n",
       "      <td>0</td>\n",
       "      <td>0</td>\n",
       "      <td>0</td>\n",
       "      <td>0</td>\n",
       "      <td>0</td>\n",
       "      <td>0</td>\n",
       "      <td>0</td>\n",
       "      <td>0</td>\n",
       "      <td>0</td>\n",
       "    </tr>\n",
       "    <tr>\n",
       "      <th>kiwifruit</th>\n",
       "      <td>0</td>\n",
       "      <td>0</td>\n",
       "      <td>0</td>\n",
       "      <td>0</td>\n",
       "      <td>0</td>\n",
       "      <td>0</td>\n",
       "      <td>0</td>\n",
       "      <td>0</td>\n",
       "      <td>0</td>\n",
       "      <td>0</td>\n",
       "      <td>...</td>\n",
       "      <td>0</td>\n",
       "      <td>0</td>\n",
       "      <td>0</td>\n",
       "      <td>0</td>\n",
       "      <td>0</td>\n",
       "      <td>0</td>\n",
       "      <td>0</td>\n",
       "      <td>0</td>\n",
       "      <td>0</td>\n",
       "      <td>0</td>\n",
       "    </tr>\n",
       "    <tr>\n",
       "      <th>properties</th>\n",
       "      <td>0</td>\n",
       "      <td>0</td>\n",
       "      <td>0</td>\n",
       "      <td>0</td>\n",
       "      <td>0</td>\n",
       "      <td>0</td>\n",
       "      <td>0</td>\n",
       "      <td>0</td>\n",
       "      <td>0</td>\n",
       "      <td>0</td>\n",
       "      <td>...</td>\n",
       "      <td>0</td>\n",
       "      <td>0</td>\n",
       "      <td>0</td>\n",
       "      <td>1</td>\n",
       "      <td>0</td>\n",
       "      <td>0</td>\n",
       "      <td>0</td>\n",
       "      <td>0</td>\n",
       "      <td>1</td>\n",
       "      <td>0</td>\n",
       "    </tr>\n",
       "    <tr>\n",
       "      <th>biological activities</th>\n",
       "      <td>0</td>\n",
       "      <td>0</td>\n",
       "      <td>0</td>\n",
       "      <td>0</td>\n",
       "      <td>0</td>\n",
       "      <td>0</td>\n",
       "      <td>0</td>\n",
       "      <td>0</td>\n",
       "      <td>0</td>\n",
       "      <td>0</td>\n",
       "      <td>...</td>\n",
       "      <td>0</td>\n",
       "      <td>0</td>\n",
       "      <td>0</td>\n",
       "      <td>0</td>\n",
       "      <td>0</td>\n",
       "      <td>0</td>\n",
       "      <td>0</td>\n",
       "      <td>0</td>\n",
       "      <td>0</td>\n",
       "      <td>0</td>\n",
       "    </tr>\n",
       "    <tr>\n",
       "      <th>phytochemical</th>\n",
       "      <td>0</td>\n",
       "      <td>0</td>\n",
       "      <td>0</td>\n",
       "      <td>0</td>\n",
       "      <td>0</td>\n",
       "      <td>0</td>\n",
       "      <td>0</td>\n",
       "      <td>0</td>\n",
       "      <td>0</td>\n",
       "      <td>0</td>\n",
       "      <td>...</td>\n",
       "      <td>0</td>\n",
       "      <td>0</td>\n",
       "      <td>0</td>\n",
       "      <td>0</td>\n",
       "      <td>0</td>\n",
       "      <td>0</td>\n",
       "      <td>0</td>\n",
       "      <td>0</td>\n",
       "      <td>0</td>\n",
       "      <td>0</td>\n",
       "    </tr>\n",
       "    <tr>\n",
       "      <th>genus</th>\n",
       "      <td>0</td>\n",
       "      <td>0</td>\n",
       "      <td>0</td>\n",
       "      <td>0</td>\n",
       "      <td>0</td>\n",
       "      <td>0</td>\n",
       "      <td>0</td>\n",
       "      <td>0</td>\n",
       "      <td>0</td>\n",
       "      <td>0</td>\n",
       "      <td>...</td>\n",
       "      <td>0</td>\n",
       "      <td>0</td>\n",
       "      <td>0</td>\n",
       "      <td>0</td>\n",
       "      <td>0</td>\n",
       "      <td>0</td>\n",
       "      <td>0</td>\n",
       "      <td>1</td>\n",
       "      <td>0</td>\n",
       "      <td>0</td>\n",
       "    </tr>\n",
       "    <tr>\n",
       "      <th>health</th>\n",
       "      <td>0</td>\n",
       "      <td>0</td>\n",
       "      <td>0</td>\n",
       "      <td>0</td>\n",
       "      <td>0</td>\n",
       "      <td>0</td>\n",
       "      <td>0</td>\n",
       "      <td>0</td>\n",
       "      <td>0</td>\n",
       "      <td>0</td>\n",
       "      <td>...</td>\n",
       "      <td>0</td>\n",
       "      <td>1</td>\n",
       "      <td>0</td>\n",
       "      <td>0</td>\n",
       "      <td>0</td>\n",
       "      <td>0</td>\n",
       "      <td>0</td>\n",
       "      <td>0</td>\n",
       "      <td>0</td>\n",
       "      <td>1</td>\n",
       "    </tr>\n",
       "    <tr>\n",
       "      <th>natural</th>\n",
       "      <td>0</td>\n",
       "      <td>0</td>\n",
       "      <td>0</td>\n",
       "      <td>0</td>\n",
       "      <td>0</td>\n",
       "      <td>0</td>\n",
       "      <td>0</td>\n",
       "      <td>0</td>\n",
       "      <td>0</td>\n",
       "      <td>0</td>\n",
       "      <td>...</td>\n",
       "      <td>0</td>\n",
       "      <td>0</td>\n",
       "      <td>1</td>\n",
       "      <td>0</td>\n",
       "      <td>0</td>\n",
       "      <td>0</td>\n",
       "      <td>0</td>\n",
       "      <td>0</td>\n",
       "      <td>0</td>\n",
       "      <td>0</td>\n",
       "    </tr>\n",
       "    <tr>\n",
       "      <th>uses</th>\n",
       "      <td>0</td>\n",
       "      <td>0</td>\n",
       "      <td>0</td>\n",
       "      <td>0</td>\n",
       "      <td>0</td>\n",
       "      <td>0</td>\n",
       "      <td>0</td>\n",
       "      <td>0</td>\n",
       "      <td>0</td>\n",
       "      <td>0</td>\n",
       "      <td>...</td>\n",
       "      <td>0</td>\n",
       "      <td>0</td>\n",
       "      <td>0</td>\n",
       "      <td>0</td>\n",
       "      <td>1</td>\n",
       "      <td>0</td>\n",
       "      <td>0</td>\n",
       "      <td>0</td>\n",
       "      <td>0</td>\n",
       "      <td>0</td>\n",
       "    </tr>\n",
       "    <tr>\n",
       "      <th>food</th>\n",
       "      <td>0</td>\n",
       "      <td>0</td>\n",
       "      <td>0</td>\n",
       "      <td>0</td>\n",
       "      <td>0</td>\n",
       "      <td>0</td>\n",
       "      <td>0</td>\n",
       "      <td>0</td>\n",
       "      <td>0</td>\n",
       "      <td>0</td>\n",
       "      <td>...</td>\n",
       "      <td>0</td>\n",
       "      <td>0</td>\n",
       "      <td>0</td>\n",
       "      <td>0</td>\n",
       "      <td>0</td>\n",
       "      <td>1</td>\n",
       "      <td>0</td>\n",
       "      <td>0</td>\n",
       "      <td>1</td>\n",
       "      <td>1</td>\n",
       "    </tr>\n",
       "    <tr>\n",
       "      <th>bioactive</th>\n",
       "      <td>0</td>\n",
       "      <td>0</td>\n",
       "      <td>0</td>\n",
       "      <td>0</td>\n",
       "      <td>0</td>\n",
       "      <td>0</td>\n",
       "      <td>0</td>\n",
       "      <td>0</td>\n",
       "      <td>0</td>\n",
       "      <td>0</td>\n",
       "      <td>...</td>\n",
       "      <td>0</td>\n",
       "      <td>0</td>\n",
       "      <td>0</td>\n",
       "      <td>0</td>\n",
       "      <td>0</td>\n",
       "      <td>0</td>\n",
       "      <td>1</td>\n",
       "      <td>0</td>\n",
       "      <td>1</td>\n",
       "      <td>0</td>\n",
       "    </tr>\n",
       "  </tbody>\n",
       "</table>\n",
       "<p>45 rows × 50 columns</p>\n",
       "</div>"
      ],
      "text/plain": [
       "                       2.507508e+08  4.258800e+08  5.468400e+08  6.389460e+08  \\\n",
       "compounds                         1             1             1             1   \n",
       "essential                         1             0             0             0   \n",
       "oil                               1             0             1             0   \n",
       "found                             1             0             0             0   \n",
       "oils                              1             0             0             0   \n",
       "plant                             0             1             0             0   \n",
       "spp                               0             1             0             0   \n",
       "species                           0             1             1             1   \n",
       "alkaloid                          0             1             0             0   \n",
       "alkaloids                         0             0             1             1   \n",
       "essential oil                     0             0             1             0   \n",
       "alfalfa                           0             0             0             1   \n",
       "extracts                          0             0             0             1   \n",
       "constituents                      0             0             0             0   \n",
       "parthenolide                      0             0             0             0   \n",
       "radicle hypocotyl                 0             0             0             0   \n",
       "chemical                          0             0             0             0   \n",
       "coca                              0             0             0             0   \n",
       "products                          0             0             0             0   \n",
       "biological                        0             0             0             0   \n",
       "bryonia                           0             0             0             0   \n",
       "peanut oil                        0             0             0             0   \n",
       "glycitein                         0             0             0             0   \n",
       "medicinal                         0             0             0             0   \n",
       "glucosinolates                    0             0             0             0   \n",
       "flavonoids                        0             0             0             0   \n",
       "gossypol                          0             0             0             0   \n",
       "brassinin                         0             0             0             0   \n",
       "review                            0             0             0             0   \n",
       "zuiki                             0             0             0             0   \n",
       "pharmacological                   0             0             0             0   \n",
       "parthenium                        0             0             0             0   \n",
       "antioxidant                       0             0             0             0   \n",
       "artemisinin                       0             0             0             0   \n",
       "activities                        0             0             0             0   \n",
       "kiwifruit                         0             0             0             0   \n",
       "properties                        0             0             0             0   \n",
       "biological activities             0             0             0             0   \n",
       "phytochemical                     0             0             0             0   \n",
       "genus                             0             0             0             0   \n",
       "health                            0             0             0             0   \n",
       "natural                           0             0             0             0   \n",
       "uses                              0             0             0             0   \n",
       "food                              0             0             0             0   \n",
       "bioactive                         0             0             0             0   \n",
       "\n",
       "                       7.126416e+08  7.783920e+08  8.361936e+08  8.975376e+08  \\\n",
       "compounds                         1             1             1             1   \n",
       "essential                         0             0             0             0   \n",
       "oil                               0             0             0             1   \n",
       "found                             0             0             0             0   \n",
       "oils                              0             0             0             0   \n",
       "plant                             0             0             0             1   \n",
       "spp                               0             0             0             0   \n",
       "species                           1             0             0             1   \n",
       "alkaloid                          0             0             0             0   \n",
       "alkaloids                         1             1             1             0   \n",
       "essential oil                     0             0             0             0   \n",
       "alfalfa                           0             0             0             0   \n",
       "extracts                          0             0             0             0   \n",
       "constituents                      1             0             0             0   \n",
       "parthenolide                      1             0             0             0   \n",
       "radicle hypocotyl                 0             1             0             0   \n",
       "chemical                          0             1             1             0   \n",
       "coca                              0             1             0             0   \n",
       "products                          0             0             1             0   \n",
       "biological                        0             0             1             0   \n",
       "bryonia                           0             0             0             1   \n",
       "peanut oil                        0             0             0             0   \n",
       "glycitein                         0             0             0             0   \n",
       "medicinal                         0             0             0             0   \n",
       "glucosinolates                    0             0             0             0   \n",
       "flavonoids                        0             0             0             0   \n",
       "gossypol                          0             0             0             0   \n",
       "brassinin                         0             0             0             0   \n",
       "review                            0             0             0             0   \n",
       "zuiki                             0             0             0             0   \n",
       "pharmacological                   0             0             0             0   \n",
       "parthenium                        0             0             0             0   \n",
       "antioxidant                       0             0             0             0   \n",
       "artemisinin                       0             0             0             0   \n",
       "activities                        0             0             0             0   \n",
       "kiwifruit                         0             0             0             0   \n",
       "properties                        0             0             0             0   \n",
       "biological activities             0             0             0             0   \n",
       "phytochemical                     0             0             0             0   \n",
       "genus                             0             0             0             0   \n",
       "health                            0             0             0             0   \n",
       "natural                           0             0             0             0   \n",
       "uses                              0             0             0             0   \n",
       "food                              0             0             0             0   \n",
       "bioactive                         0             0             0             0   \n",
       "\n",
       "                       9.497268e+08  9.869616e+08  ...  1.521864e+09  \\\n",
       "compounds                         1             1  ...             1   \n",
       "essential                         0             0  ...             0   \n",
       "oil                               1             0  ...             0   \n",
       "found                             0             0  ...             0   \n",
       "oils                              0             0  ...             0   \n",
       "plant                             0             1  ...             0   \n",
       "spp                               0             0  ...             0   \n",
       "species                           0             1  ...             1   \n",
       "alkaloid                          0             0  ...             0   \n",
       "alkaloids                         0             1  ...             0   \n",
       "essential oil                     1             0  ...             0   \n",
       "alfalfa                           0             0  ...             0   \n",
       "extracts                          0             0  ...             0   \n",
       "constituents                      0             0  ...             0   \n",
       "parthenolide                      0             0  ...             0   \n",
       "radicle hypocotyl                 0             0  ...             0   \n",
       "chemical                          0             0  ...             0   \n",
       "coca                              0             0  ...             0   \n",
       "products                          0             0  ...             0   \n",
       "biological                        0             0  ...             0   \n",
       "bryonia                           0             0  ...             0   \n",
       "peanut oil                        1             0  ...             0   \n",
       "glycitein                         1             0  ...             0   \n",
       "medicinal                         0             1  ...             1   \n",
       "glucosinolates                    0             0  ...             0   \n",
       "flavonoids                        0             0  ...             0   \n",
       "gossypol                          0             0  ...             0   \n",
       "brassinin                         0             0  ...             0   \n",
       "review                            0             0  ...             1   \n",
       "zuiki                             0             0  ...             0   \n",
       "pharmacological                   0             0  ...             1   \n",
       "parthenium                        0             0  ...             0   \n",
       "antioxidant                       0             0  ...             0   \n",
       "artemisinin                       0             0  ...             0   \n",
       "activities                        0             0  ...             0   \n",
       "kiwifruit                         0             0  ...             0   \n",
       "properties                        0             0  ...             0   \n",
       "biological activities             0             0  ...             0   \n",
       "phytochemical                     0             0  ...             0   \n",
       "genus                             0             0  ...             0   \n",
       "health                            0             0  ...             0   \n",
       "natural                           0             0  ...             0   \n",
       "uses                              0             0  ...             0   \n",
       "food                              0             0  ...             0   \n",
       "bioactive                         0             0  ...             0   \n",
       "\n",
       "                       1.532750e+09  1.543986e+09  1.554178e+09  1.564027e+09  \\\n",
       "compounds                         1             1             1             1   \n",
       "essential                         0             0             0             0   \n",
       "oil                               0             0             0             0   \n",
       "found                             0             0             0             0   \n",
       "oils                              0             0             0             0   \n",
       "plant                             0             0             0             0   \n",
       "spp                               0             0             0             0   \n",
       "species                           1             1             0             0   \n",
       "alkaloid                          0             0             0             0   \n",
       "alkaloids                         0             0             0             0   \n",
       "essential oil                     0             0             0             0   \n",
       "alfalfa                           0             0             0             0   \n",
       "extracts                          0             0             0             0   \n",
       "constituents                      0             0             0             0   \n",
       "parthenolide                      0             0             0             0   \n",
       "radicle hypocotyl                 0             0             0             0   \n",
       "chemical                          0             0             1             1   \n",
       "coca                              0             0             0             0   \n",
       "products                          0             0             0             0   \n",
       "biological                        0             0             0             0   \n",
       "bryonia                           0             0             0             0   \n",
       "peanut oil                        0             0             0             0   \n",
       "glycitein                         0             0             0             0   \n",
       "medicinal                         0             0             0             1   \n",
       "glucosinolates                    0             0             0             0   \n",
       "flavonoids                        0             1             0             0   \n",
       "gossypol                          0             0             0             0   \n",
       "brassinin                         0             0             0             0   \n",
       "review                            1             1             1             1   \n",
       "zuiki                             0             0             0             0   \n",
       "pharmacological                   1             0             1             0   \n",
       "parthenium                        0             0             0             0   \n",
       "antioxidant                       0             0             0             0   \n",
       "artemisinin                       0             0             0             0   \n",
       "activities                        0             0             0             0   \n",
       "kiwifruit                         0             0             0             0   \n",
       "properties                        0             0             1             0   \n",
       "biological activities             0             0             0             0   \n",
       "phytochemical                     0             0             0             0   \n",
       "genus                             0             0             0             0   \n",
       "health                            1             0             0             0   \n",
       "natural                           0             1             0             0   \n",
       "uses                              0             0             0             1   \n",
       "food                              0             0             0             0   \n",
       "bioactive                         0             0             0             0   \n",
       "\n",
       "                       1.574053e+09  1.583557e+09  1.592712e+09  1.601438e+09  \\\n",
       "compounds                         1             1             1             1   \n",
       "essential                         0             0             0             0   \n",
       "oil                               0             0             0             0   \n",
       "found                             0             0             0             0   \n",
       "oils                              0             0             0             0   \n",
       "plant                             0             0             0             0   \n",
       "spp                               0             0             0             0   \n",
       "species                           1             0             1             0   \n",
       "alkaloid                          0             0             0             0   \n",
       "alkaloids                         0             1             0             0   \n",
       "essential oil                     0             0             0             0   \n",
       "alfalfa                           0             0             0             0   \n",
       "extracts                          0             0             0             0   \n",
       "constituents                      0             0             0             0   \n",
       "parthenolide                      0             0             0             0   \n",
       "radicle hypocotyl                 0             0             0             0   \n",
       "chemical                          0             0             0             0   \n",
       "coca                              0             0             0             0   \n",
       "products                          0             0             0             0   \n",
       "biological                        0             0             0             0   \n",
       "bryonia                           0             0             0             0   \n",
       "peanut oil                        0             0             0             0   \n",
       "glycitein                         0             0             0             0   \n",
       "medicinal                         1             0             1             0   \n",
       "glucosinolates                    0             0             0             0   \n",
       "flavonoids                        0             0             0             0   \n",
       "gossypol                          0             0             0             0   \n",
       "brassinin                         0             0             0             0   \n",
       "review                            1             1             1             1   \n",
       "zuiki                             0             0             0             0   \n",
       "pharmacological                   0             1             0             0   \n",
       "parthenium                        0             0             0             0   \n",
       "antioxidant                       0             0             0             0   \n",
       "artemisinin                       0             0             0             0   \n",
       "activities                        0             0             0             0   \n",
       "kiwifruit                         0             0             0             0   \n",
       "properties                        0             0             0             1   \n",
       "biological activities             0             0             0             0   \n",
       "phytochemical                     0             0             0             0   \n",
       "genus                             0             0             1             0   \n",
       "health                            0             0             0             0   \n",
       "natural                           0             0             0             0   \n",
       "uses                              0             0             0             0   \n",
       "food                              1             0             0             1   \n",
       "bioactive                         0             1             0             1   \n",
       "\n",
       "                       1.609477e+09  \n",
       "compounds                         1  \n",
       "essential                         0  \n",
       "oil                               1  \n",
       "found                             0  \n",
       "oils                              0  \n",
       "plant                             0  \n",
       "spp                               0  \n",
       "species                           0  \n",
       "alkaloid                          0  \n",
       "alkaloids                         0  \n",
       "essential oil                     0  \n",
       "alfalfa                           0  \n",
       "extracts                          0  \n",
       "constituents                      0  \n",
       "parthenolide                      0  \n",
       "radicle hypocotyl                 0  \n",
       "chemical                          0  \n",
       "coca                              0  \n",
       "products                          0  \n",
       "biological                        0  \n",
       "bryonia                           0  \n",
       "peanut oil                        0  \n",
       "glycitein                         0  \n",
       "medicinal                         0  \n",
       "glucosinolates                    0  \n",
       "flavonoids                        0  \n",
       "gossypol                          0  \n",
       "brassinin                         0  \n",
       "review                            1  \n",
       "zuiki                             0  \n",
       "pharmacological                   0  \n",
       "parthenium                        0  \n",
       "antioxidant                       0  \n",
       "artemisinin                       0  \n",
       "activities                        0  \n",
       "kiwifruit                         0  \n",
       "properties                        0  \n",
       "biological activities             0  \n",
       "phytochemical                     0  \n",
       "genus                             0  \n",
       "health                            1  \n",
       "natural                           0  \n",
       "uses                              0  \n",
       "food                              1  \n",
       "bioactive                         0  \n",
       "\n",
       "[45 rows x 50 columns]"
      ]
     },
     "execution_count": 666,
     "metadata": {},
     "output_type": "execute_result"
    }
   ],
   "source": [
    "# Construct terms-timestamps dataframe: \n",
    "# start with zero-filled: not used\n",
    "#https://stackoverflow.com/questions/22963263/creating-a-zero-filled-pandas-data-frame\n",
    "#terms_tss_df = pd.DataFrame(0, index=toc_terms_all.keys(), columns=toc_tss)\n",
    "\n",
    "# dict to dataframe\n",
    "#https://stackoverflow.com/questions/13575090/construct-pandas-dataframe-from-items-in-nested-dictionary\n",
    "terms_tss_df = pd.DataFrame.from_dict(terms_tss)\n",
    "terms_tss_df"
   ]
  },
  {
   "cell_type": "code",
   "execution_count": 672,
   "metadata": {},
   "outputs": [
    {
     "data": {
      "image/png": "[encoded data removed]",
      "text/plain": [
       "<Figure size 720x720 with 4 Axes>"
      ]
     },
     "metadata": {},
     "output_type": "display_data"
    }
   ],
   "source": [
    "# Heatmap\n",
    "cgrid_test = sns.clustermap(terms_tss_df, row_cluster=True, col_cluster=False)"
   ]
  },
  {
   "cell_type": "code",
   "execution_count": 668,
   "metadata": {},
   "outputs": [
    {
     "data": {
      "text/plain": [
       "Index(['compounds', 'essential', 'oil', 'found', 'oils', 'plant', 'spp',\n",
       "       'species', 'alkaloid', 'alkaloids', 'essential oil', 'alfalfa',\n",
       "       'extracts', 'constituents', 'parthenolide', 'radicle hypocotyl',\n",
       "       'chemical', 'coca', 'products', 'biological', 'bryonia', 'peanut oil',\n",
       "       'glycitein', 'medicinal', 'glucosinolates', 'flavonoids', 'gossypol',\n",
       "       'brassinin', 'review', 'zuiki', 'pharmacological', 'parthenium',\n",
       "       'antioxidant', 'artemisinin', 'activities', 'kiwifruit', 'properties',\n",
       "       'biological activities', 'phytochemical', 'genus', 'health', 'natural',\n",
       "       'uses', 'food', 'bioactive'],\n",
       "      dtype='object')"
      ]
     },
     "execution_count": 668,
     "metadata": {},
     "output_type": "execute_result"
    }
   ],
   "source": [
    "terms_tss_df.index"
   ]
  },
  {
   "cell_type": "code",
   "execution_count": 673,
   "metadata": {},
   "outputs": [
    {
     "name": "stdout",
     "output_type": "stream",
     "text": [
      "45 [0, 7, 5, 16, 9, 2, 30, 25, 36, 40, 43, 26, 27, 44, 39, 38, 12, 31, 10, 21, 22, 32, 33, 4, 1, 3, 18, 15, 17, 14, 11, 6, 8, 29, 20, 24, 37, 34, 35, 41, 42, 13, 19, 23, 28]\n"
     ]
    }
   ],
   "source": [
    "# Get the row order and reorderd the dataframe\n",
    "order_idx = cgrid_test.dendrogram_row.reordered_ind\n",
    "print(len(order_idx), order_idx)"
   ]
  },
  {
   "cell_type": "code",
   "execution_count": 675,
   "metadata": {},
   "outputs": [
    {
     "name": "stdout",
     "output_type": "stream",
     "text": [
      "['compounds', 'species', 'plant', 'chemical', 'alkaloids', 'oil', 'pharmacological', 'flavonoids', 'properties', 'health', 'food', 'gossypol', 'brassinin', 'bioactive', 'genus', 'phytochemical', 'extracts', 'parthenium', 'essential oil', 'peanut oil', 'glycitein', 'antioxidant', 'artemisinin', 'oils', 'essential', 'found', 'products', 'radicle hypocotyl', 'coca', 'parthenolide', 'alfalfa', 'spp', 'alkaloid', 'zuiki', 'bryonia', 'glucosinolates', 'biological activities', 'activities', 'kiwifruit', 'natural', 'uses', 'constituents', 'biological', 'medicinal', 'review']\n"
     ]
    }
   ],
   "source": [
    "terms_tss_df_index = terms_tss_df.index\n",
    "order_terms = [terms_tss_df_index[term_idx] for term_idx in order_idx]\n",
    "print(order_terms)"
   ]
  },
  {
   "cell_type": "code",
   "execution_count": 677,
   "metadata": {},
   "outputs": [
    {
     "name": "stdout",
     "output_type": "stream",
     "text": [
      "Index(['compounds', 'species', 'plant', 'chemical', 'alkaloids', 'oil',\n",
      "       'pharmacological', 'flavonoids', 'properties', 'health', 'food',\n",
      "       'gossypol', 'brassinin', 'bioactive', 'genus', 'phytochemical',\n",
      "       'extracts', 'parthenium', 'essential oil', 'peanut oil', 'glycitein',\n",
      "       'antioxidant', 'artemisinin', 'oils', 'essential', 'found', 'products',\n",
      "       'radicle hypocotyl', 'coca', 'parthenolide', 'alfalfa', 'spp',\n",
      "       'alkaloid', 'zuiki', 'bryonia', 'glucosinolates',\n",
      "       'biological activities', 'activities', 'kiwifruit', 'natural', 'uses',\n",
      "       'constituents', 'biological', 'medicinal', 'review'],\n",
      "      dtype='object')\n"
     ]
    }
   ],
   "source": [
    "terms_tss_df_reordered = terms_tss_df.reindex(order_terms)\n",
    "print(terms_tss_df_reordered.index)"
   ]
  },
  {
   "cell_type": "code",
   "execution_count": 678,
   "metadata": {},
   "outputs": [
    {
     "data": {
      "image/png": "[encoded data removed]",
      "text/plain": [
       "<Figure size 720x1296 with 2 Axes>"
      ]
     },
     "metadata": {},
     "output_type": "display_data"
    }
   ],
   "source": [
    "# heatmap x axis: reuse boundsX\n",
    "# heatmap y axis\n",
    "terms_idx  = np.arange(len(toc_terms_all))\n",
    "midpointsY = (terms_idx[:-1] + terms_idx[1:]) / 2\n",
    "boundsY    = np.concatenate([[2*midpointsY[0]-midpointsY[1]], \n",
    "                          midpointsY, \n",
    "                          [2*midpointsY[-1]-midpointsY[-2]]])\n",
    "#print(boundsX.shape, boundsY.shape, terms_tss_df_reordered.shape)\n",
    "\n",
    "# xtickslabels: reuse\n",
    "# yticklabels:\n",
    "yticklabels = terms_tss_df_reordered.index\n",
    "\n",
    "# Draw heatmap with size resacaled\n",
    "fig, ax = plt.subplots(figsize=(10,18))\n",
    "plot = ax.pcolormesh(boundsX, boundsY, terms_tss_df_reordered)\n",
    "ax.set_xticks(boundsX)\n",
    "ax.set_xticklabels(xticklabels, rotation=90)\n",
    "ax.set_yticks(np.arange(len(terms_idx)))\n",
    "ax.set_yticklabels(yticklabels)\n",
    "ax.grid(False)\n",
    "fig.colorbar(plot)\n",
    "plt.savefig(work_dir / 'fig4_4_tot_heatmap_weighted_xscaled.pdf')\n",
    "plt.show()"
   ]
  },
  {
   "cell_type": "markdown",
   "metadata": {},
   "source": [
    "### Test run the 1st time bin with manual topic_over_time"
   ]
  },
  {
   "cell_type": "markdown",
   "metadata": {},
   "source": [
    "#### Get c-Tf-Idf matrix for the 1st time bin"
   ]
  },
  {
   "cell_type": "code",
   "execution_count": null,
   "metadata": {},
   "outputs": [
    {
     "data": {
      "text/plain": [
       "250750799.0"
      ]
     },
     "metadata": {},
     "output_type": "display_data"
    }
   ],
   "source": [
    "index = 0\n",
    "timestamp = ts_unique[0]\n",
    "timestamp"
   ]
  },
  {
   "cell_type": "code",
   "execution_count": null,
   "metadata": {},
   "outputs": [
    {
     "data": {
      "text/plain": [
       "(pandas.core.frame.DataFrame, (78, 3))"
      ]
     },
     "metadata": {},
     "output_type": "display_data"
    }
   ],
   "source": [
    "# sub-dataframe: (8433, 4)\n",
    "selection = documents.loc[documents.Timestamps == timestamp, :]"
   ]
  },
  {
   "cell_type": "code",
   "execution_count": null,
   "metadata": {},
   "outputs": [
    {
     "data": {
      "text/plain": [
       "(78, 3)"
      ]
     },
     "metadata": {},
     "output_type": "display_data"
    }
   ],
   "source": [
    "# joint docs for each topic into a string\n",
    "docs_per_toc = selection.groupby(['Topic'], as_index=False).agg(\n",
    "                                {'Document': ' '.join, \"Timestamps\": \"count\"})\n",
    "docs_per_toc.shape"
   ]
  },
  {
   "cell_type": "code",
   "execution_count": null,
   "metadata": {},
   "outputs": [
    {
     "data": {
      "text/html": [
       "<div>\n",
       "<style scoped>\n",
       "    .dataframe tbody tr th:only-of-type {\n",
       "        vertical-align: middle;\n",
       "    }\n",
       "\n",
       "    .dataframe tbody tr th {\n",
       "        vertical-align: top;\n",
       "    }\n",
       "\n",
       "    .dataframe thead th {\n",
       "        text-align: right;\n",
       "    }\n",
       "</style>\n",
       "<table border=\"1\" class=\"dataframe\">\n",
       "  <thead>\n",
       "    <tr style=\"text-align: right;\">\n",
       "      <th></th>\n",
       "      <th>Topic</th>\n",
       "      <th>Document</th>\n",
       "      <th>Timestamps</th>\n",
       "    </tr>\n",
       "  </thead>\n",
       "  <tbody>\n",
       "    <tr>\n",
       "      <th>50</th>\n",
       "      <td>61</td>\n",
       "      <td>[ distribution plastids mitosis guard cell mot...</td>\n",
       "      <td>288</td>\n",
       "    </tr>\n",
       "  </tbody>\n",
       "</table>\n",
       "</div>"
      ],
      "text/plain": [
       "    Topic                                           Document  Timestamps\n",
       "50     61  [ distribution plastids mitosis guard cell mot...         288"
      ]
     },
     "metadata": {},
     "output_type": "display_data"
    }
   ],
   "source": [
    "# Topic 61 is the 50th in the dataframe\n",
    "docs_per_toc[docs_per_toc['Topic'] == 61]"
   ]
  },
  {
   "cell_type": "code",
   "execution_count": null,
   "metadata": {},
   "outputs": [
    {
     "data": {
      "text/plain": [
       "Topic                                                        61\n",
       "Document      [ distribution plastids mitosis guard cell mot...\n",
       "Timestamps                                                  288\n",
       "Name: 50, dtype: object"
      ]
     },
     "metadata": {},
     "output_type": "display_data"
    }
   ],
   "source": [
    "docs_per_toc.loc[50]"
   ]
  },
  {
   "cell_type": "code",
   "execution_count": null,
   "metadata": {},
   "outputs": [],
   "source": [
    "c_tf_idf, words = topic_model._c_tf_idf(docs_per_toc, fit=False)"
   ]
  },
  {
   "cell_type": "code",
   "execution_count": null,
   "metadata": {},
   "outputs": [
    {
     "data": {
      "text/plain": [
       "(scipy.sparse.csr.csr_matrix, (78, 18850331), list, 18850331)"
      ]
     },
     "metadata": {},
     "output_type": "display_data"
    }
   ],
   "source": [
    "# c_tf_idf shape = (num_topics=78, num_words=18850331)\n",
    "# Note that not all topics are found in the 1st time bin.\n",
    "type(c_tf_idf), c_tf_idf.shape, type(words), len(words)"
   ]
  },
  {
   "cell_type": "code",
   "execution_count": null,
   "metadata": {},
   "outputs": [
    {
     "data": {
      "text/plain": [
       "0.0"
      ]
     },
     "metadata": {},
     "output_type": "display_data"
    }
   ],
   "source": [
    "# Spot check a term\n",
    "index_qtl = words.index('qtl')\n",
    "c_tf_idf[50, index_qtl]"
   ]
  },
  {
   "cell_type": "code",
   "execution_count": 53,
   "metadata": {},
   "outputs": [],
   "source": [
    "# Write the words into a file\n",
    "word_file = ctfidf_dir / f\"word_list_{len(words)}.pickle\"\n",
    "with open(word_file, 'wb') as f:\n",
    "  pickle.dump(words, f)"
   ]
  },
  {
   "cell_type": "code",
   "execution_count": 55,
   "metadata": {},
   "outputs": [],
   "source": [
    "# Write the index and topic name in docs_per_toc into a file\n",
    "toc_index_file = ctfidf_dir / \"ctfidf_0_toc_index.tsv\"\n",
    "docs_per_toc['Topic'].to_csv(toc_index_file, sep='\\t')"
   ]
  },
  {
   "cell_type": "markdown",
   "metadata": {},
   "source": [
    "#### Global tuning\n",
    "\n",
    "- Evolution tuning is not done because this is the 1st time bin.\n",
    "- Note that because of global tuning, the c-Tf-Idf value of qtl is no longer zero."
   ]
  },
  {
   "cell_type": "code",
   "execution_count": null,
   "metadata": {},
   "outputs": [],
   "source": [
    "selected_topics = [all_topics_indices[topic] \\\n",
    "                                        for topic in docs_per_toc.Topic.values]\n",
    "c_tf_idf = (global_c_tf_idf[selected_topics] + c_tf_idf) / 2.0"
   ]
  },
  {
   "cell_type": "code",
   "execution_count": null,
   "metadata": {},
   "outputs": [
    {
     "data": {
      "text/plain": [
       "0.0009095433190337633"
      ]
     },
     "metadata": {},
     "output_type": "display_data"
    }
   ],
   "source": [
    "c_tf_idf[50, index_qtl]"
   ]
  }
 ],
 "metadata": {
  "kernelspec": {
   "display_name": "Python 3.10.4 ('torch_default': conda)",
   "language": "python",
   "name": "python3"
  },
  "language_info": {
   "codemirror_mode": {
    "name": "ipython",
    "version": 3
   },
   "file_extension": ".py",
   "mimetype": "text/x-python",
   "name": "python",
   "nbconvert_exporter": "python",
   "pygments_lexer": "ipython3",
   "version": "3.9.12"
  },
  "orig_nbformat": 4,
  "vscode": {
   "interpreter": {
    "hash": "4255f477c905e3cafd6d08b9a6d118445dbfbaff982fd1d9831280a79a13df35"
   }
  }
 },
 "nbformat": 4,
 "nbformat_minor": 2
}
