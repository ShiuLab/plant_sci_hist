{
 "cells": [
  {
   "cell_type": "markdown",
   "metadata": {},
   "source": [
    "# __Step 4.4b: Retrieve specific records__\n",
    "\n",
    "With the topic assignment done, a new dataframe was created to include the assignment info in the dataframe containing date, journal, and corpus info. Goals here are to:\n",
    "- Get records in a specific time frame for interpretation."
   ]
  },
  {
   "cell_type": "markdown",
   "metadata": {},
   "source": [
    "## ___Set up___"
   ]
  },
  {
   "cell_type": "markdown",
   "metadata": {},
   "source": [
    "### Module import"
   ]
  },
  {
   "cell_type": "code",
   "execution_count": 54,
   "metadata": {},
   "outputs": [],
   "source": [
    "import pickle, gzip\n",
    "import numpy as np\n",
    "import pandas as pd\n",
    "import seaborn as sns\n",
    "import matplotlib.pyplot as plt\n",
    "from pathlib import Path\n",
    "from datetime import datetime"
   ]
  },
  {
   "cell_type": "markdown",
   "metadata": {},
   "source": [
    "### Key variables"
   ]
  },
  {
   "cell_type": "code",
   "execution_count": 57,
   "metadata": {},
   "outputs": [],
   "source": [
    "# Reproducibility\n",
    "seed = 20220609\n",
    "\n",
    "# Setting working directory\n",
    "proj_dir   = Path.home() / \"projects/plant_sci_hist\"\n",
    "work_dir   = proj_dir / \"4_topic_model/4_4_over_time\"\n",
    "work_dir.mkdir(parents=True, exist_ok=True)\n",
    "\n",
    "# modified corpus file\n",
    "dir42       = proj_dir / \"4_topic_model/4_2_outlier_assign\"\n",
    "corpus_file = dir42 / \"table4_2_corpus_with_topic_assignment.tsv.gz\"\n",
    "# saved model\n",
    "topic_model_file = dir42 / \"topic_model_updated\"\n",
    "\n",
    "# for writing dataframe of a specific topic and duration\n",
    "toc_dur_dir = work_dir / \"_select_topic_duration\"\n",
    "toc_dur_dir.mkdir(parents=True, exist_ok=True)\n",
    "\n",
    "ctfidf_dir = work_dir / \"ctfidf_over_time\""
   ]
  },
  {
   "cell_type": "markdown",
   "metadata": {},
   "source": [
    "## ___Corpus dataframe___"
   ]
  },
  {
   "cell_type": "markdown",
   "metadata": {},
   "source": [
    "### Read dataframe tsv"
   ]
  },
  {
   "cell_type": "code",
   "execution_count": 9,
   "metadata": {},
   "outputs": [],
   "source": [
    "#https://stackoverflow.com/questions/28200404/pandas-read-table-use-first-column-as-index\n",
    "corpus_df = pd.read_csv(corpus_file, sep='\\t', index_col=0, compression='gzip')"
   ]
  },
  {
   "cell_type": "code",
   "execution_count": 15,
   "metadata": {},
   "outputs": [
    {
     "data": {
      "text/html": [
       "<div>\n",
       "<style scoped>\n",
       "    .dataframe tbody tr th:only-of-type {\n",
       "        vertical-align: middle;\n",
       "    }\n",
       "\n",
       "    .dataframe tbody tr th {\n",
       "        vertical-align: top;\n",
       "    }\n",
       "\n",
       "    .dataframe thead th {\n",
       "        text-align: right;\n",
       "    }\n",
       "</style>\n",
       "<table border=\"1\" class=\"dataframe\">\n",
       "  <thead>\n",
       "    <tr style=\"text-align: right;\">\n",
       "      <th></th>\n",
       "      <th>Index_1385417</th>\n",
       "      <th>PMID</th>\n",
       "      <th>Date</th>\n",
       "      <th>Journal</th>\n",
       "      <th>Title</th>\n",
       "      <th>Abstract</th>\n",
       "      <th>Initial filter qualifier</th>\n",
       "      <th>Corpus</th>\n",
       "      <th>reg_article</th>\n",
       "      <th>Text classification score</th>\n",
       "      <th>Preprocessed corpus</th>\n",
       "      <th>Topic</th>\n",
       "    </tr>\n",
       "  </thead>\n",
       "  <tbody>\n",
       "    <tr>\n",
       "      <th>0</th>\n",
       "      <td>3</td>\n",
       "      <td>61</td>\n",
       "      <td>1975-12-11</td>\n",
       "      <td>Biochimica et biophysica acta</td>\n",
       "      <td>Identification of the 120 mus phase in the dec...</td>\n",
       "      <td>After a 500 mus laser flash a 120 mus phase in...</td>\n",
       "      <td>spinach</td>\n",
       "      <td>Identification of the 120 mus phase in the dec...</td>\n",
       "      <td>1</td>\n",
       "      <td>0.716394</td>\n",
       "      <td>identification 120 mus phase decay delayed flu...</td>\n",
       "      <td>52</td>\n",
       "    </tr>\n",
       "    <tr>\n",
       "      <th>1</th>\n",
       "      <td>4</td>\n",
       "      <td>67</td>\n",
       "      <td>1975-11-20</td>\n",
       "      <td>Biochimica et biophysica acta</td>\n",
       "      <td>Cholinesterases from plant tissues. VI. Prelim...</td>\n",
       "      <td>Enzymes capable of hydrolyzing esters of thioc...</td>\n",
       "      <td>plant</td>\n",
       "      <td>Cholinesterases from plant tissues. VI. Prelim...</td>\n",
       "      <td>1</td>\n",
       "      <td>0.894874</td>\n",
       "      <td>cholinesterases plant tissues . vi . prelimina...</td>\n",
       "      <td>48</td>\n",
       "    </tr>\n",
       "  </tbody>\n",
       "</table>\n",
       "</div>"
      ],
      "text/plain": [
       "   Index_1385417  PMID        Date                        Journal  \\\n",
       "0              3    61  1975-12-11  Biochimica et biophysica acta   \n",
       "1              4    67  1975-11-20  Biochimica et biophysica acta   \n",
       "\n",
       "                                               Title  \\\n",
       "0  Identification of the 120 mus phase in the dec...   \n",
       "1  Cholinesterases from plant tissues. VI. Prelim...   \n",
       "\n",
       "                                            Abstract Initial filter qualifier  \\\n",
       "0  After a 500 mus laser flash a 120 mus phase in...                  spinach   \n",
       "1  Enzymes capable of hydrolyzing esters of thioc...                    plant   \n",
       "\n",
       "                                              Corpus  reg_article  \\\n",
       "0  Identification of the 120 mus phase in the dec...            1   \n",
       "1  Cholinesterases from plant tissues. VI. Prelim...            1   \n",
       "\n",
       "   Text classification score  \\\n",
       "0                   0.716394   \n",
       "1                   0.894874   \n",
       "\n",
       "                                 Preprocessed corpus  Topic  \n",
       "0  identification 120 mus phase decay delayed flu...     52  \n",
       "1  cholinesterases plant tissues . vi . prelimina...     48  "
      ]
     },
     "execution_count": 15,
     "metadata": {},
     "output_type": "execute_result"
    }
   ],
   "source": [
    "corpus_df.head(2)"
   ]
  },
  {
   "cell_type": "code",
   "execution_count": 16,
   "metadata": {},
   "outputs": [
    {
     "data": {
      "text/plain": [
       "(421658, 12)"
      ]
     },
     "execution_count": 16,
     "metadata": {},
     "output_type": "execute_result"
    }
   ],
   "source": [
    "corpus_df.shape"
   ]
  },
  {
   "cell_type": "markdown",
   "metadata": {},
   "source": [
    "### Get timestamp"
   ]
  },
  {
   "cell_type": "code",
   "execution_count": 13,
   "metadata": {},
   "outputs": [
    {
     "data": {
      "text/plain": [
       "421658"
      ]
     },
     "execution_count": 13,
     "metadata": {},
     "output_type": "execute_result"
    }
   ],
   "source": [
    "# Turn all dates into timestamps \n",
    "dates      = corpus_df['Date'].values\n",
    "timestamps = []\n",
    "for date in dates:\n",
    "  [yr, mo, da] = date.split('-') # year, month, day\n",
    "  dt   = datetime(int(yr), int(mo), int(da))\n",
    "  ts   = dt.timestamp()\n",
    "  timestamps.append(ts)\n",
    "len(timestamps)"
   ]
  },
  {
   "cell_type": "code",
   "execution_count": 17,
   "metadata": {},
   "outputs": [],
   "source": [
    "### Add timestamp column to corpus_df\n",
    "corpus_df[\"Timestamps\"] = timestamps"
   ]
  },
  {
   "cell_type": "code",
   "execution_count": 18,
   "metadata": {},
   "outputs": [
    {
     "data": {
      "text/html": [
       "<div>\n",
       "<style scoped>\n",
       "    .dataframe tbody tr th:only-of-type {\n",
       "        vertical-align: middle;\n",
       "    }\n",
       "\n",
       "    .dataframe tbody tr th {\n",
       "        vertical-align: top;\n",
       "    }\n",
       "\n",
       "    .dataframe thead th {\n",
       "        text-align: right;\n",
       "    }\n",
       "</style>\n",
       "<table border=\"1\" class=\"dataframe\">\n",
       "  <thead>\n",
       "    <tr style=\"text-align: right;\">\n",
       "      <th></th>\n",
       "      <th>Index_1385417</th>\n",
       "      <th>PMID</th>\n",
       "      <th>Date</th>\n",
       "      <th>Journal</th>\n",
       "      <th>Title</th>\n",
       "      <th>Abstract</th>\n",
       "      <th>Initial filter qualifier</th>\n",
       "      <th>Corpus</th>\n",
       "      <th>reg_article</th>\n",
       "      <th>Text classification score</th>\n",
       "      <th>Preprocessed corpus</th>\n",
       "      <th>Topic</th>\n",
       "      <th>Timestamps</th>\n",
       "    </tr>\n",
       "  </thead>\n",
       "  <tbody>\n",
       "    <tr>\n",
       "      <th>0</th>\n",
       "      <td>3</td>\n",
       "      <td>61</td>\n",
       "      <td>1975-12-11</td>\n",
       "      <td>Biochimica et biophysica acta</td>\n",
       "      <td>Identification of the 120 mus phase in the dec...</td>\n",
       "      <td>After a 500 mus laser flash a 120 mus phase in...</td>\n",
       "      <td>spinach</td>\n",
       "      <td>Identification of the 120 mus phase in the dec...</td>\n",
       "      <td>1</td>\n",
       "      <td>0.716394</td>\n",
       "      <td>identification 120 mus phase decay delayed flu...</td>\n",
       "      <td>52</td>\n",
       "      <td>187506000.0</td>\n",
       "    </tr>\n",
       "  </tbody>\n",
       "</table>\n",
       "</div>"
      ],
      "text/plain": [
       "   Index_1385417  PMID        Date                        Journal  \\\n",
       "0              3    61  1975-12-11  Biochimica et biophysica acta   \n",
       "\n",
       "                                               Title  \\\n",
       "0  Identification of the 120 mus phase in the dec...   \n",
       "\n",
       "                                            Abstract Initial filter qualifier  \\\n",
       "0  After a 500 mus laser flash a 120 mus phase in...                  spinach   \n",
       "\n",
       "                                              Corpus  reg_article  \\\n",
       "0  Identification of the 120 mus phase in the dec...            1   \n",
       "\n",
       "   Text classification score  \\\n",
       "0                   0.716394   \n",
       "\n",
       "                                 Preprocessed corpus  Topic   Timestamps  \n",
       "0  identification 120 mus phase decay delayed flu...     52  187506000.0  "
      ]
     },
     "execution_count": 18,
     "metadata": {},
     "output_type": "execute_result"
    }
   ],
   "source": [
    "corpus_df.head(1)"
   ]
  },
  {
   "cell_type": "markdown",
   "metadata": {},
   "source": [
    "## ___Retrieval records for a specific topic___"
   ]
  },
  {
   "cell_type": "markdown",
   "metadata": {},
   "source": [
    "### Testing"
   ]
  },
  {
   "cell_type": "code",
   "execution_count": 28,
   "metadata": {},
   "outputs": [
    {
     "data": {
      "text/plain": [
       "(16183, 13)"
      ]
     },
     "execution_count": 28,
     "metadata": {},
     "output_type": "execute_result"
    }
   ],
   "source": [
    "topic = 61\n",
    "corpus_df_topic = corpus_df[corpus_df['Topic'] == topic].sort_values('Timestamps')\n",
    "corpus_df_topic.shape"
   ]
  },
  {
   "cell_type": "code",
   "execution_count": 32,
   "metadata": {},
   "outputs": [],
   "source": [
    "# passing date string\n",
    "date_start = \"1900-1-1\"\n",
    "date_end   = \"1980-1-1\"\n",
    "\n",
    "# get year, month, and day strings\n",
    "y_sta, m_sta, d_sta = date_start.split(\"-\")\n",
    "y_end, y_end, y_end = date_end.split(\"-\")\n",
    "\n",
    "# get timestamps\n",
    "ts_start   = datetime(int(y_sta), int(m_sta), int(d_sta)).timestamp()\n",
    "ts_end     = datetime(int(y_end), int(y_end), int(y_end)).timestamp()"
   ]
  },
  {
   "cell_type": "code",
   "execution_count": 35,
   "metadata": {},
   "outputs": [
    {
     "data": {
      "text/plain": [
       "(385, 13)"
      ]
     },
     "execution_count": 35,
     "metadata": {},
     "output_type": "execute_result"
    }
   ],
   "source": [
    "# For multiple conditions: cannnot use and/or need &/|. Expect 385 records.\n",
    "corpus_df_topic_dur = corpus_df_topic.loc[\n",
    "                          (corpus_df_topic['Timestamps'] >= ts_start) &\n",
    "                          (corpus_df_topic['Timestamps'] < ts_end)]\n",
    "corpus_df_topic_dur.shape"
   ]
  },
  {
   "cell_type": "code",
   "execution_count": 82,
   "metadata": {},
   "outputs": [
    {
     "data": {
      "text/html": [
       "<div>\n",
       "<style scoped>\n",
       "    .dataframe tbody tr th:only-of-type {\n",
       "        vertical-align: middle;\n",
       "    }\n",
       "\n",
       "    .dataframe tbody tr th {\n",
       "        vertical-align: top;\n",
       "    }\n",
       "\n",
       "    .dataframe thead th {\n",
       "        text-align: right;\n",
       "    }\n",
       "</style>\n",
       "<table border=\"1\" class=\"dataframe\">\n",
       "  <thead>\n",
       "    <tr style=\"text-align: right;\">\n",
       "      <th></th>\n",
       "      <th>Index_1385417</th>\n",
       "      <th>PMID</th>\n",
       "      <th>Date</th>\n",
       "      <th>Journal</th>\n",
       "      <th>Title</th>\n",
       "      <th>Abstract</th>\n",
       "      <th>Initial filter qualifier</th>\n",
       "      <th>Corpus</th>\n",
       "      <th>reg_article</th>\n",
       "      <th>Text classification score</th>\n",
       "      <th>Preprocessed corpus</th>\n",
       "      <th>Topic</th>\n",
       "      <th>Timestamps</th>\n",
       "    </tr>\n",
       "  </thead>\n",
       "  <tbody>\n",
       "    <tr>\n",
       "      <th>128650</th>\n",
       "      <td>568762</td>\n",
       "      <td>17732689</td>\n",
       "      <td>1960-01-22</td>\n",
       "      <td>Science (New York, N.Y.)</td>\n",
       "      <td>Relation of Antigens of Melampsora lini and Li...</td>\n",
       "      <td>A specific antigen was found in each of four r...</td>\n",
       "      <td>flax</td>\n",
       "      <td>Relation of Antigens of Melampsora lini and Li...</td>\n",
       "      <td>1</td>\n",
       "      <td>0.812838</td>\n",
       "      <td>relation antigens melampsora lini linum usitat...</td>\n",
       "      <td>61</td>\n",
       "      <td>-313786800.0</td>\n",
       "    </tr>\n",
       "    <tr>\n",
       "      <th>73981</th>\n",
       "      <td>404936</td>\n",
       "      <td>13718505</td>\n",
       "      <td>1960-11-04</td>\n",
       "      <td>Science (New York, N.Y.)</td>\n",
       "      <td>Effects of supernumerary chromosomes on produc...</td>\n",
       "      <td>One of the two types of supernumerary chromoso...</td>\n",
       "      <td>haplopappus</td>\n",
       "      <td>Effects of supernumerary chromosomes on produc...</td>\n",
       "      <td>1</td>\n",
       "      <td>0.771993</td>\n",
       "      <td>effects supernumerary chromosomes production p...</td>\n",
       "      <td>61</td>\n",
       "      <td>-288990000.0</td>\n",
       "    </tr>\n",
       "  </tbody>\n",
       "</table>\n",
       "</div>"
      ],
      "text/plain": [
       "        Index_1385417      PMID        Date                   Journal  \\\n",
       "128650         568762  17732689  1960-01-22  Science (New York, N.Y.)   \n",
       "73981          404936  13718505  1960-11-04  Science (New York, N.Y.)   \n",
       "\n",
       "                                                    Title  \\\n",
       "128650  Relation of Antigens of Melampsora lini and Li...   \n",
       "73981   Effects of supernumerary chromosomes on produc...   \n",
       "\n",
       "                                                 Abstract  \\\n",
       "128650  A specific antigen was found in each of four r...   \n",
       "73981   One of the two types of supernumerary chromoso...   \n",
       "\n",
       "       Initial filter qualifier  \\\n",
       "128650                     flax   \n",
       "73981               haplopappus   \n",
       "\n",
       "                                                   Corpus  reg_article  \\\n",
       "128650  Relation of Antigens of Melampsora lini and Li...            1   \n",
       "73981   Effects of supernumerary chromosomes on produc...            1   \n",
       "\n",
       "        Text classification score  \\\n",
       "128650                   0.812838   \n",
       "73981                    0.771993   \n",
       "\n",
       "                                      Preprocessed corpus  Topic   Timestamps  \n",
       "128650  relation antigens melampsora lini linum usitat...     61 -313786800.0  \n",
       "73981   effects supernumerary chromosomes production p...     61 -288990000.0  "
      ]
     },
     "execution_count": 82,
     "metadata": {},
     "output_type": "execute_result"
    }
   ],
   "source": [
    "corpus_df_topic_dur.head(2)"
   ]
  },
  {
   "cell_type": "code",
   "execution_count": 39,
   "metadata": {},
   "outputs": [],
   "source": [
    "tsv_file = toc_dur_dir / f\"corpus_df_{topic}_{date_start}_{date_end}.tsv\""
   ]
  },
  {
   "cell_type": "code",
   "execution_count": 42,
   "metadata": {},
   "outputs": [],
   "source": [
    "corpus_df_topic_dur.to_csv(tsv_file, sep='\\t')"
   ]
  },
  {
   "cell_type": "code",
   "execution_count": 44,
   "metadata": {},
   "outputs": [],
   "source": [
    "# search for specific term\n",
    "term = \"qtl\"\n",
    "txts  = corpus_df_topic_dur[\"Preprocessed corpus\"].values\n",
    "for txt in txts:\n",
    "  if term in txt:\n",
    "    print(txt[(txt.find(term)-20) : (txt.find(term)+len(term)+20)])"
   ]
  },
  {
   "cell_type": "markdown",
   "metadata": {},
   "source": [
    "### Set up function"
   ]
  },
  {
   "cell_type": "code",
   "execution_count": 88,
   "metadata": {},
   "outputs": [],
   "source": [
    "def get_corpus_df_topic_dur(topic, date_start, date_end):\n",
    "  '''Get corpus_df for a specific topic within a specific time frame\n",
    "  Args\n",
    "    topic (int): topic number\n",
    "    date_start (str): starting date of the timeframe, year-month-day, inclusive\n",
    "    date_end (str): ending date of the time frame\n",
    "  Return\n",
    "    corpus_df_topic_dur (DataFrame): corpus df of a specific topic/duration\n",
    "  Output\n",
    "    corpus_df_topic_dur (csv)\n",
    "  '''\n",
    "  corpus_df_topic = corpus_df[\n",
    "                        corpus_df['Topic'] == topic].sort_values('Timestamps')\n",
    "\n",
    "  # get year, month, and day strings\n",
    "  y_sta, m_sta, d_sta = date_start.split(\"-\")\n",
    "  y_end, m_end, d_end = date_end.split(\"-\")\n",
    "\n",
    "  # get timestamps\n",
    "  ts_start   = datetime(int(y_sta), int(m_sta), int(d_sta)).timestamp()\n",
    "  ts_end     = datetime(int(y_end), int(m_end), int(d_end)).timestamp()\n",
    "  corpus_df_topic_dur = corpus_df_topic.loc[\n",
    "                            (corpus_df_topic['Timestamps'] >= ts_start) &\n",
    "                            (corpus_df_topic['Timestamps'] < ts_end)]\n",
    "  tsv_file = toc_dur_dir / f\"corpus_df_{topic}_{date_start}_{date_end}.tsv\"\n",
    "  corpus_df_topic_dur.to_csv(tsv_file, sep='\\t')\n",
    "\n",
    "  return corpus_df_topic_dur\n"
   ]
  },
  {
   "cell_type": "code",
   "execution_count": 97,
   "metadata": {},
   "outputs": [],
   "source": [
    "def find_term(corpus_df, term):\n",
    "  '''Search for specific term\n",
    "  Args\n",
    "    corpus_df (DataFrame): returned from get_corpus_df_topic_dur()\n",
    "    term (str): term to find\n",
    "  '''\n",
    "  txts  = corpus_df_topic_dur[\"Preprocessed corpus\"].values\n",
    "  pmids = corpus_df_topic_dur[\"PMID\"].values\n",
    "  for idx, txt in enumerate(txts):\n",
    "    tlist = txt.split(\" \")\n",
    "    if term in tlist:\n",
    "      print(pmids[idx], tlist[(tlist.index(term)-3) : (tlist.index(term)+4)])"
   ]
  },
  {
   "cell_type": "markdown",
   "metadata": {},
   "source": [
    "### Topic 44. Light, CO2, photosynthesis"
   ]
  },
  {
   "cell_type": "code",
   "execution_count": 101,
   "metadata": {},
   "outputs": [],
   "source": [
    "corpus_df_topic_dur44 = get_corpus_df_topic_dur(44, \n",
    "                                                \"1917-1-1\",\n",
    "                                                \"1978-1-1\")"
   ]
  },
  {
   "cell_type": "code",
   "execution_count": 104,
   "metadata": {},
   "outputs": [
    {
     "name": "stdout",
     "output_type": "stream",
     "text": [
      "24425354 ['(', '60', ')', 'co', 'gamma', 'source', '.']\n",
      "24317906 ['.', ')', 'clone', 'co', '527.', 'vigorous', 'fast']\n"
     ]
    }
   ],
   "source": [
    "find_term(corpus_df_topic_dur44, \"co\")"
   ]
  },
  {
   "cell_type": "markdown",
   "metadata": {},
   "source": [
    "### Topic 45. Hormone"
   ]
  },
  {
   "cell_type": "code",
   "execution_count": null,
   "metadata": {},
   "outputs": [],
   "source": [
    "corpus_df_topic_dur45 = get_corpus_df_topic_dur(45, \n",
    "                                                \"1917-1-1\",\n",
    "                                                \"1978-1-1\")"
   ]
  },
  {
   "cell_type": "code",
   "execution_count": null,
   "metadata": {},
   "outputs": [
    {
     "name": "stdout",
     "output_type": "stream",
     "text": [
      "24425354 ['(', '60', ')', 'co', 'gamma', 'source', '.']\n",
      "24317906 ['.', ')', 'clone', 'co', '527.', 'vigorous', 'fast']\n"
     ]
    }
   ],
   "source": [
    "find_term(corpus_df_topic_dur44, \"co\")"
   ]
  },
  {
   "cell_type": "code",
   "execution_count": null,
   "metadata": {},
   "outputs": [],
   "source": []
  },
  {
   "cell_type": "markdown",
   "metadata": {},
   "source": [
    "# __Testing__"
   ]
  },
  {
   "cell_type": "markdown",
   "metadata": {},
   "source": [
    "## ___Check topic over time correctness___\n",
    "\n",
    "8/25/22: Spot check topic 61 where the term \"qtl\" is among the top term in the 1st time bin.\n",
    "- But going back to the corpus for topic 61, the term is not present in any records.an\n",
    "- Re-run script4_4 with `global_tuning` set to `False`."
   ]
  },
  {
   "cell_type": "markdown",
   "metadata": {},
   "source": [
    "### Load c-Tf-Idf for 1st time bin and the word file"
   ]
  },
  {
   "cell_type": "code",
   "execution_count": 58,
   "metadata": {},
   "outputs": [
    {
     "data": {
      "text/plain": [
       "(78, 18850331)"
      ]
     },
     "execution_count": 58,
     "metadata": {},
     "output_type": "execute_result"
    }
   ],
   "source": [
    "with open(ctfidf_dir / \"ctfidf_0.pickle\", 'rb') as f:\n",
    "  ctfidf_0 = pickle.load(f)\n",
    "ctfidf_0.shape"
   ]
  },
  {
   "cell_type": "code",
   "execution_count": 60,
   "metadata": {},
   "outputs": [],
   "source": [
    "word_file = ctfidf_dir / f\"word_list_18850331.pickle\"\n",
    "with open(word_file, 'rb') as f:\n",
    "  words = pickle.load(f)"
   ]
  },
  {
   "cell_type": "markdown",
   "metadata": {},
   "source": [
    "### Check c-Tf-Idf value for qtl"
   ]
  },
  {
   "cell_type": "code",
   "execution_count": 76,
   "metadata": {},
   "outputs": [
    {
     "data": {
      "text/plain": [
       "14023797"
      ]
     },
     "execution_count": 76,
     "metadata": {},
     "output_type": "execute_result"
    }
   ],
   "source": [
    "index_qtl = words.index(\"qtl\")\n",
    "index_qtl"
   ]
  },
  {
   "cell_type": "code",
   "execution_count": 62,
   "metadata": {},
   "outputs": [
    {
     "data": {
      "text/plain": [
       "0.0009095433190337633"
      ]
     },
     "execution_count": 62,
     "metadata": {},
     "output_type": "execute_result"
    }
   ],
   "source": [
    "# Topic 61 has index=50 in the ctfidf file\n",
    "# see script_4_4, \"Test run the 1st time bin with manual topic_over_time\"\n",
    "ctfidf_0[50, index_qtl]"
   ]
  },
  {
   "cell_type": "markdown",
   "metadata": {},
   "source": [
    "### Check top terms"
   ]
  },
  {
   "cell_type": "code",
   "execution_count": 74,
   "metadata": {},
   "outputs": [
    {
     "data": {
      "text/plain": [
       "(18850331,)"
      ]
     },
     "execution_count": 74,
     "metadata": {},
     "output_type": "execute_result"
    }
   ],
   "source": [
    "ctfidf_0_toc61 = ctfidf_0[50,].toarray()[0]\n",
    "ctfidf_0_toc61.shape"
   ]
  },
  {
   "cell_type": "code",
   "execution_count": 79,
   "metadata": {},
   "outputs": [
    {
     "data": {
      "text/plain": [
       "True"
      ]
     },
     "execution_count": 79,
     "metadata": {},
     "output_type": "execute_result"
    }
   ],
   "source": [
    "top_x   = 10\n",
    "top_idx = np.argpartition(ctfidf_0_toc61, -top_x)[-top_x:]\n",
    "\n",
    "# So qtl is among the top 10 terms for time bin 0, even though its starting\n",
    "# c-tf-idf is 0.\n",
    "index_qtl in top_idx"
   ]
  }
 ],
 "metadata": {
  "kernelspec": {
   "display_name": "Python 3.10.4 ('torch_default': conda)",
   "language": "python",
   "name": "python3"
  },
  "language_info": {
   "codemirror_mode": {
    "name": "ipython",
    "version": 3
   },
   "file_extension": ".py",
   "mimetype": "text/x-python",
   "name": "python",
   "nbconvert_exporter": "python",
   "pygments_lexer": "ipython3",
   "version": "3.10.4"
  },
  "orig_nbformat": 4,
  "vscode": {
   "interpreter": {
    "hash": "4255f477c905e3cafd6d08b9a6d118445dbfbaff982fd1d9831280a79a13df35"
   }
  }
 },
 "nbformat": 4,
 "nbformat_minor": 2
}
