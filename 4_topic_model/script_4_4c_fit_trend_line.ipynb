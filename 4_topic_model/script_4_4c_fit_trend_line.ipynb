{
 "cells": [
  {
   "cell_type": "markdown",
   "metadata": {},
   "source": [
    "# __Step 4.4c: Fit trend line__\n",
    "\n",
    "Goals here:\n",
    "- Better detect the trends for topics\n",
    "\n",
    "10/11/22:\n",
    "- Think of this as a [forcasting problem](https://www.cienciadedatos.net/documentos/py27-time-series-forecasting-python-scikitlearn.html).\n",
    "- Update `sklearn` environment but run into problem:\n",
    " - `libstdc++.so.6: version 'GLIBCXX_3.4.29' not found`\n",
    " - [Fix](https://github.com/BVLC/caffe/issues/4953): `conda install libgcc`\n",
    "\n",
    "10/10/22: \n",
    "- The topic over time heatmap is ordered in a unstatisfactory way. While I can tell if a topic is declining or rising, it is rather subjective. Looking into [non-linear regression models for time-series](https://otexts.com/fpp2/nonlinear-regression.html), I can get a better picture by fitting trend lines.\n",
    "- From [this post](https://stackoverflow.com/questions/51321100/python-natural-smoothing-splines) found the following packages:\n",
    "  - https://github.com/espdev/csaps\n",
    "  - https://github.com/madrury/basis-expansions\n",
    "- Here is another way using [pycaret](https://towardsdatascience.com/time-series-forecasting-with-pycaret-regression-module-237b703a0c63)."
   ]
  },
  {
   "cell_type": "markdown",
   "metadata": {},
   "source": [
    "## ___Set up___"
   ]
  },
  {
   "cell_type": "markdown",
   "metadata": {},
   "source": [
    "### Existing environment\n",
    "\n",
    "```\n",
    "conda activate sklearn\n",
    "conda update --all\n",
    "pip install skforecast\n",
    "```"
   ]
  },
  {
   "cell_type": "markdown",
   "metadata": {},
   "source": [
    "### Module import"
   ]
  },
  {
   "cell_type": "code",
   "execution_count": 1,
   "metadata": {},
   "outputs": [],
   "source": [
    "import pandas as pd\n",
    "import numpy as np\n",
    "import matplotlib as mpl\n",
    "import matplotlib.pyplot as plt\n",
    "from pathlib import Path\n",
    "from math import isnan\n",
    "from scipy.interpolate import UnivariateSpline, CubicSpline\n",
    "from datetime import datetime\n",
    "\n",
    "# for recursive autoregressive forcasting\n",
    "from sklearn.linear_model import LinearRegression\n",
    "from sklearn.linear_model import Lasso\n",
    "from sklearn.ensemble import RandomForestRegressor\n",
    "from sklearn.metrics import mean_squared_error\n",
    "from sklearn.preprocessing import StandardScaler\n",
    "from sklearn.pipeline import make_pipeline\n",
    "\n",
    "from skforecast.ForecasterAutoreg import ForecasterAutoreg\n",
    "from skforecast.ForecasterAutoregCustom import ForecasterAutoregCustom\n",
    "from skforecast.ForecasterAutoregDirect import ForecasterAutoregDirect\n",
    "from skforecast.model_selection import grid_search_forecaster\n",
    "from skforecast.model_selection import backtesting_forecaster\n",
    "from skforecast.utils import save_forecaster\n",
    "from skforecast.utils import load_forecaster\n"
   ]
  },
  {
   "cell_type": "markdown",
   "metadata": {},
   "source": [
    "### Key variables"
   ]
  },
  {
   "cell_type": "code",
   "execution_count": 2,
   "metadata": {},
   "outputs": [],
   "source": [
    "# Reproducibility\n",
    "seed = 20220609\n",
    "\n",
    "# Setting working directory\n",
    "proj_dir   = Path.home() / \"projects/plant_sci_hist\"\n",
    "work_dir   = proj_dir / \"4_topic_model/4_4_over_time\"\n",
    "work_dir.mkdir(parents=True, exist_ok=True)\n",
    "\n",
    "# modified topic names\n",
    "dir43            = proj_dir / \"4_topic_model/4_3_model_analysis\"\n",
    "toc_mod_name_file= dir43 / 'fig4_3_topic_heatmap_seaborn_order_condensed.txt'\n",
    "\n",
    "# Topic freuqency for each timestamp\n",
    "toc_freq_file    = work_dir / 'table4_4_topics_over_time_df_no_global_tune.tsv'\n",
    "\n",
    "# So PDF is saved in a format properly\n",
    "mpl.rcParams['pdf.fonttype'] = 42\n",
    "plt.rcParams[\"font.family\"] = \"sans-serif\""
   ]
  },
  {
   "cell_type": "markdown",
   "metadata": {},
   "source": [
    "## ___Load data___"
   ]
  },
  {
   "cell_type": "markdown",
   "metadata": {},
   "source": [
    "### Load toc_mod_names"
   ]
  },
  {
   "cell_type": "code",
   "execution_count": 3,
   "metadata": {},
   "outputs": [
    {
     "data": {
      "text/html": [
       "<div>\n",
       "<style scoped>\n",
       "    .dataframe tbody tr th:only-of-type {\n",
       "        vertical-align: middle;\n",
       "    }\n",
       "\n",
       "    .dataframe tbody tr th {\n",
       "        vertical-align: top;\n",
       "    }\n",
       "\n",
       "    .dataframe thead th {\n",
       "        text-align: right;\n",
       "    }\n",
       "</style>\n",
       "<table border=\"1\" class=\"dataframe\">\n",
       "  <thead>\n",
       "    <tr style=\"text-align: right;\">\n",
       "      <th></th>\n",
       "      <th>Topic</th>\n",
       "      <th>Name</th>\n",
       "    </tr>\n",
       "  </thead>\n",
       "  <tbody>\n",
       "    <tr>\n",
       "      <th>0</th>\n",
       "      <td>-1</td>\n",
       "      <td>cell | expression | gene | protein</td>\n",
       "    </tr>\n",
       "    <tr>\n",
       "      <th>1</th>\n",
       "      <td>13</td>\n",
       "      <td>mirna | rnas | micrornas | target | lncrnas</td>\n",
       "    </tr>\n",
       "    <tr>\n",
       "      <th>2</th>\n",
       "      <td>21</td>\n",
       "      <td>circadian clock | rhythms | flowering | arabid...</td>\n",
       "    </tr>\n",
       "    <tr>\n",
       "      <th>3</th>\n",
       "      <td>0</td>\n",
       "      <td>allergen | pollen | ige | allergenic</td>\n",
       "    </tr>\n",
       "    <tr>\n",
       "      <th>4</th>\n",
       "      <td>1</td>\n",
       "      <td>medium | callus | regeneration | culture | som...</td>\n",
       "    </tr>\n",
       "  </tbody>\n",
       "</table>\n",
       "</div>"
      ],
      "text/plain": [
       "   Topic                                               Name\n",
       "0     -1                 cell | expression | gene | protein\n",
       "1     13        mirna | rnas | micrornas | target | lncrnas\n",
       "2     21  circadian clock | rhythms | flowering | arabid...\n",
       "3      0               allergen | pollen | ige | allergenic\n",
       "4      1  medium | callus | regeneration | culture | som..."
      ]
     },
     "execution_count": 3,
     "metadata": {},
     "output_type": "execute_result"
    }
   ],
   "source": [
    "#https://www.adamsmith.haus/python/answers/how-to-set-column-names-when-importing-a-csv-into-a-pandas-dataframe-in-python\n",
    "header_list   = [\"Topic\", \"Name\"]\n",
    "toc_mod_names = pd.read_csv(toc_mod_name_file, sep='\\t', names=header_list)\n",
    "toc_mod_names.head()"
   ]
  },
  {
   "cell_type": "markdown",
   "metadata": {},
   "source": [
    "### Load and process top_freq"
   ]
  },
  {
   "cell_type": "code",
   "execution_count": 4,
   "metadata": {},
   "outputs": [
    {
     "data": {
      "text/html": [
       "<div>\n",
       "<style scoped>\n",
       "    .dataframe tbody tr th:only-of-type {\n",
       "        vertical-align: middle;\n",
       "    }\n",
       "\n",
       "    .dataframe tbody tr th {\n",
       "        vertical-align: top;\n",
       "    }\n",
       "\n",
       "    .dataframe thead th {\n",
       "        text-align: right;\n",
       "    }\n",
       "</style>\n",
       "<table border=\"1\" class=\"dataframe\">\n",
       "  <thead>\n",
       "    <tr style=\"text-align: right;\">\n",
       "      <th></th>\n",
       "      <th>Topic</th>\n",
       "      <th>Words</th>\n",
       "      <th>Frequency</th>\n",
       "      <th>Timestamp</th>\n",
       "    </tr>\n",
       "  </thead>\n",
       "  <tbody>\n",
       "    <tr>\n",
       "      <th>0</th>\n",
       "      <td>-1</td>\n",
       "      <td>cells, growth, acid, activity, tissue</td>\n",
       "      <td>981</td>\n",
       "      <td>250750799.0</td>\n",
       "    </tr>\n",
       "    <tr>\n",
       "      <th>1</th>\n",
       "      <td>0</td>\n",
       "      <td>timothy, timothy pollen, antigen, ragweed, all...</td>\n",
       "      <td>8</td>\n",
       "      <td>250750799.0</td>\n",
       "    </tr>\n",
       "    <tr>\n",
       "      <th>2</th>\n",
       "      <td>1</td>\n",
       "      <td>callus, medium, kinetin, culture, protoplasts</td>\n",
       "      <td>85</td>\n",
       "      <td>250750799.0</td>\n",
       "    </tr>\n",
       "    <tr>\n",
       "      <th>3</th>\n",
       "      <td>2</td>\n",
       "      <td>berberinium, viscometric titrations, flow pola...</td>\n",
       "      <td>2</td>\n",
       "      <td>250750799.0</td>\n",
       "    </tr>\n",
       "    <tr>\n",
       "      <th>4</th>\n",
       "      <td>3</td>\n",
       "      <td>amiben, atrazine, gsatrazine, atrazine metabol...</td>\n",
       "      <td>4</td>\n",
       "      <td>250750799.0</td>\n",
       "    </tr>\n",
       "  </tbody>\n",
       "</table>\n",
       "</div>"
      ],
      "text/plain": [
       "   Topic                                              Words  Frequency  \\\n",
       "0     -1              cells, growth, acid, activity, tissue        981   \n",
       "1      0  timothy, timothy pollen, antigen, ragweed, all...          8   \n",
       "2      1      callus, medium, kinetin, culture, protoplasts         85   \n",
       "3      2  berberinium, viscometric titrations, flow pola...          2   \n",
       "4      3  amiben, atrazine, gsatrazine, atrazine metabol...          4   \n",
       "\n",
       "     Timestamp  \n",
       "0  250750799.0  \n",
       "1  250750799.0  \n",
       "2  250750799.0  \n",
       "3  250750799.0  \n",
       "4  250750799.0  "
      ]
     },
     "execution_count": 4,
     "metadata": {},
     "output_type": "execute_result"
    }
   ],
   "source": [
    "#https://stackoverflow.com/questions/28200404/pandas-read-table-use-first-column-as-index\n",
    "top_freq      = pd.read_csv(toc_freq_file, index_col=0, sep='\\t')\n",
    "top_freq.head()"
   ]
  },
  {
   "cell_type": "code",
   "execution_count": 5,
   "metadata": {},
   "outputs": [],
   "source": [
    "# Turn the dataframe into a matrix with rows as timestamps, column as topics,\n",
    "# and values as frequency\n",
    "top_freq_dict = {} # {timestamp:{topic:freq}}\n",
    "for idx in top_freq.index:\n",
    "  row  = top_freq.loc[idx]\n",
    "  ts   = row[\"Timestamp\"]\n",
    "  toc  = row[\"Topic\"]\n",
    "  freq = row[\"Frequency\"]\n",
    "  if ts not in top_freq_dict:\n",
    "    top_freq_dict[ts] = {toc:freq}\n",
    "  elif toc not in top_freq_dict[ts]:\n",
    "    top_freq_dict[ts][toc] = freq\n",
    "  else:\n",
    "    print(\"ERR: redundant\", topic,freq)"
   ]
  },
  {
   "cell_type": "code",
   "execution_count": 8,
   "metadata": {},
   "outputs": [
    {
     "data": {
      "text/html": [
       "<div>\n",
       "<style scoped>\n",
       "    .dataframe tbody tr th:only-of-type {\n",
       "        vertical-align: middle;\n",
       "    }\n",
       "\n",
       "    .dataframe tbody tr th {\n",
       "        vertical-align: top;\n",
       "    }\n",
       "\n",
       "    .dataframe thead th {\n",
       "        text-align: right;\n",
       "    }\n",
       "</style>\n",
       "<table border=\"1\" class=\"dataframe\">\n",
       "  <thead>\n",
       "    <tr style=\"text-align: right;\">\n",
       "      <th></th>\n",
       "      <th>2.507508e+08</th>\n",
       "      <th>4.258800e+08</th>\n",
       "      <th>5.468400e+08</th>\n",
       "      <th>6.389460e+08</th>\n",
       "      <th>7.126416e+08</th>\n",
       "      <th>7.783920e+08</th>\n",
       "      <th>8.361936e+08</th>\n",
       "      <th>8.975376e+08</th>\n",
       "      <th>9.497268e+08</th>\n",
       "      <th>9.869616e+08</th>\n",
       "      <th>...</th>\n",
       "      <th>1.521864e+09</th>\n",
       "      <th>1.532750e+09</th>\n",
       "      <th>1.543986e+09</th>\n",
       "      <th>1.554178e+09</th>\n",
       "      <th>1.564027e+09</th>\n",
       "      <th>1.574053e+09</th>\n",
       "      <th>1.583557e+09</th>\n",
       "      <th>1.592712e+09</th>\n",
       "      <th>1.601438e+09</th>\n",
       "      <th>1.609477e+09</th>\n",
       "    </tr>\n",
       "    <tr>\n",
       "      <th>Topic</th>\n",
       "      <th></th>\n",
       "      <th></th>\n",
       "      <th></th>\n",
       "      <th></th>\n",
       "      <th></th>\n",
       "      <th></th>\n",
       "      <th></th>\n",
       "      <th></th>\n",
       "      <th></th>\n",
       "      <th></th>\n",
       "      <th></th>\n",
       "      <th></th>\n",
       "      <th></th>\n",
       "      <th></th>\n",
       "      <th></th>\n",
       "      <th></th>\n",
       "      <th></th>\n",
       "      <th></th>\n",
       "      <th></th>\n",
       "      <th></th>\n",
       "      <th></th>\n",
       "    </tr>\n",
       "  </thead>\n",
       "  <tbody>\n",
       "    <tr>\n",
       "      <th>-1</th>\n",
       "      <td>981.0</td>\n",
       "      <td>899.0</td>\n",
       "      <td>949.0</td>\n",
       "      <td>971.0</td>\n",
       "      <td>997.0</td>\n",
       "      <td>910.0</td>\n",
       "      <td>1013.0</td>\n",
       "      <td>1032.0</td>\n",
       "      <td>1139.0</td>\n",
       "      <td>1074</td>\n",
       "      <td>...</td>\n",
       "      <td>1050</td>\n",
       "      <td>960.0</td>\n",
       "      <td>1013.0</td>\n",
       "      <td>927</td>\n",
       "      <td>934.0</td>\n",
       "      <td>977.0</td>\n",
       "      <td>996.0</td>\n",
       "      <td>957</td>\n",
       "      <td>980.0</td>\n",
       "      <td>896.0</td>\n",
       "    </tr>\n",
       "    <tr>\n",
       "      <th>0</th>\n",
       "      <td>8.0</td>\n",
       "      <td>31.0</td>\n",
       "      <td>31.0</td>\n",
       "      <td>35.0</td>\n",
       "      <td>28.0</td>\n",
       "      <td>47.0</td>\n",
       "      <td>44.0</td>\n",
       "      <td>67.0</td>\n",
       "      <td>58.0</td>\n",
       "      <td>30</td>\n",
       "      <td>...</td>\n",
       "      <td>4</td>\n",
       "      <td>7.0</td>\n",
       "      <td>6.0</td>\n",
       "      <td>5</td>\n",
       "      <td>6.0</td>\n",
       "      <td>3.0</td>\n",
       "      <td>4.0</td>\n",
       "      <td>7</td>\n",
       "      <td>4.0</td>\n",
       "      <td>6.0</td>\n",
       "    </tr>\n",
       "    <tr>\n",
       "      <th>1</th>\n",
       "      <td>85.0</td>\n",
       "      <td>87.0</td>\n",
       "      <td>211.0</td>\n",
       "      <td>222.0</td>\n",
       "      <td>212.0</td>\n",
       "      <td>159.0</td>\n",
       "      <td>144.0</td>\n",
       "      <td>153.0</td>\n",
       "      <td>58.0</td>\n",
       "      <td>94</td>\n",
       "      <td>...</td>\n",
       "      <td>30</td>\n",
       "      <td>22.0</td>\n",
       "      <td>19.0</td>\n",
       "      <td>21</td>\n",
       "      <td>22.0</td>\n",
       "      <td>18.0</td>\n",
       "      <td>27.0</td>\n",
       "      <td>26</td>\n",
       "      <td>29.0</td>\n",
       "      <td>24.0</td>\n",
       "    </tr>\n",
       "    <tr>\n",
       "      <th>2</th>\n",
       "      <td>2.0</td>\n",
       "      <td>1.0</td>\n",
       "      <td>2.0</td>\n",
       "      <td>4.0</td>\n",
       "      <td>0.0</td>\n",
       "      <td>2.0</td>\n",
       "      <td>6.0</td>\n",
       "      <td>3.0</td>\n",
       "      <td>2.0</td>\n",
       "      <td>6</td>\n",
       "      <td>...</td>\n",
       "      <td>37</td>\n",
       "      <td>32.0</td>\n",
       "      <td>45.0</td>\n",
       "      <td>53</td>\n",
       "      <td>31.0</td>\n",
       "      <td>40.0</td>\n",
       "      <td>50.0</td>\n",
       "      <td>48</td>\n",
       "      <td>36.0</td>\n",
       "      <td>33.0</td>\n",
       "    </tr>\n",
       "    <tr>\n",
       "      <th>3</th>\n",
       "      <td>4.0</td>\n",
       "      <td>2.0</td>\n",
       "      <td>2.0</td>\n",
       "      <td>8.0</td>\n",
       "      <td>26.0</td>\n",
       "      <td>11.0</td>\n",
       "      <td>5.0</td>\n",
       "      <td>6.0</td>\n",
       "      <td>6.0</td>\n",
       "      <td>6</td>\n",
       "      <td>...</td>\n",
       "      <td>26</td>\n",
       "      <td>17.0</td>\n",
       "      <td>11.0</td>\n",
       "      <td>24</td>\n",
       "      <td>21.0</td>\n",
       "      <td>22.0</td>\n",
       "      <td>23.0</td>\n",
       "      <td>22</td>\n",
       "      <td>17.0</td>\n",
       "      <td>18.0</td>\n",
       "    </tr>\n",
       "  </tbody>\n",
       "</table>\n",
       "<p>5 rows × 50 columns</p>\n",
       "</div>"
      ],
      "text/plain": [
       "       2.507508e+08  4.258800e+08  5.468400e+08  6.389460e+08  7.126416e+08  \\\n",
       "Topic                                                                         \n",
       "-1            981.0         899.0         949.0         971.0         997.0   \n",
       " 0              8.0          31.0          31.0          35.0          28.0   \n",
       " 1             85.0          87.0         211.0         222.0         212.0   \n",
       " 2              2.0           1.0           2.0           4.0           0.0   \n",
       " 3              4.0           2.0           2.0           8.0          26.0   \n",
       "\n",
       "       7.783920e+08  8.361936e+08  8.975376e+08  9.497268e+08  9.869616e+08  \\\n",
       "Topic                                                                         \n",
       "-1            910.0        1013.0        1032.0        1139.0          1074   \n",
       " 0             47.0          44.0          67.0          58.0            30   \n",
       " 1            159.0         144.0         153.0          58.0            94   \n",
       " 2              2.0           6.0           3.0           2.0             6   \n",
       " 3             11.0           5.0           6.0           6.0             6   \n",
       "\n",
       "       ...  1.521864e+09  1.532750e+09  1.543986e+09  1.554178e+09  \\\n",
       "Topic  ...                                                           \n",
       "-1     ...          1050         960.0        1013.0           927   \n",
       " 0     ...             4           7.0           6.0             5   \n",
       " 1     ...            30          22.0          19.0            21   \n",
       " 2     ...            37          32.0          45.0            53   \n",
       " 3     ...            26          17.0          11.0            24   \n",
       "\n",
       "       1.564027e+09  1.574053e+09  1.583557e+09  1.592712e+09  1.601438e+09  \\\n",
       "Topic                                                                         \n",
       "-1            934.0         977.0         996.0           957         980.0   \n",
       " 0              6.0           3.0           4.0             7           4.0   \n",
       " 1             22.0          18.0          27.0            26          29.0   \n",
       " 2             31.0          40.0          50.0            48          36.0   \n",
       " 3             21.0          22.0          23.0            22          17.0   \n",
       "\n",
       "       1.609477e+09  \n",
       "Topic                \n",
       "-1            896.0  \n",
       " 0              6.0  \n",
       " 1             24.0  \n",
       " 2             33.0  \n",
       " 3             18.0  \n",
       "\n",
       "[5 rows x 50 columns]"
      ]
     },
     "execution_count": 8,
     "metadata": {},
     "output_type": "execute_result"
    }
   ],
   "source": [
    "# Fill in 0s\n",
    "#ts_unique = top_freq.Timestamp.unique()\n",
    "#topics    = top_freq.Topic.unique()\n",
    "\n",
    "# Go through each ts_unique and topics\n",
    "#for ts in ts_unique:\n",
    "#  if ts not in top_freq_dict:\n",
    "#    top_freq_dict[ts] = {}\n",
    "#  for toc in topics:\n",
    "#    if toc not in top_freq_dict[ts]:\n",
    "#      top_freq_dict[ts][toc] = 0\n",
    "\n",
    "# Realize that I can use DataFrame.fillna after dataframe is created\n",
    "top_freq_df = pd.DataFrame.from_dict(top_freq_dict)\n",
    "top_freq_df.fillna(0, inplace=True)\n",
    "top_freq_df.sort_index(axis=0, inplace=True)  # sort rows\n",
    "top_freq_df.sort_index(axis=1, inplace=True)  # sort columns\n",
    "top_freq_df.index.name = \"Topic\"\n",
    "top_freq_df.head()"
   ]
  },
  {
   "cell_type": "markdown",
   "metadata": {},
   "source": [
    "## ___Forcasting___ "
   ]
  },
  {
   "cell_type": "markdown",
   "metadata": {},
   "source": [
    "### Set up output folder"
   ]
  },
  {
   "cell_type": "code",
   "execution_count": 126,
   "metadata": {},
   "outputs": [],
   "source": [
    "dir_forcast = work_dir / \"_forcast\"\n",
    "dir_forcast.mkdir(parents=True, exist_ok=True)"
   ]
  },
  {
   "cell_type": "markdown",
   "metadata": {},
   "source": [
    "### Function"
   ]
  },
  {
   "cell_type": "code",
   "execution_count": 139,
   "metadata": {},
   "outputs": [],
   "source": [
    "def fit_forcaster(toc, row_series, steps_test, steps_future, dir_forcast):\n",
    "  '''Fit recursive autoregressors with data for a topic\n",
    "  Args:\n",
    "    toc (int): topic\n",
    "    row_series (Series): a pandas series with dates as indices and frequency as \n",
    "      values for a topic that derives from a row in the topic-timestamp \n",
    "      dataframe\n",
    "    steps_test (int): number of data witheld for testing\n",
    "    steps_future (int): number of months to predict into the future\n",
    "    dir_forcast (Path): directory for forcast results\n",
    "  Returns:\n",
    "    predictions_future (Series): the future prediction values\n",
    "  Output:\n",
    "    plots (pdf): original data + predictions\n",
    "    values (txt): original data + predictions\n",
    "  '''\n",
    "  x  = row_series.index.to_list()\n",
    "  y  = row_series.values.tolist()\n",
    "\n",
    "  # Turn timestamps to dates\n",
    "  x_dates = [datetime.fromtimestamp(ts+1) for ts in x]\n",
    "  # Change all dates to 1st day of the month. This is done otherwise anything\n",
    "  # not on the 1st day of the month will be removed when df.asfreq is applied.\n",
    "  x_dates = [datetime.strptime(d.strftime(\"%Y:%m\"), \"%Y:%m\") for d in x_dates]\n",
    "\n",
    "  # Create a pandas series with y using dates as indices\n",
    "  y_df = pd.DataFrame({\"date\":x_dates, \"y\":y})\n",
    "  y_df = y_df.set_index('date')\n",
    "\n",
    "  # Set frequency to monthly and fill in missing data as NaN\n",
    "  y_df = y_df.asfreq('MS') \n",
    "  y_df = y_df.sort_index() # make sure the date is sorted\n",
    "\n",
    "  # impute missing data\n",
    "  y_df['y_spline'] = y_df['y'].interpolate(option='spline')\n",
    "\n",
    "  # Set last few months as test set\n",
    "  data_train = y_df[:-steps]\n",
    "  data_test  = y_df[-steps:]\n",
    "\n",
    "  # train ForcasterAutoreg\n",
    "  forecaster_ar = ForecasterAutoreg(\n",
    "                  regressor = RandomForestRegressor(random_state=seed),\n",
    "                  lags      = 6)\n",
    "\n",
    "  # Lags used as predictors\n",
    "  lags_grid = [10, 20]\n",
    "\n",
    "  # Regressor's hyperparameters\n",
    "  param_grid = {'n_estimators': [25, 50, 100, 200, 400], \n",
    "                'max_depth': [3, 5, 10]}\n",
    "\n",
    "  results_grid = grid_search_forecaster(\n",
    "                          forecaster         = forecaster_ar,\n",
    "                          y                  = data_train['y_spline'],\n",
    "                          param_grid         = param_grid,\n",
    "                          lags_grid          = lags_grid,\n",
    "                          steps              = steps,\n",
    "                          refit              = True,\n",
    "                          metric             = 'mean_squared_error',\n",
    "                          initial_train_size = int(len(data_train)*0.5),\n",
    "                          fixed_train_size   = False,\n",
    "                          return_best        = True,\n",
    "                          verbose            = False)\n",
    "\n",
    "  # get best parameters\n",
    "  num_lags     = len(results_grid.iloc[0]['lags'])\n",
    "  max_depth    = results_grid.iloc[0]['max_depth']\n",
    "  n_estimators = results_grid.iloc[0]['n_estimators'] \n",
    "  \n",
    "  # generate final model\n",
    "  regressor_rf = RandomForestRegressor(max_depth=5, n_estimators=100, \n",
    "                                     random_state=seed)\n",
    "  forecaster_final = ForecasterAutoreg(regressor = regressor_rf,\n",
    "                                      lags      = 20)\n",
    "  forecaster_final.fit(y=data_train['y_spline'])\n",
    "\n",
    "  # generate predictions\n",
    "  predictions_test            = forecaster_final.predict(steps=steps_test)\n",
    "  predictions_test_and_future = forecaster_final.predict(steps=steps_test + \\\n",
    "                                                               steps_future)\n",
    "  predictions_future = predictions_test_and_future[steps_test:]\n",
    "\n",
    "  # plot orignal, imputed, and prediction values\n",
    "  fig, ax=plt.subplots(figsize=(9, 4))\n",
    "  data_train['y_spline'].plot(ax=ax, label='train')\n",
    "  data_test['y_spline'].plot(ax=ax, label='test')\n",
    "  y_df['y'].plot(ax=ax, style='o', ms=5, label='original data')\n",
    "  predictions_future.plot(ax=ax, label='predictions:test + future')\n",
    "  fig.savefig(dir_forcast / f'figure4_4c_forcast_topic_{toc}.pdf')\n",
    "\n",
    "  return predictions_future\n"
   ]
  },
  {
   "cell_type": "markdown",
   "metadata": {},
   "source": [
    "### Itereate through topics and call fit_forcaster()"
   ]
  },
  {
   "cell_type": "code",
   "execution_count": 140,
   "metadata": {},
   "outputs": [
    {
     "name": "stdout",
     "output_type": "stream",
     "text": [
      "Number of models compared: 30.\n"
     ]
    },
    {
     "name": "stderr",
     "output_type": "stream",
     "text": [
      "loop lags_grid: 100%|███████████████████████████████████████| 2/2 [01:59<00:00, 59.72s/it]\n"
     ]
    },
    {
     "name": "stdout",
     "output_type": "stream",
     "text": [
      "`Forecaster` refitted using the best-found lags and parameters, and the whole data set: \n",
      "  Lags: [ 1  2  3  4  5  6  7  8  9 10 11 12 13 14 15 16 17 18 19 20] \n",
      "  Parameters: {'max_depth': 3, 'n_estimators': 50}\n",
      "  Backtesting metric: 2025.8245132579927\n",
      "\n"
     ]
    },
    {
     "name": "stderr",
     "output_type": "stream",
     "text": [
      "fontTools.subset INFO  maxp pruned\n",
      "fontTools.subset INFO  cmap pruned\n",
      "fontTools.subset INFO  kern dropped\n",
      "fontTools.subset INFO  post pruned\n",
      "fontTools.subset INFO  FFTM dropped\n",
      "fontTools.subset INFO  GPOS pruned\n",
      "fontTools.subset INFO  GSUB pruned\n",
      "fontTools.subset INFO  name pruned\n",
      "fontTools.subset INFO  glyf pruned\n",
      "fontTools.subset INFO  Added gid0 to subset\n",
      "fontTools.subset INFO  Added first four glyphs to subset\n",
      "fontTools.subset INFO  Closing glyph list over 'GSUB': 15 glyphs before\n",
      "fontTools.subset INFO  Glyph names: ['.notdef', '.null', 'a', 'd', 'e', 'eight', 'five', 'nine', 'nonmarkingreturn', 'one', 'seven', 'space', 't', 'two', 'zero']\n",
      "fontTools.subset INFO  Glyph IDs:   [0, 1, 2, 3, 19, 20, 21, 24, 26, 27, 28, 68, 71, 72, 87]\n",
      "fontTools.subset INFO  Closed glyph list over 'GSUB': 15 glyphs after\n",
      "fontTools.subset INFO  Glyph names: ['.notdef', '.null', 'a', 'd', 'e', 'eight', 'five', 'nine', 'nonmarkingreturn', 'one', 'seven', 'space', 't', 'two', 'zero']\n",
      "fontTools.subset INFO  Glyph IDs:   [0, 1, 2, 3, 19, 20, 21, 24, 26, 27, 28, 68, 71, 72, 87]\n",
      "fontTools.subset INFO  Closing glyph list over 'MATH': 15 glyphs before\n",
      "fontTools.subset INFO  Glyph names: ['.notdef', '.null', 'a', 'd', 'e', 'eight', 'five', 'nine', 'nonmarkingreturn', 'one', 'seven', 'space', 't', 'two', 'zero']\n",
      "fontTools.subset INFO  Glyph IDs:   [0, 1, 2, 3, 19, 20, 21, 24, 26, 27, 28, 68, 71, 72, 87]\n",
      "fontTools.subset INFO  Closed glyph list over 'MATH': 15 glyphs after\n",
      "fontTools.subset INFO  Glyph names: ['.notdef', '.null', 'a', 'd', 'e', 'eight', 'five', 'nine', 'nonmarkingreturn', 'one', 'seven', 'space', 't', 'two', 'zero']\n",
      "fontTools.subset INFO  Glyph IDs:   [0, 1, 2, 3, 19, 20, 21, 24, 26, 27, 28, 68, 71, 72, 87]\n",
      "fontTools.subset INFO  Closing glyph list over 'glyf': 15 glyphs before\n",
      "fontTools.subset INFO  Glyph names: ['.notdef', '.null', 'a', 'd', 'e', 'eight', 'five', 'nine', 'nonmarkingreturn', 'one', 'seven', 'space', 't', 'two', 'zero']\n",
      "fontTools.subset INFO  Glyph IDs:   [0, 1, 2, 3, 19, 20, 21, 24, 26, 27, 28, 68, 71, 72, 87]\n",
      "fontTools.subset INFO  Closed glyph list over 'glyf': 15 glyphs after\n",
      "fontTools.subset INFO  Glyph names: ['.notdef', '.null', 'a', 'd', 'e', 'eight', 'five', 'nine', 'nonmarkingreturn', 'one', 'seven', 'space', 't', 'two', 'zero']\n",
      "fontTools.subset INFO  Glyph IDs:   [0, 1, 2, 3, 19, 20, 21, 24, 26, 27, 28, 68, 71, 72, 87]\n",
      "fontTools.subset INFO  Retaining 15 glyphs\n",
      "fontTools.subset INFO  head subsetting not needed\n",
      "fontTools.subset INFO  hhea subsetting not needed\n",
      "fontTools.subset INFO  maxp subsetting not needed\n",
      "fontTools.subset INFO  OS/2 subsetting not needed\n",
      "fontTools.subset INFO  hmtx subsetted\n",
      "fontTools.subset INFO  cmap subsetted\n",
      "fontTools.subset INFO  fpgm subsetting not needed\n",
      "fontTools.subset INFO  prep subsetting not needed\n",
      "fontTools.subset INFO  cvt  subsetting not needed\n",
      "fontTools.subset INFO  loca subsetting not needed\n",
      "fontTools.subset INFO  post subsetted\n",
      "fontTools.subset INFO  gasp subsetting not needed\n",
      "fontTools.subset INFO  GDEF subsetted\n",
      "fontTools.subset INFO  GPOS subsetted\n",
      "fontTools.subset INFO  GSUB subsetted\n",
      "fontTools.subset INFO  MATH subsetted\n",
      "fontTools.subset INFO  name subsetting not needed\n",
      "fontTools.subset INFO  glyf subsetted\n",
      "fontTools.subset INFO  head pruned\n",
      "fontTools.subset INFO  OS/2 Unicode ranges pruned: [0]\n",
      "fontTools.subset INFO  glyf pruned\n",
      "fontTools.subset INFO  GDEF pruned\n",
      "fontTools.subset INFO  GPOS pruned\n",
      "fontTools.subset INFO  GSUB pruned\n"
     ]
    },
    {
     "name": "stdout",
     "output_type": "stream",
     "text": [
      "2020-02-01    1033.845984\n",
      "2020-03-01    1033.845984\n",
      "2020-04-01    1033.845984\n",
      "2020-05-01    1033.845984\n",
      "2020-06-01    1033.845984\n",
      "                 ...     \n",
      "2029-09-01    1033.845984\n",
      "2029-10-01    1033.845984\n",
      "2029-11-01    1033.845984\n",
      "2029-12-01    1033.845984\n",
      "2030-01-01    1033.845984\n",
      "Freq: MS, Name: pred, Length: 120, dtype: float64\n",
      "Number of models compared: 30.\n"
     ]
    },
    {
     "name": "stderr",
     "output_type": "stream",
     "text": [
      "loop lags_grid: 100%|███████████████████████████████████████| 2/2 [01:59<00:00, 59.58s/it]\n"
     ]
    },
    {
     "name": "stdout",
     "output_type": "stream",
     "text": [
      "`Forecaster` refitted using the best-found lags and parameters, and the whole data set: \n",
      "  Lags: [ 1  2  3  4  5  6  7  8  9 10] \n",
      "  Parameters: {'max_depth': 3, 'n_estimators': 400}\n",
      "  Backtesting metric: 35.216603111620444\n",
      "\n"
     ]
    },
    {
     "name": "stderr",
     "output_type": "stream",
     "text": [
      "fontTools.subset INFO  maxp pruned\n",
      "fontTools.subset INFO  cmap pruned\n",
      "fontTools.subset INFO  kern dropped\n",
      "fontTools.subset INFO  post pruned\n",
      "fontTools.subset INFO  FFTM dropped\n",
      "fontTools.subset INFO  GPOS pruned\n",
      "fontTools.subset INFO  GSUB pruned\n",
      "fontTools.subset INFO  name pruned\n",
      "fontTools.subset INFO  glyf pruned\n",
      "fontTools.subset INFO  Added gid0 to subset\n",
      "fontTools.subset INFO  Added first four glyphs to subset\n",
      "fontTools.subset INFO  Closing glyph list over 'GSUB': 18 glyphs before\n",
      "fontTools.subset INFO  Glyph names: ['.notdef', '.null', 'a', 'd', 'e', 'eight', 'five', 'four', 'nine', 'nonmarkingreturn', 'one', 'seven', 'six', 'space', 't', 'three', 'two', 'zero']\n",
      "fontTools.subset INFO  Glyph IDs:   [0, 1, 2, 3, 19, 20, 21, 22, 23, 24, 25, 26, 27, 28, 68, 71, 72, 87]\n",
      "fontTools.subset INFO  Closed glyph list over 'GSUB': 18 glyphs after\n",
      "fontTools.subset INFO  Glyph names: ['.notdef', '.null', 'a', 'd', 'e', 'eight', 'five', 'four', 'nine', 'nonmarkingreturn', 'one', 'seven', 'six', 'space', 't', 'three', 'two', 'zero']\n",
      "fontTools.subset INFO  Glyph IDs:   [0, 1, 2, 3, 19, 20, 21, 22, 23, 24, 25, 26, 27, 28, 68, 71, 72, 87]\n",
      "fontTools.subset INFO  Closing glyph list over 'MATH': 18 glyphs before\n",
      "fontTools.subset INFO  Glyph names: ['.notdef', '.null', 'a', 'd', 'e', 'eight', 'five', 'four', 'nine', 'nonmarkingreturn', 'one', 'seven', 'six', 'space', 't', 'three', 'two', 'zero']\n",
      "fontTools.subset INFO  Glyph IDs:   [0, 1, 2, 3, 19, 20, 21, 22, 23, 24, 25, 26, 27, 28, 68, 71, 72, 87]\n",
      "fontTools.subset INFO  Closed glyph list over 'MATH': 18 glyphs after\n",
      "fontTools.subset INFO  Glyph names: ['.notdef', '.null', 'a', 'd', 'e', 'eight', 'five', 'four', 'nine', 'nonmarkingreturn', 'one', 'seven', 'six', 'space', 't', 'three', 'two', 'zero']\n",
      "fontTools.subset INFO  Glyph IDs:   [0, 1, 2, 3, 19, 20, 21, 22, 23, 24, 25, 26, 27, 28, 68, 71, 72, 87]\n",
      "fontTools.subset INFO  Closing glyph list over 'glyf': 18 glyphs before\n",
      "fontTools.subset INFO  Glyph names: ['.notdef', '.null', 'a', 'd', 'e', 'eight', 'five', 'four', 'nine', 'nonmarkingreturn', 'one', 'seven', 'six', 'space', 't', 'three', 'two', 'zero']\n",
      "fontTools.subset INFO  Glyph IDs:   [0, 1, 2, 3, 19, 20, 21, 22, 23, 24, 25, 26, 27, 28, 68, 71, 72, 87]\n",
      "fontTools.subset INFO  Closed glyph list over 'glyf': 18 glyphs after\n",
      "fontTools.subset INFO  Glyph names: ['.notdef', '.null', 'a', 'd', 'e', 'eight', 'five', 'four', 'nine', 'nonmarkingreturn', 'one', 'seven', 'six', 'space', 't', 'three', 'two', 'zero']\n",
      "fontTools.subset INFO  Glyph IDs:   [0, 1, 2, 3, 19, 20, 21, 22, 23, 24, 25, 26, 27, 28, 68, 71, 72, 87]\n",
      "fontTools.subset INFO  Retaining 18 glyphs\n",
      "fontTools.subset INFO  head subsetting not needed\n",
      "fontTools.subset INFO  hhea subsetting not needed\n",
      "fontTools.subset INFO  maxp subsetting not needed\n",
      "fontTools.subset INFO  OS/2 subsetting not needed\n",
      "fontTools.subset INFO  hmtx subsetted\n",
      "fontTools.subset INFO  cmap subsetted\n",
      "fontTools.subset INFO  fpgm subsetting not needed\n",
      "fontTools.subset INFO  prep subsetting not needed\n",
      "fontTools.subset INFO  cvt  subsetting not needed\n",
      "fontTools.subset INFO  loca subsetting not needed\n",
      "fontTools.subset INFO  post subsetted\n",
      "fontTools.subset INFO  gasp subsetting not needed\n",
      "fontTools.subset INFO  GDEF subsetted\n",
      "fontTools.subset INFO  GPOS subsetted\n",
      "fontTools.subset INFO  GSUB subsetted\n",
      "fontTools.subset INFO  MATH subsetted\n",
      "fontTools.subset INFO  name subsetting not needed\n",
      "fontTools.subset INFO  glyf subsetted\n",
      "fontTools.subset INFO  head pruned\n",
      "fontTools.subset INFO  OS/2 Unicode ranges pruned: [0]\n",
      "fontTools.subset INFO  glyf pruned\n",
      "fontTools.subset INFO  GDEF pruned\n",
      "fontTools.subset INFO  GPOS pruned\n",
      "fontTools.subset INFO  GSUB pruned\n"
     ]
    },
    {
     "name": "stdout",
     "output_type": "stream",
     "text": [
      "2020-02-01    7.233474\n",
      "2020-03-01    7.233474\n",
      "2020-04-01    7.233474\n",
      "2020-05-01    7.233474\n",
      "2020-06-01    7.233474\n",
      "                ...   \n",
      "2029-09-01    7.233474\n",
      "2029-10-01    7.233474\n",
      "2029-11-01    7.233474\n",
      "2029-12-01    7.233474\n",
      "2030-01-01    7.233474\n",
      "Freq: MS, Name: pred, Length: 120, dtype: float64\n",
      "Number of models compared: 30.\n"
     ]
    },
    {
     "name": "stderr",
     "output_type": "stream",
     "text": [
      "loop lags_grid: 100%|███████████████████████████████████████| 2/2 [03:00<00:00, 90.19s/it]\n"
     ]
    },
    {
     "name": "stdout",
     "output_type": "stream",
     "text": [
      "`Forecaster` refitted using the best-found lags and parameters, and the whole data set: \n",
      "  Lags: [ 1  2  3  4  5  6  7  8  9 10 11 12 13 14 15 16 17 18 19 20] \n",
      "  Parameters: {'max_depth': 5, 'n_estimators': 200}\n",
      "  Backtesting metric: 717.151521701251\n",
      "\n"
     ]
    },
    {
     "name": "stderr",
     "output_type": "stream",
     "text": [
      "fontTools.subset INFO  maxp pruned\n",
      "fontTools.subset INFO  cmap pruned\n",
      "fontTools.subset INFO  kern dropped\n",
      "fontTools.subset INFO  post pruned\n",
      "fontTools.subset INFO  FFTM dropped\n",
      "fontTools.subset INFO  GPOS pruned\n",
      "fontTools.subset INFO  GSUB pruned\n",
      "fontTools.subset INFO  name pruned\n",
      "fontTools.subset INFO  glyf pruned\n",
      "fontTools.subset INFO  Added gid0 to subset\n",
      "fontTools.subset INFO  Added first four glyphs to subset\n",
      "fontTools.subset INFO  Closing glyph list over 'GSUB': 15 glyphs before\n",
      "fontTools.subset INFO  Glyph names: ['.notdef', '.null', 'a', 'd', 'e', 'eight', 'five', 'nine', 'nonmarkingreturn', 'one', 'seven', 'space', 't', 'two', 'zero']\n",
      "fontTools.subset INFO  Glyph IDs:   [0, 1, 2, 3, 19, 20, 21, 24, 26, 27, 28, 68, 71, 72, 87]\n",
      "fontTools.subset INFO  Closed glyph list over 'GSUB': 15 glyphs after\n",
      "fontTools.subset INFO  Glyph names: ['.notdef', '.null', 'a', 'd', 'e', 'eight', 'five', 'nine', 'nonmarkingreturn', 'one', 'seven', 'space', 't', 'two', 'zero']\n",
      "fontTools.subset INFO  Glyph IDs:   [0, 1, 2, 3, 19, 20, 21, 24, 26, 27, 28, 68, 71, 72, 87]\n",
      "fontTools.subset INFO  Closing glyph list over 'MATH': 15 glyphs before\n",
      "fontTools.subset INFO  Glyph names: ['.notdef', '.null', 'a', 'd', 'e', 'eight', 'five', 'nine', 'nonmarkingreturn', 'one', 'seven', 'space', 't', 'two', 'zero']\n",
      "fontTools.subset INFO  Glyph IDs:   [0, 1, 2, 3, 19, 20, 21, 24, 26, 27, 28, 68, 71, 72, 87]\n",
      "fontTools.subset INFO  Closed glyph list over 'MATH': 15 glyphs after\n",
      "fontTools.subset INFO  Glyph names: ['.notdef', '.null', 'a', 'd', 'e', 'eight', 'five', 'nine', 'nonmarkingreturn', 'one', 'seven', 'space', 't', 'two', 'zero']\n",
      "fontTools.subset INFO  Glyph IDs:   [0, 1, 2, 3, 19, 20, 21, 24, 26, 27, 28, 68, 71, 72, 87]\n",
      "fontTools.subset INFO  Closing glyph list over 'glyf': 15 glyphs before\n",
      "fontTools.subset INFO  Glyph names: ['.notdef', '.null', 'a', 'd', 'e', 'eight', 'five', 'nine', 'nonmarkingreturn', 'one', 'seven', 'space', 't', 'two', 'zero']\n",
      "fontTools.subset INFO  Glyph IDs:   [0, 1, 2, 3, 19, 20, 21, 24, 26, 27, 28, 68, 71, 72, 87]\n",
      "fontTools.subset INFO  Closed glyph list over 'glyf': 15 glyphs after\n",
      "fontTools.subset INFO  Glyph names: ['.notdef', '.null', 'a', 'd', 'e', 'eight', 'five', 'nine', 'nonmarkingreturn', 'one', 'seven', 'space', 't', 'two', 'zero']\n",
      "fontTools.subset INFO  Glyph IDs:   [0, 1, 2, 3, 19, 20, 21, 24, 26, 27, 28, 68, 71, 72, 87]\n",
      "fontTools.subset INFO  Retaining 15 glyphs\n",
      "fontTools.subset INFO  head subsetting not needed\n",
      "fontTools.subset INFO  hhea subsetting not needed\n",
      "fontTools.subset INFO  maxp subsetting not needed\n",
      "fontTools.subset INFO  OS/2 subsetting not needed\n",
      "fontTools.subset INFO  hmtx subsetted\n",
      "fontTools.subset INFO  cmap subsetted\n",
      "fontTools.subset INFO  fpgm subsetting not needed\n",
      "fontTools.subset INFO  prep subsetting not needed\n",
      "fontTools.subset INFO  cvt  subsetting not needed\n",
      "fontTools.subset INFO  loca subsetting not needed\n",
      "fontTools.subset INFO  post subsetted\n",
      "fontTools.subset INFO  gasp subsetting not needed\n",
      "fontTools.subset INFO  GDEF subsetted\n",
      "fontTools.subset INFO  GPOS subsetted\n",
      "fontTools.subset INFO  GSUB subsetted\n",
      "fontTools.subset INFO  MATH subsetted\n",
      "fontTools.subset INFO  name subsetting not needed\n",
      "fontTools.subset INFO  glyf subsetted\n",
      "fontTools.subset INFO  head pruned\n",
      "fontTools.subset INFO  OS/2 Unicode ranges pruned: [0]\n",
      "fontTools.subset INFO  glyf pruned\n",
      "fontTools.subset INFO  GDEF pruned\n",
      "fontTools.subset INFO  GPOS pruned\n",
      "fontTools.subset INFO  GSUB pruned\n"
     ]
    },
    {
     "name": "stdout",
     "output_type": "stream",
     "text": [
      "2020-02-01    32.400195\n",
      "2020-03-01    32.400195\n",
      "2020-04-01    32.400195\n",
      "2020-05-01    32.400195\n",
      "2020-06-01    32.400195\n",
      "                ...    \n",
      "2029-09-01    32.400195\n",
      "2029-10-01    32.400195\n",
      "2029-11-01    32.400195\n",
      "2029-12-01    32.400195\n",
      "2030-01-01    32.400195\n",
      "Freq: MS, Name: pred, Length: 120, dtype: float64\n"
     ]
    },
    {
     "data": {
      "image/png": "[encoded data removed]",
      "text/plain": [
       "<Figure size 648x288 with 1 Axes>"
      ]
     },
     "metadata": {
      "needs_background": "light"
     },
     "output_type": "display_data"
    },
    {
     "data": {
      "image/png": "[encoded data removed]",
      "text/plain": [
       "<Figure size 648x288 with 1 Axes>"
      ]
     },
     "metadata": {
      "needs_background": "light"
     },
     "output_type": "display_data"
    },
    {
     "data": {
      "image/png": "[encoded data removed]",
      "text/plain": [
       "<Figure size 648x288 with 1 Axes>"
      ]
     },
     "metadata": {
      "needs_background": "light"
     },
     "output_type": "display_data"
    }
   ],
   "source": [
    "ts_unique    = top_freq_df.columns.to_list()\n",
    "topics       = top_freq_df.index.to_list()\n",
    "steps_test   = 24\n",
    "steps_future = 120\n",
    "\n",
    "c = 0\n",
    "for toc in topics:\n",
    "  row_series = top_freq_df.loc[toc]\n",
    "  predictions_future = fit_forcaster(toc, row_series, steps_test, steps_future, \n",
    "                                     dir_forcast)\n",
    "  print(predictions_future)\n",
    "  if c == 2:\n",
    "    break\n",
    "  c += 1"
   ]
  },
  {
   "cell_type": "markdown",
   "metadata": {},
   "source": [
    "## ___Code testing___"
   ]
  },
  {
   "cell_type": "markdown",
   "metadata": {},
   "source": [
    "### Testing data"
   ]
  },
  {
   "cell_type": "code",
   "execution_count": 9,
   "metadata": {},
   "outputs": [
    {
     "data": {
      "text/plain": [
       "([250750799.0, 425879999.0, 546839999.0, 638945999.0, 712641599.0],\n",
       " [8.0, 31.0, 31.0, 35.0, 28.0])"
      ]
     },
     "execution_count": 9,
     "metadata": {},
     "output_type": "execute_result"
    }
   ],
   "source": [
    "ts_unique = top_freq_df.columns.to_list()\n",
    "\n",
    "data = top_freq_df.iloc[1]\n",
    "x  = data.index.to_list()\n",
    "y  = data.values.tolist()\n",
    "x[:5], y[:5]"
   ]
  },
  {
   "cell_type": "markdown",
   "metadata": {},
   "source": [
    "### Scipy natural cubic smoothing spline"
   ]
  },
  {
   "cell_type": "code",
   "execution_count": 10,
   "metadata": {},
   "outputs": [
    {
     "data": {
      "image/png": "[encoded data removed]",
      "text/plain": [
       "<Figure size 432x288 with 1 Axes>"
      ]
     },
     "metadata": {
      "needs_background": "light"
     },
     "output_type": "display_data"
    }
   ],
   "source": [
    "# Same cubic spline (k=3) as before\n",
    "np.random.seed(seed)\n",
    "spl    = UnivariateSpline(x, y, k=3, ext=0)\n",
    "xs     = np.linspace(x[0], x[-1], 150) \n",
    "ys_spl = spl(xs)\n",
    "plt.plot(x, y, 'o', xs, ys_spl, '-')\n",
    "plt.show()"
   ]
  },
  {
   "cell_type": "markdown",
   "metadata": {},
   "source": [
    "### Scipy cubic spline"
   ]
  },
  {
   "cell_type": "code",
   "execution_count": 11,
   "metadata": {},
   "outputs": [
    {
     "data": {
      "image/png": "[encoded data removed]",
      "text/plain": [
       "<Figure size 432x288 with 1 Axes>"
      ]
     },
     "metadata": {
      "needs_background": "light"
     },
     "output_type": "display_data"
    }
   ],
   "source": [
    "cs    = CubicSpline(x, y, bc_type='natural')\n",
    "ys_cs = cs(xs)\n",
    "plt.plot(x, y, 'o', xs, ys_cs, '-')\n",
    "plt.show()"
   ]
  },
  {
   "cell_type": "markdown",
   "metadata": {},
   "source": [
    "### Recursive autoregressive forecasting\n",
    "\n",
    "https://www.cienciadedatos.net/documentos/py27-time-series-forecasting-python-scikitlearn.html"
   ]
  },
  {
   "cell_type": "markdown",
   "metadata": {},
   "source": [
    "#### Create dataframe"
   ]
  },
  {
   "cell_type": "code",
   "execution_count": 50,
   "metadata": {},
   "outputs": [
    {
     "data": {
      "text/plain": [
       "50"
      ]
     },
     "execution_count": 50,
     "metadata": {},
     "output_type": "execute_result"
    }
   ],
   "source": [
    "len(y)"
   ]
  },
  {
   "cell_type": "code",
   "execution_count": 65,
   "metadata": {},
   "outputs": [
    {
     "data": {
      "text/plain": [
       "[datetime.datetime(1977, 12, 1, 0, 0),\n",
       " datetime.datetime(1983, 7, 1, 0, 0),\n",
       " datetime.datetime(1987, 5, 1, 0, 0),\n",
       " datetime.datetime(1990, 4, 1, 0, 0),\n",
       " datetime.datetime(1992, 8, 1, 0, 0),\n",
       " datetime.datetime(1994, 9, 1, 0, 0),\n",
       " datetime.datetime(1996, 7, 1, 0, 0),\n",
       " datetime.datetime(1998, 6, 1, 0, 0),\n",
       " datetime.datetime(2000, 2, 1, 0, 0),\n",
       " datetime.datetime(2001, 4, 1, 0, 0),\n",
       " datetime.datetime(2002, 4, 1, 0, 0),\n",
       " datetime.datetime(2003, 3, 1, 0, 0),\n",
       " datetime.datetime(2003, 12, 1, 0, 0),\n",
       " datetime.datetime(2004, 11, 1, 0, 0),\n",
       " datetime.datetime(2005, 8, 1, 0, 0),\n",
       " datetime.datetime(2006, 4, 1, 0, 0),\n",
       " datetime.datetime(2007, 1, 1, 0, 0),\n",
       " datetime.datetime(2007, 9, 1, 0, 0),\n",
       " datetime.datetime(2008, 4, 1, 0, 0),\n",
       " datetime.datetime(2008, 11, 1, 0, 0),\n",
       " datetime.datetime(2009, 6, 1, 0, 0),\n",
       " datetime.datetime(2010, 1, 1, 0, 0),\n",
       " datetime.datetime(2010, 8, 1, 0, 0),\n",
       " datetime.datetime(2011, 3, 1, 0, 0),\n",
       " datetime.datetime(2011, 9, 1, 0, 0),\n",
       " datetime.datetime(2012, 3, 1, 0, 0),\n",
       " datetime.datetime(2012, 9, 1, 0, 0),\n",
       " datetime.datetime(2013, 3, 1, 0, 0),\n",
       " datetime.datetime(2013, 8, 1, 0, 0),\n",
       " datetime.datetime(2014, 1, 1, 0, 0),\n",
       " datetime.datetime(2014, 6, 1, 0, 0),\n",
       " datetime.datetime(2014, 11, 1, 0, 0),\n",
       " datetime.datetime(2015, 3, 1, 0, 0),\n",
       " datetime.datetime(2015, 8, 1, 0, 0),\n",
       " datetime.datetime(2016, 1, 1, 0, 0),\n",
       " datetime.datetime(2016, 5, 1, 0, 0),\n",
       " datetime.datetime(2016, 10, 1, 0, 0),\n",
       " datetime.datetime(2017, 2, 1, 0, 0),\n",
       " datetime.datetime(2017, 7, 1, 0, 0),\n",
       " datetime.datetime(2017, 11, 1, 0, 0),\n",
       " datetime.datetime(2018, 3, 1, 0, 0),\n",
       " datetime.datetime(2018, 7, 1, 0, 0),\n",
       " datetime.datetime(2018, 12, 1, 0, 0),\n",
       " datetime.datetime(2019, 4, 1, 0, 0),\n",
       " datetime.datetime(2019, 7, 1, 0, 0),\n",
       " datetime.datetime(2019, 11, 1, 0, 0),\n",
       " datetime.datetime(2020, 3, 1, 0, 0),\n",
       " datetime.datetime(2020, 6, 1, 0, 0),\n",
       " datetime.datetime(2020, 9, 1, 0, 0),\n",
       " datetime.datetime(2021, 1, 1, 0, 0)]"
      ]
     },
     "execution_count": 65,
     "metadata": {},
     "output_type": "execute_result"
    }
   ],
   "source": [
    "# Turn timestamps to dates\n",
    "x_dates = [datetime.fromtimestamp(ts+1) for ts in x]\n",
    "\n",
    "# Change all dates to 1st day of the month. This is done otherwise anything\n",
    "# not on the 1st day of the month will be removed when df.asfreq is applied.\n",
    "x_dates = [datetime.strptime(d.strftime(\"%Y:%m\"), \"%Y:%m\") for d in x_dates]\n",
    "x_dates"
   ]
  },
  {
   "cell_type": "code",
   "execution_count": 76,
   "metadata": {},
   "outputs": [
    {
     "name": "stdout",
     "output_type": "stream",
     "text": [
      "#rows: 518, #missing_val:468\n"
     ]
    }
   ],
   "source": [
    "# Create a pandas series with y using dates as indices\n",
    "y_df = pd.DataFrame({\"date\":x_dates, \"y\":y})\n",
    "y_df = y_df.set_index('date')\n",
    "\n",
    "# Set frequency to monthly and fill in missing data as NaN\n",
    "y_df = y_df.asfreq('MS') \n",
    "y_df = y_df.sort_index() # make sure the date is sorted\n",
    "print(f'#rows: {y_df.shape[0]}, #missing_val:{y_df.isnull().any(axis=1).sum()}')"
   ]
  },
  {
   "cell_type": "code",
   "execution_count": 82,
   "metadata": {},
   "outputs": [
    {
     "name": "stdout",
     "output_type": "stream",
     "text": [
      "#rows: 518 #missing_val: 0\n"
     ]
    },
    {
     "data": {
      "image/png": "[encoded data removed]",
      "text/plain": [
       "<Figure size 432x288 with 1 Axes>"
      ]
     },
     "metadata": {
      "needs_background": "light"
     },
     "output_type": "display_data"
    }
   ],
   "source": [
    "# impute missing data\n",
    "y_df['y_spline'] = y_df['y'].interpolate(option='spline')\n",
    "print('#rows:', y_df.shape[0], \n",
    "      '#missing_val:',y_df['y_spline'].isnull().any().sum())\n",
    "plt.plot(y_df['y_spline'], 'yo')\n",
    "plt.plot(y_df['y'], 'r+')\n",
    "plt.legend([\"y_spline\", \"y\"])\n",
    "plt.show()"
   ]
  },
  {
   "cell_type": "code",
   "execution_count": 83,
   "metadata": {},
   "outputs": [
    {
     "data": {
      "text/plain": [
       "True"
      ]
     },
     "execution_count": 83,
     "metadata": {},
     "output_type": "execute_result"
    }
   ],
   "source": [
    "# Verify that a temporary index is complete\n",
    "(y_df.index == pd.date_range(start=y_df.index.min(),\n",
    "                             end=y_df.index.max(),\n",
    "                             freq=y_df.index.freq)).all()"
   ]
  },
  {
   "cell_type": "code",
   "execution_count": 115,
   "metadata": {},
   "outputs": [
    {
     "name": "stdout",
     "output_type": "stream",
     "text": [
      "Train dates:1977-12-01 00:00:00-2018-01-01 00:00:00 (n=482)\n",
      "Test dates :2018-02-01 00:00:00-2021-01-01 00:00:00 (n=36)\n"
     ]
    }
   ],
   "source": [
    "# Set last few months as test set\n",
    "steps = 36\n",
    "data_train = y_df[:-steps]\n",
    "data_test  = y_df[-steps:]\n",
    "\n",
    "print(f\"Train dates:{data_train.index.min()}-{data_train.index.max()} (n={len(data_train)})\")\n",
    "print(f\"Test dates :{data_test.index.min()}-{data_test.index.max()} (n={len(data_test)})\")"
   ]
  },
  {
   "cell_type": "markdown",
   "metadata": {},
   "source": [
    "#### ForcasterAutoReg"
   ]
  },
  {
   "cell_type": "code",
   "execution_count": 116,
   "metadata": {},
   "outputs": [
    {
     "name": "stdout",
     "output_type": "stream",
     "text": [
      "Number of models compared: 18.\n"
     ]
    },
    {
     "name": "stderr",
     "output_type": "stream",
     "text": [
      "loop lags_grid: 100%|███████████████████████████████████████| 3/3 [02:09<00:00, 43.32s/it]\n"
     ]
    },
    {
     "name": "stdout",
     "output_type": "stream",
     "text": [
      "`Forecaster` refitted using the best-found lags and parameters, and the whole data set: \n",
      "  Lags: [1 2 3 4 5] \n",
      "  Parameters: {'max_depth': 3, 'n_estimators': 500}\n",
      "  Backtesting metric: 29.65056558114687\n",
      "\n"
     ]
    }
   ],
   "source": [
    "forecaster_ar = ForecasterAutoreg(\n",
    "                regressor = RandomForestRegressor(random_state=seed),\n",
    "                lags      = 6)\n",
    "\n",
    "# Lags used as predictors\n",
    "lags_grid = [5, 10, 20]\n",
    "\n",
    "# Regressor's hyperparameters\n",
    "param_grid = {'n_estimators': [100, 500], 'max_depth': [3, 5, 10]}\n",
    "\n",
    "results_grid = grid_search_forecaster(\n",
    "                        forecaster         = forecaster_ar,\n",
    "                        y                  = data_train['y_spline'],\n",
    "                        param_grid         = param_grid,\n",
    "                        lags_grid          = lags_grid,\n",
    "                        steps              = steps,\n",
    "                        refit              = True,\n",
    "                        metric             = 'mean_squared_error',\n",
    "                        initial_train_size = int(len(data_train)*0.5),\n",
    "                        fixed_train_size   = False,\n",
    "                        return_best        = True,\n",
    "                        verbose            = False)\n"
   ]
  },
  {
   "cell_type": "code",
   "execution_count": 117,
   "metadata": {},
   "outputs": [
    {
     "data": {
      "text/plain": [
       "lags                                        [1, 2, 3, 4, 5]\n",
       "params                {'max_depth': 3, 'n_estimators': 500}\n",
       "mean_squared_error                                29.650566\n",
       "max_depth                                                 3\n",
       "n_estimators                                            500\n",
       "Name: 1, dtype: object"
      ]
     },
     "execution_count": 117,
     "metadata": {},
     "output_type": "execute_result"
    }
   ],
   "source": [
    "# best result with smallest mse\n",
    "results_grid.iloc[0]"
   ]
  },
  {
   "cell_type": "code",
   "execution_count": 118,
   "metadata": {},
   "outputs": [
    {
     "name": "stdout",
     "output_type": "stream",
     "text": [
      "num_lags= 5\n"
     ]
    }
   ],
   "source": [
    "print(\"num_lags=\",len(results_grid.iloc[0]['lags']))"
   ]
  },
  {
   "cell_type": "markdown",
   "metadata": {},
   "source": [
    "#### Final model"
   ]
  },
  {
   "cell_type": "code",
   "execution_count": 119,
   "metadata": {},
   "outputs": [],
   "source": [
    "regressor_rf = RandomForestRegressor(max_depth=5, n_estimators=100, \n",
    "                                     random_state=seed)\n",
    "forecaster_final = ForecasterAutoreg(regressor = regressor_rf,\n",
    "                                     lags      = 20)\n",
    "forecaster_final.fit(y=data_train['y_spline'])\n",
    "predictions_test = forecaster_final.predict(steps=steps)"
   ]
  },
  {
   "cell_type": "code",
   "execution_count": 134,
   "metadata": {},
   "outputs": [
    {
     "data": {
      "text/plain": [
       "pandas.core.series.Series"
      ]
     },
     "execution_count": 134,
     "metadata": {},
     "output_type": "execute_result"
    }
   ],
   "source": [
    "type(predictions_test)"
   ]
  },
  {
   "cell_type": "code",
   "execution_count": 120,
   "metadata": {},
   "outputs": [],
   "source": [
    "# the next 10 years\n",
    "steps_future = 120\n",
    "predictions_future = forecaster_final.predict(steps=steps+steps_future)"
   ]
  },
  {
   "cell_type": "code",
   "execution_count": 125,
   "metadata": {},
   "outputs": [
    {
     "data": {
      "text/plain": [
       "<matplotlib.legend.Legend at 0x7fd54c5c2260>"
      ]
     },
     "execution_count": 125,
     "metadata": {},
     "output_type": "execute_result"
    },
    {
     "data": {
      "image/png": "[encoded data removed]",
      "text/plain": [
       "<Figure size 648x288 with 1 Axes>"
      ]
     },
     "metadata": {
      "needs_background": "light"
     },
     "output_type": "display_data"
    }
   ],
   "source": [
    "fig, ax=plt.subplots(figsize=(9, 4))\n",
    "data_train['y_spline'].plot(ax=ax, label='train')\n",
    "data_test['y_spline'].plot(ax=ax, label='test')\n",
    "y_df['y'].plot(ax=ax, style='o', ms=5, label='original data')\n",
    "predictions_future.plot(ax=ax, label='predictions:test + future')\n",
    "ax.legend()"
   ]
  },
  {
   "cell_type": "code",
   "execution_count": 124,
   "metadata": {},
   "outputs": [
    {
     "name": "stdout",
     "output_type": "stream",
     "text": [
      "Test error (mse): 5.0891757995901825\n"
     ]
    }
   ],
   "source": [
    "# Test error\n",
    "error_mse = mean_squared_error(y_true = data_test['y_spline'],\n",
    "                               y_pred = predictions_test)\n",
    "print(f\"Test error (mse): {error_mse}\")"
   ]
  },
  {
   "cell_type": "code",
   "execution_count": 136,
   "metadata": {},
   "outputs": [
    {
     "data": {
      "text/plain": [
       "(120,)"
      ]
     },
     "execution_count": 136,
     "metadata": {},
     "output_type": "execute_result"
    }
   ],
   "source": [
    "predictions_future[steps:].shape"
   ]
  }
 ],
 "metadata": {
  "kernelspec": {
   "display_name": "Python 3.10.3 ('sklearn': conda)",
   "language": "python",
   "name": "python3"
  },
  "language_info": {
   "codemirror_mode": {
    "name": "ipython",
    "version": 3
   },
   "file_extension": ".py",
   "mimetype": "text/x-python",
   "name": "python",
   "nbconvert_exporter": "python",
   "pygments_lexer": "ipython3",
   "version": "3.10.6"
  },
  "orig_nbformat": 4,
  "vscode": {
   "interpreter": {
    "hash": "b31353e0b5417ab1909bc62ced18dcd0f4fa5d6ceab54c18c132f16ad2bde54b"
   }
  }
 },
 "nbformat": 4,
 "nbformat_minor": 2
}
