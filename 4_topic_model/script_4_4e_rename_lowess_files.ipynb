{
 "cells": [
  {
   "cell_type": "markdown",
   "metadata": {},
   "source": [
    "\n",
    "2/12/24:\n",
    "- Based on reviewer feedback, provide info on lowess fits that serve as the bases for Figure 3.\n",
    "- The script here is to:\n",
    "  - Include category info in PDF based on [this post](https://stackoverflow.com/questions/1180115/add-text-to-existing-pdf-using-python) and [this](https://stackoverflow.com/questions/71599203/how-to-add-text-annotation-to-existing-pdf-using-pdf-annotate-python).\n",
    "  - Rename files to put order and category info."
   ]
  },
  {
   "cell_type": "code",
   "execution_count": 38,
   "metadata": {},
   "outputs": [],
   "source": [
    "import pandas as pd\n",
    "from pathlib import Path\n",
    "from pdf_annotate import PdfAnnotator, Appearance, Location\n",
    "from tqdm import tqdm\n",
    "\n",
    "proj_dir   = Path.home() / \"projects/plant_sci_hist\"\n",
    "work_dir   = proj_dir / \"4_topic_model/4_4_over_time/_lowess/_selected\""
   ]
  },
  {
   "cell_type": "code",
   "execution_count": 5,
   "metadata": {},
   "outputs": [
    {
     "data": {
      "text/plain": [
       "87"
      ]
     },
     "execution_count": 5,
     "metadata": {},
     "output_type": "execute_result"
    }
   ],
   "source": [
    "# Get all pdf files\n",
    "pdfs = [f for f in list(work_dir.iterdir()) if str(f).find(\".pdf\") != -1]\n",
    "len(pdfs)"
   ]
  },
  {
   "cell_type": "code",
   "execution_count": 41,
   "metadata": {},
   "outputs": [
    {
     "data": {
      "text/html": [
       "<div>\n",
       "<style scoped>\n",
       "    .dataframe tbody tr th:only-of-type {\n",
       "        vertical-align: middle;\n",
       "    }\n",
       "\n",
       "    .dataframe tbody tr th {\n",
       "        vertical-align: top;\n",
       "    }\n",
       "\n",
       "    .dataframe thead th {\n",
       "        text-align: right;\n",
       "    }\n",
       "</style>\n",
       "<table border=\"1\" class=\"dataframe\">\n",
       "  <thead>\n",
       "    <tr style=\"text-align: right;\">\n",
       "      <th></th>\n",
       "      <th>Order</th>\n",
       "      <th>Topic</th>\n",
       "      <th>Peak</th>\n",
       "      <th>1st_reach_thr</th>\n",
       "      <th>Trend</th>\n",
       "      <th>Stable</th>\n",
       "      <th>Category</th>\n",
       "    </tr>\n",
       "  </thead>\n",
       "  <tbody>\n",
       "    <tr>\n",
       "      <th>0</th>\n",
       "      <td>1</td>\n",
       "      <td>58</td>\n",
       "      <td>0</td>\n",
       "      <td>0</td>\n",
       "      <td>-1</td>\n",
       "      <td>1</td>\n",
       "      <td>Stable</td>\n",
       "    </tr>\n",
       "    <tr>\n",
       "      <th>1</th>\n",
       "      <td>2</td>\n",
       "      <td>56</td>\n",
       "      <td>3</td>\n",
       "      <td>0</td>\n",
       "      <td>-1</td>\n",
       "      <td>1</td>\n",
       "      <td>Stable</td>\n",
       "    </tr>\n",
       "  </tbody>\n",
       "</table>\n",
       "</div>"
      ],
      "text/plain": [
       "   Order  Topic  Peak  1st_reach_thr  Trend  Stable Category\n",
       "0      1     58     0              0     -1       1   Stable\n",
       "1      2     56     3              0     -1       1   Stable"
      ]
     },
     "execution_count": 41,
     "metadata": {},
     "output_type": "execute_result"
    }
   ],
   "source": [
    "# Get the ordering information from spreadsheet\n",
    "df = pd.read_excel(work_dir / \"ordering.xlsx\")\n",
    "\n",
    "df.head(2)"
   ]
  },
  {
   "cell_type": "code",
   "execution_count": 43,
   "metadata": {},
   "outputs": [
    {
     "name": "stderr",
     "output_type": "stream",
     "text": [
      "100%|██████████| 87/87 [00:01<00:00, 52.31it/s]\n"
     ]
    }
   ],
   "source": [
    "# Modify and rename pdf\n",
    "order = df[\"Order\"].tolist()\n",
    "tocs  = df[\"Topic\"].tolist()\n",
    "cats  = df[\"Category\"].tolist()\n",
    "\n",
    "for pdf in tqdm(pdfs):\n",
    "  # Get topic, order, and category info\n",
    "  toc   = int(str(pdf).split(\"_topic_\")[-1].split(\"_lowess_\")[0])\n",
    "  order = df[df[\"Topic\"] == toc][\"Order\"].values[0]\n",
    "  cat   = df[df[\"Topic\"] == toc][\"Category\"].values[0]\n",
    "\n",
    "  # Add annotation\n",
    "  annotator = PdfAnnotator(str(pdf))\n",
    "  annotator.add_annotation(\n",
    "    'text',\n",
    "    Location(x1=50, y1=500, x2=200, y2=100, page=0),\n",
    "    Appearance(content=f'Category={cat}, order={order}', fill=(0,0,0)), \n",
    "    )\n",
    "  \n",
    "  # Generate output\n",
    "  pdf_out = work_dir / f\"{order}_{cat}_topc_{toc}.pdf\"\n",
    "  annotator.write(str(pdf_out))\n"
   ]
  },
  {
   "cell_type": "markdown",
   "metadata": {},
   "source": [
    "## ___Testing___"
   ]
  },
  {
   "cell_type": "code",
   "execution_count": 31,
   "metadata": {},
   "outputs": [
    {
     "name": "stdout",
     "output_type": "stream",
     "text": [
      "Help on class Appearance in module pdf_annotate.config.appearance:\n",
      "\n",
      "class Appearance(builtins.object)\n",
      " |  Appearance(stroke_color=(0, 0, 0), stroke_width=1, border_style='S', dash_array=None, line_cap=None, line_join=None, miter_limit=None, stroke_transparency=None, fill=None, fill_transparency=None, content='', font_size=12, text_align='left', text_baseline='middle', line_spacing=1.2, wrap_text=True, image=None, appearance_stream=None, xobjects=None, graphics_states=None, fonts=None) -> None\n",
      " |  \n",
      " |  Methods defined here:\n",
      " |  \n",
      " |  __eq__(self, other)\n",
      " |      Method generated by attrs for class Appearance.\n",
      " |  \n",
      " |  __ge__(self, other)\n",
      " |      Method generated by attrs for class Appearance.\n",
      " |  \n",
      " |  __gt__(self, other)\n",
      " |      Method generated by attrs for class Appearance.\n",
      " |  \n",
      " |  __init__(self, stroke_color=(0, 0, 0), stroke_width=1, border_style='S', dash_array=None, line_cap=None, line_join=None, miter_limit=None, stroke_transparency=None, fill=None, fill_transparency=None, content='', font_size=12, text_align='left', text_baseline='middle', line_spacing=1.2, wrap_text=True, image=None, appearance_stream=None, xobjects=None, graphics_states=None, fonts=None) -> None\n",
      " |      Method generated by attrs for class Appearance.\n",
      " |  \n",
      " |  __le__(self, other)\n",
      " |      Method generated by attrs for class Appearance.\n",
      " |  \n",
      " |  __lt__(self, other)\n",
      " |      Method generated by attrs for class Appearance.\n",
      " |  \n",
      " |  __ne__(self, other)\n",
      " |      Method generated by attrs for class Appearance.\n",
      " |  \n",
      " |  __repr__(self)\n",
      " |      Method generated by attrs for class Appearance.\n",
      " |  \n",
      " |  copy(self, **kwargs)\n",
      " |  \n",
      " |  get_graphics_state(self)\n",
      " |      Return a GraphicsState config from the appearance's graphics-state-\n",
      " |      applicable params.\n",
      " |      \n",
      " |      :returns GraphicsState:\n",
      " |  \n",
      " |  ----------------------------------------------------------------------\n",
      " |  Data descriptors defined here:\n",
      " |  \n",
      " |  __dict__\n",
      " |      dictionary for instance variables (if defined)\n",
      " |  \n",
      " |  __weakref__\n",
      " |      list of weak references to the object (if defined)\n",
      " |  \n",
      " |  ----------------------------------------------------------------------\n",
      " |  Data and other attributes defined here:\n",
      " |  \n",
      " |  __attrs_attrs__ = (Attribute(name='stroke_color', default=(0, 0, 0...k...\n",
      " |  \n",
      " |  __hash__ = None\n",
      "\n"
     ]
    }
   ],
   "source": [
    "from pdf_annotate import PdfAnnotator, Appearance, Location\n",
    "\n",
    "# This is not very helpful, particularly, need more info on appearance\n",
    "help(Appearance)"
   ]
  },
  {
   "cell_type": "code",
   "execution_count": 36,
   "metadata": {},
   "outputs": [],
   "source": [
    "\n",
    "test_pdf = str(work_dir / \"test.pdf\")\n",
    "\n",
    "annotator = PdfAnnotator(test_pdf)\n",
    "\n",
    "annotator.add_annotation(\n",
    "  'text',\n",
    "  Location(x1=50, y1=500, x2=200, y2=100, page=0),\n",
    "  Appearance(content='Review...', fill=(0,0,0)), \n",
    "  )\n",
    "\n",
    "test_out = str(work_dir / \"test_annotated.pdf\")\n",
    "\n",
    "annotator.write(test_out)\n"
   ]
  },
  {
   "cell_type": "code",
   "execution_count": null,
   "metadata": {},
   "outputs": [],
   "source": []
  }
 ],
 "metadata": {
  "kernelspec": {
   "display_name": "portfolio_opt",
   "language": "python",
   "name": "python3"
  },
  "language_info": {
   "codemirror_mode": {
    "name": "ipython",
    "version": 3
   },
   "file_extension": ".py",
   "mimetype": "text/x-python",
   "name": "python",
   "nbconvert_exporter": "python",
   "pygments_lexer": "ipython3",
   "version": "3.9.12"
  }
 },
 "nbformat": 4,
 "nbformat_minor": 2
}
