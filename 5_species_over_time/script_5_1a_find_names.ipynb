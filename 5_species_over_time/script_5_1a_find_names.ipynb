{
 "cells": [
  {
   "cell_type": "code",
   "execution_count": 59,
   "metadata": {},
   "outputs": [],
   "source": [
    "import pickle, multiprocessing\n",
    "import numpy as np\n",
    "import pandas as pd\n",
    "from pathlib import Path\n",
    "from tqdm import tqdm\n",
    "from scipy.sparse import csr_matrix, vstack\n",
    "\n",
    "def get_match_csr(txt):\n",
    "  print(txt.shape)\n",
    "  with multiprocessing.Pool(processes=15) as pool:\n",
    "    results_ncbi_list = list(tqdm(pool.imap(task, enumerate(txt), chunksize=1), \n",
    "                                  total=len(txt)))\n",
    "\n",
    "  row_idx   = []\n",
    "  col_idx   = []\n",
    "  csr_val   = []\n",
    "  for row, results_ncbi in enumerate(results_ncbi_list):\n",
    "    non0_idx = np.nonzero(results_ncbi)[0].tolist()\n",
    "    row_idx.extend([row]*len(non0_idx))\n",
    "    col_idx.extend(non0_idx)\n",
    "    csr_val.extend([1]*len(non0_idx))\n",
    "\n",
    "  # create a sparse matrix with shape=(num_docs, num_names)\n",
    "  match_csr = csr_matrix((csr_val, (row_idx, col_idx)),\n",
    "                         shape=(txt.shape[0], len(offspring_names)), \n",
    "                         dtype=np.int0)\n",
    "\n",
    "  return match_csr\n",
    "\n",
    "def task(item):\n",
    "  '''Task to parallelize\n",
    "  Args:\n",
    "    item (tuple): (row_number, doc)\n",
    "  Return:\n",
    "    results_ncbi (list): an offspring_name is present in the doc (1) or not(1)\n",
    "  '''\n",
    "  (row, doc) = item\n",
    "\n",
    "  # pad the doc so if qualified name is at the beginning or end will still match\n",
    "  doc = f\" {doc} \" \n",
    "  # Get the matching common names as a list\n",
    "  # Get lower case because the common name can be the 1st word.\n",
    "  doc_lower = doc.lower()\n",
    "  results_usda = [name for name in common_names if(f\" {name} \" in doc_lower)]\n",
    "\n",
    "  # Add the results to doc\n",
    "  for cname in results_usda:  # for each common name\n",
    "    genus = cnames[cname][0]  # get the genus name\n",
    "    doc += f\" {genus}\"        # add the genus name to doc\n",
    "  \n",
    "  # Match to NCBI names\n",
    "  results_ncbi = [1 if(f\" {name} \" in doc) else 0 for name in offspring_names]\n",
    "\n",
    "  return results_ncbi"
   ]
  },
  {
   "cell_type": "code",
   "execution_count": 47,
   "metadata": {},
   "outputs": [
    {
     "name": "stdout",
     "output_type": "stream",
     "text": [
      "Read saved objects...\n"
     ]
    }
   ],
   "source": [
    "#---------------\n",
    "proj_dir   = Path.home() / \"projects/plant_sci_hist\"\n",
    "work_dir   = proj_dir / \"5_species_over_time/\"\n",
    "\n",
    "print(\"Read saved objects...\")\n",
    "txt_clean  = pd.read_csv(work_dir / \"txt_clean.csv\", index_col=0)\n",
    "\n",
    "with open(work_dir / \"viridiplantae_offspring_names.pickle\", \"rb\") as f:\n",
    "  offspring_names = pickle.load(f)\n",
    "\n",
    "# Save as pickle\n",
    "with open(work_dir / \"usda_common_names.pickle\", \"rb\") as f:\n",
    "  common_names = pickle.load(f)\n",
    "\n",
    "with open(work_dir / \"usda_common_names_dict.pickle\", \"rb\") as f:\n",
    "  cnames = pickle.load(f)"
   ]
  },
  {
   "cell_type": "code",
   "execution_count": 60,
   "metadata": {},
   "outputs": [
    {
     "name": "stdout",
     "output_type": "stream",
     "text": [
      "Get match_csr...\n",
      " [0, 50000)\n",
      "(50000,)\n"
     ]
    },
    {
     "name": "stderr",
     "output_type": "stream",
     "text": [
      "100%|██████████| 50000/50000 [03:20<00:00, 248.90it/s]\n"
     ]
    },
    {
     "name": "stdout",
     "output_type": "stream",
     "text": [
      " [50000, 100000)\n",
      "(50000,)\n"
     ]
    },
    {
     "name": "stderr",
     "output_type": "stream",
     "text": [
      "100%|██████████| 50000/50000 [03:19<00:00, 250.65it/s]\n"
     ]
    },
    {
     "name": "stdout",
     "output_type": "stream",
     "text": [
      " [100000, 150000)\n",
      "(50000,)\n"
     ]
    },
    {
     "name": "stderr",
     "output_type": "stream",
     "text": [
      "100%|██████████| 50000/50000 [03:16<00:00, 254.54it/s]\n"
     ]
    },
    {
     "name": "stdout",
     "output_type": "stream",
     "text": [
      " [150000, 200000)\n",
      "(50000,)\n"
     ]
    },
    {
     "name": "stderr",
     "output_type": "stream",
     "text": [
      "100%|██████████| 50000/50000 [03:29<00:00, 238.28it/s]\n"
     ]
    },
    {
     "name": "stdout",
     "output_type": "stream",
     "text": [
      " [200000, 250000)\n",
      "(50000,)\n"
     ]
    },
    {
     "name": "stderr",
     "output_type": "stream",
     "text": [
      "100%|██████████| 50000/50000 [03:35<00:00, 232.47it/s]\n"
     ]
    },
    {
     "name": "stdout",
     "output_type": "stream",
     "text": [
      " [250000, 300000)\n",
      "(50000,)\n"
     ]
    },
    {
     "name": "stderr",
     "output_type": "stream",
     "text": [
      "100%|██████████| 50000/50000 [03:39<00:00, 228.21it/s]\n"
     ]
    },
    {
     "name": "stdout",
     "output_type": "stream",
     "text": [
      " [300000, 350000)\n",
      "(50000,)\n"
     ]
    },
    {
     "name": "stderr",
     "output_type": "stream",
     "text": [
      "100%|██████████| 50000/50000 [03:40<00:00, 226.46it/s]\n"
     ]
    },
    {
     "name": "stdout",
     "output_type": "stream",
     "text": [
      " [350000, 400000)\n",
      "(50000,)\n"
     ]
    },
    {
     "name": "stderr",
     "output_type": "stream",
     "text": [
      "100%|██████████| 50000/50000 [03:50<00:00, 216.84it/s]\n"
     ]
    },
    {
     "name": "stdout",
     "output_type": "stream",
     "text": [
      " [400000, 450000)\n",
      "(21658,)\n"
     ]
    },
    {
     "name": "stderr",
     "output_type": "stream",
     "text": [
      "100%|██████████| 21658/21658 [01:38<00:00, 220.87it/s]\n"
     ]
    },
    {
     "name": "stdout",
     "output_type": "stream",
     "text": [
      "Final csr: (421658, 26782)\n"
     ]
    }
   ],
   "source": [
    "print(\"Get match_csr...\")\n",
    "\n",
    "# Send a subset docs at a time so no memtory issue\n",
    "n_subset = 50000\n",
    "csr_list = []\n",
    "for idx in range(0, txt_clean.shape[0], n_subset):\n",
    "  print(f\" [{idx}, {idx+n_subset})\")\n",
    "  # get subset of docs\n",
    "  txt        = txt_clean['txt_clean'][idx:(idx+n_subset)]\n",
    "  # get csr\n",
    "  match_csr  = get_match_csr(txt)\n",
    "  csr_list.append(match_csr)\n",
    "\n",
    "# stack csr\n",
    "match_csr_all = vstack(csr_list)\n",
    "print(\"Final csr:\", match_csr_all.shape)\n",
    "\n",
    "with open(work_dir / \"match_csr.pickle\", \"wb\") as f:\n",
    "  pickle.dump(match_csr_all, f)"
   ]
  },
  {
   "cell_type": "code",
   "execution_count": 49,
   "metadata": {},
   "outputs": [],
   "source": [
    "def spot_check(idx):\n",
    "  txt = txt_clean.iloc[idx][0]\n",
    "  print(txt)\n",
    "  \n",
    "  taxa_idx = match_csr_all[idx].nonzero()[1]\n",
    "  print(taxa_idx)\n",
    "  for idx in taxa_idx:\n",
    "    name = offspring_names[idx]\n",
    "    print(f\" {name} in txt:\", name in txt)"
   ]
  },
  {
   "cell_type": "code",
   "execution_count": 61,
   "metadata": {},
   "outputs": [
    {
     "name": "stdout",
     "output_type": "stream",
     "text": [
      "Fructose 16bisphosphate aldolase activity Rhizobium specie FDP aldolase found present cellfree extract Rhizobium leguminosarum Rhizobium phaseoli Rhizobium trifolii Rhizobium meliloti Rhizobium lupini Rhizobium japonicum Rhizobium specie Arachis hypogaea Sesbania cannabina The enzyme 3 representative specie optimal activity pH 84 02M veronal buffer The enzyme activity completely lost treatment 60 degree C 15 min The Km value range 238 455 X 106M FDP Metal chelating agent inhibited enzyme activity monovalent bivalent metal ion failed stimulate activity Bivalent metal ion general rather inhibitory\n",
      "[21477 21986]\n",
      " Sesbania in txt: True\n",
      " Arachis in txt: True\n"
     ]
    }
   ],
   "source": [
    "spot_check(2)"
   ]
  },
  {
   "cell_type": "code",
   "execution_count": 51,
   "metadata": {},
   "outputs": [
    {
     "name": "stdout",
     "output_type": "stream",
     "text": [
      "Reconstitution ion transport respiratory control vesicle formed reduced coenzyme Qcytochrome c reductase phospholipid Reduced coenzyme Qcytochrome c reductase bovine heart mitochondrion complex III incorporated phospholipid vesicle cholate dialysis procedure Soybean phospholipid mixture purified phosphatidylcholine phosphatidylethanolamine cardiolipin could used Oxidation reduced coenzyme Q2 reconstituted vesicle cytochrome c oxidant showed following energycoupling phenomenon 1 Protons translocated outward coupling ratio H2e 19 02 Measurements mitochondrion similar condition showed H2e ratio 18 Proton translocation seen presence uncoupling agent addition net acidification medium overall oxidation reaction 2 Potassium ion taken reconstituted vesicle presence valinomycin reaction coupled electron transfer The coupling ratio K uptake K2e 20 vesicle approximately 15 mitochondrion 3 The rate oxidation reduced coenzyme Q2 reconstituted vesicle stimulated 10fold uncouplers valinomycin plus nigericin K ion Addition valinomycin alone K medium caused transient stimulation electron transfer The result indicate energy coupling observed isolated reduced coenzyme Qcytochrome c reductase enzyme complex properly incorporated phospholipid vesicle\n",
      "[21657]\n",
      " Glycine in txt: False\n"
     ]
    }
   ],
   "source": [
    "# The in txt test will be false because the common name is in the txt.\n",
    "spot_check(4) "
   ]
  },
  {
   "cell_type": "code",
   "execution_count": 52,
   "metadata": {},
   "outputs": [
    {
     "name": "stdout",
     "output_type": "stream",
     "text": [
      "Effect inorganic phosphate acridine inhibition plasmid curing Escherichia coli Some mutant stock strain Escherichia coli K12 sensitive acriflavine presence inorganic phosphate resistant acriflavine absence They mutated spontaneously resistance acriflavine plus phosphate The synergistic effect phosphate acriflavine sensitivity increased high pH value Genetic analysis suggested mutation occurred gene acrA Electron microscopic observation suggested presence acriflavine plus phosphate affected structure plasma membrane cytoplasm This structural alteration caused acriflavine alone Acridine orange plus phosphate effectively eliminate plasmid F8gal acridine orange alone\n",
      "[22538]\n",
      " Matthiola in txt: False\n"
     ]
    }
   ],
   "source": [
    "# This is a false positive. Some Matthiola has a common name: stock.\n",
    "spot_check(5) "
   ]
  },
  {
   "cell_type": "code",
   "execution_count": 62,
   "metadata": {},
   "outputs": [
    {
     "name": "stdout",
     "output_type": "stream",
     "text": [
      "Oxidaseperoxidase enzyme Datura innoxia Oxidation formylphenylacetic acid ethyl ester An enzyme system Datura innoxia root oxidizing formylphenylacetic acid ethyl ester purified 38fold conventional method NH42SO4 fractionation negative adsorption alumina Cy gel chromatography DEAEcellulose The purified enzyme shown catalyse stoicheiometric oxidation formylphenylacetic acid ethyl ester benzoylformic acid ethyl ester formic acid utilizing molecular O2 Substrate analogue phenylacetaldehyde phenylpyruvate oxidized low rate formylphenylacetonitrile inhilating agent cyanide thiol compound ascorbic acid This enzyme identical oxidaseperoxidase isoenzyme Another oxidaseperoxidase isoenzyme separated DEAEchromatography also showed formylphenylacetic acid ethyl ester oxidase activity albeit lesser extent The property two isoenzymes oxidase compared shown differ oxidation peroxidation property The oxidation formylphenylacetic acid ethyl ester also catalysed horseradish peroxidase The Datura isoenzymes exhibited typical haemoprotein spectrum The oxidation formylphenylacetic acid ethyl ester different peroxidasecatalysed reaction activated either Mn2 monophenols The oxidation inhibited several mono polyphenols catalase A reaction mechanism oxidation proposed\n",
      "[16358 22651]\n",
      " Datura in txt: True\n",
      " Armoracia in txt: False\n"
     ]
    }
   ],
   "source": [
    "# Armoracia is horseradish.\n",
    "spot_check(10) "
   ]
  },
  {
   "cell_type": "code",
   "execution_count": 63,
   "metadata": {},
   "outputs": [
    {
     "name": "stdout",
     "output_type": "stream",
     "text": [
      "Oxygen life form evolution sex multicellular eukaryote The evolutionary advantage different sexual system multicellular eukaryote still well understood differentiation male female individual half offspring production compared asexuality Here propose various physiological adaptation oxidative stress could forged sessility versus motility consequently evolution sexual system multicellular animal plant fungi Photosynthesis cause substantial amount oxidative stress photoautotrophic plant likewise oxidative chemistry polymer breakdown cellulose lignin saprotrophic fungi In case extent precludes motility additional source oxidative stress Sessile life form lack neuronal system however limit option mate recognition adult sexual selection resulting inefficient matesearching system Hence sessility requires individual produce offspring achieved hermaphroditism plant andor multiple mating type fungi In animal motility requires neuronal system muscle activity highly sensitive oxidative damage As consequence motility evolved animal heterotrophic organism 1 photosynthetically active 2 primary decomposers Adaptations motility provide prerequisite active mating behavior efficient matesearching system These benefit compensate cost male may explain early evolution sex chromosome metazoan We conclude different sexual system evolved indirect physiological constraint lifestyle\n",
      "[]\n"
     ]
    }
   ],
   "source": [
    "spot_check(400042) "
   ]
  },
  {
   "cell_type": "code",
   "execution_count": 64,
   "metadata": {},
   "outputs": [
    {
     "name": "stdout",
     "output_type": "stream",
     "text": [
      "cDNA sequence homology 57kDa nucleotidebinding subunit vacuolar ATPase Arabidopsis Functional structural similarity among wide variety endomembrane HATPases suggest form distinct class common origin Immunological study Manolson M F Percy J M Apps D K Xie X S Stone D K Poole R J 1987 Proceedings Membrane Protein Symposium Goheen S C ed pp 427434 BioRad Richmond CA M F Manolson J M Percy D K Apps X S Xie D K Stone M Harrison D J Clarke R J Poole unpublished data support idea suggest evolutionary relationship endomembrane F0F1 ATPases Further examination relationship necessitates comparison proteinnucleic acid sequence data To end cloned sequenced cDNA encoding 57kDa polypeptide Arabidopsis vacuolar membrane HATPase To knowledge first report sequence 57kDa subunit plant animal endomembrane HATPase This cDNA encodes hydrophilic polypeptide containing putative ATP binding site Lack secretion signal sequence suggests processed endoplasmic reticulum translated cytosolic ribosome Comparison protein sequence show 57kDa subunit Arabidopsis nearly identical corresponding subunit Neurospora vacuolar membrane HATPase similar beta subunit archaebacterium Sulfolobus slightly nevertheless significantly homologous alpha beta subunit F0F1ATPases These result suggest different class ATPases evolved common ancestor\n",
      "[22612]\n",
      " Arabidopsis in txt: True\n"
     ]
    }
   ],
   "source": [
    "spot_check(11245) "
   ]
  },
  {
   "cell_type": "code",
   "execution_count": null,
   "metadata": {},
   "outputs": [],
   "source": []
  }
 ],
 "metadata": {
  "kernelspec": {
   "display_name": "bert_finetune",
   "language": "python",
   "name": "python3"
  },
  "language_info": {
   "codemirror_mode": {
    "name": "ipython",
    "version": 3
   },
   "file_extension": ".py",
   "mimetype": "text/x-python",
   "name": "python",
   "nbconvert_exporter": "python",
   "pygments_lexer": "ipython3",
   "version": "3.10.4"
  },
  "orig_nbformat": 4,
  "vscode": {
   "interpreter": {
    "hash": "a62edfbcf39af3bfe98b03791e65c4337047c7eef8bfa85d65d3997033bead22"
   }
  }
 },
 "nbformat": 4,
 "nbformat_minor": 2
}
