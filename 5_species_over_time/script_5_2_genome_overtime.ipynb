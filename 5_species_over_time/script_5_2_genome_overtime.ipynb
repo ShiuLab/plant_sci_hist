{
 "cells": [
  {
   "cell_type": "markdown",
   "metadata": {},
   "source": [
    "# __5.2 Genome sequencing over time__\n",
    "\n",
    "Goal:\n",
    "- Determine the number of genomes (nuclear or organellar) sequenced over time\n",
    "\n",
    "Data:\n",
    "- [NCBI viridiplantae genome summary](https://www.ncbi.nlm.nih.gov/genome/?term=txid33090[Organism:exp])\n",
    "  - Searched on 10/28/22, this is not useful, limited info without dates.\n",
    "- [NCBI datahub on viridiplantae genome](https://www.ncbi.nlm.nih.gov/data-hub/genome/?taxon=33090)\n",
    "  - Searched on 10/28/22, ncbi_dataset.tsv\n",
    "\n",
    "Thoughts\n",
    "- Summary stat\n",
    "  - 2384 assemblies that are not redundant (i.e., with different assembly accession numbers).\n",
    "  - Number of organisms: 1231\n",
    "  - Number of genus: 559\n",
    "- Issue with missing wGS accession\n",
    "  - Some assembies do not have WGS assession info. \n",
    "  - Also, some assemblies are updated (e.g., Arabidopsis) and the date is the update date."
   ]
  },
  {
   "cell_type": "markdown",
   "metadata": {},
   "source": [
    "## ___Setup___"
   ]
  },
  {
   "cell_type": "markdown",
   "metadata": {},
   "source": [
    "### Import"
   ]
  },
  {
   "cell_type": "code",
   "execution_count": 88,
   "metadata": {},
   "outputs": [],
   "source": [
    "import pandas as pd\n",
    "import numpy as np\n",
    "import matplotlib.pyplot as plt\n",
    "import matplotlib as mpl\n",
    "from pathlib import Path\n",
    "from datetime import datetime\n"
   ]
  },
  {
   "cell_type": "markdown",
   "metadata": {},
   "source": [
    "### Key variables"
   ]
  },
  {
   "cell_type": "code",
   "execution_count": 89,
   "metadata": {},
   "outputs": [],
   "source": [
    "# Reproducibility\n",
    "seed = 20220609\n",
    "\n",
    "# Setting working directory\n",
    "proj_dir   = Path.home() / \"projects/plant_sci_hist\"\n",
    "work_dir   = proj_dir / \"5_species_over_time/\"\n",
    "work_dir.mkdir(parents=True, exist_ok=True)\n",
    "\n",
    "genomes_tsv = work_dir / 'ncbi_dataset.tsv'\n",
    "\n",
    "# So PDF is saved in a format properly\n",
    "mpl.rcParams['pdf.fonttype'] = 42\n",
    "plt.rcParams[\"font.family\"] = \"sans-serif\""
   ]
  },
  {
   "cell_type": "markdown",
   "metadata": {},
   "source": [
    "## ___Analysis___"
   ]
  },
  {
   "cell_type": "markdown",
   "metadata": {},
   "source": [
    "### Read ncbi_dataset.tsv"
   ]
  },
  {
   "cell_type": "code",
   "execution_count": 42,
   "metadata": {},
   "outputs": [
    {
     "data": {
      "text/html": [
       "<div>\n",
       "<style scoped>\n",
       "    .dataframe tbody tr th:only-of-type {\n",
       "        vertical-align: middle;\n",
       "    }\n",
       "\n",
       "    .dataframe tbody tr th {\n",
       "        vertical-align: top;\n",
       "    }\n",
       "\n",
       "    .dataframe thead th {\n",
       "        text-align: right;\n",
       "    }\n",
       "</style>\n",
       "<table border=\"1\" class=\"dataframe\">\n",
       "  <thead>\n",
       "    <tr style=\"text-align: right;\">\n",
       "      <th></th>\n",
       "      <th>Assembly Accession</th>\n",
       "      <th>Assembly Name</th>\n",
       "      <th>Assembly Accession.1</th>\n",
       "      <th>Organism Name</th>\n",
       "      <th>Assembly Submission Date</th>\n",
       "    </tr>\n",
       "  </thead>\n",
       "  <tbody>\n",
       "    <tr>\n",
       "      <th>0</th>\n",
       "      <td>GCF_003935025.1</td>\n",
       "      <td>Abrus_2018</td>\n",
       "      <td>GCF_003935025.1</td>\n",
       "      <td>Abrus precatorius</td>\n",
       "      <td>2018-12-11</td>\n",
       "    </tr>\n",
       "    <tr>\n",
       "      <th>1</th>\n",
       "      <td>GCA_003935025.1</td>\n",
       "      <td>Abrus_2018</td>\n",
       "      <td>GCA_003935025.1</td>\n",
       "      <td>Abrus precatorius</td>\n",
       "      <td>2018-12-11</td>\n",
       "    </tr>\n",
       "    <tr>\n",
       "      <th>2</th>\n",
       "      <td>GCA_024086825.1</td>\n",
       "      <td>ASM2408682v1</td>\n",
       "      <td>GCA_024086825.1</td>\n",
       "      <td>Abrus pulchellus subsp. cantoniensis</td>\n",
       "      <td>2022-07-06</td>\n",
       "    </tr>\n",
       "    <tr>\n",
       "      <th>3</th>\n",
       "      <td>GCA_023634445.1</td>\n",
       "      <td>ASM2363444v1</td>\n",
       "      <td>GCA_023634445.1</td>\n",
       "      <td>Abrus pulchellus subsp. cantoniensis</td>\n",
       "      <td>2022-06-02</td>\n",
       "    </tr>\n",
       "  </tbody>\n",
       "</table>\n",
       "</div>"
      ],
      "text/plain": [
       "  Assembly Accession Assembly Name Assembly Accession.1  \\\n",
       "0    GCF_003935025.1    Abrus_2018      GCF_003935025.1   \n",
       "1    GCA_003935025.1    Abrus_2018      GCA_003935025.1   \n",
       "2    GCA_024086825.1  ASM2408682v1      GCA_024086825.1   \n",
       "3    GCA_023634445.1  ASM2363444v1      GCA_023634445.1   \n",
       "\n",
       "                          Organism Name Assembly Submission Date  \n",
       "0                     Abrus precatorius               2018-12-11  \n",
       "1                     Abrus precatorius               2018-12-11  \n",
       "2  Abrus pulchellus subsp. cantoniensis               2022-07-06  \n",
       "3  Abrus pulchellus subsp. cantoniensis               2022-06-02  "
      ]
     },
     "execution_count": 42,
     "metadata": {},
     "output_type": "execute_result"
    }
   ],
   "source": [
    "genomes_data = pd.read_csv(genomes_tsv, sep='\\t')\n",
    "genomes_data.head(4)"
   ]
  },
  {
   "cell_type": "code",
   "execution_count": 43,
   "metadata": {},
   "outputs": [
    {
     "data": {
      "text/html": [
       "<div>\n",
       "<style scoped>\n",
       "    .dataframe tbody tr th:only-of-type {\n",
       "        vertical-align: middle;\n",
       "    }\n",
       "\n",
       "    .dataframe tbody tr th {\n",
       "        vertical-align: top;\n",
       "    }\n",
       "\n",
       "    .dataframe thead th {\n",
       "        text-align: right;\n",
       "    }\n",
       "</style>\n",
       "<table border=\"1\" class=\"dataframe\">\n",
       "  <thead>\n",
       "    <tr style=\"text-align: right;\">\n",
       "      <th></th>\n",
       "      <th>Assembly Name</th>\n",
       "      <th>Organism Name</th>\n",
       "      <th>Assembly Submission Date</th>\n",
       "    </tr>\n",
       "  </thead>\n",
       "  <tbody>\n",
       "    <tr>\n",
       "      <th>0</th>\n",
       "      <td>Abrus_2018</td>\n",
       "      <td>Abrus precatorius</td>\n",
       "      <td>2018-12-11</td>\n",
       "    </tr>\n",
       "    <tr>\n",
       "      <th>1</th>\n",
       "      <td>Abrus_2018</td>\n",
       "      <td>Abrus precatorius</td>\n",
       "      <td>2018-12-11</td>\n",
       "    </tr>\n",
       "    <tr>\n",
       "      <th>2</th>\n",
       "      <td>ASM2408682v1</td>\n",
       "      <td>Abrus pulchellus subsp. cantoniensis</td>\n",
       "      <td>2022-07-06</td>\n",
       "    </tr>\n",
       "    <tr>\n",
       "      <th>3</th>\n",
       "      <td>ASM2363444v1</td>\n",
       "      <td>Abrus pulchellus subsp. cantoniensis</td>\n",
       "      <td>2022-06-02</td>\n",
       "    </tr>\n",
       "    <tr>\n",
       "      <th>4</th>\n",
       "      <td>ASM1902265v1</td>\n",
       "      <td>Acacia acuminata</td>\n",
       "      <td>2021-06-24</td>\n",
       "    </tr>\n",
       "  </tbody>\n",
       "</table>\n",
       "</div>"
      ],
      "text/plain": [
       "  Assembly Name                         Organism Name Assembly Submission Date\n",
       "0    Abrus_2018                     Abrus precatorius               2018-12-11\n",
       "1    Abrus_2018                     Abrus precatorius               2018-12-11\n",
       "2  ASM2408682v1  Abrus pulchellus subsp. cantoniensis               2022-07-06\n",
       "3  ASM2363444v1  Abrus pulchellus subsp. cantoniensis               2022-06-02\n",
       "4  ASM1902265v1                      Acacia acuminata               2021-06-24"
      ]
     },
     "execution_count": 43,
     "metadata": {},
     "output_type": "execute_result"
    }
   ],
   "source": [
    "# Get assession, sp name, and date. WGS project accession is used to weed out\n",
    "# redundant entries. Note that assembly assession is not useful because there\n",
    "# can be different assembly versions\n",
    "genomes_sp_dt = genomes_data[['Assembly Name', 'Organism Name', \n",
    "                              'Assembly Submission Date']]\n",
    "genomes_sp_dt.head()\n"
   ]
  },
  {
   "cell_type": "markdown",
   "metadata": {},
   "source": [
    "### Rid of redundant entries"
   ]
  },
  {
   "cell_type": "code",
   "execution_count": 46,
   "metadata": {},
   "outputs": [],
   "source": [
    "indices   = genomes_sp_dt.index\n",
    "acc_dict  = {}\n",
    "not_redun = []\n",
    "for idx in indices:\n",
    "  acc = genomes_sp_dt['Assembly Name'].loc[idx]\n",
    "  #print(idx, [acc], acc not in acc_dict)\n",
    "  if acc not in acc_dict:\n",
    "    acc_dict[acc] = 0\n",
    "    not_redun.append(1)\n",
    "  else:\n",
    "    not_redun.append(0)"
   ]
  },
  {
   "cell_type": "code",
   "execution_count": 47,
   "metadata": {},
   "outputs": [
    {
     "data": {
      "text/plain": [
       "((2625, 3), 2625)"
      ]
     },
     "execution_count": 47,
     "metadata": {},
     "output_type": "execute_result"
    }
   ],
   "source": [
    "genomes_sp_dt.shape, len(not_redun)"
   ]
  },
  {
   "cell_type": "code",
   "execution_count": 48,
   "metadata": {},
   "outputs": [
    {
     "name": "stderr",
     "output_type": "stream",
     "text": [
      "/tmp/ipykernel_252/4087055652.py:2: SettingWithCopyWarning: \n",
      "A value is trying to be set on a copy of a slice from a DataFrame.\n",
      "Try using .loc[row_indexer,col_indexer] = value instead\n",
      "\n",
      "See the caveats in the documentation: https://pandas.pydata.org/pandas-docs/stable/user_guide/indexing.html#returning-a-view-versus-a-copy\n",
      "  genomes_sp_dt['Not redun'] = not_redun\n"
     ]
    },
    {
     "data": {
      "text/html": [
       "<div>\n",
       "<style scoped>\n",
       "    .dataframe tbody tr th:only-of-type {\n",
       "        vertical-align: middle;\n",
       "    }\n",
       "\n",
       "    .dataframe tbody tr th {\n",
       "        vertical-align: top;\n",
       "    }\n",
       "\n",
       "    .dataframe thead th {\n",
       "        text-align: right;\n",
       "    }\n",
       "</style>\n",
       "<table border=\"1\" class=\"dataframe\">\n",
       "  <thead>\n",
       "    <tr style=\"text-align: right;\">\n",
       "      <th></th>\n",
       "      <th>Assembly Name</th>\n",
       "      <th>Organism Name</th>\n",
       "      <th>Assembly Submission Date</th>\n",
       "      <th>Not redun</th>\n",
       "    </tr>\n",
       "  </thead>\n",
       "  <tbody>\n",
       "    <tr>\n",
       "      <th>0</th>\n",
       "      <td>Abrus_2018</td>\n",
       "      <td>Abrus precatorius</td>\n",
       "      <td>2018-12-11</td>\n",
       "      <td>1</td>\n",
       "    </tr>\n",
       "    <tr>\n",
       "      <th>1</th>\n",
       "      <td>Abrus_2018</td>\n",
       "      <td>Abrus precatorius</td>\n",
       "      <td>2018-12-11</td>\n",
       "      <td>0</td>\n",
       "    </tr>\n",
       "  </tbody>\n",
       "</table>\n",
       "</div>"
      ],
      "text/plain": [
       "  Assembly Name      Organism Name Assembly Submission Date  Not redun\n",
       "0    Abrus_2018  Abrus precatorius               2018-12-11          1\n",
       "1    Abrus_2018  Abrus precatorius               2018-12-11          0"
      ]
     },
     "execution_count": 48,
     "metadata": {},
     "output_type": "execute_result"
    }
   ],
   "source": [
    "# https://stackoverflow.com/questions/42379818/correct-way-to-set-new-column-in-pandas-dataframe-to-avoid-settingwithcopywarnin\n",
    "genomes_sp_dt['Not redun'] = not_redun\n",
    "\n",
    "# Tried the following but still get the warning\n",
    "#genomes_sp_dt.loc[:,\"Not redun\"] = not_redun\n",
    "genomes_sp_dt.head(2)"
   ]
  },
  {
   "cell_type": "code",
   "execution_count": 49,
   "metadata": {},
   "outputs": [
    {
     "data": {
      "text/plain": [
       "(2384, 4)"
      ]
     },
     "execution_count": 49,
     "metadata": {},
     "output_type": "execute_result"
    }
   ],
   "source": [
    "genomes_sp_dt_nr = genomes_sp_dt[genomes_sp_dt['Not redun'] == 1]\n",
    "genomes_sp_dt_nr.shape"
   ]
  },
  {
   "cell_type": "code",
   "execution_count": 50,
   "metadata": {},
   "outputs": [
    {
     "data": {
      "text/html": [
       "<div>\n",
       "<style scoped>\n",
       "    .dataframe tbody tr th:only-of-type {\n",
       "        vertical-align: middle;\n",
       "    }\n",
       "\n",
       "    .dataframe tbody tr th {\n",
       "        vertical-align: top;\n",
       "    }\n",
       "\n",
       "    .dataframe thead th {\n",
       "        text-align: right;\n",
       "    }\n",
       "</style>\n",
       "<table border=\"1\" class=\"dataframe\">\n",
       "  <thead>\n",
       "    <tr style=\"text-align: right;\">\n",
       "      <th></th>\n",
       "      <th>Assembly Name</th>\n",
       "      <th>Organism Name</th>\n",
       "      <th>Assembly Submission Date</th>\n",
       "      <th>Not redun</th>\n",
       "    </tr>\n",
       "  </thead>\n",
       "  <tbody>\n",
       "    <tr>\n",
       "      <th>0</th>\n",
       "      <td>Abrus_2018</td>\n",
       "      <td>Abrus precatorius</td>\n",
       "      <td>2018-12-11</td>\n",
       "      <td>1</td>\n",
       "    </tr>\n",
       "    <tr>\n",
       "      <th>2</th>\n",
       "      <td>ASM2408682v1</td>\n",
       "      <td>Abrus pulchellus subsp. cantoniensis</td>\n",
       "      <td>2022-07-06</td>\n",
       "      <td>1</td>\n",
       "    </tr>\n",
       "    <tr>\n",
       "      <th>3</th>\n",
       "      <td>ASM2363444v1</td>\n",
       "      <td>Abrus pulchellus subsp. cantoniensis</td>\n",
       "      <td>2022-06-02</td>\n",
       "      <td>1</td>\n",
       "    </tr>\n",
       "    <tr>\n",
       "      <th>4</th>\n",
       "      <td>ASM1902265v1</td>\n",
       "      <td>Acacia acuminata</td>\n",
       "      <td>2021-06-24</td>\n",
       "      <td>1</td>\n",
       "    </tr>\n",
       "    <tr>\n",
       "      <th>5</th>\n",
       "      <td>ASM1902261v1</td>\n",
       "      <td>Acacia melanoxylon</td>\n",
       "      <td>2021-06-24</td>\n",
       "      <td>1</td>\n",
       "    </tr>\n",
       "    <tr>\n",
       "      <th>6</th>\n",
       "      <td>ASM2556357v1</td>\n",
       "      <td>Acacia pycnantha</td>\n",
       "      <td>2022-10-06</td>\n",
       "      <td>1</td>\n",
       "    </tr>\n",
       "    <tr>\n",
       "      <th>7</th>\n",
       "      <td>ASM1991499v1</td>\n",
       "      <td>Acanthochlamys bracteata</td>\n",
       "      <td>2021-09-09</td>\n",
       "      <td>1</td>\n",
       "    </tr>\n",
       "    <tr>\n",
       "      <th>8</th>\n",
       "      <td>ASM2559438v1</td>\n",
       "      <td>Acer negundo</td>\n",
       "      <td>2022-10-06</td>\n",
       "      <td>1</td>\n",
       "    </tr>\n",
       "    <tr>\n",
       "      <th>9</th>\n",
       "      <td>AYv1.1</td>\n",
       "      <td>Acer yangbiense</td>\n",
       "      <td>2019-08-23</td>\n",
       "      <td>1</td>\n",
       "    </tr>\n",
       "    <tr>\n",
       "      <th>10</th>\n",
       "      <td>ASM966300v1</td>\n",
       "      <td>Actinidia chinensis</td>\n",
       "      <td>2019-11-14</td>\n",
       "      <td>1</td>\n",
       "    </tr>\n",
       "  </tbody>\n",
       "</table>\n",
       "</div>"
      ],
      "text/plain": [
       "   Assembly Name                         Organism Name  \\\n",
       "0     Abrus_2018                     Abrus precatorius   \n",
       "2   ASM2408682v1  Abrus pulchellus subsp. cantoniensis   \n",
       "3   ASM2363444v1  Abrus pulchellus subsp. cantoniensis   \n",
       "4   ASM1902265v1                      Acacia acuminata   \n",
       "5   ASM1902261v1                    Acacia melanoxylon   \n",
       "6   ASM2556357v1                      Acacia pycnantha   \n",
       "7   ASM1991499v1              Acanthochlamys bracteata   \n",
       "8   ASM2559438v1                          Acer negundo   \n",
       "9         AYv1.1                       Acer yangbiense   \n",
       "10   ASM966300v1                   Actinidia chinensis   \n",
       "\n",
       "   Assembly Submission Date  Not redun  \n",
       "0                2018-12-11          1  \n",
       "2                2022-07-06          1  \n",
       "3                2022-06-02          1  \n",
       "4                2021-06-24          1  \n",
       "5                2021-06-24          1  \n",
       "6                2022-10-06          1  \n",
       "7                2021-09-09          1  \n",
       "8                2022-10-06          1  \n",
       "9                2019-08-23          1  \n",
       "10               2019-11-14          1  "
      ]
     },
     "execution_count": 50,
     "metadata": {},
     "output_type": "execute_result"
    }
   ],
   "source": [
    "genomes_sp_dt_nr.head(10)"
   ]
  },
  {
   "cell_type": "markdown",
   "metadata": {},
   "source": [
    "### Number of genus and species"
   ]
  },
  {
   "cell_type": "code",
   "execution_count": 51,
   "metadata": {},
   "outputs": [],
   "source": [
    "\n",
    "def count_num_org_genus(org_names):\n",
    "  '''Determine teh number of organisms and genus given a list of organism names\n",
    "  Args:\n",
    "    org_names (list): org names with genus and in some cases species or isolate\n",
    "      info.\n",
    "  Return:\n",
    "    org_counts (dict): {organism: count}\n",
    "    genus_counts (dict): {genus: count}\n",
    "  ''' \n",
    "\n",
    "  org_counts   = {} # {organism: count}\n",
    "  genus_counts = {} # {genus: count}\n",
    "\n",
    "  for name in org_names:\n",
    "    genus = name.split(' ')[0]\n",
    "    if name not in org_counts:\n",
    "      org_counts[name] = 1\n",
    "    else:\n",
    "      org_counts[name]+= 1\n",
    "\n",
    "    if genus not in genus_counts:\n",
    "      genus_counts[genus] = 1\n",
    "    else:\n",
    "      genus_counts[genus]+= 1\n",
    "\n",
    "  return org_counts, genus_counts"
   ]
  },
  {
   "cell_type": "code",
   "execution_count": 52,
   "metadata": {},
   "outputs": [],
   "source": [
    "org_names = genomes_sp_dt_nr['Organism Name'].values\n",
    "org_counts, genus_counts = count_num_org_genus(org_names)"
   ]
  },
  {
   "cell_type": "code",
   "execution_count": 53,
   "metadata": {},
   "outputs": [
    {
     "name": "stdout",
     "output_type": "stream",
     "text": [
      "Organisms:1231, genus:559\n"
     ]
    }
   ],
   "source": [
    "print(f\"Organisms:{len(org_counts)}, genus:{len(genus_counts)}\")"
   ]
  },
  {
   "cell_type": "markdown",
   "metadata": {},
   "source": [
    "### Add a year column"
   ]
  },
  {
   "cell_type": "code",
   "execution_count": 58,
   "metadata": {},
   "outputs": [
    {
     "name": "stderr",
     "output_type": "stream",
     "text": [
      "/tmp/ipykernel_252/274666305.py:3: SettingWithCopyWarning: \n",
      "A value is trying to be set on a copy of a slice from a DataFrame.\n",
      "Try using .loc[row_indexer,col_indexer] = value instead\n",
      "\n",
      "See the caveats in the documentation: https://pandas.pydata.org/pandas-docs/stable/user_guide/indexing.html#returning-a-view-versus-a-copy\n",
      "  genomes_sp_dt_nr[\"Year\"] = dt_yrs\n"
     ]
    },
    {
     "data": {
      "text/html": [
       "<div>\n",
       "<style scoped>\n",
       "    .dataframe tbody tr th:only-of-type {\n",
       "        vertical-align: middle;\n",
       "    }\n",
       "\n",
       "    .dataframe tbody tr th {\n",
       "        vertical-align: top;\n",
       "    }\n",
       "\n",
       "    .dataframe thead th {\n",
       "        text-align: right;\n",
       "    }\n",
       "</style>\n",
       "<table border=\"1\" class=\"dataframe\">\n",
       "  <thead>\n",
       "    <tr style=\"text-align: right;\">\n",
       "      <th></th>\n",
       "      <th>Assembly Name</th>\n",
       "      <th>Organism Name</th>\n",
       "      <th>Assembly Submission Date</th>\n",
       "      <th>Not redun</th>\n",
       "      <th>Year</th>\n",
       "    </tr>\n",
       "  </thead>\n",
       "  <tbody>\n",
       "    <tr>\n",
       "      <th>0</th>\n",
       "      <td>Abrus_2018</td>\n",
       "      <td>Abrus precatorius</td>\n",
       "      <td>2018-12-11</td>\n",
       "      <td>1</td>\n",
       "      <td>2018</td>\n",
       "    </tr>\n",
       "    <tr>\n",
       "      <th>2</th>\n",
       "      <td>ASM2408682v1</td>\n",
       "      <td>Abrus pulchellus subsp. cantoniensis</td>\n",
       "      <td>2022-07-06</td>\n",
       "      <td>1</td>\n",
       "      <td>2022</td>\n",
       "    </tr>\n",
       "  </tbody>\n",
       "</table>\n",
       "</div>"
      ],
      "text/plain": [
       "  Assembly Name                         Organism Name  \\\n",
       "0    Abrus_2018                     Abrus precatorius   \n",
       "2  ASM2408682v1  Abrus pulchellus subsp. cantoniensis   \n",
       "\n",
       "  Assembly Submission Date  Not redun  Year  \n",
       "0               2018-12-11          1  2018  \n",
       "2               2022-07-06          1  2022  "
      ]
     },
     "execution_count": 58,
     "metadata": {},
     "output_type": "execute_result"
    }
   ],
   "source": [
    "dt_strs = genomes_sp_dt_nr['Assembly Submission Date']\n",
    "dt_yrs  = [int(dt_str.split('-')[0]) for dt_str in dt_strs]\n",
    "genomes_sp_dt_nr[\"Year\"] = dt_yrs\n",
    "genomes_sp_dt_nr.head(2)"
   ]
  },
  {
   "cell_type": "markdown",
   "metadata": {},
   "source": [
    "### Get counts for different years"
   ]
  },
  {
   "cell_type": "code",
   "execution_count": 59,
   "metadata": {},
   "outputs": [
    {
     "data": {
      "text/plain": [
       "array([2004, 2005, 2007, 2008, 2009, 2010, 2011, 2012, 2013, 2014, 2015,\n",
       "       2016, 2017, 2018, 2019, 2020])"
      ]
     },
     "execution_count": 59,
     "metadata": {},
     "output_type": "execute_result"
    }
   ],
   "source": [
    "# only include records till 2020\n",
    "yrs = np.unique(dt_yrs)[:-2]\n",
    "yrs"
   ]
  },
  {
   "cell_type": "code",
   "execution_count": 67,
   "metadata": {},
   "outputs": [],
   "source": [
    "count_yr_dict = {} # {yr:[num_org_yr, num_gen_yr]}\n",
    "org_yr_list = []\n",
    "gen_yr_list = []\n",
    "for yr in yrs:\n",
    "  org_nm_yr = genomes_sp_dt_nr[genomes_sp_dt_nr['Year'] == yr]['Organism Name']\n",
    "  org_counts_yr, genus_counts_yr = count_num_org_genus(org_nm_yr)\n",
    "  num_org_yr = len(org_counts_yr)\n",
    "  num_gen_yr = len(genus_counts_yr)\n",
    "  count_yr_dict[yr] = [num_org_yr, num_gen_yr]\n",
    "  org_yr_list.append(num_org_yr)\n",
    "  gen_yr_list.append(num_gen_yr)\n",
    "  "
   ]
  },
  {
   "cell_type": "code",
   "execution_count": 101,
   "metadata": {},
   "outputs": [
    {
     "data": {
      "image/png": "[encoded data removed]",
      "text/plain": [
       "<Figure size 432x288 with 1 Axes>"
      ]
     },
     "metadata": {
      "needs_background": "light"
     },
     "output_type": "display_data"
    }
   ],
   "source": [
    "barWidth = 0.4\n",
    "br1 = np.arange(len(yrs))\n",
    "br2 = [x + barWidth for x in br1]\n",
    "plt.bar(br1, gen_yr_list, width=barWidth, color='royalblue', label='Genus')\n",
    "plt.bar(br2, org_yr_list, width=barWidth, color='lightsalmon', label='Organisms')\n",
    "plt.xticks([r + barWidth for r in range(len(yrs))], yrs, rotation=90)\n",
    "plt.xlabel(\"Year\")\n",
    "plt.ylabel(\"Number of taxa with NCBI assemblies\")\n",
    "plt.legend()\n",
    "plt.tight_layout()\n",
    "plt.savefig(work_dir / 'fig5_2_numbers_org_genus_with_assemblies_per_year.pdf')\n"
   ]
  },
  {
   "cell_type": "markdown",
   "metadata": {},
   "source": [
    "### Get counts for new genus/organisms per year"
   ]
  },
  {
   "cell_type": "code",
   "execution_count": 106,
   "metadata": {},
   "outputs": [],
   "source": [
    "org_dict = {}    # {organism:year_1st_appear}\n",
    "#gen_dict = {}    # {genus:year_1st_appear}\n",
    "new_org_yr_list = []\n",
    "new_gen_yr_list = []\n",
    "for yr in yrs:\n",
    "  org_nm_yr = genomes_sp_dt_nr[genomes_sp_dt_nr['Year'] == yr]['Organism Name']\n",
    "  # check if organism or genus is new new\n",
    "\n",
    "  idx_qualified = []\n",
    "  for idx, org in enumerate(org_nm_yr):\n",
    "    genus = org.split(' ')[0]\n",
    "    if org not in org_dict:\n",
    "      org_dict[org]   = yr\n",
    "      idx_qualified.append(idx)\n",
    "\n",
    "    # Realize that this is not needed\n",
    "    #if genus not in gen_dict:\n",
    "    #  gen_dict[genus] = yr\n",
    "\n",
    "  # Get qualified rows from org_num_yr\n",
    "  org_nm_yr_q = org_nm_yr.iloc[idx_qualified]\n",
    "  #print(org_nm_yr.shape, org_nm_yr_q.shape)\n",
    "\n",
    "  org_counts_yr, genus_counts_yr = count_num_org_genus(org_nm_yr_q)\n",
    "  num_org_yr = len(org_counts_yr)\n",
    "  num_gen_yr = len(genus_counts_yr)\n",
    "  count_yr_dict[yr] = [num_org_yr, num_gen_yr]\n",
    "  new_org_yr_list.append(num_org_yr)\n",
    "  new_gen_yr_list.append(num_gen_yr)"
   ]
  },
  {
   "cell_type": "code",
   "execution_count": 107,
   "metadata": {},
   "outputs": [
    {
     "data": {
      "image/png": "[encoded data removed]",
      "text/plain": [
       "<Figure size 432x288 with 1 Axes>"
      ]
     },
     "metadata": {
      "needs_background": "light"
     },
     "output_type": "display_data"
    }
   ],
   "source": [
    "barWidth = 0.4\n",
    "br1 = np.arange(len(yrs))\n",
    "br2 = [x + barWidth for x in br1]\n",
    "plt.bar(br1, new_gen_yr_list, width=barWidth, color='royalblue', label='Genus')\n",
    "plt.bar(br2, new_org_yr_list, width=barWidth, color='lightsalmon', label='Organisms')\n",
    "plt.xticks([r + barWidth for r in range(len(yrs))], yrs, rotation=90)\n",
    "plt.xlabel(\"Year\")\n",
    "plt.ylabel(\"Number of new taxa with NCBI assemblies\")\n",
    "plt.legend()\n",
    "plt.tight_layout()\n",
    "plt.savefig(work_dir / 'fig5_2_numbers_new_org_genus_with_assemblies_per_year.pdf')\n"
   ]
  },
  {
   "cell_type": "code",
   "execution_count": null,
   "metadata": {},
   "outputs": [],
   "source": []
  }
 ],
 "metadata": {
  "kernelspec": {
   "display_name": "Python 3.10.6 ('sklearn': conda)",
   "language": "python",
   "name": "python3"
  },
  "language_info": {
   "codemirror_mode": {
    "name": "ipython",
    "version": 3
   },
   "file_extension": ".py",
   "mimetype": "text/x-python",
   "name": "python",
   "nbconvert_exporter": "python",
   "pygments_lexer": "ipython3",
   "version": "3.10.6"
  },
  "orig_nbformat": 4,
  "vscode": {
   "interpreter": {
    "hash": "b31353e0b5417ab1909bc62ced18dcd0f4fa5d6ceab54c18c132f16ad2bde54b"
   }
  }
 },
 "nbformat": 4,
 "nbformat_minor": 2
}
