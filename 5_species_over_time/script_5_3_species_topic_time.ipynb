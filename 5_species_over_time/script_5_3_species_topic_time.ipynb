{
 "cells": [
  {
   "attachments": {},
   "cell_type": "markdown",
   "metadata": {},
   "source": [
    "# __Step 5.3: Speices, topic, and time__\n",
    "\n",
    "Questions:\n",
    "- What taxa tend to be worked on in a topic?\n",
    "- Are there different focal species for a topic over time?\n",
    "\n",
    "To do:\n",
    "- Taxa over/under-represented in a topic\n",
    "  - Focus on the genus level, top 100\n",
    "  - Must include bioenergy related taxa: Populus, Sorghum, Panicum\n",
    "- Taxa over/under-represented in a topic/time bin\n",
    "  - Focus on a few example genus:\n",
    "    - Arabidopsis, Solanum, Oryza, Zea, Populus, Sorghum, Panicum\n",
    "\n",
    "Other thoughts:\n",
    "- Analyzed an emerging field, e.g., bioenergy research\n",
    "  - Keywords: bioenergy/biofuek/feedstock/"
   ]
  },
  {
   "attachments": {},
   "cell_type": "markdown",
   "metadata": {},
   "source": [
    "## ___Set up___"
   ]
  },
  {
   "attachments": {},
   "cell_type": "markdown",
   "metadata": {},
   "source": [
    "### Module import"
   ]
  },
  {
   "cell_type": "code",
   "execution_count": 1,
   "metadata": {},
   "outputs": [],
   "source": [
    "import pickle, itertools\n",
    "import numpy as np\n",
    "import pandas as pd\n",
    "import matplotlib as mpl\n",
    "import matplotlib.pyplot as plt\n",
    "from pathlib import Path\n",
    "from tqdm import tqdm\n",
    "from scipy.stats import fisher_exact\n",
    "from multiprocessing.pool import Pool\n",
    "from functools import partial"
   ]
  },
  {
   "attachments": {},
   "cell_type": "markdown",
   "metadata": {},
   "source": [
    "### Key variables"
   ]
  },
  {
   "cell_type": "code",
   "execution_count": 2,
   "metadata": {},
   "outputs": [],
   "source": [
    "# Reproducibility\n",
    "seed = 20220609\n",
    "\n",
    "# Setting working directory\n",
    "proj_dir   = Path.home() / \"projects/plant_sci_hist\"\n",
    "work_dir   = proj_dir / \"5_species_over_time/5_3_sp_topic_time\"\n",
    "work_dir.mkdir(parents=True, exist_ok=True)\n",
    "\n",
    "# topic assignment\n",
    "dir42             = proj_dir / \"4_topic_model/4_2_outlier_assign\"\n",
    "file_topic_assign = dir42 / \"table4_2_corpus_with_topic_assignment.tsv.gz\"\n",
    "\n",
    "# topic name\n",
    "dir44             = proj_dir / \"4_topic_model/4_4_over_time\"\n",
    "file_topic_name   = dir44 / \"fig4_4_tot_heatmap_weighted_xscaled_names.txt\"\n",
    "\n",
    "# species-time analysis folder\n",
    "dir51 = proj_dir / \"5_species_over_time/5_1_sp_time\"\n",
    "# taxa count sparse matrices and corresponding taxa names\n",
    "file_csr_fam      = dir51 / \"match_csr_family.pickle\"\n",
    "file_csr_fam_nm   = dir51 / \"match_csr_family_names.pickle\"\n",
    "file_csr_genus    = dir51 / \"match_csr_genus.pickle\"\n",
    "file_csr_genus_nm = dir51 / \"match_csr_genus_names.pickle\"\n",
    "# taxa count time series\n",
    "file_ts_genus     = dir51 / \"Table5_1_ts_genusALL_count.txt\"\n",
    "#file_ts_fam       = dir51 / \"Table5_1_ts_familyALL_count.txt\"\n",
    "\n",
    "# So PDF is saved in a format properly\n",
    "mpl.rcParams['pdf.fonttype'] = 42\n",
    "plt.rcParams[\"font.family\"] = \"sans-serif\""
   ]
  },
  {
   "attachments": {},
   "cell_type": "markdown",
   "metadata": {},
   "source": [
    "## ___Process topic data___"
   ]
  },
  {
   "attachments": {},
   "cell_type": "markdown",
   "metadata": {},
   "source": [
    "### Read topic assignment"
   ]
  },
  {
   "cell_type": "code",
   "execution_count": 3,
   "metadata": {},
   "outputs": [
    {
     "data": {
      "text/plain": [
       "(421658, 12)"
      ]
     },
     "execution_count": 3,
     "metadata": {},
     "output_type": "execute_result"
    }
   ],
   "source": [
    "#https://stackoverflow.com/questions/35101093/load-directly-gz-file-into-pandas-dataframe\n",
    "#https://www.delftstack.com/howto/python-pandas/pandas-read-gz-file/\n",
    "#https://stackoverflow.com/questions/36519086/how-to-get-rid-of-unnamed-0-column-in-a-pandas-dataframe-read-in-from-csv-fil\n",
    "\n",
    "# topic data-frame\n",
    "tdf = pd.read_csv(file_topic_assign, sep='\\t', compression='gzip', index_col=[0])\n",
    "tdf.shape"
   ]
  },
  {
   "cell_type": "code",
   "execution_count": 4,
   "metadata": {},
   "outputs": [
    {
     "data": {
      "text/html": [
       "<div>\n",
       "<style scoped>\n",
       "    .dataframe tbody tr th:only-of-type {\n",
       "        vertical-align: middle;\n",
       "    }\n",
       "\n",
       "    .dataframe tbody tr th {\n",
       "        vertical-align: top;\n",
       "    }\n",
       "\n",
       "    .dataframe thead th {\n",
       "        text-align: right;\n",
       "    }\n",
       "</style>\n",
       "<table border=\"1\" class=\"dataframe\">\n",
       "  <thead>\n",
       "    <tr style=\"text-align: right;\">\n",
       "      <th></th>\n",
       "      <th>Index_1385417</th>\n",
       "      <th>PMID</th>\n",
       "      <th>Date</th>\n",
       "      <th>Journal</th>\n",
       "      <th>Title</th>\n",
       "      <th>Abstract</th>\n",
       "      <th>Initial filter qualifier</th>\n",
       "      <th>Corpus</th>\n",
       "      <th>reg_article</th>\n",
       "      <th>Text classification score</th>\n",
       "      <th>Preprocessed corpus</th>\n",
       "      <th>Topic</th>\n",
       "    </tr>\n",
       "  </thead>\n",
       "  <tbody>\n",
       "    <tr>\n",
       "      <th>0</th>\n",
       "      <td>3</td>\n",
       "      <td>61</td>\n",
       "      <td>1975-12-11</td>\n",
       "      <td>Biochimica et biophysica acta</td>\n",
       "      <td>Identification of the 120 mus phase in the dec...</td>\n",
       "      <td>After a 500 mus laser flash a 120 mus phase in...</td>\n",
       "      <td>spinach</td>\n",
       "      <td>Identification of the 120 mus phase in the dec...</td>\n",
       "      <td>1</td>\n",
       "      <td>0.716394</td>\n",
       "      <td>identification 120 mus phase decay delayed flu...</td>\n",
       "      <td>52</td>\n",
       "    </tr>\n",
       "  </tbody>\n",
       "</table>\n",
       "</div>"
      ],
      "text/plain": [
       "   Index_1385417  PMID        Date                        Journal  \\\n",
       "0              3    61  1975-12-11  Biochimica et biophysica acta   \n",
       "\n",
       "                                               Title  \\\n",
       "0  Identification of the 120 mus phase in the dec...   \n",
       "\n",
       "                                            Abstract Initial filter qualifier  \\\n",
       "0  After a 500 mus laser flash a 120 mus phase in...                  spinach   \n",
       "\n",
       "                                              Corpus  reg_article  \\\n",
       "0  Identification of the 120 mus phase in the dec...            1   \n",
       "\n",
       "   Text classification score  \\\n",
       "0                   0.716394   \n",
       "\n",
       "                                 Preprocessed corpus  Topic  \n",
       "0  identification 120 mus phase decay delayed flu...     52  "
      ]
     },
     "execution_count": 4,
     "metadata": {},
     "output_type": "execute_result"
    }
   ],
   "source": [
    "tdf.head(1)"
   ]
  },
  {
   "cell_type": "code",
   "execution_count": 5,
   "metadata": {},
   "outputs": [
    {
     "data": {
      "text/plain": [
       "(numpy.ndarray, (421658,))"
      ]
     },
     "execution_count": 5,
     "metadata": {},
     "output_type": "execute_result"
    }
   ],
   "source": [
    "toc_array = tdf['Topic'].values\n",
    "type(toc_array), toc_array.shape"
   ]
  },
  {
   "cell_type": "code",
   "execution_count": 6,
   "metadata": {},
   "outputs": [
    {
     "data": {
      "text/plain": [
       "(421658, 895)"
      ]
     },
     "execution_count": 6,
     "metadata": {},
     "output_type": "execute_result"
    }
   ],
   "source": [
    "# map True/False to 1/0\n",
    "#https://stackoverflow.com/questions/17383094/how-can-i-map-true-false-to-1-0-in-a-pandas-dataframe\n",
    "\n",
    "toc0 = (toc_array==0).astype(int)\n",
    "len(toc0), sum(toc0)"
   ]
  },
  {
   "cell_type": "markdown",
   "metadata": {},
   "source": [
    "### Set key numbers for topics"
   ]
  },
  {
   "cell_type": "code",
   "execution_count": 7,
   "metadata": {},
   "outputs": [
    {
     "data": {
      "text/plain": [
       "(49228, 421658)"
      ]
     },
     "execution_count": 7,
     "metadata": {},
     "output_type": "execute_result"
    }
   ],
   "source": [
    "# topic indices\n",
    "tocs = np.unique(toc_array)\n",
    "\n",
    "# exclude topic=-1\n",
    "tocs_90 = tocs[1:]\n",
    "\n",
    "# number of topic=-1\n",
    "n_rec_toc_unassigned = sum((toc_array==-1).astype(int))\n",
    "\n",
    "# number of docs with topic assignment. Originally was thinking about minus\n",
    "# unassigned, but realize that the totol for taxa would be the number of total\n",
    "# docs, so it does not make sense to remove unassigned.\n",
    "n_rec_total  = len(toc_array)\n",
    "\n",
    "n_rec_toc_unassigned, n_rec_total "
   ]
  },
  {
   "attachments": {},
   "cell_type": "markdown",
   "metadata": {},
   "source": [
    "### Read topic names"
   ]
  },
  {
   "cell_type": "code",
   "execution_count": 8,
   "metadata": {},
   "outputs": [
    {
     "data": {
      "text/html": [
       "<div>\n",
       "<style scoped>\n",
       "    .dataframe tbody tr th:only-of-type {\n",
       "        vertical-align: middle;\n",
       "    }\n",
       "\n",
       "    .dataframe tbody tr th {\n",
       "        vertical-align: top;\n",
       "    }\n",
       "\n",
       "    .dataframe thead th {\n",
       "        text-align: right;\n",
       "    }\n",
       "</style>\n",
       "<table border=\"1\" class=\"dataframe\">\n",
       "  <thead>\n",
       "    <tr style=\"text-align: right;\">\n",
       "      <th></th>\n",
       "      <th>Topic</th>\n",
       "      <th>Mod_name</th>\n",
       "    </tr>\n",
       "  </thead>\n",
       "  <tbody>\n",
       "    <tr>\n",
       "      <th>0</th>\n",
       "      <td>22</td>\n",
       "      <td>enzyme | fatty acids | lipid | synthesis</td>\n",
       "    </tr>\n",
       "    <tr>\n",
       "      <th>1</th>\n",
       "      <td>18</td>\n",
       "      <td>protein | dna | rna | synthesis | mrna</td>\n",
       "    </tr>\n",
       "  </tbody>\n",
       "</table>\n",
       "</div>"
      ],
      "text/plain": [
       "   Topic                                  Mod_name\n",
       "0     22  enzyme | fatty acids | lipid | synthesis\n",
       "1     18    protein | dna | rna | synthesis | mrna"
      ]
     },
     "execution_count": 8,
     "metadata": {},
     "output_type": "execute_result"
    }
   ],
   "source": [
    "toc_names = pd.read_csv(file_topic_name, sep='\\t')\n",
    "toc_names.head(2)"
   ]
  },
  {
   "attachments": {},
   "cell_type": "markdown",
   "metadata": {},
   "source": [
    "## ___Species representation among topics___\n",
    "\n",
    "|              | In topic T | Not in topic T |\n",
    "| ---          | ---        | ---            |\n",
    "|In taxa X     | a          | b              |\n",
    "|Not in taxa X | c          | d              |\n"
   ]
  },
  {
   "attachments": {},
   "cell_type": "markdown",
   "metadata": {},
   "source": [
    "### Function for dealing with matching non-zero values between two arrays\n",
    "\n",
    "- `toc_array` is a numpy array. \n",
    "- `csr_genus` is a sparse matrix. \n",
    "  - Cannot easily convert `csr_genus` column (like `csr_genus[:,0]`) into an array because it is till a sparse matrix of dimension (421658, 1) which with `toarray()` will become a (421658, 421658) dense array. Not good.\n",
    "- Work on non-zero indices instead.\n",
    "- Got ideas from the following posts:\n",
    "  - [access row/col of a csr](https://stackoverflow.com/questions/25310760/access-a-particular-row-column-in-a-csr-matrix)\n",
    "  - [boolean to int array](https://stackoverflow.com/questions/16869990/how-to-convert-from-boolean-array-to-int-array-in-python)\n",
    "  - [Flipping 0 and 1 in an array](https://stackoverflow.com/questions/26890477/flipping-zeroes-and-ones-in-one-dimensional-numpy-array)\n",
    "  - [Convert a row matrix to a numpy array](https://stackoverflow.com/questions/38405047/how-to-convert-a-scipy-row-matrix-into-a-numpy-array)\n",
    "  - [Boolean array, index of true](https://stackoverflow.com/questions/36941294/find-the-index-of-a-boolean-array-whose-values-are-true)\n",
    "  - [non-zero values in sparse array](https://stackoverflow.com/questions/40984516/most-efficient-way-of-accessing-non-zero-values-in-row-column-in-scipy-sparse-ma)\n",
    "  - [iterate through sparse matrix](https://stackoverflow.com/questions/4319014/iterating-through-a-scipy-sparse-vector-or-matrix)\n"
   ]
  },
  {
   "cell_type": "code",
   "execution_count": 9,
   "metadata": {},
   "outputs": [],
   "source": [
    "##https://stackoverflow.com/questions/13070461/get-indices-of-the-top-n-values-of-a-list\n",
    "def get_topX(mat_taxa, topX):\n",
    "  '''Get the topX taxa based on total counts\n",
    "  Args:\n",
    "   mat_taxa (csr): record (rows), taxa_idx (column)\n",
    "   topX (int): top X taxa with the higher number of records\n",
    "  Return:\n",
    "   mat_taxa_topX (csr): sub-matrix of the topX taxa\n",
    "  '''\n",
    "\n",
    "  col_sum  = np.squeeze(np.asarray(csr_genus.sum(axis=0)))\n",
    "  topX_idx = np.argpartition(col_sum, -topX)[-topX:]\n",
    "\n",
    "  mat_taxa_topX = mat_taxa[:, topX_idx]\n",
    "\n",
    "  return mat_taxa_topX"
   ]
  },
  {
   "cell_type": "code",
   "execution_count": 10,
   "metadata": {},
   "outputs": [],
   "source": [
    "def fet(tax_idx):\n",
    "  '''Function for calculating Fisher's exact test statistics\n",
    "  Args:\n",
    "    tax_idx (int): taxa index, i.e., the column index in mat_taxa\n",
    "  Return:\n",
    "    tax_idx (int): because this is called by multiprocessing Pool, starting out\n",
    "      I have no idea which tax_idx is being processed, so this is returned.\n",
    "    res (tuple): a tuple from fisher_exact() with (FET_statistic, p-value)\n",
    "  '''\n",
    "\n",
    "  # csr_matrix with info on whether a record mention a taxa. This has a\n",
    "  # dimension of (421658,1).\n",
    "  # convert to a coo matrix for more efficient operation next\n",
    "  tax_in_mat = mat_taxa[:,tax_idx].tocoo()\n",
    "\n",
    "  # Get non-zero row indices for a taxa\n",
    "  tax_in = []\n",
    "  for r, c in zip(tax_in_mat.row, tax_in_mat.col):\n",
    "    tax_in.append(r)\n",
    "  tax_in = set(tax_in)\n",
    "  \n",
    "  # Get numbers for fisher test\n",
    "  # in: in a toc (T) or taxa (X)\n",
    "  # ni: not in T or X\n",
    "  n_inX = len(tax_in)\n",
    "  n_inT_inX = len(list(toc_in.intersection(tax_in)))\n",
    "  n_inT_niX = n_inT - n_inT_inX\n",
    "  n_niT_inX = n_inX - n_inT_inX\n",
    "  n_niT_niX = n_total - n_inT_inX - n_inT_niX - n_niT_inX\n",
    "  res = fisher_exact([[n_inT_inX, n_inT_niX], \n",
    "                      [n_niT_inX, n_niT_niX]], alternative='two-sided')\n",
    "  \n",
    "  return tax_idx, res"
   ]
  },
  {
   "attachments": {},
   "cell_type": "markdown",
   "metadata": {},
   "source": [
    "### Genus level\n",
    "\n",
    "- Genus count matrix: (421658, 16794)\n",
    "  - row: each record\n",
    "  - col: each taxa\n",
    "- Genus name list: 16794"
   ]
  },
  {
   "cell_type": "markdown",
   "metadata": {},
   "source": [
    "#### Read genus count matrix and genus names"
   ]
  },
  {
   "cell_type": "code",
   "execution_count": 11,
   "metadata": {},
   "outputs": [
    {
     "data": {
      "text/plain": [
       "((421658, 16794), 16794)"
      ]
     },
     "execution_count": 11,
     "metadata": {},
     "output_type": "execute_result"
    }
   ],
   "source": [
    "with open(file_csr_genus, \"rb\") as f:\n",
    "  csr_genus = pickle.load(f)\n",
    "\n",
    "with open(file_csr_genus_nm, \"rb\") as f:\n",
    "  csr_genus_nm = pickle.load(f)\n",
    "\n",
    "csr_genus.shape, len(csr_genus_nm)"
   ]
  },
  {
   "cell_type": "markdown",
   "metadata": {},
   "source": [
    "#### Genus top 100"
   ]
  },
  {
   "cell_type": "code",
   "execution_count": 12,
   "metadata": {},
   "outputs": [
    {
     "data": {
      "text/plain": [
       "(421658, 100)"
      ]
     },
     "execution_count": 12,
     "metadata": {},
     "output_type": "execute_result"
    }
   ],
   "source": [
    "# Get top 100 genus matrix\n",
    "topX = 100\n",
    "mat_genus_topX = get_topX(csr_genus, topX)\n",
    "mat_genus_topX.shape"
   ]
  },
  {
   "cell_type": "code",
   "execution_count": 13,
   "metadata": {},
   "outputs": [
    {
     "name": "stderr",
     "output_type": "stream",
     "text": [
      "100%|██████████| 90/90 [00:40<00:00,  2.23it/s]\n"
     ]
    }
   ],
   "source": [
    "# Get counts for topic/taxa combo\n",
    "mat_taxa = mat_genus_topX\n",
    "num_taxa = mat_taxa.shape[1]\n",
    "\n",
    "toc_tax_pvalue = {} # {topic_idx:{taxa_idx:fisher exact test pvalue}}\n",
    "n_total        = len(toc_array) # total number of records\n",
    "# iterate through tocs\n",
    "for toc_idx in tqdm(tocs_90):\n",
    "\n",
    "  # indices of True (i.e., in a topic), nonzero return a nested tuple\n",
    "  toc_in  = set((toc_array==toc_idx).nonzero()[0])\n",
    "\n",
    "  # number of records in a topic\n",
    "  n_inT   = len(toc_in)\n",
    "  #print(f\"topic:{toc_idx}, n_recods:{n_inT}\")\n",
    "\n",
    "  toc_tax_pvalue[toc_idx] = {}\n",
    "  \n",
    "  with Pool() as pool:\n",
    "    for tax_idx, res in pool.imap(fet, range(num_taxa)):\n",
    "      # store pvalue\n",
    "      toc_tax_pvalue[toc_idx][tax_idx] = res[1]\n"
   ]
  },
  {
   "cell_type": "code",
   "execution_count": 14,
   "metadata": {},
   "outputs": [],
   "source": [
    "file_toc_tax_pval = work_dir / 'toc_genus_pvalue.pickle'\n",
    "with open(file_toc_tax_pval, 'wb') as f:\n",
    "  pickle.dump(toc_tax_pvalue, f)"
   ]
  },
  {
   "cell_type": "markdown",
   "metadata": {},
   "source": [
    "## ___Species/topic representation over time___"
   ]
  },
  {
   "cell_type": "code",
   "execution_count": null,
   "metadata": {},
   "outputs": [],
   "source": []
  },
  {
   "cell_type": "code",
   "execution_count": null,
   "metadata": {},
   "outputs": [],
   "source": []
  },
  {
   "cell_type": "code",
   "execution_count": null,
   "metadata": {},
   "outputs": [],
   "source": []
  },
  {
   "attachments": {},
   "cell_type": "markdown",
   "metadata": {},
   "source": [
    "## ___Testing___"
   ]
  },
  {
   "cell_type": "code",
   "execution_count": null,
   "metadata": {},
   "outputs": [],
   "source": [
    "g = csr_genus[:,0].indices\n",
    "type(g), g.shape, g[:100]"
   ]
  },
  {
   "cell_type": "code",
   "execution_count": null,
   "metadata": {},
   "outputs": [],
   "source": [
    "help(g)"
   ]
  },
  {
   "cell_type": "markdown",
   "metadata": {},
   "source": [
    "### Multiprocessing implementation 1\n",
    "\n",
    "Fast (11 secs/topic)"
   ]
  },
  {
   "attachments": {},
   "cell_type": "markdown",
   "metadata": {},
   "source": [
    "### Multi-prcoessing impleentation 2\n",
    "\n",
    "So allow multiple arguments, but this is somehow really slow, even compared to non-parallized version."
   ]
  },
  {
   "cell_type": "code",
   "execution_count": null,
   "metadata": {},
   "outputs": [],
   "source": [
    "def fet(tax_idx, fet_args):\n",
    "  '''Construct 2x2 and do fisher exact test\n",
    "  Args:\n",
    "    tax_idx (int): index for taxa\n",
    "    fet_args (list): [mat_taxa, toc_in, n_inT] where:\n",
    "      mat_taxa (csr): the matrix with taxa count info\n",
    "      toc_in (array): the indices of records in a topic\n",
    "      n_inT (int): number of records in a topic\n",
    "  Return:\n",
    "    tax_idx (int): taxa index, returned because this is called with imap() and\n",
    "      i have no idea what this is.\n",
    "    res (tuple): Fisher exact test [statistic, p-value]\n",
    "  '''\n",
    "\n",
    "  # csr_matrix with info on whether a record mention a taxa. This has a\n",
    "  # dimension of (421658,1).\n",
    "  # convert to a coo matrix for more efficient operation next\n",
    "  [mat_taxa, toc_in, n_inT] = fet_args\n",
    "\n",
    "  tax_in_mat = mat_taxa[:,tax_idx].tocoo()\n",
    "\n",
    "  # Get non-zero row indices for a taxa\n",
    "  tax_in = []\n",
    "  for r, c in zip(tax_in_mat.row, tax_in_mat.col):\n",
    "    tax_in.append(r)\n",
    "  tax_in = set(tax_in)\n",
    "  \n",
    "  # Get numbers for fisher test\n",
    "  # in: in a toc (T) or taxa (X)\n",
    "  # ni: not in T or X\n",
    "  n_inX = len(tax_in)\n",
    "  n_inT_inX = len(list(toc_in.intersection(tax_in)))\n",
    "  n_inT_niX = n_inT - n_inT_inX\n",
    "  n_niT_inX = n_inX - n_inT_inX\n",
    "  n_niT_niX = n_total - n_inT_inX - n_inT_niX - n_niT_inX\n",
    "  res = fisher_exact([[n_inT_inX, n_inT_niX], \n",
    "                      [n_niT_inX, n_niT_niX]], alternative='two-sided')\n",
    "  \n",
    "  return tax_idx, res"
   ]
  },
  {
   "cell_type": "code",
   "execution_count": null,
   "metadata": {},
   "outputs": [],
   "source": [
    "def get_counts(mat_taxa):\n",
    "  '''Get counts for topic/taxa combo\n",
    "  Args:\n",
    "    mat_taxa (csr): Sparse matrix for whether a taxa (column) is present in a\n",
    "      record (row)\n",
    "  Return\n",
    "    toc_tax_pvalue (dict): {topic_idx:{taxa_idx:fisher exact test pvalue}}\n",
    "  '''\n",
    "  num_taxa = mat_taxa.shape[1]\n",
    "\n",
    "  toc_tax_pvalue = {} # {topic_idx:{taxa_idx:fisher exact test pvalue}}\n",
    "\n",
    "  # iterate through tocs\n",
    "  for toc_idx in tocs_90:\n",
    "    # indices of True (i.e., in a topic), nonzero return a nested tuple\n",
    "    toc_in   = set((toc_array==toc_idx).nonzero()[0])\n",
    "    n_inT = len(toc_in)\n",
    "    print(f\"topic:{toc_idx}, n_recods:{n_inT}\")\n",
    "\n",
    "    toc_tax_pvalue[toc_idx] = {}\n",
    "    \n",
    "    # rest of the arguments for fet()\n",
    "    fet_args = [mat_taxa, toc_in, n_inT]\n",
    "    with Pool() as pool:\n",
    "      for tax_idx, res in tqdm(\n",
    "          pool.imap(partial(fet, fet_args=fet_args), range(num_taxa)), \n",
    "          total=num_taxa):\n",
    "        # store pvalue\n",
    "        toc_tax_pvalue[toc_idx][tax_idx] = res[1]\n",
    "    break\n",
    "\n",
    "  return toc_tax_pvalue\n"
   ]
  },
  {
   "cell_type": "markdown",
   "metadata": {},
   "source": [
    "### Multiprocessing implementation 3"
   ]
  },
  {
   "cell_type": "code",
   "execution_count": null,
   "metadata": {},
   "outputs": [],
   "source": [
    "def fet(toc_idx):\n",
    "\n",
    "  # indices of True (i.e., in a topic), nonzero return a nested tuple\n",
    "  toc_in   = set((toc_array==toc_idx).nonzero()[0])\n",
    "  # number of records in a topic\n",
    "  n_inT    = len(toc_in)\n",
    "  #print(f\"topic:{toc_idx}, n_recods:{n_inT}\")\n",
    "\n",
    "  # Store p-value for each taxa\n",
    "  tax_pvalues = {} #{taxa_idx:fisher exact test pvalue}\n",
    "\n",
    "  num_taxa = mat_taxa.shape[1]\n",
    "  for tax_idx in range(num_taxa):\n",
    "    # csr_matrix with info on whether a record mention a taxa. This has a\n",
    "    # dimension of (421658,1).\n",
    "    # convert to a coo matrix for more efficient operation next\n",
    "    tax_in_mat = mat_taxa[:,tax_idx].tocoo()\n",
    "\n",
    "    # Get non-zero row indices for a taxa\n",
    "    tax_in = []\n",
    "    for r, c in zip(tax_in_mat.row, tax_in_mat.col):\n",
    "      tax_in.append(r)\n",
    "    tax_in = set(tax_in)\n",
    "    \n",
    "    # Get numbers for fisher test\n",
    "    # in: in a toc (T) or taxa (X)\n",
    "    # ni: not in T or X\n",
    "    n_inX = len(tax_in)\n",
    "    n_inT_inX = len(list(toc_in.intersection(tax_in)))\n",
    "    n_inT_niX = n_inT - n_inT_inX\n",
    "    n_niT_inX = n_inX - n_inT_inX\n",
    "    n_niT_niX = n_total - n_inT_inX - n_inT_niX - n_niT_inX\n",
    "\n",
    "    res = fisher_exact([[n_inT_inX, n_inT_niX], \n",
    "                        [n_niT_inX, n_niT_niX]], alternative='two-sided')\n",
    "    # store pvalue\n",
    "    tax_pvalues[tax_idx] = res[1]\n",
    "  \n",
    "  return toc_idx, tax_pvalues"
   ]
  },
  {
   "cell_type": "code",
   "execution_count": null,
   "metadata": {},
   "outputs": [],
   "source": [
    "# Get counts for topic/taxa combo\n",
    "mat_taxa        = csr_genus\n",
    "toc_tax_pvalues = {} # {topic_idx:{taxa_idx:fisher exact test pvalue}}\n",
    "\n",
    "# iterate through tocs\n",
    "with Pool() as pool:\n",
    "  for toc_idx, tax_pvalues in tqdm(pool.imap(fet, tocs_90), total=len(tocs_90)):\n",
    "    print(\"done:\", toc_idx)\n",
    "    toc_tax_pvalues[toc_idx] = tax_pvalues\n",
    "\n"
   ]
  },
  {
   "attachments": {},
   "cell_type": "markdown",
   "metadata": {},
   "source": [
    "### Non-parallized version\n",
    "\n",
    "Take 1 min 27 sec for just one topic."
   ]
  },
  {
   "cell_type": "code",
   "execution_count": null,
   "metadata": {},
   "outputs": [],
   "source": [
    "# Get counts for topic/taxa combo\n",
    "mat_taxa = csr_genus\n",
    "\n",
    "toc_tax_pvalue = {} # {topic_idx:{taxa_idx:fisher exact test pvalue}}\n",
    "\n",
    "# iterate through tocs\n",
    "for toc_idx in tocs_90:\n",
    "  # indices of True (i.e., in a topic), nonzero return a nested tuple\n",
    "  toc_in   = set((toc_array==toc_idx).nonzero()[0])\n",
    "  n_inT = len(toc_in)\n",
    "  print(f\"topic:{toc_idx}, n_recods:{n_inT}\")\n",
    "\n",
    "  toc_tax_pvalue[toc_idx] = {}\n",
    "  \n",
    "  for tax_idx in tqdm(range(mat_taxa.shape[1])):\n",
    "    # csr_matrix with info on whether a record mention a taxa. This has a\n",
    "    # dimension of (421658,1).\n",
    "    # convert to a coo matrix for more efficient operation next\n",
    "    tax_in_mat = mat_taxa[:,tax_idx].tocoo()\n",
    "\n",
    "    # Get non-zero row indices for a taxa\n",
    "    tax_in = []\n",
    "    for r, c in zip(tax_in_mat.row, tax_in_mat.col):\n",
    "      tax_in.append(r)\n",
    "    tax_in = set(tax_in)\n",
    "    \n",
    "    # Get numbers for fisher test\n",
    "    # in: in a toc (T) or taxa (X)\n",
    "    # ni: not in T or X\n",
    "    n_inX = len(tax_in)\n",
    "    n_inT_inX = len(list(toc_in.intersection(tax_in)))\n",
    "    n_inT_niX = n_inT - n_inT_inX\n",
    "    n_niT_inX = n_inX - n_inT_inX\n",
    "    n_niT_niX = n_total - n_inT_inX - n_inT_niX - n_niT_inX\n",
    "    res = fisher_exact([[n_inT_inX, n_inT_niX], \n",
    "                        [n_niT_inX, n_niT_niX]], alternative='two-sided')\n",
    "    \n",
    "    # store pvalue\n",
    "    toc_tax_pvalue[toc_idx][tax_idx] = res[1]\n",
    "\n",
    "  break\n"
   ]
  },
  {
   "cell_type": "code",
   "execution_count": null,
   "metadata": {},
   "outputs": [],
   "source": [
    "len((toc_array==toc_idx).nonzero()[0])"
   ]
  },
  {
   "attachments": {},
   "cell_type": "markdown",
   "metadata": {},
   "source": [
    "### Index of top x values in an array\n",
    "\n",
    "https://stackoverflow.com/questions/13070461/get-indices-of-the-top-n-values-of-a-list\n",
    "https://stackoverflow.com/questions/6910641/how-do-i-get-indices-of-n-maximum-values-in-a-numpy-array/23734295#23734295\n"
   ]
  },
  {
   "cell_type": "code",
   "execution_count": null,
   "metadata": {},
   "outputs": [],
   "source": [
    "a = [5,3,1,4,10]"
   ]
  },
  {
   "cell_type": "code",
   "execution_count": null,
   "metadata": {},
   "outputs": [],
   "source": [
    "sorted(range(len(a)), key=lambda i: a[i])[-2:]"
   ]
  },
  {
   "cell_type": "code",
   "execution_count": null,
   "metadata": {},
   "outputs": [],
   "source": [
    "sorted(range(len(a)), key=lambda i: a[i], reverse=True)[:2]"
   ]
  },
  {
   "cell_type": "code",
   "execution_count": null,
   "metadata": {},
   "outputs": [],
   "source": [
    "# Returns the indices that would sort an array\n",
    "np.argsort(a), np.argsort(a)[-2:]"
   ]
  },
  {
   "cell_type": "code",
   "execution_count": null,
   "metadata": {},
   "outputs": [],
   "source": [
    "# this is more efficient, but not sorted\n",
    "np.argpartition(a, -2), np.argpartition(a, -2)[-2:]"
   ]
  },
  {
   "cell_type": "code",
   "execution_count": null,
   "metadata": {},
   "outputs": [],
   "source": []
  }
 ],
 "metadata": {
  "kernelspec": {
   "display_name": "bertopic",
   "language": "python",
   "name": "python3"
  },
  "language_info": {
   "codemirror_mode": {
    "name": "ipython",
    "version": 3
   },
   "file_extension": ".py",
   "mimetype": "text/x-python",
   "name": "python",
   "nbconvert_exporter": "python",
   "pygments_lexer": "ipython3",
   "version": "3.9.12"
  },
  "orig_nbformat": 4
 },
 "nbformat": 4,
 "nbformat_minor": 2
}
