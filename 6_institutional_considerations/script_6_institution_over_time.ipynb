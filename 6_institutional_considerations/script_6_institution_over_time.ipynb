{
 "cells": [
  {
   "cell_type": "markdown",
   "metadata": {},
   "source": [
    "# __Step 6__\n",
    "\n",
    "Get institution over time info:\n",
    "- Particularly HBCU"
   ]
  },
  {
   "cell_type": "markdown",
   "metadata": {},
   "source": [
    "## ___Set up___"
   ]
  },
  {
   "cell_type": "markdown",
   "metadata": {},
   "source": [
    "### Module import"
   ]
  },
  {
   "cell_type": "code",
   "execution_count": null,
   "metadata": {},
   "outputs": [],
   "source": [
    "import pickle, re, multiprocessing\n",
    "import numpy as np\n",
    "import pandas as pd\n",
    "import seaborn as sns\n",
    "import matplotlib as mpl\n",
    "import matplotlib.pyplot as plt\n",
    "from pathlib import Path\n",
    "from tqdm import tqdm\n",
    "from scipy.sparse import csr_matrix, lil_matrix, coo_matrix, dok_matrix\n",
    "from time import time\n",
    "from collections import OrderedDict"
   ]
  },
  {
   "cell_type": "markdown",
   "metadata": {},
   "source": [
    "### Key variables"
   ]
  },
  {
   "cell_type": "code",
   "execution_count": null,
   "metadata": {},
   "outputs": [],
   "source": [
    "# Reproducibility\n",
    "seed = 20220609\n",
    "\n",
    "# Setting working directory\n",
    "proj_dir   = Path.home() / \"projects/plant_sci_hist\"\n",
    "work_dir   = proj_dir / \"6_institution_over_time/\"\n",
    "work_dir.mkdir(parents=True, exist_ok=True)\n",
    "\n",
    "# So PDF is saved in a format properly\n",
    "mpl.rcParams['pdf.fonttype'] = 42\n",
    "plt.rcParams[\"font.family\"] = \"sans-serif\""
   ]
  },
  {
   "cell_type": "markdown",
   "metadata": {},
   "source": [
    "## ___Functions___"
   ]
  },
  {
   "cell_type": "code",
   "execution_count": null,
   "metadata": {},
   "outputs": [],
   "source": [
    "def split_records(pubmed_file):\n",
    "  count_rec = 0\n",
    "  with open(pubmed_file, 'r') as f:\n",
    "    lines   = f.readlines()[1:]\n",
    "    records = [] # a list of strings, each element is a record\n",
    "    record  = \"\" # a temp obj to hold lines of a record\n",
    "    for line in lines:\n",
    "      line_stripped = line.strip()\n",
    "      if line_stripped == \"\":\n",
    "        records.append(record) # add to records\n",
    "        count_rec += 1\n",
    "        record     = \"\"            # reset\n",
    "      else:\n",
    "        record += line\n",
    "\n",
    "    # Add the last record\n",
    "    records.append(record)\n",
    "    count_rec += 1\n",
    "\n",
    "    print(\"Number of records=\", len(records))\n",
    "  \n",
    "  return records"
   ]
  },
  {
   "cell_type": "code",
   "execution_count": null,
   "metadata": {},
   "outputs": [],
   "source": [
    "def get_tag_info(records):\n",
    "  tags_global = {} # {tag: max_count_of_all_records}\n",
    "  for record in records:\n",
    "    tags_local = {} # {tag: max_count_for_this_record}\n",
    "    rec_lines  = record.split('\\n')\n",
    "\n",
    "    # populate the tags_local dictionary\n",
    "    for rec_line in rec_lines: \n",
    "      if len(rec_line) > 5 and rec_line[4] == \"-\":\n",
    "        tag = rec_line[:4]\n",
    "        if tag not in tags_local:\n",
    "          tags_local[tag] = 1\n",
    "        else:\n",
    "          tags_local[tag]+= 1\n",
    "    \n",
    "    # compare tags_local to tags_global\n",
    "    for tag in tags_local:\n",
    "      # If tag does not exist or local count is higher than global count\n",
    "      if tag not in tags_global or tags_global[tag] < tags_local[tag]:\n",
    "        tags_global[tag] = tags_local[tag]\n",
    "\n",
    "  return tags_global"
   ]
  },
  {
   "cell_type": "code",
   "execution_count": null,
   "metadata": {},
   "outputs": [],
   "source": [
    "def get_rec_dict(records):\n",
    "  '''Parse a list of records to get FAU (full author), AU, AD (address), TA\n",
    "    (journal title), PMID.\n",
    "  Args:\n",
    "    records (list): a list of strings from split_records\n",
    "  Return:\n",
    "    rec_dict (dict): {FAU: [{AU:1}, {AD:1}, {TA:count}, {PMID:count}]} \n",
    "  '''\n",
    "\n",
    "  rec_dict = {} \n",
    "\n",
    "  for record in tqdm(records):\n",
    "    lines    = record.split('\\n')\n",
    "    fau           = \"\" # temp string for hold fau info\n",
    "    pmid          = \"\"\n",
    "    fau_list      = [] # temp list for holding all fau of a record\n",
    "    for line in lines:\n",
    "      if len(line) < 4:\n",
    "        continue\n",
    "      \n",
    "      if line[4] == \"-\":\n",
    "        # new tag\n",
    "        tag = line[:4]       \n",
    "        val = line[6:] # tag value\n",
    "\n",
    "        # Put full author, author, address info into dictionary\n",
    "        # FAU tag\n",
    "        if tag == \"PMID\":\n",
    "          pmid =int(val)\n",
    "        elif tag == \"FAU \":\n",
    "          fau = val\n",
    "          fau_list.append(fau)\n",
    "          if fau not in rec_dict:\n",
    "            # fau will be the first one encountered, initialize empty dicts\n",
    "            rec_dict[fau] = [{}, {}, {}, {}]\n",
    "            # Put pmid info in\n",
    "            rec_dict[fau][3][pmid] = 1\n",
    "        # AU tag\n",
    "        elif tag == \"AU  \":\n",
    "          rec_dict[fau][0][val] = 1\n",
    "        # AD tag\n",
    "        elif tag == \"AD  \":\n",
    "          rec_dict[fau][1][val] = 1\n",
    "        # When getting to TA, FAU/AU/AD infos are already in, so go through all\n",
    "        # keys and add TA (tltle abbreviated) info\n",
    "        elif tag == \"TA  \":\n",
    "          #print(\"TA tag:\", val)\n",
    "          for a_fau in fau_list:\n",
    "            if val not in rec_dict[a_fau][2]:\n",
    "              #if a_fau == \"Sinha, Neelima R\": print(\"new\")\n",
    "              rec_dict[a_fau][2][val] = 1\n",
    "            else:\n",
    "              #if a_fau == \"Sinha, Neelima R\": print(\"exist\")\n",
    "              rec_dict[a_fau][2][val]+= 1\n",
    "      # do not deal with multi line situation\n",
    "      #else:\n",
    "      #  # add line to \n",
    "      #  val+= test_line[6:]\n",
    "\n",
    "  return rec_dict"
   ]
  },
  {
   "cell_type": "markdown",
   "metadata": {},
   "source": [
    "## ___Test case___"
   ]
  },
  {
   "cell_type": "code",
   "execution_count": null,
   "metadata": {},
   "outputs": [],
   "source": [
    "pubmed_file = work_dir / \"pubmed-test.out\"\n",
    "records     = split_records(pubmed_file)\n",
    "tags_global = get_tag_info(records)\n",
    "\n",
    "for tag in tags_global:\n",
    "  print(tag, tags_global[tag])"
   ]
  },
  {
   "cell_type": "code",
   "execution_count": 12,
   "metadata": {},
   "outputs": [],
   "source": [
    "# Run on all records\n",
    "rec_dict = get_rec_dict(records)"
   ]
  }
 ],
 "metadata": {
  "kernelspec": {
   "display_name": "Python 3.10.4 ('bert_finetune': conda)",
   "language": "python",
   "name": "python3"
  },
  "language_info": {
   "codemirror_mode": {
    "name": "ipython",
    "version": 3
   },
   "file_extension": ".py",
   "mimetype": "text/x-python",
   "name": "python",
   "nbconvert_exporter": "python",
   "pygments_lexer": "ipython3",
   "version": "3.10.4"
  },
  "orig_nbformat": 4,
  "vscode": {
   "interpreter": {
    "hash": "a62edfbcf39af3bfe98b03791e65c4337047c7eef8bfa85d65d3997033bead22"
   }
  }
 },
 "nbformat": 4,
 "nbformat_minor": 2
}
