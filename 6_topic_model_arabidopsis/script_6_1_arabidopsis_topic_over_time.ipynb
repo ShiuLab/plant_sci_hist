{
 "cells": [
  {
   "cell_type": "markdown",
   "metadata": {},
   "source": [
    "# __Step 6.1: Arabodopsis-related topic over time__\n",
    "\n",
    "Goals here:\n",
    "- Model topics for docs mentioning Arabidopsis\n",
    "- Model Arabidopsis topics over time\n",
    "\n",
    "Issues:\n",
    "- 10/4/22: \n",
    "  - Run BERTopic and get `RuntimeError: CUDA error: no kernel image is available for execution on the device`.\n",
    "    - Reinstall torch following advices from [here](https://github.com/NVlabs/stylegan2-ada-pytorch/issues/6) for example\n",
    "    - `conda install pytorch torchvision torchaudio cudatoolkit=11.6 -c pytorch -c conda-forge`\n",
    "  - Once updating torch, run into problem that numba requires numpy <=1.21\n",
    "    - `conda install numpy=1.21`\n",
    "  - Get `AttributeError: 'BERTopic' object has no attribute 'generate_topic_labels'`\n",
    "    - Update BERTopic: `pip install --upgrade bertopic`\n",
    "  - Get `ImportError: cannot import name 'DatasetInfo' from 'huggingface_hub.hf_api'`\n",
    "    - Update huggingface_hub\n",
    "  - Because BERTopic is updated, the c-tf-idf matrix name is changed. This is not changed for earlier codes."
   ]
  },
  {
   "cell_type": "markdown",
   "metadata": {},
   "source": [
    "## ___Set up___"
   ]
  },
  {
   "cell_type": "markdown",
   "metadata": {},
   "source": [
    "### Module import\n",
    "\n",
    "In bertopic environment"
   ]
  },
  {
   "cell_type": "code",
   "execution_count": 1,
   "metadata": {},
   "outputs": [],
   "source": [
    "import re, pickle, os, torch, csv\n",
    "import numpy as np\n",
    "import pandas as pd\n",
    "import seaborn as sns\n",
    "import matplotlib as mpl\n",
    "import matplotlib.pyplot as plt\n",
    "from pathlib import Path\n",
    "from tqdm import tqdm\n",
    "from nltk.corpus import stopwords\n",
    "from nltk.tokenize import word_tokenize\n",
    "from bertopic import BERTopic\n",
    "from sentence_transformers import SentenceTransformer\n",
    "from hdbscan import HDBSCAN\n",
    "from xlsxwriter.workbook import Workbook\n",
    "from datetime import datetime\n",
    "from bisect import bisect\n",
    "from sklearn.preprocessing import normalize\n",
    "import plotly.graph_objects as go"
   ]
  },
  {
   "cell_type": "code",
   "execution_count": 2,
   "metadata": {},
   "outputs": [
    {
     "data": {
      "text/plain": [
       "(<function torch.cuda.is_available() -> bool>, '1.12.1')"
      ]
     },
     "execution_count": 2,
     "metadata": {},
     "output_type": "execute_result"
    }
   ],
   "source": [
    "torch.cuda.is_available, torch.__version__"
   ]
  },
  {
   "cell_type": "markdown",
   "metadata": {},
   "source": [
    "### Key variables"
   ]
  },
  {
   "cell_type": "code",
   "execution_count": 3,
   "metadata": {},
   "outputs": [],
   "source": [
    "# Reproducibility\n",
    "seed = 20220609\n",
    "\n",
    "# Setting working directory\n",
    "proj_dir   = Path.home() / \"projects/plant_sci_hist\"\n",
    "work_dir   = proj_dir / \"6_topic_model_arabidopsis/\"\n",
    "work_dir.mkdir(parents=True, exist_ok=True)\n",
    "\n",
    "# plant science corpus with date and other info\n",
    "dir2        = proj_dir / \"2_text_classify//2_5_predict_pubmed\"\n",
    "corpus_file = dir2 / \"corpus_plant_421658.tsv.gz\"\n",
    "\n",
    "# Species match data\n",
    "dir5               = proj_dir / \"5_species_over_time/\"\n",
    "viridi_offspr_file = dir5 / \"viridiplantae_offspring_names.pickle\" \n",
    "match_csr_file     = dir5 / \"match_csr.pickle\"\n",
    "\n",
    "# BERT model to use\n",
    "model_name     = \"allenai/scibert_scivocab_uncased\"\n",
    "model_name_mod = \"-\".join(model_name.split(\"/\"))\n",
    "\n",
    "# the target term\n",
    "target = \"Arabidopsis\"\n",
    "\n",
    "## outputs for topic modeling\n",
    "# path for the corpus for the target (i.e., Arabidopsis)\n",
    "corpus_target_file = work_dir / \"corpus_arabidopsis.tsv.gz\"\n",
    "# generated during bertopic run\n",
    "docs_clean_file  = work_dir / f\"docs_clean_{target}.pickle\"\n",
    "emb_file         = work_dir / f\"embeddings_{target}_scibert.pickle\"\n",
    "topic_model_file = work_dir / f\"topic_model_{target}_{model_name_mod}\"\n",
    "topics_file      = work_dir / f\"topics_{target}_{model_name_mod}.pickle\"\n",
    "probs_file       = work_dir / f'probs_{target}_{model_name_mod}.pickle'\n",
    "topic_model_updated_file = work_dir / \\\n",
    "                              f\"topic_model_update_{target}_{model_name_mod}\"\n",
    "\n",
    "## outputs for topic model analysis\n",
    "top_50_terms_file = work_dir / f'top_50_terms_per_topic_{target}.pickle'\n",
    "top_50_terms_xlsx = work_dir / f'top_50_terms_per_topic_{target}.xlsx'\n",
    "topic_label_file  = work_dir / f\"topic_labels_{target}.txt\"\n",
    "rep_docs_file     = work_dir / f\"topic_rep_docs_{target}.tsv\"\n",
    "\n",
    "# Put the top 50 term info into different tsv files in the top_50 folder\n",
    "top_50_dir = work_dir / \"top_50\"\n",
    "top_50_dir.mkdir(parents=True, exist_ok=True)\n",
    "\n",
    "## output for topic over time analysis\n",
    "# Creat a folder to store c-tf-idf matrix for each timestamp bin\n",
    "ctfidf_dir = work_dir / \"ctfidf_over_time\"\n",
    "ctfidf_dir.mkdir(parents=True, exist_ok=True)\n",
    "\n",
    "# Create a folder to store topic over time graph for each topic\n",
    "tot_graph_dir = work_dir / 'tot_graphs'\n",
    "tot_graph_dir.mkdir(parents=True, exist_ok=True)\n",
    "\n",
    "# So PDF is saved in a format properly\n",
    "mpl.rcParams['pdf.fonttype'] = 42\n",
    "plt.rcParams[\"font.family\"] = \"sans-serif\""
   ]
  },
  {
   "cell_type": "markdown",
   "metadata": {},
   "source": [
    "## ___Get all Arabidopsis records___"
   ]
  },
  {
   "cell_type": "markdown",
   "metadata": {},
   "source": [
    "### Get match_csr column that is for Arabidopsis"
   ]
  },
  {
   "cell_type": "code",
   "execution_count": 4,
   "metadata": {},
   "outputs": [],
   "source": [
    "# load the saved csr\n",
    "with open(match_csr_file, \"rb\") as f:\n",
    "  match_csr = pickle.load(f)\n",
    "\n",
    "# load viridiplantae offspring names that is the same order as match_csr\n",
    "with open(viridi_offspr_file, \"rb\") as f:\n",
    "  viridi_offspr_names = pickle.load(f)"
   ]
  },
  {
   "cell_type": "code",
   "execution_count": 5,
   "metadata": {},
   "outputs": [
    {
     "data": {
      "text/plain": [
       "((421658, 26782), 26782)"
      ]
     },
     "execution_count": 5,
     "metadata": {},
     "output_type": "execute_result"
    }
   ],
   "source": [
    "# Check dimension\n",
    "match_csr.shape, len(viridi_offspr_names)"
   ]
  },
  {
   "cell_type": "code",
   "execution_count": 6,
   "metadata": {},
   "outputs": [
    {
     "data": {
      "text/plain": [
       "22612"
      ]
     },
     "execution_count": 6,
     "metadata": {},
     "output_type": "execute_result"
    }
   ],
   "source": [
    "target_idx = viridi_offspr_names.index(target)\n",
    "target_idx"
   ]
  },
  {
   "cell_type": "code",
   "execution_count": 7,
   "metadata": {},
   "outputs": [
    {
     "data": {
      "text/plain": [
       "(numpy.ndarray, 421658, 50346)"
      ]
     },
     "execution_count": 7,
     "metadata": {},
     "output_type": "execute_result"
    }
   ],
   "source": [
    "# Get indicues of non-zero elements\n",
    "#https://numpy.org/doc/stable/reference/generated/numpy.nonzero.html\n",
    "target_match_arr = match_csr[:,target_idx].toarray().ravel()\n",
    "target_match_idx = np.nonzero(target_match_arr)[0]\n",
    "\n",
    "# Check datatype, shape, and total (ok)\n",
    "type(target_match_arr), len(target_match_arr), np.sum(target_match_arr)"
   ]
  },
  {
   "cell_type": "code",
   "execution_count": 8,
   "metadata": {},
   "outputs": [
    {
     "data": {
      "text/plain": [
       "(50346, array([ 994, 1725, 2524, 3022, 3032]))"
      ]
     },
     "execution_count": 8,
     "metadata": {},
     "output_type": "execute_result"
    }
   ],
   "source": [
    "len(target_match_idx), target_match_idx[:5]"
   ]
  },
  {
   "cell_type": "markdown",
   "metadata": {},
   "source": [
    "### Get the corpus dataframe for records mentioning Arabidopsis"
   ]
  },
  {
   "cell_type": "code",
   "execution_count": 9,
   "metadata": {},
   "outputs": [],
   "source": [
    "# Read corpus file\n",
    "corpus_all = pd.read_csv(corpus_file, compression='gzip', sep='\\t')"
   ]
  },
  {
   "cell_type": "code",
   "execution_count": 10,
   "metadata": {},
   "outputs": [
    {
     "name": "stdout",
     "output_type": "stream",
     "text": [
      "1000\n"
     ]
    }
   ],
   "source": [
    "# Make sure the corpus contain Arabidopsis, test the 1st 1000\n",
    "#https://www.statology.org/pandas-select-rows-by-index/\n",
    "test1000     = corpus_all.loc[target_match_idx[:1000]]['txt']\n",
    "count_found = 0\n",
    "for txt in test1000:\n",
    "  if \"Arabidopsis\" in txt:\n",
    "    count_found += 1\n",
    "\n",
    "print(count_found)"
   ]
  },
  {
   "cell_type": "code",
   "execution_count": 11,
   "metadata": {},
   "outputs": [
    {
     "name": "stdout",
     "output_type": "stream",
     "text": [
      "  load corpus_target_file\n",
      "(50346, 12)\n"
     ]
    }
   ],
   "source": [
    "# Get the dataframe for Arabidopsis\n",
    "if corpus_target_file.is_file():\n",
    "  print(\"  load corpus_target_file\")\n",
    "  corpus_target = pd.read_csv(corpus_target_file, sep='\\t', compression='gzip')\n",
    "else:\n",
    "  print(\"  generate corpus_target_file\")\n",
    "  corpus_target = corpus_all.loc[target_match_idx]\n",
    "  corpus_target.to_csv(corpus_target_file, sep='\\t', compression='gzip')\n",
    "  \n",
    "print(corpus_target.shape)"
   ]
  },
  {
   "cell_type": "markdown",
   "metadata": {},
   "source": [
    "## ___Topic modeling___\n",
    "\n",
    "Codes modified from `script_4_1_topic_model_v2.py` and `script_4_2_outlier_assign.ipynb`"
   ]
  },
  {
   "cell_type": "markdown",
   "metadata": {},
   "source": [
    "### Pre-processing texts"
   ]
  },
  {
   "cell_type": "code",
   "execution_count": 12,
   "metadata": {},
   "outputs": [
    {
     "name": "stdout",
     "output_type": "stream",
     "text": [
      "Pre-processing docs\n",
      "  load processed docs\n"
     ]
    },
    {
     "data": {
      "text/plain": [
       "50346"
      ]
     },
     "execution_count": 12,
     "metadata": {},
     "output_type": "execute_result"
    }
   ],
   "source": [
    "def clean_text(x, stop_words_dict):\n",
    "    x = str(x)\n",
    "    x = x.lower()\n",
    "    # Replace any non-alphanumric characters of any length\n",
    "    # Q: Not sure what the # character do.\n",
    "    x = re.sub(r'#[A-Za-z0-9]*', ' ', x)\n",
    "    # tokenize and rid of any token matching stop words\n",
    "    tokens = word_tokenize(x)\n",
    "    x = ' '.join([w for w in tokens if not w in stop_words_dict])\n",
    "    return x\n",
    "    \n",
    "print(\"Pre-processing docs\")\n",
    "if docs_clean_file.is_file():\n",
    "  print(\"  load processed docs\")\n",
    "  with open(docs_clean_file, \"rb\") as f:\n",
    "    docs_clean = pickle.load(f)\n",
    "else:\n",
    "  print(\"  read corpus and process docs\")\n",
    "  corpus_target_df = pd.read_csv(corpus_target_file, sep='\\t', compression='gzip')\n",
    "  \n",
    "  docs       = corpus_target_df['txt']\n",
    "  stop_words = stopwords.words('english')\n",
    "  stop_words_dict = {}\n",
    "  for i in stop_words:\n",
    "    stop_words_dict[i] = 1\n",
    "\n",
    "  docs_clean = []\n",
    "  for doc_idx in tqdm(range(len(docs))):\n",
    "    doc = docs[doc_idx]\n",
    "    docs_clean.append(clean_text(doc, stop_words_dict))\n",
    "  with open(docs_clean_file, \"wb\") as f:\n",
    "    pickle.dump(docs_clean, f)\n",
    "\n",
    "len(docs_clean)"
   ]
  },
  {
   "cell_type": "markdown",
   "metadata": {},
   "source": [
    "### Generate embeddings"
   ]
  },
  {
   "cell_type": "code",
   "execution_count": 13,
   "metadata": {},
   "outputs": [
    {
     "name": "stdout",
     "output_type": "stream",
     "text": [
      "Load embeddings\n"
     ]
    }
   ],
   "source": [
    "# Generate embeddings\n",
    "if emb_file.is_file():\n",
    "  print(\"Load embeddings\")\n",
    "  with open(emb_file, \"rb\") as f:\n",
    "    embeddings = pickle.load(f)\n",
    "else:\n",
    "  print(\"Generate embeddings\")\n",
    "  emb_model  = SentenceTransformer(model_name)\n",
    "  embeddings = emb_model.encode(docs_clean, show_progress_bar=True)\n",
    "  # Output embeddings\n",
    "  with open(emb_file, \"wb\") as f:\n",
    "    pickle.dump(embeddings, f)"
   ]
  },
  {
   "cell_type": "markdown",
   "metadata": {},
   "source": [
    "### Run BERTopic"
   ]
  },
  {
   "cell_type": "markdown",
   "metadata": {},
   "source": [
    "#### Set parameters"
   ]
  },
  {
   "cell_type": "code",
   "execution_count": 14,
   "metadata": {},
   "outputs": [],
   "source": [
    "# HDBSCAN clustering setting\n",
    "min_cluster_size         = 100 # This is 500 for the full dataset run\n",
    "metric                   = 'euclidean' \n",
    "cluster_selection_method ='eom' \n",
    "prediction_data          = True \n",
    "min_samples              = 5\n",
    "\n",
    "# BERTopic setting\n",
    "calculate_probabilities = True\n",
    "n_neighbors             = 10  \n",
    "nr_topics               = 500\n",
    "n_gram_range            = (1,2)"
   ]
  },
  {
   "cell_type": "markdown",
   "metadata": {},
   "source": [
    "#### Initialize HDBSCAN\n",
    "\n",
    "For reducing outliers, following [this instruction](https://maartengr.github.io/BERTopic/faq.html#how-do-i-reduce-topic-outliers)\n",
    "- Also see [HDBSCAN doc](https://hdbscan.readthedocs.io/en/latest/basic_hdbscan.html#what-about-different-metrics)\n",
    "- Comparison of [distance metrics](https://www.kdnuggets.com/2019/01/comparison-text-distance-metrics.html)"
   ]
  },
  {
   "cell_type": "code",
   "execution_count": 15,
   "metadata": {},
   "outputs": [],
   "source": [
    "hdbscan_model = HDBSCAN(min_cluster_size=min_cluster_size, \n",
    "                        metric=metric, \n",
    "                        cluster_selection_method=cluster_selection_method, \n",
    "                        prediction_data=prediction_data, \n",
    "                        min_samples=min_samples)"
   ]
  },
  {
   "cell_type": "markdown",
   "metadata": {},
   "source": [
    "#### Intialize and train topic model"
   ]
  },
  {
   "cell_type": "code",
   "execution_count": 16,
   "metadata": {},
   "outputs": [],
   "source": [
    "topic_model = BERTopic(hdbscan_model=hdbscan_model,\n",
    "                       calculate_probabilities=calculate_probabilities,\n",
    "                       n_gram_range=n_gram_range,\n",
    "                       nr_topics=nr_topics,\n",
    "                       verbose=True)"
   ]
  },
  {
   "cell_type": "code",
   "execution_count": 17,
   "metadata": {},
   "outputs": [
    {
     "name": "stderr",
     "output_type": "stream",
     "text": [
      "2022-10-10 10:25:59,559 - BERTopic - Reduced dimensionality\n",
      "2022-10-10 10:26:11,549 - BERTopic - Clustered reduced embeddings\n",
      "2022-10-10 10:26:52,398 - BERTopic - Reduced number of topics from 64 to 64\n"
     ]
    }
   ],
   "source": [
    "topics, probs = topic_model.fit_transform(docs_clean,\n",
    "                                          embeddings)"
   ]
  },
  {
   "cell_type": "markdown",
   "metadata": {},
   "source": [
    "#### Save model, topics, and probability"
   ]
  },
  {
   "cell_type": "code",
   "execution_count": 18,
   "metadata": {},
   "outputs": [],
   "source": [
    "# I already save the embeddings, so won't save it again\n",
    "topic_model.save(topic_model_file)\n",
    "\n",
    "with open(topics_file, \"wb\") as f:\n",
    "    pickle.dump(topics, f)\n",
    "\n",
    "with open(probs_file, \"wb\") as f:\n",
    "  pickle.dump(probs, f)"
   ]
  },
  {
   "cell_type": "markdown",
   "metadata": {},
   "source": [
    "#### Load model and probabilities\n",
    "\n",
    "This is more for running topic modeling on the much larger corpus. Here the targeted corpus is much smaller. But keep this anyway."
   ]
  },
  {
   "cell_type": "code",
   "execution_count": 19,
   "metadata": {},
   "outputs": [],
   "source": [
    "# Load topic model\n",
    "topic_model = BERTopic.load(topic_model_file)\n",
    "\n",
    "# load prob\n",
    "with open(probs_file, \"rb\") as f:\n",
    "  probs = pickle.load(f)"
   ]
  },
  {
   "cell_type": "code",
   "execution_count": 20,
   "metadata": {},
   "outputs": [
    {
     "data": {
      "text/plain": [
       "(   Topic  Count                                       Name\n",
       " 0     -1  22445          -1_arabidopsis_genes_plants_plant\n",
       " 1      0    130    0_heterotrimeric_gprotein_rop_signaling\n",
       " 2      1    125       1_signalling_kinases_plant_signaling\n",
       " 3      2    121  2_ptdins_inositol_phosphatidylinositol_p2\n",
       " 4      3    299               3_ubiquitin_sumo_e3_proteins,\n",
       "     Topic  Count                                        Name\n",
       " 59     58   1318            58_stress_tolerance_drought_salt\n",
       " 60     59    439  59_circadian_clock_circadian clock_rhythms\n",
       " 61     60    390      60_flowering_ft_floral_flowering locus\n",
       " 62     61    247          61_floral_genes_development_flower\n",
       " 63     62    878                62_meristem_cell_stem_floral)"
      ]
     },
     "execution_count": 20,
     "metadata": {},
     "output_type": "execute_result"
    }
   ],
   "source": [
    "topic_info = topic_model.get_topic_info()\n",
    "topic_info.head(), topic_info.tail()"
   ]
  },
  {
   "cell_type": "markdown",
   "metadata": {},
   "source": [
    "## ___Outlier assignments___\n",
    "\n",
    "Modified from `script_4_2_outlier_assign.ipynb`"
   ]
  },
  {
   "cell_type": "markdown",
   "metadata": {},
   "source": [
    "### Assignments"
   ]
  },
  {
   "cell_type": "code",
   "execution_count": 21,
   "metadata": {},
   "outputs": [],
   "source": [
    "# 95 precentile probability value as threshold\n",
    "probability_threshold = np.percentile(probs, 95)\n",
    "new_topics = [np.argmax(prob) if max(prob) >= probability_threshold else -1 \n",
    "                                                            for prob in probs]"
   ]
  },
  {
   "cell_type": "code",
   "execution_count": 22,
   "metadata": {},
   "outputs": [
    {
     "data": {
      "text/plain": [
       "0.05807809955110634"
      ]
     },
     "execution_count": 22,
     "metadata": {},
     "output_type": "execute_result"
    }
   ],
   "source": [
    "# Unassigned doc number\n",
    "n_unassigned = pd.Series(new_topics).value_counts().loc[-1]\n",
    "n_unassigned/len(new_topics)"
   ]
  },
  {
   "cell_type": "markdown",
   "metadata": {},
   "source": [
    "### Update topics\n"
   ]
  },
  {
   "cell_type": "code",
   "execution_count": 23,
   "metadata": {},
   "outputs": [],
   "source": [
    "# update topic based on new topics\n",
    "topic_model.update_topics(docs_clean, new_topics)"
   ]
  },
  {
   "cell_type": "code",
   "execution_count": 24,
   "metadata": {},
   "outputs": [],
   "source": [
    "# Update topic frequencies\n",
    "documents = pd.DataFrame({\"Document\": docs_clean, \"Topic\": new_topics})\n",
    "topic_model._update_topic_size(documents)\n",
    "topic_model.save(topic_model_updated_file)"
   ]
  },
  {
   "cell_type": "markdown",
   "metadata": {},
   "source": [
    "### Get updated topic info"
   ]
  },
  {
   "cell_type": "code",
   "execution_count": 25,
   "metadata": {},
   "outputs": [],
   "source": [
    "# Load topic model\n",
    "topic_model = BERTopic.load(topic_model_updated_file)"
   ]
  },
  {
   "cell_type": "code",
   "execution_count": 26,
   "metadata": {},
   "outputs": [
    {
     "data": {
      "text/html": [
       "<div>\n",
       "<style scoped>\n",
       "    .dataframe tbody tr th:only-of-type {\n",
       "        vertical-align: middle;\n",
       "    }\n",
       "\n",
       "    .dataframe tbody tr th {\n",
       "        vertical-align: top;\n",
       "    }\n",
       "\n",
       "    .dataframe thead th {\n",
       "        text-align: right;\n",
       "    }\n",
       "</style>\n",
       "<table border=\"1\" class=\"dataframe\">\n",
       "  <thead>\n",
       "    <tr style=\"text-align: right;\">\n",
       "      <th></th>\n",
       "      <th>Topic</th>\n",
       "      <th>Count</th>\n",
       "      <th>Name</th>\n",
       "    </tr>\n",
       "  </thead>\n",
       "  <tbody>\n",
       "    <tr>\n",
       "      <th>0</th>\n",
       "      <td>-1</td>\n",
       "      <td>2924</td>\n",
       "      <td>-1_arabidopsis_protein_plant_genes</td>\n",
       "    </tr>\n",
       "    <tr>\n",
       "      <th>1</th>\n",
       "      <td>0</td>\n",
       "      <td>145</td>\n",
       "      <td>0_heterotrimeric_gprotein_rop_signaling</td>\n",
       "    </tr>\n",
       "    <tr>\n",
       "      <th>2</th>\n",
       "      <td>1</td>\n",
       "      <td>336</td>\n",
       "      <td>1_plant_signaling_kinases_signalling</td>\n",
       "    </tr>\n",
       "    <tr>\n",
       "      <th>3</th>\n",
       "      <td>2</td>\n",
       "      <td>325</td>\n",
       "      <td>2_1433_ptdins_cam_binding</td>\n",
       "    </tr>\n",
       "    <tr>\n",
       "      <th>4</th>\n",
       "      <td>3</td>\n",
       "      <td>443</td>\n",
       "      <td>3_ubiquitin_sumo_proteins_protein</td>\n",
       "    </tr>\n",
       "  </tbody>\n",
       "</table>\n",
       "</div>"
      ],
      "text/plain": [
       "   Topic  Count                                     Name\n",
       "0     -1   2924       -1_arabidopsis_protein_plant_genes\n",
       "1      0    145  0_heterotrimeric_gprotein_rop_signaling\n",
       "2      1    336     1_plant_signaling_kinases_signalling\n",
       "3      2    325                2_1433_ptdins_cam_binding\n",
       "4      3    443        3_ubiquitin_sumo_proteins_protein"
      ]
     },
     "execution_count": 26,
     "metadata": {},
     "output_type": "execute_result"
    }
   ],
   "source": [
    "topic_info = topic_model.get_topic_info()\n",
    "topic_info[:5]"
   ]
  },
  {
   "cell_type": "code",
   "execution_count": 27,
   "metadata": {},
   "outputs": [
    {
     "data": {
      "text/plain": [
       "(47422, 94.19219004488937)"
      ]
     },
     "execution_count": 27,
     "metadata": {},
     "output_type": "execute_result"
    }
   ],
   "source": [
    "n_total     = np.sum(topic_info['Count'].values)\n",
    "n_outlier   = topic_info['Count'][0]\n",
    "n_in_topics = n_total - n_outlier\n",
    "n_in_topics, n_in_topics/n_total*100"
   ]
  },
  {
   "cell_type": "markdown",
   "metadata": {},
   "source": [
    "## ___Topic model analysis___"
   ]
  },
  {
   "cell_type": "markdown",
   "metadata": {},
   "source": [
    "### Topic size distribution"
   ]
  },
  {
   "cell_type": "code",
   "execution_count": 28,
   "metadata": {},
   "outputs": [
    {
     "data": {
      "image/png": "[encoded data removed]",
      "text/plain": [
       "<Figure size 432x288 with 1 Axes>"
      ]
     },
     "metadata": {
      "needs_background": "light"
     },
     "output_type": "display_data"
    }
   ],
   "source": [
    "plt.hist(np.log10(topic_info[\"Count\"]), bins=200)\n",
    "plt.xlabel(\"log10(Count)\")\n",
    "plt.ylabel(\"Frquency\")\n",
    "plt.xlim(2.5,5)\n",
    "plt.savefig(work_dir / f\"fig6_topic_count_dist_{target}.pdf\")"
   ]
  },
  {
   "cell_type": "markdown",
   "metadata": {},
   "source": [
    "### Topic-term matrix for top 50 terms"
   ]
  },
  {
   "cell_type": "code",
   "execution_count": 29,
   "metadata": {},
   "outputs": [
    {
     "data": {
      "text/plain": [
       "(scipy.sparse._csr.csr_matrix, (64, 3118232))"
      ]
     },
     "execution_count": 29,
     "metadata": {},
     "output_type": "execute_result"
    }
   ],
   "source": [
    "# Sparse matrix with topics as rows and features (i.e. terms) as columns, \n",
    "# values are c-Tf-idf\n",
    "# 10/4/22: The updated BERTopic refer to the c_tf_idf matrix differently with an\n",
    "#   extra '_' at the end\n",
    "#topic_term_matrix = topic_model.c_tf_idf\n",
    "topic_term_matrix = topic_model.c_tf_idf_\n",
    "type(topic_term_matrix), topic_term_matrix.shape"
   ]
  },
  {
   "cell_type": "code",
   "execution_count": 30,
   "metadata": {},
   "outputs": [
    {
     "name": "stderr",
     "output_type": "stream",
     "text": [
      "100%|██████████| 63/63 [00:10<00:00,  6.22it/s]\n"
     ]
    }
   ],
   "source": [
    "# A list of features (terms)\n",
    "terms = topic_model.vectorizer_model.get_feature_names()\n",
    "\n",
    "# Get top 50 terms\n",
    "top_50 = {} # {topic:[top50_idx_list, top50_c-tf-idf_list, to50_feat_list]}\n",
    "\n",
    "# Skip the outlier topic, named the variable topic_plus1 because the topic\n",
    "# index is -1 from the index in the topic_term_marix.\n",
    "for topic_plus1 in tqdm(range(1, topic_term_matrix.shape[0])):\n",
    "  row     = topic_term_matrix.getrow(topic_plus1).toarray()[0].ravel()\n",
    "\n",
    "  # The following two lines sorted from low to high\n",
    "  t50_idx = list(row.argsort()[-50:])\n",
    "  t50_val = list(row[row.argsort()[-50:]])\n",
    "\n",
    "  t50_fea = [terms[i] for i in t50_idx]\n",
    "  top_50[topic_plus1-1] = [t50_idx, t50_val, t50_fea]"
   ]
  },
  {
   "cell_type": "code",
   "execution_count": 31,
   "metadata": {},
   "outputs": [],
   "source": [
    "# Save the top 50 terms\n",
    "with open(top_50_terms_file, 'wb') as f:\n",
    "  pickle.dump(top_50, f)"
   ]
  },
  {
   "cell_type": "code",
   "execution_count": 32,
   "metadata": {},
   "outputs": [],
   "source": [
    "topic_labels = topic_model.generate_topic_labels(nr_words=10,\n",
    "                                                 topic_prefix=True,\n",
    "                                                 separator='|')"
   ]
  },
  {
   "cell_type": "code",
   "execution_count": 33,
   "metadata": {},
   "outputs": [],
   "source": [
    "# Save top terms for different topics into an xlsx file\n",
    "xlsx      = Workbook(top_50_terms_xlsx)\n",
    "\n",
    "# Do not output outlier\n",
    "topic_label_df = pd.DataFrame(topic_labels[1:])\n",
    "topic_label_df.columns = [\"label\"]\n",
    "topic_label_df.to_csv(topic_label_file, sep='\\t')\n",
    "\n",
    "worksheet = xlsx.add_worksheet(\"topic_label\")\n",
    "read_tsv = csv.reader(open(topic_label_file,'r',encoding='utf-8'),delimiter='\\t')\n",
    "for row, data in enumerate(read_tsv):\n",
    "  worksheet.write_row(row, 0, data)"
   ]
  },
  {
   "cell_type": "code",
   "execution_count": 34,
   "metadata": {},
   "outputs": [],
   "source": [
    "# Incude the representative doc in a worksheet\n",
    "rep_docs    = topic_model.get_representative_docs()\n",
    "rep_docs_df = pd.DataFrame.from_dict(rep_docs, orient='index',\n",
    "                                  columns=['doc1', 'doc2', 'doc3'])\n",
    "rep_docs_df.to_csv(rep_docs_file, sep='\\t')\n",
    "\n",
    "worksheet = xlsx.add_worksheet(\"representative docs\")\n",
    "read_tsv = csv.reader(open(rep_docs_file,'r',encoding='utf-8'),delimiter='\\t')\n",
    "for row, data in enumerate(read_tsv):\n",
    "  worksheet.write_row(row, 0, data)"
   ]
  },
  {
   "cell_type": "code",
   "execution_count": 35,
   "metadata": {},
   "outputs": [],
   "source": [
    "# Put the top 50 term info into different tsv files in the top_50 folder\n",
    "# Output individual tsv files and put tsv into xlsx\n",
    "for topic in top_50:\n",
    "  topic_file = top_50_dir / f\"topic_{topic}.tsv\"\n",
    "  # The nested list has index, c-tf-idf, and feature as rows. So it is transposed\n",
    "  # to have the rows as columns. The iloc bit is to reverse the order so higher\n",
    "  # c-tf-idf entries are on top.\n",
    "  topic_df = pd.DataFrame(top_50[topic]).transpose().iloc[::-1]\n",
    "  topic_df.columns = [\"index\", \"c-tf-idf\", \"feature\"]\n",
    "  topic_df.to_csv(topic_file, sep='\\t')\n",
    "\n",
    "  # Save to xlsx\n",
    "  worksheet = xlsx.add_worksheet(f\"{topic}\")\n",
    "  read_tsv  = csv.reader(open(topic_file, 'r',encoding='utf-8'),delimiter='\\t')\n",
    "  for row, data in enumerate(read_tsv):\n",
    "    worksheet.write_row(row, 0, data)\n",
    "\n",
    "xlsx.close()"
   ]
  },
  {
   "cell_type": "markdown",
   "metadata": {},
   "source": [
    "## ___Records per year and timestamp bins___\n",
    "\n",
    "Code modified from `script_4_4_topic_over_time.ipynb`"
   ]
  },
  {
   "cell_type": "markdown",
   "metadata": {},
   "source": [
    "### Plot records per year"
   ]
  },
  {
   "cell_type": "code",
   "execution_count": 36,
   "metadata": {},
   "outputs": [
    {
     "data": {
      "image/png": "[encoded data removed]",
      "text/plain": [
       "<Figure size 432x720 with 1 Axes>"
      ]
     },
     "metadata": {
      "needs_background": "light"
     },
     "output_type": "display_data"
    }
   ],
   "source": [
    "# Get pandas series dates\n",
    "dates = corpus_target['Date']\n",
    "\n",
    "ts_for_plot = [] # timestamps for plotting\n",
    "docs_yr     = [] # a list of years for generating bar graph later\n",
    "early_doc   = {} # {year: count}\n",
    "for date in dates:\n",
    "  [yr, mo, da] = date.split('-') # year, month, day\n",
    "  # docs from the same year has the same timestamp\n",
    "  yr = int(yr)\n",
    "  docs_yr.append(yr)\n",
    "\n",
    "  # Create \n",
    "  if yr not in early_doc:\n",
    "    early_doc[yr] = 1\n",
    "  else:\n",
    "    early_doc[yr]+= 1\n",
    "\n",
    "  # Set year before 1970 as 1969.\n",
    "  if yr < 1970:  \n",
    "    yr = 1969\n",
    "\n",
    "  # Set year after 2020 as 2020. There are 58 instances\n",
    "  if yr > 2020:  \n",
    "    yr = 2020\n",
    "\n",
    "  dt   = datetime(yr, 1, 1)\n",
    "  ts   = dt.timestamp()\n",
    "  ts_for_plot.append(ts)\n",
    "\n",
    "# array with number of records per year\n",
    "docs_year_array = np.unique(np.array(docs_yr), return_counts=True)\n",
    "\n",
    "# dataframe with counts per year\n",
    "docs_year_df    = pd.DataFrame(docs_year_array[1], columns=[\"Count\"],\n",
    "                               index=docs_year_array[0])\n",
    "\n",
    "# without log\n",
    "plt.figure(figsize=(6,10))\n",
    "plt.barh(docs_year_array[0], docs_year_array[1])\n",
    "plt.ylabel('Year')\n",
    "plt.xlabel('Numbers of documents')\n",
    "plt.yticks(range(1920, 2021, 5))\n",
    "plt.savefig(work_dir / f'figure6_num_docs_per_year_{target}.pdf')"
   ]
  },
  {
   "cell_type": "code",
   "execution_count": 37,
   "metadata": {},
   "outputs": [
    {
     "data": {
      "image/png": "[encoded data removed]",
      "text/plain": [
       "<Figure size 432x720 with 1 Axes>"
      ]
     },
     "metadata": {
      "needs_background": "light"
     },
     "output_type": "display_data"
    }
   ],
   "source": [
    "# logged\n",
    "plt.figure(figsize=(6,10))\n",
    "plt.barh(docs_year_array[0], np.log10(docs_year_array[1]+1))\n",
    "plt.ylabel('Year')\n",
    "\n",
    "# +1 so the x-axis value is not zero.\n",
    "plt.xlabel('log10(Numbers of documents + 1)')\n",
    "plt.yticks(range(1920, 2021, 5))\n",
    "plt.savefig(work_dir / 'figure6_num_docs_per_year_{target}_logged.pdf')"
   ]
  },
  {
   "cell_type": "markdown",
   "metadata": {},
   "source": [
    "### Get the binned timestamp values\n",
    "\n",
    "Divide into 20 bins"
   ]
  },
  {
   "cell_type": "code",
   "execution_count": 38,
   "metadata": {},
   "outputs": [],
   "source": [
    "# Turn all dates into timestamps \n",
    "ts_for_bins = []\n",
    "for date in dates:\n",
    "  [yr, mo, da] = date.split('-') # year, month, day\n",
    "  dt   = datetime(int(yr), int(mo), int(da))\n",
    "  ts   = dt.timestamp()\n",
    "  ts_for_bins.append(ts)\n",
    "  \n",
    "ts_for_bins.sort()"
   ]
  },
  {
   "cell_type": "code",
   "execution_count": 39,
   "metadata": {},
   "outputs": [],
   "source": [
    "# bin size\n",
    "bin_num  = 20\n",
    "bin_size = int(len(ts_for_bins)/bin_num)\n",
    "\n",
    "# index values of every 1/bin_num*100 percentile (because the data is broken \n",
    "# into parts=bin_num)\n",
    "bin_idxs = [idx for idx in range(0, len(ts_for_bins), bin_size)]\n",
    "\n",
    "# timestamp values at bin_idxs\n",
    "bin_timestamps = [ts_for_bins[idx] for idx in bin_idxs]\n",
    "\n",
    "# Modify the last value to be the max timestamp value + 1. This is otherwise\n",
    "# because of the bin_size is rounded down the last value be smaller than the max\n",
    "# timestamp values. Also, +1 to the max value, otherwise, the last entries will\n",
    "# be in its own bin.\n",
    "max_timestamp      = max(ts_for_bins) + 1\n",
    "bin_timestamps[-1] = max_timestamp\n",
    "\n",
    "# dates correspond to the different timestamp\n",
    "bin_dates      = [datetime.fromtimestamp(ts) for ts in bin_timestamps]\n",
    "\n",
    "# Put idx, timestamp, and date into a dataframe and save it.\n",
    "bin_df         = pd.DataFrame(list(zip(bin_idxs, bin_timestamps, bin_dates)),\n",
    "            columns=['bin_start_idx', 'bin_start_timestamp', 'bin_start_date'])\n",
    "bin_df.to_csv(work_dir / f\"table6_bin_timestamp_date_{target}.tsv\", sep='\\t')"
   ]
  },
  {
   "cell_type": "code",
   "execution_count": 40,
   "metadata": {},
   "outputs": [
    {
     "data": {
      "text/plain": [
       "(   bin_start_idx  bin_start_timestamp bin_start_date\n",
       " 0              0        -1.211148e+08     1966-03-01\n",
       " 1           2517         9.030672e+08     1998-08-14\n",
       " 2           5034         1.006405e+09     2001-11-22\n",
       " 3           7551         1.071551e+09     2003-12-16\n",
       " 4          10068         1.124942e+09     2005-08-25,\n",
       "     bin_start_idx  bin_start_timestamp      bin_start_date\n",
       " 16          40272         1.509509e+09 2017-11-01 00:00:00\n",
       " 17          42789         1.536034e+09 2018-09-04 00:00:00\n",
       " 18          45306         1.561176e+09 2019-06-22 00:00:00\n",
       " 19          47823         1.585714e+09 2020-04-01 00:00:00\n",
       " 20          50340         1.609477e+09 2021-01-01 00:00:01)"
      ]
     },
     "execution_count": 40,
     "metadata": {},
     "output_type": "execute_result"
    }
   ],
   "source": [
    "bin_df.head(), bin_df.tail()"
   ]
  },
  {
   "cell_type": "markdown",
   "metadata": {},
   "source": [
    "### Generate the binned timestamps"
   ]
  },
  {
   "cell_type": "code",
   "execution_count": 41,
   "metadata": {},
   "outputs": [
    {
     "data": {
      "text/plain": [
       "50346"
      ]
     },
     "execution_count": 41,
     "metadata": {},
     "output_type": "execute_result"
    }
   ],
   "source": [
    "# Assign new timestamps based on the bin timestamp values\n",
    "ts_in_bins = []\n",
    "for date in dates:\n",
    "  [yr, mo, da] = date.split('-') # year, month, day\n",
    "  dt   = datetime(int(yr), int(mo), int(da))\n",
    "  ts   = dt.timestamp()\n",
    "\n",
    "  bin_idx = bisect(bin_timestamps, ts)\n",
    "\n",
    "  if bin_idx < len(bin_timestamps):\n",
    "    ts2     = bin_timestamps[bin_idx]\n",
    "  # Deal with the last bin\n",
    "  else:\n",
    "    ts2     = datetime(2022, 12, 31).timestamp()\n",
    "  ts_in_bins.append(ts2) \n",
    "\n",
    "len(ts_in_bins) # Expect 50346, the number of Arabidopsis docs"
   ]
  },
  {
   "cell_type": "markdown",
   "metadata": {},
   "source": [
    "## ___Run topics_over_time___"
   ]
  },
  {
   "cell_type": "markdown",
   "metadata": {},
   "source": [
    "### Set up"
   ]
  },
  {
   "cell_type": "code",
   "execution_count": 42,
   "metadata": {},
   "outputs": [],
   "source": [
    "docs = docs_clean\n",
    "topics           = topics\n",
    "timestamps       = ts_in_bins\n",
    "nr_bins          = 20\n",
    "global_tuning    = 0\n",
    "evolution_tuning = 1\n",
    "\n",
    "# Get the global (i.e., based on the whole timef rame) ctfidf values\n",
    "global_c_tf_idf = normalize(topic_model.c_tf_idf_, axis=1, norm='l1', copy=False)\n",
    "# Construct a documents dataframe\n",
    "documents = pd.DataFrame({\"Document\": docs, \"Topic\": topics, \n",
    "                          \"Timestamps\": timestamps})"
   ]
  },
  {
   "cell_type": "code",
   "execution_count": 43,
   "metadata": {},
   "outputs": [
    {
     "data": {
      "text/plain": [
       "(64, -1, dict, 0)"
      ]
     },
     "execution_count": 43,
     "metadata": {},
     "output_type": "execute_result"
    }
   ],
   "source": [
    "# Get topic names, ordered and then get their indices, 0-based\n",
    "all_topics = sorted(list(documents.Topic.unique()))\n",
    "all_topics_indices = {topic: index for index, topic in enumerate(all_topics)}\n",
    "\n",
    "# 53 topics, index=0 is the outlier\n",
    "len(all_topics), all_topics[0], type(all_topics_indices), all_topics_indices[-1]"
   ]
  },
  {
   "cell_type": "code",
   "execution_count": 44,
   "metadata": {},
   "outputs": [
    {
     "data": {
      "text/html": [
       "<div>\n",
       "<style scoped>\n",
       "    .dataframe tbody tr th:only-of-type {\n",
       "        vertical-align: middle;\n",
       "    }\n",
       "\n",
       "    .dataframe tbody tr th {\n",
       "        vertical-align: top;\n",
       "    }\n",
       "\n",
       "    .dataframe thead th {\n",
       "        text-align: right;\n",
       "    }\n",
       "</style>\n",
       "<table border=\"1\" class=\"dataframe\">\n",
       "  <thead>\n",
       "    <tr style=\"text-align: right;\">\n",
       "      <th></th>\n",
       "      <th>Document</th>\n",
       "      <th>Topic</th>\n",
       "      <th>Timestamps</th>\n",
       "      <th>Bins</th>\n",
       "    </tr>\n",
       "  </thead>\n",
       "  <tbody>\n",
       "    <tr>\n",
       "      <th>0</th>\n",
       "      <td>somatic mosaicism plants special reference som...</td>\n",
       "      <td>5</td>\n",
       "      <td>903067199.0</td>\n",
       "      <td>(903067199.0, 903067201.0]</td>\n",
       "    </tr>\n",
       "    <tr>\n",
       "      <th>1</th>\n",
       "      <td>[ growth arabidopsis thaliana embryos followin...</td>\n",
       "      <td>-1</td>\n",
       "      <td>903067199.0</td>\n",
       "      <td>(903067199.0, 903067201.0]</td>\n",
       "    </tr>\n",
       "  </tbody>\n",
       "</table>\n",
       "</div>"
      ],
      "text/plain": [
       "                                            Document  Topic   Timestamps  \\\n",
       "0  somatic mosaicism plants special reference som...      5  903067199.0   \n",
       "1  [ growth arabidopsis thaliana embryos followin...     -1  903067199.0   \n",
       "\n",
       "                         Bins  \n",
       "0  (903067199.0, 903067201.0]  \n",
       "1  (903067199.0, 903067201.0]  "
      ]
     },
     "execution_count": 44,
     "metadata": {},
     "output_type": "execute_result"
    }
   ],
   "source": [
    "# Bin values into discrete intervals\n",
    "ts_bins   = [] # a list of tuples showing the bin range (+/-1 of the unique val)\n",
    "for ts in timestamps:\n",
    "  ts_bins.append(pd.Interval(left=ts-1, right=ts+1))\n",
    "\n",
    "# Add the bin info as a new column in documents df\n",
    "documents[\"Bins\"] = ts_bins\n",
    "# Add timestamp column\n",
    "documents[\"Timestamps\"] = documents.apply(lambda row: row.Bins.left, 1)\n",
    "documents.head(2)"
   ]
  },
  {
   "cell_type": "code",
   "execution_count": 45,
   "metadata": {},
   "outputs": [
    {
     "data": {
      "text/plain": [
       "array([9.03067199e+08, 1.00640520e+09, 1.07155080e+09, 1.12494240e+09,\n",
       "       1.17082440e+09, 1.21203360e+09, 1.25177760e+09, 1.28763360e+09,\n",
       "       1.31796000e+09, 1.34880480e+09, 1.37653920e+09, 1.40237280e+09,\n",
       "       1.42941600e+09, 1.45646280e+09, 1.48307400e+09, 1.50950880e+09,\n",
       "       1.53603360e+09, 1.56117600e+09, 1.58571360e+09, 1.60947720e+09])"
      ]
     },
     "execution_count": 45,
     "metadata": {},
     "output_type": "execute_result"
    }
   ],
   "source": [
    "# Sort documents in chronological order\n",
    "documents  = documents.sort_values(\"Timestamps\")\n",
    "\n",
    "# Unique timestamps\n",
    "ts_unique = documents.Timestamps.unique()\n",
    "ts_unique"
   ]
  },
  {
   "cell_type": "markdown",
   "metadata": {},
   "source": [
    "### Run modified topics_over_time code\n",
    "\n",
    "evolution_tuning=1, global_tuning=0"
   ]
  },
  {
   "cell_type": "code",
   "execution_count": 46,
   "metadata": {},
   "outputs": [
    {
     "name": "stderr",
     "output_type": "stream",
     "text": [
      "100%|██████████| 20/20 [06:56<00:00, 20.83s/it]\n"
     ]
    }
   ],
   "source": [
    "# For each unique timestamp, create topic representations\n",
    "topics_over_time = []\n",
    "for index, timestamp in enumerate(tqdm(ts_unique)):\n",
    "  #print(index, timestamp)\n",
    "  # Calculate c-TF-IDF representation for a specific timestamp\n",
    "  selection = documents.loc[documents.Timestamps == timestamp, :]\n",
    "  \n",
    "  docs_per_toc = selection.groupby(['Topic'], as_index=False).agg(\n",
    "                                {'Document': ' '.join, \"Timestamps\": \"count\"})\n",
    "  c_tf_idf, words = topic_model._c_tf_idf(docs_per_toc, fit=False)\n",
    "  \n",
    "  if global_tuning or evolution_tuning:\n",
    "    c_tf_idf = normalize(c_tf_idf, axis=1, norm='l1', copy=False)\n",
    "\n",
    "  # Fine-tune the c-TF-IDF matrix at timestamp t by averaging it with the \n",
    "  # c-TF-IDF matrix at timestamp t-1\n",
    "  if evolution_tuning and index != 0:\n",
    "    curr_toc         = sorted(list(docs_per_toc.Topic.values))\n",
    "    overlap_toc      = sorted(list(set(prev_toc).intersection(set(curr_toc))))\n",
    "    curr_overlap_idx = [curr_toc.index(topic) for topic in overlap_toc]\n",
    "    prev_overlap_idx = [prev_toc.index(topic) for topic in overlap_toc]\n",
    "\n",
    "    c_tf_idf.tolil()[curr_overlap_idx] = \\\n",
    "      ((c_tf_idf[curr_overlap_idx] + prev_c_tf_idf[prev_overlap_idx]) / 2.0).tolil()\n",
    "\n",
    "  # Fine-tune the timestamp c-TF-IDF representation based on the global c-TF-IDF representation\n",
    "  # by simply taking the average of the two\n",
    "  #if global_tuning:\n",
    "  #  selected_topics = [all_topics_indices[topic] \\\n",
    "  #                                      for topic in docs_per_toc.Topic.values]\n",
    "  #  c_tf_idf = (global_c_tf_idf[selected_topics] + c_tf_idf) / 2.0\n",
    "\n",
    "  # Extract the words per topic\n",
    "  labels = sorted(list(docs_per_toc.Topic.unique()))\n",
    "  words_per_toc = topic_model._extract_words_per_topic(words, c_tf_idf, labels)\n",
    "  topic_frequency = pd.Series(docs_per_toc.Timestamps.values,\n",
    "                                index=docs_per_toc.Topic).to_dict()\n",
    "  # Fill dataframe with results\n",
    "  topics_at_timestamp = [(topic,\n",
    "                          \", \".join([words[0] for words in values][:5]),\n",
    "                          topic_frequency[topic],\n",
    "                          timestamp) for topic, values in words_per_toc.items()]\n",
    "  topics_over_time.extend(topics_at_timestamp)\n",
    "\n",
    "  if evolution_tuning:\n",
    "    prev_toc = sorted(list(docs_per_toc.Topic.values))\n",
    "    prev_c_tf_idf = c_tf_idf.copy()\n",
    "\n",
    "  # Save the word list if this is the 1st timestamp\n",
    "  if index == 0:\n",
    "    word_file = ctfidf_dir / f\"word_list_{len(words)}.pickle\"\n",
    "    with open(word_file, 'wb') as f:\n",
    "      pickle.dump(words, f)\n",
    "\n",
    "  # Save the ctfidf values\n",
    "  ctfidf_file = ctfidf_dir / f'ctfidf_{index}_no_globatune.pickle'\n",
    "  with open(ctfidf_file, \"wb\") as f:\n",
    "    pickle.dump(c_tf_idf, f)\n",
    "\n",
    "  # Save index and topic name for cross-referencing in ctfidf_file\n",
    "  toc_index_file = ctfidf_dir / f\"ctfidf_{index}_toc_index.tsv\"\n",
    "  docs_per_toc['Topic'].to_csv(toc_index_file, sep='\\t')\n"
   ]
  },
  {
   "cell_type": "code",
   "execution_count": 47,
   "metadata": {},
   "outputs": [
    {
     "data": {
      "text/html": [
       "<div>\n",
       "<style scoped>\n",
       "    .dataframe tbody tr th:only-of-type {\n",
       "        vertical-align: middle;\n",
       "    }\n",
       "\n",
       "    .dataframe tbody tr th {\n",
       "        vertical-align: top;\n",
       "    }\n",
       "\n",
       "    .dataframe thead th {\n",
       "        text-align: right;\n",
       "    }\n",
       "</style>\n",
       "<table border=\"1\" class=\"dataframe\">\n",
       "  <thead>\n",
       "    <tr style=\"text-align: right;\">\n",
       "      <th></th>\n",
       "      <th>Topic</th>\n",
       "      <th>Words</th>\n",
       "      <th>Frequency</th>\n",
       "      <th>Timestamp</th>\n",
       "    </tr>\n",
       "  </thead>\n",
       "  <tbody>\n",
       "    <tr>\n",
       "      <th>0</th>\n",
       "      <td>-1</td>\n",
       "      <td>arabidopsis, gene, protein, thaliana, cdna</td>\n",
       "      <td>1088</td>\n",
       "      <td>9.030672e+08</td>\n",
       "    </tr>\n",
       "    <tr>\n",
       "      <th>1</th>\n",
       "      <td>0</td>\n",
       "      <td>7tm, 7tm receptors, heterotrimeric, small prot...</td>\n",
       "      <td>2</td>\n",
       "      <td>9.030672e+08</td>\n",
       "    </tr>\n",
       "    <tr>\n",
       "      <th>2</th>\n",
       "      <td>2</td>\n",
       "      <td>pldgamma, pld, pldalpha, pldbeta, nad kinase</td>\n",
       "      <td>7</td>\n",
       "      <td>9.030672e+08</td>\n",
       "    </tr>\n",
       "    <tr>\n",
       "      <th>3</th>\n",
       "      <td>3</td>\n",
       "      <td>ubiquitin, cop9, e2s, e2, multiubiquitin</td>\n",
       "      <td>13</td>\n",
       "      <td>9.030672e+08</td>\n",
       "    </tr>\n",
       "    <tr>\n",
       "      <th>4</th>\n",
       "      <td>4</td>\n",
       "      <td>uvb, 64, photolyase, uvh1, uvh6</td>\n",
       "      <td>12</td>\n",
       "      <td>9.030672e+08</td>\n",
       "    </tr>\n",
       "    <tr>\n",
       "      <th>...</th>\n",
       "      <td>...</td>\n",
       "      <td>...</td>\n",
       "      <td>...</td>\n",
       "      <td>...</td>\n",
       "    </tr>\n",
       "    <tr>\n",
       "      <th>1256</th>\n",
       "      <td>58</td>\n",
       "      <td>drought, stress, tolerance, salt, aba</td>\n",
       "      <td>124</td>\n",
       "      <td>1.609477e+09</td>\n",
       "    </tr>\n",
       "    <tr>\n",
       "      <th>1257</th>\n",
       "      <td>59</td>\n",
       "      <td>clock, circadian, circadian clock, elf4, tempe...</td>\n",
       "      <td>17</td>\n",
       "      <td>1.609477e+09</td>\n",
       "    </tr>\n",
       "    <tr>\n",
       "      <th>1258</th>\n",
       "      <td>60</td>\n",
       "      <td>flowering, vernalization, flowering time, time...</td>\n",
       "      <td>13</td>\n",
       "      <td>1.609477e+09</td>\n",
       "    </tr>\n",
       "    <tr>\n",
       "      <th>1259</th>\n",
       "      <td>61</td>\n",
       "      <td>stamen, tfple, rootlets, mawuap1, doag2</td>\n",
       "      <td>9</td>\n",
       "      <td>1.609477e+09</td>\n",
       "    </tr>\n",
       "    <tr>\n",
       "      <th>1260</th>\n",
       "      <td>62</td>\n",
       "      <td>stem, meristem, cell, 2020, stem cell</td>\n",
       "      <td>19</td>\n",
       "      <td>1.609477e+09</td>\n",
       "    </tr>\n",
       "  </tbody>\n",
       "</table>\n",
       "<p>1261 rows × 4 columns</p>\n",
       "</div>"
      ],
      "text/plain": [
       "      Topic                                              Words  Frequency  \\\n",
       "0        -1         arabidopsis, gene, protein, thaliana, cdna       1088   \n",
       "1         0  7tm, 7tm receptors, heterotrimeric, small prot...          2   \n",
       "2         2       pldgamma, pld, pldalpha, pldbeta, nad kinase          7   \n",
       "3         3           ubiquitin, cop9, e2s, e2, multiubiquitin         13   \n",
       "4         4                    uvb, 64, photolyase, uvh1, uvh6         12   \n",
       "...     ...                                                ...        ...   \n",
       "1256     58              drought, stress, tolerance, salt, aba        124   \n",
       "1257     59  clock, circadian, circadian clock, elf4, tempe...         17   \n",
       "1258     60  flowering, vernalization, flowering time, time...         13   \n",
       "1259     61            stamen, tfple, rootlets, mawuap1, doag2          9   \n",
       "1260     62              stem, meristem, cell, 2020, stem cell         19   \n",
       "\n",
       "         Timestamp  \n",
       "0     9.030672e+08  \n",
       "1     9.030672e+08  \n",
       "2     9.030672e+08  \n",
       "3     9.030672e+08  \n",
       "4     9.030672e+08  \n",
       "...            ...  \n",
       "1256  1.609477e+09  \n",
       "1257  1.609477e+09  \n",
       "1258  1.609477e+09  \n",
       "1259  1.609477e+09  \n",
       "1260  1.609477e+09  \n",
       "\n",
       "[1261 rows x 4 columns]"
      ]
     },
     "execution_count": 47,
     "metadata": {},
     "output_type": "execute_result"
    }
   ],
   "source": [
    "topics_over_time = pd.DataFrame(topics_over_time, \n",
    "                          columns=[\"Topic\", \"Words\", \"Frequency\", \"Timestamp\"])\n",
    "tot_df_file = work_dir / \\\n",
    "                      f\"table6_topics_over_time_df_no_global_tune_{target}.tsv\"\n",
    "topics_over_time.to_csv(tot_df_file, sep='\\t')\n",
    "topics_over_time"
   ]
  },
  {
   "cell_type": "markdown",
   "metadata": {},
   "source": [
    "### Topic over time plot\n",
    "\n",
    "Customize [BERTopic/bertopic/plotting/_topics_over_time.py](https://github.com/MaartenGr/BERTopic/blob/master/bertopic/plotting/_topics_over_time.py):\n",
    "- BERTopic version is 0.12.0, different from what I started with 0.9.4.\n",
    "- The function to modify is `visualize_topics_over_time`."
   ]
  },
  {
   "cell_type": "code",
   "execution_count": null,
   "metadata": {},
   "outputs": [],
   "source": [
    "def visualize_tot_mod(topic_model, topics_over_time, topics=None, \n",
    "                      normalize_frequency=False, width=1000, height=400):\n",
    "\n",
    "  colors = [\"#56B4E9\", \"#E69F00\", \"#009E73\", \"#F0E442\", \"#D55E00\", \"#0072B2\", \n",
    "            \"#CC79A7\"]\n",
    "\n",
    "  # Select topics\n",
    "  if topics:\n",
    "    selected_topics = topics\n",
    "  else:\n",
    "    selected_topics = topic_model.get_topic_freq().Topic.values\n",
    "\n",
    "  # Prepare data\n",
    "  # topic_model.topic_names is now topic_model.topic_labels_\n",
    "  topic_names = {key: value[:40] + \"...\" if len(value) > 40 else value\n",
    "                       for key, value in topic_model.topic_labels_.items()}\n",
    "\n",
    "\n",
    "  topics_over_time[\"Name\"] = topics_over_time.Topic.map(topic_names)\n",
    "  data = topics_over_time.loc[\n",
    "    topics_over_time.Topic.isin(selected_topics), :].sort_values(\n",
    "        [\"Topic\", \"Timestamp\"])\n",
    "    \n",
    "  # Add traces\n",
    "  fig = go.Figure()\n",
    "  max_freq = 0  # set max frequency for plotting purpose\n",
    "  for index, topic in enumerate(data.Topic.unique()):\n",
    "    trace_data = data.loc[data.Topic == topic, :]\n",
    "    topic_name = trace_data.Name.values[0]\n",
    "    words = trace_data.Words.values\n",
    "    if normalize_frequency:\n",
    "      y = normalize(trace_data.Frequency.values.reshape(1, -1))[0]\n",
    "    else:\n",
    "      y = trace_data.Frequency\n",
    "\n",
    "    if max(y) > max_freq:\n",
    "      max_freq = max(y)\n",
    "    fig.add_trace(go.Scatter(x=trace_data.Timestamp, y=y, mode='lines+markers',\n",
    "      marker_color=colors[index % 7], hoverinfo=\"text\",\n",
    "      name=topic_name,\n",
    "      hovertext=[f'<b>Topic {topic}</b><br>Words: {word}' for word in words]))\n",
    "\n",
    "  # Set the xaxis values, just use topic=0 \n",
    "  unique_tss = data.loc[data.Topic == selected_topics[0], :].Timestamp.tolist()\n",
    "  datetimes  = [datetime.fromtimestamp(ts) for ts in unique_tss]\n",
    "  ymds       = [f'{dt.year}-{dt.month}-{dt.day}' for dt in datetimes]\n",
    "  \n",
    "  # At recent date it becomes too dense, so only show every 2 dates\n",
    "  skip_after = datetime(2011, 1, 1).timestamp()\n",
    "  skip_start_idx = bisect(unique_tss, skip_after)\n",
    "  unique_tss2 = unique_tss[:skip_start_idx] + unique_tss[skip_start_idx::2]\n",
    "  ymds2       = ymds[:skip_start_idx] + ymds[skip_start_idx::2]\n",
    "\n",
    "  # Styling of the visualization\n",
    "  #toc_str    = \"-\".join([str(toc) for toc in topics])\n",
    "  toc_str = topic_names[topics[0]]\n",
    "\n",
    "  fig.update_xaxes(showgrid=True)\n",
    "  fig.update_yaxes(showgrid=True)\n",
    "  fig.update_layout(\n",
    "    yaxis_title=\"Normalized Frequency\" if normalize_frequency else \"Frequency\",\n",
    "    title={'text': f\"<b>Topic(s): {toc_str}\",\n",
    "           'y': .95,\n",
    "           'x': 0.40,\n",
    "           'xanchor': 'center',\n",
    "           'yanchor': 'top',\n",
    "           'font': dict(size=22, color=\"Black\")},\n",
    "    template=\"simple_white\",\n",
    "    width=width,\n",
    "    height=height,\n",
    "    hoverlabel=dict(bgcolor=\"white\", font_size=16, font_family=\"Rockwell\"),\n",
    "    legend=dict(title=\"<b>Global Topic Representation\"),\n",
    "    xaxis=dict(tickmode='array', tickvals=unique_tss2, ticktext=ymds2,\n",
    "               tickangle=-60))\n",
    "\n",
    "  # Add decade lines\n",
    "  for decade in range(1980, 2020, 10):\n",
    "    dt = datetime(decade, 1, 1)\n",
    "    ts = datetime.timestamp(dt)\n",
    "    fig.add_shape(type=\"line\", x0=ts, y0=0, x1=ts, y1=max_freq*1.05,\n",
    "                  line=dict(color=\"red\", width=3, dash='dot'))\n",
    "\n",
    "  # Save figure\n",
    "  fig.write_html(tot_graph_dir / f'tot_graph_topic_{toc_str}_no_globaltune.html')\n",
    "  fig.write_image(tot_graph_dir / f'tot_graph_topic_{toc_str}_no_globaltune.pdf')\n",
    "\n",
    "  return fig, unique_tss"
   ]
  },
  {
   "cell_type": "code",
   "execution_count": null,
   "metadata": {},
   "outputs": [],
   "source": [
    "# +2 because zero-indexing and the 1st topic is the outlier (-1)\n",
    "num_topics = np.max(topics_over_time[\"Topic\"]) + 2\n",
    "\n",
    "# Go through all topics\n",
    "for topic in tqdm(range(0, num_topics)):\n",
    "  visualize_tot_mod(topic_model, topics_over_time, topics=[topic])"
   ]
  },
  {
   "cell_type": "markdown",
   "metadata": {},
   "source": [
    "### Topic over time heatmap\n",
    "\n",
    "Codes lifted from `script_5_1_species_over_time.ipynb`\n",
    "- Ordered based on moving average"
   ]
  },
  {
   "cell_type": "code",
   "execution_count": null,
   "metadata": {},
   "outputs": [],
   "source": [
    "def set_bounds_and_xtick(topX):\n",
    "  # Set heatmap x-axis\n",
    "  ts_begin = datetime(1971, 1, 1).timestamp()\n",
    "  boundsX  = np.insert(ts_unique, 0, ts_begin)\n",
    "\n",
    "  # Set heatmap y-axis\n",
    "  toc_nooutlier = np.arange(topX) \n",
    "  midpointsY = (toc_nooutlier[:-1] + toc_nooutlier[1:]) / 2\n",
    "  boundsY    = np.concatenate([[2*midpointsY[0]-midpointsY[1]], \n",
    "                              midpointsY, \n",
    "                              [2*midpointsY[-1]-midpointsY[-2]]])\n",
    "\n",
    "  # xtick labels\n",
    "  ts_unique_dts = [datetime.fromtimestamp(ts) for ts in ts_unique]\n",
    "  ts_unique_dts = [f\"{dt.year}-{dt.month}-{dt.day}\" for dt in ts_unique_dts]\n",
    "  xticklabels   = [\"1917-1-1\"] + ts_unique_dts\n",
    "\n",
    "  return boundsX, boundsY, xticklabels"
   ]
  },
  {
   "cell_type": "code",
   "execution_count": null,
   "metadata": {},
   "outputs": [],
   "source": []
  },
  {
   "cell_type": "code",
   "execution_count": null,
   "metadata": {},
   "outputs": [],
   "source": [
    "def moving_avg_reorder_and_plot(values, step_size, level_offspr, level_parent, \n",
    "                                topX):\n",
    "  dict_max_val_ts = {} # {1st_timestamp_in_window:{max_value:[taxa]}}\n",
    "\n",
    "  #print(\"In moving_avg_reorder_and_plot:\", values.shape)\n",
    "  count = 0\n",
    "  for taxa in values.index:\n",
    "    # series for genus\n",
    "    val_series = values.loc[taxa]\n",
    "    val_max    = 0 # for setting value maximum\n",
    "    val_max_ts = 0 # for setting last_timestamp_in_window for value maximum\n",
    "\n",
    "    # Go through steps\n",
    "    for idx in range(0, val_series.shape[0], step_size):\n",
    "      vals     = val_series.iloc[idx:idx+step_size]\n",
    "      val_mean = np.mean(vals)\n",
    "      # new max found, set values\n",
    "      if val_mean > val_max:\n",
    "        val_max    = val_mean\n",
    "        val_max_ts = vals.index[0]\n",
    "      #print(val_max, val_max_ts)\n",
    "    \n",
    "    # set values in dict_max_val_ts\n",
    "    if val_max_ts not in dict_max_val_ts:\n",
    "      dict_max_val_ts[val_max_ts] = {val_max:[taxa]}\n",
    "    elif val_max not in dict_max_val_ts[val_max_ts]:\n",
    "      dict_max_val_ts[val_max_ts][val_max] = [taxa]\n",
    "    # for topx=100, step_size=2, one val_max is the same\n",
    "    else:\n",
    "      print(\"Same val_max:\", val_max_ts, val_max, taxa)\n",
    "      dict_max_val_ts[val_max_ts][val_max].append(taxa)\n",
    "\n",
    "  # Get the new yticklabels based on the ordered ts_max_val\n",
    "  # was doing list(dict_max_val_ts.keys()), but this gives:\n",
    "  #  TypeError: list indices must be integers or slices, not float\n",
    "  max_val_ts   = [key for key in dict_max_val_ts.keys()]\n",
    "  max_val_ts.sort()\n",
    "  max_val_ts.reverse()\n",
    "  new_yticks = []\n",
    "  for ts in max_val_ts:\n",
    "    #print(ts)\n",
    "    val_maxs = [key for key in dict_max_val_ts[ts].keys()]\n",
    "    val_maxs.sort()\n",
    "    for val_max in val_maxs:\n",
    "      #print(\"\", val_max, len(dict_max_val_ts[ts][val_max]))\n",
    "      #print(ts, val_max, dict_max_val_ts[ts][val_max])\n",
    "      for taxa in dict_max_val_ts[ts][val_max]:\n",
    "        new_yticks.append(taxa)\n",
    "  #print(len(new_yticks))\n",
    "\n",
    "  # Reorder dataframe\n",
    "  values_reordered = values.reindex(new_yticks)\n",
    "  #print(\"after reordering:\", values_reordered.shape)\n",
    "\n",
    "  # set bounts and xticks\n",
    "  boundsX, boundsY, xticklabels = set_bounds_and_xtick(topX)\n",
    "\n",
    "  plot_scaled_heatmap(boundsX, boundsY, xticklabels, new_yticks, \n",
    "    values_reordered, f\"window{step_size}\", level_offspr, level_parent, topX)\n",
    "\n",
    "  return new_yticks, values_reordered\n"
   ]
  },
  {
   "cell_type": "code",
   "execution_count": null,
   "metadata": {},
   "outputs": [],
   "source": []
  }
 ],
 "metadata": {
  "kernelspec": {
   "display_name": "Python 3.9.12 ('bertopic': conda)",
   "language": "python",
   "name": "python3"
  },
  "language_info": {
   "codemirror_mode": {
    "name": "ipython",
    "version": 3
   },
   "file_extension": ".py",
   "mimetype": "text/x-python",
   "name": "python",
   "nbconvert_exporter": "python",
   "pygments_lexer": "ipython3",
   "version": "3.9.12"
  },
  "orig_nbformat": 4,
  "vscode": {
   "interpreter": {
    "hash": "f2e4e20fc18a85a340f79bd4194edb89aa809195ae81b8baa70bd7972a2a12f7"
   }
  }
 },
 "nbformat": 4,
 "nbformat_minor": 2
}
