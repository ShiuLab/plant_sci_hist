{
 "cells": [
  {
   "cell_type": "markdown",
   "metadata": {},
   "source": [
    "# __Step 6.1: Arabodopsis-related topic over time__\n",
    "\n",
    "Goals here:\n",
    "- Model topics for docs mentioning Arabidopsis\n",
    "- Model Arabidopsis topics over time\n",
    "\n",
    "Issues:\n",
    "- 10/4/22: \n",
    "  - Run BERTopic and get `RuntimeError: CUDA error: no kernel image is available for execution on the device`.\n",
    "    - Reinstall torch following advices from [here](https://github.com/NVlabs/stylegan2-ada-pytorch/issues/6) for example\n",
    "    - `conda install pytorch torchvision torchaudio cudatoolkit=11.6 -c pytorch -c conda-forge`\n",
    "  - Once updating torch, run into problem that numba requires numpy <=1.21\n",
    "    - `conda install numpy=1.21`\n",
    "  - Get `AttributeError: 'BERTopic' object has no attribute 'generate_topic_labels'`\n",
    "    - Update BERTopic: `pip install --upgrade bertopic`\n",
    "  - Get `ImportError: cannot import name 'DatasetInfo' from 'huggingface_hub.hf_api'`\n",
    "    - Update huggingface_hub\n",
    "  - Because BERTopic is updated, the c-tf-idf matrix name is changed. This is not changed for earlier codes."
   ]
  },
  {
   "cell_type": "markdown",
   "metadata": {},
   "source": [
    "## ___Set up___"
   ]
  },
  {
   "cell_type": "markdown",
   "metadata": {},
   "source": [
    "### Module import\n",
    "\n",
    "In bertopic environment"
   ]
  },
  {
   "cell_type": "code",
   "execution_count": 1,
   "metadata": {},
   "outputs": [],
   "source": [
    "import re, pickle, os, torch, csv\n",
    "import numpy as np\n",
    "import pandas as pd\n",
    "import seaborn as sns\n",
    "import matplotlib as mpl\n",
    "import matplotlib.pyplot as plt\n",
    "import statsmodels.api as sm\n",
    "import plotly.graph_objects as go\n",
    "\n",
    "from pathlib import Path\n",
    "from tqdm import tqdm\n",
    "from nltk.corpus import stopwords\n",
    "from nltk.tokenize import word_tokenize\n",
    "from bertopic import BERTopic\n",
    "from sentence_transformers import SentenceTransformer\n",
    "from hdbscan import HDBSCAN\n",
    "from xlsxwriter.workbook import Workbook\n",
    "from datetime import datetime\n",
    "from bisect import bisect\n",
    "from sklearn.preprocessing import normalize\n",
    "from sklearn.metrics import mean_squared_error\n",
    "from sklearn.preprocessing import minmax_scale\n",
    "from scipy.interpolate import interp1d\n",
    "from shutil import copy\n",
    "from dateutil.relativedelta import relativedelta"
   ]
  },
  {
   "cell_type": "code",
   "execution_count": 2,
   "metadata": {},
   "outputs": [
    {
     "data": {
      "text/plain": [
       "(True, '1.12.1')"
      ]
     },
     "execution_count": 2,
     "metadata": {},
     "output_type": "execute_result"
    }
   ],
   "source": [
    "torch.cuda.is_available(), torch.__version__"
   ]
  },
  {
   "cell_type": "markdown",
   "metadata": {},
   "source": [
    "### Key variables"
   ]
  },
  {
   "cell_type": "code",
   "execution_count": 3,
   "metadata": {},
   "outputs": [],
   "source": [
    "# Reproducibility\n",
    "seed = 20220609\n",
    "\n",
    "# Setting working directory\n",
    "proj_dir   = Path.home() / \"projects/plant_sci_hist\"\n",
    "work_dir   = proj_dir / \"6_topic_model_arabidopsis/\"\n",
    "work_dir.mkdir(parents=True, exist_ok=True)\n",
    "\n",
    "# plant science corpus with date and other info\n",
    "dir2        = proj_dir / \"2_text_classify//2_5_predict_pubmed\"\n",
    "corpus_file = dir2 / \"corpus_plant_421658.tsv.gz\"\n",
    "\n",
    "# Species match data\n",
    "dir5               = proj_dir / \"5_species_over_time/\"\n",
    "viridi_offspr_file = dir5 / \"viridiplantae_offspring_names.pickle\" \n",
    "match_csr_file     = dir5 / \"match_csr.pickle\"\n",
    "\n",
    "# BERT model to use\n",
    "model_name     = \"allenai/scibert_scivocab_uncased\"\n",
    "model_name_mod = \"-\".join(model_name.split(\"/\"))\n",
    "\n",
    "# the target term\n",
    "target = \"Arabidopsis\"\n",
    "\n",
    "## outputs for topic modeling\n",
    "# path for the corpus for the target (i.e., Arabidopsis)\n",
    "corpus_target_file = work_dir / \"corpus_arabidopsis.tsv.gz\"\n",
    "# generated during bertopic run\n",
    "docs_clean_file  = work_dir / f\"docs_clean_{target}.pickle\"\n",
    "emb_file         = work_dir / f\"embeddings_{target}_scibert.pickle\"\n",
    "topic_model_file = work_dir / f\"topic_model_{target}_{model_name_mod}\"\n",
    "topics_file      = work_dir / f\"topics_{target}_{model_name_mod}.pickle\"\n",
    "probs_file       = work_dir / f'probs_{target}_{model_name_mod}.pickle'\n",
    "topic_model_updated_file = work_dir / \\\n",
    "                              f\"topic_model_update_{target}_{model_name_mod}\"\n",
    "\n",
    "## outputs for topic model analysis\n",
    "top_50_terms_file = work_dir / f'top_50_terms_per_topic_{target}.pickle'\n",
    "top_50_terms_xlsx = work_dir / f'top_50_terms_per_topic_{target}.xlsx'\n",
    "topic_label_file  = work_dir / f\"topic_labels_{target}.txt\"\n",
    "rep_docs_file     = work_dir / f\"topic_rep_docs_{target}.tsv\"\n",
    "\n",
    "# Put the top 50 term info into different tsv files in the top_50 folder\n",
    "top_50_dir = work_dir / \"top_50\"\n",
    "top_50_dir.mkdir(parents=True, exist_ok=True)\n",
    "\n",
    "## output for topic over time analysis\n",
    "# Creat a folder to store c-tf-idf matrix for each timestamp bin\n",
    "ctfidf_dir = work_dir / \"ctfidf_over_time\"\n",
    "ctfidf_dir.mkdir(parents=True, exist_ok=True)\n",
    "\n",
    "# Create a folder to store topic over time graph for each topic\n",
    "tot_graph_dir = work_dir / 'tot_graphs'\n",
    "tot_graph_dir.mkdir(parents=True, exist_ok=True)\n",
    "\n",
    "# output for lowess fit\n",
    "dir_lowess = work_dir / \"_lowess\"\n",
    "dir_lowess.mkdir(parents=True, exist_ok=True)\n",
    "\n",
    "# for selected files\n",
    "dir_lowess_sel = dir_lowess / \"_selected\"\n",
    "dir_lowess_sel.mkdir(parents=True, exist_ok=True)\n",
    "\n",
    "# So PDF is saved in a format properly\n",
    "mpl.rcParams['pdf.fonttype'] = 42\n",
    "plt.rcParams[\"font.family\"] = \"sans-serif\""
   ]
  },
  {
   "cell_type": "markdown",
   "metadata": {},
   "source": [
    "## ___Get all Arabidopsis records___"
   ]
  },
  {
   "cell_type": "markdown",
   "metadata": {},
   "source": [
    "### Get match_csr column that is for Arabidopsis"
   ]
  },
  {
   "cell_type": "code",
   "execution_count": 4,
   "metadata": {},
   "outputs": [],
   "source": [
    "# load the saved csr\n",
    "with open(match_csr_file, \"rb\") as f:\n",
    "  match_csr = pickle.load(f)\n",
    "\n",
    "# load viridiplantae offspring names that is the same order as match_csr\n",
    "with open(viridi_offspr_file, \"rb\") as f:\n",
    "  viridi_offspr_names = pickle.load(f)"
   ]
  },
  {
   "cell_type": "code",
   "execution_count": 5,
   "metadata": {},
   "outputs": [
    {
     "data": {
      "text/plain": [
       "((421658, 26782), 26782)"
      ]
     },
     "execution_count": 5,
     "metadata": {},
     "output_type": "execute_result"
    }
   ],
   "source": [
    "# Check dimension\n",
    "match_csr.shape, len(viridi_offspr_names)"
   ]
  },
  {
   "cell_type": "code",
   "execution_count": 6,
   "metadata": {},
   "outputs": [
    {
     "data": {
      "text/plain": [
       "22612"
      ]
     },
     "execution_count": 6,
     "metadata": {},
     "output_type": "execute_result"
    }
   ],
   "source": [
    "target_idx = viridi_offspr_names.index(target)\n",
    "target_idx"
   ]
  },
  {
   "cell_type": "code",
   "execution_count": 7,
   "metadata": {},
   "outputs": [
    {
     "data": {
      "text/plain": [
       "(numpy.ndarray, 421658, 50346)"
      ]
     },
     "execution_count": 7,
     "metadata": {},
     "output_type": "execute_result"
    }
   ],
   "source": [
    "# Get indicues of non-zero elements\n",
    "#https://numpy.org/doc/stable/reference/generated/numpy.nonzero.html\n",
    "target_match_arr = match_csr[:,target_idx].toarray().ravel()\n",
    "target_match_idx = np.nonzero(target_match_arr)[0]\n",
    "\n",
    "# Check datatype, shape, and total (ok)\n",
    "type(target_match_arr), len(target_match_arr), np.sum(target_match_arr)"
   ]
  },
  {
   "cell_type": "code",
   "execution_count": 8,
   "metadata": {},
   "outputs": [
    {
     "data": {
      "text/plain": [
       "(50346, array([ 994, 1725, 2524, 3022, 3032]))"
      ]
     },
     "execution_count": 8,
     "metadata": {},
     "output_type": "execute_result"
    }
   ],
   "source": [
    "len(target_match_idx), target_match_idx[:5]"
   ]
  },
  {
   "cell_type": "markdown",
   "metadata": {},
   "source": [
    "### Get the corpus dataframe for records mentioning Arabidopsis"
   ]
  },
  {
   "cell_type": "code",
   "execution_count": 10,
   "metadata": {},
   "outputs": [],
   "source": [
    "# Read corpus file\n",
    "corpus_all = pd.read_csv(corpus_file, compression='gzip', sep='\\t')"
   ]
  },
  {
   "cell_type": "code",
   "execution_count": 11,
   "metadata": {},
   "outputs": [
    {
     "name": "stdout",
     "output_type": "stream",
     "text": [
      "1000\n"
     ]
    }
   ],
   "source": [
    "# Make sure the corpus contain Arabidopsis, test the 1st 1000\n",
    "#https://www.statology.org/pandas-select-rows-by-index/\n",
    "test1000     = corpus_all.loc[target_match_idx[:1000]]['txt']\n",
    "count_found = 0\n",
    "for txt in test1000:\n",
    "  if \"Arabidopsis\" in txt:\n",
    "    count_found += 1\n",
    "\n",
    "print(count_found)"
   ]
  },
  {
   "cell_type": "code",
   "execution_count": 12,
   "metadata": {},
   "outputs": [
    {
     "name": "stdout",
     "output_type": "stream",
     "text": [
      "  load corpus_target_file\n",
      "(50346, 12)\n"
     ]
    }
   ],
   "source": [
    "# Get the dataframe for Arabidopsis\n",
    "if corpus_target_file.is_file():\n",
    "  print(\"  load corpus_target_file\")\n",
    "  corpus_target = pd.read_csv(corpus_target_file, sep='\\t', compression='gzip')\n",
    "else:\n",
    "  print(\"  generate corpus_target_file\")\n",
    "  corpus_target = corpus_all.loc[target_match_idx]\n",
    "  corpus_target.to_csv(corpus_target_file, sep='\\t', compression='gzip')\n",
    "  \n",
    "print(corpus_target.shape)"
   ]
  },
  {
   "cell_type": "markdown",
   "metadata": {},
   "source": [
    "## ___Topic modeling___\n",
    "\n",
    "Codes modified from `script_4_1_topic_model_v2.py` and `script_4_2_outlier_assign.ipynb`"
   ]
  },
  {
   "cell_type": "markdown",
   "metadata": {},
   "source": [
    "### Pre-processing texts"
   ]
  },
  {
   "cell_type": "code",
   "execution_count": 32,
   "metadata": {},
   "outputs": [
    {
     "name": "stdout",
     "output_type": "stream",
     "text": [
      "Pre-processing docs\n",
      "  load processed docs\n"
     ]
    },
    {
     "data": {
      "text/plain": [
       "50346"
      ]
     },
     "execution_count": 32,
     "metadata": {},
     "output_type": "execute_result"
    }
   ],
   "source": [
    "def clean_text(x, stop_words_dict):\n",
    "    x = str(x)\n",
    "    x = x.lower()\n",
    "    # Replace any non-alphanumric characters of any length\n",
    "    # Q: Not sure what the # character do.\n",
    "    x = re.sub(r'#[A-Za-z0-9]*', ' ', x)\n",
    "    # tokenize and rid of any token matching stop words\n",
    "    tokens = word_tokenize(x)\n",
    "    x = ' '.join([w for w in tokens if not w in stop_words_dict])\n",
    "    return x\n",
    "    \n",
    "print(\"Pre-processing docs\")\n",
    "if docs_clean_file.is_file():\n",
    "  print(\"  load processed docs\")\n",
    "  with open(docs_clean_file, \"rb\") as f:\n",
    "    docs_clean = pickle.load(f)\n",
    "else:\n",
    "  print(\"  read corpus and process docs\")\n",
    "  corpus_target_df = pd.read_csv(corpus_target_file, sep='\\t', compression='gzip')\n",
    "  \n",
    "  docs       = corpus_target_df['txt']\n",
    "  stop_words = stopwords.words('english')\n",
    "  stop_words_dict = {}\n",
    "  for i in stop_words:\n",
    "    stop_words_dict[i] = 1\n",
    "\n",
    "  docs_clean = []\n",
    "  for doc_idx in tqdm(range(len(docs))):\n",
    "    doc = docs[doc_idx]\n",
    "    docs_clean.append(clean_text(doc, stop_words_dict))\n",
    "  with open(docs_clean_file, \"wb\") as f:\n",
    "    pickle.dump(docs_clean, f)\n",
    "\n",
    "len(docs_clean)"
   ]
  },
  {
   "cell_type": "markdown",
   "metadata": {},
   "source": [
    "### Generate embeddings"
   ]
  },
  {
   "cell_type": "code",
   "execution_count": 33,
   "metadata": {},
   "outputs": [
    {
     "name": "stdout",
     "output_type": "stream",
     "text": [
      "Load embeddings\n"
     ]
    }
   ],
   "source": [
    "# Generate embeddings\n",
    "if emb_file.is_file():\n",
    "  print(\"Load embeddings\")\n",
    "  with open(emb_file, \"rb\") as f:\n",
    "    embeddings = pickle.load(f)\n",
    "else:\n",
    "  print(\"Generate embeddings\")\n",
    "  emb_model  = SentenceTransformer(model_name)\n",
    "  embeddings = emb_model.encode(docs_clean, show_progress_bar=True)\n",
    "  # Output embeddings\n",
    "  with open(emb_file, \"wb\") as f:\n",
    "    pickle.dump(embeddings, f)"
   ]
  },
  {
   "cell_type": "markdown",
   "metadata": {},
   "source": [
    "### Run BERTopic"
   ]
  },
  {
   "cell_type": "markdown",
   "metadata": {},
   "source": [
    "#### Set parameters"
   ]
  },
  {
   "cell_type": "code",
   "execution_count": null,
   "metadata": {},
   "outputs": [],
   "source": [
    "# HDBSCAN clustering setting\n",
    "min_cluster_size         = 100 # This is 500 for the full dataset run\n",
    "metric                   = 'euclidean' \n",
    "cluster_selection_method ='eom' \n",
    "prediction_data          = True \n",
    "min_samples              = 5\n",
    "\n",
    "# BERTopic setting\n",
    "calculate_probabilities = True\n",
    "n_neighbors             = 10  \n",
    "nr_topics               = 500\n",
    "n_gram_range            = (1,2)"
   ]
  },
  {
   "cell_type": "markdown",
   "metadata": {},
   "source": [
    "#### Initialize HDBSCAN\n",
    "\n",
    "For reducing outliers, following [this instruction](https://maartengr.github.io/BERTopic/faq.html#how-do-i-reduce-topic-outliers)\n",
    "- Also see [HDBSCAN doc](https://hdbscan.readthedocs.io/en/latest/basic_hdbscan.html#what-about-different-metrics)\n",
    "- Comparison of [distance metrics](https://www.kdnuggets.com/2019/01/comparison-text-distance-metrics.html)"
   ]
  },
  {
   "cell_type": "code",
   "execution_count": null,
   "metadata": {},
   "outputs": [],
   "source": [
    "hdbscan_model = HDBSCAN(min_cluster_size=min_cluster_size, \n",
    "                        metric=metric, \n",
    "                        cluster_selection_method=cluster_selection_method, \n",
    "                        prediction_data=prediction_data, \n",
    "                        min_samples=min_samples)"
   ]
  },
  {
   "cell_type": "markdown",
   "metadata": {},
   "source": [
    "#### Intialize and train topic model"
   ]
  },
  {
   "cell_type": "code",
   "execution_count": null,
   "metadata": {},
   "outputs": [],
   "source": [
    "topic_model = BERTopic(hdbscan_model=hdbscan_model,\n",
    "                       calculate_probabilities=calculate_probabilities,\n",
    "                       n_gram_range=n_gram_range,\n",
    "                       nr_topics=nr_topics,\n",
    "                       verbose=True)"
   ]
  },
  {
   "cell_type": "code",
   "execution_count": null,
   "metadata": {},
   "outputs": [],
   "source": [
    "topics, probs = topic_model.fit_transform(docs_clean,\n",
    "                                          embeddings)"
   ]
  },
  {
   "cell_type": "markdown",
   "metadata": {},
   "source": [
    "#### Save model, topics, and probability"
   ]
  },
  {
   "cell_type": "code",
   "execution_count": null,
   "metadata": {},
   "outputs": [],
   "source": [
    "# I already save the embeddings, so won't save it again\n",
    "topic_model.save(topic_model_file)\n",
    "\n",
    "with open(topics_file, \"wb\") as f:\n",
    "    pickle.dump(topics, f)\n",
    "\n",
    "with open(probs_file, \"wb\") as f:\n",
    "  pickle.dump(probs, f)"
   ]
  },
  {
   "cell_type": "markdown",
   "metadata": {},
   "source": [
    "#### Load model and probabilities\n",
    "\n",
    "This is more for running topic modeling on the much larger corpus. Here the targeted corpus is much smaller. But keep this anyway."
   ]
  },
  {
   "cell_type": "code",
   "execution_count": 35,
   "metadata": {},
   "outputs": [],
   "source": [
    "# Load topic model\n",
    "topic_model = BERTopic.load(topic_model_file)\n",
    "\n",
    "# load prob\n",
    "with open(probs_file, \"rb\") as f:\n",
    "  probs = pickle.load(f)"
   ]
  },
  {
   "cell_type": "code",
   "execution_count": 36,
   "metadata": {},
   "outputs": [
    {
     "data": {
      "text/plain": [
       "(   Topic  Count                                       Name\n",
       " 0     -1  20207          -1_arabidopsis_plants_plant_genes\n",
       " 1      0    101   0_spaceflight_microgravity_space_gravity\n",
       " 2      1    118  1_ptdins_inositol_phosphatidylinositol_p2\n",
       " 3      2    129    2_heterotrimeric_gprotein_signaling_rop\n",
       " 4      3   1034          3_transformation_tdna_gene_system,\n",
       "     Topic  Count                                        Name\n",
       " 60     59    266          59_floral_genes_development_flower\n",
       " 61     60    402      60_flowering_ft_floral_flowering locus\n",
       " 62     61    425  61_circadian_clock_circadian clock_rhythms\n",
       " 63     62    104                    62_ndh_psii_por_assembly\n",
       " 64     63    381               63_psii_photosystem_light_psi)"
      ]
     },
     "execution_count": 36,
     "metadata": {},
     "output_type": "execute_result"
    }
   ],
   "source": [
    "topic_info = topic_model.get_topic_info()\n",
    "topic_info.head(), topic_info.tail()"
   ]
  },
  {
   "cell_type": "markdown",
   "metadata": {},
   "source": [
    "## ___Outlier assignments___\n",
    "\n",
    "Modified from `script_4_2_outlier_assign.ipynb`"
   ]
  },
  {
   "cell_type": "markdown",
   "metadata": {},
   "source": [
    "### Assignments"
   ]
  },
  {
   "cell_type": "code",
   "execution_count": 37,
   "metadata": {},
   "outputs": [],
   "source": [
    "# 95 precentile probability value as threshold\n",
    "probability_threshold = np.percentile(probs, 95)\n",
    "new_topics = [np.argmax(prob) if max(prob) >= probability_threshold else -1 \n",
    "                                                            for prob in probs]"
   ]
  },
  {
   "cell_type": "code",
   "execution_count": 38,
   "metadata": {},
   "outputs": [
    {
     "data": {
      "text/plain": [
       "0.04057919199141938"
      ]
     },
     "execution_count": 38,
     "metadata": {},
     "output_type": "execute_result"
    }
   ],
   "source": [
    "# Unassigned doc number\n",
    "n_unassigned = pd.Series(new_topics).value_counts().loc[-1]\n",
    "n_unassigned/len(new_topics)"
   ]
  },
  {
   "cell_type": "markdown",
   "metadata": {},
   "source": [
    "### Update topics\n"
   ]
  },
  {
   "cell_type": "code",
   "execution_count": null,
   "metadata": {},
   "outputs": [],
   "source": [
    "# update topic based on new topics\n",
    "topic_model.update_topics(docs_clean, new_topics)"
   ]
  },
  {
   "cell_type": "code",
   "execution_count": null,
   "metadata": {},
   "outputs": [],
   "source": [
    "# Update topic frequencies\n",
    "documents = pd.DataFrame({\"Document\": docs_clean, \"Topic\": new_topics})\n",
    "topic_model._update_topic_size(documents)\n",
    "topic_model.save(topic_model_updated_file)"
   ]
  },
  {
   "cell_type": "markdown",
   "metadata": {},
   "source": [
    "### Get updated topic info"
   ]
  },
  {
   "cell_type": "code",
   "execution_count": 13,
   "metadata": {},
   "outputs": [],
   "source": [
    "# Load topic model\n",
    "topic_model = BERTopic.load(topic_model_updated_file)"
   ]
  },
  {
   "cell_type": "code",
   "execution_count": 14,
   "metadata": {},
   "outputs": [
    {
     "data": {
      "text/html": [
       "<div>\n",
       "<style scoped>\n",
       "    .dataframe tbody tr th:only-of-type {\n",
       "        vertical-align: middle;\n",
       "    }\n",
       "\n",
       "    .dataframe tbody tr th {\n",
       "        vertical-align: top;\n",
       "    }\n",
       "\n",
       "    .dataframe thead th {\n",
       "        text-align: right;\n",
       "    }\n",
       "</style>\n",
       "<table border=\"1\" class=\"dataframe\">\n",
       "  <thead>\n",
       "    <tr style=\"text-align: right;\">\n",
       "      <th></th>\n",
       "      <th>Topic</th>\n",
       "      <th>Count</th>\n",
       "      <th>Name</th>\n",
       "    </tr>\n",
       "  </thead>\n",
       "  <tbody>\n",
       "    <tr>\n",
       "      <th>0</th>\n",
       "      <td>-1</td>\n",
       "      <td>2043</td>\n",
       "      <td>-1_arabidopsis_genes_protein_plant</td>\n",
       "    </tr>\n",
       "    <tr>\n",
       "      <th>1</th>\n",
       "      <td>0</td>\n",
       "      <td>127</td>\n",
       "      <td>0_spaceflight_microgravity_space_gravity</td>\n",
       "    </tr>\n",
       "    <tr>\n",
       "      <th>2</th>\n",
       "      <td>1</td>\n",
       "      <td>154</td>\n",
       "      <td>1_ptdins_inositol_phosphatidylinositol_p2</td>\n",
       "    </tr>\n",
       "    <tr>\n",
       "      <th>3</th>\n",
       "      <td>2</td>\n",
       "      <td>218</td>\n",
       "      <td>2_heterotrimeric_gprotein_signaling_protein</td>\n",
       "    </tr>\n",
       "    <tr>\n",
       "      <th>4</th>\n",
       "      <td>3</td>\n",
       "      <td>1103</td>\n",
       "      <td>3_transformation_gene_tdna_plants</td>\n",
       "    </tr>\n",
       "  </tbody>\n",
       "</table>\n",
       "</div>"
      ],
      "text/plain": [
       "   Topic  Count                                         Name\n",
       "0     -1   2043           -1_arabidopsis_genes_protein_plant\n",
       "1      0    127     0_spaceflight_microgravity_space_gravity\n",
       "2      1    154    1_ptdins_inositol_phosphatidylinositol_p2\n",
       "3      2    218  2_heterotrimeric_gprotein_signaling_protein\n",
       "4      3   1103            3_transformation_gene_tdna_plants"
      ]
     },
     "execution_count": 14,
     "metadata": {},
     "output_type": "execute_result"
    }
   ],
   "source": [
    "topic_info = topic_model.get_topic_info()\n",
    "topic_info[:5]"
   ]
  },
  {
   "cell_type": "code",
   "execution_count": 16,
   "metadata": {},
   "outputs": [
    {
     "data": {
      "text/plain": [
       "(48303, 95.94208080085807)"
      ]
     },
     "execution_count": 16,
     "metadata": {},
     "output_type": "execute_result"
    }
   ],
   "source": [
    "n_total     = np.sum(topic_info['Count'].values)\n",
    "n_outlier   = topic_info['Count'][0]\n",
    "n_in_topics = n_total - n_outlier\n",
    "n_in_topics, n_in_topics/n_total*100"
   ]
  },
  {
   "cell_type": "markdown",
   "metadata": {},
   "source": [
    "## ___Topic model analysis___"
   ]
  },
  {
   "cell_type": "markdown",
   "metadata": {},
   "source": [
    "### Topic size distribution"
   ]
  },
  {
   "cell_type": "code",
   "execution_count": 17,
   "metadata": {},
   "outputs": [
    {
     "data": {
      "image/png": "[encoded data removed]",
      "text/plain": [
       "<Figure size 432x288 with 1 Axes>"
      ]
     },
     "metadata": {
      "needs_background": "light"
     },
     "output_type": "display_data"
    }
   ],
   "source": [
    "plt.hist(np.log10(topic_info[\"Count\"]), bins=200)\n",
    "plt.xlabel(\"log10(Count)\")\n",
    "plt.ylabel(\"Frquency\")\n",
    "plt.xlim(2.5,5)\n",
    "plt.savefig(work_dir / f\"fig6_topic_count_dist_{target}.pdf\")"
   ]
  },
  {
   "cell_type": "markdown",
   "metadata": {},
   "source": [
    "### Topic-term matrix for top 50 terms"
   ]
  },
  {
   "cell_type": "code",
   "execution_count": 18,
   "metadata": {},
   "outputs": [
    {
     "data": {
      "text/plain": [
       "(scipy.sparse._csr.csr_matrix, (65, 3118159))"
      ]
     },
     "execution_count": 18,
     "metadata": {},
     "output_type": "execute_result"
    }
   ],
   "source": [
    "# Sparse matrix with topics as rows and features (i.e. terms) as columns, \n",
    "# values are c-Tf-idf\n",
    "# 10/4/22: The updated BERTopic refer to the c_tf_idf matrix differently with an\n",
    "#   extra '_' at the end\n",
    "#topic_term_matrix = topic_model.c_tf_idf\n",
    "topic_term_matrix = topic_model.c_tf_idf_\n",
    "type(topic_term_matrix), topic_term_matrix.shape"
   ]
  },
  {
   "cell_type": "code",
   "execution_count": 19,
   "metadata": {},
   "outputs": [
    {
     "name": "stderr",
     "output_type": "stream",
     "text": [
      "100%|██████████| 64/64 [00:09<00:00,  6.68it/s]\n"
     ]
    }
   ],
   "source": [
    "# A list of features (terms)\n",
    "terms = topic_model.vectorizer_model.get_feature_names()\n",
    "\n",
    "# Get top 50 terms\n",
    "top_50 = {} # {topic:[top50_idx_list, top50_c-tf-idf_list, to50_feat_list]}\n",
    "\n",
    "# Skip the outlier topic, named the variable topic_plus1 because the topic\n",
    "# index is -1 from the index in the topic_term_marix.\n",
    "for topic_plus1 in tqdm(range(1, topic_term_matrix.shape[0])):\n",
    "  row     = topic_term_matrix.getrow(topic_plus1).toarray()[0].ravel()\n",
    "\n",
    "  # The following two lines sorted from low to high\n",
    "  t50_idx = list(row.argsort()[-50:])\n",
    "  t50_val = list(row[row.argsort()[-50:]])\n",
    "\n",
    "  t50_fea = [terms[i] for i in t50_idx]\n",
    "  top_50[topic_plus1-1] = [t50_idx, t50_val, t50_fea]"
   ]
  },
  {
   "cell_type": "code",
   "execution_count": 20,
   "metadata": {},
   "outputs": [],
   "source": [
    "# Save the top 50 terms\n",
    "with open(top_50_terms_file, 'wb') as f:\n",
    "  pickle.dump(top_50, f)"
   ]
  },
  {
   "cell_type": "code",
   "execution_count": 21,
   "metadata": {},
   "outputs": [],
   "source": [
    "topic_labels = topic_model.generate_topic_labels(nr_words=10,\n",
    "                                                 topic_prefix=True,\n",
    "                                                 separator='|')"
   ]
  },
  {
   "cell_type": "code",
   "execution_count": 22,
   "metadata": {},
   "outputs": [],
   "source": [
    "# Save top terms for different topics into an xlsx file\n",
    "xlsx      = Workbook(top_50_terms_xlsx)\n",
    "\n",
    "# Do not output outlier\n",
    "topic_label_df = pd.DataFrame(topic_labels[1:])\n",
    "topic_label_df.columns = [\"label\"]\n",
    "topic_label_df.to_csv(topic_label_file, sep='\\t')\n",
    "\n",
    "worksheet = xlsx.add_worksheet(\"topic_label\")\n",
    "read_tsv = csv.reader(open(topic_label_file,'r',encoding='utf-8'),delimiter='\\t')\n",
    "for row, data in enumerate(read_tsv):\n",
    "  worksheet.write_row(row, 0, data)"
   ]
  },
  {
   "cell_type": "code",
   "execution_count": 23,
   "metadata": {},
   "outputs": [],
   "source": [
    "# Incude the representative doc in a worksheet\n",
    "rep_docs    = topic_model.get_representative_docs()\n",
    "rep_docs_df = pd.DataFrame.from_dict(rep_docs, orient='index',\n",
    "                                  columns=['doc1', 'doc2', 'doc3'])\n",
    "rep_docs_df.to_csv(rep_docs_file, sep='\\t')\n",
    "\n",
    "worksheet = xlsx.add_worksheet(\"representative docs\")\n",
    "read_tsv = csv.reader(open(rep_docs_file,'r',encoding='utf-8'),delimiter='\\t')\n",
    "for row, data in enumerate(read_tsv):\n",
    "  worksheet.write_row(row, 0, data)"
   ]
  },
  {
   "cell_type": "code",
   "execution_count": 24,
   "metadata": {},
   "outputs": [],
   "source": [
    "# Put the top 50 term info into different tsv files in the top_50 folder\n",
    "# Output individual tsv files and put tsv into xlsx\n",
    "for topic in top_50:\n",
    "  topic_file = top_50_dir / f\"topic_{topic}.tsv\"\n",
    "  # The nested list has index, c-tf-idf, and feature as rows. So it is transposed\n",
    "  # to have the rows as columns. The iloc bit is to reverse the order so higher\n",
    "  # c-tf-idf entries are on top.\n",
    "  topic_df = pd.DataFrame(top_50[topic]).transpose().iloc[::-1]\n",
    "  topic_df.columns = [\"index\", \"c-tf-idf\", \"feature\"]\n",
    "  topic_df.to_csv(topic_file, sep='\\t')\n",
    "\n",
    "  # Save to xlsx\n",
    "  worksheet = xlsx.add_worksheet(f\"{topic}\")\n",
    "  read_tsv  = csv.reader(open(topic_file, 'r',encoding='utf-8'),delimiter='\\t')\n",
    "  for row, data in enumerate(read_tsv):\n",
    "    worksheet.write_row(row, 0, data)\n",
    "\n",
    "xlsx.close()"
   ]
  },
  {
   "cell_type": "markdown",
   "metadata": {},
   "source": [
    "## ___Records per year and timestamp bins___\n",
    "\n",
    "Code modified from `script_4_4_topic_over_time.ipynb`"
   ]
  },
  {
   "cell_type": "markdown",
   "metadata": {},
   "source": [
    "### Plot records per year"
   ]
  },
  {
   "cell_type": "code",
   "execution_count": 25,
   "metadata": {},
   "outputs": [
    {
     "data": {
      "image/png": "[encoded data removed]",
      "text/plain": [
       "<Figure size 432x720 with 1 Axes>"
      ]
     },
     "metadata": {
      "needs_background": "light"
     },
     "output_type": "display_data"
    }
   ],
   "source": [
    "# Get pandas series dates\n",
    "dates = corpus_target['Date']\n",
    "\n",
    "ts_for_plot = [] # timestamps for plotting\n",
    "docs_yr     = [] # a list of years for generating bar graph later\n",
    "early_doc   = {} # {year: count}\n",
    "for date in dates:\n",
    "  [yr, mo, da] = date.split('-') # year, month, day\n",
    "  # docs from the same year has the same timestamp\n",
    "  yr = int(yr)\n",
    "  docs_yr.append(yr)\n",
    "\n",
    "  # Create \n",
    "  if yr not in early_doc:\n",
    "    early_doc[yr] = 1\n",
    "  else:\n",
    "    early_doc[yr]+= 1\n",
    "\n",
    "  # Set year before 1970 as 1969.\n",
    "  if yr < 1970:  \n",
    "    yr = 1969\n",
    "\n",
    "  # Set year after 2020 as 2020. There are 58 instances\n",
    "  if yr > 2020:  \n",
    "    yr = 2020\n",
    "\n",
    "  dt   = datetime(yr, 1, 1)\n",
    "  ts   = dt.timestamp()\n",
    "  ts_for_plot.append(ts)\n",
    "\n",
    "# array with number of records per year\n",
    "docs_year_array = np.unique(np.array(docs_yr), return_counts=True)\n",
    "\n",
    "# dataframe with counts per year\n",
    "docs_year_df    = pd.DataFrame(docs_year_array[1], columns=[\"Count\"],\n",
    "                               index=docs_year_array[0])\n",
    "\n",
    "# without log\n",
    "plt.figure(figsize=(6,10))\n",
    "plt.barh(docs_year_array[0], docs_year_array[1])\n",
    "plt.ylabel('Year')\n",
    "plt.xlabel('Numbers of documents')\n",
    "plt.yticks(range(1960, 2021, 5))\n",
    "plt.savefig(work_dir / f'figure6_num_docs_per_year_{target}.pdf')"
   ]
  },
  {
   "cell_type": "code",
   "execution_count": 26,
   "metadata": {},
   "outputs": [
    {
     "data": {
      "image/png": "[encoded data removed]",
      "text/plain": [
       "<Figure size 432x720 with 1 Axes>"
      ]
     },
     "metadata": {
      "needs_background": "light"
     },
     "output_type": "display_data"
    }
   ],
   "source": [
    "# logged\n",
    "plt.figure(figsize=(6,10))\n",
    "plt.barh(docs_year_array[0], np.log10(docs_year_array[1]+1))\n",
    "plt.ylabel('Year')\n",
    "\n",
    "# +1 so the x-axis value is not zero.\n",
    "plt.xlabel('log10(Numbers of documents + 1)')\n",
    "plt.yticks(range(1960, 2021, 5))\n",
    "plt.savefig(work_dir / 'figure6_num_docs_per_year_{target}_logged.pdf')"
   ]
  },
  {
   "cell_type": "markdown",
   "metadata": {},
   "source": [
    "### Get the binned timestamp values\n",
    "\n",
    "Divide into 20 bins"
   ]
  },
  {
   "cell_type": "code",
   "execution_count": 27,
   "metadata": {},
   "outputs": [],
   "source": [
    "# Turn all dates into timestamps \n",
    "ts_for_bins = []\n",
    "for date in dates:\n",
    "  [yr, mo, da] = date.split('-') # year, month, day\n",
    "  dt   = datetime(int(yr), int(mo), int(da))\n",
    "  ts   = dt.timestamp()\n",
    "  ts_for_bins.append(ts)\n",
    "  \n",
    "ts_for_bins.sort()"
   ]
  },
  {
   "cell_type": "code",
   "execution_count": 28,
   "metadata": {},
   "outputs": [],
   "source": [
    "# bin size\n",
    "bin_num  = 20\n",
    "bin_size = int(len(ts_for_bins)/bin_num)\n",
    "\n",
    "# index values of every 1/bin_num*100 percentile (because the data is broken \n",
    "# into parts=bin_num)\n",
    "bin_idxs = [idx for idx in range(0, len(ts_for_bins), bin_size)]\n",
    "\n",
    "# timestamp values at bin_idxs\n",
    "bin_timestamps = [ts_for_bins[idx] for idx in bin_idxs]\n",
    "\n",
    "# Modify the last value to be the max timestamp value + 1. This is otherwise\n",
    "# because of the bin_size is rounded down the last value be smaller than the max\n",
    "# timestamp values. Also, +1 to the max value, otherwise, the last entries will\n",
    "# be in its own bin.\n",
    "max_timestamp      = max(ts_for_bins) + 1\n",
    "bin_timestamps[-1] = max_timestamp\n",
    "\n",
    "# dates correspond to the different timestamp\n",
    "bin_dates      = [datetime.fromtimestamp(ts) for ts in bin_timestamps]\n",
    "\n",
    "# Put idx, timestamp, and date into a dataframe and save it.\n",
    "bin_df         = pd.DataFrame(list(zip(bin_idxs, bin_timestamps, bin_dates)),\n",
    "            columns=['bin_start_idx', 'bin_start_timestamp', 'bin_start_date'])\n",
    "bin_df.to_csv(work_dir / f\"table6_bin_timestamp_date_{target}.tsv\", sep='\\t')"
   ]
  },
  {
   "cell_type": "code",
   "execution_count": 29,
   "metadata": {},
   "outputs": [
    {
     "data": {
      "text/plain": [
       "(   bin_start_idx  bin_start_timestamp bin_start_date\n",
       " 0              0        -1.211148e+08     1966-03-01\n",
       " 1           2517         9.030672e+08     1998-08-14\n",
       " 2           5034         1.006405e+09     2001-11-22\n",
       " 3           7551         1.071551e+09     2003-12-16\n",
       " 4          10068         1.124942e+09     2005-08-25,\n",
       "     bin_start_idx  bin_start_timestamp      bin_start_date\n",
       " 16          40272         1.509509e+09 2017-11-01 00:00:00\n",
       " 17          42789         1.536034e+09 2018-09-04 00:00:00\n",
       " 18          45306         1.561176e+09 2019-06-22 00:00:00\n",
       " 19          47823         1.585714e+09 2020-04-01 00:00:00\n",
       " 20          50340         1.609477e+09 2021-01-01 00:00:01)"
      ]
     },
     "execution_count": 29,
     "metadata": {},
     "output_type": "execute_result"
    }
   ],
   "source": [
    "bin_df.head(), bin_df.tail()"
   ]
  },
  {
   "cell_type": "markdown",
   "metadata": {},
   "source": [
    "### Generate the binned timestamps"
   ]
  },
  {
   "cell_type": "code",
   "execution_count": 30,
   "metadata": {},
   "outputs": [
    {
     "data": {
      "text/plain": [
       "50346"
      ]
     },
     "execution_count": 30,
     "metadata": {},
     "output_type": "execute_result"
    }
   ],
   "source": [
    "# Assign new timestamps based on the bin timestamp values\n",
    "ts_in_bins = []\n",
    "for date in dates:\n",
    "  [yr, mo, da] = date.split('-') # year, month, day\n",
    "  dt   = datetime(int(yr), int(mo), int(da))\n",
    "  ts   = dt.timestamp()\n",
    "\n",
    "  bin_idx = bisect(bin_timestamps, ts)\n",
    "\n",
    "  if bin_idx < len(bin_timestamps):\n",
    "    ts2     = bin_timestamps[bin_idx]\n",
    "  # Deal with the last bin\n",
    "  else:\n",
    "    ts2     = datetime(2022, 12, 31).timestamp()\n",
    "  ts_in_bins.append(ts2) \n",
    "\n",
    "len(ts_in_bins) # Expect 50346, the number of Arabidopsis docs"
   ]
  },
  {
   "cell_type": "markdown",
   "metadata": {},
   "source": [
    "## ___Run topics_over_time___"
   ]
  },
  {
   "cell_type": "markdown",
   "metadata": {},
   "source": [
    "### Set up"
   ]
  },
  {
   "cell_type": "code",
   "execution_count": 39,
   "metadata": {},
   "outputs": [],
   "source": [
    "docs             = docs_clean\n",
    "topics           = new_topics # 10/27: an earlier run did not update this\n",
    "timestamps       = ts_in_bins\n",
    "nr_bins          = 20\n",
    "global_tuning    = 0\n",
    "evolution_tuning = 1\n",
    "\n",
    "# Get the global (i.e., based on the whole timef rame) ctfidf values\n",
    "global_c_tf_idf = normalize(topic_model.c_tf_idf_, axis=1, norm='l1', copy=False)\n",
    "# Construct a documents dataframe\n",
    "documents = pd.DataFrame({\"Document\": docs, \"Topic\": topics, \n",
    "                          \"Timestamps\": timestamps})"
   ]
  },
  {
   "cell_type": "code",
   "execution_count": 40,
   "metadata": {},
   "outputs": [
    {
     "data": {
      "text/plain": [
       "(65, -1, dict, 0)"
      ]
     },
     "execution_count": 40,
     "metadata": {},
     "output_type": "execute_result"
    }
   ],
   "source": [
    "# Get topic names, ordered and then get their indices, 0-based\n",
    "all_topics = sorted(list(documents.Topic.unique()))\n",
    "all_topics_indices = {topic: index for index, topic in enumerate(all_topics)}\n",
    "\n",
    "# 53 topics, index=0 is the outlier\n",
    "len(all_topics), all_topics[0], type(all_topics_indices), all_topics_indices[-1]"
   ]
  },
  {
   "cell_type": "code",
   "execution_count": 41,
   "metadata": {},
   "outputs": [
    {
     "data": {
      "text/html": [
       "<div>\n",
       "<style scoped>\n",
       "    .dataframe tbody tr th:only-of-type {\n",
       "        vertical-align: middle;\n",
       "    }\n",
       "\n",
       "    .dataframe tbody tr th {\n",
       "        vertical-align: top;\n",
       "    }\n",
       "\n",
       "    .dataframe thead th {\n",
       "        text-align: right;\n",
       "    }\n",
       "</style>\n",
       "<table border=\"1\" class=\"dataframe\">\n",
       "  <thead>\n",
       "    <tr style=\"text-align: right;\">\n",
       "      <th></th>\n",
       "      <th>Document</th>\n",
       "      <th>Topic</th>\n",
       "      <th>Timestamps</th>\n",
       "      <th>Bins</th>\n",
       "    </tr>\n",
       "  </thead>\n",
       "  <tbody>\n",
       "    <tr>\n",
       "      <th>0</th>\n",
       "      <td>somatic mosaicism plants special reference som...</td>\n",
       "      <td>3</td>\n",
       "      <td>903067199.0</td>\n",
       "      <td>(903067199.0, 903067201.0]</td>\n",
       "    </tr>\n",
       "    <tr>\n",
       "      <th>1</th>\n",
       "      <td>[ growth arabidopsis thaliana embryos followin...</td>\n",
       "      <td>58</td>\n",
       "      <td>903067199.0</td>\n",
       "      <td>(903067199.0, 903067201.0]</td>\n",
       "    </tr>\n",
       "  </tbody>\n",
       "</table>\n",
       "</div>"
      ],
      "text/plain": [
       "                                            Document  Topic   Timestamps  \\\n",
       "0  somatic mosaicism plants special reference som...      3  903067199.0   \n",
       "1  [ growth arabidopsis thaliana embryos followin...     58  903067199.0   \n",
       "\n",
       "                         Bins  \n",
       "0  (903067199.0, 903067201.0]  \n",
       "1  (903067199.0, 903067201.0]  "
      ]
     },
     "execution_count": 41,
     "metadata": {},
     "output_type": "execute_result"
    }
   ],
   "source": [
    "# Bin values into discrete intervals\n",
    "ts_bins   = [] # a list of tuples showing the bin range (+/-1 of the unique val)\n",
    "for ts in timestamps:\n",
    "  ts_bins.append(pd.Interval(left=ts-1, right=ts+1))\n",
    "\n",
    "# Add the bin info as a new column in documents df\n",
    "documents[\"Bins\"] = ts_bins\n",
    "# Add timestamp column\n",
    "documents[\"Timestamps\"] = documents.apply(lambda row: row.Bins.left, 1)\n",
    "documents.head(2)"
   ]
  },
  {
   "cell_type": "code",
   "execution_count": 42,
   "metadata": {},
   "outputs": [
    {
     "data": {
      "text/plain": [
       "array([9.03067199e+08, 1.00640520e+09, 1.07155080e+09, 1.12494240e+09,\n",
       "       1.17082440e+09, 1.21203360e+09, 1.25177760e+09, 1.28763360e+09,\n",
       "       1.31796000e+09, 1.34880480e+09, 1.37653920e+09, 1.40237280e+09,\n",
       "       1.42941600e+09, 1.45646280e+09, 1.48307400e+09, 1.50950880e+09,\n",
       "       1.53603360e+09, 1.56117600e+09, 1.58571360e+09, 1.60947720e+09])"
      ]
     },
     "execution_count": 42,
     "metadata": {},
     "output_type": "execute_result"
    }
   ],
   "source": [
    "# Sort documents in chronological order\n",
    "documents  = documents.sort_values(\"Timestamps\")\n",
    "\n",
    "# Unique timestamps\n",
    "ts_unique = documents.Timestamps.unique()\n",
    "ts_unique"
   ]
  },
  {
   "cell_type": "markdown",
   "metadata": {},
   "source": [
    "### Run modified topics_over_time code\n",
    "\n",
    "evolution_tuning=1, global_tuning=0"
   ]
  },
  {
   "cell_type": "code",
   "execution_count": 43,
   "metadata": {},
   "outputs": [
    {
     "name": "stderr",
     "output_type": "stream",
     "text": [
      "100%|██████████| 20/20 [06:05<00:00, 18.28s/it]\n"
     ]
    }
   ],
   "source": [
    "# For each unique timestamp, create topic representations\n",
    "topics_over_time = []\n",
    "for index, timestamp in enumerate(tqdm(ts_unique)):\n",
    "  #print(index, timestamp)\n",
    "  # Calculate c-TF-IDF representation for a specific timestamp\n",
    "  selection = documents.loc[documents.Timestamps == timestamp, :]\n",
    "  \n",
    "  docs_per_toc = selection.groupby(['Topic'], as_index=False).agg(\n",
    "                                {'Document': ' '.join, \"Timestamps\": \"count\"})\n",
    "  c_tf_idf, words = topic_model._c_tf_idf(docs_per_toc, fit=False)\n",
    "  \n",
    "  if global_tuning or evolution_tuning:\n",
    "    c_tf_idf = normalize(c_tf_idf, axis=1, norm='l1', copy=False)\n",
    "\n",
    "  # Fine-tune the c-TF-IDF matrix at timestamp t by averaging it with the \n",
    "  # c-TF-IDF matrix at timestamp t-1\n",
    "  if evolution_tuning and index != 0:\n",
    "    curr_toc         = sorted(list(docs_per_toc.Topic.values))\n",
    "    overlap_toc      = sorted(list(set(prev_toc).intersection(set(curr_toc))))\n",
    "    curr_overlap_idx = [curr_toc.index(topic) for topic in overlap_toc]\n",
    "    prev_overlap_idx = [prev_toc.index(topic) for topic in overlap_toc]\n",
    "\n",
    "    c_tf_idf.tolil()[curr_overlap_idx] = \\\n",
    "      ((c_tf_idf[curr_overlap_idx] + prev_c_tf_idf[prev_overlap_idx]) / 2.0).tolil()\n",
    "\n",
    "  # Fine-tune the timestamp c-TF-IDF representation based on the global c-TF-IDF representation\n",
    "  # by simply taking the average of the two\n",
    "  #if global_tuning:\n",
    "  #  selected_topics = [all_topics_indices[topic] \\\n",
    "  #                                      for topic in docs_per_toc.Topic.values]\n",
    "  #  c_tf_idf = (global_c_tf_idf[selected_topics] + c_tf_idf) / 2.0\n",
    "\n",
    "  # Extract the words per topic\n",
    "  labels = sorted(list(docs_per_toc.Topic.unique()))\n",
    "  words_per_toc = topic_model._extract_words_per_topic(words, c_tf_idf, labels)\n",
    "  topic_frequency = pd.Series(docs_per_toc.Timestamps.values,\n",
    "                                index=docs_per_toc.Topic).to_dict()\n",
    "  # Fill dataframe with results\n",
    "  topics_at_timestamp = [(topic,\n",
    "                          \", \".join([words[0] for words in values][:5]),\n",
    "                          topic_frequency[topic],\n",
    "                          timestamp) for topic, values in words_per_toc.items()]\n",
    "  topics_over_time.extend(topics_at_timestamp)\n",
    "\n",
    "  if evolution_tuning:\n",
    "    prev_toc = sorted(list(docs_per_toc.Topic.values))\n",
    "    prev_c_tf_idf = c_tf_idf.copy()\n",
    "\n",
    "  # Save the word list if this is the 1st timestamp\n",
    "  if index == 0:\n",
    "    word_file = ctfidf_dir / f\"word_list_{len(words)}.pickle\"\n",
    "    with open(word_file, 'wb') as f:\n",
    "      pickle.dump(words, f)\n",
    "\n",
    "  # Save the ctfidf values\n",
    "  ctfidf_file = ctfidf_dir / f'ctfidf_{index}_no_globatune.pickle'\n",
    "  with open(ctfidf_file, \"wb\") as f:\n",
    "    pickle.dump(c_tf_idf, f)\n",
    "\n",
    "  # Save index and topic name for cross-referencing in ctfidf_file\n",
    "  toc_index_file = ctfidf_dir / f\"ctfidf_{index}_toc_index.tsv\"\n",
    "  docs_per_toc['Topic'].to_csv(toc_index_file, sep='\\t')\n"
   ]
  },
  {
   "cell_type": "code",
   "execution_count": 44,
   "metadata": {},
   "outputs": [
    {
     "data": {
      "text/html": [
       "<div>\n",
       "<style scoped>\n",
       "    .dataframe tbody tr th:only-of-type {\n",
       "        vertical-align: middle;\n",
       "    }\n",
       "\n",
       "    .dataframe tbody tr th {\n",
       "        vertical-align: top;\n",
       "    }\n",
       "\n",
       "    .dataframe thead th {\n",
       "        text-align: right;\n",
       "    }\n",
       "</style>\n",
       "<table border=\"1\" class=\"dataframe\">\n",
       "  <thead>\n",
       "    <tr style=\"text-align: right;\">\n",
       "      <th></th>\n",
       "      <th>Topic</th>\n",
       "      <th>Words</th>\n",
       "      <th>Frequency</th>\n",
       "      <th>Timestamp</th>\n",
       "    </tr>\n",
       "  </thead>\n",
       "  <tbody>\n",
       "    <tr>\n",
       "      <th>0</th>\n",
       "      <td>-1</td>\n",
       "      <td>protein, gene, arabidopsis, binding, sequence</td>\n",
       "      <td>115</td>\n",
       "      <td>9.030672e+08</td>\n",
       "    </tr>\n",
       "    <tr>\n",
       "      <th>1</th>\n",
       "      <td>0</td>\n",
       "      <td>spaceflight, space, flight, seeds, plants</td>\n",
       "      <td>31</td>\n",
       "      <td>9.030672e+08</td>\n",
       "    </tr>\n",
       "    <tr>\n",
       "      <th>2</th>\n",
       "      <td>1</td>\n",
       "      <td>pldgamma, pld, pldalpha, pldbeta, nad kinase</td>\n",
       "      <td>7</td>\n",
       "      <td>9.030672e+08</td>\n",
       "    </tr>\n",
       "    <tr>\n",
       "      <th>3</th>\n",
       "      <td>2</td>\n",
       "      <td>7tm, 7tm receptors, heterotrimeric, small prot...</td>\n",
       "      <td>2</td>\n",
       "      <td>9.030672e+08</td>\n",
       "    </tr>\n",
       "    <tr>\n",
       "      <th>4</th>\n",
       "      <td>3</td>\n",
       "      <td>ac, tdna, transformation, gene, excision</td>\n",
       "      <td>164</td>\n",
       "      <td>9.030672e+08</td>\n",
       "    </tr>\n",
       "    <tr>\n",
       "      <th>...</th>\n",
       "      <td>...</td>\n",
       "      <td>...</td>\n",
       "      <td>...</td>\n",
       "      <td>...</td>\n",
       "    </tr>\n",
       "    <tr>\n",
       "      <th>1290</th>\n",
       "      <td>59</td>\n",
       "      <td>flower, floral, flowering, development, stamen</td>\n",
       "      <td>24</td>\n",
       "      <td>1.609477e+09</td>\n",
       "    </tr>\n",
       "    <tr>\n",
       "      <th>1291</th>\n",
       "      <td>60</td>\n",
       "      <td>flowering, flowering time, time, flowering loc...</td>\n",
       "      <td>36</td>\n",
       "      <td>1.609477e+09</td>\n",
       "    </tr>\n",
       "    <tr>\n",
       "      <th>1292</th>\n",
       "      <td>61</td>\n",
       "      <td>clock, circadian, circadian clock, rhythms, di...</td>\n",
       "      <td>17</td>\n",
       "      <td>1.609477e+09</td>\n",
       "    </tr>\n",
       "    <tr>\n",
       "      <th>1293</th>\n",
       "      <td>62</td>\n",
       "      <td>assembly, trx, photosynthesis, oxa2a, pql3</td>\n",
       "      <td>17</td>\n",
       "      <td>1.609477e+09</td>\n",
       "    </tr>\n",
       "    <tr>\n",
       "      <th>1294</th>\n",
       "      <td>63</td>\n",
       "      <td>lhcii, npq, light, quenching, psii</td>\n",
       "      <td>25</td>\n",
       "      <td>1.609477e+09</td>\n",
       "    </tr>\n",
       "  </tbody>\n",
       "</table>\n",
       "<p>1295 rows × 4 columns</p>\n",
       "</div>"
      ],
      "text/plain": [
       "      Topic                                              Words  Frequency  \\\n",
       "0        -1      protein, gene, arabidopsis, binding, sequence        115   \n",
       "1         0          spaceflight, space, flight, seeds, plants         31   \n",
       "2         1       pldgamma, pld, pldalpha, pldbeta, nad kinase          7   \n",
       "3         2  7tm, 7tm receptors, heterotrimeric, small prot...          2   \n",
       "4         3           ac, tdna, transformation, gene, excision        164   \n",
       "...     ...                                                ...        ...   \n",
       "1290     59     flower, floral, flowering, development, stamen         24   \n",
       "1291     60  flowering, flowering time, time, flowering loc...         36   \n",
       "1292     61  clock, circadian, circadian clock, rhythms, di...         17   \n",
       "1293     62         assembly, trx, photosynthesis, oxa2a, pql3         17   \n",
       "1294     63                 lhcii, npq, light, quenching, psii         25   \n",
       "\n",
       "         Timestamp  \n",
       "0     9.030672e+08  \n",
       "1     9.030672e+08  \n",
       "2     9.030672e+08  \n",
       "3     9.030672e+08  \n",
       "4     9.030672e+08  \n",
       "...            ...  \n",
       "1290  1.609477e+09  \n",
       "1291  1.609477e+09  \n",
       "1292  1.609477e+09  \n",
       "1293  1.609477e+09  \n",
       "1294  1.609477e+09  \n",
       "\n",
       "[1295 rows x 4 columns]"
      ]
     },
     "execution_count": 44,
     "metadata": {},
     "output_type": "execute_result"
    }
   ],
   "source": [
    "topics_over_time = pd.DataFrame(topics_over_time, \n",
    "                          columns=[\"Topic\", \"Words\", \"Frequency\", \"Timestamp\"])\n",
    "tot_df_file = work_dir / \\\n",
    "                      f\"table6_topics_over_time_df_no_global_tune_{target}.tsv\"\n",
    "topics_over_time.to_csv(tot_df_file, sep='\\t')\n",
    "topics_over_time"
   ]
  },
  {
   "cell_type": "markdown",
   "metadata": {},
   "source": [
    "### Topic over time plot\n",
    "\n",
    "Customize [BERTopic/bertopic/plotting/_topics_over_time.py](https://github.com/MaartenGr/BERTopic/blob/master/bertopic/plotting/_topics_over_time.py):\n",
    "- BERTopic version is 0.12.0, different from what I started with 0.9.4.\n",
    "- The function to modify is `visualize_topics_over_time`."
   ]
  },
  {
   "cell_type": "code",
   "execution_count": 45,
   "metadata": {},
   "outputs": [],
   "source": [
    "def visualize_tot_mod(topic_model, topics_over_time, topics=None, \n",
    "                      normalize_frequency=False, width=1000, height=400):\n",
    "\n",
    "  colors = [\"#56B4E9\", \"#E69F00\", \"#009E73\", \"#F0E442\", \"#D55E00\", \"#0072B2\", \n",
    "            \"#CC79A7\"]\n",
    "\n",
    "  # Select topics\n",
    "  if topics:\n",
    "    selected_topics = topics\n",
    "  else:\n",
    "    selected_topics = topic_model.get_topic_freq().Topic.values\n",
    "\n",
    "  # Prepare data\n",
    "  # topic_model.topic_names is now topic_model.topic_labels_\n",
    "  topic_names = {key: value[:40] + \"...\" if len(value) > 40 else value\n",
    "                       for key, value in topic_model.topic_labels_.items()}\n",
    "\n",
    "\n",
    "  topics_over_time[\"Name\"] = topics_over_time.Topic.map(topic_names)\n",
    "  data = topics_over_time.loc[\n",
    "    topics_over_time.Topic.isin(selected_topics), :].sort_values(\n",
    "        [\"Topic\", \"Timestamp\"])\n",
    "    \n",
    "  # Add traces\n",
    "  fig = go.Figure()\n",
    "  max_freq = 0  # set max frequency for plotting purpose\n",
    "  for index, topic in enumerate(data.Topic.unique()):\n",
    "    trace_data = data.loc[data.Topic == topic, :]\n",
    "    topic_name = trace_data.Name.values[0]\n",
    "    words = trace_data.Words.values\n",
    "    if normalize_frequency:\n",
    "      y = normalize(trace_data.Frequency.values.reshape(1, -1))[0]\n",
    "    else:\n",
    "      y = trace_data.Frequency\n",
    "\n",
    "    if max(y) > max_freq:\n",
    "      max_freq = max(y)\n",
    "    fig.add_trace(go.Scatter(x=trace_data.Timestamp, y=y, mode='lines+markers',\n",
    "      marker_color=colors[index % 7], hoverinfo=\"text\",\n",
    "      name=topic_name,\n",
    "      hovertext=[f'<b>Topic {topic}</b><br>Words: {word}' for word in words]))\n",
    "\n",
    "  # Set the xaxis values, just use topic=0 \n",
    "  unique_tss = data.loc[data.Topic == selected_topics[0], :].Timestamp.tolist()\n",
    "  datetimes  = [datetime.fromtimestamp(ts) for ts in unique_tss]\n",
    "  ymds       = [f'{dt.year}-{dt.month}-{dt.day}' for dt in datetimes]\n",
    "  \n",
    "  # At recent date it becomes too dense, so only show every 2 dates\n",
    "  skip_after = datetime(2011, 1, 1).timestamp()\n",
    "  skip_start_idx = bisect(unique_tss, skip_after)\n",
    "  unique_tss2 = unique_tss[:skip_start_idx] + unique_tss[skip_start_idx::2]\n",
    "  ymds2       = ymds[:skip_start_idx] + ymds[skip_start_idx::2]\n",
    "\n",
    "  # Styling of the visualization\n",
    "  #toc_str    = \"-\".join([str(toc) for toc in topics])\n",
    "  toc_str = topic_names[topics[0]]\n",
    "\n",
    "  fig.update_xaxes(showgrid=True)\n",
    "  fig.update_yaxes(showgrid=True)\n",
    "  fig.update_layout(\n",
    "    yaxis_title=\"Normalized Frequency\" if normalize_frequency else \"Frequency\",\n",
    "    title={'text': f\"<b>Topic(s): {toc_str}\",\n",
    "           'y': .95,\n",
    "           'x': 0.40,\n",
    "           'xanchor': 'center',\n",
    "           'yanchor': 'top',\n",
    "           'font': dict(size=22, color=\"Black\")},\n",
    "    template=\"simple_white\",\n",
    "    width=width,\n",
    "    height=height,\n",
    "    hoverlabel=dict(bgcolor=\"white\", font_size=16, font_family=\"Rockwell\"),\n",
    "    legend=dict(title=\"<b>Global Topic Representation\"),\n",
    "    xaxis=dict(tickmode='array', tickvals=unique_tss2, ticktext=ymds2,\n",
    "               tickangle=-60))\n",
    "\n",
    "  # Add decade lines\n",
    "  for decade in range(1980, 2020, 10):\n",
    "    dt = datetime(decade, 1, 1)\n",
    "    ts = datetime.timestamp(dt)\n",
    "    fig.add_shape(type=\"line\", x0=ts, y0=0, x1=ts, y1=max_freq*1.05,\n",
    "                  line=dict(color=\"red\", width=3, dash='dot'))\n",
    "\n",
    "  # Save figure\n",
    "  fig.write_html(tot_graph_dir / f'tot_graph_topic_{toc_str}_no_globaltune.html')\n",
    "  fig.write_image(tot_graph_dir / f'tot_graph_topic_{toc_str}_no_globaltune.pdf')\n",
    "\n",
    "  return fig, unique_tss"
   ]
  },
  {
   "cell_type": "code",
   "execution_count": 46,
   "metadata": {},
   "outputs": [
    {
     "name": "stderr",
     "output_type": "stream",
     "text": [
      "100%|██████████| 65/65 [00:09<00:00,  6.66it/s]\n"
     ]
    }
   ],
   "source": [
    "# Get the topics\n",
    "topics = np.unique(topics_over_time['Topic'].values)\n",
    "\n",
    "# Go through all topics\n",
    "for topic in tqdm(topics):\n",
    "  visualize_tot_mod(topic_model, topics_over_time, topics=[topic])"
   ]
  },
  {
   "cell_type": "markdown",
   "metadata": {},
   "source": [
    "### Save topic over time dataframe and turn it into a topic-timestamp-freq table\n",
    "\n",
    "Code from script_4_4c"
   ]
  },
  {
   "cell_type": "code",
   "execution_count": 47,
   "metadata": {},
   "outputs": [],
   "source": [
    "tot_df_file = work_dir / \"table6_topics_over_time_df_no_global_tune.tsv\"\n",
    "topics_over_time.to_csv(tot_df_file)"
   ]
  },
  {
   "cell_type": "code",
   "execution_count": 48,
   "metadata": {},
   "outputs": [
    {
     "data": {
      "text/plain": [
       "(1295, 5)"
      ]
     },
     "execution_count": 48,
     "metadata": {},
     "output_type": "execute_result"
    }
   ],
   "source": [
    "topics_over_time.shape"
   ]
  },
  {
   "cell_type": "code",
   "execution_count": 49,
   "metadata": {},
   "outputs": [
    {
     "data": {
      "text/html": [
       "<div>\n",
       "<style scoped>\n",
       "    .dataframe tbody tr th:only-of-type {\n",
       "        vertical-align: middle;\n",
       "    }\n",
       "\n",
       "    .dataframe tbody tr th {\n",
       "        vertical-align: top;\n",
       "    }\n",
       "\n",
       "    .dataframe thead th {\n",
       "        text-align: right;\n",
       "    }\n",
       "</style>\n",
       "<table border=\"1\" class=\"dataframe\">\n",
       "  <thead>\n",
       "    <tr style=\"text-align: right;\">\n",
       "      <th></th>\n",
       "      <th>9.030672e+08</th>\n",
       "      <th>1.006405e+09</th>\n",
       "      <th>1.071551e+09</th>\n",
       "      <th>1.124942e+09</th>\n",
       "      <th>1.170824e+09</th>\n",
       "      <th>1.212034e+09</th>\n",
       "      <th>1.251778e+09</th>\n",
       "      <th>1.287634e+09</th>\n",
       "      <th>1.317960e+09</th>\n",
       "      <th>1.348805e+09</th>\n",
       "      <th>1.376539e+09</th>\n",
       "      <th>1.402373e+09</th>\n",
       "      <th>1.429416e+09</th>\n",
       "      <th>1.456463e+09</th>\n",
       "      <th>1.483074e+09</th>\n",
       "      <th>1.509509e+09</th>\n",
       "      <th>1.536034e+09</th>\n",
       "      <th>1.561176e+09</th>\n",
       "      <th>1.585714e+09</th>\n",
       "      <th>1.609477e+09</th>\n",
       "    </tr>\n",
       "    <tr>\n",
       "      <th>Topic</th>\n",
       "      <th></th>\n",
       "      <th></th>\n",
       "      <th></th>\n",
       "      <th></th>\n",
       "      <th></th>\n",
       "      <th></th>\n",
       "      <th></th>\n",
       "      <th></th>\n",
       "      <th></th>\n",
       "      <th></th>\n",
       "      <th></th>\n",
       "      <th></th>\n",
       "      <th></th>\n",
       "      <th></th>\n",
       "      <th></th>\n",
       "      <th></th>\n",
       "      <th></th>\n",
       "      <th></th>\n",
       "      <th></th>\n",
       "      <th></th>\n",
       "    </tr>\n",
       "  </thead>\n",
       "  <tbody>\n",
       "    <tr>\n",
       "      <th>-1</th>\n",
       "      <td>115.0</td>\n",
       "      <td>107.0</td>\n",
       "      <td>102</td>\n",
       "      <td>123</td>\n",
       "      <td>108</td>\n",
       "      <td>98</td>\n",
       "      <td>102</td>\n",
       "      <td>102</td>\n",
       "      <td>113</td>\n",
       "      <td>78</td>\n",
       "      <td>77</td>\n",
       "      <td>121</td>\n",
       "      <td>103</td>\n",
       "      <td>95</td>\n",
       "      <td>90</td>\n",
       "      <td>114</td>\n",
       "      <td>95</td>\n",
       "      <td>121</td>\n",
       "      <td>90</td>\n",
       "      <td>89</td>\n",
       "    </tr>\n",
       "    <tr>\n",
       "      <th>0</th>\n",
       "      <td>31.0</td>\n",
       "      <td>23.0</td>\n",
       "      <td>5</td>\n",
       "      <td>6</td>\n",
       "      <td>3</td>\n",
       "      <td>1</td>\n",
       "      <td>4</td>\n",
       "      <td>2</td>\n",
       "      <td>6</td>\n",
       "      <td>3</td>\n",
       "      <td>6</td>\n",
       "      <td>2</td>\n",
       "      <td>5</td>\n",
       "      <td>4</td>\n",
       "      <td>2</td>\n",
       "      <td>6</td>\n",
       "      <td>4</td>\n",
       "      <td>7</td>\n",
       "      <td>3</td>\n",
       "      <td>4</td>\n",
       "    </tr>\n",
       "    <tr>\n",
       "      <th>1</th>\n",
       "      <td>7.0</td>\n",
       "      <td>12.0</td>\n",
       "      <td>8</td>\n",
       "      <td>10</td>\n",
       "      <td>10</td>\n",
       "      <td>9</td>\n",
       "      <td>8</td>\n",
       "      <td>9</td>\n",
       "      <td>9</td>\n",
       "      <td>7</td>\n",
       "      <td>7</td>\n",
       "      <td>8</td>\n",
       "      <td>9</td>\n",
       "      <td>7</td>\n",
       "      <td>6</td>\n",
       "      <td>5</td>\n",
       "      <td>7</td>\n",
       "      <td>7</td>\n",
       "      <td>6</td>\n",
       "      <td>3</td>\n",
       "    </tr>\n",
       "    <tr>\n",
       "      <th>2</th>\n",
       "      <td>2.0</td>\n",
       "      <td>9.0</td>\n",
       "      <td>10</td>\n",
       "      <td>11</td>\n",
       "      <td>8</td>\n",
       "      <td>15</td>\n",
       "      <td>11</td>\n",
       "      <td>7</td>\n",
       "      <td>18</td>\n",
       "      <td>11</td>\n",
       "      <td>12</td>\n",
       "      <td>11</td>\n",
       "      <td>16</td>\n",
       "      <td>11</td>\n",
       "      <td>11</td>\n",
       "      <td>14</td>\n",
       "      <td>18</td>\n",
       "      <td>6</td>\n",
       "      <td>12</td>\n",
       "      <td>5</td>\n",
       "    </tr>\n",
       "    <tr>\n",
       "      <th>3</th>\n",
       "      <td>164.0</td>\n",
       "      <td>86.0</td>\n",
       "      <td>64</td>\n",
       "      <td>83</td>\n",
       "      <td>77</td>\n",
       "      <td>50</td>\n",
       "      <td>54</td>\n",
       "      <td>49</td>\n",
       "      <td>46</td>\n",
       "      <td>39</td>\n",
       "      <td>36</td>\n",
       "      <td>41</td>\n",
       "      <td>33</td>\n",
       "      <td>29</td>\n",
       "      <td>33</td>\n",
       "      <td>39</td>\n",
       "      <td>48</td>\n",
       "      <td>54</td>\n",
       "      <td>34</td>\n",
       "      <td>44</td>\n",
       "    </tr>\n",
       "  </tbody>\n",
       "</table>\n",
       "</div>"
      ],
      "text/plain": [
       "       9.030672e+08  1.006405e+09  1.071551e+09  1.124942e+09  1.170824e+09  \\\n",
       "Topic                                                                         \n",
       "-1            115.0         107.0           102           123           108   \n",
       " 0             31.0          23.0             5             6             3   \n",
       " 1              7.0          12.0             8            10            10   \n",
       " 2              2.0           9.0            10            11             8   \n",
       " 3            164.0          86.0            64            83            77   \n",
       "\n",
       "       1.212034e+09  1.251778e+09  1.287634e+09  1.317960e+09  1.348805e+09  \\\n",
       "Topic                                                                         \n",
       "-1               98           102           102           113            78   \n",
       " 0                1             4             2             6             3   \n",
       " 1                9             8             9             9             7   \n",
       " 2               15            11             7            18            11   \n",
       " 3               50            54            49            46            39   \n",
       "\n",
       "       1.376539e+09  1.402373e+09  1.429416e+09  1.456463e+09  1.483074e+09  \\\n",
       "Topic                                                                         \n",
       "-1               77           121           103            95            90   \n",
       " 0                6             2             5             4             2   \n",
       " 1                7             8             9             7             6   \n",
       " 2               12            11            16            11            11   \n",
       " 3               36            41            33            29            33   \n",
       "\n",
       "       1.509509e+09  1.536034e+09  1.561176e+09  1.585714e+09  1.609477e+09  \n",
       "Topic                                                                        \n",
       "-1              114            95           121            90            89  \n",
       " 0                6             4             7             3             4  \n",
       " 1                5             7             7             6             3  \n",
       " 2               14            18             6            12             5  \n",
       " 3               39            48            54            34            44  "
      ]
     },
     "execution_count": 49,
     "metadata": {},
     "output_type": "execute_result"
    }
   ],
   "source": [
    "# Turn the dataframe into top_freq_df with rows as timestamps, column as topics,\n",
    "# and values as frequency\n",
    "top_freq_dict = {} # {timestamp:{topic:freq}}\n",
    "for idx in topics_over_time.index:\n",
    "  row  = topics_over_time.loc[idx]\n",
    "  ts   = row[\"Timestamp\"]\n",
    "  toc  = row[\"Topic\"]\n",
    "  freq = row[\"Frequency\"]\n",
    "  if ts not in top_freq_dict:\n",
    "    top_freq_dict[ts] = {toc:freq}\n",
    "  elif toc not in top_freq_dict[ts]:\n",
    "    top_freq_dict[ts][toc] = freq\n",
    "  else:\n",
    "    print(\"ERR: redundant\", topic,freq)\n",
    "\n",
    "top_freq_df = pd.DataFrame.from_dict(top_freq_dict)\n",
    "top_freq_df.fillna(0, inplace=True)\n",
    "top_freq_df.sort_index(axis=0, inplace=True)  # sort rows\n",
    "top_freq_df.sort_index(axis=1, inplace=True)  # sort columns\n",
    "top_freq_df.index.name = \"Topic\"\n",
    "top_freq_df.head()"
   ]
  },
  {
   "cell_type": "code",
   "execution_count": 50,
   "metadata": {},
   "outputs": [],
   "source": [
    "top_freq_df_file = work_dir / \"table6_toc_ts_freq_df.tsv\"\n",
    "top_freq_df.to_csv(top_freq_df_file)"
   ]
  },
  {
   "cell_type": "markdown",
   "metadata": {},
   "source": [
    "## ___Lowess fit___\n",
    "\n",
    "Move function from script_4_4d"
   ]
  },
  {
   "cell_type": "markdown",
   "metadata": {},
   "source": [
    "### Set get_lowess function"
   ]
  },
  {
   "cell_type": "code",
   "execution_count": 51,
   "metadata": {},
   "outputs": [],
   "source": [
    "def get_lowess(toc, x, y, frac, it=3, dir_lowess=\"dir_lowess\", plot=0):\n",
    "\n",
    "  lowess = sm.nonparametric.lowess\n",
    "  lowess_fit = lowess(y, x, frac=frac, it=it) \n",
    "  lowess_x   = list(zip(*lowess_fit))[0]\n",
    "  lowess_y   = list(zip(*lowess_fit))[1]\n",
    "\n",
    "  # create a function using the interp1d method\n",
    "  lowesss_f  = interp1d(lowess_x, lowess_y, bounds_error=False)\n",
    "\n",
    "  # save the function\n",
    "  f_file = dir_lowess / f\"lowess_fit_func_topic{toc}_frac{frac}.pickle\"\n",
    "  with open(f_file, \"wb\") as f:\n",
    "    pickle.dump(lowesss_f, f)\n",
    "\n",
    "  #x_line = [i/10. for i in range(400)]\n",
    "  # define a sequence of inputs between the smallest and largest known inputs\n",
    "  x_line = np.arange(min(x), max(x), (max(x)-min(x))/100)\n",
    "  y_line = lowesss_f(x_line)\n",
    "\n",
    "  # For xtick labels\n",
    "  x_date = [datetime.fromtimestamp(ts+1).strftime('%Y-%m-%d') for ts in lowess_x]\n",
    "\n",
    "  # Create series\n",
    "  lowess_ser = pd.Series(lowess_y, index=lowess_x, name=toc)\n",
    "\n",
    "  if plot:\n",
    "    # get 2 decimal points for mse\n",
    "    mse = \"{:.2f}\".format(mean_squared_error(y, lowess_y))\n",
    "    plt.title(f\"topic {toc}, MSE={mse}\")\n",
    "    plt.plot(x, y, 'o')\n",
    "    #plt.plot(lowess_x, lowess_y, '*')\n",
    "    plt.plot(lowess_x, lowess_y, '*')\n",
    "    #plt.plot(x_new, y_new, '-')\n",
    "    plt.plot(x_line, y_line, '-')\n",
    "\n",
    "    #https://stackabuse.com/rotate-axis-labels-in-matplotlib/\n",
    "    plt.xticks(ticks=lowess_x, labels=x_date, rotation=90, fontsize=4)\n",
    "    plt.xlabel(\"Date\")\n",
    "    plt.ylabel(\"Frequency\")\n",
    "    plt.ylim([0, max([max(y), max(lowess_y)])])\n",
    "    plt.tight_layout()\n",
    "    plt.savefig(dir_lowess / \\\n",
    "                            f'figure_topic_{toc}_lowess_frac{frac}.pdf')\n",
    "    plt.close()\n",
    "    \n",
    "  return lowess_ser "
   ]
  },
  {
   "cell_type": "markdown",
   "metadata": {},
   "source": [
    "### Iterate through topics"
   ]
  },
  {
   "cell_type": "code",
   "execution_count": 52,
   "metadata": {},
   "outputs": [
    {
     "name": "stdout",
     "output_type": "stream",
     "text": [
      "[-1, 0, 1, 2, 3, 4, 5, 6, 7, 8, 9, 10, 11, 12, 13, 14, 15, 16, 17, 18, 19, 20, 21, 22, 23, 24, 25, 26, 27, 28, 29, 30, 31, 32, 33, 34, 35, 36, 37, 38, 39, 40, 41, 42, 43, 44, 45, 46, 47, 48, 49, 50, 51, 52, 53, 54, 55, 56, 57, 58, 59, 60, 61, 62, 63]\n"
     ]
    }
   ],
   "source": [
    "# get topics from top_freq_df\n",
    "topics = top_freq_df.index.tolist()\n",
    "print(topics)"
   ]
  },
  {
   "cell_type": "code",
   "execution_count": 53,
   "metadata": {},
   "outputs": [],
   "source": [
    "def fit_topics(frac, it):\n",
    "  '''Lowess fit each topic and save the outputs\n",
    "  Args:\n",
    "    frac (float): The fraction of the data used when estimating each y-value.\n",
    "    it (int): The number of residual-based reweightings to perform.\n",
    "  Output:\n",
    "    \n",
    "  '''\n",
    "\n",
    "  # Create a subfolder for the specific frac\n",
    "  # Decide not to use this, so I can compare each fit side by side\n",
    "  #dir_lowess_frac = dir_lowess / f\"_{frac}\"\n",
    "  #dir_lowess_frac.mkdir(parents=True, exist_ok=True)\n",
    "\n",
    "  max_y_idxs      = [] # indices (x, timestamps) with max y\n",
    "  lowess_ser_list = [] # list of lowess-fitted series for different topics\n",
    "  for toc in tqdm(topics):\n",
    "    # series for the topic, timestamps as indices, frequencies as row\n",
    "    toc_series = top_freq_df.loc[toc]\n",
    "    x          = [float(ts) for ts in toc_series.index]  # timestamps\n",
    "    y          = toc_series.values # frequencies\n",
    "\n",
    "    # series after lowess smoothing\n",
    "    lowess_ser = get_lowess(toc, x, y, frac, it, dir_lowess, plot=1)\n",
    "\n",
    "    max_y_idx  = lowess_ser.idxmax()\n",
    "    max_y_idxs.append(max_y_idx)\n",
    "    lowess_ser_list.append(lowess_ser)\n",
    "\n",
    "  # for topic order\n",
    "  max_y_idxs_ser = pd.Series(max_y_idxs, index=topics, name='max_y_timestamp')\n",
    "  max_y_idxs_ser.to_csv(dir_lowess / \\\n",
    "          f\"table6_1_arabidopsis_timestamps_with_max_y_lowess_frac{frac}.txt\")\n",
    "  \n",
    "  # Create a dataframe with lowess fits\n",
    "  #https://sparkbyexamples.com/pandas/pandas-create-dataframe-from-multiple-series/\n",
    "  lowess_df = pd.concat(lowess_ser_list, axis=1).transpose()\n",
    "\n",
    "  # Sort the dataframe based on timestamps\n",
    "  #https://www.geeksforgeeks.org/how-to-sort-a-pandas-dataframe-based-on-column-names-or-row-index/\n",
    "  lowess_df.sort_index(inplace=True, axis=1)\n",
    "\n",
    "  # Save the dataframe to file\n",
    "  lowess_df.to_csv(dir_lowess / \\\n",
    "          f\"table6_1_arabidopsis_toc_timestamps_lowess_vals_{frac}.txt\")\n",
    "\n",
    "  return max_y_idxs_ser, lowess_df"
   ]
  },
  {
   "cell_type": "code",
   "execution_count": 64,
   "metadata": {},
   "outputs": [
    {
     "name": "stderr",
     "output_type": "stream",
     "text": [
      "100%|██████████| 65/65 [00:17<00:00,  3.80it/s]\n"
     ]
    }
   ],
   "source": [
    "# Don't see a point of this\n",
    "max_y_idxs_ser01, lowess_df01 = fit_topics(0.1, 3)"
   ]
  },
  {
   "cell_type": "code",
   "execution_count": 55,
   "metadata": {},
   "outputs": [
    {
     "name": "stderr",
     "output_type": "stream",
     "text": [
      "100%|██████████| 65/65 [00:16<00:00,  4.03it/s]\n"
     ]
    }
   ],
   "source": [
    "max_y_idxs_ser02, lowess_df02 = fit_topics(0.2, 3)"
   ]
  },
  {
   "cell_type": "code",
   "execution_count": 56,
   "metadata": {},
   "outputs": [
    {
     "name": "stderr",
     "output_type": "stream",
     "text": [
      "100%|██████████| 65/65 [00:16<00:00,  3.97it/s]\n"
     ]
    }
   ],
   "source": [
    "max_y_idxs_ser03, lowess_df03 = fit_topics(0.3, 3)"
   ]
  },
  {
   "cell_type": "markdown",
   "metadata": {},
   "source": [
    "### Get toc frequency sum and max"
   ]
  },
  {
   "cell_type": "code",
   "execution_count": 57,
   "metadata": {},
   "outputs": [
    {
     "data": {
      "text/plain": [
       "(2043.0, 123.0)"
      ]
     },
     "execution_count": 57,
     "metadata": {},
     "output_type": "execute_result"
    }
   ],
   "source": [
    "# determine total and max freq for each topic\n",
    "toc_freq_sum = top_freq_df.sum(axis=1)\n",
    "toc_freq_max = top_freq_df.max(axis=1)\n",
    "toc_freq_sum.loc[-1], toc_freq_max.loc[-1]"
   ]
  },
  {
   "cell_type": "code",
   "execution_count": 58,
   "metadata": {},
   "outputs": [
    {
     "data": {
      "text/html": [
       "<div>\n",
       "<style scoped>\n",
       "    .dataframe tbody tr th:only-of-type {\n",
       "        vertical-align: middle;\n",
       "    }\n",
       "\n",
       "    .dataframe tbody tr th {\n",
       "        vertical-align: top;\n",
       "    }\n",
       "\n",
       "    .dataframe thead th {\n",
       "        text-align: right;\n",
       "    }\n",
       "</style>\n",
       "<table border=\"1\" class=\"dataframe\">\n",
       "  <thead>\n",
       "    <tr style=\"text-align: right;\">\n",
       "      <th></th>\n",
       "      <th>Sum</th>\n",
       "      <th>Max</th>\n",
       "    </tr>\n",
       "    <tr>\n",
       "      <th>Topic</th>\n",
       "      <th></th>\n",
       "      <th></th>\n",
       "    </tr>\n",
       "  </thead>\n",
       "  <tbody>\n",
       "    <tr>\n",
       "      <th>-1</th>\n",
       "      <td>2043.0</td>\n",
       "      <td>123.0</td>\n",
       "    </tr>\n",
       "    <tr>\n",
       "      <th>0</th>\n",
       "      <td>127.0</td>\n",
       "      <td>31.0</td>\n",
       "    </tr>\n",
       "    <tr>\n",
       "      <th>1</th>\n",
       "      <td>154.0</td>\n",
       "      <td>12.0</td>\n",
       "    </tr>\n",
       "    <tr>\n",
       "      <th>2</th>\n",
       "      <td>218.0</td>\n",
       "      <td>18.0</td>\n",
       "    </tr>\n",
       "    <tr>\n",
       "      <th>3</th>\n",
       "      <td>1103.0</td>\n",
       "      <td>164.0</td>\n",
       "    </tr>\n",
       "  </tbody>\n",
       "</table>\n",
       "</div>"
      ],
      "text/plain": [
       "          Sum    Max\n",
       "Topic               \n",
       "-1     2043.0  123.0\n",
       " 0      127.0   31.0\n",
       " 1      154.0   12.0\n",
       " 2      218.0   18.0\n",
       " 3     1103.0  164.0"
      ]
     },
     "execution_count": 58,
     "metadata": {},
     "output_type": "execute_result"
    }
   ],
   "source": [
    "toc_freq_stat = pd.concat({'Sum':toc_freq_sum, 'Max':toc_freq_max}, axis=1)\n",
    "toc_freq_stat.head()"
   ]
  },
  {
   "cell_type": "markdown",
   "metadata": {},
   "source": [
    "### Select reasonable fit for topics"
   ]
  },
  {
   "cell_type": "code",
   "execution_count": 59,
   "metadata": {},
   "outputs": [
    {
     "name": "stdout",
     "output_type": "stream",
     "text": [
      "-1:, 0:, 1:, 2:, 3:, 4:, 5:, 6:, 7:, 8:, 9:, 10:, 11:, 12:, 13:, 14:, 15:, 16:, 17:, 18:, 19:, 20:, 21:, 22:, 23:, 24:, 25:, 26:, 27:, 28:, 29:, 30:, 31:, 32:, 33:, 34:, 35:, 36:, 37:, 38:, 39:, 40:, 41:, 42:, 43:, 44:, 45:, 46:, 47:, 48:, 49:, 50:, 51:, 52:, 53:, 54:, 55:, 56:, 57:, 58:, 59:, 60:, 61:, 62:, 63:,\n"
     ]
    }
   ],
   "source": [
    "# Just to make my life easier in the manual input step below\n",
    "print(\" \".join([f\"{toc}:,\" for toc in topics]))"
   ]
  },
  {
   "cell_type": "code",
   "execution_count": 98,
   "metadata": {},
   "outputs": [],
   "source": [
    "# Go through the PDFs of different frac values for each topic and decide on\n",
    "# which one to pick for presenting in both dictionaries, -1 topic is removed\n",
    "\n",
    "# lowess fit parameter-- 2: frac=0.2, 3: frac=0.3\n",
    "toc_fit_frac = \\\n",
    " {  0:3,  1:2,  2:3, 3:3, 4:2, 5:3, 6:3, 7:3, 8:3, 9:3,  \n",
    "   11:3, 12:2, 13:2, 14:2, 15:3, 16:3, 17:3, 18:2, \n",
    "   19:3, 20:3, 21:3, 22:3, 23:3, 24:3, 25:3, 26:3, 27:3, \n",
    "   28:3, 29:3, 30:3, 31:3, 32:3, 33:3, 34:3, 35:3, 36:3, \n",
    "   37:3, 38:3, 39:3, 40:3, 41:3, 42:3, 43:3, 44:3, 45:3, \n",
    "   46:3, 47:3, 48:3, 49:3, 50:3, 51:3, 52:3, 53:3, 54:3, \n",
    "   55:3, 56:2, 57:3, 58:3, 59:3, 60:3, 61:3, 62:3, 63:3}\n",
    "\n",
    "stable = [5, 37, 42, 61]\n",
    "\n",
    "# After peak, trending up (1), no change (0), down (-1) \n",
    "top_fit_trend = \\\n",
    " { 0:-1, 1:-1, 2:-1, 3:-1, 4:0, 5:-1, 6:-1, 7:-1, 8:1, 9:1, \n",
    "  11:-1, 12:-1, 13:-1, 14:-1, 15:1, 16:1, 17:-1, 18:-1, \n",
    "  19:-1, 20:-1, 21:-1, 22:-1, 23:-1, 24:-1, 25:-1, 26:0, 27:-1, \n",
    "  28:0, 29:-1, 30:1, 31:1, 32:0, 33:-1, 34:-1, 35:0, 36:1, \n",
    "  37:0, 38:-1, 39:-1, 40:1, 41:1, 42:0, 43:-1, 44:1, 45:1, \n",
    "  46:0, 47:-1, 48:0, 49:0, 50:0, 51:-1, 52:0, 53:-1, 54:-1, \n",
    "  55:-1, 56:-1, 57:-1, 58:-1, 59:-1, 60:-1, 61:0, 62:0, 63:1}\n",
    "\n",
    "# Set what topics to drop\n",
    "tocs_to_drop = [-1, 10]"
   ]
  },
  {
   "cell_type": "code",
   "execution_count": 99,
   "metadata": {},
   "outputs": [],
   "source": [
    "# Copy specified plots and functions\n",
    "def copy_lowess_file(f_name):\n",
    "  fr_file = Path(dir_lowess     / f_name)\n",
    "  to_file = Path(dir_lowess_sel / f_name)\n",
    "  copy(fr_file, to_file)\n",
    "\n",
    "for toc in toc_fit_frac:\n",
    "  frac             = int(toc_fit_frac[toc])\n",
    "  lowess_func_file = f\"lowess_fit_func_topic{toc}_frac0.{frac}.pickle\"\n",
    "  lowess_plot_file = f\"figure_topic_{toc}_lowess_frac0.{frac}.pdf\"\n",
    "  copy_lowess_file(lowess_func_file)\n",
    "  copy_lowess_file(lowess_plot_file)"
   ]
  },
  {
   "cell_type": "code",
   "execution_count": 100,
   "metadata": {},
   "outputs": [
    {
     "data": {
      "text/plain": [
       "63"
      ]
     },
     "execution_count": 100,
     "metadata": {},
     "output_type": "execute_result"
    }
   ],
   "source": [
    "len(toc_fit_frac.keys())"
   ]
  },
  {
   "cell_type": "markdown",
   "metadata": {},
   "source": [
    "### Get the lowess fit values for topics based on selected frac values"
   ]
  },
  {
   "cell_type": "code",
   "execution_count": 101,
   "metadata": {},
   "outputs": [
    {
     "data": {
      "text/plain": [
       "63"
      ]
     },
     "execution_count": 101,
     "metadata": {},
     "output_type": "execute_result"
    }
   ],
   "source": [
    "# Create a list for holding series containing timestamp/freq values for \n",
    "# different topics\n",
    "lowess_vals_list = []\n",
    "for toc in toc_fit_frac:\n",
    "  frac = toc_fit_frac[toc]\n",
    "  lowess_df = lowess_df01\n",
    "  if frac == 0.2:\n",
    "    lowess_df = lowess_df02\n",
    "  elif frac == 0.3:\n",
    "    lowess_df = lowess_df03\n",
    "\n",
    "  lowess_series = lowess_df.loc[toc]\n",
    "  lowess_vals_list.append(lowess_series)\n",
    "\n",
    "len(lowess_vals_list)"
   ]
  },
  {
   "cell_type": "code",
   "execution_count": 102,
   "metadata": {},
   "outputs": [
    {
     "data": {
      "text/plain": [
       "(63, 20)"
      ]
     },
     "execution_count": 102,
     "metadata": {},
     "output_type": "execute_result"
    }
   ],
   "source": [
    "# Dataframe with lowess fitted freq values based on selected fits\n",
    "lowess_df_sel = pd.concat(lowess_vals_list, axis=1).transpose()\n",
    "lowess_df_sel.shape"
   ]
  },
  {
   "cell_type": "markdown",
   "metadata": {},
   "source": [
    "### Determine peak values\n",
    "\n",
    "Criteria:\n",
    "1. Value is above threshold after normalization\n",
    "2. Value is at where the sign of slope change from positive to negative"
   ]
  },
  {
   "cell_type": "code",
   "execution_count": 103,
   "metadata": {},
   "outputs": [
    {
     "name": "stdout",
     "output_type": "stream",
     "text": [
      "toc_thr_idxs not set for topic 36\n",
      "toc_thr_idxs not set for topic 45\n"
     ]
    }
   ],
   "source": [
    "peak_idxs    = {} # {toc:peak}\n",
    "toc_thr_idxs = {} # {toc: idx_when_first_reach_threshold_value}\n",
    "thr          = 0.8 # threshould values to store and to call peak\n",
    "\n",
    "for toc in lowess_df_sel.index:\n",
    "  #print(toc)\n",
    "  toc_lowess_vals = lowess_df_sel.loc[toc]\n",
    "\n",
    "  # do min-max normalization\n",
    "  min_val   = np.min(toc_lowess_vals)\n",
    "  max_val   = np.max(toc_lowess_vals)\n",
    "  norm_vals = [(lowess_val-min_val)/(max_val-min_val) \\\n",
    "                                            for lowess_val in toc_lowess_vals]\n",
    "  \n",
    "  # find the peak position\n",
    "  # iterate through value pairs\n",
    "  #https://stackoverflow.com/questions/5764782/iterate-through-pairs-of-items-in-a-python-list\n",
    "  peak = 0\n",
    "  idx  = 1\n",
    "  \n",
    "  cumulative_diff = 0 \n",
    "  for val1, val2, val3 in zip(norm_vals[:-2], norm_vals[1:-1], norm_vals[2:]):\n",
    "\n",
    "    # Set the first time passing threshould for sorting purpose later\n",
    "    if val1 > thr and toc not in toc_thr_idxs:\n",
    "      toc_thr_idxs[toc] = idx-1\n",
    "    elif val2 > thr and toc not in toc_thr_idxs:\n",
    "      toc_thr_idxs[toc] = idx\n",
    "\n",
    "    # For determining if this topic has continuously increasing or decreasing\n",
    "    cumulative_diff += (val2 - val1) + (val3-val2)\n",
    "    # detect if slope change from + to -\n",
    "    if val2 > val1 and val3 < val2:\n",
    "      if val2 > thr:\n",
    "        peak = idx\n",
    "        #print(\" peak=\",peak, [val1, val2, val3])\n",
    "        break\n",
    "    idx += 1\n",
    "\n",
    "  # Did not find an inflection point\n",
    "  if peak == 0:\n",
    "    # upward trend, otherwise a downward trend and peak=0\n",
    "    if cumulative_diff > 0: \n",
    "      peak = idx\n",
    "      #print(\" peak=\", idx, cumulative_diff)\n",
    "\n",
    "  # Check if toc_med_idxs is set for this toc\n",
    "  if toc not in toc_thr_idxs:\n",
    "    # The 1st value is >0.5 and the rest is not\n",
    "    if norm_vals[0] > thr:\n",
    "      toc_thr_idxs[toc] = 0\n",
    "    else:\n",
    "      print(\"toc_thr_idxs not set for topic\", toc)\n",
    "      # This is because the threshold index is the last value\n",
    "      toc_thr_idxs[toc] = len(norm_vals)\n",
    "\n",
    "  peak_idxs[toc] = peak"
   ]
  },
  {
   "cell_type": "markdown",
   "metadata": {},
   "source": [
    "### Create dataframes with:\n",
    "\n",
    "1. peak indexes, \n",
    "2. toc threshould met index\n",
    "3. toc trend\n",
    "4. stable or not"
   ]
  },
  {
   "cell_type": "code",
   "execution_count": 104,
   "metadata": {},
   "outputs": [
    {
     "data": {
      "text/plain": [
       "((63, 1), (63, 1), (63, 1), (63, 1))"
      ]
     },
     "execution_count": 104,
     "metadata": {},
     "output_type": "execute_result"
    }
   ],
   "source": [
    "peak_idxs_df = pd.DataFrame.from_dict(peak_idxs, orient='index', \n",
    "                                                      columns=['Peak'])\n",
    "toc_thr_idxs_df = pd.DataFrame.from_dict(toc_thr_idxs, orient='index', \n",
    "                                                      columns=['1st_reach_thr'])\n",
    "toc_trend_idx_df = pd.DataFrame.from_dict(top_fit_trend, orient='index',\n",
    "                                                      columns=['Trend'])\n",
    "\n",
    "#https://www.datacamp.com/tutorial/python-dictionary-comprehension\n",
    "toc_stable_dict = {toc:(1 if toc in stable else 0) \\\n",
    "                                                for toc in lowess_df_sel.index}\n",
    "toc_stable_df = pd.DataFrame.from_dict(toc_stable_dict, orient='index', \n",
    "                                                      columns=['Stable'])\n",
    "                                                      \n",
    "peak_idxs_df.shape, toc_thr_idxs_df.shape, toc_trend_idx_df.shape, toc_stable_df.shape"
   ]
  },
  {
   "cell_type": "code",
   "execution_count": 105,
   "metadata": {},
   "outputs": [
    {
     "data": {
      "text/html": [
       "<div>\n",
       "<style scoped>\n",
       "    .dataframe tbody tr th:only-of-type {\n",
       "        vertical-align: middle;\n",
       "    }\n",
       "\n",
       "    .dataframe tbody tr th {\n",
       "        vertical-align: top;\n",
       "    }\n",
       "\n",
       "    .dataframe thead th {\n",
       "        text-align: right;\n",
       "    }\n",
       "</style>\n",
       "<table border=\"1\" class=\"dataframe\">\n",
       "  <thead>\n",
       "    <tr style=\"text-align: right;\">\n",
       "      <th></th>\n",
       "      <th>Peak</th>\n",
       "      <th>1st_reach_thr</th>\n",
       "      <th>Trend</th>\n",
       "      <th>Stable</th>\n",
       "    </tr>\n",
       "  </thead>\n",
       "  <tbody>\n",
       "    <tr>\n",
       "      <th>0</th>\n",
       "      <td>0</td>\n",
       "      <td>0</td>\n",
       "      <td>-1</td>\n",
       "      <td>0</td>\n",
       "    </tr>\n",
       "    <tr>\n",
       "      <th>1</th>\n",
       "      <td>1</td>\n",
       "      <td>1</td>\n",
       "      <td>-1</td>\n",
       "      <td>0</td>\n",
       "    </tr>\n",
       "    <tr>\n",
       "      <th>2</th>\n",
       "      <td>5</td>\n",
       "      <td>5</td>\n",
       "      <td>-1</td>\n",
       "      <td>0</td>\n",
       "    </tr>\n",
       "    <tr>\n",
       "      <th>3</th>\n",
       "      <td>0</td>\n",
       "      <td>0</td>\n",
       "      <td>-1</td>\n",
       "      <td>0</td>\n",
       "    </tr>\n",
       "    <tr>\n",
       "      <th>4</th>\n",
       "      <td>11</td>\n",
       "      <td>11</td>\n",
       "      <td>0</td>\n",
       "      <td>0</td>\n",
       "    </tr>\n",
       "  </tbody>\n",
       "</table>\n",
       "</div>"
      ],
      "text/plain": [
       "   Peak  1st_reach_thr  Trend  Stable\n",
       "0     0              0     -1       0\n",
       "1     1              1     -1       0\n",
       "2     5              5     -1       0\n",
       "3     0              0     -1       0\n",
       "4    11             11      0       0"
      ]
     },
     "execution_count": 105,
     "metadata": {},
     "output_type": "execute_result"
    }
   ],
   "source": [
    "peak_df = pd.concat([peak_idxs_df, toc_thr_idxs_df, \n",
    "                     toc_trend_idx_df, toc_stable_df], axis=1)\n",
    "peak_df.head()"
   ]
  },
  {
   "cell_type": "markdown",
   "metadata": {},
   "source": [
    "### Reordering"
   ]
  },
  {
   "cell_type": "code",
   "execution_count": 108,
   "metadata": {},
   "outputs": [
    {
     "data": {
      "text/html": [
       "<div>\n",
       "<style scoped>\n",
       "    .dataframe tbody tr th:only-of-type {\n",
       "        vertical-align: middle;\n",
       "    }\n",
       "\n",
       "    .dataframe tbody tr th {\n",
       "        vertical-align: top;\n",
       "    }\n",
       "\n",
       "    .dataframe thead th {\n",
       "        text-align: right;\n",
       "    }\n",
       "</style>\n",
       "<table border=\"1\" class=\"dataframe\">\n",
       "  <thead>\n",
       "    <tr style=\"text-align: right;\">\n",
       "      <th></th>\n",
       "      <th>Peak</th>\n",
       "      <th>1st_reach_thr</th>\n",
       "      <th>Trend</th>\n",
       "      <th>Stable</th>\n",
       "    </tr>\n",
       "  </thead>\n",
       "  <tbody>\n",
       "    <tr>\n",
       "      <th>36</th>\n",
       "      <td>19</td>\n",
       "      <td>20</td>\n",
       "      <td>1</td>\n",
       "      <td>0</td>\n",
       "    </tr>\n",
       "    <tr>\n",
       "      <th>45</th>\n",
       "      <td>19</td>\n",
       "      <td>20</td>\n",
       "      <td>1</td>\n",
       "      <td>0</td>\n",
       "    </tr>\n",
       "    <tr>\n",
       "      <th>15</th>\n",
       "      <td>18</td>\n",
       "      <td>17</td>\n",
       "      <td>1</td>\n",
       "      <td>0</td>\n",
       "    </tr>\n",
       "    <tr>\n",
       "      <th>44</th>\n",
       "      <td>18</td>\n",
       "      <td>16</td>\n",
       "      <td>1</td>\n",
       "      <td>0</td>\n",
       "    </tr>\n",
       "    <tr>\n",
       "      <th>31</th>\n",
       "      <td>16</td>\n",
       "      <td>16</td>\n",
       "      <td>1</td>\n",
       "      <td>0</td>\n",
       "    </tr>\n",
       "  </tbody>\n",
       "</table>\n",
       "</div>"
      ],
      "text/plain": [
       "    Peak  1st_reach_thr  Trend  Stable\n",
       "36    19             20      1       0\n",
       "45    19             20      1       0\n",
       "15    18             17      1       0\n",
       "44    18             16      1       0\n",
       "31    16             16      1       0"
      ]
     },
     "execution_count": 108,
     "metadata": {},
     "output_type": "execute_result"
    }
   ],
   "source": [
    "# Sort based on four criteria for flotting purpose later. \n",
    "sort_srtp = ['Stable', '1st_reach_thr', 'Trend', 'Peak']\n",
    "sort_strp = ['Stable', 'Trend', '1st_reach_thr', 'Peak']\n",
    "\n",
    "# Stable on top of graph, pcolormesh draw from the bottom up based on the df\n",
    "#https://www.geeksforgeeks.org/how-to-sort-a-pandas-dataframe-by-multiple-columns-in-python/\n",
    "peak_df.sort_values(by=sort_strp, inplace=True, \n",
    "                    ascending=[True, False, False, False])\n",
    "\n",
    "# Save as txt\n",
    "peak_df.to_csv(dir_lowess_sel / \\\n",
    "  f\"Table_topic_peak_1st-reach_med_index_thr{thr}_sortSTRP.txt\")\n",
    "peak_df.head()\n"
   ]
  },
  {
   "cell_type": "code",
   "execution_count": 109,
   "metadata": {},
   "outputs": [
    {
     "data": {
      "text/html": [
       "<div>\n",
       "<style scoped>\n",
       "    .dataframe tbody tr th:only-of-type {\n",
       "        vertical-align: middle;\n",
       "    }\n",
       "\n",
       "    .dataframe tbody tr th {\n",
       "        vertical-align: top;\n",
       "    }\n",
       "\n",
       "    .dataframe thead th {\n",
       "        text-align: right;\n",
       "    }\n",
       "</style>\n",
       "<table border=\"1\" class=\"dataframe\">\n",
       "  <thead>\n",
       "    <tr style=\"text-align: right;\">\n",
       "      <th></th>\n",
       "      <th>9.030672e+08</th>\n",
       "      <th>1.006405e+09</th>\n",
       "      <th>1.071551e+09</th>\n",
       "      <th>1.124942e+09</th>\n",
       "      <th>1.170824e+09</th>\n",
       "      <th>1.212034e+09</th>\n",
       "      <th>1.251778e+09</th>\n",
       "      <th>1.287634e+09</th>\n",
       "      <th>1.317960e+09</th>\n",
       "      <th>1.348805e+09</th>\n",
       "      <th>1.376539e+09</th>\n",
       "      <th>1.402373e+09</th>\n",
       "      <th>1.429416e+09</th>\n",
       "      <th>1.456463e+09</th>\n",
       "      <th>1.483074e+09</th>\n",
       "      <th>1.509509e+09</th>\n",
       "      <th>1.536034e+09</th>\n",
       "      <th>1.561176e+09</th>\n",
       "      <th>1.585714e+09</th>\n",
       "      <th>1.609477e+09</th>\n",
       "    </tr>\n",
       "    <tr>\n",
       "      <th>Topic</th>\n",
       "      <th></th>\n",
       "      <th></th>\n",
       "      <th></th>\n",
       "      <th></th>\n",
       "      <th></th>\n",
       "      <th></th>\n",
       "      <th></th>\n",
       "      <th></th>\n",
       "      <th></th>\n",
       "      <th></th>\n",
       "      <th></th>\n",
       "      <th></th>\n",
       "      <th></th>\n",
       "      <th></th>\n",
       "      <th></th>\n",
       "      <th></th>\n",
       "      <th></th>\n",
       "      <th></th>\n",
       "      <th></th>\n",
       "      <th></th>\n",
       "    </tr>\n",
       "  </thead>\n",
       "  <tbody>\n",
       "    <tr>\n",
       "      <th>36</th>\n",
       "      <td>12.0</td>\n",
       "      <td>23.0</td>\n",
       "      <td>22</td>\n",
       "      <td>17</td>\n",
       "      <td>18</td>\n",
       "      <td>28</td>\n",
       "      <td>17</td>\n",
       "      <td>16</td>\n",
       "      <td>23</td>\n",
       "      <td>21</td>\n",
       "      <td>17</td>\n",
       "      <td>20</td>\n",
       "      <td>26</td>\n",
       "      <td>24</td>\n",
       "      <td>29</td>\n",
       "      <td>14</td>\n",
       "      <td>22</td>\n",
       "      <td>22</td>\n",
       "      <td>25</td>\n",
       "      <td>35</td>\n",
       "    </tr>\n",
       "    <tr>\n",
       "      <th>45</th>\n",
       "      <td>0.0</td>\n",
       "      <td>0.0</td>\n",
       "      <td>5</td>\n",
       "      <td>5</td>\n",
       "      <td>11</td>\n",
       "      <td>10</td>\n",
       "      <td>13</td>\n",
       "      <td>18</td>\n",
       "      <td>7</td>\n",
       "      <td>15</td>\n",
       "      <td>15</td>\n",
       "      <td>19</td>\n",
       "      <td>16</td>\n",
       "      <td>28</td>\n",
       "      <td>24</td>\n",
       "      <td>27</td>\n",
       "      <td>30</td>\n",
       "      <td>32</td>\n",
       "      <td>24</td>\n",
       "      <td>41</td>\n",
       "    </tr>\n",
       "  </tbody>\n",
       "</table>\n",
       "</div>"
      ],
      "text/plain": [
       "       9.030672e+08  1.006405e+09  1.071551e+09  1.124942e+09  1.170824e+09  \\\n",
       "Topic                                                                         \n",
       "36             12.0          23.0            22            17            18   \n",
       "45              0.0           0.0             5             5            11   \n",
       "\n",
       "       1.212034e+09  1.251778e+09  1.287634e+09  1.317960e+09  1.348805e+09  \\\n",
       "Topic                                                                         \n",
       "36               28            17            16            23            21   \n",
       "45               10            13            18             7            15   \n",
       "\n",
       "       1.376539e+09  1.402373e+09  1.429416e+09  1.456463e+09  1.483074e+09  \\\n",
       "Topic                                                                         \n",
       "36               17            20            26            24            29   \n",
       "45               15            19            16            28            24   \n",
       "\n",
       "       1.509509e+09  1.536034e+09  1.561176e+09  1.585714e+09  1.609477e+09  \n",
       "Topic                                                                        \n",
       "36               14            22            22            25            35  \n",
       "45               27            30            32            24            41  "
      ]
     },
     "execution_count": 109,
     "metadata": {},
     "output_type": "execute_result"
    }
   ],
   "source": [
    "# dataframe ordered based on peak index values\n",
    "order_idxs = peak_df.index.tolist()\n",
    "\n",
    "top_freq_df_ord = top_freq_df.reindex(order_idxs)\n",
    "top_freq_df_ord.head(2)"
   ]
  },
  {
   "cell_type": "markdown",
   "metadata": {},
   "source": [
    "## ___Topic over time heatmap___\n",
    "\n",
    "Codes lifted from `script_4_4d_reorder_heatmap_based_on_lowess.ipynb`"
   ]
  },
  {
   "cell_type": "markdown",
   "metadata": {},
   "source": [
    "#### Set up x axis"
   ]
  },
  {
   "cell_type": "code",
   "execution_count": 110,
   "metadata": {},
   "outputs": [
    {
     "data": {
      "text/plain": [
       "587534400.0"
      ]
     },
     "execution_count": 110,
     "metadata": {},
     "output_type": "execute_result"
    }
   ],
   "source": [
    "d = bin_dates[1] - relativedelta(years=10)\n",
    "d.timestamp()"
   ]
  },
  {
   "cell_type": "code",
   "execution_count": 111,
   "metadata": {},
   "outputs": [
    {
     "data": {
      "text/plain": [
       "(20, 20, 21, 21)"
      ]
     },
     "execution_count": 111,
     "metadata": {},
     "output_type": "execute_result"
    }
   ],
   "source": [
    "# Set heatmap x-axis\n",
    "\n",
    "# for plotting purpose, the 1st bin_is not to scale. The starting bin value is \n",
    "# set as the 2nd date minus 5 years.\n",
    "ts_begin = (bin_dates[1] - relativedelta(years=5)).timestamp()\n",
    "boundsX  = np.insert(ts_unique, 0, ts_begin)\n",
    "\n",
    "# Get the dates of unique timestamps to label x-axis\n",
    "ts_unique_dts = [datetime.fromtimestamp(ts) for ts in ts_unique]\n",
    "ts_unique_dts = [f\"{dt.year}-{dt.month}-{dt.day}\" for dt in ts_unique_dts]\n",
    "\n",
    "# for labels, the 1st time is using the 1st bin_date\n",
    "xticklabels   = [bin_dates[0].strftime(\"%Y-%m-%d\")] + ts_unique_dts\n",
    "\n",
    "len(ts_unique), len(ts_unique_dts), len(boundsX), len(xticklabels)"
   ]
  },
  {
   "cell_type": "markdown",
   "metadata": {},
   "source": [
    "### Set up y axis"
   ]
  },
  {
   "cell_type": "code",
   "execution_count": 112,
   "metadata": {},
   "outputs": [],
   "source": [
    "# Set heatmap y-axis\n",
    "num_topics    = len(order_idxs)\n",
    "toc_nooutlier = np.arange(num_topics)\n",
    "midpointsY = (toc_nooutlier[:-1] + toc_nooutlier[1:]) / 2\n",
    "boundsY    = np.concatenate([[2*midpointsY[0]-midpointsY[1]], \n",
    "                            midpointsY, \n",
    "                            [2*midpointsY[-1]-midpointsY[-2]]])"
   ]
  },
  {
   "cell_type": "code",
   "execution_count": 113,
   "metadata": {},
   "outputs": [],
   "source": [
    "# Set yticklabels based on modified names\n",
    "# 1st, get modified names\n",
    "mod_names = [\" | \".join(name.split(\"_\")[1:]) for name in topic_info['Name']]"
   ]
  },
  {
   "cell_type": "code",
   "execution_count": 114,
   "metadata": {},
   "outputs": [
    {
     "data": {
      "text/html": [
       "<div>\n",
       "<style scoped>\n",
       "    .dataframe tbody tr th:only-of-type {\n",
       "        vertical-align: middle;\n",
       "    }\n",
       "\n",
       "    .dataframe tbody tr th {\n",
       "        vertical-align: top;\n",
       "    }\n",
       "\n",
       "    .dataframe thead th {\n",
       "        text-align: right;\n",
       "    }\n",
       "</style>\n",
       "<table border=\"1\" class=\"dataframe\">\n",
       "  <thead>\n",
       "    <tr style=\"text-align: right;\">\n",
       "      <th></th>\n",
       "      <th>Name</th>\n",
       "      <th>Mod_name</th>\n",
       "    </tr>\n",
       "  </thead>\n",
       "  <tbody>\n",
       "    <tr>\n",
       "      <th>-1</th>\n",
       "      <td>-1_arabidopsis_plants_plant_genes</td>\n",
       "      <td>arabidopsis | plants | plant | genes</td>\n",
       "    </tr>\n",
       "    <tr>\n",
       "      <th>0</th>\n",
       "      <td>0_spaceflight_microgravity_space_gravity</td>\n",
       "      <td>spaceflight | microgravity | space | gravity</td>\n",
       "    </tr>\n",
       "    <tr>\n",
       "      <th>1</th>\n",
       "      <td>1_ptdins_inositol_phosphatidylinositol_p2</td>\n",
       "      <td>ptdins | inositol | phosphatidylinositol | p2</td>\n",
       "    </tr>\n",
       "    <tr>\n",
       "      <th>2</th>\n",
       "      <td>2_heterotrimeric_gprotein_signaling_rop</td>\n",
       "      <td>heterotrimeric | gprotein | signaling | rop</td>\n",
       "    </tr>\n",
       "    <tr>\n",
       "      <th>3</th>\n",
       "      <td>3_transformation_tdna_gene_system</td>\n",
       "      <td>transformation | tdna | gene | system</td>\n",
       "    </tr>\n",
       "    <tr>\n",
       "      <th>...</th>\n",
       "      <td>...</td>\n",
       "      <td>...</td>\n",
       "    </tr>\n",
       "    <tr>\n",
       "      <th>59</th>\n",
       "      <td>59_floral_genes_development_flower</td>\n",
       "      <td>floral | genes | development | flower</td>\n",
       "    </tr>\n",
       "    <tr>\n",
       "      <th>60</th>\n",
       "      <td>60_flowering_ft_floral_flowering locus</td>\n",
       "      <td>flowering | ft | floral | flowering locus</td>\n",
       "    </tr>\n",
       "    <tr>\n",
       "      <th>61</th>\n",
       "      <td>61_circadian_clock_circadian clock_rhythms</td>\n",
       "      <td>circadian | clock | circadian clock | rhythms</td>\n",
       "    </tr>\n",
       "    <tr>\n",
       "      <th>62</th>\n",
       "      <td>62_ndh_psii_por_assembly</td>\n",
       "      <td>ndh | psii | por | assembly</td>\n",
       "    </tr>\n",
       "    <tr>\n",
       "      <th>63</th>\n",
       "      <td>63_psii_photosystem_light_psi</td>\n",
       "      <td>psii | photosystem | light | psi</td>\n",
       "    </tr>\n",
       "  </tbody>\n",
       "</table>\n",
       "<p>65 rows × 2 columns</p>\n",
       "</div>"
      ],
      "text/plain": [
       "                                           Name  \\\n",
       "-1            -1_arabidopsis_plants_plant_genes   \n",
       " 0     0_spaceflight_microgravity_space_gravity   \n",
       " 1    1_ptdins_inositol_phosphatidylinositol_p2   \n",
       " 2      2_heterotrimeric_gprotein_signaling_rop   \n",
       " 3            3_transformation_tdna_gene_system   \n",
       "..                                          ...   \n",
       " 59          59_floral_genes_development_flower   \n",
       " 60      60_flowering_ft_floral_flowering locus   \n",
       " 61  61_circadian_clock_circadian clock_rhythms   \n",
       " 62                    62_ndh_psii_por_assembly   \n",
       " 63               63_psii_photosystem_light_psi   \n",
       "\n",
       "                                          Mod_name  \n",
       "-1            arabidopsis | plants | plant | genes  \n",
       " 0    spaceflight | microgravity | space | gravity  \n",
       " 1   ptdins | inositol | phosphatidylinositol | p2  \n",
       " 2     heterotrimeric | gprotein | signaling | rop  \n",
       " 3           transformation | tdna | gene | system  \n",
       "..                                             ...  \n",
       " 59          floral | genes | development | flower  \n",
       " 60      flowering | ft | floral | flowering locus  \n",
       " 61  circadian | clock | circadian clock | rhythms  \n",
       " 62                    ndh | psii | por | assembly  \n",
       " 63               psii | photosystem | light | psi  \n",
       "\n",
       "[65 rows x 2 columns]"
      ]
     },
     "execution_count": 114,
     "metadata": {},
     "output_type": "execute_result"
    }
   ],
   "source": [
    "toc_mod_names = topic_info['Name'].to_frame()\n",
    "toc_mod_names['Mod_name'] = mod_names\n",
    "toc_mod_names.index = topic_info[\"Topic\"].values\n",
    "toc_mod_names"
   ]
  },
  {
   "cell_type": "code",
   "execution_count": 115,
   "metadata": {},
   "outputs": [
    {
     "data": {
      "text/plain": [
       "(63, 2)"
      ]
     },
     "execution_count": 115,
     "metadata": {},
     "output_type": "execute_result"
    }
   ],
   "source": [
    "# Drop topics\n",
    "toc_mod_names.drop(tocs_to_drop, inplace=True)\n",
    "toc_mod_names.shape"
   ]
  },
  {
   "cell_type": "code",
   "execution_count": 116,
   "metadata": {},
   "outputs": [
    {
     "data": {
      "text/plain": [
       "(                                                 Name  \\\n",
       " 36                   36_nitrate_uptake_transporter_pi   \n",
       " 45  45_anthocyanin_biosynthesis_anthocyanin biosyn...   \n",
       " \n",
       "                                              Mod_name  \n",
       " 36                nitrate | uptake | transporter | pi  \n",
       " 45  anthocyanin | biosynthesis | anthocyanin biosy...  ,\n",
       "                                          Name  \\\n",
       " 37  37_herbicide_herbicides_resistance_plants   \n",
       " 5              5_sumo_ubiquitin_e3_proteasome   \n",
       " \n",
       "                                         Mod_name  \n",
       " 37  herbicide | herbicides | resistance | plants  \n",
       " 5             sumo | ubiquitin | e3 | proteasome  )"
      ]
     },
     "execution_count": 116,
     "metadata": {},
     "output_type": "execute_result"
    }
   ],
   "source": [
    "# order the topics\n",
    "toc_mod_names_ordered = toc_mod_names.loc[order_idxs]\n",
    "toc_mod_names_ordered.head(2), toc_mod_names_ordered.tail(2)"
   ]
  },
  {
   "cell_type": "code",
   "execution_count": 117,
   "metadata": {},
   "outputs": [],
   "source": [
    "# Two kinds of yticklabels\n",
    "yticklabels          = order_idxs\n",
    "yticklabels_modnames = toc_mod_names_ordered['Mod_name'].values.tolist()"
   ]
  },
  {
   "cell_type": "markdown",
   "metadata": {},
   "source": [
    "### Normalize frequencies"
   ]
  },
  {
   "cell_type": "code",
   "execution_count": 118,
   "metadata": {},
   "outputs": [],
   "source": [
    "# Create a nested list where each element is a list of frequencies for a topic\n",
    "#tocs = topics_over_time.Topic.unique()\n",
    "#tocs.sort()\n",
    "\n",
    "# use the order_idxs as tocs, note that -1 has alrady been dropped from indices\n",
    "tocs = order_idxs\n",
    "\n",
    "#print(tocs)\n",
    "tot_freq = []\n",
    "for topic in tocs:\n",
    "\n",
    "  # topics_over_time sub-dataframe for a topic\n",
    "  toc_data = topics_over_time.loc[topics_over_time.Topic == topic, :]\n",
    "  # timestamps\n",
    "  tss      = toc_data.Timestamp.values.tolist()\n",
    "  # frequency for each timestamp\n",
    "  freq = toc_data.Frequency.values.tolist()\n",
    "\n",
    "  # turn freq into a 2D array of shape (1, len(freq)), \n",
    "  freq = np.reshape(freq, (1, len(freq)))\n",
    "  # min-max scale freq and get the 1d array back\n",
    "  freq = minmax_scale(freq, axis=1)[0]\n",
    "\n",
    "  # Check if all 50 timestamp bins are present, if not, fill in zero.\n",
    "  freq_50  = []\n",
    "  for ts in ts_unique:\n",
    "    if ts in tss:\n",
    "      idx = tss.index(ts)\n",
    "      freq_50.append(freq[idx])\n",
    "    else:\n",
    "      freq_50.append(0)\n",
    "\n",
    "  tot_freq.append(freq_50)"
   ]
  },
  {
   "cell_type": "code",
   "execution_count": 119,
   "metadata": {},
   "outputs": [
    {
     "data": {
      "text/plain": [
       "(63, 20)"
      ]
     },
     "execution_count": 119,
     "metadata": {},
     "output_type": "execute_result"
    }
   ],
   "source": [
    "tot_freq_ori_df = pd.DataFrame(tot_freq, columns=ts_unique)\n",
    "tot_freq_ori_df.index = tocs\n",
    "tot_freq_ori_df.shape"
   ]
  },
  {
   "cell_type": "markdown",
   "metadata": {},
   "source": [
    "### Plot heatmap"
   ]
  },
  {
   "cell_type": "code",
   "execution_count": 120,
   "metadata": {},
   "outputs": [],
   "source": [
    "# Plotting\n",
    "def plot_scaled_heatmap(df, fig_name, yticklabels=yticklabels):\n",
    "  fig, ax = plt.subplots(figsize=(10,18))\n",
    "  plot = ax.pcolormesh(boundsX, boundsY, df, cmap=\"RdPu\")\n",
    "  ax.set_xticks(boundsX)\n",
    "  ax.set_xticklabels(xticklabels, rotation=90)\n",
    "  ax.set_yticks(np.arange(len(order_idxs)))\n",
    "  ax.set_yticklabels(yticklabels)\n",
    "  ax.grid(False)\n",
    "  fig.colorbar(plot)\n",
    "\n",
    "  plt.tight_layout()\n",
    "  plt.savefig(work_dir / fig_name)\n",
    "  plt.show()"
   ]
  },
  {
   "cell_type": "code",
   "execution_count": 121,
   "metadata": {},
   "outputs": [
    {
     "data": {
      "image/png": "[encoded data removed]",
      "text/plain": [
       "<Figure size 720x1296 with 2 Axes>"
      ]
     },
     "metadata": {
      "needs_background": "light"
     },
     "output_type": "display_data"
    }
   ],
   "source": [
    "fig_name = 'fig6_1_tot_heatmap_original_lowess-order_xscaled_' + \\\n",
    "           f'no_globaltune_thr{thr}_sortSTRP.pdf'\n",
    "plot_scaled_heatmap(tot_freq_ori_df, fig_name)"
   ]
  },
  {
   "cell_type": "code",
   "execution_count": 122,
   "metadata": {},
   "outputs": [
    {
     "data": {
      "image/png": "[encoded data removed]",
      "text/plain": [
       "<Figure size 720x1296 with 2 Axes>"
      ]
     },
     "metadata": {
      "needs_background": "light"
     },
     "output_type": "display_data"
    }
   ],
   "source": [
    "fig_name2 = 'fig6_1_tot_heatmap_original_lowess-order_xscaled_' + \\\n",
    "           f'no_globaltune_thr{thr}_sortSTRP_modnames.pdf'\n",
    "plot_scaled_heatmap(tot_freq_ori_df, fig_name2, yticklabels_modnames)"
   ]
  },
  {
   "cell_type": "markdown",
   "metadata": {},
   "source": [
    "## ___Testing___"
   ]
  },
  {
   "cell_type": "code",
   "execution_count": 123,
   "metadata": {},
   "outputs": [
    {
     "data": {
      "text/plain": [
       "datetime.date(2018, 1, 31)"
      ]
     },
     "execution_count": 123,
     "metadata": {},
     "output_type": "execute_result"
    }
   ],
   "source": [
    "d = datetime.strptime('20180131', '%Y%m%d').date()\n",
    "d"
   ]
  },
  {
   "cell_type": "code",
   "execution_count": 124,
   "metadata": {},
   "outputs": [
    {
     "data": {
      "text/plain": [
       "datetime.date(2017, 1, 31)"
      ]
     },
     "execution_count": 124,
     "metadata": {},
     "output_type": "execute_result"
    }
   ],
   "source": [
    "d - relativedelta(years=1)"
   ]
  },
  {
   "cell_type": "code",
   "execution_count": 125,
   "metadata": {},
   "outputs": [
    {
     "data": {
      "text/plain": [
       "datetime.datetime(1998, 8, 14, 0, 0)"
      ]
     },
     "execution_count": 125,
     "metadata": {},
     "output_type": "execute_result"
    }
   ],
   "source": [
    "bin_dates[1]"
   ]
  },
  {
   "cell_type": "code",
   "execution_count": 126,
   "metadata": {},
   "outputs": [
    {
     "data": {
      "text/plain": [
       "datetime.datetime(1988, 8, 14, 0, 0)"
      ]
     },
     "execution_count": 126,
     "metadata": {},
     "output_type": "execute_result"
    }
   ],
   "source": [
    "bin_dates[1] - relativedelta(years=10)"
   ]
  },
  {
   "cell_type": "code",
   "execution_count": null,
   "metadata": {},
   "outputs": [],
   "source": []
  }
 ],
 "metadata": {
  "kernelspec": {
   "display_name": "Python 3.9.12 ('bertopic': conda)",
   "language": "python",
   "name": "python3"
  },
  "language_info": {
   "codemirror_mode": {
    "name": "ipython",
    "version": 3
   },
   "file_extension": ".py",
   "mimetype": "text/x-python",
   "name": "python",
   "nbconvert_exporter": "python",
   "pygments_lexer": "ipython3",
   "version": "3.9.12 (main, Jun  1 2022, 11:38:51) \n[GCC 7.5.0]"
  },
  "orig_nbformat": 4,
  "vscode": {
   "interpreter": {
    "hash": "f2e4e20fc18a85a340f79bd4194edb89aa809195ae81b8baa70bd7972a2a12f7"
   }
  }
 },
 "nbformat": 4,
 "nbformat_minor": 2
}
