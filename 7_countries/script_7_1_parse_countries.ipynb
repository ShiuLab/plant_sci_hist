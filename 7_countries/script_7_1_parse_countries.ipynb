{
 "cells": [
  {
   "attachments": {},
   "cell_type": "markdown",
   "metadata": {},
   "source": [
    "# __Step 7.1: Get country info__\n",
    "\n",
    "Goal\n",
    "- Get country info out of each doc\n",
    "- Get # of docs per country\n",
    "- Get # of docs per continent\n",
    "- Get # of docs per country over time\n",
    "- Get # of docs per country per topic\n",
    "- Get # of docs per country per topic over time\n",
    "\n",
    "Approach:\n",
    "- Get the right token for country info in the AD (address) field, some have email address as the last token\n",
    "- `pycountry`: use both ISO3166 (Countries) and ISO3166-3 (deleted countries)\n",
    "- Supplement dictionary: some special considerations, e.g., UK, Taiwan, etc.\n",
    "- `geopy`: pass the location token directly. This is a powerful module but does not deal with historical country properly.\n",
    "\n",
    "Deprecated:\n",
    "- `uszipcode`: search for zip code if the token has two parts delimited by \" \" and the 2nd part is a number as is or after taking the 1st subtoken before \"-\". This is done by `geopy`.\n",
    "\n",
    "Key info:\n",
    "- Total records: 421658\n",
    "- Medline available: 421626\n",
    "  - No AD in medline record: 19862\n",
    "  - With a3 based on pycountry/suppl dict: 289543\n",
    "  - To geopy: 112165\n",
    "\n",
    "Issues:\n",
    "- 2/22/23: \n",
    "  - Turned out that the docker command line only point to one region. Download OSM files from [Geofabrik](https://download.geofabrik.de/index.html).\n",
    "  - There are some issues with email address containing address.\n",
    "- 2/21/23:\n",
    "  - Try to query locations using Nominatim servive (OpenStreetMap) via geopy but after couple hundred queries, the connection time out. Likely the service just refuse to handle too many request. Try install Nominatim locally. \n",
    "  - [Nominatim Docker version](https://github.com/mediagis/nominatim-docker/tree/master/4.2) and to [get Docker started](https://docs.docker.com/config/daemon/start/).\n",
    "  - Got `docker: Got permission denied while trying to connect to the Docker daemon socket`. Try [this fix](https://www.digitalocean.com/community/questions/how-to-fix-docker-got-permission-denied-while-trying-to-connect-to-the-docker-daemon-socket).\n",
    "  - See [this guide](https://www.linkedin.com/pulse/geocoding-geopy-your-own-nominatim-server-chonghua-yin?trk=related_artice_Geocoding%20with%20GeoPy%20and%20Your%20Own%20Nominatim%20Server_article-card_title).\n",
    "- 2/20/23: \n",
    "  - The corpus dataset from 2_5_predict_pubmed does not have author or affiliation info. This needs to be done from the very beginning when I process the pubmed records.\n",
    "  - In \n",
    "[MEDLINE/PubMed Data Element (Field) Descriptions](https://www.nlm.nih.gov/bsd/mms/medlineelements.html), there are several important info:\n",
    "    - The affiliation of the authors, corporate authors and investigators appear in this repeating field.\n",
    "      - 1988- The address of the first author's affiliation is included. The institution, city, and state including zip code for U.S. addresses, and country for countries outside of the United States, are included if provided in the journal; sometimes the street address is also included if provided in the journal.\n",
    "      - 1995-2013 The designation USA is added at the end of the address when the first author's affiliation is in the fifty United States or the District of Columbia.\n",
    "        - Q: Does this mean that this is not done for records before 1995?\n",
    "      - 1996- The primary author's electronic mail (e-mail) address is included at the end of the Affiliation field, if present in the journal.\n",
    "      - 2003- The complete first author address is entered as it appears in the article with no words omitted.\n",
    "      - October 2013- Quality control of this field ceased in order to accommodate the affiliations for all authors and contributors.\n",
    "      - December 2014- Multiple affiliations for each author or contributor are included.\n",
    "        - __Because of this, only 1st author info is considered.__\n",
    "  - For dealing with countries, there is the issue of historical country names, see [ISSO_3166-3](https://en.wikipedia.org/wiki/ISO_3166-3)"
   ]
  },
  {
   "cell_type": "markdown",
   "metadata": {},
   "source": [
    "## ___Set up___"
   ]
  },
  {
   "cell_type": "markdown",
   "metadata": {},
   "source": [
    "### Module import"
   ]
  },
  {
   "cell_type": "code",
   "execution_count": 42,
   "metadata": {},
   "outputs": [
    {
     "data": {
      "text/plain": [
       "'\\nfrom scipy.sparse import csr_matrix, lil_matrix, coo_matrix, dok_matrix\\nfrom time import time\\nfrom datetime import datetime\\nfrom dateutil.relativedelta import relativedelta\\nfrom collections import OrderedDict, Counter\\nfrom bisect import bisect\\nfrom mlxtend.preprocessing import minmax_scaling\\nfrom copy import deepcopy\\n'"
      ]
     },
     "execution_count": 42,
     "metadata": {},
     "output_type": "execute_result"
    }
   ],
   "source": [
    "import pickle, pycountry, sys\n",
    "import numpy as np\n",
    "import pandas as pd\n",
    "import seaborn as sns\n",
    "import matplotlib as mpl\n",
    "import matplotlib.pyplot as plt\n",
    "from pathlib import Path\n",
    "from tqdm import tqdm\n",
    "from Bio import Entrez, Medline\n",
    "from time import sleep\n",
    "from geopy.geocoders import Nominatim\n",
    "\n",
    "'''\n",
    "from scipy.sparse import csr_matrix, lil_matrix, coo_matrix, dok_matrix\n",
    "from time import time\n",
    "from datetime import datetime\n",
    "from dateutil.relativedelta import relativedelta\n",
    "from collections import OrderedDict, Counter\n",
    "from bisect import bisect\n",
    "from mlxtend.preprocessing import minmax_scaling\n",
    "from copy import deepcopy\n",
    "'''"
   ]
  },
  {
   "cell_type": "markdown",
   "metadata": {},
   "source": [
    "### Key variables"
   ]
  },
  {
   "cell_type": "code",
   "execution_count": 2,
   "metadata": {},
   "outputs": [],
   "source": [
    "# Reproducibility\n",
    "seed = 20220609\n",
    "\n",
    "# Setting working directory\n",
    "proj_dir   = Path.home() / \"projects/plant_sci_hist\"\n",
    "work_dir   = proj_dir / \"7_countries\"\n",
    "work_dir.mkdir(parents=True, exist_ok=True)\n",
    "\n",
    "# plant science corpus with date and other info\n",
    "dir2        = proj_dir / \"2_text_classify//2_5_predict_pubmed\"\n",
    "corpus_file = dir2 / \"corpus_plant_421658.tsv.gz\"\n",
    "\n",
    "# timestamp bins\n",
    "dir44            = proj_dir / \"4_topic_model/4_4_over_time\"\n",
    "ts_for_bins_file = dir44 / \"table4_4_bin_timestamp_date.tsv\"\n",
    "\n",
    "# So PDF is saved in a format properly\n",
    "mpl.rcParams['pdf.fonttype'] = 42\n",
    "plt.rcParams[\"font.family\"] = \"sans-serif\""
   ]
  },
  {
   "attachments": {},
   "cell_type": "markdown",
   "metadata": {},
   "source": [
    "## ___Get PubMed records___"
   ]
  },
  {
   "cell_type": "markdown",
   "metadata": {},
   "source": [
    "### Read plant science corpus"
   ]
  },
  {
   "cell_type": "code",
   "execution_count": 3,
   "metadata": {},
   "outputs": [],
   "source": [
    "corpus = pd.read_csv(corpus_file, compression='gzip', sep='\\t')"
   ]
  },
  {
   "cell_type": "code",
   "execution_count": 4,
   "metadata": {},
   "outputs": [
    {
     "data": {
      "text/html": [
       "<div>\n",
       "<style scoped>\n",
       "    .dataframe tbody tr th:only-of-type {\n",
       "        vertical-align: middle;\n",
       "    }\n",
       "\n",
       "    .dataframe tbody tr th {\n",
       "        vertical-align: top;\n",
       "    }\n",
       "\n",
       "    .dataframe thead th {\n",
       "        text-align: right;\n",
       "    }\n",
       "</style>\n",
       "<table border=\"1\" class=\"dataframe\">\n",
       "  <thead>\n",
       "    <tr style=\"text-align: right;\">\n",
       "      <th></th>\n",
       "      <th>Unnamed: 0</th>\n",
       "      <th>PMID</th>\n",
       "      <th>Date</th>\n",
       "      <th>Journal</th>\n",
       "      <th>Title</th>\n",
       "      <th>Abstract</th>\n",
       "      <th>QualifiedName</th>\n",
       "      <th>txt</th>\n",
       "      <th>reg_article</th>\n",
       "      <th>y_prob</th>\n",
       "      <th>y_pred</th>\n",
       "    </tr>\n",
       "  </thead>\n",
       "  <tbody>\n",
       "    <tr>\n",
       "      <th>0</th>\n",
       "      <td>3</td>\n",
       "      <td>61</td>\n",
       "      <td>1975-12-11</td>\n",
       "      <td>Biochimica et biophysica acta</td>\n",
       "      <td>Identification of the 120 mus phase in the dec...</td>\n",
       "      <td>After a 500 mus laser flash a 120 mus phase in...</td>\n",
       "      <td>spinach</td>\n",
       "      <td>Identification of the 120 mus phase in the dec...</td>\n",
       "      <td>1</td>\n",
       "      <td>0.716394</td>\n",
       "      <td>1</td>\n",
       "    </tr>\n",
       "    <tr>\n",
       "      <th>1</th>\n",
       "      <td>4</td>\n",
       "      <td>67</td>\n",
       "      <td>1975-11-20</td>\n",
       "      <td>Biochimica et biophysica acta</td>\n",
       "      <td>Cholinesterases from plant tissues. VI. Prelim...</td>\n",
       "      <td>Enzymes capable of hydrolyzing esters of thioc...</td>\n",
       "      <td>plant</td>\n",
       "      <td>Cholinesterases from plant tissues. VI. Prelim...</td>\n",
       "      <td>1</td>\n",
       "      <td>0.894874</td>\n",
       "      <td>1</td>\n",
       "    </tr>\n",
       "  </tbody>\n",
       "</table>\n",
       "</div>"
      ],
      "text/plain": [
       "   Unnamed: 0  PMID        Date                        Journal  \\\n",
       "0           3    61  1975-12-11  Biochimica et biophysica acta   \n",
       "1           4    67  1975-11-20  Biochimica et biophysica acta   \n",
       "\n",
       "                                               Title  \\\n",
       "0  Identification of the 120 mus phase in the dec...   \n",
       "1  Cholinesterases from plant tissues. VI. Prelim...   \n",
       "\n",
       "                                            Abstract QualifiedName  \\\n",
       "0  After a 500 mus laser flash a 120 mus phase in...       spinach   \n",
       "1  Enzymes capable of hydrolyzing esters of thioc...         plant   \n",
       "\n",
       "                                                 txt  reg_article    y_prob  \\\n",
       "0  Identification of the 120 mus phase in the dec...            1  0.716394   \n",
       "1  Cholinesterases from plant tissues. VI. Prelim...            1  0.894874   \n",
       "\n",
       "   y_pred  \n",
       "0       1  \n",
       "1       1  "
      ]
     },
     "execution_count": 4,
     "metadata": {},
     "output_type": "execute_result"
    }
   ],
   "source": [
    "corpus.head(2)"
   ]
  },
  {
   "cell_type": "code",
   "execution_count": 5,
   "metadata": {},
   "outputs": [
    {
     "data": {
      "text/plain": [
       "(421658,)"
      ]
     },
     "execution_count": 5,
     "metadata": {},
     "output_type": "execute_result"
    }
   ],
   "source": [
    "# Get all PMIDs\n",
    "pmids = corpus.PMID.values\n",
    "pmids.shape"
   ]
  },
  {
   "attachments": {},
   "cell_type": "markdown",
   "metadata": {},
   "source": [
    "### Get Pubmed docs using PMIDs\n"
   ]
  },
  {
   "cell_type": "code",
   "execution_count": 6,
   "metadata": {},
   "outputs": [],
   "source": [
    "#https://stackoverflow.com/questions/59267992/biopython-how-to-download-all-of-the-peptide-sequences-or-all-records-associat\n",
    "\n",
    "Entrez.email = 'shius@msu.edu'\n",
    "\n",
    "id_list  = [str(pmid) for pmid in pmids]\n",
    "post_xml = Entrez.epost(db='pubmed', id=','.join(id_list))\n",
    "results  = Entrez.read(post_xml)\n",
    "webenv   = results['WebEnv']\n",
    "qkey     = results['QueryKey']"
   ]
  },
  {
   "cell_type": "code",
   "execution_count": 7,
   "metadata": {},
   "outputs": [
    {
     "name": "stderr",
     "output_type": "stream",
     "text": [
      "100%|██████████| 43/43 [00:00<00:00, 412.95it/s]\n"
     ]
    }
   ],
   "source": [
    "#http://biopython.org/DIST/docs/tutorial/Tutorial.html#sec166\n",
    "\n",
    "step    = 10000\n",
    "for begin in tqdm(range(0, len(pmids), step)):\n",
    "  # first check if this file is present\n",
    "  medline_file = work_dir / f\"corpus_plant_421658_medline_{begin}.pickle\"\n",
    "\n",
    "  # Check if the file is already there, if so, continue to the next one\n",
    "  if not medline_file.is_file():\n",
    "    subset   = pmids[begin:begin+step]\n",
    "\n",
    "    # Get Medline records for subset\n",
    "    handle  = Entrez.efetch(db='pubmed', id=subset, rettype='medline', \n",
    "                            retmode='text', webenv=webenv, query_key=qkey)\n",
    "    records  = Medline.parse(handle)\n",
    "    rec_list = list(records)\n",
    "\n",
    "    with open(medline_file, \"wb\") as f:\n",
    "      pickle.dump(rec_list, f)\n"
   ]
  },
  {
   "cell_type": "markdown",
   "metadata": {},
   "source": [
    "### Process PubMed Medline docs"
   ]
  },
  {
   "cell_type": "code",
   "execution_count": 8,
   "metadata": {},
   "outputs": [
    {
     "name": "stderr",
     "output_type": "stream",
     "text": [
      "100%|██████████| 43/43 [00:30<00:00,  1.42it/s]\n"
     ]
    },
    {
     "data": {
      "text/plain": [
       "421585"
      ]
     },
     "execution_count": 8,
     "metadata": {},
     "output_type": "execute_result"
    }
   ],
   "source": [
    "# Read individuial pickle files and compile the full list\n",
    "all_rec = []\n",
    "for begin in tqdm(range(0, len(pmids), step)):\n",
    "  medline_file = work_dir / f\"corpus_plant_421658_medline_{begin}.pickle\"\n",
    "  with open(medline_file, \"rb\") as f:\n",
    "    rec_list = pickle.load(f)\n",
    "  all_rec.extend(rec_list)\n",
    "\n",
    "# The number of docs don't add up. Some records are not downloaded\n",
    "len(all_rec)"
   ]
  },
  {
   "cell_type": "markdown",
   "metadata": {},
   "source": [
    "### Check what's missing"
   ]
  },
  {
   "cell_type": "code",
   "execution_count": 9,
   "metadata": {},
   "outputs": [],
   "source": [
    "# Go thorugh all downloaded docs and get PMIDs\n",
    "def check_missing(pmids, all_rec):\n",
    "  '''\n",
    "  Args:\n",
    "    pmids (list): list of integer PMIDs\n",
    "    all_rec (list): list of dictionary of medline records\n",
    "  Return:\n",
    "    id_list_missed (list): list of items in pmids but not all_rec\n",
    "  '''\n",
    "\n",
    "  # Downloaded\n",
    "  pmids_dn = []\n",
    "  for rec in tqdm(all_rec):\n",
    "    pmids_dn.append(int(rec['PMID']))\n",
    "  \n",
    "  # Compare lists\n",
    "  #https://stackoverflow.com/questions/15455737/python-use-set-to-find-the-different-items-in-list\n",
    "  print(\"differnce:\",len(pmids)-len(pmids_dn))\n",
    "\n",
    "  pmids_ori_set = set(pmids)\n",
    "  pmids_dn_set  = set(pmids_dn)\n",
    "  missing = pmids_ori_set - pmids_dn_set\n",
    "  print(\"# missing:\", len(missing))\n",
    "\n",
    "  id_list_missed = [str(pmid) for pmid in missing]\n",
    "\n",
    "  return id_list_missed"
   ]
  },
  {
   "cell_type": "code",
   "execution_count": 10,
   "metadata": {},
   "outputs": [
    {
     "name": "stderr",
     "output_type": "stream",
     "text": [
      "100%|██████████| 421585/421585 [00:00<00:00, 1208058.42it/s]\n"
     ]
    },
    {
     "name": "stdout",
     "output_type": "stream",
     "text": [
      "differnce: 73\n",
      "# missing: 72\n",
      "Retrieved: 41\n"
     ]
    }
   ],
   "source": [
    "# Get the missing records and add to all_rec\n",
    "id_list_missed = check_missing(pmids, all_rec)\n",
    "\n",
    "# Get Medline records for subset straight without epost\n",
    "handle  = Entrez.efetch(db='pubmed', id=id_list_missed, rettype='medline', \n",
    "                        retmode='text')\n",
    "records  = Medline.parse(handle)\n",
    "rec_list = list(records)\n",
    "\n",
    "# Can only get 41, so some still missing\n",
    "print(\"Retrieved:\", len(rec_list))"
   ]
  },
  {
   "cell_type": "code",
   "execution_count": 11,
   "metadata": {},
   "outputs": [],
   "source": [
    "# Save the missing records as pickle\n",
    "medline_file = work_dir / \"corpus_plant_421658_medline_missed.pickle\"\n",
    "\n",
    "with open(medline_file, \"wb\") as f:\n",
    "  pickle.dump(rec_list, f)"
   ]
  },
  {
   "cell_type": "code",
   "execution_count": 12,
   "metadata": {},
   "outputs": [],
   "source": [
    "# Add to all_rec, then check again\n",
    "all_rec.extend(rec_list)"
   ]
  },
  {
   "cell_type": "code",
   "execution_count": 13,
   "metadata": {},
   "outputs": [
    {
     "name": "stderr",
     "output_type": "stream",
     "text": [
      "100%|██████████| 421626/421626 [00:00<00:00, 1306550.32it/s]\n"
     ]
    },
    {
     "name": "stdout",
     "output_type": "stream",
     "text": [
      "differnce: 32\n",
      "# missing: 31\n"
     ]
    },
    {
     "data": {
      "text/plain": [
       "31"
      ]
     },
     "execution_count": 13,
     "metadata": {},
     "output_type": "execute_result"
    }
   ],
   "source": [
    "still_missing = check_missing(pmids, all_rec)\n",
    "len(still_missing)"
   ]
  },
  {
   "attachments": {},
   "cell_type": "markdown",
   "metadata": {},
   "source": [
    "### Check AU length"
   ]
  },
  {
   "cell_type": "code",
   "execution_count": 123,
   "metadata": {},
   "outputs": [
    {
     "name": "stderr",
     "output_type": "stream",
     "text": [
      "100%|██████████| 421626/421626 [00:00<00:00, 1002805.60it/s]"
     ]
    },
    {
     "name": "stdout",
     "output_type": "stream",
     "text": [
      "{1: 235025, 4: 20509, 5: 20868, 2: 13440, 9: 10572, 6: 20175, 3: 17537, 10: 8071, 8: 13912, 11: 5575, 7: 17230, 16: 1384, 12: 4400, 13: 2978, 15: 1766, 14: 2466, 17: 952, 23: 239, 21: 401, 19: 620, 18: 890, 59: 2, 25: 164, 30: 93, 32: 77, 22: 352, 20: 552, 34: 46, 36: 49, 43: 23, 28: 118, 54: 10, 35: 50, 44: 12, 27: 150, 29: 93, 24: 276, 31: 64, 26: 156, 45: 26, 38: 27, 71: 4, 50: 12, 37: 34, 55: 6, 86: 1, 41: 17, 80: 4, 82: 1, 33: 61, 47: 12, 64: 1, 42: 22, 58: 2, 39: 28, 69: 2, 52: 10, 51: 10, 40: 41, 62: 3, 46: 17, 96: 2, 48: 12, 65: 5, 57: 7, 72: 4, 128: 1, 60: 6, 114: 2, 78: 2, 76: 1, 56: 5, 95: 2, 136: 1, 63: 3, 126: 2, 112: 2, 162: 1, 216: 1, 77: 3, 105: 3, 66: 4, 70: 5, 88: 3, 153: 1, 135: 1, 200: 1, 111: 2, 152: 1, 75: 4, 130: 1, 273: 1, 85: 2, 68: 2, 92: 2, 137: 2, 61: 5, 53: 4, 113: 1, 366: 1, 67: 3, 93: 1, 120: 1, 164: 1, 110: 2, 89: 1, 143: 1, 83: 1, 49: 4, 131: 1, 101: 1, 103: 1, 73: 3, 179: 1, 886: 1, 74: 2, 2285: 1, 79: 1, 139: 1, 166: 1, 168: 1}\n"
     ]
    },
    {
     "name": "stderr",
     "output_type": "stream",
     "text": [
      "\n"
     ]
    }
   ],
   "source": [
    "ad_len_dict = {}\n",
    "for rec in tqdm(all_rec):\n",
    "  if 'AD' in rec:\n",
    "    ad_len = len(rec['AD'])\n",
    "    if ad_len not in ad_len_dict:\n",
    "      ad_len_dict[ad_len] = 1\n",
    "    else:\n",
    "      ad_len_dict[ad_len]+= 1\n",
    "\n",
    "    #if ad_len == 2285:\n",
    "    #  print(rec['AD'][0])\n",
    "\n",
    "print(ad_len_dict)\n",
    "        "
   ]
  },
  {
   "cell_type": "markdown",
   "metadata": {},
   "source": [
    "### Spot check AD fields"
   ]
  },
  {
   "cell_type": "code",
   "execution_count": 125,
   "metadata": {},
   "outputs": [
    {
     "name": "stdout",
     "output_type": "stream",
     "text": [
      "['Faculty of Pharmaceutical Sciences, Kumamoto University, Japan.']\n",
      "[\"URA Centre National de la Recherche Scientifique 576, Departement de Biologie Moleculaire et Structurale, Centre d'Etudes Nucleaires de Grenoble, France.\"]\n",
      "['Department of Biological Sciences, Stanford University, CA 94305-5020.']\n",
      "['Botanisches Institut der Ludwig-Maximilians Universitat, Munchen, F.R.G.']\n",
      "['Department of Biochemistry, Temple University School of Medicine, Philadelphia, PA 19140.']\n",
      "['Department of Biochemistry, Johns Hopkins University, School of Hygiene and Public Health, Baltimore, Maryland 21205.']\n",
      "['Institut de Biologie Moleculaire des Plantes du CNRS, Strasbourg, France.']\n",
      "['Department of Agronomy, Purdue University, West Lafayette, Indiana 47907.']\n",
      "[\"Departement de Biologie/Service de Biologie Cellulaire, Institut National de la Sante et de la Recherche Medicale U246, Centre d'Etudes Nucleaires de Saclay, Gif sur Yvette, France.\"]\n",
      "['Ministry of Agriculture, Fisheries and Food, Slough Laboratory, Berks, Great Britain.']\n",
      "['Department of Immunology, Fundacion Jimenez Diaz, Madrid, Spain.']\n",
      "['Rosenstiel Center, Brandeis University, Waltham, MA 02254-9110, USA.']\n",
      "['Department of Biological and Molecular Sciences, University of Stirling, Scotland, UK.']\n",
      "['Dip. Genetica e Biologia Molecolare, Universita di Roma La Sapienza, Italy.']\n",
      "['Department of Biochemistry, Bose Institute, Calcutta, India.']\n",
      "['Pharmacognosy Division, University of Helsinki, Finland.']\n",
      "['Institute for Cell Biology and Genetics, Faculty of Agriculture, Iwate University, Morioka, Japan.']\n",
      "['Department of Biology, Fisk University, Nashville, TN 37208.']\n",
      "['F. A. Janssens Laboratory of Genetics, KU Leuven, Heverlee, Belgium.']\n",
      "['Department of Cell Biology, John Innes Centre, Colney, Norwich, UK.']\n",
      "['Department of Cell Biology and Biochemistry, U.S. Army Medical Research Institute of Infectious Diseases, Ft. Detrick, Frederick, Maryland 21702-5011, USA.']\n",
      "['URA 1940 CNRS, Universite Blaise Pascal Clermont-Ferrand II, Aubiere, France.']\n",
      "['Plant Molecular Genetics and Center for Legume Research, The University of Tennessee, Knoxville 37901-1071, USA.']\n",
      "['Institute of Plant Biology, Biological Research Center, Hungarian Academy of Science, Szeged.']\n",
      "['University of Gent, Department of Genetics, Belgium.']\n",
      "['Department of Botany, University of Washington, Seattle, WA 98195-5325, USA.']\n",
      "['Department of Chemistry, Swedish University of Agricultural Sciences, Uppsala, Sweden.']\n",
      "['Division of Life Science and Department of Botany, University of Toronto at Scarborough, 1265 Military Trail, Scarborough, Ontario, M1C 1A4 Canada.']\n",
      "['School of Technology, Federal Polytechnic, Idah, Kogi State, Nigeria.']\n",
      "['Department of Biology, Indiana University, Bloomington, IN 47405, USA.']\n",
      "['Laboratoire de Pharmacognosie, U.R.A. 1843 CNRS (BIOCIS), Faculte de Pharmacie, 92296 Chatenay-Malabry, France.']\n",
      "['Host-Parasite Interactions Section, Laboratory of Intracellular Parasites.']\n",
      "['Laboratory of Entomology, Wageningen Agricultural University, The Netherlands.']\n",
      "['Department of Plant Biology, SLU, Uppsala, Sweden.']\n",
      "['Department of Biochemistry/Molecular Biology, Oklahoma State University, Stillwater 74078, USA. jcushman@biochem.okstate.edu']\n",
      "['Laboratory of Life Sciences, Tokyo Gakugei University, Japan.']\n",
      "['Timiryazev Agricultural Academy, Moscow, Russia.']\n",
      "['Department of Botany, Burdwan University, West Bengal, India.']\n",
      "['Plant Sciences, Faculty of Agriculture, University of Western Australia, Nedlands, WA 6907, Australia']\n",
      "['Bach Institute of Biochemistry, Russian Academy of Sciences, Leninskii pr. 33, Moscow, 117071 Russia.']\n",
      "['Biotechnology Research Center, Zhongshan University, Guangzhou 510275.']\n",
      "['Department of Plant Pathology, University of Arizona, Tucson 85721, USA.']\n",
      "['Institut fur Botanik, Technische Universitat, Schnittspahnstrasse 10, 64287 Darmstadt, Germany. stoehr@bio.tu-darmstadt.de']\n",
      "['Department of Vegetable Crops, University of California, Davis, CA 95616-8746, USA. drsmart@ucdavis.edu']\n",
      "['Department of Botany and Ecology, University of Tartu, Lai 40, 51005 Tartu, Estonia.']\n",
      "['Faculty of Agriculture, University of Tokyo, Japan.']\n",
      "['Department of Urban and Environmental Sciences, Peking University, Beijing 100871, China. yhuang@urban.pku.edu.cn']\n",
      "['Institute of Plant Physiology and Biotechnology (260), University of Hohenheim, Stuttgart, Germany.']\n",
      "['Departamento de Biologia Celular, Fisiologia e Inmunologia, Facultad de Ciencias, Universidad de Cordoba, Spain.']\n",
      "['Department of Plant Biology, Faculty of Sciences, University of Granada, 18071, Granada, Spain. jruizsaez@ucdavis.edu']\n",
      "['Department of Cell Biology, Center of Anatomy, Hannover Medical School, D-30125 Hannover, Germany.']\n",
      "[\"Institut National de la Sante et de la Recherche Medicale U563 and Service de spectrometrie de masse de l' IFR 30, CHU Purpan, BP3028, Toulouse, France.\"]\n",
      "['Department of Civil Engineering, University of Newcastle, Newcastle Upon Tyne, UK. L.C.Batty@ncl.ac.uk']\n",
      "['Creative Gene Technology Ltd., Integrative Cell Biology Laboratory, School of Biological and Biomedical Sciences, University of Durham, Durham, UK.']\n",
      "['Unite Associee Institut National de la Recherche Agronomique de Physiologie et de Biochimie Vegetales, Institut de Recherche en Biologie Appliquee, Universite de Caen, 14032 Caen Cedex, France (J.C.A., A.O., J.B.).']\n",
      "['Microbiology Group, National Botanical Research Institute, P.B. No. 436, Rana Pratap Marg, Lucknow 226 001, India.']\n",
      "['National Center for Natural Products Research, Research Institute of Pharmaceutical Sciences, School of Pharmacy, The University of Mississippi, University, 38677, USA.']\n",
      "['Institut des Sciences du Vegetal, Centre National de la Recherche Scientifique, Unite Propre de Recherche 2355, 91190 Gif-sur-Yvette, France. achmustilli@libero.it']\n",
      "['Shanghai Institute of Plant Physiology, Chinese Academy of Sciences, Shanghai 200032.']\n",
      "['Plant Gene Expression Center, Buchanan Street, Albany, CA 94710, USA.']\n",
      "['Universite P. et M. Curie PARIS VI, UMR CNRS 7632, Laboratoire de Physiologie du Developpement des Plantes, 4 place Jussieu, T 53 E5, casier 156, 75252 Paris cedex 05, France.']\n",
      "['University of Oldenburg, Department of Biology, Germany. wolfgang.schmidt@uni-oldenburg.de']\n",
      "['JST, Regional Joint Research Project of Yamagata Prefecture, Sagae, Japan.']\n",
      "['Department of Plant Biology and Center for the Study of Early Events in Photosynthesis, Arizona Sate University, PO Box 871601, Tempe, AZ 85287-1601, USA.']\n",
      "['Laboratory of Environmental Chemistry, Department of Chemistry, University of Turku, FIN-20014 Turku, Finland. juhrau@utu.fi']\n",
      "['Institut fur Pflanzenernahrung, Universitat Hohenheim, D-70593 Stuttgart, Germany.']\n",
      "['Instituto de Fitosanidad, Colegio de Postgraduados, km. 35.5 Carr. Mexico-Texcoco, 56230-Texcoco, Edo. de Mexico, Mexico.']\n",
      "['State Key Laboratory of Microbial Technology, Shandong University, Jinan, 250100, P.R. China.']\n",
      "['Finnish Forest Research Institute, Rovaniemi 96300, Finland.']\n",
      "['Gene Function Research Center, National Institute of Advanced Industrial Science and Technology, Tsukuba, Japan.']\n",
      "['Indian Agricultural Research Institute, Division of Agricultural Chemicals, New Delhi-110012, India.']\n",
      "['Research Institute for Bioresources, Okayama University, Kurashiki 710-0046, Japan. yanagi-s@rib.okayama-u.ac.jp']\n",
      "['Albert-Ludwigs-University of Freiburg, Institute of Forest Botany and Tree Physiology, Georges-Kohler-Allee 053, D-79110 Freiburg, Germany. Stanislav.Kopriva@ctp.uni-freiburg.de']\n",
      "['Division of Applied Life Science (BK21 program), Plant Molecular Biology and Biotechnology Research Center, Gyeongsang National University, 660-701, Chinju, Korea. staekim@naver.com']\n",
      "['Microbial Ecology Group, Department of Industrial Microbiology, University College Dublin, Belfield, Dublin 4, Ireland.']\n",
      "['Division of Legal Medicine, Faculty of Medicine, Tottori University, Yonago 683-8503, Japan.']\n",
      "['State Key Laboratory of Genetic Engineering, Institute of Genetics, School of Life Sciences, Fudan University, Shanghai 200433, PR China.']\n",
      "['Max F. Perutz Laboratories, Department of Medical Biochemistry, University Departments at the Vienna Biocenter, Medical University of Vienna, Dr. Bohrgasse 9, A-1030 Vienna, Austria.']\n",
      "['URS Corporation, 12120 Shamrock Plaza, Suite 300, Omaha, Nebraska 68154, USA.']\n",
      "['Institute of Plant Nutrition (330), Hohenheim University, 70593 Stuttgart, Germany. eneumann@uni-hohenheim.de']\n",
      "['Department of Entomology, Kansas State University, Manhattan, KS 66506, USA. nnagaraj@dow.com']\n",
      "['Department of Molecular, Cellular, and Developmental Biology, Yale University, New Haven, CT 06520, USA. lei.li.ll326@yale.edu']\n",
      "['Laboratoire Biodiversite & Fonctionnement des Ecosystemes, UFR Sci. F.A., University of Metz, Campus Bridoux, Avenue du General Delestraint, F-57070 Metz, France. thiebaut@sciences.univ-metz.fr']\n",
      "['Department of Biophysics and Biochemistry, Graduate School of Science, University of Tokyo, Hongo, Tokyo 113-0033, Japan.']\n",
      "['Forest Research Agency, Farnham, Surrey GU10 4LH, UK. clive.brasier@forestry.gsi.gov.uk']\n",
      "['Graduate School of Biological Sciences, Nara Institute of Science and Technology, 8916-5 Takayama, Ikoma, Nara 630-0192, Japan.']\n",
      "['Photobioenergetics Group, Research School of Biological Sciences, GPO Box 475, Canberra, ACT 2601, Australia. chow@rsbs.anu.edu.au']\n",
      "['Biotechnology Center, Laboratory of Microbiology, University of Amsterdam, Nieuwe Achtergracht 127, 1018 WS Amsterdam, The Netherlands.']\n",
      "['MTT Agrifood Research Finland/Crops and Biotechnology, 31600 Jokioinen, Finland. kristiina.antonius-klemola@mtt.fi']\n",
      "['National Agricultural Research Center for Western Region, 6-12-1 Nishifukatsu, Fukuyama, Hiroshima, 721-8514, Japan. helshemy@hotmail.com']\n",
      "['Department of Environmental Biology, University of Guelph, Guelph, ON, Canada NIG 2W1.']\n",
      "['Laboratory of Biochemistry, Department of Agrotechnology and Food Sciences, Wageningen University, The Netherlands. mdicko@univ-ouaga.bf']\n",
      "['Departments of Botany and Plant Pathology and of Biological Sciences, Purdue University, Lafayette, Indiana 47907.']\n",
      "['T. H. Morgan School of Biological Sciences, University of Kentucky, Lexington, Kentucky 40506.']\n",
      "['Department of Horticulture, Michigan State University, East Lansing, Michigan 48824.']\n",
      "['Department of Botany, University of Reading, Whiteknights, Reading, RG2 6AS, United Kingdom.']\n",
      "['Centre National de la Recherche Scientifique, 91190 Gif-sur-Yvette, France.']\n",
      "['Department of Plant Physiology, University of Amsterdam, Kruislaan 318, 1098 SM Amsterdam, The Netherlands.']\n",
      "['Laboratoire de Physiologie Vegetale Moleculaire, CNRS (UA No. 1128), Universite de Paris-Sud, Orsay, France.']\n",
      "['Department of Plant Pathology and Environmental Resources Research Institute, The Pennsylvania State University, University Park, Pennsylvania 16802.']\n",
      "['Boyce Thompson Institute for Plant Research, Ithaca, New York 14853.']\n",
      "['Department of Food Science and Toxicology, University of Idaho, Moscow, ID 83844-2312, USA.']\n",
      "['ETH Zurich, Plant Ecological Genetics, Institute of Integrative Biology, 8092, Zurich, Switzerland.']\n",
      "['Institute of Evolution, University of Haifa, Mount Carmel, Haifa, 31905, Israel.']\n",
      "['Department of Ecology and Evolutionary Biology, University of Tennessee, Knoxville, TN 37996, USA. gcrutsin@utk.edu']\n",
      "['Triple-J Group for Molecular Cell Physiology, Department of Biochemistry, Stellenbosch University, Private Bag X1, ZA-7602 Matieland, South Africa.']\n",
      "['Department of Plant & Soil Sciences, University of Kentucky, Lexington, Kentucky 40546-0312, USA.']\n",
      "['Department of Botany, School of Integrative Biology, University of Queensland, Queensland 4072, Australia.']\n",
      "['Pacific South-west Research Station, USDA Forest Service, Riverside, California, USA. ngrulke@fs.fed.us']\n",
      "['Abbotsford Veterinary Clinic, 200-33648 McDougall Avenue, Abbotsford, British Columbia, Canada V2S 5Z5.']\n",
      "['National Agricultural Research Center for Tohoku Region, Morioka, Irwate, Japan. wata@afrc.go.jp']\n",
      "['Department of Pathophysiology, Center for Physiology and Pathophysiology, Medical University of Vienna, Vienna, Austria.']\n",
      "['Horticultural Sciences Department and the Plant Molecular and Cellular Biology Program, University of Florida, 1301 Fifield Hall, Gainesville, Florida 32611, USA. kfolta@ifas.ufl.edu']\n",
      "['Institute of Biotechnology, University of Cambridge, Cambridge, UK. at10004@cam.ac.uk']\n",
      "['Department of Chemistry, University of Florida, P.O. Box 117200, Gainesville, FL 32611, USA.']\n",
      "['National Centre for Advanced Bio-Protection Technologies, Lincoln University, Canterbury, New Zealand. bulmans@crop.cri.nz']\n",
      "['Institute of Botany, Vilnius, Lithuania.']\n",
      "['Instituto de Quimica, Universidad Nacional Autonoma de Mexico, Circuito Exterior s/n, Cuidad Universitaria, Coyoacan, Mexico, DF 04510, Mexico.']\n",
      "['Department of Neurological Surgery, Indiana University School of Medicine, Indianapolis, IN 46202-5124, USA. mpritz@iupui.edu']\n",
      "['Department of Evolutionary Ecology, Estacion Biologica de Donana, CSIC, Sevilla, Spain. herrera@cica.es']\n",
      "['Mitsubishi Kagaku Institute of Life Sciences (MITILS), 11 Minamiooya, Machida, Tokyo 194-8511, Japan.']\n",
      "['Departamento de Genetica e Biologia Evolutiva, Instituto de Biociencias, Universidade de Sao Paulo, Rua do Matao, 277, Cidade Universitaria, 05508-900, Sao Paulo, SP, Brazil.']\n",
      "['Department of Biology, University of Washington, Seattle, WA 98195-5325, USA.']\n",
      "['Division of Applied Life Science (BK21 Program), Plant Molecular Biology and Biotechnology Research Center, Environmental Biotechnology Research Center, National Core Research Center, Gyeongsang National University, Jinju 660-701, Korea.']\n",
      "['Department of Botany and Plant Sciences , University of California, Riverside, CA 92521, USA.']\n",
      "['College of Physics and Electronic Information, Yunnan Normal University, Kunming 650092, China. gliu66@163.com']\n",
      "['Organic Geochemistry Unit, Bristol Biogeochemistry Research Centre, School of Chemistry, Cantocks Close, Bristol, UK.']\n",
      "['MOE Key Laboratory of Environment Remediation and Ecological Health, College of Environmental and Resources Science, Zhejiang University, Huajiachi Campus, Hangzhou 310029, PR China.']\n",
      "['Department of Molecular Ecology, Max Planck Institute for Chemical Ecology, Jena, Germany.']\n",
      "['Department of Ecology and Evolutionary Biology, Yale University, New Haven, Connecticut, United States of America. stephen.smith@yale.edu']\n",
      "['Department of Botanical and Environmental Sciences, Guru Nanak Dev University, Amritsar-143 005, Punjab, India.']\n",
      "['University of Tasmania, Hobart, Tasmania 7001, Australia. timothyb@utas.edu.au']\n",
      "['Department of Biochemistry and Molecular Biology, College of Life Science, Nanjing Agricultural University, Nanjing, China.']\n",
      "['Shanghai Academy of Environmental Sciences, Shanghai 200233, China. rongermmfu@163.com']\n",
      "['School of Biotechnology and Environmental Engineering, Myongji University, Yongin 449-728, Korea.']\n",
      "['Institute of Inorganic Chemistry, University of Zurich, Zurich, Switzerland.']\n",
      "['Department of Molecular Biology, Southern Illinois University, Carbondale, Illinois 62901, USA.']\n",
      "['Blandy Experimental Farm, University of Virginia, 400 Blandy Farm Lane, Boyce, VA 22620, USA.']\n",
      "['Center for Gene Research, Nagoya University, Nagoya, Japan.']\n",
      "['Departamento de Espectroscopia y Estructura Molecular, Instituto de Quimica Fisica Rocasolano, CSIC, Serrano 119, 28006, Madrid, Spain.']\n",
      "['Department of Botany, University of Kalyani, Kalyani 741 235, India. dib_tal@rediffmail.com']\n",
      "['Program in Ecology and Evolutionary Biology, Department of Biological Sciences, University of Arkansas, Fayetteville, Arkansas 72701, USA. jackson.h.jennings@jyu.fi']\n",
      "['Centro de Investigaciones en Ciencias Veterinarias y Agronomicas, Instituto Nacional de Tecnologia Agropecuaria, B1712WAA Castelar, Province of Buenos Aires, Argentina. alandau@cnia.inta.gov.ar']\n",
      "['Laboratory of Molecular Biology and MOE Laboratory of Protein Science, Department of Biological Sciences and Biotechnology, Tsinghua University, Beijing, China.']\n",
      "['Department of Plant Nutrition, Aula Dei Experimental Station, CSIC, Zaragoza, Spain.']\n",
      "['Molecular and Evolutionary Genetics, Department of Agronomy, Purdue University, West Lafayette, IN 47907, USA.']\n",
      "['RIKEN Plant Science Center, Suehiro-cho 1-7-22 Tsurumi-ku, Yokohama 230-0045, Japan.']\n",
      "['Department of Plant Physiology and Biochemistry, Faculty of Biochemistry, Biophysics and Biotechnology, Jagiellonian University, Gronostajowa 7, 30-387 Krakow, Poland.']\n",
      "['Centro de Biotecnologia y Genomica de Plantas (UPM-INIA) and ETSI Agronomos, Campus de Montegancedo, Universidad Politecnica de Madrid, Autopista M40 (km. 38), 28223, Pozuelo de Alarcon, Madrid, Spain.']\n",
      "['Department of Soil Microbiology and Symbiotic Systems, Estacion Experimental del Zaidin, Granada, Spain.']\n",
      "['Department of Ecology and Evolutionary Biology, University of California, Santa Cruz, CA 95064, USA. swope@biology.ucsc.edu']\n",
      "['University of Kaiserslautern, Department of Biology, PO Box 3049, 67653 Kaiserslautern, Germany.']\n",
      "['Department of Biology and Biochemistry, University of Bath, Bath BA2 7AY, UK.']\n",
      "['Institute of Cytology, Russian Academy of Sciences, Group of Bioinformatics and Functional Genomics, St Petersburg, Russia. anatskaya@mail.cytspb.rssi.ru']\n",
      "['Department of Cancer and Cell Biology, University of Cincinnati, Cincinnati, OH, USA. Carolyn.Price@uc.edu']\n",
      "['Departament de Biologia Vegetal, Facultat de Biologia, Universitat de Barcelona, Avinguda Diagonal 645, Barcelona, Spain. iker_hernandez@ub.edu']\n",
      "['Laboratory of Plant Physiology and Biophysics, Institute of Molecular, Cellular and Systems Biology-Plant Sciences, University of Glasgow, Glasgow G12 8QQ, United Kingdom.']\n",
      "[\"School of Life Science, Shandong University, 27 Shanda South Road, Jinan 250100, People's Republic of China.\"]\n",
      "['Hubei Key Laboratory of Genetic Regulation and Integrative Biology, College of Life Science, Huazhong Normal University, Wuhan 430079, China.']\n",
      "['Department of Botany, University of Toronto, Mississauga Ontario, Canada L5L 1C6.']\n",
      "['UMR DIADE (IRD, UM2), IRD/CIRAD Palm Development Group, 911 avenue Agropolis, BP 64501, 34394 Montpellier, Cedex 5, France. estelle.jaligot@cirad.fr']\n",
      "['Shihezi University, Key Laboratory of Oasis Ecology Agriculture of Xinjiang Construction Crops, Shihezi 832003, China. tangqiang010203@163.com']\n",
      "['Institut fur Umweltforschung (INFU) der Fakultat Chemie, Lehrstuhl fur Umweltchemie und Analytische Chemie, Technische Universitat Dortmund, Otto-Hahn-Strasse 6, D-44221 Dortmund, Germany.']\n",
      "['Institute of Plant Genetics and Biotechnology, Slovak Academy of Sciences, Nitra, Slovakia.']\n",
      "['Department of Plant Pathology, Iowa State University, Ames, IA, USA. tcharrin@iastate.edu']\n",
      "['Creative Research Initiatives, School of Life Sciences and Biotechnology, Korea University, Seoul, 136-701, Korea.']\n",
      "['Institute of Molecular Ecology, MOE Key Laboratory of Arid and Grassland Ecology, School of Life Sciences, Lanzhou University, Lanzhou 730000, China Photosynthesis Research Center, Key Laboratory of Photosynthesis and Environmental Molecular Physiology, Institute of Botany, Chinese Academy of Sciences, Beijing 100093, China.']\n",
      "['Biochimie et Physiologie Moleculaire des Plantes, Centre National de la Recherche Scientifique Unite Mixte de Recherche 5004, Institut de Biologie Integrative des Plantes, 34060 Montpellier Cedex 2, France.']\n",
      "['Department of Genetics, University of Wisconsin, Madison, Wisconsin 53706-1574, USA.']\n",
      "['Department of Plant Pathology, Washington State University, Wenatchee, WA, USA.']\n",
      "['DIVAPRA-Food Technology Sector, University of Turin, Grugliasco (TO), Italy.']\n",
      "['Cytokine Research Laboratory, Department of Experimental Therapeutics, the University of Texas MD Anderson Cancer Center, Houston, Texas, USA.']\n",
      "['Graduate School of Frontier Sciences, University of Tokyo, 5-1-5 Kashiwanoha, Kashiwa 277-8561, Japan.']\n",
      "['Universidad de La Rioja, Edificio Cientifico-Tecnologico, Avda. Madre de Dios 51, 26006 Logrono (La Rioja), Spain.']\n",
      "['Department of Biology, Valparaiso University, Valparaiso, Indiana 46383, USA.']\n",
      "['IFEVA (FAUBA-CONICET), CABA, Argentina. mvr@agro.uba.ar']\n",
      "['Bioinformatics and Structural Biology, Indian Institute of Advanced Research, Koba, Gandhinagar, India.']\n",
      "['Department of Forest Products, Swedish University of Agricultural Sciences, P.O. Box 7008, SE 75007 Uppsala, Sweden.']\n",
      "['Center of Life and Food Sciences Weihenstephan, Institute of Botany, Technische Universitat Munchen, D-85350 Freising, Germany.']\n",
      "['Key Laboratory of Aquatic Botany and Watershed Ecology, The Chinese Academy of Sciences, Wuhan 430074, Hubei, PR China.']\n",
      "['Institute of Vegetables, Shandong Academy of Agricultural Sciences/Shandong Key Laboratory of Greenhouse Vegetable Biology/Shandong Branch of National Vegetable Improvement Center, Jinan 250100, China.']\n",
      "['Ames Laboratory-USDOE, Iowa State University, Ames, Iowa 50011, USA. jonesrw@ameslab.gov']\n",
      "['Department of Plant Biology, University of Minnesota, Saint Paul, MN 55108, USA.']\n",
      "['Animal Breeding and Genetics Group, Georg-August-University Gottingen, Gottingen, Germany. uober@math.uni-goettingen.de']\n",
      "['Departamento de Biologia Molecular, FCEFQyN, Universidad Nacional de Rio Cuarto, Ruta Nacional 36 Km 601, CP 5800 Rio Cuarto, Cordoba, Argentina. mtalano@exa.unrc.edu.ar']\n",
      "['Applied Plant Research, Wageningen UR, P.O. Box 200, 6670 AE Zetten, The Netherlands. marcel.wenneker@wur.nl']\n",
      "['Key Laboratory of Integrated Management of Crop Diseases and Pests, College of Plant Protection, Nanjing Agricultural University, Ministry of Education, Nanjing, China.']\n",
      "['Plant Biochemistry and Molecular Biology Unit, Department of Botany, University College, Thiruvananthapuram 695 034, Kerala, India.']\n",
      "['Institute of Plant and Microbial Biology, Academia Sinica, 128 Sec. 2 Academia Rd., Nankang, Taipei 11529, Taiwan. nakamura@gate.sinica.edu.tw']\n",
      "['Department of Molecular Ecology, Max-Planck-Institute for Chemical Ecology, Jena, Germany. smeldau@ice.mpg.de']\n",
      "['Entwicklungsbiologie und Physiologie der Pflanzen, Am Botanischen Garten 5, Kiel, 24113, Germany.']\n",
      "['Tiantong National Observation Station of Forest Ecosystems, Department of Environmental Sciences, East China Normal University Shanghai, 200062, China ; School of Biology, Faculty of Biological Sciences, University of Leeds Leeds, LS2 9JT, UK.']\n",
      "['Biochemistry Division, National Chemical Laboratory, Poona 411 008, India.']\n",
      "['Institute of Biochemistry, National ChungHsing University, Taichung, Taiwan.']\n",
      "['RIKEN Plant Science Center, 1-7-22 Suehiro, Tsurumi, Yokohama, Japan.']\n",
      "['School of Botany, The University of Melbourne, Victoria, Australia 3010. jgoodger@unimelb.edu.au']\n",
      "['Department of Chemical Engineering, Konkuk University, Seoul 143-701, Republic of Korea.']\n",
      "['Bio-Protection Research Centre , Lincoln University , Lincoln 7647 , New Zealand.']\n",
      "['Key Laboratory of Biology and Genetic Resources of Rubber Tree, Ministry of Agriculture, Danzhou, Hainan, PR China. dailongjun@gmail.com']\n",
      "['Department of Ecology and Evolutionary Biology, Cornell University, Ithaca, NY 14853, USA. agrawal@cornell.edu']\n",
      "['Biodiversity Research Centre and Department of Botany, University of British Columbia, Vancouver, British Columbia, Canada V6T 1Z4.']\n",
      "['Graduate School of Bioresources, Mie University, 1577 Kurimamachiya-cho, Tsu, Mie 514-8507, Japan. nonaka@bio.mie-u.ac.jp']\n",
      "['Laboratory for Aroma Analysis and Enology, Aragon Institute of Engineering Research (I3A), Department of Analytical Chemistry, Faculty of Sciences, University of Zaragoza, 50009 Zaragoza, Spain. lcullere@unizar.es']\n",
      "['University of Brasilia, Department of Genetics, Campus Universitario, Brasilia DF, Brazil.']\n",
      "['Latvian Plant Protection Research Centre, Struktoru iela 14a, LV-1039 Riga, Latvia.']\n",
      "['Department of Paleobiology, National Museum of Natural History, Smithsonian Institution, Washington, DC 20560, USA.']\n",
      "['Department of Basic Sciences and Environment, Faculty of Life Sciences, University of Copenhagen, Thorvaldsensvej 40, DK-1871 Frederiksberg, Denmark.']\n",
      "['Institute of Plant Science and Resources, Okayama University, Chuo 2-20-1, Kurashiki 710-0046, Japan.']\n",
      "['Bioactive Botanical Research Laboratory, Department of Biomedical and Pharmaceutical Sciences, College of Pharmacy, University of Rhode Island, Kingston, Rhode Island, United States.']\n",
      "['Montana State University, 59717, Bozeman, MT, USA.']\n",
      "['Horticulture and Crop Science Department, The Ohio State University, The Ohio Agricultural Research and Development Center, 44691, Wooster, OH, USA.']\n",
      "['Food Science and Technology, New York State Agricultural Experiment Station, Cornell University, 14456, Geneva, NY, USA.']\n",
      "['Department of Civil and Environmental Engineering, Colorado School of Mines , Golden, Colorado 80401, United States.']\n",
      "['Empresa Goiania de Pesquisa Agropecuaria (EMGOPA), Caixa Postal 608, 73.100, Anapolis, Goias, Brazil.']\n",
      "['Department of Entomology, Agricultural University Wageningen, PO Box 8031, 6700 EH, Wageningen, The Netherlands.']\n",
      "['Department of Plant Sciences, University of Arizona, 85721, Tucson, AZ, USA.']\n",
      "['Department of Biology, Rensselaer Polytechnic Institute, 12181, Troy, NY, USA.']\n",
      "['DONG Energy A/S, Kraftvaerksvej 53, Fredericia 7000, Denmark. maope@dongenergy.dk.']\n",
      "['School of Life Sciences, Tsinghua University, Beijing, China.']\n",
      "['Department of Plant Sciences, University of Western Ontario, N6A 5B7, London, Canada.']\n",
      "['State Key Laboratory of Crop Genetics and Germplasm Enhancement/Key Laboratory of Biology and Germplasm Enhancement of Horticultural Crops in East China, Ministry of Agriculture, Nanjing Agricultural University, Nanjing 210095, China.']\n",
      "['Department of Soil and Crop Sciences, Colorado State University, Fort Collins, CO, 80523, USA, erenakae@yahoo.com.']\n",
      "['Department of Field and Vegetable Crops, The Hebrew University, Faculty of Agriculture, Rehovot, Israel.']\n",
      "['Department of Biochemistry, University of Cambridge, Cambridge, United Kingdom.']\n",
      "['Department of Systems Biology, College of Life Science and Biotechnology, Yonsei University, Seoul 120-749, Republic of Korea.']\n",
      "['Undergraduate, Postgraduate and Research Department, Agricultural College of Frederico Westphalen, Federal University of Santa Maria, 98400-000 Frederico Westphalen, Brazil. Electronic address: vlimberger@yahoo.com.br.']\n",
      "['Department of Plant Biology, Uppsala BioCenter, Swedish University of Agricultural Sciences and Linnean Center for Plant Biology, Uppsala, Sweden.']\n",
      "['School of Biological Sciences, The University of Hong Kong, Pokfulam Road, Hong Kong, China, h1092030@hku.hk.']\n",
      "['CBQF - Centro de Biotecnologia e Quimica Fina - Laboratorio Associado, Escola Superior de Biotecnologia, Universidade Catolica Portuguesa/Porto , Rua Dr. Antonio Bernardino Almeida, 4200-072 Porto, Portugal.']\n",
      "['University of Sydney Plant Breeding Institute-Cobbitty, Private Bag 4011, Narellan, NSW, 2567, Australia, urmil.bansal@sydney.edu.au.']\n",
      "['University of New Hampshire, Durham, New Hampshire, USA.']\n",
      "['State Key Laboratory of Agrobiotechnology, College of Biological Sciences, China Agricultural University, Beijing, China.']\n",
      "['Department of Biosensorics, Institute of Physiology, University of Hohenheim, August von Hartmann-Str. 3, 70599 Stuttgart, Germany.']\n",
      "['Plant Breeding and Acclimatization Institute-National Research Institute, Mlochow Research Centre, Platanowa 19, 05-831 Mlochow, Poland.']\n",
      "['Department of Biochemistry and Molecular Biology, University of Rajshahi, Rajshahi 6205, Bangladesh ; Genetic Engineering Laboratory, Department of Molecular Biology, Faculty of Resource Science and Technology, Universiti Malaysia Sarawak, 94300 Kota Samarahan, Sarawak, Malaysia.']\n",
      "['Division of Biology, Kansas State University, Manhattan, Kansas, United States of America.']\n",
      "[\"Laboratory of Mycology, DISTAV Dipartimento di Scienze della Terra dell'Ambiente e della Vita, University of Genoa, Corso Dogali, 1 M, I 16136 Genova, Italy.\"]\n",
      "['a Department of Chemistry , University of Karachi , Karachi 75270 , Pakistan.']\n",
      "['Department of Applied Biological Chemistry, The University of Tokyo, Yayoi 1-1-1, Bunkyo-ku, Tokyo 113-8657, Japan.']\n",
      "['Department of Horticulture, Sunchon National University, 413 Jungangno, Suncheon, Jeonnam 540-742, Republic of Korea.']\n",
      "['State Key Laboratory of Tree Genetics and Breeding, Northeast Forestry University, No. 26 Hexing Road, Xiangfang District, Harbin 150040, China. changsu1989@gmail.com.']\n",
      "[\"Cummings's Laboratory, Directorate of Maize Research, Pusa Campus, New Delhi 110 012, India. akshay.talukdar1@gmail.com.\"]\n",
      "['Functional Plant Research Unit, Division of Plant Sciences, National Institute of Agrobiological Sciences Tsukuba, Japan.']\n",
      "['daggerDepartment of Crop Sciences and double daggerDepartment of Food Science and Human Nutrition, University of Illinois at Urbana-Champaign, Urbana, Illinois 61801-3838, United States.']\n",
      "['CIRAD, UMR Eco&Sols, Montpellier, France.']\n",
      "['Department of Environmental Health Science, Konkuk University, 120 Neungdong-ro, Gwangjin-gu, Seoul, 143-701, South Korea.']\n",
      "['Department of Agroecology, Faculty of Science and Technology, Aarhus University, Forsogsvej 1, DK4200, Slagelse, Denmark.']\n",
      "['a Department of Ecology, Environment and Plant Science, Lilla Frescati, Stockholm University , Stockholm , Sweden.']\n",
      "['Evolution and Ecology Group, Department of Biology, Middle Tennessee State University, Murfreesboro, TN 37132, USA; ivonne.garzon@gmail.com.']\n",
      "['NARO Institute of Fruit Tree Science, 2-1 Fujimoto, Tsukuba, Ibaraki 305-8605, Japan.']\n",
      "['CAS Key Laboratory of Genome Sciences and Information, Beijing Institute of Genomics, Chinese Academy of Sciences, Beijing 100101, China; University of Chinese Academy of Sciences, Beijing 100049, China.']\n",
      "['Department of Pharmacy and Biotechnology, Alma Mater Studiorum, University of Bologna, Via Belmeloro 6, 40126 Bologna, Italy.']\n",
      "['Department of Crop Sciences, University of Illinois, 1102 S. Goodwin Ave., Urbana, IL 61801 USA.']\n",
      "['Department of Plant Nutrition, China Agricultural University, Yuanmingyuan West Road 2, Beijing 100193, PR China and Institute of Crop Science and Resource Conservation, Division of Crop Functional Genomics, University of Bonn, D-53113 Bonn, Germany.']\n",
      "['Department of Chemistry, Faculty of Science, Firat University, Elazig, Turkey.']\n",
      "['Biology Department, Emory and Henry College, Emory, Virginia 24327, USA School of Biological Sciences, University of Northern Colorado, Greeley, Colorado 80639, USA gbresowar@ehc.edu.']\n",
      "['College of Life Science, State Key Laboratory of Hybrid Rice, Wuhan University, Wuhan, 430072 China.']\n",
      "[\"Microbiology Department, College of Life Sciences, Nanjing Agricultural University, Key Laboratory of Microbiological Engineering of Agricultural Environment, Ministry of Agriculture, Nanjing, Jiangsu, People's Republic of China;College of Marine Science.\"]\n",
      "['College of Animal Science and Veterinary Medicine, Henan Agricultural University, 95 Wenhua Road, Zhengzhou, Henan 450002, China.']\n",
      "['Division of Plant Protection, Department of Crop Sciences, University of Natural Resources and Life Sciences (BOKU) Peter-Jordan-Strasse 82, 1190, Vienna, Austria.']\n",
      "['Laboratory Applications of Chemical Resources, Natural Substances and the Environment (LACReSNE), Faculty of Sciences of Bizerte, University of Carthage, 7021 Zarzouna-Bizerte, Tunisia. nizaryeddes@yahoo.fr.']\n",
      "['Laboratorio de Fisiologia y Genetica de Bacterias Lacticas, Instituto de Biologia Molecular y Celular de Rosario (IBR-CONICET), Rosario, Argentina Laboratorio Biotecnologia e Inocuidad de los Alimentos, Facultad de Ciencias Bioquimicas y Farmaceuticas, Universidad Nacional de Rosario (UNR), Rosario, Argentina.']\n",
      "['Key Laboratory of Fermentation Engineering (Ministry of Education), Hubei Provincial Key Laboratory of Industrial Microbiology, Hubei Provincial Cooperative Innovation Center of Industrial Fermentation, Hubei University of Technology, Wuhan 430068 China.']\n",
      "['Laboratory of Plant Germplasm Resources and Genetic Engineering, Henan University, Kaifeng, PR China.']\n",
      "['Biotechnology Research Division, National Fisheries Research and Development Institute, Busan 46083, Korea.']\n",
      "['Admescope Ltd. , Typpitie 1, Oulu, Finland , FIN-90620.']\n",
      "['Centro de Investigacao de Montanha (CIMO), ESA, Instituto Politecnico de Braganca, Campus de Santa Apolonia, 1172, 5301-855 Braganca, Portugal. iferreira@ipb.pt.']\n",
      "['Department of Plant Breeding and Biotechnology, Institute of Soil Science and Plant Cultivation, State Research Institute, ul . Krancowa 8, PL-24-100 Pulawy , Poland.']\n",
      "['Department of Biology and Program on Disease Evolution, University of Louisville, Louisville, KY, 40292, USA.']\n",
      "['Dept. of Horticultural Science, Univ. of Kurdistan, Sanandaj, P. O. Box: 416, Iran.']\n",
      "['Agronomy Department, Plant Molecular and Cellular Biology Program, University of Florida, IFAS, Gainesville, Florida 32611.']\n",
      "['Department of Biology and Research Institute for Basic Sciences, Jeju National University, Jeju 690-756, South Korea.']\n",
      "['Department of Horticulture, University of Arkansas, Fayetteville, Arkansas, United States of America.']\n",
      "['Biosciences, University of Exeter, Stocker Road, Exeter EX4 4QD, UK.']\n",
      "['Dipartimento di BioScienze, Universita degli Studi di Milano, 20133 Milan, Italy.']\n",
      "['Institute for Environmental Sciences, University of Koblenz-Landau, Landau, Germany.']\n",
      "['College of Horticulture &Forestry Sciences, Huazhong Agricultural University, Wuhan 430070, China.']\n",
      "['Department of Horticulture, College of Agriculture and Biotechnology, Zhejiang University, Hangzhou 310058, China.']\n",
      "['Indian Institute of Pulses Research, Kanpur, 208024, India. uday_gene@yahoo.co.in.']\n",
      "['a Department of Pharmacognosy, School of Pharmacy , Second Military Medical University , Shanghai , China.']\n",
      "['Centre for Tropical Environmental and Sustainability Science, College of Science and Engineering, James Cook University, P.O. Box 6811, Cairns, Queensland, 4870, Australia.']\n",
      "['Northern Crop Science Laboratory, USDA-Agricultural Research Service Fargo, ND, USA.']\n",
      "['Key Laboratory of Tropical Plant Resources and Sustainable Use, Xishuangbanna Tropical Botanical Garden, Chinese Academy of Sciences Menglun, China.']\n",
      "['Department of Biochemistry, Cellular and Molecular Biology, University of Tennessee, Knoxville, TN 37996, USA.']\n",
      "['School of Ecology and Environment Inner Mongolia University Hohhot China.']\n",
      "['Department of Biology, Syracuse University, 130 College Place, 13244, Syracuse, NY, USA.']\n",
      "['Department of Environmental Biology, Research School of Biological Sciences, The Australian National University, P.O. Box 475, 2601, Canberra City, A.C.T., Australia.']\n",
      "['Department of Zoology, University of Oxford, UK.']\n",
      "['School of Land and Food, University of Tasmania, Hobart, Tasmania, Australia.']\n",
      "['Dipartimento di Biotecnologie, Universita di Verona, Strada Le Grazie 15, 37134 Verona, Italy.']\n",
      "['School of Biosciences, University of Birmingham, Birmingham B15 2TT, UK.']\n",
      "[\"State Key Laboratory of Crop Biology, Scientific Observing and Experimental Station of Environment Controlled Agricultural Engineering in Huang-Huai-Hai Region, Ministry of Agriculture, College of Horticulture Science and Engineering, Shandong Agricultural University, Tai'an, 271018, PR China.\"]\n",
      "['Sheffield Centre for Arctic Ecology, Department of Animal and Plant Sciences, University of Sheffield, Tapton Experimental Gardens, 26 Taptonville Road, S10 5BR, Sheffield, UK.']\n",
      "['School of Plant Protection, Anhui Agricultural UniversityHefei, China.']\n",
      "['Graduate School of Life and Environmental Sciences, Osaka Prefecture University, 1-1 Gakuen, Nakaku, Sakai, Osaka 599-8531, Japan.']\n",
      "['State Key Laboratory of Crop Stress Biology for Arid Areas, College of Agronomy, Northwest A&F UniversityYangling, China.']\n",
      "['State Key Laboratory Breeding Base of Green Pesticide and Agricultural Bioengineering, Guizhou University, Guiyang 550025, China. rxzhang@gznc.edu.cn.']\n",
      "['Department of Biochemistry and Molecular Biology, Siedlce University of Natural Sciences and Humanities, Prusa 12, 08-110 Siedlce, Poland.']\n",
      "['Department of Plant Production, College of Food and Agriculture Sciences, King Saud University, Riyadh, Saudi Arabia.']\n",
      "['Max Planck Institute of Molecular Plant Physiology, 14476 Potsdam-Golm, Germany; email: fernie@mpimp-golm.mpg.de.']\n",
      "['Institute of Computer Science, Martin Luther University Halle-Wittenberg, 06120 Halle (Saale), Germany katharina.buerstenbinder@ipb-halle.de birgit.moeller@informatik.uni-halle.de.']\n",
      "['School of Horticulture and Plant Protection, Yangzhou University, Yangzhou 225009, P.R. China.']\n",
      "['Faculty of Forestry and Wood Sciences, Czech University of Life Sciences Prague, Prague, Suchdol, Czech Republic.']\n",
      "['Key Laboratory for Conservation and Use of Important Biological Resources of Anhui Province, College of Life Sciences, Anhui Normal University, Wuhu, Anhui 241000, China.']\n",
      "[\"Research and Innovation Centre, Fondazione Edmund Mach, via Mach 1, 38010, San Michele all' Adige, Trento, Italy.\"]\n",
      "['Marine Agriculture Research Center, Tobacco Research Institute of Chinese Academy of Agricultural Sciences, Qingdao, China.']\n",
      "['Institute of Analytical and Bioanalytical Chemistry, Ulm University, Albert-Einstein-Allee 11, 89081 Ulm, Germany. boris.mizaikoff@uni-ulm.de.']\n",
      "['Division of Genetics, Indian Agricultural Research Institute (ICAR), New Delhi, India.']\n",
      "['State Key Laboratory of Biocontrol and Guangdong Key Laboratory of Plant Resources, School of Life Sciences, Sun Yat-sen University, East Campus, Guangzhou 510006, China.']\n",
      "['State Key Laboratory of Heavy Oil Processing, Beijing Key Laboratory of Oil & Gas Pollution Control, China University of Petroleum, Beijing, 102249, China.']\n",
      "['Department of Genetics, Osmania University, Hyderabad, Telangana State, India.']\n",
      "['Department of Soil Science, Federal University of Santa Maria, CEP 97105-900, Rio Grande do Sul, Brazil.']\n",
      "['Embrapa Recursos Geneticos e Biotecnologia (Embrapa Cenargen), Brasilia, DF, Brazil. Electronic address: marilia.silva@embrapa.br.']\n",
      "['Department of Agricultural and Environmental Science, University of Bari Aldo Moro, Bari, Italy.']\n",
      "['College of Environmental Science and Engineering, Yangzhou University, Yangzhou 225127, Jiangsu, China.']\n",
      "['National Education Ministry, Key Laboratory of Plant Genetic Improvement and Comprehensive Utilization, Fujian Agriculture and Forestry University, Fuzhou 350002, China. mifnan@yahoo.com.']\n",
      "['National Key Laboratory of Crop Genetic Improvement, MOA Key Laboratory of Crop Ecophysiology and Farming System in the Middle Reaches of the Yangtze River, College of Plant Science and Technology, Huazhong Agricultural University, Wuhan, Hubei, China.']\n",
      "['Wildlife Genomics and Disease Ecology Laboratory Veterinary Sciences University of Wyoming Laramie WY USA.']\n",
      "['Ecologie Systematique Evolution, Univ. Paris-Sud, CNRS, AgroParisTech, Universite Paris-Saclay, 91400, Orsay, France. elisareyes@hotmail.fr.']\n",
      "['1Department of Energy and Circular Economy, RISE Research Institutes of Sweden, PO Box 857, 501 15 Boras, Sweden. ISNI: 0000000106922258. GRID: grid.450998.9']\n",
      "['Department of Life Sciences, Graduate School of Arts and Sciences, The University of Tokyo, Tokyo 153-8902, Japan hama.micro@gmail.com.']\n",
      "['State Key Laboratory for Conservation and Utilization of Bio-Resources in Yunnan, Yunnan University, Kunming 650091, PR China; Department of Pharmaceutical Analysis, China Pharmaceutical University, Nanjing 210009, PR China.']\n",
      "['French Associates Institute for Agriculture and Biotechnology of Drylands, Blaustein Institutes for Desert Research, Ben-Gurion University of the Negev, Midreshet Ben Gurion 84990, Israel. buziraviv@gmail.com.']\n",
      "['Global Change Research Institute, Czech Academy of Sciences, Belidla 986/4a, CZ-603 00, Brno, Czech Republic. Electronic address: urban.o@czechglobe.cz.']\n",
      "['Department of Plant Biology, University of Pecs, Hungary.']\n",
      "['a Mutation Breeding Laboratory, Department of Botany , Aligarh Muslim University , Aligarh , India.']\n",
      "['University of Sydney, Plant Breeding Institute Cobbitty, Cobbitty, NSW, 2570, Australia. jianping.zhang@csiro.au.']\n",
      "['UKSH Campus Kiel, Hematology Laboratory Kiel, Langer Segen 8-10, D-24105, Kiel, Germany.']\n",
      "['Department of Ecology, Environment and Plant Sciences, Stockholm University, Stockholm, Sweden.']\n",
      "['Department of Chemistry, Faculty of Science, University of Zagreb, Horvatovac 102a, 10000 Zagreb, Croatia. ijuranovic@chem.pmf.hr.']\n",
      "['Instituto de Ciencias Agrarias e Ambientais Mediterranicas, Instituto de Investigacao e Formacao Avancada, Universidade de Evora, Evora, Portugal.']\n",
      "['Leibniz Institute of Plant Biochemistry, Weinberg, Halle/Saale, Germany.']\n",
      "['Department of Life Sciences, Korea University, Anamro 145, Seongbuk-Gu, Seoul 02841, South Korea.']\n",
      "['State Key Laboratory of Tea Plant Biology and Utilization, Anhui Agricultural University, 130 Changjiang West Road, Hefei, Anhui, 230036, China.']\n",
      "['Department of Applied Biological Science, Faculty of Science and Technology, Tokyo University of Science, 2641 Yamazaki, Noda, Chiba 278-8510, Japan.']\n",
      "['State Key Laboratory of Agricultural Microbiology, Wuhan, Hubei 430070, P. R. China and College of Plant Science and Technology, Huazhong Agricultural University, Wuhan, Hubei 430070, P. R. China.']\n",
      "['Foreign Disease-Weed Science Research Unit, 1301 Ditto Ave., Fort Detrick, MD.']\n",
      "['Institut de Recherche Agronomique pour le developpement, IRAD, Programme Legumineuses et Cultures Maraicheres, Yaounde, BP 2067 Yaounde, Cameroun.']\n",
      "['Microelement Research Center, College of Resources and Environment, Huazhong Agricultural University, Wuhan, Hubei, 430070, PR China.']\n",
      "['USA National Phenology Network, National Coordinating Office, Tucson, Arizona, 85721.']\n",
      "['United States Department of Agricultural-Agricultural Research Service.']\n",
      "['Department of Bioinformatics and Biotechnology, Government College University, Faisalabad, 38000, Pakistan. mshahid@gcuf.edu.pk.']\n",
      "['Department of Biomedical Sciences, City University of Hong Kong, Kowloon Tong, Hong Kong.']\n",
      "['Crop Improvement Division, ICAR-National Research Centre for Banana, Tiruchirappalli, India.']\n",
      "['1 Department of Plant, Soil, and Microbial Sciences, Michigan State University, East Lansing, MI 48824; and.']\n",
      "['Division of Plant Sciences, University of Missouri, Columbia, MO, USA.']\n",
      "['Institute for Biology I, Unit of Plant Molecular Cell Biology, RWTH Aachen University, Worringerweg 1, 52056 Aachen, Germany.']\n",
      "['Plant-Microbe Interactions, Department of Biology, Utrecht University, Padualaan 8, 3584 CH, Utrecht, the Netherlands.']\n",
      "['USDA Forest Service, Rocky Mountain Research Station, 920 Valley Rd, Reno, NV, 89512, USA.']\n",
      "['Oil Crops Research Institute of the Chinese Academy of Agricultural Sciences/Key Laboratory of Biology and Genetic, Improvement of Oil Crops, Ministry of Agriculture, Wuhan, China.']\n",
      "['Departamento de Biodiversidad y Biologia Experimental, Facultad de Ciencias Exactas y Naturales, Universidad de Buenos Aires, Instituto de Biodiversidad y Biologia Experimental y Aplicada (IBBEA) UBA-CONICET, Pabellon II, 4P Ciudad Universitaria, Intendente Guiraldes 2160, 1428, Buenos Aires, Argentina. ivanadm@bg.fcen.uba.ar.']\n",
      "['State Key Laboratory for Crop Genetics and Germplasm Enhancement, JiangSu Collaborative Innovation Center for Modern Crop Production, Nanjing Agricultural University, Nanjing, Jiangsu 210095, P.R. China.']\n",
      "['Centro de Recursos Naturales Renovables de la Zona Semiarida (CERZOS - CCT - CONICET Bahia Blanca) and Departamento de Agronomia, Universidad Nacional del Sur, Camino de la Carrindanga km 7, 8000, Bahia Blanca, Argentina.']\n",
      "['College of Resources and Environment, Northeast Agricultural University, Harbin, China.']\n",
      "['Department of Agronomy and Horticulture, Plant Science Hall, UNL, Lincoln, NE, USA. amira_mourad@aun.edu.eg.']\n",
      "['College of Science, China Agricultural University, No. 2 Yuanmingyuan West Road, Beijing, 100193, China.']\n",
      "['Department of Genetics and Plant Breeding, Faculty of Agronomy and Bioengineering, Poznan University of Life Sciences, 11 Dojazd Str, 60-632, Poznan, Poland.']\n",
      "['Institute of Molecular Enzyme Technology, Heinrich Heine University Dusseldorf, Dusseldorf, Germany, Forschungszentrum Julich GmbH, Julich, Germany.']\n",
      "['Graduate School of Biotechnology and Crop Biotech Institute, Kyung Hee University, Yongin 17104, Korea.']\n",
      "['Hawkesbury Institute for the Environment, University of Western Sydney, Locked Bag 1797, Penrith, NSW, 2751, Australia.']\n",
      "['Institute of Quality and Standard for Agro-products, Zhejiang Academy of Agricultural Sciences, State Key Laboratory for Quality and Safety of Agro-products (in prepared), Key Laboratory of Information Traceability for Agricultural Products, Ministry of Agriculture and Rural Affairs of China, Hangzhou, 310021, Zhejiang, China.']\n",
      "['State Key Laboratory of Tree Genetics and Breeding, Key Laboratory of Tree Breeding and Cultivation of State Forestry and Grassland Administration, Research Institute of Forestry Research, Chinese Academy of Forestry, Beijing, China.']\n",
      "['Department of Molecular Physiology, Agricultural Biotechnology Research Institute of Iran, Agricultural Research, Education, and Extension Organization (AREEO), Karaj, Iran.']\n",
      "['Department of Environment Studies, Panjab University, Chandigarh, 160014, India. Electronic address: gagan1986sidhu@gmail.com.']\n",
      "['Department of Geobotany and Plant Ecology, Faculty of Biology and Environmental Protection, University of Lodz, 12/16 Banacha St., 90-237, Lodz, Poland. jeremi.kolodziejek@biol.uni.lodz.pl.']\n",
      "['Centro Andaluz de Biologia del Desarrollo (CABD)-CSIC, Pablo de Olavide University, Seville, Spain.']\n",
      "['State Key Laboratory for Conservation and Utilization of Subtropical Agro-bioresources, South China Agricultural University, Guangzhou, China.']\n",
      "['Istituto Zooprofilattico Sperimentale della Sicilia \"A. Mirri\", Palermo, Italy.']\n",
      "['Departamento de Biologia Celular, Universidade de Brasilia, Brasilia, Brazil; Embrapa Recursos Geneticos e Biotecnologia, Brasilia, Brazil.']\n",
      "['Division of Vegetable Science, ICAR-Indian Agricultural Research Institute, New Delhi, India.']\n",
      "['Department of Botany and Plant Biology, Section of Biology, Faculty of Sciences, University of Geneva, 30 Quai E. Ansermet, 1211, Geneva 4, Switzerland.']\n",
      "['State Key Laboratory of Integrated Management of Pest Insects and Rodents, Institute of Zoology, Chinese Academy of Sciences, Beijing, China.']\n",
      "['LeStudium Institute for Advanced Studies, 45000 Orleans, France.']\n",
      "['1Alabama Center for Paper & Bioresource Engineering, Auburn University, Auburn, AL 36849 USA. GRID: grid.252546.2. ISNI: 0000 0001 2297 8753']\n",
      "['Graduate School of Life Science, Faculty of Advanced Life Science, Hokkaido University, Sapporo 001-0021, Japan.']\n",
      "['Department of Life Sciences and Systems Biology, University of Turin, Torino, Italy.']\n",
      "['Nees Institute for Biodiversity of Plants, University of Bonn, Bonn, Germany.']\n",
      "['Research group for Integrated Molecular Plant Physiology Research (IMPRES), Department of Biology, University of Antwerp, Antwerp, Belgium.']\n",
      "['The National Engineering Laboratory of Crop Resistance Breeding, School of Life Sciences, Anhui Agricultural University, Hefei, 230036, China.']\n",
      "['Institute of Plant Genetics, Polish Academy of Sciences, Poznan, Poland.']\n",
      "['Department of Natural Sciences, International Christian University, Tokyo, Japan.']\n",
      "['Department of Agro-Food Technology, Research Group \\'\\'Food Quality and Safety, CSA\", Miguel Hernandez University of Elche (UMH). Escuela Politecnica Superior de Orihuela (EPSO), Carretera de Beniel, km 3,2, Orihuela, Alicante 03312, Spain.']\n",
      "['Guangdong Key Laboratory of Integrated Agro-Environmental Pollution Control and Management, Guangdong Institute of Eco-Environmental Science and Technology, Guangzhou, 510650, China. xushan0916@hotmail.com.']\n",
      "['State Key Laboratory of Grassland Agro-ecosystems, School of Life Sciences, Lanzhou University, Lanzhou, 730000, China.']\n",
      "['Institute of Botany, Faculty of Biology, Jagiellonian University, Gronostajowa 3, 30-387, Krakow, Poland. evgenii.baiakhmetov@doctoral.uj.edu.pl.']\n",
      "['Department of Botany and Biodiversity Research Centre, University of British Columbia, Vancouver, BC, Canada.']\n",
      "['Fujian Provincial Key Laboratory of Plant Functional Biology, Fujian Agriculture and Forestry University, Fuzhou 350002, China.']\n",
      "['Instituto de Tecnologia Quimica e Biologica Antonio Xavier, Universidade Nova de Lisboa, 2780-157 Oeiras, Portugal.']\n",
      "['Albrecht-von-Haller-Institute for Plant Sciences, Department of Systematics, Biodiversity and Evolution of Plants (with Herbarium), Georg-August-Universitat Gottingen, 37073 Gottingen, Germany.']\n",
      "['Department of Grassland Science, College of Animal Science and Technology, Sichuan Agricultural University, Chengdu 611130, China.']\n",
      "['Shandong Peanut Research Institute, Qingdao, China. zhaoxiaoboqd@126.com.']\n",
      "['Centre for Environmental and Marine Studies (CESAM), Department of Biology, University of Aveiro, Aveiro 3810-193, Portugal.']\n",
      "['Henan Agricultural University, National Centre of Engineering and Technological Research for Wheat / National Key Laboratory of Wheat and Maize Crop Science, Zhengzhou, Henan, China.']\n",
      "['Department of Plants and Crops, Laboratory of Phytopathology, Faculty of Bioscience Engineering, Ghent University, Coupure Links 653, B-9000, Ghent, Belgium.']\n",
      "[\"Dairy Cattle Research Center, Shandong Academy of Agricultural Sciences, Ji'nan, 250100, China.\"]\n",
      "['Faculty of Economics and Business, Universitas Gadjah Mada, Sleman 55281, Indonesia.']\n",
      "['Department of Biological Sciences, Sungkyunkwan University, Suwon, Republic of Korea.']\n"
     ]
    }
   ],
   "source": [
    "# Use \".\" as delimiter will work for most, but exceptions:\n",
    "'''\n",
    "['Instituto de Fitosanidad, Colegio de Postgraduados, km. 35.5 Carr. \n",
    "  Mexico-Texcoco, 56230-Texcoco, Edo. de Mexico, Mexico.']\n",
    "['Botanisches Institut der Ludwig-Maximilians Universitat, Munchen, F.R.G.']\n",
    "'''\n",
    "\n",
    "for idx in range(0, len(all_rec), 1000):\n",
    "  rec = all_rec[idx]\n",
    "  if 'AD' in rec:\n",
    "    print([rec['AD'][0]]) "
   ]
  },
  {
   "attachments": {},
   "cell_type": "markdown",
   "metadata": {},
   "source": [
    "## ___Search for country codes___"
   ]
  },
  {
   "cell_type": "markdown",
   "metadata": {},
   "source": [
    "### Set up country dictionaries"
   ]
  },
  {
   "cell_type": "code",
   "execution_count": 14,
   "metadata": {},
   "outputs": [],
   "source": [
    "# Build {country_name or official_name: alpha_3 code}\n",
    "countries   = list(pycountry.countries)\n",
    "cname_to_a3 = {}\n",
    "\n",
    "for country in countries:\n",
    "  name_a2    = country.alpha_2\n",
    "  name_a3    = country.alpha_3\n",
    "  name_short = country.name\n",
    "\n",
    "  cname_to_a3[name_a2] = name_a3 # store this for situation like US\n",
    "  cname_to_a3[name_a3] = name_a3 # store this for sitiation like USA\n",
    "  cname_to_a3[name_short] = name_a3\n",
    "  \n",
    "  # put official name in\n",
    "  try:\n",
    "    name_offic = country.official_name\n",
    "    cname_to_a3[name_offic] = name_a3\n",
    "  except AttributeError:\n",
    "    #print(\"No official name:\", name_short)\n",
    "    name_offic = \"NA\""
   ]
  },
  {
   "cell_type": "code",
   "execution_count": 15,
   "metadata": {},
   "outputs": [],
   "source": [
    "# Also build a dictionary for historical countries\n",
    "countries_hist = list(pycountry.historic_countries)\n",
    "cname_hist_to_a3 = {}\n",
    "\n",
    "for country in countries_hist:\n",
    "\n",
    "  # the name in historical countries are the official names\n",
    "  name_offic = country.name\n",
    "  cname_hist_to_a3[name_offic] = name_a3\n",
    "  \n",
    "  name_short = name_offic.split(\",\")[0]\n",
    "  cname_hist_to_a3[name_short] = name_a3\n"
   ]
  },
  {
   "cell_type": "code",
   "execution_count": 16,
   "metadata": {},
   "outputs": [],
   "source": [
    "# For weird stuff\n",
    "suppl_dict = {\"UK\":\"GBR\", \"The Netherlands\":\"NLD\", \"Taiwan\":\"TWN\"}"
   ]
  },
  {
   "attachments": {},
   "cell_type": "markdown",
   "metadata": {},
   "source": [
    "### Search for country info with pycountry"
   ]
  },
  {
   "cell_type": "code",
   "execution_count": 126,
   "metadata": {},
   "outputs": [],
   "source": [
    "def get_location_str(AD):\n",
    "  '''Get the potential location string from AD\n",
    "  Args:\n",
    "    AD (str): The content in the AD field\n",
    "  Return\n",
    "    location (str): the string that likely contain location info\n",
    "    errflag (int): the AD info is empty and thus erroneous (1) or not (0)\n",
    "  '''\n",
    "\n",
    "  # The first element in the AD list is used (1st author), rid of ending '.'\n",
    "  tokens  = AD[0][:-1]\n",
    "\n",
    "  # But there are 12 records where the AD field looks like:\n",
    "  # ['.', '.', '.', '.', '.', '.']\n",
    "  # So tokens will be \"\", dealt with in the if-else statement below.\n",
    "  if tokens == \"\":\n",
    "    location = \"NA\"\n",
    "    errflag = 1\n",
    "  else:\n",
    "    errflag = 0\n",
    "    # First deal with AD with mutliple authors that have a format like:\n",
    "    # ['From xxx, xxx, xxx, xxx, xxx (Ranade, Ganea, Razzak, and Garcia Gil)']\n",
    "    if tokens[-1] == \")\":\n",
    "      leftMargin = tokens.rfind(\" (\")\n",
    "      tokens = tokens[:leftMargin] # rid of author info\n",
    "\n",
    "    # Split first based on \".\" The address field should be before the 1st \".\".\n",
    "    # If email field is present in AD, it is expected to be in the 2nd token and\n",
    "    # on. But there are few records with abbreviations ending with \".\". Dealt \n",
    "    # with those later.\n",
    "    # Next split with \", \" and the last field is considered the location field.\n",
    "    tokens = tokens.split(\".\")[0].split(\", \")\n",
    "\n",
    "    # AD field has only one token\n",
    "    if len(tokens) == 1:\n",
    "      location = tokens[0]\n",
    "    # For the rest, assume location is in the last token\n",
    "    else:\n",
    "      location = tokens[-1]\n",
    "\n",
    "  return location, errflag"
   ]
  },
  {
   "cell_type": "code",
   "execution_count": 127,
   "metadata": {},
   "outputs": [],
   "source": [
    "def get_a3(location, cname_to_a3, cname_hist_to_a3, suppl_dict):\n",
    "  # Found current country name\n",
    "  if location in cname_to_a3:\n",
    "    a3 = cname_to_a3[location]\n",
    "  # Found historical country name\n",
    "  elif location in cname_hist_to_a3:\n",
    "    a3 = cname_hist_to_a3[location]\n",
    "  # Found name in suppl dict\n",
    "  elif location in suppl_dict:\n",
    "    a3 = suppl_dict[location]\n",
    "  # Leave this for geopy in the next step\n",
    "  else:\n",
    "    a3 = 'NA'\n",
    "\n",
    "  return a3"
   ]
  },
  {
   "cell_type": "code",
   "execution_count": 128,
   "metadata": {},
   "outputs": [
    {
     "name": "stderr",
     "output_type": "stream",
     "text": [
      "100%|██████████| 421626/421626 [00:08<00:00, 51817.33it/s] "
     ]
    },
    {
     "name": "stdout",
     "output_type": "stream",
     "text": [
      "Total   : 421626\n",
      "With a3 : 289543\n",
      "No AD   : 19862\n",
      "To geopy: 112165\n"
     ]
    },
    {
     "name": "stderr",
     "output_type": "stream",
     "text": [
      "\n"
     ]
    }
   ],
   "source": [
    "# Without country a3\n",
    "# Before checking for US state: 24867\n",
    "\n",
    "country_info = {} # {pmid:[first_AU, first_AD, alpha_3]}\n",
    "not_found    = {} # {pmid:[AU, AD]}, for records with no a3 code\n",
    "count_AD_NA  = 0  # count records without AD field\n",
    "count_a3     = 0  # count records with a3 code\n",
    "\n",
    "# Go through each record\n",
    "for rec in tqdm(all_rec):\n",
    "  pmid = rec[\"PMID\"]\n",
    "  a3   = \"NA\" # set default value\n",
    "\n",
    "  # Deal with AU info\n",
    "  try:\n",
    "    AU = rec[\"AU\"]\n",
    "  except KeyError:\n",
    "    AU = \"NA\"  \n",
    "\n",
    "  # Deal with AD info\n",
    "  try:\n",
    "    AD = rec[\"AD\"]\n",
    "    loc, errflag = get_location_str(AD)\n",
    "    if not errflag:\n",
    "      a3 = get_a3(loc, cname_to_a3, cname_hist_to_a3, suppl_dict)\n",
    "      # Leave this for geopy in the next step\n",
    "      if a3 == \"NA\":\n",
    "        not_found[pmid] = [AU, AD]\n",
    "    # The AD field is effectively empty so AD is \"NA\"\n",
    "    else:\n",
    "      AD = \"NA\"\n",
    "      count_AD_NA += 1\n",
    "\n",
    "  # AD field does not exist\n",
    "  except KeyError:\n",
    "    AD = \"NA\"\n",
    "    count_AD_NA += 1\n",
    "\n",
    "  if a3 != \"NA\":\n",
    "    count_a3 += 1\n",
    "\n",
    "  # For AD is NA, no point in doing more, so include these in country_info. \n",
    "  # For those with a3 code, they are done, so include these in country info.\n",
    "  if AD == \"NA\" or a3 != \"NA\":\n",
    "    country_info[pmid] = [AU, AD, a3]\n",
    "\n",
    "print(\"Total   :\", len(all_rec))\n",
    "print(\"With a3 :\", count_a3)\n",
    "print(\"No AD   :\", count_AD_NA)\n",
    "print(\"To geopy:\", len(not_found.keys()))"
   ]
  },
  {
   "attachments": {},
   "cell_type": "markdown",
   "metadata": {},
   "source": [
    "## ___Continue to identify location using geopy___"
   ]
  },
  {
   "attachments": {},
   "cell_type": "markdown",
   "metadata": {},
   "source": [
    "### Docker setup and initial Nominatim run\n",
    "\n",
    "Query through the Nominatim service resulted in time out. So install a local version via docker:\n",
    "\n",
    "Install and start docker daemon:\n",
    "```bash\n",
    "sudo apt-get update\n",
    "sudo apt-get upgrade\n",
    "sudo apt install docker.io\n",
    "sudo dockerd\n",
    "```\n",
    "\n",
    "Run Nominatim docker image:\n",
    "```bash\n",
    "sudo groupadd docker\n",
    "sudo usermod -aG docker shius\n",
    "su -s shius\n",
    "docker run hello-world # testing\n",
    "docker run -it \\\n",
    "  -e PBF_URL=https://download.geofabrik.de/europe/monaco-latest.osm.pbf \\\n",
    "  -e REPLICATION_URL=https://download.geofabrik.de/europe/monaco-updates/ \\\n",
    "  -p 8080:8080 \\\n",
    "  --name nominatim \\\n",
    "  mediagis/nominatim:4.2\n",
    "```\n",
    "\n",
    "Testing, in browser:\n",
    "- http://localhost:8080/search.php?q=avenue%20pasteur\n",
    "\n",
    "The code below follows [this tutorial](https://www.linkedin.com/pulse/geocoding-geopy-your-own-nominatim-server-chonghua-yin?trk=related_artice_Geocoding%20with%20GeoPy%20and%20Your%20Own%20Nominatim%20Server_article-card_title).\n"
   ]
  },
  {
   "attachments": {},
   "cell_type": "markdown",
   "metadata": {},
   "source": [
    "### Nominatim setup\n",
    "\n",
    "Tried a few options:\n",
    "- Installation: quite challenging, did not finish. Use [Docker image](https://github.com/mediagis/nominatim-docker/blob/master/4.2/README.md) instead.\n",
    "- Intial docker run: found out that only Monaco was included. Look for ways to load the whole world.\n",
    "- Downloaded Continent.pbf files from [Geofabrik](https://www.geofabrik.de/data/download.html).\n",
    "- Figure out [how to transfer files between local host and container](https://www.edureka.co/community/10534/copying-files-from-host-to-docker-container) and move all pbf files into docker container and commit the image with files.\n",
    "- For each Nominatim run, a different region is loaded. The order is determined based on anticipated pub volumn:\n",
    "  - north-america-latest.osm.pbf\n",
    "  - europe-latest.osm.pbf\n",
    "  - asia-latest.osm.pbf\n",
    "  - africa-latest.osm.pbf\n",
    "  - australia-oceania-latest.osm.pbf\n",
    "  - central-america-latest.osm.pbf\n",
    "  - south-america-latest.osm.pbf\n",
    "  - antarctica-latest.osm.pbf"
   ]
  },
  {
   "cell_type": "code",
   "execution_count": null,
   "metadata": {},
   "outputs": [],
   "source": [
    "'''\n",
    "docker cp ~/data_nominatim/EACH_CONTINENT.pbf CONTAINER_ID:/nominatim/data\n",
    "docker commit -m \"With all continents\" -a \"Shinhan\" CONTAINER_ID shius/nominatim_world\n",
    "docker images\n",
    "\n",
    "docker run -it \\\n",
    "  -e PBF_PATH=/nominatim/data/EACH_CONTINENT.pbf \\\n",
    "  -p 8080:8080  \\\n",
    "  --name nominatim_na \\\n",
    "  shius/nominatim_world\n",
    "'''"
   ]
  },
  {
   "cell_type": "markdown",
   "metadata": {},
   "source": [
    "### Search function"
   ]
  },
  {
   "cell_type": "code",
   "execution_count": null,
   "metadata": {},
   "outputs": [],
   "source": [
    "def call_nominatim(country_info, not_found):\n",
    "  # Access local Nominatim server\n",
    "  geolocator = Nominatim(domain='localhost:8080', scheme='http')\n",
    "\n",
    "  # for records that still have no location info\n",
    "  not_found2     = {} # {pmid:[AU, AD]}\n",
    "  count_geopy_a3 = 0\n",
    "  for pmid in tqdm(not_found):\n",
    "    if pmid not in country_info:\n",
    "      [AU, AD] = not_found[pmid]\n",
    "      loc, _   = get_location_str(AD)\n",
    "      geo      = geolocator.geocode(loc, language='en')\n",
    "\n",
    "      # geocode return something useful\n",
    "      if geo is not None:\n",
    "        country = geo.raw['display_name'].split(\", \")[-1]\n",
    "        a3      = get_a3(country, cname_to_a3, cname_hist_to_a3, suppl_dict)\n",
    "        \n",
    "        country_info[pmid] = [AU, AD, a3]\n",
    "        count_geopy_a3 += 1\n",
    "      # nothing found\n",
    "      else:\n",
    "        not_found2[pmid] = [AU, AD, loc]\n",
    "\n",
    "  print(\"Still missing:\", len(not_found2.keys()))\n",
    "  return not_found2"
   ]
  },
  {
   "cell_type": "markdown",
   "metadata": {},
   "source": [
    "### North America search"
   ]
  },
  {
   "cell_type": "code",
   "execution_count": 94,
   "metadata": {},
   "outputs": [
    {
     "name": "stderr",
     "output_type": "stream",
     "text": [
      "100%|██████████| 150840/150840 [41:01<00:00, 61.28it/s] "
     ]
    },
    {
     "name": "stdout",
     "output_type": "stream",
     "text": [
      "Still missing: 147446\n"
     ]
    },
    {
     "name": "stderr",
     "output_type": "stream",
     "text": [
      "\n"
     ]
    }
   ],
   "source": [
    "# Access local Nominatim server\n",
    "geolocator = Nominatim(domain='localhost:8080', scheme='http')\n",
    "\n",
    "# for records that still have no location info\n",
    "not_found2     = {} # {pmid:[AU, AD]}\n",
    "count_geopy_a3 = 0\n",
    "for pmid in tqdm(not_found):\n",
    "  if pmid not in country_info:\n",
    "    [AU, AD]     = not_found[pmid]\n",
    "    loc, errflag = get_location_str(AD)\n",
    "    geo          = geolocator.geocode(loc, language='en')\n",
    "\n",
    "    # geocode return something useful\n",
    "    if geo is not None:\n",
    "      country = geo.raw['display_name'].split(\", \")[-1]\n",
    "      a3      = get_a3(country, cname_to_a3, cname_hist_to_a3, suppl_dict)\n",
    "      \n",
    "      country_info[pmid] = [AU, AD, a3]\n",
    "      count_geopy_a3 += 1\n",
    "    # nothing found\n",
    "    else:\n",
    "      not_found2[pmid] = [AU, AD, loc]\n",
    "\n",
    "print(\"Still missing:\", len(not_found2.keys()))"
   ]
  },
  {
   "cell_type": "code",
   "execution_count": 96,
   "metadata": {},
   "outputs": [
    {
     "name": "stdout",
     "output_type": "stream",
     "text": [
      "[['Max Planck Institute for Terrestrial Microbiology, D-35043 Marburg, Germany; email: loprestl@mpi-marburg.mpg.de , daniel.lanver@mpi-marburg.mpg.de , gabriel.schweizer@mpi-marburg.mpg.de , shigeyuki.tanaka@mpi-marburg.mpg.de , liangl@mpi-marburg.mpg.de , marie.tollot@mpi-marburg.mpg.de , zuccaro.alga@mpi-marburg.mpg.de , reissmas@mpi-marburg.mpg.de , kahmann@mpi-marburg.mpg.de.'], 'reissmas@mpi-marburg.mpg.de ']\n",
      "[['Department of Chemical Engineering, Konkuk University, 1 Hwayang-Dong, Gwangjin-Gu, Seoul, 143-701, Republic of Korea.'], 'Republic of Korea']\n",
      "[['Zhejiang Institute of Subtropical Crops, Zhejiang Academy of Agricultural Sciences, Wenzhou, 325005, P.R. China. wuzhigang177@126.com.', 'Zhejiang Institute of Subtropical Crops, Zhejiang Academy of Agricultural Sciences, Wenzhou, 325005, P.R. China. jiangwu8888@163.com.', 'School of Applied Sciences, Health Innovations Research Institute, RMIT University, Melbourne, VIC, Australia. nitin.mantri@rmit.edu.au.', 'Zhejiang Institute of Subtropical Crops, Zhejiang Academy of Agricultural Sciences, Wenzhou, 325005, P.R. China. 850254737@qq.com.', 'School of pharmacy, Wenzhou Medical University, Wenzhou, 325035, P.R. China. 850254737@qq.com.', 'Zhejiang Institute of Subtropical Crops, Zhejiang Academy of Agricultural Sciences, Wenzhou, 325005, P.R. China. 623816984@qq.com.', 'School of pharmacy, Wenzhou Medical University, Wenzhou, 325035, P.R. China. 623816984@qq.com.', 'Zhejiang Institute of Subtropical Crops, Zhejiang Academy of Agricultural Sciences, Wenzhou, 325005, P.R. China. yzswzg@gmail.com.'], '325005']\n",
      "[['Department of Karyosystematics, Zoological Institute of Russian Academy of Sciences, Universitetskaya nab. 1, 199034, St Petersburg, Russia Department of Entomology, St Petersburg State University, Universitetskaya nab. 7/9, 199034, St Petersburg, Russia lukhtanov@mail.ru.', 'Department of Karyosystematics, Zoological Institute of Russian Academy of Sciences, Universitetskaya nab. 1, 199034, St Petersburg, Russia Department of Entomology, St Petersburg State University, Universitetskaya nab. 7/9, 199034, St Petersburg, Russia.', 'Department of Karyosystematics, Zoological Institute of Russian Academy of Sciences, Universitetskaya nab. 1, 199034, St Petersburg, Russia.', 'Department of Cytology and Histology, St Petersburg State University, Universitetskaya nab. 7/9, 199034, St Petersburg, Russia.', 'Department of Karyosystematics, Zoological Institute of Russian Academy of Sciences, Universitetskaya nab. 1, 199034, St Petersburg, Russia.'], 'St Petersburg']\n",
      "[['Department of Biology, University of North Carolina, CB#3280, Coker Hall, Chapel Hill, NC 27599-3280, USA kpfennig@unc.edu.', 'Department of Biology, University of North Carolina, CB#3280, Coker Hall, Chapel Hill, NC 27599-3280, USA.', 'Department of Biology, University of North Carolina, CB#3280, Coker Hall, Chapel Hill, NC 27599-3280, USA.', 'Department of Biology, Case Western Reserve University, Cleveland, OH 44106, USA.'], 'NC 27599-3280']\n",
      "[['Biological and Environmental Sciences, University of Stirling, Stirling FK9 4LA, UK p.r.whitehorn@stir.ac.uk.', 'School of Biology, University of St Andrews, St Andrews KY16 9TH, UK.', 'School of Biology, University of St Andrews, St Andrews KY16 9TH, UK.', 'School of Biology, University of St Andrews, St Andrews KY16 9TH, UK.', 'School of Biology, University of St Andrews, St Andrews KY16 9TH, UK.', 'School of Biology, University of St Andrews, St Andrews KY16 9TH, UK.'], 'Stirling FK9 4LA']\n",
      "[['Division of Metrology for Quality of Life, Korea Research Institute of Standards and Science, Yuseong-gu, Daejeon, 305-340, Korea.'], 'Korea']\n",
      "[['Hubei Provincial Key Laboratory for Protection and Application of Special Plants in Wuling Area of China, College of Life Science, South-Central University for Nationalities, Wuhan, 430074, China. yanptan@mail.scuec.edu.cn.', 'Hubei Provincial Key Laboratory for Protection and Application of Special Plants in Wuling Area of China, College of Life Science, South-Central University for Nationalities, Wuhan, 430074, China. bio.xuxin@gmail.com.', 'Hubei Provincial Key Laboratory for Protection and Application of Special Plants in Wuling Area of China, College of Life Science, South-Central University for Nationalities, Wuhan, 430074, China. wangchuntai@mail.scuec.edu.cn.', 'Hubei Provincial Key Laboratory for Protection and Application of Special Plants in Wuling Area of China, College of Life Science, South-Central University for Nationalities, Wuhan, 430074, China. cheng_gang@aliyun.com.', 'Key Laboratory of MOE for Plant Developmental Biology, College of Life Science, Wuhan University, Wuhan, 430072, China. shaoqingli@whu.edu.cn.', 'Hubei Provincial Key Laboratory for Protection and Application of Special Plants in Wuling Area of China, College of Life Science, South-Central University for Nationalities, Wuhan, 430074, China. xqliuw@mail.scuec.edu.cn.'], '430074']\n",
      "[['The New Zealand Institute for Plant & Food Research Limited, Food Industry Science Centre, Private Bag 11600, Palmerston North, 4442, New Zealand. david.brummell@plantandfood.co.nz.', 'The New Zealand Institute for Plant & Food Research Limited, Food Industry Science Centre, Private Bag 11600, Palmerston North, 4442, New Zealand. lynwatsonnz@gmail.com.', 'The New Zealand Institute for Plant & Food Research Limited, Food Industry Science Centre, Private Bag 11600, Palmerston North, 4442, New Zealand. jun_zcn@hotmail.com.', 'The New Zealand Institute for Plant & Food Research Limited, Food Industry Science Centre, Private Bag 11600, Palmerston North, 4442, New Zealand. marian.mckenzie@plantandfood.co.nz.', 'The New Zealand Institute for Plant & Food Research Limited, Mount Albert Research Centre, Private Bag 92169, Auckland, 1142, New Zealand. ian.hallett@plantandfood.co.nz.', 'The New Zealand Institute for Plant & Food Research Limited, Canterbury Agriculture & Science Centre, Private Bag 4704, Christchurch, 8140, New Zealand. lyall.simmons@plantandfood.co.nz.', 'The New Zealand Institute for Plant & Food Research Limited, Canterbury Agriculture & Science Centre, Private Bag 4704, Christchurch, 8140, New Zealand. margaret.carpenter@plantandfood.co.nz.', 'The New Zealand Institute for Plant & Food Research Limited, Canterbury Agriculture & Science Centre, Private Bag 4704, Christchurch, 8140, New Zealand. gail.timmerman-vaughan@plantandfood.co.nz.'], '4442']\n",
      "[['The Centre for Applied Genomics, The Hospital for Sick Children, Peter Gilgan Centre for Research and Learning, 686 Bay St, Toronto, ON, Canada M5G 0A4.', \"Green Plant Herbarium, Department of Natural History, Royal Ontario Museum, 100 Queen's Park, Toronto, ON, Canada M5S 2C6.\", 'Canadian Centre for DNA Barcoding, 50 Stone Road East, Guelph, ON, Canada N1G 2W1.', '109 Lakeshore Ave., Edgewood, BC, Canada V0G 1J0.', 'Department of Chemistry, I.K. Barber School of Arts and Sciences, The University of British Columbia Okanagan, 3333 University Way, Kelowna, BC, Canada V1V 1V7.', 'Department of Chemistry, I.K. Barber School of Arts and Sciences, The University of British Columbia Okanagan, 3333 University Way, Kelowna, BC, Canada V1V 1V7.', 'Department of Ecology and Evolutionary Biology, University of Toronto, 25 Willcocks Street, Toronto, ON, Canada M5S 3B2 Department of Biology, University of Toronto Mississauga, 3359 Mississauga Road, Mississauga, ON, Canada L5L 1C6.', \"Green Plant Herbarium, Department of Natural History, Royal Ontario Museum, 100 Queen's Park, Toronto, ON, Canada M5S 2C6 Department of Ecology and Evolutionary Biology, University of Toronto, 25 Willcocks Street, Toronto, ON, Canada M5S 3B2 tim.dickinson@utoronto.ca.\"], 'Canada M5G 0A4']\n"
     ]
    }
   ],
   "source": [
    "# Spot check\n",
    "for pmid in list(not_found2.keys())[100087:100097]:\n",
    "    print(not_found2[pmid][1:])"
   ]
  },
  {
   "cell_type": "code",
   "execution_count": 38,
   "metadata": {},
   "outputs": [
    {
     "data": {
      "text/plain": [
       "[['Zhao SL', 'Suo JZ', 'Chen LZ'],\n",
       " ['Beijing Institute for Clinical Pharmacy Research.']]"
      ]
     },
     "execution_count": 38,
     "metadata": {},
     "output_type": "execute_result"
    }
   ],
   "source": [
    "not_found2['1304750']"
   ]
  },
  {
   "attachments": {},
   "cell_type": "markdown",
   "metadata": {},
   "source": [
    "## ___Get continent info___"
   ]
  },
  {
   "cell_type": "code",
   "execution_count": null,
   "metadata": {},
   "outputs": [],
   "source": []
  },
  {
   "cell_type": "code",
   "execution_count": null,
   "metadata": {},
   "outputs": [],
   "source": [
    "#https://stackoverflow.com/questions/55910004/get-continent-name-from-country-using-pycountry\n",
    "\n"
   ]
  },
  {
   "cell_type": "markdown",
   "metadata": {},
   "source": [
    "## ___Put country code info into corpusm___"
   ]
  },
  {
   "attachments": {},
   "cell_type": "markdown",
   "metadata": {},
   "source": [
    "## ___Test___"
   ]
  },
  {
   "cell_type": "markdown",
   "metadata": {},
   "source": [
    "### pycountry"
   ]
  },
  {
   "cell_type": "code",
   "execution_count": 73,
   "metadata": {},
   "outputs": [
    {
     "data": {
      "text/plain": [
       "Country(alpha_2='AW', alpha_3='ABW', flag='🇦🇼', name='Aruba', numeric='533')"
      ]
     },
     "execution_count": 73,
     "metadata": {},
     "output_type": "execute_result"
    }
   ],
   "source": [
    "list(pycountry.countries)[0]"
   ]
  },
  {
   "cell_type": "code",
   "execution_count": 85,
   "metadata": {},
   "outputs": [
    {
     "data": {
      "text/plain": [
       "(['Fouly HM', 'Domier LL', \"D'Arcy CJ\"],\n",
       " ['Department of Plant Pathology, University of Illinois, Urbana 61801.'])"
      ]
     },
     "execution_count": 85,
     "metadata": {},
     "output_type": "execute_result"
    }
   ],
   "source": [
    "rec = all_rec[4004]\n",
    "au = rec[\"AU\"]\n",
    "ad = rec[\"AD\"]\n",
    "au, ad"
   ]
  },
  {
   "cell_type": "code",
   "execution_count": 87,
   "metadata": {},
   "outputs": [
    {
     "ename": "LookupError",
     "evalue": "Could not find a record for 'urbana'",
     "output_type": "error",
     "traceback": [
      "\u001b[0;31m---------------------------------------------------------------------------\u001b[0m",
      "\u001b[0;31mLookupError\u001b[0m                               Traceback (most recent call last)",
      "Cell \u001b[0;32mIn[87], line 1\u001b[0m\n\u001b[0;32m----> 1\u001b[0m pycountry\u001b[39m.\u001b[39;49msubdivisions\u001b[39m.\u001b[39;49mlookup(\u001b[39m\"\u001b[39;49m\u001b[39mUrbana\u001b[39;49m\u001b[39m\"\u001b[39;49m)\n",
      "File \u001b[0;32m~/miniconda3/envs/nlp/lib/python3.9/site-packages/pycountry/db.py:39\u001b[0m, in \u001b[0;36mlazy_load.<locals>.load_if_needed\u001b[0;34m(self, *args, **kw)\u001b[0m\n\u001b[1;32m     37\u001b[0m     \u001b[39mwith\u001b[39;00m \u001b[39mself\u001b[39m\u001b[39m.\u001b[39m_load_lock:\n\u001b[1;32m     38\u001b[0m         \u001b[39mself\u001b[39m\u001b[39m.\u001b[39m_load()\n\u001b[0;32m---> 39\u001b[0m \u001b[39mreturn\u001b[39;00m f(\u001b[39mself\u001b[39;49m, \u001b[39m*\u001b[39;49margs, \u001b[39m*\u001b[39;49m\u001b[39m*\u001b[39;49mkw)\n",
      "File \u001b[0;32m~/miniconda3/envs/nlp/lib/python3.9/site-packages/pycountry/db.py:147\u001b[0m, in \u001b[0;36mDatabase.lookup\u001b[0;34m(self, value)\u001b[0m\n\u001b[1;32m    144\u001b[0m         \u001b[39mif\u001b[39;00m v\u001b[39m.\u001b[39mlower() \u001b[39m==\u001b[39m value:\n\u001b[1;32m    145\u001b[0m             \u001b[39mreturn\u001b[39;00m candidate\n\u001b[0;32m--> 147\u001b[0m \u001b[39mraise\u001b[39;00m \u001b[39mLookupError\u001b[39;00m(\u001b[39m\"\u001b[39m\u001b[39mCould not find a record for \u001b[39m\u001b[39m%r\u001b[39;00m\u001b[39m\"\u001b[39m \u001b[39m%\u001b[39m value)\n",
      "\u001b[0;31mLookupError\u001b[0m: Could not find a record for 'urbana'"
     ]
    }
   ],
   "source": [
    "pycountry.subdivisions.lookup(\"Urbana\")"
   ]
  },
  {
   "cell_type": "code",
   "execution_count": 131,
   "metadata": {},
   "outputs": [
    {
     "name": "stdout",
     "output_type": "stream",
     "text": [
      "None\n"
     ]
    }
   ],
   "source": [
    "country = pycountry.countries.get(name=\"Yugoslavia\")\n",
    "print(country)"
   ]
  },
  {
   "cell_type": "code",
   "execution_count": 136,
   "metadata": {},
   "outputs": [
    {
     "name": "stdout",
     "output_type": "stream",
     "text": [
      "None\n"
     ]
    }
   ],
   "source": [
    "country = pycountry.historic_countries.get(name=\"Yugoslavia\")\n",
    "print(country)"
   ]
  },
  {
   "cell_type": "code",
   "execution_count": 137,
   "metadata": {},
   "outputs": [
    {
     "data": {
      "text/plain": [
       "[Country(alpha_2='AI', alpha_3='AFI', alpha_4='AIDJ', name='French Afars and Issas', numeric='262', withdrawal_date='1977'),\n",
       " Country(alpha_2='AN', alpha_3='ANT', alpha_4='ANHH', name='Netherlands Antilles', numeric='530', withdrawal_date='1993-07-12'),\n",
       " Country(alpha_2='BQ', alpha_3='ATB', alpha_4='BQAQ', name='British Antarctic Territory', withdrawal_date='1979'),\n",
       " Country(alpha_2='BU', alpha_3='BUR', alpha_4='BUMM', name='Burma, Socialist Republic of the Union of', numeric='104', withdrawal_date='1989-12-05'),\n",
       " Country(alpha_2='BY', alpha_3='BYS', alpha_4='BYAA', name='Byelorussian SSR Soviet Socialist Republic', numeric='112', withdrawal_date='1992-06-15'),\n",
       " Country(alpha_2='CS', alpha_3='CSK', alpha_4='CSHH', name='Czechoslovakia, Czechoslovak Socialist Republic', numeric='200', withdrawal_date='1993-06-15'),\n",
       " Country(alpha_2='CS', alpha_3='SCG', alpha_4='CSXX', name='Serbia and Montenegro', numeric='891', withdrawal_date='2006-06-05'),\n",
       " Country(alpha_2='CT', alpha_3='CTE', alpha_4='CTKI', name='Canton and Enderbury Islands', numeric='128', withdrawal_date='1984'),\n",
       " Country(alpha_2='DD', alpha_3='DDR', alpha_4='DDDE', name='German Democratic Republic', numeric='278', withdrawal_date='1990-10-30'),\n",
       " Country(alpha_2='DY', alpha_3='DHY', alpha_4='DYBJ', name='Dahomey', numeric='204', withdrawal_date='1977'),\n",
       " Country(alpha_2='FQ', alpha_3='ATF', alpha_4='FQHH', comment='now split between AQ and TF', name='French Southern and Antarctic Territories', withdrawal_date='1979'),\n",
       " Country(alpha_2='FX', alpha_3='FXX', alpha_4='FXFR', name='France, Metropolitan', numeric='249', withdrawal_date='1997-07-14'),\n",
       " Country(alpha_2='GE', alpha_3='GEL', alpha_4='GEHH', comment='now split into Kiribati and Tuvalu', name='Gilbert and Ellice Islands', numeric='296', withdrawal_date='1979'),\n",
       " Country(alpha_2='HV', alpha_3='HVO', alpha_4='HVBF', name='Upper Volta, Republic of', numeric='854', withdrawal_date='1984'),\n",
       " Country(alpha_2='JT', alpha_3='JTN', alpha_4='JTUM', name='Johnston Island', numeric='396', withdrawal_date='1986'),\n",
       " Country(alpha_2='MI', alpha_3='MID', alpha_4='MIUM', name='Midway Islands', numeric='488', withdrawal_date='1986'),\n",
       " Country(alpha_2='NH', alpha_3='NHB', alpha_4='NHVU', name='New Hebrides', numeric='548', withdrawal_date='1980'),\n",
       " Country(alpha_2='NQ', alpha_3='ATN', alpha_4='NQAQ', name='Dronning Maud Land', numeric='216', withdrawal_date='1983'),\n",
       " Country(alpha_2='NT', alpha_3='NTZ', alpha_4='NTHH', comment='formerly between Saudi Arabia and Iraq', name='Neutral Zone', numeric='536', withdrawal_date='1993-07-12'),\n",
       " Country(alpha_2='PC', alpha_3='PCI', alpha_4='PCHH', comment='divided into FM, MH, MP, and PW', name='Pacific Islands (trust territory)', numeric='582', withdrawal_date='1986'),\n",
       " Country(alpha_2='PU', alpha_3='PUS', alpha_4='PUUM', name='US Miscellaneous Pacific Islands', numeric='849', withdrawal_date='1986'),\n",
       " Country(alpha_2='PZ', alpha_3='PCZ', alpha_4='PZPA', name='Panama Canal Zone', withdrawal_date='1980'),\n",
       " Country(alpha_2='RH', alpha_3='RHO', alpha_4='RHZW', name='Southern Rhodesia', numeric='716', withdrawal_date='1980'),\n",
       " Country(alpha_2='SK', alpha_3='SKM', alpha_4='SKIN', name='Sikkim', withdrawal_date='1975'),\n",
       " Country(alpha_2='SU', alpha_3='SUN', alpha_4='SUHH', name='USSR, Union of Soviet Socialist Republics', numeric='810', withdrawal_date='1992-08-30'),\n",
       " Country(alpha_2='TP', alpha_3='TMP', alpha_4='TPTL', comment='was Portuguese Timor', name='East Timor', numeric='626', withdrawal_date='2002-05-20'),\n",
       " Country(alpha_2='VD', alpha_3='VDR', alpha_4='VDVN', name='Viet-Nam, Democratic Republic of', withdrawal_date='1977'),\n",
       " Country(alpha_2='WK', alpha_3='WAK', alpha_4='WKUM', name='Wake Island', numeric='872', withdrawal_date='1986'),\n",
       " Country(alpha_2='YD', alpha_3='YMD', alpha_4='YDYE', name=\"Yemen, Democratic, People's Democratic Republic of\", numeric='720', withdrawal_date='1990-08-14'),\n",
       " Country(alpha_2='YU', alpha_3='YUG', alpha_4='YUCS', name='Yugoslavia, Socialist Federal Republic of', numeric='891', withdrawal_date='1993-07-28'),\n",
       " Country(alpha_2='ZR', alpha_3='ZAR', alpha_4='ZRCD', name='Zaire, Republic of', numeric='180', withdrawal_date='1997-07-14')]"
      ]
     },
     "execution_count": 137,
     "metadata": {},
     "output_type": "execute_result"
    }
   ],
   "source": [
    "list(pycountry.historic_countries)"
   ]
  },
  {
   "attachments": {},
   "cell_type": "markdown",
   "metadata": {},
   "source": [
    "### uszipcode"
   ]
  },
  {
   "cell_type": "code",
   "execution_count": 2,
   "metadata": {},
   "outputs": [
    {
     "name": "stdout",
     "output_type": "stream",
     "text": [
      "None\n"
     ]
    }
   ],
   "source": [
    "from uszipcode import SearchEngine\n",
    "\n",
    "sr = SearchEngine()\n",
    "z = sr.by_zipcode(\"02167\")\n",
    "print(z)"
   ]
  },
  {
   "cell_type": "markdown",
   "metadata": {},
   "source": [
    "### zipcodes"
   ]
  },
  {
   "cell_type": "code",
   "execution_count": 3,
   "metadata": {},
   "outputs": [
    {
     "name": "stdout",
     "output_type": "stream",
     "text": [
      "[]\n"
     ]
    }
   ],
   "source": [
    "import zipcodes\n",
    "\n",
    "exact_zip = zipcodes.matching('02167')\n",
    "print(exact_zip)"
   ]
  },
  {
   "cell_type": "markdown",
   "metadata": {},
   "source": [
    "### us"
   ]
  },
  {
   "cell_type": "code",
   "execution_count": 9,
   "metadata": {},
   "outputs": [
    {
     "name": "stdout",
     "output_type": "stream",
     "text": [
      "Maryland\n"
     ]
    },
    {
     "ename": "TypeError",
     "evalue": "str argument expected",
     "output_type": "error",
     "traceback": [
      "\u001b[0;31m---------------------------------------------------------------------------\u001b[0m",
      "\u001b[0;31mTypeError\u001b[0m                                 Traceback (most recent call last)",
      "\u001b[1;32m/home/shius/doc/github/plant_sci_hist/7_countries/script_7_parse_countries.ipynb Cell 46\u001b[0m in \u001b[0;36m<module>\u001b[0;34m\u001b[0m\n\u001b[1;32m      <a href='vscode-notebook-cell://wsl%2Bubuntu-20.04/home/shius/doc/github/plant_sci_hist/7_countries/script_7_parse_countries.ipynb#X56sdnNjb2RlLXJlbW90ZQ%3D%3D?line=0'>1</a>\u001b[0m \u001b[39mimport\u001b[39;00m \u001b[39mus\u001b[39;00m\n\u001b[1;32m      <a href='vscode-notebook-cell://wsl%2Bubuntu-20.04/home/shius/doc/github/plant_sci_hist/7_countries/script_7_parse_countries.ipynb#X56sdnNjb2RlLXJlbW90ZQ%3D%3D?line=2'>3</a>\u001b[0m \u001b[39mprint\u001b[39m(us\u001b[39m.\u001b[39mstates\u001b[39m.\u001b[39mlookup(\u001b[39m'\u001b[39m\u001b[39m24\u001b[39m\u001b[39m'\u001b[39m))\n\u001b[0;32m----> <a href='vscode-notebook-cell://wsl%2Bubuntu-20.04/home/shius/doc/github/plant_sci_hist/7_countries/script_7_parse_countries.ipynb#X56sdnNjb2RlLXJlbW90ZQ%3D%3D?line=3'>4</a>\u001b[0m \u001b[39mprint\u001b[39m(us\u001b[39m.\u001b[39;49mstates\u001b[39m.\u001b[39;49mlookup(\u001b[39m'\u001b[39;49m\u001b[39mbleh\u001b[39;49m\u001b[39m'\u001b[39;49m))\n",
      "File \u001b[0;32m~/miniconda3/envs/nlp/lib/python3.10/site-packages/us/states.py:86\u001b[0m, in \u001b[0;36mlookup\u001b[0;34m(val, field, use_cache)\u001b[0m\n\u001b[1;32m     84\u001b[0m         field \u001b[39m=\u001b[39m \u001b[39m\"\u001b[39m\u001b[39mabbr\u001b[39m\u001b[39m\"\u001b[39m\n\u001b[1;32m     85\u001b[0m     \u001b[39melse\u001b[39;00m:\n\u001b[0;32m---> 86\u001b[0m         val \u001b[39m=\u001b[39m jellyfish\u001b[39m.\u001b[39;49mmetaphone(val)\n\u001b[1;32m     87\u001b[0m         field \u001b[39m=\u001b[39m \u001b[39m\"\u001b[39m\u001b[39mname_metaphone\u001b[39m\u001b[39m\"\u001b[39m\n\u001b[1;32m     89\u001b[0m \u001b[39m# see if result is in cache\u001b[39;00m\n",
      "\u001b[0;31mTypeError\u001b[0m: str argument expected"
     ]
    }
   ],
   "source": [
    "import us\n",
    "\n",
    "print(us.states.lookup('24'))\n",
    "print(us.states.lookup('bleh'))"
   ]
  },
  {
   "attachments": {},
   "cell_type": "markdown",
   "metadata": {},
   "source": [
    "### geocoder\n",
    "\n",
    "See [this post](https://stackoverflow.com/questions/44208780/find-the-county-for-a-city-state)"
   ]
  },
  {
   "cell_type": "code",
   "execution_count": 13,
   "metadata": {},
   "outputs": [
    {
     "name": "stdout",
     "output_type": "stream",
     "text": [
      "<[REQUEST_DENIED] Google - Geocode [empty]>\n"
     ]
    }
   ],
   "source": [
    "import geocoder\n",
    "\n",
    "results = geocoder.google(\"Chicago\")\n",
    "print(results)"
   ]
  },
  {
   "cell_type": "code",
   "execution_count": null,
   "metadata": {},
   "outputs": [],
   "source": [
    "help(geolocator.geocode)"
   ]
  },
  {
   "attachments": {},
   "cell_type": "markdown",
   "metadata": {},
   "source": [
    "### Nominatim setup\n",
    "\n",
    "#### [mediagis/nominatim-docker](https://github.com/mediagis/nominatim-docker/blob/master/4.2/README.md)\n",
    "\n",
    "Starting out with this, realize that different regions need to be downloaded."
   ]
  },
  {
   "cell_type": "code",
   "execution_count": null,
   "metadata": {},
   "outputs": [],
   "source": [
    "'''bash\n",
    "docker run -it \\\n",
    "  -e PBF_URL=https://download.geofabrik.de/north-america/us/michigan-latest.osm.pbf \\\n",
    "  -p 8080:8080  \\\n",
    "  --name nominatim_na \\\n",
    "  mediagis/nominatim:4.2\n",
    "'''"
   ]
  },
  {
   "attachments": {},
   "cell_type": "markdown",
   "metadata": {},
   "source": [
    "\n",
    "#### [Aximem/nominatim-docker-multiple-regions](https://github.com/Aximem/nominatim-docker-multiple-regions)\n",
    "\n",
    "Not well documented and it did not work for me."
   ]
  },
  {
   "cell_type": "code",
   "execution_count": null,
   "metadata": {},
   "outputs": [],
   "source": [
    "'''bash\n",
    "# In /home/shius/github\n",
    "git clone https://github.com/Aximem/nominatim-docker-multiple-regions.git\n",
    "cd nominatim-docker-multiple-regions/\n",
    "\n",
    "# Build image\n",
    "docker build --pull --rm -t nominatim .\n",
    "\n",
    "# update file: multiple_regions/init_multiple_regions.sh\n",
    "# Issue: Not sure where to find this file.\n",
    "#COUNTRIES=\"africa australia-oceania europe antarctica central-america south-america asia\"\n",
    "\n",
    "# init multiple regions: did not work...\n",
    "docker run -t -v /home/shius/data_nominatim/:/data nominatim sh /app/multiple_regions/init.sh\n",
    "'''"
   ]
  },
  {
   "attachments": {},
   "cell_type": "markdown",
   "metadata": {},
   "source": [
    "#### From city to location\n",
    "\n",
    "See [this post](https://www.tutorialspoint.com/how-to-get-the-longitude-and-latitude-of-a-city-using-python)"
   ]
  },
  {
   "cell_type": "code",
   "execution_count": 118,
   "metadata": {},
   "outputs": [
    {
     "ename": "AttributeError",
     "evalue": "'NoneType' object has no attribute 'latitude'",
     "output_type": "error",
     "traceback": [
      "\u001b[0;31m---------------------------------------------------------------------------\u001b[0m",
      "\u001b[0;31mAttributeError\u001b[0m                            Traceback (most recent call last)",
      "\u001b[1;32m/home/shius/doc/github/plant_sci_hist/7_countries/script_7_1_parse_countries.ipynb Cell 59\u001b[0m in \u001b[0;36m<module>\u001b[0;34m\u001b[0m\n\u001b[1;32m      <a href='vscode-notebook-cell://wsl%2Bubuntu-20.04/home/shius/doc/github/plant_sci_hist/7_countries/script_7_1_parse_countries.ipynb#Y103sdnNjb2RlLXJlbW90ZQ%3D%3D?line=5'>6</a>\u001b[0m \u001b[39m# Get location\u001b[39;00m\n\u001b[1;32m      <a href='vscode-notebook-cell://wsl%2Bubuntu-20.04/home/shius/doc/github/plant_sci_hist/7_countries/script_7_1_parse_countries.ipynb#Y103sdnNjb2RlLXJlbW90ZQ%3D%3D?line=6'>7</a>\u001b[0m location \u001b[39m=\u001b[39m geolocator\u001b[39m.\u001b[39mgeocode(\u001b[39m\"\u001b[39m\u001b[39mAnn Arbor\u001b[39m\u001b[39m\"\u001b[39m)\n\u001b[0;32m----> <a href='vscode-notebook-cell://wsl%2Bubuntu-20.04/home/shius/doc/github/plant_sci_hist/7_countries/script_7_1_parse_countries.ipynb#Y103sdnNjb2RlLXJlbW90ZQ%3D%3D?line=8'>9</a>\u001b[0m \u001b[39mprint\u001b[39m(location\u001b[39m.\u001b[39;49mlatitude, location\u001b[39m.\u001b[39mlongitude)\n",
      "\u001b[0;31mAttributeError\u001b[0m: 'NoneType' object has no attribute 'latitude'"
     ]
    }
   ],
   "source": [
    "from geopy.geocoders import Nominatim\n",
    "\n",
    "# initialize Nominatim API\n",
    "#geolocator = Nominatim(user_agent=\"plant_sci_hist\")\n",
    "geolocator = Nominatim(domain='localhost:8080', scheme='http')\n",
    "# Get location\n",
    "location = geolocator.geocode(\"Ann Arbor\")\n",
    "\n",
    "print(location.latitude, location.longitude)"
   ]
  },
  {
   "cell_type": "markdown",
   "metadata": {},
   "source": [
    "\n",
    "#### From location to country\n",
    "- In the same post, codes directly copied. But that give a `ConfigurationError`.\n",
    "- Use [this](https://www.geeksforgeeks.org/get-the-city-state-and-country-names-from-latitude-and-longitude-using-python/) instead."
   ]
  },
  {
   "cell_type": "code",
   "execution_count": 111,
   "metadata": {},
   "outputs": [
    {
     "name": "stdout",
     "output_type": "stream",
     "text": [
      "1107, Olivia Avenue, North Burns Park, Ann Arbor, Washtenaw County, Michigan, 48104, United States\n"
     ]
    }
   ],
   "source": [
    "loc_rev = geolocator.reverse(f'{location.latitude},{location.longitude}')\n",
    " \n",
    "# Display\n",
    "print(loc_rev)"
   ]
  },
  {
   "attachments": {},
   "cell_type": "markdown",
   "metadata": {},
   "source": [
    "#### Man, this works for many other things\n",
    "\n",
    "Retrieve in English based on [this post](https://stackoverflow.com/questions/29360910/geopy-retrieving-country-names-in-english)"
   ]
  },
  {
   "cell_type": "code",
   "execution_count": 112,
   "metadata": {},
   "outputs": [
    {
     "name": "stdout",
     "output_type": "stream",
     "text": [
      "Dusseldorf, North Rhine-Westphalia, Germany\n",
      "Netherlands\n",
      "Academia Sinica, 128, Academia Road Section 2, Zhongyan Village, Nangang District, Jiuzhuang, Taipei, 11529, Taiwan\n",
      "Michigan, United States\n",
      "Ingham County, Michigan, United States\n",
      "East Lansing, Ingham County, Michigan, 48823, United States\n",
      "East Lansing, Ingham County, Michigan, 48823, United States\n",
      "East Lansing, Ingham County, Michigan, 48823, United States\n",
      "East Lansing, Ingham County, Michigan, United States\n",
      "Kunming, Yunnan, China\n"
     ]
    }
   ],
   "source": [
    "print(geolocator.geocode(\"Dusseldorf\", language='en'))\n",
    "print(geolocator.geocode(\"the Netherlands\", language='en'))\n",
    "print(geolocator.geocode(\"Academia Sinica\", language='en'))\n",
    "print(geolocator.geocode(\"Michigan\"))\n",
    "print(geolocator.geocode(\"Ingham\"))\n",
    "print(geolocator.geocode(\"Michigan 48823\"))\n",
    "print(geolocator.geocode(\"MI 48823\"))\n",
    "print(geolocator.geocode(\"48823\"))\n",
    "print(geolocator.geocode(\"East Lansing 48823\"))\n",
    "print(geolocator.geocode(\"Kunming\", language='en'))"
   ]
  },
  {
   "cell_type": "code",
   "execution_count": 113,
   "metadata": {},
   "outputs": [
    {
     "name": "stdout",
     "output_type": "stream",
     "text": [
      "Yugoslavia, Reynold García (Pastorita), Peñas Altas, Ciudad de Matanzas, Matanzas, Cuba\n"
     ]
    }
   ],
   "source": [
    "# This one is wrong\n",
    "print(geolocator.geocode(\"Yugoslavia\", language='en'))"
   ]
  },
  {
   "cell_type": "code",
   "execution_count": 114,
   "metadata": {},
   "outputs": [
    {
     "name": "stdout",
     "output_type": "stream",
     "text": [
      "United States\n",
      "South Korea\n",
      "Praça China, Santana de Parnaíba, Região Imediata de São Paulo, Região Metropolitana de São Paulo, Região Geográfica Intermediária de São Paulo, São Paulo, Southeast Region, Brazil\n"
     ]
    }
   ],
   "source": [
    "# This return none\n",
    "print(geolocator.geocode(\"MI USA\", language='en'))\n",
    "print(geolocator.geocode(\"Republic of Korea\", language='en'))\n",
    "print(geolocator.geocode(\"PR China\", language='en'))"
   ]
  },
  {
   "cell_type": "markdown",
   "metadata": {},
   "source": [
    "### nominatim local access"
   ]
  },
  {
   "cell_type": "code",
   "execution_count": 29,
   "metadata": {},
   "outputs": [
    {
     "data": {
      "text/plain": [
       "Location(Avenue Pasteur, Fontvieille, Monaco, 98020, Monaco, (43.7308551, 7.4149204, 0.0))"
      ]
     },
     "execution_count": 29,
     "metadata": {},
     "output_type": "execute_result"
    }
   ],
   "source": [
    "geolocator = Nominatim(domain='localhost:8080', scheme='http')\n",
    "location = geolocator.geocode('avenue pasteur')\n",
    "location"
   ]
  },
  {
   "cell_type": "markdown",
   "metadata": {},
   "source": [
    "### Checking medline parse"
   ]
  },
  {
   "cell_type": "code",
   "execution_count": 101,
   "metadata": {},
   "outputs": [],
   "source": [
    "test_file = work_dir / 'corpus_plant_421658_medline_100000.pickle'\n",
    "\n",
    "with open(test_file, 'rb') as f:\n",
    "    test_medline = pickle.load(f)"
   ]
  },
  {
   "cell_type": "code",
   "execution_count": 102,
   "metadata": {},
   "outputs": [
    {
     "name": "stdout",
     "output_type": "stream",
     "text": [
      "---\n",
      "PMID: 16465904\n",
      "Country: CHN\n",
      "AD  : ['The Key Laboratory of Industrial Biotechnology, Ministry of Education, Southern Yangtze University, Wuxi 214036, China.']\n",
      "---\n",
      "PMID: 16465985\n",
      "Country: CMR\n",
      "AD  : ['University of Ngaoundere, Ngaoundere, Cameroon.']\n",
      "---\n",
      "PMID: 16466344\n",
      "Country: FRA\n",
      "AD  : ['Laboratoire de Physiologie Cellulaire Vegetale, UMR5168 CNRS-CEA-INRA-Universite Joseph Fourier Grenoble I, Departement Reponse et Dynamique Cellulaires, CEA-Grenoble, 17 rue des Martyrs, F-38054 Grenoble Cedex 9, France.']\n",
      "---\n",
      "PMID: 16466375\n",
      "Country: USA\n",
      "AD  : ['Department of Plant Pathology, Washington State University, Pullman, WA 99164-6430, USA.']\n",
      "---\n",
      "PMID: 16466376\n",
      "Country: CHE\n",
      "AD  : ['Phytopathology Group, Institute of Plant Sciences, Swiss Federal Institute of Technology (ETH), Zurich, Switzerland.']\n",
      "---\n",
      "PMID: 16466377\n",
      "Country: SWE\n",
      "AD  : ['Department of Botany, Stockholm University, Stockholm, Sweden.']\n"
     ]
    }
   ],
   "source": [
    "# Check those with country_info records with non NA country code\n",
    "c = 0\n",
    "for rec in test_medline:\n",
    "    pmid = rec['PMID']\n",
    "    if pmid in country_info and country_info[pmid][2] != 'NA':\n",
    "        print(\"---\\nPMID:\", pmid)\n",
    "        print(\"Country:\", country_info[pmid][2])\n",
    "        print(\"AD  :\", rec['AD'])\n",
    "\n",
    "        if c == 5:\n",
    "            break\n",
    "        c += 1"
   ]
  },
  {
   "cell_type": "code",
   "execution_count": 103,
   "metadata": {},
   "outputs": [
    {
     "name": "stdout",
     "output_type": "stream",
     "text": [
      "---\n",
      "PMID: 16465888\n",
      "AD  : ['Xishuangbanna Tropical Botanical Garden, Chinese Academy of Sciences, Kunming 650223, China. djx@xtbg.ac.cn']\n",
      "loc : [['Dou JX', 'Zhang YP', 'Feng ZW', 'Liu WJ'], ['Xishuangbanna Tropical Botanical Garden, Chinese Academy of Sciences, Kunming 650223, China. djx@xtbg.ac.cn'], 'Kunming 650223']\n",
      "---\n",
      "PMID: 16465991\n",
      "AD  : ['State Key Laboratory for Agricultural Biotechnology, College of Biology, China Agricultural University, Beijing, PR China.']\n",
      "loc : [['Yu J', 'Peng P', 'Zhang X', 'Zhao Q', 'Zhu D', 'Sun X', 'Liu J', 'Ao G'], ['State Key Laboratory for Agricultural Biotechnology, College of Biology, China Agricultural University, Beijing, PR China.'], 'PR China']\n",
      "---\n",
      "PMID: 16466532\n",
      "AD  : ['Danish Institute of Agricultural Sciences, Research Centre Foulum, Tjele, Denmark. martint.soresen@agrsci.dk']\n",
      "loc : [['Sorensen MT', 'Danielsen V'], ['Danish Institute of Agricultural Sciences, Research Centre Foulum, Tjele, Denmark. martint.soresen@agrsci.dk'], 'Tjele']\n",
      "---\n",
      "PMID: 16466639\n",
      "AD  : ['National Agricultural Research Center for Western Region, 6-12-1 Nishifukatsu, Fukuyama, Hiroshima, 721-8514, Japan. helshemy@hotmail.com']\n",
      "loc : [['El-Shemy HA', 'Khalafalla MM', 'Fujita K', 'Ishimoto M'], ['National Agricultural Research Center for Western Region, 6-12-1 Nishifukatsu, Fukuyama, Hiroshima, 721-8514, Japan. helshemy@hotmail.com'], '721-8514']\n",
      "---\n",
      "PMID: 16466912\n",
      "AD  : ['State Key Laboratory of Genetic Engineering, Institute of Genetics, School of Life Science, Fudan University, Shanghai 200433, PR China.']\n",
      "loc : [['Xu J', 'Miao H', 'Wu H', 'Huang W', 'Tang R', 'Qiu M', 'Wen J', 'Zhu S', 'Li Y'], ['State Key Laboratory of Genetic Engineering, Institute of Genetics, School of Life Science, Fudan University, Shanghai 200433, PR China.'], 'PR China']\n",
      "---\n",
      "PMID: 16467351\n",
      "AD  : ['Institute of Plant Sciences and Genetics in Agriculture, Faculty of Agricultural, Food and Environmental Quality Sciences, Hebrew University of Jerusalem, Rehovot, PO Box 12, 76100 Israel. ofir@agri.huji.ac.il']\n",
      "loc : [['Ofir M', 'Kigel J'], ['Institute of Plant Sciences and Genetics in Agriculture, Faculty of Agricultural, Food and Environmental Quality Sciences, Hebrew University of Jerusalem, Rehovot, PO Box 12, 76100 Israel. ofir@agri.huji.ac.il'], 'PO Box 12']\n"
     ]
    }
   ],
   "source": [
    "# Check those without country_info records\n",
    "c = 0\n",
    "for rec in test_medline:\n",
    "    pmid = rec['PMID']\n",
    "    if pmid not in country_info:\n",
    "        print(\"---\\nPMID:\", pmid)\n",
    "        if 'AD' in rec:\n",
    "          print(\"AD  :\", rec['AD'])\n",
    "          print(\"loc :\", not_found2[pmid])\n",
    "        if c == 5:\n",
    "            break\n",
    "        c += 1"
   ]
  },
  {
   "attachments": {},
   "cell_type": "markdown",
   "metadata": {},
   "source": [
    "### Note on local Nominatim install\n",
    "\n",
    "Using the Docker version I could just specify the different continent in different runs. But that is very clunky. So I am going to try install locally. Um... just too many dependent packages... Not doing this for now, stop at ICU install.\n",
    "\n",
    "Following the [instruction](https://nominatim.org/release-docs/latest/admin/Installation/).\n",
    "\n",
    "#### Install dependency\n",
    "\n",
    "- cmake: `sudo apt install cmake`\n",
    "- [expat](https://github.com/libexpat/libexpat/releases): configure, make, make install\n",
    "- [proj](https://proj.org/):  `conda install -c conda-forge proj`\n",
    "- [bzip2](https://sourceforge.net/projects/bzip2/): already in Ubuntu\n",
    "- [Zlib](https://www.zlib.net/): [instruction](https://geeksww.com/tutorials/libraries/zlib/installation/installing_zlib_on_ubuntu_linux.php)\n",
    "- [ICU](https://icu.unicode.org/):  \n",
    "\n",
    "#### PostgreSQL\n",
    "\n",
    "##### Install\n",
    "\n",
    "```bash\n",
    "# Create the file repository configuration:\n",
    "sudo sh -c 'echo \"deb http://apt.postgresql.org/pub/repos/apt $(lsb_release -cs)-pgdg main\" > /etc/apt/sources.list.d/pgdg.list'\n",
    "\n",
    "# Import the repository signing key:\n",
    "wget --quiet -O - https://www.postgresql.org/media/keys/ACCC4CF8.asc | sudo apt-key add -\n",
    "\n",
    "# Update the package lists:\n",
    "sudo apt-get update\n",
    "\n",
    "# Install the latest version of PostgreSQL.\n",
    "# If you want a specific version, use 'postgresql-12' or similar instead of 'postgresql':\n",
    "sudo apt-get -y install postgresql\n",
    "```\n",
    "\n",
    "##### Tuning\n",
    "\n",
    "```bash\n",
    "vim /etc/postgresql/15/main//postgresql.conf\n",
    "```\n",
    "\n",
    "\n"
   ]
  },
  {
   "cell_type": "code",
   "execution_count": null,
   "metadata": {},
   "outputs": [],
   "source": []
  }
 ],
 "metadata": {
  "kernelspec": {
   "display_name": "nlp",
   "language": "python",
   "name": "python3"
  },
  "language_info": {
   "codemirror_mode": {
    "name": "ipython",
    "version": 3
   },
   "file_extension": ".py",
   "mimetype": "text/x-python",
   "name": "python",
   "nbconvert_exporter": "python",
   "pygments_lexer": "ipython3",
   "version": "3.10.2"
  },
  "orig_nbformat": 4,
  "vscode": {
   "interpreter": {
    "hash": "e9f976de49e978787b392bf076cac9dcd649ffc2d080fbba5564554c12476cc0"
   }
  }
 },
 "nbformat": 4,
 "nbformat_minor": 2
}
