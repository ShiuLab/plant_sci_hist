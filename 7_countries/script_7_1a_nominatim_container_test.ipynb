{
 "cells": [
  {
   "attachments": {},
   "cell_type": "markdown",
   "metadata": {},
   "source": [
    "# __Step 7.1a: Testing nominatim container__"
   ]
  },
  {
   "attachments": {},
   "cell_type": "markdown",
   "metadata": {},
   "source": [
    "## ___Note___\n",
    "\n",
    "This has been a hell of a ride for three weeks. The main obstacles are:\n",
    "- Familiarity with docker\n",
    "- Familiarity with nominatim server, particularly on how to get it up and running with very large osm.pbf files.\n",
    "- Familiarity with nominatim docker, particularly on how export/import containers, setup persistent container (so the database is mounted), export/important a persistent database.\n",
    "\n",
    "What I did wrong:\n",
    "- When I run the container, I did not use the persistent container option. \n",
    "- I have imported the exported volume wrongly.\n",
    "- Chased down the wrong directions (thought it did not work because of docker, nominatim, database, permission or their combinations) - but turned out it is simply that I import the volume wrong with the wrong directory structure."
   ]
  },
  {
   "attachments": {},
   "cell_type": "markdown",
   "metadata": {},
   "source": [
    "### Nominatim query and installation\n",
    "\n",
    "- [This tutorial](https://www.linkedin.com/pulse/geocoding-geopy-your-own-nominatim-server-chonghua-yin?trk=related_artice_Geocoding%20with%20GeoPy%20and%20Your%20Own%20Nominatim%20Server_article-card_title).\n",
    "- Installation: quite challenging, did not finish. Use [Docker image](https://github.com/mediagis/nominatim-docker/blob/master/4.2/README.md) instead.\n",
    "- Query through the Nominatim service resulted in time out. So use a docker version\n",
    "  - Intial docker run: found out that only Monaco was included. "
   ]
  },
  {
   "cell_type": "markdown",
   "metadata": {},
   "source": [
    "### Nomanatim docker"
   ]
  },
  {
   "attachments": {},
   "cell_type": "markdown",
   "metadata": {},
   "source": [
    "- Look for ways to load the whole world.\n",
    "  - Found and downloaded `planet-230213.osm.pbf` from [OpenStreeMap](https://planet.openstreetmap.org/).\n",
    "  - [Not needed] Figure out [how to transfer files between local host and container](https://www.edureka.co/community/10534/copying-files-from-host-to-docker-container) and move all pbf files into docker container and commit the image with files.\n",
    "  - Found out docker bind mount option (-v) so local file system can be mounted for use in the container.\n",
    "  - Run out of memory\n",
    "- Do each continent instead\n",
    "  - Europe (26.4G):\n",
    "    - It ends with error.\n",
    "    - Try merge multiple smaller files instead with `osmium`, see [this post](https://gis.stackexchange.com/questions/242704/merging-osm-pbf-files) on install and merging osm.pbf files.\n",
    "  - North America (12.2G): \n",
    "    - osm2pgsql took 8240s (2h 17m 20s) overall\n",
    "- Alternative docker installation for WSL:\n",
    "  - See [WSL doc](https://learn.microsoft.com/en-us/windows/wsl/tutorials/wsl-containers)"
   ]
  },
  {
   "cell_type": "markdown",
   "metadata": {},
   "source": [
    "### Back/restore/migrate notes"
   ]
  },
  {
   "cell_type": "markdown",
   "metadata": {},
   "source": [
    "Some info gathered:\n",
    "- [Back up/restore/migrate data volume](https://docs.docker.com/storage/volumes/#back-up-restore-or-migrate-data-volumes): not useful... initially, but it is helpful.\n",
    "- [How to copy docker volume from one machine to another?](https://stackoverflow.com/questions/42973347/how-to-copy-docker-volume-from-one-machine-to-another): Not what I want. turn out this is helpful.\n",
    "- [Look at the 1st answer, 3rd solution](https://stackoverflow.com/questions/45714456/how-to-migrate-docker-volume-between-hosts)\n",
    "  - The copy volume to local storage bit works.\n",
    "  - But the import part does not.\n",
    "- [Docker create volume](https://docs.docker.com/engine/reference/commandline/volume_create/)\n",
    "  - And look into this that does [volume mounting](https://stackoverflow.com/questions/49950326/how-to-create-docker-volume-device-host-path)\n",
    "- Ok, [this video](https://duckduckgo.com/?q=docker+import+local+file+as+a+volume&t=newext&atb=v314-1&iax=videos&ia=videos&iai=https%3A%2F%2Fwww.youtube.com%2Fwatch%3Fv%3DZEy8iFbgbPA) is extremely helpful. Circle back to the 1st option. See his [boilerplates](https://github.com/christianlempa/boilerplates)\n",
    "  - [This post](https://stackoverflow.com/questions/38298645/how-should-i-backup-restore-docker-named-volumes) has good explanations. But this is outdated.\n",
    "\n",
    "Ok, what happened here is that:\n",
    "- The export/backup bit works file. The tar archive is created without problem, although there are some minor differences in the files. Not sure where they come from.\n",
    "- Importing has been the major problem. The main issue is that I did not check the file structure after import after using some of the example command lines. This created all kinds of issues.\n",
    "  - I have been chasing down the rabbit hole thinking it is a problem with Nominatim startup script, docker container used (original, saved, or imported), the differences in files.\n",
    "  - But after I figure out how to look into docker volumes in `/var/lib/docker/volumes/` and compare them with `diff -qr`, I found that the imported folder is compeletely wrong.\n",
    "- Works now.\n"
   ]
  },
  {
   "cell_type": "code",
   "execution_count": null,
   "metadata": {},
   "outputs": [
    {
     "data": {
      "text/plain": [
       "'bash\\nsudo groupadd docker\\nsudo usermod -aG docker shius\\nsu -s shius\\ndocker run hello-world # testing\\ndocker run -it   -e PBF_URL=https://download.geofabrik.de/europe/monaco-latest.osm.pbf   -e REPLICATION_URL=https://download.geofabrik.de/europe/monaco-updates/   -p 8080:8080   --name nominatim   mediagis/nominatim:4.2\\n'"
      ]
     },
     "metadata": {},
     "output_type": "display_data"
    }
   ],
   "source": [
    "# Install and start docker daemon:\n",
    "'''bash\n",
    "sudo apt-get remove docker docker-engine docker.io containerd runc\n",
    "\n",
    "sudo apt-get update\n",
    "sudo apt-get upgrade\n",
    "sudo apt install docker.io\n",
    "sudo dockerd\n",
    "'''\n",
    "\n",
    "# Test Nominatim docker image:\n",
    "'''bash\n",
    "sudo groupadd docker\n",
    "sudo usermod -aG docker shius\n",
    "#su -s shius # <---- Run into error with this line\n",
    "docker run hello-world # testing\n",
    "docker run -it \\\n",
    "  -e PBF_URL=https://download.geofabrik.de/europe/monaco-latest.osm.pbf \\\n",
    "  -e REPLICATION_URL=https://download.geofabrik.de/europe/monaco-updates/ \\\n",
    "  -p 8080:8080 \\\n",
    "  --name nominatim \\\n",
    "  mediagis/nominatim:4.2\n",
    "'''\n",
    "\n",
    "# Testing, in browser:\n",
    "#-http://localhost:8080/search.php?q=avenue%20pasteur"
   ]
  },
  {
   "attachments": {},
   "cell_type": "markdown",
   "metadata": {},
   "source": [
    "## ___Approach going forward___"
   ]
  },
  {
   "attachments": {},
   "cell_type": "markdown",
   "metadata": {},
   "source": [
    "### Initial server run\n",
    "\n",
    "- Use the FREEZE parameter\n",
    "  - See [this](https://nominatim.org/release-docs/latest/admin/Advanced-Installations/): database looses the ability to receive further data updates but the resulting database is only about a third of the size of a full database\n",
    "- Set up local bind mount to /nominatim/data\n",
    "- Set up volumne data_andorra"
   ]
  },
  {
   "cell_type": "code",
   "execution_count": null,
   "metadata": {},
   "outputs": [],
   "source": [
    "docker run -it \\\n",
    "  -e PBF_PATH=/nominatim/data/andorra-latest.osm.pbf \\\n",
    "  -e FREEZE=true \\\n",
    "  -p 8080:8080 \\\n",
    "  -v data_andorra:/var/lib/postgresql/14/main \\\n",
    "  -v /home/shinhan/projects/plant_sci_hist/7_countries/testing:/nominatim/data \\\n",
    "  --name nominatim_andorra \\\n",
    "  mediagis/nominatim:4.2\n",
    "\n",
    "docker volume ls\n",
    "docker volume inspect data_andorra\n",
    "\n",
    "# Committ/save/export container\n",
    "docker commit nominatim_andorra nominatim_andorra-commit:latest\n",
    "docker save nominatim_andorra-commit > nominatim_andorra-save.tar\n",
    "\n",
    "#https://www.techrepublic.com/article/how-to-exportimport-containers-with-docker/\n",
    "docker export nominatim_andorra > nominatim_andorra-export.tar"
   ]
  },
  {
   "attachments": {},
   "cell_type": "markdown",
   "metadata": {},
   "source": [
    "### Exporting volume with a temp container"
   ]
  },
  {
   "cell_type": "code",
   "execution_count": null,
   "metadata": {},
   "outputs": [],
   "source": [
    "# Nominatim example\n",
    "docker run --rm \\\n",
    "  --volumes-from nominatim_andorra \\\n",
    "  -v $PWD:/backup \\\n",
    "  busybox tar cvf /backup/backup-andorra.tar /var/lib/postgresql/14/main\n",
    "\n",
    "# stop nominatim run\n",
    "docker rm -f nominatim_andorra"
   ]
  },
  {
   "attachments": {},
   "cell_type": "markdown",
   "metadata": {},
   "source": [
    "### Import archived volume\n",
    "\n",
    "- Create a container (`nomi_restore`) with the postgresql data directory bound to it\n",
    "- Import archived volume using `nomi_restore`\n",
    "- Create an empty volume `data_andorra_restore`\n",
    "- Move files from the volume created with `nomi_restore` (because it has a long ass name).\n",
    "- Remove the original volume."
   ]
  },
  {
   "cell_type": "code",
   "execution_count": null,
   "metadata": {},
   "outputs": [],
   "source": [
    "# For nominatim\n",
    "# temp container: nomi_restore\n",
    "docker run -v /var/lib/postgresql/14/main --name nomi_restore ubuntu /bin/bash\n",
    "\n",
    "docker run --rm \\\n",
    "  --volumes-from nomi_restore \\\n",
    "  -v $PWD:/backup \\\n",
    "  bash -c \"tar xvf /backup/backup-andorra.tar\"\n",
    "\n",
    "docker volume ls\n",
    "docker volume create --name data_andorra_restore\n",
    "\n",
    "docker run --rm -it \\\n",
    "  -v 3ae370e6338ab458bcbed92081d60cb332a65128dfd78397ae9db0be786cfd46:/from \\\n",
    "  -v data_andorra_restore:/to \\\n",
    "  bash -c \"cd /from ; cp -av . /to\"\n",
    "\n",
    "docker ps -a  # Check if there is container using the old volume\n",
    "docker rm -f 33fa297caa91\n",
    "docker volume rm 9333011fc3975fe5ce824f9011bf4e3820b28eb7c83541badbdeb15781511277"
   ]
  },
  {
   "attachments": {},
   "cell_type": "markdown",
   "metadata": {},
   "source": [
    "### Start nominatim using the imported volume\n",
    "\n",
    "- Use the Equatorial Guinea data to run nominatim\n",
    "- Use the original nominatim container\n",
    "  - Did not test if the saved image, exported container work or not\n",
    "- Tested with:\n",
    "  - Shoud not work: http://localhost:8080/search.php?q=Malabo\n",
    "    - Even though the PBF_PATH point to a Eq Gui file and Malabo is the capital for the country, it should not return result becuase Andorra database is used.\n",
    "  - Shoud work: http://localhost:8080/search.php?q=aNDORRA\n",
    "    - Ok..."
   ]
  },
  {
   "cell_type": "code",
   "execution_count": null,
   "metadata": {},
   "outputs": [],
   "source": [
    "docker run -it \\\n",
    "  -e PBF_PATH=/nominatim/data/equatorial-guinea-latest.osm.pbf \\\n",
    "  -p 8080:8080 \\\n",
    "  -v data_andorra_restore:/var/lib/postgresql/14/main \\\n",
    "  -v /home/shinhan/projects/plant_sci_hist/7_countries/testing:/nominatim/data \\\n",
    "  --name nominatim_andorra2 \\\n",
    "  mediagis/nominatim:4.2\n",
    "\n",
    "docker rm nominatim_andorra2"
   ]
  },
  {
   "attachments": {},
   "cell_type": "markdown",
   "metadata": {},
   "source": [
    "## ___Testing: Initial nominatim setup___"
   ]
  },
  {
   "cell_type": "markdown",
   "metadata": {},
   "source": [
    "#### [mediagis/nominatim-docker](https://github.com/mediagis/nominatim-docker/blob/master/4.2/README.md)\n",
    "\n",
    "Starting out with this, realize that different regions need to be downloaded."
   ]
  },
  {
   "cell_type": "code",
   "execution_count": null,
   "metadata": {},
   "outputs": [],
   "source": [
    "'''\n",
    "TESTING\n",
    "---\n",
    "# Start Nominatim container in another terminal\n",
    "docker run -it \\\n",
    "  -e PBF_URL=https://download.geofabrik.de/europe/monaco-latest.osm.pbf \\\n",
    "  -e REPLICATION_URL=https://download.geofabrik.de/europe/monaco-updates/ \\\n",
    "  -p 8080:8080 \\\n",
    "  --name nominatim \\\n",
    "  mediagis/nominatim:4.2\n",
    "\n",
    "# Find container id in another terminal, for this instance: cce4a525a8e2\n",
    "docker ps\n",
    "\n",
    "# Open another terminal and copy planet osm psf file into container\n",
    "# Actually, this is not necessary, because I can use bind mounts (docker run -v)\n",
    "#docker cp ~/data_nominatim/planet-230213.osm.pbf cce4a525a8e2:/nominatim/\n",
    "\n",
    "# Start bash shell for the container and check if the file is there\n",
    "docker exec -it cce4a525a8e2 bash\n",
    "ls /nominatim/ # <--- confirmed\n",
    "\n",
    "# Commit the container\n",
    "docker commit -m \"With planet data\" -a \"Shinhan Shiu\" cce4a525a8e2 shius/nominatim_planet\n",
    "docker images\n",
    "\n",
    "# Save image\n",
    "docker save shius/nominatim_planet > nominatim_planet.tar\n",
    "\n",
    "# Stop and remove docker container\n",
    "docker stop cce4a525a8e2\n",
    "docker rm cce4a525a8e2\n",
    "\n",
    "# Run this again to test local .pbf\n",
    "docker run -it \\\n",
    "  -e PBF_PATH=/nominatim/data/monaco-latest.osm.pbf \\\n",
    "  -p 8080:8080  \\\n",
    "  -v /osm-maps/data:/nominatim/data \\\n",
    "  --name nominatim \\\n",
    "  mediagis/nominatim:4.2\n",
    "\n",
    "docker run -it \\\n",
    "  -e PBF_PATH=/nominatim/planet-230213.osm.pbf \\\n",
    "  -p 8080:8080  \\\n",
    "  -v /osm-maps/data:/nominatim/ \\\n",
    "  --name nominatim_planet \\\n",
    "  shius/nominatim_planet\n",
    "'''"
   ]
  },
  {
   "cell_type": "code",
   "execution_count": null,
   "metadata": {},
   "outputs": [],
   "source": [
    "# Try michigan\n",
    "'''bash\n",
    "docker run -it \\\n",
    "  -e PBF_URL=https://download.geofabrik.de/north-america/us/michigan-latest.osm.pbf \\\n",
    "  -p 8080:8080  \\\n",
    "  --name nominatim_mi \\\n",
    "  mediagis/nominatim:4.2\n",
    "'''"
   ]
  },
  {
   "cell_type": "markdown",
   "metadata": {},
   "source": [
    "\n",
    "#### [Aximem/nominatim-docker-multiple-regions](https://github.com/Aximem/nominatim-docker-multiple-regions)\n",
    "\n",
    "Not well documented and it did not work for me."
   ]
  },
  {
   "cell_type": "code",
   "execution_count": null,
   "metadata": {},
   "outputs": [],
   "source": [
    "'''bash\n",
    "# In /home/shius/github\n",
    "git clone https://github.com/Aximem/nominatim-docker-multiple-regions.git\n",
    "cd nominatim-docker-multiple-regions/\n",
    "\n",
    "# Build image\n",
    "docker build --pull --rm -t nominatim .\n",
    "\n",
    "# update file: multiple_regions/init_multiple_regions.sh\n",
    "# Issue: Not sure where to find this file.\n",
    "#COUNTRIES=\"africa australia-oceania europe antarctica central-america south-america asia\"\n",
    "\n",
    "# init multiple regions: did not work...\n",
    "docker run -t -v /home/shius/data_nominatim/:/data nominatim sh /app/multiple_regions/init.sh\n",
    "'''"
   ]
  },
  {
   "attachments": {},
   "cell_type": "markdown",
   "metadata": {},
   "source": [
    "## ___Testing: local Nominatim install___\n",
    "\n",
    "Using the Docker version I could just specify the different continent in different runs. But that is very clunky. So I am going to try install locally. Um... just too many dependent packages... Not doing this for now, stop at ICU install.\n",
    "\n",
    "Following the [instruction](https://nominatim.org/release-docs/latest/admin/Installation/). More specifically, [for Ubuntu 20.04](https://nominatim.org/release-docs/latest/appendix/Install-on-Ubuntu-20/)"
   ]
  },
  {
   "cell_type": "markdown",
   "metadata": {},
   "source": [
    "\n",
    "### Installing the Required Software\n",
    "\n"
   ]
  },
  {
   "cell_type": "code",
   "execution_count": null,
   "metadata": {},
   "outputs": [],
   "source": [
    "'''\n",
    "sudo apt update -qq\n",
    "sudo apt install -y php-cgi\n",
    "sudo apt install -y build-essential cmake g++ libboost-dev libboost-system-dev \\\n",
    "                    libboost-filesystem-dev libexpat1-dev zlib1g-dev \\\n",
    "                    libbz2-dev libpq-dev liblua5.3-dev lua5.3 \\\n",
    "                    postgresql-12-postgis-3 \\\n",
    "                    postgresql-contrib-12 postgresql-12-postgis-3-scripts \\\n",
    "                    php-cli php-pgsql php-intl libicu-dev python3-dotenv \\\n",
    "                    python3-psycopg2 python3-psutil python3-jinja2 \\\n",
    "                    python3-icu python3-datrie python3-yaml\n",
    "'''"
   ]
  },
  {
   "cell_type": "markdown",
   "metadata": {},
   "source": [
    "### System Configuration"
   ]
  },
  {
   "cell_type": "markdown",
   "metadata": {},
   "source": [
    "#### Creating Dedicated User Accounts"
   ]
  },
  {
   "cell_type": "code",
   "execution_count": null,
   "metadata": {},
   "outputs": [],
   "source": [
    "'''\n",
    "# Nominatim will run as a global service on your machine. It is therefore best \n",
    "# to install it under its own separate user account\n",
    "sudo useradd -d /srv/nominatim -s /bin/bash -m nominatim\n",
    "\n",
    "# export user name and home directory \n",
    "export USERNAME=nominatim\n",
    "export USERHOME=/srv/nominatim\n",
    "\n",
    "# Make sure that system servers can read from the home directory\n",
    "# NOTE: add sudo otherwide `Operation not permitted`, SHOULD NOT DO THIS...\n",
    "sudo chmod a+x $USERHOME\n",
    "'''"
   ]
  },
  {
   "attachments": {},
   "cell_type": "markdown",
   "metadata": {},
   "source": [
    "#### Setting up PostgreSQL\n",
    "\n",
    "[Tuning the PostgreSQL database for nominatim](https://nominatim.org/release-docs/latest/admin/Installation/#tuning-the-postgresql-database)\n",
    "- Use recommended values except for:\n",
    "  - maintenance_work_mem = 5GB instead of 10GB\n",
    "\n",
    "```\n",
    "shared_buffers = 2GB\n",
    "maintenance_work_mem = (10GB)\n",
    "autovacuum_work_mem = 2GB\n",
    "work_mem = (50MB)\n",
    "effective_cache_size = (24GB)\n",
    "synchronous_commit = off\n",
    "max_wal_size = 1GB\n",
    "checkpoint_timeout = 10min\n",
    "checkpoint_completion_target = 0.9\n",
    "autovacuum_max_workers = 1\n",
    "fsync = off\n",
    "full_page_writes = off\n",
    "```\n",
    "\n",
    "- Don't forget to re-enable them after the initial import:\n",
    "```\n",
    "fsync = on\n",
    "full_page_writes = on\n",
    "```"
   ]
  },
  {
   "cell_type": "code",
   "execution_count": null,
   "metadata": {},
   "outputs": [],
   "source": [
    "'''\n",
    "sudo vim /etc/postgresql/12/main/postgresql.conf\n",
    "'''"
   ]
  },
  {
   "cell_type": "code",
   "execution_count": null,
   "metadata": {},
   "outputs": [],
   "source": [
    "'''\n",
    "# restart the postgresql service after updating this config file\n",
    "sudo systemctl restart postgresql\n",
    "\n",
    "# Get `System has not been booted with systemd as init system...`\n",
    "# see: https://stackoverflow.com/questions/70332810/postgresql-problem-system-has-not-been-booted-with-systemd-as-init-system-pid\n",
    "\n",
    "sudo service postgresql status\n",
    "sudo service postgresql start\n",
    "\n",
    "# Add two postgres users\n",
    "# 1. user that does the import\n",
    "# 2. another for the webserver\n",
    "sudo -u postgres createuser -s $USERNAME\n",
    "sudo -u postgres createuser www-data\n",
    "'''"
   ]
  },
  {
   "cell_type": "markdown",
   "metadata": {},
   "source": [
    "### Installing Nominatim"
   ]
  },
  {
   "cell_type": "markdown",
   "metadata": {},
   "source": [
    "#### Building and Configuration"
   ]
  },
  {
   "cell_type": "code",
   "execution_count": null,
   "metadata": {},
   "outputs": [],
   "source": [
    "'''\n",
    "cd $USERHOME\n",
    "wget https://nominatim.org/release/Nominatim-4.2.1.tar.bz2\n",
    "tar xf Nominatim-4.2.1.tar.bz2\n",
    "'''"
   ]
  },
  {
   "attachments": {},
   "cell_type": "markdown",
   "metadata": {},
   "source": [
    "## ___Testing: first try on export___"
   ]
  },
  {
   "attachments": {},
   "cell_type": "markdown",
   "metadata": {},
   "source": [
    "### Try to get nominatim running after exporting\n",
    "\n",
    "On 3/14/23, found issues with the nominatin runs where some address should be US but was pointed to China. Found this for records with \"New Heaven\" but the State name and postal code should be used before that anyway, so not sure what's going on. Beacuse of this, I need to rerun North America nominatim. I generated an export of container after the database was built but run into issues about getting it to run again. Here are the things I have tried:\n",
    "\n",
    "- Import container\n",
    "  - `docker import nominatim_north-america.tar mediagis/nominatim:4.2`\n",
    "- Just do a straight call like how I build the databse\n",
    "  - Does not work, ask for command\n",
    "- Add `/app/start.sh` as command\n",
    "  - Does not work:\n",
    "    - `sed: can't read /.env: No such file or directory`\n",
    "    - `chown: missing operand after 'nominatim:nominatim`\n",
    "- Try [this solution](https://github.com/mediagis/nominatim-docker/discussions/306)\n",
    "- Also see [this](https://github.com/mediagis/nominatim-docker/discussions/280)\n",
    "- And [this](https://github.com/mediagis/nominatim-docker/discussions/351)\n",
    "\n",
    "Try persistent container\n",
    "- [Nominatim instruction](https://github.com/mediagis/nominatim-docker/discussions/351)\n",
    "- [Backup, restore, migrate data volumes](https://docs.docker.com/storage/volumes/#back-up-restore-or-migrate-data-volumes)"
   ]
  },
  {
   "cell_type": "code",
   "execution_count": null,
   "metadata": {},
   "outputs": [],
   "source": [
    "# For testing\n",
    "'''\n",
    "# Check volume is created\n",
    "docker volume ls\n",
    "\n",
    "# Docker volume backup\n",
    "#docker run --rm --volumes-from [CONTAINER] -v $(pwd):/backup ubuntu tar cvf /backup/backup.tar /dbdata\n",
    "# Or\n",
    "#docker run --rm \\ \n",
    "#  --volume [DOCKER_COMPOSE_PREFIX]_[VOLUME_NAME]:/[TEMPORARY_DIRECTORY_TO_STORE_VOLUME_DATA] \\\n",
    "#  --volume $(pwd):/[TEMPORARY_DIRECTORY_TO_STORE_BACKUP_FILE] \\\n",
    "#  ubuntu \\\n",
    "#  tar cvf /[TEMPORARY_DIRECTORY_TO_STORE_BACKUP_FILE]/[BACKUP_FILENAME].tar /[TEMPORARY_DIRECTORY_TO_STORE_VOLUME_DATA]\n",
    "\n",
    "docker run --rm \\\n",
    "  --volumes-from nominatim-test \\\n",
    "  -v $(pwd):/backup \\\n",
    "  busybox \\\n",
    "  tar cvf /backup/backup_andorra.tar /var/lib/postgresql/14/main\n",
    "\n",
    "# Docker volume restore\n",
    "#docker run -v /dbdata --name dbstore2 ubuntu /bin/bash\n",
    "#docker run --rm --volumes-from dbstore2 -v $(pwd):/backup ubuntu bash -c \"cd /dbdata && tar xvf /backup/backup.tar --strip 1\"\n",
    "# Or\n",
    "# docker run --rm \\ \n",
    "#  --volume [DOCKER_COMPOSE_PREFIX]_[VOLUME_NAME]:/[TEMPORARY_DIRECTORY_STORING_EXTRACTED_BACKUP] \\\n",
    "#  --volume $(pwd):/[TEMPORARY_DIRECTORY_TO_STORE_BACKUP_FILE] \\\n",
    "#  ubuntu \\\n",
    "#  tar xvf /[TEMPORARY_DIRECTORY_TO_STORE_BACKUP_FILE]/[BACKUP_FILENAME].tar -C /[TEMPORARY_DIRECTORY_STORING_EXTRACTED_BACKUP] --strip 1\n",
    "\n",
    "#docker run -v /var/lib/postgresql/14/main --name nominatim-test_restore ubuntu /bin/bash\n",
    "docker run --rm \\\n",
    "  -v nominatim-data-test2:/var/lib/postgresql/14/main \\\n",
    "  -v $(pwd):/backup \\\n",
    "  ubuntu \\\n",
    "  tar xvf /backup/backup-andorra.tar -C /var/lib/postgresql/14/main --strip 1\n",
    "\n",
    "\n",
    "cd /home/shinhan/projects/plant_sci_hist/7_countries/testing\n",
    "docker ps\n",
    "docker export 191ccc5eecce > nominatim-test.tar\n",
    "\n",
    "# Copy volume to local storage\n",
    "#docker cp --archive CONTAINER:/MOUNT_POINT_OF_VOLUME ./LOCAL_FOLDER\n",
    "docker cp --archive 0973395e062b:/var/lib/postgresql/14/main ./nominatim-data-test\n",
    "\n",
    "# Import into another container\n",
    "#### DOES NOT WORK ####\n",
    "#docker run -v ./LOCAL_FOLDER:/MOUNT_POINT_OF_VOLUME some_image\n",
    "\n",
    "\n",
    "#### This works but ####\n",
    "## initdb: error: directory \"/var/lib/postgresql/14/main\" exists but is not empty\n",
    "#docker volume create --name my_test_volume --opt type=none --opt device=/home/jinna/Jinna_Balu/Test_volume --opt o=bind\n",
    "docker volume create \\\n",
    "  --name nominatim-data-test2 \\\n",
    "  --opt type=none \\\n",
    "  --opt device=/home/shinhan/projects/plant_sci_hist/7_countries/testing/nominatim-data-test \\\n",
    "  --opt o=bind\n",
    "\n",
    "#### Try to add main toward the end ####\n",
    "docker volume create \\\n",
    "  --name nominatim-data-test3 \\\n",
    "  --opt type=none \\\n",
    "  --opt device=/home/shinhan/projects/plant_sci_hist/7_countries/testing/nominatim-data-test/main \\\n",
    "  --opt o=bind\n",
    "\n",
    "docker volume ls # check volume is created\n",
    "\n",
    "docker run -it \\\n",
    "  -e PBF_PATH=/nominatim/data/equatorial-guinea-latest.osm.pbf \\\n",
    "  -e FREEZE=true \\\n",
    "  -p 8080:8080 \\\n",
    "  -v nominatim-data-test:/var/lib/postgresql/14/main \\\n",
    "  -v /home/shius/projects/plant_sci_hist/7_countries/testing:/nominatim/data \\\n",
    "  --name nominatim-import \\\n",
    "  mediagis/nominatim:4.2\n",
    "\n",
    "\n",
    "\n",
    "# Export volume\n",
    "docker run \\\n",
    "  --volumes-from nominatim-test \\\n",
    "  -v $(pwd):/backup \\\n",
    "  mediagis/nominatim:4.2 \\\n",
    "  tar cvf nominatim-data-test.tar /var/lib/postgresql/14/main\n",
    "\n",
    "\n",
    "# Import container\n",
    "cat nominatim_north-america.tar | docker import - nominatim_persistent:latest\n",
    "docker images       # A new image loaded\n",
    "\n",
    "# Import volume\n",
    "\n",
    "'''\n"
   ]
  },
  {
   "attachments": {},
   "cell_type": "markdown",
   "metadata": {},
   "source": [
    "#### Run, export, stop, remove, then import\n",
    "\n",
    "In the following, I :\n",
    "- Run nominatim docker, download Andorra osm.pbf data, build database using the persistent container setting.\n",
    "- Export the container with a docker volume setup\n",
    "- Stop and remove the container, delete the loaded image.\n",
    "- Dockerd is still running so the docker volume is still there.\n",
    "  - The image created (nominatim_persistent:latest) is also still there.\n",
    "- Import the exported container\n",
    "- Run the imported image by passing proper variables.\n",
    "  - Specifically: -e PROJ_DIR and -v"
   ]
  },
  {
   "cell_type": "code",
   "execution_count": null,
   "metadata": {},
   "outputs": [],
   "source": [
    "\n",
    "'''docker run -it --shm-size=1g \\\n",
    "  -e PBF_URL=https://download.geofabrik.de/europe/andorra-latest.osm.pbf \\\n",
    "  -e FREEZE=true \\\n",
    "  -v nominatim-data:/var/lib/postgresql/14/main \\\n",
    "  -p 8080:8080 \\\n",
    "  --name nominatim_andorra \\\n",
    "  mediagis/nominatim:4.2'''\n",
    "\n",
    "# Export/import/run\n",
    "'''\n",
    "docker ps\n",
    "docker volume ls    # Check volume exist\n",
    "docker export -o test_persistent_andorra.tar 23d68084ca58\n",
    "\n",
    "docker rm -f 23d68084ca58\n",
    "\n",
    "docker ps -a        # check container is no longer there\n",
    "\n",
    "# Load container\n",
    "cat test_persistent_andorra.tar | docker import - nominatim_persistent:latest\n",
    "docker images       # A new image loaded\n",
    "'''"
   ]
  },
  {
   "attachments": {},
   "cell_type": "markdown",
   "metadata": {},
   "source": [
    "##### Solution 1: enter container and edit /app/start.sh\n",
    "\n",
    "For a while, I am stuck when do docker run with `/app/start.sh` where the following error occurs:\n",
    "- `chown: missing operand after 'nominatim:nominatim'`\n",
    "- Looking into the shell script, the `chomn` commnad is followed by an environmental variable `${PROJECT_DIR}` which is not set.\n",
    "- The following finally worked."
   ]
  },
  {
   "cell_type": "code",
   "execution_count": null,
   "metadata": {},
   "outputs": [],
   "source": [
    "# Solution 1\n",
    "# Enter container and edit /app/start.sh\n",
    "'''\n",
    "# Run container\n",
    "# Use /app/start.sh failed.\n",
    "docker run -it \\\n",
    "  -e PBF_URL=https://download.geofabrik.de/europe/andorra-latest.osm.pbf \\\n",
    "  -e FREEZE=true \\\n",
    "  -p 8080:8080 \\\n",
    "  -v nominatim-data:/var/lib/postgresql/14/main \\\n",
    "  --name nominatim_rec \\\n",
    "  nominatim_persistent:latest \\\n",
    "  /bin/bash\n",
    "'''\n",
    "\n",
    "# Enter container\n",
    "'''\n",
    "apt-get update\n",
    "apt-get install vim\n",
    "vim /app/start.sh\n",
    "\n",
    "# In VIM\n",
    "# Add a line before IMPORT_FINISHED\n",
    "PROJECT_DIR=/nominatim\n",
    "\n",
    "# Back in bash\n",
    "/app/start.sh\n",
    "'''"
   ]
  },
  {
   "attachments": {},
   "cell_type": "markdown",
   "metadata": {},
   "source": [
    "##### Solution 2: pass the environmental variable\n",
    "\n",
    "This works also, much easier. Finally."
   ]
  },
  {
   "cell_type": "code",
   "execution_count": null,
   "metadata": {},
   "outputs": [],
   "source": [
    "# Enter container and edit /app/start.sh\n",
    "'''\n",
    "docker ps -a     # make sure the previous container has stopped\n",
    "docker images    # confirm nominatim_persistent:latest exist\n",
    "docker volume ls # confirm nominatim-data exist\n",
    "\n",
    "docker run -it \\\n",
    "  -e PBF_URL=https://download.geofabrik.de/europe/andorra-latest.osm.pbf \\\n",
    "  -e PROJECT_DIR=/nominatim \\\n",
    "  -e FREEZE=true \\\n",
    "  -p 8080:8080 \\\n",
    "  -v nominatim-data:/var/lib/postgresql/14/main \\\n",
    "  --name nominatim_rec \\\n",
    "  nominatim_persistent:latest \\\n",
    "  /app/start.sh\n",
    "'''"
   ]
  },
  {
   "attachments": {},
   "cell_type": "markdown",
   "metadata": {},
   "source": [
    "#### Retry the above using a local osm.pbf file\n",
    "\n",
    "To see if the following works:\n",
    "- Set PBF_FILE environmental variable\n",
    "- Set a bind mount for the osm.pbf data folder\n",
    "\n",
    "All the above still works"
   ]
  },
  {
   "cell_type": "code",
   "execution_count": null,
   "metadata": {},
   "outputs": [],
   "source": [
    "# Run container and create data volume: Ok\n",
    "'''\n",
    "docker run -it  \\\n",
    "  -e PBF_PATH=/nominatim/data/andorra-latest.osm.pbf \\\n",
    "  -e FREEZE=true \\\n",
    "  -v nominatim-data-test:/var/lib/postgresql/14/main \\\n",
    "  -v /home/shius/projects/plant_sci_hist/7_countries/testing:/nominatim/data \\\n",
    "  -p 8080:8080 \\\n",
    "  --name nominatim_andorra \\\n",
    "  mediagis/nominatim:4.2\n",
    "\n",
    "docker ps\n",
    "docker volume ls    # Check volume exist\n",
    "'''\n",
    "\n",
    "# Export/import/run\n",
    "'''\n",
    "docker export -o test_persistent_andorra2.tar d6f6a0e256e6\n",
    "\n",
    "docker rm -f 23d68084ca58\n",
    "\n",
    "docker ps -a        # check container is no longer there\n",
    "\n",
    "# Load container\n",
    "cat test_persistent_andorra.tar | docker import - nominatim_persistent:latest\n",
    "docker images       # A new image loaded\n",
    "'''"
   ]
  },
  {
   "attachments": {},
   "cell_type": "markdown",
   "metadata": {},
   "source": [
    "#### Use an existing volume "
   ]
  },
  {
   "attachments": {},
   "cell_type": "markdown",
   "metadata": {},
   "source": [
    "##### By starting an unrelated (i.e., different location) nominatim container\n",
    "\n",
    "The naminatim-data volume is created using Andorra data, want to see if I start a container specifying a different location but using the Andorra volume, what happens:\n",
    "- Delete images\n",
    "- Run nominatim docker\n",
    "  - Specify PBF_URL to download equatorial-guinea\n",
    "  - Specify location of equatorial-guinea osm.pbf\n",
    "  - Specify nominatim-data mount \n",
    "- Testing\n",
    "  - Search Andorra returned value.\n",
    "  - Search Malabo (Eq Guinea's captial) returned nothing\n",
    "  - So this is using Andorra database, even though EG osm is specified."
   ]
  },
  {
   "cell_type": "code",
   "execution_count": null,
   "metadata": {},
   "outputs": [],
   "source": [
    "'''\n",
    "# Remove image, this does not really matter since I am not using that docker\n",
    "# container. Just to make this cleaner\n",
    "docker images\n",
    "docker image remove -f nominatim_persistent\n",
    "\n",
    "docker run -it \\\n",
    "  -e PBF_PATH=PBF_PATH=/nominatim/data/equatorial-guinea-latest.osm.pbf \\\n",
    "  -e FREEZE=true \\\n",
    "  -p 8080:8080 \\\n",
    "  -v nominatim-data:/var/lib/postgresql/14/main \\\n",
    "  --name nominatim_eg \\\n",
    "  mediagis/nominatim:4.2\n",
    "'''"
   ]
  },
  {
   "attachments": {},
   "cell_type": "markdown",
   "metadata": {},
   "source": [
    "##### By using an imported data volume\n",
    "\n",
    "Next I want to see if I can restore the data volume after exporting.\n",
    "- See [this section](https://docs.docker.com/storage/volumes/#back-up-restore-or-migrate-data-volumes) on backup\n",
    "- This seems complocated."
   ]
  },
  {
   "cell_type": "code",
   "execution_count": null,
   "metadata": {},
   "outputs": [],
   "source": [
    "# Run persistent container, building database with a local file\n",
    "# -p setting doc:\n",
    "# https://www.mend.io/free-developer-tools/blog/docker-expose-port/\n",
    "'''\n",
    "docker run -it \\\n",
    "  -e PBF_PATH=PBF_PATH=/nominatim/data/andorra-latest.osm.pbf \\\n",
    "  -e FREEZE=true \\\n",
    "  -p 2346:2346 \\\n",
    "  -v nominatim-data-test:/var/lib/postgresql/14/main \\\n",
    "  -v /home/shius/projects/plant_sci_hist/7_countries/testing:/nominatim/data \\\n",
    "  --name nominatim-test \\\n",
    "  mediagis/nominatim:4.2\n",
    "'''"
   ]
  },
  {
   "cell_type": "markdown",
   "metadata": {},
   "source": [
    "### The following does not work"
   ]
  },
  {
   "cell_type": "markdown",
   "metadata": {},
   "source": [
    "#### Set up test donor and recipient nominatins"
   ]
  },
  {
   "cell_type": "code",
   "execution_count": null,
   "metadata": {},
   "outputs": [],
   "source": [
    "# Get osm.pbf\n",
    "'''\n",
    "wget https://download.geofabrik.de/africa/equatorial-guinea-latest.osm.pbf\n",
    "wget https://download.geofabrik.de/europe/andorra-latest.osm.pbf\n",
    "'''\n",
    "\n",
    "# Start recipient server\n",
    "'''\n",
    "docker run -it \\\n",
    "  -e PBF_PATH=/nominatim/data/andorra-latest.osm.pbf \\\n",
    "  -e FREEZE=true \\\n",
    "  -p 8080:8080 \\\n",
    "  -v /home/shius/projects/plant_sci_hist/7_countries/testing:/nominatim/data \\\n",
    "  --name nominatim_rec \\\n",
    "  mediagis/nominatim:4.2\n",
    "'''\n",
    "\n",
    "# Export/import/run\n",
    "'''\n",
    "docker export -o test_andorra.tar 47ad114454aa\n",
    "\n",
    "docker stop 47ad114454aa\n",
    "docker rm 47ad114454aa\n",
    "\n",
    "cat test_andorra.tar | docker import - nominatim_andorra:latest\n",
    "\n",
    "docker run -it \\\n",
    "  -e PBF_PATH=/nominatim/data/andorra-latest.osm.pbf \\\n",
    "  -e FREEZE=true \\\n",
    "  -p 8080:8080 \\\n",
    "  -v nominatim-data:/var/lib/postgresql/14/main \\\n",
    "  --name nominatim_rec \\\n",
    "  nominatim_andorra:latest \\\n",
    "  /app/start.sh\n",
    "'''\n",
    "# The above doe not work\n"
   ]
  },
  {
   "cell_type": "code",
   "execution_count": null,
   "metadata": {},
   "outputs": [],
   "source": [
    "# Start donor server\n",
    "'''\n",
    "docker run -it \\\n",
    "  -e PBF_PATH=PBF_PATH=/nominatim/data/equatorial-guinea-latest.osm.pbf \\\n",
    "  -e FREEZE=true \\\n",
    "  -p 808:8080 \\\n",
    "  -v ~/projects/plant_sci_hist/7_countries/testing:/nominatim/data \\\n",
    "  -v nominatim-data:/var/lib/postgresql/14/main \\\n",
    "  --name nominatim_don \\\n",
    "  mediagis/nominatim:4.2\n",
    "\n",
    "docker ps\n",
    "\n",
    "# Go to recipient container\n",
    "docker exec -it e01ff686f768 /bin/bash\n",
    "# In recipient container\n",
    "cd /var/lib/postgresql/14\n",
    "du main                                   # 327096  main\n",
    "exit\n",
    "\n",
    "# Go to doner container\n",
    "docker exec -it 35c4c0cdfb93 /bin/bash\n",
    "cd /var/lib/postgresql/14\n",
    "du main                                   # 397388  main\n",
    "exit\n",
    "'''"
   ]
  },
  {
   "cell_type": "markdown",
   "metadata": {},
   "source": [
    "#### Try 1: Copy database main folder over"
   ]
  },
  {
   "cell_type": "code",
   "execution_count": null,
   "metadata": {},
   "outputs": [],
   "source": [
    "'''\n",
    "# In host, copy donor postgresql database\n",
    "docker cp 35c4c0cdfb93:/var/lib/postgresql/14/main ./  # copy files\n",
    "du main/                                  # 397044  main/\n",
    "\n",
    "# Test copy\n",
    "mkdir -p test_dir/main\n",
    "cp -r main/ test_dir/main/\n",
    "\n",
    "# Replace recipient postgresql database\n",
    "docker ps                                 # container id: e01ff686f768\n",
    "docker cp main/ e01ff686f768:/var/lib/postgresql/14/\n",
    "\n",
    "# Go to recipient container to change ownership\n",
    "docker exec -it e01ff686f768 /bin/bash\n",
    "chown -R postgres:postgres /var/lib/postgresql/14/main\n",
    "\n",
    "# Test http://localhost:8080/search.php?q=usa\n",
    "code: 500\n",
    "Message: 'Failed to establish database connection:SQLSTATE[08006]\n",
    "\n",
    "# Stop the server than restart\n",
    "docker stop e01ff686f768\n",
    "docker start e01ff686f768\n",
    "\n",
    "# Cannot restart\n",
    "'''"
   ]
  },
  {
   "cell_type": "markdown",
   "metadata": {},
   "source": [
    "#### Try 2: Use a read-only bind mount\n",
    "\n",
    "See read-only bind mount secton of [this](https://docs.docker.com/storage/bind-mounts/)\n",
    "- This failed: `FATAL: Creating new database failed`"
   ]
  },
  {
   "cell_type": "code",
   "execution_count": null,
   "metadata": {},
   "outputs": [],
   "source": [
    "# In ~/projects/plant_sci_hist/7_countries/testing\n",
    "'''\n",
    "docker run -it \\\n",
    "  -e PBF_URL=https://download.geofabrik.de/europe/andorra-latest.osm.pbf \\\n",
    "  -p 8080:8080 \\\n",
    "  --name nominatim_rec \\\n",
    "  -v main:/var/lib/postgresql/14/main:ro \\\n",
    "  mediagis/nominatim:4.2\n",
    "'''"
   ]
  },
  {
   "cell_type": "markdown",
   "metadata": {},
   "source": [
    "#### Try 3: Use a bind mout that's writable\n",
    "\n",
    "Rid of the `ro` parameter\n",
    "- Does not work.\n",
    "- The resulted database is overwritten.\n",
    "- Or the mount has never worked because the wsl copy remain the same, just the folder in the container is not what it is supposed to be."
   ]
  },
  {
   "cell_type": "code",
   "execution_count": null,
   "metadata": {},
   "outputs": [],
   "source": [
    "# In ~/projects/plant_sci_hist/7_countries/testing\n",
    "'''\n",
    "docker run -it \\\n",
    "  -e PBF_URL=https://download.geofabrik.de/europe/andorra-latest.osm.pbf \\\n",
    "  -p 8080:8080 \\\n",
    "  --name nominatim_rec \\\n",
    "  -v main:/var/lib/postgresql/14/main \\\n",
    "  mediagis/nominatim:4.2\n",
    "'''"
   ]
  },
  {
   "cell_type": "markdown",
   "metadata": {},
   "source": [
    "#### Try 4: pg_dump/pg_restore\n",
    "\n",
    "https://nominatim.org/release-docs/latest/admin/Advanced-Installations/#moving-the-database-to-another-machine"
   ]
  },
  {
   "attachments": {},
   "cell_type": "markdown",
   "metadata": {},
   "source": [
    "## ___Testing: docker volumne backup, export, import try again (working)___\n",
    "\n",
    "[This post](https://www.howtogeek.com/devops/how-to-back-up-your-docker-volumes/)\n",
    "- But the import volume part did not work, lead to a new volume without any data imported using the commands shown."
   ]
  },
  {
   "attachments": {},
   "cell_type": "markdown",
   "metadata": {},
   "source": [
    "### Create a container that stores data in a volume\n",
    "\n",
    "https://stackoverflow.com/questions/69320727/exporting-a-docker-container-and-volume"
   ]
  },
  {
   "cell_type": "code",
   "execution_count": null,
   "metadata": {},
   "outputs": [],
   "source": [
    "# Mysql example\n",
    "docker run -d \\\n",
    "  --name mysql \\\n",
    "  -v mysql_data:/var/lib/mysql \\\n",
    "  -e MYSQL_ROOT_PASSWORD=mysql \\\n",
    "  mysql:8\n",
    "\n",
    "docker volume ls\n",
    "docker volume inspect mysql_data"
   ]
  },
  {
   "cell_type": "code",
   "execution_count": null,
   "metadata": {},
   "outputs": [],
   "source": [
    "# Nominatim example\n",
    "docker run -it \\\n",
    "  -e PBF_PATH=/nominatim/data/andorra-latest.osm.pbf \\\n",
    "  -e FREEZE=true \\\n",
    "  -p 8080:8080 \\\n",
    "  -v data_andorra:/var/lib/postgresql/14/main \\\n",
    "  -v /home/shinhan/projects/plant_sci_hist/7_countries/testing:/nominatim/data \\\n",
    "  --name nominatim_andorra \\\n",
    "  mediagis/nominatim:4.2\n",
    "\n",
    "docker volume ls\n",
    "docker volume inspect data_andorra\n",
    "\n",
    "# Committ/save/export container\n",
    "docker commit nominatim_andorra nominatim_andorra-commit:latest\n",
    "docker save nominatim_andorra-commit > nominatim_andorra-save.tar\n",
    "\n",
    "#https://www.techrepublic.com/article/how-to-exportimport-containers-with-docker/\n",
    "docker export nominatim_andorra > nominatim_andorra-export.tar"
   ]
  },
  {
   "attachments": {},
   "cell_type": "markdown",
   "metadata": {},
   "source": [
    "### Start a temporary container to back up the \"mysql_data\" volume\n",
    "\n",
    "- Mount an existing container’s volumes into your backup container. \n",
    "- Deposit an archive of the volume’s content into your working directory.\n",
    "- `--volumes-from`: the temporary backup container receives access to the mysql container’s volumes\n",
    "- `/var/lib/mysql`: specify this director that is inside the backup container exposes the volume’s content because this is the path used by the mysql container.\n",
    "- `--rm`: remove the backup container as soon as the command completes"
   ]
  },
  {
   "cell_type": "code",
   "execution_count": null,
   "metadata": {},
   "outputs": [],
   "source": [
    "docker run --rm \\\n",
    "  --volumes-from mysql \\\n",
    "  -v $PWD:/backup \\\n",
    "  ubuntu tar cvf /backup/backup-mysql.tar /var/lib/mysql"
   ]
  },
  {
   "cell_type": "code",
   "execution_count": null,
   "metadata": {},
   "outputs": [],
   "source": [
    "# Nominatim example\n",
    "docker run --rm \\\n",
    "  --volumes-from nominatim_andorra \\\n",
    "  -v $PWD:/backup \\\n",
    "  busybox tar cvf /backup/backup-andorra.tar /var/lib/postgresql/14/main\n",
    "\n",
    "# stop nominatim run\n",
    "docker rm -f nominatim_andorra"
   ]
  },
  {
   "attachments": {},
   "cell_type": "markdown",
   "metadata": {},
   "source": [
    "### Restore backup to replace contents of an existing volume\n",
    "\n",
    "So this exist already. Not my user case with nominatim.\n",
    "- But I can create a temporary one volume to make it fit my use based on this:\n",
    "  - https://docs.docker.com/storage/volumes/\n",
    "- This generates a volume that works, but name is long and cluky\n",
    "  - See [this post](https://stackoverflow.com/questions/73233336/rename-docker-volume-on-docker-desktop) about changing volume name."
   ]
  },
  {
   "cell_type": "code",
   "execution_count": null,
   "metadata": {},
   "outputs": [],
   "source": [
    "# establish a temp container\n",
    "docker run -v /var/lib/mysql --name dbrestore ubuntu /bin/bash\n",
    "\n",
    "# restore volume through the temp container\n",
    "# The following does not work. \n",
    "# The part \"cd ...\" lead to a wrong directory structure\n",
    "#docker run --rm \\\n",
    "#  --volumes-from dbrestore \\\n",
    "#  -v $PWD:/backup \\\n",
    "#  bash -c \"cd /var/lib/mysql && tar xvf /backup/backup-mysql.tar\"\n",
    "\n",
    "# Remove \"cd ...\" works\n",
    "docker run --rm \\\n",
    "  --volumes-from dbrestore \\\n",
    "  -v $PWD:/backup \\\n",
    "  bash -c \"tar xvf /backup/backup-mysql.tar\"\n",
    "\n",
    "# Rename volume\n",
    "docker volume ls\n",
    "docker volume create --name mysql_data_restore\n",
    "\n",
    "docker run --rm -it \\\n",
    "  -v c2d45eecc64d8f4bb608b2b3c73b73e023117738dfa821d61a4c4e1b8be0e7dd:/from \\\n",
    "  -v mysql_data_restore:/to \\\n",
    "  bash -c \"cd /from ; cp -av . /to\"\n",
    "\n",
    "docker ps -a  # Check if there is container using the old volume\n",
    "docker rm -f bbbe65\n",
    "docker volume rm c2d45eecc64d8f4bb608b2b3c73b73e023117738dfa821d61a4c4e1b8be0e7dd\n",
    "\n",
    "\n",
    "# This WORKSSS!!!!"
   ]
  },
  {
   "cell_type": "code",
   "execution_count": null,
   "metadata": {},
   "outputs": [],
   "source": [
    "# For nominatim\n",
    "# temp container: nomi_restore\n",
    "docker run -v /var/lib/postgresql/14/main --name nomi_restore ubuntu /bin/bash\n",
    "\n",
    "docker run --rm \\\n",
    "  --volumes-from nomi_restore \\\n",
    "  -v $PWD:/backup \\\n",
    "  bash -c \"tar xvf /backup/backup-andorra.tar\"\n",
    "\n",
    "docker volume ls\n",
    "docker volume create --name data_andorra_restore\n",
    "\n",
    "docker run --rm -it \\\n",
    "  -v 3ae370e6338ab458bcbed92081d60cb332a65128dfd78397ae9db0be786cfd46:/from \\\n",
    "  -v data_andorra_restore:/to \\\n",
    "  bash -c \"cd /from ; cp -av . /to\"\n",
    "\n",
    "#docker ps -a  # Check if there is container using the old volume\n",
    "#docker rm -f 33fa297caa91\n",
    "#docker volume rm 9333011fc3975fe5ce824f9011bf4e3820b28eb7c83541badbdeb15781511277"
   ]
  },
  {
   "attachments": {},
   "cell_type": "markdown",
   "metadata": {},
   "source": [
    "### [DOES NOT WORK] Restore backup to a new host\n",
    "\n",
    "This does not work. The volume created is empty."
   ]
  },
  {
   "cell_type": "code",
   "execution_count": null,
   "metadata": {},
   "outputs": [],
   "source": [
    "# Does not work\n",
    "docker volume create mysql_data_restore\n",
    "\n",
    "docker run --rm \\\n",
    "  -v mysql_data_restore:/var/lib/mysql \\\n",
    "  -v $PWD:/backup \\\n",
    "  ubuntu tar cvf /backup/backup-mysql.tar /var/lib/mysql\n"
   ]
  },
  {
   "cell_type": "code",
   "execution_count": null,
   "metadata": {},
   "outputs": [],
   "source": [
    "# Does not work\n",
    "# For nomiantim\n",
    "docker volume create data_andorra_restore\n",
    "\n",
    "docker run --rm \\\n",
    "  -v data_andorra_restore:/var/lib/postgresql/14/main \\\n",
    "  -v $PWD:/backup \\\n",
    "  ubuntu tar cvf /backup/backup-andorra.tar /var/lib/postgresql/14/main\n"
   ]
  },
  {
   "attachments": {},
   "cell_type": "markdown",
   "metadata": {},
   "source": [
    "### Start app"
   ]
  },
  {
   "cell_type": "code",
   "execution_count": null,
   "metadata": {},
   "outputs": [],
   "source": [
    "docker run -d \\\n",
    "    --name mysql2 \\\n",
    "    -v mysql_data_restore:/var/lib/mysql \\\n",
    "    -e MYSQL_ROOT_PASSWORD=mysql \\\n",
    "    mysql:8"
   ]
  },
  {
   "cell_type": "markdown",
   "metadata": {},
   "source": [
    "### Start nominatim with different approaches"
   ]
  },
  {
   "attachments": {},
   "cell_type": "markdown",
   "metadata": {},
   "source": [
    "#### Start nominatim using the original docker image"
   ]
  },
  {
   "cell_type": "code",
   "execution_count": null,
   "metadata": {},
   "outputs": [],
   "source": [
    "# Nominatim example, deliberately use Eq Guinea data to see if:\n",
    "#   Database is not being rebuilt.\n",
    "#   The data use is Andorra data not Eq Guinea.\n",
    "\n",
    "###\n",
    "# This does not work INITIALLY\n",
    "###\n",
    "#initdb: error: directory \"/var/lib/postgresql/14/main\" exists but is not empty\n",
    "# Later on, I check the directory structure of imported volume and realize that\n",
    "# it is compeltely wrong. Now it works.\n",
    "\n",
    "docker run -it \\\n",
    "  -e PBF_PATH=/nominatim/data/equatorial-guinea-latest.osm.pbf \\\n",
    "  -p 8080:8080 \\\n",
    "  -v data_andorra_restore:/var/lib/postgresql/14/main \\\n",
    "  -v /home/shinhan/projects/plant_sci_hist/7_countries/testing:/nominatim/data \\\n",
    "  --name nominatim_andorra2 \\\n",
    "  mediagis/nominatim:4.2\n",
    "\n",
    "########\n",
    "##\n",
    "## DID NOT TEST THE REST TO SEE IF THEY WORK OR NOT\n",
    "##\n",
    "#########"
   ]
  },
  {
   "cell_type": "code",
   "execution_count": null,
   "metadata": {},
   "outputs": [],
   "source": [
    "###\n",
    "# This does not work\n",
    "###\n",
    "#initdb: error: directory \"/var/lib/postgresql/14/main\" exists but is not empty\n",
    "docker run -it \\\n",
    "  -e PBF_URL=https://download.geofabrik.de/africa/equatorial-guinea-latest.osm.pbf \\\n",
    "  -p 8080:8080 \\\n",
    "  -v data_andorra_restore:/var/lib/postgresql/14/main \\\n",
    "  --name nominatim_andorra3 \\\n",
    "  mediagis/nominatim:4.2\n",
    "\n",
    "docker rm nominatim_andorra3"
   ]
  },
  {
   "attachments": {},
   "cell_type": "markdown",
   "metadata": {},
   "source": [
    "#### Start nominatim with a committed image"
   ]
  },
  {
   "cell_type": "code",
   "execution_count": null,
   "metadata": {},
   "outputs": [],
   "source": [
    "###\n",
    "# This does not work\n",
    "###\n",
    "#initdb: error: directory \"/var/lib/postgresql/14/main\" exists but is not empty\n",
    "docker run -it \\\n",
    "  -e PBF_PATH=/nominatim/data/equatorial-guinea-latest.osm.pbf \\\n",
    "  -p 8080:8080 \\\n",
    "  -v data_andorra_restore:/var/lib/postgresql/14/main \\\n",
    "  -v /home/shinhan/projects/plant_sci_hist/7_countries/testing:/nominatim/data \\\n",
    "  --name nominatim_andorra4 \\\n",
    "  nominatim_andorra-commit:latest"
   ]
  },
  {
   "attachments": {},
   "cell_type": "markdown",
   "metadata": {},
   "source": [
    "#### Load the exported container then run it\n",
    "\n",
    "- https://computingforgeeks.com/how-to-export-and-import-docker-images-containers/\n",
    "- https://adamtheautomator.com/docker-save-image/"
   ]
  },
  {
   "cell_type": "code",
   "execution_count": null,
   "metadata": {},
   "outputs": [],
   "source": [
    "###\n",
    "# This does not work\n",
    "###\n",
    "#initdb: error: directory \"/var/lib/postgresql/14/main\" exists but is not empty\n",
    "\n",
    "# Import container\n",
    "docker import nominatim_andorra-export.tar nominatim_andorra-export:latest\n",
    "\n",
    "docker run -it \\\n",
    "  -e PBF_URL=https://download.geofabrik.de/africa/equatorial-guinea-latest.osm.pbf \\\n",
    "  -e PROJECT_DIR=/nominatim \\\n",
    "  -p 8080:8080 \\\n",
    "  -v data_andorra_restore:/var/lib/postgresql/14/main \\\n",
    "  --name nominatim_andorra5 \\\n",
    "  nominatim_andorra-export:latest \\\n",
    "  /app/start.sh\n"
   ]
  },
  {
   "cell_type": "code",
   "execution_count": null,
   "metadata": {},
   "outputs": [],
   "source": [
    "# Well, this works using the orignal volume... somehow the volume export did\n",
    "# not work...\n",
    "\n",
    "docker run -it \\\n",
    "  -e PBF_URL=https://download.geofabrik.de/africa/equatorial-guinea-latest.osm.pbf \\\n",
    "  -e PROJECT_DIR=/nominatim \\\n",
    "  -p 8080:8080 \\\n",
    "  -v data_andorra:/var/lib/postgresql/14/main \\\n",
    "  --name nominatim_andorra6 \\\n",
    "  nominatim_andorra-export:latest \\\n",
    "  /app/start.sh"
   ]
  },
  {
   "cell_type": "markdown",
   "metadata": {},
   "source": [
    "#### Test if using original database name but based o copy works\n",
    "\n",
    "- Change data_andorra to data_andorra_original\n",
    "- Change data_andorra_restore to data_andorra\n",
    "- Do nominatim again"
   ]
  },
  {
   "cell_type": "code",
   "execution_count": null,
   "metadata": {},
   "outputs": [],
   "source": [
    "docker volume create --name data_andorra_original\n",
    "\n",
    "docker run --rm -it \\\n",
    "  -v data_andorra:/from \\\n",
    "  -v data_andorra_original:/to \\\n",
    "  bash -c \"cd /from ; cp -av . /to\"\n",
    "\n",
    "# Man, this still works\n",
    "docker run -it \\\n",
    "  -e PBF_URL=https://download.geofabrik.de/africa/equatorial-guinea-latest.osm.pbf \\\n",
    "  -e PROJECT_DIR=/nominatim \\\n",
    "  -p 8080:8080 \\\n",
    "  -v data_andorra_original:/var/lib/postgresql/14/main \\\n",
    "  --name nominatim_andorra7 \\\n",
    "  nominatim_andorra-export:latest \\\n",
    "  /app/start.sh"
   ]
  },
  {
   "attachments": {},
   "cell_type": "markdown",
   "metadata": {},
   "source": [
    "#### Issues (resolved)\n",
    "\n",
    "Was wondering why the original volume work but not the imported one\n",
    "- Go into wsl as root to check the volume folders\n",
    "- Compare the volume folders: see [this](https://linuxhandbook.com/compare-directories/)\n",
    "\n",
    "Turn out the folder contents are very different with the exported one to be ~10x smaller.\n",
    "- Checking the exported volume tar file, confirm it is the same as the volume data. So the probelm is during the restore step."
   ]
  },
  {
   "cell_type": "code",
   "execution_count": null,
   "metadata": {},
   "outputs": [],
   "source": [
    "# In CMD with admin\n",
    "wsl -u root\n",
    "\n",
    "# In wsl: user: root\n",
    "cd /var/lib/docker/volumes\n",
    "diff -qr data_andorra data_andorra_restore/\n",
    "# Tons of differeneces\n",
    "\n",
    "# user: shiu\n",
    "cd ~/projects/plant_sci_hist/7_countries/testing/var/lib/postgresql/14/main\n",
    "tar xvf backup-andorra.tar\n",
    "\n",
    "# In wsl\n",
    "cd /var/lib/docker/volumes/data_andorra/_data\n",
    "diff -qr ./ /home/shinhan/projects/plant_sci_hist/7_countries/testing/var/lib/postgresq\n",
    "l/14/main\n",
    "# No difference\n",
    "\n"
   ]
  }
 ],
 "metadata": {
  "language_info": {
   "name": "python"
  },
  "orig_nbformat": 4
 },
 "nbformat": 4,
 "nbformat_minor": 2
}
