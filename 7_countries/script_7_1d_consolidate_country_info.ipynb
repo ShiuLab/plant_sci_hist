{
 "cells": [
  {
   "attachments": {},
   "cell_type": "markdown",
   "metadata": {},
   "source": [
    "# __Step 7.1d: Consolidate country info__\n",
    "\n",
    "Goal\n",
    "- With the pycountry-based country info and nominatim runs, combine the info."
   ]
  },
  {
   "cell_type": "markdown",
   "metadata": {},
   "source": [
    "## ___Set up___"
   ]
  },
  {
   "attachments": {},
   "cell_type": "markdown",
   "metadata": {},
   "source": [
    "### Module import\n",
    "\n",
    "In conda env `base`"
   ]
  },
  {
   "cell_type": "code",
   "execution_count": null,
   "metadata": {},
   "outputs": [],
   "source": [
    "import pickle"
   ]
  },
  {
   "cell_type": "markdown",
   "metadata": {},
   "source": [
    "### Key variables"
   ]
  },
  {
   "cell_type": "code",
   "execution_count": null,
   "metadata": {},
   "outputs": [],
   "source": [
    "# Reproducibility\n",
    "seed = 20220609\n",
    "\n",
    "# Setting working directory\n",
    "proj_dir   = Path.home() / \"projects/plant_sci_hist\"\n",
    "work_dir   = proj_dir / \"7_countries\"\n",
    "work_dir.mkdir(parents=True, exist_ok=True)\n",
    "\n",
    "# country info based on pycountry\n",
    "country_info_pyc_file  = work_dir / \"country_info-pycountry.pickle\"\n",
    "\n",
    "# Nominatim out directories\n",
    "nominatim_na_out_dir1  = work_dir / \"nominatim_na_out\"\n",
    "nominatim_na_out_dir2  = work_dir / \"nominatim_na_out2\"\n",
    "nominatim_as_out_dir1  = work_dir / \"nominatim_as_out\"\n",
    "nominatim_as_out_dir2  = work_dir / \"nominatim_as_out2\"\n",
    "nominatim_eu1_out_dir1 = work_dir / \"nominatim_eu1_out\"\n",
    "nominatim_eu1_out_dir2 = work_dir / \"nominatim_eu1_out2\"\n",
    "nominatim_eu2_out_dir1 = work_dir / \"nominatim_eu2_out\"\n",
    "nominatim_eu2_out_dir2 = work_dir / \"nominatim_eu2_out2\"\n",
    "nominatim_ao_out_dir1  = work_dir / \"nominatim_ao_out\"\n",
    "nominatim_ao_out_dir2  = work_dir / \"nominatim_ao_out2\""
   ]
  },
  {
   "cell_type": "code",
   "execution_count": null,
   "metadata": {},
   "outputs": [],
   "source": []
  }
 ],
 "metadata": {
  "kernelspec": {
   "display_name": "base",
   "language": "python",
   "name": "python3"
  },
  "language_info": {
   "name": "python",
   "version": "3.10.9"
  },
  "orig_nbformat": 4
 },
 "nbformat": 4,
 "nbformat_minor": 2
}
