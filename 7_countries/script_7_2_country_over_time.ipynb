{
 "cells": [
  {
   "attachments": {},
   "cell_type": "markdown",
   "metadata": {},
   "source": [
    "# __Step 7.2: Plot country info__\n",
    "\n",
    "Goal:\n",
    "- Plot overall pub volume in plant science per country\n",
    "- Plot relative pub volume over time\n",
    "\n",
    "Resources:\n",
    "- [Best Libraries for Geospatial Data Visualisation in Python](https://towardsdatascience.com/best-libraries-for-geospatial-data-visualisation-in-python-d23834173b35)\n",
    "- [Plotly documentation](https://plotly.com/python/)\n",
    "- [Interactive map in python](https://www.earthdatascience.org/courses/scientists-guide-to-plotting-data-in-python/plot-spatial-data/customize-raster-plots/interactive-maps/)\n",
    "- [Analysing and Visualising the Country wise Population from 1955 to 2020 with Pandas, Matplotlib, Seaborn and Plotly](https://towardsdatascience.com/analysing-and-visualising-the-country-wise-population-from-1955-to-2020-with-pandas-matplotlib-70b3614eed6b)\n",
    "- [How to plot and color world map based on data](https://medium.com/@petrica.leuca/how-to-plot-and-color-world-map-based-on-data-c367e4cda7d9)"
   ]
  },
  {
   "cell_type": "markdown",
   "metadata": {},
   "source": [
    "## ___Setup___"
   ]
  },
  {
   "cell_type": "code",
   "execution_count": null,
   "metadata": {},
   "outputs": [],
   "source": []
  },
  {
   "attachments": {},
   "cell_type": "markdown",
   "metadata": {},
   "source": [
    "## ___Testing___"
   ]
  },
  {
   "attachments": {},
   "cell_type": "markdown",
   "metadata": {},
   "source": [
    "### GeoViews\n",
    "\n",
    "- [How to plot and color world map based on data](https://medium.com/@petrica.leuca/how-to-plot-and-color-world-map-based-on-data-c367e4cda7d9)"
   ]
  },
  {
   "cell_type": "code",
   "execution_count": 1,
   "metadata": {},
   "outputs": [],
   "source": [
    "import geopandas as gpd"
   ]
  },
  {
   "cell_type": "code",
   "execution_count": 2,
   "metadata": {},
   "outputs": [],
   "source": [
    "import pandas as pd\n",
    "\n",
    "statistic_df = pd.read_csv(\n",
    "  'https://data.un.org/_Docs/SYB/CSV/SYB61_253_Population%20Growth%20Rates%20in%20Urban%20areas%20and%20Capital%20cities.csv',\n",
    "  encoding='latin-1',\n",
    "  header=1,\n",
    "  usecols=range(1,9)\n",
    ")\n",
    "\n",
    "statistic_df.rename(\n",
    "  columns = {\n",
    "      statistic_df.columns[0]: 'Region or Country', \n",
    "      'Value': 'Urban Percentage'\n",
    "  }, \n",
    "  inplace=True\n",
    ")"
   ]
  },
  {
   "cell_type": "code",
   "execution_count": 3,
   "metadata": {},
   "outputs": [
    {
     "data": {
      "text/html": [
       "<div>\n",
       "<style scoped>\n",
       "    .dataframe tbody tr th:only-of-type {\n",
       "        vertical-align: middle;\n",
       "    }\n",
       "\n",
       "    .dataframe tbody tr th {\n",
       "        vertical-align: top;\n",
       "    }\n",
       "\n",
       "    .dataframe thead th {\n",
       "        text-align: right;\n",
       "    }\n",
       "</style>\n",
       "<table border=\"1\" class=\"dataframe\">\n",
       "  <thead>\n",
       "    <tr style=\"text-align: right;\">\n",
       "      <th></th>\n",
       "      <th>Region or Country</th>\n",
       "      <th>Year</th>\n",
       "      <th>Series</th>\n",
       "      <th>Capital City</th>\n",
       "      <th>Capital City footnote</th>\n",
       "      <th>Urban Percentage</th>\n",
       "      <th>Footnotes</th>\n",
       "      <th>Source</th>\n",
       "    </tr>\n",
       "  </thead>\n",
       "  <tbody>\n",
       "    <tr>\n",
       "      <th>0</th>\n",
       "      <td>Total, all countries or areas</td>\n",
       "      <td>2005</td>\n",
       "      <td>Urban population (percent)</td>\n",
       "      <td>NaN</td>\n",
       "      <td>NaN</td>\n",
       "      <td>49.2</td>\n",
       "      <td>NaN</td>\n",
       "      <td>United Nations Population Division, New York, ...</td>\n",
       "    </tr>\n",
       "    <tr>\n",
       "      <th>1</th>\n",
       "      <td>Total, all countries or areas</td>\n",
       "      <td>2005</td>\n",
       "      <td>Urban population (percent growth rate per annum)</td>\n",
       "      <td>NaN</td>\n",
       "      <td>NaN</td>\n",
       "      <td>2.3</td>\n",
       "      <td>Data refers to a 5-year period preceding the r...</td>\n",
       "      <td>United Nations Population Division, New York, ...</td>\n",
       "    </tr>\n",
       "    <tr>\n",
       "      <th>2</th>\n",
       "      <td>Total, all countries or areas</td>\n",
       "      <td>2005</td>\n",
       "      <td>Rural population (percent growth rate per annum)</td>\n",
       "      <td>NaN</td>\n",
       "      <td>NaN</td>\n",
       "      <td>0.3</td>\n",
       "      <td>Data refers to a 5-year period preceding the r...</td>\n",
       "      <td>United Nations Population Division, New York, ...</td>\n",
       "    </tr>\n",
       "    <tr>\n",
       "      <th>3</th>\n",
       "      <td>Total, all countries or areas</td>\n",
       "      <td>2010</td>\n",
       "      <td>Urban population (percent)</td>\n",
       "      <td>NaN</td>\n",
       "      <td>NaN</td>\n",
       "      <td>51.7</td>\n",
       "      <td>NaN</td>\n",
       "      <td>United Nations Population Division, New York, ...</td>\n",
       "    </tr>\n",
       "    <tr>\n",
       "      <th>4</th>\n",
       "      <td>Total, all countries or areas</td>\n",
       "      <td>2010</td>\n",
       "      <td>Urban population (percent growth rate per annum)</td>\n",
       "      <td>NaN</td>\n",
       "      <td>NaN</td>\n",
       "      <td>2.2</td>\n",
       "      <td>Data refers to a 5-year period preceding the r...</td>\n",
       "      <td>United Nations Population Division, New York, ...</td>\n",
       "    </tr>\n",
       "  </tbody>\n",
       "</table>\n",
       "</div>"
      ],
      "text/plain": [
       "               Region or Country  Year  \\\n",
       "0  Total, all countries or areas  2005   \n",
       "1  Total, all countries or areas  2005   \n",
       "2  Total, all countries or areas  2005   \n",
       "3  Total, all countries or areas  2010   \n",
       "4  Total, all countries or areas  2010   \n",
       "\n",
       "                                             Series Capital City  \\\n",
       "0                        Urban population (percent)          NaN   \n",
       "1  Urban population (percent growth rate per annum)          NaN   \n",
       "2  Rural population (percent growth rate per annum)          NaN   \n",
       "3                        Urban population (percent)          NaN   \n",
       "4  Urban population (percent growth rate per annum)          NaN   \n",
       "\n",
       "  Capital City footnote Urban Percentage  \\\n",
       "0                   NaN             49.2   \n",
       "1                   NaN              2.3   \n",
       "2                   NaN              0.3   \n",
       "3                   NaN             51.7   \n",
       "4                   NaN              2.2   \n",
       "\n",
       "                                           Footnotes  \\\n",
       "0                                                NaN   \n",
       "1  Data refers to a 5-year period preceding the r...   \n",
       "2  Data refers to a 5-year period preceding the r...   \n",
       "3                                                NaN   \n",
       "4  Data refers to a 5-year period preceding the r...   \n",
       "\n",
       "                                              Source  \n",
       "0  United Nations Population Division, New York, ...  \n",
       "1  United Nations Population Division, New York, ...  \n",
       "2  United Nations Population Division, New York, ...  \n",
       "3  United Nations Population Division, New York, ...  \n",
       "4  United Nations Population Division, New York, ...  "
      ]
     },
     "execution_count": 3,
     "metadata": {},
     "output_type": "execute_result"
    }
   ],
   "source": [
    "statistic_df.head()"
   ]
  },
  {
   "cell_type": "code",
   "execution_count": 5,
   "metadata": {},
   "outputs": [
    {
     "ename": "ImportError",
     "evalue": "the 'read_file' function requires the 'fiona' package, but it is not installed or does not import correctly.\nImporting fiona resulted in: No module named 'fiona'",
     "output_type": "error",
     "traceback": [
      "\u001b[0;31m---------------------------------------------------------------------------\u001b[0m",
      "\u001b[0;31mImportError\u001b[0m                               Traceback (most recent call last)",
      "Cell \u001b[0;32mIn[5], line 3\u001b[0m\n\u001b[1;32m      1\u001b[0m \u001b[39mimport\u001b[39;00m \u001b[39mgeopandas\u001b[39;00m\n\u001b[0;32m----> 3\u001b[0m country_geopandas \u001b[39m=\u001b[39m geopandas\u001b[39m.\u001b[39;49mread_file(\n\u001b[1;32m      4\u001b[0m   geopandas\u001b[39m.\u001b[39;49mdatasets\u001b[39m.\u001b[39;49mget_path(\u001b[39m'\u001b[39;49m\u001b[39mnaturalearth_lowres\u001b[39;49m\u001b[39m'\u001b[39;49m)\n\u001b[1;32m      5\u001b[0m )\n\u001b[1;32m      6\u001b[0m country_geopandas \u001b[39m=\u001b[39m country_geopandas\u001b[39m.\u001b[39mmerge(\n\u001b[1;32m      7\u001b[0m   dataframe, \u001b[39m# this should be the pandas with statistics at country level\u001b[39;00m\n\u001b[1;32m      8\u001b[0m   how\u001b[39m=\u001b[39m\u001b[39m'\u001b[39m\u001b[39minner\u001b[39m\u001b[39m'\u001b[39m, \n\u001b[1;32m      9\u001b[0m   left_on\u001b[39m=\u001b[39m[\u001b[39m'\u001b[39m\u001b[39mname\u001b[39m\u001b[39m'\u001b[39m], \n\u001b[1;32m     10\u001b[0m   right_on\u001b[39m=\u001b[39m[\u001b[39m'\u001b[39m\u001b[39mRegion or Country\u001b[39m\u001b[39m'\u001b[39m]\n\u001b[1;32m     11\u001b[0m )\n",
      "File \u001b[0;32m~/miniconda3/envs/geo/lib/python3.10/site-packages/geopandas/io/file.py:127\u001b[0m, in \u001b[0;36m_read_file\u001b[0;34m(filename, bbox, mask, rows, **kwargs)\u001b[0m\n\u001b[1;32m     66\u001b[0m \u001b[39mdef\u001b[39;00m \u001b[39m_read_file\u001b[39m(filename, bbox\u001b[39m=\u001b[39m\u001b[39mNone\u001b[39;00m, mask\u001b[39m=\u001b[39m\u001b[39mNone\u001b[39;00m, rows\u001b[39m=\u001b[39m\u001b[39mNone\u001b[39;00m, \u001b[39m*\u001b[39m\u001b[39m*\u001b[39mkwargs):\n\u001b[1;32m     67\u001b[0m \u001b[39m    \u001b[39m\u001b[39m\"\"\"\u001b[39;00m\n\u001b[1;32m     68\u001b[0m \u001b[39m    Returns a GeoDataFrame from a file or URL.\u001b[39;00m\n\u001b[1;32m     69\u001b[0m \n\u001b[0;32m   (...)\u001b[0m\n\u001b[1;32m    125\u001b[0m \u001b[39m    by using the encoding keyword parameter, e.g. ``encoding='utf-8'``.\u001b[39;00m\n\u001b[1;32m    126\u001b[0m \u001b[39m    \"\"\"\u001b[39;00m\n\u001b[0;32m--> 127\u001b[0m     _check_fiona(\u001b[39m\"\u001b[39;49m\u001b[39m'\u001b[39;49m\u001b[39mread_file\u001b[39;49m\u001b[39m'\u001b[39;49m\u001b[39m function\u001b[39;49m\u001b[39m\"\u001b[39;49m)\n\u001b[1;32m    128\u001b[0m     \u001b[39mif\u001b[39;00m _is_url(filename):\n\u001b[1;32m    129\u001b[0m         req \u001b[39m=\u001b[39m _urlopen(filename)\n",
      "File \u001b[0;32m~/miniconda3/envs/geo/lib/python3.10/site-packages/geopandas/io/file.py:42\u001b[0m, in \u001b[0;36m_check_fiona\u001b[0;34m(func)\u001b[0m\n\u001b[1;32m     40\u001b[0m \u001b[39mdef\u001b[39;00m \u001b[39m_check_fiona\u001b[39m(func):\n\u001b[1;32m     41\u001b[0m     \u001b[39mif\u001b[39;00m fiona \u001b[39mis\u001b[39;00m \u001b[39mNone\u001b[39;00m:\n\u001b[0;32m---> 42\u001b[0m         \u001b[39mraise\u001b[39;00m \u001b[39mImportError\u001b[39;00m(\n\u001b[1;32m     43\u001b[0m             \u001b[39mf\u001b[39m\u001b[39m\"\u001b[39m\u001b[39mthe \u001b[39m\u001b[39m{\u001b[39;00mfunc\u001b[39m}\u001b[39;00m\u001b[39m requires the \u001b[39m\u001b[39m'\u001b[39m\u001b[39mfiona\u001b[39m\u001b[39m'\u001b[39m\u001b[39m package, but it is not installed or does \u001b[39m\u001b[39m\"\u001b[39m\n\u001b[1;32m     44\u001b[0m             \u001b[39mf\u001b[39m\u001b[39m\"\u001b[39m\u001b[39mnot import correctly.\u001b[39m\u001b[39m\\n\u001b[39;00m\u001b[39mImporting fiona resulted in: \u001b[39m\u001b[39m{\u001b[39;00mfiona_import_error\u001b[39m}\u001b[39;00m\u001b[39m\"\u001b[39m\n\u001b[1;32m     45\u001b[0m         )\n",
      "\u001b[0;31mImportError\u001b[0m: the 'read_file' function requires the 'fiona' package, but it is not installed or does not import correctly.\nImporting fiona resulted in: No module named 'fiona'"
     ]
    }
   ],
   "source": [
    "import geopandas\n",
    "\n",
    "country_geopandas = geopandas.read_file(\n",
    "  geopandas.datasets.get_path('naturalearth_lowres')\n",
    ")\n",
    "country_geopandas = country_geopandas.merge(\n",
    "  dataframe, # this should be the pandas with statistics at country level\n",
    "  how='inner', \n",
    "  left_on=['name'], \n",
    "  right_on=['Region or Country']\n",
    ")"
   ]
  },
  {
   "cell_type": "code",
   "execution_count": 4,
   "metadata": {},
   "outputs": [
    {
     "ename": "ModuleNotFoundError",
     "evalue": "No module named 'folium'",
     "output_type": "error",
     "traceback": [
      "\u001b[0;31m---------------------------------------------------------------------------\u001b[0m",
      "\u001b[0;31mModuleNotFoundError\u001b[0m                       Traceback (most recent call last)",
      "Cell \u001b[0;32mIn[4], line 2\u001b[0m\n\u001b[1;32m      1\u001b[0m \u001b[39mfrom\u001b[39;00m \u001b[39mdatetime\u001b[39;00m \u001b[39mimport\u001b[39;00m datetime\n\u001b[0;32m----> 2\u001b[0m \u001b[39mimport\u001b[39;00m \u001b[39mfolium\u001b[39;00m\n\u001b[1;32m      4\u001b[0m urban_area_map \u001b[39m=\u001b[39m folium\u001b[39m.\u001b[39mMap()\n\u001b[1;32m      5\u001b[0m folium\u001b[39m.\u001b[39mChoropleth(\n\u001b[1;32m      6\u001b[0m   geo_data\u001b[39m=\u001b[39mdataframe,\n\u001b[1;32m      7\u001b[0m   name\u001b[39m=\u001b[39m\u001b[39m'\u001b[39m\u001b[39mchoropleth\u001b[39m\u001b[39m'\u001b[39m,\n\u001b[0;32m   (...)\u001b[0m\n\u001b[1;32m     15\u001b[0m   legend_name\u001b[39m=\u001b[39m\u001b[39m'\u001b[39m\u001b[39mPercentage of population living in Urban areas\u001b[39m\u001b[39m'\u001b[39m\n\u001b[1;32m     16\u001b[0m )\u001b[39m.\u001b[39madd_to(urban_area_map)\n",
      "\u001b[0;31mModuleNotFoundError\u001b[0m: No module named 'folium'"
     ]
    }
   ],
   "source": [
    "from datetime import datetime\n",
    "import folium\n",
    "\n",
    "urban_area_map = folium.Map()\n",
    "folium.Choropleth(\n",
    "  geo_data=dataframe,\n",
    "  name='choropleth',\n",
    "  data=dataframe,\n",
    "  columns=['Region or Country', 'Urban Percentage'],\n",
    "  key_on='feature.properties.name',\n",
    "  fill_color='Greens',\n",
    "  nan_fill_color='Grey',\n",
    "  fill_opacity=0.7,\n",
    "  line_opacity=0.2,\n",
    "  legend_name='Percentage of population living in Urban areas'\n",
    ").add_to(urban_area_map)\n",
    "urban_area_map.save(f'./exports/urban_population_{datetime.now()}.html')"
   ]
  },
  {
   "cell_type": "code",
   "execution_count": null,
   "metadata": {},
   "outputs": [],
   "source": []
  }
 ],
 "metadata": {
  "kernelspec": {
   "display_name": "geo",
   "language": "python",
   "name": "python3"
  },
  "language_info": {
   "codemirror_mode": {
    "name": "ipython",
    "version": 3
   },
   "file_extension": ".py",
   "mimetype": "text/x-python",
   "name": "python",
   "nbconvert_exporter": "python",
   "pygments_lexer": "ipython3",
   "version": "3.10.9"
  },
  "orig_nbformat": 4,
  "vscode": {
   "interpreter": {
    "hash": "f99392e4c8e5a4f277251df7442b7cea9e218a6c92e6d3b299d601fac94a9b67"
   }
  }
 },
 "nbformat": 4,
 "nbformat_minor": 2
}
