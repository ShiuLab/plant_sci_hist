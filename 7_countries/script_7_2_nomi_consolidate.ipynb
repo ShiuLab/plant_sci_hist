{
 "cells": [
  {
   "attachments": {},
   "cell_type": "markdown",
   "metadata": {},
   "source": [
    "# __Step 7.2: Consolidate nominatim outputs__\n",
    "\n",
    "Goal\n",
    "- With the pycountry-based country info and nominatim runs, combine the info."
   ]
  },
  {
   "cell_type": "markdown",
   "metadata": {},
   "source": [
    "## ___Set up___"
   ]
  },
  {
   "attachments": {},
   "cell_type": "markdown",
   "metadata": {},
   "source": [
    "### Module import\n",
    "\n",
    "In conda env `base`"
   ]
  },
  {
   "cell_type": "code",
   "execution_count": 1,
   "metadata": {},
   "outputs": [],
   "source": [
    "import pickle, glob\n",
    "from pathlib import Path\n",
    "from tqdm import tqdm\n",
    "from multiprocessing import Pool"
   ]
  },
  {
   "cell_type": "markdown",
   "metadata": {},
   "source": [
    "### Key variables"
   ]
  },
  {
   "cell_type": "code",
   "execution_count": 2,
   "metadata": {},
   "outputs": [],
   "source": [
    "# Reproducibility\n",
    "seed = 20220609\n",
    "\n",
    "# Setting working directory\n",
    "proj_dir   = Path.home() / \"projects/plant_sci_hist\"\n",
    "base_dir   = proj_dir / \"7_countries\"\n",
    "work_dir   = base_dir / \"7_2_nomi_consolidate\"\n",
    "work_dir.mkdir(parents=True, exist_ok=True)\n",
    "\n",
    "dir71      = base_dir / \"7_1_parse_countries\"\n",
    "\n",
    "# country info based on pycountry\n",
    "ci_pyc_file  = dir71 / \"country_info-pycountry.pickle\"\n",
    "\n",
    "# Nominatim out directories\n",
    "nomi_out_dirs = [\n",
    "      dir71 / \"nominatim_na_out\" , dir71 / \"nominatim_na_out2\",\n",
    "      dir71 / \"nominatim_as_out\" , dir71 / \"nominatim_as_out2\",\n",
    "      dir71 / \"nominatim_eu1_out\", dir71 / \"nominatim_eu1_out2\",\n",
    "      dir71 / \"nominatim_eu2_out\", dir71 / \"nominatim_eu2_out2\", \n",
    "      dir71 / \"nominatim_ao_out\" , dir71 / \"nominatim_ao_out2\"]"
   ]
  },
  {
   "cell_type": "markdown",
   "metadata": {},
   "source": [
    "## ___Go through nominatim result files___"
   ]
  },
  {
   "attachments": {},
   "cell_type": "markdown",
   "metadata": {},
   "source": [
    "### Function for parsing nomi file"
   ]
  },
  {
   "cell_type": "code",
   "execution_count": 3,
   "metadata": {},
   "outputs": [],
   "source": [
    "def parse_nomi_file(nomi_file):\n",
    "  '''\n",
    "  Args:\n",
    "    nomi_file (str): path to a Nominatim search output file with the following\n",
    "      structure - \n",
    "  Return\n",
    "    pmid (str): pubmed id\n",
    "    AU (list): author list\n",
    "    AD (list): author address list\n",
    "    a3 (str): a3 country code, may be NA\n",
    "    ni (float): importance of nominatim search result\n",
    "  '''\n",
    "  # Get pmid\n",
    "  pmid = nomi_file.split(\"/\")[-1]\n",
    "  if pmid.find(\"_\") == -1:\n",
    "    pmid = pmid.split(\".\")[0]\n",
    "  else:\n",
    "    pmid = pmid.split(\"_\")[0]\n",
    "\n",
    "  # Read file and parse AD, AU, a3, and nominatim output dictionary\n",
    "  with open(nomi_file, \"r\") as f:\n",
    "    nomi = f.readline().split('\\t')\n",
    "  \n",
    "  AU = eval(nomi[0])                 # authors\n",
    "  AD = eval(nomi[1])                 # addresses\n",
    "  a3 = nomi[2]                       # a3 code\n",
    "\n",
    "  # If no info, nominatim importance (ni) is set to 0\n",
    "  if a3 != \"NA\":\n",
    "    ni = eval(nomi[3])['importance'] # nominatim out importance\n",
    "  else:\n",
    "    ni = 0\n",
    "\n",
    "  return pmid, AU, AD, a3, ni"
   ]
  },
  {
   "attachments": {},
   "cell_type": "markdown",
   "metadata": {},
   "source": [
    "### Parallized parse_nomi_file calls\n",
    "\n",
    "Some tips:\n",
    "- [Super fast python](https://superfastpython.com/multiprocessing-for-loop/)\n",
    "- [Multiprocessing for loop and dictionary](#https://stackoverflow.com/questions/60054676/using-python-multiprocessing-on-a-for-loop-that-appends-results-to-dictionary)\n",
    "  - For nominatim_na_out with 89489 files:\n",
    "    - Linear version: 249s\n",
    "    - Parallel version 1: 84s\n",
    "    - Parallel version 2: 75s\n",
    "  - Faster but not that crazy. Was hoping the speed will be x16 because there are 16 cores."
   ]
  },
  {
   "cell_type": "code",
   "execution_count": 4,
   "metadata": {},
   "outputs": [],
   "source": [
    "# Parallel version 2: using Pool\n",
    "def paralle_parse(nomi_out_dirs):\n",
    "  '''\n",
    "  Args:\n",
    "    nomi_out_dirs (list): a list of directories with nomi output files\n",
    "  Return:\n",
    "    ci_nomi (dict): for storing AU, AD, importance and country info\n",
    "  '''\n",
    "  ci_nomi = {} # {pmid:[AU, AD, {importance:[countries]}]}\n",
    "\n",
    "  # Go through each region run/rerun\n",
    "  #for nomi_out_dir in test_dirs:\n",
    "  c = 0\n",
    "  for nomi_out_dir in nomi_out_dirs:\n",
    "    nomi_files = glob.glob(f\"{str(nomi_out_dir)}/*\")\n",
    "    print(str(nomi_out_dir).split(\"/\")[-1], len(nomi_files))\n",
    "\n",
    "    # Go through each file\n",
    "    with Pool(None) as pool:\n",
    "      for result in pool.imap_unordered(parse_nomi_file, nomi_files):\n",
    "        pmid, AU, AD, a3, ni = result\n",
    "\n",
    "        # Populate ci_nomi dictionary\n",
    "        if pmid not in ci_nomi:\n",
    "          ci_nomi[pmid] = [AU, AD, {ni:[a3]}]\n",
    "        elif ni not in ci_nomi[pmid][2]:\n",
    "          ci_nomi[pmid][2][ni] = [a3]\n",
    "        elif ni != 0:\n",
    "          ci_nomi[pmid][2][ni].append(a3) # same importance\n",
    "\n",
    "  return ci_nomi"
   ]
  },
  {
   "cell_type": "markdown",
   "metadata": {},
   "source": [
    "### Generate test data and run parallel parse"
   ]
  },
  {
   "cell_type": "code",
   "execution_count": 5,
   "metadata": {},
   "outputs": [],
   "source": [
    "dir_test = dir71 / \"old_results\"\n",
    "\n",
    "test_dirs = \\\n",
    "     [dir_test / \"nominatim_na_out\", dir_test / \"nominatim_na_out2\",\n",
    "      dir_test / \"nominatim_as_out\", dir_test / \"nominatim_as_out2\"]"
   ]
  },
  {
   "cell_type": "code",
   "execution_count": 6,
   "metadata": {},
   "outputs": [
    {
     "name": "stdout",
     "output_type": "stream",
     "text": [
      "nominatim_na_out 89489\n"
     ]
    }
   ],
   "source": [
    "# Testing parallel_parse\n",
    "test_ci_nomi = paralle_parse(test_dirs)"
   ]
  },
  {
   "cell_type": "markdown",
   "metadata": {},
   "source": [
    "### Spot check ci_nomi"
   ]
  },
  {
   "cell_type": "code",
   "execution_count": null,
   "metadata": {},
   "outputs": [],
   "source": [
    "# check same importance but different countries\n",
    "c = 0\n",
    "for pmid in ci_nomi:\n",
    "  ni_dict = ci_nomi[pmid][2]\n",
    "  for ni in ni_dict:\n",
    "    if len(ni_dict[ni]) > 1:\n",
    "      #if c < 100:\n",
    "      #  print(f\"{pmid}:ni={ni},val={ni_dict[ni]}\")\n",
    "      c += 1\n",
    "\n",
    "print(f\"total={len(ci_nomi)}, same importance={c}\")\n"
   ]
  },
  {
   "cell_type": "code",
   "execution_count": null,
   "metadata": {},
   "outputs": [],
   "source": [
    "# check # of pmids with >1 importance\n",
    "cdict = {} # {num_ni: count}\n",
    "for pmid in ci_nomi:\n",
    "  ni_dict  = ci_nomi[pmid][2] # nominatim importance dictionary\n",
    "  ni_count = len(ni_dict)\n",
    "  if ni_count not in cdict:\n",
    "    cdict[ni_count] = 1\n",
    "  else:\n",
    "    cdict[ni_count]+= 1\n",
    "\n",
    "cdict"
   ]
  },
  {
   "cell_type": "code",
   "execution_count": null,
   "metadata": {},
   "outputs": [],
   "source": [
    "# Check # of pmids where USA importance is lower\n",
    "c = 0\n",
    "for pmid in ci_nomi:\n",
    "  if len(ci_nomi[pmid][2]) > 1:\n",
    "    ni_dict = ci_nomi[pmid][2]  \n",
    "    imps = list(ni_dict.keys()) # importance values\n",
    "    imps.sort()\n",
    "\n",
    "    # Not the one with the highest importance\n",
    "    if \"USA\" not in ni_dict[imps[-1]]:\n",
    "      print(f\"{pmid}:{ni_dict}\")\n",
    "      print(f\"AD={ci_nomi[pmid][1]}\")\n",
    "      c += 1\n",
    "\n",
    "print(f\"total={len(ci_nomi)}, usa < other={c}\")"
   ]
  },
  {
   "cell_type": "code",
   "execution_count": null,
   "metadata": {},
   "outputs": [],
   "source": [
    "# Examine a few examples\n",
    "# Check these again:\n",
    "'''\n",
    "16656733\n",
    "AD  =['Department of Biology, Queen Elizabeth College, (University of London), Campden Hill, London, W.8.']\n",
    "nomi={0.4000099999999999: ['USA'], 0.20000999999999997: ['IND']}\n",
    "\n",
    "16656734\n",
    "AD  =['Department of Plant Physiology, Waite Agricultural Research Institute, Glen Osmond, South Australia.']\n",
    "nomi={0.30000999999999994: ['USA'], 0.4000099999999999: ['IDN']}\n",
    "\n",
    "16656755\n",
    "AD  =['C.S.I.R.O. Division of Horticultural Research, Private Bag No. 1, Glen Osmond, South Australia.']\n",
    "nomi={0.30000999999999994: ['USA'], 0.4000099999999999: ['IDN']}\n",
    "\n",
    "16656757\n",
    "AD  =['Institute of Biology, College of General Education (Kyoyo-gakubu), University of Tokyo, Komaba, Meguro, Tokyo.']\n",
    "nomi={0.21000999999999995: ['USA'], 0.6600099999999999: ['JPN']}\n",
    "'''\n",
    "c = 0\n",
    "for pmid in ci_nomi:\n",
    "  if len(ci_nomi[pmid][2]) == 2:\n",
    "    print(pmid)\n",
    "    print(f\"AD  ={ci_nomi[pmid][1]}\")\n",
    "    print(f\"nomi={ci_nomi[pmid][2]}\\n\")\n",
    "    if c == 100:\n",
    "      break\n",
    "    c += 1"
   ]
  },
  {
   "cell_type": "markdown",
   "metadata": {},
   "source": [
    "## ___Testing___"
   ]
  },
  {
   "cell_type": "code",
   "execution_count": null,
   "metadata": {},
   "outputs": [],
   "source": [
    "# For deprecated codes in Testing\n",
    "from concurrent.futures import ProcessPoolExecutor, as_completed"
   ]
  },
  {
   "cell_type": "markdown",
   "metadata": {},
   "source": [
    "### Deprecated functions"
   ]
  },
  {
   "cell_type": "code",
   "execution_count": null,
   "metadata": {},
   "outputs": [],
   "source": [
    "# Not parallelized version\n",
    "\n",
    "ci_nomi = {} # {pmid:[AU, AD, {importance:[countries]} ]}\n",
    "\n",
    "# Go through each region run/rerun\n",
    "for nomi_out_dir in nomi_out_dirs[:1]:\n",
    "  nomi_files = glob.glob(f\"{str(nomi_out_dir)}/*\")\n",
    "  print(str(nomi_out_dir).split(\"/\")[-1], len(nomi_files))\n",
    "\n",
    "  # Go through each file\n",
    "  # AU, AD, a3, nomi_out \n",
    "  for nomi_file in tqdm(nomi_files):\n",
    "    pmid, AU, AD, a3, ni = parse_nomi_file(nomi_file)  \n",
    "\n",
    "    # Populate ci_nomi dictionary\n",
    "    if pmid not in ci_nomi:\n",
    "      ci_nomi[pmid] = {ni:[AU, AD, [a3]]}\n",
    "    elif ni not in ci_nomi[pmid]:\n",
    "      ci_nomi[pmid][ni] = [AU, AD, [a3]]\n",
    "    elif ni != 0:\n",
    "      ci_nomi[pmid][ni][2].append(a3) # same importance"
   ]
  },
  {
   "cell_type": "code",
   "execution_count": null,
   "metadata": {},
   "outputs": [],
   "source": [
    "# Parallel version 1: using ProcessPoolExecutor\n",
    "\n",
    "ci_nomi = {} # {pmid:[AU, AD, {importance:[countries]} ]}\n",
    "\n",
    "# Go through each region run/rerun\n",
    "#for nomi_out_dir in test_dirs:\n",
    "c = 0\n",
    "for nomi_out_dir in nomi_out_dirs[:1]:\n",
    "  nomi_files = glob.glob(f\"{str(nomi_out_dir)}/*\")\n",
    "  print(str(nomi_out_dir).split(\"/\")[-1], len(nomi_files))\n",
    "\n",
    "  # Go through each file\n",
    "  # AU, AD, a3, nomi_out \n",
    "  with ProcessPoolExecutor() as executor:\n",
    "    futures = {executor.submit(parse_nomi_file, nomi_file): \n",
    "                                      nomi_file for nomi_file in nomi_files}\n",
    "    \n",
    "    for future in as_completed(futures):\n",
    "      pmid, AU, AD, a3, ni = future.result()\n",
    "\n",
    "      # Populate ci_nomi dictionary\n",
    "      if pmid not in ci_nomi:\n",
    "        ci_nomi[pmid] = [AU, AD, {ni:[a3]}]\n",
    "      elif ni not in ci_nomi[pmid][2]:\n",
    "        ci_nomi[pmid][2][ni] = [a3]\n",
    "      elif ni != 0:\n",
    "        ci_nomi[pmid][2][ni].append(a3) # same importance"
   ]
  }
 ],
 "metadata": {
  "kernelspec": {
   "display_name": "base",
   "language": "python",
   "name": "python3"
  },
  "language_info": {
   "codemirror_mode": {
    "name": "ipython",
    "version": 3
   },
   "file_extension": ".py",
   "mimetype": "text/x-python",
   "name": "python",
   "nbconvert_exporter": "python",
   "pygments_lexer": "ipython3",
   "version": "3.10.9"
  },
  "orig_nbformat": 4
 },
 "nbformat": 4,
 "nbformat_minor": 2
}
