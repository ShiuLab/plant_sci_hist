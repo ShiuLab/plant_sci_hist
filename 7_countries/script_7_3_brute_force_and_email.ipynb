{
 "cells": [
  {
   "attachments": {},
   "cell_type": "markdown",
   "metadata": {},
   "source": [
    "# __Step 7.3: Brute force search country names and email__\n",
    "\n",
    "Goal:\n",
    "- After using pycountry and nominatim, some countries are still not found for various reasons. For those with country name in the address string, will try to find them through brute force search.\n",
    "- Also get country code top level domain (ccTLD) info to find countries.\n",
    "\n",
    "Considerations:\n",
    "- The search is very fast, also realize that this will be more accurate than the Nominatim search so decide that, when consolidate results, the order of preference will be:\n",
    "  - pycountry search in 7_1\n",
    "  - brute force search in 7_1e\n",
    "  - consolidated nominatim results from 7_1d\n",
    "- Because of the above, the brute-force search will be applied to ALL records."
   ]
  },
  {
   "cell_type": "markdown",
   "metadata": {},
   "source": [
    "## ___Setup___"
   ]
  },
  {
   "cell_type": "markdown",
   "metadata": {},
   "source": [
    "### Module import\n",
    "\n",
    "In conda env `base`"
   ]
  },
  {
   "cell_type": "code",
   "execution_count": 1,
   "metadata": {},
   "outputs": [],
   "source": [
    "import pickle, pycountry, re\n",
    "import pandas as pd\n",
    "import matplotlib as mpl\n",
    "import matplotlib.pyplot as plt\n",
    "from pathlib import Path\n",
    "from multiprocessing import Pool\n",
    "from tqdm import tqdm"
   ]
  },
  {
   "cell_type": "markdown",
   "metadata": {},
   "source": [
    "### Key variables"
   ]
  },
  {
   "cell_type": "code",
   "execution_count": 2,
   "metadata": {},
   "outputs": [],
   "source": [
    "# Reproducibility\n",
    "seed = 20220609\n",
    "\n",
    "# Setting working directory\n",
    "proj_dir   = Path.home() / \"projects/plant_sci_hist\"\n",
    "base_dir   = proj_dir / \"7_countries\"\n",
    "\n",
    "work_dir   = base_dir / \"7_3_brute_force_and_email\"\n",
    "work_dir.mkdir(parents=True, exist_ok=True)\n",
    "\n",
    "dir71      = base_dir / \"7_1_parse_countries\"\n",
    "\n",
    "# all records' pmid, AU, AD info\n",
    "dict_pmid_au_ad_file = dir71 / \"dict_pmid_AU_AD.pickle\"\n",
    "\n",
    "# consolidated nomi out file\n",
    "# NOT DEFINED\n",
    "\n",
    "# So PDF is saved in a format properly\n",
    "mpl.rcParams['pdf.fonttype'] = 42\n",
    "plt.rcParams[\"font.family\"] = \"sans-serif\""
   ]
  },
  {
   "attachments": {},
   "cell_type": "markdown",
   "metadata": {},
   "source": [
    "## ___Country info___"
   ]
  },
  {
   "attachments": {},
   "cell_type": "markdown",
   "metadata": {},
   "source": [
    "### Get current country code\n",
    "\n",
    "Add a space in front of a3 names to reduce FP results, e.g.:\n",
    "- 11432923 \n",
    "  - \"Centro de Investigacion sobre Fijacion de Nitrogeno, UNAM, Apartado Postal 565-A, Cuernavaca, Mor. Mexico.\" - Found \"NAM\"\n",
    "- 11447000\n",
    "  - 'UNIOESTE-Centro de Ciencias Agrarias, Rua Pernambuco 1777, 85960-000 Mal.Candido Rondon, PR Brazil.' - Found \"EST\"."
   ]
  },
  {
   "cell_type": "code",
   "execution_count": 3,
   "metadata": {},
   "outputs": [],
   "source": [
    "countries = list(pycountry.countries)\n",
    "cnames    = {}  # {name:name_a3} where name can be short or official name\n",
    "a2_a3     = {}  # {a2:a3}, this is for subregion search\n",
    "\n",
    "for country in countries:\n",
    "  name_a2    = country.alpha_2\n",
    "  name_a3    = country.alpha_3\n",
    "  a2_a3[name_a2] = name_a3\n",
    "\n",
    "  name_short = country.name\n",
    "\n",
    "  cnames[\" \" + name_a3]    = name_a3\n",
    "  cnames[name_short] = name_a3\n",
    "\n",
    "  try:\n",
    "    name_offic = country.official_name\n",
    "    cnames[name_offic] = name_a3\n",
    "  except AttributeError:\n",
    "    #print(\"No official name:\", name_short)\n",
    "    pass\n",
    "\n",
    "# Add a special case\n",
    "cnames[\"Republic of China\"] = \"TWN\"\n",
    "cnames[\"Taiwan\"] = \"TWN\"\n",
    "cnames[\" UK\"] = \"GBR\"\n",
    "cnames[\"Russia\"] = \"RUS\"\n",
    "cnames[\"Hong Kong\"] = \"HKG\"\n"
   ]
  },
  {
   "attachments": {},
   "cell_type": "markdown",
   "metadata": {},
   "source": [
    "### Get past country code\n",
    "\n",
    "See [this table](https://www.statcan.gc.ca/en/subjects/standard/sccai/2011/scountry-desc)"
   ]
  },
  {
   "cell_type": "code",
   "execution_count": 4,
   "metadata": {},
   "outputs": [],
   "source": [
    "# Conversion for couple renamed countries and Taiwan\n",
    "cnames_convert = {\"BUR\": \"MMR\", \"ZAR\": \"COD\"}"
   ]
  },
  {
   "cell_type": "code",
   "execution_count": 5,
   "metadata": {},
   "outputs": [],
   "source": [
    "countries_hist = list(pycountry.historic_countries)\n",
    "hnames         = {}  # {historical country name: a3}\n",
    "\n",
    "for country in countries_hist:\n",
    "  # the name in historical countries are the official names\n",
    "  name_a3    = country.alpha_3\n",
    "  name_offic = country.name\n",
    "  name_short = name_offic.split(\",\")[0]\n",
    "\n",
    "  if name_a3 in cnames_convert:\n",
    "    name_a3 = cnames_convert[name_a3]\n",
    "\n",
    "  hnames[\" \" + name_a3]    = name_a3\n",
    "  hnames[name_offic] = name_a3\n",
    "  hnames[name_short] = name_a3"
   ]
  },
  {
   "cell_type": "markdown",
   "metadata": {},
   "source": [
    "### Get subregion to country info"
   ]
  },
  {
   "cell_type": "code",
   "execution_count": 6,
   "metadata": {},
   "outputs": [],
   "source": [
    "subregion_list = list(pycountry.subdivisions)\n",
    "snames         = {} # {subregion_name: a3}\n",
    "\n",
    "for subregion in subregion_list:\n",
    "  name_a2    = subregion.country_code\n",
    "  name_a3    = a2_a3[name_a2]\n",
    "  name_short = subregion.name \n",
    "\n",
    "  # Reqiure a space before\n",
    "  snames[\" \" + name_short] = name_a3"
   ]
  },
  {
   "cell_type": "markdown",
   "metadata": {},
   "source": [
    "### Read all records' pmid, AU, AD info"
   ]
  },
  {
   "cell_type": "code",
   "execution_count": 53,
   "metadata": {},
   "outputs": [],
   "source": [
    "# {pmid:[AU, AD]}\n",
    "\n",
    "with open(dict_pmid_au_ad_file, 'rb') as f:\n",
    "  dict_pmid_au_ad = pickle.load(f)"
   ]
  },
  {
   "cell_type": "code",
   "execution_count": 54,
   "metadata": {},
   "outputs": [
    {
     "data": {
      "text/plain": [
       "421276"
      ]
     },
     "execution_count": 54,
     "metadata": {},
     "output_type": "execute_result"
    }
   ],
   "source": [
    "len(dict_pmid_au_ad)"
   ]
  },
  {
   "cell_type": "code",
   "execution_count": 55,
   "metadata": {},
   "outputs": [
    {
     "name": "stdout",
     "output_type": "stream",
     "text": [
      "400957 [['Davidson WS', 'Walton DJ', 'Flynn TG'], [\"Department of Biochemistry, Queen's University, Kingston, Ontario, Canada.\"]]\n",
      "803110 [['Sagone AL Jr', 'Balcerzak SP', 'Metz EN'], ['Division of Hematology and Oncology, Ohio State University College of Medicine, Columbus 43210.']]\n",
      "1279107 [['Moser O', 'Fuchs M', 'Pinck L', 'Stussi-Garaud C'], ['Institut de Biologie Moleculaire des Plantes du C.N.R.S. et Universite Louis Pasteur, Laboratoire de Virologie, Strasbourg, France.']]\n"
     ]
    }
   ],
   "source": [
    "for idx, pmid in enumerate(dict_pmid_au_ad):\n",
    "  if idx == 3000:\n",
    "    break\n",
    "\n",
    "  if dict_pmid_au_ad[pmid][1] != \"NA\":\n",
    "    print(pmid, dict_pmid_au_ad[pmid])"
   ]
  },
  {
   "cell_type": "markdown",
   "metadata": {},
   "source": [
    "### Add a dictionary to dict_pmid_au_ad"
   ]
  },
  {
   "cell_type": "code",
   "execution_count": 56,
   "metadata": {},
   "outputs": [],
   "source": [
    "for pmid in dict_pmid_au_ad:\n",
    "  if len(dict_pmid_au_ad[pmid]) != 2:\n",
    "    print(\"ERR:\", pmid, dict_pmid_au_ad[pmid])\n",
    "    break"
   ]
  },
  {
   "cell_type": "code",
   "execution_count": 57,
   "metadata": {},
   "outputs": [],
   "source": [
    "for pmid in dict_pmid_au_ad:\n",
    "  dict_pmid_au_ad[pmid].append(\n",
    "    {\"country\":\"\", \"country_hist\":\"\", \"subregion\":\"\", \"email\":\"\"})"
   ]
  },
  {
   "cell_type": "markdown",
   "metadata": {},
   "source": [
    "## ___Brute force search___"
   ]
  },
  {
   "cell_type": "markdown",
   "metadata": {},
   "source": [
    "### Function"
   ]
  },
  {
   "cell_type": "code",
   "execution_count": 58,
   "metadata": {},
   "outputs": [],
   "source": [
    "def find_country(add_str, ndict):\n",
    "  '''\n",
    "  Args:\n",
    "    add_str (str): 1st author address\n",
    "    ndict (dict): name dictionary {a3, short, or official name: a3}, can be\n",
    "      for current/historical countries or subregions.\n",
    "  return:\n",
    "    a3_first (str): a3 country code for the 1st qualified name encountered\n",
    "  '''\n",
    "  # Search against current countries\n",
    "  idxs = {} # {str_idx_where_country_is_found: [country, a3_code]}\n",
    "  for country in ndict:\n",
    "    if country in add_str:\n",
    "      idxs[add_str.find(country)] = [country, ndict[country]]\n",
    "\n",
    "  # For the 1st match\n",
    "  a3_first = \"\"\n",
    "  if idxs != {}:\n",
    "      # first one found\n",
    "    sorted_idxs = list(idxs.keys())\n",
    "    sorted_idxs.sort()\n",
    "    [_, a3_first] = idxs[sorted_idxs[0]]\n",
    "\n",
    "  return a3_first"
   ]
  },
  {
   "attachments": {},
   "cell_type": "markdown",
   "metadata": {},
   "source": [
    "### Against current country"
   ]
  },
  {
   "cell_type": "code",
   "execution_count": 60,
   "metadata": {},
   "outputs": [
    {
     "name": "stderr",
     "output_type": "stream",
     "text": [
      "100%|██████████| 421276/421276 [00:25<00:00, 16253.66it/s]"
     ]
    },
    {
     "name": "stdout",
     "output_type": "stream",
     "text": [
      "361242\n"
     ]
    },
    {
     "name": "stderr",
     "output_type": "stream",
     "text": [
      "\n"
     ]
    }
   ],
   "source": [
    "# Modify dict_pmid_au_ad to include a dictionary as the third element\n",
    "#   {pmid:[AU, AD, \n",
    "#          {\"country\":XX, \"country_hist\":XX, \"subregion\":XX, \"email\":XX}]}\n",
    "found_curr = 0\n",
    "for pmid in tqdm(dict_pmid_au_ad):\n",
    "\n",
    "  AD = dict_pmid_au_ad[pmid][1]\n",
    "  if AD != \"NA\":\n",
    "    add_str = AD[0]\n",
    "    a3 = find_country(add_str, cnames)\n",
    "    if a3 != \"\":\n",
    "      found_curr += 1\n",
    "      #print(a3)\n",
    "\n",
    "    # populate dict\n",
    "    dict_pmid_au_ad[pmid][2][\"country\"] = a3\n",
    "  \n",
    "print(found_curr)"
   ]
  },
  {
   "cell_type": "code",
   "execution_count": 61,
   "metadata": {},
   "outputs": [
    {
     "data": {
      "text/plain": [
       "{'country': 'USA', 'country_hist': '', 'subregion': '', 'email': ''}"
      ]
     },
     "execution_count": 61,
     "metadata": {},
     "output_type": "execute_result"
    }
   ],
   "source": [
    "dict_pmid_au_ad[pmid][2]"
   ]
  },
  {
   "attachments": {},
   "cell_type": "markdown",
   "metadata": {},
   "source": [
    "### Against historical country"
   ]
  },
  {
   "cell_type": "code",
   "execution_count": 62,
   "metadata": {},
   "outputs": [
    {
     "name": "stderr",
     "output_type": "stream",
     "text": [
      "100%|██████████| 421276/421276 [00:03<00:00, 130493.42it/s]"
     ]
    },
    {
     "name": "stdout",
     "output_type": "stream",
     "text": [
      "16573\n"
     ]
    },
    {
     "name": "stderr",
     "output_type": "stream",
     "text": [
      "\n"
     ]
    }
   ],
   "source": [
    "found_hist = 0\n",
    "for pmid in tqdm(dict_pmid_au_ad):\n",
    "\n",
    "  AD = dict_pmid_au_ad[pmid][1]\n",
    "  if AD != \"NA\":\n",
    "    add_str = AD[0]\n",
    "    a3      = find_country(add_str, hnames)\n",
    "    if a3 != \"\":\n",
    "      found_hist += 1\n",
    "    # populate dict\n",
    "    dict_pmid_au_ad[pmid][2][\"country_hist\"] = a3\n",
    "\n",
    "print(found_hist)"
   ]
  },
  {
   "cell_type": "code",
   "execution_count": 67,
   "metadata": {},
   "outputs": [
    {
     "name": "stdout",
     "output_type": "stream",
     "text": [
      "{'country': 'FRA', 'country_hist': 'FXX', 'subregion': '', 'email': ''}\n"
     ]
    }
   ],
   "source": [
    "for pmid in dict_pmid_au_ad:\n",
    "  if dict_pmid_au_ad[pmid][2]['country_hist'] != '':\n",
    "    print(dict_pmid_au_ad[pmid][2])\n",
    "    break"
   ]
  },
  {
   "attachments": {},
   "cell_type": "markdown",
   "metadata": {},
   "source": [
    "### Against subregions"
   ]
  },
  {
   "cell_type": "code",
   "execution_count": 64,
   "metadata": {},
   "outputs": [
    {
     "name": "stderr",
     "output_type": "stream",
     "text": [
      "100%|██████████| 421276/421276 [02:50<00:00, 2474.59it/s]"
     ]
    },
    {
     "name": "stdout",
     "output_type": "stream",
     "text": [
      "401426\n"
     ]
    },
    {
     "name": "stderr",
     "output_type": "stream",
     "text": [
      "\n"
     ]
    }
   ],
   "source": [
    "found_subr = 0\n",
    "for pmid in tqdm(dict_pmid_au_ad):\n",
    "\n",
    "  AD = dict_pmid_au_ad[pmid][1]\n",
    "  if AD != \"NA\":\n",
    "    add_str = AD[0]\n",
    "    a3      = find_country(add_str, snames)\n",
    "    if country != \"\":\n",
    "      found_subr += 1\n",
    "    # populate dict\n",
    "    dict_pmid_au_ad[pmid][2][\"subregion\"] = a3\n",
    "\n",
    "print(found_subr)"
   ]
  },
  {
   "cell_type": "code",
   "execution_count": 69,
   "metadata": {},
   "outputs": [
    {
     "name": "stdout",
     "output_type": "stream",
     "text": [
      "{'country': 'CAN', 'country_hist': '', 'subregion': 'JAM', 'email': ''}\n",
      "[\"Department of Biochemistry, Queen's University, Kingston, Ontario, Canada.\"]\n"
     ]
    }
   ],
   "source": [
    "for pmid in dict_pmid_au_ad:\n",
    "  if dict_pmid_au_ad[pmid][2]['subregion'] != '':\n",
    "    print(dict_pmid_au_ad[pmid][2])\n",
    "    print(dict_pmid_au_ad[pmid][1])\n",
    "    break"
   ]
  },
  {
   "attachments": {},
   "cell_type": "markdown",
   "metadata": {},
   "source": [
    "## ___Get country info based on emails___\n",
    "\n",
    "- [Extract email from text](https://www.tutorialspoint.com/python_text_processing/python_extract_emails_from_text.htm)\n",
    "- [Python email2country](https://pypi.org/project/email2country/): this relies on web services that can break when it cannot find things (e.g., use xyz@google.com)\n",
    "- [Get top level domain to country mapping](https://en.wikipedia.org/wiki/Country_code_top-level_domain)\n",
    "  - [Wikipedia ccTLD](https://en.wikipedia.org/wiki/Country_code_top-level_domain): This is problematic because the name is not in English so many are not found in ISO 3166.\n",
    "  - [ICANN wiki](https://icannwiki.org/Country_code_top-level_domain): This is also problematic because a lot of country names are not consistent with ISO 3166 names (e.g., Republic of Congo in this doc is Republic of the Congo in pycountry)\n",
    "  - [Wikipedia ISO 3166](https://en.wikipedia.org/wiki/List_of_ISO_3166_country_codes): This page has country code AND ccTLD.\n"
   ]
  },
  {
   "cell_type": "markdown",
   "metadata": {},
   "source": [
    "### Get country-code top-level domains"
   ]
  },
  {
   "cell_type": "code",
   "execution_count": 70,
   "metadata": {},
   "outputs": [],
   "source": [
    "# Based on\n",
    "#https://medium.com/aiguys/how-to-scrape-wikipedia-tables-straight-to-pandas-dataframe-in-3-lines-of-code-752e98a9e815\n",
    "html   = \"https://en.wikipedia.org/wiki/List_of_ISO_3166_country_codes\"\n",
    "tables = pd.read_html(html)"
   ]
  },
  {
   "cell_type": "code",
   "execution_count": 71,
   "metadata": {},
   "outputs": [
    {
     "data": {
      "text/html": [
       "<div>\n",
       "<style scoped>\n",
       "    .dataframe tbody tr th:only-of-type {\n",
       "        vertical-align: middle;\n",
       "    }\n",
       "\n",
       "    .dataframe tbody tr th {\n",
       "        vertical-align: top;\n",
       "    }\n",
       "\n",
       "    .dataframe thead th {\n",
       "        text-align: right;\n",
       "    }\n",
       "</style>\n",
       "<table border=\"1\" class=\"dataframe\">\n",
       "  <thead>\n",
       "    <tr style=\"text-align: right;\">\n",
       "      <th></th>\n",
       "      <th>Country</th>\n",
       "      <th>Official</th>\n",
       "      <th>Sovereignty</th>\n",
       "      <th>Alpha-2</th>\n",
       "      <th>Alpha-3</th>\n",
       "      <th>Numeric</th>\n",
       "      <th>Subdivision</th>\n",
       "      <th>ccTLD</th>\n",
       "    </tr>\n",
       "  </thead>\n",
       "  <tbody>\n",
       "    <tr>\n",
       "      <th>0</th>\n",
       "      <td>Afghanistan</td>\n",
       "      <td>The Islamic Republic of Afghanistan</td>\n",
       "      <td>UN member state</td>\n",
       "      <td>.mw-parser-output .monospaced{font-family:mono...</td>\n",
       "      <td>AFG</td>\n",
       "      <td>004</td>\n",
       "      <td>ISO 3166-2:AF</td>\n",
       "      <td>.af</td>\n",
       "    </tr>\n",
       "    <tr>\n",
       "      <th>1</th>\n",
       "      <td>Åland Islands</td>\n",
       "      <td>Åland</td>\n",
       "      <td>Finland</td>\n",
       "      <td>AX</td>\n",
       "      <td>ALA</td>\n",
       "      <td>248</td>\n",
       "      <td>ISO 3166-2:AX</td>\n",
       "      <td>.ax</td>\n",
       "    </tr>\n",
       "    <tr>\n",
       "      <th>2</th>\n",
       "      <td>Albania</td>\n",
       "      <td>The Republic of Albania</td>\n",
       "      <td>UN member state</td>\n",
       "      <td>AL</td>\n",
       "      <td>ALB</td>\n",
       "      <td>008</td>\n",
       "      <td>ISO 3166-2:AL</td>\n",
       "      <td>.al</td>\n",
       "    </tr>\n",
       "  </tbody>\n",
       "</table>\n",
       "</div>"
      ],
      "text/plain": [
       "         Country                             Official      Sovereignty  \\\n",
       "0    Afghanistan  The Islamic Republic of Afghanistan  UN member state   \n",
       "1  Åland Islands                                Åland          Finland   \n",
       "2        Albania              The Republic of Albania  UN member state   \n",
       "\n",
       "                                             Alpha-2 Alpha-3 Numeric  \\\n",
       "0  .mw-parser-output .monospaced{font-family:mono...     AFG     004   \n",
       "1                                                 AX     ALA     248   \n",
       "2                                                 AL     ALB     008   \n",
       "\n",
       "     Subdivision ccTLD  \n",
       "0  ISO 3166-2:AF   .af  \n",
       "1  ISO 3166-2:AX   .ax  \n",
       "2  ISO 3166-2:AL   .al  "
      ]
     },
     "execution_count": 71,
     "metadata": {},
     "output_type": "execute_result"
    }
   ],
   "source": [
    "table_ccTLD = tables[0]\n",
    "table_ccTLD.columns = [\"Country\", \"Official\", \"Sovereignty\", \"Alpha-2\", \n",
    "                       \"Alpha-3\", \"Numeric\", \"Subdivision\", \"ccTLD\"]\n",
    "table_ccTLD.head(3)"
   ]
  },
  {
   "cell_type": "code",
   "execution_count": 72,
   "metadata": {},
   "outputs": [
    {
     "name": "stdout",
     "output_type": "stream",
     "text": [
      ".bq .nl [d]\n",
      ".gb .uk [ad]\n"
     ]
    }
   ],
   "source": [
    "dict_tld = {} # {tld: country}\n",
    "tlds     = table_ccTLD[\"ccTLD\"].tolist()\n",
    "a3s      = table_ccTLD['Alpha-3'].tolist()\n",
    "\n",
    "for idx, tld in enumerate(tlds):\n",
    "\n",
    "  if tld.startswith(\".\"):\n",
    "    # Two cases '.bq .nl...' and '.gb .uk...' Deal with the 2nd case only\n",
    "    if len(tld) > 3:\n",
    "      print(tld) \n",
    "      if tld.startswith('.gb'):\n",
    "        tld = '.uk'\n",
    "      \n",
    "    a3 = a3s[idx]\n",
    "    dict_tld[tld] = a3\n",
    "\n",
    "# Add domains\n",
    "dict_tld[\".edu\"] = \"USA\"\n",
    "dict_tld[\".gov\"] = \"USA\"\n",
    "dict_tld[\".mil\"] = \"USA\""
   ]
  },
  {
   "cell_type": "code",
   "execution_count": 73,
   "metadata": {},
   "outputs": [
    {
     "data": {
      "text/plain": [
       "('PRK', 'TWN')"
      ]
     },
     "execution_count": 73,
     "metadata": {},
     "output_type": "execute_result"
    }
   ],
   "source": [
    "dict_tld['.kp'], dict_tld['.tw']"
   ]
  },
  {
   "cell_type": "markdown",
   "metadata": {},
   "source": [
    "### Functions"
   ]
  },
  {
   "cell_type": "code",
   "execution_count": 74,
   "metadata": {},
   "outputs": [],
   "source": [
    "# Based on:\n",
    "#https://www.tutorialspoint.com/python_text_processing/python_extract_emails_from_text.htm\n",
    "def email_to_country(add_str):\n",
    "  '''\n",
    "  Args:\n",
    "    add_str (str): 1st author address\n",
    "  return:\n",
    "    a3 (str): alpha-3 code of country\n",
    "    ccTLD (str): country code top level domain of the entry found in dict_tld\n",
    "      or if not in dict_tld, the ccTLD of the last email in the list\n",
    "    emails (str): all recovered email\n",
    "  '''\n",
    "  emails = re.findall(r\"[a-z0-9\\.\\-+_]+@[a-z0-9\\.\\-+_]+\\.[a-z]+\", add_str)\n",
    "  a3     = \"\"\n",
    "  ccTLD  = \"\"\n",
    "  if emails != []:\n",
    "    # Get a3 for 1st email with country info\n",
    "    for email in emails:\n",
    "      ccTLD = email[email.rfind(\".\"):]\n",
    "      if ccTLD in dict_tld:\n",
    "        a3 = dict_tld[ccTLD]\n",
    "        break\n",
    "\n",
    "  return a3, ccTLD, emails\n"
   ]
  },
  {
   "cell_type": "markdown",
   "metadata": {},
   "source": [
    "### Get country from email"
   ]
  },
  {
   "cell_type": "code",
   "execution_count": 75,
   "metadata": {},
   "outputs": [
    {
     "name": "stderr",
     "output_type": "stream",
     "text": [
      "100%|██████████| 421276/421276 [00:02<00:00, 180083.71it/s]"
     ]
    },
    {
     "name": "stdout",
     "output_type": "stream",
     "text": [
      "90799 72640\n"
     ]
    },
    {
     "name": "stderr",
     "output_type": "stream",
     "text": [
      "\n"
     ]
    }
   ],
   "source": [
    "found_email = 0\n",
    "found_qua   = 0  # not only has email but has country info\n",
    "dict_emails = {} # {pmid: emails}\n",
    "tld_no_a3   = {} # {tld: count}\n",
    "for pmid in tqdm(dict_pmid_au_ad):\n",
    "\n",
    "  AD = dict_pmid_au_ad[pmid][1]  \n",
    "  if AD != \"NA\":\n",
    "    add_str    = AD[0]\n",
    "    a3, tld, emails = email_to_country(add_str)\n",
    "    if emails != []:\n",
    "      found_email += 1\n",
    "      dict_emails[pmid] = [tld, emails]\n",
    "      \n",
    "      if a3 != \"\":\n",
    "        found_qua += 1\n",
    "      else:\n",
    "        if tld not in tld_no_a3:\n",
    "          tld_no_a3[tld] = [1,{pmid:emails}]\n",
    "        else:\n",
    "          tld_no_a3[tld][0] += 1\n",
    "          tld_no_a3[tld][1] = {pmid:emails}\n",
    "\n",
    "    dict_pmid_au_ad[pmid][2][\"email\"] = a3\n",
    "\n",
    "print(found_email, found_qua)"
   ]
  },
  {
   "cell_type": "code",
   "execution_count": 76,
   "metadata": {},
   "outputs": [
    {
     "name": "stdout",
     "output_type": "stream",
     "text": [
      "{'country': 'JPN', 'country_hist': '', 'subregion': '', 'email': 'JPN'}\n"
     ]
    }
   ],
   "source": [
    "for pmid in dict_pmid_au_ad:\n",
    "  if dict_pmid_au_ad[pmid][2]['email'] != '':\n",
    "    print(dict_pmid_au_ad[pmid][2])\n",
    "    break"
   ]
  },
  {
   "cell_type": "code",
   "execution_count": 77,
   "metadata": {},
   "outputs": [
    {
     "name": "stdout",
     "output_type": "stream",
     "text": [
      "---\n",
      ".aut 1 ['anna.koltunow@adl.hort.csiro.aut']\n",
      "8742336 Division of Horticulture, Commonwealth Scientific and Industrial Research Organization, Adelaide, South Australia anna.koltunow@adl.hort.csiro.aut.\n",
      "---\n",
      ".com 16275 ['nirmalbabu30@hotmail.com']\n",
      "27108333 All India Coordinated Research Project on Spices, Indian Institute of Spices Research, Kozhikode, 673 012, Kerala, India. nirmalbabu30@hotmail.com.\n",
      "---\n",
      ".ip 2 ['oikawa@biology.tohoku.ac.ip']\n",
      "16945093 Graduate School of Life Sciences, Tohoku University, 6-3 Aoba, Sendai 980-8578, Japan. oikawa@biology.tohoku.ac.ip\n",
      "---\n",
      ".j 2 ['shirasaw@kazusa.or.j']\n",
      "22294450 Department of Plant Genome Research, Kazusa DNA Research Institute, 2-6-7 Kazusa-Kamatari, Kisarazu, Chiba 292-0818, Japan. shirasaw@kazusa.or.j\n",
      "---\n",
      ".org 1107 ['t.carruthers@kew.org']\n",
      "33352127 Royal Botanic Gardens Kew, Richmond, London TW9 3AE, UK. Electronic address: t.carruthers@kew.org.\n",
      "---\n",
      ".biologie 2 ['arhah@botanik.biologie']\n",
      "15342780 Department of Plant Biology, Carnegie Institution, Stanford, CA 94305, USA. Farhah@botanik.biologie\n",
      "---\n",
      ".net 416 ['vtrkulja@blic.net']\n",
      "33258428 Agricultural Institute of Republic of Srpska, Banja Luka, Bosnia and Herzegovina; vtrkulja@blic.net.\n",
      "---\n",
      ".ac 7 ['mclean@med.und.ac']\n",
      "20882449 Department of Physiology, Faculty of Medicine, University of Natal, P.O. Box 17039, 4013, Congella, South Africa, mclean@med.und.ac.\n",
      "---\n",
      ".yu 59 ['vasicd@ifvcns.ns.ac.yu']\n",
      "30759897 Institute of Field and Vegetable Crops, Maksima Gorkog 30, 21000 Novi Sad, Yugoslavia e-mail: vasicd@ifvcns.ns.ac.yu Fax: +381-21-413833, , , , , , YU.\n",
      "---\n",
      ".su 64 ['klimov@issp.serpukhov.su']\n",
      "32689063 Department of Regulation Biology, National Institute for Basic Biology, Okazaki 444-8585, Japan. Institute of Basic Biological Problems, Russian Academy of Sciences, Pushchino, Moscow Region, 142290, Russia. Corresponding author; email: klimov@issp.serpukhov.su.\n",
      "---\n",
      ".chr 1 ['felix.mauch@unifr.chr']\n",
      "9276964 Institut fur Pflanzenbiologie, Universitat Zurich, Switzerland. felix.mauch@unifr.chr\n",
      "---\n",
      ".ed 8 ['morri362@msu.ed']\n",
      "23865186 Department of Entomology, 243 Natural Science Building, Michigan State University, 288 Farm Lane, East Lansing, MI 48824, USA. morri362@msu.ed\n",
      "---\n",
      ".up 1 ['kanazawa@res.agr.hokudai.ac.up']\n",
      "9508793 Laboratory of Plant Genetics and Evolution, Faculty of Agriculture, Hokkaido University, Kita 9, Nishi 9, Kita-ku, Sapporo 060, Japan. kanazawa@res.agr.hokudai.ac.up\n",
      "---\n",
      ".uni 4 ['natasa.poklar@bf.uni']\n",
      "31931073 Biotechnical Faculty, University of Ljubljana, Jamnikarjeva 101, 1000, Ljubljana, Slovenia. Electronic address: natasa.poklar@bf.uni-lj.\n",
      "---\n",
      ".u 5 ['marogba@yahoo.co.u']\n",
      "21762034 Department of Chemistry, Obafemi Awolowo University, Ile-Ife, Nigeria. marogba@yahoo.co.u\n",
      "---\n",
      ".chem 2 ['lar_lab@enzyme.chem']\n",
      "10713547 Department of Chemical Enzymology, School of Chemistry, Lomonosov Moscow State University, Moscow, 119899, Russia. lar_lab@enzyme.chem. msu.ru.\n",
      "---\n",
      ".bio 1 ['ozrina@jnlbioch.bio']\n",
      "9864474 Department of Physico-Chemical Biology, School of Biology, Lomonosov Moscow State University, Moscow, 119899, Russia. ozrina@jnlbioch.bio. msu.su.\n",
      "---\n",
      ".c 2 ['goodwill@interchg.ubc.c']\n",
      "10762399 Department of Botany, University of Washington, Seattle, WA 98195, USA. goodwill@interchg.ubc.c\n",
      "---\n",
      ".msu 1 ['kdz@enzyme.chem.msu']\n",
      "10231593 Department of Mycology and Algology, School of Biology, Lomonosov Moscow State University, Moscow, 119899, Russia. kdz@enzyme.chem.msu. su.\n",
      "---\n",
      ".ins 1 ['enwino@hemagogus.ins']\n",
      "10382599 Laboratorio de Biologia Celular, Instituto Nacional de Salud, Bogota, Colombia. enwino@hemagogus.ins.Gov.Co\n",
      "---\n",
      ".acad 1 ['dolashka@orgchm.bg.acad']\n",
      "10532234 Institute of Organic Chemistry, Bulgarian Academy of Sciences, Sofia. dolashka@orgchm.bg.acad\n",
      "---\n",
      ".unimelb 1 ['g.mcfadden@botany.unimelb']\n",
      "10607659 Plant Cell Biology Research Centre, School of Botany, University of Melbourne, Parkville, VIC 3010, Australia. g.mcfadden@botany.unimelb. edu.au\n",
      "---\n",
      ".kuleuven 2 ['wim.vandenende@bio.kuleuven']\n",
      "21037113 Laboratory of Molecular Plant Physiology, Institute of Botany and Microbiology, KU Leuven, B-3001 Leuven, Belgium. wim.vandenende@bio.kuleuven\n",
      "---\n",
      ".hokudai 1 ['kenji@chem.agr.hokudai']\n",
      "10731719 Department of Applied Bioscience, Graduate School of Agriculture, Hokkaido University, Sapporo 060-8589, Japan. kenji@chem.agr.hokudai. ac.jp\n",
      "---\n",
      ".edn 1 ['fgimble@ibt.tamu.edn']\n",
      "10754232 Center for Genome Research, Institute of Biosciences and Technology, The Texas A and M University System Health Science Center, 2121 W. Holcombe Blvd., Texas A and M University, Houston, TX, USA. fgimble@ibt.tamu.edn\n",
      "---\n",
      ".cs 2 ['melias@natur.cuni.cs']\n",
      "11876823 Department of Plant Physiology, Faculty of Science, Charles University, Vinicna 5, Prague 2, Czech Republic. melias@natur.cuni.cs\n",
      "---\n",
      ".n 1 ['aemakers@users.pv.wau.n']\n",
      "10890012 Graduate School of Experimental Plant Sciences, Laboratory of Plant Breeding, Wageningen University, The Netherlands. Krit Raemakers@users.pv.wau.nL\n",
      "---\n",
      ".du 2 ['pearce@wsu.du']\n",
      "18824048 Institute of Biological Chemistry, Washington State University, Pullman, WA 99164-6340, USA. pearce@wsu.du\n",
      "---\n",
      ".bot 1 ['tmeshi@gr.bot']\n",
      "11089867 Department of Botany, Graduate School of Science, Kyoto University, Japan. tmeshi@gr.bot.Kyoto-u.ac.jp\n",
      "---\n",
      ".edo 1 ['scrosson@midway.uchicago.edo']\n",
      "11248020 Department of Biochemistry and Molecular Biology, Center for Advanced Radiation Sources, and Institute for Biophysical Dynamics, University of Chicago, 920 East 58th Street, Chicago, IL 60637, USA. scrosson@midway.uchicago.edo\n",
      "---\n",
      ".ufl 2 ['dsoltis@botany.ufl']\n",
      "21613169 Department of Biology, University of Florida, Gainesville, Florida 32611-8525, USA. dsoltis@botany.ufl .edu\n",
      "---\n",
      ".usda 1 ['kuotm@mail.ncaur.usda']\n",
      "11400070 Microbial Properties Research Unit, National Center for Agricultural Utilization Research, Agricultural Research Service, 1815 North University Street, U.S. Department of Agriculture, Peoria, IL 61604, USA. kuotm@mail.ncaur.usda\n",
      "---\n",
      ".riken 1 ['shimada@postman.riken']\n",
      "11402205 Plant Science Center, RIKEN, Wako-shi, Saitama 351-0198, Japan. shimada@postman.riken\n",
      "---\n",
      ".ra 1 ['belimov@rambler.ra']\n",
      "11547884 Laboratory of Biological Nitrogen, All-Russia Research Institute for Agricultural Microbiology, Saint Petersburg, Russian Federation. belimov@rambler.ra\n",
      "---\n",
      ".hascritto 1 ['m.ali@mail.usa.com.hascritto']\n",
      "11828622 Faculty of Pharmacy, Hamdard University, Hamdard Nagar, New Delhi, India. m.ali@mail.usa.com.hascritto\n",
      "---\n",
      ".wh 1 ['liyouguo@public.wh']\n",
      "11902003 Key Laboratory of Agricultural Microbiology, Huazhong Agricultural University, Wuhan 430070, China. liyouguo@public.wh hb.cn\n",
      "---\n",
      ".vdu 1 ['uknys@af.vdu']\n",
      "12139077 Vytautas Magnus University, Department of Environmental Sciences, Kaunas, Lithuania. Juknys@af.vdu.It\n",
      "---\n",
      ".f 2 ['evillain@laennec.univ-lyon1.f']\n",
      "14871882 Laboratoire de Physiopathologie Metabolique et Renale, Faculte de Medecine Lyon R. T. H. Laennec, INSERM U 499, 7 ue G. Paradin, 69372 Lyon Cedex 08, France. Olivie.Levillain@laennec.univ-lyon1.f\n",
      "---\n",
      ".r 1 ['boudart@smcv.ups-tlse.r']\n",
      "12529518 Unite Mixte de Recherche Centre National de la Recherche Scientifique/Universite Paul Sabatier 5546, Signaux et Messages Cellulaires chez les Vegetaux, Pole de Biotechnologie Vegetale, Auzeville-31326 Castanet Tolosan, France. boudart@smcv.ups-tlse.r\n",
      "---\n",
      ".kyoto 1 ['hiyamagi@cc.kyoto']\n",
      "12582600 Department of Biotechnology, Kyoto Sangyo University, Kamigamo, Kita, Kyoto 603-8555, Japan, hiyamagi@cc.kyoto-su. ac.jp\n",
      "---\n",
      ".hz 1 ['d.kubien@massey.ac.hz']\n",
      "12857837 Department of Botany, University of Toronto, 25 Willcocks Street, Toronto, Ontario, Canada M5S 3B2. d.kubien@massey.ac.hz\n",
      "---\n",
      ".paisley 1 ['fric-bs0@wpmail.paisley']\n",
      "15047763 Division of Biological Sciences, University of Paisley, Paisley PA1 2BE, Scotland, UK. fric-bs0@wpmail.paisley/ac/uk\n",
      "---\n",
      ".edi 1 ['depriest.paula@nmnh.si.edi']\n",
      "15487939 Department of Botany, National Museum of Natural History, Smithsonian Institution, Washington, DC 20013-7012, USA. depriest.paula@nmnh.si.edi.\n",
      "---\n",
      ".edy 1 ['basile@lehman.cuny.edy']\n",
      "15675787 Departments of Biological Sciences and Chemistry, Lehman College of the City University of New York, Bronx, NY 10468, USA. basile@lehman.cuny.edy\n",
      "---\n",
      ".acouk 1 ['catherine.kidner@ed.acouk']\n",
      "15882589 Cold Spring Harbor Laboratory, New York 11724, USA. catherine.kidner@ed.acouk\n",
      "---\n",
      ".ti 1 ['blercari@agr.unipi.ti']\n",
      "16228449 Dipartimento di Biologia delle Piante Agrarie, Universita di Pisa, Pisa, Italy, blercari@agr.unipi.ti.\n",
      "---\n",
      ".cat 73 ['enric.batllori@gmail.com', 'francisco.lloret@uab.cat']\n",
      "33139533 Centre de Recerca Ecologica i Aplicacions Forestals (CREAF), 08193 Cerdanyola del Valles, Barcelona, Spain; enric.batllori@gmail.com francisco.lloret@uab.cat.\n",
      "---\n",
      ".con 1 ['anujsaxena011@rediffmail.con']\n",
      "16850879 Department of Botany, Sacred Heart Degree College, Naipalapur, Sitapur-261 001, India. anujsaxena011@rediffmail.con\n",
      "---\n",
      ".xom 1 ['p.thongphasuk@fastermail.xom']\n",
      "16854727 Department of Pharmaceutical Chemistry, Faculty of Pharmacy, Rangsit University, Pathumtani 12000, Thailand. p.thongphasuk@fastermail.xom\n",
      "---\n",
      ".int 2 ['camilla.pandolfi@esa.int']\n",
      "23648867 Advanced Concepts Team, European Space Agency, Noordwijk, The Netherlands. camilla.pandolfi@esa.int\n",
      "---\n",
      ".fer 1 ['sylvie.meyer@ese.u-psud.fer']\n",
      "17080955 Equipe Biospectroscopie Vegetale, Laboratoire d'Ecologie Systematique et Evolution, UMR 8079, Bat. 362, Universite Paris Sud, 91405 Orsay, France. sylvie.meyer@ese.u-psud.fer\n",
      "---\n",
      ".ils 1 ['phyllisw@volcani.agri.gov.ils']\n",
      "17437258 Agricultural Research Organization, Gilat Research Centre, DN Negev 85280, Israel. phyllisw@volcani.agri.gov.ils\n",
      "---\n",
      ".camanson 1 ['rjgegear@zoo.utoronto.camanson']\n",
      "17498136 Department of Ecology and Evolutionary Biology, University of Toronto, 25 Willcocks Street, Toronto, ON M5S 3B2, Canada. rjgegear@zoo.utoronto.camanson@botany.utoronto.ca\n",
      "---\n",
      ".purdue 1 ['gelvin@bilbo.bio.purdue']\n",
      "17544520 Department of Biological Sciences, Purdue University, West Lafayette, IN 47907-1392, USA. gelvin@bilbo.bio.purdue\n",
      "---\n",
      ".info 6 ['peter@graystock.info']\n",
      "32690902 Department of Entomology, Cornell University, Ithaca, NY, USA. peter@graystock.info.\n",
      "---\n",
      ".deradchukv 1 ['radchukv@ipk-gatersleben.deradchukv']\n",
      "18158258 Leibniz-Institut fur Pflanzengenetik und Kulturpflanzenforschung, D-06466 Gatersleben, Germany. radchukv@ipk-gatersleben.deradchukv@ipk-gatersleben.de\n",
      "---\n",
      ".eu 29 ['allan@buras.eu']\n",
      "32062278 Land Surface-Atmosphere Interactions, Technical University of Munich, 85354 Freising, Germany. Electronic address: allan@buras.eu.\n",
      "---\n",
      ".en 1 ['yangyf@nenu.edu.en']\n",
      "18593034 Key Laboratory of Vegetation Ecology of Education Ministry, Institute of Grassland Science, Northeast Normal University, Changchun, China. yangyf@nenu.edu.en\n",
      "---\n",
      ".europa 1 ['romina.pedreschi@ec.europa']\n",
      "19722581 BIOSYST-MeBioS Division, Katholieke Universiteit Leuven, Leuven, Belgium. romina.pedreschi@ec.europa\n",
      "---\n",
      ".jpv 1 ['ayosa@mail.ecc.u-tokyo.ac.jpv']\n",
      "19800807 Plant Biotechnology Research Center, School of Forestry and Wood Products, Michigan Technological University, 1400 Townsend Drive, Houghton, MI 49931, USA. ayosa@mail.ecc.u-tokyo.ac.jpv\n",
      "---\n",
      ".umn 1 ['liuxx162@tc.umn']\n",
      "20147371 Department of Agronomy and Plant Genetics, University of Minnesota, St Paul, MN 55108, USA. liuxx162@tc.umn\n",
      "---\n",
      ".uth 1 ['athanassiou@agr.uth']\n",
      "20568647 Laboratory of Entomology and Agricultural Zoology, Department of Agriculture, Plant Production and Rural Environment, University of Thessaly, Phytokou str., N. Ionia Magnissias 38446, Greece. athanassiou@agr.uth\n",
      "---\n",
      ".ff 1 ['mhadhbihay@yahoo.ff']\n",
      "21114673 Laboratory of Legumes (LL), CBBC, BP 901, 2050 Hammam lif, Tunisia INA, CERTH, 6th km Charilaou-Thermis Road, 57001 Thermi, Greece. mhadhbihay@yahoo.ff\n",
      "---\n",
      ".tohoku 1 ['wataru.yamori@biochem.tohoku']\n",
      "21177473 Molecular Plant Physiology Cluster, Plant Science Division, Research School of Biology, Australian National University, Canberra, Australian Capital Territory 2601, Australia. wataru.yamori@biochem.tohoku\n",
      "---\n",
      ".edul 1 ['maliga@waksman.rutgers.edul']\n",
      "21181523 Waksman Institute of Microbiology, Rutgers, The State University of New Jersey, Piscataway, NJ, USA. maliga@waksman.rutgers.edul\n",
      "---\n",
      ".corn 1 ['jjshi61@sohu.corn']\n",
      "21528570 Institute of Science, Zhejiang Sci-Tech University, Hangzhou 310018, China. jjshi61@sohu.corn\n",
      "---\n",
      ".biz 1 ['livier@bioconsult.biz']\n",
      "22186914 Department of Zoology, Oregon State University, Corvallis, Oregon 97331, USA. Olivier@bioconsult.biz\n",
      "---\n",
      ".mii 1 ['judzent@ktl.mii']\n",
      "22474965 Center for Physical Sciences and Technology, Institute of Chemistry, A. Gostauto 9, LT- 01108 Vilnius, Lithuania. judzent@ktl.mii.It\n",
      "---\n",
      ".iy 1 ['cruibal@fcien.edu.iy']\n",
      "22608523 Laboratorio de Biologia Molecular Vegetal, Facultad de Ciencias, Universidad de la Republica, Igua 4225, CP 11400 Montevideo, Uruguay. cruibal@fcien.edu.iy\n",
      "---\n",
      ".name 1 ['art@gjones.name']\n",
      "23427289 Department of Biological and Environmental Sciences, University of Gothenburg, Gothenburg, Sweden. art@gjones.name\n",
      "---\n",
      ".p 3 ['marciac@utad.p']\n",
      "31415937 Centre for Research and Technology of Agro-Environment and Biological Sciences (CITAB), University of Tras-os-Montes and Alto Douro (UTAD), 5000-801 Vila Real, Portugal. Electronic address: marciac@utad.p.\n",
      "---\n",
      ".cas 1 ['milec@ueb.cas']\n",
      "24091290 Centre of the Region Hana for Biotechnological and Agricultural Research, Institute of Experimental Botany, Slechtitelu 31, Olomouc CZ-78371, Czech Republic. Electronic address: milec@ueb.cas.\n",
      "---\n",
      ".cuni 1 ['kulich@natur.cuni']\n",
      "24786101 Department of Experimental Plant Biology, Faculty of Sciences, Charles University, Vinicna 5, 128 43 Prague 2, Czech Republic. kulich@natur.cuni.\n",
      "---\n",
      ".z 1 ['jan.nagel@fabi.up.ac.z']\n",
      "26240308 Department of Genetics, Forestry and Agricultural Biotechnology Institute (FABI), University of Pretoria, Pretoria 0001, South Africa jan.nagel@fabi.up.ac.z.\n",
      "---\n",
      ".pro 1 ['sekretariat@doweld.pro']\n",
      "26701548 National Institute of Carpology (Gaertnerian Institution), 21 Konenkowa Street, RUS-127560, Moscow, Russian Federation.; Email: sekretariat@doweld.pro.\n",
      "---\n",
      ".eus 20 ['jon.miranda@ehu.eus']\n",
      "33010664 Departamento de Biologia Vegetal y Ecologia, Facultad de Ciencia y Tecnologia, Universidad del Pais Vasco, UPV/EHU, Apdo. 644, E-48080, Bilbao, Spain. Electronic address: jon.miranda@ehu.eus.\n",
      "---\n",
      ".ruu 1 ['h.huber@boev.biol.ruu']\n",
      "28307238 Department of Plant Ecology and Evolutionary Biology, Utrecht University, P.O. Box 800.84, NL-3508 TB Utrecht, The Netherlands fax:+31-30-2518366; e-mail: h.huber@boev.biol.ruu.NL, , , , , , NL.\n",
      "---\n",
      ".asia 1 ['sangam@ait.asia']\n",
      "28494294 Water Engineering and Management, School of Engineering and Technology, Asian Institute of Technology, P.O. Box 4, Klong Luang, Pathum Thani 12120, Thailand. Electronic address: sangam@ait.asia.\n",
      "---\n",
      ".today 1 ['a.turaki@agshare.today']\n",
      "28696406 Natural Resources Institute, University of Greenwich, Central Avenue, Chatham Maritime, Kent ME4 4TB, UK. a.turaki@agshare.today.\n",
      "---\n",
      ".krd 1 ['hiwa.azeez@su.edu.krd']\n",
      "30878776 Department of Physics, College of Education, Salahaddin University - Erbil, Erbil, Iraq. Electronic address: hiwa.azeez@su.edu.krd.\n",
      "---\n",
      ".scot 2 ['jason.sumner-kalkun@sasa.gov.scot']\n",
      "33024134 SASA, Roddinglaw Road, Edinburgh, EH12 9FJ, Midlothian, UK. jason.sumner-kalkun@sasa.gov.scot.\n",
      "---\n",
      ".berlin 1 ['oiffard@mfn.berlin']\n",
      "31285562 Museum fur Naturkunde, Leibniz Institute for Evolution and Biodiversity Science, Berlin, Germany. Clement.Coiffard@mfn.berlin.\n",
      "---\n",
      ".cinvestav 1 ['jruiz@ira.cinvestav']\n",
      "31915950 Departamento de Ingenieria Genetica, Unidad Irapuato, Centro de Investigacion y de Estudios Avanzados del IPN, Km. 9.4 Carretera Irapuato-Leon, Irapuato, Gto., Mexico. jruiz@ira.cinvestav.\n",
      "---\n",
      ".poznan 1 ['pczerniawski@ibch.poznan']\n",
      "33130372 Institute of Bioorganic Chemistry, Polish Academy of Sciences, Noskowskiego 12/14, 61-704, Poznan, Poland. Electronic address: pczerniawski@ibch.poznan.\n",
      "---\n",
      ".johnson 1 ['scott.johnson@westernsydney.edu.auscott.johnson']\n",
      "33199260 Hawkesbury Institute for the Environment, Western Sydney University, Locked Bag 1797, Penrith, NSW 2751, Australia. Electronic address: scott.johnson@westernsydney.edu.auscott.johnson@westernsydney.edu.au.\n"
     ]
    }
   ],
   "source": [
    "for tld in tld_no_a3:\n",
    "  counts = tld_no_a3[tld][0]\n",
    "  for pmid in tld_no_a3[tld][1]:\n",
    "    emails = tld_no_a3[tld][1][pmid]\n",
    "    print(\"---\")\n",
    "    print(tld, counts, emails[:2])\n",
    "    print(pmid, dict_pmid_au_ad[pmid][1][0])\n",
    "    break"
   ]
  },
  {
   "attachments": {},
   "cell_type": "markdown",
   "metadata": {},
   "source": [
    "## ___Export results___"
   ]
  },
  {
   "cell_type": "code",
   "execution_count": 78,
   "metadata": {},
   "outputs": [],
   "source": [
    "# {pmid: [ccTLD, emails]}\n",
    "\n",
    "dict_emails_file = work_dir / \"dict_pmid_ccTLD_emails.pickle\"\n",
    "with open(dict_emails_file, \"wb\") as f:\n",
    "  pickle.dump(dict_emails, f)"
   ]
  },
  {
   "cell_type": "code",
   "execution_count": 79,
   "metadata": {},
   "outputs": [],
   "source": [
    "# dict_pmid_au_ad populated after brute force and email search\n",
    "\n",
    "dict_pmid_au_ad_BRUTE_file = work_dir / \"dict_pmid_au_ad_BRUTE.pickle\"\n",
    "with open(dict_pmid_au_ad_BRUTE_file, \"wb\") as f:\n",
    "  pickle.dump(dict_pmid_au_ad, f)"
   ]
  },
  {
   "cell_type": "markdown",
   "metadata": {},
   "source": [
    "## ___Testing___"
   ]
  },
  {
   "attachments": {},
   "cell_type": "markdown",
   "metadata": {},
   "source": [
    "### Test brute force search\n",
    "\n",
    "Look at the test results, most have:\n",
    "- No country info but with city and zip codes\n",
    "- Mispelling\n",
    "- Fused words\n",
    "- Only insitutional info\n",
    "\n",
    "Some of the above have email address. So should explore using email address to parse info also."
   ]
  },
  {
   "cell_type": "code",
   "execution_count": null,
   "metadata": {},
   "outputs": [],
   "source": [
    "# Read test file\n",
    "test_file = dir71 / \"country_info-nominatim_as_NF.pickle\"\n",
    "with open(test_file, \"rb\") as f:\n",
    "  test_nf = pickle.load(f)"
   ]
  },
  {
   "cell_type": "code",
   "execution_count": null,
   "metadata": {},
   "outputs": [],
   "source": [
    "# Get 1000 records\n",
    "test_nf_1k = {}\n",
    "for idx, pmid in enumerate(test_nf):\n",
    "  if idx == 1e3:\n",
    "    break\n",
    "  test_nf_1k[pmid] = test_nf[pmid]"
   ]
  },
  {
   "cell_type": "code",
   "execution_count": null,
   "metadata": {},
   "outputs": [
    {
     "name": "stderr",
     "output_type": "stream",
     "text": [
      "100%|██████████| 1000/1000 [00:00<00:00, 12238.21it/s]"
     ]
    },
    {
     "name": "stdout",
     "output_type": "stream",
     "text": [
      "10077500 ['Department of Plant Biology, Southern Illinois University, Carbondale, Illinois 62901-6509.']\n",
      "10318702 ['Laboratoire de Biogenese Membranaire, Unite Mixte de Recherche-5544-Centre National de la Recherche Scientifique (CNRS) (B.S.-B., P.V., L.M.-P., C.C., P.M.).']\n",
      "10447885 ['Host-Parasite Interactions Section, Laboratory of Intracellular Parasites.']\n",
      "10465386 ['Centre for Reproductive Biology, Swedish University of Agricultural Sciences, Uppsala. Asheber.Swealem@bbsrc.ac.uk']\n",
      "10469156 ['Institut de Biologie Moleculaire des Plantes, CNRS, Strasbourg, Frnace.']\n",
      "10474289 ['Katedra i Zaklad Bromatologii, Akademia Medyczna we Wroclawiu.']\n",
      "10476083 ['Department of Forest Genetics and Plant Physiology, Swedish University of Agricultural Sciences, Umea.']\n",
      "10480390 ['Department of Forest Genetics, Uppsala Genetic Centre, Swedish University of Agricultural Sciences.']\n",
      "10480393 ['Department of Plant Biology, Swedish University of Agricultural Sciences, Uppsala.']\n",
      "10482013 ['Department of Fruit, Vegetable and Food Science, Danish Institute of Agricultural Sciences, Aarslev.']\n",
      "10487812 ['Department of Botany and Plant Pathology, Oregon State University, Corvallis, Oregon 97331-2902.']\n",
      "10579485 ['Department of Plant Biology, Uppsala Genetic Center, Swedish University of Agricultural Sciences.']\n",
      "10608658 ['Department of Plant Biology, Swedish University of Agricultural Sciences, Uppsala.']\n",
      "10628222 ['Zaklad Chemii Srodowiska i Ekotoksykologii Wydzial Chemii, Uniwersytet Gdanski.']\n",
      "10649387 ['Department of Chemistry The Pennsylvania State University University Park, PA 16802 (USA).']\n",
      "10653175 ['A.v.H. Inst. Plant Sciences, Gottingen.']\n",
      "10680175 ['cambier@cico.ucl.ac.be']\n",
      "10683909 ['Department of Phytochemistry, Shenyang Pharmaceutical University.']\n",
      "10691977 ['Lehrstuhl fur Pharmazeutische Biologie, Institut fur Pharmazie, Johannes Gutenberg-Universitat Mainz.']\n",
      "10694067 ['Polish Academy of Sciences, Department of Plant Physiology, Cracow. E.Niewiadomska@zfr.pan.krakow.pl']\n",
      "10727165 ['Department of Fruit, Vegetable and Food Science, Danish Institute of Agricultural Sciences, Aarslev.']\n",
      "10743215 ['Chemistry Research Department of Natural Medicine, Kunming Medical College.']\n",
      "10743657 ['Zentrum fur Molekularbiologie der Pflanzen Tubingen (ZMBP), Tubingen.']\n",
      "10748129 ['Department of Botany and Plant Ecology, University of Sassari, Via Muroni 25, 07100 Sassari. albani@ssmain.uniss.it']\n",
      "10748741 ['Katedra farmakognozie, Farmaceuticke fakulty, Univerzity Karlovy, Hradec Kralove.']\n",
      "10748744 ['Katedra farmakognozie, Farmaceuticke fakulty, Univerzity Karlovy, Hradec Kralove.']\n",
      "10752126 ['Chair of Genetics, Selection and Theory of Evolution, Voronezh State University. bsgen185@main.vsu.ru']\n",
      "10755301 ['Department of Plant Biology, Uppsala Genetic Center, Swedish University of Agricultural Sciences.']\n",
      "10755306 ['Department of Plant Biology, Swedish University of Agricultural Sciences, Uppsala.']\n",
      "10755308 ['Department of Plant Biology, Uppsala Genetic Center, Swedish University of Agricultural Sciences.']\n",
      "10778737 ['Agricultural Institute of the Hungarian Academy of Sciences, Martonvasar. vagujfal@fsnew.mgki.hu']\n",
      "10798616 ['Uppsala Genetic Center, Department of Forest Genetics, Swedish University of Agricultural Sciences.']\n",
      "10798621 ['Department of Plant Biology, Uppsala Genetic Center, Swedish University of Agricultural Sciences.']\n",
      "10846938 ['Zaklad Chemii Analitycznej Uniwersytet Slaski, Katowice.']\n",
      "10852353 ['Department of Entomology: University of Missouri, Columbia 65211USA.']\n",
      "10902844 ['Department of Forest Ecology, Swedish University of Agricultural Sciences, Umea. agneta.plamboeck@sek.slu.se']\n",
      "10952198 ['Depto. de Botanica, Instituto de Biociencias- Universidade de Sao Paulo, S.P. Brasil.']\n",
      "10953862 [\"Institute of Biochemistry and Biophysics, Kazan' Research Center RAS.\"]\n",
      "11048592 ['Instituto de Ciencia y Tecnologia de Alimentos, Facultad de Ciencias, Universidad Central de Venezuela, Caracas-Venezuela.']\n",
      "11051813 ['Key Laboratory of Crop Cytogenetics, Minstry of Agricultural, Nanjing Agricultural University.']\n",
      "11052204 ['Institute of Plant Biology Biological Research Center of the Hungarian Academy of Sciences, Szeged.']\n",
      "11089685 ['Department of Forest Genetics and Plant Physiology, The Swedish University of Agricultural Sciences, Umea.']\n",
      "11117881 ['NZ Institute for Industrial Research and Development, Lower Hutt. k.markham@irl.cri.nz']\n",
      "11195337 ['Agricultural Research Institute of the Hungarian Academy of Sciences, Martonvasar. molnarm@mail.mgki.hu']\n",
      "11242835 ['Katedra farmakognozie Farmaceuticke fakulty Univerzity Karlovy, Hradec Kralove.']\n",
      "11243221 ['Shaanxi Academy of Traditional Chinese Medicine, Xian 710003.']\n",
      "11247609 ['Biotechnology Group, Danish Institute of Agricultural Sciences, Frederiksberg C.']\n",
      "11288595 ['Katedra farmaceuticke botaniky a ekologie Farmaceuticke fakulty Univerzity Karlovy, Hradec Kralove.']\n",
      "11292073 ['Department of Plant Biology, Uppsala Genetic Center, Swedish University of Agricultural Sciences. maria.nylander@vbiol.slu.se']\n",
      "11292079 ['Department of Plant Biology, Uppsala Genetic Center, Swedish University of Agricultural Sciences. maria.nylander@vbiol.slu.se']\n",
      "11298950 ['Pos-Graduacao em Biotecnologia e Recursos Geneticos, Universidade Catolica de Brasilia, Brasilia, SGAN 916, Mod. B, Asa Norte, Brasilia, D.F. Brasil, 70790-160. rosanegc@pos.ucb.br']\n",
      "11303650 ['Finnish Forest Research Institute, Vantaa Research Centre.']\n",
      "11337394 ['Horticultural Sciences Department, University of Florida, Gainesville, Florida 32611; e-mail: adha@gnv.ifas.ufl.edu']\n",
      "11344353 ['Forschungszentrum Borstel, Borstel; and Allergopharma Joachim Ganzer KG, Reinbek.']\n",
      "11386366 ['Biotechnology Group, Danish Institute of Agricultural Sciences, Fredriksberg.']\n",
      "11428132 ['guidilu@agr.unipi.it']\n",
      "11443913 ['azel@genome.eimb.relarn.ru']\n",
      "11443934 ['elena@radio.chem.msu.ru']\n",
      "11455874 ['coenen@bbsrc.ac.uk']\n",
      "11469593 ['Department of Forest Genetics and Plant Physiology, Swedish University of Agricultural Sciences, Umea.']\n",
      "11485197 ['Department of Environmental Microbiology and Molecular Ecotoxicology, Swiss Federal Institute for Environmental Science and Technology (EAWAG), Duebendorf.']\n",
      "11485203 ['Biotechnology Group, Danish Institute of Agricultural Sciences, Frederiksberg.']\n",
      "11488474 ['Centre for Molecular Plant Physiology (PlaCe), Danish Institute of Agricultural Sciences, Frederiksberg C.']\n",
      "11488480 ['Department of Forest Genetics, Swedish University of Agricultural Sciences, Uppsala. lindroth@ucla.edu']\n",
      "11498871 ['Sichuan Institute of Chinese Materia Medica, Chongqing 630065.']\n",
      "11504345 ['Swiss Federal Institute for Forest, Snow and Landscape Research (WSL), Birmensdorf. brunner@wsl.ch']\n",
      "11525513 ['Department of Plant Biology, Swedish University of Agricultural Sciences, Uppsala. folke.sitbon@vbiol.slu.se']\n",
      "11534131 ['iidao@nihs.go.jp']\n",
      "11534175 [\"Institute of Biochemistry and Biophysics, Kazan' Scientific Centre of RAS. ponomareva@sci.ken.ru\"]\n",
      "11536940 ['Plant Growth Laboratory and Department of Agronomy and Range Science, University of California, Davis 95616.']\n",
      "11536959 ['Department of Plant Biology, Ohio State University, Columbus 43210.']\n",
      "11537059 ['Biomedical Operations and Research Office, J. F. Kennedy Space Center, FL 32899.']\n",
      "11537078 ['Wisconsin Center for Space Automation and Robotics, University of Wisconsin-Madison 53706.']\n",
      "11537086 ['Department of Plants, Soils, and Biometeorology, Utah State University, Logan 84322-4820.']\n",
      "11537278 ['Plant Growth Laboratory, University of California, Davis 95616.']\n",
      "11537382 ['NASA/Ames Research Center, Moffett Field, CA 94035.']\n",
      "11537434 ['Plant Growth Laboratory, University of California, Davis 95616.']\n",
      "11537453 ['Michigan State University-Department of Energy Plant Research Laboratory, East Lansing 48824.']\n",
      "11537454 ['Department of Biochemistry and Biophysics, University of California, Davis 95616.']\n",
      "11537477 ['Departments of Wood Science and Forest Products, and Biochemistry, Virginia Polytechnic Institute and State University, Blacksburg 24061.']\n",
      "11537481 ['Department of Plant Biology, Ohio State University, Columbus 43210.']\n",
      "11537484 ['U.S. Department of Agriculture, Plant Science Institute, Beltsville, Maryland 20705.']\n",
      "11537490 ['Department of Botany and Plant Pathology, Oregon State University, Corvallis 97331-2902.']\n",
      "11537499 ['Department of Agronomy and Range Science, University of California, Davis 95616.']\n",
      "11537504 ['Department of Soil Science and Plant Physiology Program, North Carolina State University, Raleigh 27695-7619.']\n",
      "11537629 ['NASA Biomedical Operations and Res. Office, Kennedy Space Ctr., FL 32899.']\n",
      "11537665 ['Department of Plant Pathology and Crop Physiology, Louisiana State University Agricultural Center, Baton Rouge 70803.']\n",
      "11537676 ['NASA Biomedical Operations and Research Office, Kennedy Space Center, FL 32899.']\n",
      "11537753 ['Dep. Biol., Univ. of Michigan, Ann Arbor 48109.']\n",
      "11537870 ['Department of Plant Biology, The Ohio State University, Columbus 43210.']\n",
      "11537883 ['Department of Agronomy and Range Science, University of California, Davis 95616.']\n",
      "11537887 ['Michigan State University-Department of Energy Plant Research Laboratory, East Lansing 48824.']\n",
      "11537894 ['Department of Plants, Soils, and Biometeorology, Utah State University, Logan 84322-4820.']\n",
      "11537905 ['The Bionetics Corporation, Kennedy Space Center, FL 32899.']\n",
      "11537908 ['Department of Plant Biology, Ohio State University, Columbus 43210.']\n",
      "11537966 ['Department of Plant and Soil Science, The University of Tennessee, Knoxville 37901-1071.']\n",
      "11537973 ['Plant Space Biology Laboratory, The Bionetics Corporation, Kennedy Space Center, Florida 32899.']\n",
      "11538049 ['Department of Plant Biology, The Ohio State University, Columbus 43210.']\n",
      "11541515 ['Department of Biochemistry and Cell Biology, State University of New York at Stony Brook 11794-5215.']\n",
      "11542662 ['Institut fur Biologie II, Albert-Ludwigs-Universitat Freiburg.']\n",
      "11552649 ['Kazan Institute of Biochemistry and Biophysics, Kazan Centre RAS. valitova@sci.kcn.ru']\n",
      "11554475 ['Department of Forest Genetics and Plant Physiology, Swedish University of Agricultural Sciences, Umea.']\n",
      "11569770 ['Institute of Food Research and Nutrition, Danish Veterinary and Food Administration, Soborg. kgr@fdir.dk']\n",
      "11579692 ['Katedra farmakognozie Farmaceuticke fakulty Univerzity Karlovy, Hradec Kralove. kasparova@faf.cuni.cz']\n",
      "11596317 ['Department of Clinical Pharmaceutics, General Hospital of Beijing Military Command, Beijing 100700.']\n",
      "11605535 ['van@niboch.nsc.ru']\n",
      "11671125 ['Department of Chemistry and Stanford Synchrotron Radiation Laboratory, Stanford University, Stanford, California 94305, and Department of Biochemistry and the Center for Metals in Biocatalysis, University of Minnesota, Minneapolis, Minnesota 55455.']\n",
      "11678052 ['Departamento de Tecnologia de Alimentos e Medicamentos, Centro de Ciencias Agrarias da Universidade Estadual de Londrina.']\n",
      "11701830 ['The Ohio State University and Ohio Agricultural Research and Development Center, Wooster, Ohio 44691; e-mail: hoitink.1@osu.edu']\n",
      "11715343 ['Deutsches Institut fur Ernahrungsforschung, Abteilung Praventiv-Medizinische Lebensmittelforschung, Arthur-Scheunert-Allee 114-116, D-14558 Bergholz-Rehbrucke. dongo@www.dife.de']\n",
      "11732856 ['Department of Plant Biology, The Genetic Center, The Swedish University of Agricultural Sciences, Uppsala.']\n",
      "11756258 ['Dep. of Crop and Soil Environmental Sciences, Virginia Tech, Blacksburg, Virginia 24061-0404. Dep. of Plant Pathology, Physiology, and Weed Sciences, Virginia Tech, Blacksburg, Virginia 24061-0404.']\n",
      "11756282 ['Texas Agricultural Experiment Station, 1229 North U.S. Hwy. 281, Stephenville, TX 76401-9698.']\n",
      "11756284 ['Crop and Soil Environmental Sciences, Virginia Tech, Blacksburg, VA 24061-0404. Monsanto Company, 3302 SE Convenience Blvd., Ankeny, IA 50021. USDA-ARS Small Fruits Research Unit, 306 S. High St., Poplarville, MS 39470.']\n",
      "11757366 ['Yunnan Agricultural University, Kunming 650201. liyuanzu@public.km.yn.cn']\n",
      "11843526 ['The Finnish Forest Research Institute, Parkano Research Station. seppo.kaunisto@metla.fi']\n",
      "11855654 ['Leibniz-Institut fur Pflanzenbiochemie, Halle/Saale. tvogt@ipb-halle.de']\n",
      "11858231 ['Department of Plant Biology, Swedish University of Agricultural Sciences, Uppsala. Anders.Kvarnheden@vbiol.slu.se']\n",
      "11862663 ['Szegedi Tudomanyegyetem Farmakognoziai Intezet, H-6720 Szeged, Eotvos u.6.']\n",
      "11876428 ['Biotechnology Group, Danish Institute of Agricultural Sciences, Frederiksberg.']\n",
      "11910743 ['Katedra farmakognozie Farmaceuticke fakulty Univerzity Karlovy, Hradec Kralove. siatka@faf.cuni.cz']\n",
      "11917843 ['Institute of Chinese Materia Medica, Chinese Academy of TCM, Beijing 100700.']\n",
      "11926495 ['Department of Plant Biology, Swedish University of Agricultural Sciences, Uppsala. Anna.Westerbergh@vbiol.slu.se']\n",
      "11961901 ['Debreceni Egyetem, Termeszettudomanyi Kar, Biokemiai Tanszek, Debrecen.']\n",
      "11996385 ['Department of Plant Ecology, Institute of Ecology, Polish Academy of Sciences, Lomianki. ekofito@pan.pl']\n",
      "12008899 ['Department of Plant biology, Uppsala Genetics Center, Swedish University of Agricultural Sciences.']\n",
      "12080369 ['yyj00204@direct.ca']\n",
      "12091748 ['markdwarner@hotmail.com']\n",
      "12092195 ['Facultatea de Bioinginerie Medicala, Universitatea de Medicina si Farmacie Gr.T. Popa Iasi.']\n",
      "12118888 ['Department of Plant Biology, Swedish University of Agricultural Sciences, Uppsala.']\n",
      "12132150 ['Research Center of Biodiversity, Sichuan Normal College, Sichuan Provincial Key Laboratory of Environmental and Biodiversity Conservation, Nanchong 637002. lnf@cdnum.edu.cn']\n",
      "12146622 ['lihui@msu.edu']\n",
      "12149781 [\"Institute of Biochemistry and Biophisics, Kazan' Research Centre RAS. annaivanova@sci.kcn.ru\"]\n",
      "12152767 ['biolinx@shaw.ca']\n",
      "12152830 ['Swedish Environmental Research Institute, Goteborg. pererik.karlsson@ivl.se']\n",
      "12183904 ['Katedra farmakognozie Farmaceuticke fakulty Univerzity Karlovy, Hradec Kralove. kasparo@faf.cuni.cz']\n",
      "12212847 ['The Biotechnology Group, Danish Institute of Agricultural Sciences, Frederiksberg C.']\n",
      "12223665 ['Michigan State University-Department of Energy Plant Research Laboratory, Michigan State University, East Lansing, Michigan 48824-1312.']\n",
      "12223684 ['Horticultural Sciences Department, University of Florida, Gainesville, Florida 32611.']\n",
      "12223700 ['Division of Plant Industry, Commonwealth Scientific and Industrial Research Organization, G.P.O. Box 1600 (L.S.G., E.M.F., P.M.C.).']\n",
      "12223802 ['University of Florida, Citrus Research and Education Center, 700 Experiment Station Road, Lake Alfred, Florida 33850 (E.E., P.G.).']\n",
      "12223814 ['Program in Plant Molecular and Cellular Biology and Department of Plant Pathology, University of Florida, Gainesville, Florida 32611 (Y.-L.R., P.S.C.).']\n",
      "12223856 ['Department of Energy-Plant Research Laboratory, Michigan State University, East Lansing, Michigan 48824-1312.']\n",
      "12223888 ['Department of Botany and the Center for Aquatic Plants, University of Florida, Gainesville, Florida 32611.']\n",
      "12226244 ['202 Pesticide Research Center, Department of Crop and Soil Sciences, Michigan State University, East Lansing, Michigan 48824-1311 (H.Z., B.S., D.W., S.Z., M.B.S.).']\n",
      "12226306 ['Department of Biochemistry and Molecular Biology, Box 9650, Mississippi State University (S.-Y.P, R.S., D.S.L.).']\n",
      "12226341 ['Horticultural Sciences Department, University of Florida, Gainesville, Florida 32611-0690.']\n",
      "12226399 ['Wake Forest University, Department of Biology, Box 7325, Winston-Salem, North Carolina 27109-7325 (M.W.D., G.K.M.).']\n",
      "12226468 ['Plant Biology Division, Samuel Roberts Noble Foundation, 2510 Sam Noble Parkway, Ardmore Oklahoma 73402 (P.A.H., V.J.H.S., N.L.P., R.A.D.).']\n",
      "12226489 ['Universitat Hannover, Institut fur Zierpflanzenbau, Baumschule und Pflanzenzuchtung, Herrenhauser Strasse 2, D-30419 Hannover. holk@zier.uni-hannover.de']\n",
      "12227509 ['ugo@environ.hiroshima-u.ac.jp']\n",
      "12228405 ['Department of Experimental Botany, NOVAPLANT Cell Biotechnology Group (J.J.J., R.R.A., E.A.D.K., A.F.C., G.J.W.).']\n",
      "12228408 ['Department of Horticulture and Crop Science, The Ohio State University/Ohio Agricultural Research and Development Center, Wooster, Ohio 44691-4096 (J.G.S., S.O.S.).']\n",
      "12228434 ['Department of Chemistry and Biochemistry, University of Southern Mississippi, Hattiesburg, Mississippi 39406.']\n",
      "12228495 ['Horticultural Sciences Department, University of Florida, Gainesville, Florida 32611-0690.']\n",
      "12228540 ['Department of Horticulture and Center for Gene Research and Biotechnology (K.v.Z., T.H.H.C.) and Department of Crop and Soil Science, (F.Q.C., P.M.H.), Oregon State University, Corvallis, Oregon 97331-7304.']\n",
      "12228542 ['Kellogg Biological Station, Michigan State University, Hickory Corners, Michigan 49060.']\n",
      "12228669 ['Horticultural Sciences Department, 1151 Fifield Hall, University of Florida, Gainesville, Florida 32611 (K.D.N., K.E.K.).']\n",
      "12230132 ['Department of Short Rotation Forestry, Swedish University of Agricultural Sciences, Uppsala. yuehua.von.fircks@Lto.slu.se']\n",
      "12231741 ['Horticultural Sciences Department, 1151 Fifield Hall, University of Florida, Gainesville, Florida 32611.']\n",
      "12231758 ['Citrus Research and Education Center, University of Florida, Institute of Food and Agricultural Sciences, Lake Alfred, Florida 33850 (S.P., D.M.E., J.H.G.).']\n",
      "12231760 ['Weed Science Laboratory (B.A.B., J.D.A.), and Fruit Laboratory (R.F.K.), Beltsville Agricultural Research Center (West), Agricultural Research Service, U.S. Department of Agriculture, Beltsville, Maryland 20705.']\n",
      "12231784 ['Photobiology Group, Department of Biology, Brandeis University, Waltham, Massachusetts 02254.']\n",
      "12231794 ['College of Marine Studies and College of Agriculture, University of Delaware, Lewes, Delaware 19958.']\n",
      "12231835 ['Horticultural Sciences Department, University of Florida, Gainesville, Florida 23611-0690.']\n",
      "12231848 ['Institute for Photobiology of Cell and Organelles, Brandeis University, Waltham, Massachusetts 02254.']\n",
      "12231866 ['Department of Horticultural Sciences, Institute of Food and Agricultural Sciences, University of Florida, Gainesville, Florida 32611.']\n",
      "12231949 ['Department of Botany and Plant Pathology and Center for Gene Research and Biotechnology, Oregon State University, Corvallis, Oregon 97331-2902.']\n",
      "12232004 ['Departments of Plant Genetics (Z.A., M.A.K.J., J.G.) and Biochemistry (A.R.J.D.), The Weizmann Institute of Science, Rehovot 76100, Isarel.']\n",
      "12232121 ['Michigan State University-Department of Energy Plant Research Laboratory, Michigan State University, East Lansing, Michigan 48824-1312.']\n",
      "12232130 ['Department of Botany and Plant Pathology, Michigan State University, East Lansing, Michigan 48824-1312 (P.D., J.B.O.).']\n",
      "12232143 ['Department of Botany and Plant Pathology, Michigan State University, East Lansing, Michigan 48824-1312.']\n",
      "12232333 ['Department of Botany and Plant Pathology, Michigan State University, East Lansing, Michigan 48824-1312.']\n",
      "12232363 ['Department of Horticultural Sciences and Program in Plant Molecular and Cellular Biology, University of Florida, Gainesville, Florida 32611 (M.J.G., L.C.H.).']\n",
      "12232366 ['Departments of Plant Pathology and Molecular and Cellular Biology, 104 Forbes Building, University of Arizona, Tucson Arizona 85721.']\n",
      "12232432 ['Department of Biology 0421, University of Northern Iowa, Cedar Falls, Iowa 50614.']\n",
      "12239408 ['Program in Plant Molecular and Cellular Biology, University of Florida, Gainesville, Florida 32611-0680.']\n",
      "12239414 ['Plant Molecular and Cellular Biology Program and Horticultural Sciences Department, University of Florida, Fifield Hall, Gainesville, Florida 32611.']\n",
      "12242366 ['Agricultural Biotechnology Research Unit, Ciba Geigy Corporation, P.O. Box 12257, Research Triangle Park, North Carolina 27709-2257.']\n",
      "12242382 ['Department of Energy Plant Research Laboratory, Michigan State University, East Lansing, Michigan 48824-1312.']\n",
      "12242794 ['Institute of Chinese Materia Medica, University of Traditional Chinese Medicine and Pharmaceutical Sciences, Guangzhou 510407.']\n",
      "12297629 ['Fruit Crops Department, University of Florida, Gainesville, Florida 32611.']\n",
      "12297630 ['Department of Energy Plant Research Laboratory, Michigan State University, East Lansing, Michigan 48824-1312.']\n",
      "12324583 ['Agricultural Biotechnology Research Unit, CIBA-GEIGY Corporation, P.O. Box 12257, Research Triangle Park, North Carolina 27709.']\n",
      "12324584 ['Fruit Crops Department, University of Florida, 1109 Fifield Hall, Gainesville, Florida 32611.']\n",
      "12354967 ['Discovery Research, DEKALB Plant Genetics, Eastern Point Road, Groton, Connecticut 06340.']\n",
      "12359900 ['Vegetable Crops Department, University of Florida, Gainesville, Florida 32611.']\n",
      "12416616 ['veronique.lefebvre@avignon.inra.fr']\n",
      "12417938 ['Laboratoire de Biologie Moleculaire des Relations Plantes-Microorganismes, Unite Mixte de Recherche du Centre National de la Recherche Scientifique, Institut National de la Recherche Agronomique, Castanet-Tolosan. timmers@uni-bonn.de']\n",
      "12421082 ['jjaftha@nsnper1.up.ac.za']\n",
      "12448729 ['Swedish University ofAgricultural Sciences, Department of Forest Mycology and Pathology, Uppsala. Marianne.Clarholm@mykopat.slu.se']\n",
      "12455369 [\"Kazan' Institute of Biochemistry and Biophysics, Kazan' Research Centre RAS.\"]\n",
      "12455380 [\"Institute of Biochemistry and Biophysics, Kazan' Research Center RAS. chasov@mail.knc.ru\"]\n",
      "12462990 ['Laboratorio de Bioquimica, Facultad Ciencias de la Salud, Universidad Nacional Andres Bello.']\n",
      "12466495 ['Graduate School of Biotechnology, Korea University, Seoul, 136-701, Korea1.']\n",
      "12492847 ['Genetics and Breeding of Fruits and Vegetable, Dom St Maurice, BP94, F-84143 Montfavet.']\n",
      "12510590 ['Dept. of Geobotany Biological, Faculty of Moscow State University. nina@NUlanova.home.bio.msu.ru']\n",
      "12511026 ['jjalleva@earthlink.net']\n",
      "12548980 ['Heilongjiang Province Institute of Flax, Shuang City 150111.']\n",
      "12552825 ['Key Laboratory of Plant Pathology of Yunnan Province, Yunnan Agricultural University, Kunming 650201.']\n",
      "12571900 ['Hunan College of Traditional Chinese Medicine, Changsha 410004.']\n",
      "12572516 ['Hebai Chengde Agricultural School, 067411.']\n",
      "12575071 ['Xixia Forestry Bureau of Henan Province, 474550.']\n",
      "12575076 ['Nanjing University of TCM, 210029.']\n",
      "12583231 ['Research Institute of Tropical Forestry, Chinese Academy of Forestry, Guangzhou 510520.']\n",
      "12645300 ['Institut de Genetique Humaine, UPR CNRS 1142, 141 rue de la Cardonille, 34396 Montpellier.']\n",
      "12651465 ['Laboratorio de Biologia Ambiental de Plantas, Departamento de Biologia de Organismos, Universidad Simon Bolivar, Apartado 89.000, Caracas 1080A Venezuela.']\n",
      "12659043 ['Departamento de Botanica, Instituto de Biologia, Universidade Federal do Rio de Janeiro.']\n",
      "12671751 ['ETH-IPW, Eschikon 33, 8315 Lindau, Swizerland.']\n",
      "12701431 ['Institute of Plant Virology, Microbiology and Biological Safety, Federal Biological Research Center for Agriculture and Forestry, Konigin-Luise-Str. 19, D-14195 Berlin, Germary.']\n",
      "12718244 ['Unite de Palynologie, ENSA-M. 900, rue J.-F. Breton, 34090 Montpellier. calleja@ensam.inra.fr']\n",
      "12774378 ['Department of Pharmacognosy, School of Chinese Pharmacy. dingxynj@263.net']\n",
      "12777053 ['Instituto de Bioquimica Vegetal y Fotosintesis CSIC-USE, Avda Americo Vespucio s/n. Isla de la Cartuja, 41092-Sevilla.']\n",
      "12789776 ['Katedra farmakognozie Farmaceuticke fakulty Univerzity Karlovy, Hradec Kralove. kasparo@faf.cuni.cz']\n",
      "12808246 ['Institute of Natural Medicine, Toyama Medical and Pharmaceutical University.']\n",
      "1280857 ['Department of Biological Chemistry and Biophysics, University of Michigan, Ann Arbor 48109.']\n",
      "1285798 ['CIBA-Geigy Agricultural Biotechnology Research Unit, Research Triangle Park, NC 27709.']\n",
      "12889144 ['Beijing Institute of Trasfusion, Beijing 100850.']\n",
      "1294178 ['Research Department of Natural Medicinal Chemistry, Kunming Medical College.']\n",
      "1295516 ['Istituto Botanico, Universita di Bari.']\n",
      "1302641 ['Department of Plant Pathology and Crop Physiology, College of Agriculture, Louisiana State University, Baton Rouge 70803-1720.']\n",
      "1310057 ['Plant Science Research, Inc., Minnetonka, MN 55343.']\n",
      "1311542 ['Department of Botany and Microbiology, Alabama Agricultural Experiment Station, Auburn University, Alabama 36849.']\n",
      "1314662 ['University of Illinois, Urbana 61801.']\n",
      "1314663 ['Department of Chemistry and Biochemistry, Texas Tech University, Lubbock 79409-1061.']\n",
      "1315759 ['National Institute of Environmental Health Sciences, National Institutes of Health, Research Triangle Park, North Carolina 27709.']\n",
      "1318113 ['Department of Vegetable Crops, University of California, Davis 95616-8746.']\n",
      "1322398 ['Department of Biochemistry and Biophysics, University of California, Davis 95616.']\n",
      "1322878 ['Department of Animal and Range Sciences, South Dakota State University, Brookings 57007.']\n",
      "1325656 ['Center for Legume Research, University of Tennessee, Knoxville 37996.']\n",
      "1325669 ['Swedish University of Agricultural Sciences, Department of Radioecology, Uppsala.']\n",
      "1329271 ['Department of Pharmacology & Toxicology, University of Louisville, KY 40292.']\n",
      "1329371 ['Molecular Biology Program, Utah State University, Logan 84322-5500.']\n",
      "1329578 ['Department of Veterinary Biosciences, University of Illinois, Urbana 61801.']\n",
      "1332029 ['Microbiology and Plant Pathology Laboratory, Plant Science Institute, U.S. Department of Agriculture, Beltsville, MD 20705.']\n",
      "1332749 ['Plant Physiology, Biochemistry, and Molecular Biology Program, University of Kentucky, Lexington 40546-0091.']\n",
      "1333891 ['Department of Veterinary Pathobiology, University of Illinois, Urbana 61801.']\n",
      "1334918 ['Department of Botany and Plant Sciences, University of California, Riverside 92521.']\n",
      "1337536 ['Laboratory of Molecular Biophysics, National Institute of Environmental Health Sciences, National Institutes of Health, Research Triangle Park, North Carolina 27709.']\n",
      "1338119 ['Department of Cellular and Molecular Physiology, Pennsylvania State University College of Medicine, Milton S. Hershey Medical Centre, Hershey 17033.']\n",
      "1338377 ['Departamento di Fisiologia, Universidad de Granada, Spagna.']\n",
      "1338773 ['Department of Vegetable Crops, University of California, Davis 95616-8746.']\n",
      "1340482 ['Department of Technology and Chemical Research, Maize Research Institute.']\n",
      "1344893 ['Department of Plant Biology, University of Illinois, Urbana 61801.']\n",
      "1351729 ['Botanisches Institut, Universitat zu Koln.']\n",
      "1352468 ['Department of Botany and Plant Sciences, University of California, Riverside 92521.']\n",
      "1352759 ['Department of Vegetable Crops, Institute of Food and Agricultural Sciences, University of Florida, Gainesville 32611.']\n",
      "1356093 ['Department of Vegetable Crops, University of California, Davis 95616.']\n",
      "1356968 ['Microbiology and Plant Pathology Laboratory, USDA Agricultural Research Service, Beltsville, Maryland 20705.']\n",
      "1360933 ['Department of Botany and Plant Sciences, University of California, Riverside 92521.']\n",
      "1362684 [\"Department of Genetics and Pathology, Hawaiian Sugar Planters' Association, Aiea 96701.\"]\n",
      "1365395 ['Department of Plant Biology, University of Minnesota, St Paul 55108.']\n",
      "1367328 ['Merck and Co., Rahway, NJ 07065.']\n",
      "1371406 ['Department of Forest Genetics and Plant Physiology, Faculty of Forestry, Swedish University of Agricultural Sciences, Umea.']\n",
      "1371407 ['Department of Cell Research, Swedish University of Agricultural Sciences, Uppsala.']\n",
      "1376235 ['Department of Environmental Horticulture, University of California, Davis 95616-8587.']\n",
      "1377899 ['Soybean and Alfalfa Research Laboratory, Agricultural Research Service, Beltsville, Maryland 20705-2350.']\n",
      "1379639 ['Laboratory of Drug Discovery Research and Development, Frederick Cancer Research and Development Center (NCI-FCRDC), Maryland 21702-1201.']\n",
      "1381994 ['Department of Immunology and Medical Microbiology, University of Florida, Gainesville 32610.']\n",
      "1382970 ['Department of Nematology, University of California, Riverside 92521.']\n",
      "1382980 ['Cold Spring Harbor Laboratory, NY 11724.']\n",
      "1384045 ['Mann Laboratory, Department of Vegetable Crops, University of California, Davis 95616.']\n",
      "1387101 ['Institute of Soil Biology, Czechoslovak Academy of Sciences, Ceske Budejovice.']\n",
      "1389154 ['USDA-ARS, Dept. of Agronomy, Kansas State University, Manhattan 66506-5501.']\n",
      "1390630 ['Laboratory of Plant Pigment Biochemistry and Photobiology, University of Illinois, Urbana 61801.']\n",
      "1390682 ['Center for Legume Research, University of Tennessee, Knoxville 37996.']\n",
      "1390894 ['Eppley Institute for Research in Cancer and Allied Diseases, University of Nebraska Medical Center, Omaha 68198-6805.']\n",
      "1391767 ['Department of Microbiology and Cell Science, University of Florida, Gainesville 32611.']\n",
      "1392601 ['Section of Botany, University of California, Davis 95616.']\n",
      "1394290 ['Department of Biological Chemistry, University of Michigan, Ann Arbor 48109.']\n",
      "1394291 ['Department of Biological Chemistry, University of Michigan, Ann Arbor 48109.']\n",
      "1398030 ['Norwegian College of Fishery Sciences, University of Tromso.']\n",
      "1400439 ['Plant Molecular Biology Laboratory, Beltsville Agricultural Research Center-West, Maryland 20705-2350.']\n",
      "1406255 ['Soybean and Alfalfa Research Laboratory, USDA, Agricultural Research Service, Beltsville, Maryland 20705-2350.']\n",
      "1409700 ['Mann Laboratory, Department of Vegetable Crops, University of California, Davis 95616.']\n",
      "1416989 ['Department of Horticultural Science, North Carolina State University, Raleigh 27695-7609.']\n",
      "1416997 ['U.S. Department of Agriculture, University of Kentucky, Lexington 40546-0076.']\n",
      "1421147 ['Department of Plant Biology, University of Minnesota, St. Paul 55108.']\n",
      "1421151 ['Department of Biochemical and Biophysical Sciences, University of Houston, TX 77204-5500.']\n",
      "1421508 ['Department of Agronomy and Range Science, University of California, Davis 95616.']\n",
      "1422923 ['Biochemical Pharmacology Branch, U.S. Army Medical Research Institute of Chemical Defense, Aberdeen Proving Ground, MD 21010-5425.']\n",
      "1423717 ['Vegetable Crops Department, University of Florida, Gainesville 32611.']\n",
      "1423855 ['LKT Laboratories, Inc., Minneapolis, MN 55413.']\n",
      "1425588 ['Department of Molecular Oncology and Virology, Roche Institute of Molecular Biology, Roche Research Center, Nutley, NJ 07110.']\n",
      "1435237 ['Department of Plant Biology, Ohio State University, Columbus 43210.']\n",
      "1440633 ['Department of Medicinal Chemistry, University of Minnesota, Minneapolis 55455.']\n",
      "1441611 ['Department of Chemistry and Biochemistry, University of Maryland, Baltimore County 21228.']\n",
      "1442042 ['Research Department of Natural Drugs, Shenyang College of Pharmacy.']\n",
      "1442085 ['Division of Phytochemistry, Shenyang College of Pharmacy.']\n",
      "1444440 ['E. A. Doisy Department of Biochemistry and Molecular Biology, St. Louis University School of Medicine, Missouri 63104.']\n",
      "1444465 ['Department of Biological Chemistry, University of Michigan, Ann Arbor 48109.']\n",
      "1446170 ['Horticultural Sciences Department, University of Florida, Gainesville 32611.']\n",
      "1449071 ['Biologisches Institut, Universitat Stuttgart.']\n",
      "1451419 ['University of Florida, Gainesville 32611.']\n",
      "1452853 ['Department of Animal Sciences and Industry, Kansas State University, Manhattan 66506-0201.']\n",
      "1454838 ['Horticultural Sciences Department, University of Florida, Gainesville.']\n",
      "14569626 ['ovoch@intercomplect.kharkov.ua']\n",
      "1458593 ['Department of Neurosciences, Roche Institute of Molecular Biology, Roche Research Center, Nutley, NJ 07110.']\n",
      "14618780 ['South Branch of the Institute of Agricultural Microbiology, Ukrainian Academy of Agrarian Sciences.']\n",
      "14619703 ['Katedra farmakognozie Farmaceuticke fakulty Univerzity Karlovy, Hradec Kralove. kasparo@faf.cuni.cz']\n",
      "1465407 ['Department of Agricultural Chemistry, Oregon State University, Corvallis 97331-6502.']\n",
      "1465552 ['Katedry Zywienia Czlowieka Akademii Rolniczej, Krakowie.']\n",
      "14676382 ['Mayekawa MFG. Co., LTD Advanced Technology Lab.']\n",
      "14708351 ['UMR CNRS-UPS 5546, Pole de Biotechnologie Vegetale, 24 chemin de Borde Rouge, BP 17 Auzeville, F-31326 Castanet-Tolosan.']\n",
      "1474606 ['Department of Plant Biology, University of Minnesota, St. Paul 55108.']\n",
      "1477966 ['Department of Pathology and Laboratory Medicine, University of Texas Medical School, Houston 77030.']\n",
      "1487247 ['Department of Ophthalmology, Bascom Palmer Eye Institute, University of Miami School of Medicine, FL 33136.']\n",
      "1495036 ['Florida Medical Entomology Laboratory, University of Florida, Vero Beach 32962.']\n",
      "1495476 ['NSF Center for Engineering Plants for Resistance Against Pathogens, University of California, Davis 95616.']\n",
      "1495969 ['Institute for Molecular Virology, University of Wisconsin-Madison 53706-1596.']\n",
      "1496400 ['Department of Molecular Oncology and Virology, Roche Institute of Molecular Biology, Nutley, NJ 07110.']\n",
      "14969893 ['JAW dedicates this paper to honor Prof. Otto L. Lange, in gratitude for his help and instruction.']\n",
      "14996656 ['stella@aspelmeier.de']\n",
      "1500591 ['Dairy Science Department, University of Florida, Gainesville 32611-0920.']\n",
      "15012299 ['Plant Molecular and Cellular Biology Program, Horticultural Sciences Department, University of Florida, Gainesville, Florida 32611.']\n",
      "1501271 ['Program in Genetics, Oregon State University, Corvallis 97331-7301.']\n",
      "1502265 ['Department of Plant Biology, University of Illinois, Urbana 61801.']\n",
      "1505884 ['Institute of Plant Molecular Biology, Czechoslovak Academy of Sciences, Ceske Budejovice.']\n",
      "15065396 ['Katedra farmaceuticke botaniky a ekologie Farmaceuticke fakulty Univerzity Karlovy, Hradec Kralove. duskova@faf.cuni.cz']\n",
      "1508150 ['Department of Plant Biology, University of Minnesota, St. Paul 55108.']\n",
      "1508688 ['Cold Spring Harbor Laboratory, NY 11724-2212.']\n",
      "15087301 ['dsiebert@sagewisdom.org']\n",
      "1510672 ['Center for Environmental Diagnostics and Bioremediation, University of West Florida, Pensacola 32514.']\n",
      "1510676 ['Microbiology and Plant Pathology Laboratory, Agricultural Research Service, Beltsville, MD 20705.']\n",
      "1511143 ['Department of Microbiology and Cell Science, University of Florida, Gainesville 32611-0100.']\n",
      "1516740 ['Department of Plant Biology, University of Illinois, Urbana 61801.']\n",
      "1516746 ['Department of Botany and Plant Sciences, University of California, Riverside 92521.']\n",
      "1518832 ['Department of Agricultural Chemistry, Oregon State University, Corvallis 97331-6502.']\n",
      "1519755 ['Department of Biological Chemistry, University of Michigan Medical School, Ann Arbor 48109-0606.']\n",
      "15215514 ['Institute of Plant Physiology, Polish Academy of Sciences, Niezapominajek 21, 30-239 Krakow. e.niewiadomska@ifr-pan.krakow.pl']\n",
      "1522603 ['Department of Genetics and Cell Biology, University of Minnesota, St Paul 55108.']\n",
      "1522605 ['Department of Genetics and Cell Biology, University of Minnesota, St. Paul 55108.']\n",
      "15238157 ['molly@mrc-lmb.cam.ac.uk']\n",
      "15251068 ['j-antoni.rafalski@usa.dupont.com']\n",
      "1527043 ['Department of Biochemistry and Biophysics, University of California, Davis 95616.']\n",
      "1528110 ['Department of Botany and Plant Sciences, University of California, Riverside 92521.']\n",
      "15296181 ['Unite de Chimie Biologique Industrielle, Faculte Universitaire des Sciences Agronomiques de Gembloux, Passage des Deportes, 2 B-5030, Gembloux.']\n",
      "1530936 ['Department of Biological Chemistry, University of Maryland School of Medicine, Baltimore 21201.']\n",
      "1532784 ['Vegetable Crops Department, University of Florida, Gainesville 32611.']\n",
      "1534222 ['U.S. Department of Agriculture, North Carolina State University, Raleigh 27695-7631.']\n",
      "15344314 ['Vegetable Research Center of Beijing Acadamy of Agriculture and Forest Science, Beijing 100089.']\n",
      "1535523 ['Department of Molecular Oncology and Virology, Roche Institute of Molecular Biology, Nutley, NJ 07110.']\n",
      "1537330 ['Department of Molecular Oncology and Virology, Roche Institute of Molecular Biology, Nutley, NJ 07110.']\n",
      "1537455 ['Center for Advanced Research in Biotechnology, Maryland Biotechnology Institute, Rockville 20850.']\n",
      "1537541 ['Department of Bacteriology and Biochemistry, University of Idaho, Moscow 83843.']\n",
      "1542671 ['T.H. Morgan School of Biological Sciences, University of Kentucky, Lexington 40506.']\n",
      "1544376 ['Department of Biological Chemistry, University of Michigan, Ann Arbor 48109-2007.']\n",
      "1546055 [\"Department de Biochimie, Faculte des Sciences et Techniques, Universite Nationale de Cote d'Ivoire, Abidjan.\"]\n",
      "1546229 ['Institut fur Medizinische Physik, Universitat Innsbruck.']\n",
      "1546231 ['Geographisches Institut, Universitat Zurich-Irchel.']\n",
      "1546465 ['Plant Pathology Department and Molecular, Iowa State University, Ames 50011.']\n",
      "1547938 ['Department of Molecular and Cell Biology, University of Connecticut, Storrs 06269-2131.']\n",
      "1548242 ['Department of Microbiology and Cell Science, University of Florida, Gainesville 32611-0116.']\n",
      "15506710 ['Katedra farmakognozie, Farmaceuticke fakulty, Univerzity Karlovy, Hradec Kralove. kasparo@faf.cuni.cz']\n",
      "15511074 ['Biotechnology Institute of Zhejiang University, Hangzhou 310029.']\n",
      "1554254 ['Altheimer Laboratory, Department of Agronomy, University of Arkansas, Fayetteville 72703.']\n",
      "15554501 ['Department of Cellular Biology, Simon Bolivar University, Caracas Venezuela.']\n",
      "1556078 ['Department of Plant Biology, University of Minnesota, St. Paul 55108.']\n",
      "1560029 ['Department of Botany and Plant Sciences, University of California, Riverside 92521.']\n",
      "15688780 ['Universitatea de Medicina si Farmacie Gr.T. Popa Iasi, Facultatea de Farmacie, Disciplina de Farmacodinamie.']\n",
      "15732504 ['Zaklad Analizy Zywnosci, Instytut Biotechnologii Przemyslu Rolno-Spozywczego, ul. Rakowiecka 36, 02-532 Warszawa. szymczyk@ibprs.pl']\n",
      "15733871 ['Division of Applied Life Science (BK21 program), Plant Molecular Biology and Biotechnology Research Center, Gyeongsarg National University, Jinju 660-701, Republic of Keorea.']\n",
      "15750746 ['pim@xtra.co.nz']\n",
      "15751796 ['Katedra farmakognozie Farmaceutiche fakulty Univerzity Karlovy, Hradec Kralove. siatka@faf.cuni.cz']\n",
      "15760366 ['Institut de Recherche Agronomique de Guinee, Division des Cultures Perennes, Programme Recherche Forestiere, BP 1523, Conakry, Republique de Guinee.']\n",
      "15761384 ['Katedra i Zaklad Farmakognozji, Akademii Medycznej we Wroclawiu. zbsroka@bf.uni.wroc.pl']\n",
      "15786872 ['Facultad de Ciencias Agrarias, Universidad Nacional de Jujuy, Alberdi 47, 4600 SS Jujuy.']\n",
      "15789768 ['Key Laboratory of Biochemistry and Molecular Biology, Hangzhou Normal College, Hangzhou 310036. whz62@163.com']\n",
      "15830131 ['Umea Plant Science Centre, Department of Forest Genetics and Plant Physiology, Swedish University of Agricultural Sciences, Umea.']\n",
      "15887520 ['Katedry Biofizyki Skazen Srodowiska, Uniwersytetu Lodzkiego. bukow@biol.uni.lodz.pl']\n",
      "15895970 ['Univerzita Karlova v Praze, Farmaceuticka fakulta v Hradci Kralove, Katedra farmaceuticke botaniky a ekologie. duskova@faf.cuni.cz']\n",
      "1592238 ['Department of Crop and Soil Environmental Sciences, Virginia Polytechnic Institute and State University, Blacksburg 24061.']\n",
      "15922577 ['MariaK@cwnet.com']\n",
      "1592810 ['Laboratory of Mathematical Biology, National Cancer Institute, Frederick Cancer Research and Development Center, Maryland 21702-1201.']\n",
      "15940897 ['yoshimat@nihs.go.jp']\n",
      "15954632 ['Department of Plant Genetics and Breeding, Centre for Agricultural Research-Gent, Caritasstraat 21, B-9090 Melle.']\n",
      "15969350 ['Laboratoire de Biologie Cellulaire, Institut Jean-Pierre Bourgin, INRA-Centre de Versailles, 78026 Versailles. gbastien@versailles.inra.fr']\n",
      "1599258 ['Department of Microbiology and Cell Science, University of Florida, Gainesville 32611.']\n",
      "1600153 ['Department of Vegetable Crops, University of Florida, Gainesville 32611.']\n",
      "16044916 ['Tianjin Vegetable Research Institute, Tianjin 300382.']\n",
      "1605832 ['Department of Biochemistry and Biophysics, Oregon State University, Corvallis 97331.']\n",
      "1607015 ['Danish Institute of Plant and Soil Science, Biotechnology Group, Lyngby.']\n",
      "16080449 ['Katedra i Zaklad Bromatologii, Akademia Medyczna im. prof. Feliksa Skubiszewskiego w Lublinie, 20-081 Lublin.']\n",
      "16092410 ['Zaklad Botaniki i Biologii, Instytut Badania Srodowiska i Bioanalizy, Akademia Medyczna, ul. Muszynskiego 1, 90-151 Lodz.']\n",
      "1609808 ['Bascom Palmer Eye Institute, University of Miami School of Medicine, FL 33136.']\n",
      "1616479 ['Department of Botany and Plant Sciences, University of California, Riverside 92521.']\n",
      "1616490 ['Department of Physiological Chemistry, Ohio State University, Columbus 43210.']\n",
      "1616710 ['Ohio Agricultural Research and Development Center, Ohio State University, Wooster 44691.']\n",
      "1617198 ['Department of Biology and Molecular Biology Program, Utah State University, Logan 84322-5305.']\n",
      "16177965 ['anemopsis@yahoo.com']\n",
      "16179134 ['Institute of Toxicology, Faculty of Pharmacy, 1000 Skopje, R. Macedonia. taka@baba.ff.ukim.edu.mk']\n",
      "1618792 ['Bascom Palmer Eye Institute, University of Miami School of Medicine, Florida 33136.']\n",
      "16199615 ['Department of Botany and Plant Pathology, Oregon State University, Corvallis, Oregon 97331.']\n",
      "1620098 ['CIBA-GEIGY Corporation, Agricultural Biotechnology Research Unit, Research Triangle Park, NC 27709.']\n",
      "16247561 [\"UMR 990 INRA/INPT-ENSAT Genomique et Biotechnologie des Fruits, Av. de l'Agrobiopole, BP 32607, F-31326, Castanet-Tolosan Cedex.\"]\n",
      "16267298 ['Department of Medical Countermeasures, Swedish Defence Research Agency, Umea.']\n",
      "1627562 ['Division of Cell Biology and Biophysics, School of Basic Life Sciences, University of Missouri--Kansas City 64110-2499.']\n",
      "1627775 ['Department of Plant Biology, University of Minnesota, Saint Paul 55108.']\n",
      "1627779 ['Department of Microbiology and Cell Science, University of Florida, Gainesville 32611.']\n",
      "1629242 ['Department of Molecular Genetics and Biotechnology Center, Ohio State University, Columbus 43210.']\n",
      "16329870 ['Universitat Rostock, FB Biowissenschaften, Mikrobiologie, Albert-Einstein-Str. 3, D-1805 Rostock. gabriele.berg@biologie.uni-rostock.de']\n",
      "1633493 ['Department of Plant Biology, University of Minnesota, St. Paul 55108.']\n",
      "1633863 ['Plant Molecular Biology Laboratory, Department of Agriculture/Agricultural Research Service, Beltsville Agricultural Research Center (W), MD 20705-2350.']\n",
      "16345261 ['National Institute for Research in Dairying, Shinfield, Reading RG2 9AT, Engand.']\n",
      "16345361 ['Laboratory for Nitrogen Fixation Research, Oregon State University, Corvallis, Oregon 97331.']\n",
      "16345578 ['Department of Microbiology and Department of Soil Science, University of Minnesota, Minneapolis, Minnesota 55455.']\n",
      "16345610 ['Agricultural Research and Education Center, University of Florida, Belle Glade, Florida 33430.']\n",
      "16346425 ['Departments of Microbiology and Soil Science, Oregon State University, Corvallis, Oregon 97331-3804.']\n",
      "16346869 ['Laboratory for Nitrogen Fixation Research, Oregon State University, Corvallis, Oregon 97331.']\n",
      "16346942 ['Departments of Crop Science, Microbiology, and Soil Science, Oregon State University, Corvallis, Oregon 97331-3804.']\n",
      "16347198 ['Departments of Microbiology and Soil Science, Oregon State University, Corvallis, Oregon 97331-3804.']\n",
      "16347199 ['Departments of Microbiology and Soil Science, Oregon State University, Corvallis, Oregon 97331-3804.']\n",
      "16347291 ['Laboratory for Nitrogen Fixation Research, Oregon State University, Corvallis, Oregon 97331.']\n",
      "16347307 ['Departments of Microbiology and Soil Science, Oregon State University, Corvallis, Oregon 97331-3804.']\n",
      "16347318 ['Department of Botany and Plant Pathology, Oregon State University, Corvallis, Oregon 97331.']\n",
      "16347335 ['Soil-Plant Nutrient Research Unit, Agricultural Research Service, U.S. Department of Agriculture, Fort Collins, Colorado 80522.']\n",
      "16347338 ['NifTAL Project, University of Hawaii, Paia, Hawaii 96779-9744.']\n",
      "16347431 ['Departments of Soil Science and Microbiology, Oregon State University, Corvallis, Oregon 97331-3804.']\n",
      "16347432 ['Departments of Soil Science and Microbiology, Oregon State University, Corvallis, Oregon 97331-3804.']\n",
      "16347481 ['Nitrogen Fixation and Soybean Genetics Laboratory, Agricultural Research Service, U.S. Department of Agriculture, Beltsville, Maryland 20705.']\n",
      "16347482 ['Nitrogen Fixation and Soybean Genetics Laboratory, Agricultural Research Service, U.S. Department of Agriculture, Beltsville, Maryland 20705.']\n",
      "16347589 ['Nitrogen Fixation and Soybean Genetics Laboratory, Agricultural Research Service, U.S. Department of Agriculture, Building O11, GH19, BARC-West, Beltsville, Maryland 20705.']\n",
      "16347624 ['NifTAL Project, University of Hawaii, 1000 Holomua Avenue, Paia, Hawaii 96779-9744.']\n",
      "16347705 ['Nitrogen Fixation and Soybean Genetics Laboratory, Agricultural Research Service, U.S. Department of Agriculture, Building 011, HH19, BARC-West, Beltsville, Maryland 20705.']\n",
      "16348021 ['Departments of Soil Science and Microbiology, Oregon State University, Corvallis, Oregon 97331-3804.']\n",
      "16348116 ['Soil Microbial Systems Laboratory, Building 318 BARC-East, Agricultural Research Service, U.S. Department of Agriculture, Beltsville, Maryland 20705.']\n",
      "16348195 ['Microbiology and Plant Pathology Laboratory, Agricultural Research Service, U.S. Department of Agriculture, Beltsville, Maryland 20705.']\n",
      "16348263 ['Harvard Forest, Harvard University, Petersham, Massachusetts 01366.']\n",
      "16348383 ['Nitrogen Fixation and Soybean Genetics Laboratory, Agricultural Research Service, U.S. Department of Agriculture, HH-19, Building 011, BARC-West, Beltsville, Maryland 20705.']\n",
      "16348393 ['University of Hawaii, NifTAL Project, 1000 Holomua Avenue, Paia, Hawaii 96779-9744.']\n",
      "16348492 ['NifTAL Project, University of Hawaii, 1000 Holomua Avenue, Paia, Hawaii 96779-9744.']\n",
      "16348518 ['Soybean and Alfalfa Research Laboratory, Agricultural Research Service, U.S. Department of Agriculture, HH-19, Building 011, BARC-West, Beltsville, Maryland 20705.']\n",
      "16348573 ['Citrus Research and Education Center, Institute of Food and Agricultural Sciences, University of Florida, Lake Alfred, Florida 33850.']\n",
      "16348601 ['Soybean and Alfalfa Research Laboratory, Agricultural Research Service, U.S. Department of Agriculture, Bldg. 011, HH-19, BARC-W, Beltsville, Maryland 20705-2350.']\n",
      "16348638 ['U.S. Geological Survey, 345 Middlefield Road, Menlo Park, California 94025, and NASA Ames Research Center, Moffett Field, California 94035.']\n",
      "16348655 ['Department of Soil Science and Department of Microbiology, University of Minnesota, St. Paul, Minnesota 55108, and Soybean and Alfalfa Research Laboratory, Agricultural Research Service, U.S. Department of Agriculture, Beltsville, Maryland 20705.']\n",
      "16348730 ['Department of Horticulture and the Maryland Agricultural Experiment Station, University of Maryland at College Park, College Park, Maryland 20742-5611, and Soybean and Alfalfa Research Laboratory, Agricultural Research Service, U.S. Department of Agriculture, Beltsville, Maryland 20705.']\n",
      "16348865 ['College of Marine Studies, University of Delaware, Lewes, Delaware 19958.']\n",
      "16348884 ['Soil Microbial Systems Laboratory, Agricultural Research Service, USDA, Building 318 BARC-East, 10300 Baltimore Avenue, Beltsville, Maryland 20705-2350.']\n",
      "16348954 ['Horticultural Crops Research Unit, Agricultural Research Service, U.S. Department of Agriculture, 3420 N.W. Orchard Avenue, Corvallis, Oregon 97330; Department of Horticulture and Department of Zoology, Oregon State University, Corvallis, Oregon 97331; and Washington State University, Research and Extension Center, Puyallup, Washington 98371-4998.']\n",
      "16349167 ['CIBA-Geigy Corporation, Research Triangle Park, North Carolina 27709.']\n",
      "16349883 ['Pioneering Research and Food Laboratories, U.S. Army Natick Laboratories, Natick, Massachusetts 01760.']\n",
      "1637181 ['Center for Legume Research, University of Tennessee, Knoxville 37996.']\n",
      "1637827 ['Department of Biochemistry and Biophysics, University of California, Davis 95616.']\n",
      "16391676 ['Agricultural Research Institute of the Hungarian Academy of Sciences, Martonvasar.']\n",
      "16396359 ['orsonk@frontiernet.net']\n",
      "16397633 [\"Laboratoire d'Evolution et de Systematique des Vegetaux, Batiment 362, Universite Paris-Sud, F-91405 Orsay, Cedex. machon@psisun.u-psud.fr\"]\n",
      "16416969 ['College of Biological Science, Hangzhou Normal College, Hangzhou 310036.']\n",
      "16416973 ['Biotechnology Institute of Zhejiang University, Hangzhou 310029.']\n",
      "16429598 ['Gaia Herbs, Inc., 108 Island Ford Road, Brevard, NC 28712.']\n",
      "1643278 ['Vegetable Crops Department, University of Florida, Gainesville 32611.']\n",
      "1643280 ['Agricultural Biotechnology Research Unit, CIBA-GEIGY Corporation, Research Triangle Park, NC 27709.']\n",
      "1645149 ['Swedish University of Agricultural Sciences, Department of Plant and Forest Protection, Uppsala.']\n",
      "1645355 ['Protein Engineering and Molecular Mutagenesis Program, Oak Ridge National Laboratory, University of Tennessee-Oak Ridge, Tennessee 37831-8077.']\n",
      "16453791 ['Department de Biologie Moleculaire, Universite Libre de Bruxelles, B-1640 Rhode-St-Genese.']\n",
      "1648169 ['Plant Growth Laboratory, U.C. Davis 95616-8679.']\n",
      "1649158 ['Virginia Polytechnic Institute and State University, Blacksburg 24061.']\n",
      "16502812 ['Farmaceuticka fakulta Univerzity Karlovy, Hradec Kralove, Katedra farmakognozie. kasparo@faf.cuni.cz']\n",
      "1651319 ['Department of Chemistry and Biochemistry, Texas Tech University, Lubbock 79409-1061.']\n",
      "1654508 ['Cold Spring Harbor Laboratory, NY 11724.']\n",
      "1654862 ['National Institute of Environmental Health Sciences, National Institutes of Health, Research Triangle Park, North Carolina 27709.']\n",
      "16555482 ['Institut fur Tierzucht und Vererbungsforschung, Stiftung Tierarztliche Hochschule Hannover. frerich.de.vries@tiho-hannover.de']\n",
      "1655699 ['Department of Biological Chemistry, University of Michigan Medical School, Ann Arbor 48109-0606.']\n",
      "1655700 ['Department of Biological Chemistry, University of Michigan Medical School, Ann Arbor 48109-0606.']\n",
      "1656883 ['Department of Chemistry and Biochemistry, Texas Tech University, Lubbock 79409-1061.']\n",
      "1657124 ['California Department of Food and Agriculture, Pesticide Regulation Branch, Sacramento 94271-0001.']\n",
      "1657161 ['Department of Agricultural Chemistry, Oregon State University, Corvallis 97331.']\n",
      "16578770 ['Laboratory for Nitrogen Fixation Research, Oregon State University, Corvallis, Oregon 97331.']\n",
      "16578786 ['Laboratory for Nitrogen Fixation Research, Oregon State University, Corvallis, OR 97331.']\n",
      "16578818 ['Department of Energy Plant Research Laboratory, Michigan State University, East Lansing, MI 48824-1312.']\n",
      "1657911 ['Laboratory of Molecular Biophysics, National Institute of Environmental Health Sciences, National Institutes of Health, Research Triangle Park, North Carolina 27709.']\n",
      "16592307 ['Department of Botany and Plant Pathology, Oregon State University, Corvallis, Oreg. 97331.']\n",
      "16592333 ['Plant Disease Resistance Research Unit, Agricultural Research Service, U.S. Department of Agriculture, Madison, Wisc., 53706.']\n",
      "16592335 ['Plant Virology Laboratory, Plant Protection Institute, Agricultural Research Service, U.S. Department of Agriculture, Beltsville, Maryland 20705.']\n",
      "16592623 ['Agricultural Environmental Quality Institute, Agricultural Research, Science and Education Administration, U.S. Department of Agriculture, Beltsville, Maryland 20705.']\n",
      "16593270 ['Department of Agricultural Chemistry, Oregon State University, Corvallis, Oregon 97331.']\n",
      "16593496 ['Department of Botany and Plant Pathology, Oregon State University, Corvallis, OR 97331.']\n",
      "16593498 ['Florida State Museum, University of Florida, Gainesville, FL 32611.']\n",
      "16593537 ['Department of Botany and Plant Pathology, Oregon State University, Corvallis, OR 97331.']\n",
      "16593538 ['Plant Genetics and Germplasm Institute, Agricultural Research Service, U.S. Department of Agriculture, Beltsville, MD 20705.']\n",
      "16593572 ['Department of Microbiology and Cell Science, University of Florida, Gainesville, FL 32611.']\n",
      "16593595 ['Roche Institute of Molecular Biology, Roche Research Center, Nutley, NJ 07110.']\n",
      "16593642 ['General Electric Corporate Research and Development Center, P. O. Box 8, Schenectady, NY 12301.']\n",
      "16593704 ['Laboratory for Nitrogen Fixation Research, Oregon State University, Corvallis, OR 97331.']\n",
      "16593784 ['Vegetable Crops Department, University of Florida, Gainesville, FL 32611.']\n",
      "16593885 ['Ciba-Geigy Agricultural Biotechnology Unit, P.O. Box 12257, Research Triangle Park, NC 27705.']\n",
      "16593903 ['Ciba-Geigy Biotechnology, P. O. Box 12257, Research Triangle Park, NC 27709.']\n",
      "16593943 ['Department of Microbiology and Cell Science, 1059 McCarty Hall, University of Florida, Gainesville, FL 32611.']\n",
      "16593957 ['Tissue Culture and Molecular Biology Laboratory, Agricultural Research Service, U.S. Department of Agriculture, Beltsville, MD 20705.']\n",
      "16593998 ['Beltsville Agricultural Research Center, U.S. Department of Agriculture, Agricultural Research Service, Beltsville, MD 20705.']\n",
      "1660457 ['Soybean and Alfalfa Research Laboratory, U.S. Department of Agriculture, Beltsville, Maryland 20705.']\n",
      "1660568 ['Cold Spring Harbor Laboratory, NY 11724.']\n",
      "1660830 ['Department of Genetics and Cell Biology, Plant Molecular Genetics Institute, University of Minnesota, St. Paul 55108.']\n",
      "1661283 ['Dept. of Anim. Sci., University of Missouri, Columbia 65211.']\n",
      "1662906 ['Veterans Affairs Medical Center, Northport 11768.']\n",
      "1663398 ['Pushchino Branch of the Shemyakin Institute of Bioorganic Chemistry, Academy of Sciences of the USSR.']\n",
      "16637218 ['University of Veszprem, Georgikon Faculty of Agricultural Sciences.']\n",
      "16637219 ['University of Veszprem, Georgikon Faculty of Agricultural Sciences.']\n",
      "16644551 ['Dipartimento di Chimica, Piazzale Aldo Moro, 5 00185 Roma. alessia.ramunno@uniroma1.it']\n",
      "16652964 ['Institute for Photobiology of Cells and Organelles, Brandeis University, Waltham, Massachusetts 02254.']\n",
      "16652974 ['Michigan State University-Department of Energy Plant Research Laboratory, Michigan State University, East Lansing, Michigan 48824-1312.']\n",
      "16652990 ['Department of Environmental Horticulture, Institute of Food and Agricultural Sciences, University of Florida, Gainesville, Florida 32611.']\n",
      "16653014 ['Department of Molecular and Cell Biology, U-125, University of Connecticut, Storrs, Connecticut 06269-3125.']\n",
      "16653055 ['Plant Hormone Laboratory, Beltsville Agricultural Research Center (West), Agricultural Research Service, U.S. Department of Agriculture, Beltsville, Maryland 20705.']\n",
      "16653076 ['Department of Crop and Soil Sciences, Michigan State University, East Lansing, Michigan 48824-1325.']\n",
      "16653077 ['Department of Botany and Plant Pathology, Michigan State University, East Lansing, Michigan 48824-1312.']\n",
      "16653149 ['Plant Molecular Biology Center and Department of Biological Sciences, Northern Illinois University, DeKalb, Illinois 60115.']\n",
      "16653190 ['Department of Horticulture and Center for Gene Research and Biotechnology, Oregon State University, Corvallis, Oregon 97331.']\n",
      "16653230 ['Horticultural Crops Quality Laboratory, Beltsville Agricultural Research Center, Agricultural Research Service, Beltsville, Maryland 20705-2350.']\n",
      "16656365 ['Botany and Plant Pathology Department, Purdue University.']\n",
      "16656522 ['Crops Research Division, Agricultural Research Service, U.S. Department of Agriculture, Plant Industry Station, Beltsville, Maryland 20705.']\n",
      "16656572 ['University of Florida, Gainesville, Florida 32601.']\n",
      "16656600 ['Ohio Agricultural Research and Development Center, Wooster, Ohio 44691.']\n",
      "16656609 ['Department of Biological Science and Institute of Molecular Biophysics, Florida State University, Tallahassee, Florida 32306.']\n",
      "16656689 ['Department of Botany and Plant Pathology, Oregon State University, Corvallis, Oregon 97331.']\n",
      "16656719 ['Red River Valley Potato Processing Laboratory , East Grand Forks, Minnesota 56721.']\n",
      "16656720 ['Department of Botany and Plant Pathology, Oregon State University, Corvallis, Oregon 97331.']\n",
      "16656800 ['Department of Soils, Oregon State University, Corvallis, Oregon 97331.']\n",
      "16656802 ['Department of Soils, Oregon State University, Corvallis, Oregon 97331.']\n",
      "16656826 ['Institut de Biologie et de Physiologie Vegetales, Universite de Lausanne.']\n",
      "16656933 ['Red River Valley Potato Processing Laboratory , East Grand Forks, Minnesota 56721.']\n",
      "16657004 ['Market Quality Research Division, Agricultural Research Service, Plant Industry Station, Beltsville, Maryland 20705.']\n",
      "16657016 ['Department of Biochemistry and Program in Cellular and Molecular Biology, University of Miami School of Medicine, 1600 N.W. 10th Avenue, Mianmi, Florida 33136.']\n",
      "16657041 ['Department of Biochemistry and Biophysics, Oregon State University, Corvallis, Oregon 97331.']\n",
      "16657169 ['Mineral Nutrition Laboratory, USDA, ARS, SWCRD, Beltsville, Maryland 20705.']\n",
      "16657179 ['Boyce Thompson Institute for Plant Research, Yonkers, New York 10701.']\n",
      "16657200 ['Department of Botany and Plant Pathology, Oregon State University, Corvallis, Oregon 97331.']\n",
      "16657232 ['Boyce Thompson Institute for Plant Research, Yonkers, New York 10701.']\n",
      "16657257 ['Department of Plant Pathology and Physiology, Virginia Polytechnic Institute, Blacksburg, Virginia 24061.']\n",
      "16657352 ['Department of Fruit Crops, University of Florida, Gainesville, Florida 32601.']\n",
      "16657529 ['Department of Agricultural Chemistry, Oregon State University, Corvallis, Oregon 97331.']\n",
      "16657553 ['Crops Research Division, Agricultural Research Service, United State Department of Agriculture, Beltsville, Maryland 20705.']\n",
      "16657584 ['Boyce Thompson Institute for Plant Research, Yonkers, New York 10701.']\n",
      "16657670 ['Diamond Shamrock Corporation, T. R. Evans Research Center, Painesville, Ohio 44077.']\n",
      "16658039 ['Departments of Station Biochemistry and Plant Science, South Dakota State University, Brookings, South Dakota 57006.']\n",
      "16658097 ['Department of Botany and Plant Pathology and W. K. Kellogg Biological Station, Michigan State University, Hickory Corners, Michigan 49060.']\n",
      "16658159 ['Diamond Shamrock Corporation, T. R. Evans Research Center, P. O. Box 348, Painesville, Ohio 44077.']\n",
      "16658211 ['Departments of Biochemistry and Botany, University of Florida, Gainesville, Florida 32601.']\n",
      "16658212 ['Crop Science Department and Forest Research Laboratory, Oregon State University, Corvallis, Oregon 97331.']\n",
      "16658347 ['Suburban Experiment Station, University of Massachusetts, Waltham, Massachusetts 02154.']\n",
      "16658465 ['Department of Plant Pathology and Physiology, Virginia Polytechnic Institute and State University, Blacksburg, Virginia 24061.']\n",
      "16658470 ['Suburban Experiment Station, University of Massachusetts, Waltham, Massachusetts 02154.']\n",
      "16658490 ['Boyce Thompson Institute, 1086 North Broadway, Yonkers, New York 10701.']\n",
      "16658501 ['Department of Botany and Plant Pathology, Oregon State University, Corvallis, Oregon 97331.']\n"
     ]
    },
    {
     "name": "stderr",
     "output_type": "stream",
     "text": [
      "\n"
     ]
    }
   ],
   "source": [
    "\n",
    "for pmid in tqdm(test_nf_1k):\n",
    "  add_str = test_nf_1k[pmid][1][0]\n",
    "  country = find_country(add_str, cnames)\n",
    "  if country == \"\":\n",
    "    print(pmid, [add_str])"
   ]
  },
  {
   "cell_type": "markdown",
   "metadata": {},
   "source": [
    "### Test email2country"
   ]
  },
  {
   "cell_type": "code",
   "execution_count": 64,
   "metadata": {},
   "outputs": [
    {
     "data": {
      "text/plain": [
       "'United States'"
      ]
     },
     "execution_count": 64,
     "metadata": {},
     "output_type": "execute_result"
    }
   ],
   "source": [
    "from email2country import email2country\n",
    "\n",
    "email2country('shius@msu.edu')"
   ]
  },
  {
   "cell_type": "code",
   "execution_count": 65,
   "metadata": {},
   "outputs": [
    {
     "data": {
      "text/plain": [
       "'Hong Kong'"
      ]
     },
     "execution_count": 65,
     "metadata": {},
     "output_type": "execute_result"
    }
   ],
   "source": [
    "email2country('xyz@blah.hk')"
   ]
  },
  {
   "cell_type": "code",
   "execution_count": 67,
   "metadata": {},
   "outputs": [
    {
     "ename": "SSLError",
     "evalue": "HTTPSConnectionPool(host='ipvigilante.com', port=443): Max retries exceeded with url: /142.251.32.14/country_iso_code (Caused by SSLError(CertificateError(\"hostname 'ipvigilante.com' doesn't match either of 'cloudflare-dns.com', '*.cloudflare-dns.com', 'one.one.one.one', '1.0.0.1', '1.1.1.1', '162.159.36.1', '162.159.46.1', '2606:4700:4700:0:0:0:0:1001', '2606:4700:4700:0:0:0:0:1111', '2606:4700:4700:0:0:0:0:64', '2606:4700:4700:0:0:0:0:6400'\")))",
     "output_type": "error",
     "traceback": [
      "\u001b[0;31m---------------------------------------------------------------------------\u001b[0m",
      "\u001b[0;31mCertificateError\u001b[0m                          Traceback (most recent call last)",
      "File \u001b[0;32m~/miniconda3/envs/geo/lib/python3.10/site-packages/urllib3/connectionpool.py:703\u001b[0m, in \u001b[0;36mHTTPConnectionPool.urlopen\u001b[0;34m(self, method, url, body, headers, retries, redirect, assert_same_host, timeout, pool_timeout, release_conn, chunked, body_pos, **response_kw)\u001b[0m\n\u001b[1;32m    702\u001b[0m \u001b[39m# Make the request on the httplib connection object.\u001b[39;00m\n\u001b[0;32m--> 703\u001b[0m httplib_response \u001b[39m=\u001b[39m \u001b[39mself\u001b[39;49m\u001b[39m.\u001b[39;49m_make_request(\n\u001b[1;32m    704\u001b[0m     conn,\n\u001b[1;32m    705\u001b[0m     method,\n\u001b[1;32m    706\u001b[0m     url,\n\u001b[1;32m    707\u001b[0m     timeout\u001b[39m=\u001b[39;49mtimeout_obj,\n\u001b[1;32m    708\u001b[0m     body\u001b[39m=\u001b[39;49mbody,\n\u001b[1;32m    709\u001b[0m     headers\u001b[39m=\u001b[39;49mheaders,\n\u001b[1;32m    710\u001b[0m     chunked\u001b[39m=\u001b[39;49mchunked,\n\u001b[1;32m    711\u001b[0m )\n\u001b[1;32m    713\u001b[0m \u001b[39m# If we're going to release the connection in ``finally:``, then\u001b[39;00m\n\u001b[1;32m    714\u001b[0m \u001b[39m# the response doesn't need to know about the connection. Otherwise\u001b[39;00m\n\u001b[1;32m    715\u001b[0m \u001b[39m# it will also try to release it and we'll have a double-release\u001b[39;00m\n\u001b[1;32m    716\u001b[0m \u001b[39m# mess.\u001b[39;00m\n",
      "File \u001b[0;32m~/miniconda3/envs/geo/lib/python3.10/site-packages/urllib3/connectionpool.py:386\u001b[0m, in \u001b[0;36mHTTPConnectionPool._make_request\u001b[0;34m(self, conn, method, url, timeout, chunked, **httplib_request_kw)\u001b[0m\n\u001b[1;32m    385\u001b[0m \u001b[39mtry\u001b[39;00m:\n\u001b[0;32m--> 386\u001b[0m     \u001b[39mself\u001b[39;49m\u001b[39m.\u001b[39;49m_validate_conn(conn)\n\u001b[1;32m    387\u001b[0m \u001b[39mexcept\u001b[39;00m (SocketTimeout, BaseSSLError) \u001b[39mas\u001b[39;00m e:\n\u001b[1;32m    388\u001b[0m     \u001b[39m# Py2 raises this as a BaseSSLError, Py3 raises it as socket timeout.\u001b[39;00m\n",
      "File \u001b[0;32m~/miniconda3/envs/geo/lib/python3.10/site-packages/urllib3/connectionpool.py:1042\u001b[0m, in \u001b[0;36mHTTPSConnectionPool._validate_conn\u001b[0;34m(self, conn)\u001b[0m\n\u001b[1;32m   1041\u001b[0m \u001b[39mif\u001b[39;00m \u001b[39mnot\u001b[39;00m \u001b[39mgetattr\u001b[39m(conn, \u001b[39m\"\u001b[39m\u001b[39msock\u001b[39m\u001b[39m\"\u001b[39m, \u001b[39mNone\u001b[39;00m):  \u001b[39m# AppEngine might not have  `.sock`\u001b[39;00m\n\u001b[0;32m-> 1042\u001b[0m     conn\u001b[39m.\u001b[39;49mconnect()\n\u001b[1;32m   1044\u001b[0m \u001b[39mif\u001b[39;00m \u001b[39mnot\u001b[39;00m conn\u001b[39m.\u001b[39mis_verified:\n",
      "File \u001b[0;32m~/miniconda3/envs/geo/lib/python3.10/site-packages/urllib3/connection.py:467\u001b[0m, in \u001b[0;36mHTTPSConnection.connect\u001b[0;34m(self)\u001b[0m\n\u001b[1;32m    458\u001b[0m         warnings\u001b[39m.\u001b[39mwarn(\n\u001b[1;32m    459\u001b[0m             (\n\u001b[1;32m    460\u001b[0m                 \u001b[39m\"\u001b[39m\u001b[39mCertificate for \u001b[39m\u001b[39m{0}\u001b[39;00m\u001b[39m has no `subjectAltName`, falling back to check for a \u001b[39m\u001b[39m\"\u001b[39m\n\u001b[0;32m   (...)\u001b[0m\n\u001b[1;32m    465\u001b[0m             SubjectAltNameWarning,\n\u001b[1;32m    466\u001b[0m         )\n\u001b[0;32m--> 467\u001b[0m     _match_hostname(cert, \u001b[39mself\u001b[39;49m\u001b[39m.\u001b[39;49massert_hostname \u001b[39mor\u001b[39;49;00m server_hostname)\n\u001b[1;32m    469\u001b[0m \u001b[39mself\u001b[39m\u001b[39m.\u001b[39mis_verified \u001b[39m=\u001b[39m (\n\u001b[1;32m    470\u001b[0m     context\u001b[39m.\u001b[39mverify_mode \u001b[39m==\u001b[39m ssl\u001b[39m.\u001b[39mCERT_REQUIRED\n\u001b[1;32m    471\u001b[0m     \u001b[39mor\u001b[39;00m \u001b[39mself\u001b[39m\u001b[39m.\u001b[39massert_fingerprint \u001b[39mis\u001b[39;00m \u001b[39mnot\u001b[39;00m \u001b[39mNone\u001b[39;00m\n\u001b[1;32m    472\u001b[0m )\n",
      "File \u001b[0;32m~/miniconda3/envs/geo/lib/python3.10/site-packages/urllib3/connection.py:540\u001b[0m, in \u001b[0;36m_match_hostname\u001b[0;34m(cert, asserted_hostname)\u001b[0m\n\u001b[1;32m    539\u001b[0m \u001b[39mtry\u001b[39;00m:\n\u001b[0;32m--> 540\u001b[0m     match_hostname(cert, asserted_hostname)\n\u001b[1;32m    541\u001b[0m \u001b[39mexcept\u001b[39;00m CertificateError \u001b[39mas\u001b[39;00m e:\n",
      "File \u001b[0;32m~/miniconda3/envs/geo/lib/python3.10/site-packages/urllib3/util/ssl_match_hostname.py:150\u001b[0m, in \u001b[0;36mmatch_hostname\u001b[0;34m(cert, hostname)\u001b[0m\n\u001b[1;32m    149\u001b[0m \u001b[39mif\u001b[39;00m \u001b[39mlen\u001b[39m(dnsnames) \u001b[39m>\u001b[39m \u001b[39m1\u001b[39m:\n\u001b[0;32m--> 150\u001b[0m     \u001b[39mraise\u001b[39;00m CertificateError(\n\u001b[1;32m    151\u001b[0m         \u001b[39m\"\u001b[39m\u001b[39mhostname \u001b[39m\u001b[39m%r\u001b[39;00m\u001b[39m \u001b[39m\u001b[39m\"\u001b[39m\n\u001b[1;32m    152\u001b[0m         \u001b[39m\"\u001b[39m\u001b[39mdoesn\u001b[39m\u001b[39m'\u001b[39m\u001b[39mt match either of \u001b[39m\u001b[39m%s\u001b[39;00m\u001b[39m\"\u001b[39m \u001b[39m%\u001b[39m (hostname, \u001b[39m\"\u001b[39m\u001b[39m, \u001b[39m\u001b[39m\"\u001b[39m\u001b[39m.\u001b[39mjoin(\u001b[39mmap\u001b[39m(\u001b[39mrepr\u001b[39m, dnsnames)))\n\u001b[1;32m    153\u001b[0m     )\n\u001b[1;32m    154\u001b[0m \u001b[39melif\u001b[39;00m \u001b[39mlen\u001b[39m(dnsnames) \u001b[39m==\u001b[39m \u001b[39m1\u001b[39m:\n",
      "\u001b[0;31mCertificateError\u001b[0m: hostname 'ipvigilante.com' doesn't match either of 'cloudflare-dns.com', '*.cloudflare-dns.com', 'one.one.one.one', '1.0.0.1', '1.1.1.1', '162.159.36.1', '162.159.46.1', '2606:4700:4700:0:0:0:0:1001', '2606:4700:4700:0:0:0:0:1111', '2606:4700:4700:0:0:0:0:64', '2606:4700:4700:0:0:0:0:6400'",
      "\nDuring handling of the above exception, another exception occurred:\n",
      "\u001b[0;31mMaxRetryError\u001b[0m                             Traceback (most recent call last)",
      "File \u001b[0;32m~/miniconda3/envs/geo/lib/python3.10/site-packages/requests/adapters.py:489\u001b[0m, in \u001b[0;36mHTTPAdapter.send\u001b[0;34m(self, request, stream, timeout, verify, cert, proxies)\u001b[0m\n\u001b[1;32m    488\u001b[0m \u001b[39mif\u001b[39;00m \u001b[39mnot\u001b[39;00m chunked:\n\u001b[0;32m--> 489\u001b[0m     resp \u001b[39m=\u001b[39m conn\u001b[39m.\u001b[39;49murlopen(\n\u001b[1;32m    490\u001b[0m         method\u001b[39m=\u001b[39;49mrequest\u001b[39m.\u001b[39;49mmethod,\n\u001b[1;32m    491\u001b[0m         url\u001b[39m=\u001b[39;49murl,\n\u001b[1;32m    492\u001b[0m         body\u001b[39m=\u001b[39;49mrequest\u001b[39m.\u001b[39;49mbody,\n\u001b[1;32m    493\u001b[0m         headers\u001b[39m=\u001b[39;49mrequest\u001b[39m.\u001b[39;49mheaders,\n\u001b[1;32m    494\u001b[0m         redirect\u001b[39m=\u001b[39;49m\u001b[39mFalse\u001b[39;49;00m,\n\u001b[1;32m    495\u001b[0m         assert_same_host\u001b[39m=\u001b[39;49m\u001b[39mFalse\u001b[39;49;00m,\n\u001b[1;32m    496\u001b[0m         preload_content\u001b[39m=\u001b[39;49m\u001b[39mFalse\u001b[39;49;00m,\n\u001b[1;32m    497\u001b[0m         decode_content\u001b[39m=\u001b[39;49m\u001b[39mFalse\u001b[39;49;00m,\n\u001b[1;32m    498\u001b[0m         retries\u001b[39m=\u001b[39;49m\u001b[39mself\u001b[39;49m\u001b[39m.\u001b[39;49mmax_retries,\n\u001b[1;32m    499\u001b[0m         timeout\u001b[39m=\u001b[39;49mtimeout,\n\u001b[1;32m    500\u001b[0m     )\n\u001b[1;32m    502\u001b[0m \u001b[39m# Send the request.\u001b[39;00m\n\u001b[1;32m    503\u001b[0m \u001b[39melse\u001b[39;00m:\n",
      "File \u001b[0;32m~/miniconda3/envs/geo/lib/python3.10/site-packages/urllib3/connectionpool.py:787\u001b[0m, in \u001b[0;36mHTTPConnectionPool.urlopen\u001b[0;34m(self, method, url, body, headers, retries, redirect, assert_same_host, timeout, pool_timeout, release_conn, chunked, body_pos, **response_kw)\u001b[0m\n\u001b[1;32m    785\u001b[0m     e \u001b[39m=\u001b[39m ProtocolError(\u001b[39m\"\u001b[39m\u001b[39mConnection aborted.\u001b[39m\u001b[39m\"\u001b[39m, e)\n\u001b[0;32m--> 787\u001b[0m retries \u001b[39m=\u001b[39m retries\u001b[39m.\u001b[39;49mincrement(\n\u001b[1;32m    788\u001b[0m     method, url, error\u001b[39m=\u001b[39;49me, _pool\u001b[39m=\u001b[39;49m\u001b[39mself\u001b[39;49m, _stacktrace\u001b[39m=\u001b[39;49msys\u001b[39m.\u001b[39;49mexc_info()[\u001b[39m2\u001b[39;49m]\n\u001b[1;32m    789\u001b[0m )\n\u001b[1;32m    790\u001b[0m retries\u001b[39m.\u001b[39msleep()\n",
      "File \u001b[0;32m~/miniconda3/envs/geo/lib/python3.10/site-packages/urllib3/util/retry.py:592\u001b[0m, in \u001b[0;36mRetry.increment\u001b[0;34m(self, method, url, response, error, _pool, _stacktrace)\u001b[0m\n\u001b[1;32m    591\u001b[0m \u001b[39mif\u001b[39;00m new_retry\u001b[39m.\u001b[39mis_exhausted():\n\u001b[0;32m--> 592\u001b[0m     \u001b[39mraise\u001b[39;00m MaxRetryError(_pool, url, error \u001b[39mor\u001b[39;00m ResponseError(cause))\n\u001b[1;32m    594\u001b[0m log\u001b[39m.\u001b[39mdebug(\u001b[39m\"\u001b[39m\u001b[39mIncremented Retry for (url=\u001b[39m\u001b[39m'\u001b[39m\u001b[39m%s\u001b[39;00m\u001b[39m'\u001b[39m\u001b[39m): \u001b[39m\u001b[39m%r\u001b[39;00m\u001b[39m\"\u001b[39m, url, new_retry)\n",
      "\u001b[0;31mMaxRetryError\u001b[0m: HTTPSConnectionPool(host='ipvigilante.com', port=443): Max retries exceeded with url: /142.251.32.14/country_iso_code (Caused by SSLError(CertificateError(\"hostname 'ipvigilante.com' doesn't match either of 'cloudflare-dns.com', '*.cloudflare-dns.com', 'one.one.one.one', '1.0.0.1', '1.1.1.1', '162.159.36.1', '162.159.46.1', '2606:4700:4700:0:0:0:0:1001', '2606:4700:4700:0:0:0:0:1111', '2606:4700:4700:0:0:0:0:64', '2606:4700:4700:0:0:0:0:6400'\")))",
      "\nDuring handling of the above exception, another exception occurred:\n",
      "\u001b[0;31mSSLError\u001b[0m                                  Traceback (most recent call last)",
      "Cell \u001b[0;32mIn[67], line 1\u001b[0m\n\u001b[0;32m----> 1\u001b[0m email2country(\u001b[39m'\u001b[39;49m\u001b[39mxyz@google.com\u001b[39;49m\u001b[39m'\u001b[39;49m)\n",
      "File \u001b[0;32m~/miniconda3/envs/geo/lib/python3.10/site-packages/email2country/email2country.py:172\u001b[0m, in \u001b[0;36memail2country\u001b[0;34m(email_addr, enable_warning)\u001b[0m\n\u001b[1;32m    171\u001b[0m \u001b[39mdef\u001b[39;00m \u001b[39memail2country\u001b[39m(email_addr, enable_warning\u001b[39m=\u001b[39m\u001b[39mTrue\u001b[39;00m):\n\u001b[0;32m--> 172\u001b[0m     \u001b[39mreturn\u001b[39;00m Email(email_addr, enable_warning\u001b[39m=\u001b[39;49menable_warning)\u001b[39m.\u001b[39;49mcountry\n",
      "File \u001b[0;32m~/miniconda3/envs/geo/lib/python3.10/site-packages/email2country/email2country.py:14\u001b[0m, in \u001b[0;36mEmail.country\u001b[0;34m(self)\u001b[0m\n\u001b[1;32m     12\u001b[0m \u001b[39m@property\u001b[39m\n\u001b[1;32m     13\u001b[0m \u001b[39mdef\u001b[39;00m \u001b[39mcountry\u001b[39m(\u001b[39mself\u001b[39m):\n\u001b[0;32m---> 14\u001b[0m     \u001b[39mreturn\u001b[39;00m \u001b[39mself\u001b[39;49m\u001b[39m.\u001b[39;49mcountry_checker\u001b[39m.\u001b[39;49mget_country(\n\u001b[1;32m     15\u001b[0m         \u001b[39mself\u001b[39;49m\u001b[39m.\u001b[39;49memail_addr, enable_warning\u001b[39m=\u001b[39;49m\u001b[39mself\u001b[39;49m\u001b[39m.\u001b[39;49menable_warning)\n",
      "File \u001b[0;32m~/miniconda3/envs/geo/lib/python3.10/site-packages/email2country/email2country.py:138\u001b[0m, in \u001b[0;36mEmailCountryChecker.get_country\u001b[0;34m(self, email_addr, enable_warning)\u001b[0m\n\u001b[1;32m    135\u001b[0m domain2 \u001b[39m=\u001b[39m \u001b[39m'\u001b[39m\u001b[39m.\u001b[39m\u001b[39m'\u001b[39m\u001b[39m.\u001b[39mjoin(domain\u001b[39m.\u001b[39mrsplit(\u001b[39m'\u001b[39m\u001b[39m.\u001b[39m\u001b[39m'\u001b[39m, \u001b[39m2\u001b[39m)[\u001b[39m-\u001b[39m\u001b[39m2\u001b[39m:])\n\u001b[1;32m    136\u001b[0m \u001b[39mif\u001b[39;00m domain2 \u001b[39min\u001b[39;00m uni_domain2country: \u001b[39mreturn\u001b[39;00m uni_domain2country[domain2]\n\u001b[0;32m--> 138\u001b[0m country \u001b[39m=\u001b[39m \u001b[39mself\u001b[39;49m\u001b[39m.\u001b[39;49mdomain2ip2country(domain)\n\u001b[1;32m    139\u001b[0m \u001b[39mif\u001b[39;00m country: \u001b[39mreturn\u001b[39;00m country\n\u001b[1;32m    141\u001b[0m \u001b[39mif\u001b[39;00m enable_warning:\n",
      "File \u001b[0;32m~/miniconda3/envs/geo/lib/python3.10/site-packages/email2country/email2country.py:103\u001b[0m, in \u001b[0;36mEmailCountryChecker.domain2ip2country\u001b[0;34m(self, domain)\u001b[0m\n\u001b[1;32m    100\u001b[0m         \u001b[39mreturn\u001b[39;00m \u001b[39mNone\u001b[39;00m\n\u001b[1;32m    102\u001b[0m url \u001b[39m=\u001b[39m \u001b[39m'\u001b[39m\u001b[39mhttps://ipvigilante.com/\u001b[39m\u001b[39m{}\u001b[39;00m\u001b[39m/country_iso_code\u001b[39m\u001b[39m'\u001b[39m\u001b[39m.\u001b[39mformat(ip)\n\u001b[0;32m--> 103\u001b[0m r \u001b[39m=\u001b[39m requests\u001b[39m.\u001b[39;49mget(url)\n\u001b[1;32m    104\u001b[0m \u001b[39mif\u001b[39;00m r\u001b[39m.\u001b[39mstatus_code \u001b[39m==\u001b[39m \u001b[39m200\u001b[39m:\n\u001b[1;32m    105\u001b[0m     alpha2 \u001b[39m=\u001b[39m r\u001b[39m.\u001b[39mjson()[\u001b[39m'\u001b[39m\u001b[39mdata\u001b[39m\u001b[39m'\u001b[39m][\u001b[39m'\u001b[39m\u001b[39mcountry_iso_code\u001b[39m\u001b[39m'\u001b[39m]\n",
      "File \u001b[0;32m~/miniconda3/envs/geo/lib/python3.10/site-packages/requests/api.py:73\u001b[0m, in \u001b[0;36mget\u001b[0;34m(url, params, **kwargs)\u001b[0m\n\u001b[1;32m     62\u001b[0m \u001b[39mdef\u001b[39;00m \u001b[39mget\u001b[39m(url, params\u001b[39m=\u001b[39m\u001b[39mNone\u001b[39;00m, \u001b[39m*\u001b[39m\u001b[39m*\u001b[39mkwargs):\n\u001b[1;32m     63\u001b[0m \u001b[39m    \u001b[39m\u001b[39mr\u001b[39m\u001b[39m\"\"\"Sends a GET request.\u001b[39;00m\n\u001b[1;32m     64\u001b[0m \n\u001b[1;32m     65\u001b[0m \u001b[39m    :param url: URL for the new :class:`Request` object.\u001b[39;00m\n\u001b[0;32m   (...)\u001b[0m\n\u001b[1;32m     70\u001b[0m \u001b[39m    :rtype: requests.Response\u001b[39;00m\n\u001b[1;32m     71\u001b[0m \u001b[39m    \"\"\"\u001b[39;00m\n\u001b[0;32m---> 73\u001b[0m     \u001b[39mreturn\u001b[39;00m request(\u001b[39m\"\u001b[39;49m\u001b[39mget\u001b[39;49m\u001b[39m\"\u001b[39;49m, url, params\u001b[39m=\u001b[39;49mparams, \u001b[39m*\u001b[39;49m\u001b[39m*\u001b[39;49mkwargs)\n",
      "File \u001b[0;32m~/miniconda3/envs/geo/lib/python3.10/site-packages/requests/api.py:59\u001b[0m, in \u001b[0;36mrequest\u001b[0;34m(method, url, **kwargs)\u001b[0m\n\u001b[1;32m     55\u001b[0m \u001b[39m# By using the 'with' statement we are sure the session is closed, thus we\u001b[39;00m\n\u001b[1;32m     56\u001b[0m \u001b[39m# avoid leaving sockets open which can trigger a ResourceWarning in some\u001b[39;00m\n\u001b[1;32m     57\u001b[0m \u001b[39m# cases, and look like a memory leak in others.\u001b[39;00m\n\u001b[1;32m     58\u001b[0m \u001b[39mwith\u001b[39;00m sessions\u001b[39m.\u001b[39mSession() \u001b[39mas\u001b[39;00m session:\n\u001b[0;32m---> 59\u001b[0m     \u001b[39mreturn\u001b[39;00m session\u001b[39m.\u001b[39;49mrequest(method\u001b[39m=\u001b[39;49mmethod, url\u001b[39m=\u001b[39;49murl, \u001b[39m*\u001b[39;49m\u001b[39m*\u001b[39;49mkwargs)\n",
      "File \u001b[0;32m~/miniconda3/envs/geo/lib/python3.10/site-packages/requests/sessions.py:587\u001b[0m, in \u001b[0;36mSession.request\u001b[0;34m(self, method, url, params, data, headers, cookies, files, auth, timeout, allow_redirects, proxies, hooks, stream, verify, cert, json)\u001b[0m\n\u001b[1;32m    582\u001b[0m send_kwargs \u001b[39m=\u001b[39m {\n\u001b[1;32m    583\u001b[0m     \u001b[39m\"\u001b[39m\u001b[39mtimeout\u001b[39m\u001b[39m\"\u001b[39m: timeout,\n\u001b[1;32m    584\u001b[0m     \u001b[39m\"\u001b[39m\u001b[39mallow_redirects\u001b[39m\u001b[39m\"\u001b[39m: allow_redirects,\n\u001b[1;32m    585\u001b[0m }\n\u001b[1;32m    586\u001b[0m send_kwargs\u001b[39m.\u001b[39mupdate(settings)\n\u001b[0;32m--> 587\u001b[0m resp \u001b[39m=\u001b[39m \u001b[39mself\u001b[39;49m\u001b[39m.\u001b[39;49msend(prep, \u001b[39m*\u001b[39;49m\u001b[39m*\u001b[39;49msend_kwargs)\n\u001b[1;32m    589\u001b[0m \u001b[39mreturn\u001b[39;00m resp\n",
      "File \u001b[0;32m~/miniconda3/envs/geo/lib/python3.10/site-packages/requests/sessions.py:701\u001b[0m, in \u001b[0;36mSession.send\u001b[0;34m(self, request, **kwargs)\u001b[0m\n\u001b[1;32m    698\u001b[0m start \u001b[39m=\u001b[39m preferred_clock()\n\u001b[1;32m    700\u001b[0m \u001b[39m# Send the request\u001b[39;00m\n\u001b[0;32m--> 701\u001b[0m r \u001b[39m=\u001b[39m adapter\u001b[39m.\u001b[39;49msend(request, \u001b[39m*\u001b[39;49m\u001b[39m*\u001b[39;49mkwargs)\n\u001b[1;32m    703\u001b[0m \u001b[39m# Total elapsed time of the request (approximately)\u001b[39;00m\n\u001b[1;32m    704\u001b[0m elapsed \u001b[39m=\u001b[39m preferred_clock() \u001b[39m-\u001b[39m start\n",
      "File \u001b[0;32m~/miniconda3/envs/geo/lib/python3.10/site-packages/requests/adapters.py:563\u001b[0m, in \u001b[0;36mHTTPAdapter.send\u001b[0;34m(self, request, stream, timeout, verify, cert, proxies)\u001b[0m\n\u001b[1;32m    559\u001b[0m         \u001b[39mraise\u001b[39;00m ProxyError(e, request\u001b[39m=\u001b[39mrequest)\n\u001b[1;32m    561\u001b[0m     \u001b[39mif\u001b[39;00m \u001b[39misinstance\u001b[39m(e\u001b[39m.\u001b[39mreason, _SSLError):\n\u001b[1;32m    562\u001b[0m         \u001b[39m# This branch is for urllib3 v1.22 and later.\u001b[39;00m\n\u001b[0;32m--> 563\u001b[0m         \u001b[39mraise\u001b[39;00m SSLError(e, request\u001b[39m=\u001b[39mrequest)\n\u001b[1;32m    565\u001b[0m     \u001b[39mraise\u001b[39;00m \u001b[39mConnectionError\u001b[39;00m(e, request\u001b[39m=\u001b[39mrequest)\n\u001b[1;32m    567\u001b[0m \u001b[39mexcept\u001b[39;00m ClosedPoolError \u001b[39mas\u001b[39;00m e:\n",
      "\u001b[0;31mSSLError\u001b[0m: HTTPSConnectionPool(host='ipvigilante.com', port=443): Max retries exceeded with url: /142.251.32.14/country_iso_code (Caused by SSLError(CertificateError(\"hostname 'ipvigilante.com' doesn't match either of 'cloudflare-dns.com', '*.cloudflare-dns.com', 'one.one.one.one', '1.0.0.1', '1.1.1.1', '162.159.36.1', '162.159.46.1', '2606:4700:4700:0:0:0:0:1001', '2606:4700:4700:0:0:0:0:1111', '2606:4700:4700:0:0:0:0:64', '2606:4700:4700:0:0:0:0:6400'\")))"
     ]
    }
   ],
   "source": [
    "email2country('xyz@google.com')"
   ]
  },
  {
   "cell_type": "markdown",
   "metadata": {},
   "source": [
    "### Country name containing Congo"
   ]
  },
  {
   "cell_type": "code",
   "execution_count": null,
   "metadata": {},
   "outputs": [
    {
     "name": "stdout",
     "output_type": "stream",
     "text": [
      "Congo, The Democratic Republic of the\n",
      "Congo\n",
      "Republic of the Congo\n"
     ]
    }
   ],
   "source": [
    "for country in cnames:\n",
    "    if country.find(\"Congo\") != -1:\n",
    "        print(country)"
   ]
  },
  {
   "cell_type": "code",
   "execution_count": null,
   "metadata": {},
   "outputs": [
    {
     "data": {
      "text/html": [
       "<div>\n",
       "<style scoped>\n",
       "    .dataframe tbody tr th:only-of-type {\n",
       "        vertical-align: middle;\n",
       "    }\n",
       "\n",
       "    .dataframe tbody tr th {\n",
       "        vertical-align: top;\n",
       "    }\n",
       "\n",
       "    .dataframe thead th {\n",
       "        text-align: right;\n",
       "    }\n",
       "</style>\n",
       "<table border=\"1\" class=\"dataframe\">\n",
       "  <thead>\n",
       "    <tr style=\"text-align: right;\">\n",
       "      <th></th>\n",
       "      <th>ccTLD</th>\n",
       "      <th>Entity</th>\n",
       "      <th>Registry Operator</th>\n",
       "      <th>Notes</th>\n",
       "    </tr>\n",
       "  </thead>\n",
       "  <tbody>\n",
       "    <tr>\n",
       "      <th>1</th>\n",
       "      <td>.ac</td>\n",
       "      <td>Ascension Island</td>\n",
       "      <td>Nic.ac</td>\n",
       "      <td>NaN</td>\n",
       "    </tr>\n",
       "    <tr>\n",
       "      <th>2</th>\n",
       "      <td>.ad</td>\n",
       "      <td>Andorra</td>\n",
       "      <td>Andorra Telecom</td>\n",
       "      <td>NaN</td>\n",
       "    </tr>\n",
       "    <tr>\n",
       "      <th>3</th>\n",
       "      <td>.ae</td>\n",
       "      <td>United Arab Emirates</td>\n",
       "      <td>UAEnic</td>\n",
       "      <td>NaN</td>\n",
       "    </tr>\n",
       "    <tr>\n",
       "      <th>4</th>\n",
       "      <td>.af</td>\n",
       "      <td>Afghanistan</td>\n",
       "      <td>AfgNIC</td>\n",
       "      <td>NaN</td>\n",
       "    </tr>\n",
       "    <tr>\n",
       "      <th>5</th>\n",
       "      <td>.ag</td>\n",
       "      <td>Antigua and Barbuda</td>\n",
       "      <td>Nic AG</td>\n",
       "      <td>NaN</td>\n",
       "    </tr>\n",
       "  </tbody>\n",
       "</table>\n",
       "</div>"
      ],
      "text/plain": [
       "0 ccTLD                Entity Registry Operator Notes\n",
       "1   .ac      Ascension Island            Nic.ac   NaN\n",
       "2   .ad               Andorra   Andorra Telecom   NaN\n",
       "3   .ae  United Arab Emirates            UAEnic   NaN\n",
       "4   .af           Afghanistan            AfgNIC   NaN\n",
       "5   .ag   Antigua and Barbuda            Nic AG   NaN"
      ]
     },
     "metadata": {},
     "output_type": "display_data"
    }
   ],
   "source": [
    "# No longer needed\n",
    "# Originally parsing from:\n",
    "#https://icannwiki.org/Country_code_top-level_domain\n",
    "\n",
    "# Treat row 1 as column names\n",
    "#https://stackoverflow.com/questions/52516199/convert-first-row-of-pandas-dataframe-to-column-name\n",
    "#https://sparkbyexamples.com/pandas/pandas-drop-rows-from-dataframe/\n",
    "\n",
    "table_ccTLD.columns = table_ccTLD.iloc[0]\n",
    "table_ccTLD = table_ccTLD.drop([0])\n",
    "table_ccTLD.head()"
   ]
  }
 ],
 "metadata": {
  "kernelspec": {
   "display_name": "geo",
   "language": "python",
   "name": "python3"
  },
  "language_info": {
   "codemirror_mode": {
    "name": "ipython",
    "version": 3
   },
   "file_extension": ".py",
   "mimetype": "text/x-python",
   "name": "python",
   "nbconvert_exporter": "python",
   "pygments_lexer": "ipython3",
   "version": "3.10.9"
  },
  "orig_nbformat": 4
 },
 "nbformat": 4,
 "nbformat_minor": 2
}
