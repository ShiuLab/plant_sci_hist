{
 "cells": [
  {
   "attachments": {},
   "cell_type": "markdown",
   "metadata": {},
   "source": [
    "# __Step 7.4: Consolidate all outputs__\n",
    "\n",
    "Goal\n",
    "- Combine the information from:\n",
    "  - pycountry run\n",
    "  - Nominatim outputs\n",
    "  - Brute force search and email search'\n",
    "- Generate a country info matrix and save as tab delimited file\n",
    "- Generate a {pmid:country} dictionary based on the considerations below.\n",
    "\n",
    "Considerations:\n",
    "- 1st order of priority:\n",
    "  - pycountry\n",
    "  - Brute force current country\n",
    "  - Brute force historical country\n",
    "- For records without country info\n",
    "  - Assess false positive rates for:\n",
    "    - Brute force subregion-based country\n",
    "    - Email-based country\n",
    "    - Nominatime based country\n",
    "  - Determine 2nd order of priority and assign country\n",
    "\n",
    "Final stat\n",
    "- With country info: 330187\n",
    "- Without: 71239"
   ]
  },
  {
   "cell_type": "markdown",
   "metadata": {},
   "source": [
    "## ___Set up___"
   ]
  },
  {
   "cell_type": "markdown",
   "metadata": {},
   "source": [
    "### Module import\n",
    "\n",
    "In conda env `base`"
   ]
  },
  {
   "cell_type": "code",
   "execution_count": 1,
   "metadata": {},
   "outputs": [],
   "source": [
    "import pickle, glob\n",
    "from pathlib import Path\n",
    "from tqdm import tqdm\n",
    "from multiprocessing import Pool"
   ]
  },
  {
   "cell_type": "markdown",
   "metadata": {},
   "source": [
    "### Key variables"
   ]
  },
  {
   "cell_type": "code",
   "execution_count": 2,
   "metadata": {},
   "outputs": [],
   "source": [
    "# Reproducibility\n",
    "seed = 20220609\n",
    "\n",
    "# Setting working directory\n",
    "proj_dir   = Path.home() / \"projects/plant_sci_hist\"\n",
    "base_dir   = proj_dir / \"7_countries\"\n",
    "work_dir   = base_dir / \"7_4_consolidate_all\"\n",
    "work_dir.mkdir(parents=True, exist_ok=True)\n",
    "\n",
    "dir71      = base_dir / \"7_1_parse_countries\"\n",
    "dir72      = base_dir / \"7_2_nomi_consolidate\"\n",
    "dir73      = base_dir / \"7_3_brute_force_and_email\"\n",
    "\n",
    "# all records\n",
    "dict_pmid_au_ad_file = dir71 / \"dict_pmid_AU_AD.pickle\"\n",
    "\n",
    "# country info \n",
    "ci_pyco_file  = dir71 / \"country_info-pycountry.pickle\"\n",
    "ci_nomi_file  = dir72 / \"country_info-nominatim_all.pickle\"\n",
    "ci_brut_file  = dir73 / \"dict_pmid_au_ad_BRUTE.pickle\""
   ]
  },
  {
   "attachments": {},
   "cell_type": "markdown",
   "metadata": {},
   "source": [
    "## ___Read relevant files___"
   ]
  },
  {
   "attachments": {},
   "cell_type": "markdown",
   "metadata": {},
   "source": [
    "### All records\n",
    "\n",
    "dict_pmid_au_ad = {pmid:[AD, AU]}"
   ]
  },
  {
   "cell_type": "code",
   "execution_count": 3,
   "metadata": {},
   "outputs": [],
   "source": [
    "with open(dict_pmid_au_ad_file, \"rb\") as f:\n",
    "  dict_pmid_au_ad = pickle.load(f)"
   ]
  },
  {
   "attachments": {},
   "cell_type": "markdown",
   "metadata": {},
   "source": [
    "### pycountry\n",
    "\n",
    "```Python\n",
    "ci_pyco = {pmid:[first_AU, first_AD, alpha_3]}\n",
    "```"
   ]
  },
  {
   "cell_type": "code",
   "execution_count": 4,
   "metadata": {},
   "outputs": [],
   "source": [
    "with open(ci_pyco_file, \"rb\") as f:\n",
    "  ci_pyco = pickle.load(f)"
   ]
  },
  {
   "cell_type": "code",
   "execution_count": 5,
   "metadata": {},
   "outputs": [
    {
     "name": "stdout",
     "output_type": "stream",
     "text": [
      "61 [['Haveman J', 'Lavorel J'], 'NA', 'NA']\n",
      "67 [['Fluck RA', 'Jaffe MJ'], 'NA', 'NA']\n",
      "283 [['Siddiqui KA', 'Banerjee AK'], 'NA', 'NA']\n",
      "380 [['Ogiso T', 'Noda T', 'Sako Y', 'Kato Y', 'Aoyama M'], 'NA', 'NA']\n",
      "385 [['Leung KH', 'Hinkle PC'], 'NA', 'NA']\n",
      "466 [['Nakamura H', 'Suganuma A', 'Greenberg J'], 'NA', 'NA']\n",
      "543 [['Benohr HC', 'Waller HD'], 'NA', 'NA']\n",
      "580 [['Sanders TH', 'Pattee HE', 'Singleton JA'], 'NA', 'NA']\n",
      "836 [['Konoplytska OL', 'Sytnyanska NP'], 'NA', 'NA']\n",
      "990 [['Gregory P', 'Bradbeer JW'], 'NA', 'NA']\n"
     ]
    }
   ],
   "source": [
    "c = 0\n",
    "for i in ci_pyco:\n",
    "    print(i, ci_pyco[i])\n",
    "    c += 1\n",
    "    if c == 10: break"
   ]
  },
  {
   "cell_type": "code",
   "execution_count": 6,
   "metadata": {},
   "outputs": [],
   "source": [
    "for i in ci_pyco:\n",
    "  a3 = ci_pyco[i]\n",
    "  if len(a3) != 3:\n",
    "    print(a3)"
   ]
  },
  {
   "attachments": {},
   "cell_type": "markdown",
   "metadata": {},
   "source": [
    "### Nomnatim output\n",
    "\n",
    "```Python\n",
    "ci_nomi = {pmid:[AU, AD, {importance:[alpha_3s]}]}\n",
    "```\n",
    "\n",
    "Parse the above to generate:\n",
    "```Python\n",
    "ci_nomi_top = {pmid:[alpha_3s]}\n",
    "```\n",
    "\n",
    "Total:72401, multiple a3s:5727"
   ]
  },
  {
   "cell_type": "code",
   "execution_count": 7,
   "metadata": {},
   "outputs": [],
   "source": [
    "with open(ci_nomi_file, \"rb\") as f:\n",
    "  ci_nomi = pickle.load(f)"
   ]
  },
  {
   "cell_type": "code",
   "execution_count": 8,
   "metadata": {},
   "outputs": [
    {
     "name": "stdout",
     "output_type": "stream",
     "text": [
      "Total:72401, multiple a3s:5727\n"
     ]
    }
   ],
   "source": [
    "# Populate another dictionary with top country\n",
    "ci_nomi_top = {} # {pmid:a3}\n",
    "c_multi = 0\n",
    "for pmid in ci_nomi:\n",
    "  idict = ci_nomi[pmid][2]    # importance dictionary\n",
    "  ilist = list(idict.keys())  # importance value list\n",
    "  ilist.sort()                # sort importance\n",
    "  a3s   = idict[ilist[-1]]    # a3s of the most important\n",
    "  if len(a3s) > 1:\n",
    "    c_multi += 1\n",
    "\n",
    "  ci_nomi_top[pmid] = a3s\n",
    "\n",
    "print(f\"Total:{len(ci_nomi_top)}, multiple a3s:{c_multi}\")"
   ]
  },
  {
   "cell_type": "code",
   "execution_count": 9,
   "metadata": {},
   "outputs": [
    {
     "name": "stdout",
     "output_type": "stream",
     "text": [
      "16668554 ['USA']\n",
      "28677478 ['USA']\n",
      "18424616 ['SGP']\n",
      "19065767 ['BRA']\n",
      "25901651 ['ESP']\n",
      "24346792 ['BRA']\n",
      "33294018 ['NA']\n",
      "8376342 ['USA']\n",
      "26417108 ['DEU']\n",
      "29301956 ['USA']\n"
     ]
    }
   ],
   "source": [
    "c = 0\n",
    "for i in ci_nomi_top:\n",
    "    print(i, ci_nomi_top[i])\n",
    "    c += 1\n",
    "    if c == 10: break"
   ]
  },
  {
   "attachments": {},
   "cell_type": "markdown",
   "metadata": {},
   "source": [
    "### Brute force and email search\n",
    "\n",
    "```Python\n",
    "ci_brut = {pmid:\n",
    "            [AU, AD, \n",
    "              {\"country\":XX, \"country_hist\":XX, \"subregion\":XX, \"email\":XX}\n",
    "            ]\n",
    "          }\n",
    "```"
   ]
  },
  {
   "cell_type": "code",
   "execution_count": 10,
   "metadata": {},
   "outputs": [],
   "source": [
    "with open(ci_brut_file, \"rb\") as f:\n",
    "  ci_brut = pickle.load(f)"
   ]
  },
  {
   "cell_type": "code",
   "execution_count": 11,
   "metadata": {},
   "outputs": [
    {
     "name": "stdout",
     "output_type": "stream",
     "text": [
      "361242\n"
     ]
    }
   ],
   "source": [
    "c = 0\n",
    "for i in ci_brut:\n",
    "  if len(ci_brut[i]) == 3:\n",
    "    if ci_brut[i][2]['country'] != \"\":\n",
    "       c += 1\n",
    "\n",
    "print(c)"
   ]
  },
  {
   "attachments": {},
   "cell_type": "markdown",
   "metadata": {},
   "source": [
    "## ___Consolidate info into one dictionary___"
   ]
  },
  {
   "cell_type": "markdown",
   "metadata": {},
   "source": [
    "### Populate output dictionary with a3 values"
   ]
  },
  {
   "cell_type": "code",
   "execution_count": 12,
   "metadata": {},
   "outputs": [],
   "source": [
    "# {pmid:\n",
    "#   [AU, AD,\n",
    "#        final_a3                              index=2\n",
    "#        pycountry_out,                              3\n",
    "#        brute_force_current_country,                4\n",
    "#        brute_force_historical_country,             5\n",
    "#        brute_force_subregion-based_country,        6\n",
    "#        email-based_country,                        7\n",
    "#        nomi_out,                                   8\n",
    "#   ]\n",
    "# }\n",
    "\n",
    "ci_combo = {} \n",
    "for pmid in dict_pmid_au_ad:\n",
    "  AU = dict_pmid_au_ad[pmid][0]\n",
    "  AD = dict_pmid_au_ad[pmid][1]\n",
    "  if AD != \"NA\":\n",
    "    ci_combo[pmid] = [AU, AD] + [\"\"]*7\n",
    "\n",
    "    if pmid in ci_pyco:\n",
    "      ci_combo[pmid][3] = ci_pyco[pmid][2]\n",
    "    \n",
    "    if pmid in ci_brut:\n",
    "      d_brut = ci_brut[pmid][2]\n",
    "      if 'country' in d_brut:\n",
    "        ci_combo[pmid][4] = d_brut['country']\n",
    "      if 'country_hist' in d_brut:\n",
    "        ci_combo[pmid][5] = d_brut['country_hist']\n",
    "      if 'subregion' in d_brut:\n",
    "        ci_combo[pmid][6] = d_brut['subregion']\n",
    "      if 'email' in d_brut:\n",
    "        ci_combo[pmid][7] = d_brut['email']\n",
    "\n",
    "    if pmid in ci_nomi_top:\n",
    "      ci_combo[pmid][8] = ci_nomi_top[pmid]"
   ]
  },
  {
   "attachments": {},
   "cell_type": "markdown",
   "metadata": {},
   "source": [
    "### Determine consistency between pyco and brut_country\n",
    "\n",
    "(total_both_non_NA:consistent_a3)\n",
    "- pycountry vs brute force country = (328312, 318902, '97.1%')\n",
    "- pycountry vs brute force subregi = (229221, 97042, '42.3%')\n",
    "- pycountry vs email = (63600, 59741, '93.9%')\n",
    "- brute force country vs subregion = (254596, 101472, '39.8%')\n",
    "- brute force country vs email = (69993, 64681, '92.4%')\n",
    "- brute force region vs email = (47119, 22582, '47.9%')\n",
    "\n",
    "Considerations:\n",
    "- pycountry and bf country has the highest degree of agreement, they are the two best.\n",
    "  - pycountry has a slightly better agreement to email and subregion compared to bf country, but not by much. \n",
    "- email has a strong agreement with pycountry and bf country\n",
    "  - But slightly lower agreement compared to that between pycountry and bf country, so considered 3rd best.\n",
    "- subregion has low agreement with all three\n",
    "  - info only as secondary evidence for verification purpose\n",
    "- Nominatim result: see next section."
   ]
  },
  {
   "cell_type": "code",
   "execution_count": 13,
   "metadata": {},
   "outputs": [],
   "source": [
    "# count # of non NA entries for each type of country info\n",
    "def count_non_na(ci_combo, idx):\n",
    "  count = 0\n",
    "  for pmid in ci_combo:\n",
    "    if ci_combo[pmid][idx] != \"\":\n",
    "      count += 1\n",
    "  return count"
   ]
  },
  {
   "cell_type": "code",
   "execution_count": 14,
   "metadata": {},
   "outputs": [
    {
     "name": "stdout",
     "output_type": "stream",
     "text": [
      "329025\n",
      "361242\n",
      "16573\n",
      "279839\n",
      "72640\n",
      "72401\n"
     ]
    }
   ],
   "source": [
    "print(count_non_na(ci_combo, 3)) # pcountry\n",
    "print(count_non_na(ci_combo, 4)) # brute force country\n",
    "print(count_non_na(ci_combo, 5)) #             historical\n",
    "print(count_non_na(ci_combo, 6)) #             subregion\n",
    "print(count_non_na(ci_combo, 7)) #             email\n",
    "print(count_non_na(ci_combo, 8)) # nomimatim"
   ]
  },
  {
   "cell_type": "code",
   "execution_count": 15,
   "metadata": {},
   "outputs": [],
   "source": [
    "def check_2_consistency(ci_combo, idx1, idx2):\n",
    "  count_both_non_NA = 0\n",
    "  count_consistent = 0\n",
    "  for pmid in ci_combo:\n",
    "    val_idx1 = ci_combo[pmid][idx1]\n",
    "    val_idx2 = ci_combo[pmid][idx2]\n",
    "\n",
    "    if val_idx1 != \"\" and val_idx2 != \"\":\n",
    "      count_both_non_NA += 1\n",
    "      if val_idx1 == val_idx2:\n",
    "        count_consistent += 1\n",
    "\n",
    "  p_consistent = str(count_consistent/count_both_non_NA*100)\n",
    "  idx_decimal  = p_consistent.find(\".\")\n",
    "  p_consistent = f'{p_consistent[:idx_decimal+2]}%'\n",
    "\n",
    "  return count_both_non_NA, count_consistent, p_consistent"
   ]
  },
  {
   "cell_type": "code",
   "execution_count": 16,
   "metadata": {},
   "outputs": [
    {
     "name": "stdout",
     "output_type": "stream",
     "text": [
      "(328312, 318902, '97.1%')\n",
      "(229221, 97042, '42.3%')\n",
      "(63600, 59741, '93.9%')\n",
      "(254596, 101472, '39.8%')\n",
      "(69993, 64681, '92.4%')\n",
      "(47119, 22582, '47.9%')\n"
     ]
    }
   ],
   "source": [
    "print(check_2_consistency(ci_combo, 3, 4)) # pycountry vs brute force country\n",
    "print(check_2_consistency(ci_combo, 3, 6)) # pycountry vs brute force subregion\n",
    "print(check_2_consistency(ci_combo, 3, 7)) # pycountry vs email\n",
    "print(check_2_consistency(ci_combo, 4, 6)) # brute force country vs subregion\n",
    "print(check_2_consistency(ci_combo, 4, 7)) # brute force country vs email\n",
    "print(check_2_consistency(ci_combo, 6, 7)) # brute force subregion vs email\n"
   ]
  },
  {
   "attachments": {},
   "cell_type": "markdown",
   "metadata": {},
   "source": [
    "### Determine consistency between brute force results and nominatim\n",
    "\n",
    "Pycountry is not compared because nominatim run is only done for those without pycountry results.\n",
    "\n",
    "- brute force country vs nomi: (32930, 15349)\n",
    "- brute force subregi vs nomi: (50618, 21303)\n",
    "- email vs nomi: (9040, 4178)\n",
    "\n",
    "So nominatim results seems to have a very high error rate. Only use this info when no other info is available."
   ]
  },
  {
   "cell_type": "code",
   "execution_count": 17,
   "metadata": {},
   "outputs": [],
   "source": [
    "def check_consistency_with_nomi(ci_combo, idx1):\n",
    "  count_both_non_NA = count_consistent = 0\n",
    "  for pmid in ci_combo:\n",
    "    val_idx1 = ci_combo[pmid][idx1]\n",
    "    val_nomi = ci_combo[pmid][8]\n",
    "\n",
    "    if val_idx1 != \"\" and val_nomi != \"\":\n",
    "      count_both_non_NA += 1\n",
    "\n",
    "      # Note that there can be multiple, as long as one is consistent, count it\n",
    "      if val_idx1 in val_nomi:\n",
    "        count_consistent += 1\n",
    "\n",
    "  p_consistent = str(count_consistent/count_both_non_NA*100)\n",
    "  idx_decimal  = p_consistent.find(\".\")\n",
    "  p_consistent = f'{p_consistent[:idx_decimal+2]}%'  \n",
    "\n",
    "  return count_both_non_NA, count_consistent, p_consistent"
   ]
  },
  {
   "cell_type": "code",
   "execution_count": 18,
   "metadata": {},
   "outputs": [
    {
     "name": "stdout",
     "output_type": "stream",
     "text": [
      "(32930, 15349, '46.6%')\n",
      "(50618, 21303, '42.0%')\n",
      "(9040, 4178, '46.2%')\n"
     ]
    }
   ],
   "source": [
    "print(check_consistency_with_nomi(ci_combo, 4)) # brute force country vs nomi\n",
    "print(check_consistency_with_nomi(ci_combo, 6)) # brute force subregi vs nomi\n",
    "print(check_consistency_with_nomi(ci_combo, 7)) # email vs nomi"
   ]
  },
  {
   "attachments": {},
   "cell_type": "markdown",
   "metadata": {},
   "source": [
    "## ___Establish final a3___"
   ]
  },
  {
   "attachments": {},
   "cell_type": "markdown",
   "metadata": {},
   "source": [
    "### Considerations\n",
    "\n",
    "Based on the analysis above, the quality of info, from best to worst, is:\n",
    "- pycountry and brute force country\n",
    "- email\n",
    "- subregion\n",
    "- nominatim\n",
    "\n",
    "Rules:\n",
    "```Python\n",
    "for a pmid where pyc, bfc, hist, or email is not \"\":\n",
    "  if pyc == bfc:                                     # 321553\n",
    "    set pyc, confidence=3\n",
    "  elif pyc == email or bfc == email:                 # 34738\n",
    "    set email, confidence=3\n",
    "  elif pyc == subr or bfc == subr or email == subr:  # 4852\n",
    "    set subr, confidence=3\n",
    "  elif pyc in nomi or bfc in nomi or email in nomi:  # 0, 76, 3236\n",
    "    set nomi, confidence=3\n",
    "  elif pyc != \"\":\n",
    "    set pyc, confidence=2\n",
    "  elif bfc != \"\":\n",
    "    set bfc, confidence=2\n",
    "  elif email != \"\":\n",
    "    set email, confidence=2\n",
    "  elif subr in nomi:\n",
    "    set subr, confidence=2\n",
    "  elif nomi != \"\":\n",
    "    set nomi, confidence=1\n",
    "  elif subr != \"\":\n",
    "    set subr, confidence=1\n",
    "  else:\n",
    "    Unknown country\n",
    "```\n",
    "\n",
    "Total_with_c: 364465 not_found: 36961"
   ]
  },
  {
   "cell_type": "code",
   "execution_count": 19,
   "metadata": {},
   "outputs": [
    {
     "name": "stdout",
     "output_type": "stream",
     "text": [
      "25548975 ['NA', '', '', 'DEU']\n"
     ]
    }
   ],
   "source": [
    "# I don't get why this happens.\n",
    "for pmid in ci_combo:\n",
    "  [pyc, bfc, hist, subr, email, nomi] = ci_combo[pmid][3:]\n",
    "  if pyc != \"\" or bfc != \"\" or hist != \"\" or email != \"\":\n",
    "    if len(pyc) == 2 or len(bfc) == 2 or len(hist) == 2 or len(email) == 2:\n",
    "      print(pmid, [pyc, bfc, hist, email])"
   ]
  },
  {
   "cell_type": "code",
   "execution_count": 20,
   "metadata": {},
   "outputs": [],
   "source": [
    "ci_combo['25548975'][3] = ''"
   ]
  },
  {
   "cell_type": "code",
   "execution_count": 21,
   "metadata": {},
   "outputs": [],
   "source": [
    "ct1 = ct2 = c_nf1 = c_nf2 = c_nf3 = c_nf4 = 0\n",
    "\n",
    "for pmid in ci_combo:\n",
    "  a3   = \"na\"\n",
    "  confidence = 0\n",
    "  [pyc, bfc, hist, subr, email, nomi] = ci_combo[pmid][3:]\n",
    "\n",
    "  # Must have country info from pyc, bfc, hist, or email\n",
    "  if pyc != \"\" or bfc != \"\" or hist != \"\" or email != \"\":\n",
    "    ct1 += 1\n",
    "    if pyc == bfc:\n",
    "      a3   = pyc\n",
    "      confidence = 3\n",
    "    elif pyc == email or bfc == email:\n",
    "      a3 = email\n",
    "      confidence = 3\n",
    "    elif pyc == subr or bfc == subr or email == subr:\n",
    "      a3 = subr\n",
    "      confidence = 3\n",
    "    elif pyc in nomi or bfc in nomi or email in nomi:\n",
    "      if pyc in nomi:\n",
    "        a3 = pyc\n",
    "      elif bfc in nomi:\n",
    "        a3 = bfc\n",
    "      elif email in nomi:\n",
    "        a3 = email\n",
    "      else:\n",
    "        a3 = subr\n",
    "      confidence = 3\n",
    "    elif pyc != \"\" or bfc != \"\" or email != \"\":\n",
    "      if pyc != \"\":\n",
    "        a3 = pyc\n",
    "      elif bfc != \"\":\n",
    "        a3 = bfc\n",
    "      elif email != \"\":\n",
    "        a3 = email\n",
    "      confidence = 2\n",
    "    elif subr in nomi:\n",
    "      a3 = subr\n",
    "      confidence = 1\n",
    "    elif nomi != \"\":\n",
    "      a3 = nomi\n",
    "      confidence = 1\n",
    "    elif subr != \"\":\n",
    "      a3 = subr\n",
    "      confidence=1\n",
    "    else:\n",
    "      c_nf2 += 1\n",
    "  else:\n",
    "    c_nf1 += 1\n",
    "\n",
    "  if a3 == \"\":\n",
    "    a3 = \"na\"\n",
    "    c_nf3 += 1\n",
    "  elif a3 == \"na\":\n",
    "    c_nf4 += 1\n",
    "  else:\n",
    "    ct2 += 1\n",
    "\n",
    "  ci_combo[pmid][2] = [a3, confidence]"
   ]
  },
  {
   "cell_type": "code",
   "execution_count": null,
   "metadata": {},
   "outputs": [],
   "source": [
    "print(\"Total with pyc, bfc, hist, email:\", ct1)\n",
    "print(\" With c:\", ct1-c_nf2)\n",
    "print(\" W/O c :\", c_nf1+c_nf2, \"=\", c_nf4)\n",
    "print(\"a3_final is empty:\", c_nf3)\n",
    "print(\"a3_final is na:\", c_nf4)\n",
    "print(\"ci_combo total:\", len(ci_combo))\n"
   ]
  },
  {
   "cell_type": "code",
   "execution_count": null,
   "metadata": {},
   "outputs": [],
   "source": [
    "len(ci_combo)"
   ]
  },
  {
   "attachments": {},
   "cell_type": "markdown",
   "metadata": {},
   "source": [
    "### Generaete output"
   ]
  },
  {
   "cell_type": "code",
   "execution_count": null,
   "metadata": {},
   "outputs": [],
   "source": [
    "file_ci_combo = work_dir / 'country_info_combo.pickle'\n",
    "with open(file_ci_combo, \"wb\") as f:\n",
    "  pickle.dump(ci_combo, f)"
   ]
  },
  {
   "cell_type": "code",
   "execution_count": null,
   "metadata": {},
   "outputs": [],
   "source": [
    "# PMID /t a3\n",
    "file_ci_final_a3 = work_dir / 'country_info_final_a3.txt'\n",
    "\n",
    "with open(file_ci_final_a3, \"w\") as f:\n",
    "  c_f  = 0\n",
    "  c_nf = 0\n",
    "  f.write('PMID\\tA3\\tConfidence\\n')\n",
    "  for pmid in ci_combo:\n",
    "    [a3, conf] = ci_combo[pmid][2]\n",
    "    if a3 != \"na\":\n",
    "      f.write(f\"{pmid}\\t{a3}\\t{conf}\\n\")\n",
    "      c_f += 1\n",
    "    else:\n",
    "      c_nf += 1\n",
    "\n",
    "print(c_f, c_nf)"
   ]
  },
  {
   "cell_type": "code",
   "execution_count": null,
   "metadata": {},
   "outputs": [],
   "source": []
  }
 ],
 "metadata": {
  "kernelspec": {
   "display_name": "geo",
   "language": "python",
   "name": "python3"
  },
  "language_info": {
   "codemirror_mode": {
    "name": "ipython",
    "version": 3
   },
   "file_extension": ".py",
   "mimetype": "text/x-python",
   "name": "python",
   "nbconvert_exporter": "python",
   "pygments_lexer": "ipython3",
   "version": "3.10.9"
  },
  "orig_nbformat": 4
 },
 "nbformat": 4,
 "nbformat_minor": 2
}
