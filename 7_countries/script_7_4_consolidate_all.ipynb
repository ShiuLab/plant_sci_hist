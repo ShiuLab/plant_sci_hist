{
 "cells": [
  {
   "attachments": {},
   "cell_type": "markdown",
   "metadata": {},
   "source": [
    "# __Step 7.4: Consolidate all outputs__\n",
    "\n",
    "Goal\n",
    "- Combine the information from:\n",
    "  - pycountry run\n",
    "  - Nominatim outputs\n",
    "  - Brute force search and email search'\n",
    "- Generate a country info matrix and save as tab delimited file\n",
    "- Generate a {pmid:country} dictionary based on the considerations below.\n",
    "\n",
    "Considerations:\n",
    "- 1st order of priority:\n",
    "  - pycountry\n",
    "  - Brute force current country\n",
    "  - Brute force historical country\n",
    "- For records without country info\n",
    "  - Assess false positive rates for:\n",
    "    - Brute force subregion-based country\n",
    "    - Email-based country\n",
    "    - Nominatime based country\n",
    "  - Determine 2nd order of priority and assign country"
   ]
  },
  {
   "cell_type": "markdown",
   "metadata": {},
   "source": [
    "## ___Set up___"
   ]
  },
  {
   "cell_type": "markdown",
   "metadata": {},
   "source": [
    "### Module import\n",
    "\n",
    "In conda env `base`"
   ]
  },
  {
   "cell_type": "code",
   "execution_count": null,
   "metadata": {},
   "outputs": [],
   "source": [
    "import pickle, glob\n",
    "from pathlib import Path\n",
    "from tqdm import tqdm\n",
    "from multiprocessing import Pool"
   ]
  },
  {
   "cell_type": "markdown",
   "metadata": {},
   "source": [
    "### Key variables"
   ]
  },
  {
   "cell_type": "code",
   "execution_count": null,
   "metadata": {},
   "outputs": [],
   "source": [
    "# Reproducibility\n",
    "seed = 20220609\n",
    "\n",
    "# Setting working directory\n",
    "proj_dir   = Path.home() / \"projects/plant_sci_hist\"\n",
    "base_dir   = proj_dir / \"7_countries\"\n",
    "work_dir   = base_dir / \"7_4_consolidate_all\"\n",
    "work_dir.mkdir(parents=True, exist_ok=True)\n",
    "\n",
    "dir71      = base_dir / \"7_1_parse_countries\"\n",
    "dir72      = base_dir / \"7_2_nomi_consolidate\"\n",
    "dir73      = base_dir / \"7_3_brute_force_and_email\"\n",
    "\n",
    "# all records\n",
    "dict_pmid_au_ad_file = dir71 / \"dict_pmid_AU_AD.pickle\"\n",
    "\n",
    "# country info \n",
    "ci_pyco_file  = dir71 / \"country_info-pycountry.pickle\"\n",
    "ci_nomi_file  = dir72 / \"country_info-nominatim.pickle\"\n",
    "ci_brut_file  = dir73 / \"dict_pmid_au_ad_BRUTE.pickle\""
   ]
  },
  {
   "attachments": {},
   "cell_type": "markdown",
   "metadata": {},
   "source": [
    "## ___Read relevant files___"
   ]
  },
  {
   "attachments": {},
   "cell_type": "markdown",
   "metadata": {},
   "source": [
    "### All records\n",
    "\n",
    "dict_pmid_au_ad = {pmid:[AD, AU]}"
   ]
  },
  {
   "cell_type": "code",
   "execution_count": null,
   "metadata": {},
   "outputs": [],
   "source": [
    "with open(dict_pmid_au_ad_file, \"rb\") as f:\n",
    "  dict_pmid_au_ad = pickle.load(f)"
   ]
  },
  {
   "attachments": {},
   "cell_type": "markdown",
   "metadata": {},
   "source": [
    "### pycountry\n",
    "\n",
    "```Python\n",
    "ci_pyco = {pmid:[first_AU, first_AD, alpha_3]}\n",
    "```"
   ]
  },
  {
   "cell_type": "code",
   "execution_count": null,
   "metadata": {},
   "outputs": [],
   "source": [
    "with open(ci_pyco_file, \"rb\") as f:\n",
    "  ci_pyco = pickle.load(f)"
   ]
  },
  {
   "attachments": {},
   "cell_type": "markdown",
   "metadata": {},
   "source": [
    "### Nomnatim output\n",
    "\n",
    "```Python\n",
    "ci_nomi = {pmid:[AU, AD, alpha3, {importance:[alpha_3s]}]}\n",
    "```"
   ]
  },
  {
   "cell_type": "code",
   "execution_count": null,
   "metadata": {},
   "outputs": [],
   "source": [
    "with open(ci_nomi_file, \"rb\") as f:\n",
    "  ci_nomi = pickle.load(f)"
   ]
  },
  {
   "attachments": {},
   "cell_type": "markdown",
   "metadata": {},
   "source": [
    "### Brute force and email search\n",
    "\n",
    "```Python\n",
    "ci_brut = {pmid:\n",
    "            [AU, AD, \n",
    "              {\"country\":XX, \"country_hist\":XX, \"subregion\":XX, \"email\":XX}\n",
    "            ]\n",
    "          }\n",
    "```"
   ]
  },
  {
   "cell_type": "code",
   "execution_count": null,
   "metadata": {},
   "outputs": [],
   "source": [
    "with open(ci_brut_file, \"rb\") as f:\n",
    "  ci_brut = pickle.load(f)"
   ]
  },
  {
   "attachments": {},
   "cell_type": "markdown",
   "metadata": {},
   "source": [
    "## ___Build output table___"
   ]
  },
  {
   "cell_type": "markdown",
   "metadata": {},
   "source": [
    "### Populate output dictionary with a3 values"
   ]
  },
  {
   "cell_type": "code",
   "execution_count": null,
   "metadata": {},
   "outputs": [],
   "source": [
    "# {pmid:\n",
    "#   [AU, AD,\n",
    "#        final_a3                              index=2\n",
    "#        pycountry_out,                              3\n",
    "#        brute_force_current_country,                4\n",
    "#        brute_force_historical_country,             5\n",
    "#        brute_force_subregion-based_country,        6\n",
    "#        email-based_country,                        7\n",
    "#        nomi_out,                                   8\n",
    "#   ]\n",
    "# }\n",
    "\n",
    "ci_combo = {} \n",
    "for pmid in dict_pmid_au_ad:\n",
    "  AU = dict_pmid_au_ad[pmid][0]\n",
    "  AD = dict_pmid_au_ad[pmid][1]\n",
    "  if AD != \"NA\":\n",
    "    ci_combo[pmid] = [AU, AD] + [\"\"]*7\n",
    "\n",
    "    if pmid in ci_pyco:\n",
    "      ci_combo[pmid][3] = ci_pyco[pmid][2]\n",
    "    \n",
    "    if pmid in ci_brut:\n",
    "      d_brut = ci_brut[pmid][2]\n",
    "      if 'country' in d_brut\n",
    "        ci_combo[pmid][4] = d_brut['country']\n",
    "      if 'country_hist' in d_brut\n",
    "        ci_combo[pmid][5] = d_brut['country_hist']\n",
    "      if 'subregion' in d_brut\n",
    "        ci_combo[pmid][6] = d_brut['subregion']\n",
    "      if 'email' in d_brut\n",
    "        ci_combo[pmid][7] = d_brut['email']\n",
    "\n",
    "    if pmid in ci_nomi:\n",
    "      ci_combo[pmid][8] = ci_nomi[pmid][2]"
   ]
  },
  {
   "attachments": {},
   "cell_type": "markdown",
   "metadata": {},
   "source": [
    "### Determine consistency between pyco and brut_country\n",
    "\n",
    "Establish a dictionary `ci_benchmark` where a record is included if pycounry and brute force search country are the same."
   ]
  },
  {
   "cell_type": "code",
   "execution_count": null,
   "metadata": {},
   "outputs": [],
   "source": [
    "count_a3_pyco   = 0 # number of records with a3 in pycounrtry search\n",
    "count_a3_curr   = 0 # in brute force current country search\n",
    "count_a3_hist   = 0 # in brute force historical country search\n",
    "count_pyco_curr = 0 # consistent between pyco and curr\n",
    "count_pyco_hist = 0 # consistent between pyco and hist\n",
    "count_curr_hist = 0 # has both curr and hist, should not happen\n",
    "\n",
    "ci_benchmark  = {} # {pmid:a3}\n",
    "for pmid in ci_combo:\n",
    "  a3_pyco = ci_combo[pmid][3]\n",
    "  a3_curr = ci_combo[pmid][4]\n",
    "  a3_hist = ci_combo[pmid][5]\n",
    "  a3_pyco_flag = 0\n",
    "  a3_curr_flag = 0\n",
    "  a3_hist_flag = 0\n",
    "\n",
    "  # Count and set flags\n",
    "  if a3_pyco != \"\":\n",
    "    count_a3_pyco += 1\n",
    "    a3_pyco_flag = 1\n",
    "\n",
    "  if a3_curr != \"\":\n",
    "    count_a3_hist += 1\n",
    "    a3_curr_flag = 1\n",
    "  \n",
    "  if a3_brut != \"\":\n",
    "    count_a3_hist += 1\n",
    "    a3_brut_flag = 1\n",
    "\n",
    "  # Consistent between pyco and brute force current\n",
    "  if a3_pyco_flag and a3_curr_flag:\n",
    "    if a3_pyco == a3_curr:\n",
    "      count_pyco_curr += 1\n",
    "      ci_benchmark[pmid] = a3_pyco\n",
    "\n",
    "  # Consistent between pyco and brute force historical\n",
    "  if a3_pyco_flag and a3_hist_flag:\n",
    "    if a3_pyco == a3_hist:\n",
    "      count_pyco_hist += 1\n",
    "      ci_benchmark[pmid] = a3_pyco\n",
    "\n",
    "  # Have both brute force current and historical, should not happen\n",
    "  if a3_curr_flag and a3_hist_flag:\n",
    "    count_curr_hist += 1\n",
    "\n",
    "print(\"Total pyco:\", count_a3_pyco)\n",
    "print(f\" curr:{count_a3_curr}, same:{count_pyco_curr}\")\n",
    "print(f\" hist:{count_a3_curr}, same:{count_pyco_hist}\")\n",
    "print(\"With curr and hist:\", count_curr_hist)"
   ]
  },
  {
   "attachments": {},
   "cell_type": "markdown",
   "metadata": {},
   "source": [
    "### Determine FP rates\n",
    "\n",
    "Assuming that pyco, brut_country, brut_historal_country are accurate."
   ]
  },
  {
   "cell_type": "code",
   "execution_count": null,
   "metadata": {},
   "outputs": [],
   "source": []
  },
  {
   "cell_type": "code",
   "execution_count": null,
   "metadata": {},
   "outputs": [],
   "source": []
  },
  {
   "cell_type": "code",
   "execution_count": null,
   "metadata": {},
   "outputs": [],
   "source": []
  },
  {
   "cell_type": "code",
   "execution_count": null,
   "metadata": {},
   "outputs": [],
   "source": []
  },
  {
   "cell_type": "markdown",
   "metadata": {},
   "source": [
    "## ___Combine pycountry and nominatim country info___"
   ]
  },
  {
   "cell_type": "markdown",
   "metadata": {},
   "source": [
    "### Considerations\n",
    "\n",
    "Obj format\n",
    "- ci_combo = {pmid:[AU, AD, a3]}\n",
    "- ci_nomi = {pmid:[AU, AD, {importance:[countries]} ]}\n",
    "\n",
    "Note:\n",
    "- Nominatim is supposed to run on records that do not have pycountry matches.\n",
    "- But when I run North America, I discovered some issues with pycountry matching part, so there were records with nominatim run but later on found to have pycountry matches.\n",
    "- So I need to make sure pycountry match is prioritized when there is also a nominatim match."
   ]
  },
  {
   "cell_type": "code",
   "execution_count": null,
   "metadata": {},
   "outputs": [],
   "source": [
    "len(ci_combo), len(ci_nomi)"
   ]
  },
  {
   "cell_type": "markdown",
   "metadata": {},
   "source": [
    "### Merging"
   ]
  },
  {
   "cell_type": "code",
   "execution_count": null,
   "metadata": {},
   "outputs": [],
   "source": [
    "# Go through ci_nomi and put record into ci_combo\n",
    "for pmid in ci_nomi:\n",
    "  [AU, AD, ni_dict] = ci_nomi[pmid]\n",
    "\n",
    "  # Importance values\n",
    "  imps = list)ni_dict.keys()\n",
    "  a3   = ni_dict[imps[-1]]\n",
    "  if pmid not in ci_combo:\n",
    "    if len(a3) > 1:\n",
    "      print(f\"pmid:same importance - {a3}\")\n",
    "    ci_combo[pmid] = [AU, AD, a3]\n",
    "\n",
    "len(ci_combo)"
   ]
  },
  {
   "cell_type": "code",
   "execution_count": null,
   "metadata": {},
   "outputs": [],
   "source": [
    "# Save ci_combo\n",
    "ci_combo_file = work_dir / \"country_info-combo.pickle\"\n",
    "with open(ci_combo_file, \"wb\") as f:\n",
    "  pickle.dump(ci_combo, f)"
   ]
  },
  {
   "cell_type": "code",
   "execution_count": null,
   "metadata": {},
   "outputs": [],
   "source": [
    "# load ci_combo file to make sure it is ok\n",
    "with open(ci_combo_file, \"rb\") as f:\n",
    "  ci_combo_reload = pickle.load(f)\n",
    "\n",
    "len(ci_combo)"
   ]
  },
  {
   "cell_type": "code",
   "execution_count": null,
   "metadata": {},
   "outputs": [],
   "source": []
  },
  {
   "cell_type": "code",
   "execution_count": null,
   "metadata": {},
   "outputs": [],
   "source": []
  },
  {
   "cell_type": "code",
   "execution_count": null,
   "metadata": {},
   "outputs": [],
   "source": []
  },
  {
   "cell_type": "code",
   "execution_count": null,
   "metadata": {},
   "outputs": [],
   "source": []
  },
  {
   "cell_type": "code",
   "execution_count": null,
   "metadata": {},
   "outputs": [],
   "source": []
  },
  {
   "cell_type": "markdown",
   "metadata": {},
   "source": [
    "## ___Combine pycountry and nominatim country info___"
   ]
  },
  {
   "cell_type": "markdown",
   "metadata": {},
   "source": [
    "### Considerations\n",
    "\n",
    "Obj format\n",
    "- ci_combo = {pmid:[AU, AD, a3]}\n",
    "- ci_nomi = {pmid:[AU, AD, {importance:[countries]} ]}\n",
    "\n",
    "Note:\n",
    "- Nominatim is supposed to run on records that do not have pycountry matches.\n",
    "- But when I run North America, I discovered some issues with pycountry matching part, so there were records with nominatim run but later on found to have pycountry matches.\n",
    "- So I need to make sure pycountry match is prioritized when there is also a nominatim match."
   ]
  },
  {
   "cell_type": "code",
   "execution_count": null,
   "metadata": {},
   "outputs": [],
   "source": [
    "len(ci_combo), len(ci_nomi)"
   ]
  },
  {
   "cell_type": "markdown",
   "metadata": {},
   "source": [
    "### Merging"
   ]
  },
  {
   "cell_type": "code",
   "execution_count": null,
   "metadata": {},
   "outputs": [],
   "source": [
    "# Go through ci_nomi and put record into ci_combo\n",
    "for pmid in ci_nomi:\n",
    "  [AU, AD, ni_dict] = ci_nomi[pmid]\n",
    "\n",
    "  # Importance values\n",
    "  imps = list)ni_dict.keys()\n",
    "  a3   = ni_dict[imps[-1]]\n",
    "  if pmid not in ci_combo:\n",
    "    if len(a3) > 1:\n",
    "      print(f\"pmid:same importance - {a3}\")\n",
    "    ci_combo[pmid] = [AU, AD, a3]\n",
    "\n",
    "len(ci_combo)"
   ]
  },
  {
   "cell_type": "code",
   "execution_count": null,
   "metadata": {},
   "outputs": [],
   "source": [
    "# Save ci_combo\n",
    "ci_combo_file = work_dir / \"country_info-combo.pickle\"\n",
    "with open(ci_combo_file, \"wb\") as f:\n",
    "  pickle.dump(ci_combo, f)"
   ]
  },
  {
   "cell_type": "code",
   "execution_count": null,
   "metadata": {},
   "outputs": [],
   "source": [
    "# load ci_combo file to make sure it is ok\n",
    "with open(ci_combo_file, \"rb\") as f:\n",
    "  ci_combo_reload = pickle.load(f)\n",
    "\n",
    "len(ci_combo)"
   ]
  },
  {
   "cell_type": "markdown",
   "metadata": {},
   "source": [
    "### Spot check ci_nomi"
   ]
  },
  {
   "cell_type": "code",
   "execution_count": null,
   "metadata": {},
   "outputs": [],
   "source": [
    "# check same importance but different countries\n",
    "c = 0\n",
    "for pmid in ci_nomi:\n",
    "  ni_dict = ci_nomi[pmid][2]\n",
    "  for ni in ni_dict:\n",
    "    if len(ni_dict[ni]) > 1:\n",
    "      #if c < 100:\n",
    "      #  print(f\"{pmid}:ni={ni},val={ni_dict[ni]}\")\n",
    "      c += 1\n",
    "\n",
    "print(f\"total={len(ci_nomi)}, same importance={c}\")\n"
   ]
  },
  {
   "cell_type": "code",
   "execution_count": null,
   "metadata": {},
   "outputs": [],
   "source": [
    "# check # of pmids with >1 importance\n",
    "cdict = {} # {num_ni: count}\n",
    "for pmid in ci_nomi:\n",
    "  ni_dict  = ci_nomi[pmid][2] # nominatim importance dictionary\n",
    "  ni_count = len(ni_dict)\n",
    "  if ni_count not in cdict:\n",
    "    cdict[ni_count] = 1\n",
    "  else:\n",
    "    cdict[ni_count]+= 1\n",
    "\n",
    "cdict"
   ]
  },
  {
   "cell_type": "code",
   "execution_count": null,
   "metadata": {},
   "outputs": [],
   "source": [
    "# Check # of pmids where USA importance is lower\n",
    "c = 0\n",
    "for pmid in ci_nomi:\n",
    "  if len(ci_nomi[pmid][2]) > 1:\n",
    "    ni_dict = ci_nomi[pmid][2]  \n",
    "    imps = list(ni_dict.keys()) # importance values\n",
    "    imps.sort()\n",
    "\n",
    "    # Not the one with the highest importance\n",
    "    if \"USA\" not in ni_dict[imps[-1]]:\n",
    "      print(f\"{pmid}:{ni_dict}\")\n",
    "      print(f\"AD={ci_nomi[pmid][1]}\")\n",
    "      c += 1\n",
    "\n",
    "print(f\"total={len(ci_nomi)}, usa < other={c}\")"
   ]
  },
  {
   "cell_type": "code",
   "execution_count": null,
   "metadata": {},
   "outputs": [],
   "source": [
    "# Examine a few examples\n",
    "# Check these again:\n",
    "'''\n",
    "16656733\n",
    "AD  =['Department of Biology, Queen Elizabeth College, (University of London), Campden Hill, London, W.8.']\n",
    "nomi={0.4000099999999999: ['USA'], 0.20000999999999997: ['IND']}\n",
    "\n",
    "16656734\n",
    "AD  =['Department of Plant Physiology, Waite Agricultural Research Institute, Glen Osmond, South Australia.']\n",
    "nomi={0.30000999999999994: ['USA'], 0.4000099999999999: ['IDN']}\n",
    "\n",
    "16656755\n",
    "AD  =['C.S.I.R.O. Division of Horticultural Research, Private Bag No. 1, Glen Osmond, South Australia.']\n",
    "nomi={0.30000999999999994: ['USA'], 0.4000099999999999: ['IDN']}\n",
    "\n",
    "16656757\n",
    "AD  =['Institute of Biology, College of General Education (Kyoyo-gakubu), University of Tokyo, Komaba, Meguro, Tokyo.']\n",
    "nomi={0.21000999999999995: ['USA'], 0.6600099999999999: ['JPN']}\n",
    "'''\n",
    "c = 0\n",
    "for pmid in ci_nomi:\n",
    "  if len(ci_nomi[pmid][2]) == 2:\n",
    "    print(pmid)\n",
    "    print(f\"AD  ={ci_nomi[pmid][1]}\")\n",
    "    print(f\"nomi={ci_nomi[pmid][2]}\\n\")\n",
    "    if c == 100:\n",
    "      break\n",
    "    c += 1"
   ]
  }
 ],
 "metadata": {
  "kernelspec": {
   "display_name": "geo",
   "language": "python",
   "name": "python3"
  },
  "language_info": {
   "codemirror_mode": {
    "name": "ipython",
    "version": 3
   },
   "file_extension": ".py",
   "mimetype": "text/x-python",
   "name": "python",
   "nbconvert_exporter": "python",
   "pygments_lexer": "ipython3",
   "version": "3.10.9"
  },
  "orig_nbformat": 4
 },
 "nbformat": 4,
 "nbformat_minor": 2
}
