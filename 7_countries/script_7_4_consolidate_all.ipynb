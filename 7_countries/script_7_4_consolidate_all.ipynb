{
 "cells": [
  {
   "attachments": {},
   "cell_type": "markdown",
   "metadata": {},
   "source": [
    "# __Step 7.4: Consolidate all outputs__\n",
    "\n",
    "Goal\n",
    "- With the pycountry-based country info and nominatim runs, combine the info."
   ]
  },
  {
   "cell_type": "markdown",
   "metadata": {},
   "source": [
    "## ___Set up___"
   ]
  },
  {
   "cell_type": "markdown",
   "metadata": {},
   "source": [
    "### Module import\n",
    "\n",
    "In conda env `base`"
   ]
  },
  {
   "cell_type": "code",
   "execution_count": null,
   "metadata": {},
   "outputs": [],
   "source": [
    "import pickle, glob\n",
    "from pathlib import Path\n",
    "from tqdm import tqdm\n",
    "from multiprocessing import Pool"
   ]
  },
  {
   "cell_type": "markdown",
   "metadata": {},
   "source": [
    "### Key variables"
   ]
  },
  {
   "cell_type": "code",
   "execution_count": null,
   "metadata": {},
   "outputs": [],
   "source": [
    "# Reproducibility\n",
    "seed = 20220609\n",
    "\n",
    "# Setting working directory\n",
    "proj_dir   = Path.home() / \"projects/plant_sci_hist\"\n",
    "base_dir   = proj_dir / \"7_countries\"\n",
    "work_dir   = base_dir / \"7_2_nomi_consolidate\"\n",
    "work_dir.mkdir(parents=True, exist_ok=True)\n",
    "\n",
    "dir71      = base_dir / \"7_1_parse_countries\"\n",
    "\n",
    "# country info based on pycountry\n",
    "ci_pyc_file  = dir71 / \"country_info-pycountry.pickle\"\n",
    "\n",
    "# Nominatim out directories\n",
    "nomi_out_dirs = [\n",
    "      dir71 / \"nominatim_na_out\" , dir71 / \"nominatim_na_out2\",\n",
    "      dir71 / \"nominatim_as_out\" , dir71 / \"nominatim_as_out2\",\n",
    "      dir71 / \"nominatim_eu1_out\", dir71 / \"nominatim_eu1_out2\",\n",
    "      dir71 / \"nominatim_eu2_out\", dir71 / \"nominatim_eu2_out2\", \n",
    "      dir71 / \"nominatim_ao_out\" , dir71 / \"nominatim_ao_out2\"]\n",
    "\n",
    "dir_test = dir71 / \"old_results\"\n",
    "\n",
    "test_dirs = \\\n",
    "     [dir_test / \"nominatim_na_out\", dir_test / \"nominatim_na_out2\",\n",
    "      dir_test / \"nominatim_as_out\", dir_test / \"nominatim_as_out2\"]"
   ]
  },
  {
   "cell_type": "markdown",
   "metadata": {},
   "source": [
    "## ___Process pycountry country info___"
   ]
  },
  {
   "cell_type": "code",
   "execution_count": null,
   "metadata": {},
   "outputs": [],
   "source": [
    "with open(ci_pyc_file, \"rb\") as f:\n",
    "  ci_pyc = pickle.load(f)"
   ]
  },
  {
   "cell_type": "code",
   "execution_count": null,
   "metadata": {},
   "outputs": [
    {
     "data": {
      "text/plain": [
       "('61', [['Haveman J', 'Lavorel J'], 'NA', 'NA'])"
      ]
     },
     "metadata": {},
     "output_type": "display_data"
    }
   ],
   "source": [
    "pmids_ci_pyc = list(ci_pyc.keys())\n",
    "pmids_ci_pyc[0], ci_pyc[pmids_ci_pyc[0]]"
   ]
  },
  {
   "cell_type": "code",
   "execution_count": null,
   "metadata": {},
   "outputs": [
    {
     "name": "stdout",
     "output_type": "stream",
     "text": [
      "With info:329024, without: 19851\n"
     ]
    }
   ],
   "source": [
    "# Create a combined ci dictionary to store info from nominatim runs,\n",
    "# exclude entries with no AD info\n",
    "ci_combo = {} # {pmid:[AU, AD, a3]}\n",
    "c_bad    = 0  # count bad\n",
    "for pmid in ci_pyc:\n",
    "  if ci_pyc[pmid][1] != \"NA\":\n",
    "    ci_combo[pmid] = ci_pyc[pmid]\n",
    "    # This should not happen\n",
    "    if ci_pyc[pmid][2] == \"NA\":\n",
    "      print(\"ERROR:\", ci_pyc[pmid][1:])\n",
    "  else:\n",
    "    c_bad += 1\n",
    "\n",
    "print(f\"With info:{len(ci_combo)}, without: {c_bad}\")"
   ]
  },
  {
   "cell_type": "markdown",
   "metadata": {},
   "source": [
    "## ___Combine pycountry and nominatim country info___"
   ]
  },
  {
   "cell_type": "markdown",
   "metadata": {},
   "source": [
    "### Considerations\n",
    "\n",
    "Obj format\n",
    "- ci_combo = {pmid:[AU, AD, a3]}\n",
    "- ci_nomi = {pmid:[AU, AD, {importance:[countries]} ]}\n",
    "\n",
    "Note:\n",
    "- Nominatim is supposed to run on records that do not have pycountry matches.\n",
    "- But when I run North America, I discovered some issues with pycountry matching part, so there were records with nominatim run but later on found to have pycountry matches.\n",
    "- So I need to make sure pycountry match is prioritized when there is also a nominatim match."
   ]
  },
  {
   "cell_type": "code",
   "execution_count": null,
   "metadata": {},
   "outputs": [],
   "source": [
    "len(ci_combo), len(ci_nomi)"
   ]
  },
  {
   "cell_type": "markdown",
   "metadata": {},
   "source": [
    "### Merging"
   ]
  },
  {
   "cell_type": "code",
   "execution_count": null,
   "metadata": {},
   "outputs": [],
   "source": [
    "# Go through ci_nomi and put record into ci_combo\n",
    "for pmid in ci_nomi:\n",
    "  [AU, AD, ni_dict] = ci_nomi[pmid]\n",
    "\n",
    "  # Importance values\n",
    "  imps = list)ni_dict.keys()\n",
    "  a3   = ni_dict[imps[-1]]\n",
    "  if pmid not in ci_combo:\n",
    "    if len(a3) > 1:\n",
    "      print(f\"pmid:same importance - {a3}\")\n",
    "    ci_combo[pmid] = [AU, AD, a3]\n",
    "\n",
    "len(ci_combo)"
   ]
  },
  {
   "cell_type": "code",
   "execution_count": null,
   "metadata": {},
   "outputs": [],
   "source": [
    "# Save ci_combo\n",
    "ci_combo_file = work_dir / \"country_info-combo.pickle\"\n",
    "with open(ci_combo_file, \"wb\") as f:\n",
    "  pickle.dump(ci_combo, f)"
   ]
  },
  {
   "cell_type": "code",
   "execution_count": null,
   "metadata": {},
   "outputs": [],
   "source": [
    "# load ci_combo file to make sure it is ok\n",
    "with open(ci_combo_file, \"rb\") as f:\n",
    "  ci_combo_reload = pickle.load(f)\n",
    "\n",
    "len(ci_combo)"
   ]
  },
  {
   "cell_type": "markdown",
   "metadata": {},
   "source": [
    "## ___Combine pycountry and nominatim country info___"
   ]
  },
  {
   "cell_type": "markdown",
   "metadata": {},
   "source": [
    "### Considerations\n",
    "\n",
    "Obj format\n",
    "- ci_combo = {pmid:[AU, AD, a3]}\n",
    "- ci_nomi = {pmid:[AU, AD, {importance:[countries]} ]}\n",
    "\n",
    "Note:\n",
    "- Nominatim is supposed to run on records that do not have pycountry matches.\n",
    "- But when I run North America, I discovered some issues with pycountry matching part, so there were records with nominatim run but later on found to have pycountry matches.\n",
    "- So I need to make sure pycountry match is prioritized when there is also a nominatim match."
   ]
  },
  {
   "cell_type": "code",
   "execution_count": null,
   "metadata": {},
   "outputs": [],
   "source": [
    "len(ci_combo), len(ci_nomi)"
   ]
  },
  {
   "cell_type": "markdown",
   "metadata": {},
   "source": [
    "### Merging"
   ]
  },
  {
   "cell_type": "code",
   "execution_count": null,
   "metadata": {},
   "outputs": [],
   "source": [
    "# Go through ci_nomi and put record into ci_combo\n",
    "for pmid in ci_nomi:\n",
    "  [AU, AD, ni_dict] = ci_nomi[pmid]\n",
    "\n",
    "  # Importance values\n",
    "  imps = list)ni_dict.keys()\n",
    "  a3   = ni_dict[imps[-1]]\n",
    "  if pmid not in ci_combo:\n",
    "    if len(a3) > 1:\n",
    "      print(f\"pmid:same importance - {a3}\")\n",
    "    ci_combo[pmid] = [AU, AD, a3]\n",
    "\n",
    "len(ci_combo)"
   ]
  },
  {
   "cell_type": "code",
   "execution_count": null,
   "metadata": {},
   "outputs": [],
   "source": [
    "# Save ci_combo\n",
    "ci_combo_file = work_dir / \"country_info-combo.pickle\"\n",
    "with open(ci_combo_file, \"wb\") as f:\n",
    "  pickle.dump(ci_combo, f)"
   ]
  },
  {
   "cell_type": "code",
   "execution_count": null,
   "metadata": {},
   "outputs": [],
   "source": [
    "# load ci_combo file to make sure it is ok\n",
    "with open(ci_combo_file, \"rb\") as f:\n",
    "  ci_combo_reload = pickle.load(f)\n",
    "\n",
    "len(ci_combo)"
   ]
  },
  {
   "cell_type": "markdown",
   "metadata": {},
   "source": [
    "### Spot check ci_nomi"
   ]
  },
  {
   "cell_type": "code",
   "execution_count": null,
   "metadata": {},
   "outputs": [],
   "source": [
    "# check same importance but different countries\n",
    "c = 0\n",
    "for pmid in ci_nomi:\n",
    "  ni_dict = ci_nomi[pmid][2]\n",
    "  for ni in ni_dict:\n",
    "    if len(ni_dict[ni]) > 1:\n",
    "      #if c < 100:\n",
    "      #  print(f\"{pmid}:ni={ni},val={ni_dict[ni]}\")\n",
    "      c += 1\n",
    "\n",
    "print(f\"total={len(ci_nomi)}, same importance={c}\")\n"
   ]
  },
  {
   "cell_type": "code",
   "execution_count": null,
   "metadata": {},
   "outputs": [],
   "source": [
    "# check # of pmids with >1 importance\n",
    "cdict = {} # {num_ni: count}\n",
    "for pmid in ci_nomi:\n",
    "  ni_dict  = ci_nomi[pmid][2] # nominatim importance dictionary\n",
    "  ni_count = len(ni_dict)\n",
    "  if ni_count not in cdict:\n",
    "    cdict[ni_count] = 1\n",
    "  else:\n",
    "    cdict[ni_count]+= 1\n",
    "\n",
    "cdict"
   ]
  },
  {
   "cell_type": "code",
   "execution_count": null,
   "metadata": {},
   "outputs": [],
   "source": [
    "# Check # of pmids where USA importance is lower\n",
    "c = 0\n",
    "for pmid in ci_nomi:\n",
    "  if len(ci_nomi[pmid][2]) > 1:\n",
    "    ni_dict = ci_nomi[pmid][2]  \n",
    "    imps = list(ni_dict.keys()) # importance values\n",
    "    imps.sort()\n",
    "\n",
    "    # Not the one with the highest importance\n",
    "    if \"USA\" not in ni_dict[imps[-1]]:\n",
    "      print(f\"{pmid}:{ni_dict}\")\n",
    "      print(f\"AD={ci_nomi[pmid][1]}\")\n",
    "      c += 1\n",
    "\n",
    "print(f\"total={len(ci_nomi)}, usa < other={c}\")"
   ]
  },
  {
   "cell_type": "code",
   "execution_count": null,
   "metadata": {},
   "outputs": [],
   "source": [
    "# Examine a few examples\n",
    "# Check these again:\n",
    "'''\n",
    "16656733\n",
    "AD  =['Department of Biology, Queen Elizabeth College, (University of London), Campden Hill, London, W.8.']\n",
    "nomi={0.4000099999999999: ['USA'], 0.20000999999999997: ['IND']}\n",
    "\n",
    "16656734\n",
    "AD  =['Department of Plant Physiology, Waite Agricultural Research Institute, Glen Osmond, South Australia.']\n",
    "nomi={0.30000999999999994: ['USA'], 0.4000099999999999: ['IDN']}\n",
    "\n",
    "16656755\n",
    "AD  =['C.S.I.R.O. Division of Horticultural Research, Private Bag No. 1, Glen Osmond, South Australia.']\n",
    "nomi={0.30000999999999994: ['USA'], 0.4000099999999999: ['IDN']}\n",
    "\n",
    "16656757\n",
    "AD  =['Institute of Biology, College of General Education (Kyoyo-gakubu), University of Tokyo, Komaba, Meguro, Tokyo.']\n",
    "nomi={0.21000999999999995: ['USA'], 0.6600099999999999: ['JPN']}\n",
    "'''\n",
    "c = 0\n",
    "for pmid in ci_nomi:\n",
    "  if len(ci_nomi[pmid][2]) == 2:\n",
    "    print(pmid)\n",
    "    print(f\"AD  ={ci_nomi[pmid][1]}\")\n",
    "    print(f\"nomi={ci_nomi[pmid][2]}\\n\")\n",
    "    if c == 100:\n",
    "      break\n",
    "    c += 1"
   ]
  }
 ],
 "metadata": {
  "language_info": {
   "name": "python"
  },
  "orig_nbformat": 4
 },
 "nbformat": 4,
 "nbformat_minor": 2
}
