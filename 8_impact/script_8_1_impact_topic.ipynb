{
 "cells": [
  {
   "cell_type": "markdown",
   "metadata": {},
   "source": [
    "# __8.1 Considering topical impact__\n",
    "\n",
    "Goal:\n",
    "- Access the impacts of pubs over time (1999-2020) for different:\n",
    "  - Topics\n",
    "  - Countries in 8.2\n",
    "\n",
    "Approach\n",
    "- For each country/sp/toc for each year, determine:\n",
    "  - Average impact score\n",
    "- Before calculate average, impact scores are processed for each year\n",
    "  - Rank\n",
    "    - Inverted, min-max normalized, then squared\n",
    "    - Squared to create more distance between top ranks from bottome ranks\n",
    "  - The rest not normalized because there can be significant differences in the max values across years which lead to anomalous results:\n",
    "    - SJR\n",
    "    - H index\n",
    "    - Cites / Doc. (2years)\n",
    "    - For anomalous results, see `impact_topics_MOD_ANOMALY.xlsx`\n",
    "\n",
    "Data source\n",
    "- [Medline journal list](https://ftp.ncbi.nih.gov/pubmed/J_Medline.txt)\n",
    "- [Scimago Journal & Country Rank](https://www.scimagojr.com/) for journal ranking data\n",
    "\n",
    "Key number:\n",
    "- Pubmed journal\n",
    "  - \\# with jtitle and ISSN: 31624\n",
    "  - \\# with jtitle, no ISSN: 4257\n",
    "  - \\# with ISSN, no jtitle: 0\n",
    "  - 23 ISSNs are assigned to >=2 JournalTitle\n",
    "  - Some JournalTitles are assigned to 2 ISSNs beyond print/online.\n",
    "- Of 421307 records, 163's journal names are not consistent with those in Medline."
   ]
  },
  {
   "cell_type": "markdown",
   "metadata": {},
   "source": [
    "## ___Setup___"
   ]
  },
  {
   "cell_type": "markdown",
   "metadata": {},
   "source": [
    "### Module import\n",
    "\n",
    "In conda env `base`"
   ]
  },
  {
   "cell_type": "code",
   "execution_count": 3,
   "metadata": {},
   "outputs": [],
   "source": [
    "import pickle\n",
    "import pandas as pd\n",
    "import numpy as np\n",
    "import matplotlib as mpl\n",
    "import matplotlib.pyplot as plt\n",
    "from pathlib import Path\n",
    "from tqdm import tqdm\n",
    "from urllib import request\n",
    "from time import sleep"
   ]
  },
  {
   "cell_type": "markdown",
   "metadata": {},
   "source": [
    "### Key variables"
   ]
  },
  {
   "cell_type": "code",
   "execution_count": 4,
   "metadata": {},
   "outputs": [],
   "source": [
    "# Reproducibility\n",
    "seed = 20220609\n",
    "\n",
    "# Setting working directory\n",
    "proj_dir   = Path.home() / \"projects/plant_sci_hist\"\n",
    "work_dir   = proj_dir / \"8_impact\"\n",
    "work_dir.mkdir(parents=True, exist_ok=True)\n",
    "\n",
    "# plant science corpus with topic assignment info\n",
    "dir42      = proj_dir / \"4_topic_model/4_2_outlier_assign\"\n",
    "corpus_file = dir42 / \"table4_2_corpus_with_topic_assignment.tsv.gz\"\n",
    "#corpus_file = dir42 / \"test.tsv\"\n",
    "\n",
    "# timestamp bins\n",
    "dir44            = proj_dir / \"4_topic_model/4_4_over_time\"\n",
    "ts_for_bins_file = dir44 / \"table4_4_bin_timestamp_date.tsv\"\n",
    "file_topic_name   = dir44 / \"fig4_4_tot_heatmap_weighted_xscaled_names.txt\"\n",
    "\n",
    "# country data\n",
    "dir74            = proj_dir / \"7_countries/7_4_consolidate_all\"\n",
    "ci_file          = dir74 / 'country_info_final_a3.txt'\n",
    "\n",
    "\n",
    "\n",
    "# So PDF is saved in a format properly\n",
    "mpl.rcParams['pdf.fonttype'] = 42\n",
    "plt.rcParams[\"font.family\"] = \"sans-serif\""
   ]
  },
  {
   "cell_type": "markdown",
   "metadata": {},
   "source": [
    "## ___Journal list___"
   ]
  },
  {
   "cell_type": "markdown",
   "metadata": {},
   "source": [
    "### Download\n",
    "\n",
    "Example\n",
    "```\n",
    "--------------------------------------------------------\n",
    "JrId: 1\n",
    "JournalTitle: AADE editors' journal\n",
    "jtitle: AADE Ed J\n",
    "ISSN (Print): 0160-6999\n",
    "ISSN (Online): \n",
    "IsoAbbr: AADE Ed J\n",
    "NlmId: 7708172\n",
    "--------------------------------------------------------\n",
    "JrId: 2\n",
    "...\n",
    "```"
   ]
  },
  {
   "cell_type": "code",
   "execution_count": 5,
   "metadata": {},
   "outputs": [],
   "source": [
    "# Get journal list\n",
    "jm_url  = \"https://ftp.ncbi.nih.gov/pubmed/J_Medline.txt\"\n",
    "jm_file = work_dir / \"J_Medline.txt\"\n",
    "if not jm_file.exists():\n",
    "  _ = request.urlretrieve(jm_url, jm_file)"
   ]
  },
  {
   "cell_type": "markdown",
   "metadata": {},
   "source": [
    "### Establish journal dictionary\n",
    "\n",
    "Considerations\n",
    "- The ISSN number has the formmat `xxxx-xxxx`, rid of `-` to simplfy matching with SJR data.\n",
    "- Some journal names have multiple ISSNs, and some ISSNs refer to different journal names."
   ]
  },
  {
   "cell_type": "code",
   "execution_count": 6,
   "metadata": {},
   "outputs": [],
   "source": [
    "def add_to_dict(i_to_j, j_to_i, issn, jtitle):\n",
    "  if issn != \"\":\n",
    "    if issn not in i_to_j:\n",
    "      i_to_j[issn] = [jtitle]\n",
    "    else:\n",
    "      redun_issn.append([issn, jtitle, i_to_j[issn]])\n",
    "      i_to_j[issn].append(jtitle)\n",
    "\n",
    "    if jtitle not in j_to_i:\n",
    "      j_to_i[jtitle] = [issn]\n",
    "    else:\n",
    "      j_to_i[jtitle].append(issn)\n",
    "\n",
    "  return i_to_j, j_to_i"
   ]
  },
  {
   "cell_type": "code",
   "execution_count": 7,
   "metadata": {},
   "outputs": [],
   "source": [
    "with open(jm_file) as f:\n",
    "  i_to_j = {} # {ISSN: [JournalTitle]}\n",
    "  j_to_i = {} # {JournalTitle: [ISSN]}\n",
    "\n",
    "  # issn : issn print\n",
    "  # issn2: issn online\n",
    "  jtitle = issn = issn2 = \"\"\n",
    "  wi_m_no_i = wi_i_no_m = 0\n",
    "  redun_issn   = []\n",
    "  f.readline() # rid of 1st line\n",
    "  for line in f:\n",
    "    # new record\n",
    "    if line.startswith(\"----\"):\n",
    "      if jtitle != \"\" and (issn != \"\" or issn2 != \"\"):\n",
    "        i_to_j, j_to_i = add_to_dict(i_to_j, j_to_i, issn, jtitle)\n",
    "        if issn != issn2:\n",
    "          i_to_j, j_to_i = add_to_dict(i_to_j, j_to_i, issn2, jtitle)\n",
    "\n",
    "      if jtitle == \"\":\n",
    "        wi_i_no_m += 1\n",
    "        print(\"With ISSN, no jtitle:\", issn, issn2)\n",
    "      if issn == \"\" and issn2 == \"\":\n",
    "        wi_m_no_i += 1\n",
    "      # reset\n",
    "      jtitle = issn = issn2 = \"\"\n",
    "    elif line.startswith(\"JournalTitle\"):\n",
    "      jtitle_tokens = line.strip().split(\"JournalTitle: \")\n",
    "      if len(jtitle_tokens) == 2:\n",
    "        jtitle = jtitle_tokens[1]\n",
    "    elif line.startswith(\"ISSN (Print)\"):\n",
    "      issn_tokens = line.strip().split(\"ISSN (Print): \")\n",
    "      if len(issn_tokens) == 2:\n",
    "        issn = \"\".join(issn_tokens[1].split(\"-\"))\n",
    "    elif line.startswith(\"ISSN (Online)\"):\n",
    "      issn2_tokens = line.strip().split(\"ISSN (Online): \")\n",
    "      if len(issn2_tokens) == 2:\n",
    "        issn2 = \"\".join(issn2_tokens[1].split(\"-\"))\n",
    "\n",
    "# Add the last record\n",
    "if jtitle != \"\" and (issn != \"\" or issn2 != \"\"):\n",
    "  i_to_j, j_to_i = add_to_dict(i_to_j, j_to_i, issn, jtitle)\n",
    "  if issn != issn2:\n",
    "    i_to_j, j_to_i = add_to_dict(i_to_j, j_to_i, issn2, jtitle)\n",
    "\n",
    "if jtitle == \"\":\n",
    "  wi_i_no_m += 1\n",
    "  print(\"With ISSN, no jtitle:\", issn, issn2)\n",
    "if issn == \"\" and issn2 == \"\":\n",
    "  wi_m_no_i += 1"
   ]
  },
  {
   "cell_type": "code",
   "execution_count": 8,
   "metadata": {},
   "outputs": [
    {
     "data": {
      "text/plain": [
       "(23, 44090, 31556, 4257, 0)"
      ]
     },
     "execution_count": 8,
     "metadata": {},
     "output_type": "execute_result"
    }
   ],
   "source": [
    "len(redun_issn), len(i_to_j), len(j_to_i), wi_m_no_i, wi_i_no_m"
   ]
  },
  {
   "cell_type": "code",
   "execution_count": 9,
   "metadata": {},
   "outputs": [
    {
     "data": {
      "text/plain": [
       "['Progress in neuro-psychopharmacology & biological psychiatry',\n",
       " 'Progress in neuro-psychopharmacology']"
      ]
     },
     "execution_count": 9,
     "metadata": {},
     "output_type": "execute_result"
    }
   ],
   "source": [
    "i_to_j['02785846']"
   ]
  },
  {
   "cell_type": "code",
   "execution_count": 10,
   "metadata": {},
   "outputs": [
    {
     "data": {
      "text/plain": [
       "[['07306652',\n",
       "  'Journal of cellular biochemistry. Supplement',\n",
       "  ['Journal of supramolecular structure and cellular biochemistry. Supplement',\n",
       "   'Journal of cellular biochemistry. Supplement']],\n",
       " ['07077270',\n",
       "  'The Journal of otolaryngology. Supplement',\n",
       "  ['The Journal of otolaryngology',\n",
       "   'The Journal of otolaryngology. Supplement']],\n",
       " ['02785846',\n",
       "  'Progress in neuro-psychopharmacology',\n",
       "  ['Progress in neuro-psychopharmacology & biological psychiatry',\n",
       "   'Progress in neuro-psychopharmacology']],\n",
       " ['10969888',\n",
       "  'Journal of mass spectrometry : JMS',\n",
       "  ['Biological mass spectrometry', 'Journal of mass spectrometry : JMS']],\n",
       " ['03027430',\n",
       "  'JBR-BTR : organe de la Societe royale belge de radiologie (SRBR) = orgaan van de Koninklijke Belgische Vereniging voor Radiologie (KBVR)',\n",
       "  ['Journal belge de radiologie',\n",
       "   'JBR-BTR : organe de la Societe royale belge de radiologie (SRBR) = orgaan van de Koninklijke Belgische Vereniging voor Radiologie (KBVR)']],\n",
       " ['03855716',\n",
       "  'Memai heiko igaku',\n",
       "  ['Heiko shinkei kagaku', 'Memai heiko igaku']],\n",
       " ['15458636',\n",
       "  'Morbidity and mortality weekly report. Surveillance summaries (Washington, D.C. : 2002)',\n",
       "  ['MMWR. CDC surveillance summaries : Morbidity and mortality weekly report. CDC surveillance summaries',\n",
       "   'Morbidity and mortality weekly report. Surveillance summaries (Washington, D.C. : 2002)']],\n",
       " ['16608151',\n",
       "  'Nephron. Physiology',\n",
       "  ['Nephron',\n",
       "   'Nephron. Physiology',\n",
       "   'Nephron. Experimental nephrology',\n",
       "   'Nephron. Clinical practice']],\n",
       " ['16608151',\n",
       "  'Nephron. Experimental nephrology',\n",
       "  ['Nephron',\n",
       "   'Nephron. Physiology',\n",
       "   'Nephron. Experimental nephrology',\n",
       "   'Nephron. Clinical practice']],\n",
       " ['16608151',\n",
       "  'Nephron. Clinical practice',\n",
       "  ['Nephron',\n",
       "   'Nephron. Physiology',\n",
       "   'Nephron. Experimental nephrology',\n",
       "   'Nephron. Clinical practice']],\n",
       " ['0065258X',\n",
       "  'Advances in enzymology and related subjects of biochemistry',\n",
       "  ['Advances in enzymology and related areas of molecular biology',\n",
       "   'Advances in enzymology and related subjects of biochemistry']],\n",
       " ['05236525',\n",
       "  'Etudes neo-natales. Neo-natal studies',\n",
       "  ['Biologia neonatorum. Neo-natal studies',\n",
       "   'Etudes neo-natales. Neo-natal studies']],\n",
       " ['17528526',\n",
       "  'BMJ clinical evidence',\n",
       "  ['Clinical evidence', 'BMJ clinical evidence']],\n",
       " ['01436236',\n",
       "  'International journal of information management',\n",
       "  ['Social science information studies : SSIS',\n",
       "   'International journal of information management']],\n",
       " ['18820476',\n",
       "  'Medical mycology journal',\n",
       "  ['Nihon Ishinkin Gakkai zasshi = Japanese journal of medical mycology',\n",
       "   'Medical mycology journal']],\n",
       " ['14454866',\n",
       "  'Communicable diseases intelligence quarterly report',\n",
       "  ['Communicable diseases intelligence',\n",
       "   'Communicable diseases intelligence quarterly report']],\n",
       " ['10004432',\n",
       "  'Eye science',\n",
       "  ['Yan ke xue bao = Eye science', 'Eye science', 'Yan ke xue bao (2016)']],\n",
       " ['03637913',\n",
       "  'Rhode Island medical journal (2013)',\n",
       "  ['Rhode Island medical journal', 'Rhode Island medical journal (2013)']],\n",
       " ['10004432',\n",
       "  'Yan ke xue bao (2016)',\n",
       "  ['Yan ke xue bao = Eye science', 'Eye science', 'Yan ke xue bao (2016)']],\n",
       " ['18786642',\n",
       "  'Journal of manufacturing systems',\n",
       "  ['Journal of manufacturing processes', 'Journal of manufacturing systems']],\n",
       " ['02185385',\n",
       "  'Asia Pacific journal of social work and development',\n",
       "  ['Asia Pacific journal of social work',\n",
       "   'Asia Pacific journal of social work and development']],\n",
       " ['18865887',\n",
       "  'Revista de bioetica y derecho & perspectivas bioeticas',\n",
       "  ['Revista de bioetica y derecho',\n",
       "   'Revista de bioetica y derecho & perspectivas bioeticas']],\n",
       " ['23127996', 'MedEdPublish (2016)', ['MedEdPublish', 'MedEdPublish (2016)']]]"
      ]
     },
     "execution_count": 10,
     "metadata": {},
     "output_type": "execute_result"
    }
   ],
   "source": [
    "redun_issn"
   ]
  },
  {
   "cell_type": "markdown",
   "metadata": {},
   "source": [
    "## ___Journal impact data___ "
   ]
  },
  {
   "cell_type": "markdown",
   "metadata": {},
   "source": [
    "### Download\n",
    "\n",
    "__IMPORTANT__: SJR data use \",\" for decimal point!!!!\n"
   ]
  },
  {
   "cell_type": "code",
   "execution_count": 11,
   "metadata": {},
   "outputs": [
    {
     "name": "stdout",
     "output_type": "stream",
     "text": [
      "/home/shius/projects/plant_sci_hist/8_impact/_sjr/scimagojr_1999.csv\n",
      "/home/shius/projects/plant_sci_hist/8_impact/_sjr/scimagojr_2000.csv\n",
      "/home/shius/projects/plant_sci_hist/8_impact/_sjr/scimagojr_2001.csv\n",
      "/home/shius/projects/plant_sci_hist/8_impact/_sjr/scimagojr_2002.csv\n",
      "/home/shius/projects/plant_sci_hist/8_impact/_sjr/scimagojr_2003.csv\n",
      "/home/shius/projects/plant_sci_hist/8_impact/_sjr/scimagojr_2004.csv\n",
      "/home/shius/projects/plant_sci_hist/8_impact/_sjr/scimagojr_2005.csv\n",
      "/home/shius/projects/plant_sci_hist/8_impact/_sjr/scimagojr_2006.csv\n",
      "/home/shius/projects/plant_sci_hist/8_impact/_sjr/scimagojr_2007.csv\n",
      "/home/shius/projects/plant_sci_hist/8_impact/_sjr/scimagojr_2008.csv\n",
      "/home/shius/projects/plant_sci_hist/8_impact/_sjr/scimagojr_2009.csv\n",
      "/home/shius/projects/plant_sci_hist/8_impact/_sjr/scimagojr_2010.csv\n",
      "/home/shius/projects/plant_sci_hist/8_impact/_sjr/scimagojr_2011.csv\n",
      "/home/shius/projects/plant_sci_hist/8_impact/_sjr/scimagojr_2012.csv\n",
      "/home/shius/projects/plant_sci_hist/8_impact/_sjr/scimagojr_2013.csv\n",
      "/home/shius/projects/plant_sci_hist/8_impact/_sjr/scimagojr_2014.csv\n",
      "/home/shius/projects/plant_sci_hist/8_impact/_sjr/scimagojr_2015.csv\n",
      "/home/shius/projects/plant_sci_hist/8_impact/_sjr/scimagojr_2016.csv\n",
      "/home/shius/projects/plant_sci_hist/8_impact/_sjr/scimagojr_2017.csv\n",
      "/home/shius/projects/plant_sci_hist/8_impact/_sjr/scimagojr_2018.csv\n",
      "/home/shius/projects/plant_sci_hist/8_impact/_sjr/scimagojr_2019.csv\n",
      "/home/shius/projects/plant_sci_hist/8_impact/_sjr/scimagojr_2020.csv\n"
     ]
    }
   ],
   "source": [
    "sjr_base_url = \"https://www.scimagojr.com/journalrank.php?out=xls&year=\"\n",
    "\n",
    "sjr_dir   = work_dir / \"_sjr\"\n",
    "sjr_dir.mkdir(parents=True, exist_ok=True)\n",
    "yr_range  = range(1999,2021)\n",
    "for year in yr_range:\n",
    "  sjr_file = sjr_dir / f\"scimagojr_{year}.csv\"\n",
    "  print(sjr_file)\n",
    "  if not sjr_file.exists():\n",
    "    _ = request.urlretrieve(sjr_base_url + str(year), sjr_file)\n",
    "    sleep(5)\n"
   ]
  },
  {
   "cell_type": "markdown",
   "metadata": {},
   "source": [
    "### Check out sjr data"
   ]
  },
  {
   "cell_type": "code",
   "execution_count": 12,
   "metadata": {},
   "outputs": [
    {
     "data": {
      "text/html": [
       "<div>\n",
       "<style scoped>\n",
       "    .dataframe tbody tr th:only-of-type {\n",
       "        vertical-align: middle;\n",
       "    }\n",
       "\n",
       "    .dataframe tbody tr th {\n",
       "        vertical-align: top;\n",
       "    }\n",
       "\n",
       "    .dataframe thead th {\n",
       "        text-align: right;\n",
       "    }\n",
       "</style>\n",
       "<table border=\"1\" class=\"dataframe\">\n",
       "  <thead>\n",
       "    <tr style=\"text-align: right;\">\n",
       "      <th></th>\n",
       "      <th>Rank</th>\n",
       "      <th>Sourceid</th>\n",
       "      <th>Title</th>\n",
       "      <th>Type</th>\n",
       "      <th>Issn</th>\n",
       "      <th>SJR</th>\n",
       "      <th>SJR Best Quartile</th>\n",
       "      <th>H index</th>\n",
       "      <th>Total Docs. (2001)</th>\n",
       "      <th>Total Docs. (3years)</th>\n",
       "      <th>...</th>\n",
       "      <th>Total Cites (3years)</th>\n",
       "      <th>Citable Docs. (3years)</th>\n",
       "      <th>Cites / Doc. (2years)</th>\n",
       "      <th>Ref. / Doc.</th>\n",
       "      <th>Country</th>\n",
       "      <th>Region</th>\n",
       "      <th>Publisher</th>\n",
       "      <th>Coverage</th>\n",
       "      <th>Categories</th>\n",
       "      <th>Areas</th>\n",
       "    </tr>\n",
       "  </thead>\n",
       "  <tbody>\n",
       "    <tr>\n",
       "      <th>0</th>\n",
       "      <td>1</td>\n",
       "      <td>16801</td>\n",
       "      <td>Annual Review of Biochemistry</td>\n",
       "      <td>journal</td>\n",
       "      <td>15454509, 00664154</td>\n",
       "      <td>39,946</td>\n",
       "      <td>Q1</td>\n",
       "      <td>316</td>\n",
       "      <td>23</td>\n",
       "      <td>88</td>\n",
       "      <td>...</td>\n",
       "      <td>4143</td>\n",
       "      <td>88</td>\n",
       "      <td>32,46</td>\n",
       "      <td>180,43</td>\n",
       "      <td>United States</td>\n",
       "      <td>Northern America</td>\n",
       "      <td>Annual Reviews Inc.</td>\n",
       "      <td>1946-1948, 1950-1960, 1962-2022</td>\n",
       "      <td>Biochemistry (Q1)</td>\n",
       "      <td>Biochemistry, Genetics and Molecular Biology</td>\n",
       "    </tr>\n",
       "    <tr>\n",
       "      <th>1</th>\n",
       "      <td>2</td>\n",
       "      <td>20651</td>\n",
       "      <td>Annual Review of Immunology</td>\n",
       "      <td>journal</td>\n",
       "      <td>15453278, 07320582</td>\n",
       "      <td>36,369</td>\n",
       "      <td>Q1</td>\n",
       "      <td>317</td>\n",
       "      <td>24</td>\n",
       "      <td>84</td>\n",
       "      <td>...</td>\n",
       "      <td>4437</td>\n",
       "      <td>84</td>\n",
       "      <td>48,08</td>\n",
       "      <td>170,92</td>\n",
       "      <td>United States</td>\n",
       "      <td>Northern America</td>\n",
       "      <td>Annual Reviews Inc.</td>\n",
       "      <td>1983-2022</td>\n",
       "      <td>Immunology (Q1); Immunology and Allergy (Q1)</td>\n",
       "      <td>Immunology and Microbiology; Medicine</td>\n",
       "    </tr>\n",
       "  </tbody>\n",
       "</table>\n",
       "<p>2 rows × 21 columns</p>\n",
       "</div>"
      ],
      "text/plain": [
       "   Rank  Sourceid                          Title     Type                Issn  \\\n",
       "0     1     16801  Annual Review of Biochemistry  journal  15454509, 00664154   \n",
       "1     2     20651    Annual Review of Immunology  journal  15453278, 07320582   \n",
       "\n",
       "      SJR SJR Best Quartile  H index  Total Docs. (2001)  \\\n",
       "0  39,946                Q1      316                  23   \n",
       "1  36,369                Q1      317                  24   \n",
       "\n",
       "   Total Docs. (3years)  ...  Total Cites (3years)  Citable Docs. (3years)  \\\n",
       "0                    88  ...                  4143                      88   \n",
       "1                    84  ...                  4437                      84   \n",
       "\n",
       "   Cites / Doc. (2years) Ref. / Doc.        Country            Region  \\\n",
       "0                  32,46      180,43  United States  Northern America   \n",
       "1                  48,08      170,92  United States  Northern America   \n",
       "\n",
       "             Publisher                         Coverage  \\\n",
       "0  Annual Reviews Inc.  1946-1948, 1950-1960, 1962-2022   \n",
       "1  Annual Reviews Inc.                        1983-2022   \n",
       "\n",
       "                                     Categories  \\\n",
       "0                             Biochemistry (Q1)   \n",
       "1  Immunology (Q1); Immunology and Allergy (Q1)   \n",
       "\n",
       "                                          Areas  \n",
       "0  Biochemistry, Genetics and Molecular Biology  \n",
       "1         Immunology and Microbiology; Medicine  \n",
       "\n",
       "[2 rows x 21 columns]"
      ]
     },
     "execution_count": 12,
     "metadata": {},
     "output_type": "execute_result"
    }
   ],
   "source": [
    "sjr_file = sjr_dir / \"scimagojr_2001.csv\"\n",
    "df = pd.read_csv(sjr_file, sep=\";\")\n",
    "df.head(2)"
   ]
  },
  {
   "cell_type": "code",
   "execution_count": 13,
   "metadata": {},
   "outputs": [
    {
     "data": {
      "text/plain": [
       "Index(['Rank', 'Sourceid', 'Title', 'Type', 'Issn', 'SJR', 'SJR Best Quartile',\n",
       "       'H index', 'Total Docs. (2001)', 'Total Docs. (3years)', 'Total Refs.',\n",
       "       'Total Cites (3years)', 'Citable Docs. (3years)',\n",
       "       'Cites / Doc. (2years)', 'Ref. / Doc.', 'Country', 'Region',\n",
       "       'Publisher', 'Coverage', 'Categories', 'Areas'],\n",
       "      dtype='object')"
      ]
     },
     "execution_count": 13,
     "metadata": {},
     "output_type": "execute_result"
    }
   ],
   "source": [
    "df.columns"
   ]
  },
  {
   "cell_type": "markdown",
   "metadata": {},
   "source": [
    "### Functions for processing SJR data\n",
    "\n",
    "Orignally, all metric in the SJR data is normalized for each year through min-max normalization:\n",
    "- Discovered that some year, there are some anomalies for max values. \n",
    "- Particularly in 2015, the max cites/doc is 52 while in the other years, it is doubled. \n",
    "- This leads to a global inflation of normalized values for 2015 that they look much highers. There are probably other issues like this.\n",
    "\n",
    "Thus, I decide not to normalize per year for metrics except rank:\n",
    "- Rank is still normalized and inverted because the max value (rank 1 is always there).\n",
    "- Rank is inverted so it is precentiles, than squared\n",
    "  - The squaring is to put more distance between higher ranks, when journals are lower ranked, the difference in values do not matter so much.\n"
   ]
  },
  {
   "cell_type": "code",
   "execution_count": 14,
   "metadata": {},
   "outputs": [],
   "source": [
    "def process_vals(vals, rank_data=0):\n",
    "  '''Make sure all values are floating point numbers\n",
    "  Args:\n",
    "    vals (list): list of values\n",
    "    def (int): 1 for rank data value that need to inverted, normalized, and\n",
    "     squaared.\n",
    "  Return:\n",
    "    vals (list): floating point values\n",
    "    vmin (float): minimum value, returned for debugging purpose\n",
    "    vmax (float): maximum value, returned for debugging purpose\n",
    "  '''\n",
    "\n",
    "  # convert to float\n",
    "  vals2 = []\n",
    "  for v in vals:\n",
    "    if type(v) == str:\n",
    "      # See if three is comma that is used to indicate decimal point!!!!\n",
    "      if v.find(\",\") == -1:\n",
    "        vals2.append(float(v))\n",
    "      else:\n",
    "        vals2.append(float(v.replace(\",\", \".\")))\n",
    "    else:\n",
    "      vals2.append(v)\n",
    "\n",
    "  #if sum(np.isnan(vals2)) > 0:\n",
    "  #  print(\"ERR: has NA\")\n",
    "  #  print(vals)\n",
    "  #  isnan = np.isnan(vals2)\n",
    "  #  print([vals[i] for i, x in enumerate(isnan) if x])\n",
    "\n",
    "  vals = vals2.copy()\n",
    "  vals2 = np.array(vals2)\n",
    "\n",
    "  if rank_data == 1:\n",
    "    vmax = max(vals)\n",
    "    vmin = min(vals)\n",
    "    # invert\n",
    "    vals = [(vmax - v + vmin) for v in vals]\n",
    "    # normalize\n",
    "    vals = [(v - vmin) / (vmax - vmin) for v in vals]\n",
    "    # square\n",
    "    vals = [v*v for v in vals]\n",
    "  \n",
    "  vmin = min(vals)\n",
    "  vmax = max(vals)\n",
    "\n",
    "  return vals, vmin, vmax"
   ]
  },
  {
   "cell_type": "code",
   "execution_count": 15,
   "metadata": {},
   "outputs": [],
   "source": [
    "def get_sjr_df(yr):\n",
    "  '''Get SJR dataframe for a given year\n",
    "  Args:\n",
    "    yr (int): year\n",
    "  Return:\n",
    "    d_metric (dict): {issn: [Prank, SJR, Hidx, Cite]}\n",
    "  '''\n",
    "\n",
    "  # process SJR data for that yr\n",
    "  # From 2014 and on, 2014, columns 5 (ISSN) have mixed types. \n",
    "  # Specify dtype option on import or set low_memory=False.\n",
    "  sjr_file  = sjr_dir / f\"scimagojr_{yr}.csv\"\n",
    "  sjr_df    = pd.read_csv(sjr_file, sep=\";\", low_memory=False)\n",
    "\n",
    "  # get metric\n",
    "  j_prank, pmin, pmax = process_vals(sjr_df['Rank'].values, 1)  \n",
    "  j_sjr  , smin, smax = process_vals(sjr_df['SJR'].values)      \n",
    "  j_hidx , hmin, hmax = process_vals(sjr_df['H index'].values)  \n",
    "  j_cite , cmin, cmax = process_vals(sjr_df['Cites / Doc. (2years)'].values) \n",
    "\n",
    "  # build metric dictionary\n",
    "  d_metric = {} # {issn: [Prank, SJR, Hidx, Cite]}\n",
    "  issns    = sjr_df['Issn'].values\n",
    "  for idx, issn in enumerate(issns):\n",
    "    if issn.find(\", \") != -1:\n",
    "      issn = issn.split(\", \")\n",
    "    else:\n",
    "      issn = [str(issn)]\n",
    "    \n",
    "    for token in issn:\n",
    "      d_metric[token] = [j_prank[idx], j_sjr[idx], j_hidx[idx], j_cite[idx]]\n",
    "\n",
    "  return d_metric, sjr_df, [pmin, pmax, smin, smax, hmin, hmax, cmin, cmax]\n",
    "  "
   ]
  },
  {
   "cell_type": "markdown",
   "metadata": {},
   "source": [
    "### Establish a dictionary with metrics for different years\n",
    "\n",
    "d_d_metric: {yr: d_metric}"
   ]
  },
  {
   "cell_type": "code",
   "execution_count": 16,
   "metadata": {},
   "outputs": [
    {
     "name": "stderr",
     "output_type": "stream",
     "text": [
      "100%|██████████| 22/22 [00:07<00:00,  3.12it/s]\n"
     ]
    }
   ],
   "source": [
    "log_d_d_metric = work_dir / \"log_d_d_metric.txt\"\n",
    "\n",
    "# for debuggin purpose\n",
    "m_yr_min_max = {} # {yr: [pmin, pmax, smin, smax, hmin, hmax, cmin, cmax]}\n",
    "with open(log_d_d_metric, \"w\") as f:\n",
    "  f.write(f\"Year\\t[pmin, pmax, smin, smax, hmin, hmax, cmin, cmax]\\n\")\n",
    "  d_d_metric = {} # {yr: d_metric}\n",
    "  for yr in tqdm(yr_range):\n",
    "    # Get the metric for that year\n",
    "    d_metric, _, min_max = get_sjr_df(yr)\n",
    "    d_d_metric[yr]       = d_metric\n",
    "    m_yr_min_max[yr]     = min_max\n",
    "\n",
    "    f.write(f\"{yr}\\t{min_max}\\n\")\n"
   ]
  },
  {
   "cell_type": "code",
   "execution_count": 17,
   "metadata": {},
   "outputs": [],
   "source": [
    "# Save metric dictionary as pickle\n",
    "with open(work_dir / \"sjr_metric_dicts.pkl\", \"wb\") as f:\n",
    "  pickle.dump(d_d_metric, f)"
   ]
  },
  {
   "cell_type": "markdown",
   "metadata": {},
   "source": [
    "## ___Topical impact___"
   ]
  },
  {
   "cell_type": "markdown",
   "metadata": {},
   "source": [
    "### Data processing"
   ]
  },
  {
   "cell_type": "markdown",
   "metadata": {},
   "source": [
    "#### Read topic assignment and create pdjit\n",
    "\n",
    "- Lifted from script_5_3\n",
    "- Use the no dup file from 7_5\n",
    "- pdjit dataframe: pmid, date, journal, issn, topic, year"
   ]
  },
  {
   "cell_type": "code",
   "execution_count": 20,
   "metadata": {},
   "outputs": [],
   "source": [
    "def get_pdjit():\n",
    "  print(\"Read topic data-frame\")\n",
    "  corpus_file_nodup = dir42 / 'table7_5_corpus_with_topic_assignment_nodup.tsv.gz'\n",
    "  tdf = pd.read_csv(corpus_file_nodup, sep='\\t', compression='gzip', index_col=[0])\n",
    "  print(\"\", tdf.shape)\n",
    "\n",
    "  # Get pmid, date, issn, and topic\n",
    "  tdf_issns = []\n",
    "  not_found = []\n",
    "  for journal in tdf.Journal.values:\n",
    "    if journal.find(\"&amp;\") != -1:\n",
    "      journal = journal.replace(\"&amp;\", \"&\")\n",
    "    # anomaly with period\n",
    "    # e.g., \"Biology bulletin of the Academy of Sciences of the USSR. Akademiia nauk SSSR\"\n",
    "    #       Comptes rendus hebdomadaires des seances de l'Academie des sciences. Serie D: Sciences naturelles\n",
    "    if journal.find(\"Comptes rendus hebdomadaires des seances de l'Academie des sciences\") != -1 or \\\n",
    "      journal == \"Development (Cambridge, England). Supplement\" or \\\n",
    "      journal == \"Nucleic acids research. Supplement (2001)\":\n",
    "      journal = journal.split(\".\")[0]\n",
    "    elif journal == \"Biology bulletin of the Academy of Sciences of the USSR\":\n",
    "      journal = \"Biology bulletin of the Academy of Sciences of the USSR. Akademiia nauk SSSR\"\n",
    "    elif journal == \"Journal of chromatography\":\n",
    "      journal = \"Journal of chromatography. A\"\n",
    "    elif journal.find(\"Ukrains'kyi biokhimichnyi zhurnal\") != -1:\n",
    "      journal = \"Ukrains'kyi biokhimichnyi zhurnal\"\n",
    "    try:\n",
    "      issns = j_to_i[journal]\n",
    "      tdf_issns.append(\",\".join(issns))\n",
    "    except KeyError:\n",
    "      not_found.append(journal)\n",
    "      tdf_issns.append(\"\")\n",
    "\n",
    "  print(\"Len not found:\", len(not_found))\n",
    "  print(sorted(not_found))\n",
    "  print(\"Len tdf.Journal.values, tdf_issns\")\n",
    "  print(len(tdf.Journal.values), len(tdf_issns))\n",
    "\n",
    "  # Create dataframe with pmid, date, journal, topic\n",
    "  pdjit = tdf[['PMID', 'Date', 'Journal', 'Topic']]\n",
    "\n",
    "  # Insert ISSN\n",
    "  pdjit.insert(3, 'ISSN', tdf_issns)\n",
    "\n",
    "  # Add year to pdjit\n",
    "  year = [int(date.split('-')[0]) for date in pdjit['Date'].values]\n",
    "  pdjit['Year'] = year\n",
    "\n",
    "  return pdjit"
   ]
  },
  {
   "cell_type": "code",
   "execution_count": 23,
   "metadata": {},
   "outputs": [
    {
     "name": "stdout",
     "output_type": "stream",
     "text": [
      "pdjit file exists\n"
     ]
    },
    {
     "data": {
      "text/html": [
       "<div>\n",
       "<style scoped>\n",
       "    .dataframe tbody tr th:only-of-type {\n",
       "        vertical-align: middle;\n",
       "    }\n",
       "\n",
       "    .dataframe tbody tr th {\n",
       "        vertical-align: top;\n",
       "    }\n",
       "\n",
       "    .dataframe thead th {\n",
       "        text-align: right;\n",
       "    }\n",
       "</style>\n",
       "<table border=\"1\" class=\"dataframe\">\n",
       "  <thead>\n",
       "    <tr style=\"text-align: right;\">\n",
       "      <th></th>\n",
       "      <th>PMID</th>\n",
       "      <th>Date</th>\n",
       "      <th>Journal</th>\n",
       "      <th>ISSN</th>\n",
       "      <th>Topic</th>\n",
       "      <th>Year</th>\n",
       "    </tr>\n",
       "  </thead>\n",
       "  <tbody>\n",
       "    <tr>\n",
       "      <th>0</th>\n",
       "      <td>61</td>\n",
       "      <td>1975-12-11</td>\n",
       "      <td>Biochimica et biophysica acta</td>\n",
       "      <td>00063002,18782434</td>\n",
       "      <td>52</td>\n",
       "      <td>1975</td>\n",
       "    </tr>\n",
       "    <tr>\n",
       "      <th>1</th>\n",
       "      <td>67</td>\n",
       "      <td>1975-11-20</td>\n",
       "      <td>Biochimica et biophysica acta</td>\n",
       "      <td>00063002,18782434</td>\n",
       "      <td>48</td>\n",
       "      <td>1975</td>\n",
       "    </tr>\n",
       "  </tbody>\n",
       "</table>\n",
       "</div>"
      ],
      "text/plain": [
       "   PMID        Date                        Journal               ISSN  Topic  \\\n",
       "0    61  1975-12-11  Biochimica et biophysica acta  00063002,18782434     52   \n",
       "1    67  1975-11-20  Biochimica et biophysica acta  00063002,18782434     48   \n",
       "\n",
       "   Year  \n",
       "0  1975  \n",
       "1  1975  "
      ]
     },
     "execution_count": 23,
     "metadata": {},
     "output_type": "execute_result"
    }
   ],
   "source": [
    "\n",
    "# Check if this file is already generated\n",
    "pdjit_file = work_dir / 'table_pdjity.tsv'\n",
    "if pdjit_file.is_file():\n",
    "  print(\"pdjit file exists\")\n",
    "else:\n",
    "  pdjit = get_pdjit()\n",
    "  pdjit.to_csv(pdjit_file, sep='\\t', index=False)\n",
    "\n",
    "# Regardless if the file was generated or not, read it.\n",
    "pdjit = pd.read_csv(pdjit_file, sep='\\t')\n",
    "pdjit.head(2)"
   ]
  },
  {
   "cell_type": "markdown",
   "metadata": {},
   "source": [
    "#### Get topc indices and names"
   ]
  },
  {
   "cell_type": "code",
   "execution_count": 24,
   "metadata": {},
   "outputs": [
    {
     "name": "stdout",
     "output_type": "stream",
     "text": [
      "number of topic=-1: 49192\n",
      "number of docs with topic assignment: 421307\n"
     ]
    }
   ],
   "source": [
    "# topic assignments\n",
    "toc_array = pdjit['Topic'].values\n",
    "\n",
    "# topic indices\n",
    "tocs = np.unique(toc_array)\n",
    "\n",
    "# exclude topic=-1\n",
    "tocs_90 = tocs[1:]\n",
    "\n",
    "# number of topic=-1\n",
    "n_rec_toc_unassigned = sum((toc_array==-1).astype(int))\n",
    "\n",
    "# number of docs with topic assignment. Originally was thinking about minus\n",
    "# unassigned, but realize that the totol for taxa would be the number of total\n",
    "# docs, so it does not make sense to remove unassigned.\n",
    "n_rec_total  = len(toc_array)\n",
    "\n",
    "print(\"number of topic=-1:\", n_rec_toc_unassigned)\n",
    "print(\"number of docs with topic assignment:\", n_rec_total)"
   ]
  },
  {
   "cell_type": "markdown",
   "metadata": {},
   "source": [
    "### Get topical impact for each topic, each year"
   ]
  },
  {
   "cell_type": "markdown",
   "metadata": {},
   "source": [
    "#### Get metric lists for each topic\n",
    "\n",
    "4 metrics in order:\n",
    "- Percentile rank\n",
    "- SJR\n",
    "- H-index\n",
    "- Cite/doc"
   ]
  },
  {
   "cell_type": "code",
   "execution_count": 34,
   "metadata": {},
   "outputs": [],
   "source": [
    "def get_m_lst_lst(toc, yr):\n",
    "  '''Get a list of metric lists for a given topic and year\n",
    "  Args:\n",
    "    toc (int): topic index\n",
    "    yr (int): year\n",
    "  Return:\n",
    "    m_lst_lst (list): [m_lst]\n",
    "    not_found (dict): \n",
    "  '''\n",
    "  \n",
    "  df        = pdjit.loc[(pdjit['Topic']==toc) & (pdjit['Year']==yr)]\n",
    "  issns     = df['ISSN'].values\n",
    "  journals  = df['Journal'].values\n",
    "  pmids     = df['PMID'].values\n",
    "  d_metric  = d_d_metric[yr] # {issn: [Prank, SJR, Hidx, Cite]}\n",
    "  not_found = {}             # {journal: [issn, [pmids]}\n",
    "  m_lst_lst = []  # [m_lst]\n",
    "  for idx, issn in enumerate(issns):\n",
    "    journal = journals[idx]\n",
    "    pmid    = pmids[idx]\n",
    "\n",
    "    # first check if issn is np.nan\n",
    "    if type(issn) == float:\n",
    "      if not np.isnan(issn):\n",
    "        printO(\"ERR: float but not nan\", issn)\n",
    "      issn = []\n",
    "    else:\n",
    "      issn = issn.split(\",\")\n",
    "\n",
    "    # make sure issn, if exist, is in d_metric, then append to a metric list\n",
    "    m_list = []  \n",
    "    for issn_token in issn:\n",
    "      if issn_token in d_metric:\n",
    "        metrics = d_metric[issn_token]\n",
    "        m_list.append(metrics)\n",
    "\n",
    "    # check if this journal is found in d_meric\n",
    "    if m_list == []:\n",
    "      # not found, add to a dictionary for logging purpose\n",
    "      if journal not in not_found:\n",
    "        not_found[journal] = [issn, [pmid]]\n",
    "      else:\n",
    "        not_found[journal][1].append(pmid)\n",
    "    else:\n",
    "      # get average if multiple issns\n",
    "      m_list2 = []\n",
    "      for idx in range(0,4):\n",
    "        m_sum = 0\n",
    "        for ms in m_list:\n",
    "          m_sum += ms[idx]\n",
    "        m_avg = m_sum / len(m_list)\n",
    "        m_list2.append(m_avg)\n",
    "\n",
    "      # need m_list2, but add more info for debugging\n",
    "      m_lst_lst.append([pmid,journal,issn,m_list2, m_list])\n",
    "\n",
    "  return m_lst_lst, not_found"
   ]
  },
  {
   "cell_type": "markdown",
   "metadata": {},
   "source": [
    "#### Calculate average\n",
    "\n",
    "Determine average impact\n",
    "- For pubs in topic T in year Y\n",
    "  - Go through journal of each pub\n",
    "  - Get the metric for that journal\n",
    "  - Add the metrics\n",
    "  - Divid the metric total by number of pubs in topic T in year Y"
   ]
  },
  {
   "cell_type": "code",
   "execution_count": 35,
   "metadata": {},
   "outputs": [
    {
     "name": "stderr",
     "output_type": "stream",
     "text": [
      "100%|██████████| 91/91 [00:09<00:00,  9.50it/s]\n"
     ]
    }
   ],
   "source": [
    "log_toc_yr_issn_not_found = work_dir / \"log_toc_yr_issn_not_found.txt\"\n",
    "\n",
    "with open(log_toc_yr_issn_not_found, \"w\") as f:\n",
    "  t_y_avg = {} # {topic: {year: [Prank, SJR, Hidx, Cite]}}\n",
    "\n",
    "  # For each topic\n",
    "  zero_pub = []\n",
    "  for toc in tqdm(tocs):\n",
    "    # output to log file\n",
    "    f.write(f\"-----\\ntopic={toc}\\n\")\n",
    "    t_y_avg[toc] = {}\n",
    "\n",
    "    # For each year\n",
    "    for yr in yr_range:\n",
    "      # [[prank, sjr, hidx, cite]] for all records in a given topic-year\n",
    "      m_lst_lst, not_found = get_m_lst_lst(toc, yr) \n",
    "      #print(len(m_lst_lst))\n",
    "      \n",
    "      # compile metrics into a 2d array\n",
    "      m_2d = []\n",
    "      for m_list in m_lst_lst:\n",
    "        m_2d.append(m_list[3])\n",
    "      m_2d  = np.array(m_2d)\n",
    "\n",
    "      # determine n_pub for each metric after removing NA\n",
    "      n_pub = np.subtract([m_2d.shape[0]]*4, sum(np.isnan(m_2d)))\n",
    "      # For a few cases without publication, set to NaN\n",
    "      if 0 in n_pub:\n",
    "        t_y_avg[toc][yr] = [np.nan]*4\n",
    "        zero_pub.append([toc, yr])\n",
    "      else:\n",
    "        # calculate average and store in dict\n",
    "        # Issue: RuntimeWarning: invalid value encountered in true_divide\n",
    "        # https://www.geeksforgeeks.org/how-to-fix-invalid-value-encountered-in-true_divide/\n",
    "        m_sum = np.nansum(m_2d, axis=0)\n",
    "        m_avg = np.divide(m_sum, n_pub)\n",
    "        t_y_avg[toc][yr] = m_avg\n",
    "      \n",
    "      # output to log file\n",
    "      f.write(f\" {yr}:\\n\")\n",
    "      for journal in not_found:\n",
    "        f.write(f\"  {journal}:\\n\" + \\\n",
    "                f\"    ISSN:{not_found[journal][0]}\\n\" + \\\n",
    "                f\"    PMID:{not_found[journal][1]}\\n\")"
   ]
  },
  {
   "cell_type": "code",
   "execution_count": 36,
   "metadata": {},
   "outputs": [
    {
     "data": {
      "text/plain": [
       "[[5, 1999],\n",
       " [5, 2000],\n",
       " [5, 2002],\n",
       " [5, 2003],\n",
       " [5, 2004],\n",
       " [5, 2006],\n",
       " [5, 2007],\n",
       " [5, 2008],\n",
       " [5, 2009],\n",
       " [5, 2011],\n",
       " [5, 2012],\n",
       " [5, 2015],\n",
       " [8, 2001],\n",
       " [8, 2004],\n",
       " [8, 2007],\n",
       " [8, 2008]]"
      ]
     },
     "execution_count": 36,
     "metadata": {},
     "output_type": "execute_result"
    }
   ],
   "source": [
    "zero_pub"
   ]
  },
  {
   "cell_type": "markdown",
   "metadata": {},
   "source": [
    "#### Generate output\n",
    "\n",
    "Build dataframes\n",
    "- A datafame for each of metric: prank, sjr, hidx, cite\n",
    "\n",
    "Use dataframe to generate an xlsx with 4 sheets:\n",
    "- One sheet for each of Prank, SJR, Hidx, Cite\n",
    "- Rows are topics, columns are years\n",
    "- Two sheet for each metric\n",
    "  - Original vs min-max normalized"
   ]
  },
  {
   "cell_type": "code",
   "execution_count": 37,
   "metadata": {},
   "outputs": [
    {
     "data": {
      "text/plain": [
       "array([  0.79302746,   1.40879412, 229.02941176,   2.77529412])"
      ]
     },
     "execution_count": 37,
     "metadata": {},
     "output_type": "execute_result"
    }
   ],
   "source": [
    "t_y_avg[0][1999]"
   ]
  },
  {
   "cell_type": "code",
   "execution_count": 38,
   "metadata": {},
   "outputs": [
    {
     "name": "stdout",
     "output_type": "stream",
     "text": [
      "prank (91, 22)\n",
      "sjr (91, 22)\n",
      "hidx (91, 22)\n",
      "cite (91, 22)\n"
     ]
    }
   ],
   "source": [
    "toc_excel_file    = work_dir / 'impact_topics.xlsx'\n",
    "toc_excel_writer  = pd.ExcelWriter(toc_excel_file, engine='xlsxwriter')\n",
    "\n",
    "metric_names = ['prank', 'sjr', 'hidx', 'cite']\n",
    "for metric_idx in range(4):\n",
    "  metric_nm      = metric_names[metric_idx]\n",
    "  metric_2d      = [] # a 2D list: toc, then year\n",
    "  metric_2d_norm = [] # a 2D list: toc, then year, normalized for each toc\n",
    "  for toc in tocs:\n",
    "    metric_toc = []\n",
    "    for yr in yr_range:\n",
    "      metric_toc.append(t_y_avg[toc][yr][metric_idx])\n",
    "    metric_2d.append(metric_toc)\n",
    "\n",
    "    # do min-max normalization\n",
    "    m_min = min(metric_toc)\n",
    "    m_max = max(metric_toc)\n",
    "    metric_toc_norm = [(m-m_min)/(m_max-m_min) for m in metric_toc]\n",
    "    metric_2d_norm.append(metric_toc_norm)\n",
    "  \n",
    "  df_metric  = pd.DataFrame(metric_2d, index=tocs, columns=yr_range)\n",
    "  df_metric2 = pd.DataFrame(metric_2d_norm, index=tocs, columns=yr_range)\n",
    "  print(metric_nm, df_metric.shape)\n",
    "  \n",
    "  df_metric.to_excel(toc_excel_writer, sheet_name=metric_nm)\n",
    "  df_metric2.to_excel(toc_excel_writer, sheet_name=metric_nm+\"_norm\")\n",
    "\n",
    "toc_excel_writer.close()\n",
    "  "
   ]
  },
  {
   "cell_type": "code",
   "execution_count": null,
   "metadata": {},
   "outputs": [],
   "source": []
  },
  {
   "cell_type": "code",
   "execution_count": null,
   "metadata": {},
   "outputs": [],
   "source": []
  },
  {
   "cell_type": "markdown",
   "metadata": {},
   "source": [
    "## ___Testing___"
   ]
  },
  {
   "cell_type": "markdown",
   "metadata": {},
   "source": [
    "### Check anomalies\n",
    "\n",
    "In the spreadsheet, there are some strange patterns:\n",
    "- cite_norm: 2015 is abnormally high compared to neighboring years.\n",
    "- sjr_norm: 2019 is almost all 0, 2015 is abnormally high (though not as bad as cite_norm)\n",
    "\n",
    "Ok, look at log_d_d_metric.txt, the issue is with c_max (cites/doc max value) that is half of others.\n",
    "- year [pmax, pmin, smin, smax, hmax, hmin, cmin, cmax]\n",
    "- 2014\t[1, 33044, 0.1, 47.751, 0, 1331, 0.0, 117.0]\n",
    "- 2015\t[1, 33787, 0.1, 35.501, 0, 1331, 0.0, 52.14]\n",
    "- 2016\t[1, 34401, 0.1, 43.002, 0, 1331, 0.0, 101.2]"
   ]
  },
  {
   "cell_type": "markdown",
   "metadata": {},
   "source": [
    "#### Check avg and median cites/doc\n",
    "\n",
    "Looks fine"
   ]
  },
  {
   "cell_type": "code",
   "execution_count": 39,
   "metadata": {},
   "outputs": [],
   "source": [
    "def get_stat(year, field):\n",
    "  sjr_file = sjr_dir / f\"scimagojr_{year}.csv\"\n",
    "  sjr_df   = pd.read_csv(sjr_file, sep=\";\", low_memory=False)\n",
    "  vals     = sjr_df[field].values\n",
    "\n",
    "  #print(sjr_df.dtypes)\n",
    "\n",
    "  # convert to float\n",
    "  vals2 = []\n",
    "  for v in vals:\n",
    "    if type(v) == str:\n",
    "      # See if three is comma that is used to indicate decimal point!!!!\n",
    "      if v.find(\",\") == -1:\n",
    "        vals2.append(float(v))\n",
    "      else:\n",
    "        vals2.append(float(v.replace(\",\", \".\")))\n",
    "    else:\n",
    "      vals2.append(v)\n",
    "\n",
    "  sjr_nan  = np.sum(np.isnan(vals2))\n",
    "  sjr_med  = np.nanmedian(vals2)\n",
    "  sjr_avg  = np.nanmean(vals2)\n",
    "\n",
    "  print(f\"{year}-{field}: med={sjr_med}, avg={sjr_avg}, n_nan={sjr_nan}\")"
   ]
  },
  {
   "cell_type": "code",
   "execution_count": 40,
   "metadata": {},
   "outputs": [
    {
     "name": "stdout",
     "output_type": "stream",
     "text": [
      "2014-Cites / Doc. (2years): med=0.45, avg=1.0064662268490496, n_nan=0\n",
      "2015-Cites / Doc. (2years): med=0.47, avg=1.0252990795276289, n_nan=0\n",
      "2016-Cites / Doc. (2years): med=0.51, avg=1.0648251504316735, n_nan=0\n"
     ]
    }
   ],
   "source": [
    "get_stat(2014, \"Cites / Doc. (2years)\")\n",
    "get_stat(2015, \"Cites / Doc. (2years)\")\n",
    "get_stat(2016, \"Cites / Doc. (2years)\")"
   ]
  },
  {
   "cell_type": "markdown",
   "metadata": {},
   "source": [
    "#### Check pubs in topic 0 for cites/doc\n",
    "\n",
    "Ok, for toc=0, there is a large difference in mean and median between 2014, 2015, and 2016.\n",
    "- These are based on normalized values, something wrong with normalization?\n",
    "- Then why just 2015?"
   ]
  },
  {
   "cell_type": "code",
   "execution_count": 41,
   "metadata": {},
   "outputs": [],
   "source": [
    "toc0_2014, nf_2014 = get_m_lst_lst(0, 2014)\n",
    "toc0_2015, nf_2015 = get_m_lst_lst(0, 2015)\n",
    "toc0_2016, nf_2016 = get_m_lst_lst(0, 2016)"
   ]
  },
  {
   "cell_type": "code",
   "execution_count": 42,
   "metadata": {},
   "outputs": [
    {
     "data": {
      "text/plain": [
       "[[24383968,\n",
       "  'Asian Pacific journal of allergy and immunology',\n",
       "  ['0125877X'],\n",
       "  [0.5194481823679986, 0.483, 39.0, 1.21],\n",
       "  [[0.5194481823679986, 0.483, 39, 1.21]]],\n",
       " [24468678,\n",
       "  'International immunopharmacology',\n",
       "  ['15675769', '18781705'],\n",
       "  [0.7741422240396723, 1.061, 126.0, 2.83],\n",
       "  [[0.7741422240396723, 1.061, 126, 2.83],\n",
       "   [0.7741422240396723, 1.061, 126, 2.83]]]]"
      ]
     },
     "execution_count": 42,
     "metadata": {},
     "output_type": "execute_result"
    }
   ],
   "source": [
    "toc0_2014[:2]"
   ]
  },
  {
   "cell_type": "code",
   "execution_count": 43,
   "metadata": {},
   "outputs": [
    {
     "data": {
      "text/plain": [
       "(1, 1, 0)"
      ]
     },
     "execution_count": 43,
     "metadata": {},
     "output_type": "execute_result"
    }
   ],
   "source": [
    "# So journal not found is similar\n",
    "len(nf_2014), len(nf_2015), len(nf_2016)"
   ]
  },
  {
   "cell_type": "code",
   "execution_count": 44,
   "metadata": {},
   "outputs": [],
   "source": [
    "def get_cites_per_doc_list(m_lst_lst):\n",
    "  cpd_list = [rec[3][3] for rec in m_lst_lst]\n",
    "  cpd_nan  = np.sum(np.isnan(cpd_list))\n",
    "  cpd_avg  = np.nanmean(cpd_list)\n",
    "  cpd_med  = np.nanmedian(cpd_list)\n",
    "  print(f\"len:{len(cpd_list)},nan={cpd_nan},avg={cpd_avg},med={cpd_med}\")\n"
   ]
  },
  {
   "cell_type": "code",
   "execution_count": 45,
   "metadata": {},
   "outputs": [
    {
     "name": "stdout",
     "output_type": "stream",
     "text": [
      "len:28,nan=0,avg=3.236428571428571,med=3.0549999999999997\n",
      "len:31,nan=0,avg=3.766451612903225,med=3.51\n",
      "len:21,nan=0,avg=2.8785714285714286,med=2.86\n"
     ]
    }
   ],
   "source": [
    "get_cites_per_doc_list(toc0_2014)\n",
    "get_cites_per_doc_list(toc0_2015)\n",
    "get_cites_per_doc_list(toc0_2016)"
   ]
  },
  {
   "cell_type": "markdown",
   "metadata": {},
   "source": [
    "#### Check same journal across years\n",
    "\n",
    "Problem: very few journals are the same across years. But for those found in at least two years\n",
    "- There are generally 2x higher values in 2015.\n",
    "- E.g., PloS one [0.03170940170940171, 0.06731875719217491, nan]\n",
    "  - Look at SJR record, Cites / Doc. (2years)\n",
    "    - 2014: 3.71\n",
    "    - 2015: 3.51\n",
    "  - These are fine. So something is not right about on how these values are normalized or populated."
   ]
  },
  {
   "cell_type": "code",
   "execution_count": 46,
   "metadata": {},
   "outputs": [],
   "source": [
    "def build_j_cpd(j_cpd, m_lst_lst, yr):\n",
    "  idx = 0\n",
    "  if yr == 2015:\n",
    "    idx = 1\n",
    "  elif yr == 2016:\n",
    "    idx = 2\n",
    "  \n",
    "  for m_lst in m_lst_lst:\n",
    "    journal = m_lst[1]\n",
    "    metric  = m_lst[3][3]\n",
    "    if journal in j_cpd:\n",
    "      j_cpd[journal][idx] = metric\n",
    "    else:\n",
    "      j_cpd[journal] = [np.nan, np.nan, np.nan]\n",
    "      j_cpd[journal][idx] = metric\n",
    "\n",
    "  return j_cpd"
   ]
  },
  {
   "cell_type": "code",
   "execution_count": 47,
   "metadata": {},
   "outputs": [],
   "source": [
    "j_cpd = {} # {journal:[cpd2014, cpd2015, cpd2016]}\n",
    "j_cpd = build_j_cpd(j_cpd, toc0_2014, 2014)\n",
    "j_cpd = build_j_cpd(j_cpd, toc0_2015, 2015)\n",
    "j_cpd = build_j_cpd(j_cpd, toc0_2016, 2016)"
   ]
  },
  {
   "cell_type": "code",
   "execution_count": 48,
   "metadata": {},
   "outputs": [
    {
     "name": "stdout",
     "output_type": "stream",
     "text": [
      "Molecular nutrition &amp; food research \t [4.91, nan, 4.54]\n",
      "Clinical and experimental allergy : journal of the British Society for Allergy and Clinical Immunology \t [4.78, nan, 4.69]\n",
      "Allergy \t [6.67, 6.77, nan]\n",
      "Journal of agricultural and food chemistry \t [3.28, 3.19, 3.48]\n",
      "BMC plant biology \t [4.4, nan, 4.31]\n",
      "The Journal of allergy and clinical immunology \t [7.18, 7.37, nan]\n",
      "Journal of investigational allergology &amp; clinical immunology \t [1.45, 1.27, nan]\n",
      "PloS one \t [3.71, 3.51, nan]\n",
      "Scientific reports \t [nan, 5.78, 4.65]\n",
      "Biomolecular NMR assignments \t [nan, 0.67, 0.4]\n"
     ]
    }
   ],
   "source": [
    "# Look at Plos one as an example\n",
    "for j in j_cpd:\n",
    "  if sum(np.isnan(j_cpd[j])) < 2:\n",
    "    print(j, \"\\t\", j_cpd[j])"
   ]
  },
  {
   "cell_type": "markdown",
   "metadata": {},
   "source": [
    "#### Check just Plos one\n",
    "\n",
    "The original cites/doc values looks normal in 2015, not off from other years\n",
    "- Point to issue with normalization again."
   ]
  },
  {
   "cell_type": "code",
   "execution_count": 49,
   "metadata": {},
   "outputs": [
    {
     "data": {
      "text/plain": [
       "'Asian Pacific journal of allergy and immunology'"
      ]
     },
     "execution_count": 49,
     "metadata": {},
     "output_type": "execute_result"
    }
   ],
   "source": [
    "toc0_2014[0][1]"
   ]
  },
  {
   "cell_type": "code",
   "execution_count": 50,
   "metadata": {},
   "outputs": [
    {
     "name": "stdout",
     "output_type": "stream",
     "text": [
      "3.71 3.71\n"
     ]
    }
   ],
   "source": [
    "for rec in toc0_2014:\n",
    "  if rec[1] == \"PloS one\":\n",
    "    print(rec[3][3], rec[4][0][3])"
   ]
  },
  {
   "cell_type": "code",
   "execution_count": 51,
   "metadata": {},
   "outputs": [
    {
     "name": "stdout",
     "output_type": "stream",
     "text": [
      "3.51 3.51\n",
      "3.51 3.51\n",
      "3.51 3.51\n",
      "3.51 3.51\n",
      "3.51 3.51\n"
     ]
    }
   ],
   "source": [
    "for rec in toc0_2015:\n",
    "  if rec[1] == \"PloS one\":\n",
    "    print(rec[3][3], rec[4][0][3])"
   ]
  },
  {
   "cell_type": "markdown",
   "metadata": {},
   "source": [
    "#### Check SJR data"
   ]
  },
  {
   "cell_type": "code",
   "execution_count": 52,
   "metadata": {},
   "outputs": [
    {
     "name": "stdout",
     "output_type": "stream",
     "text": [
      "Total ISSNs: 18024, in Pubmed: 10588\n"
     ]
    }
   ],
   "source": [
    "found_issn = 0\n",
    "not_found = []\n",
    "for issns in df.Issn:\n",
    "  issns = issns.strip().split(\", \")\n",
    "  found = 0\n",
    "  for issn in issns:\n",
    "    if issn in i_to_j:\n",
    "      found_issn += 1\n",
    "      found = 1\n",
    "      break\n",
    "  \n",
    "  if found:\n",
    "    found = 0\n",
    "  else:\n",
    "    not_found.append(issn)\n",
    "\n",
    "print(f\"Total ISSNs: {len(df)}, in Pubmed: {found_issn}\")"
   ]
  },
  {
   "cell_type": "code",
   "execution_count": 53,
   "metadata": {},
   "outputs": [
    {
     "data": {
      "text/plain": [
       "['09642536',\n",
       " '15734463',\n",
       " '10950761',\n",
       " '03044157',\n",
       " '00796379',\n",
       " '-',\n",
       " '08940347',\n",
       " '15740048',\n",
       " '13864181',\n",
       " '00653055']"
      ]
     },
     "execution_count": 53,
     "metadata": {},
     "output_type": "execute_result"
    }
   ],
   "source": [
    "not_found[:10]"
   ]
  },
  {
   "cell_type": "markdown",
   "metadata": {},
   "source": [
    "#### Check SJR data calculation\n",
    "\n",
    "Example:\n",
    "- [pmid, journal, [issn], [Prank, SJR, H-idx, Cite/doc]]\n",
    "- [9872323, 'Oncogene', ['09509232', '14765594'], [0.9908989489753978, 0.09022571303899402, 0.270473328324568, 0.13452256033578175]]\n",
    "\n",
    "Nothing going on here.\n",
    "\n"
   ]
  },
  {
   "cell_type": "code",
   "execution_count": 54,
   "metadata": {},
   "outputs": [
    {
     "data": {
      "text/html": [
       "<div>\n",
       "<style scoped>\n",
       "    .dataframe tbody tr th:only-of-type {\n",
       "        vertical-align: middle;\n",
       "    }\n",
       "\n",
       "    .dataframe tbody tr th {\n",
       "        vertical-align: top;\n",
       "    }\n",
       "\n",
       "    .dataframe thead th {\n",
       "        text-align: right;\n",
       "    }\n",
       "</style>\n",
       "<table border=\"1\" class=\"dataframe\">\n",
       "  <thead>\n",
       "    <tr style=\"text-align: right;\">\n",
       "      <th></th>\n",
       "      <th>Rank</th>\n",
       "      <th>Sourceid</th>\n",
       "      <th>Title</th>\n",
       "      <th>Type</th>\n",
       "      <th>Issn</th>\n",
       "      <th>SJR</th>\n",
       "      <th>SJR Best Quartile</th>\n",
       "      <th>H index</th>\n",
       "      <th>Total Docs. (1999)</th>\n",
       "      <th>Total Docs. (3years)</th>\n",
       "      <th>...</th>\n",
       "      <th>Total Cites (3years)</th>\n",
       "      <th>Citable Docs. (3years)</th>\n",
       "      <th>Cites / Doc. (2years)</th>\n",
       "      <th>Ref. / Doc.</th>\n",
       "      <th>Country</th>\n",
       "      <th>Region</th>\n",
       "      <th>Publisher</th>\n",
       "      <th>Coverage</th>\n",
       "      <th>Categories</th>\n",
       "      <th>Areas</th>\n",
       "    </tr>\n",
       "  </thead>\n",
       "  <tbody>\n",
       "    <tr>\n",
       "      <th>155</th>\n",
       "      <td>156</td>\n",
       "      <td>12523</td>\n",
       "      <td>Oncogene</td>\n",
       "      <td>journal</td>\n",
       "      <td>14765594, 09509232</td>\n",
       "      <td>4,649</td>\n",
       "      <td>Q1</td>\n",
       "      <td>360</td>\n",
       "      <td>924</td>\n",
       "      <td>2088</td>\n",
       "      <td>...</td>\n",
       "      <td>13818</td>\n",
       "      <td>2087</td>\n",
       "      <td>6,41</td>\n",
       "      <td>49,54</td>\n",
       "      <td>United Kingdom</td>\n",
       "      <td>Western Europe</td>\n",
       "      <td>Nature Publishing Group</td>\n",
       "      <td>1987-2022</td>\n",
       "      <td>Cancer Research (Q1); Genetics (Q1); Molecular...</td>\n",
       "      <td>Biochemistry, Genetics and Molecular Biology</td>\n",
       "    </tr>\n",
       "  </tbody>\n",
       "</table>\n",
       "<p>1 rows × 21 columns</p>\n",
       "</div>"
      ],
      "text/plain": [
       "     Rank  Sourceid     Title     Type                Issn    SJR  \\\n",
       "155   156     12523  Oncogene  journal  14765594, 09509232  4,649   \n",
       "\n",
       "    SJR Best Quartile  H index  Total Docs. (1999)  Total Docs. (3years)  ...  \\\n",
       "155                Q1      360                 924                  2088  ...   \n",
       "\n",
       "     Total Cites (3years)  Citable Docs. (3years)  Cites / Doc. (2years)  \\\n",
       "155                 13818                    2087                   6,41   \n",
       "\n",
       "    Ref. / Doc.         Country          Region                Publisher  \\\n",
       "155       49,54  United Kingdom  Western Europe  Nature Publishing Group   \n",
       "\n",
       "      Coverage                                         Categories  \\\n",
       "155  1987-2022  Cancer Research (Q1); Genetics (Q1); Molecular...   \n",
       "\n",
       "                                            Areas  \n",
       "155  Biochemistry, Genetics and Molecular Biology  \n",
       "\n",
       "[1 rows x 21 columns]"
      ]
     },
     "execution_count": 54,
     "metadata": {},
     "output_type": "execute_result"
    }
   ],
   "source": [
    "sjr_file  = sjr_dir / f\"scimagojr_1999.csv\"\n",
    "sjr_df    = pd.read_csv(sjr_file, sep=\";\", low_memory=False)\n",
    "sjr_df[sjr_df[\"Title\"] == \"Oncogene\"]"
   ]
  },
  {
   "cell_type": "code",
   "execution_count": 59,
   "metadata": {},
   "outputs": [],
   "source": [
    "def get_val(journal, yr):\n",
    "  m_vals = []\n",
    "  # metric type\n",
    "  m_types = [\"Rank\", \"SJR\", \"H index\", \"Cites / Doc. (2years)\"]\n",
    "  for m_type in m_types:\n",
    "    val = sjr_df[sjr_df[\"Title\"] == journal][m_type].values[0]\n",
    "    if type(val) == str and val.find(\",\") != -1:\n",
    "      val = val.replace(\",\", \".\")\n",
    "    m_vals.append(float(val))\n",
    "\n",
    "  print(m_vals)\n",
    "\n",
    "  min_max = m_yr_min_max[yr]\n",
    "  print(process_vals([min_max[0], min_max[1], m_vals[0]], rank_data=1))\n",
    "  print(process_vals([min_max[2], min_max[3], m_vals[1]]))\n",
    "  print(process_vals([min_max[4], min_max[5], m_vals[2]]))\n",
    "  print(process_vals([min_max[6], min_max[7], m_vals[3]]))"
   ]
  },
  {
   "cell_type": "code",
   "execution_count": 60,
   "metadata": {},
   "outputs": [
    {
     "name": "stdout",
     "output_type": "stream",
     "text": [
      "[156.0, 4.649, 360.0, 6.41]\n",
      "([1.0, 0.9872205785667325, 0.0], 0.0, 1.0)\n",
      "([0.1, 50.518, 4.649], 0.1, 50.518)\n",
      "([0, 1331, 360.0], 0, 1331)\n",
      "([0.0, 47.65, 6.41], 0.0, 47.65)\n"
     ]
    }
   ],
   "source": [
    "get_val(\"Oncogene\", 1999)"
   ]
  },
  {
   "cell_type": "code",
   "execution_count": 61,
   "metadata": {},
   "outputs": [
    {
     "data": {
      "text/html": [
       "<div>\n",
       "<style scoped>\n",
       "    .dataframe tbody tr th:only-of-type {\n",
       "        vertical-align: middle;\n",
       "    }\n",
       "\n",
       "    .dataframe tbody tr th {\n",
       "        vertical-align: top;\n",
       "    }\n",
       "\n",
       "    .dataframe thead th {\n",
       "        text-align: right;\n",
       "    }\n",
       "</style>\n",
       "<table border=\"1\" class=\"dataframe\">\n",
       "  <thead>\n",
       "    <tr style=\"text-align: right;\">\n",
       "      <th></th>\n",
       "      <th>Rank</th>\n",
       "      <th>Sourceid</th>\n",
       "      <th>Title</th>\n",
       "      <th>Type</th>\n",
       "      <th>Issn</th>\n",
       "      <th>SJR</th>\n",
       "      <th>SJR Best Quartile</th>\n",
       "      <th>H index</th>\n",
       "      <th>Total Docs. (1999)</th>\n",
       "      <th>Total Docs. (3years)</th>\n",
       "      <th>...</th>\n",
       "      <th>Total Cites (3years)</th>\n",
       "      <th>Citable Docs. (3years)</th>\n",
       "      <th>Cites / Doc. (2years)</th>\n",
       "      <th>Ref. / Doc.</th>\n",
       "      <th>Country</th>\n",
       "      <th>Region</th>\n",
       "      <th>Publisher</th>\n",
       "      <th>Coverage</th>\n",
       "      <th>Categories</th>\n",
       "      <th>Areas</th>\n",
       "    </tr>\n",
       "  </thead>\n",
       "  <tbody>\n",
       "    <tr>\n",
       "      <th>52</th>\n",
       "      <td>53</td>\n",
       "      <td>16594</td>\n",
       "      <td>Plant Cell</td>\n",
       "      <td>journal</td>\n",
       "      <td>1532298X, 10404651</td>\n",
       "      <td>8,834</td>\n",
       "      <td>Q1</td>\n",
       "      <td>380</td>\n",
       "      <td>196</td>\n",
       "      <td>535</td>\n",
       "      <td>...</td>\n",
       "      <td>5620</td>\n",
       "      <td>522</td>\n",
       "      <td>9,94</td>\n",
       "      <td>54,43</td>\n",
       "      <td>United States</td>\n",
       "      <td>Northern America</td>\n",
       "      <td>Oxford University Press</td>\n",
       "      <td>1989-2022</td>\n",
       "      <td>Cell Biology (Q1); Plant Science (Q1)</td>\n",
       "      <td>Agricultural and Biological Sciences; Biochemi...</td>\n",
       "    </tr>\n",
       "  </tbody>\n",
       "</table>\n",
       "<p>1 rows × 21 columns</p>\n",
       "</div>"
      ],
      "text/plain": [
       "    Rank  Sourceid       Title     Type                Issn    SJR  \\\n",
       "52    53     16594  Plant Cell  journal  1532298X, 10404651  8,834   \n",
       "\n",
       "   SJR Best Quartile  H index  Total Docs. (1999)  Total Docs. (3years)  ...  \\\n",
       "52                Q1      380                 196                   535  ...   \n",
       "\n",
       "    Total Cites (3years)  Citable Docs. (3years)  Cites / Doc. (2years)  \\\n",
       "52                  5620                     522                   9,94   \n",
       "\n",
       "   Ref. / Doc.        Country            Region                Publisher  \\\n",
       "52       54,43  United States  Northern America  Oxford University Press   \n",
       "\n",
       "     Coverage                             Categories  \\\n",
       "52  1989-2022  Cell Biology (Q1); Plant Science (Q1)   \n",
       "\n",
       "                                                Areas  \n",
       "52  Agricultural and Biological Sciences; Biochemi...  \n",
       "\n",
       "[1 rows x 21 columns]"
      ]
     },
     "execution_count": 61,
     "metadata": {},
     "output_type": "execute_result"
    }
   ],
   "source": [
    "sjr_df[sjr_df[\"Title\"] == \"Plant Cell\"]"
   ]
  },
  {
   "cell_type": "code",
   "execution_count": 62,
   "metadata": {},
   "outputs": [
    {
     "name": "stdout",
     "output_type": "stream",
     "text": [
      "[53.0, 8.834, 380.0, 9.94]\n",
      "([1.0, 0.9626201495194019, 0.0], 0.0, 1.0)\n",
      "([0.1, 50.518, 8.834], 0.1, 50.518)\n",
      "([0, 1331, 380.0], 0, 1331)\n",
      "([0.0, 47.65, 9.94], 0.0, 47.65)\n"
     ]
    }
   ],
   "source": [
    "get_val(\"Plant Cell\", 1999)"
   ]
  },
  {
   "cell_type": "markdown",
   "metadata": {},
   "source": [
    "### Get topic=0, year=2001"
   ]
  },
  {
   "cell_type": "code",
   "execution_count": 65,
   "metadata": {},
   "outputs": [
    {
     "data": {
      "text/plain": [
       "(91,\n",
       " 22,\n",
       "    PMID        Date                        Journal               ISSN  Topic  \\\n",
       " 0    61  1975-12-11  Biochimica et biophysica acta  00063002,18782434     52   \n",
       " 1    67  1975-11-20  Biochimica et biophysica acta  00063002,18782434     48   \n",
       " \n",
       "    Year  \n",
       " 0  1975  \n",
       " 1  1975  )"
      ]
     },
     "execution_count": 65,
     "metadata": {},
     "output_type": "execute_result"
    }
   ],
   "source": [
    "len(tocs), len(yr_range), pdjit.head(2)"
   ]
  },
  {
   "cell_type": "code",
   "execution_count": 66,
   "metadata": {},
   "outputs": [
    {
     "data": {
      "text/html": [
       "<div>\n",
       "<style scoped>\n",
       "    .dataframe tbody tr th:only-of-type {\n",
       "        vertical-align: middle;\n",
       "    }\n",
       "\n",
       "    .dataframe tbody tr th {\n",
       "        vertical-align: top;\n",
       "    }\n",
       "\n",
       "    .dataframe thead th {\n",
       "        text-align: right;\n",
       "    }\n",
       "</style>\n",
       "<table border=\"1\" class=\"dataframe\">\n",
       "  <thead>\n",
       "    <tr style=\"text-align: right;\">\n",
       "      <th></th>\n",
       "      <th>PMID</th>\n",
       "      <th>Date</th>\n",
       "      <th>Journal</th>\n",
       "      <th>ISSN</th>\n",
       "      <th>Topic</th>\n",
       "      <th>Year</th>\n",
       "    </tr>\n",
       "  </thead>\n",
       "  <tbody>\n",
       "    <tr>\n",
       "      <th>48287</th>\n",
       "      <td>11139585</td>\n",
       "      <td>2001-01-15</td>\n",
       "      <td>The Journal of biological chemistry</td>\n",
       "      <td>00219258,1083351X</td>\n",
       "      <td>0</td>\n",
       "      <td>2001</td>\n",
       "    </tr>\n",
       "    <tr>\n",
       "      <th>49696</th>\n",
       "      <td>11251404</td>\n",
       "      <td>2001-03-17</td>\n",
       "      <td>Allergy</td>\n",
       "      <td>01054538,13989995</td>\n",
       "      <td>0</td>\n",
       "      <td>2001</td>\n",
       "    </tr>\n",
       "    <tr>\n",
       "      <th>49697</th>\n",
       "      <td>11251633</td>\n",
       "      <td>2001-03-17</td>\n",
       "      <td>Clinical and experimental allergy : journal of...</td>\n",
       "      <td>09547894,13652222</td>\n",
       "      <td>0</td>\n",
       "      <td>2001</td>\n",
       "    </tr>\n",
       "    <tr>\n",
       "      <th>49698</th>\n",
       "      <td>11251634</td>\n",
       "      <td>2001-03-17</td>\n",
       "      <td>Clinical and experimental allergy : journal of...</td>\n",
       "      <td>09547894,13652222</td>\n",
       "      <td>0</td>\n",
       "      <td>2001</td>\n",
       "    </tr>\n",
       "    <tr>\n",
       "      <th>49936</th>\n",
       "      <td>11270469</td>\n",
       "      <td>2001-03-29</td>\n",
       "      <td>Asian Pacific journal of allergy and immunology</td>\n",
       "      <td>0125877X</td>\n",
       "      <td>0</td>\n",
       "      <td>2001</td>\n",
       "    </tr>\n",
       "    <tr>\n",
       "      <th>50467</th>\n",
       "      <td>11306929</td>\n",
       "      <td>2001-04-18</td>\n",
       "      <td>International archives of allergy and immunology</td>\n",
       "      <td>10182438,14230097</td>\n",
       "      <td>0</td>\n",
       "      <td>2001</td>\n",
       "    </tr>\n",
       "    <tr>\n",
       "      <th>50973</th>\n",
       "      <td>11344353</td>\n",
       "      <td>2001-05-10</td>\n",
       "      <td>The Journal of allergy and clinical immunology</td>\n",
       "      <td>00916749,10976825</td>\n",
       "      <td>0</td>\n",
       "      <td>2001</td>\n",
       "    </tr>\n",
       "    <tr>\n",
       "      <th>51031</th>\n",
       "      <td>11350307</td>\n",
       "      <td>2001-05-15</td>\n",
       "      <td>Allergy</td>\n",
       "      <td>01054538,13989995</td>\n",
       "      <td>0</td>\n",
       "      <td>2001</td>\n",
       "    </tr>\n",
       "    <tr>\n",
       "      <th>51907</th>\n",
       "      <td>11419719</td>\n",
       "      <td>2001-06-23</td>\n",
       "      <td>Journal of chromatography. B, Biomedical scien...</td>\n",
       "      <td>13872273,18785603</td>\n",
       "      <td>0</td>\n",
       "      <td>2001</td>\n",
       "    </tr>\n",
       "    <tr>\n",
       "      <th>51908</th>\n",
       "      <td>11419723</td>\n",
       "      <td>2001-06-23</td>\n",
       "      <td>Journal of chromatography. B, Biomedical scien...</td>\n",
       "      <td>13872273,18785603</td>\n",
       "      <td>0</td>\n",
       "      <td>2001</td>\n",
       "    </tr>\n",
       "    <tr>\n",
       "      <th>51909</th>\n",
       "      <td>11419731</td>\n",
       "      <td>2001-06-23</td>\n",
       "      <td>Journal of chromatography. B, Biomedical scien...</td>\n",
       "      <td>13872273,18785603</td>\n",
       "      <td>0</td>\n",
       "      <td>2001</td>\n",
       "    </tr>\n",
       "    <tr>\n",
       "      <th>52142</th>\n",
       "      <td>11435728</td>\n",
       "      <td>2001-07-04</td>\n",
       "      <td>International archives of allergy and immunology</td>\n",
       "      <td>10182438,14230097</td>\n",
       "      <td>0</td>\n",
       "      <td>2001</td>\n",
       "    </tr>\n",
       "    <tr>\n",
       "      <th>52143</th>\n",
       "      <td>11435729</td>\n",
       "      <td>2001-07-04</td>\n",
       "      <td>International archives of allergy and immunology</td>\n",
       "      <td>10182438,14230097</td>\n",
       "      <td>0</td>\n",
       "      <td>2001</td>\n",
       "    </tr>\n",
       "    <tr>\n",
       "      <th>52321</th>\n",
       "      <td>11447390</td>\n",
       "      <td>2001-07-12</td>\n",
       "      <td>The Journal of allergy and clinical immunology</td>\n",
       "      <td>00916749,10976825</td>\n",
       "      <td>0</td>\n",
       "      <td>2001</td>\n",
       "    </tr>\n",
       "    <tr>\n",
       "      <th>52954</th>\n",
       "      <td>11490150</td>\n",
       "      <td>2001-08-08</td>\n",
       "      <td>International archives of allergy and immunology</td>\n",
       "      <td>10182438,14230097</td>\n",
       "      <td>0</td>\n",
       "      <td>2001</td>\n",
       "    </tr>\n",
       "    <tr>\n",
       "      <th>52955</th>\n",
       "      <td>11490154</td>\n",
       "      <td>2001-08-08</td>\n",
       "      <td>International archives of allergy and immunology</td>\n",
       "      <td>10182438,14230097</td>\n",
       "      <td>0</td>\n",
       "      <td>2001</td>\n",
       "    </tr>\n",
       "    <tr>\n",
       "      <th>53146</th>\n",
       "      <td>11511511</td>\n",
       "      <td>2001-08-21</td>\n",
       "      <td>FASEB journal : official publication of the Fe...</td>\n",
       "      <td>08926638,15306860</td>\n",
       "      <td>0</td>\n",
       "      <td>2001</td>\n",
       "    </tr>\n",
       "    <tr>\n",
       "      <th>55245</th>\n",
       "      <td>11606193</td>\n",
       "      <td>2001-10-19</td>\n",
       "      <td>European journal of biochemistry</td>\n",
       "      <td>00142956,14321033</td>\n",
       "      <td>0</td>\n",
       "      <td>2001</td>\n",
       "    </tr>\n",
       "    <tr>\n",
       "      <th>55711</th>\n",
       "      <td>11686417</td>\n",
       "      <td>2001-11-01</td>\n",
       "      <td>Annals of allergy, asthma &amp;amp; immunology : o...</td>\n",
       "      <td>10811206,15344436</td>\n",
       "      <td>0</td>\n",
       "      <td>2001</td>\n",
       "    </tr>\n",
       "    <tr>\n",
       "      <th>56671</th>\n",
       "      <td>11750653</td>\n",
       "      <td>2001-12-26</td>\n",
       "      <td>Molecular immunology</td>\n",
       "      <td>01615890,18729142</td>\n",
       "      <td>0</td>\n",
       "      <td>2001</td>\n",
       "    </tr>\n",
       "    <tr>\n",
       "      <th>56687</th>\n",
       "      <td>11751973</td>\n",
       "      <td>2001-12-26</td>\n",
       "      <td>Journal of immunology (Baltimore, Md. : 1950)</td>\n",
       "      <td>00221767,15506606</td>\n",
       "      <td>0</td>\n",
       "      <td>2001</td>\n",
       "    </tr>\n",
       "  </tbody>\n",
       "</table>\n",
       "</div>"
      ],
      "text/plain": [
       "           PMID        Date  \\\n",
       "48287  11139585  2001-01-15   \n",
       "49696  11251404  2001-03-17   \n",
       "49697  11251633  2001-03-17   \n",
       "49698  11251634  2001-03-17   \n",
       "49936  11270469  2001-03-29   \n",
       "50467  11306929  2001-04-18   \n",
       "50973  11344353  2001-05-10   \n",
       "51031  11350307  2001-05-15   \n",
       "51907  11419719  2001-06-23   \n",
       "51908  11419723  2001-06-23   \n",
       "51909  11419731  2001-06-23   \n",
       "52142  11435728  2001-07-04   \n",
       "52143  11435729  2001-07-04   \n",
       "52321  11447390  2001-07-12   \n",
       "52954  11490150  2001-08-08   \n",
       "52955  11490154  2001-08-08   \n",
       "53146  11511511  2001-08-21   \n",
       "55245  11606193  2001-10-19   \n",
       "55711  11686417  2001-11-01   \n",
       "56671  11750653  2001-12-26   \n",
       "56687  11751973  2001-12-26   \n",
       "\n",
       "                                                 Journal               ISSN  \\\n",
       "48287                The Journal of biological chemistry  00219258,1083351X   \n",
       "49696                                            Allergy  01054538,13989995   \n",
       "49697  Clinical and experimental allergy : journal of...  09547894,13652222   \n",
       "49698  Clinical and experimental allergy : journal of...  09547894,13652222   \n",
       "49936    Asian Pacific journal of allergy and immunology           0125877X   \n",
       "50467   International archives of allergy and immunology  10182438,14230097   \n",
       "50973     The Journal of allergy and clinical immunology  00916749,10976825   \n",
       "51031                                            Allergy  01054538,13989995   \n",
       "51907  Journal of chromatography. B, Biomedical scien...  13872273,18785603   \n",
       "51908  Journal of chromatography. B, Biomedical scien...  13872273,18785603   \n",
       "51909  Journal of chromatography. B, Biomedical scien...  13872273,18785603   \n",
       "52142   International archives of allergy and immunology  10182438,14230097   \n",
       "52143   International archives of allergy and immunology  10182438,14230097   \n",
       "52321     The Journal of allergy and clinical immunology  00916749,10976825   \n",
       "52954   International archives of allergy and immunology  10182438,14230097   \n",
       "52955   International archives of allergy and immunology  10182438,14230097   \n",
       "53146  FASEB journal : official publication of the Fe...  08926638,15306860   \n",
       "55245                   European journal of biochemistry  00142956,14321033   \n",
       "55711  Annals of allergy, asthma &amp; immunology : o...  10811206,15344436   \n",
       "56671                               Molecular immunology  01615890,18729142   \n",
       "56687      Journal of immunology (Baltimore, Md. : 1950)  00221767,15506606   \n",
       "\n",
       "       Topic  Year  \n",
       "48287      0  2001  \n",
       "49696      0  2001  \n",
       "49697      0  2001  \n",
       "49698      0  2001  \n",
       "49936      0  2001  \n",
       "50467      0  2001  \n",
       "50973      0  2001  \n",
       "51031      0  2001  \n",
       "51907      0  2001  \n",
       "51908      0  2001  \n",
       "51909      0  2001  \n",
       "52142      0  2001  \n",
       "52143      0  2001  \n",
       "52321      0  2001  \n",
       "52954      0  2001  \n",
       "52955      0  2001  \n",
       "53146      0  2001  \n",
       "55245      0  2001  \n",
       "55711      0  2001  \n",
       "56671      0  2001  \n",
       "56687      0  2001  "
      ]
     },
     "execution_count": 66,
     "metadata": {},
     "output_type": "execute_result"
    }
   ],
   "source": [
    "pdjit.loc[(pdjit['Topic']==0) & (pdjit['Year']==2001)]"
   ]
  },
  {
   "cell_type": "markdown",
   "metadata": {},
   "source": [
    "### Deal with nan"
   ]
  },
  {
   "cell_type": "code",
   "execution_count": 67,
   "metadata": {},
   "outputs": [
    {
     "data": {
      "text/plain": [
       "array([False, False, False, False, False,  True,  True, False])"
      ]
     },
     "execution_count": 67,
     "metadata": {},
     "output_type": "execute_result"
    }
   ],
   "source": [
    "arr = np.array([5,4,2,2,4,np.nan,np.nan,6])\n",
    "np.isnan(arr)"
   ]
  },
  {
   "cell_type": "code",
   "execution_count": 68,
   "metadata": {},
   "outputs": [
    {
     "data": {
      "text/plain": [
       "array([nan, nan])"
      ]
     },
     "execution_count": 68,
     "metadata": {},
     "output_type": "execute_result"
    }
   ],
   "source": [
    "arr[np.isnan(arr)]"
   ]
  },
  {
   "cell_type": "code",
   "execution_count": null,
   "metadata": {},
   "outputs": [],
   "source": []
  }
 ],
 "metadata": {
  "kernelspec": {
   "display_name": "bertopic",
   "language": "python",
   "name": "python3"
  },
  "language_info": {
   "codemirror_mode": {
    "name": "ipython",
    "version": 3
   },
   "file_extension": ".py",
   "mimetype": "text/x-python",
   "name": "python",
   "nbconvert_exporter": "python",
   "pygments_lexer": "ipython3",
   "version": "3.9.12"
  },
  "orig_nbformat": 4
 },
 "nbformat": 4,
 "nbformat_minor": 2
}
