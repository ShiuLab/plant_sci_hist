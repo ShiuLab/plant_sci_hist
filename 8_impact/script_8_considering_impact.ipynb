{
 "cells": [
  {
   "cell_type": "markdown",
   "metadata": {},
   "source": [
    "# __8 Considering impact__\n",
    "\n",
    "Goal:\n",
    "- Access the impacts of pubs over time for different:\n",
    "  - Countries\n",
    "  - Topics\n",
    "\n",
    "Approach\n",
    "- For each country/sp/toc for each year, determine:\n",
    " - Average pub weighted against journal\n",
    "   - overall percentile rank\n",
    "   - SJR\n",
    "   - cites/doc (2 years)\n",
    "\n",
    "Data source\n",
    "- [Medline journal list](https://ftp.ncbi.nih.gov/pubmed/J_Medline.txt)\n",
    "- [Scimago Journal & Country Rank](https://www.scimagojr.com/) for journal ranking data\n",
    "\n",
    "Key number:\n",
    "- Pubmed journal\n",
    "  - \\# with jtitle and ISSN: 31624\n",
    "  - \\# with jtitle, no ISSN: 4257\n",
    "  - \\# with ISSN, no jtitle: 0\n",
    "  - 23 ISSNs are assigned to >=2 JournalTitle\n",
    "  - Some JournalTitles are assigned to 2 ISSNs beyond print/online.\n",
    "- Of 421307 records, 163's journal names are not consistent with those in Medline."
   ]
  },
  {
   "cell_type": "markdown",
   "metadata": {},
   "source": [
    "## ___Setup___"
   ]
  },
  {
   "cell_type": "markdown",
   "metadata": {},
   "source": [
    "### Module import\n",
    "\n",
    "In conda env `base`"
   ]
  },
  {
   "cell_type": "code",
   "execution_count": 26,
   "metadata": {},
   "outputs": [],
   "source": [
    "import pickle\n",
    "import pandas as pd\n",
    "import numpy as np\n",
    "import matplotlib as mpl\n",
    "import matplotlib.pyplot as plt\n",
    "from pathlib import Path\n",
    "from tqdm import tqdm\n",
    "from datetime import datetime\n",
    "from urllib import request\n",
    "from time import sleep"
   ]
  },
  {
   "cell_type": "markdown",
   "metadata": {},
   "source": [
    "### Key variables"
   ]
  },
  {
   "cell_type": "code",
   "execution_count": 2,
   "metadata": {},
   "outputs": [],
   "source": [
    "# Reproducibility\n",
    "seed = 20220609\n",
    "\n",
    "# Setting working directory\n",
    "proj_dir   = Path.home() / \"projects/plant_sci_hist\"\n",
    "work_dir   = proj_dir / \"8_impact\"\n",
    "work_dir.mkdir(parents=True, exist_ok=True)\n",
    "\n",
    "# plant science corpus with topic assignment info\n",
    "dir42      = proj_dir / \"4_topic_model/4_2_outlier_assign\"\n",
    "corpus_file = dir42 / \"table4_2_corpus_with_topic_assignment.tsv.gz\"\n",
    "#corpus_file = dir42 / \"test.tsv\"\n",
    "\n",
    "# timestamp bins\n",
    "dir44            = proj_dir / \"4_topic_model/4_4_over_time\"\n",
    "ts_for_bins_file = dir44 / \"table4_4_bin_timestamp_date.tsv\"\n",
    "file_topic_name   = dir44 / \"fig4_4_tot_heatmap_weighted_xscaled_names.txt\"\n",
    "\n",
    "# country data\n",
    "dir74            = proj_dir / \"7_countries/7_4_consolidate_all\"\n",
    "ci_file          = dir74 / 'country_info_final_a3.txt'\n",
    "\n",
    "\n",
    "\n",
    "# So PDF is saved in a format properly\n",
    "mpl.rcParams['pdf.fonttype'] = 42\n",
    "plt.rcParams[\"font.family\"] = \"sans-serif\""
   ]
  },
  {
   "cell_type": "markdown",
   "metadata": {},
   "source": [
    "## ___Journal list___"
   ]
  },
  {
   "cell_type": "markdown",
   "metadata": {},
   "source": [
    "### Download\n",
    "\n",
    "Example\n",
    "```\n",
    "--------------------------------------------------------\n",
    "JrId: 1\n",
    "JournalTitle: AADE editors' journal\n",
    "jtitle: AADE Ed J\n",
    "ISSN (Print): 0160-6999\n",
    "ISSN (Online): \n",
    "IsoAbbr: AADE Ed J\n",
    "NlmId: 7708172\n",
    "--------------------------------------------------------\n",
    "JrId: 2\n",
    "...\n",
    "```"
   ]
  },
  {
   "cell_type": "code",
   "execution_count": 5,
   "metadata": {},
   "outputs": [],
   "source": [
    "# Get journal list\n",
    "jm_url  = \"https://ftp.ncbi.nih.gov/pubmed/J_Medline.txt\"\n",
    "jm_file = work_dir / \"J_Medline.txt\"\n",
    "_ = request.urlretrieve(jm_url, jm_file)"
   ]
  },
  {
   "cell_type": "markdown",
   "metadata": {},
   "source": [
    "### Establish journal dictionary\n",
    "\n",
    "Considerations\n",
    "- The ISSN number has the formmat `xxxx-xxxx`, rid of `-` to simplfy matching with SJR data.\n",
    "- Some journal names have multiple ISSNs, and some ISSNs refer to different journal names."
   ]
  },
  {
   "cell_type": "code",
   "execution_count": 90,
   "metadata": {},
   "outputs": [],
   "source": [
    "def add_to_dict(i_to_j, j_to_i, issn, jtitle):\n",
    "  if issn != \"\":\n",
    "    if issn not in i_to_j:\n",
    "      i_to_j[issn] = [jtitle]\n",
    "    else:\n",
    "      redun_issn.append([issn, jtitle, i_to_j[issn]])\n",
    "      i_to_j[issn].append(jtitle)\n",
    "\n",
    "    if jtitle not in j_to_i:\n",
    "      j_to_i[jtitle] = [issn]\n",
    "    else:\n",
    "      j_to_i[jtitle].append(issn)\n",
    "\n",
    "  return i_to_j, j_to_i"
   ]
  },
  {
   "cell_type": "code",
   "execution_count": 95,
   "metadata": {},
   "outputs": [],
   "source": [
    "with open(jm_file) as f:\n",
    "  i_to_j = {} # {ISSN: [JournalTitle]}\n",
    "  j_to_i = {} # {JournalTitle: [ISSN]}\n",
    "\n",
    "  # issn : issn print\n",
    "  # issn2: issn online\n",
    "  jtitle = issn = issn2 = \"\"\n",
    "  wi_m_no_i = wi_i_no_m = 0\n",
    "  redun_issn   = []\n",
    "  f.readline() # rid of 1st line\n",
    "  for line in f:\n",
    "    # new record\n",
    "    if line.startswith(\"----\"):\n",
    "      if jtitle != \"\" and (issn != \"\" or issn2 != \"\"):\n",
    "        i_to_j, j_to_i = add_to_dict(i_to_j, j_to_i, issn, jtitle)\n",
    "        if issn != issn2:\n",
    "          i_to_j, j_to_i = add_to_dict(i_to_j, j_to_i, issn2, jtitle)\n",
    "\n",
    "      if jtitle == \"\":\n",
    "        wi_i_no_m += 1\n",
    "        print(\"With ISSN, no jtitle:\", issn, issn2)\n",
    "      if issn == \"\" and issn2 == \"\":\n",
    "        wi_m_no_i += 1\n",
    "      # reset\n",
    "      jtitle = issn = issn2 = \"\"\n",
    "    elif line.startswith(\"JournalTitle\"):\n",
    "      jtitle_tokens = line.strip().split(\"JournalTitle: \")\n",
    "      if len(jtitle_tokens) == 2:\n",
    "        jtitle = jtitle_tokens[1]\n",
    "    elif line.startswith(\"ISSN (Print)\"):\n",
    "      issn_tokens = line.strip().split(\"ISSN (Print): \")\n",
    "      if len(issn_tokens) == 2:\n",
    "        issn = \"\".join(issn_tokens[1].split(\"-\"))\n",
    "    elif line.startswith(\"ISSN (Online)\"):\n",
    "      issn2_tokens = line.strip().split(\"ISSN (Online): \")\n",
    "      if len(issn2_tokens) == 2:\n",
    "        issn2 = \"\".join(issn2_tokens[1].split(\"-\"))\n",
    "\n",
    "# Add the last record\n",
    "if jtitle != \"\" and (issn != \"\" or issn2 != \"\"):\n",
    "  i_to_j, j_to_i = add_to_dict(i_to_j, j_to_i, issn, jtitle)\n",
    "  if issn != issn2:\n",
    "    i_to_j, j_to_i = add_to_dict(i_to_j, j_to_i, issn2, jtitle)\n",
    "\n",
    "if jtitle == \"\":\n",
    "  wi_i_no_m += 1\n",
    "  print(\"With ISSN, no jtitle:\", issn, issn2)\n",
    "if issn == \"\" and issn2 == \"\":\n",
    "  wi_m_no_i += 1"
   ]
  },
  {
   "cell_type": "code",
   "execution_count": 96,
   "metadata": {},
   "outputs": [
    {
     "data": {
      "text/plain": [
       "(23, 44090, 31556, 4257, 0)"
      ]
     },
     "execution_count": 96,
     "metadata": {},
     "output_type": "execute_result"
    }
   ],
   "source": [
    "len(redun_issn), len(i_to_j), len(j_to_i), wi_m_no_i, wi_i_no_m"
   ]
  },
  {
   "cell_type": "code",
   "execution_count": 97,
   "metadata": {},
   "outputs": [
    {
     "data": {
      "text/plain": [
       "['Progress in neuro-psychopharmacology & biological psychiatry',\n",
       " 'Progress in neuro-psychopharmacology']"
      ]
     },
     "execution_count": 97,
     "metadata": {},
     "output_type": "execute_result"
    }
   ],
   "source": [
    "i_to_j['02785846']"
   ]
  },
  {
   "cell_type": "code",
   "execution_count": 98,
   "metadata": {},
   "outputs": [
    {
     "data": {
      "text/plain": [
       "[['07306652',\n",
       "  'Journal of cellular biochemistry. Supplement',\n",
       "  ['Journal of supramolecular structure and cellular biochemistry. Supplement',\n",
       "   'Journal of cellular biochemistry. Supplement']],\n",
       " ['07077270',\n",
       "  'The Journal of otolaryngology. Supplement',\n",
       "  ['The Journal of otolaryngology',\n",
       "   'The Journal of otolaryngology. Supplement']],\n",
       " ['02785846',\n",
       "  'Progress in neuro-psychopharmacology',\n",
       "  ['Progress in neuro-psychopharmacology & biological psychiatry',\n",
       "   'Progress in neuro-psychopharmacology']],\n",
       " ['10969888',\n",
       "  'Journal of mass spectrometry : JMS',\n",
       "  ['Biological mass spectrometry', 'Journal of mass spectrometry : JMS']],\n",
       " ['03027430',\n",
       "  'JBR-BTR : organe de la Societe royale belge de radiologie (SRBR) = orgaan van de Koninklijke Belgische Vereniging voor Radiologie (KBVR)',\n",
       "  ['Journal belge de radiologie',\n",
       "   'JBR-BTR : organe de la Societe royale belge de radiologie (SRBR) = orgaan van de Koninklijke Belgische Vereniging voor Radiologie (KBVR)']],\n",
       " ['03855716',\n",
       "  'Memai heiko igaku',\n",
       "  ['Heiko shinkei kagaku', 'Memai heiko igaku']],\n",
       " ['15458636',\n",
       "  'Morbidity and mortality weekly report. Surveillance summaries (Washington, D.C. : 2002)',\n",
       "  ['MMWR. CDC surveillance summaries : Morbidity and mortality weekly report. CDC surveillance summaries',\n",
       "   'Morbidity and mortality weekly report. Surveillance summaries (Washington, D.C. : 2002)']],\n",
       " ['16608151',\n",
       "  'Nephron. Physiology',\n",
       "  ['Nephron',\n",
       "   'Nephron. Physiology',\n",
       "   'Nephron. Experimental nephrology',\n",
       "   'Nephron. Clinical practice']],\n",
       " ['16608151',\n",
       "  'Nephron. Experimental nephrology',\n",
       "  ['Nephron',\n",
       "   'Nephron. Physiology',\n",
       "   'Nephron. Experimental nephrology',\n",
       "   'Nephron. Clinical practice']],\n",
       " ['16608151',\n",
       "  'Nephron. Clinical practice',\n",
       "  ['Nephron',\n",
       "   'Nephron. Physiology',\n",
       "   'Nephron. Experimental nephrology',\n",
       "   'Nephron. Clinical practice']],\n",
       " ['0065258X',\n",
       "  'Advances in enzymology and related subjects of biochemistry',\n",
       "  ['Advances in enzymology and related areas of molecular biology',\n",
       "   'Advances in enzymology and related subjects of biochemistry']],\n",
       " ['05236525',\n",
       "  'Etudes neo-natales. Neo-natal studies',\n",
       "  ['Biologia neonatorum. Neo-natal studies',\n",
       "   'Etudes neo-natales. Neo-natal studies']],\n",
       " ['17528526',\n",
       "  'BMJ clinical evidence',\n",
       "  ['Clinical evidence', 'BMJ clinical evidence']],\n",
       " ['01436236',\n",
       "  'International journal of information management',\n",
       "  ['Social science information studies : SSIS',\n",
       "   'International journal of information management']],\n",
       " ['18820476',\n",
       "  'Medical mycology journal',\n",
       "  ['Nihon Ishinkin Gakkai zasshi = Japanese journal of medical mycology',\n",
       "   'Medical mycology journal']],\n",
       " ['14454866',\n",
       "  'Communicable diseases intelligence quarterly report',\n",
       "  ['Communicable diseases intelligence',\n",
       "   'Communicable diseases intelligence quarterly report']],\n",
       " ['10004432',\n",
       "  'Eye science',\n",
       "  ['Yan ke xue bao = Eye science', 'Eye science', 'Yan ke xue bao (2016)']],\n",
       " ['03637913',\n",
       "  'Rhode Island medical journal (2013)',\n",
       "  ['Rhode Island medical journal', 'Rhode Island medical journal (2013)']],\n",
       " ['10004432',\n",
       "  'Yan ke xue bao (2016)',\n",
       "  ['Yan ke xue bao = Eye science', 'Eye science', 'Yan ke xue bao (2016)']],\n",
       " ['18786642',\n",
       "  'Journal of manufacturing systems',\n",
       "  ['Journal of manufacturing processes', 'Journal of manufacturing systems']],\n",
       " ['02185385',\n",
       "  'Asia Pacific journal of social work and development',\n",
       "  ['Asia Pacific journal of social work',\n",
       "   'Asia Pacific journal of social work and development']],\n",
       " ['18865887',\n",
       "  'Revista de bioetica y derecho & perspectivas bioeticas',\n",
       "  ['Revista de bioetica y derecho',\n",
       "   'Revista de bioetica y derecho & perspectivas bioeticas']],\n",
       " ['23127996', 'MedEdPublish (2016)', ['MedEdPublish', 'MedEdPublish (2016)']]]"
      ]
     },
     "execution_count": 98,
     "metadata": {},
     "output_type": "execute_result"
    }
   ],
   "source": [
    "redun_issn"
   ]
  },
  {
   "cell_type": "markdown",
   "metadata": {},
   "source": [
    "## ___Journal impact data___ "
   ]
  },
  {
   "cell_type": "markdown",
   "metadata": {},
   "source": [
    "### Download\n"
   ]
  },
  {
   "cell_type": "code",
   "execution_count": 29,
   "metadata": {},
   "outputs": [
    {
     "name": "stdout",
     "output_type": "stream",
     "text": [
      "/home/shius/projects/plant_sci_hist/8_impact/_sjr/scimagojr_2001.csv\n",
      "/home/shius/projects/plant_sci_hist/8_impact/_sjr/scimagojr_2002.csv\n",
      "/home/shius/projects/plant_sci_hist/8_impact/_sjr/scimagojr_2003.csv\n",
      "/home/shius/projects/plant_sci_hist/8_impact/_sjr/scimagojr_2004.csv\n",
      "/home/shius/projects/plant_sci_hist/8_impact/_sjr/scimagojr_2005.csv\n",
      "/home/shius/projects/plant_sci_hist/8_impact/_sjr/scimagojr_2006.csv\n",
      "/home/shius/projects/plant_sci_hist/8_impact/_sjr/scimagojr_2007.csv\n",
      "/home/shius/projects/plant_sci_hist/8_impact/_sjr/scimagojr_2008.csv\n",
      "/home/shius/projects/plant_sci_hist/8_impact/_sjr/scimagojr_2009.csv\n",
      "/home/shius/projects/plant_sci_hist/8_impact/_sjr/scimagojr_2010.csv\n",
      "/home/shius/projects/plant_sci_hist/8_impact/_sjr/scimagojr_2011.csv\n",
      "/home/shius/projects/plant_sci_hist/8_impact/_sjr/scimagojr_2012.csv\n",
      "/home/shius/projects/plant_sci_hist/8_impact/_sjr/scimagojr_2013.csv\n",
      "/home/shius/projects/plant_sci_hist/8_impact/_sjr/scimagojr_2014.csv\n",
      "/home/shius/projects/plant_sci_hist/8_impact/_sjr/scimagojr_2015.csv\n",
      "/home/shius/projects/plant_sci_hist/8_impact/_sjr/scimagojr_2016.csv\n",
      "/home/shius/projects/plant_sci_hist/8_impact/_sjr/scimagojr_2017.csv\n",
      "/home/shius/projects/plant_sci_hist/8_impact/_sjr/scimagojr_2018.csv\n",
      "/home/shius/projects/plant_sci_hist/8_impact/_sjr/scimagojr_2019.csv\n",
      "/home/shius/projects/plant_sci_hist/8_impact/_sjr/scimagojr_2020.csv\n",
      "/home/shius/projects/plant_sci_hist/8_impact/_sjr/scimagojr_2021.csv\n",
      "/home/shius/projects/plant_sci_hist/8_impact/_sjr/scimagojr_2022.csv\n"
     ]
    }
   ],
   "source": [
    "sjr_base_url = \"https://www.scimagojr.com/journalrank.php?out=xls&year=\"\n",
    "\n",
    "sjr_dir   = work_dir / \"_sjr\"\n",
    "sjr_dir.mkdir(parents=True, exist_ok=True)\n",
    "\n",
    "for year in range(2001,2023):\n",
    "  sjr_file = sjr_dir / f\"scimagojr_{year}.csv\"\n",
    "  print(sjr_file)\n",
    "  if not sjr_file.exists():\n",
    "    _ = request.urlretrieve(sjr_base_url + str(year), sjr_file)\n",
    "    sleep(5)\n"
   ]
  },
  {
   "cell_type": "markdown",
   "metadata": {},
   "source": [
    "### Check out sjr data"
   ]
  },
  {
   "cell_type": "code",
   "execution_count": 65,
   "metadata": {},
   "outputs": [
    {
     "data": {
      "text/html": [
       "<div>\n",
       "<style scoped>\n",
       "    .dataframe tbody tr th:only-of-type {\n",
       "        vertical-align: middle;\n",
       "    }\n",
       "\n",
       "    .dataframe tbody tr th {\n",
       "        vertical-align: top;\n",
       "    }\n",
       "\n",
       "    .dataframe thead th {\n",
       "        text-align: right;\n",
       "    }\n",
       "</style>\n",
       "<table border=\"1\" class=\"dataframe\">\n",
       "  <thead>\n",
       "    <tr style=\"text-align: right;\">\n",
       "      <th></th>\n",
       "      <th>Rank</th>\n",
       "      <th>Sourceid</th>\n",
       "      <th>Title</th>\n",
       "      <th>Type</th>\n",
       "      <th>Issn</th>\n",
       "      <th>SJR</th>\n",
       "      <th>SJR Best Quartile</th>\n",
       "      <th>H index</th>\n",
       "      <th>Total Docs. (2001)</th>\n",
       "      <th>Total Docs. (3years)</th>\n",
       "      <th>...</th>\n",
       "      <th>Total Cites (3years)</th>\n",
       "      <th>Citable Docs. (3years)</th>\n",
       "      <th>Cites / Doc. (2years)</th>\n",
       "      <th>Ref. / Doc.</th>\n",
       "      <th>Country</th>\n",
       "      <th>Region</th>\n",
       "      <th>Publisher</th>\n",
       "      <th>Coverage</th>\n",
       "      <th>Categories</th>\n",
       "      <th>Areas</th>\n",
       "    </tr>\n",
       "  </thead>\n",
       "  <tbody>\n",
       "    <tr>\n",
       "      <th>0</th>\n",
       "      <td>1</td>\n",
       "      <td>16801</td>\n",
       "      <td>Annual Review of Biochemistry</td>\n",
       "      <td>journal</td>\n",
       "      <td>15454509, 00664154</td>\n",
       "      <td>39,946</td>\n",
       "      <td>Q1</td>\n",
       "      <td>316</td>\n",
       "      <td>23</td>\n",
       "      <td>88</td>\n",
       "      <td>...</td>\n",
       "      <td>4143</td>\n",
       "      <td>88</td>\n",
       "      <td>32,46</td>\n",
       "      <td>180,43</td>\n",
       "      <td>United States</td>\n",
       "      <td>Northern America</td>\n",
       "      <td>Annual Reviews Inc.</td>\n",
       "      <td>1946-1948, 1950-1960, 1962-2022</td>\n",
       "      <td>Biochemistry (Q1)</td>\n",
       "      <td>Biochemistry, Genetics and Molecular Biology</td>\n",
       "    </tr>\n",
       "    <tr>\n",
       "      <th>1</th>\n",
       "      <td>2</td>\n",
       "      <td>20651</td>\n",
       "      <td>Annual Review of Immunology</td>\n",
       "      <td>journal</td>\n",
       "      <td>15453278, 07320582</td>\n",
       "      <td>36,369</td>\n",
       "      <td>Q1</td>\n",
       "      <td>317</td>\n",
       "      <td>24</td>\n",
       "      <td>84</td>\n",
       "      <td>...</td>\n",
       "      <td>4437</td>\n",
       "      <td>84</td>\n",
       "      <td>48,08</td>\n",
       "      <td>170,92</td>\n",
       "      <td>United States</td>\n",
       "      <td>Northern America</td>\n",
       "      <td>Annual Reviews Inc.</td>\n",
       "      <td>1983-2022</td>\n",
       "      <td>Immunology (Q1); Immunology and Allergy (Q1)</td>\n",
       "      <td>Immunology and Microbiology; Medicine</td>\n",
       "    </tr>\n",
       "  </tbody>\n",
       "</table>\n",
       "<p>2 rows × 21 columns</p>\n",
       "</div>"
      ],
      "text/plain": [
       "   Rank  Sourceid                          Title     Type                Issn  \\\n",
       "0     1     16801  Annual Review of Biochemistry  journal  15454509, 00664154   \n",
       "1     2     20651    Annual Review of Immunology  journal  15453278, 07320582   \n",
       "\n",
       "      SJR SJR Best Quartile  H index  Total Docs. (2001)  \\\n",
       "0  39,946                Q1      316                  23   \n",
       "1  36,369                Q1      317                  24   \n",
       "\n",
       "   Total Docs. (3years)  ...  Total Cites (3years)  Citable Docs. (3years)  \\\n",
       "0                    88  ...                  4143                      88   \n",
       "1                    84  ...                  4437                      84   \n",
       "\n",
       "   Cites / Doc. (2years) Ref. / Doc.        Country            Region  \\\n",
       "0                  32,46      180,43  United States  Northern America   \n",
       "1                  48,08      170,92  United States  Northern America   \n",
       "\n",
       "             Publisher                         Coverage  \\\n",
       "0  Annual Reviews Inc.  1946-1948, 1950-1960, 1962-2022   \n",
       "1  Annual Reviews Inc.                        1983-2022   \n",
       "\n",
       "                                     Categories  \\\n",
       "0                             Biochemistry (Q1)   \n",
       "1  Immunology (Q1); Immunology and Allergy (Q1)   \n",
       "\n",
       "                                          Areas  \n",
       "0  Biochemistry, Genetics and Molecular Biology  \n",
       "1         Immunology and Microbiology; Medicine  \n",
       "\n",
       "[2 rows x 21 columns]"
      ]
     },
     "execution_count": 65,
     "metadata": {},
     "output_type": "execute_result"
    }
   ],
   "source": [
    "sjr_file = sjr_dir / \"scimagojr_2001.csv\"\n",
    "df = pd.read_csv(sjr_file, sep=\";\")\n",
    "df.head(2)"
   ]
  },
  {
   "cell_type": "code",
   "execution_count": 66,
   "metadata": {},
   "outputs": [
    {
     "data": {
      "text/plain": [
       "Index(['Rank', 'Sourceid', 'Title', 'Type', 'Issn', 'SJR', 'SJR Best Quartile',\n",
       "       'H index', 'Total Docs. (2001)', 'Total Docs. (3years)', 'Total Refs.',\n",
       "       'Total Cites (3years)', 'Citable Docs. (3years)',\n",
       "       'Cites / Doc. (2years)', 'Ref. / Doc.', 'Country', 'Region',\n",
       "       'Publisher', 'Coverage', 'Categories', 'Areas'],\n",
       "      dtype='object')"
      ]
     },
     "execution_count": 66,
     "metadata": {},
     "output_type": "execute_result"
    }
   ],
   "source": [
    "df.columns"
   ]
  },
  {
   "cell_type": "markdown",
   "metadata": {},
   "source": [
    "## ___Topical impact___"
   ]
  },
  {
   "cell_type": "markdown",
   "metadata": {},
   "source": [
    "### Read topic assignment\n",
    "\n",
    "- Lifted from script_5_3\n",
    "- Use the no dup file from 7_5"
   ]
  },
  {
   "cell_type": "code",
   "execution_count": 56,
   "metadata": {},
   "outputs": [
    {
     "name": "stdout",
     "output_type": "stream",
     "text": [
      "topic dataframe: (421307, 12)\n"
     ]
    }
   ],
   "source": [
    "# topic data-frame\n",
    "corpus_file_nodup = dir42 / 'table7_5_corpus_with_topic_assignment_nodup.tsv.gz'\n",
    "tdf = pd.read_csv(corpus_file_nodup, sep='\\t', compression='gzip', index_col=[0])\n",
    "print(\"topic dataframe:\", tdf.shape)"
   ]
  },
  {
   "cell_type": "code",
   "execution_count": 57,
   "metadata": {},
   "outputs": [
    {
     "data": {
      "text/html": [
       "<div>\n",
       "<style scoped>\n",
       "    .dataframe tbody tr th:only-of-type {\n",
       "        vertical-align: middle;\n",
       "    }\n",
       "\n",
       "    .dataframe tbody tr th {\n",
       "        vertical-align: top;\n",
       "    }\n",
       "\n",
       "    .dataframe thead th {\n",
       "        text-align: right;\n",
       "    }\n",
       "</style>\n",
       "<table border=\"1\" class=\"dataframe\">\n",
       "  <thead>\n",
       "    <tr style=\"text-align: right;\">\n",
       "      <th></th>\n",
       "      <th>Index_1385417</th>\n",
       "      <th>PMID</th>\n",
       "      <th>Date</th>\n",
       "      <th>Journal</th>\n",
       "      <th>Title</th>\n",
       "      <th>Abstract</th>\n",
       "      <th>Initial filter qualifier</th>\n",
       "      <th>Corpus</th>\n",
       "      <th>reg_article</th>\n",
       "      <th>Text classification score</th>\n",
       "      <th>Preprocessed corpus</th>\n",
       "      <th>Topic</th>\n",
       "    </tr>\n",
       "  </thead>\n",
       "  <tbody>\n",
       "    <tr>\n",
       "      <th>0</th>\n",
       "      <td>3</td>\n",
       "      <td>61</td>\n",
       "      <td>1975-12-11</td>\n",
       "      <td>Biochimica et biophysica acta</td>\n",
       "      <td>Identification of the 120 mus phase in the dec...</td>\n",
       "      <td>After a 500 mus laser flash a 120 mus phase in...</td>\n",
       "      <td>spinach</td>\n",
       "      <td>Identification of the 120 mus phase in the dec...</td>\n",
       "      <td>1</td>\n",
       "      <td>0.716394</td>\n",
       "      <td>identification 120 mus phase decay delayed flu...</td>\n",
       "      <td>52</td>\n",
       "    </tr>\n",
       "    <tr>\n",
       "      <th>1</th>\n",
       "      <td>4</td>\n",
       "      <td>67</td>\n",
       "      <td>1975-11-20</td>\n",
       "      <td>Biochimica et biophysica acta</td>\n",
       "      <td>Cholinesterases from plant tissues. VI. Prelim...</td>\n",
       "      <td>Enzymes capable of hydrolyzing esters of thioc...</td>\n",
       "      <td>plant</td>\n",
       "      <td>Cholinesterases from plant tissues. VI. Prelim...</td>\n",
       "      <td>1</td>\n",
       "      <td>0.894874</td>\n",
       "      <td>cholinesterases plant tissues . vi . prelimina...</td>\n",
       "      <td>48</td>\n",
       "    </tr>\n",
       "  </tbody>\n",
       "</table>\n",
       "</div>"
      ],
      "text/plain": [
       "   Index_1385417  PMID        Date                        Journal  \\\n",
       "0              3    61  1975-12-11  Biochimica et biophysica acta   \n",
       "1              4    67  1975-11-20  Biochimica et biophysica acta   \n",
       "\n",
       "                                               Title  \\\n",
       "0  Identification of the 120 mus phase in the dec...   \n",
       "1  Cholinesterases from plant tissues. VI. Prelim...   \n",
       "\n",
       "                                            Abstract Initial filter qualifier  \\\n",
       "0  After a 500 mus laser flash a 120 mus phase in...                  spinach   \n",
       "1  Enzymes capable of hydrolyzing esters of thioc...                    plant   \n",
       "\n",
       "                                              Corpus  reg_article  \\\n",
       "0  Identification of the 120 mus phase in the dec...            1   \n",
       "1  Cholinesterases from plant tissues. VI. Prelim...            1   \n",
       "\n",
       "   Text classification score  \\\n",
       "0                   0.716394   \n",
       "1                   0.894874   \n",
       "\n",
       "                                 Preprocessed corpus  Topic  \n",
       "0  identification 120 mus phase decay delayed flu...     52  \n",
       "1  cholinesterases plant tissues . vi . prelimina...     48  "
      ]
     },
     "execution_count": 57,
     "metadata": {},
     "output_type": "execute_result"
    }
   ],
   "source": [
    "tdf.head(2)"
   ]
  },
  {
   "cell_type": "markdown",
   "metadata": {},
   "source": [
    "### Get pmid, date, issn, and topic"
   ]
  },
  {
   "cell_type": "code",
   "execution_count": 137,
   "metadata": {},
   "outputs": [],
   "source": [
    "tdf_issns = []\n",
    "not_found = []\n",
    "for journal in tdf.Journal.values:\n",
    "  if journal.find(\"&amp;\") != -1:\n",
    "    journal = journal.replace(\"&amp;\", \"&\")\n",
    "  # anomaly with period\n",
    "  # e.g., \"Biology bulletin of the Academy of Sciences of the USSR. Akademiia nauk SSSR\"\n",
    "  #       Comptes rendus hebdomadaires des seances de l'Academie des sciences. Serie D: Sciences naturelles\n",
    "  if journal.find(\"Comptes rendus hebdomadaires des seances de l'Academie des sciences\") != -1 or \\\n",
    "     journal == \"Development (Cambridge, England). Supplement\" or \\\n",
    "     journal == \"Nucleic acids research. Supplement (2001)\":\n",
    "    journal = journal.split(\".\")[0]\n",
    "  elif journal == \"Biology bulletin of the Academy of Sciences of the USSR\":\n",
    "    journal = \"Biology bulletin of the Academy of Sciences of the USSR. Akademiia nauk SSSR\"\n",
    "  elif journal == \"Journal of chromatography\":\n",
    "    journal = \"Journal of chromatography. A\"\n",
    "  elif journal.find(\"Ukrains'kyi biokhimichnyi zhurnal\") != -1:\n",
    "    journal = \"Ukrains'kyi biokhimichnyi zhurnal\"\n",
    "  try:\n",
    "    issns = j_to_i[journal]\n",
    "    tdf_issns.append(\",\".join(issns))\n",
    "  except KeyError:\n",
    "    not_found.append(journal)\n",
    "    tdf_issns.append(\"\")"
   ]
  },
  {
   "cell_type": "code",
   "execution_count": 132,
   "metadata": {},
   "outputs": [
    {
     "data": {
      "text/plain": [
       "(163,\n",
       " ['Acta biochimica et biophysica; Academiae Scientiarum Hungaricae',\n",
       "  'Acta biochimica et biophysica; Academiae Scientiarum Hungaricae',\n",
       "  'Acta physiologiae plantarum',\n",
       "  'Acta physiologiae plantarum',\n",
       "  'Acta physiologiae plantarum',\n",
       "  'Acta physiologiae plantarum',\n",
       "  'Acta physiologiae plantarum',\n",
       "  'Acta physiologiae plantarum',\n",
       "  'Acta physiologiae plantarum',\n",
       "  'Acta physiologiae plantarum',\n",
       "  'Acta physiologiae plantarum',\n",
       "  'Agricultural systems',\n",
       "  'Agricultural systems',\n",
       "  'Ai zheng = Aizheng = Chinese journal of cancer',\n",
       "  'Ai zheng = Aizheng = Chinese journal of cancer',\n",
       "  'Applied mathematical modelling',\n",
       "  'Bulletin de la Societe de pathologie exotique et de ses filiales',\n",
       "  'CSH protocols',\n",
       "  'CSH protocols',\n",
       "  'CSH protocols',\n",
       "  'CSH protocols',\n",
       "  'CSH protocols',\n",
       "  'CSH protocols',\n",
       "  'CSH protocols',\n",
       "  'CSH protocols',\n",
       "  'CSH protocols',\n",
       "  'CSH protocols',\n",
       "  'CSH protocols',\n",
       "  'CSH protocols',\n",
       "  'CSH protocols',\n",
       "  'CSH protocols',\n",
       "  'CSH protocols',\n",
       "  'CSH protocols',\n",
       "  'CSH protocols',\n",
       "  'CSH protocols',\n",
       "  'CSH protocols',\n",
       "  'CSH protocols',\n",
       "  'CSH protocols',\n",
       "  'CSH protocols',\n",
       "  'CSH protocols',\n",
       "  'CSH protocols',\n",
       "  'CSH protocols',\n",
       "  'CSH protocols',\n",
       "  'CSH protocols',\n",
       "  'CSH protocols',\n",
       "  'CSH protocols',\n",
       "  'CSH protocols',\n",
       "  'Canadian journal of forest research. Journal canadien de la recherche forestiere',\n",
       "  'Canadian journal of forest research. Journal canadien de la recherche forestiere',\n",
       "  'Cellular and molecular biology',\n",
       "  'Cellular and molecular biology',\n",
       "  'Cellular and molecular biology',\n",
       "  'Comparative biochemistry and physiology. Biochemistry and molecular biology',\n",
       "  'Comparative biochemistry and physiology. Comparative physiology',\n",
       "  'Ecological engineering',\n",
       "  'Ecological engineering',\n",
       "  'Genetic analysis : biomolecular engineering',\n",
       "  'Genetical research',\n",
       "  'Genetical research',\n",
       "  'Genetical research',\n",
       "  'Genetical research',\n",
       "  'Genetical research',\n",
       "  'Genetical research',\n",
       "  'Genetical research',\n",
       "  'Genetical research',\n",
       "  'Genetical research',\n",
       "  'Genetical research',\n",
       "  'Genetical research',\n",
       "  'Genetical research',\n",
       "  'Genetical research',\n",
       "  'Genetical research',\n",
       "  'Genetical research',\n",
       "  'Genetical research',\n",
       "  'Genetical research',\n",
       "  'Genetical research',\n",
       "  'Genetical research',\n",
       "  'Genetical research',\n",
       "  'Genetical research',\n",
       "  'Genetical research',\n",
       "  'Genetical research',\n",
       "  'Genetical research',\n",
       "  'Genetical research',\n",
       "  'Genetical research',\n",
       "  'Genetical research',\n",
       "  'Genetical research',\n",
       "  'Genetical research',\n",
       "  'Genetical research',\n",
       "  'Genetical research',\n",
       "  'Genetical research',\n",
       "  'Genetical research',\n",
       "  'Genetical research',\n",
       "  'Genetical research',\n",
       "  'Genetical research',\n",
       "  'Genetical research',\n",
       "  'Genetical research',\n",
       "  'Genetical research',\n",
       "  'Genetical research',\n",
       "  'Genetical research',\n",
       "  'Genetical research',\n",
       "  'Genetical research',\n",
       "  'Genetical research',\n",
       "  'Genetical research',\n",
       "  'Genetical research',\n",
       "  'Genetical research',\n",
       "  'Genome informatics. Workshop on Genome Informatics',\n",
       "  'Hydrobiologia',\n",
       "  'Hydrobiologia',\n",
       "  'Hydrobiologia',\n",
       "  'Hydrobiologia',\n",
       "  'Hydrobiologia',\n",
       "  'Icarus',\n",
       "  'Immunitat und Infektion',\n",
       "  'Inductive logic programming. ILP',\n",
       "  'Insights in enzyme research',\n",
       "  'International journal of primatology',\n",
       "  'Journal of climate',\n",
       "  'Journal of comparative physiology. A, Sensory, neural, and behavioral physiology',\n",
       "  'Journal of comparative physiology. A, Sensory, neural, and behavioral physiology',\n",
       "  'Journal of comparative physiology. A, Sensory, neural, and behavioral physiology',\n",
       "  'Journal of comparative physiology. A, Sensory, neural, and behavioral physiology',\n",
       "  'Journal of environmental science & engineering',\n",
       "  'Journal of environmental science & engineering',\n",
       "  'Journal of environmental science & engineering',\n",
       "  'Journal of environmental science & engineering',\n",
       "  'Journal of environmental science & engineering',\n",
       "  'Journal of environmental science & engineering',\n",
       "  'Journal of environmental science & engineering',\n",
       "  'Journal of environmental science & engineering',\n",
       "  'Journal of environmental science & engineering',\n",
       "  'Journal of environmental science & engineering',\n",
       "  'Journal of environmental science & engineering',\n",
       "  'Journal of environmental science & engineering',\n",
       "  'Journal of environmental science & engineering',\n",
       "  \"Kisaengch'unghak chapchi. The Korean journal of parasitology\",\n",
       "  \"Kisaengch'unghak chapchi. The Korean journal of parasitology\",\n",
       "  \"Kisaengch'unghak chapchi. The Korean journal of parasitology\",\n",
       "  'Medicinski arhiv',\n",
       "  'Phycologia',\n",
       "  'Phycologia',\n",
       "  'Phycologia',\n",
       "  'Physica A',\n",
       "  'Postharvest biology and technology',\n",
       "  'Postharvest biology and technology',\n",
       "  'Postharvest biology and technology',\n",
       "  'Postharvest biology and technology',\n",
       "  'Postharvest biology and technology',\n",
       "  'Postharvest biology and technology',\n",
       "  'Princess Takamatsu symposia',\n",
       "  'Proceedings of the ... International Conference on Machine Learning. International Conference on Machine Learning',\n",
       "  'Roczniki Akademii Medycznej w Bialymstoku (1995)',\n",
       "  'Roczniki Akademii Medycznej w Bialymstoku (1995)',\n",
       "  'S & TA & NU. Rivista di scienza e tecnologia degli alimenti e di nutrizione umana',\n",
       "  'Scientia horticulturae',\n",
       "  'Scientia horticulturae',\n",
       "  'Scientia horticulturae',\n",
       "  'Scientia horticulturae',\n",
       "  'Scientia horticulturae',\n",
       "  'Scientia horticulturae',\n",
       "  'Scientia horticulturae',\n",
       "  'Tanzanian economic review',\n",
       "  'The Astrophysical journal. Supplement series',\n",
       "  'Zentralblatt fur Bakteriologie, Parasitenkunde, Infektionskrankheiten und Hygiene. Erste Abteilung Originale. Reihe B: Hygiene, praventive Medizin',\n",
       "  'Zoomorphology'])"
      ]
     },
     "execution_count": 132,
     "metadata": {},
     "output_type": "execute_result"
    }
   ],
   "source": [
    "len(not_found), sorted(not_found)"
   ]
  },
  {
   "cell_type": "code",
   "execution_count": 138,
   "metadata": {},
   "outputs": [
    {
     "data": {
      "text/plain": [
       "(421307, 421307)"
      ]
     },
     "execution_count": 138,
     "metadata": {},
     "output_type": "execute_result"
    }
   ],
   "source": [
    "len(tdf.Journal.values), len(tdf_issns)"
   ]
  },
  {
   "cell_type": "code",
   "execution_count": 144,
   "metadata": {},
   "outputs": [
    {
     "name": "stderr",
     "output_type": "stream",
     "text": [
      "/tmp/ipykernel_44124/1057175532.py:9: SettingWithCopyWarning: \n",
      "A value is trying to be set on a copy of a slice from a DataFrame.\n",
      "Try using .loc[row_indexer,col_indexer] = value instead\n",
      "\n",
      "See the caveats in the documentation: https://pandas.pydata.org/pandas-docs/stable/user_guide/indexing.html#returning-a-view-versus-a-copy\n",
      "  pdjit['Year'] = year\n"
     ]
    },
    {
     "data": {
      "text/html": [
       "<div>\n",
       "<style scoped>\n",
       "    .dataframe tbody tr th:only-of-type {\n",
       "        vertical-align: middle;\n",
       "    }\n",
       "\n",
       "    .dataframe tbody tr th {\n",
       "        vertical-align: top;\n",
       "    }\n",
       "\n",
       "    .dataframe thead th {\n",
       "        text-align: right;\n",
       "    }\n",
       "</style>\n",
       "<table border=\"1\" class=\"dataframe\">\n",
       "  <thead>\n",
       "    <tr style=\"text-align: right;\">\n",
       "      <th></th>\n",
       "      <th>PMID</th>\n",
       "      <th>Date</th>\n",
       "      <th>Journal</th>\n",
       "      <th>ISSN</th>\n",
       "      <th>Topic</th>\n",
       "      <th>Year</th>\n",
       "    </tr>\n",
       "  </thead>\n",
       "  <tbody>\n",
       "    <tr>\n",
       "      <th>0</th>\n",
       "      <td>61</td>\n",
       "      <td>1975-12-11</td>\n",
       "      <td>Biochimica et biophysica acta</td>\n",
       "      <td>00063002,18782434</td>\n",
       "      <td>52</td>\n",
       "      <td>1975</td>\n",
       "    </tr>\n",
       "    <tr>\n",
       "      <th>1</th>\n",
       "      <td>67</td>\n",
       "      <td>1975-11-20</td>\n",
       "      <td>Biochimica et biophysica acta</td>\n",
       "      <td>00063002,18782434</td>\n",
       "      <td>48</td>\n",
       "      <td>1975</td>\n",
       "    </tr>\n",
       "  </tbody>\n",
       "</table>\n",
       "</div>"
      ],
      "text/plain": [
       "   PMID        Date                        Journal               ISSN  Topic  \\\n",
       "0    61  1975-12-11  Biochimica et biophysica acta  00063002,18782434     52   \n",
       "1    67  1975-11-20  Biochimica et biophysica acta  00063002,18782434     48   \n",
       "\n",
       "   Year  \n",
       "0  1975  \n",
       "1  1975  "
      ]
     },
     "execution_count": 144,
     "metadata": {},
     "output_type": "execute_result"
    }
   ],
   "source": [
    "# Create pmid-topic dataframe\n",
    "pdjit = tdf[['PMID', 'Date', 'Journal', 'Topic']]\n",
    "\n",
    "# Insert ISSN\n",
    "pdjit.insert(3, 'ISSN', tdf_issns)\n",
    "\n",
    "# Add year\n",
    "year = [int(date.split('-')[0]) for date in pdjit['Date'].values]\n",
    "pdjit['Year'] = year\n",
    "\n",
    "# Save the dataframe\n",
    "pdjit.to_csv(work_dir / 'table_pdjity.tsv', sep='\\t', index=False)\n",
    "pdjit.head(2)"
   ]
  },
  {
   "cell_type": "markdown",
   "metadata": {},
   "source": [
    "### Get topc indices and names"
   ]
  },
  {
   "cell_type": "code",
   "execution_count": 145,
   "metadata": {},
   "outputs": [
    {
     "name": "stdout",
     "output_type": "stream",
     "text": [
      "number of topic=-1: 49192\n",
      "number of docs with topic assignment: 421307\n"
     ]
    }
   ],
   "source": [
    "# topic assignments\n",
    "toc_array = pdjit['Topic'].values\n",
    "\n",
    "# topic indices\n",
    "tocs = np.unique(toc_array)\n",
    "\n",
    "# exclude topic=-1\n",
    "tocs_90 = tocs[1:]\n",
    "\n",
    "# number of topic=-1\n",
    "n_rec_toc_unassigned = sum((toc_array==-1).astype(int))\n",
    "\n",
    "# number of docs with topic assignment. Originally was thinking about minus\n",
    "# unassigned, but realize that the totol for taxa would be the number of total\n",
    "# docs, so it does not make sense to remove unassigned.\n",
    "n_rec_total  = len(toc_array)\n",
    "\n",
    "print(\"number of topic=-1:\", n_rec_toc_unassigned)\n",
    "print(\"number of docs with topic assignment:\", n_rec_total)"
   ]
  },
  {
   "cell_type": "markdown",
   "metadata": {},
   "source": [
    "### Get topical impact for each topic, each year"
   ]
  },
  {
   "cell_type": "code",
   "execution_count": null,
   "metadata": {},
   "outputs": [],
   "source": []
  },
  {
   "cell_type": "markdown",
   "metadata": {},
   "source": [
    "## ___Testing___"
   ]
  },
  {
   "cell_type": "markdown",
   "metadata": {},
   "source": [
    "### SJR data"
   ]
  },
  {
   "cell_type": "code",
   "execution_count": 67,
   "metadata": {},
   "outputs": [
    {
     "name": "stdout",
     "output_type": "stream",
     "text": [
      "Total ISSNs: 18024, in Pubmed: 10558\n"
     ]
    }
   ],
   "source": [
    "found_issn = 0\n",
    "not_found = []\n",
    "for issns in df.Issn:\n",
    "  issns = issns.strip().split(\", \")\n",
    "  found = 0\n",
    "  for issn in issns:\n",
    "    if issn in i_to_j:\n",
    "      found_issn += 1\n",
    "      found = 1\n",
    "      break\n",
    "  \n",
    "  if found:\n",
    "    found = 0\n",
    "  else:\n",
    "    not_found.append(issn)\n",
    "\n",
    "print(f\"Total ISSNs: {len(df)}, in Pubmed: {found_issn}\")"
   ]
  },
  {
   "cell_type": "code",
   "execution_count": 69,
   "metadata": {},
   "outputs": [
    {
     "data": {
      "text/plain": [
       "['09642536',\n",
       " '15734463',\n",
       " '10950761',\n",
       " '03044157',\n",
       " '00796379',\n",
       " '-',\n",
       " '08940347',\n",
       " '15740048',\n",
       " '13864181',\n",
       " '00653055']"
      ]
     },
     "execution_count": 69,
     "metadata": {},
     "output_type": "execute_result"
    }
   ],
   "source": [
    "not_found[:10]"
   ]
  },
  {
   "cell_type": "code",
   "execution_count": null,
   "metadata": {},
   "outputs": [],
   "source": []
  }
 ],
 "metadata": {
  "kernelspec": {
   "display_name": "bertopic",
   "language": "python",
   "name": "python3"
  },
  "language_info": {
   "codemirror_mode": {
    "name": "ipython",
    "version": 3
   },
   "file_extension": ".py",
   "mimetype": "text/x-python",
   "name": "python",
   "nbconvert_exporter": "python",
   "pygments_lexer": "ipython3",
   "version": "3.9.12"
  },
  "orig_nbformat": 4
 },
 "nbformat": 4,
 "nbformat_minor": 2
}
