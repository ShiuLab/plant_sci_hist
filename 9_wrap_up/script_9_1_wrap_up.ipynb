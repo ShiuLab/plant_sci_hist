{
 "cells": [
  {
   "cell_type": "markdown",
   "metadata": {},
   "source": [
    "# __9.1 Wrap up analysis__\n",
    "\n",
    "Goal:\n",
    "- Tie the loose ends"
   ]
  },
  {
   "cell_type": "markdown",
   "metadata": {},
   "source": [
    "## ___Setup___"
   ]
  },
  {
   "cell_type": "markdown",
   "metadata": {},
   "source": [
    "### Module import\n",
    "\n",
    "In conda env `base`"
   ]
  },
  {
   "cell_type": "code",
   "execution_count": 5,
   "metadata": {},
   "outputs": [],
   "source": [
    "import pickle\n",
    "import pandas as pd\n",
    "import numpy as np\n",
    "import matplotlib as mpl\n",
    "import matplotlib.pyplot as plt\n",
    "import statsmodels.api as sm\n",
    "from pathlib import Path\n",
    "from scipy.optimize import curve_fit\n",
    "from scipy.interpolate import interp1d\n",
    "from scipy.misc import derivative\n",
    "from scipy.stats import ttest_1samp\n",
    "from datetime import datetime\n",
    "from tqdm import tqdm\n",
    "from bisect import bisect\n",
    "from collections import OrderedDict\n",
    "from sklearn.metrics import mean_squared_error"
   ]
  },
  {
   "cell_type": "markdown",
   "metadata": {},
   "source": [
    "### Key variables"
   ]
  },
  {
   "cell_type": "code",
   "execution_count": 3,
   "metadata": {},
   "outputs": [],
   "source": [
    "# Reproducibility\n",
    "seed = 20220609\n",
    "\n",
    "# Setting working directory\n",
    "proj_dir   = Path.home() / \"projects/plant_sci_hist\"\n",
    "work_dir   = proj_dir / \"9_wrap_up\"\n",
    "work_dir.mkdir(parents=True, exist_ok=True)\n",
    "\n",
    "# text classify\n",
    "dir2 =  proj_dir / \"2_text_classify\"\n",
    "\n",
    "# plant science corpus with topic assignment info\n",
    "dir42      = proj_dir / \"4_topic_model/4_2_outlier_assign\"\n",
    "corpus_file = dir42 / \"table4_2_corpus_with_topic_assignment.tsv.gz\"\n",
    "#corpus_file = dir42 / \"test.tsv\"\n",
    "\n",
    "dir43 = proj_dir / \"4_topic_model/4_3_model_analysis\"\n",
    "\n",
    "# over time\n",
    "dir44         = proj_dir / \"4_topic_model/4_4_over_time\"\n",
    "dir_lowess    = dir44 / \"_lowess\"\n",
    "top_freq_file = dir44 / 'table4_4c_topic_frequency_per_timestamp.txt'\n",
    "ts_for_bins_file = dir44 / \"table4_4_bin_timestamp_date.tsv\"\n",
    "\n",
    "# Species info\n",
    "dir51 = proj_dir / \"5_species_over_time/5_1_sp_time\"\n",
    "genus_count_file = dir51 / \"Table_5_1_genus-of-viridiplantae_top20_count_ts_bins.txt\"\n",
    "\n",
    "# Arabidopsis\n",
    "dir6              = proj_dir / \"6_topic_model_arabidopsis/\"\n",
    "corpus_target_file = dir6 / \"corpus_arabidopsis.tsv.gz\"\n",
    "\n",
    "# country info, pmid, ...\n",
    "dir75             = proj_dir / \"7_countries/7_5_country_over_time\"\n",
    "ci_file           = dir75 / 'ci_pmid_topic.tsv'\n",
    "c_npub_file       = dir75 / 'country_npub_raw.csv'\n",
    "t25_toc_stat_file = dir75 / \"country_top25_toc_stat.csv\"\n",
    "\n",
    "# SJR and pdjity (pmid, date, journal, issn, topic, year)\n",
    "dir81            = proj_dir / '8_impact/8_1_topic'\n",
    "pdjity_file      = dir81 / \"table_pdjity.tsv\"\n",
    "file_d_d_metric  = dir81 / 'sjr_metric_dicts.pkl'\n",
    "\n",
    "# So PDF is saved in a format properly\n",
    "mpl.rcParams['pdf.fonttype'] = 42\n",
    "plt.rcParams[\"font.family\"] = \"sans-serif\""
   ]
  },
  {
   "cell_type": "markdown",
   "metadata": {},
   "source": [
    "## ___Finalize pub number graphs___"
   ]
  },
  {
   "cell_type": "markdown",
   "metadata": {},
   "source": [
    "### Pub number graph after removing China\n",
    "\n",
    "Related graphs:\n",
    "- 1_1: number pubs per year in pubmed\n",
    "- 4_4: number pubs per year in plant science corpus\n",
    "\n",
    "Focus on 1951 to 2020"
   ]
  },
  {
   "cell_type": "code",
   "execution_count": 16,
   "metadata": {},
   "outputs": [
    {
     "data": {
      "text/html": [
       "<div>\n",
       "<style scoped>\n",
       "    .dataframe tbody tr th:only-of-type {\n",
       "        vertical-align: middle;\n",
       "    }\n",
       "\n",
       "    .dataframe tbody tr th {\n",
       "        vertical-align: top;\n",
       "    }\n",
       "\n",
       "    .dataframe thead th {\n",
       "        text-align: right;\n",
       "    }\n",
       "</style>\n",
       "<table border=\"1\" class=\"dataframe\">\n",
       "  <thead>\n",
       "    <tr style=\"text-align: right;\">\n",
       "      <th></th>\n",
       "      <th>Count</th>\n",
       "    </tr>\n",
       "  </thead>\n",
       "  <tbody>\n",
       "    <tr>\n",
       "      <th>2019</th>\n",
       "      <td>26963</td>\n",
       "    </tr>\n",
       "    <tr>\n",
       "      <th>2020</th>\n",
       "      <td>30228</td>\n",
       "    </tr>\n",
       "  </tbody>\n",
       "</table>\n",
       "</div>"
      ],
      "text/plain": [
       "      Count\n",
       "2019  26963\n",
       "2020  30228"
      ]
     },
     "execution_count": 16,
     "metadata": {},
     "output_type": "execute_result"
    }
   ],
   "source": [
    "file_docs_year_df = dir44 / \"table_4_4_docs_year_df.csv\"\n",
    "docs_year_df = pd.read_csv(file_docs_year_df, index_col=0).drop(2021)\n",
    "docs_year_df.iloc[-2:]"
   ]
  },
  {
   "cell_type": "code",
   "execution_count": 21,
   "metadata": {},
   "outputs": [
    {
     "data": {
      "text/plain": [
       "(7869, 7869)"
      ]
     },
     "execution_count": 21,
     "metadata": {},
     "output_type": "execute_result"
    }
   ],
   "source": [
    "# Get pub number for CHN\n",
    "file_c25_year_count = dir75 / \"country_top25_year_count.csv\"\n",
    "c25_year_count = pd.read_csv(file_c25_year_count, index_col=0)\n",
    "pub_num_CHN    = c25_year_count.loc[\"CHN\"]\n",
    "\n",
    "# convert to dictionary, note that the indices are strings, need to be integer\n",
    "pub_num_CHN_dict = {int(k):v for k,v in pub_num_CHN.items()}\n",
    "\n",
    "pub_num_CHN['2019'], pub_num_CHN_dict[2019]"
   ]
  },
  {
   "cell_type": "code",
   "execution_count": 15,
   "metadata": {},
   "outputs": [
    {
     "data": {
      "text/plain": [
       "((96, 2), 96)"
      ]
     },
     "execution_count": 15,
     "metadata": {},
     "output_type": "execute_result"
    }
   ],
   "source": [
    "# add missing years\n",
    "pub_num_CHN_list = []\n",
    "for yr in docs_year_df.index:\n",
    "  if yr in pub_num_CHN_dict:\n",
    "    pub_num_CHN_list.append(pub_num_CHN_dict[yr])\n",
    "  else:\n",
    "    pub_num_CHN_list.append(0)\n",
    "\n",
    "docs_year_df.shape, len(pub_num_CHN_list)"
   ]
  },
  {
   "cell_type": "code",
   "execution_count": 17,
   "metadata": {},
   "outputs": [
    {
     "data": {
      "text/html": [
       "<div>\n",
       "<style scoped>\n",
       "    .dataframe tbody tr th:only-of-type {\n",
       "        vertical-align: middle;\n",
       "    }\n",
       "\n",
       "    .dataframe tbody tr th {\n",
       "        vertical-align: top;\n",
       "    }\n",
       "\n",
       "    .dataframe thead th {\n",
       "        text-align: right;\n",
       "    }\n",
       "</style>\n",
       "<table border=\"1\" class=\"dataframe\">\n",
       "  <thead>\n",
       "    <tr style=\"text-align: right;\">\n",
       "      <th></th>\n",
       "      <th>Count</th>\n",
       "      <th>CHN</th>\n",
       "    </tr>\n",
       "  </thead>\n",
       "  <tbody>\n",
       "    <tr>\n",
       "      <th>1917</th>\n",
       "      <td>1</td>\n",
       "      <td>0</td>\n",
       "    </tr>\n",
       "    <tr>\n",
       "      <th>1918</th>\n",
       "      <td>1</td>\n",
       "      <td>0</td>\n",
       "    </tr>\n",
       "  </tbody>\n",
       "</table>\n",
       "</div>"
      ],
      "text/plain": [
       "      Count  CHN\n",
       "1917      1    0\n",
       "1918      1    0"
      ]
     },
     "execution_count": 17,
     "metadata": {},
     "output_type": "execute_result"
    }
   ],
   "source": [
    "### Substract CHN from total then add to df \n",
    "docs_year_df[\"CHN\"] = pub_num_CHN_list\n",
    "docs_year_df.head(2)"
   ]
  },
  {
   "cell_type": "code",
   "execution_count": 20,
   "metadata": {},
   "outputs": [
    {
     "data": {
      "text/plain": [
       "(      Count  CHN  Count_no_CHN\n",
       " 1917      1    0             1\n",
       " 1918      1    0             1,\n",
       "       Count   CHN  Count_no_CHN\n",
       " 2019  26963  7869         19094\n",
       " 2020  30228  9031         21197)"
      ]
     },
     "execution_count": 20,
     "metadata": {},
     "output_type": "execute_result"
    }
   ],
   "source": [
    "docs_year_df['Count_no_CHN'] = docs_year_df['Count'] - docs_year_df['CHN']\n",
    "docs_year_df.head(2), docs_year_df.tail(2)"
   ]
  },
  {
   "cell_type": "code",
   "execution_count": 27,
   "metadata": {},
   "outputs": [
    {
     "data": {
      "text/plain": [
       "(      Count  CHN  Count_no_CHN\n",
       " 1951      2    0             2\n",
       " 1952      2    0             2,\n",
       "       Count   CHN  Count_no_CHN\n",
       " 2019  26963  7869         19094\n",
       " 2020  30228  9031         21197)"
      ]
     },
     "execution_count": 27,
     "metadata": {},
     "output_type": "execute_result"
    }
   ],
   "source": [
    "target_yrs = [y for y in range(1951, 2021)]\n",
    "\n",
    "docs_year_df_part = docs_year_df.loc[target_yrs]\n",
    "docs_year_df_part.head(2), docs_year_df_part.tail(2)"
   ]
  },
  {
   "cell_type": "code",
   "execution_count": 28,
   "metadata": {},
   "outputs": [
    {
     "data": {
      "text/plain": [
       "array([ 1.97174697e-41,  5.13730308e-02, -1.24134120e+03])"
      ]
     },
     "execution_count": 28,
     "metadata": {},
     "output_type": "execute_result"
    }
   ],
   "source": [
    "### Plot exponential fit\n",
    "\n",
    "X = docs_year_df_part.index\n",
    "Y = docs_year_df_part[\"Count_no_CHN\"].values\n",
    "\n",
    "def exp_func(X, a, b, c):\n",
    "  return a*np.exp(b*X) + c\n",
    "\n",
    "# Curve fit\n",
    "popt_exp, _ = curve_fit(exp_func, X, Y, p0=(1, 1e-6, 1), maxfev=10000)\n",
    "popt_exp"
   ]
  },
  {
   "cell_type": "code",
   "execution_count": 30,
   "metadata": {},
   "outputs": [
    {
     "data": {
      "image/png": "[encoded data removed]",
      "text/plain": [
       "<Figure size 600x600 with 1 Axes>"
      ]
     },
     "metadata": {},
     "output_type": "display_data"
    }
   ],
   "source": [
    "# Plotting\n",
    "fig_fit_yr_docnum = work_dir / \"fig_9_year_docnum_noCHN_exponential_fit.pdf\"\n",
    "\n",
    "#y_pred = [exp_func(x, *popt_exp) for x in X]\n",
    "plt.figure(figsize=(6, 6))\n",
    "\n",
    "# plot legend in scientific number:\n",
    "#https://www.scaler.com/topics/python-scientific-notation/\n",
    "#https://sparrow.dev/python-scientific-notation/\n",
    "\n",
    "plt.plot(X, exp_func(X, *popt_exp),'r',linewidth=2, \n",
    "        label='a*np.exp(b*x)+c: a=%.1e, b=%.1e, c=%.1e' % tuple(popt_exp))\n",
    "plt.plot(X[1:], Y[1:], 'bo', alpha=0.5)\n",
    "#plt.plot(x[1:], y_pred[1:], '-b')\n",
    "plt.legend()\n",
    "plt.xlabel(\"Year\")\n",
    "plt.ylabel(\"Numbers of records\")\n",
    "plt.savefig(fig_fit_yr_docnum, format='pdf')\n",
    "plt.show()"
   ]
  },
  {
   "cell_type": "markdown",
   "metadata": {},
   "source": [
    "## ___Table S1___\n",
    "\n",
    "Turn out_raw_journal_counts into a table"
   ]
  },
  {
   "cell_type": "code",
   "execution_count": 38,
   "metadata": {},
   "outputs": [],
   "source": [
    "jcount_file = dir2 / \"out_raw_journal_counts\"\n",
    "jcount_tsv  = dir2 / \"out_raw_journal_counts.tsv\""
   ]
  },
  {
   "cell_type": "code",
   "execution_count": 40,
   "metadata": {},
   "outputs": [
    {
     "data": {
      "text/plain": [
       "PosixPath('/home/shius/projects/plant_sci_hist/2_text_classify/out_raw_journal_counts')"
      ]
     },
     "execution_count": 40,
     "metadata": {},
     "output_type": "execute_result"
    }
   ],
   "source": [
    "jcount_file"
   ]
  },
  {
   "cell_type": "code",
   "execution_count": 43,
   "metadata": {},
   "outputs": [],
   "source": [
    "# Split based on the last \",\" then output as a file\n",
    "jcount_list = []\n",
    "with open(jcount_file) as f:\n",
    "  jcounts = f.readlines()\n",
    "  for jc in jcounts:\n",
    "    j = jc[:jc.rfind(\",\")]\n",
    "    c = jc[jc.rfind(\",\")+1:]\n",
    "    jcount_list.append([j,c])\n",
    "\n",
    "with open(jcount_tsv, \"w\") as f:\n",
    "  for jc in jcount_list:\n",
    "    f.write(jc[0] + \"\\t\" + jc[1])\n"
   ]
  },
  {
   "cell_type": "markdown",
   "metadata": {},
   "source": [
    "## ___Chosing articles for select topic in specific years___"
   ]
  },
  {
   "cell_type": "markdown",
   "metadata": {},
   "source": [
    "### Read corpus with topiv assignment"
   ]
  },
  {
   "cell_type": "code",
   "execution_count": 8,
   "metadata": {},
   "outputs": [],
   "source": [
    "corpus_df = pd.read_csv(corpus_file, sep='\\t', compression='gzip', index_col=0)"
   ]
  },
  {
   "cell_type": "code",
   "execution_count": 9,
   "metadata": {},
   "outputs": [
    {
     "data": {
      "text/html": [
       "<div>\n",
       "<style scoped>\n",
       "    .dataframe tbody tr th:only-of-type {\n",
       "        vertical-align: middle;\n",
       "    }\n",
       "\n",
       "    .dataframe tbody tr th {\n",
       "        vertical-align: top;\n",
       "    }\n",
       "\n",
       "    .dataframe thead th {\n",
       "        text-align: right;\n",
       "    }\n",
       "</style>\n",
       "<table border=\"1\" class=\"dataframe\">\n",
       "  <thead>\n",
       "    <tr style=\"text-align: right;\">\n",
       "      <th></th>\n",
       "      <th>Index_1385417</th>\n",
       "      <th>PMID</th>\n",
       "      <th>Date</th>\n",
       "      <th>Journal</th>\n",
       "      <th>Title</th>\n",
       "      <th>Abstract</th>\n",
       "      <th>Initial filter qualifier</th>\n",
       "      <th>Corpus</th>\n",
       "      <th>reg_article</th>\n",
       "      <th>Text classification score</th>\n",
       "      <th>Preprocessed corpus</th>\n",
       "      <th>Topic</th>\n",
       "    </tr>\n",
       "  </thead>\n",
       "  <tbody>\n",
       "    <tr>\n",
       "      <th>0</th>\n",
       "      <td>3</td>\n",
       "      <td>61</td>\n",
       "      <td>1975-12-11</td>\n",
       "      <td>Biochimica et biophysica acta</td>\n",
       "      <td>Identification of the 120 mus phase in the dec...</td>\n",
       "      <td>After a 500 mus laser flash a 120 mus phase in...</td>\n",
       "      <td>spinach</td>\n",
       "      <td>Identification of the 120 mus phase in the dec...</td>\n",
       "      <td>1</td>\n",
       "      <td>0.716394</td>\n",
       "      <td>identification 120 mus phase decay delayed flu...</td>\n",
       "      <td>52</td>\n",
       "    </tr>\n",
       "    <tr>\n",
       "      <th>1</th>\n",
       "      <td>4</td>\n",
       "      <td>67</td>\n",
       "      <td>1975-11-20</td>\n",
       "      <td>Biochimica et biophysica acta</td>\n",
       "      <td>Cholinesterases from plant tissues. VI. Prelim...</td>\n",
       "      <td>Enzymes capable of hydrolyzing esters of thioc...</td>\n",
       "      <td>plant</td>\n",
       "      <td>Cholinesterases from plant tissues. VI. Prelim...</td>\n",
       "      <td>1</td>\n",
       "      <td>0.894874</td>\n",
       "      <td>cholinesterases plant tissues . vi . prelimina...</td>\n",
       "      <td>48</td>\n",
       "    </tr>\n",
       "  </tbody>\n",
       "</table>\n",
       "</div>"
      ],
      "text/plain": [
       "   Index_1385417  PMID        Date                        Journal  \\\n",
       "0              3    61  1975-12-11  Biochimica et biophysica acta   \n",
       "1              4    67  1975-11-20  Biochimica et biophysica acta   \n",
       "\n",
       "                                               Title  \\\n",
       "0  Identification of the 120 mus phase in the dec...   \n",
       "1  Cholinesterases from plant tissues. VI. Prelim...   \n",
       "\n",
       "                                            Abstract Initial filter qualifier  \\\n",
       "0  After a 500 mus laser flash a 120 mus phase in...                  spinach   \n",
       "1  Enzymes capable of hydrolyzing esters of thioc...                    plant   \n",
       "\n",
       "                                              Corpus  reg_article  \\\n",
       "0  Identification of the 120 mus phase in the dec...            1   \n",
       "1  Cholinesterases from plant tissues. VI. Prelim...            1   \n",
       "\n",
       "   Text classification score  \\\n",
       "0                   0.716394   \n",
       "1                   0.894874   \n",
       "\n",
       "                                 Preprocessed corpus  Topic  \n",
       "0  identification 120 mus phase decay delayed flu...     52  \n",
       "1  cholinesterases plant tissues . vi . prelimina...     48  "
      ]
     },
     "execution_count": 9,
     "metadata": {},
     "output_type": "execute_result"
    }
   ],
   "source": [
    "corpus_df.head(2)"
   ]
  },
  {
   "cell_type": "code",
   "execution_count": 22,
   "metadata": {},
   "outputs": [],
   "source": [
    "# Add the year column\n",
    "dates = corpus_df.Date.values\n",
    "years = [int(date.split('-')[0]) for date in dates]\n",
    "\n",
    "corpus_df[\"Year\"] = years"
   ]
  },
  {
   "cell_type": "markdown",
   "metadata": {},
   "source": [
    "### Function to get specific topic/year range dataframe"
   ]
  },
  {
   "cell_type": "code",
   "execution_count": 57,
   "metadata": {},
   "outputs": [],
   "source": [
    "def get_df_toc_years(df, toc, y_begin, y_end):\n",
    "  '''\n",
    "  Args:\n",
    "    df (pd.DataFrame): corpus_df with Year column\n",
    "    toc (dict): table of contents\n",
    "    y_begin (int): begin year, inclusive\n",
    "    y_end (int): end year, inclusive\n",
    "  Output:\n",
    "    df_toc_years (csv)\n",
    "  '''\n",
    "\n",
    "  cond1 = corpus_df['Topic'] == toc\n",
    "  cond2 = corpus_df['Year'].isin(range(y_begin, y_end+1))\n",
    "\n",
    "  df_toc_years =  corpus_df[cond1 & cond2]\n",
    "\n",
    "  df_toc_years.to_csv(work_dir / f'table_9_corpus_toc{toc}_yr{y_begin}-{y_end}.csv', \n",
    "                      index=False)\n",
    "\n",
    "  return df_toc_years\n"
   ]
  },
  {
   "cell_type": "markdown",
   "metadata": {},
   "source": [
    "### Topic 78, year 1998, 1999, 2000"
   ]
  },
  {
   "cell_type": "code",
   "execution_count": 58,
   "metadata": {},
   "outputs": [
    {
     "data": {
      "text/plain": [
       "(103, 13)"
      ]
     },
     "execution_count": 58,
     "metadata": {},
     "output_type": "execute_result"
    }
   ],
   "source": [
    "df_toc78 = get_df_toc_years(corpus_df, 78, 2000, 2002)\n",
    "df_toc78.shape"
   ]
  },
  {
   "cell_type": "markdown",
   "metadata": {},
   "source": [
    "### Topic 44, year 1917-1977"
   ]
  },
  {
   "cell_type": "code",
   "execution_count": 60,
   "metadata": {},
   "outputs": [
    {
     "data": {
      "text/plain": [
       "(1223, 13)"
      ]
     },
     "execution_count": 60,
     "metadata": {},
     "output_type": "execute_result"
    }
   ],
   "source": [
    "df_toc44 = get_df_toc_years(corpus_df, 44, 1917, 1977)\n",
    "df_toc44.shape"
   ]
  },
  {
   "cell_type": "markdown",
   "metadata": {},
   "source": [
    "## ___Major down/up-ward trends per time point___\n",
    "\n",
    "Prior and current work on this\n",
    "- In section 4_4c\n",
    "  - I have played with quite a few different ways to predict trends.\n",
    "  - But the predicted trend lines looks suspicious and unexpected so did not adopt them.\n",
    "  - End up using Lowess fit.\n",
    "- In section 4_4d\n",
    "  - I have further picked the best fiting lowess models for each topic.\n",
    "  - The fit is saved as pickle for each topic.\n",
    "  - Have experimented with ways to define major transition. But at the time, I tried to do this per topic and encountered issues with topics that have multiple peaks.\n",
    "- Once I finished discussing Figure 3 \n",
    "  - Realize that there are 3 major transitions:\n",
    "  - Also realize that I should have a measure to estimate \"transition\".\n",
    "\n",
    "Define transition point: \n",
    "- time points with among the highest degree of \n",
    "  - downward trend\n",
    "  - upward trend\n",
    "- In both cases, use the 1st derivative of lowess fit at that time point as measure for trend\n",
    "  - Ignore outlier (-1)\n",
    "  - Separate positive and negative values for up and downward trends, respectively.\n",
    "  - [Not done] Set a threshold and get the average of slopes above threshold\n",
    "    - Want to ignore slopes ~0 because they only make the sum look smaller than it really is.\n",
    "    - Turn on that this is not straightforward. No clear way to set threshold.\n",
    "  - Generate averaged sums of 1st derivative values for up and down-ward trends based on the number of positive and negative values, respectively.\n",
    "\n",
    "For getting slope:\n",
    "- https://stackoverflow.com/questions/30309557/how-to-get-derivatives-from-1d-interpolation\n",
    "\n",
    "\n"
   ]
  },
  {
   "cell_type": "markdown",
   "metadata": {},
   "source": [
    "### Read relevant files"
   ]
  },
  {
   "cell_type": "code",
   "execution_count": 4,
   "metadata": {},
   "outputs": [
    {
     "data": {
      "text/plain": [
       "(datetime.datetime(1977, 12, 11, 23, 59, 59),\n",
       " datetime.datetime(2021, 1, 1, 0, 0))"
      ]
     },
     "execution_count": 4,
     "metadata": {},
     "output_type": "execute_result"
    }
   ],
   "source": [
    "# Load topic frequency for each timestamp\n",
    "top_freq_df = pd.read_csv(top_freq_file, index_col=0)\n",
    "topics      = top_freq_df.index.tolist()              # topic list\n",
    "toc_series  = top_freq_df.loc[0]                      # topic frequency series\n",
    "                                                      # same for all topics\n",
    "ts_list     = [float(ts) for ts in toc_series.index]  # timestamps\n",
    "ts0 = ts_list[0]                                      # first timestamp\n",
    "ts1 = ts_list[-1]                                     # last timestamp\n",
    "\n",
    "# Start from 1978 to 2020\n",
    "datetime.fromtimestamp(ts0), datetime.fromtimestamp(ts1)"
   ]
  },
  {
   "cell_type": "code",
   "execution_count": 5,
   "metadata": {},
   "outputs": [
    {
     "data": {
      "text/plain": [
       "[PosixPath('/home/shinhan/projects/plant_sci_hist/4_topic_model/4_4_over_time/_lowess/lowess_fit_func_topic-1_frac0.1.pickle'),\n",
       " PosixPath('/home/shinhan/projects/plant_sci_hist/4_topic_model/4_4_over_time/_lowess/lowess_fit_func_topic-1_frac0.2.pickle'),\n",
       " PosixPath('/home/shinhan/projects/plant_sci_hist/4_topic_model/4_4_over_time/_lowess/lowess_fit_func_topic-1_frac0.3.pickle'),\n",
       " PosixPath('/home/shinhan/projects/plant_sci_hist/4_topic_model/4_4_over_time/_lowess/lowess_fit_func_topic0_frac0.1.pickle'),\n",
       " PosixPath('/home/shinhan/projects/plant_sci_hist/4_topic_model/4_4_over_time/_lowess/lowess_fit_func_topic0_frac0.2.pickle'),\n",
       " PosixPath('/home/shinhan/projects/plant_sci_hist/4_topic_model/4_4_over_time/_lowess/lowess_fit_func_topic0_frac0.3.pickle'),\n",
       " PosixPath('/home/shinhan/projects/plant_sci_hist/4_topic_model/4_4_over_time/_lowess/lowess_fit_func_topic10_frac0.1.pickle'),\n",
       " PosixPath('/home/shinhan/projects/plant_sci_hist/4_topic_model/4_4_over_time/_lowess/lowess_fit_func_topic10_frac0.2.pickle'),\n",
       " PosixPath('/home/shinhan/projects/plant_sci_hist/4_topic_model/4_4_over_time/_lowess/lowess_fit_func_topic10_frac0.3.pickle'),\n",
       " PosixPath('/home/shinhan/projects/plant_sci_hist/4_topic_model/4_4_over_time/_lowess/lowess_fit_func_topic11_frac0.1.pickle'),\n",
       " PosixPath('/home/shinhan/projects/plant_sci_hist/4_topic_model/4_4_over_time/_lowess/lowess_fit_func_topic11_frac0.2.pickle'),\n",
       " PosixPath('/home/shinhan/projects/plant_sci_hist/4_topic_model/4_4_over_time/_lowess/lowess_fit_func_topic11_frac0.3.pickle'),\n",
       " PosixPath('/home/shinhan/projects/plant_sci_hist/4_topic_model/4_4_over_time/_lowess/lowess_fit_func_topic12_frac0.1.pickle'),\n",
       " PosixPath('/home/shinhan/projects/plant_sci_hist/4_topic_model/4_4_over_time/_lowess/lowess_fit_func_topic12_frac0.2.pickle'),\n",
       " PosixPath('/home/shinhan/projects/plant_sci_hist/4_topic_model/4_4_over_time/_lowess/lowess_fit_func_topic12_frac0.3.pickle'),\n",
       " PosixPath('/home/shinhan/projects/plant_sci_hist/4_topic_model/4_4_over_time/_lowess/lowess_fit_func_topic13_frac0.1.pickle'),\n",
       " PosixPath('/home/shinhan/projects/plant_sci_hist/4_topic_model/4_4_over_time/_lowess/lowess_fit_func_topic13_frac0.2.pickle'),\n",
       " PosixPath('/home/shinhan/projects/plant_sci_hist/4_topic_model/4_4_over_time/_lowess/lowess_fit_func_topic13_frac0.3.pickle'),\n",
       " PosixPath('/home/shinhan/projects/plant_sci_hist/4_topic_model/4_4_over_time/_lowess/lowess_fit_func_topic14_frac0.1.pickle'),\n",
       " PosixPath('/home/shinhan/projects/plant_sci_hist/4_topic_model/4_4_over_time/_lowess/lowess_fit_func_topic14_frac0.2.pickle'),\n",
       " PosixPath('/home/shinhan/projects/plant_sci_hist/4_topic_model/4_4_over_time/_lowess/lowess_fit_func_topic14_frac0.3.pickle'),\n",
       " PosixPath('/home/shinhan/projects/plant_sci_hist/4_topic_model/4_4_over_time/_lowess/lowess_fit_func_topic15_frac0.1.pickle'),\n",
       " PosixPath('/home/shinhan/projects/plant_sci_hist/4_topic_model/4_4_over_time/_lowess/lowess_fit_func_topic15_frac0.2.pickle'),\n",
       " PosixPath('/home/shinhan/projects/plant_sci_hist/4_topic_model/4_4_over_time/_lowess/lowess_fit_func_topic15_frac0.3.pickle'),\n",
       " PosixPath('/home/shinhan/projects/plant_sci_hist/4_topic_model/4_4_over_time/_lowess/lowess_fit_func_topic16_frac0.1.pickle'),\n",
       " PosixPath('/home/shinhan/projects/plant_sci_hist/4_topic_model/4_4_over_time/_lowess/lowess_fit_func_topic16_frac0.2.pickle'),\n",
       " PosixPath('/home/shinhan/projects/plant_sci_hist/4_topic_model/4_4_over_time/_lowess/lowess_fit_func_topic16_frac0.3.pickle'),\n",
       " PosixPath('/home/shinhan/projects/plant_sci_hist/4_topic_model/4_4_over_time/_lowess/lowess_fit_func_topic17_frac0.1.pickle'),\n",
       " PosixPath('/home/shinhan/projects/plant_sci_hist/4_topic_model/4_4_over_time/_lowess/lowess_fit_func_topic17_frac0.2.pickle'),\n",
       " PosixPath('/home/shinhan/projects/plant_sci_hist/4_topic_model/4_4_over_time/_lowess/lowess_fit_func_topic17_frac0.3.pickle'),\n",
       " PosixPath('/home/shinhan/projects/plant_sci_hist/4_topic_model/4_4_over_time/_lowess/lowess_fit_func_topic18_frac0.1.pickle'),\n",
       " PosixPath('/home/shinhan/projects/plant_sci_hist/4_topic_model/4_4_over_time/_lowess/lowess_fit_func_topic18_frac0.2.pickle'),\n",
       " PosixPath('/home/shinhan/projects/plant_sci_hist/4_topic_model/4_4_over_time/_lowess/lowess_fit_func_topic18_frac0.3.pickle'),\n",
       " PosixPath('/home/shinhan/projects/plant_sci_hist/4_topic_model/4_4_over_time/_lowess/lowess_fit_func_topic19_frac0.1.pickle'),\n",
       " PosixPath('/home/shinhan/projects/plant_sci_hist/4_topic_model/4_4_over_time/_lowess/lowess_fit_func_topic19_frac0.2.pickle'),\n",
       " PosixPath('/home/shinhan/projects/plant_sci_hist/4_topic_model/4_4_over_time/_lowess/lowess_fit_func_topic19_frac0.3.pickle'),\n",
       " PosixPath('/home/shinhan/projects/plant_sci_hist/4_topic_model/4_4_over_time/_lowess/lowess_fit_func_topic1_frac0.1.pickle'),\n",
       " PosixPath('/home/shinhan/projects/plant_sci_hist/4_topic_model/4_4_over_time/_lowess/lowess_fit_func_topic1_frac0.2.pickle'),\n",
       " PosixPath('/home/shinhan/projects/plant_sci_hist/4_topic_model/4_4_over_time/_lowess/lowess_fit_func_topic1_frac0.3.pickle'),\n",
       " PosixPath('/home/shinhan/projects/plant_sci_hist/4_topic_model/4_4_over_time/_lowess/lowess_fit_func_topic20_frac0.1.pickle'),\n",
       " PosixPath('/home/shinhan/projects/plant_sci_hist/4_topic_model/4_4_over_time/_lowess/lowess_fit_func_topic20_frac0.2.pickle'),\n",
       " PosixPath('/home/shinhan/projects/plant_sci_hist/4_topic_model/4_4_over_time/_lowess/lowess_fit_func_topic20_frac0.3.pickle'),\n",
       " PosixPath('/home/shinhan/projects/plant_sci_hist/4_topic_model/4_4_over_time/_lowess/lowess_fit_func_topic21_frac0.1.pickle'),\n",
       " PosixPath('/home/shinhan/projects/plant_sci_hist/4_topic_model/4_4_over_time/_lowess/lowess_fit_func_topic21_frac0.2.pickle'),\n",
       " PosixPath('/home/shinhan/projects/plant_sci_hist/4_topic_model/4_4_over_time/_lowess/lowess_fit_func_topic21_frac0.3.pickle'),\n",
       " PosixPath('/home/shinhan/projects/plant_sci_hist/4_topic_model/4_4_over_time/_lowess/lowess_fit_func_topic22_frac0.1.pickle'),\n",
       " PosixPath('/home/shinhan/projects/plant_sci_hist/4_topic_model/4_4_over_time/_lowess/lowess_fit_func_topic22_frac0.2.pickle'),\n",
       " PosixPath('/home/shinhan/projects/plant_sci_hist/4_topic_model/4_4_over_time/_lowess/lowess_fit_func_topic22_frac0.3.pickle'),\n",
       " PosixPath('/home/shinhan/projects/plant_sci_hist/4_topic_model/4_4_over_time/_lowess/lowess_fit_func_topic23_frac0.1.pickle'),\n",
       " PosixPath('/home/shinhan/projects/plant_sci_hist/4_topic_model/4_4_over_time/_lowess/lowess_fit_func_topic23_frac0.2.pickle'),\n",
       " PosixPath('/home/shinhan/projects/plant_sci_hist/4_topic_model/4_4_over_time/_lowess/lowess_fit_func_topic23_frac0.3.pickle'),\n",
       " PosixPath('/home/shinhan/projects/plant_sci_hist/4_topic_model/4_4_over_time/_lowess/lowess_fit_func_topic24_frac0.1.pickle'),\n",
       " PosixPath('/home/shinhan/projects/plant_sci_hist/4_topic_model/4_4_over_time/_lowess/lowess_fit_func_topic24_frac0.2.pickle'),\n",
       " PosixPath('/home/shinhan/projects/plant_sci_hist/4_topic_model/4_4_over_time/_lowess/lowess_fit_func_topic24_frac0.3.pickle'),\n",
       " PosixPath('/home/shinhan/projects/plant_sci_hist/4_topic_model/4_4_over_time/_lowess/lowess_fit_func_topic25_frac0.1.pickle'),\n",
       " PosixPath('/home/shinhan/projects/plant_sci_hist/4_topic_model/4_4_over_time/_lowess/lowess_fit_func_topic25_frac0.2.pickle'),\n",
       " PosixPath('/home/shinhan/projects/plant_sci_hist/4_topic_model/4_4_over_time/_lowess/lowess_fit_func_topic25_frac0.3.pickle'),\n",
       " PosixPath('/home/shinhan/projects/plant_sci_hist/4_topic_model/4_4_over_time/_lowess/lowess_fit_func_topic26_frac0.1.pickle'),\n",
       " PosixPath('/home/shinhan/projects/plant_sci_hist/4_topic_model/4_4_over_time/_lowess/lowess_fit_func_topic26_frac0.2.pickle'),\n",
       " PosixPath('/home/shinhan/projects/plant_sci_hist/4_topic_model/4_4_over_time/_lowess/lowess_fit_func_topic26_frac0.3.pickle'),\n",
       " PosixPath('/home/shinhan/projects/plant_sci_hist/4_topic_model/4_4_over_time/_lowess/lowess_fit_func_topic27_frac0.1.pickle'),\n",
       " PosixPath('/home/shinhan/projects/plant_sci_hist/4_topic_model/4_4_over_time/_lowess/lowess_fit_func_topic27_frac0.2.pickle'),\n",
       " PosixPath('/home/shinhan/projects/plant_sci_hist/4_topic_model/4_4_over_time/_lowess/lowess_fit_func_topic27_frac0.3.pickle'),\n",
       " PosixPath('/home/shinhan/projects/plant_sci_hist/4_topic_model/4_4_over_time/_lowess/lowess_fit_func_topic28_frac0.1.pickle'),\n",
       " PosixPath('/home/shinhan/projects/plant_sci_hist/4_topic_model/4_4_over_time/_lowess/lowess_fit_func_topic28_frac0.2.pickle'),\n",
       " PosixPath('/home/shinhan/projects/plant_sci_hist/4_topic_model/4_4_over_time/_lowess/lowess_fit_func_topic28_frac0.3.pickle'),\n",
       " PosixPath('/home/shinhan/projects/plant_sci_hist/4_topic_model/4_4_over_time/_lowess/lowess_fit_func_topic29_frac0.1.pickle'),\n",
       " PosixPath('/home/shinhan/projects/plant_sci_hist/4_topic_model/4_4_over_time/_lowess/lowess_fit_func_topic29_frac0.2.pickle'),\n",
       " PosixPath('/home/shinhan/projects/plant_sci_hist/4_topic_model/4_4_over_time/_lowess/lowess_fit_func_topic29_frac0.3.pickle'),\n",
       " PosixPath('/home/shinhan/projects/plant_sci_hist/4_topic_model/4_4_over_time/_lowess/lowess_fit_func_topic2_frac0.1.pickle'),\n",
       " PosixPath('/home/shinhan/projects/plant_sci_hist/4_topic_model/4_4_over_time/_lowess/lowess_fit_func_topic2_frac0.2.pickle'),\n",
       " PosixPath('/home/shinhan/projects/plant_sci_hist/4_topic_model/4_4_over_time/_lowess/lowess_fit_func_topic2_frac0.3.pickle'),\n",
       " PosixPath('/home/shinhan/projects/plant_sci_hist/4_topic_model/4_4_over_time/_lowess/lowess_fit_func_topic30_frac0.1.pickle'),\n",
       " PosixPath('/home/shinhan/projects/plant_sci_hist/4_topic_model/4_4_over_time/_lowess/lowess_fit_func_topic30_frac0.2.pickle'),\n",
       " PosixPath('/home/shinhan/projects/plant_sci_hist/4_topic_model/4_4_over_time/_lowess/lowess_fit_func_topic30_frac0.3.pickle'),\n",
       " PosixPath('/home/shinhan/projects/plant_sci_hist/4_topic_model/4_4_over_time/_lowess/lowess_fit_func_topic31_frac0.1.pickle'),\n",
       " PosixPath('/home/shinhan/projects/plant_sci_hist/4_topic_model/4_4_over_time/_lowess/lowess_fit_func_topic31_frac0.2.pickle'),\n",
       " PosixPath('/home/shinhan/projects/plant_sci_hist/4_topic_model/4_4_over_time/_lowess/lowess_fit_func_topic31_frac0.3.pickle'),\n",
       " PosixPath('/home/shinhan/projects/plant_sci_hist/4_topic_model/4_4_over_time/_lowess/lowess_fit_func_topic32_frac0.1.pickle'),\n",
       " PosixPath('/home/shinhan/projects/plant_sci_hist/4_topic_model/4_4_over_time/_lowess/lowess_fit_func_topic32_frac0.2.pickle'),\n",
       " PosixPath('/home/shinhan/projects/plant_sci_hist/4_topic_model/4_4_over_time/_lowess/lowess_fit_func_topic32_frac0.3.pickle'),\n",
       " PosixPath('/home/shinhan/projects/plant_sci_hist/4_topic_model/4_4_over_time/_lowess/lowess_fit_func_topic33_frac0.1.pickle'),\n",
       " PosixPath('/home/shinhan/projects/plant_sci_hist/4_topic_model/4_4_over_time/_lowess/lowess_fit_func_topic33_frac0.2.pickle'),\n",
       " PosixPath('/home/shinhan/projects/plant_sci_hist/4_topic_model/4_4_over_time/_lowess/lowess_fit_func_topic33_frac0.3.pickle'),\n",
       " PosixPath('/home/shinhan/projects/plant_sci_hist/4_topic_model/4_4_over_time/_lowess/lowess_fit_func_topic34_frac0.1.pickle'),\n",
       " PosixPath('/home/shinhan/projects/plant_sci_hist/4_topic_model/4_4_over_time/_lowess/lowess_fit_func_topic34_frac0.2.pickle'),\n",
       " PosixPath('/home/shinhan/projects/plant_sci_hist/4_topic_model/4_4_over_time/_lowess/lowess_fit_func_topic34_frac0.3.pickle'),\n",
       " PosixPath('/home/shinhan/projects/plant_sci_hist/4_topic_model/4_4_over_time/_lowess/lowess_fit_func_topic35_frac0.1.pickle'),\n",
       " PosixPath('/home/shinhan/projects/plant_sci_hist/4_topic_model/4_4_over_time/_lowess/lowess_fit_func_topic35_frac0.2.pickle'),\n",
       " PosixPath('/home/shinhan/projects/plant_sci_hist/4_topic_model/4_4_over_time/_lowess/lowess_fit_func_topic35_frac0.3.pickle'),\n",
       " PosixPath('/home/shinhan/projects/plant_sci_hist/4_topic_model/4_4_over_time/_lowess/lowess_fit_func_topic36_frac0.1.pickle'),\n",
       " PosixPath('/home/shinhan/projects/plant_sci_hist/4_topic_model/4_4_over_time/_lowess/lowess_fit_func_topic36_frac0.2.pickle'),\n",
       " PosixPath('/home/shinhan/projects/plant_sci_hist/4_topic_model/4_4_over_time/_lowess/lowess_fit_func_topic36_frac0.3.pickle'),\n",
       " PosixPath('/home/shinhan/projects/plant_sci_hist/4_topic_model/4_4_over_time/_lowess/lowess_fit_func_topic37_frac0.1.pickle'),\n",
       " PosixPath('/home/shinhan/projects/plant_sci_hist/4_topic_model/4_4_over_time/_lowess/lowess_fit_func_topic37_frac0.2.pickle'),\n",
       " PosixPath('/home/shinhan/projects/plant_sci_hist/4_topic_model/4_4_over_time/_lowess/lowess_fit_func_topic37_frac0.3.pickle'),\n",
       " PosixPath('/home/shinhan/projects/plant_sci_hist/4_topic_model/4_4_over_time/_lowess/lowess_fit_func_topic38_frac0.1.pickle'),\n",
       " PosixPath('/home/shinhan/projects/plant_sci_hist/4_topic_model/4_4_over_time/_lowess/lowess_fit_func_topic38_frac0.2.pickle'),\n",
       " PosixPath('/home/shinhan/projects/plant_sci_hist/4_topic_model/4_4_over_time/_lowess/lowess_fit_func_topic38_frac0.3.pickle'),\n",
       " PosixPath('/home/shinhan/projects/plant_sci_hist/4_topic_model/4_4_over_time/_lowess/lowess_fit_func_topic39_frac0.1.pickle'),\n",
       " PosixPath('/home/shinhan/projects/plant_sci_hist/4_topic_model/4_4_over_time/_lowess/lowess_fit_func_topic39_frac0.2.pickle'),\n",
       " PosixPath('/home/shinhan/projects/plant_sci_hist/4_topic_model/4_4_over_time/_lowess/lowess_fit_func_topic39_frac0.3.pickle'),\n",
       " PosixPath('/home/shinhan/projects/plant_sci_hist/4_topic_model/4_4_over_time/_lowess/lowess_fit_func_topic3_frac0.1.pickle'),\n",
       " PosixPath('/home/shinhan/projects/plant_sci_hist/4_topic_model/4_4_over_time/_lowess/lowess_fit_func_topic3_frac0.2.pickle'),\n",
       " PosixPath('/home/shinhan/projects/plant_sci_hist/4_topic_model/4_4_over_time/_lowess/lowess_fit_func_topic3_frac0.3.pickle'),\n",
       " PosixPath('/home/shinhan/projects/plant_sci_hist/4_topic_model/4_4_over_time/_lowess/lowess_fit_func_topic40_frac0.1.pickle'),\n",
       " PosixPath('/home/shinhan/projects/plant_sci_hist/4_topic_model/4_4_over_time/_lowess/lowess_fit_func_topic40_frac0.2.pickle'),\n",
       " PosixPath('/home/shinhan/projects/plant_sci_hist/4_topic_model/4_4_over_time/_lowess/lowess_fit_func_topic40_frac0.3.pickle'),\n",
       " PosixPath('/home/shinhan/projects/plant_sci_hist/4_topic_model/4_4_over_time/_lowess/lowess_fit_func_topic41_frac0.1.pickle'),\n",
       " PosixPath('/home/shinhan/projects/plant_sci_hist/4_topic_model/4_4_over_time/_lowess/lowess_fit_func_topic41_frac0.2.pickle'),\n",
       " PosixPath('/home/shinhan/projects/plant_sci_hist/4_topic_model/4_4_over_time/_lowess/lowess_fit_func_topic41_frac0.3.pickle'),\n",
       " PosixPath('/home/shinhan/projects/plant_sci_hist/4_topic_model/4_4_over_time/_lowess/lowess_fit_func_topic42_frac0.1.pickle'),\n",
       " PosixPath('/home/shinhan/projects/plant_sci_hist/4_topic_model/4_4_over_time/_lowess/lowess_fit_func_topic42_frac0.2.pickle'),\n",
       " PosixPath('/home/shinhan/projects/plant_sci_hist/4_topic_model/4_4_over_time/_lowess/lowess_fit_func_topic42_frac0.3.pickle'),\n",
       " PosixPath('/home/shinhan/projects/plant_sci_hist/4_topic_model/4_4_over_time/_lowess/lowess_fit_func_topic43_frac0.1.pickle'),\n",
       " PosixPath('/home/shinhan/projects/plant_sci_hist/4_topic_model/4_4_over_time/_lowess/lowess_fit_func_topic43_frac0.2.pickle'),\n",
       " PosixPath('/home/shinhan/projects/plant_sci_hist/4_topic_model/4_4_over_time/_lowess/lowess_fit_func_topic43_frac0.3.pickle'),\n",
       " PosixPath('/home/shinhan/projects/plant_sci_hist/4_topic_model/4_4_over_time/_lowess/lowess_fit_func_topic44_frac0.1.pickle'),\n",
       " PosixPath('/home/shinhan/projects/plant_sci_hist/4_topic_model/4_4_over_time/_lowess/lowess_fit_func_topic44_frac0.2.pickle'),\n",
       " PosixPath('/home/shinhan/projects/plant_sci_hist/4_topic_model/4_4_over_time/_lowess/lowess_fit_func_topic44_frac0.3.pickle'),\n",
       " PosixPath('/home/shinhan/projects/plant_sci_hist/4_topic_model/4_4_over_time/_lowess/lowess_fit_func_topic45_frac0.1.pickle'),\n",
       " PosixPath('/home/shinhan/projects/plant_sci_hist/4_topic_model/4_4_over_time/_lowess/lowess_fit_func_topic45_frac0.2.pickle'),\n",
       " PosixPath('/home/shinhan/projects/plant_sci_hist/4_topic_model/4_4_over_time/_lowess/lowess_fit_func_topic45_frac0.3.pickle'),\n",
       " PosixPath('/home/shinhan/projects/plant_sci_hist/4_topic_model/4_4_over_time/_lowess/lowess_fit_func_topic46_frac0.1.pickle'),\n",
       " PosixPath('/home/shinhan/projects/plant_sci_hist/4_topic_model/4_4_over_time/_lowess/lowess_fit_func_topic46_frac0.2.pickle'),\n",
       " PosixPath('/home/shinhan/projects/plant_sci_hist/4_topic_model/4_4_over_time/_lowess/lowess_fit_func_topic46_frac0.3.pickle'),\n",
       " PosixPath('/home/shinhan/projects/plant_sci_hist/4_topic_model/4_4_over_time/_lowess/lowess_fit_func_topic47_frac0.1.pickle'),\n",
       " PosixPath('/home/shinhan/projects/plant_sci_hist/4_topic_model/4_4_over_time/_lowess/lowess_fit_func_topic47_frac0.2.pickle'),\n",
       " PosixPath('/home/shinhan/projects/plant_sci_hist/4_topic_model/4_4_over_time/_lowess/lowess_fit_func_topic47_frac0.3.pickle'),\n",
       " PosixPath('/home/shinhan/projects/plant_sci_hist/4_topic_model/4_4_over_time/_lowess/lowess_fit_func_topic48_frac0.1.pickle'),\n",
       " PosixPath('/home/shinhan/projects/plant_sci_hist/4_topic_model/4_4_over_time/_lowess/lowess_fit_func_topic48_frac0.2.pickle'),\n",
       " PosixPath('/home/shinhan/projects/plant_sci_hist/4_topic_model/4_4_over_time/_lowess/lowess_fit_func_topic48_frac0.3.pickle'),\n",
       " PosixPath('/home/shinhan/projects/plant_sci_hist/4_topic_model/4_4_over_time/_lowess/lowess_fit_func_topic49_frac0.1.pickle'),\n",
       " PosixPath('/home/shinhan/projects/plant_sci_hist/4_topic_model/4_4_over_time/_lowess/lowess_fit_func_topic49_frac0.2.pickle'),\n",
       " PosixPath('/home/shinhan/projects/plant_sci_hist/4_topic_model/4_4_over_time/_lowess/lowess_fit_func_topic49_frac0.3.pickle'),\n",
       " PosixPath('/home/shinhan/projects/plant_sci_hist/4_topic_model/4_4_over_time/_lowess/lowess_fit_func_topic4_frac0.1.pickle'),\n",
       " PosixPath('/home/shinhan/projects/plant_sci_hist/4_topic_model/4_4_over_time/_lowess/lowess_fit_func_topic4_frac0.2.pickle'),\n",
       " PosixPath('/home/shinhan/projects/plant_sci_hist/4_topic_model/4_4_over_time/_lowess/lowess_fit_func_topic4_frac0.3.pickle'),\n",
       " PosixPath('/home/shinhan/projects/plant_sci_hist/4_topic_model/4_4_over_time/_lowess/lowess_fit_func_topic50_frac0.1.pickle'),\n",
       " PosixPath('/home/shinhan/projects/plant_sci_hist/4_topic_model/4_4_over_time/_lowess/lowess_fit_func_topic50_frac0.2.pickle'),\n",
       " PosixPath('/home/shinhan/projects/plant_sci_hist/4_topic_model/4_4_over_time/_lowess/lowess_fit_func_topic50_frac0.3.pickle'),\n",
       " PosixPath('/home/shinhan/projects/plant_sci_hist/4_topic_model/4_4_over_time/_lowess/lowess_fit_func_topic51_frac0.1.pickle'),\n",
       " PosixPath('/home/shinhan/projects/plant_sci_hist/4_topic_model/4_4_over_time/_lowess/lowess_fit_func_topic51_frac0.2.pickle'),\n",
       " PosixPath('/home/shinhan/projects/plant_sci_hist/4_topic_model/4_4_over_time/_lowess/lowess_fit_func_topic51_frac0.3.pickle'),\n",
       " PosixPath('/home/shinhan/projects/plant_sci_hist/4_topic_model/4_4_over_time/_lowess/lowess_fit_func_topic52_frac0.1.pickle'),\n",
       " PosixPath('/home/shinhan/projects/plant_sci_hist/4_topic_model/4_4_over_time/_lowess/lowess_fit_func_topic52_frac0.2.pickle'),\n",
       " PosixPath('/home/shinhan/projects/plant_sci_hist/4_topic_model/4_4_over_time/_lowess/lowess_fit_func_topic52_frac0.3.pickle'),\n",
       " PosixPath('/home/shinhan/projects/plant_sci_hist/4_topic_model/4_4_over_time/_lowess/lowess_fit_func_topic53_frac0.1.pickle'),\n",
       " PosixPath('/home/shinhan/projects/plant_sci_hist/4_topic_model/4_4_over_time/_lowess/lowess_fit_func_topic53_frac0.2.pickle'),\n",
       " PosixPath('/home/shinhan/projects/plant_sci_hist/4_topic_model/4_4_over_time/_lowess/lowess_fit_func_topic53_frac0.3.pickle'),\n",
       " PosixPath('/home/shinhan/projects/plant_sci_hist/4_topic_model/4_4_over_time/_lowess/lowess_fit_func_topic54_frac0.1.pickle'),\n",
       " PosixPath('/home/shinhan/projects/plant_sci_hist/4_topic_model/4_4_over_time/_lowess/lowess_fit_func_topic54_frac0.2.pickle'),\n",
       " PosixPath('/home/shinhan/projects/plant_sci_hist/4_topic_model/4_4_over_time/_lowess/lowess_fit_func_topic54_frac0.3.pickle'),\n",
       " PosixPath('/home/shinhan/projects/plant_sci_hist/4_topic_model/4_4_over_time/_lowess/lowess_fit_func_topic55_frac0.1.pickle'),\n",
       " PosixPath('/home/shinhan/projects/plant_sci_hist/4_topic_model/4_4_over_time/_lowess/lowess_fit_func_topic55_frac0.2.pickle'),\n",
       " PosixPath('/home/shinhan/projects/plant_sci_hist/4_topic_model/4_4_over_time/_lowess/lowess_fit_func_topic55_frac0.3.pickle'),\n",
       " PosixPath('/home/shinhan/projects/plant_sci_hist/4_topic_model/4_4_over_time/_lowess/lowess_fit_func_topic56_frac0.1.pickle'),\n",
       " PosixPath('/home/shinhan/projects/plant_sci_hist/4_topic_model/4_4_over_time/_lowess/lowess_fit_func_topic56_frac0.2.pickle'),\n",
       " PosixPath('/home/shinhan/projects/plant_sci_hist/4_topic_model/4_4_over_time/_lowess/lowess_fit_func_topic56_frac0.3.pickle'),\n",
       " PosixPath('/home/shinhan/projects/plant_sci_hist/4_topic_model/4_4_over_time/_lowess/lowess_fit_func_topic57_frac0.1.pickle'),\n",
       " PosixPath('/home/shinhan/projects/plant_sci_hist/4_topic_model/4_4_over_time/_lowess/lowess_fit_func_topic57_frac0.2.pickle'),\n",
       " PosixPath('/home/shinhan/projects/plant_sci_hist/4_topic_model/4_4_over_time/_lowess/lowess_fit_func_topic57_frac0.3.pickle'),\n",
       " PosixPath('/home/shinhan/projects/plant_sci_hist/4_topic_model/4_4_over_time/_lowess/lowess_fit_func_topic58_frac0.1.pickle'),\n",
       " PosixPath('/home/shinhan/projects/plant_sci_hist/4_topic_model/4_4_over_time/_lowess/lowess_fit_func_topic58_frac0.2.pickle'),\n",
       " PosixPath('/home/shinhan/projects/plant_sci_hist/4_topic_model/4_4_over_time/_lowess/lowess_fit_func_topic58_frac0.3.pickle'),\n",
       " PosixPath('/home/shinhan/projects/plant_sci_hist/4_topic_model/4_4_over_time/_lowess/lowess_fit_func_topic59_frac0.1.pickle'),\n",
       " PosixPath('/home/shinhan/projects/plant_sci_hist/4_topic_model/4_4_over_time/_lowess/lowess_fit_func_topic59_frac0.2.pickle'),\n",
       " PosixPath('/home/shinhan/projects/plant_sci_hist/4_topic_model/4_4_over_time/_lowess/lowess_fit_func_topic59_frac0.3.pickle'),\n",
       " PosixPath('/home/shinhan/projects/plant_sci_hist/4_topic_model/4_4_over_time/_lowess/lowess_fit_func_topic5_frac0.1.pickle'),\n",
       " PosixPath('/home/shinhan/projects/plant_sci_hist/4_topic_model/4_4_over_time/_lowess/lowess_fit_func_topic5_frac0.2.pickle'),\n",
       " PosixPath('/home/shinhan/projects/plant_sci_hist/4_topic_model/4_4_over_time/_lowess/lowess_fit_func_topic5_frac0.3.pickle'),\n",
       " PosixPath('/home/shinhan/projects/plant_sci_hist/4_topic_model/4_4_over_time/_lowess/lowess_fit_func_topic60_frac0.1.pickle'),\n",
       " PosixPath('/home/shinhan/projects/plant_sci_hist/4_topic_model/4_4_over_time/_lowess/lowess_fit_func_topic60_frac0.2.pickle'),\n",
       " PosixPath('/home/shinhan/projects/plant_sci_hist/4_topic_model/4_4_over_time/_lowess/lowess_fit_func_topic60_frac0.3.pickle'),\n",
       " PosixPath('/home/shinhan/projects/plant_sci_hist/4_topic_model/4_4_over_time/_lowess/lowess_fit_func_topic61_frac0.1.pickle'),\n",
       " PosixPath('/home/shinhan/projects/plant_sci_hist/4_topic_model/4_4_over_time/_lowess/lowess_fit_func_topic61_frac0.2.pickle'),\n",
       " PosixPath('/home/shinhan/projects/plant_sci_hist/4_topic_model/4_4_over_time/_lowess/lowess_fit_func_topic61_frac0.3.pickle'),\n",
       " PosixPath('/home/shinhan/projects/plant_sci_hist/4_topic_model/4_4_over_time/_lowess/lowess_fit_func_topic62_frac0.1.pickle'),\n",
       " PosixPath('/home/shinhan/projects/plant_sci_hist/4_topic_model/4_4_over_time/_lowess/lowess_fit_func_topic62_frac0.2.pickle'),\n",
       " PosixPath('/home/shinhan/projects/plant_sci_hist/4_topic_model/4_4_over_time/_lowess/lowess_fit_func_topic62_frac0.3.pickle'),\n",
       " PosixPath('/home/shinhan/projects/plant_sci_hist/4_topic_model/4_4_over_time/_lowess/lowess_fit_func_topic63_frac0.1.pickle'),\n",
       " PosixPath('/home/shinhan/projects/plant_sci_hist/4_topic_model/4_4_over_time/_lowess/lowess_fit_func_topic63_frac0.2.pickle'),\n",
       " PosixPath('/home/shinhan/projects/plant_sci_hist/4_topic_model/4_4_over_time/_lowess/lowess_fit_func_topic63_frac0.3.pickle'),\n",
       " PosixPath('/home/shinhan/projects/plant_sci_hist/4_topic_model/4_4_over_time/_lowess/lowess_fit_func_topic64_frac0.1.pickle'),\n",
       " PosixPath('/home/shinhan/projects/plant_sci_hist/4_topic_model/4_4_over_time/_lowess/lowess_fit_func_topic64_frac0.2.pickle'),\n",
       " PosixPath('/home/shinhan/projects/plant_sci_hist/4_topic_model/4_4_over_time/_lowess/lowess_fit_func_topic64_frac0.3.pickle'),\n",
       " PosixPath('/home/shinhan/projects/plant_sci_hist/4_topic_model/4_4_over_time/_lowess/lowess_fit_func_topic65_frac0.1.pickle'),\n",
       " PosixPath('/home/shinhan/projects/plant_sci_hist/4_topic_model/4_4_over_time/_lowess/lowess_fit_func_topic65_frac0.2.pickle'),\n",
       " PosixPath('/home/shinhan/projects/plant_sci_hist/4_topic_model/4_4_over_time/_lowess/lowess_fit_func_topic65_frac0.3.pickle'),\n",
       " PosixPath('/home/shinhan/projects/plant_sci_hist/4_topic_model/4_4_over_time/_lowess/lowess_fit_func_topic66_frac0.1.pickle'),\n",
       " PosixPath('/home/shinhan/projects/plant_sci_hist/4_topic_model/4_4_over_time/_lowess/lowess_fit_func_topic66_frac0.2.pickle'),\n",
       " PosixPath('/home/shinhan/projects/plant_sci_hist/4_topic_model/4_4_over_time/_lowess/lowess_fit_func_topic66_frac0.3.pickle'),\n",
       " PosixPath('/home/shinhan/projects/plant_sci_hist/4_topic_model/4_4_over_time/_lowess/lowess_fit_func_topic67_frac0.1.pickle'),\n",
       " PosixPath('/home/shinhan/projects/plant_sci_hist/4_topic_model/4_4_over_time/_lowess/lowess_fit_func_topic67_frac0.2.pickle'),\n",
       " PosixPath('/home/shinhan/projects/plant_sci_hist/4_topic_model/4_4_over_time/_lowess/lowess_fit_func_topic67_frac0.3.pickle'),\n",
       " PosixPath('/home/shinhan/projects/plant_sci_hist/4_topic_model/4_4_over_time/_lowess/lowess_fit_func_topic68_frac0.1.pickle'),\n",
       " PosixPath('/home/shinhan/projects/plant_sci_hist/4_topic_model/4_4_over_time/_lowess/lowess_fit_func_topic68_frac0.2.pickle'),\n",
       " PosixPath('/home/shinhan/projects/plant_sci_hist/4_topic_model/4_4_over_time/_lowess/lowess_fit_func_topic68_frac0.3.pickle'),\n",
       " PosixPath('/home/shinhan/projects/plant_sci_hist/4_topic_model/4_4_over_time/_lowess/lowess_fit_func_topic69_frac0.1.pickle'),\n",
       " PosixPath('/home/shinhan/projects/plant_sci_hist/4_topic_model/4_4_over_time/_lowess/lowess_fit_func_topic69_frac0.2.pickle'),\n",
       " PosixPath('/home/shinhan/projects/plant_sci_hist/4_topic_model/4_4_over_time/_lowess/lowess_fit_func_topic69_frac0.3.pickle'),\n",
       " PosixPath('/home/shinhan/projects/plant_sci_hist/4_topic_model/4_4_over_time/_lowess/lowess_fit_func_topic6_frac0.1.pickle'),\n",
       " PosixPath('/home/shinhan/projects/plant_sci_hist/4_topic_model/4_4_over_time/_lowess/lowess_fit_func_topic6_frac0.2.pickle'),\n",
       " PosixPath('/home/shinhan/projects/plant_sci_hist/4_topic_model/4_4_over_time/_lowess/lowess_fit_func_topic6_frac0.3.pickle'),\n",
       " PosixPath('/home/shinhan/projects/plant_sci_hist/4_topic_model/4_4_over_time/_lowess/lowess_fit_func_topic70_frac0.1.pickle'),\n",
       " PosixPath('/home/shinhan/projects/plant_sci_hist/4_topic_model/4_4_over_time/_lowess/lowess_fit_func_topic70_frac0.2.pickle'),\n",
       " PosixPath('/home/shinhan/projects/plant_sci_hist/4_topic_model/4_4_over_time/_lowess/lowess_fit_func_topic70_frac0.3.pickle'),\n",
       " PosixPath('/home/shinhan/projects/plant_sci_hist/4_topic_model/4_4_over_time/_lowess/lowess_fit_func_topic71_frac0.1.pickle'),\n",
       " PosixPath('/home/shinhan/projects/plant_sci_hist/4_topic_model/4_4_over_time/_lowess/lowess_fit_func_topic71_frac0.2.pickle'),\n",
       " PosixPath('/home/shinhan/projects/plant_sci_hist/4_topic_model/4_4_over_time/_lowess/lowess_fit_func_topic71_frac0.3.pickle'),\n",
       " PosixPath('/home/shinhan/projects/plant_sci_hist/4_topic_model/4_4_over_time/_lowess/lowess_fit_func_topic72_frac0.1.pickle'),\n",
       " PosixPath('/home/shinhan/projects/plant_sci_hist/4_topic_model/4_4_over_time/_lowess/lowess_fit_func_topic72_frac0.2.pickle'),\n",
       " PosixPath('/home/shinhan/projects/plant_sci_hist/4_topic_model/4_4_over_time/_lowess/lowess_fit_func_topic72_frac0.3.pickle'),\n",
       " PosixPath('/home/shinhan/projects/plant_sci_hist/4_topic_model/4_4_over_time/_lowess/lowess_fit_func_topic73_frac0.1.pickle'),\n",
       " PosixPath('/home/shinhan/projects/plant_sci_hist/4_topic_model/4_4_over_time/_lowess/lowess_fit_func_topic73_frac0.2.pickle'),\n",
       " PosixPath('/home/shinhan/projects/plant_sci_hist/4_topic_model/4_4_over_time/_lowess/lowess_fit_func_topic73_frac0.3.pickle'),\n",
       " PosixPath('/home/shinhan/projects/plant_sci_hist/4_topic_model/4_4_over_time/_lowess/lowess_fit_func_topic74_frac0.1.pickle'),\n",
       " PosixPath('/home/shinhan/projects/plant_sci_hist/4_topic_model/4_4_over_time/_lowess/lowess_fit_func_topic74_frac0.2.pickle'),\n",
       " PosixPath('/home/shinhan/projects/plant_sci_hist/4_topic_model/4_4_over_time/_lowess/lowess_fit_func_topic74_frac0.3.pickle'),\n",
       " PosixPath('/home/shinhan/projects/plant_sci_hist/4_topic_model/4_4_over_time/_lowess/lowess_fit_func_topic75_frac0.1.pickle'),\n",
       " PosixPath('/home/shinhan/projects/plant_sci_hist/4_topic_model/4_4_over_time/_lowess/lowess_fit_func_topic75_frac0.2.pickle'),\n",
       " PosixPath('/home/shinhan/projects/plant_sci_hist/4_topic_model/4_4_over_time/_lowess/lowess_fit_func_topic75_frac0.3.pickle'),\n",
       " PosixPath('/home/shinhan/projects/plant_sci_hist/4_topic_model/4_4_over_time/_lowess/lowess_fit_func_topic76_frac0.1.pickle'),\n",
       " PosixPath('/home/shinhan/projects/plant_sci_hist/4_topic_model/4_4_over_time/_lowess/lowess_fit_func_topic76_frac0.2.pickle'),\n",
       " PosixPath('/home/shinhan/projects/plant_sci_hist/4_topic_model/4_4_over_time/_lowess/lowess_fit_func_topic76_frac0.3.pickle'),\n",
       " PosixPath('/home/shinhan/projects/plant_sci_hist/4_topic_model/4_4_over_time/_lowess/lowess_fit_func_topic77_frac0.1.pickle'),\n",
       " PosixPath('/home/shinhan/projects/plant_sci_hist/4_topic_model/4_4_over_time/_lowess/lowess_fit_func_topic77_frac0.2.pickle'),\n",
       " PosixPath('/home/shinhan/projects/plant_sci_hist/4_topic_model/4_4_over_time/_lowess/lowess_fit_func_topic77_frac0.3.pickle'),\n",
       " PosixPath('/home/shinhan/projects/plant_sci_hist/4_topic_model/4_4_over_time/_lowess/lowess_fit_func_topic78_frac0.1.pickle'),\n",
       " PosixPath('/home/shinhan/projects/plant_sci_hist/4_topic_model/4_4_over_time/_lowess/lowess_fit_func_topic78_frac0.2.pickle'),\n",
       " PosixPath('/home/shinhan/projects/plant_sci_hist/4_topic_model/4_4_over_time/_lowess/lowess_fit_func_topic78_frac0.3.pickle'),\n",
       " PosixPath('/home/shinhan/projects/plant_sci_hist/4_topic_model/4_4_over_time/_lowess/lowess_fit_func_topic79_frac0.1.pickle'),\n",
       " PosixPath('/home/shinhan/projects/plant_sci_hist/4_topic_model/4_4_over_time/_lowess/lowess_fit_func_topic79_frac0.2.pickle'),\n",
       " PosixPath('/home/shinhan/projects/plant_sci_hist/4_topic_model/4_4_over_time/_lowess/lowess_fit_func_topic79_frac0.3.pickle'),\n",
       " PosixPath('/home/shinhan/projects/plant_sci_hist/4_topic_model/4_4_over_time/_lowess/lowess_fit_func_topic7_frac0.1.pickle'),\n",
       " PosixPath('/home/shinhan/projects/plant_sci_hist/4_topic_model/4_4_over_time/_lowess/lowess_fit_func_topic7_frac0.2.pickle'),\n",
       " PosixPath('/home/shinhan/projects/plant_sci_hist/4_topic_model/4_4_over_time/_lowess/lowess_fit_func_topic7_frac0.3.pickle'),\n",
       " PosixPath('/home/shinhan/projects/plant_sci_hist/4_topic_model/4_4_over_time/_lowess/lowess_fit_func_topic80_frac0.1.pickle'),\n",
       " PosixPath('/home/shinhan/projects/plant_sci_hist/4_topic_model/4_4_over_time/_lowess/lowess_fit_func_topic80_frac0.2.pickle'),\n",
       " PosixPath('/home/shinhan/projects/plant_sci_hist/4_topic_model/4_4_over_time/_lowess/lowess_fit_func_topic80_frac0.3.pickle'),\n",
       " PosixPath('/home/shinhan/projects/plant_sci_hist/4_topic_model/4_4_over_time/_lowess/lowess_fit_func_topic81_frac0.1.pickle'),\n",
       " PosixPath('/home/shinhan/projects/plant_sci_hist/4_topic_model/4_4_over_time/_lowess/lowess_fit_func_topic81_frac0.2.pickle'),\n",
       " PosixPath('/home/shinhan/projects/plant_sci_hist/4_topic_model/4_4_over_time/_lowess/lowess_fit_func_topic81_frac0.3.pickle'),\n",
       " PosixPath('/home/shinhan/projects/plant_sci_hist/4_topic_model/4_4_over_time/_lowess/lowess_fit_func_topic82_frac0.1.pickle'),\n",
       " PosixPath('/home/shinhan/projects/plant_sci_hist/4_topic_model/4_4_over_time/_lowess/lowess_fit_func_topic82_frac0.2.pickle'),\n",
       " PosixPath('/home/shinhan/projects/plant_sci_hist/4_topic_model/4_4_over_time/_lowess/lowess_fit_func_topic82_frac0.3.pickle'),\n",
       " PosixPath('/home/shinhan/projects/plant_sci_hist/4_topic_model/4_4_over_time/_lowess/lowess_fit_func_topic83_frac0.1.pickle'),\n",
       " PosixPath('/home/shinhan/projects/plant_sci_hist/4_topic_model/4_4_over_time/_lowess/lowess_fit_func_topic83_frac0.2.pickle'),\n",
       " PosixPath('/home/shinhan/projects/plant_sci_hist/4_topic_model/4_4_over_time/_lowess/lowess_fit_func_topic83_frac0.3.pickle'),\n",
       " PosixPath('/home/shinhan/projects/plant_sci_hist/4_topic_model/4_4_over_time/_lowess/lowess_fit_func_topic84_frac0.1.pickle'),\n",
       " PosixPath('/home/shinhan/projects/plant_sci_hist/4_topic_model/4_4_over_time/_lowess/lowess_fit_func_topic84_frac0.2.pickle'),\n",
       " PosixPath('/home/shinhan/projects/plant_sci_hist/4_topic_model/4_4_over_time/_lowess/lowess_fit_func_topic84_frac0.3.pickle'),\n",
       " PosixPath('/home/shinhan/projects/plant_sci_hist/4_topic_model/4_4_over_time/_lowess/lowess_fit_func_topic85_frac0.1.pickle'),\n",
       " PosixPath('/home/shinhan/projects/plant_sci_hist/4_topic_model/4_4_over_time/_lowess/lowess_fit_func_topic85_frac0.2.pickle'),\n",
       " PosixPath('/home/shinhan/projects/plant_sci_hist/4_topic_model/4_4_over_time/_lowess/lowess_fit_func_topic85_frac0.3.pickle'),\n",
       " PosixPath('/home/shinhan/projects/plant_sci_hist/4_topic_model/4_4_over_time/_lowess/lowess_fit_func_topic86_frac0.1.pickle'),\n",
       " PosixPath('/home/shinhan/projects/plant_sci_hist/4_topic_model/4_4_over_time/_lowess/lowess_fit_func_topic86_frac0.2.pickle'),\n",
       " PosixPath('/home/shinhan/projects/plant_sci_hist/4_topic_model/4_4_over_time/_lowess/lowess_fit_func_topic86_frac0.3.pickle'),\n",
       " PosixPath('/home/shinhan/projects/plant_sci_hist/4_topic_model/4_4_over_time/_lowess/lowess_fit_func_topic87_frac0.1.pickle'),\n",
       " PosixPath('/home/shinhan/projects/plant_sci_hist/4_topic_model/4_4_over_time/_lowess/lowess_fit_func_topic87_frac0.2.pickle'),\n",
       " PosixPath('/home/shinhan/projects/plant_sci_hist/4_topic_model/4_4_over_time/_lowess/lowess_fit_func_topic87_frac0.3.pickle'),\n",
       " PosixPath('/home/shinhan/projects/plant_sci_hist/4_topic_model/4_4_over_time/_lowess/lowess_fit_func_topic88_frac0.1.pickle'),\n",
       " PosixPath('/home/shinhan/projects/plant_sci_hist/4_topic_model/4_4_over_time/_lowess/lowess_fit_func_topic88_frac0.2.pickle'),\n",
       " PosixPath('/home/shinhan/projects/plant_sci_hist/4_topic_model/4_4_over_time/_lowess/lowess_fit_func_topic88_frac0.3.pickle'),\n",
       " PosixPath('/home/shinhan/projects/plant_sci_hist/4_topic_model/4_4_over_time/_lowess/lowess_fit_func_topic89_frac0.1.pickle'),\n",
       " PosixPath('/home/shinhan/projects/plant_sci_hist/4_topic_model/4_4_over_time/_lowess/lowess_fit_func_topic89_frac0.2.pickle'),\n",
       " PosixPath('/home/shinhan/projects/plant_sci_hist/4_topic_model/4_4_over_time/_lowess/lowess_fit_func_topic89_frac0.3.pickle'),\n",
       " PosixPath('/home/shinhan/projects/plant_sci_hist/4_topic_model/4_4_over_time/_lowess/lowess_fit_func_topic8_frac0.1.pickle'),\n",
       " PosixPath('/home/shinhan/projects/plant_sci_hist/4_topic_model/4_4_over_time/_lowess/lowess_fit_func_topic8_frac0.2.pickle'),\n",
       " PosixPath('/home/shinhan/projects/plant_sci_hist/4_topic_model/4_4_over_time/_lowess/lowess_fit_func_topic8_frac0.3.pickle'),\n",
       " PosixPath('/home/shinhan/projects/plant_sci_hist/4_topic_model/4_4_over_time/_lowess/lowess_fit_func_topic9_frac0.1.pickle'),\n",
       " PosixPath('/home/shinhan/projects/plant_sci_hist/4_topic_model/4_4_over_time/_lowess/lowess_fit_func_topic9_frac0.2.pickle'),\n",
       " PosixPath('/home/shinhan/projects/plant_sci_hist/4_topic_model/4_4_over_time/_lowess/lowess_fit_func_topic9_frac0.3.pickle')]"
      ]
     },
     "execution_count": 5,
     "metadata": {},
     "output_type": "execute_result"
    }
   ],
   "source": [
    "# Get lowess pickles\n",
    "lowess_pickles = list(dir_lowess.glob('**/*.pickle'))\n",
    "lowess_pickles"
   ]
  },
  {
   "cell_type": "markdown",
   "metadata": {},
   "source": [
    "### Get derivatives"
   ]
  },
  {
   "cell_type": "code",
   "execution_count": 15,
   "metadata": {},
   "outputs": [],
   "source": [
    "# derivative(f, x0, dx) = (f(x0+dx) - f(x0-dx)) / (2 * dx)\n",
    "# dx is set to 1 week = 7*24*60*60 seconds\n",
    "dx = 7*24*60*60 \n",
    "\n",
    "# Create {topic: {frac_param: {year: slope}}} for record-keeping\n",
    "toc_slopes = {}\n",
    "\n",
    "# {frac: topic: {year: slope}}\n",
    "fp_slopes = {} \n",
    "\n",
    "# Create {year: {frac_param: [slopes]}} to detect shifts\n",
    "yr_slopes = {}\n",
    "\n",
    "# For each topic\n",
    "for pkl in lowess_pickles:\n",
    "  # file name: lowess_fit_func_topicX_fracX.X.pickle\n",
    "  f_name = str(pkl).split(\"/\")[-1]\n",
    "  # get topic index\n",
    "  topic = f_name.split(\"_\")[3][5:]\n",
    "  # get fraction parameter\n",
    "  frac = f_name.split(\"_\")[4].split(\".pickle\")[0][4:]\n",
    "\n",
    "  # skip outlier\n",
    "  if topic == '-1':\n",
    "    continue\n",
    "\n",
    "  if topic not in toc_slopes:\n",
    "    toc_slopes[topic] = {frac: {}}\n",
    "  else:\n",
    "    toc_slopes[topic][frac] = {}\n",
    "\n",
    "  if frac not in fp_slopes:\n",
    "    fp_slopes[frac] = {topic: {}}\n",
    "  else:\n",
    "    fp_slopes[frac][topic] = {}\n",
    "\n",
    "  # Checked and confirmed that the topic and frac are correct\n",
    "  #print(f_name, topic, frac)\n",
    "\n",
    "  # read lowess fit\n",
    "  with open(pkl, 'rb') as f:\n",
    "    lowess_fit = pickle.load(f)\n",
    "\n",
    "\n",
    "  # Start from 1978 to 2020, do it every year\n",
    "  for yr in range(1978, 2021):\n",
    "    x0 = datetime(yr, 1, 1).timestamp()\n",
    "    # Slope very small because the scale for x is very large compare to y\n",
    "    slope =  derivative(lowess_fit, x0, dx)\n",
    "\n",
    "    toc_slopes[topic][frac][yr] = slope\n",
    "    fp_slopes[frac][topic][yr]  = slope\n",
    "\n",
    "    if yr not in yr_slopes:\n",
    "      yr_slopes[yr] = {frac: [slope]}\n",
    "    elif frac not in yr_slopes[yr]:\n",
    "      yr_slopes[yr][frac] = [slope]\n",
    "    else:\n",
    "      yr_slopes[yr][frac].append(slope)"
   ]
  },
  {
   "cell_type": "code",
   "execution_count": 16,
   "metadata": {},
   "outputs": [],
   "source": [
    "# Save toc_slopes and year_slopes as pickles\n",
    "with open(work_dir / 'dict_toc_frac_year_lowess_slopes.pkl', 'wb') as f:\n",
    "  pickle.dump(toc_slopes, f)\n",
    "\n",
    "# Save toc_slopes and year_slopes as pickles\n",
    "with open(work_dir / 'dict_frac_toc_year_lowess_slopes.pkl', 'wb') as f:\n",
    "  pickle.dump(fp_slopes, f)\n",
    "\n",
    "with open(work_dir / 'dict_year_frac_lowess_slopes.pkl', 'wb') as f:\n",
    "  pickle.dump(yr_slopes, f)"
   ]
  },
  {
   "cell_type": "markdown",
   "metadata": {},
   "source": [
    "### df_slope_sum output dataframe"
   ]
  },
  {
   "cell_type": "code",
   "execution_count": 17,
   "metadata": {},
   "outputs": [],
   "source": [
    "# Create a dataframe with yr_slope_sum, 7 columns:\n",
    "#  year\n",
    "#  frac_param_0.1_positive\n",
    "#  frac_param_0.2_positive\n",
    "#  frac_param_0.3_positive\n",
    "#  frac_param_0.1_negative\n",
    "#  frac_param_0.2_negative\n",
    "#  frac_param_0.3_negative\n",
    "# yr_slope_sum = {year: {frac_param: sum_of_slopes_over_all_topics}}\n",
    "\n",
    "years = range(1978, 2021)\n",
    "\n",
    "# List of lists\n",
    "# [fc01_pos, fc01_neg, fc02_pos, fc02_neg, fc03_pos, fc03_neg]\n",
    "fc_slopes = [[], [], [], [], [], []]\n",
    "\n",
    "# frac_param correspond to fc_slope indices\n",
    "fc_idx = {\"0.1\":[0,1], \"0.2\":[2,3], \"0.3\":[4,5]}\n",
    "for yr in years:\n",
    "  for fc in fc_idx:\n",
    "    # yr_slope_sum = {year: {frac_param: [slopes]}}\n",
    "\n",
    "    # positive and negative slope sums\n",
    "    sum_p = sum_n = 0\n",
    "    for slope in yr_slopes[yr][fc]:\n",
    "      if slope > 0:\n",
    "        sum_p += slope\n",
    "      elif slope < 0:\n",
    "        sum_n += slope\n",
    "\n",
    "    # Averaged slopes for positive and negative \n",
    "    avg_p = sum_p / len(yr_slopes[yr][fc])\n",
    "    avg_n = sum_n / len(yr_slopes[yr][fc])\n",
    "\n",
    "    # append to fc_slopes\n",
    "    fc_slopes[fc_idx[fc][0]].append(avg_p)\n",
    "    fc_slopes[fc_idx[fc][1]].append(avg_n)\n",
    "\n",
    "# Construct dataframe with averaged slopes\n",
    "df_slope_sum = pd.DataFrame({'Year': years, \n",
    "                             'frac0.1_pos': fc_slopes[0], \n",
    "                             'frac0.1_neg': fc_slopes[1],\n",
    "                             'frac0.2_pos': fc_slopes[2],\n",
    "                             'frac0.2_neg': fc_slopes[3],\n",
    "                             'frac0.3_pos': fc_slopes[4],\n",
    "                             'frac0.3_neg': fc_slopes[5],})"
   ]
  },
  {
   "cell_type": "code",
   "execution_count": 18,
   "metadata": {},
   "outputs": [
    {
     "data": {
      "text/html": [
       "<div>\n",
       "<style scoped>\n",
       "    .dataframe tbody tr th:only-of-type {\n",
       "        vertical-align: middle;\n",
       "    }\n",
       "\n",
       "    .dataframe tbody tr th {\n",
       "        vertical-align: top;\n",
       "    }\n",
       "\n",
       "    .dataframe thead th {\n",
       "        text-align: right;\n",
       "    }\n",
       "</style>\n",
       "<table border=\"1\" class=\"dataframe\">\n",
       "  <thead>\n",
       "    <tr style=\"text-align: right;\">\n",
       "      <th></th>\n",
       "      <th>Year</th>\n",
       "      <th>frac0.1_pos</th>\n",
       "      <th>frac0.1_neg</th>\n",
       "      <th>frac0.2_pos</th>\n",
       "      <th>frac0.2_neg</th>\n",
       "      <th>frac0.3_pos</th>\n",
       "      <th>frac0.3_neg</th>\n",
       "    </tr>\n",
       "  </thead>\n",
       "  <tbody>\n",
       "    <tr>\n",
       "      <th>0</th>\n",
       "      <td>1978</td>\n",
       "      <td>9.356335e-08</td>\n",
       "      <td>-8.039445e-08</td>\n",
       "      <td>6.535173e-08</td>\n",
       "      <td>-7.513764e-08</td>\n",
       "      <td>5.342795e-08</td>\n",
       "      <td>-6.948371e-08</td>\n",
       "    </tr>\n",
       "    <tr>\n",
       "      <th>1</th>\n",
       "      <td>1979</td>\n",
       "      <td>9.356335e-08</td>\n",
       "      <td>-8.039445e-08</td>\n",
       "      <td>6.535173e-08</td>\n",
       "      <td>-7.513764e-08</td>\n",
       "      <td>5.342795e-08</td>\n",
       "      <td>-6.948371e-08</td>\n",
       "    </tr>\n",
       "    <tr>\n",
       "      <th>2</th>\n",
       "      <td>1980</td>\n",
       "      <td>9.356335e-08</td>\n",
       "      <td>-8.039445e-08</td>\n",
       "      <td>6.535173e-08</td>\n",
       "      <td>-7.513764e-08</td>\n",
       "      <td>5.342795e-08</td>\n",
       "      <td>-6.948371e-08</td>\n",
       "    </tr>\n",
       "    <tr>\n",
       "      <th>3</th>\n",
       "      <td>1981</td>\n",
       "      <td>9.356335e-08</td>\n",
       "      <td>-8.039445e-08</td>\n",
       "      <td>6.535173e-08</td>\n",
       "      <td>-7.513764e-08</td>\n",
       "      <td>5.342795e-08</td>\n",
       "      <td>-6.948371e-08</td>\n",
       "    </tr>\n",
       "    <tr>\n",
       "      <th>4</th>\n",
       "      <td>1982</td>\n",
       "      <td>9.356335e-08</td>\n",
       "      <td>-8.039445e-08</td>\n",
       "      <td>6.535173e-08</td>\n",
       "      <td>-7.513764e-08</td>\n",
       "      <td>5.342795e-08</td>\n",
       "      <td>-6.948371e-08</td>\n",
       "    </tr>\n",
       "    <tr>\n",
       "      <th>5</th>\n",
       "      <td>1983</td>\n",
       "      <td>9.356335e-08</td>\n",
       "      <td>-8.039445e-08</td>\n",
       "      <td>6.535173e-08</td>\n",
       "      <td>-7.513764e-08</td>\n",
       "      <td>5.342795e-08</td>\n",
       "      <td>-6.948371e-08</td>\n",
       "    </tr>\n",
       "    <tr>\n",
       "      <th>6</th>\n",
       "      <td>1984</td>\n",
       "      <td>8.384174e-08</td>\n",
       "      <td>-8.214646e-08</td>\n",
       "      <td>6.608958e-08</td>\n",
       "      <td>-7.480198e-08</td>\n",
       "      <td>5.390692e-08</td>\n",
       "      <td>-6.909858e-08</td>\n",
       "    </tr>\n",
       "    <tr>\n",
       "      <th>7</th>\n",
       "      <td>1985</td>\n",
       "      <td>8.384174e-08</td>\n",
       "      <td>-8.214646e-08</td>\n",
       "      <td>6.608958e-08</td>\n",
       "      <td>-7.480198e-08</td>\n",
       "      <td>5.390692e-08</td>\n",
       "      <td>-6.909858e-08</td>\n",
       "    </tr>\n",
       "    <tr>\n",
       "      <th>8</th>\n",
       "      <td>1986</td>\n",
       "      <td>8.384174e-08</td>\n",
       "      <td>-8.214646e-08</td>\n",
       "      <td>6.608958e-08</td>\n",
       "      <td>-7.480198e-08</td>\n",
       "      <td>5.390692e-08</td>\n",
       "      <td>-6.909858e-08</td>\n",
       "    </tr>\n",
       "    <tr>\n",
       "      <th>9</th>\n",
       "      <td>1987</td>\n",
       "      <td>8.384174e-08</td>\n",
       "      <td>-8.214646e-08</td>\n",
       "      <td>6.608958e-08</td>\n",
       "      <td>-7.480198e-08</td>\n",
       "      <td>5.390692e-08</td>\n",
       "      <td>-6.909858e-08</td>\n",
       "    </tr>\n",
       "  </tbody>\n",
       "</table>\n",
       "</div>"
      ],
      "text/plain": [
       "   Year   frac0.1_pos   frac0.1_neg   frac0.2_pos   frac0.2_neg   frac0.3_pos  \\\n",
       "0  1978  9.356335e-08 -8.039445e-08  6.535173e-08 -7.513764e-08  5.342795e-08   \n",
       "1  1979  9.356335e-08 -8.039445e-08  6.535173e-08 -7.513764e-08  5.342795e-08   \n",
       "2  1980  9.356335e-08 -8.039445e-08  6.535173e-08 -7.513764e-08  5.342795e-08   \n",
       "3  1981  9.356335e-08 -8.039445e-08  6.535173e-08 -7.513764e-08  5.342795e-08   \n",
       "4  1982  9.356335e-08 -8.039445e-08  6.535173e-08 -7.513764e-08  5.342795e-08   \n",
       "5  1983  9.356335e-08 -8.039445e-08  6.535173e-08 -7.513764e-08  5.342795e-08   \n",
       "6  1984  8.384174e-08 -8.214646e-08  6.608958e-08 -7.480198e-08  5.390692e-08   \n",
       "7  1985  8.384174e-08 -8.214646e-08  6.608958e-08 -7.480198e-08  5.390692e-08   \n",
       "8  1986  8.384174e-08 -8.214646e-08  6.608958e-08 -7.480198e-08  5.390692e-08   \n",
       "9  1987  8.384174e-08 -8.214646e-08  6.608958e-08 -7.480198e-08  5.390692e-08   \n",
       "\n",
       "    frac0.3_neg  \n",
       "0 -6.948371e-08  \n",
       "1 -6.948371e-08  \n",
       "2 -6.948371e-08  \n",
       "3 -6.948371e-08  \n",
       "4 -6.948371e-08  \n",
       "5 -6.948371e-08  \n",
       "6 -6.909858e-08  \n",
       "7 -6.909858e-08  \n",
       "8 -6.909858e-08  \n",
       "9 -6.909858e-08  "
      ]
     },
     "execution_count": 18,
     "metadata": {},
     "output_type": "execute_result"
    }
   ],
   "source": [
    "df_slope_sum.head(10)"
   ]
  },
  {
   "cell_type": "code",
   "execution_count": 20,
   "metadata": {},
   "outputs": [],
   "source": [
    "df_slope_sum.to_csv(work_dir / 'table_year_frac_slope_sum.csv', index=False)"
   ]
  },
  {
   "cell_type": "markdown",
   "metadata": {},
   "source": [
    "### fp_slopes dataframes to excel\n",
    "\n",
    "fp_slopes = {frac_param: {topic: {year: slope}}}"
   ]
  },
  {
   "cell_type": "code",
   "execution_count": 24,
   "metadata": {},
   "outputs": [],
   "source": [
    "df_fp01 = pd.DataFrame(fp_slopes[\"0.1\"])\n",
    "df_fp03 = pd.DataFrame(fp_slopes[\"0.2\"])\n",
    "df_fp02 = pd.DataFrame(fp_slopes[\"0.3\"])\n",
    "\n",
    "with pd.ExcelWriter(work_dir / 'table_fp_topic_year_slope.xlsx') as writer:  \n",
    "    df_fp01.to_excel(writer, sheet_name='Frac_param_0.1')\n",
    "    df_fp02.to_excel(writer, sheet_name='Frac_param_0.2')\n",
    "    df_fp02.to_excel(writer, sheet_name='Frac_param_0.3')"
   ]
  },
  {
   "cell_type": "markdown",
   "metadata": {},
   "source": [
    "## ___Arabidopsis and country___"
   ]
  },
  {
   "cell_type": "markdown",
   "metadata": {},
   "source": [
    "### Count number of Arabidopsis records from each country\n",
    "\n",
    "- Species info: section 6\n",
    "- Country info: section 7"
   ]
  },
  {
   "cell_type": "code",
   "execution_count": 83,
   "metadata": {},
   "outputs": [
    {
     "name": "stdout",
     "output_type": "stream",
     "text": [
      "(50346, 12)\n"
     ]
    },
    {
     "data": {
      "text/html": [
       "<div>\n",
       "<style scoped>\n",
       "    .dataframe tbody tr th:only-of-type {\n",
       "        vertical-align: middle;\n",
       "    }\n",
       "\n",
       "    .dataframe tbody tr th {\n",
       "        vertical-align: top;\n",
       "    }\n",
       "\n",
       "    .dataframe thead th {\n",
       "        text-align: right;\n",
       "    }\n",
       "</style>\n",
       "<table border=\"1\" class=\"dataframe\">\n",
       "  <thead>\n",
       "    <tr style=\"text-align: right;\">\n",
       "      <th></th>\n",
       "      <th>Unnamed: 0.1</th>\n",
       "      <th>Unnamed: 0</th>\n",
       "      <th>PMID</th>\n",
       "      <th>Date</th>\n",
       "      <th>Journal</th>\n",
       "      <th>Title</th>\n",
       "      <th>Abstract</th>\n",
       "      <th>QualifiedName</th>\n",
       "      <th>txt</th>\n",
       "      <th>reg_article</th>\n",
       "      <th>y_prob</th>\n",
       "      <th>y_pred</th>\n",
       "    </tr>\n",
       "  </thead>\n",
       "  <tbody>\n",
       "    <tr>\n",
       "      <th>0</th>\n",
       "      <td>994</td>\n",
       "      <td>9276</td>\n",
       "      <td>367771</td>\n",
       "      <td>1978-12-01</td>\n",
       "      <td>Environmental health perspectives</td>\n",
       "      <td>Somatic mosaicism in plants with special refer...</td>\n",
       "      <td>Plant systems in use for the detection of envi...</td>\n",
       "      <td>plants</td>\n",
       "      <td>Somatic mosaicism in plants with special refer...</td>\n",
       "      <td>1</td>\n",
       "      <td>0.718373</td>\n",
       "      <td>1</td>\n",
       "    </tr>\n",
       "  </tbody>\n",
       "</table>\n",
       "</div>"
      ],
      "text/plain": [
       "   Unnamed: 0.1  Unnamed: 0    PMID        Date  \\\n",
       "0           994        9276  367771  1978-12-01   \n",
       "\n",
       "                             Journal  \\\n",
       "0  Environmental health perspectives   \n",
       "\n",
       "                                               Title  \\\n",
       "0  Somatic mosaicism in plants with special refer...   \n",
       "\n",
       "                                            Abstract QualifiedName  \\\n",
       "0  Plant systems in use for the detection of envi...        plants   \n",
       "\n",
       "                                                 txt  reg_article    y_prob  \\\n",
       "0  Somatic mosaicism in plants with special refer...            1  0.718373   \n",
       "\n",
       "   y_pred  \n",
       "0       1  "
      ]
     },
     "execution_count": 83,
     "metadata": {},
     "output_type": "execute_result"
    }
   ],
   "source": [
    "corpus_arabi = pd.read_csv(corpus_target_file, sep='\\t', compression='gzip')\n",
    "print(corpus_arabi.shape)\n",
    "corpus_arabi.head(1)"
   ]
  },
  {
   "cell_type": "code",
   "execution_count": 84,
   "metadata": {},
   "outputs": [
    {
     "name": "stdout",
     "output_type": "stream",
     "text": [
      "(330328, 6)\n"
     ]
    },
    {
     "data": {
      "text/html": [
       "<div>\n",
       "<style scoped>\n",
       "    .dataframe tbody tr th:only-of-type {\n",
       "        vertical-align: middle;\n",
       "    }\n",
       "\n",
       "    .dataframe tbody tr th {\n",
       "        vertical-align: top;\n",
       "    }\n",
       "\n",
       "    .dataframe thead th {\n",
       "        text-align: right;\n",
       "    }\n",
       "</style>\n",
       "<table border=\"1\" class=\"dataframe\">\n",
       "  <thead>\n",
       "    <tr style=\"text-align: right;\">\n",
       "      <th></th>\n",
       "      <th>PMID</th>\n",
       "      <th>A3</th>\n",
       "      <th>Confidence</th>\n",
       "      <th>Date</th>\n",
       "      <th>Topic</th>\n",
       "      <th>Year</th>\n",
       "    </tr>\n",
       "  </thead>\n",
       "  <tbody>\n",
       "    <tr>\n",
       "      <th>0</th>\n",
       "      <td>400957</td>\n",
       "      <td>CAN</td>\n",
       "      <td>3</td>\n",
       "      <td>1978-01-01</td>\n",
       "      <td>50</td>\n",
       "      <td>1978</td>\n",
       "    </tr>\n",
       "    <tr>\n",
       "      <th>1</th>\n",
       "      <td>1279107</td>\n",
       "      <td>FRA</td>\n",
       "      <td>3</td>\n",
       "      <td>1992-11-01</td>\n",
       "      <td>12</td>\n",
       "      <td>1992</td>\n",
       "    </tr>\n",
       "  </tbody>\n",
       "</table>\n",
       "</div>"
      ],
      "text/plain": [
       "      PMID   A3  Confidence        Date  Topic  Year\n",
       "0   400957  CAN           3  1978-01-01     50  1978\n",
       "1  1279107  FRA           3  1992-11-01     12  1992"
      ]
     },
     "execution_count": 84,
     "metadata": {},
     "output_type": "execute_result"
    }
   ],
   "source": [
    "ci_pmid_topic = pd.read_csv(ci_file, sep='\\t')\n",
    "print(ci_pmid_topic.shape)\n",
    "ci_pmid_topic.head(2)"
   ]
  },
  {
   "cell_type": "code",
   "execution_count": 85,
   "metadata": {},
   "outputs": [
    {
     "name": "stderr",
     "output_type": "stream",
     "text": [
      "100%|██████████| 330328/330328 [00:07<00:00, 42476.45it/s]\n"
     ]
    }
   ],
   "source": [
    "# Construct a boolean list asking if a PMID in ci_pmid_topic is in corpus_arabi\n",
    "pmid_arabi   = corpus_arabi['PMID'].values\n",
    "pmid_country = ci_pmid_topic['PMID'].values\n",
    "\n",
    "in_arabi = []\n",
    "for pmid in tqdm(pmid_country):\n",
    "  if pmid in pmid_arabi:\n",
    "    in_arabi.append(True)\n",
    "  else:\n",
    "    in_arabi.append(False)\n"
   ]
  },
  {
   "cell_type": "code",
   "execution_count": 112,
   "metadata": {},
   "outputs": [
    {
     "data": {
      "text/plain": [
       "(42971, 6)"
      ]
     },
     "execution_count": 112,
     "metadata": {},
     "output_type": "execute_result"
    }
   ],
   "source": [
    "# Get the rows based on the boolean list\n",
    "#https://stackoverflow.com/questions/37362984/select-from-pandas-dataframe-using-boolean-series-array\n",
    "\n",
    "cpt_arabi = ci_pmid_topic[in_arabi]\n",
    "cpt_arabi.shape"
   ]
  },
  {
   "cell_type": "code",
   "execution_count": 113,
   "metadata": {},
   "outputs": [],
   "source": [
    "arabi_a3 = cpt_arabi.A3.values\n",
    "d_arabi_a3 = {} # {a3: count}\n",
    "for a3 in arabi_a3:\n",
    "  if a3 not in d_arabi_a3:\n",
    "    d_arabi_a3[a3] = 1\n",
    "  else:\n",
    "    d_arabi_a3[a3] += 1"
   ]
  },
  {
   "cell_type": "code",
   "execution_count": 114,
   "metadata": {},
   "outputs": [
    {
     "data": {
      "text/plain": [
       "0.21053733913569617"
      ]
     },
     "execution_count": 114,
     "metadata": {},
     "output_type": "execute_result"
    }
   ],
   "source": [
    "# Get % US pub\n",
    "d_arabi_a3['USA']/cpt_arabi.shape[0]"
   ]
  },
  {
   "cell_type": "code",
   "execution_count": 166,
   "metadata": {},
   "outputs": [],
   "source": [
    "count_df = pd.DataFrame({'A3': d_arabi_a3.keys(), \n",
    "                         'Num_pub_arabi': d_arabi_a3.values()})\n",
    "count_df.to_csv(work_dir / 'table_country_num_pub_arabi.csv', index=False)"
   ]
  },
  {
   "cell_type": "code",
   "execution_count": 169,
   "metadata": {},
   "outputs": [
    {
     "data": {
      "text/html": [
       "<div>\n",
       "<style scoped>\n",
       "    .dataframe tbody tr th:only-of-type {\n",
       "        vertical-align: middle;\n",
       "    }\n",
       "\n",
       "    .dataframe tbody tr th {\n",
       "        vertical-align: top;\n",
       "    }\n",
       "\n",
       "    .dataframe thead th {\n",
       "        text-align: right;\n",
       "    }\n",
       "</style>\n",
       "<table border=\"1\" class=\"dataframe\">\n",
       "  <thead>\n",
       "    <tr style=\"text-align: right;\">\n",
       "      <th></th>\n",
       "      <th>A3</th>\n",
       "      <th>Num_pub_arabi</th>\n",
       "    </tr>\n",
       "  </thead>\n",
       "  <tbody>\n",
       "    <tr>\n",
       "      <th>0</th>\n",
       "      <td>CHE</td>\n",
       "      <td>729</td>\n",
       "    </tr>\n",
       "    <tr>\n",
       "      <th>1</th>\n",
       "      <td>FRA</td>\n",
       "      <td>2517</td>\n",
       "    </tr>\n",
       "  </tbody>\n",
       "</table>\n",
       "</div>"
      ],
      "text/plain": [
       "    A3  Num_pub_arabi\n",
       "0  CHE            729\n",
       "1  FRA           2517"
      ]
     },
     "execution_count": 169,
     "metadata": {},
     "output_type": "execute_result"
    }
   ],
   "source": [
    "count_df.head(2)"
   ]
  },
  {
   "cell_type": "markdown",
   "metadata": {},
   "source": [
    "### Get time bins"
   ]
  },
  {
   "cell_type": "code",
   "execution_count": null,
   "metadata": {},
   "outputs": [
    {
     "data": {
      "text/html": [
       "<div>\n",
       "<style scoped>\n",
       "    .dataframe tbody tr th:only-of-type {\n",
       "        vertical-align: middle;\n",
       "    }\n",
       "\n",
       "    .dataframe tbody tr th {\n",
       "        vertical-align: top;\n",
       "    }\n",
       "\n",
       "    .dataframe thead th {\n",
       "        text-align: right;\n",
       "    }\n",
       "</style>\n",
       "<table border=\"1\" class=\"dataframe\">\n",
       "  <thead>\n",
       "    <tr style=\"text-align: right;\">\n",
       "      <th></th>\n",
       "      <th>bin_start_idx</th>\n",
       "      <th>bin_start_timestamp</th>\n",
       "      <th>bin_start_date</th>\n",
       "    </tr>\n",
       "  </thead>\n",
       "  <tbody>\n",
       "    <tr>\n",
       "      <th>0</th>\n",
       "      <td>0</td>\n",
       "      <td>-1646247600</td>\n",
       "      <td>11/1/1917 0:00</td>\n",
       "    </tr>\n",
       "    <tr>\n",
       "      <th>1</th>\n",
       "      <td>8433</td>\n",
       "      <td>250750800</td>\n",
       "      <td>12/12/1977 0:00</td>\n",
       "    </tr>\n",
       "    <tr>\n",
       "      <th>2</th>\n",
       "      <td>16866</td>\n",
       "      <td>425880000</td>\n",
       "      <td>7/1/1983 0:00</td>\n",
       "    </tr>\n",
       "    <tr>\n",
       "      <th>3</th>\n",
       "      <td>25299</td>\n",
       "      <td>546840000</td>\n",
       "      <td>5/1/1987 0:00</td>\n",
       "    </tr>\n",
       "    <tr>\n",
       "      <th>4</th>\n",
       "      <td>33732</td>\n",
       "      <td>638946000</td>\n",
       "      <td>4/1/1990 0:00</td>\n",
       "    </tr>\n",
       "  </tbody>\n",
       "</table>\n",
       "</div>"
      ],
      "text/plain": [
       "   bin_start_idx  bin_start_timestamp   bin_start_date\n",
       "0              0          -1646247600   11/1/1917 0:00\n",
       "1           8433            250750800  12/12/1977 0:00\n",
       "2          16866            425880000    7/1/1983 0:00\n",
       "3          25299            546840000    5/1/1987 0:00\n",
       "4          33732            638946000    4/1/1990 0:00"
      ]
     },
     "metadata": {},
     "output_type": "display_data"
    }
   ],
   "source": [
    "# See 4.4 and 5.1\n",
    "bin_df = pd.read_csv(ts_for_bins_file, sep='\\t', index_col=0)\n",
    "# Generate binned timestamp\n",
    "bin_idx        = bin_df.bin_start_idx.values\n",
    "bin_timestamps = bin_df.bin_start_timestamp.values\n",
    "\n",
    "bin_df.head()"
   ]
  },
  {
   "cell_type": "markdown",
   "metadata": {},
   "source": [
    "### Get number at different time bins for top countries"
   ]
  },
  {
   "cell_type": "code",
   "execution_count": 187,
   "metadata": {},
   "outputs": [],
   "source": [
    "top5 = ['USA', 'CHN', 'DEU', 'JPN', 'GBR']"
   ]
  },
  {
   "cell_type": "code",
   "execution_count": 144,
   "metadata": {},
   "outputs": [],
   "source": [
    "def get_documents(corpus):\n",
    "  '''\n",
    "  Args:\n",
    "    corpus: a dataframe with PMID, date, and txt_clean of Arabidopsis papers\n",
    "      from a specific country\n",
    "  Returns:\n",
    "    documents: a dataframe with PMID, date, txt_clean, bin, and bin_left\n",
    "  '''\n",
    "  dates     = corpus.Date\n",
    "\n",
    "  # Assign new timestamps based on the bin timestamp values\n",
    "  ts_in_bins = []\n",
    "  for date in dates:\n",
    "    [yr, mo, da] = date.split('-') # year, month, day\n",
    "    dt   = datetime(int(yr), int(mo), int(da))\n",
    "    ts   = dt.timestamp()\n",
    "\n",
    "    bin_idx = bisect(bin_timestamps, ts)\n",
    "\n",
    "    if bin_idx < len(bin_timestamps):\n",
    "      ts2     = bin_timestamps[bin_idx]\n",
    "    # Deal with the last bin\n",
    "    else:\n",
    "      ts2     = datetime(2022, 12, 31).timestamp()\n",
    "    ts_in_bins.append(ts2) \n",
    "\n",
    "  timestamps = ts_in_bins\n",
    "\n",
    "  # Create a new dataframe with PMID, date, txt_clean, bin, and bin_left\n",
    "  documents = pd.DataFrame({\"PMID\": corpus['PMID'], \"Date\": corpus['Date'], \n",
    "                            \"Timestamps\":timestamps})\n",
    "  documents = documents.sort_values(\"Timestamps\")\n",
    "\n",
    "  # a list of tuples showing the bin range (+/-1 of the unique val)\n",
    "  ts_bins   = [pd.Interval(left=ts-1, right=ts+1) for ts in timestamps] \n",
    "  documents[\"Bins\"]      = ts_bins\n",
    "  documents[\"Bins_left\"] = documents.apply(lambda row: row.Bins.left, 1)\n",
    "\n",
    "  return documents"
   ]
  },
  {
   "cell_type": "code",
   "execution_count": 193,
   "metadata": {},
   "outputs": [],
   "source": [
    "def get_ts_count(corpus):\n",
    "  \"\"\"Get the count of timestamps in a dataframe\n",
    "  Args:\n",
    "    corpus (dataframe): a dataframe with a column \"Bins_left\"\n",
    "  Returns:\n",
    "    ts_count (dict): {timestamp:count}\n",
    "  \"\"\"\n",
    "  # Get timestamps and documents dataframe\n",
    "  documents = get_documents(corpus)\n",
    "  print(\"  documents:\", documents.shape)\n",
    "\n",
    "  # the beginning ts of bins of all docs\n",
    "  ts_all = documents[\"Bins_left\"] \n",
    "  \n",
    "  # {timestamp:count}\n",
    "  ts_count = {}\n",
    "  for idx, ts in enumerate(ts_all):\n",
    "    if ts not in ts_count:\n",
    "      ts_count[ts] = 1\n",
    "    else:\n",
    "      ts_count[ts]+= 1\n",
    "\n",
    "  return ts_count"
   ]
  },
  {
   "cell_type": "code",
   "execution_count": 226,
   "metadata": {},
   "outputs": [],
   "source": [
    "# Lifted from 5.1 for taxa analysis, changed for country\n",
    "def get_ts_bin_counts(topX, count_df, cpt_arabi):\n",
    "  '''Get topX country, then count the numbers of docs in each bin\n",
    "  Args:\n",
    "    topX (int): topX countries\n",
    "    count_df (DataFrame): country and number of arabi pubs\n",
    "    cpt_arabi (DataFrame): corpus dataframe\n",
    "    documents (DataFrame): PMID, Date, Timestamps, Bins, Bins_left\n",
    "  '''      \n",
    "  # Create a dict with {country:{timestamp:count}}\n",
    "  topX_ts_count = {}\n",
    "\n",
    "  # Get top X names\n",
    "  count_df_topX = count_df.nlargest(topX, 'Num_pub_arabi')\n",
    "  topX_names    = count_df_topX['A3'].tolist()\n",
    "  print(\"Top\", topX, topX_names)\n",
    "\n",
    "  # Go through the top x countries\n",
    "  for a3 in topX_names:\n",
    "    pmid   = cpt_arabi[cpt_arabi[\"A3\"] == a3][\"PMID\"].values\n",
    "    mask   = corpus_arabi[\"PMID\"].isin(pmid)\n",
    "    corpus = corpus_arabi[mask]\n",
    "    print(\"a3=\", a3, \"corpus:\",corpus.shape)\n",
    "    \n",
    "    ts_count = get_ts_count(corpus)\n",
    "    topX_ts_count[a3] = ts_count\n",
    "\n",
    "  # Also count non-TopX\n",
    "  pmid_non_topX   = cpt_arabi[~cpt_arabi[\"A3\"].isin(topX_names)][\"PMID\"].values\n",
    "  mask_non_topX   = corpus_arabi[\"PMID\"].isin(pmid_non_topX)\n",
    "  corpus_non_topX = corpus_arabi[mask_non_topX]\n",
    "  print(\"a3= non_topX, corpus:\",corpus_non_topX.shape)\n",
    "  ts_count_non_topX = get_ts_count(corpus_non_topX)\n",
    "  topX_ts_count[f\"Non_top{topX}\"] = ts_count_non_topX\n",
    "    \n",
    "  # Convert to dataframe and save as csv\n",
    "  ts_count_df   = pd.DataFrame(topX_ts_count)\n",
    "  ts_count_df.index.name = \"Timestamp\"\n",
    "\n",
    "  # Sort dataframe by timestamp\n",
    "  ts_count_df.sort_index(inplace=True)\n",
    "\n",
    "  # Change NaN to 0\n",
    "  #https://datatofish.com/replace-nan-values-with-zeros/\n",
    "  ts_count_df.fillna(0, inplace=True)\n",
    "\n",
    "  print(ts_count_df.head())\n",
    "\n",
    "  ts_count_file = work_dir / f\"table_9_arabi_ts_top{topX}_countries.txt\"\n",
    "  ts_count_df.to_csv(ts_count_file)\n",
    "\n",
    "  return ts_count_df"
   ]
  },
  {
   "cell_type": "code",
   "execution_count": 227,
   "metadata": {},
   "outputs": [
    {
     "name": "stdout",
     "output_type": "stream",
     "text": [
      "Top 5 ['USA', 'CHN', 'DEU', 'JPN', 'GBR']\n",
      "a3= USA corpus: (9048, 12)\n",
      "  documents: (9048, 5)\n",
      "a3= CHN corpus: (7983, 12)\n",
      "  documents: (7983, 5)\n",
      "a3= DEU corpus: (4236, 12)\n",
      "  documents: (4236, 5)\n",
      "a3= JPN corpus: (3960, 12)\n",
      "  documents: (3960, 5)\n",
      "a3= GBR corpus: (2530, 12)\n",
      "  documents: (2530, 5)\n",
      "a3= non_topX, corpus: (15248, 12)\n",
      "  documents: (15248, 5)\n",
      "           USA  CHN   DEU   JPN  GBR  Non_top5\n",
      "Timestamp                                     \n",
      "250750799    2  0.0   0.0   0.0  0.0         1\n",
      "425879999    3  0.0   1.0   1.0  1.0         2\n",
      "546839999    5  0.0   0.0   0.0  1.0         6\n",
      "638945999   15  0.0   3.0   3.0  3.0        24\n",
      "712641599    4  0.0  15.0  10.0  9.0        55\n"
     ]
    }
   ],
   "source": [
    "ts_count_df_top5 = get_ts_bin_counts(5, count_df, cpt_arabi)"
   ]
  },
  {
   "cell_type": "markdown",
   "metadata": {},
   "source": [
    "### Get lowess fits\n",
    "\n",
    "Function lifted from 4.4c"
   ]
  },
  {
   "cell_type": "code",
   "execution_count": 232,
   "metadata": {},
   "outputs": [],
   "source": [
    "def get_lowess(col, x, y, frac, it=3, plot=0):\n",
    "\n",
    "  lowess = sm.nonparametric.lowess\n",
    "  lowess_fit = lowess(y, x, frac=frac, it=it) \n",
    "  lowess_x   = list(zip(*lowess_fit))[0]\n",
    "  lowess_y   = list(zip(*lowess_fit))[1]\n",
    "\n",
    "  # create a function using the interp1d method\n",
    "  f     = interp1d(lowess_x, lowess_y, bounds_error=False)\n",
    "\n",
    "  #x_line = [i/10. for i in range(400)]\n",
    "  # define a sequence of inputs between the smallest and largest known inputs\n",
    "  x_line = np.arange(min(x), max(x), (max(x)-min(x))/100)\n",
    "  #x_date = [datetime.fromtimestamp(ts) for ts in lowess_x]\n",
    "  y_line = f(x_line)\n",
    "\n",
    "  # Create series\n",
    "  lowess_ser = pd.Series(lowess_y, index=lowess_x, name=col)\n",
    "\n",
    "  if plot:\n",
    "    # get 2 decimal points for mse\n",
    "    mse = \"{:.2f}\".format(mean_squared_error(y, lowess_y))\n",
    "    plt.title(f\"{col}, MSE={mse}\")\n",
    "    plt.plot(x, y, 'o')\n",
    "    plt.plot(lowess_x, lowess_y, '*')\n",
    "    plt.plot(x_line, y_line, '-')\n",
    "    plt.ylim([0, max([max(y), max(lowess_y)])])\n",
    "    plt.savefig(work_dir / f'figure_9_lowess_{col}_frac{frac}.pdf')\n",
    "    plt.close()\n",
    "    \n",
    "  return lowess_ser "
   ]
  },
  {
   "cell_type": "code",
   "execution_count": 234,
   "metadata": {},
   "outputs": [],
   "source": [
    "# Add a total column to ts_count_df_top5\n",
    "ts_sum = ts_count_df_top5.sum(axis=1)\n",
    "ts_count_df_top5['Total_wcountryinfo'] = ts_sum"
   ]
  },
  {
   "cell_type": "code",
   "execution_count": 235,
   "metadata": {},
   "outputs": [],
   "source": [
    "# Add another total column based on ALL Arabidopsis pubs, the above is only for\n",
    "# the ones that have country info\n",
    "genus_count = pd.read_csv(genus_count_file, sep='\\t', index_col=0)\n",
    "\n",
    "ts_count_df_top5[\"Total\"] = genus_count[\"Arabidopsis\"]"
   ]
  },
  {
   "cell_type": "code",
   "execution_count": 237,
   "metadata": {},
   "outputs": [
    {
     "name": "stdout",
     "output_type": "stream",
     "text": [
      "USA 949726799.0\n",
      "CHN 1574053199.0\n",
      "DEU 1316145599.0\n",
      "JPN 1245729599.0\n",
      "GBR 986961599.0\n",
      "Non_top5 1300161599.0\n",
      "Total_wcountryinfo 1316145599.0\n",
      "Total 1316145599.0\n"
     ]
    }
   ],
   "source": [
    "max_y_idxs      = [] # indices (x, timestamps) with max y\n",
    "lowess_ser_list = [] # list of lowess-fitted series for different columns\n",
    "colnames        = ts_count_df_top5.columns\n",
    "timestamps_idx  = ts_count_df_top5.index\n",
    "\n",
    "for col in colnames:\n",
    "  # series for the col, timestamps as indices, frequencies as row\n",
    "  col_series = ts_count_df_top5[col]\n",
    "  x          = timestamps_idx    # timestamps\n",
    "  y          = col_series.values # frequencies\n",
    "\n",
    "  # series after lowess smoothing\n",
    "  lowess_ser = get_lowess(col, x, y, 0.1, 3, plot=1)\n",
    "\n",
    "  max_y_idx  = lowess_ser.idxmax()\n",
    "  max_y_idxs.append(max_y_idx)\n",
    "  lowess_ser_list.append(lowess_ser)\n",
    "  print(col, max_y_idx)"
   ]
  },
  {
   "cell_type": "markdown",
   "metadata": {},
   "source": [
    "## ___Z-test of median cosine similarities between topics___\n",
    "\n",
    "To determine Z-test p-values of median cosine similarity of each topic against all topics.\n",
    "- Data in fig4_3b_topic_cosine_sim_median.txt"
   ]
  },
  {
   "cell_type": "code",
   "execution_count": 13,
   "metadata": {},
   "outputs": [
    {
     "data": {
      "text/html": [
       "<div>\n",
       "<style scoped>\n",
       "    .dataframe tbody tr th:only-of-type {\n",
       "        vertical-align: middle;\n",
       "    }\n",
       "\n",
       "    .dataframe tbody tr th {\n",
       "        vertical-align: top;\n",
       "    }\n",
       "\n",
       "    .dataframe thead th {\n",
       "        text-align: right;\n",
       "    }\n",
       "</style>\n",
       "<table border=\"1\" class=\"dataframe\">\n",
       "  <thead>\n",
       "    <tr style=\"text-align: right;\">\n",
       "      <th></th>\n",
       "      <th>Topic</th>\n",
       "      <th>Median</th>\n",
       "    </tr>\n",
       "  </thead>\n",
       "  <tbody>\n",
       "    <tr>\n",
       "      <th>0</th>\n",
       "      <td>0: allergen | pollen | ige | allergenic</td>\n",
       "      <td>0.115677</td>\n",
       "    </tr>\n",
       "    <tr>\n",
       "      <th>1</th>\n",
       "      <td>1: medium | callus | regeneration | culture | ...</td>\n",
       "      <td>0.149968</td>\n",
       "    </tr>\n",
       "  </tbody>\n",
       "</table>\n",
       "</div>"
      ],
      "text/plain": [
       "                                               Topic    Median\n",
       "0            0: allergen | pollen | ige | allergenic  0.115677\n",
       "1  1: medium | callus | regeneration | culture | ...  0.149968"
      ]
     },
     "execution_count": 13,
     "metadata": {},
     "output_type": "execute_result"
    }
   ],
   "source": [
    "toc_cs_med_file = dir43 / \"fig4_3b_topic_cosine_sim_median.txt\"\n",
    "toc_cs_med = pd.read_csv(toc_cs_med_file, sep='\\t')\n",
    "toc_cs_med.columns = [\"Topic\", \"Median\"]\n",
    "toc_cs_med.head(2)"
   ]
  },
  {
   "cell_type": "code",
   "execution_count": 20,
   "metadata": {},
   "outputs": [
    {
     "data": {
      "text/plain": [
       "0.240054153429972"
      ]
     },
     "execution_count": 20,
     "metadata": {},
     "output_type": "execute_result"
    }
   ],
   "source": [
    "# median cosine similarity values\n",
    "mcs_vals  = toc_cs_med[\"Median\"].values\n",
    "# mean of mcs\n",
    "mcs_mean = np.mean(vals)\n",
    "mcs_mean"
   ]
  },
  {
   "cell_type": "code",
   "execution_count": 25,
   "metadata": {},
   "outputs": [],
   "source": [
    "stats = []\n",
    "pvals  = []\n",
    "for val in vals:\n",
    "  results = ttest_1samp(mcs_vals, popmean=val)\n",
    "  stats.append(results.statistic)\n",
    "  pvals.append(results.pvalue)"
   ]
  },
  {
   "cell_type": "code",
   "execution_count": 26,
   "metadata": {},
   "outputs": [
    {
     "data": {
      "text/html": [
       "<div>\n",
       "<style scoped>\n",
       "    .dataframe tbody tr th:only-of-type {\n",
       "        vertical-align: middle;\n",
       "    }\n",
       "\n",
       "    .dataframe tbody tr th {\n",
       "        vertical-align: top;\n",
       "    }\n",
       "\n",
       "    .dataframe thead th {\n",
       "        text-align: right;\n",
       "    }\n",
       "</style>\n",
       "<table border=\"1\" class=\"dataframe\">\n",
       "  <thead>\n",
       "    <tr style=\"text-align: right;\">\n",
       "      <th></th>\n",
       "      <th>Topic</th>\n",
       "      <th>Median</th>\n",
       "      <th>t_stat</th>\n",
       "      <th>p_val</th>\n",
       "    </tr>\n",
       "  </thead>\n",
       "  <tbody>\n",
       "    <tr>\n",
       "      <th>0</th>\n",
       "      <td>0: allergen | pollen | ige | allergenic</td>\n",
       "      <td>0.115677</td>\n",
       "      <td>19.902250</td>\n",
       "      <td>1.575266e-34</td>\n",
       "    </tr>\n",
       "    <tr>\n",
       "      <th>1</th>\n",
       "      <td>1: medium | callus | regeneration | culture | ...</td>\n",
       "      <td>0.149968</td>\n",
       "      <td>14.415273</td>\n",
       "      <td>5.304187e-25</td>\n",
       "    </tr>\n",
       "  </tbody>\n",
       "</table>\n",
       "</div>"
      ],
      "text/plain": [
       "                                               Topic    Median     t_stat  \\\n",
       "0            0: allergen | pollen | ige | allergenic  0.115677  19.902250   \n",
       "1  1: medium | callus | regeneration | culture | ...  0.149968  14.415273   \n",
       "\n",
       "          p_val  \n",
       "0  1.575266e-34  \n",
       "1  5.304187e-25  "
      ]
     },
     "execution_count": 26,
     "metadata": {},
     "output_type": "execute_result"
    }
   ],
   "source": [
    "toc_cs_med[\"t_stat\"] = stats\n",
    "toc_cs_med[\"p_val\"]  = pvals\n",
    "toc_cs_med.head(2)"
   ]
  },
  {
   "cell_type": "code",
   "execution_count": 28,
   "metadata": {},
   "outputs": [],
   "source": [
    "toc_cs_med.to_csv(work_dir / \"table_4_3_ttest_toc_cosine_sim_median.csv\", \n",
    "                  index=False)"
   ]
  },
  {
   "cell_type": "markdown",
   "metadata": {},
   "source": [
    "## ___Testing___"
   ]
  },
  {
   "cell_type": "markdown",
   "metadata": {},
   "source": [
    "### Condition to get specific rows"
   ]
  },
  {
   "cell_type": "code",
   "execution_count": null,
   "metadata": {},
   "outputs": [
    {
     "data": {
      "text/plain": [
       "1364"
      ]
     },
     "metadata": {},
     "output_type": "display_data"
    }
   ],
   "source": [
    "cond1 = (corpus_df['Topic'] == 78)\n",
    "cond1.values.sum()"
   ]
  },
  {
   "cell_type": "code",
   "execution_count": null,
   "metadata": {},
   "outputs": [
    {
     "data": {
      "text/plain": [
       "14994"
      ]
     },
     "metadata": {},
     "output_type": "display_data"
    }
   ],
   "source": [
    "cond2 = corpus_df['Year'].isin(range(2000, 2002))\n",
    "cond2.values.sum()"
   ]
  },
  {
   "cell_type": "code",
   "execution_count": null,
   "metadata": {},
   "outputs": [
    {
     "data": {
      "text/plain": [
       "72"
      ]
     },
     "metadata": {},
     "output_type": "display_data"
    }
   ],
   "source": [
    "(cond1 & cond2).values.sum()"
   ]
  },
  {
   "cell_type": "code",
   "execution_count": null,
   "metadata": {},
   "outputs": [
    {
     "data": {
      "text/plain": [
       "(72, 13)"
      ]
     },
     "metadata": {},
     "output_type": "display_data"
    }
   ],
   "source": [
    "corpus_df[cond1 & cond2].shape"
   ]
  },
  {
   "cell_type": "markdown",
   "metadata": {},
   "source": [
    "### Lowess fit derivatives"
   ]
  },
  {
   "cell_type": "code",
   "execution_count": 141,
   "metadata": {},
   "outputs": [
    {
     "name": "stdout",
     "output_type": "stream",
     "text": [
      "1978 4.26e-08\n",
      "1979 4.26e-08\n",
      "1980 4.26e-08\n",
      "1981 4.26e-08\n",
      "1982 4.26e-08\n",
      "1983 4.26e-08\n",
      "1984 4.24e-08\n",
      "1985 4.24e-08\n",
      "1986 4.24e-08\n",
      "1987 4.24e-08\n",
      "1988 5.07e-08\n",
      "1989 5.07e-08\n",
      "1990 5.07e-08\n",
      "1991 6.76e-08\n",
      "1992 6.76e-08\n",
      "1993 7.02e-08\n",
      "1994 7.02e-08\n",
      "1995 5.62e-08\n",
      "1996 5.62e-08\n",
      "1997 1.37e-08\n",
      "1998 1.37e-08\n",
      "1999 7.38e-09\n",
      "2000 7.38e-09\n",
      "2001 3.74e-08\n",
      "2002 1.73e-08\n",
      "2003 -1.71e-08\n",
      "2004 1.77e-08\n",
      "2005 -1.48e-08\n",
      "2006 -4.28e-08\n",
      "2007 -3.53e-08\n",
      "2008 -7.57e-08\n",
      "2009 -5.40e-08\n",
      "2010 -3.48e-08\n",
      "2011 9.35e-09\n",
      "2012 7.47e-08\n",
      "2013 9.98e-08\n",
      "2014 1.48e-07\n",
      "2015 1.62e-07\n",
      "2016 2.28e-07\n",
      "2017 1.86e-07\n",
      "2018 1.97e-07\n",
      "2019 9.76e-08\n",
      "2020 -1.06e-08\n"
     ]
    }
   ],
   "source": [
    "# Start from 1978 to 2020, do it every year\n",
    "for yr in range(1978, 2021):\n",
    "  x0 = datetime(yr, 1, 1).timestamp()\n",
    "  # Slope very small because the scale for x is very large compare to y\n",
    "  slope = \"{:.2e}\".format(derivative(lowess_fit, x0, dx))\n",
    "  print(yr, slope)"
   ]
  },
  {
   "cell_type": "code",
   "execution_count": 35,
   "metadata": {},
   "outputs": [],
   "source": [
    "def plot_fit(toc, frac, lowess_fit, ts_list):\n",
    "  fit_pkl = \"\"\n",
    "  for pkl in lowess_pickles:\n",
    "    file = str(pkl).split(\"/\")[-1]\n",
    "    if file.find(f\"topic{toc}_frac{frac}\") != -1:\n",
    "      fit_pkl = pkl\n",
    "      break\n",
    "\n",
    "  print(fit_pkl)\n",
    "  with open(fit_pkl, 'rb') as f:\n",
    "    lowess_fit = pickle.load(f)\n",
    "\n",
    "  x = np.arange(ts_list[0], ts_list[-1], 1e7)\n",
    "  y = lowess_fit(x)\n",
    "  y_min = y.min(); y_max = y.max()\n",
    "  y_norm = (y - y_min) / (y_max - y_min)\n",
    "  plt.plot(x, y_norm, '-')"
   ]
  },
  {
   "cell_type": "code",
   "execution_count": 39,
   "metadata": {},
   "outputs": [
    {
     "name": "stdout",
     "output_type": "stream",
     "text": [
      "/home/shinhan/projects/plant_sci_hist/4_topic_model/4_4_over_time/_lowess/lowess_fit_func_topic-1_frac0.2.pickle\n",
      "/home/shinhan/projects/plant_sci_hist/4_topic_model/4_4_over_time/_lowess/lowess_fit_func_topic0_frac0.2.pickle\n",
      "/home/shinhan/projects/plant_sci_hist/4_topic_model/4_4_over_time/_lowess/lowess_fit_func_topic1_frac0.2.pickle\n",
      "/home/shinhan/projects/plant_sci_hist/4_topic_model/4_4_over_time/_lowess/lowess_fit_func_topic2_frac0.2.pickle\n",
      "/home/shinhan/projects/plant_sci_hist/4_topic_model/4_4_over_time/_lowess/lowess_fit_func_topic3_frac0.2.pickle\n",
      "/home/shinhan/projects/plant_sci_hist/4_topic_model/4_4_over_time/_lowess/lowess_fit_func_topic4_frac0.2.pickle\n",
      "/home/shinhan/projects/plant_sci_hist/4_topic_model/4_4_over_time/_lowess/lowess_fit_func_topic5_frac0.2.pickle\n",
      "/home/shinhan/projects/plant_sci_hist/4_topic_model/4_4_over_time/_lowess/lowess_fit_func_topic6_frac0.2.pickle\n",
      "/home/shinhan/projects/plant_sci_hist/4_topic_model/4_4_over_time/_lowess/lowess_fit_func_topic7_frac0.2.pickle\n",
      "/home/shinhan/projects/plant_sci_hist/4_topic_model/4_4_over_time/_lowess/lowess_fit_func_topic8_frac0.2.pickle\n",
      "/home/shinhan/projects/plant_sci_hist/4_topic_model/4_4_over_time/_lowess/lowess_fit_func_topic9_frac0.2.pickle\n",
      "/home/shinhan/projects/plant_sci_hist/4_topic_model/4_4_over_time/_lowess/lowess_fit_func_topic10_frac0.2.pickle\n",
      "/home/shinhan/projects/plant_sci_hist/4_topic_model/4_4_over_time/_lowess/lowess_fit_func_topic11_frac0.2.pickle\n",
      "/home/shinhan/projects/plant_sci_hist/4_topic_model/4_4_over_time/_lowess/lowess_fit_func_topic12_frac0.2.pickle\n",
      "/home/shinhan/projects/plant_sci_hist/4_topic_model/4_4_over_time/_lowess/lowess_fit_func_topic13_frac0.2.pickle\n",
      "/home/shinhan/projects/plant_sci_hist/4_topic_model/4_4_over_time/_lowess/lowess_fit_func_topic14_frac0.2.pickle\n",
      "/home/shinhan/projects/plant_sci_hist/4_topic_model/4_4_over_time/_lowess/lowess_fit_func_topic15_frac0.2.pickle\n",
      "/home/shinhan/projects/plant_sci_hist/4_topic_model/4_4_over_time/_lowess/lowess_fit_func_topic16_frac0.2.pickle\n",
      "/home/shinhan/projects/plant_sci_hist/4_topic_model/4_4_over_time/_lowess/lowess_fit_func_topic17_frac0.2.pickle\n",
      "/home/shinhan/projects/plant_sci_hist/4_topic_model/4_4_over_time/_lowess/lowess_fit_func_topic18_frac0.2.pickle\n",
      "/home/shinhan/projects/plant_sci_hist/4_topic_model/4_4_over_time/_lowess/lowess_fit_func_topic19_frac0.2.pickle\n",
      "/home/shinhan/projects/plant_sci_hist/4_topic_model/4_4_over_time/_lowess/lowess_fit_func_topic20_frac0.2.pickle\n",
      "/home/shinhan/projects/plant_sci_hist/4_topic_model/4_4_over_time/_lowess/lowess_fit_func_topic21_frac0.2.pickle\n",
      "/home/shinhan/projects/plant_sci_hist/4_topic_model/4_4_over_time/_lowess/lowess_fit_func_topic22_frac0.2.pickle\n",
      "/home/shinhan/projects/plant_sci_hist/4_topic_model/4_4_over_time/_lowess/lowess_fit_func_topic23_frac0.2.pickle\n",
      "/home/shinhan/projects/plant_sci_hist/4_topic_model/4_4_over_time/_lowess/lowess_fit_func_topic24_frac0.2.pickle\n",
      "/home/shinhan/projects/plant_sci_hist/4_topic_model/4_4_over_time/_lowess/lowess_fit_func_topic25_frac0.2.pickle\n",
      "/home/shinhan/projects/plant_sci_hist/4_topic_model/4_4_over_time/_lowess/lowess_fit_func_topic26_frac0.2.pickle\n",
      "/home/shinhan/projects/plant_sci_hist/4_topic_model/4_4_over_time/_lowess/lowess_fit_func_topic27_frac0.2.pickle\n",
      "/home/shinhan/projects/plant_sci_hist/4_topic_model/4_4_over_time/_lowess/lowess_fit_func_topic28_frac0.2.pickle\n",
      "/home/shinhan/projects/plant_sci_hist/4_topic_model/4_4_over_time/_lowess/lowess_fit_func_topic29_frac0.2.pickle\n",
      "/home/shinhan/projects/plant_sci_hist/4_topic_model/4_4_over_time/_lowess/lowess_fit_func_topic30_frac0.2.pickle\n",
      "/home/shinhan/projects/plant_sci_hist/4_topic_model/4_4_over_time/_lowess/lowess_fit_func_topic31_frac0.2.pickle\n",
      "/home/shinhan/projects/plant_sci_hist/4_topic_model/4_4_over_time/_lowess/lowess_fit_func_topic32_frac0.2.pickle\n",
      "/home/shinhan/projects/plant_sci_hist/4_topic_model/4_4_over_time/_lowess/lowess_fit_func_topic33_frac0.2.pickle\n",
      "/home/shinhan/projects/plant_sci_hist/4_topic_model/4_4_over_time/_lowess/lowess_fit_func_topic34_frac0.2.pickle\n",
      "/home/shinhan/projects/plant_sci_hist/4_topic_model/4_4_over_time/_lowess/lowess_fit_func_topic35_frac0.2.pickle\n",
      "/home/shinhan/projects/plant_sci_hist/4_topic_model/4_4_over_time/_lowess/lowess_fit_func_topic36_frac0.2.pickle\n",
      "/home/shinhan/projects/plant_sci_hist/4_topic_model/4_4_over_time/_lowess/lowess_fit_func_topic37_frac0.2.pickle\n",
      "/home/shinhan/projects/plant_sci_hist/4_topic_model/4_4_over_time/_lowess/lowess_fit_func_topic38_frac0.2.pickle\n",
      "/home/shinhan/projects/plant_sci_hist/4_topic_model/4_4_over_time/_lowess/lowess_fit_func_topic39_frac0.2.pickle\n",
      "/home/shinhan/projects/plant_sci_hist/4_topic_model/4_4_over_time/_lowess/lowess_fit_func_topic40_frac0.2.pickle\n",
      "/home/shinhan/projects/plant_sci_hist/4_topic_model/4_4_over_time/_lowess/lowess_fit_func_topic41_frac0.2.pickle\n",
      "/home/shinhan/projects/plant_sci_hist/4_topic_model/4_4_over_time/_lowess/lowess_fit_func_topic42_frac0.2.pickle\n",
      "/home/shinhan/projects/plant_sci_hist/4_topic_model/4_4_over_time/_lowess/lowess_fit_func_topic43_frac0.2.pickle\n",
      "/home/shinhan/projects/plant_sci_hist/4_topic_model/4_4_over_time/_lowess/lowess_fit_func_topic44_frac0.2.pickle\n",
      "/home/shinhan/projects/plant_sci_hist/4_topic_model/4_4_over_time/_lowess/lowess_fit_func_topic45_frac0.2.pickle\n",
      "/home/shinhan/projects/plant_sci_hist/4_topic_model/4_4_over_time/_lowess/lowess_fit_func_topic46_frac0.2.pickle\n",
      "/home/shinhan/projects/plant_sci_hist/4_topic_model/4_4_over_time/_lowess/lowess_fit_func_topic47_frac0.2.pickle\n",
      "/home/shinhan/projects/plant_sci_hist/4_topic_model/4_4_over_time/_lowess/lowess_fit_func_topic48_frac0.2.pickle\n",
      "/home/shinhan/projects/plant_sci_hist/4_topic_model/4_4_over_time/_lowess/lowess_fit_func_topic49_frac0.2.pickle\n",
      "/home/shinhan/projects/plant_sci_hist/4_topic_model/4_4_over_time/_lowess/lowess_fit_func_topic50_frac0.2.pickle\n",
      "/home/shinhan/projects/plant_sci_hist/4_topic_model/4_4_over_time/_lowess/lowess_fit_func_topic51_frac0.2.pickle\n",
      "/home/shinhan/projects/plant_sci_hist/4_topic_model/4_4_over_time/_lowess/lowess_fit_func_topic52_frac0.2.pickle\n",
      "/home/shinhan/projects/plant_sci_hist/4_topic_model/4_4_over_time/_lowess/lowess_fit_func_topic53_frac0.2.pickle\n",
      "/home/shinhan/projects/plant_sci_hist/4_topic_model/4_4_over_time/_lowess/lowess_fit_func_topic54_frac0.2.pickle\n",
      "/home/shinhan/projects/plant_sci_hist/4_topic_model/4_4_over_time/_lowess/lowess_fit_func_topic55_frac0.2.pickle\n",
      "/home/shinhan/projects/plant_sci_hist/4_topic_model/4_4_over_time/_lowess/lowess_fit_func_topic56_frac0.2.pickle\n",
      "/home/shinhan/projects/plant_sci_hist/4_topic_model/4_4_over_time/_lowess/lowess_fit_func_topic57_frac0.2.pickle\n",
      "/home/shinhan/projects/plant_sci_hist/4_topic_model/4_4_over_time/_lowess/lowess_fit_func_topic58_frac0.2.pickle\n",
      "/home/shinhan/projects/plant_sci_hist/4_topic_model/4_4_over_time/_lowess/lowess_fit_func_topic59_frac0.2.pickle\n",
      "/home/shinhan/projects/plant_sci_hist/4_topic_model/4_4_over_time/_lowess/lowess_fit_func_topic60_frac0.2.pickle\n",
      "/home/shinhan/projects/plant_sci_hist/4_topic_model/4_4_over_time/_lowess/lowess_fit_func_topic61_frac0.2.pickle\n",
      "/home/shinhan/projects/plant_sci_hist/4_topic_model/4_4_over_time/_lowess/lowess_fit_func_topic62_frac0.2.pickle\n",
      "/home/shinhan/projects/plant_sci_hist/4_topic_model/4_4_over_time/_lowess/lowess_fit_func_topic63_frac0.2.pickle\n",
      "/home/shinhan/projects/plant_sci_hist/4_topic_model/4_4_over_time/_lowess/lowess_fit_func_topic64_frac0.2.pickle\n",
      "/home/shinhan/projects/plant_sci_hist/4_topic_model/4_4_over_time/_lowess/lowess_fit_func_topic65_frac0.2.pickle\n",
      "/home/shinhan/projects/plant_sci_hist/4_topic_model/4_4_over_time/_lowess/lowess_fit_func_topic66_frac0.2.pickle\n",
      "/home/shinhan/projects/plant_sci_hist/4_topic_model/4_4_over_time/_lowess/lowess_fit_func_topic67_frac0.2.pickle\n",
      "/home/shinhan/projects/plant_sci_hist/4_topic_model/4_4_over_time/_lowess/lowess_fit_func_topic68_frac0.2.pickle\n",
      "/home/shinhan/projects/plant_sci_hist/4_topic_model/4_4_over_time/_lowess/lowess_fit_func_topic69_frac0.2.pickle\n",
      "/home/shinhan/projects/plant_sci_hist/4_topic_model/4_4_over_time/_lowess/lowess_fit_func_topic70_frac0.2.pickle\n",
      "/home/shinhan/projects/plant_sci_hist/4_topic_model/4_4_over_time/_lowess/lowess_fit_func_topic71_frac0.2.pickle\n",
      "/home/shinhan/projects/plant_sci_hist/4_topic_model/4_4_over_time/_lowess/lowess_fit_func_topic72_frac0.2.pickle\n",
      "/home/shinhan/projects/plant_sci_hist/4_topic_model/4_4_over_time/_lowess/lowess_fit_func_topic73_frac0.2.pickle\n",
      "/home/shinhan/projects/plant_sci_hist/4_topic_model/4_4_over_time/_lowess/lowess_fit_func_topic74_frac0.2.pickle\n",
      "/home/shinhan/projects/plant_sci_hist/4_topic_model/4_4_over_time/_lowess/lowess_fit_func_topic75_frac0.2.pickle\n",
      "/home/shinhan/projects/plant_sci_hist/4_topic_model/4_4_over_time/_lowess/lowess_fit_func_topic76_frac0.2.pickle\n",
      "/home/shinhan/projects/plant_sci_hist/4_topic_model/4_4_over_time/_lowess/lowess_fit_func_topic77_frac0.2.pickle\n",
      "/home/shinhan/projects/plant_sci_hist/4_topic_model/4_4_over_time/_lowess/lowess_fit_func_topic78_frac0.2.pickle\n",
      "/home/shinhan/projects/plant_sci_hist/4_topic_model/4_4_over_time/_lowess/lowess_fit_func_topic79_frac0.2.pickle\n",
      "/home/shinhan/projects/plant_sci_hist/4_topic_model/4_4_over_time/_lowess/lowess_fit_func_topic80_frac0.2.pickle\n",
      "/home/shinhan/projects/plant_sci_hist/4_topic_model/4_4_over_time/_lowess/lowess_fit_func_topic81_frac0.2.pickle\n",
      "/home/shinhan/projects/plant_sci_hist/4_topic_model/4_4_over_time/_lowess/lowess_fit_func_topic82_frac0.2.pickle\n",
      "/home/shinhan/projects/plant_sci_hist/4_topic_model/4_4_over_time/_lowess/lowess_fit_func_topic83_frac0.2.pickle\n",
      "/home/shinhan/projects/plant_sci_hist/4_topic_model/4_4_over_time/_lowess/lowess_fit_func_topic84_frac0.2.pickle\n",
      "/home/shinhan/projects/plant_sci_hist/4_topic_model/4_4_over_time/_lowess/lowess_fit_func_topic85_frac0.2.pickle\n",
      "/home/shinhan/projects/plant_sci_hist/4_topic_model/4_4_over_time/_lowess/lowess_fit_func_topic86_frac0.2.pickle\n",
      "/home/shinhan/projects/plant_sci_hist/4_topic_model/4_4_over_time/_lowess/lowess_fit_func_topic87_frac0.2.pickle\n",
      "/home/shinhan/projects/plant_sci_hist/4_topic_model/4_4_over_time/_lowess/lowess_fit_func_topic88_frac0.2.pickle\n",
      "/home/shinhan/projects/plant_sci_hist/4_topic_model/4_4_over_time/_lowess/lowess_fit_func_topic89_frac0.2.pickle\n"
     ]
    },
    {
     "data": {
      "image/png": "[encoded data removed]",
      "text/plain": [
       "<Figure size 432x288 with 1 Axes>"
      ]
     },
     "metadata": {
      "needs_background": "light"
     },
     "output_type": "display_data"
    }
   ],
   "source": [
    "for toc in topics:\n",
    "  plot_fit(toc, 0.2, lowess_fit, ts_list)\n"
   ]
  },
  {
   "cell_type": "code",
   "execution_count": null,
   "metadata": {},
   "outputs": [],
   "source": [
    "def get_slopes(fp, yr):\n",
    "  slopes = []\n",
    "  for toc in toc_slopes:\n",
    "    # toc_slopes = {topic: {frac_param: {year: slope}}}\n",
    "    slope = toc_slopes[toc][fp][yr]\n",
    "    slopes.append(slope)\n",
    "\n",
    "  print(slopes)\n",
    "  print(np.sum(slopes))"
   ]
  },
  {
   "cell_type": "code",
   "execution_count": null,
   "metadata": {},
   "outputs": [
    {
     "name": "stdout",
     "output_type": "stream",
     "text": [
      "[-1.5585835479923253e-07, 8.007666046275657e-08, 1.8787624903103298e-08, 2.2878605603393256e-08, 5.719720523543507e-07, 5.081782505524478e-10, 2.906040826115834e-09, 3.559440197855734e-08, 1.1403433909935537e-08, 4.470442650206532e-09, 4.339653238866233e-07, 1.2248659900720465e-08, 3.5291523439754113e-07, 7.966509912475904e-08, -6.885449563516242e-09, -3.3689413301720187e-07, 5.238299128650375e-10, -5.015124932035659e-10, 2.0710684494913193e-08, 8.309496778026117e-09, 2.1912522569169244e-08, 0.0, 8.514809828008411e-09, -3.11186378328969e-10, 1.2068593575248495e-09, 3.434126072774559e-08, 4.61736034683397e-07, 3.0023208696777672e-09, 4.606680388152597e-09, 1.3780948534538606e-06, 1.478025828707789e-08, 1.1420140102278845e-08, 1.255612933323106e-07, 3.628658805493787e-07, -4.187018490554766e-09, 1.0999046190035812e-08, 9.229088077809965e-09, -3.074222462742701e-09, -7.778365894277865e-08, -1.595987232101955e-06, -3.0605975474107145e-06, 8.503464593271649e-08, 1.365292512632837e-07, 1.0049723290004826e-06, 1.5535858788500278e-07, -1.9566687698488653e-07, 2.350601729346634e-07, 2.0414747882936995e-07, -8.814911182170479e-07, 6.878675345595722e-08, 1.1584948316723318e-08, -4.679862397561736e-08, 1.1385885202242047e-08, -2.5006018441384625e-09, -8.491225658732682e-08, 1.2386318316400313e-09, 0.0, 8.4291395814287e-09, 2.1644510932979022e-07, 1.4344592288112203e-07, 3.1604772746457247e-07, -3.065212147832731e-08, 2.9448849910921882e-08, 1.7445759110556195e-09, 4.709549243323522e-08, 3.311861926371068e-08, 7.855392452551231e-08, -3.5316538886368326e-08, 4.120264542954435e-10, 7.018298763952166e-08, 9.530817550865142e-08, 1.7357280134323766e-08, 2.0458566393842563e-07, 2.668636609665245e-08, -9.437924179940541e-08, -1.9284898000934414e-08, -8.766843355479366e-08, 5.039989366938209e-08, -6.437361911966411e-07, 8.060854405379402e-08, 3.6204931822405536e-07, -3.362560141104422e-09, 2.2673611566645454e-07, 8.439777818756497e-08, 2.806520976493686e-08, 7.56075384533911e-08, 1.8913501621357212e-07, -2.350872758323453e-08, 1.262896862100716e-08, 4.0384831750438784e-10, 2.501588692286362e-09]\n",
      "1.0293426775300429e-06\n"
     ]
    }
   ],
   "source": [
    "get_slopes(\"0.1\", 1978)\n"
   ]
  },
  {
   "cell_type": "code",
   "execution_count": null,
   "metadata": {},
   "outputs": [
    {
     "name": "stdout",
     "output_type": "stream",
     "text": [
      "[-1.5585835479913853e-07, 8.00766604627551e-08, 1.8787624903103665e-08, 2.2878605603393256e-08, 5.719720523543566e-07, 5.081782505524536e-10, 2.9060408261154666e-09, 3.559440197855807e-08, 1.1403433909935904e-08, 4.470442650206509e-09, 4.339653238865763e-07, 1.2248659900720465e-08, 3.5291523439754113e-07, 7.966509912475904e-08, -6.885449563516334e-09, -3.3689413301720187e-07, 5.238299128650317e-10, -5.015124932028315e-10, 2.071068449491246e-08, 8.309496778026484e-09, 2.1912522569169333e-08, 0.0, 8.514809828008365e-09, -3.11186378328969e-10, 1.2068593575248036e-09, 3.434126072774632e-08, 4.617360346834029e-07, 3.0023208696777672e-09, 4.606680388152597e-09, 1.3780948534538314e-06, 1.478025828707789e-08, 1.1420140102278478e-08, 1.2556129333231207e-07, 3.6286588054937795e-07, -4.187018490554399e-09, 1.0999046190035812e-08, 9.229088077809965e-09, -3.074222462742701e-09, -7.77836589427669e-08, -1.595987232101955e-06, -3.0605975474107145e-06, 8.503464593271649e-08, 1.365292512632837e-07, 1.0049723290004826e-06, 1.5535858788500132e-07, -1.9566687698491e-07, 2.3506017293465899e-07, 2.0414747882936407e-07, -8.814911182170948e-07, 6.878675345595722e-08, 1.1584948316723318e-08, -4.679862397561736e-08, 1.1385885202242047e-08, -2.500601844138646e-09, -8.491225658731507e-08, 1.2386318316429684e-09, 0.0, 8.429139581427966e-09, 2.1644510932979022e-07, 1.4344592288112203e-07, 3.160477274645842e-07, -3.0652121478321435e-08, 2.9448849910921882e-08, 1.7445759110556425e-09, 4.709549243323522e-08, 3.311861926370921e-08, 7.855392452552406e-08, -3.5316538886371264e-08, 4.120264542954435e-10, 7.018298763952166e-08, 9.530817550864848e-08, 1.7357280134320828e-08, 2.0458566393841975e-07, 2.668636609665245e-08, -9.437924179939367e-08, -1.9284898000934414e-08, -8.766843355479366e-08, 5.039989366938209e-08, -6.437361911966411e-07, 8.060854405379402e-08, 3.6204931822405536e-07, -3.362560141104422e-09, 2.2673611566645454e-07, 8.43977781875679e-08, 2.806520976493686e-08, 7.560753845338817e-08, 1.8913501621357505e-07, -2.350872758323453e-08, 1.262896862100716e-08, 4.03848317504385e-10, 2.5015886922863963e-09]\n",
      "1.029342677530045e-06\n"
     ]
    }
   ],
   "source": [
    "get_slopes(\"0.1\", 1982)"
   ]
  },
  {
   "cell_type": "markdown",
   "metadata": {},
   "source": [
    "### Joint analysis of species and country"
   ]
  },
  {
   "cell_type": "code",
   "execution_count": null,
   "metadata": {},
   "outputs": [
    {
     "data": {
      "text/plain": [
       "(50,\n",
       " array([ 250750799,  425879999,  546839999,  638945999,  712641599,\n",
       "         778391999,  836193599,  897537599,  949726799,  986961599,\n",
       "        1018411199, 1046494799, 1072241999, 1099285199, 1123041599,\n",
       "        1146196799, 1167627599, 1188619199, 1209009599, 1225947599,\n",
       "        1245729599, 1264136399, 1282622399, 1300161599, 1316145599,\n",
       "        1332302399, 1347335999, 1362200399, 1375934399, 1389761999,\n",
       "        1402199999, 1414900799, 1427342399, 1439697599, 1451969999,\n",
       "        1463716799, 1475899199, 1487393999, 1498967999, 1510376399,\n",
       "        1521863999, 1532750399, 1543985999, 1554177599, 1564027199,\n",
       "        1574053199, 1583557199, 1592711999, 1601438399, 1609477200]))"
      ]
     },
     "metadata": {},
     "output_type": "display_data"
    }
   ],
   "source": [
    "ts_unique = documents.Bins_left.unique()\n",
    "ts_unique.sort()\n",
    "len(ts_unique), ts_unique"
   ]
  },
  {
   "cell_type": "code",
   "execution_count": null,
   "metadata": {},
   "outputs": [
    {
     "name": "stdout",
     "output_type": "stream",
     "text": [
      "(9048, 12)\n"
     ]
    }
   ],
   "source": [
    "# PMIDs of Arabidopsis papers from USA\n",
    "pmid_arabi_usa = cpt_arabi[cpt_arabi[\"A3\"] == \"USA\"][\"PMID\"].values\n",
    "mask           = cpt_arabi[\"PMID\"].isin(pmid_arabi_usa)\n",
    "corpus         = cpt_arabi[mask]\n",
    "print(corpus.shape)\n"
   ]
  },
  {
   "cell_type": "code",
   "execution_count": null,
   "metadata": {},
   "outputs": [
    {
     "name": "stdout",
     "output_type": "stream",
     "text": [
      "9048 [836193600, 836193600]\n"
     ]
    }
   ],
   "source": [
    "dates          = corpus.Date\n",
    "\n",
    "# Assign new timestamps based on the bin timestamp values\n",
    "ts_in_bins = []\n",
    "for date in dates:\n",
    "  [yr, mo, da] = date.split('-') # year, month, day\n",
    "  dt   = datetime(int(yr), int(mo), int(da))\n",
    "  ts   = dt.timestamp()\n",
    "\n",
    "  bin_idx = bisect(bin_timestamps, ts)\n",
    "\n",
    "  if bin_idx < len(bin_timestamps):\n",
    "    ts2     = bin_timestamps[bin_idx]\n",
    "  # Deal with the last bin\n",
    "  else:\n",
    "    ts2     = datetime(2022, 12, 31).timestamp()\n",
    "  ts_in_bins.append(ts2) \n",
    "\n",
    "print(len(ts_in_bins), ts_in_bins[:2])"
   ]
  },
  {
   "cell_type": "code",
   "execution_count": null,
   "metadata": {},
   "outputs": [
    {
     "data": {
      "text/html": [
       "<div>\n",
       "<style scoped>\n",
       "    .dataframe tbody tr th:only-of-type {\n",
       "        vertical-align: middle;\n",
       "    }\n",
       "\n",
       "    .dataframe tbody tr th {\n",
       "        vertical-align: top;\n",
       "    }\n",
       "\n",
       "    .dataframe thead th {\n",
       "        text-align: right;\n",
       "    }\n",
       "</style>\n",
       "<table border=\"1\" class=\"dataframe\">\n",
       "  <thead>\n",
       "    <tr style=\"text-align: right;\">\n",
       "      <th></th>\n",
       "      <th>PMID</th>\n",
       "      <th>Date</th>\n",
       "      <th>Timestamps</th>\n",
       "      <th>Bins</th>\n",
       "      <th>Bins_left</th>\n",
       "    </tr>\n",
       "  </thead>\n",
       "  <tbody>\n",
       "    <tr>\n",
       "      <th>29046</th>\n",
       "      <td>24557725</td>\n",
       "      <td>1966-03-01</td>\n",
       "      <td>250750800</td>\n",
       "      <td>(836193599, 836193601]</td>\n",
       "      <td>836193599</td>\n",
       "    </tr>\n",
       "    <tr>\n",
       "      <th>28727</th>\n",
       "      <td>24430772</td>\n",
       "      <td>1972-01-01</td>\n",
       "      <td>250750800</td>\n",
       "      <td>(836193599, 836193601]</td>\n",
       "      <td>836193599</td>\n",
       "    </tr>\n",
       "  </tbody>\n",
       "</table>\n",
       "</div>"
      ],
      "text/plain": [
       "           PMID        Date  Timestamps                    Bins  Bins_left\n",
       "29046  24557725  1966-03-01   250750800  (836193599, 836193601]  836193599\n",
       "28727  24430772  1972-01-01   250750800  (836193599, 836193601]  836193599"
      ]
     },
     "metadata": {},
     "output_type": "display_data"
    }
   ],
   "source": [
    "timestamps = ts_in_bins\n",
    "\n",
    "# Create a new dataframe with PMID, date, txt_clean, bin, and bin_left\n",
    "documents = pd.DataFrame({\"PMID\": corpus['PMID'], \"Date\": corpus['Date'], \n",
    "                          \"Timestamps\":timestamps})\n",
    "documents = documents.sort_values(\"Timestamps\")\n",
    "\n",
    "# a list of tuples showing the bin range (+/-1 of the unique val)\n",
    "ts_bins   = [pd.Interval(left=ts-1, right=ts+1) for ts in timestamps] \n",
    "documents[\"Bins\"]      = ts_bins\n",
    "documents[\"Bins_left\"] = documents.apply(lambda row: row.Bins.left, 1)\n",
    "documents.head(2)"
   ]
  },
  {
   "cell_type": "code",
   "execution_count": null,
   "metadata": {},
   "outputs": [],
   "source": []
  }
 ],
 "metadata": {
  "kernelspec": {
   "display_name": "base",
   "language": "python",
   "name": "python3"
  },
  "language_info": {
   "codemirror_mode": {
    "name": "ipython",
    "version": 3
   },
   "file_extension": ".py",
   "mimetype": "text/x-python",
   "name": "python",
   "nbconvert_exporter": "python",
   "pygments_lexer": "ipython3",
   "version": "3.9.12"
  },
  "orig_nbformat": 4
 },
 "nbformat": 4,
 "nbformat_minor": 2
}
