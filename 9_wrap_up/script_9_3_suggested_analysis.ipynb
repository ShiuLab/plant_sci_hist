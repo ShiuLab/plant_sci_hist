{
 "cells": [
  {
   "cell_type": "markdown",
   "metadata": {},
   "source": [
    "# __Reviewer's suggestions__"
   ]
  },
  {
   "cell_type": "markdown",
   "metadata": {},
   "source": [
    "## ___FP/FN evaluation___\n",
    "\n",
    "Reviewer 1 indicated that:\n",
    "\n",
    "  \"Independent of above paragraph, it would be good to see an evaluation of false positive/false negatives in the creation of the corpus. Comparing against a corpus formed by NCBI's MeSH term D010944 (Plants) would seem reasonable as they are an authority and follows good practices. The authors could, for instance, obtain MeSH by running pubmed_parser on the files that they already downloaded, and obtain the children terms of D010944 via the definition of MeSH terms downloadable on NCBI/MeSH's ftp server.\""
   ]
  },
  {
   "cell_type": "code",
   "execution_count": null,
   "metadata": {
    "vscode": {
     "languageId": "plaintext"
    }
   },
   "outputs": [],
   "source": []
  }
 ],
 "metadata": {
  "language_info": {
   "name": "python"
  }
 },
 "nbformat": 4,
 "nbformat_minor": 2
}
