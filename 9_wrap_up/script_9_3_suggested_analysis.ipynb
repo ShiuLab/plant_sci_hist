{
 "cells": [
  {
   "cell_type": "markdown",
   "metadata": {},
   "source": [
    "# __Reviewer's suggestions__"
   ]
  },
  {
   "cell_type": "markdown",
   "metadata": {},
   "source": [
    "## ___FP/FN evaluation___"
   ]
  },
  {
   "cell_type": "markdown",
   "metadata": {},
   "source": [
    "### Considerations\n",
    "\n",
    "Reviewer 1 indicated that:\n",
    "\n",
    "  \"Independent of above paragraph, it would be good to see an evaluation of false positive/false negatives in the creation of the corpus. Comparing against a corpus formed by NCBI's MeSH term D010944 (Plants) would seem reasonable as they are an authority and follows good practices. The authors could, for instance, obtain MeSH by running pubmed_parser on the files that they already downloaded, and obtain the children terms of D010944 via the definition of MeSH terms downloadable on NCBI/MeSH's ftp server.\"\n",
    "\n",
    "Issues with MeSH terms:\n",
    "- Not all plant science records will have the Plants MesH term.\n",
    "- Some terms like Viridiplantae is only introduced since 2011, so incomplete."
   ]
  },
  {
   "cell_type": "markdown",
   "metadata": {
    "vscode": {
     "languageId": "plaintext"
    }
   },
   "source": [
    "### PubMed recods with targeted MeSH terms\n",
    "\n",
    "Goal: identify records with the following MeSH terms and their child terms:\n",
    "- Plants: D010944\n",
    "- Viridiplantae: D057948"
   ]
  }
 ],
 "metadata": {
  "language_info": {
   "name": "python"
  }
 },
 "nbformat": 4,
 "nbformat_minor": 2
}
