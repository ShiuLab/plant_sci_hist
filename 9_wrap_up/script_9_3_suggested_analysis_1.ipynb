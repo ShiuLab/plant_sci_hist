{
 "cells": [
  {
   "cell_type": "markdown",
   "metadata": {},
   "source": [
    "# __Reviewer feedback analysis 1__\n",
    "\n",
    "On:\n",
    "- Cause of growth in China/India publication volume\n",
    "- Determination of false negative rate using MeSH term \"Plants\""
   ]
  },
  {
   "cell_type": "markdown",
   "metadata": {},
   "source": [
    "## ___Setup___"
   ]
  },
  {
   "cell_type": "code",
   "execution_count": 1,
   "metadata": {},
   "outputs": [],
   "source": [
    "# for counting the 17 journals\n",
    "import pandas as pd\n",
    "import matplotlib.pyplot as plt\n",
    "import numpy as np\n",
    "from pathlib import Path\n",
    "from scipy.optimize import curve_fit\n",
    "\n",
    "# for medline parser\n",
    "import sys\n",
    "import pickle\n",
    "dir_pubmed_parser = Path.home() / \"github/pubmed_parser/\"\n",
    "sys.path.insert(0, str(dir_pubmed_parser))\n",
    "from pubmed_parser.medline_parser import parse_medline_xml\n",
    "from itertools import chain\n",
    "from tqdm import tqdm\n",
    "\n",
    "proj_dir = Path.home() / \"projects/plant_sci_hist\""
   ]
  },
  {
   "cell_type": "markdown",
   "metadata": {
    "vscode": {
     "languageId": "plaintext"
    }
   },
   "source": [
    "## ___Number of papers from the top 17 plant science journals___\n",
    "\n",
    "Reviewer 1 indicated that:\n",
    "\n",
    "\"Similarly, it is unclear to which extent the growth reported for China and India is truly exceptional growth of plant research in these countries, or increased publishing in English, or efforts of NCBI to include literature written in languages other than English. While such a distinction could be obtained by analyzing plant-related publications contained in OpenAlex, a few extra words would seem to suffice.\"\n",
    "\n",
    "Finding:\n",
    "- The top 17 journals have very similar trend as the overall result from the entire corpus. Since the top 17 journals are all in English, it does not seem that increased publishing in English is the reason.\n",
    "- In later section, we found that Plant Science Corpus has 97% of records from journals in English. Thus, the impact of non-English journal is expected to be minimal and the pattern we see is unlikely to be influenced by efforts of NCBI to include non-English literature.\n",
    "- Therefore, there appears to be exceptional growth in plant reseach publications in higher impact journals from India and China which cannot be explained by the above two factors."
   ]
  },
  {
   "cell_type": "code",
   "execution_count": 2,
   "metadata": {},
   "outputs": [],
   "source": [
    "dir92 = proj_dir / \"9_wrap_up/9_2_ci_j17\"\n",
    "dir92.mkdir(parents=True, exist_ok=True)\n",
    "\n",
    "# Topic dataframe\n",
    "dir42       = proj_dir / \"4_topic_model/4_2_outlier_assign\"\n",
    "corpus_file = dir42 / \"table7_5_corpus_with_topic_assignment_nodup.tsv.gz\"\n",
    "tdf         = pd.read_csv(corpus_file, sep='\\t', compression='gzip', \n",
    "                          index_col=[0])"
   ]
  },
  {
   "cell_type": "code",
   "execution_count": 3,
   "metadata": {},
   "outputs": [
    {
     "data": {
      "text/html": [
       "<div>\n",
       "<style scoped>\n",
       "    .dataframe tbody tr th:only-of-type {\n",
       "        vertical-align: middle;\n",
       "    }\n",
       "\n",
       "    .dataframe tbody tr th {\n",
       "        vertical-align: top;\n",
       "    }\n",
       "\n",
       "    .dataframe thead th {\n",
       "        text-align: right;\n",
       "    }\n",
       "</style>\n",
       "<table border=\"1\" class=\"dataframe\">\n",
       "  <thead>\n",
       "    <tr style=\"text-align: right;\">\n",
       "      <th></th>\n",
       "      <th>PMID</th>\n",
       "      <th>A3</th>\n",
       "      <th>Confidence</th>\n",
       "      <th>Date</th>\n",
       "      <th>Topic</th>\n",
       "      <th>Year</th>\n",
       "    </tr>\n",
       "  </thead>\n",
       "  <tbody>\n",
       "    <tr>\n",
       "      <th>0</th>\n",
       "      <td>400957</td>\n",
       "      <td>CAN</td>\n",
       "      <td>3</td>\n",
       "      <td>1978-01-01</td>\n",
       "      <td>50</td>\n",
       "      <td>1978</td>\n",
       "    </tr>\n",
       "    <tr>\n",
       "      <th>1</th>\n",
       "      <td>1279107</td>\n",
       "      <td>FRA</td>\n",
       "      <td>3</td>\n",
       "      <td>1992-11-01</td>\n",
       "      <td>12</td>\n",
       "      <td>1992</td>\n",
       "    </tr>\n",
       "  </tbody>\n",
       "</table>\n",
       "</div>"
      ],
      "text/plain": [
       "      PMID   A3  Confidence        Date  Topic  Year\n",
       "0   400957  CAN           3  1978-01-01     50  1978\n",
       "1  1279107  FRA           3  1992-11-01     12  1992"
      ]
     },
     "execution_count": 3,
     "metadata": {},
     "output_type": "execute_result"
    }
   ],
   "source": [
    "# Country information\n",
    "dir75   = proj_dir / \"7_countries/7_5_country_over_time\"\n",
    "ci_file = dir75 / 'ci_pmid_topic.tsv'\n",
    "ci      = pd.read_csv(ci_file, sep='\\t')\n",
    "\n",
    "ci.head(2)"
   ]
  },
  {
   "cell_type": "code",
   "execution_count": 4,
   "metadata": {},
   "outputs": [
    {
     "data": {
      "text/plain": [
       "((421307, 12), (330328, 6), (330328, 7))"
      ]
     },
     "execution_count": 4,
     "metadata": {},
     "output_type": "execute_result"
    }
   ],
   "source": [
    "# get subset of columns in tdf\n",
    "pmid_j = tdf[['PMID', 'Journal']]\n",
    "\n",
    "# join country data with tdf\n",
    "ci_j = pd.merge(ci, pmid_j, on='PMID')\n",
    "\n",
    "tdf.shape, ci.shape, ci_j.shape"
   ]
  },
  {
   "cell_type": "code",
   "execution_count": 5,
   "metadata": {},
   "outputs": [
    {
     "data": {
      "text/html": [
       "<div>\n",
       "<style scoped>\n",
       "    .dataframe tbody tr th:only-of-type {\n",
       "        vertical-align: middle;\n",
       "    }\n",
       "\n",
       "    .dataframe tbody tr th {\n",
       "        vertical-align: top;\n",
       "    }\n",
       "\n",
       "    .dataframe thead th {\n",
       "        text-align: right;\n",
       "    }\n",
       "</style>\n",
       "<table border=\"1\" class=\"dataframe\">\n",
       "  <thead>\n",
       "    <tr style=\"text-align: right;\">\n",
       "      <th></th>\n",
       "      <th>PMID</th>\n",
       "      <th>A3</th>\n",
       "      <th>Confidence</th>\n",
       "      <th>Date</th>\n",
       "      <th>Topic</th>\n",
       "      <th>Year</th>\n",
       "      <th>Journal</th>\n",
       "    </tr>\n",
       "  </thead>\n",
       "  <tbody>\n",
       "    <tr>\n",
       "      <th>0</th>\n",
       "      <td>400957</td>\n",
       "      <td>CAN</td>\n",
       "      <td>3</td>\n",
       "      <td>1978-01-01</td>\n",
       "      <td>50</td>\n",
       "      <td>1978</td>\n",
       "      <td>Comparative biochemistry and physiology. B, Co...</td>\n",
       "    </tr>\n",
       "    <tr>\n",
       "      <th>1</th>\n",
       "      <td>1279107</td>\n",
       "      <td>FRA</td>\n",
       "      <td>3</td>\n",
       "      <td>1992-11-01</td>\n",
       "      <td>12</td>\n",
       "      <td>1992</td>\n",
       "      <td>The Journal of general virology</td>\n",
       "    </tr>\n",
       "  </tbody>\n",
       "</table>\n",
       "</div>"
      ],
      "text/plain": [
       "      PMID   A3  Confidence        Date  Topic  Year  \\\n",
       "0   400957  CAN           3  1978-01-01     50  1978   \n",
       "1  1279107  FRA           3  1992-11-01     12  1992   \n",
       "\n",
       "                                             Journal  \n",
       "0  Comparative biochemistry and physiology. B, Co...  \n",
       "1                    The Journal of general virology  "
      ]
     },
     "execution_count": 5,
     "metadata": {},
     "output_type": "execute_result"
    }
   ],
   "source": [
    "ci_j.head(2)"
   ]
  },
  {
   "cell_type": "code",
   "execution_count": 6,
   "metadata": {},
   "outputs": [
    {
     "data": {
      "text/plain": [
       "((72777, 7), 0.22031738151170957)"
      ]
     },
     "execution_count": 6,
     "metadata": {},
     "output_type": "execute_result"
    }
   ],
   "source": [
    "# Filter ci_j based on the top 17 journals\n",
    "psj17 = ['Plant physiology', 'Frontiers in plant science', 'Planta',\n",
    "          'The Plant journal : for cell and molecular biology', \n",
    "          'Journal of experimental botany', 'Plant molecular biology',\n",
    "          'The New phytologist', 'The Plant cell', 'Phytochemistry',\n",
    "          'Plant &amp; cell physiology', 'American journal of botany',\n",
    "          'Annals of botany', 'BMC plant biology', 'Tree physiology',\n",
    "          'Molecular plant-microbe interactions : MPMI',\n",
    "          '\"Plant biology (Stuttgart, Germany)\"', \n",
    "          'Plant biotechnology journal']\n",
    "\n",
    "ci_j17 = ci_j[ci_j['Journal'].isin(psj17)]\n",
    "\n",
    "ci_j17.shape, ci_j17.shape[0] / ci_j.shape[0]"
   ]
  },
  {
   "cell_type": "code",
   "execution_count": 7,
   "metadata": {},
   "outputs": [
    {
     "name": "stderr",
     "output_type": "stream",
     "text": [
      "/tmp/ipykernel_94728/4049704135.py:2: FutureWarning: The behavior of `series[i:j]` with an integer-dtype index is deprecated. In a future version, this will be treated as *label-based* indexing, consistent with e.g. `series[i]` lookups. To retain the old behavior, use `series.iloc[i:j]`. To get the future behavior, use `series.loc[i:j]`.\n",
      "  num_yr_ci_j17 = ci_j17['Year'].value_counts().sort_index()[:-1]\n"
     ]
    },
    {
     "data": {
      "image/png": "[encoded data removed]",
      "text/plain": [
       "<Figure size 432x432 with 1 Axes>"
      ]
     },
     "metadata": {
      "needs_background": "light"
     },
     "output_type": "display_data"
    }
   ],
   "source": [
    "# count number of articles per year, rid of data from 2021\n",
    "num_yr_ci_j17 = ci_j17['Year'].value_counts().sort_index()[:-1]\n",
    "\n",
    "# following codes are from 4.4\n",
    "X = num_yr_ci_j17.index\n",
    "Y = num_yr_ci_j17.values\n",
    "\n",
    "def exp_func(X, a, b, c):\n",
    "  return a*np.exp(b*X) + c\n",
    "\n",
    "# Curve fit\n",
    "popt_exp, _ = curve_fit(exp_func, X, Y, p0=(1, 1e-6, 1), maxfev=10000)\n",
    "popt_exp\n",
    "\n",
    "# Plotting\n",
    "fig_fit_yr_docnum = dir92 / \"fig9_2_year_docnum_exponential_fit_j17.pdf\"\n",
    "\n",
    "#y_pred = [exp_func(x, *popt_exp) for x in X]\n",
    "plt.figure(figsize=(6, 6))\n",
    "plt.plot(X, exp_func(X, *popt_exp),'r',linewidth=2, \n",
    "        label='a*np.exp(b*x)+c: a=%.1e, b=%.1e, c=%.1e' % tuple(popt_exp))\n",
    "plt.plot(X[1:], Y[1:], 'bo', alpha=0.5)\n",
    "#plt.plot(x[1:], y_pred[1:], '-b')\n",
    "plt.legend()\n",
    "plt.xlabel(\"Year\")\n",
    "plt.ylabel(\"Numbers of records\")\n",
    "plt.savefig(fig_fit_yr_docnum, format='pdf')\n",
    "plt.show()"
   ]
  },
  {
   "cell_type": "code",
   "execution_count": 8,
   "metadata": {},
   "outputs": [],
   "source": [
    "# Single out USA, GRB, IND, and CHN for counts\n",
    "ci_j17_usa = ci_j17[ci_j17['A3'] == 'USA']\n",
    "ci_j17_grb = ci_j17[ci_j17['A3'] == 'GBR']\n",
    "ci_j17_ind = ci_j17[ci_j17['A3'] == 'IND']\n",
    "ci_j17_chn = ci_j17[ci_j17['A3'] == 'CHN']\n",
    "\n",
    "# count number of articles per year, rid of data from 2021\n",
    "num_yr_ci_j17_usa = ci_j17_usa['Year'].value_counts().sort_index().iloc[:-1]\n",
    "num_yr_ci_j17_grb = ci_j17_grb['Year'].value_counts().sort_index().iloc[:-1]\n",
    "num_yr_ci_j17_ind = ci_j17_ind['Year'].value_counts().sort_index().iloc[:-1]\n",
    "num_yr_ci_j17_chn = ci_j17_chn['Year'].value_counts().sort_index().iloc[:-1]\n",
    "\n",
    "# Normalized counts based on total from each country\n",
    "norm_usa = num_yr_ci_j17_usa / sum(num_yr_ci_j17_usa)*100\n",
    "norm_grb = num_yr_ci_j17_grb / sum(num_yr_ci_j17_grb)*100\n",
    "norm_ind = num_yr_ci_j17_ind / sum(num_yr_ci_j17_ind)*100\n",
    "norm_chn = num_yr_ci_j17_chn / sum(num_yr_ci_j17_chn)*100"
   ]
  },
  {
   "cell_type": "code",
   "execution_count": 9,
   "metadata": {},
   "outputs": [
    {
     "data": {
      "image/png": "[encoded data removed]",
      "text/plain": [
       "<Figure size 432x432 with 1 Axes>"
      ]
     },
     "metadata": {
      "needs_background": "light"
     },
     "output_type": "display_data"
    }
   ],
   "source": [
    "plt.figure(figsize=(6, 6))\n",
    "plt.plot(norm_usa, \".-\", c=\"red\")\n",
    "plt.plot(norm_grb, \".-\", c=\"orange\")\n",
    "plt.plot(norm_ind, \".-\", c=\"lightgreen\")\n",
    "plt.plot(norm_chn, \".-\", c=\"green\")\n",
    "plt.legend(['USA', 'GBR', 'IND', 'CHN'])\n",
    "plt.xlabel(\"Year\")\n",
    "plt.ylabel(\"Normalized numbers of records\")\n",
    "plt.savefig(dir92 / \"fig9_2_year_docnum_normalized_4countries.pdf\", \n",
    "            format='pdf')\n",
    "plt.show()"
   ]
  },
  {
   "cell_type": "markdown",
   "metadata": {},
   "source": [
    "## ___FP/FN evaluation based on MeSH___\n",
    "\n",
    "Reviewer 1 indicated that:\n",
    "\n",
    "  \"Independent of above paragraph, it would be good to see an evaluation of false positive/false negatives in the creation of the corpus. Comparing against a corpus formed by NCBI's MeSH term D010944 (Plants) would seem reasonable as they are an authority and follows good practices. The authors could, for instance, obtain MeSH by running pubmed_parser on the files that they already downloaded, and obtain the children terms of D010944 via the definition of MeSH terms downloadable on NCBI/MeSH's ftp server.\"\n",
    "\n",
    "\n",
    "Issues with MeSH terms:\n",
    "- Not all plant science records will have the Plants MesH term.\n",
    "- Some terms like Viridiplantae is only introduced since 2011, so incomplete. Should not be used."
   ]
  },
  {
   "cell_type": "markdown",
   "metadata": {},
   "source": [
    "### Get MeSH terms"
   ]
  },
  {
   "cell_type": "code",
   "execution_count": 10,
   "metadata": {},
   "outputs": [
    {
     "name": "stdout",
     "output_type": "stream",
     "text": [
      "Help on function parse_medline_xml in module pubmed_parser.medline_parser:\n",
      "\n",
      "parse_medline_xml(path, year_info_only=True, nlm_category=False, author_list=False, reference_list=False, parse_downto_mesh_subterms=False)\n",
      "    Parse XML file from Medline XML format available at\n",
      "    https://ftp.ncbi.nlm.nih.gov/pubmed/\n",
      "    \n",
      "    \n",
      "    Parameters\n",
      "    ----------\n",
      "    path: str\n",
      "        The path\n",
      "    year_info_only: bool\n",
      "        if True, this tool will only attempt to extract year information from PubDate.\n",
      "        if False, an attempt will be made to harvest all available PubDate information.\n",
      "        If only year and month information is available, this will yield a date of\n",
      "        the form 'YYYY-MM'. If year, month and day information is available,\n",
      "        a date of the form 'YYYY-MM-DD' will be returned.\n",
      "        NOTE: the resolution of PubDate information in the Medline(R) database varies\n",
      "        between articles.\n",
      "        default: True\n",
      "    nlm_category: bool\n",
      "        if True, this will parse structured abstract where each section if original Label\n",
      "        if False, this will parse structured abstract where each section will be assigned to\n",
      "        NLM category of each sections\n",
      "        default: False\n",
      "    author_list: bool\n",
      "        if True, return parsed author output as a list of authors\n",
      "        if False, return parsed author output as a string of authors concatenated with ``;``\n",
      "        default: False\n",
      "    reference_list: bool\n",
      "        if True, parse reference list as an output\n",
      "        if False, return string of PMIDs concatenated with ;\n",
      "        default: False\n",
      "    parse_downto_mesh_subterms: bool\n",
      "        if True, return mesh terms concatenated with \"; \" and mesh subterms concatenated \" / \"\n",
      "                and appended with * if the subterm is major\n",
      "        if False, return mesh_terms concatenated with \"; \"\n",
      "        default: False\n",
      "    \n",
      "    Return\n",
      "    ------\n",
      "    An iterator of dictionary containing information about articles in NLM format.\n",
      "        see `parse_article_info`). Articles that have been deleted will be\n",
      "        added with no information other than the field `delete` being `True`\n",
      "    \n",
      "    Examples\n",
      "    --------\n",
      "    >>> article_iterator = pubmed_parser.parse_medline_xml('data/pubmed20n0014.xml.gz')\n",
      "    >>> for article in article_iterator:\n",
      "    ...     print(article['title'])\n",
      "\n"
     ]
    }
   ],
   "source": [
    "# parse the mesh terms with medline parser, see what's in the function\n",
    "help(parse_medline_xml)"
   ]
  },
  {
   "cell_type": "code",
   "execution_count": 11,
   "metadata": {},
   "outputs": [],
   "source": [
    "dir93 = proj_dir / \"9_wrap_up/9_3_mesh\"\n",
    "dir93.mkdir(parents=True, exist_ok=True)\n",
    "\n",
    "# Specifiy pubmed xml location\n",
    "dir_xml = proj_dir / \"1_obtaining_corpus/pubmed\"\n",
    "subdirs = [\"0000\", \"0200\", \"0400\", \"0600\", \"0800\", \"1000\"]"
   ]
  },
  {
   "cell_type": "code",
   "execution_count": 12,
   "metadata": {},
   "outputs": [
    {
     "name": "stdout",
     "output_type": "stream",
     "text": [
      "Read article fields from pickle\n"
     ]
    }
   ],
   "source": [
    "xml_article_fields = dir93 / \"xml_article_fileds.pkl\"\n",
    "\n",
    "if xml_article_fields.is_file():\n",
    "  print(\"Read article fields from pickle\")\n",
    "  with open(xml_article_fields, \"rb\") as f:\n",
    "    article_fileds = pickle.load(f)\n",
    "else:\n",
    "  # {pmid: {mesh xx, country: xx, lang: xx}}\n",
    "  article_fileds = {} \n",
    "\n",
    "  # Iterate through xmls\n",
    "  for subdir in subdirs:\n",
    "    print(subdir)\n",
    "    xml_list = list((dir_xml / subdir).glob(\"*.xml.gz\"))\n",
    "    for xml_file in xml_list:\n",
    "      print(\"\", xml_file)\n",
    "      # Each item in the iterator is a dictionary that have the following keys:\n",
    "      # dict_keys(['title', 'issue', 'pages', 'abstract', 'journal', 'authors', \n",
    "      #            'pubdate', 'pmid', 'mesh_terms', 'publication_types', \n",
    "      #            'chemical_list', 'keywords', 'doi', 'references', 'delete', \n",
    "      #            'languages', 'vernacular_title', 'affiliations', 'pmc', \n",
    "      #            'other_id', 'medline_ta', 'nlm_unique_id', 'issn_linking', \n",
    "      #            'country', 'grant_ids'])\n",
    "      article_iter = parse_medline_xml(str(xml_file))\n",
    "      \n",
    "      for article in tqdm(article_iter):\n",
    "        pmid    = article['pmid']\n",
    "        mesh    = article['mesh_terms']\n",
    "        country = article['country']\n",
    "        lang    = article['languages']\n",
    "        article_fileds[pmid] = {'mesh': mesh, 'country': country, 'lang': lang}\n",
    "\n",
    "  with open(dir93 / \"xml_article_fileds.pkl\", \"wb\") as f:\n",
    "    pickle.dump(article_fileds, f)"
   ]
  },
  {
   "cell_type": "code",
   "execution_count": 13,
   "metadata": {},
   "outputs": [
    {
     "name": "stdout",
     "output_type": "stream",
     "text": [
      "1 ['D000445:Aldehyde Oxidoreductases', 'D000818:Animals', 'D001826:Body Fluids', 'D002245:Carbon Dioxide', 'D005561:Formates', 'D000882:Haplorhini', 'D006801:Humans', 'D006863:Hydrogen-Ion Concentration', 'D007700:Kinetics', 'D000432:Methanol', 'D008722:Methods', 'D011549:Pseudomonas']\n"
     ]
    }
   ],
   "source": [
    "# Examine an example \n",
    "for pmid in article_fileds:\n",
    "  print(pmid, article_fileds[pmid]['mesh'].split(\"; \"))\n",
    "  break"
   ]
  },
  {
   "cell_type": "markdown",
   "metadata": {},
   "source": [
    "### Get D010944 records"
   ]
  },
  {
   "cell_type": "code",
   "execution_count": 14,
   "metadata": {},
   "outputs": [
    {
     "name": "stderr",
     "output_type": "stream",
     "text": [
      "100%|██████████| 31920091/31920091 [00:13<00:00, 2357823.62it/s]\n"
     ]
    },
    {
     "data": {
      "text/plain": [
       "78066"
      ]
     },
     "execution_count": 14,
     "metadata": {},
     "output_type": "execute_result"
    }
   ],
   "source": [
    "# Get all articles with MESH term ID D010944 for Plants\n",
    "pmid_plants = {}\n",
    "for pmid, fields in tqdm(article_fileds.items()):\n",
    "  if \"D010944\" in fields['mesh']:\n",
    "    # turn pmid into int to be comparable with pmid in the corpus\n",
    "    pmid_plants[int(pmid)] = 1\n",
    "\n",
    "len(pmid_plants)"
   ]
  },
  {
   "cell_type": "code",
   "execution_count": 15,
   "metadata": {},
   "outputs": [],
   "source": [
    "with open(dir93 / \"pmid_plants_D010944.pkl\", \"wb\") as f:\n",
    "  pickle.dump(pmid_plants, f)"
   ]
  },
  {
   "cell_type": "markdown",
   "metadata": {},
   "source": [
    "### Determine overlap between D010944 records and candidate plant records"
   ]
  },
  {
   "cell_type": "code",
   "execution_count": 16,
   "metadata": {},
   "outputs": [
    {
     "name": "stderr",
     "output_type": "stream",
     "text": [
      "/tmp/ipykernel_94728/3441403485.py:6: DtypeWarning: Columns (1) have mixed types. Specify dtype option on import or set low_memory=False.\n",
      "  cand_df = pd.read_csv(cand_file, sep='\\t', compression='gzip')\n"
     ]
    }
   ],
   "source": [
    "# candidate file\n",
    "dir25      = proj_dir / \"2_text_classify/2_5_predict_pubmed\"\n",
    "cand_file = dir25 / \"pubmed_qual_1384718_w2v_pred_prob.tsv.gz\"\n",
    "\n",
    "# Turn candidate file into a dataframe\n",
    "cand_df = pd.read_csv(cand_file, sep='\\t', compression='gzip')"
   ]
  },
  {
   "cell_type": "code",
   "execution_count": 17,
   "metadata": {},
   "outputs": [
    {
     "data": {
      "text/html": [
       "<div>\n",
       "<style scoped>\n",
       "    .dataframe tbody tr th:only-of-type {\n",
       "        vertical-align: middle;\n",
       "    }\n",
       "\n",
       "    .dataframe tbody tr th {\n",
       "        vertical-align: top;\n",
       "    }\n",
       "\n",
       "    .dataframe thead th {\n",
       "        text-align: right;\n",
       "    }\n",
       "</style>\n",
       "<table border=\"1\" class=\"dataframe\">\n",
       "  <thead>\n",
       "    <tr style=\"text-align: right;\">\n",
       "      <th></th>\n",
       "      <th>Unnamed: 0</th>\n",
       "      <th>PMID</th>\n",
       "      <th>Date</th>\n",
       "      <th>Journal</th>\n",
       "      <th>Title</th>\n",
       "      <th>Abstract</th>\n",
       "      <th>QualifiedName</th>\n",
       "      <th>txt</th>\n",
       "      <th>reg_article</th>\n",
       "      <th>y_prob</th>\n",
       "      <th>y_pred</th>\n",
       "    </tr>\n",
       "  </thead>\n",
       "  <tbody>\n",
       "    <tr>\n",
       "      <th>0</th>\n",
       "      <td>0</td>\n",
       "      <td>36</td>\n",
       "      <td>1975-11-01</td>\n",
       "      <td>The British journal of nutrition</td>\n",
       "      <td>The effects of processing of barley-based supp...</td>\n",
       "      <td>1. In one experiment the effect on rumen pH of...</td>\n",
       "      <td>barley</td>\n",
       "      <td>The effects of processing of barley-based supp...</td>\n",
       "      <td>1</td>\n",
       "      <td>0.162140</td>\n",
       "      <td>0</td>\n",
       "    </tr>\n",
       "    <tr>\n",
       "      <th>1</th>\n",
       "      <td>1</td>\n",
       "      <td>52</td>\n",
       "      <td>1975-12-02</td>\n",
       "      <td>Biochemistry</td>\n",
       "      <td>Evidence of the involvement of a 50S ribosomal...</td>\n",
       "      <td>The functional role of the Bacillus stearother...</td>\n",
       "      <td>rose</td>\n",
       "      <td>Evidence of the involvement of a 50S ribosomal...</td>\n",
       "      <td>1</td>\n",
       "      <td>0.286834</td>\n",
       "      <td>0</td>\n",
       "    </tr>\n",
       "  </tbody>\n",
       "</table>\n",
       "</div>"
      ],
      "text/plain": [
       "   Unnamed: 0 PMID        Date                           Journal  \\\n",
       "0           0   36  1975-11-01  The British journal of nutrition   \n",
       "1           1   52  1975-12-02                      Biochemistry   \n",
       "\n",
       "                                               Title  \\\n",
       "0  The effects of processing of barley-based supp...   \n",
       "1  Evidence of the involvement of a 50S ribosomal...   \n",
       "\n",
       "                                            Abstract QualifiedName  \\\n",
       "0  1. In one experiment the effect on rumen pH of...        barley   \n",
       "1  The functional role of the Bacillus stearother...          rose   \n",
       "\n",
       "                                                 txt  reg_article    y_prob  \\\n",
       "0  The effects of processing of barley-based supp...            1  0.162140   \n",
       "1  Evidence of the involvement of a 50S ribosomal...            1  0.286834   \n",
       "\n",
       "   y_pred  \n",
       "0       0  \n",
       "1       0  "
      ]
     },
     "execution_count": 17,
     "metadata": {},
     "output_type": "execute_result"
    }
   ],
   "source": [
    "cand_df.head(2)"
   ]
  },
  {
   "cell_type": "code",
   "execution_count": 18,
   "metadata": {},
   "outputs": [
    {
     "name": "stderr",
     "output_type": "stream",
     "text": [
      "/tmp/ipykernel_94728/4229837505.py:6: SettingWithCopyWarning: \n",
      "A value is trying to be set on a copy of a slice from a DataFrame.\n",
      "Try using .loc[row_indexer,col_indexer] = value instead\n",
      "\n",
      "See the caveats in the documentation: https://pandas.pydata.org/pandas-docs/stable/user_guide/indexing.html#returning-a-view-versus-a-copy\n",
      "  cand_df2['PMID'] = pmids\n"
     ]
    },
    {
     "data": {
      "text/plain": [
       "1383681"
      ]
     },
     "execution_count": 18,
     "metadata": {},
     "output_type": "execute_result"
    }
   ],
   "source": [
    "# Because the records were concatenated together, there are some rows that are\n",
    "# just column headers. Rid of them. Note the PMID is in mixed, covert all to int\n",
    "\n",
    "cand_df2 = cand_df[cand_df['PMID'].apply(lambda x: str(x).isdigit())]\n",
    "pmids    = cand_df2['PMID'].values\n",
    "cand_df2['PMID'] = pmids\n",
    "\n",
    "cand_file_corrected = dir25 / \"pubmed_qual_1384718_w2v_pred_prob_CORRECTED.tsv.gz\"\n",
    "cand_df2.to_csv(cand_file_corrected, sep='\\t', compression='gzip', index=False)\n",
    "\n",
    "pmid_cand = {pmid:1 for pmid in cand_df2['PMID'].tolist()}\n",
    "\n",
    "len(pmid_cand)"
   ]
  },
  {
   "cell_type": "code",
   "execution_count": 19,
   "metadata": {},
   "outputs": [
    {
     "name": "stderr",
     "output_type": "stream",
     "text": [
      "100%|██████████| 78066/78066 [00:00<00:00, 1555565.49it/s]"
     ]
    },
    {
     "name": "stdout",
     "output_type": "stream",
     "text": [
      "35860 42206 78066 0.45935490482412317\n"
     ]
    },
    {
     "name": "stderr",
     "output_type": "stream",
     "text": [
      "\n"
     ]
    }
   ],
   "source": [
    "count_in_cand = 0\n",
    "in_cand     = []\n",
    "not_in_cand = []\n",
    "for pmid in tqdm(pmid_plants):\n",
    "  if pmid in pmid_cand:\n",
    "    in_cand.append(pmid)\n",
    "  else:\n",
    "    not_in_cand.append(pmid)\n",
    "\n",
    "print(len(in_cand), len(not_in_cand), len(pmid_plants), \n",
    "      len(in_cand)/len(pmid_plants))"
   ]
  },
  {
   "cell_type": "code",
   "execution_count": 20,
   "metadata": {},
   "outputs": [
    {
     "data": {
      "text/plain": [
       "(35860, 11)"
      ]
     },
     "execution_count": 20,
     "metadata": {},
     "output_type": "execute_result"
    }
   ],
   "source": [
    "# Get the records for D010944 in the candidate file\n",
    "cand_df_with_mesh = cand_df[cand_df['PMID'].isin(in_cand)]\n",
    "cand_df_with_mesh.shape"
   ]
  },
  {
   "cell_type": "code",
   "execution_count": 21,
   "metadata": {},
   "outputs": [
    {
     "data": {
      "image/png": "[encoded data removed]",
      "text/plain": [
       "<Figure size 432x432 with 1 Axes>"
      ]
     },
     "metadata": {
      "needs_background": "light"
     },
     "output_type": "display_data"
    }
   ],
   "source": [
    "# plot the y_prob\n",
    "fig_y_prob = dir93 / \"fig9_3_y_prob_D010944.pdf\"\n",
    "plt.figure(figsize=(6, 6))\n",
    "plt.hist(cand_df_with_mesh['y_prob'], bins=100)\n",
    "plt.show()"
   ]
  },
  {
   "cell_type": "markdown",
   "metadata": {},
   "source": [
    "### Determine overlap between D010944 records in candidate plant records with y_pred=1\n",
    "\n",
    "Examine the list of articles not in the plant science corpus:\n",
    "- 35,860 records with D010944 that are in the candidate corpus\n",
    " - 22,861 with y_pred=1 (63.8%),\n",
    " - 12,999 with y_pred=0,\n"
   ]
  },
  {
   "cell_type": "code",
   "execution_count": 22,
   "metadata": {},
   "outputs": [
    {
     "data": {
      "text/plain": [
       "(35860, 11)"
      ]
     },
     "execution_count": 22,
     "metadata": {},
     "output_type": "execute_result"
    }
   ],
   "source": [
    "cand_df_with_mesh.shape"
   ]
  },
  {
   "cell_type": "code",
   "execution_count": 23,
   "metadata": {},
   "outputs": [
    {
     "data": {
      "text/plain": [
       "1    22861\n",
       "0    12999\n",
       "Name: y_pred, dtype: int64"
      ]
     },
     "execution_count": 23,
     "metadata": {},
     "output_type": "execute_result"
    }
   ],
   "source": [
    "cand_df_with_mesh['y_pred'].value_counts()"
   ]
  },
  {
   "cell_type": "code",
   "execution_count": 24,
   "metadata": {},
   "outputs": [
    {
     "data": {
      "text/plain": [
       "0.6375069715560513"
      ]
     },
     "execution_count": 24,
     "metadata": {},
     "output_type": "execute_result"
    }
   ],
   "source": [
    "22861/35860"
   ]
  },
  {
   "cell_type": "code",
   "execution_count": 25,
   "metadata": {},
   "outputs": [
    {
     "data": {
      "text/plain": [
       "(12999, 11)"
      ]
     },
     "execution_count": 25,
     "metadata": {},
     "output_type": "execute_result"
    }
   ],
   "source": [
    "# Get the records that are not_in_corpus but in_cand\n",
    "not_in_corpus = cand_df_with_mesh[cand_df_with_mesh[\"y_pred\"] == 0]\n",
    "not_in_corpus.to_csv(dir93 / \"not_in_corpus_but_in_cand.csv\", \n",
    "                                 index=False)\n",
    "# spot check\n",
    "not_in_corpus.shape"
   ]
  },
  {
   "cell_type": "markdown",
   "metadata": {},
   "source": [
    "### Determine overlap between D010944 and the 17 plant science journals"
   ]
  },
  {
   "cell_type": "code",
   "execution_count": 26,
   "metadata": {},
   "outputs": [
    {
     "data": {
      "text/plain": [
       "(93263, 12)"
      ]
     },
     "execution_count": 26,
     "metadata": {},
     "output_type": "execute_result"
    }
   ],
   "source": [
    "# total number of j17 records in the corpus\n",
    "tdf_j17 = tdf[tdf['Journal'].isin(psj17)]\n",
    "tdf_j17.shape"
   ]
  },
  {
   "cell_type": "code",
   "execution_count": 27,
   "metadata": {},
   "outputs": [
    {
     "data": {
      "text/plain": [
       "(3534, 12)"
      ]
     },
     "execution_count": 27,
     "metadata": {},
     "output_type": "execute_result"
    }
   ],
   "source": [
    "# total number of j17 records in the corpus with the mesh term D010944\n",
    "tdf_j17_plants = tdf_j17[tdf_j17['PMID'].isin(pmid_plants)]\n",
    "tdf_j17_plants.shape"
   ]
  },
  {
   "cell_type": "code",
   "execution_count": 28,
   "metadata": {},
   "outputs": [
    {
     "data": {
      "text/plain": [
       "(470, 11)"
      ]
     },
     "execution_count": 28,
     "metadata": {},
     "output_type": "execute_result"
    }
   ],
   "source": [
    "# number of j17 records with the mesh term but not in the corpus\n",
    "not_in_corpus_j17 = not_in_corpus[not_in_corpus['Journal'].isin(psj17)]\n",
    "not_in_corpus_j17.shape"
   ]
  },
  {
   "cell_type": "code",
   "execution_count": 30,
   "metadata": {},
   "outputs": [
    {
     "data": {
      "text/plain": [
       "(0.11738261738261738, 4004)"
      ]
     },
     "execution_count": 30,
     "metadata": {},
     "output_type": "execute_result"
    }
   ],
   "source": [
    "470/(470+3534), 470+3534"
   ]
  },
  {
   "cell_type": "markdown",
   "metadata": {},
   "source": [
    "### Check the number of articles in English"
   ]
  },
  {
   "cell_type": "code",
   "execution_count": null,
   "metadata": {},
   "outputs": [],
   "source": [
    "# Check the number of articles in English in the plant science corpus\n",
    "count_en = 0\n",
    "\n",
    "pmid_corpus = cand_df2[cand_df2['y_pred'] == 1]['PMID'].values\n",
    "\n",
    "for pmid in pmid_corpus:\n",
    "  if article_fileds[pmid]['lang'] == 'eng':\n",
    "    count_en += 1\n",
    "\n",
    "print(count_en, len(pmid_corpus), count_en/len(pmid_corpus))"
   ]
  }
 ],
 "metadata": {
  "kernelspec": {
   "display_name": "bertopic",
   "language": "python",
   "name": "python3"
  },
  "language_info": {
   "codemirror_mode": {
    "name": "ipython",
    "version": 3
   },
   "file_extension": ".py",
   "mimetype": "text/x-python",
   "name": "python",
   "nbconvert_exporter": "python",
   "pygments_lexer": "ipython3",
   "version": "3.9.12"
  }
 },
 "nbformat": 4,
 "nbformat_minor": 2
}
