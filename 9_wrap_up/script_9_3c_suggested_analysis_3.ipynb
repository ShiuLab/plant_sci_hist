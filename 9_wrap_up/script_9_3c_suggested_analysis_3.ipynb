{
 "cells": [
  {
   "cell_type": "markdown",
   "metadata": {},
   "source": [
    "# __Reviewer feedback analysis 3__\n",
    "\n",
    "- Country topical enrichment statistics"
   ]
  },
  {
   "cell_type": "markdown",
   "metadata": {},
   "source": [
    "## ___Set up___"
   ]
  },
  {
   "cell_type": "code",
   "execution_count": 147,
   "metadata": {},
   "outputs": [],
   "source": [
    "# For topic enrichment per country p-value multiple testing correction\n",
    "from statsmodels.stats.multitest import multipletests\n",
    "\n",
    "# For umap\n",
    "import pickle, umap\n",
    "import numpy as np\n",
    "import pandas as pd\n",
    "import umap.plot\n",
    "import matplotlib.pyplot as plt\n",
    "from pathlib import Path\n",
    "from matplotlib import colors\n",
    "\n",
    "# for animated gif\n",
    "import imageio\n",
    "\n",
    "# for movie\n",
    "import cv2\n",
    "\n",
    "from tqdm import tqdm\n",
    "\n",
    "proj_dir = Path.home() / \"projects/plant_sci_hist\""
   ]
  },
  {
   "cell_type": "markdown",
   "metadata": {},
   "source": [
    "## ___Statistical significance of topical enrichment___\n",
    "\n",
    "Reviewer 1:\n",
    "\n",
    "\"For Figure 5F it is not clear which of the changes are statistically significant, particularly if controlling for testing of multiple hypotheses.\"\n",
    "\n",
    "Response: We have conduct statistical tests on these but did not report the results. They are now incorporated and we modified the figure to indicate significant differences after multiple testing corrections.\n"
   ]
  },
  {
   "cell_type": "markdown",
   "metadata": {},
   "source": [
    "### Multiple testing correction"
   ]
  },
  {
   "cell_type": "code",
   "execution_count": 10,
   "metadata": {},
   "outputs": [
    {
     "data": {
      "text/html": [
       "<div>\n",
       "<style scoped>\n",
       "    .dataframe tbody tr th:only-of-type {\n",
       "        vertical-align: middle;\n",
       "    }\n",
       "\n",
       "    .dataframe tbody tr th {\n",
       "        vertical-align: top;\n",
       "    }\n",
       "\n",
       "    .dataframe thead th {\n",
       "        text-align: right;\n",
       "    }\n",
       "</style>\n",
       "<table border=\"1\" class=\"dataframe\">\n",
       "  <thead>\n",
       "    <tr style=\"text-align: right;\">\n",
       "      <th></th>\n",
       "      <th>toc_name</th>\n",
       "      <th>CHN</th>\n",
       "      <th>USA</th>\n",
       "      <th>JPN</th>\n",
       "      <th>DEU</th>\n",
       "      <th>FRA</th>\n",
       "      <th>GBR</th>\n",
       "      <th>IND</th>\n",
       "      <th>ESP</th>\n",
       "      <th>ITA</th>\n",
       "      <th>AUS</th>\n",
       "    </tr>\n",
       "    <tr>\n",
       "      <th>toc</th>\n",
       "      <th></th>\n",
       "      <th></th>\n",
       "      <th></th>\n",
       "      <th></th>\n",
       "      <th></th>\n",
       "      <th></th>\n",
       "      <th></th>\n",
       "      <th></th>\n",
       "      <th></th>\n",
       "      <th></th>\n",
       "      <th></th>\n",
       "    </tr>\n",
       "  </thead>\n",
       "  <tbody>\n",
       "    <tr>\n",
       "      <th>0</th>\n",
       "      <td>allergen | pollen | ige | allergenic</td>\n",
       "      <td>4.535153e-42</td>\n",
       "      <td>1.609574e-17</td>\n",
       "      <td>0.885126</td>\n",
       "      <td>1.095708e-12</td>\n",
       "      <td>0.026466</td>\n",
       "      <td>0.000007</td>\n",
       "      <td>7.769514e-01</td>\n",
       "      <td>1.318535e-47</td>\n",
       "      <td>6.467812e-08</td>\n",
       "      <td>0.321514</td>\n",
       "    </tr>\n",
       "    <tr>\n",
       "      <th>1</th>\n",
       "      <td>medium | callus | regeneration | culture | som...</td>\n",
       "      <td>3.583564e-38</td>\n",
       "      <td>1.828608e-05</td>\n",
       "      <td>0.538833</td>\n",
       "      <td>4.987797e-18</td>\n",
       "      <td>0.209628</td>\n",
       "      <td>0.018076</td>\n",
       "      <td>5.853805e-186</td>\n",
       "      <td>6.176955e-03</td>\n",
       "      <td>7.353872e-03</td>\n",
       "      <td>0.000003</td>\n",
       "    </tr>\n",
       "  </tbody>\n",
       "</table>\n",
       "</div>"
      ],
      "text/plain": [
       "                                              toc_name           CHN  \\\n",
       "toc                                                                    \n",
       "0                 allergen | pollen | ige | allergenic  4.535153e-42   \n",
       "1    medium | callus | regeneration | culture | som...  3.583564e-38   \n",
       "\n",
       "              USA       JPN           DEU       FRA       GBR            IND  \\\n",
       "toc                                                                            \n",
       "0    1.609574e-17  0.885126  1.095708e-12  0.026466  0.000007   7.769514e-01   \n",
       "1    1.828608e-05  0.538833  4.987797e-18  0.209628  0.018076  5.853805e-186   \n",
       "\n",
       "              ESP           ITA       AUS  \n",
       "toc                                        \n",
       "0    1.318535e-47  6.467812e-08  0.321514  \n",
       "1    6.176955e-03  7.353872e-03  0.000003  "
      ]
     },
     "execution_count": 10,
     "metadata": {},
     "output_type": "execute_result"
    }
   ],
   "source": [
    "# stat is already generated, but not multiple-testing corrected\n",
    "\n",
    "# Get the p-values\n",
    "dir75     = proj_dir / \"7_countries/7_5_country_over_time\"\n",
    "pval_file = dir75 / \"country_top10_toc_pval.csv\"\n",
    "\n",
    "pval_df = pd.read_csv(pval_file, index_col=[0])\n",
    "pval_df.head(2)"
   ]
  },
  {
   "cell_type": "code",
   "execution_count": 32,
   "metadata": {},
   "outputs": [
    {
     "data": {
      "text/plain": [
       "Index(['CHN', 'USA', 'JPN', 'DEU', 'FRA', 'GBR', 'IND', 'ESP', 'ITA', 'AUS'], dtype='object')"
      ]
     },
     "execution_count": 32,
     "metadata": {},
     "output_type": "execute_result"
    }
   ],
   "source": [
    "countries = pval_df.columns[1:]\n",
    "countries"
   ]
  },
  {
   "cell_type": "code",
   "execution_count": 33,
   "metadata": {},
   "outputs": [
    {
     "data": {
      "text/plain": [
       "10"
      ]
     },
     "execution_count": 33,
     "metadata": {},
     "output_type": "execute_result"
    }
   ],
   "source": [
    "# correct for each country\n",
    "pval_corrected = []\n",
    "for country in countries:\n",
    "  pval = pval_df[country].values\n",
    "  pval_corrected.append(multipletests(pval, method='fdr_bh')[1])\n",
    "\n",
    "len(pval_corrected)"
   ]
  },
  {
   "cell_type": "code",
   "execution_count": 34,
   "metadata": {},
   "outputs": [
    {
     "name": "stdout",
     "output_type": "stream",
     "text": [
      "(90, 10)\n"
     ]
    }
   ],
   "source": [
    "# Turn into np array than transpose\n",
    "pval_corrected_arr = np.array(pval_corrected).T\n",
    "\n",
    "# Convert to dataframe\n",
    "pval_corrected_df = pd.DataFrame(pval_corrected_arr, columns=list(countries),\n",
    "                                 index=pval_df.index)\n",
    "print(pval_corrected_df.shape)\n",
    "\n",
    "# output to csv\n",
    "pval_corrected_df.to_csv(dir75 / \"country_top10_toc_pval_corrected.csv\")"
   ]
  },
  {
   "cell_type": "markdown",
   "metadata": {},
   "source": [
    "### Get corrected p-values for Fig 5F"
   ]
  },
  {
   "cell_type": "code",
   "execution_count": 35,
   "metadata": {},
   "outputs": [],
   "source": [
    "# country order\n",
    "c_order = [\"JPN\", \"GBR\", \"DEU\", \"FRA\", \"USA\", \"AUS\", \"ESP\", \"ITA\", \"CHN\", \"IND\"]\n",
    "\n",
    "# topic order\n",
    "t_order = [1, 69, 30, 9, 23, 28, 75, 86, 83, 21, 0, 54, 51]"
   ]
  },
  {
   "cell_type": "code",
   "execution_count": 42,
   "metadata": {},
   "outputs": [],
   "source": [
    "# [[pval_country1], [pval_country2], ...]]\n",
    "pvals_list = []\n",
    "for c in c_order:\n",
    "  pvals = []\n",
    "  for t in t_order:\n",
    "    pvals.append(pval_corrected_df.loc[t, c])\n",
    "  pvals_list.append(pvals)\n"
   ]
  },
  {
   "cell_type": "code",
   "execution_count": 44,
   "metadata": {},
   "outputs": [],
   "source": [
    "# Convert to np array\n",
    "pvals_arr = np.array(pvals_list).T\n",
    "\n",
    "# Convert to dataframe\n",
    "pvals_df = pd.DataFrame(pvals_arr, columns=c_order, index=t_order)\n",
    "\n",
    "# output to csv\n",
    "pvals_df.to_csv(dir75 / \"country_top10_toc_pval_corrected_Fig5F.csv\")"
   ]
  },
  {
   "cell_type": "code",
   "execution_count": 45,
   "metadata": {},
   "outputs": [
    {
     "data": {
      "text/html": [
       "<div>\n",
       "<style scoped>\n",
       "    .dataframe tbody tr th:only-of-type {\n",
       "        vertical-align: middle;\n",
       "    }\n",
       "\n",
       "    .dataframe tbody tr th {\n",
       "        vertical-align: top;\n",
       "    }\n",
       "\n",
       "    .dataframe thead th {\n",
       "        text-align: right;\n",
       "    }\n",
       "</style>\n",
       "<table border=\"1\" class=\"dataframe\">\n",
       "  <thead>\n",
       "    <tr style=\"text-align: right;\">\n",
       "      <th></th>\n",
       "      <th>JPN</th>\n",
       "      <th>GBR</th>\n",
       "      <th>DEU</th>\n",
       "      <th>FRA</th>\n",
       "      <th>USA</th>\n",
       "      <th>AUS</th>\n",
       "      <th>ESP</th>\n",
       "      <th>ITA</th>\n",
       "      <th>CHN</th>\n",
       "      <th>IND</th>\n",
       "    </tr>\n",
       "  </thead>\n",
       "  <tbody>\n",
       "    <tr>\n",
       "      <th>1</th>\n",
       "      <td>5.638950e-01</td>\n",
       "      <td>2.324108e-02</td>\n",
       "      <td>1.603221e-17</td>\n",
       "      <td>2.482440e-01</td>\n",
       "      <td>2.420217e-05</td>\n",
       "      <td>8.656122e-06</td>\n",
       "      <td>1.010774e-02</td>\n",
       "      <td>1.121777e-02</td>\n",
       "      <td>7.167128e-38</td>\n",
       "      <td>2.634212e-184</td>\n",
       "    </tr>\n",
       "    <tr>\n",
       "      <th>69</th>\n",
       "      <td>5.984807e-152</td>\n",
       "      <td>1.680876e-73</td>\n",
       "      <td>1.956934e-30</td>\n",
       "      <td>2.080004e-24</td>\n",
       "      <td>1.110435e-218</td>\n",
       "      <td>2.532725e-22</td>\n",
       "      <td>2.692763e-36</td>\n",
       "      <td>8.805576e-01</td>\n",
       "      <td>3.044451e-203</td>\n",
       "      <td>6.775499e-01</td>\n",
       "    </tr>\n",
       "    <tr>\n",
       "      <th>30</th>\n",
       "      <td>1.693636e-40</td>\n",
       "      <td>8.094176e-02</td>\n",
       "      <td>1.119947e-01</td>\n",
       "      <td>7.084776e-02</td>\n",
       "      <td>4.823607e-07</td>\n",
       "      <td>2.079011e-01</td>\n",
       "      <td>2.241177e-01</td>\n",
       "      <td>2.950271e-02</td>\n",
       "      <td>2.599642e-09</td>\n",
       "      <td>1.119393e-01</td>\n",
       "    </tr>\n",
       "    <tr>\n",
       "      <th>9</th>\n",
       "      <td>1.079546e-14</td>\n",
       "      <td>7.847829e-10</td>\n",
       "      <td>1.054466e-08</td>\n",
       "      <td>4.100327e-06</td>\n",
       "      <td>2.153816e-20</td>\n",
       "      <td>9.293587e-01</td>\n",
       "      <td>3.920159e-02</td>\n",
       "      <td>5.861011e-01</td>\n",
       "      <td>7.847940e-162</td>\n",
       "      <td>1.830068e-07</td>\n",
       "    </tr>\n",
       "    <tr>\n",
       "      <th>23</th>\n",
       "      <td>1.810340e-39</td>\n",
       "      <td>4.011821e-37</td>\n",
       "      <td>2.889594e-43</td>\n",
       "      <td>1.463937e-12</td>\n",
       "      <td>1.889890e-62</td>\n",
       "      <td>2.058462e-08</td>\n",
       "      <td>6.329757e-18</td>\n",
       "      <td>7.114919e-07</td>\n",
       "      <td>0.000000e+00</td>\n",
       "      <td>1.602068e-21</td>\n",
       "    </tr>\n",
       "  </tbody>\n",
       "</table>\n",
       "</div>"
      ],
      "text/plain": [
       "              JPN           GBR           DEU           FRA            USA  \\\n",
       "1    5.638950e-01  2.324108e-02  1.603221e-17  2.482440e-01   2.420217e-05   \n",
       "69  5.984807e-152  1.680876e-73  1.956934e-30  2.080004e-24  1.110435e-218   \n",
       "30   1.693636e-40  8.094176e-02  1.119947e-01  7.084776e-02   4.823607e-07   \n",
       "9    1.079546e-14  7.847829e-10  1.054466e-08  4.100327e-06   2.153816e-20   \n",
       "23   1.810340e-39  4.011821e-37  2.889594e-43  1.463937e-12   1.889890e-62   \n",
       "\n",
       "             AUS           ESP           ITA            CHN            IND  \n",
       "1   8.656122e-06  1.010774e-02  1.121777e-02   7.167128e-38  2.634212e-184  \n",
       "69  2.532725e-22  2.692763e-36  8.805576e-01  3.044451e-203   6.775499e-01  \n",
       "30  2.079011e-01  2.241177e-01  2.950271e-02   2.599642e-09   1.119393e-01  \n",
       "9   9.293587e-01  3.920159e-02  5.861011e-01  7.847940e-162   1.830068e-07  \n",
       "23  2.058462e-08  6.329757e-18  7.114919e-07   0.000000e+00   1.602068e-21  "
      ]
     },
     "execution_count": 45,
     "metadata": {},
     "output_type": "execute_result"
    }
   ],
   "source": [
    "pvals_df.head(5)"
   ]
  }
 ],
 "metadata": {
  "kernelspec": {
   "display_name": "bertopic",
   "language": "python",
   "name": "python3"
  },
  "language_info": {
   "codemirror_mode": {
    "name": "ipython",
    "version": 3
   },
   "file_extension": ".py",
   "mimetype": "text/x-python",
   "name": "python",
   "nbconvert_exporter": "python",
   "pygments_lexer": "ipython3",
   "version": "3.9.12"
  }
 },
 "nbformat": 4,
 "nbformat_minor": 2
}
