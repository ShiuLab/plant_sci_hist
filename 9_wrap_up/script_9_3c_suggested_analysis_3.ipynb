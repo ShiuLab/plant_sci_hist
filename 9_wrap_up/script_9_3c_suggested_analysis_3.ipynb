{
 "cells": [
  {
   "cell_type": "markdown",
   "metadata": {},
   "source": [
    "# __Reviewer feedback analysis 3__\n",
    "\n",
    "- Country topical enrichment statistics"
   ]
  },
  {
   "cell_type": "markdown",
   "metadata": {},
   "source": [
    "## ___Set up___"
   ]
  },
  {
   "cell_type": "code",
   "execution_count": 1,
   "metadata": {},
   "outputs": [],
   "source": [
    "# For topic enrichment per country p-value multiple testing correction\n",
    "from statsmodels.stats.multitest import multipletests\n",
    "\n",
    "# For umap\n",
    "import pickle, umap\n",
    "import numpy as np\n",
    "import pandas as pd\n",
    "import umap.plot\n",
    "import matplotlib.pyplot as plt\n",
    "from pathlib import Path\n",
    "from matplotlib import colors\n",
    "\n",
    "# for animated gif\n",
    "import imageio\n",
    "\n",
    "# for movie\n",
    "import cv2\n",
    "\n",
    "from tqdm import tqdm\n",
    "\n",
    "proj_dir = Path.home() / \"projects/plant_sci_hist\""
   ]
  },
  {
   "cell_type": "markdown",
   "metadata": {},
   "source": [
    "## ___Statistical significance of topical enrichment___\n",
    "\n",
    "Reviewer 1:\n",
    "\n",
    "\"For Figure 5F it is not clear which of the changes are statistically significant, particularly if controlling for testing of multiple hypotheses.\"\n",
    "\n",
    "Response: We have conduct statistical tests on these but did not report the results. They are now incorporated and we modified the figure to indicate significant differences after multiple testing corrections.\n"
   ]
  },
  {
   "cell_type": "markdown",
   "metadata": {},
   "source": [
    "### Multiple testing correction"
   ]
  },
  {
   "cell_type": "code",
   "execution_count": 10,
   "metadata": {},
   "outputs": [
    {
     "data": {
      "text/html": [
       "<div>\n",
       "<style scoped>\n",
       "    .dataframe tbody tr th:only-of-type {\n",
       "        vertical-align: middle;\n",
       "    }\n",
       "\n",
       "    .dataframe tbody tr th {\n",
       "        vertical-align: top;\n",
       "    }\n",
       "\n",
       "    .dataframe thead th {\n",
       "        text-align: right;\n",
       "    }\n",
       "</style>\n",
       "<table border=\"1\" class=\"dataframe\">\n",
       "  <thead>\n",
       "    <tr style=\"text-align: right;\">\n",
       "      <th></th>\n",
       "      <th>toc_name</th>\n",
       "      <th>CHN</th>\n",
       "      <th>USA</th>\n",
       "      <th>JPN</th>\n",
       "      <th>DEU</th>\n",
       "      <th>FRA</th>\n",
       "      <th>GBR</th>\n",
       "      <th>IND</th>\n",
       "      <th>ESP</th>\n",
       "      <th>ITA</th>\n",
       "      <th>AUS</th>\n",
       "    </tr>\n",
       "    <tr>\n",
       "      <th>toc</th>\n",
       "      <th></th>\n",
       "      <th></th>\n",
       "      <th></th>\n",
       "      <th></th>\n",
       "      <th></th>\n",
       "      <th></th>\n",
       "      <th></th>\n",
       "      <th></th>\n",
       "      <th></th>\n",
       "      <th></th>\n",
       "      <th></th>\n",
       "    </tr>\n",
       "  </thead>\n",
       "  <tbody>\n",
       "    <tr>\n",
       "      <th>0</th>\n",
       "      <td>allergen | pollen | ige | allergenic</td>\n",
       "      <td>4.535153e-42</td>\n",
       "      <td>1.609574e-17</td>\n",
       "      <td>0.885126</td>\n",
       "      <td>1.095708e-12</td>\n",
       "      <td>0.026466</td>\n",
       "      <td>0.000007</td>\n",
       "      <td>7.769514e-01</td>\n",
       "      <td>1.318535e-47</td>\n",
       "      <td>6.467812e-08</td>\n",
       "      <td>0.321514</td>\n",
       "    </tr>\n",
       "    <tr>\n",
       "      <th>1</th>\n",
       "      <td>medium | callus | regeneration | culture | som...</td>\n",
       "      <td>3.583564e-38</td>\n",
       "      <td>1.828608e-05</td>\n",
       "      <td>0.538833</td>\n",
       "      <td>4.987797e-18</td>\n",
       "      <td>0.209628</td>\n",
       "      <td>0.018076</td>\n",
       "      <td>5.853805e-186</td>\n",
       "      <td>6.176955e-03</td>\n",
       "      <td>7.353872e-03</td>\n",
       "      <td>0.000003</td>\n",
       "    </tr>\n",
       "  </tbody>\n",
       "</table>\n",
       "</div>"
      ],
      "text/plain": [
       "                                              toc_name           CHN  \\\n",
       "toc                                                                    \n",
       "0                 allergen | pollen | ige | allergenic  4.535153e-42   \n",
       "1    medium | callus | regeneration | culture | som...  3.583564e-38   \n",
       "\n",
       "              USA       JPN           DEU       FRA       GBR            IND  \\\n",
       "toc                                                                            \n",
       "0    1.609574e-17  0.885126  1.095708e-12  0.026466  0.000007   7.769514e-01   \n",
       "1    1.828608e-05  0.538833  4.987797e-18  0.209628  0.018076  5.853805e-186   \n",
       "\n",
       "              ESP           ITA       AUS  \n",
       "toc                                        \n",
       "0    1.318535e-47  6.467812e-08  0.321514  \n",
       "1    6.176955e-03  7.353872e-03  0.000003  "
      ]
     },
     "execution_count": 10,
     "metadata": {},
     "output_type": "execute_result"
    }
   ],
   "source": [
    "# stat is already generated, but not multiple-testing corrected\n",
    "\n",
    "# Get the p-values\n",
    "dir75     = proj_dir / \"7_countries/7_5_country_over_time\"\n",
    "pval_file = dir75 / \"country_top10_toc_pval.csv\"\n",
    "\n",
    "pval_df = pd.read_csv(pval_file, index_col=[0])\n",
    "pval_df.head(2)"
   ]
  },
  {
   "cell_type": "code",
   "execution_count": 32,
   "metadata": {},
   "outputs": [
    {
     "data": {
      "text/plain": [
       "Index(['CHN', 'USA', 'JPN', 'DEU', 'FRA', 'GBR', 'IND', 'ESP', 'ITA', 'AUS'], dtype='object')"
      ]
     },
     "execution_count": 32,
     "metadata": {},
     "output_type": "execute_result"
    }
   ],
   "source": [
    "countries = pval_df.columns[1:]\n",
    "countries"
   ]
  },
  {
   "cell_type": "code",
   "execution_count": 33,
   "metadata": {},
   "outputs": [
    {
     "data": {
      "text/plain": [
       "10"
      ]
     },
     "execution_count": 33,
     "metadata": {},
     "output_type": "execute_result"
    }
   ],
   "source": [
    "# correct for each country\n",
    "pval_corrected = []\n",
    "for country in countries:\n",
    "  pval = pval_df[country].values\n",
    "  pval_corrected.append(multipletests(pval, method='fdr_bh')[1])\n",
    "\n",
    "len(pval_corrected)"
   ]
  },
  {
   "cell_type": "code",
   "execution_count": 34,
   "metadata": {},
   "outputs": [
    {
     "name": "stdout",
     "output_type": "stream",
     "text": [
      "(90, 10)\n"
     ]
    }
   ],
   "source": [
    "# Turn into np array than transpose\n",
    "pval_corrected_arr = np.array(pval_corrected).T\n",
    "\n",
    "# Convert to dataframe\n",
    "pval_corrected_df = pd.DataFrame(pval_corrected_arr, columns=list(countries),\n",
    "                                 index=pval_df.index)\n",
    "print(pval_corrected_df.shape)\n",
    "\n",
    "# output to csv\n",
    "pval_corrected_df.to_csv(dir75 / \"country_top10_toc_pval_corrected.csv\")"
   ]
  },
  {
   "cell_type": "markdown",
   "metadata": {},
   "source": [
    "### Get corrected p-values for Fig 5F"
   ]
  },
  {
   "cell_type": "code",
   "execution_count": 35,
   "metadata": {},
   "outputs": [],
   "source": [
    "# country order\n",
    "c_order = [\"JPN\", \"GBR\", \"DEU\", \"FRA\", \"USA\", \"AUS\", \"ESP\", \"ITA\", \"CHN\", \"IND\"]\n",
    "\n",
    "# topic order\n",
    "t_order = [1, 69, 30, 9, 23, 28, 75, 86, 83, 21, 0, 54, 51]"
   ]
  },
  {
   "cell_type": "code",
   "execution_count": 42,
   "metadata": {},
   "outputs": [],
   "source": [
    "# [[pval_country1], [pval_country2], ...]]\n",
    "pvals_list = []\n",
    "for c in c_order:\n",
    "  pvals = []\n",
    "  for t in t_order:\n",
    "    pvals.append(pval_corrected_df.loc[t, c])\n",
    "  pvals_list.append(pvals)\n"
   ]
  },
  {
   "cell_type": "code",
   "execution_count": 44,
   "metadata": {},
   "outputs": [],
   "source": [
    "# Convert to np array\n",
    "pvals_arr = np.array(pvals_list).T\n",
    "\n",
    "# Convert to dataframe\n",
    "pvals_df = pd.DataFrame(pvals_arr, columns=c_order, index=t_order)\n",
    "\n",
    "# output to csv\n",
    "pvals_df.to_csv(dir75 / \"country_top10_toc_pval_corrected_Fig5F.csv\")"
   ]
  },
  {
   "cell_type": "code",
   "execution_count": 45,
   "metadata": {},
   "outputs": [
    {
     "data": {
      "text/html": [
       "<div>\n",
       "<style scoped>\n",
       "    .dataframe tbody tr th:only-of-type {\n",
       "        vertical-align: middle;\n",
       "    }\n",
       "\n",
       "    .dataframe tbody tr th {\n",
       "        vertical-align: top;\n",
       "    }\n",
       "\n",
       "    .dataframe thead th {\n",
       "        text-align: right;\n",
       "    }\n",
       "</style>\n",
       "<table border=\"1\" class=\"dataframe\">\n",
       "  <thead>\n",
       "    <tr style=\"text-align: right;\">\n",
       "      <th></th>\n",
       "      <th>JPN</th>\n",
       "      <th>GBR</th>\n",
       "      <th>DEU</th>\n",
       "      <th>FRA</th>\n",
       "      <th>USA</th>\n",
       "      <th>AUS</th>\n",
       "      <th>ESP</th>\n",
       "      <th>ITA</th>\n",
       "      <th>CHN</th>\n",
       "      <th>IND</th>\n",
       "    </tr>\n",
       "  </thead>\n",
       "  <tbody>\n",
       "    <tr>\n",
       "      <th>1</th>\n",
       "      <td>5.638950e-01</td>\n",
       "      <td>2.324108e-02</td>\n",
       "      <td>1.603221e-17</td>\n",
       "      <td>2.482440e-01</td>\n",
       "      <td>2.420217e-05</td>\n",
       "      <td>8.656122e-06</td>\n",
       "      <td>1.010774e-02</td>\n",
       "      <td>1.121777e-02</td>\n",
       "      <td>7.167128e-38</td>\n",
       "      <td>2.634212e-184</td>\n",
       "    </tr>\n",
       "    <tr>\n",
       "      <th>69</th>\n",
       "      <td>5.984807e-152</td>\n",
       "      <td>1.680876e-73</td>\n",
       "      <td>1.956934e-30</td>\n",
       "      <td>2.080004e-24</td>\n",
       "      <td>1.110435e-218</td>\n",
       "      <td>2.532725e-22</td>\n",
       "      <td>2.692763e-36</td>\n",
       "      <td>8.805576e-01</td>\n",
       "      <td>3.044451e-203</td>\n",
       "      <td>6.775499e-01</td>\n",
       "    </tr>\n",
       "    <tr>\n",
       "      <th>30</th>\n",
       "      <td>1.693636e-40</td>\n",
       "      <td>8.094176e-02</td>\n",
       "      <td>1.119947e-01</td>\n",
       "      <td>7.084776e-02</td>\n",
       "      <td>4.823607e-07</td>\n",
       "      <td>2.079011e-01</td>\n",
       "      <td>2.241177e-01</td>\n",
       "      <td>2.950271e-02</td>\n",
       "      <td>2.599642e-09</td>\n",
       "      <td>1.119393e-01</td>\n",
       "    </tr>\n",
       "    <tr>\n",
       "      <th>9</th>\n",
       "      <td>1.079546e-14</td>\n",
       "      <td>7.847829e-10</td>\n",
       "      <td>1.054466e-08</td>\n",
       "      <td>4.100327e-06</td>\n",
       "      <td>2.153816e-20</td>\n",
       "      <td>9.293587e-01</td>\n",
       "      <td>3.920159e-02</td>\n",
       "      <td>5.861011e-01</td>\n",
       "      <td>7.847940e-162</td>\n",
       "      <td>1.830068e-07</td>\n",
       "    </tr>\n",
       "    <tr>\n",
       "      <th>23</th>\n",
       "      <td>1.810340e-39</td>\n",
       "      <td>4.011821e-37</td>\n",
       "      <td>2.889594e-43</td>\n",
       "      <td>1.463937e-12</td>\n",
       "      <td>1.889890e-62</td>\n",
       "      <td>2.058462e-08</td>\n",
       "      <td>6.329757e-18</td>\n",
       "      <td>7.114919e-07</td>\n",
       "      <td>0.000000e+00</td>\n",
       "      <td>1.602068e-21</td>\n",
       "    </tr>\n",
       "  </tbody>\n",
       "</table>\n",
       "</div>"
      ],
      "text/plain": [
       "              JPN           GBR           DEU           FRA            USA  \\\n",
       "1    5.638950e-01  2.324108e-02  1.603221e-17  2.482440e-01   2.420217e-05   \n",
       "69  5.984807e-152  1.680876e-73  1.956934e-30  2.080004e-24  1.110435e-218   \n",
       "30   1.693636e-40  8.094176e-02  1.119947e-01  7.084776e-02   4.823607e-07   \n",
       "9    1.079546e-14  7.847829e-10  1.054466e-08  4.100327e-06   2.153816e-20   \n",
       "23   1.810340e-39  4.011821e-37  2.889594e-43  1.463937e-12   1.889890e-62   \n",
       "\n",
       "             AUS           ESP           ITA            CHN            IND  \n",
       "1   8.656122e-06  1.010774e-02  1.121777e-02   7.167128e-38  2.634212e-184  \n",
       "69  2.532725e-22  2.692763e-36  8.805576e-01  3.044451e-203   6.775499e-01  \n",
       "30  2.079011e-01  2.241177e-01  2.950271e-02   2.599642e-09   1.119393e-01  \n",
       "9   9.293587e-01  3.920159e-02  5.861011e-01  7.847940e-162   1.830068e-07  \n",
       "23  2.058462e-08  6.329757e-18  7.114919e-07   0.000000e+00   1.602068e-21  "
      ]
     },
     "execution_count": 45,
     "metadata": {},
     "output_type": "execute_result"
    }
   ],
   "source": [
    "pvals_df.head(5)"
   ]
  },
  {
   "cell_type": "markdown",
   "metadata": {},
   "source": [
    "## ___Statistical significance of species enrichment___\n",
    "\n",
    "Although this is not mentioned in the review, thought it makes sense to also get stats and modify Figure 4 on species enrichment.\n",
    "\n",
    "The p-values are already generated in Dataset S10. Need to add a sheet with corrected p-values."
   ]
  },
  {
   "cell_type": "markdown",
   "metadata": {},
   "source": [
    "### Set up"
   ]
  },
  {
   "cell_type": "code",
   "execution_count": 7,
   "metadata": {},
   "outputs": [],
   "source": [
    "# stat is already generated, but not multiple-testing corrected\n",
    "\n",
    "# Get the p-values\n",
    "dir53     = proj_dir / \"5_species_over_time/5_3_sp_topic_time\"\n",
    "pval_file = dir53 / \"table_df_toc_FET_top5_genera.xlsx\"\n",
    "\n",
    "pval_df_gly = pd.read_excel(pval_file, sheet_name=\"Glycine\", index_col=[0])\n",
    "pval_df_tri = pd.read_excel(pval_file, sheet_name=\"Triticum\", index_col=[0])\n",
    "pval_df_ory = pd.read_excel(pval_file, sheet_name=\"Oryza\", index_col=[0])\n",
    "pval_df_ara = pd.read_excel(pval_file, sheet_name=\"Arabidopsis\", index_col=[0])\n",
    "pval_df_nic = pd.read_excel(pval_file, sheet_name=\"Nicotiana\", index_col=[0])"
   ]
  },
  {
   "cell_type": "code",
   "execution_count": 9,
   "metadata": {},
   "outputs": [
    {
     "data": {
      "text/html": [
       "<div>\n",
       "<style scoped>\n",
       "    .dataframe tbody tr th:only-of-type {\n",
       "        vertical-align: middle;\n",
       "    }\n",
       "\n",
       "    .dataframe tbody tr th {\n",
       "        vertical-align: top;\n",
       "    }\n",
       "\n",
       "    .dataframe thead th {\n",
       "        text-align: right;\n",
       "    }\n",
       "</style>\n",
       "<table border=\"1\" class=\"dataframe\">\n",
       "  <thead>\n",
       "    <tr style=\"text-align: right;\">\n",
       "      <th></th>\n",
       "      <th>Glycine</th>\n",
       "      <th>Triticum</th>\n",
       "      <th>Oryza</th>\n",
       "      <th>Arabidopsis</th>\n",
       "      <th>Nicotiana</th>\n",
       "    </tr>\n",
       "    <tr>\n",
       "      <th>Topic</th>\n",
       "      <th></th>\n",
       "      <th></th>\n",
       "      <th></th>\n",
       "      <th></th>\n",
       "      <th></th>\n",
       "    </tr>\n",
       "  </thead>\n",
       "  <tbody>\n",
       "    <tr>\n",
       "      <th>0</th>\n",
       "      <td>0.734667</td>\n",
       "      <td>0.025205</td>\n",
       "      <td>0.017289</td>\n",
       "      <td>6.732209e-38</td>\n",
       "      <td>0.004270</td>\n",
       "    </tr>\n",
       "    <tr>\n",
       "      <th>1</th>\n",
       "      <td>0.000158</td>\n",
       "      <td>0.023164</td>\n",
       "      <td>0.456883</td>\n",
       "      <td>2.526232e-122</td>\n",
       "      <td>0.016604</td>\n",
       "    </tr>\n",
       "  </tbody>\n",
       "</table>\n",
       "</div>"
      ],
      "text/plain": [
       "        Glycine  Triticum     Oryza    Arabidopsis  Nicotiana\n",
       "Topic                                                        \n",
       "0      0.734667  0.025205  0.017289   6.732209e-38   0.004270\n",
       "1      0.000158  0.023164  0.456883  2.526232e-122   0.016604"
      ]
     },
     "execution_count": 9,
     "metadata": {},
     "output_type": "execute_result"
    }
   ],
   "source": [
    "pval_df = pd.DataFrame((pval_df_gly[\"Pvalue\"],\n",
    "                        pval_df_ory[\"Pvalue\"],\n",
    "                        pval_df_tri[\"Pvalue\"],\n",
    "                        pval_df_ara[\"Pvalue\"],\n",
    "                        pval_df_nic[\"Pvalue\"])).T\n",
    "\n",
    "species         = [\"Glycine\", \"Triticum\", \"Oryza\", \"Arabidopsis\", \"Nicotiana\"]\n",
    "pval_df.columns = species\n",
    "\n",
    "pval_df.head(2)"
   ]
  },
  {
   "cell_type": "markdown",
   "metadata": {},
   "source": [
    "### Multiple testing correction"
   ]
  },
  {
   "cell_type": "code",
   "execution_count": 10,
   "metadata": {},
   "outputs": [
    {
     "data": {
      "text/plain": [
       "5"
      ]
     },
     "execution_count": 10,
     "metadata": {},
     "output_type": "execute_result"
    }
   ],
   "source": [
    "# correct for each country\n",
    "pval_corrected = []\n",
    "for sp in species:\n",
    "  pval = pval_df[sp].values\n",
    "  pval_corrected.append(multipletests(pval, method='fdr_bh')[1])\n",
    "\n",
    "len(pval_corrected)"
   ]
  },
  {
   "cell_type": "code",
   "execution_count": 11,
   "metadata": {},
   "outputs": [
    {
     "name": "stdout",
     "output_type": "stream",
     "text": [
      "(90, 5)\n"
     ]
    }
   ],
   "source": [
    "# Turn into np array than transpose\n",
    "pval_corrected_arr = np.array(pval_corrected).T\n",
    "\n",
    "# Convert to dataframe\n",
    "pval_corrected_df = pd.DataFrame(pval_corrected_arr, \n",
    "                                 columns=list(species),\n",
    "                                 index=pval_df.index)\n",
    "print(pval_corrected_df.shape)\n",
    "\n",
    "# output to csv\n",
    "pval_corrected_df.to_csv(dir53 / \"species_top5_toc_pval_corrected.csv\")"
   ]
  },
  {
   "cell_type": "markdown",
   "metadata": {},
   "source": [
    "### Get corrected p-values for Fig 5F"
   ]
  },
  {
   "cell_type": "code",
   "execution_count": 12,
   "metadata": {},
   "outputs": [
    {
     "data": {
      "text/plain": [
       "[26,\n",
       " 21,\n",
       " 27,\n",
       " 29,\n",
       " 28,\n",
       " 33,\n",
       " 10,\n",
       " 30,\n",
       " 23,\n",
       " 11,\n",
       " 3,\n",
       " 12,\n",
       " 61,\n",
       " 77,\n",
       " 70,\n",
       " 69,\n",
       " 5,\n",
       " 75,\n",
       " 54,\n",
       " 76,\n",
       " 57,\n",
       " 9,\n",
       " 71]"
      ]
     },
     "execution_count": 12,
     "metadata": {},
     "output_type": "execute_result"
    }
   ],
   "source": [
    "# country order\n",
    "s_order = [\"Arabidopsis\", \"Oryza\", \"Nicotiana\", \"Triticum\", \"Glycine\"]\n",
    "\n",
    "# topic order copied from illustrator\n",
    "t_order_rev = [71,9,57,76,54,75,5,69,70,77,61,12,3,11,23,30,10,33,28,29,27,21,26]\n",
    "t_order = t_order_rev[::-1]\n",
    "\n",
    "t_order"
   ]
  },
  {
   "cell_type": "code",
   "execution_count": 13,
   "metadata": {},
   "outputs": [],
   "source": [
    "# [[pval_sp1], [pval_sp2], ...]]\n",
    "pvals_list = []\n",
    "for s in s_order:\n",
    "  pvals = []\n",
    "  for t in t_order:\n",
    "    pvals.append(pval_corrected_df.loc[t, s])\n",
    "  pvals_list.append(pvals)\n"
   ]
  },
  {
   "cell_type": "code",
   "execution_count": 15,
   "metadata": {},
   "outputs": [],
   "source": [
    "# Convert to np array\n",
    "pvals_arr = np.array(pvals_list).T\n",
    "\n",
    "# Convert to dataframe\n",
    "pvals_df = pd.DataFrame(pvals_arr, columns=s_order, index=t_order)\n",
    "\n",
    "# output to csv\n",
    "pvals_df.to_csv(dir53 / \"species_top10_toc_pval_corrected_Fig5F.csv\")"
   ]
  },
  {
   "cell_type": "code",
   "execution_count": null,
   "metadata": {},
   "outputs": [],
   "source": []
  }
 ],
 "metadata": {
  "kernelspec": {
   "display_name": "bertopic",
   "language": "python",
   "name": "python3"
  },
  "language_info": {
   "codemirror_mode": {
    "name": "ipython",
    "version": 3
   },
   "file_extension": ".py",
   "mimetype": "text/x-python",
   "name": "python",
   "nbconvert_exporter": "python",
   "pygments_lexer": "ipython3",
   "version": "3.9.12"
  }
 },
 "nbformat": 4,
 "nbformat_minor": 2
}
