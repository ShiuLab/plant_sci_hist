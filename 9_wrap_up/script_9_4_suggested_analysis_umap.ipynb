{
 "cells": [
  {
   "cell_type": "markdown",
   "metadata": {},
   "source": [
    "## ___Set up___"
   ]
  },
  {
   "cell_type": "code",
   "execution_count": 9,
   "metadata": {},
   "outputs": [],
   "source": [
    "import pickle, umap\n",
    "import numpy as np\n",
    "import pandas as pd\n",
    "#import umap.plot\n",
    "import matplotlib.pyplot as plt\n",
    "from pathlib import Path\n",
    "from matplotlib import colors"
   ]
  },
  {
   "cell_type": "code",
   "execution_count": 3,
   "metadata": {},
   "outputs": [],
   "source": [
    "proj_dir     = Path.home() / \"projects/plant_sci_hist\"\n",
    "\n",
    "dir42        = proj_dir / \"4_topic_model/4_2_outlier_assign\"\n",
    "prob_file    = dir42 / \"probs.pickle\"\n",
    "\n",
    "# Check which of the two correspond to the prob file because the plotting is \n",
    "# done based on the topic assignments using the prob files. Need to make sure \n",
    "# the number of records are consistent between prob file and the corpus file.\n",
    "corpus_file1 = dir42 / \"table4_2_corpus_with_topic_assignment.tsv.gz\"\n",
    "corpus_file2 = dir42 / \"table7_5_corpus_with_topic_assignment_nodup.tsv.gz\"\n",
    "\n",
    "dir46       = proj_dir / \"4_topic_model/4_6_umap\"\n",
    "mapper_file = dir46 / '_umap_nn40/mapper_topics_all.pickle'\n",
    "\n",
    "work_dir    = proj_dir / \"9_wrap_up/9_4_umap\"\n",
    "work_dir.mkdir(exist_ok=True)\n",
    "\n",
    "mapper_dir = work_dir / \"_umap_nn40_year\""
   ]
  },
  {
   "cell_type": "markdown",
   "metadata": {},
   "source": [
    "## ___Get the year array___"
   ]
  },
  {
   "cell_type": "code",
   "execution_count": 5,
   "metadata": {},
   "outputs": [
    {
     "data": {
      "text/plain": [
       "((421658, 90), (421658, 13), (421307, 13))"
      ]
     },
     "execution_count": 5,
     "metadata": {},
     "output_type": "execute_result"
    }
   ],
   "source": [
    "# first check the size of prob, corpus file 1 and corpus file 2\n",
    "with open(prob_file, 'rb') as f:\n",
    "    probs = pickle.load(f)\n",
    "\n",
    "corpus1 = pd.read_csv(corpus_file1, sep='\\t', compression='gzip')\n",
    "corpus2 = pd.read_csv(corpus_file2, sep='\\t', compression='gzip')\n",
    "\n",
    "probs.shape, corpus1.shape, corpus2.shape"
   ]
  },
  {
   "cell_type": "code",
   "execution_count": 6,
   "metadata": {},
   "outputs": [
    {
     "data": {
      "text/html": [
       "<div>\n",
       "<style scoped>\n",
       "    .dataframe tbody tr th:only-of-type {\n",
       "        vertical-align: middle;\n",
       "    }\n",
       "\n",
       "    .dataframe tbody tr th {\n",
       "        vertical-align: top;\n",
       "    }\n",
       "\n",
       "    .dataframe thead th {\n",
       "        text-align: right;\n",
       "    }\n",
       "</style>\n",
       "<table border=\"1\" class=\"dataframe\">\n",
       "  <thead>\n",
       "    <tr style=\"text-align: right;\">\n",
       "      <th></th>\n",
       "      <th>Unnamed: 0</th>\n",
       "      <th>Index_1385417</th>\n",
       "      <th>PMID</th>\n",
       "      <th>Date</th>\n",
       "      <th>Journal</th>\n",
       "      <th>Title</th>\n",
       "      <th>Abstract</th>\n",
       "      <th>Initial filter qualifier</th>\n",
       "      <th>Corpus</th>\n",
       "      <th>reg_article</th>\n",
       "      <th>Text classification score</th>\n",
       "      <th>Preprocessed corpus</th>\n",
       "      <th>Topic</th>\n",
       "    </tr>\n",
       "  </thead>\n",
       "  <tbody>\n",
       "    <tr>\n",
       "      <th>0</th>\n",
       "      <td>0</td>\n",
       "      <td>3</td>\n",
       "      <td>61</td>\n",
       "      <td>1975-12-11</td>\n",
       "      <td>Biochimica et biophysica acta</td>\n",
       "      <td>Identification of the 120 mus phase in the dec...</td>\n",
       "      <td>After a 500 mus laser flash a 120 mus phase in...</td>\n",
       "      <td>spinach</td>\n",
       "      <td>Identification of the 120 mus phase in the dec...</td>\n",
       "      <td>1</td>\n",
       "      <td>0.716394</td>\n",
       "      <td>identification 120 mus phase decay delayed flu...</td>\n",
       "      <td>52</td>\n",
       "    </tr>\n",
       "    <tr>\n",
       "      <th>1</th>\n",
       "      <td>1</td>\n",
       "      <td>4</td>\n",
       "      <td>67</td>\n",
       "      <td>1975-11-20</td>\n",
       "      <td>Biochimica et biophysica acta</td>\n",
       "      <td>Cholinesterases from plant tissues. VI. Prelim...</td>\n",
       "      <td>Enzymes capable of hydrolyzing esters of thioc...</td>\n",
       "      <td>plant</td>\n",
       "      <td>Cholinesterases from plant tissues. VI. Prelim...</td>\n",
       "      <td>1</td>\n",
       "      <td>0.894874</td>\n",
       "      <td>cholinesterases plant tissues . vi . prelimina...</td>\n",
       "      <td>48</td>\n",
       "    </tr>\n",
       "    <tr>\n",
       "      <th>2</th>\n",
       "      <td>2</td>\n",
       "      <td>9</td>\n",
       "      <td>283</td>\n",
       "      <td>1975-01-01</td>\n",
       "      <td>Folia microbiologica</td>\n",
       "      <td>Fructose 1,6-bisphosphate aldolase activity of...</td>\n",
       "      <td>FDP aldolase was found to be present in the ce...</td>\n",
       "      <td>sesbania</td>\n",
       "      <td>Fructose 1,6-bisphosphate aldolase activity of...</td>\n",
       "      <td>1</td>\n",
       "      <td>0.901070</td>\n",
       "      <td>fructose 1,6-bisphosphate aldolase activity rh...</td>\n",
       "      <td>48</td>\n",
       "    </tr>\n",
       "    <tr>\n",
       "      <th>3</th>\n",
       "      <td>3</td>\n",
       "      <td>14</td>\n",
       "      <td>380</td>\n",
       "      <td>1975-07-01</td>\n",
       "      <td>Journal of biochemistry</td>\n",
       "      <td>Studies on trypsin inhibitor in barley. I. Pur...</td>\n",
       "      <td>To clarify the properties and functions of a t...</td>\n",
       "      <td>barley</td>\n",
       "      <td>Studies on trypsin inhibitor in barley. I. Pur...</td>\n",
       "      <td>1</td>\n",
       "      <td>0.894069</td>\n",
       "      <td>studies trypsin inhibitor barley . i. purifica...</td>\n",
       "      <td>48</td>\n",
       "    </tr>\n",
       "    <tr>\n",
       "      <th>4</th>\n",
       "      <td>4</td>\n",
       "      <td>17</td>\n",
       "      <td>385</td>\n",
       "      <td>1975-11-10</td>\n",
       "      <td>The Journal of biological chemistry</td>\n",
       "      <td>Reconstitution of ion transport and respirator...</td>\n",
       "      <td>Reduced coenzyme Q-cytochrome c reductase from...</td>\n",
       "      <td>soybean</td>\n",
       "      <td>Reconstitution of ion transport and respirator...</td>\n",
       "      <td>1</td>\n",
       "      <td>0.827328</td>\n",
       "      <td>reconstitution ion transport respiratory contr...</td>\n",
       "      <td>47</td>\n",
       "    </tr>\n",
       "  </tbody>\n",
       "</table>\n",
       "</div>"
      ],
      "text/plain": [
       "   Unnamed: 0  Index_1385417  PMID        Date  \\\n",
       "0           0              3    61  1975-12-11   \n",
       "1           1              4    67  1975-11-20   \n",
       "2           2              9   283  1975-01-01   \n",
       "3           3             14   380  1975-07-01   \n",
       "4           4             17   385  1975-11-10   \n",
       "\n",
       "                               Journal  \\\n",
       "0        Biochimica et biophysica acta   \n",
       "1        Biochimica et biophysica acta   \n",
       "2                 Folia microbiologica   \n",
       "3              Journal of biochemistry   \n",
       "4  The Journal of biological chemistry   \n",
       "\n",
       "                                               Title  \\\n",
       "0  Identification of the 120 mus phase in the dec...   \n",
       "1  Cholinesterases from plant tissues. VI. Prelim...   \n",
       "2  Fructose 1,6-bisphosphate aldolase activity of...   \n",
       "3  Studies on trypsin inhibitor in barley. I. Pur...   \n",
       "4  Reconstitution of ion transport and respirator...   \n",
       "\n",
       "                                            Abstract Initial filter qualifier  \\\n",
       "0  After a 500 mus laser flash a 120 mus phase in...                  spinach   \n",
       "1  Enzymes capable of hydrolyzing esters of thioc...                    plant   \n",
       "2  FDP aldolase was found to be present in the ce...                 sesbania   \n",
       "3  To clarify the properties and functions of a t...                   barley   \n",
       "4  Reduced coenzyme Q-cytochrome c reductase from...                  soybean   \n",
       "\n",
       "                                              Corpus  reg_article  \\\n",
       "0  Identification of the 120 mus phase in the dec...            1   \n",
       "1  Cholinesterases from plant tissues. VI. Prelim...            1   \n",
       "2  Fructose 1,6-bisphosphate aldolase activity of...            1   \n",
       "3  Studies on trypsin inhibitor in barley. I. Pur...            1   \n",
       "4  Reconstitution of ion transport and respirator...            1   \n",
       "\n",
       "   Text classification score  \\\n",
       "0                   0.716394   \n",
       "1                   0.894874   \n",
       "2                   0.901070   \n",
       "3                   0.894069   \n",
       "4                   0.827328   \n",
       "\n",
       "                                 Preprocessed corpus  Topic  \n",
       "0  identification 120 mus phase decay delayed flu...     52  \n",
       "1  cholinesterases plant tissues . vi . prelimina...     48  \n",
       "2  fructose 1,6-bisphosphate aldolase activity rh...     48  \n",
       "3  studies trypsin inhibitor barley . i. purifica...     48  \n",
       "4  reconstitution ion transport respiratory contr...     47  "
      ]
     },
     "execution_count": 6,
     "metadata": {},
     "output_type": "execute_result"
    }
   ],
   "source": [
    "# Ok, the prob is based on the original with some duplicates\n",
    "# Also, check 4_6 and the topical assignment is consistent\n",
    "corpus1.head()"
   ]
  },
  {
   "cell_type": "code",
   "execution_count": 7,
   "metadata": {},
   "outputs": [
    {
     "data": {
      "text/plain": [
       "array([1975, 1975, 1975, 1975, 1975])"
      ]
     },
     "execution_count": 7,
     "metadata": {},
     "output_type": "execute_result"
    }
   ],
   "source": [
    "yr_array = np.array([int(x.split(\"-\")[0]) for x in corpus1[\"Date\"]])\n",
    "\n",
    "yr_array[:5]"
   ]
  },
  {
   "cell_type": "markdown",
   "metadata": {},
   "source": [
    "## ___Read mapper obj___"
   ]
  },
  {
   "cell_type": "code",
   "execution_count": 11,
   "metadata": {},
   "outputs": [
    {
     "ename": "TypeError",
     "evalue": "code() argument 13 must be str, not int",
     "output_type": "error",
     "traceback": [
      "\u001b[0;31m---------------------------------------------------------------------------\u001b[0m",
      "\u001b[0;31mTypeError\u001b[0m                                 Traceback (most recent call last)",
      "Cell \u001b[0;32mIn[11], line 2\u001b[0m\n\u001b[1;32m      1\u001b[0m \u001b[38;5;28;01mwith\u001b[39;00m \u001b[38;5;28mopen\u001b[39m(mapper_file, \u001b[38;5;124m\"\u001b[39m\u001b[38;5;124mrb\u001b[39m\u001b[38;5;124m\"\u001b[39m) \u001b[38;5;28;01mas\u001b[39;00m f:\n\u001b[0;32m----> 2\u001b[0m   mapper \u001b[38;5;241m=\u001b[39m \u001b[43mpickle\u001b[49m\u001b[38;5;241;43m.\u001b[39;49m\u001b[43mload\u001b[49m\u001b[43m(\u001b[49m\u001b[43mf\u001b[49m\u001b[43m)\u001b[49m\n",
      "File \u001b[0;32m~/miniconda3/envs/umap/lib/python3.12/site-packages/numba/core/serialize.py:110\u001b[0m, in \u001b[0;36m_unpickle__CustomPickled\u001b[0;34m(serialized)\u001b[0m\n\u001b[1;32m    105\u001b[0m \u001b[38;5;28;01mdef\u001b[39;00m \u001b[38;5;21m_unpickle__CustomPickled\u001b[39m(serialized):\n\u001b[1;32m    106\u001b[0m \u001b[38;5;250m    \u001b[39m\u001b[38;5;124;03m\"\"\"standard unpickling for `_CustomPickled`.\u001b[39;00m\n\u001b[1;32m    107\u001b[0m \n\u001b[1;32m    108\u001b[0m \u001b[38;5;124;03m    Uses `NumbaPickler` to load.\u001b[39;00m\n\u001b[1;32m    109\u001b[0m \u001b[38;5;124;03m    \"\"\"\u001b[39;00m\n\u001b[0;32m--> 110\u001b[0m     ctor, states \u001b[38;5;241m=\u001b[39m \u001b[43mloads\u001b[49m\u001b[43m(\u001b[49m\u001b[43mserialized\u001b[49m\u001b[43m)\u001b[49m\n\u001b[1;32m    111\u001b[0m     \u001b[38;5;28;01mreturn\u001b[39;00m _CustomPickled(ctor, states)\n",
      "\u001b[0;31mTypeError\u001b[0m: code() argument 13 must be str, not int"
     ]
    }
   ],
   "source": [
    "with open(mapper_file, \"rb\") as f:\n",
    "  mapper = pickle.load(f)"
   ]
  },
  {
   "cell_type": "markdown",
   "metadata": {},
   "source": [
    "## ___Plotting functions___\n",
    "\n",
    "Lifted from 4_6."
   ]
  },
  {
   "cell_type": "code",
   "execution_count": null,
   "metadata": {},
   "outputs": [],
   "source": [
    "# get colors\n",
    "#To get color bins:\n",
    "#https://stackoverflow.com/questions/69085926/have-each-histogram-bin-with-a-different-color\n",
    "#Matplotlib color map\n",
    "#https://matplotlib.org/stable/gallery/color/colormap_reference.html \n",
    "#RGB and RGBA\n",
    "#https://matplotlib.org/stable/tutorials/colors/colors.html\n",
    "# rgb or rgba won't work for color_keys later, need hex color\n",
    "#https://matplotlib.org/3.1.1/api/_as_gen/matplotlib.colors.to_hex.html#matplotlib.colors.to_hex\n",
    "def get_ckeys():\n",
    "  cm = plt.cm.rainbow\n",
    "  #cm = plt.cm.turbo\n",
    "  #cm = plt.cm.hsv\n",
    "  ckeys = {i:colors.to_hex(cm(i/91)) for i in range(-1,91)}\n",
    "  return ckeys"
   ]
  },
  {
   "cell_type": "code",
   "execution_count": null,
   "metadata": {},
   "outputs": [],
   "source": [
    "def umap_plot_each(mapper_dir, mapper, labels, year, c_fg, c_bg):\n",
    "  '''Do umap plot for each year, lifted from 4.6.\n",
    "  Args:\n",
    "    mapper_dir (Path): directory where the mapper object is and where the plot \n",
    "      will be saved\n",
    "    mapper (umap.umap_.UMAP): mapper object\n",
    "    labels (list): list of labels for the mapping (1 for the topic of interest,\n",
    "      0 for all other topics)\n",
    "    topic (int): topic info to be included in the title\n",
    "    c_fg (str): color for the topic\n",
    "    c_bg (str): color for all other topics\n",
    "  '''\n",
    "  \n",
    "  color_key={f\"year={year}\":c_fg, \"all_others\":c_bg}\n",
    "\n",
    "  umap.plot.points(mapper, labels=labels, color_key=color_key)\n",
    "  mapper_year_plot = mapper_dir / f'fig_9_4_mapper_year_{year}.pdf'\n",
    "  plt.title(f'Year {year}')\n",
    "  plt.savefig(mapper_year_plot)\n",
    "  plt.close()"
   ]
  },
  {
   "cell_type": "code",
   "execution_count": null,
   "metadata": {},
   "outputs": [],
   "source": [
    "def plot_each(mapper_dir, mapper, yr_array, ckeys, c_fg=\"\", c_bg=\"lightgray\",\n",
    "              test_plot=0):\n",
    "  ''' Go through years\n",
    "  Args:\n",
    "    mapper_dir (Path): directory of mapper object\n",
    "    mapper (UMAP): mapper object\n",
    "    yr_array (Numpy array): int array with years\n",
    "    ckeys (array): array of colors\n",
    "    c_fg (str): foreground color, if not set, all topic colors will be the same\n",
    "    c_bg (str): background color, default lightgray\n",
    "  '''\n",
    "  c = 0\n",
    "  for year in range(-1,90):\n",
    "\n",
    "    yr_labels = []\n",
    "\n",
    "    if c_fg == \"\":\n",
    "      c_fg = ckeys[year+1]\n",
    "\n",
    "    # Modify labels\n",
    "    for label in yr_array:\n",
    "      if label == year:\n",
    "        yr_labels.append(f\"year={year}\")\n",
    "      else:\n",
    "        yr_labels.append(\"all_others\")\n",
    "\n",
    "    # Change label list into an array for umap.plot\n",
    "    labels_array =  np.array(yr_labels)\n",
    "\n",
    "    # Plotting\n",
    "    umap_plot_each(mapper_dir, mapper, labels_array, year, c_fg, c_bg)\n",
    "    \n",
    "    if test_plot and c == 5:\n",
    "      break\n",
    "    c += 1"
   ]
  },
  {
   "cell_type": "markdown",
   "metadata": {},
   "source": [
    "## ___Plotting each topic___"
   ]
  },
  {
   "cell_type": "code",
   "execution_count": 10,
   "metadata": {},
   "outputs": [
    {
     "ename": "NameError",
     "evalue": "name 'get_ckeys' is not defined",
     "output_type": "error",
     "traceback": [
      "\u001b[0;31m---------------------------------------------------------------------------\u001b[0m",
      "\u001b[0;31mNameError\u001b[0m                                 Traceback (most recent call last)",
      "Cell \u001b[0;32mIn[10], line 1\u001b[0m\n\u001b[0;32m----> 1\u001b[0m ckeys \u001b[38;5;241m=\u001b[39m \u001b[43mget_ckeys\u001b[49m()\n\u001b[1;32m      3\u001b[0m plot_each(mapper_dir, mapper_def, yr_array, ckeys, c_fg\u001b[38;5;241m=\u001b[39m\u001b[38;5;124m\"\u001b[39m\u001b[38;5;124mred\u001b[39m\u001b[38;5;124m\"\u001b[39m, c_bg\u001b[38;5;241m=\u001b[39m\u001b[38;5;124m\"\u001b[39m\u001b[38;5;124mlightgray\u001b[39m\u001b[38;5;124m\"\u001b[39m,\n\u001b[1;32m      4\u001b[0m           test_plot\u001b[38;5;241m=\u001b[39m\u001b[38;5;241m1\u001b[39m)\n",
      "\u001b[0;31mNameError\u001b[0m: name 'get_ckeys' is not defined"
     ]
    }
   ],
   "source": [
    "ckeys = get_ckeys()\n",
    "\n",
    "plot_each(mapper_dir, mapper_def, yr_array, ckeys, c_fg=\"red\", c_bg=\"lightgray\",\n",
    "          test_plot=1)"
   ]
  },
  {
   "cell_type": "code",
   "execution_count": null,
   "metadata": {},
   "outputs": [],
   "source": []
  }
 ],
 "metadata": {
  "kernelspec": {
   "display_name": "bertopic",
   "language": "python",
   "name": "python3"
  },
  "language_info": {
   "codemirror_mode": {
    "name": "ipython",
    "version": 3
   },
   "file_extension": ".py",
   "mimetype": "text/x-python",
   "name": "python",
   "nbconvert_exporter": "python",
   "pygments_lexer": "ipython3",
   "version": "3.12.1"
  }
 },
 "nbformat": 4,
 "nbformat_minor": 2
}
