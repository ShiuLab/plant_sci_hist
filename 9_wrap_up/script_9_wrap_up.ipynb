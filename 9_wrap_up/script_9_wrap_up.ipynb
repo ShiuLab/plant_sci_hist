{
 "cells": [
  {
   "cell_type": "markdown",
   "metadata": {},
   "source": [
    "# __9 Wrap up__\n",
    "\n",
    "Goal:\n",
    "- Tie the loose ends"
   ]
  },
  {
   "cell_type": "markdown",
   "metadata": {},
   "source": [
    "## ___Setup___"
   ]
  },
  {
   "cell_type": "markdown",
   "metadata": {},
   "source": [
    "### Module import\n",
    "\n",
    "In conda env `base`"
   ]
  },
  {
   "cell_type": "code",
   "execution_count": 23,
   "metadata": {},
   "outputs": [],
   "source": [
    "import pickle\n",
    "import pandas as pd\n",
    "import numpy as np\n",
    "import matplotlib as mpl\n",
    "import matplotlib.pyplot as plt\n",
    "from pathlib import Path\n",
    "from scipy.optimize import curve_fit"
   ]
  },
  {
   "cell_type": "markdown",
   "metadata": {},
   "source": [
    "### Key variables"
   ]
  },
  {
   "cell_type": "code",
   "execution_count": 2,
   "metadata": {},
   "outputs": [],
   "source": [
    "# Reproducibility\n",
    "seed = 20220609\n",
    "\n",
    "# Setting working directory\n",
    "proj_dir   = Path.home() / \"projects/plant_sci_hist\"\n",
    "work_dir   = proj_dir / \"9_wrap_up\"\n",
    "work_dir.mkdir(parents=True, exist_ok=True)\n",
    "\n",
    "# plant science corpus with topic assignment info\n",
    "dir42      = proj_dir / \"4_topic_model/4_2_outlier_assign\"\n",
    "corpus_file = dir42 / \"table4_2_corpus_with_topic_assignment.tsv.gz\"\n",
    "#corpus_file = dir42 / \"test.tsv\"\n",
    "\n",
    "dir44 = proj_dir / \"4_topic_model/4_4_over_time\"\n",
    "\n",
    "# country info, pmid, ...\n",
    "dir75             = proj_dir / \"7_countries/7_5_country_over_time\"\n",
    "ci_file           = dir75 / 'ci_pmid_topic.tsv'\n",
    "c_npub_file       = dir75 / 'country_npub_raw.csv'\n",
    "t25_toc_stat_file = dir75 / \"country_top25_toc_stat.csv\"\n",
    "\n",
    "# SJR and pdjity (pmid, date, journal, issn, topic, year)\n",
    "dir81            = proj_dir / '8_impact/8_1_topic'\n",
    "pdjity_file      = dir81 / \"table_pdjity.tsv\"\n",
    "file_d_d_metric  = dir81 / 'sjr_metric_dicts.pkl'\n",
    "\n",
    "# So PDF is saved in a format properly\n",
    "mpl.rcParams['pdf.fonttype'] = 42\n",
    "plt.rcParams[\"font.family\"] = \"sans-serif\""
   ]
  },
  {
   "cell_type": "markdown",
   "metadata": {},
   "source": [
    "## ___Finalize pub number graphs___"
   ]
  },
  {
   "cell_type": "markdown",
   "metadata": {},
   "source": [
    "### Pub number graph after removing China\n",
    "\n",
    "Related graphs:\n",
    "- 1_1: number pubs per year in pubmed\n",
    "- 4_4: number pubs per year in plant science corpus\n",
    "\n",
    "Focus on 1951 to 2020"
   ]
  },
  {
   "cell_type": "code",
   "execution_count": 16,
   "metadata": {},
   "outputs": [
    {
     "data": {
      "text/html": [
       "<div>\n",
       "<style scoped>\n",
       "    .dataframe tbody tr th:only-of-type {\n",
       "        vertical-align: middle;\n",
       "    }\n",
       "\n",
       "    .dataframe tbody tr th {\n",
       "        vertical-align: top;\n",
       "    }\n",
       "\n",
       "    .dataframe thead th {\n",
       "        text-align: right;\n",
       "    }\n",
       "</style>\n",
       "<table border=\"1\" class=\"dataframe\">\n",
       "  <thead>\n",
       "    <tr style=\"text-align: right;\">\n",
       "      <th></th>\n",
       "      <th>Count</th>\n",
       "    </tr>\n",
       "  </thead>\n",
       "  <tbody>\n",
       "    <tr>\n",
       "      <th>2019</th>\n",
       "      <td>26963</td>\n",
       "    </tr>\n",
       "    <tr>\n",
       "      <th>2020</th>\n",
       "      <td>30228</td>\n",
       "    </tr>\n",
       "  </tbody>\n",
       "</table>\n",
       "</div>"
      ],
      "text/plain": [
       "      Count\n",
       "2019  26963\n",
       "2020  30228"
      ]
     },
     "execution_count": 16,
     "metadata": {},
     "output_type": "execute_result"
    }
   ],
   "source": [
    "file_docs_year_df = dir44 / \"table_4_4_docs_year_df.csv\"\n",
    "docs_year_df = pd.read_csv(file_docs_year_df, index_col=0).drop(2021)\n",
    "docs_year_df.iloc[-2:]"
   ]
  },
  {
   "cell_type": "code",
   "execution_count": 21,
   "metadata": {},
   "outputs": [
    {
     "data": {
      "text/plain": [
       "(7869, 7869)"
      ]
     },
     "execution_count": 21,
     "metadata": {},
     "output_type": "execute_result"
    }
   ],
   "source": [
    "# Get pub number for CHN\n",
    "file_c25_year_count = dir75 / \"country_top25_year_count.csv\"\n",
    "c25_year_count = pd.read_csv(file_c25_year_count, index_col=0)\n",
    "pub_num_CHN    = c25_year_count.loc[\"CHN\"]\n",
    "\n",
    "# convert to dictionary, note that the indices are strings, need to be integer\n",
    "pub_num_CHN_dict = {int(k):v for k,v in pub_num_CHN.items()}\n",
    "\n",
    "pub_num_CHN['2019'], pub_num_CHN_dict[2019]"
   ]
  },
  {
   "cell_type": "code",
   "execution_count": 15,
   "metadata": {},
   "outputs": [
    {
     "data": {
      "text/plain": [
       "((96, 2), 96)"
      ]
     },
     "execution_count": 15,
     "metadata": {},
     "output_type": "execute_result"
    }
   ],
   "source": [
    "# add missing years\n",
    "pub_num_CHN_list = []\n",
    "for yr in docs_year_df.index:\n",
    "  if yr in pub_num_CHN_dict:\n",
    "    pub_num_CHN_list.append(pub_num_CHN_dict[yr])\n",
    "  else:\n",
    "    pub_num_CHN_list.append(0)\n",
    "\n",
    "docs_year_df.shape, len(pub_num_CHN_list)"
   ]
  },
  {
   "cell_type": "code",
   "execution_count": 17,
   "metadata": {},
   "outputs": [
    {
     "data": {
      "text/html": [
       "<div>\n",
       "<style scoped>\n",
       "    .dataframe tbody tr th:only-of-type {\n",
       "        vertical-align: middle;\n",
       "    }\n",
       "\n",
       "    .dataframe tbody tr th {\n",
       "        vertical-align: top;\n",
       "    }\n",
       "\n",
       "    .dataframe thead th {\n",
       "        text-align: right;\n",
       "    }\n",
       "</style>\n",
       "<table border=\"1\" class=\"dataframe\">\n",
       "  <thead>\n",
       "    <tr style=\"text-align: right;\">\n",
       "      <th></th>\n",
       "      <th>Count</th>\n",
       "      <th>CHN</th>\n",
       "    </tr>\n",
       "  </thead>\n",
       "  <tbody>\n",
       "    <tr>\n",
       "      <th>1917</th>\n",
       "      <td>1</td>\n",
       "      <td>0</td>\n",
       "    </tr>\n",
       "    <tr>\n",
       "      <th>1918</th>\n",
       "      <td>1</td>\n",
       "      <td>0</td>\n",
       "    </tr>\n",
       "  </tbody>\n",
       "</table>\n",
       "</div>"
      ],
      "text/plain": [
       "      Count  CHN\n",
       "1917      1    0\n",
       "1918      1    0"
      ]
     },
     "execution_count": 17,
     "metadata": {},
     "output_type": "execute_result"
    }
   ],
   "source": [
    "### Substract CHN from total then add to df \n",
    "docs_year_df[\"CHN\"] = pub_num_CHN_list\n",
    "docs_year_df.head(2)"
   ]
  },
  {
   "cell_type": "code",
   "execution_count": 20,
   "metadata": {},
   "outputs": [
    {
     "data": {
      "text/plain": [
       "(      Count  CHN  Count_no_CHN\n",
       " 1917      1    0             1\n",
       " 1918      1    0             1,\n",
       "       Count   CHN  Count_no_CHN\n",
       " 2019  26963  7869         19094\n",
       " 2020  30228  9031         21197)"
      ]
     },
     "execution_count": 20,
     "metadata": {},
     "output_type": "execute_result"
    }
   ],
   "source": [
    "docs_year_df['Count_no_CHN'] = docs_year_df['Count'] - docs_year_df['CHN']\n",
    "docs_year_df.head(2), docs_year_df.tail(2)"
   ]
  },
  {
   "cell_type": "code",
   "execution_count": 27,
   "metadata": {},
   "outputs": [
    {
     "data": {
      "text/plain": [
       "(      Count  CHN  Count_no_CHN\n",
       " 1951      2    0             2\n",
       " 1952      2    0             2,\n",
       "       Count   CHN  Count_no_CHN\n",
       " 2019  26963  7869         19094\n",
       " 2020  30228  9031         21197)"
      ]
     },
     "execution_count": 27,
     "metadata": {},
     "output_type": "execute_result"
    }
   ],
   "source": [
    "target_yrs = [y for y in range(1951, 2021)]\n",
    "\n",
    "docs_year_df_part = docs_year_df.loc[target_yrs]\n",
    "docs_year_df_part.head(2), docs_year_df_part.tail(2)"
   ]
  },
  {
   "cell_type": "code",
   "execution_count": 28,
   "metadata": {},
   "outputs": [
    {
     "data": {
      "text/plain": [
       "array([ 1.97174697e-41,  5.13730308e-02, -1.24134120e+03])"
      ]
     },
     "execution_count": 28,
     "metadata": {},
     "output_type": "execute_result"
    }
   ],
   "source": [
    "### Plot exponential fit\n",
    "\n",
    "X = docs_year_df_part.index\n",
    "Y = docs_year_df_part[\"Count_no_CHN\"].values\n",
    "\n",
    "def exp_func(X, a, b, c):\n",
    "  return a*np.exp(b*X) + c\n",
    "\n",
    "# Curve fit\n",
    "popt_exp, _ = curve_fit(exp_func, X, Y, p0=(1, 1e-6, 1), maxfev=10000)\n",
    "popt_exp"
   ]
  },
  {
   "cell_type": "code",
   "execution_count": 30,
   "metadata": {},
   "outputs": [
    {
     "data": {
      "image/png": "[encoded data removed]",
      "text/plain": [
       "<Figure size 600x600 with 1 Axes>"
      ]
     },
     "metadata": {},
     "output_type": "display_data"
    }
   ],
   "source": [
    "# Plotting\n",
    "fig_fit_yr_docnum = work_dir / \"fig_9_year_docnum_noCHN_exponential_fit.pdf\"\n",
    "\n",
    "#y_pred = [exp_func(x, *popt_exp) for x in X]\n",
    "plt.figure(figsize=(6, 6))\n",
    "\n",
    "# plot legend in scientific number:\n",
    "#https://www.scaler.com/topics/python-scientific-notation/\n",
    "#https://sparrow.dev/python-scientific-notation/\n",
    "\n",
    "plt.plot(X, exp_func(X, *popt_exp),'r',linewidth=2, \n",
    "        label='a*np.exp(b*x)+c: a=%.1e, b=%.1e, c=%.1e' % tuple(popt_exp))\n",
    "plt.plot(X[1:], Y[1:], 'bo', alpha=0.5)\n",
    "#plt.plot(x[1:], y_pred[1:], '-b')\n",
    "plt.legend()\n",
    "plt.xlabel(\"Year\")\n",
    "plt.ylabel(\"Numbers of records\")\n",
    "plt.savefig(fig_fit_yr_docnum, format='pdf')\n",
    "plt.show()"
   ]
  },
  {
   "cell_type": "markdown",
   "metadata": {},
   "source": [
    "### Plot number graph of top 10 without CHN"
   ]
  }
 ],
 "metadata": {
  "kernelspec": {
   "display_name": "base",
   "language": "python",
   "name": "python3"
  },
  "language_info": {
   "codemirror_mode": {
    "name": "ipython",
    "version": 3
   },
   "file_extension": ".py",
   "mimetype": "text/x-python",
   "name": "python",
   "nbconvert_exporter": "python",
   "pygments_lexer": "ipython3",
   "version": "3.9.12"
  },
  "orig_nbformat": 4
 },
 "nbformat": 4,
 "nbformat_minor": 2
}
