{
 "cells": [
  {
   "cell_type": "markdown",
   "metadata": {},
   "source": [
    "# __9 Wrap up__\n",
    "\n",
    "Goal:\n",
    "- Tie the loose ends"
   ]
  },
  {
   "cell_type": "markdown",
   "metadata": {},
   "source": [
    "## ___Setup___"
   ]
  },
  {
   "cell_type": "markdown",
   "metadata": {},
   "source": [
    "### Module import\n",
    "\n",
    "In conda env `base`"
   ]
  },
  {
   "cell_type": "code",
   "execution_count": 63,
   "metadata": {},
   "outputs": [],
   "source": [
    "import pickle\n",
    "import pandas as pd\n",
    "import numpy as np\n",
    "import matplotlib as mpl\n",
    "import matplotlib.pyplot as plt\n",
    "from pathlib import Path\n",
    "from scipy.optimize import curve_fit\n",
    "from scipy.interpolate import interp1d\n",
    "from scipy.misc import derivative\n",
    "from datetime import datetime\n",
    "from tqdm import tqdm"
   ]
  },
  {
   "cell_type": "markdown",
   "metadata": {},
   "source": [
    "### Key variables"
   ]
  },
  {
   "cell_type": "code",
   "execution_count": 20,
   "metadata": {},
   "outputs": [],
   "source": [
    "# Reproducibility\n",
    "seed = 20220609\n",
    "\n",
    "# Setting working directory\n",
    "proj_dir   = Path.home() / \"projects/plant_sci_hist\"\n",
    "work_dir   = proj_dir / \"9_wrap_up\"\n",
    "work_dir.mkdir(parents=True, exist_ok=True)\n",
    "\n",
    "# text classify\n",
    "dir2 =  proj_dir / \"2_text_classify\"\n",
    "\n",
    "# plant science corpus with topic assignment info\n",
    "dir42      = proj_dir / \"4_topic_model/4_2_outlier_assign\"\n",
    "corpus_file = dir42 / \"table4_2_corpus_with_topic_assignment.tsv.gz\"\n",
    "#corpus_file = dir42 / \"test.tsv\"\n",
    "\n",
    "# over time\n",
    "dir44         = proj_dir / \"4_topic_model/4_4_over_time\"\n",
    "dir_lowess    = dir44 / \"_lowess\"\n",
    "top_freq_file = dir44 / 'table4_4c_topic_frequency_per_timestamp.txt'\n",
    "\n",
    "# country info, pmid, ...\n",
    "dir75             = proj_dir / \"7_countries/7_5_country_over_time\"\n",
    "ci_file           = dir75 / 'ci_pmid_topic.tsv'\n",
    "c_npub_file       = dir75 / 'country_npub_raw.csv'\n",
    "t25_toc_stat_file = dir75 / \"country_top25_toc_stat.csv\"\n",
    "\n",
    "# SJR and pdjity (pmid, date, journal, issn, topic, year)\n",
    "dir81            = proj_dir / '8_impact/8_1_topic'\n",
    "pdjity_file      = dir81 / \"table_pdjity.tsv\"\n",
    "file_d_d_metric  = dir81 / 'sjr_metric_dicts.pkl'\n",
    "\n",
    "# So PDF is saved in a format properly\n",
    "mpl.rcParams['pdf.fonttype'] = 42\n",
    "plt.rcParams[\"font.family\"] = \"sans-serif\""
   ]
  },
  {
   "cell_type": "markdown",
   "metadata": {},
   "source": [
    "## ___Finalize pub number graphs___"
   ]
  },
  {
   "cell_type": "markdown",
   "metadata": {},
   "source": [
    "### Pub number graph after removing China\n",
    "\n",
    "Related graphs:\n",
    "- 1_1: number pubs per year in pubmed\n",
    "- 4_4: number pubs per year in plant science corpus\n",
    "\n",
    "Focus on 1951 to 2020"
   ]
  },
  {
   "cell_type": "code",
   "execution_count": 16,
   "metadata": {},
   "outputs": [
    {
     "data": {
      "text/html": [
       "<div>\n",
       "<style scoped>\n",
       "    .dataframe tbody tr th:only-of-type {\n",
       "        vertical-align: middle;\n",
       "    }\n",
       "\n",
       "    .dataframe tbody tr th {\n",
       "        vertical-align: top;\n",
       "    }\n",
       "\n",
       "    .dataframe thead th {\n",
       "        text-align: right;\n",
       "    }\n",
       "</style>\n",
       "<table border=\"1\" class=\"dataframe\">\n",
       "  <thead>\n",
       "    <tr style=\"text-align: right;\">\n",
       "      <th></th>\n",
       "      <th>Count</th>\n",
       "    </tr>\n",
       "  </thead>\n",
       "  <tbody>\n",
       "    <tr>\n",
       "      <th>2019</th>\n",
       "      <td>26963</td>\n",
       "    </tr>\n",
       "    <tr>\n",
       "      <th>2020</th>\n",
       "      <td>30228</td>\n",
       "    </tr>\n",
       "  </tbody>\n",
       "</table>\n",
       "</div>"
      ],
      "text/plain": [
       "      Count\n",
       "2019  26963\n",
       "2020  30228"
      ]
     },
     "execution_count": 16,
     "metadata": {},
     "output_type": "execute_result"
    }
   ],
   "source": [
    "file_docs_year_df = dir44 / \"table_4_4_docs_year_df.csv\"\n",
    "docs_year_df = pd.read_csv(file_docs_year_df, index_col=0).drop(2021)\n",
    "docs_year_df.iloc[-2:]"
   ]
  },
  {
   "cell_type": "code",
   "execution_count": 21,
   "metadata": {},
   "outputs": [
    {
     "data": {
      "text/plain": [
       "(7869, 7869)"
      ]
     },
     "execution_count": 21,
     "metadata": {},
     "output_type": "execute_result"
    }
   ],
   "source": [
    "# Get pub number for CHN\n",
    "file_c25_year_count = dir75 / \"country_top25_year_count.csv\"\n",
    "c25_year_count = pd.read_csv(file_c25_year_count, index_col=0)\n",
    "pub_num_CHN    = c25_year_count.loc[\"CHN\"]\n",
    "\n",
    "# convert to dictionary, note that the indices are strings, need to be integer\n",
    "pub_num_CHN_dict = {int(k):v for k,v in pub_num_CHN.items()}\n",
    "\n",
    "pub_num_CHN['2019'], pub_num_CHN_dict[2019]"
   ]
  },
  {
   "cell_type": "code",
   "execution_count": 15,
   "metadata": {},
   "outputs": [
    {
     "data": {
      "text/plain": [
       "((96, 2), 96)"
      ]
     },
     "execution_count": 15,
     "metadata": {},
     "output_type": "execute_result"
    }
   ],
   "source": [
    "# add missing years\n",
    "pub_num_CHN_list = []\n",
    "for yr in docs_year_df.index:\n",
    "  if yr in pub_num_CHN_dict:\n",
    "    pub_num_CHN_list.append(pub_num_CHN_dict[yr])\n",
    "  else:\n",
    "    pub_num_CHN_list.append(0)\n",
    "\n",
    "docs_year_df.shape, len(pub_num_CHN_list)"
   ]
  },
  {
   "cell_type": "code",
   "execution_count": 17,
   "metadata": {},
   "outputs": [
    {
     "data": {
      "text/html": [
       "<div>\n",
       "<style scoped>\n",
       "    .dataframe tbody tr th:only-of-type {\n",
       "        vertical-align: middle;\n",
       "    }\n",
       "\n",
       "    .dataframe tbody tr th {\n",
       "        vertical-align: top;\n",
       "    }\n",
       "\n",
       "    .dataframe thead th {\n",
       "        text-align: right;\n",
       "    }\n",
       "</style>\n",
       "<table border=\"1\" class=\"dataframe\">\n",
       "  <thead>\n",
       "    <tr style=\"text-align: right;\">\n",
       "      <th></th>\n",
       "      <th>Count</th>\n",
       "      <th>CHN</th>\n",
       "    </tr>\n",
       "  </thead>\n",
       "  <tbody>\n",
       "    <tr>\n",
       "      <th>1917</th>\n",
       "      <td>1</td>\n",
       "      <td>0</td>\n",
       "    </tr>\n",
       "    <tr>\n",
       "      <th>1918</th>\n",
       "      <td>1</td>\n",
       "      <td>0</td>\n",
       "    </tr>\n",
       "  </tbody>\n",
       "</table>\n",
       "</div>"
      ],
      "text/plain": [
       "      Count  CHN\n",
       "1917      1    0\n",
       "1918      1    0"
      ]
     },
     "execution_count": 17,
     "metadata": {},
     "output_type": "execute_result"
    }
   ],
   "source": [
    "### Substract CHN from total then add to df \n",
    "docs_year_df[\"CHN\"] = pub_num_CHN_list\n",
    "docs_year_df.head(2)"
   ]
  },
  {
   "cell_type": "code",
   "execution_count": 20,
   "metadata": {},
   "outputs": [
    {
     "data": {
      "text/plain": [
       "(      Count  CHN  Count_no_CHN\n",
       " 1917      1    0             1\n",
       " 1918      1    0             1,\n",
       "       Count   CHN  Count_no_CHN\n",
       " 2019  26963  7869         19094\n",
       " 2020  30228  9031         21197)"
      ]
     },
     "execution_count": 20,
     "metadata": {},
     "output_type": "execute_result"
    }
   ],
   "source": [
    "docs_year_df['Count_no_CHN'] = docs_year_df['Count'] - docs_year_df['CHN']\n",
    "docs_year_df.head(2), docs_year_df.tail(2)"
   ]
  },
  {
   "cell_type": "code",
   "execution_count": 27,
   "metadata": {},
   "outputs": [
    {
     "data": {
      "text/plain": [
       "(      Count  CHN  Count_no_CHN\n",
       " 1951      2    0             2\n",
       " 1952      2    0             2,\n",
       "       Count   CHN  Count_no_CHN\n",
       " 2019  26963  7869         19094\n",
       " 2020  30228  9031         21197)"
      ]
     },
     "execution_count": 27,
     "metadata": {},
     "output_type": "execute_result"
    }
   ],
   "source": [
    "target_yrs = [y for y in range(1951, 2021)]\n",
    "\n",
    "docs_year_df_part = docs_year_df.loc[target_yrs]\n",
    "docs_year_df_part.head(2), docs_year_df_part.tail(2)"
   ]
  },
  {
   "cell_type": "code",
   "execution_count": 28,
   "metadata": {},
   "outputs": [
    {
     "data": {
      "text/plain": [
       "array([ 1.97174697e-41,  5.13730308e-02, -1.24134120e+03])"
      ]
     },
     "execution_count": 28,
     "metadata": {},
     "output_type": "execute_result"
    }
   ],
   "source": [
    "### Plot exponential fit\n",
    "\n",
    "X = docs_year_df_part.index\n",
    "Y = docs_year_df_part[\"Count_no_CHN\"].values\n",
    "\n",
    "def exp_func(X, a, b, c):\n",
    "  return a*np.exp(b*X) + c\n",
    "\n",
    "# Curve fit\n",
    "popt_exp, _ = curve_fit(exp_func, X, Y, p0=(1, 1e-6, 1), maxfev=10000)\n",
    "popt_exp"
   ]
  },
  {
   "cell_type": "code",
   "execution_count": 30,
   "metadata": {},
   "outputs": [
    {
     "data": {
      "image/png": "[encoded data removed]",
      "text/plain": [
       "<Figure size 600x600 with 1 Axes>"
      ]
     },
     "metadata": {},
     "output_type": "display_data"
    }
   ],
   "source": [
    "# Plotting\n",
    "fig_fit_yr_docnum = work_dir / \"fig_9_year_docnum_noCHN_exponential_fit.pdf\"\n",
    "\n",
    "#y_pred = [exp_func(x, *popt_exp) for x in X]\n",
    "plt.figure(figsize=(6, 6))\n",
    "\n",
    "# plot legend in scientific number:\n",
    "#https://www.scaler.com/topics/python-scientific-notation/\n",
    "#https://sparrow.dev/python-scientific-notation/\n",
    "\n",
    "plt.plot(X, exp_func(X, *popt_exp),'r',linewidth=2, \n",
    "        label='a*np.exp(b*x)+c: a=%.1e, b=%.1e, c=%.1e' % tuple(popt_exp))\n",
    "plt.plot(X[1:], Y[1:], 'bo', alpha=0.5)\n",
    "#plt.plot(x[1:], y_pred[1:], '-b')\n",
    "plt.legend()\n",
    "plt.xlabel(\"Year\")\n",
    "plt.ylabel(\"Numbers of records\")\n",
    "plt.savefig(fig_fit_yr_docnum, format='pdf')\n",
    "plt.show()"
   ]
  },
  {
   "cell_type": "markdown",
   "metadata": {},
   "source": [
    "## ___Table S1___\n",
    "\n",
    "Turn out_raw_journal_counts into a table"
   ]
  },
  {
   "cell_type": "code",
   "execution_count": 38,
   "metadata": {},
   "outputs": [],
   "source": [
    "jcount_file = dir2 / \"out_raw_journal_counts\"\n",
    "jcount_tsv  = dir2 / \"out_raw_journal_counts.tsv\""
   ]
  },
  {
   "cell_type": "code",
   "execution_count": 40,
   "metadata": {},
   "outputs": [
    {
     "data": {
      "text/plain": [
       "PosixPath('/home/shius/projects/plant_sci_hist/2_text_classify/out_raw_journal_counts')"
      ]
     },
     "execution_count": 40,
     "metadata": {},
     "output_type": "execute_result"
    }
   ],
   "source": [
    "jcount_file"
   ]
  },
  {
   "cell_type": "code",
   "execution_count": 43,
   "metadata": {},
   "outputs": [],
   "source": [
    "# Split based on the last \",\" then output as a file\n",
    "jcount_list = []\n",
    "with open(jcount_file) as f:\n",
    "  jcounts = f.readlines()\n",
    "  for jc in jcounts:\n",
    "    j = jc[:jc.rfind(\",\")]\n",
    "    c = jc[jc.rfind(\",\")+1:]\n",
    "    jcount_list.append([j,c])\n",
    "\n",
    "with open(jcount_tsv, \"w\") as f:\n",
    "  for jc in jcount_list:\n",
    "    f.write(jc[0] + \"\\t\" + jc[1])\n"
   ]
  },
  {
   "cell_type": "markdown",
   "metadata": {},
   "source": [
    "## ___Chosing articles for select topic in specific years___"
   ]
  },
  {
   "cell_type": "markdown",
   "metadata": {},
   "source": [
    "### Read corpus with topiv assignment"
   ]
  },
  {
   "cell_type": "code",
   "execution_count": 8,
   "metadata": {},
   "outputs": [],
   "source": [
    "corpus_df = pd.read_csv(corpus_file, sep='\\t', compression='gzip', index_col=0)"
   ]
  },
  {
   "cell_type": "code",
   "execution_count": 9,
   "metadata": {},
   "outputs": [
    {
     "data": {
      "text/html": [
       "<div>\n",
       "<style scoped>\n",
       "    .dataframe tbody tr th:only-of-type {\n",
       "        vertical-align: middle;\n",
       "    }\n",
       "\n",
       "    .dataframe tbody tr th {\n",
       "        vertical-align: top;\n",
       "    }\n",
       "\n",
       "    .dataframe thead th {\n",
       "        text-align: right;\n",
       "    }\n",
       "</style>\n",
       "<table border=\"1\" class=\"dataframe\">\n",
       "  <thead>\n",
       "    <tr style=\"text-align: right;\">\n",
       "      <th></th>\n",
       "      <th>Index_1385417</th>\n",
       "      <th>PMID</th>\n",
       "      <th>Date</th>\n",
       "      <th>Journal</th>\n",
       "      <th>Title</th>\n",
       "      <th>Abstract</th>\n",
       "      <th>Initial filter qualifier</th>\n",
       "      <th>Corpus</th>\n",
       "      <th>reg_article</th>\n",
       "      <th>Text classification score</th>\n",
       "      <th>Preprocessed corpus</th>\n",
       "      <th>Topic</th>\n",
       "    </tr>\n",
       "  </thead>\n",
       "  <tbody>\n",
       "    <tr>\n",
       "      <th>0</th>\n",
       "      <td>3</td>\n",
       "      <td>61</td>\n",
       "      <td>1975-12-11</td>\n",
       "      <td>Biochimica et biophysica acta</td>\n",
       "      <td>Identification of the 120 mus phase in the dec...</td>\n",
       "      <td>After a 500 mus laser flash a 120 mus phase in...</td>\n",
       "      <td>spinach</td>\n",
       "      <td>Identification of the 120 mus phase in the dec...</td>\n",
       "      <td>1</td>\n",
       "      <td>0.716394</td>\n",
       "      <td>identification 120 mus phase decay delayed flu...</td>\n",
       "      <td>52</td>\n",
       "    </tr>\n",
       "    <tr>\n",
       "      <th>1</th>\n",
       "      <td>4</td>\n",
       "      <td>67</td>\n",
       "      <td>1975-11-20</td>\n",
       "      <td>Biochimica et biophysica acta</td>\n",
       "      <td>Cholinesterases from plant tissues. VI. Prelim...</td>\n",
       "      <td>Enzymes capable of hydrolyzing esters of thioc...</td>\n",
       "      <td>plant</td>\n",
       "      <td>Cholinesterases from plant tissues. VI. Prelim...</td>\n",
       "      <td>1</td>\n",
       "      <td>0.894874</td>\n",
       "      <td>cholinesterases plant tissues . vi . prelimina...</td>\n",
       "      <td>48</td>\n",
       "    </tr>\n",
       "  </tbody>\n",
       "</table>\n",
       "</div>"
      ],
      "text/plain": [
       "   Index_1385417  PMID        Date                        Journal  \\\n",
       "0              3    61  1975-12-11  Biochimica et biophysica acta   \n",
       "1              4    67  1975-11-20  Biochimica et biophysica acta   \n",
       "\n",
       "                                               Title  \\\n",
       "0  Identification of the 120 mus phase in the dec...   \n",
       "1  Cholinesterases from plant tissues. VI. Prelim...   \n",
       "\n",
       "                                            Abstract Initial filter qualifier  \\\n",
       "0  After a 500 mus laser flash a 120 mus phase in...                  spinach   \n",
       "1  Enzymes capable of hydrolyzing esters of thioc...                    plant   \n",
       "\n",
       "                                              Corpus  reg_article  \\\n",
       "0  Identification of the 120 mus phase in the dec...            1   \n",
       "1  Cholinesterases from plant tissues. VI. Prelim...            1   \n",
       "\n",
       "   Text classification score  \\\n",
       "0                   0.716394   \n",
       "1                   0.894874   \n",
       "\n",
       "                                 Preprocessed corpus  Topic  \n",
       "0  identification 120 mus phase decay delayed flu...     52  \n",
       "1  cholinesterases plant tissues . vi . prelimina...     48  "
      ]
     },
     "execution_count": 9,
     "metadata": {},
     "output_type": "execute_result"
    }
   ],
   "source": [
    "corpus_df.head(2)"
   ]
  },
  {
   "cell_type": "code",
   "execution_count": 22,
   "metadata": {},
   "outputs": [],
   "source": [
    "# Add the year column\n",
    "dates = corpus_df.Date.values\n",
    "years = [int(date.split('-')[0]) for date in dates]\n",
    "\n",
    "corpus_df[\"Year\"] = years"
   ]
  },
  {
   "cell_type": "markdown",
   "metadata": {},
   "source": [
    "### Function to get specific topic/year range dataframe"
   ]
  },
  {
   "cell_type": "code",
   "execution_count": 57,
   "metadata": {},
   "outputs": [],
   "source": [
    "def get_df_toc_years(df, toc, y_begin, y_end):\n",
    "  '''\n",
    "  Args:\n",
    "    df (pd.DataFrame): corpus_df with Year column\n",
    "    toc (dict): table of contents\n",
    "    y_begin (int): begin year, inclusive\n",
    "    y_end (int): end year, inclusive\n",
    "  Output:\n",
    "    df_toc_years (csv)\n",
    "  '''\n",
    "\n",
    "  cond1 = corpus_df['Topic'] == toc\n",
    "  cond2 = corpus_df['Year'].isin(range(y_begin, y_end+1))\n",
    "\n",
    "  df_toc_years =  corpus_df[cond1 & cond2]\n",
    "\n",
    "  df_toc_years.to_csv(work_dir / f'table_9_corpus_toc{toc}_yr{y_begin}-{y_end}.csv', \n",
    "                      index=False)\n",
    "\n",
    "  return df_toc_years\n"
   ]
  },
  {
   "cell_type": "markdown",
   "metadata": {},
   "source": [
    "### Topic 78, year 1998, 1999, 2000"
   ]
  },
  {
   "cell_type": "code",
   "execution_count": 58,
   "metadata": {},
   "outputs": [
    {
     "data": {
      "text/plain": [
       "(103, 13)"
      ]
     },
     "execution_count": 58,
     "metadata": {},
     "output_type": "execute_result"
    }
   ],
   "source": [
    "df_toc78 = get_df_toc_years(corpus_df, 78, 2000, 2002)\n",
    "df_toc78.shape"
   ]
  },
  {
   "cell_type": "markdown",
   "metadata": {},
   "source": [
    "### Topic 44, year 1917-1977"
   ]
  },
  {
   "cell_type": "code",
   "execution_count": 60,
   "metadata": {},
   "outputs": [
    {
     "data": {
      "text/plain": [
       "(1223, 13)"
      ]
     },
     "execution_count": 60,
     "metadata": {},
     "output_type": "execute_result"
    }
   ],
   "source": [
    "df_toc44 = get_df_toc_years(corpus_df, 44, 1917, 1977)\n",
    "df_toc44.shape"
   ]
  },
  {
   "cell_type": "markdown",
   "metadata": {},
   "source": [
    "## ___Major down/up-ward trends per time point___\n",
    "\n",
    "- In section 4_4c\n",
    "  - I have played with quite a few different ways to predict trends.\n",
    "  - But the predicted trend lines looks suspicious and unexpected so did not adopt them.\n",
    "  - End up using Lowess fit.\n",
    "- In section 4_4d\n",
    "  - I have further picked the best fiting lowess models for each topic.\n",
    "  - The fit is saved as pickle for each topic.\n",
    "  - Have experimented with ways to define major transition. But at the time, I tried to do this per topic and encountered issues with topics that have multiple peaks.\n",
    "- Once I finished discussing Figure 3 \n",
    "  - Realize that there are 3 major transitions:\n",
    "  - Also realize that I should have a measure to estimate \"transition\".\n",
    "\n",
    "Define transition point: time points with among the highest degree of \n",
    "- downward trend\n",
    "- upward trend\n",
    "- In both cases, use the slope of lowess fit at that time point as measure\n",
    "  - Separate positive and negative values for up and downward trends, respectively.\n",
    "  - Set a threshold and get the average of slopes above threshold\n",
    "    - Want to ignore slopes ~0 because they only make the sum look smaller than it really is.\n",
    "\n",
    "For getting slope:\n",
    "- https://stackoverflow.com/questions/30309557/how-to-get-derivatives-from-1d-interpolation\n",
    "\n",
    "\n"
   ]
  },
  {
   "cell_type": "markdown",
   "metadata": {},
   "source": [
    "### Reading lowess fit obj and get info out"
   ]
  },
  {
   "cell_type": "code",
   "execution_count": 52,
   "metadata": {},
   "outputs": [
    {
     "data": {
      "text/plain": [
       "(datetime.datetime(1977, 12, 11, 23, 59, 59),\n",
       " datetime.datetime(2021, 1, 1, 0, 0))"
      ]
     },
     "execution_count": 52,
     "metadata": {},
     "output_type": "execute_result"
    }
   ],
   "source": [
    "# Load topic frequency for each timestamp\n",
    "top_freq_df = pd.read_csv(top_freq_file, index_col=0)\n",
    "topics      = top_freq_df.index.tolist()              # topic list\n",
    "toc_series  = top_freq_df.loc[0]                      # topic frequency series\n",
    "                                                      # same for all topics\n",
    "ts_list     = [float(ts) for ts in toc_series.index]  # timestamps\n",
    "ts0 = ts_list[0]                                      # first timestamp\n",
    "ts1 = ts_list[-1]                                     # last timestamp\n",
    "\n",
    "# Start from 1978 to 2020\n",
    "datetime.fromtimestamp(ts0), datetime.fromtimestamp(ts1)"
   ]
  },
  {
   "cell_type": "code",
   "execution_count": 91,
   "metadata": {},
   "outputs": [
    {
     "data": {
      "text/plain": [
       "[PosixPath('/home/shinhan/projects/plant_sci_hist/4_topic_model/4_4_over_time/_lowess/lowess_fit_func_topic-1_frac0.1.pickle'),\n",
       " PosixPath('/home/shinhan/projects/plant_sci_hist/4_topic_model/4_4_over_time/_lowess/lowess_fit_func_topic-1_frac0.2.pickle'),\n",
       " PosixPath('/home/shinhan/projects/plant_sci_hist/4_topic_model/4_4_over_time/_lowess/lowess_fit_func_topic-1_frac0.3.pickle'),\n",
       " PosixPath('/home/shinhan/projects/plant_sci_hist/4_topic_model/4_4_over_time/_lowess/lowess_fit_func_topic0_frac0.1.pickle'),\n",
       " PosixPath('/home/shinhan/projects/plant_sci_hist/4_topic_model/4_4_over_time/_lowess/lowess_fit_func_topic0_frac0.2.pickle'),\n",
       " PosixPath('/home/shinhan/projects/plant_sci_hist/4_topic_model/4_4_over_time/_lowess/lowess_fit_func_topic0_frac0.3.pickle'),\n",
       " PosixPath('/home/shinhan/projects/plant_sci_hist/4_topic_model/4_4_over_time/_lowess/lowess_fit_func_topic10_frac0.1.pickle'),\n",
       " PosixPath('/home/shinhan/projects/plant_sci_hist/4_topic_model/4_4_over_time/_lowess/lowess_fit_func_topic10_frac0.2.pickle'),\n",
       " PosixPath('/home/shinhan/projects/plant_sci_hist/4_topic_model/4_4_over_time/_lowess/lowess_fit_func_topic10_frac0.3.pickle'),\n",
       " PosixPath('/home/shinhan/projects/plant_sci_hist/4_topic_model/4_4_over_time/_lowess/lowess_fit_func_topic11_frac0.1.pickle'),\n",
       " PosixPath('/home/shinhan/projects/plant_sci_hist/4_topic_model/4_4_over_time/_lowess/lowess_fit_func_topic11_frac0.2.pickle'),\n",
       " PosixPath('/home/shinhan/projects/plant_sci_hist/4_topic_model/4_4_over_time/_lowess/lowess_fit_func_topic11_frac0.3.pickle'),\n",
       " PosixPath('/home/shinhan/projects/plant_sci_hist/4_topic_model/4_4_over_time/_lowess/lowess_fit_func_topic12_frac0.1.pickle'),\n",
       " PosixPath('/home/shinhan/projects/plant_sci_hist/4_topic_model/4_4_over_time/_lowess/lowess_fit_func_topic12_frac0.2.pickle'),\n",
       " PosixPath('/home/shinhan/projects/plant_sci_hist/4_topic_model/4_4_over_time/_lowess/lowess_fit_func_topic12_frac0.3.pickle'),\n",
       " PosixPath('/home/shinhan/projects/plant_sci_hist/4_topic_model/4_4_over_time/_lowess/lowess_fit_func_topic13_frac0.1.pickle'),\n",
       " PosixPath('/home/shinhan/projects/plant_sci_hist/4_topic_model/4_4_over_time/_lowess/lowess_fit_func_topic13_frac0.2.pickle'),\n",
       " PosixPath('/home/shinhan/projects/plant_sci_hist/4_topic_model/4_4_over_time/_lowess/lowess_fit_func_topic13_frac0.3.pickle'),\n",
       " PosixPath('/home/shinhan/projects/plant_sci_hist/4_topic_model/4_4_over_time/_lowess/lowess_fit_func_topic14_frac0.1.pickle'),\n",
       " PosixPath('/home/shinhan/projects/plant_sci_hist/4_topic_model/4_4_over_time/_lowess/lowess_fit_func_topic14_frac0.2.pickle'),\n",
       " PosixPath('/home/shinhan/projects/plant_sci_hist/4_topic_model/4_4_over_time/_lowess/lowess_fit_func_topic14_frac0.3.pickle'),\n",
       " PosixPath('/home/shinhan/projects/plant_sci_hist/4_topic_model/4_4_over_time/_lowess/lowess_fit_func_topic15_frac0.1.pickle'),\n",
       " PosixPath('/home/shinhan/projects/plant_sci_hist/4_topic_model/4_4_over_time/_lowess/lowess_fit_func_topic15_frac0.2.pickle'),\n",
       " PosixPath('/home/shinhan/projects/plant_sci_hist/4_topic_model/4_4_over_time/_lowess/lowess_fit_func_topic15_frac0.3.pickle'),\n",
       " PosixPath('/home/shinhan/projects/plant_sci_hist/4_topic_model/4_4_over_time/_lowess/lowess_fit_func_topic16_frac0.1.pickle'),\n",
       " PosixPath('/home/shinhan/projects/plant_sci_hist/4_topic_model/4_4_over_time/_lowess/lowess_fit_func_topic16_frac0.2.pickle'),\n",
       " PosixPath('/home/shinhan/projects/plant_sci_hist/4_topic_model/4_4_over_time/_lowess/lowess_fit_func_topic16_frac0.3.pickle'),\n",
       " PosixPath('/home/shinhan/projects/plant_sci_hist/4_topic_model/4_4_over_time/_lowess/lowess_fit_func_topic17_frac0.1.pickle'),\n",
       " PosixPath('/home/shinhan/projects/plant_sci_hist/4_topic_model/4_4_over_time/_lowess/lowess_fit_func_topic17_frac0.2.pickle'),\n",
       " PosixPath('/home/shinhan/projects/plant_sci_hist/4_topic_model/4_4_over_time/_lowess/lowess_fit_func_topic17_frac0.3.pickle'),\n",
       " PosixPath('/home/shinhan/projects/plant_sci_hist/4_topic_model/4_4_over_time/_lowess/lowess_fit_func_topic18_frac0.1.pickle'),\n",
       " PosixPath('/home/shinhan/projects/plant_sci_hist/4_topic_model/4_4_over_time/_lowess/lowess_fit_func_topic18_frac0.2.pickle'),\n",
       " PosixPath('/home/shinhan/projects/plant_sci_hist/4_topic_model/4_4_over_time/_lowess/lowess_fit_func_topic18_frac0.3.pickle'),\n",
       " PosixPath('/home/shinhan/projects/plant_sci_hist/4_topic_model/4_4_over_time/_lowess/lowess_fit_func_topic19_frac0.1.pickle'),\n",
       " PosixPath('/home/shinhan/projects/plant_sci_hist/4_topic_model/4_4_over_time/_lowess/lowess_fit_func_topic19_frac0.2.pickle'),\n",
       " PosixPath('/home/shinhan/projects/plant_sci_hist/4_topic_model/4_4_over_time/_lowess/lowess_fit_func_topic19_frac0.3.pickle'),\n",
       " PosixPath('/home/shinhan/projects/plant_sci_hist/4_topic_model/4_4_over_time/_lowess/lowess_fit_func_topic1_frac0.1.pickle'),\n",
       " PosixPath('/home/shinhan/projects/plant_sci_hist/4_topic_model/4_4_over_time/_lowess/lowess_fit_func_topic1_frac0.2.pickle'),\n",
       " PosixPath('/home/shinhan/projects/plant_sci_hist/4_topic_model/4_4_over_time/_lowess/lowess_fit_func_topic1_frac0.3.pickle'),\n",
       " PosixPath('/home/shinhan/projects/plant_sci_hist/4_topic_model/4_4_over_time/_lowess/lowess_fit_func_topic20_frac0.1.pickle'),\n",
       " PosixPath('/home/shinhan/projects/plant_sci_hist/4_topic_model/4_4_over_time/_lowess/lowess_fit_func_topic20_frac0.2.pickle'),\n",
       " PosixPath('/home/shinhan/projects/plant_sci_hist/4_topic_model/4_4_over_time/_lowess/lowess_fit_func_topic20_frac0.3.pickle'),\n",
       " PosixPath('/home/shinhan/projects/plant_sci_hist/4_topic_model/4_4_over_time/_lowess/lowess_fit_func_topic21_frac0.1.pickle'),\n",
       " PosixPath('/home/shinhan/projects/plant_sci_hist/4_topic_model/4_4_over_time/_lowess/lowess_fit_func_topic21_frac0.2.pickle'),\n",
       " PosixPath('/home/shinhan/projects/plant_sci_hist/4_topic_model/4_4_over_time/_lowess/lowess_fit_func_topic21_frac0.3.pickle'),\n",
       " PosixPath('/home/shinhan/projects/plant_sci_hist/4_topic_model/4_4_over_time/_lowess/lowess_fit_func_topic22_frac0.1.pickle'),\n",
       " PosixPath('/home/shinhan/projects/plant_sci_hist/4_topic_model/4_4_over_time/_lowess/lowess_fit_func_topic22_frac0.2.pickle'),\n",
       " PosixPath('/home/shinhan/projects/plant_sci_hist/4_topic_model/4_4_over_time/_lowess/lowess_fit_func_topic22_frac0.3.pickle'),\n",
       " PosixPath('/home/shinhan/projects/plant_sci_hist/4_topic_model/4_4_over_time/_lowess/lowess_fit_func_topic23_frac0.1.pickle'),\n",
       " PosixPath('/home/shinhan/projects/plant_sci_hist/4_topic_model/4_4_over_time/_lowess/lowess_fit_func_topic23_frac0.2.pickle'),\n",
       " PosixPath('/home/shinhan/projects/plant_sci_hist/4_topic_model/4_4_over_time/_lowess/lowess_fit_func_topic23_frac0.3.pickle'),\n",
       " PosixPath('/home/shinhan/projects/plant_sci_hist/4_topic_model/4_4_over_time/_lowess/lowess_fit_func_topic24_frac0.1.pickle'),\n",
       " PosixPath('/home/shinhan/projects/plant_sci_hist/4_topic_model/4_4_over_time/_lowess/lowess_fit_func_topic24_frac0.2.pickle'),\n",
       " PosixPath('/home/shinhan/projects/plant_sci_hist/4_topic_model/4_4_over_time/_lowess/lowess_fit_func_topic24_frac0.3.pickle'),\n",
       " PosixPath('/home/shinhan/projects/plant_sci_hist/4_topic_model/4_4_over_time/_lowess/lowess_fit_func_topic25_frac0.1.pickle'),\n",
       " PosixPath('/home/shinhan/projects/plant_sci_hist/4_topic_model/4_4_over_time/_lowess/lowess_fit_func_topic25_frac0.2.pickle'),\n",
       " PosixPath('/home/shinhan/projects/plant_sci_hist/4_topic_model/4_4_over_time/_lowess/lowess_fit_func_topic25_frac0.3.pickle'),\n",
       " PosixPath('/home/shinhan/projects/plant_sci_hist/4_topic_model/4_4_over_time/_lowess/lowess_fit_func_topic26_frac0.1.pickle'),\n",
       " PosixPath('/home/shinhan/projects/plant_sci_hist/4_topic_model/4_4_over_time/_lowess/lowess_fit_func_topic26_frac0.2.pickle'),\n",
       " PosixPath('/home/shinhan/projects/plant_sci_hist/4_topic_model/4_4_over_time/_lowess/lowess_fit_func_topic26_frac0.3.pickle'),\n",
       " PosixPath('/home/shinhan/projects/plant_sci_hist/4_topic_model/4_4_over_time/_lowess/lowess_fit_func_topic27_frac0.1.pickle'),\n",
       " PosixPath('/home/shinhan/projects/plant_sci_hist/4_topic_model/4_4_over_time/_lowess/lowess_fit_func_topic27_frac0.2.pickle'),\n",
       " PosixPath('/home/shinhan/projects/plant_sci_hist/4_topic_model/4_4_over_time/_lowess/lowess_fit_func_topic27_frac0.3.pickle'),\n",
       " PosixPath('/home/shinhan/projects/plant_sci_hist/4_topic_model/4_4_over_time/_lowess/lowess_fit_func_topic28_frac0.1.pickle'),\n",
       " PosixPath('/home/shinhan/projects/plant_sci_hist/4_topic_model/4_4_over_time/_lowess/lowess_fit_func_topic28_frac0.2.pickle'),\n",
       " PosixPath('/home/shinhan/projects/plant_sci_hist/4_topic_model/4_4_over_time/_lowess/lowess_fit_func_topic28_frac0.3.pickle'),\n",
       " PosixPath('/home/shinhan/projects/plant_sci_hist/4_topic_model/4_4_over_time/_lowess/lowess_fit_func_topic29_frac0.1.pickle'),\n",
       " PosixPath('/home/shinhan/projects/plant_sci_hist/4_topic_model/4_4_over_time/_lowess/lowess_fit_func_topic29_frac0.2.pickle'),\n",
       " PosixPath('/home/shinhan/projects/plant_sci_hist/4_topic_model/4_4_over_time/_lowess/lowess_fit_func_topic29_frac0.3.pickle'),\n",
       " PosixPath('/home/shinhan/projects/plant_sci_hist/4_topic_model/4_4_over_time/_lowess/lowess_fit_func_topic2_frac0.1.pickle'),\n",
       " PosixPath('/home/shinhan/projects/plant_sci_hist/4_topic_model/4_4_over_time/_lowess/lowess_fit_func_topic2_frac0.2.pickle'),\n",
       " PosixPath('/home/shinhan/projects/plant_sci_hist/4_topic_model/4_4_over_time/_lowess/lowess_fit_func_topic2_frac0.3.pickle'),\n",
       " PosixPath('/home/shinhan/projects/plant_sci_hist/4_topic_model/4_4_over_time/_lowess/lowess_fit_func_topic30_frac0.1.pickle'),\n",
       " PosixPath('/home/shinhan/projects/plant_sci_hist/4_topic_model/4_4_over_time/_lowess/lowess_fit_func_topic30_frac0.2.pickle'),\n",
       " PosixPath('/home/shinhan/projects/plant_sci_hist/4_topic_model/4_4_over_time/_lowess/lowess_fit_func_topic30_frac0.3.pickle'),\n",
       " PosixPath('/home/shinhan/projects/plant_sci_hist/4_topic_model/4_4_over_time/_lowess/lowess_fit_func_topic31_frac0.1.pickle'),\n",
       " PosixPath('/home/shinhan/projects/plant_sci_hist/4_topic_model/4_4_over_time/_lowess/lowess_fit_func_topic31_frac0.2.pickle'),\n",
       " PosixPath('/home/shinhan/projects/plant_sci_hist/4_topic_model/4_4_over_time/_lowess/lowess_fit_func_topic31_frac0.3.pickle'),\n",
       " PosixPath('/home/shinhan/projects/plant_sci_hist/4_topic_model/4_4_over_time/_lowess/lowess_fit_func_topic32_frac0.1.pickle'),\n",
       " PosixPath('/home/shinhan/projects/plant_sci_hist/4_topic_model/4_4_over_time/_lowess/lowess_fit_func_topic32_frac0.2.pickle'),\n",
       " PosixPath('/home/shinhan/projects/plant_sci_hist/4_topic_model/4_4_over_time/_lowess/lowess_fit_func_topic32_frac0.3.pickle'),\n",
       " PosixPath('/home/shinhan/projects/plant_sci_hist/4_topic_model/4_4_over_time/_lowess/lowess_fit_func_topic33_frac0.1.pickle'),\n",
       " PosixPath('/home/shinhan/projects/plant_sci_hist/4_topic_model/4_4_over_time/_lowess/lowess_fit_func_topic33_frac0.2.pickle'),\n",
       " PosixPath('/home/shinhan/projects/plant_sci_hist/4_topic_model/4_4_over_time/_lowess/lowess_fit_func_topic33_frac0.3.pickle'),\n",
       " PosixPath('/home/shinhan/projects/plant_sci_hist/4_topic_model/4_4_over_time/_lowess/lowess_fit_func_topic34_frac0.1.pickle'),\n",
       " PosixPath('/home/shinhan/projects/plant_sci_hist/4_topic_model/4_4_over_time/_lowess/lowess_fit_func_topic34_frac0.2.pickle'),\n",
       " PosixPath('/home/shinhan/projects/plant_sci_hist/4_topic_model/4_4_over_time/_lowess/lowess_fit_func_topic34_frac0.3.pickle'),\n",
       " PosixPath('/home/shinhan/projects/plant_sci_hist/4_topic_model/4_4_over_time/_lowess/lowess_fit_func_topic35_frac0.1.pickle'),\n",
       " PosixPath('/home/shinhan/projects/plant_sci_hist/4_topic_model/4_4_over_time/_lowess/lowess_fit_func_topic35_frac0.2.pickle'),\n",
       " PosixPath('/home/shinhan/projects/plant_sci_hist/4_topic_model/4_4_over_time/_lowess/lowess_fit_func_topic35_frac0.3.pickle'),\n",
       " PosixPath('/home/shinhan/projects/plant_sci_hist/4_topic_model/4_4_over_time/_lowess/lowess_fit_func_topic36_frac0.1.pickle'),\n",
       " PosixPath('/home/shinhan/projects/plant_sci_hist/4_topic_model/4_4_over_time/_lowess/lowess_fit_func_topic36_frac0.2.pickle'),\n",
       " PosixPath('/home/shinhan/projects/plant_sci_hist/4_topic_model/4_4_over_time/_lowess/lowess_fit_func_topic36_frac0.3.pickle'),\n",
       " PosixPath('/home/shinhan/projects/plant_sci_hist/4_topic_model/4_4_over_time/_lowess/lowess_fit_func_topic37_frac0.1.pickle'),\n",
       " PosixPath('/home/shinhan/projects/plant_sci_hist/4_topic_model/4_4_over_time/_lowess/lowess_fit_func_topic37_frac0.2.pickle'),\n",
       " PosixPath('/home/shinhan/projects/plant_sci_hist/4_topic_model/4_4_over_time/_lowess/lowess_fit_func_topic37_frac0.3.pickle'),\n",
       " PosixPath('/home/shinhan/projects/plant_sci_hist/4_topic_model/4_4_over_time/_lowess/lowess_fit_func_topic38_frac0.1.pickle'),\n",
       " PosixPath('/home/shinhan/projects/plant_sci_hist/4_topic_model/4_4_over_time/_lowess/lowess_fit_func_topic38_frac0.2.pickle'),\n",
       " PosixPath('/home/shinhan/projects/plant_sci_hist/4_topic_model/4_4_over_time/_lowess/lowess_fit_func_topic38_frac0.3.pickle'),\n",
       " PosixPath('/home/shinhan/projects/plant_sci_hist/4_topic_model/4_4_over_time/_lowess/lowess_fit_func_topic39_frac0.1.pickle'),\n",
       " PosixPath('/home/shinhan/projects/plant_sci_hist/4_topic_model/4_4_over_time/_lowess/lowess_fit_func_topic39_frac0.2.pickle'),\n",
       " PosixPath('/home/shinhan/projects/plant_sci_hist/4_topic_model/4_4_over_time/_lowess/lowess_fit_func_topic39_frac0.3.pickle'),\n",
       " PosixPath('/home/shinhan/projects/plant_sci_hist/4_topic_model/4_4_over_time/_lowess/lowess_fit_func_topic3_frac0.1.pickle'),\n",
       " PosixPath('/home/shinhan/projects/plant_sci_hist/4_topic_model/4_4_over_time/_lowess/lowess_fit_func_topic3_frac0.2.pickle'),\n",
       " PosixPath('/home/shinhan/projects/plant_sci_hist/4_topic_model/4_4_over_time/_lowess/lowess_fit_func_topic3_frac0.3.pickle'),\n",
       " PosixPath('/home/shinhan/projects/plant_sci_hist/4_topic_model/4_4_over_time/_lowess/lowess_fit_func_topic40_frac0.1.pickle'),\n",
       " PosixPath('/home/shinhan/projects/plant_sci_hist/4_topic_model/4_4_over_time/_lowess/lowess_fit_func_topic40_frac0.2.pickle'),\n",
       " PosixPath('/home/shinhan/projects/plant_sci_hist/4_topic_model/4_4_over_time/_lowess/lowess_fit_func_topic40_frac0.3.pickle'),\n",
       " PosixPath('/home/shinhan/projects/plant_sci_hist/4_topic_model/4_4_over_time/_lowess/lowess_fit_func_topic41_frac0.1.pickle'),\n",
       " PosixPath('/home/shinhan/projects/plant_sci_hist/4_topic_model/4_4_over_time/_lowess/lowess_fit_func_topic41_frac0.2.pickle'),\n",
       " PosixPath('/home/shinhan/projects/plant_sci_hist/4_topic_model/4_4_over_time/_lowess/lowess_fit_func_topic41_frac0.3.pickle'),\n",
       " PosixPath('/home/shinhan/projects/plant_sci_hist/4_topic_model/4_4_over_time/_lowess/lowess_fit_func_topic42_frac0.1.pickle'),\n",
       " PosixPath('/home/shinhan/projects/plant_sci_hist/4_topic_model/4_4_over_time/_lowess/lowess_fit_func_topic42_frac0.2.pickle'),\n",
       " PosixPath('/home/shinhan/projects/plant_sci_hist/4_topic_model/4_4_over_time/_lowess/lowess_fit_func_topic42_frac0.3.pickle'),\n",
       " PosixPath('/home/shinhan/projects/plant_sci_hist/4_topic_model/4_4_over_time/_lowess/lowess_fit_func_topic43_frac0.1.pickle'),\n",
       " PosixPath('/home/shinhan/projects/plant_sci_hist/4_topic_model/4_4_over_time/_lowess/lowess_fit_func_topic43_frac0.2.pickle'),\n",
       " PosixPath('/home/shinhan/projects/plant_sci_hist/4_topic_model/4_4_over_time/_lowess/lowess_fit_func_topic43_frac0.3.pickle'),\n",
       " PosixPath('/home/shinhan/projects/plant_sci_hist/4_topic_model/4_4_over_time/_lowess/lowess_fit_func_topic44_frac0.1.pickle'),\n",
       " PosixPath('/home/shinhan/projects/plant_sci_hist/4_topic_model/4_4_over_time/_lowess/lowess_fit_func_topic44_frac0.2.pickle'),\n",
       " PosixPath('/home/shinhan/projects/plant_sci_hist/4_topic_model/4_4_over_time/_lowess/lowess_fit_func_topic44_frac0.3.pickle'),\n",
       " PosixPath('/home/shinhan/projects/plant_sci_hist/4_topic_model/4_4_over_time/_lowess/lowess_fit_func_topic45_frac0.1.pickle'),\n",
       " PosixPath('/home/shinhan/projects/plant_sci_hist/4_topic_model/4_4_over_time/_lowess/lowess_fit_func_topic45_frac0.2.pickle'),\n",
       " PosixPath('/home/shinhan/projects/plant_sci_hist/4_topic_model/4_4_over_time/_lowess/lowess_fit_func_topic45_frac0.3.pickle'),\n",
       " PosixPath('/home/shinhan/projects/plant_sci_hist/4_topic_model/4_4_over_time/_lowess/lowess_fit_func_topic46_frac0.1.pickle'),\n",
       " PosixPath('/home/shinhan/projects/plant_sci_hist/4_topic_model/4_4_over_time/_lowess/lowess_fit_func_topic46_frac0.2.pickle'),\n",
       " PosixPath('/home/shinhan/projects/plant_sci_hist/4_topic_model/4_4_over_time/_lowess/lowess_fit_func_topic46_frac0.3.pickle'),\n",
       " PosixPath('/home/shinhan/projects/plant_sci_hist/4_topic_model/4_4_over_time/_lowess/lowess_fit_func_topic47_frac0.1.pickle'),\n",
       " PosixPath('/home/shinhan/projects/plant_sci_hist/4_topic_model/4_4_over_time/_lowess/lowess_fit_func_topic47_frac0.2.pickle'),\n",
       " PosixPath('/home/shinhan/projects/plant_sci_hist/4_topic_model/4_4_over_time/_lowess/lowess_fit_func_topic47_frac0.3.pickle'),\n",
       " PosixPath('/home/shinhan/projects/plant_sci_hist/4_topic_model/4_4_over_time/_lowess/lowess_fit_func_topic48_frac0.1.pickle'),\n",
       " PosixPath('/home/shinhan/projects/plant_sci_hist/4_topic_model/4_4_over_time/_lowess/lowess_fit_func_topic48_frac0.2.pickle'),\n",
       " PosixPath('/home/shinhan/projects/plant_sci_hist/4_topic_model/4_4_over_time/_lowess/lowess_fit_func_topic48_frac0.3.pickle'),\n",
       " PosixPath('/home/shinhan/projects/plant_sci_hist/4_topic_model/4_4_over_time/_lowess/lowess_fit_func_topic49_frac0.1.pickle'),\n",
       " PosixPath('/home/shinhan/projects/plant_sci_hist/4_topic_model/4_4_over_time/_lowess/lowess_fit_func_topic49_frac0.2.pickle'),\n",
       " PosixPath('/home/shinhan/projects/plant_sci_hist/4_topic_model/4_4_over_time/_lowess/lowess_fit_func_topic49_frac0.3.pickle'),\n",
       " PosixPath('/home/shinhan/projects/plant_sci_hist/4_topic_model/4_4_over_time/_lowess/lowess_fit_func_topic4_frac0.1.pickle'),\n",
       " PosixPath('/home/shinhan/projects/plant_sci_hist/4_topic_model/4_4_over_time/_lowess/lowess_fit_func_topic4_frac0.2.pickle'),\n",
       " PosixPath('/home/shinhan/projects/plant_sci_hist/4_topic_model/4_4_over_time/_lowess/lowess_fit_func_topic4_frac0.3.pickle'),\n",
       " PosixPath('/home/shinhan/projects/plant_sci_hist/4_topic_model/4_4_over_time/_lowess/lowess_fit_func_topic50_frac0.1.pickle'),\n",
       " PosixPath('/home/shinhan/projects/plant_sci_hist/4_topic_model/4_4_over_time/_lowess/lowess_fit_func_topic50_frac0.2.pickle'),\n",
       " PosixPath('/home/shinhan/projects/plant_sci_hist/4_topic_model/4_4_over_time/_lowess/lowess_fit_func_topic50_frac0.3.pickle'),\n",
       " PosixPath('/home/shinhan/projects/plant_sci_hist/4_topic_model/4_4_over_time/_lowess/lowess_fit_func_topic51_frac0.1.pickle'),\n",
       " PosixPath('/home/shinhan/projects/plant_sci_hist/4_topic_model/4_4_over_time/_lowess/lowess_fit_func_topic51_frac0.2.pickle'),\n",
       " PosixPath('/home/shinhan/projects/plant_sci_hist/4_topic_model/4_4_over_time/_lowess/lowess_fit_func_topic51_frac0.3.pickle'),\n",
       " PosixPath('/home/shinhan/projects/plant_sci_hist/4_topic_model/4_4_over_time/_lowess/lowess_fit_func_topic52_frac0.1.pickle'),\n",
       " PosixPath('/home/shinhan/projects/plant_sci_hist/4_topic_model/4_4_over_time/_lowess/lowess_fit_func_topic52_frac0.2.pickle'),\n",
       " PosixPath('/home/shinhan/projects/plant_sci_hist/4_topic_model/4_4_over_time/_lowess/lowess_fit_func_topic52_frac0.3.pickle'),\n",
       " PosixPath('/home/shinhan/projects/plant_sci_hist/4_topic_model/4_4_over_time/_lowess/lowess_fit_func_topic53_frac0.1.pickle'),\n",
       " PosixPath('/home/shinhan/projects/plant_sci_hist/4_topic_model/4_4_over_time/_lowess/lowess_fit_func_topic53_frac0.2.pickle'),\n",
       " PosixPath('/home/shinhan/projects/plant_sci_hist/4_topic_model/4_4_over_time/_lowess/lowess_fit_func_topic53_frac0.3.pickle'),\n",
       " PosixPath('/home/shinhan/projects/plant_sci_hist/4_topic_model/4_4_over_time/_lowess/lowess_fit_func_topic54_frac0.1.pickle'),\n",
       " PosixPath('/home/shinhan/projects/plant_sci_hist/4_topic_model/4_4_over_time/_lowess/lowess_fit_func_topic54_frac0.2.pickle'),\n",
       " PosixPath('/home/shinhan/projects/plant_sci_hist/4_topic_model/4_4_over_time/_lowess/lowess_fit_func_topic54_frac0.3.pickle'),\n",
       " PosixPath('/home/shinhan/projects/plant_sci_hist/4_topic_model/4_4_over_time/_lowess/lowess_fit_func_topic55_frac0.1.pickle'),\n",
       " PosixPath('/home/shinhan/projects/plant_sci_hist/4_topic_model/4_4_over_time/_lowess/lowess_fit_func_topic55_frac0.2.pickle'),\n",
       " PosixPath('/home/shinhan/projects/plant_sci_hist/4_topic_model/4_4_over_time/_lowess/lowess_fit_func_topic55_frac0.3.pickle'),\n",
       " PosixPath('/home/shinhan/projects/plant_sci_hist/4_topic_model/4_4_over_time/_lowess/lowess_fit_func_topic56_frac0.1.pickle'),\n",
       " PosixPath('/home/shinhan/projects/plant_sci_hist/4_topic_model/4_4_over_time/_lowess/lowess_fit_func_topic56_frac0.2.pickle'),\n",
       " PosixPath('/home/shinhan/projects/plant_sci_hist/4_topic_model/4_4_over_time/_lowess/lowess_fit_func_topic56_frac0.3.pickle'),\n",
       " PosixPath('/home/shinhan/projects/plant_sci_hist/4_topic_model/4_4_over_time/_lowess/lowess_fit_func_topic57_frac0.1.pickle'),\n",
       " PosixPath('/home/shinhan/projects/plant_sci_hist/4_topic_model/4_4_over_time/_lowess/lowess_fit_func_topic57_frac0.2.pickle'),\n",
       " PosixPath('/home/shinhan/projects/plant_sci_hist/4_topic_model/4_4_over_time/_lowess/lowess_fit_func_topic57_frac0.3.pickle'),\n",
       " PosixPath('/home/shinhan/projects/plant_sci_hist/4_topic_model/4_4_over_time/_lowess/lowess_fit_func_topic58_frac0.1.pickle'),\n",
       " PosixPath('/home/shinhan/projects/plant_sci_hist/4_topic_model/4_4_over_time/_lowess/lowess_fit_func_topic58_frac0.2.pickle'),\n",
       " PosixPath('/home/shinhan/projects/plant_sci_hist/4_topic_model/4_4_over_time/_lowess/lowess_fit_func_topic58_frac0.3.pickle'),\n",
       " PosixPath('/home/shinhan/projects/plant_sci_hist/4_topic_model/4_4_over_time/_lowess/lowess_fit_func_topic59_frac0.1.pickle'),\n",
       " PosixPath('/home/shinhan/projects/plant_sci_hist/4_topic_model/4_4_over_time/_lowess/lowess_fit_func_topic59_frac0.2.pickle'),\n",
       " PosixPath('/home/shinhan/projects/plant_sci_hist/4_topic_model/4_4_over_time/_lowess/lowess_fit_func_topic59_frac0.3.pickle'),\n",
       " PosixPath('/home/shinhan/projects/plant_sci_hist/4_topic_model/4_4_over_time/_lowess/lowess_fit_func_topic5_frac0.1.pickle'),\n",
       " PosixPath('/home/shinhan/projects/plant_sci_hist/4_topic_model/4_4_over_time/_lowess/lowess_fit_func_topic5_frac0.2.pickle'),\n",
       " PosixPath('/home/shinhan/projects/plant_sci_hist/4_topic_model/4_4_over_time/_lowess/lowess_fit_func_topic5_frac0.3.pickle'),\n",
       " PosixPath('/home/shinhan/projects/plant_sci_hist/4_topic_model/4_4_over_time/_lowess/lowess_fit_func_topic60_frac0.1.pickle'),\n",
       " PosixPath('/home/shinhan/projects/plant_sci_hist/4_topic_model/4_4_over_time/_lowess/lowess_fit_func_topic60_frac0.2.pickle'),\n",
       " PosixPath('/home/shinhan/projects/plant_sci_hist/4_topic_model/4_4_over_time/_lowess/lowess_fit_func_topic60_frac0.3.pickle'),\n",
       " PosixPath('/home/shinhan/projects/plant_sci_hist/4_topic_model/4_4_over_time/_lowess/lowess_fit_func_topic61_frac0.1.pickle'),\n",
       " PosixPath('/home/shinhan/projects/plant_sci_hist/4_topic_model/4_4_over_time/_lowess/lowess_fit_func_topic61_frac0.2.pickle'),\n",
       " PosixPath('/home/shinhan/projects/plant_sci_hist/4_topic_model/4_4_over_time/_lowess/lowess_fit_func_topic61_frac0.3.pickle'),\n",
       " PosixPath('/home/shinhan/projects/plant_sci_hist/4_topic_model/4_4_over_time/_lowess/lowess_fit_func_topic62_frac0.1.pickle'),\n",
       " PosixPath('/home/shinhan/projects/plant_sci_hist/4_topic_model/4_4_over_time/_lowess/lowess_fit_func_topic62_frac0.2.pickle'),\n",
       " PosixPath('/home/shinhan/projects/plant_sci_hist/4_topic_model/4_4_over_time/_lowess/lowess_fit_func_topic62_frac0.3.pickle'),\n",
       " PosixPath('/home/shinhan/projects/plant_sci_hist/4_topic_model/4_4_over_time/_lowess/lowess_fit_func_topic63_frac0.1.pickle'),\n",
       " PosixPath('/home/shinhan/projects/plant_sci_hist/4_topic_model/4_4_over_time/_lowess/lowess_fit_func_topic63_frac0.2.pickle'),\n",
       " PosixPath('/home/shinhan/projects/plant_sci_hist/4_topic_model/4_4_over_time/_lowess/lowess_fit_func_topic63_frac0.3.pickle'),\n",
       " PosixPath('/home/shinhan/projects/plant_sci_hist/4_topic_model/4_4_over_time/_lowess/lowess_fit_func_topic64_frac0.1.pickle'),\n",
       " PosixPath('/home/shinhan/projects/plant_sci_hist/4_topic_model/4_4_over_time/_lowess/lowess_fit_func_topic64_frac0.2.pickle'),\n",
       " PosixPath('/home/shinhan/projects/plant_sci_hist/4_topic_model/4_4_over_time/_lowess/lowess_fit_func_topic64_frac0.3.pickle'),\n",
       " PosixPath('/home/shinhan/projects/plant_sci_hist/4_topic_model/4_4_over_time/_lowess/lowess_fit_func_topic65_frac0.1.pickle'),\n",
       " PosixPath('/home/shinhan/projects/plant_sci_hist/4_topic_model/4_4_over_time/_lowess/lowess_fit_func_topic65_frac0.2.pickle'),\n",
       " PosixPath('/home/shinhan/projects/plant_sci_hist/4_topic_model/4_4_over_time/_lowess/lowess_fit_func_topic65_frac0.3.pickle'),\n",
       " PosixPath('/home/shinhan/projects/plant_sci_hist/4_topic_model/4_4_over_time/_lowess/lowess_fit_func_topic66_frac0.1.pickle'),\n",
       " PosixPath('/home/shinhan/projects/plant_sci_hist/4_topic_model/4_4_over_time/_lowess/lowess_fit_func_topic66_frac0.2.pickle'),\n",
       " PosixPath('/home/shinhan/projects/plant_sci_hist/4_topic_model/4_4_over_time/_lowess/lowess_fit_func_topic66_frac0.3.pickle'),\n",
       " PosixPath('/home/shinhan/projects/plant_sci_hist/4_topic_model/4_4_over_time/_lowess/lowess_fit_func_topic67_frac0.1.pickle'),\n",
       " PosixPath('/home/shinhan/projects/plant_sci_hist/4_topic_model/4_4_over_time/_lowess/lowess_fit_func_topic67_frac0.2.pickle'),\n",
       " PosixPath('/home/shinhan/projects/plant_sci_hist/4_topic_model/4_4_over_time/_lowess/lowess_fit_func_topic67_frac0.3.pickle'),\n",
       " PosixPath('/home/shinhan/projects/plant_sci_hist/4_topic_model/4_4_over_time/_lowess/lowess_fit_func_topic68_frac0.1.pickle'),\n",
       " PosixPath('/home/shinhan/projects/plant_sci_hist/4_topic_model/4_4_over_time/_lowess/lowess_fit_func_topic68_frac0.2.pickle'),\n",
       " PosixPath('/home/shinhan/projects/plant_sci_hist/4_topic_model/4_4_over_time/_lowess/lowess_fit_func_topic68_frac0.3.pickle'),\n",
       " PosixPath('/home/shinhan/projects/plant_sci_hist/4_topic_model/4_4_over_time/_lowess/lowess_fit_func_topic69_frac0.1.pickle'),\n",
       " PosixPath('/home/shinhan/projects/plant_sci_hist/4_topic_model/4_4_over_time/_lowess/lowess_fit_func_topic69_frac0.2.pickle'),\n",
       " PosixPath('/home/shinhan/projects/plant_sci_hist/4_topic_model/4_4_over_time/_lowess/lowess_fit_func_topic69_frac0.3.pickle'),\n",
       " PosixPath('/home/shinhan/projects/plant_sci_hist/4_topic_model/4_4_over_time/_lowess/lowess_fit_func_topic6_frac0.1.pickle'),\n",
       " PosixPath('/home/shinhan/projects/plant_sci_hist/4_topic_model/4_4_over_time/_lowess/lowess_fit_func_topic6_frac0.2.pickle'),\n",
       " PosixPath('/home/shinhan/projects/plant_sci_hist/4_topic_model/4_4_over_time/_lowess/lowess_fit_func_topic6_frac0.3.pickle'),\n",
       " PosixPath('/home/shinhan/projects/plant_sci_hist/4_topic_model/4_4_over_time/_lowess/lowess_fit_func_topic70_frac0.1.pickle'),\n",
       " PosixPath('/home/shinhan/projects/plant_sci_hist/4_topic_model/4_4_over_time/_lowess/lowess_fit_func_topic70_frac0.2.pickle'),\n",
       " PosixPath('/home/shinhan/projects/plant_sci_hist/4_topic_model/4_4_over_time/_lowess/lowess_fit_func_topic70_frac0.3.pickle'),\n",
       " PosixPath('/home/shinhan/projects/plant_sci_hist/4_topic_model/4_4_over_time/_lowess/lowess_fit_func_topic71_frac0.1.pickle'),\n",
       " PosixPath('/home/shinhan/projects/plant_sci_hist/4_topic_model/4_4_over_time/_lowess/lowess_fit_func_topic71_frac0.2.pickle'),\n",
       " PosixPath('/home/shinhan/projects/plant_sci_hist/4_topic_model/4_4_over_time/_lowess/lowess_fit_func_topic71_frac0.3.pickle'),\n",
       " PosixPath('/home/shinhan/projects/plant_sci_hist/4_topic_model/4_4_over_time/_lowess/lowess_fit_func_topic72_frac0.1.pickle'),\n",
       " PosixPath('/home/shinhan/projects/plant_sci_hist/4_topic_model/4_4_over_time/_lowess/lowess_fit_func_topic72_frac0.2.pickle'),\n",
       " PosixPath('/home/shinhan/projects/plant_sci_hist/4_topic_model/4_4_over_time/_lowess/lowess_fit_func_topic72_frac0.3.pickle'),\n",
       " PosixPath('/home/shinhan/projects/plant_sci_hist/4_topic_model/4_4_over_time/_lowess/lowess_fit_func_topic73_frac0.1.pickle'),\n",
       " PosixPath('/home/shinhan/projects/plant_sci_hist/4_topic_model/4_4_over_time/_lowess/lowess_fit_func_topic73_frac0.2.pickle'),\n",
       " PosixPath('/home/shinhan/projects/plant_sci_hist/4_topic_model/4_4_over_time/_lowess/lowess_fit_func_topic73_frac0.3.pickle'),\n",
       " PosixPath('/home/shinhan/projects/plant_sci_hist/4_topic_model/4_4_over_time/_lowess/lowess_fit_func_topic74_frac0.1.pickle'),\n",
       " PosixPath('/home/shinhan/projects/plant_sci_hist/4_topic_model/4_4_over_time/_lowess/lowess_fit_func_topic74_frac0.2.pickle'),\n",
       " PosixPath('/home/shinhan/projects/plant_sci_hist/4_topic_model/4_4_over_time/_lowess/lowess_fit_func_topic74_frac0.3.pickle'),\n",
       " PosixPath('/home/shinhan/projects/plant_sci_hist/4_topic_model/4_4_over_time/_lowess/lowess_fit_func_topic75_frac0.1.pickle'),\n",
       " PosixPath('/home/shinhan/projects/plant_sci_hist/4_topic_model/4_4_over_time/_lowess/lowess_fit_func_topic75_frac0.2.pickle'),\n",
       " PosixPath('/home/shinhan/projects/plant_sci_hist/4_topic_model/4_4_over_time/_lowess/lowess_fit_func_topic75_frac0.3.pickle'),\n",
       " PosixPath('/home/shinhan/projects/plant_sci_hist/4_topic_model/4_4_over_time/_lowess/lowess_fit_func_topic76_frac0.1.pickle'),\n",
       " PosixPath('/home/shinhan/projects/plant_sci_hist/4_topic_model/4_4_over_time/_lowess/lowess_fit_func_topic76_frac0.2.pickle'),\n",
       " PosixPath('/home/shinhan/projects/plant_sci_hist/4_topic_model/4_4_over_time/_lowess/lowess_fit_func_topic76_frac0.3.pickle'),\n",
       " PosixPath('/home/shinhan/projects/plant_sci_hist/4_topic_model/4_4_over_time/_lowess/lowess_fit_func_topic77_frac0.1.pickle'),\n",
       " PosixPath('/home/shinhan/projects/plant_sci_hist/4_topic_model/4_4_over_time/_lowess/lowess_fit_func_topic77_frac0.2.pickle'),\n",
       " PosixPath('/home/shinhan/projects/plant_sci_hist/4_topic_model/4_4_over_time/_lowess/lowess_fit_func_topic77_frac0.3.pickle'),\n",
       " PosixPath('/home/shinhan/projects/plant_sci_hist/4_topic_model/4_4_over_time/_lowess/lowess_fit_func_topic78_frac0.1.pickle'),\n",
       " PosixPath('/home/shinhan/projects/plant_sci_hist/4_topic_model/4_4_over_time/_lowess/lowess_fit_func_topic78_frac0.2.pickle'),\n",
       " PosixPath('/home/shinhan/projects/plant_sci_hist/4_topic_model/4_4_over_time/_lowess/lowess_fit_func_topic78_frac0.3.pickle'),\n",
       " PosixPath('/home/shinhan/projects/plant_sci_hist/4_topic_model/4_4_over_time/_lowess/lowess_fit_func_topic79_frac0.1.pickle'),\n",
       " PosixPath('/home/shinhan/projects/plant_sci_hist/4_topic_model/4_4_over_time/_lowess/lowess_fit_func_topic79_frac0.2.pickle'),\n",
       " PosixPath('/home/shinhan/projects/plant_sci_hist/4_topic_model/4_4_over_time/_lowess/lowess_fit_func_topic79_frac0.3.pickle'),\n",
       " PosixPath('/home/shinhan/projects/plant_sci_hist/4_topic_model/4_4_over_time/_lowess/lowess_fit_func_topic7_frac0.1.pickle'),\n",
       " PosixPath('/home/shinhan/projects/plant_sci_hist/4_topic_model/4_4_over_time/_lowess/lowess_fit_func_topic7_frac0.2.pickle'),\n",
       " PosixPath('/home/shinhan/projects/plant_sci_hist/4_topic_model/4_4_over_time/_lowess/lowess_fit_func_topic7_frac0.3.pickle'),\n",
       " PosixPath('/home/shinhan/projects/plant_sci_hist/4_topic_model/4_4_over_time/_lowess/lowess_fit_func_topic80_frac0.1.pickle'),\n",
       " PosixPath('/home/shinhan/projects/plant_sci_hist/4_topic_model/4_4_over_time/_lowess/lowess_fit_func_topic80_frac0.2.pickle'),\n",
       " PosixPath('/home/shinhan/projects/plant_sci_hist/4_topic_model/4_4_over_time/_lowess/lowess_fit_func_topic80_frac0.3.pickle'),\n",
       " PosixPath('/home/shinhan/projects/plant_sci_hist/4_topic_model/4_4_over_time/_lowess/lowess_fit_func_topic81_frac0.1.pickle'),\n",
       " PosixPath('/home/shinhan/projects/plant_sci_hist/4_topic_model/4_4_over_time/_lowess/lowess_fit_func_topic81_frac0.2.pickle'),\n",
       " PosixPath('/home/shinhan/projects/plant_sci_hist/4_topic_model/4_4_over_time/_lowess/lowess_fit_func_topic81_frac0.3.pickle'),\n",
       " PosixPath('/home/shinhan/projects/plant_sci_hist/4_topic_model/4_4_over_time/_lowess/lowess_fit_func_topic82_frac0.1.pickle'),\n",
       " PosixPath('/home/shinhan/projects/plant_sci_hist/4_topic_model/4_4_over_time/_lowess/lowess_fit_func_topic82_frac0.2.pickle'),\n",
       " PosixPath('/home/shinhan/projects/plant_sci_hist/4_topic_model/4_4_over_time/_lowess/lowess_fit_func_topic82_frac0.3.pickle'),\n",
       " PosixPath('/home/shinhan/projects/plant_sci_hist/4_topic_model/4_4_over_time/_lowess/lowess_fit_func_topic83_frac0.1.pickle'),\n",
       " PosixPath('/home/shinhan/projects/plant_sci_hist/4_topic_model/4_4_over_time/_lowess/lowess_fit_func_topic83_frac0.2.pickle'),\n",
       " PosixPath('/home/shinhan/projects/plant_sci_hist/4_topic_model/4_4_over_time/_lowess/lowess_fit_func_topic83_frac0.3.pickle'),\n",
       " PosixPath('/home/shinhan/projects/plant_sci_hist/4_topic_model/4_4_over_time/_lowess/lowess_fit_func_topic84_frac0.1.pickle'),\n",
       " PosixPath('/home/shinhan/projects/plant_sci_hist/4_topic_model/4_4_over_time/_lowess/lowess_fit_func_topic84_frac0.2.pickle'),\n",
       " PosixPath('/home/shinhan/projects/plant_sci_hist/4_topic_model/4_4_over_time/_lowess/lowess_fit_func_topic84_frac0.3.pickle'),\n",
       " PosixPath('/home/shinhan/projects/plant_sci_hist/4_topic_model/4_4_over_time/_lowess/lowess_fit_func_topic85_frac0.1.pickle'),\n",
       " PosixPath('/home/shinhan/projects/plant_sci_hist/4_topic_model/4_4_over_time/_lowess/lowess_fit_func_topic85_frac0.2.pickle'),\n",
       " PosixPath('/home/shinhan/projects/plant_sci_hist/4_topic_model/4_4_over_time/_lowess/lowess_fit_func_topic85_frac0.3.pickle'),\n",
       " PosixPath('/home/shinhan/projects/plant_sci_hist/4_topic_model/4_4_over_time/_lowess/lowess_fit_func_topic86_frac0.1.pickle'),\n",
       " PosixPath('/home/shinhan/projects/plant_sci_hist/4_topic_model/4_4_over_time/_lowess/lowess_fit_func_topic86_frac0.2.pickle'),\n",
       " PosixPath('/home/shinhan/projects/plant_sci_hist/4_topic_model/4_4_over_time/_lowess/lowess_fit_func_topic86_frac0.3.pickle'),\n",
       " PosixPath('/home/shinhan/projects/plant_sci_hist/4_topic_model/4_4_over_time/_lowess/lowess_fit_func_topic87_frac0.1.pickle'),\n",
       " PosixPath('/home/shinhan/projects/plant_sci_hist/4_topic_model/4_4_over_time/_lowess/lowess_fit_func_topic87_frac0.2.pickle'),\n",
       " PosixPath('/home/shinhan/projects/plant_sci_hist/4_topic_model/4_4_over_time/_lowess/lowess_fit_func_topic87_frac0.3.pickle'),\n",
       " PosixPath('/home/shinhan/projects/plant_sci_hist/4_topic_model/4_4_over_time/_lowess/lowess_fit_func_topic88_frac0.1.pickle'),\n",
       " PosixPath('/home/shinhan/projects/plant_sci_hist/4_topic_model/4_4_over_time/_lowess/lowess_fit_func_topic88_frac0.2.pickle'),\n",
       " PosixPath('/home/shinhan/projects/plant_sci_hist/4_topic_model/4_4_over_time/_lowess/lowess_fit_func_topic88_frac0.3.pickle'),\n",
       " PosixPath('/home/shinhan/projects/plant_sci_hist/4_topic_model/4_4_over_time/_lowess/lowess_fit_func_topic89_frac0.1.pickle'),\n",
       " PosixPath('/home/shinhan/projects/plant_sci_hist/4_topic_model/4_4_over_time/_lowess/lowess_fit_func_topic89_frac0.2.pickle'),\n",
       " PosixPath('/home/shinhan/projects/plant_sci_hist/4_topic_model/4_4_over_time/_lowess/lowess_fit_func_topic89_frac0.3.pickle'),\n",
       " PosixPath('/home/shinhan/projects/plant_sci_hist/4_topic_model/4_4_over_time/_lowess/lowess_fit_func_topic8_frac0.1.pickle'),\n",
       " PosixPath('/home/shinhan/projects/plant_sci_hist/4_topic_model/4_4_over_time/_lowess/lowess_fit_func_topic8_frac0.2.pickle'),\n",
       " PosixPath('/home/shinhan/projects/plant_sci_hist/4_topic_model/4_4_over_time/_lowess/lowess_fit_func_topic8_frac0.3.pickle'),\n",
       " PosixPath('/home/shinhan/projects/plant_sci_hist/4_topic_model/4_4_over_time/_lowess/lowess_fit_func_topic9_frac0.1.pickle'),\n",
       " PosixPath('/home/shinhan/projects/plant_sci_hist/4_topic_model/4_4_over_time/_lowess/lowess_fit_func_topic9_frac0.2.pickle'),\n",
       " PosixPath('/home/shinhan/projects/plant_sci_hist/4_topic_model/4_4_over_time/_lowess/lowess_fit_func_topic9_frac0.3.pickle')]"
      ]
     },
     "execution_count": 91,
     "metadata": {},
     "output_type": "execute_result"
    }
   ],
   "source": [
    "# Get lowess pickles\n",
    "lowess_pickles = list(dir_lowess.glob('**/*.pickle'))\n",
    "lowess_pickles"
   ]
  },
  {
   "cell_type": "code",
   "execution_count": 123,
   "metadata": {},
   "outputs": [],
   "source": [
    "# derivative(f, x0, dx) = (f(x0+dx) - f(x0-dx)) / (2 * dx)\n",
    "# dx is set to 1 week = 7*24*60*60 seconds\n",
    "dx = 7*24*60*60 \n",
    "\n",
    "# Create {topic: {frac_param: {year: slope}}} for record-keeping\n",
    "toc_slopes = {}\n",
    "\n",
    "# Create {year: {frac_param: [slopes]}} to detect shifts\n",
    "yr_slopes = {}\n",
    "\n",
    "# For each topic\n",
    "for pkl in lowess_pickles:\n",
    "  # file name: lowess_fit_func_topicX_fracX.X.pickle\n",
    "  f_name = str(pkl).split(\"/\")[-1]\n",
    "  # get topic index\n",
    "  topic = f_name.split(\"_\")[3][5:]\n",
    "  # get fraction parameter\n",
    "  frac = f_name.split(\"_\")[4].split(\".pickle\")[0][4:]\n",
    "\n",
    "  if topic not in toc_slopes:\n",
    "    toc_slopes[topic] = {frac: {}}\n",
    "  else:\n",
    "    toc_slopes[topic][frac] = {}\n",
    "\n",
    "  # Checked and confirmed that the topic and frac are correct\n",
    "  #print(f_name, topic, frac)\n",
    "\n",
    "  # read lowess fit\n",
    "  with open(pkl, 'rb') as f:\n",
    "    lowess_fit = pickle.load(f)\n",
    "\n",
    "\n",
    "  # Start from 1978 to 2020, do it every year\n",
    "  for yr in range(1978, 2021):\n",
    "    x0 = datetime(yr, 1, 1).timestamp()\n",
    "    # Slope very small because the scale for x is very large compare to y\n",
    "    slope =  derivative(lowess_fit, x0, dx)\n",
    "\n",
    "    toc_slopes[topic][frac][yr] = slope\n",
    "\n",
    "    if yr not in yr_slopes:\n",
    "      yr_slopes[yr] = {frac: [slope]}\n",
    "    elif frac not in yr_slopes[yr]:\n",
    "      yr_slopes[yr][frac] = [slope]\n",
    "    else:\n",
    "      yr_slopes[yr][frac].append(slope)"
   ]
  },
  {
   "cell_type": "code",
   "execution_count": 124,
   "metadata": {},
   "outputs": [],
   "source": [
    "# Save toc_slopes and year_slopes as pickles\n",
    "with open(work_dir / 'dict_toc_frac_year_lowess_slopes.pkl', 'wb') as f:\n",
    "  pickle.dump(toc_slopes, f)\n",
    "\n",
    "with open(work_dir / 'dict_year_frac_lowess_slopes.pkl', 'wb') as f:\n",
    "  pickle.dump(yr_slopes, f)"
   ]
  },
  {
   "cell_type": "code",
   "execution_count": 128,
   "metadata": {},
   "outputs": [],
   "source": [
    "# Create a dataframe with yr_slope_sum, 7 columns:\n",
    "#  year\n",
    "#  frac_param_0.1_positive\n",
    "#  frac_param_0.2_positive\n",
    "#  frac_param_0.3_positive\n",
    "#  frac_param_0.1_negative\n",
    "#  frac_param_0.2_negative\n",
    "#  frac_param_0.3_negative\n",
    "# yr_slope_sum = {year: {frac_param: sum_of_slopes_over_all_topics}}\n",
    "\n",
    "years = range(1978, 2021)\n",
    "\n",
    "# List of lists\n",
    "# [fc01_pos, fc01_neg, fc02_pos, fc02_neg, fc03_pos, fc03_neg]\n",
    "fc_slopes = [[], [], [], [], [], []]\n",
    "\n",
    "# frac_param correspond to fc_slope indices\n",
    "fc_idx = {\"0.1\":[0,1], \"0.2\":[2,3], \"0.3\":[4,5]}\n",
    "for yr in years:\n",
    "  for fc in fc_idx:\n",
    "    # yr_slope_sum = {year: {frac_param: [slopes]}}\n",
    "\n",
    "    # positive and negative slope sums\n",
    "    sum_p = sum_n = 0\n",
    "    for slope in yr_slopes[yr][fc]:\n",
    "      if slope > 0:\n",
    "        sum_p += slope\n",
    "      elif slope < 0:\n",
    "        sum_n += slope\n",
    "\n",
    "    # append to fc_slopes\n",
    "    fc_slopes[fc_idx[fc][0]].append(sum_p)\n",
    "    fc_slopes[fc_idx[fc][1]].append(sum_n)\n",
    "\n",
    "df_slope_sum = pd.DataFrame({'Year': years, \n",
    "                             'frac0.1_pos': fc_slopes[0], \n",
    "                             'frac0.1_neg': fc_slopes[1],\n",
    "                             'frac0.2_pos': fc_slopes[2],\n",
    "                             'frac0.2_neg': fc_slopes[3],\n",
    "                             'frac0.3_pos': fc_slopes[4],\n",
    "                             'frac0.3_neg': fc_slopes[5],})"
   ]
  },
  {
   "cell_type": "code",
   "execution_count": 129,
   "metadata": {},
   "outputs": [
    {
     "data": {
      "text/html": [
       "<div>\n",
       "<style scoped>\n",
       "    .dataframe tbody tr th:only-of-type {\n",
       "        vertical-align: middle;\n",
       "    }\n",
       "\n",
       "    .dataframe tbody tr th {\n",
       "        vertical-align: top;\n",
       "    }\n",
       "\n",
       "    .dataframe thead th {\n",
       "        text-align: right;\n",
       "    }\n",
       "</style>\n",
       "<table border=\"1\" class=\"dataframe\">\n",
       "  <thead>\n",
       "    <tr style=\"text-align: right;\">\n",
       "      <th></th>\n",
       "      <th>Year</th>\n",
       "      <th>frac0.1_pos</th>\n",
       "      <th>frac0.1_neg</th>\n",
       "      <th>frac0.2_pos</th>\n",
       "      <th>frac0.2_neg</th>\n",
       "      <th>frac0.3_pos</th>\n",
       "      <th>frac0.3_neg</th>\n",
       "    </tr>\n",
       "  </thead>\n",
       "  <tbody>\n",
       "    <tr>\n",
       "      <th>0</th>\n",
       "      <td>1978</td>\n",
       "      <td>0.000008</td>\n",
       "      <td>-0.000007</td>\n",
       "      <td>0.000006</td>\n",
       "      <td>-0.000007</td>\n",
       "      <td>0.000005</td>\n",
       "      <td>-0.000006</td>\n",
       "    </tr>\n",
       "    <tr>\n",
       "      <th>1</th>\n",
       "      <td>1979</td>\n",
       "      <td>0.000008</td>\n",
       "      <td>-0.000007</td>\n",
       "      <td>0.000006</td>\n",
       "      <td>-0.000007</td>\n",
       "      <td>0.000005</td>\n",
       "      <td>-0.000006</td>\n",
       "    </tr>\n",
       "    <tr>\n",
       "      <th>2</th>\n",
       "      <td>1980</td>\n",
       "      <td>0.000008</td>\n",
       "      <td>-0.000007</td>\n",
       "      <td>0.000006</td>\n",
       "      <td>-0.000007</td>\n",
       "      <td>0.000005</td>\n",
       "      <td>-0.000006</td>\n",
       "    </tr>\n",
       "    <tr>\n",
       "      <th>3</th>\n",
       "      <td>1981</td>\n",
       "      <td>0.000008</td>\n",
       "      <td>-0.000007</td>\n",
       "      <td>0.000006</td>\n",
       "      <td>-0.000007</td>\n",
       "      <td>0.000005</td>\n",
       "      <td>-0.000006</td>\n",
       "    </tr>\n",
       "    <tr>\n",
       "      <th>4</th>\n",
       "      <td>1982</td>\n",
       "      <td>0.000008</td>\n",
       "      <td>-0.000007</td>\n",
       "      <td>0.000006</td>\n",
       "      <td>-0.000007</td>\n",
       "      <td>0.000005</td>\n",
       "      <td>-0.000006</td>\n",
       "    </tr>\n",
       "    <tr>\n",
       "      <th>5</th>\n",
       "      <td>1983</td>\n",
       "      <td>0.000008</td>\n",
       "      <td>-0.000007</td>\n",
       "      <td>0.000006</td>\n",
       "      <td>-0.000007</td>\n",
       "      <td>0.000005</td>\n",
       "      <td>-0.000006</td>\n",
       "    </tr>\n",
       "    <tr>\n",
       "      <th>6</th>\n",
       "      <td>1984</td>\n",
       "      <td>0.000008</td>\n",
       "      <td>-0.000007</td>\n",
       "      <td>0.000006</td>\n",
       "      <td>-0.000007</td>\n",
       "      <td>0.000005</td>\n",
       "      <td>-0.000006</td>\n",
       "    </tr>\n",
       "    <tr>\n",
       "      <th>7</th>\n",
       "      <td>1985</td>\n",
       "      <td>0.000008</td>\n",
       "      <td>-0.000007</td>\n",
       "      <td>0.000006</td>\n",
       "      <td>-0.000007</td>\n",
       "      <td>0.000005</td>\n",
       "      <td>-0.000006</td>\n",
       "    </tr>\n",
       "    <tr>\n",
       "      <th>8</th>\n",
       "      <td>1986</td>\n",
       "      <td>0.000008</td>\n",
       "      <td>-0.000007</td>\n",
       "      <td>0.000006</td>\n",
       "      <td>-0.000007</td>\n",
       "      <td>0.000005</td>\n",
       "      <td>-0.000006</td>\n",
       "    </tr>\n",
       "    <tr>\n",
       "      <th>9</th>\n",
       "      <td>1987</td>\n",
       "      <td>0.000008</td>\n",
       "      <td>-0.000007</td>\n",
       "      <td>0.000006</td>\n",
       "      <td>-0.000007</td>\n",
       "      <td>0.000005</td>\n",
       "      <td>-0.000006</td>\n",
       "    </tr>\n",
       "  </tbody>\n",
       "</table>\n",
       "</div>"
      ],
      "text/plain": [
       "   Year  frac0.1_pos  frac0.1_neg  frac0.2_pos  frac0.2_neg  frac0.3_pos  \\\n",
       "0  1978     0.000008    -0.000007     0.000006    -0.000007     0.000005   \n",
       "1  1979     0.000008    -0.000007     0.000006    -0.000007     0.000005   \n",
       "2  1980     0.000008    -0.000007     0.000006    -0.000007     0.000005   \n",
       "3  1981     0.000008    -0.000007     0.000006    -0.000007     0.000005   \n",
       "4  1982     0.000008    -0.000007     0.000006    -0.000007     0.000005   \n",
       "5  1983     0.000008    -0.000007     0.000006    -0.000007     0.000005   \n",
       "6  1984     0.000008    -0.000007     0.000006    -0.000007     0.000005   \n",
       "7  1985     0.000008    -0.000007     0.000006    -0.000007     0.000005   \n",
       "8  1986     0.000008    -0.000007     0.000006    -0.000007     0.000005   \n",
       "9  1987     0.000008    -0.000007     0.000006    -0.000007     0.000005   \n",
       "\n",
       "   frac0.3_neg  \n",
       "0    -0.000006  \n",
       "1    -0.000006  \n",
       "2    -0.000006  \n",
       "3    -0.000006  \n",
       "4    -0.000006  \n",
       "5    -0.000006  \n",
       "6    -0.000006  \n",
       "7    -0.000006  \n",
       "8    -0.000006  \n",
       "9    -0.000006  "
      ]
     },
     "execution_count": 129,
     "metadata": {},
     "output_type": "execute_result"
    }
   ],
   "source": [
    "df_slope_sum.head(10)"
   ]
  },
  {
   "cell_type": "code",
   "execution_count": 132,
   "metadata": {},
   "outputs": [],
   "source": [
    "df_slope_sum.to_csv(work_dir / 'table_year_frac_slope_sum.csv', index=False)"
   ]
  },
  {
   "cell_type": "markdown",
   "metadata": {},
   "source": [
    "## ___Testing___"
   ]
  },
  {
   "cell_type": "markdown",
   "metadata": {},
   "source": [
    "### Condition to get specific rows"
   ]
  },
  {
   "cell_type": "code",
   "execution_count": null,
   "metadata": {},
   "outputs": [
    {
     "data": {
      "text/plain": [
       "1364"
      ]
     },
     "metadata": {},
     "output_type": "display_data"
    }
   ],
   "source": [
    "cond1 = (corpus_df['Topic'] == 78)\n",
    "cond1.values.sum()"
   ]
  },
  {
   "cell_type": "code",
   "execution_count": null,
   "metadata": {},
   "outputs": [
    {
     "data": {
      "text/plain": [
       "14994"
      ]
     },
     "metadata": {},
     "output_type": "display_data"
    }
   ],
   "source": [
    "cond2 = corpus_df['Year'].isin(range(2000, 2002))\n",
    "cond2.values.sum()"
   ]
  },
  {
   "cell_type": "code",
   "execution_count": null,
   "metadata": {},
   "outputs": [
    {
     "data": {
      "text/plain": [
       "72"
      ]
     },
     "metadata": {},
     "output_type": "display_data"
    }
   ],
   "source": [
    "(cond1 & cond2).values.sum()"
   ]
  },
  {
   "cell_type": "code",
   "execution_count": null,
   "metadata": {},
   "outputs": [
    {
     "data": {
      "text/plain": [
       "(72, 13)"
      ]
     },
     "metadata": {},
     "output_type": "display_data"
    }
   ],
   "source": [
    "corpus_df[cond1 & cond2].shape"
   ]
  },
  {
   "cell_type": "markdown",
   "metadata": {},
   "source": [
    "### Lowess fit derivatives"
   ]
  },
  {
   "cell_type": "code",
   "execution_count": 133,
   "metadata": {},
   "outputs": [],
   "source": [
    "def get_file(toc, frac):\n",
    "  fit_pkl = \"\"\n",
    "  for pkl in lowess_pickles:\n",
    "    file = str(pkl).split(\"/\")[-1]\n",
    "    if file.find(f\"topic{toc}_frac{frac}\") != -1:\n",
    "      fit_pkl = pkl\n",
    "      break\n",
    "  \n",
    "  return fit_pkl"
   ]
  },
  {
   "cell_type": "code",
   "execution_count": 140,
   "metadata": {},
   "outputs": [],
   "source": [
    "fit_pkl = get_file(40, 0.2)\n",
    "with open(fit_pkl, 'rb') as f:\n",
    "  lowess_fit = pickle.load(f)"
   ]
  },
  {
   "cell_type": "code",
   "execution_count": 141,
   "metadata": {},
   "outputs": [
    {
     "name": "stdout",
     "output_type": "stream",
     "text": [
      "1978 4.26e-08\n",
      "1979 4.26e-08\n",
      "1980 4.26e-08\n",
      "1981 4.26e-08\n",
      "1982 4.26e-08\n",
      "1983 4.26e-08\n",
      "1984 4.24e-08\n",
      "1985 4.24e-08\n",
      "1986 4.24e-08\n",
      "1987 4.24e-08\n",
      "1988 5.07e-08\n",
      "1989 5.07e-08\n",
      "1990 5.07e-08\n",
      "1991 6.76e-08\n",
      "1992 6.76e-08\n",
      "1993 7.02e-08\n",
      "1994 7.02e-08\n",
      "1995 5.62e-08\n",
      "1996 5.62e-08\n",
      "1997 1.37e-08\n",
      "1998 1.37e-08\n",
      "1999 7.38e-09\n",
      "2000 7.38e-09\n",
      "2001 3.74e-08\n",
      "2002 1.73e-08\n",
      "2003 -1.71e-08\n",
      "2004 1.77e-08\n",
      "2005 -1.48e-08\n",
      "2006 -4.28e-08\n",
      "2007 -3.53e-08\n",
      "2008 -7.57e-08\n",
      "2009 -5.40e-08\n",
      "2010 -3.48e-08\n",
      "2011 9.35e-09\n",
      "2012 7.47e-08\n",
      "2013 9.98e-08\n",
      "2014 1.48e-07\n",
      "2015 1.62e-07\n",
      "2016 2.28e-07\n",
      "2017 1.86e-07\n",
      "2018 1.97e-07\n",
      "2019 9.76e-08\n",
      "2020 -1.06e-08\n"
     ]
    }
   ],
   "source": [
    "# Start from 1978 to 2020, do it every year\n",
    "for yr in range(1978, 2021):\n",
    "  x0 = datetime(yr, 1, 1).timestamp()\n",
    "  # Slope very small because the scale for x is very large compare to y\n",
    "  slope = \"{:.2e}\".format(derivative(lowess_fit, x0, dx))\n",
    "  print(yr, slope)"
   ]
  },
  {
   "cell_type": "code",
   "execution_count": 142,
   "metadata": {},
   "outputs": [
    {
     "data": {
      "text/plain": [
       "<scipy.interpolate._interpolate.interp1d at 0x7f5516a5bef0>"
      ]
     },
     "execution_count": 142,
     "metadata": {},
     "output_type": "execute_result"
    }
   ],
   "source": [
    "lowess_fit"
   ]
  },
  {
   "cell_type": "code",
   "execution_count": 143,
   "metadata": {},
   "outputs": [
    {
     "data": {
      "text/plain": [
       "4.25879999"
      ]
     },
     "execution_count": 143,
     "metadata": {},
     "output_type": "execute_result"
    }
   ],
   "source": [
    "ts_list[1]/1e8"
   ]
  },
  {
   "cell_type": "code",
   "execution_count": 144,
   "metadata": {},
   "outputs": [],
   "source": [
    "def plot_fit(lowess_fit, ts_list):\n",
    "  x = np.arange(ts_list[0], ts_list[-1], 1e7)\n",
    "  y = lowess_fit(x)\n",
    "  plt.plot(x, y, '-')"
   ]
  },
  {
   "cell_type": "code",
   "execution_count": 145,
   "metadata": {},
   "outputs": [
    {
     "data": {
      "image/png": "[encoded data removed]",
      "text/plain": [
       "<Figure size 432x288 with 1 Axes>"
      ]
     },
     "metadata": {
      "needs_background": "light"
     },
     "output_type": "display_data"
    }
   ],
   "source": [
    "plot_fit(lowess_fit, ts_list)"
   ]
  },
  {
   "cell_type": "code",
   "execution_count": null,
   "metadata": {},
   "outputs": [],
   "source": [
    "def get_slopes(fp, yr):\n",
    "  slopes = []\n",
    "  for toc in toc_slopes:\n",
    "    # toc_slopes = {topic: {frac_param: {year: slope}}}\n",
    "    slope = toc_slopes[toc][fp][yr]\n",
    "    slopes.append(slope)\n",
    "\n",
    "  print(slopes)\n",
    "  print(np.sum(slopes))"
   ]
  },
  {
   "cell_type": "code",
   "execution_count": null,
   "metadata": {},
   "outputs": [
    {
     "name": "stdout",
     "output_type": "stream",
     "text": [
      "[-1.5585835479923253e-07, 8.007666046275657e-08, 1.8787624903103298e-08, 2.2878605603393256e-08, 5.719720523543507e-07, 5.081782505524478e-10, 2.906040826115834e-09, 3.559440197855734e-08, 1.1403433909935537e-08, 4.470442650206532e-09, 4.339653238866233e-07, 1.2248659900720465e-08, 3.5291523439754113e-07, 7.966509912475904e-08, -6.885449563516242e-09, -3.3689413301720187e-07, 5.238299128650375e-10, -5.015124932035659e-10, 2.0710684494913193e-08, 8.309496778026117e-09, 2.1912522569169244e-08, 0.0, 8.514809828008411e-09, -3.11186378328969e-10, 1.2068593575248495e-09, 3.434126072774559e-08, 4.61736034683397e-07, 3.0023208696777672e-09, 4.606680388152597e-09, 1.3780948534538606e-06, 1.478025828707789e-08, 1.1420140102278845e-08, 1.255612933323106e-07, 3.628658805493787e-07, -4.187018490554766e-09, 1.0999046190035812e-08, 9.229088077809965e-09, -3.074222462742701e-09, -7.778365894277865e-08, -1.595987232101955e-06, -3.0605975474107145e-06, 8.503464593271649e-08, 1.365292512632837e-07, 1.0049723290004826e-06, 1.5535858788500278e-07, -1.9566687698488653e-07, 2.350601729346634e-07, 2.0414747882936995e-07, -8.814911182170479e-07, 6.878675345595722e-08, 1.1584948316723318e-08, -4.679862397561736e-08, 1.1385885202242047e-08, -2.5006018441384625e-09, -8.491225658732682e-08, 1.2386318316400313e-09, 0.0, 8.4291395814287e-09, 2.1644510932979022e-07, 1.4344592288112203e-07, 3.1604772746457247e-07, -3.065212147832731e-08, 2.9448849910921882e-08, 1.7445759110556195e-09, 4.709549243323522e-08, 3.311861926371068e-08, 7.855392452551231e-08, -3.5316538886368326e-08, 4.120264542954435e-10, 7.018298763952166e-08, 9.530817550865142e-08, 1.7357280134323766e-08, 2.0458566393842563e-07, 2.668636609665245e-08, -9.437924179940541e-08, -1.9284898000934414e-08, -8.766843355479366e-08, 5.039989366938209e-08, -6.437361911966411e-07, 8.060854405379402e-08, 3.6204931822405536e-07, -3.362560141104422e-09, 2.2673611566645454e-07, 8.439777818756497e-08, 2.806520976493686e-08, 7.56075384533911e-08, 1.8913501621357212e-07, -2.350872758323453e-08, 1.262896862100716e-08, 4.0384831750438784e-10, 2.501588692286362e-09]\n",
      "1.0293426775300429e-06\n"
     ]
    }
   ],
   "source": [
    "get_slopes(\"0.1\", 1978)\n"
   ]
  },
  {
   "cell_type": "code",
   "execution_count": null,
   "metadata": {},
   "outputs": [
    {
     "name": "stdout",
     "output_type": "stream",
     "text": [
      "[-1.5585835479913853e-07, 8.00766604627551e-08, 1.8787624903103665e-08, 2.2878605603393256e-08, 5.719720523543566e-07, 5.081782505524536e-10, 2.9060408261154666e-09, 3.559440197855807e-08, 1.1403433909935904e-08, 4.470442650206509e-09, 4.339653238865763e-07, 1.2248659900720465e-08, 3.5291523439754113e-07, 7.966509912475904e-08, -6.885449563516334e-09, -3.3689413301720187e-07, 5.238299128650317e-10, -5.015124932028315e-10, 2.071068449491246e-08, 8.309496778026484e-09, 2.1912522569169333e-08, 0.0, 8.514809828008365e-09, -3.11186378328969e-10, 1.2068593575248036e-09, 3.434126072774632e-08, 4.617360346834029e-07, 3.0023208696777672e-09, 4.606680388152597e-09, 1.3780948534538314e-06, 1.478025828707789e-08, 1.1420140102278478e-08, 1.2556129333231207e-07, 3.6286588054937795e-07, -4.187018490554399e-09, 1.0999046190035812e-08, 9.229088077809965e-09, -3.074222462742701e-09, -7.77836589427669e-08, -1.595987232101955e-06, -3.0605975474107145e-06, 8.503464593271649e-08, 1.365292512632837e-07, 1.0049723290004826e-06, 1.5535858788500132e-07, -1.9566687698491e-07, 2.3506017293465899e-07, 2.0414747882936407e-07, -8.814911182170948e-07, 6.878675345595722e-08, 1.1584948316723318e-08, -4.679862397561736e-08, 1.1385885202242047e-08, -2.500601844138646e-09, -8.491225658731507e-08, 1.2386318316429684e-09, 0.0, 8.429139581427966e-09, 2.1644510932979022e-07, 1.4344592288112203e-07, 3.160477274645842e-07, -3.0652121478321435e-08, 2.9448849910921882e-08, 1.7445759110556425e-09, 4.709549243323522e-08, 3.311861926370921e-08, 7.855392452552406e-08, -3.5316538886371264e-08, 4.120264542954435e-10, 7.018298763952166e-08, 9.530817550864848e-08, 1.7357280134320828e-08, 2.0458566393841975e-07, 2.668636609665245e-08, -9.437924179939367e-08, -1.9284898000934414e-08, -8.766843355479366e-08, 5.039989366938209e-08, -6.437361911966411e-07, 8.060854405379402e-08, 3.6204931822405536e-07, -3.362560141104422e-09, 2.2673611566645454e-07, 8.43977781875679e-08, 2.806520976493686e-08, 7.560753845338817e-08, 1.8913501621357505e-07, -2.350872758323453e-08, 1.262896862100716e-08, 4.03848317504385e-10, 2.5015886922863963e-09]\n",
      "1.029342677530045e-06\n"
     ]
    }
   ],
   "source": [
    "get_slopes(\"0.1\", 1982)"
   ]
  },
  {
   "cell_type": "code",
   "execution_count": null,
   "metadata": {},
   "outputs": [],
   "source": []
  }
 ],
 "metadata": {
  "kernelspec": {
   "display_name": "base",
   "language": "python",
   "name": "python3"
  },
  "language_info": {
   "codemirror_mode": {
    "name": "ipython",
    "version": 3
   },
   "file_extension": ".py",
   "mimetype": "text/x-python",
   "name": "python",
   "nbconvert_exporter": "python",
   "pygments_lexer": "ipython3",
   "version": "3.9.12"
  },
  "orig_nbformat": 4
 },
 "nbformat": 4,
 "nbformat_minor": 2
}
