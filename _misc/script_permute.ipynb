{
 "cells": [
  {
   "cell_type": "markdown",
   "metadata": {},
   "source": [
    "# __For Thilanka's project__\n",
    "\n",
    "Given an array of 2x27:\n",
    "- Generate a vector of 1x27 with randomly generated 0s and 1s,\n",
    "- Swap the values in a columnn if the value is 1, otherwise leave it unchanged,"
   ]
  },
  {
   "cell_type": "code",
   "execution_count": 20,
   "metadata": {},
   "outputs": [
    {
     "name": "stdout",
     "output_type": "stream",
     "text": [
      "Check data shape: (5000, 2, 27)\n"
     ]
    },
    {
     "name": "stderr",
     "output_type": "stream",
     "text": [
      "100%|██████████| 1000/1000 [02:37<00:00,  6.34it/s]\n"
     ]
    }
   ],
   "source": [
    "import numpy as np\n",
    "from tqdm import tqdm\n",
    "\n",
    "# Starting data\n",
    "# N random array of 2x27 with 0s and 1s\n",
    "N    = 5000\n",
    "data = np.random.randint(2, size=(N, 2, 27))\n",
    "print(\"Check data shape:\", data.shape)\n",
    "\n",
    "def permute(data):\n",
    "  # Go through each 2x27 and store counts in a list\n",
    "  count_list = []\n",
    "  for i in range(data.shape[0]):\n",
    "    # Generate a vector of 27 elements of 0s and 1s\n",
    "    rnd_vec = np.random.randint(2, size=(27))\n",
    "\n",
    "    # Go through each 2x27, swap column values based on rnd_vec\n",
    "    for idx, swap in enumerate(rnd_vec):\n",
    "      if swap:\n",
    "        data[i][:, idx] = data[i][:, idx][::-1]\n",
    "        \n",
    "    # Get counts\n",
    "    count_list.append([np.sum(data[i][0]), np.sum(data[i][1])])\n",
    "\n",
    "  return count_list\n",
    "\n",
    "# Number of runs\n",
    "NR = 1000\n",
    "count_list_all = []\n",
    "for i in tqdm(range(NR)):\n",
    "  count_list_all.append(permute(data))"
   ]
  },
  {
   "cell_type": "code",
   "execution_count": null,
   "metadata": {},
   "outputs": [],
   "source": []
  }
 ],
 "metadata": {
  "kernelspec": {
   "display_name": "umap",
   "language": "python",
   "name": "python3"
  },
  "language_info": {
   "codemirror_mode": {
    "name": "ipython",
    "version": 3
   },
   "file_extension": ".py",
   "mimetype": "text/x-python",
   "name": "python",
   "nbconvert_exporter": "python",
   "pygments_lexer": "ipython3",
   "version": "3.12.1"
  }
 },
 "nbformat": 4,
 "nbformat_minor": 2
}
